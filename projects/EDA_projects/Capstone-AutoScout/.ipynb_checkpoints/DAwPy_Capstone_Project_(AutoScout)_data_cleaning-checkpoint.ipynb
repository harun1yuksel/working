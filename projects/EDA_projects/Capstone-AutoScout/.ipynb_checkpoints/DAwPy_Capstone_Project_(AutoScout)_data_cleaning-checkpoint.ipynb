{
 "cells": [
  {
   "cell_type": "markdown",
   "metadata": {
    "id": "Bv1I7_aas1L3"
   },
   "source": [
    "___\n",
    "\n",
    "<p style=\"text-align: center;\"><img src=\"https://docs.google.com/uc?id=1lY0Uj5R04yMY3-ZppPWxqCr5pvBLYPnV\" class=\"img-fluid\" \n",
    "alt=\"CLRSWY\"></p>\n",
    "\n",
    "## <p style=\"background-color:#FDFEFE; font-family:newtimeroman; color:#9d4f8c; font-size:100%; text-align:center; border-radius:10px 10px;\">WAY TO REINVENT YOURSELF</p>"
   ]
  },
  {
   "cell_type": "markdown",
   "metadata": {
    "id": "Bkw3_pB0s1L-"
   },
   "source": [
    "<img src=https://i.ibb.co/wJW61Y2/Used-cars.jpg width=\"700\" height=\"200\">\n",
    "\n",
    "## <p style=\"background-color:#FDFEFE; font-family:newtimeroman; color:#060108; font-size:200%; text-align:center; border-radius:10px 10px;\">The Capstone Project of Data Analytics Module</p>\n",
    "\n",
    "## <p style=\"background-color:#FDFEFE; font-family:newtimeroman; color:#060108; font-size:150%; text-align:center; border-radius:10px 10px;\">Car Price Prediction EDA</p>"
   ]
  },
  {
   "cell_type": "markdown",
   "metadata": {
    "id": "BtStUOQNs1L_"
   },
   "source": [
    "# WELCOME!"
   ]
  },
  {
   "cell_type": "markdown",
   "metadata": {
    "id": "Z_oWczxZs1MA"
   },
   "source": [
    "## Introduction\n",
    "Welcome to \"***AutoScout Data Analysis Project***\". This is the capstone project of ***Data Analysis*** Module. **Auto Scout** data which using for this project, scraped from the on-line car trading company in 2019, contains many features of 9 different car models. In this project, you will have the opportunity to apply many commonly used algorithms for Data Cleaning and Exploratory Data Analysis by using many Python libraries such as Numpy, Pandas, Matplotlib, Seaborn, Scipy you will analyze clean dataset.\n",
    "\n",
    "The project consists of 3 parts:\n",
    "* First part is related with 'data cleaning'. It deals with Incorrect Headers, Incorrect Format, Anomalies, Dropping useless columns.\n",
    "* Second part is related with 'filling data'. It deals with Missing Values. Categorical to numeric transformation is done.\n",
    "* Third part is related with 'handling outliers of data' via Visualisation libraries. Some insights are extracted.\n"
   ]
  },
  {
   "cell_type": "code",
   "execution_count": 114,
   "metadata": {},
   "outputs": [],
   "source": [
    "import numpy as np\n",
    "import pandas as pd\n",
    "\n",
    "import seaborn as sns\n",
    "import matplotlib.pyplot as plt\n",
    "\n",
    "from pandas.plotting import register_matplotlib_converters\n",
    "from pylab import rcParams\n",
    "sns.set_style(\"darkgrid\")\n",
    "\n",
    "# import lux\n",
    "\n",
    "import warnings\n",
    "warnings.filterwarnings(\"ignore\")\n",
    "\n",
    "# Set it None to display all rows in the dataframe\n",
    "pd.set_option('display.max_rows', 200)\n",
    "\n",
    "# Set it to None to display all columns in the dataframe\n",
    "# pd.set_option('display.max_columns', None)\n",
    "\n",
    "from requests import request\n",
    "import json\n",
    "from pandas.io.json import json_normalize\n",
    "\n",
    "from pandas import json_normalize"
   ]
  },
  {
   "cell_type": "code",
   "execution_count": 115,
   "metadata": {},
   "outputs": [],
   "source": [
    "pd.set_option('display.max_columns', 500)\n",
    "pd.set_option('display.max_colwidth', 500)\n",
    "pd.set_option('display.max_info_columns', 500)\n",
    "pd.set_option('display.max_info_rows', 2000)\n",
    "pd.set_option('display.expand_frame_repr', True)\n",
    "pd.set_option('display.width', 2000)"
   ]
  },
  {
   "cell_type": "markdown",
   "metadata": {
    "id": "vvgJ5KWTs1MB"
   },
   "source": [
    "# PART- 1 `( Data Cleaning )`"
   ]
  },
  {
   "cell_type": "code",
   "execution_count": 116,
   "metadata": {},
   "outputs": [
    {
     "name": "stdout",
     "output_type": "stream",
     "text": [
      "<class 'pandas.core.frame.DataFrame'>\n",
      "RangeIndex: 15919 entries, 0 to 15918\n",
      "Data columns (total 54 columns):\n",
      " #   Column                         Dtype  \n",
      "---  ------                         -----  \n",
      " 0   url                            object \n",
      " 1   make_model                     object \n",
      " 2   short_description              object \n",
      " 3   body_type                      object \n",
      " 4   price                          int64  \n",
      " 5   vat                            object \n",
      " 6   km                             object \n",
      " 7   registration                   object \n",
      " 8   prev_owner                     object \n",
      " 9   kW                             float64\n",
      " 10  hp                             object \n",
      " 11  Type                           object \n",
      " 12  Previous Owners                object \n",
      " 13  Next Inspection                object \n",
      " 14  Inspection new                 object \n",
      " 15  Warranty                       object \n",
      " 16  Full Service                   object \n",
      " 17  Non-smoking Vehicle            object \n",
      " 18  null                           object \n",
      " 19  Make                           object \n",
      " 20  Model                          object \n",
      " 21  Offer Number                   object \n",
      " 22  First Registration             object \n",
      " 23  Body Color                     object \n",
      " 24  Paint Type                     object \n",
      " 25  Body Color Original            object \n",
      " 26  Upholstery                     object \n",
      " 27  Body                           object \n",
      " 28  Nr. of Doors                   object \n",
      " 29  Nr. of Seats                   object \n",
      " 30  Model Code                     object \n",
      " 31  Gearing Type                   object \n",
      " 32  Displacement                   object \n",
      " 33  Cylinders                      object \n",
      " 34  Weight                         object \n",
      " 35  Drive chain                    object \n",
      " 36  Fuel                           object \n",
      " 37  Consumption                    object \n",
      " 38  CO2 Emission                   object \n",
      " 39  Emission Class                 object \n",
      " 40  \n",
      "Comfort & Convenience\n",
      "        object \n",
      " 41  \n",
      "Entertainment & Media\n",
      "        object \n",
      " 42  \n",
      "Extras\n",
      "                       object \n",
      " 43  \n",
      "Safety & Security\n",
      "            object \n",
      " 44  description                    object \n",
      " 45  Emission Label                 object \n",
      " 46  Gears                          object \n",
      " 47  Country version                object \n",
      " 48  Electricity consumption        object \n",
      " 49  Last Service Date              object \n",
      " 50  Other Fuel Types               object \n",
      " 51  Availability                   object \n",
      " 52  Last Timing Belt Service Date  object \n",
      " 53  Available from                 object \n",
      "dtypes: float64(1), int64(1), object(52)\n",
      "memory usage: 6.6+ MB\n"
     ]
    }
   ],
   "source": [
    "df = pd.read_json(\"scout_car.json\", lines= True, orient= \"columns\")\n",
    "df.info()"
   ]
  },
  {
   "cell_type": "code",
   "execution_count": 117,
   "metadata": {},
   "outputs": [],
   "source": [
    "dfo = df.copy()"
   ]
  },
  {
   "cell_type": "code",
   "execution_count": 118,
   "metadata": {},
   "outputs": [
    {
     "data": {
      "text/plain": [
       "url                                  0\n",
       "make_model                           0\n",
       "short_description                   46\n",
       "body_type                           60\n",
       "price                                0\n",
       "vat                               4513\n",
       "km                                   0\n",
       "registration                         0\n",
       "prev_owner                        6828\n",
       "kW                               15919\n",
       "hp                                   0\n",
       "Type                                 2\n",
       "Previous Owners                   6640\n",
       "Next Inspection                  12384\n",
       "Inspection new                   11987\n",
       "Warranty                          5420\n",
       "Full Service                      7704\n",
       "Non-smoking Vehicle               8742\n",
       "null                                 0\n",
       "Make                                 0\n",
       "Model                                0\n",
       "Offer Number                      3175\n",
       "First Registration                1597\n",
       "Body Color                         597\n",
       "Paint Type                        5772\n",
       "Body Color Original               3759\n",
       "Upholstery                        3720\n",
       "Body                                60\n",
       "Nr. of Doors                       212\n",
       "Nr. of Seats                       977\n",
       "Model Code                       10941\n",
       "Gearing Type                         0\n",
       "Displacement                       496\n",
       "Cylinders                         5680\n",
       "Weight                            6974\n",
       "Drive chain                       6858\n",
       "Fuel                                 0\n",
       "Consumption                       1906\n",
       "CO2 Emission                      1808\n",
       "Emission Class                    3021\n",
       "\\nComfort & Convenience\\n          920\n",
       "\\nEntertainment & Media\\n         1374\n",
       "\\nExtras\\n                        2962\n",
       "\\nSafety & Security\\n              982\n",
       "description                          0\n",
       "Emission Label                   11934\n",
       "Gears                             4712\n",
       "Country version                   8333\n",
       "Electricity consumption          15782\n",
       "Last Service Date                15353\n",
       "Other Fuel Types                 15039\n",
       "Availability                     15284\n",
       "Last Timing Belt Service Date    15903\n",
       "Available from                   15647\n",
       "dtype: int64"
      ]
     },
     "execution_count": 118,
     "metadata": {},
     "output_type": "execute_result"
    }
   ],
   "source": [
    "df.isnull().sum()"
   ]
  },
  {
   "cell_type": "code",
   "execution_count": 119,
   "metadata": {
    "scrolled": true
   },
   "outputs": [
    {
     "data": {
      "text/plain": [
       "url                                0.000000\n",
       "make_model                         0.000000\n",
       "price                              0.000000\n",
       "description                        0.000000\n",
       "km                                 0.000000\n",
       "registration                       0.000000\n",
       "Gearing Type                       0.000000\n",
       "Model                              0.000000\n",
       "hp                                 0.000000\n",
       "Make                               0.000000\n",
       "null                               0.000000\n",
       "Fuel                               0.000000\n",
       "Type                               0.012564\n",
       "short_description                  0.288963\n",
       "body_type                          0.376908\n",
       "Body                               0.376908\n",
       "Nr. of Doors                       1.331742\n",
       "Displacement                       3.115774\n",
       "Body Color                         3.750236\n",
       "\\nComfort & Convenience\\n          5.779257\n",
       "Nr. of Seats                       6.137320\n",
       "\\nSafety & Security\\n              6.168729\n",
       "\\nEntertainment & Media\\n          8.631195\n",
       "First Registration                10.032037\n",
       "CO2 Emission                      11.357497\n",
       "Consumption                       11.973114\n",
       "\\nExtras\\n                        18.606696\n",
       "Emission Class                    18.977323\n",
       "Offer Number                      19.944720\n",
       "Upholstery                        23.368302\n",
       "Body Color Original               23.613292\n",
       "vat                               28.349771\n",
       "Gears                             29.599849\n",
       "Warranty                          34.047365\n",
       "Cylinders                         35.680633\n",
       "Paint Type                        36.258559\n",
       "Previous Owners                   41.711163\n",
       "prev_owner                        42.892141\n",
       "Drive chain                       43.080596\n",
       "Weight                            43.809285\n",
       "Full Service                      48.395000\n",
       "Country version                   52.346253\n",
       "Non-smoking Vehicle               54.915510\n",
       "Model Code                        68.729192\n",
       "Emission Label                    74.967021\n",
       "Inspection new                    75.299956\n",
       "Next Inspection                   77.793831\n",
       "Other Fuel Types                  94.472015\n",
       "Availability                      96.011056\n",
       "Last Service Date                 96.444500\n",
       "Available from                    98.291350\n",
       "Electricity consumption           99.139393\n",
       "Last Timing Belt Service Date     99.899491\n",
       "kW                               100.000000\n",
       "dtype: float64"
      ]
     },
     "execution_count": 119,
     "metadata": {},
     "output_type": "execute_result"
    }
   ],
   "source": [
    "## percentage of null values\n",
    "(df.isnull().sum() / df.shape[0] * 100).sort_values()"
   ]
  },
  {
   "cell_type": "code",
   "execution_count": 120,
   "metadata": {},
   "outputs": [],
   "source": [
    "# columns that have more then 90 percent null will be dropped.\n",
    "drop_lst = ['Other Fuel Types', 'Availability', 'Last Service Date', 'Available from', 'Electricity consumption', 'Last Timing Belt Service Date', 'kW']"
   ]
  },
  {
   "cell_type": "code",
   "execution_count": 121,
   "metadata": {},
   "outputs": [],
   "source": [
    "df.drop(columns=drop_lst, axis=1, inplace=True)"
   ]
  },
  {
   "cell_type": "markdown",
   "metadata": {},
   "source": [
    "# checking the columns that have less null than 50%"
   ]
  },
  {
   "cell_type": "code",
   "execution_count": 122,
   "metadata": {},
   "outputs": [
    {
     "data": {
      "text/html": [
       "<div>\n",
       "<style scoped>\n",
       "    .dataframe tbody tr th:only-of-type {\n",
       "        vertical-align: middle;\n",
       "    }\n",
       "\n",
       "    .dataframe tbody tr th {\n",
       "        vertical-align: top;\n",
       "    }\n",
       "\n",
       "    .dataframe thead th {\n",
       "        text-align: right;\n",
       "    }\n",
       "</style>\n",
       "<table border=\"1\" class=\"dataframe\">\n",
       "  <thead>\n",
       "    <tr style=\"text-align: right;\">\n",
       "      <th></th>\n",
       "      <th>url</th>\n",
       "      <th>make_model</th>\n",
       "      <th>short_description</th>\n",
       "      <th>body_type</th>\n",
       "      <th>price</th>\n",
       "      <th>vat</th>\n",
       "      <th>km</th>\n",
       "      <th>registration</th>\n",
       "      <th>prev_owner</th>\n",
       "      <th>hp</th>\n",
       "      <th>Type</th>\n",
       "      <th>Previous Owners</th>\n",
       "      <th>Next Inspection</th>\n",
       "      <th>Inspection new</th>\n",
       "      <th>Warranty</th>\n",
       "      <th>Full Service</th>\n",
       "      <th>Non-smoking Vehicle</th>\n",
       "      <th>null</th>\n",
       "      <th>Make</th>\n",
       "      <th>Model</th>\n",
       "      <th>Offer Number</th>\n",
       "      <th>First Registration</th>\n",
       "      <th>Body Color</th>\n",
       "      <th>Paint Type</th>\n",
       "      <th>Body Color Original</th>\n",
       "      <th>Upholstery</th>\n",
       "      <th>Body</th>\n",
       "      <th>Nr. of Doors</th>\n",
       "      <th>Nr. of Seats</th>\n",
       "      <th>Model Code</th>\n",
       "      <th>Gearing Type</th>\n",
       "      <th>Displacement</th>\n",
       "      <th>Cylinders</th>\n",
       "      <th>Weight</th>\n",
       "      <th>Drive chain</th>\n",
       "      <th>Fuel</th>\n",
       "      <th>Consumption</th>\n",
       "      <th>CO2 Emission</th>\n",
       "      <th>Emission Class</th>\n",
       "      <th>\\nComfort &amp; Convenience\\n</th>\n",
       "      <th>\\nEntertainment &amp; Media\\n</th>\n",
       "      <th>\\nExtras\\n</th>\n",
       "      <th>\\nSafety &amp; Security\\n</th>\n",
       "      <th>description</th>\n",
       "      <th>Emission Label</th>\n",
       "      <th>Gears</th>\n",
       "      <th>Country version</th>\n",
       "    </tr>\n",
       "  </thead>\n",
       "  <tbody>\n",
       "    <tr>\n",
       "      <th>0</th>\n",
       "      <td>https://www.autoscout24.com//offers/audi-a1-sportback-1-4-tdi-s-tronic-xenon-navi-klima-diesel-black-bdab349a-caa5-41b0-98eb-c1345b84445e</td>\n",
       "      <td>Audi A1</td>\n",
       "      <td>Sportback 1.4 TDI S-tronic Xenon Navi Klima</td>\n",
       "      <td>Sedans</td>\n",
       "      <td>15770</td>\n",
       "      <td>VAT deductible</td>\n",
       "      <td>56,013 km</td>\n",
       "      <td>01/2016</td>\n",
       "      <td>2 previous owners</td>\n",
       "      <td>66 kW</td>\n",
       "      <td>[, Used, , Diesel (Particulate Filter)]</td>\n",
       "      <td>\\n2\\n</td>\n",
       "      <td>[\\n06/2021\\n, \\n99 g CO2/km (comb)\\n]</td>\n",
       "      <td>[\\nYes\\n, \\nEuro 6\\n]</td>\n",
       "      <td>[\\n, \\n, \\n4 (Green)\\n]</td>\n",
       "      <td>[\\n, \\n]</td>\n",
       "      <td>[\\n, \\n]</td>\n",
       "      <td>[]</td>\n",
       "      <td>\\nAudi\\n</td>\n",
       "      <td>[\\n, A1, \\n]</td>\n",
       "      <td>[\\nLR-062483\\n]</td>\n",
       "      <td>[\\n, 2016, \\n]</td>\n",
       "      <td>[\\n, Black, \\n]</td>\n",
       "      <td>[\\nMetallic\\n]</td>\n",
       "      <td>[\\nMythosschwarz\\n]</td>\n",
       "      <td>[\\nCloth, Black\\n]</td>\n",
       "      <td>[\\n, Sedans, \\n]</td>\n",
       "      <td>[\\n5\\n]</td>\n",
       "      <td>[\\n5\\n]</td>\n",
       "      <td>[\\n0588/BDF\\n]</td>\n",
       "      <td>[\\n, Automatic, \\n]</td>\n",
       "      <td>[\\n1,422 cc\\n]</td>\n",
       "      <td>[\\n3\\n]</td>\n",
       "      <td>[\\n1,220 kg\\n]</td>\n",
       "      <td>[\\nfront\\n]</td>\n",
       "      <td>[\\n, Diesel (Particulate Filter), \\n]</td>\n",
       "      <td>[[3.8 l/100 km (comb)], [4.3 l/100 km (city)], [3.5 l/100 km (country)]]</td>\n",
       "      <td>[\\n99 g CO2/km (comb)\\n]</td>\n",
       "      <td>[\\nEuro 6\\n]</td>\n",
       "      <td>[Air conditioning, Armrest, Automatic climate control, Cruise control, Electrical side mirrors, Hill Holder, Leather steering wheel, Light sensor, Multi-function steering wheel, Navigation system, Park Distance Control, Parking assist system sensors rear, Power windows, Rain sensor, Seat heating, Start-stop system]</td>\n",
       "      <td>[Bluetooth, Hands-free equipment, On-board computer, Radio]</td>\n",
       "      <td>[Alloy wheels, Catalytic Converter, Voice Control]</td>\n",
       "      <td>[ABS, Central door lock, Daytime running lights, Driver-side airbag, Electronic stability control, Fog lights, Immobilizer, Isofix, Passenger-side airbag, Power steering, Side airbag, Tire pressure monitoring system, Traction control, Xenon headlights]</td>\n",
       "      <td>[\\n, Sicherheit:,  , Deaktivierung für Beifahrer-Airbag,  , ESC mit elektronischer Quersperre,  , Tagfahrlicht,  , Reifendruck-Kontrollanzeige,  , Kopfairbag-System mit Seiten-Airbags vorn,  , Sicherheitslenksäule, Assistenzsysteme:,  , Berganfahrassistent, Komfort:,  , Scheinwerferreinigung,  , Xenon plus inklusive Scheinwerfer-Reinigungsanlage,  , Scheinwerfer-Reinigungsanlage,  , Einparkhilfe hinten,  , Licht-/Regensensor,  , Funkfernbedienung,  , Elektrische Luftzusatzheizung, Interieur:...</td>\n",
       "      <td>NaN</td>\n",
       "      <td>NaN</td>\n",
       "      <td>NaN</td>\n",
       "    </tr>\n",
       "  </tbody>\n",
       "</table>\n",
       "</div>"
      ],
      "text/plain": [
       "                                                                                                                                         url make_model                            short_description body_type  price             vat         km registration         prev_owner     hp                                     Type Previous Owners                        Next Inspection         Inspection new                 Warranty Full Service Non-smoking Vehicle null      Make         Model     Offer Number First Registration       Body Color      Paint Type  Body Color Original          Upholstery              Body Nr. of Doors Nr. of Seats      Model Code         Gearing Type    Displacement Cylinders          Weight  Drive chain                                   Fuel                                                               Consumption              CO2 Emission Emission Class                                                                                                                                                                                                                                                                                                     \\nComfort & Convenience\\n                                    \\nEntertainment & Media\\n                                          \\nExtras\\n                                                                                                                                                                                                                                         \\nSafety & Security\\n  \\\n",
       "0  https://www.autoscout24.com//offers/audi-a1-sportback-1-4-tdi-s-tronic-xenon-navi-klima-diesel-black-bdab349a-caa5-41b0-98eb-c1345b84445e    Audi A1  Sportback 1.4 TDI S-tronic Xenon Navi Klima    Sedans  15770  VAT deductible  56,013 km      01/2016  2 previous owners  66 kW  [, Used, , Diesel (Particulate Filter)]           \\n2\\n  [\\n06/2021\\n, \\n99 g CO2/km (comb)\\n]  [\\nYes\\n, \\nEuro 6\\n]  [\\n, \\n, \\n4 (Green)\\n]     [\\n, \\n]            [\\n, \\n]   []  \\nAudi\\n  [\\n, A1, \\n]  [\\nLR-062483\\n]     [\\n, 2016, \\n]  [\\n, Black, \\n]  [\\nMetallic\\n]  [\\nMythosschwarz\\n]  [\\nCloth, Black\\n]  [\\n, Sedans, \\n]      [\\n5\\n]      [\\n5\\n]  [\\n0588/BDF\\n]  [\\n, Automatic, \\n]  [\\n1,422 cc\\n]   [\\n3\\n]  [\\n1,220 kg\\n]  [\\nfront\\n]  [\\n, Diesel (Particulate Filter), \\n]  [[3.8 l/100 km (comb)], [4.3 l/100 km (city)], [3.5 l/100 km (country)]]  [\\n99 g CO2/km (comb)\\n]   [\\nEuro 6\\n]  [Air conditioning, Armrest, Automatic climate control, Cruise control, Electrical side mirrors, Hill Holder, Leather steering wheel, Light sensor, Multi-function steering wheel, Navigation system, Park Distance Control, Parking assist system sensors rear, Power windows, Rain sensor, Seat heating, Start-stop system]  [Bluetooth, Hands-free equipment, On-board computer, Radio]  [Alloy wheels, Catalytic Converter, Voice Control]  [ABS, Central door lock, Daytime running lights, Driver-side airbag, Electronic stability control, Fog lights, Immobilizer, Isofix, Passenger-side airbag, Power steering, Side airbag, Tire pressure monitoring system, Traction control, Xenon headlights]   \n",
       "\n",
       "                                                                                                                                                                                                                                                                                                                                                                                                                                                                                                           description Emission Label Gears Country version  \n",
       "0  [\\n, Sicherheit:,  , Deaktivierung für Beifahrer-Airbag,  , ESC mit elektronischer Quersperre,  , Tagfahrlicht,  , Reifendruck-Kontrollanzeige,  , Kopfairbag-System mit Seiten-Airbags vorn,  , Sicherheitslenksäule, Assistenzsysteme:,  , Berganfahrassistent, Komfort:,  , Scheinwerferreinigung,  , Xenon plus inklusive Scheinwerfer-Reinigungsanlage,  , Scheinwerfer-Reinigungsanlage,  , Einparkhilfe hinten,  , Licht-/Regensensor,  , Funkfernbedienung,  , Elektrische Luftzusatzheizung, Interieur:...            NaN   NaN             NaN  "
      ]
     },
     "execution_count": 122,
     "metadata": {},
     "output_type": "execute_result"
    }
   ],
   "source": [
    "df.head(1)"
   ]
  },
  {
   "cell_type": "markdown",
   "metadata": {},
   "source": [
    "## url"
   ]
  },
  {
   "cell_type": "code",
   "execution_count": 123,
   "metadata": {},
   "outputs": [
    {
     "data": {
      "text/plain": [
       "https://www.autoscout24.com//offers/audi-a1-sportback-1-4-tdi-s-tronic-xenon-navi-klima-diesel-black-bdab349a-caa5-41b0-98eb-c1345b84445e                  1\n",
       "https://www.autoscout24.com//offers/opel-insignia-bus-inno-2-0-cdti-aut-navi-bi-xe-led-e6-diesel-black-8710b253-dd98-4ed0-9d46-cbad2d79532b                1\n",
       "https://www.autoscout24.com//offers/opel-insignia-sport-tourer-opel-sport-tourer-1-6-cdti-136-ch-a-c-diesel-silver-10b7463b-9f56-4348-af35-df3432b2b585    1\n",
       "https://www.autoscout24.com//offers/opel-insignia-2-0cdti-st-business-innovation-navi-bt-diesel-black-ba5a3368-dedc-4e51-9127-3976b26e93c2                 1\n",
       "https://www.autoscout24.com//offers/opel-insignia-sport-tourer-opel-sport-tourer-1-6-cdti-136-ch-a-c-diesel-silver-7b52f054-78d3-4d5e-9370-8a7d081d7edd    1\n",
       "                                                                                                                                                          ..\n",
       "https://www.autoscout24.com//offers/audi-a3-sb-30-1-6-tdi-business-116cv-s-tronic-diesel-black-cf50f7b1-4d7b-466f-93a2-4e11ec0b4107                        1\n",
       "https://www.autoscout24.com//offers/audi-a3-sb-30-1-6-tdi-business-116cv-s-tronic-diesel-grey-3f47eb34-15c4-4763-860d-78fcbbd2c9ff                         1\n",
       "https://www.autoscout24.com//offers/audi-a3-sb-30-1-6-tdi-business-116cv-s-tronic-diesel-silver-f7a4bc95-b2ef-4bac-9497-6bcbcd05db0b                       1\n",
       "https://www.autoscout24.com//offers/audi-a3-sb-30-1-6-tdi-business-116cv-s-tronic-diesel-silver-1c94c7a2-67b5-49ca-ae42-42a6800fb3f5                       1\n",
       "https://www.autoscout24.com//offers/renault-espace-initiale-paris-tce-225-edc-gpf-navi-shz-aux-gasoline-grey-0bd690d9-7e93-4cab-bc5a-9d5b63402481          1\n",
       "Name: url, Length: 15919, dtype: int64"
      ]
     },
     "execution_count": 123,
     "metadata": {},
     "output_type": "execute_result"
    }
   ],
   "source": [
    "df.url.value_counts(dropna=False)"
   ]
  },
  {
   "cell_type": "code",
   "execution_count": 124,
   "metadata": {},
   "outputs": [],
   "source": [
    "df.drop(columns=\"url\", inplace=True)"
   ]
  },
  {
   "cell_type": "code",
   "execution_count": 125,
   "metadata": {
    "scrolled": true
   },
   "outputs": [
    {
     "data": {
      "text/plain": [
       "Index(['make_model', 'short_description', 'body_type', 'price', 'vat', 'km', 'registration', 'prev_owner', 'hp', 'Type', 'Previous Owners', 'Next Inspection', 'Inspection new', 'Warranty', 'Full Service', 'Non-smoking Vehicle', 'null', 'Make', 'Model', 'Offer Number', 'First Registration', 'Body Color', 'Paint Type', 'Body Color Original', 'Upholstery', 'Body', 'Nr. of Doors', 'Nr. of Seats', 'Model Code', 'Gearing Type', 'Displacement', 'Cylinders', 'Weight', 'Drive chain', 'Fuel', 'Consumption', 'CO2 Emission', 'Emission Class', '\\nComfort & Convenience\\n', '\\nEntertainment & Media\\n', '\\nExtras\\n', '\\nSafety & Security\\n', 'description', 'Emission Label', 'Gears', 'Country version'], dtype='object')"
      ]
     },
     "execution_count": 125,
     "metadata": {},
     "output_type": "execute_result"
    }
   ],
   "source": [
    "df.columns"
   ]
  },
  {
   "cell_type": "markdown",
   "metadata": {},
   "source": [
    "## make_model & Make & Model"
   ]
  },
  {
   "cell_type": "code",
   "execution_count": 126,
   "metadata": {},
   "outputs": [
    {
     "data": {
      "text/plain": [
       "Audi A3           3097\n",
       "Audi A1           2614\n",
       "Opel Insignia     2598\n",
       "Opel Astra        2526\n",
       "Opel Corsa        2219\n",
       "Renault Clio      1839\n",
       "Renault Espace     991\n",
       "Renault Duster      34\n",
       "Audi A2              1\n",
       "Name: make_model, dtype: int64"
      ]
     },
     "execution_count": 126,
     "metadata": {},
     "output_type": "execute_result"
    }
   ],
   "source": [
    "df.make_model.value_counts(dropna=False)"
   ]
  },
  {
   "cell_type": "code",
   "execution_count": 127,
   "metadata": {},
   "outputs": [
    {
     "data": {
      "text/plain": [
       "\\nOpel\\n       7343\n",
       "\\nAudi\\n       5712\n",
       "\\nRenault\\n    2864\n",
       "Name: Make, dtype: int64"
      ]
     },
     "execution_count": 127,
     "metadata": {},
     "output_type": "execute_result"
    }
   ],
   "source": [
    "df.Make.value_counts(dropna=False)"
   ]
  },
  {
   "cell_type": "code",
   "execution_count": 128,
   "metadata": {},
   "outputs": [
    {
     "data": {
      "text/plain": [
       "Opel       7343\n",
       "Audi       5712\n",
       "Renault    2864\n",
       "Name: Make, dtype: int64"
      ]
     },
     "execution_count": 128,
     "metadata": {},
     "output_type": "execute_result"
    }
   ],
   "source": [
    "df.Make.str.strip().value_counts(dropna=False)"
   ]
  },
  {
   "cell_type": "code",
   "execution_count": 129,
   "metadata": {},
   "outputs": [],
   "source": [
    "df[\"make\"] = df[\"Make\"].str.strip()"
   ]
  },
  {
   "cell_type": "code",
   "execution_count": 130,
   "metadata": {},
   "outputs": [],
   "source": [
    "df.drop(columns=\"Make\", inplace=True)"
   ]
  },
  {
   "cell_type": "code",
   "execution_count": 131,
   "metadata": {},
   "outputs": [
    {
     "ename": "TypeError",
     "evalue": "unhashable type: 'list'",
     "output_type": "error",
     "traceback": [
      "\u001b[0;31m---------------------------------------------------------------------------\u001b[0m",
      "\u001b[0;31mTypeError\u001b[0m                                 Traceback (most recent call last)",
      "\u001b[0;32mpandas/_libs/hashtable_class_helper.pxi\u001b[0m in \u001b[0;36mpandas._libs.hashtable.PyObjectHashTable.map_locations\u001b[0;34m()\u001b[0m\n",
      "\u001b[0;31mTypeError\u001b[0m: unhashable type: 'list'"
     ]
    },
    {
     "name": "stderr",
     "output_type": "stream",
     "text": [
      "Exception ignored in: 'pandas._libs.index.IndexEngine._call_map_locations'\n",
      "Traceback (most recent call last):\n",
      "  File \"pandas/_libs/hashtable_class_helper.pxi\", line 5231, in pandas._libs.hashtable.PyObjectHashTable.map_locations\n",
      "TypeError: unhashable type: 'list'\n"
     ]
    },
    {
     "data": {
      "text/plain": [
       "[\\n, A3, \\n]          3097\n",
       "[\\n, A1, \\n]          2614\n",
       "[\\n, Insignia, \\n]    2598\n",
       "[\\n, Astra, \\n]       2526\n",
       "[\\n, Corsa, \\n]       2219\n",
       "[\\n, Clio, \\n]        1839\n",
       "[\\n, Espace, \\n]       991\n",
       "[\\n, Duster, \\n]        34\n",
       "[\\n, A2, \\n]             1\n",
       "Name: Model, dtype: int64"
      ]
     },
     "execution_count": 131,
     "metadata": {},
     "output_type": "execute_result"
    }
   ],
   "source": [
    "df.Model.value_counts(dropna=False)"
   ]
  },
  {
   "cell_type": "code",
   "execution_count": 132,
   "metadata": {},
   "outputs": [
    {
     "data": {
      "text/plain": [
       "A3          3097\n",
       "A1          2614\n",
       "Insignia    2598\n",
       "Astra       2526\n",
       "Corsa       2219\n",
       "Clio        1839\n",
       "Espace       991\n",
       "Duster        34\n",
       "A2             1\n",
       "Name: Model, dtype: int64"
      ]
     },
     "execution_count": 132,
     "metadata": {},
     "output_type": "execute_result"
    }
   ],
   "source": [
    "df.Model.str[1].value_counts(dropna=False)"
   ]
  },
  {
   "cell_type": "code",
   "execution_count": 133,
   "metadata": {},
   "outputs": [],
   "source": [
    "df.model = df.Model.str[1]"
   ]
  },
  {
   "cell_type": "code",
   "execution_count": 134,
   "metadata": {},
   "outputs": [],
   "source": [
    "df.drop(columns=\"Model\", inplace=True)"
   ]
  },
  {
   "cell_type": "markdown",
   "metadata": {},
   "source": [
    "## body_type"
   ]
  },
  {
   "cell_type": "code",
   "execution_count": 135,
   "metadata": {},
   "outputs": [
    {
     "data": {
      "text/plain": [
       "Sedans           7903\n",
       "Station wagon    3553\n",
       "Compact          3153\n",
       "Van               783\n",
       "Other             290\n",
       "Transporter        88\n",
       "NaN                60\n",
       "Off-Road           56\n",
       "Coupe              25\n",
       "Convertible         8\n",
       "Name: body_type, dtype: int64"
      ]
     },
     "execution_count": 135,
     "metadata": {},
     "output_type": "execute_result"
    }
   ],
   "source": [
    "df.body_type.value_counts(dropna=False)"
   ]
  },
  {
   "cell_type": "markdown",
   "metadata": {},
   "source": [
    "## price"
   ]
  },
  {
   "cell_type": "code",
   "execution_count": 136,
   "metadata": {},
   "outputs": [
    {
     "data": {
      "text/plain": [
       "14990    154\n",
       "15990    151\n",
       "10990    139\n",
       "15900    106\n",
       "17990    102\n",
       "        ... \n",
       "17559      1\n",
       "17560      1\n",
       "17570      1\n",
       "17575      1\n",
       "39875      1\n",
       "Name: price, Length: 2956, dtype: int64"
      ]
     },
     "execution_count": 136,
     "metadata": {},
     "output_type": "execute_result"
    }
   ],
   "source": [
    "df.price.value_counts(dropna=False)"
   ]
  },
  {
   "cell_type": "markdown",
   "metadata": {},
   "source": [
    "## vat"
   ]
  },
  {
   "cell_type": "code",
   "execution_count": 137,
   "metadata": {},
   "outputs": [
    {
     "data": {
      "text/plain": [
       "VAT deductible      10980\n",
       "NaN                  4513\n",
       "Price negotiable      426\n",
       "Name: vat, dtype: int64"
      ]
     },
     "execution_count": 137,
     "metadata": {},
     "output_type": "execute_result"
    }
   ],
   "source": [
    "df.vat.value_counts(dropna=False)"
   ]
  },
  {
   "cell_type": "markdown",
   "metadata": {},
   "source": [
    "## km"
   ]
  },
  {
   "cell_type": "code",
   "execution_count": 138,
   "metadata": {},
   "outputs": [
    {
     "data": {
      "text/plain": [
       "10 km        1045\n",
       "- km         1024\n",
       "1 km          367\n",
       "5 km          170\n",
       "50 km         148\n",
       "             ... \n",
       "67,469 km       1\n",
       "43,197 km       1\n",
       "10,027 km       1\n",
       "35,882 km       1\n",
       "57 km           1\n",
       "Name: km, Length: 6690, dtype: int64"
      ]
     },
     "execution_count": 138,
     "metadata": {},
     "output_type": "execute_result"
    }
   ],
   "source": [
    "df.km.value_counts(dropna=False)"
   ]
  },
  {
   "cell_type": "code",
   "execution_count": 139,
   "metadata": {},
   "outputs": [
    {
     "data": {
      "text/plain": [
       "10       1045\n",
       "NaN      1024\n",
       "1         367\n",
       "5         170\n",
       "50        148\n",
       "         ... \n",
       "67469       1\n",
       "43197       1\n",
       "10027       1\n",
       "35882       1\n",
       "57          1\n",
       "Name: km, Length: 6690, dtype: int64"
      ]
     },
     "execution_count": 139,
     "metadata": {},
     "output_type": "execute_result"
    }
   ],
   "source": [
    "df.km.str.split().str[0].str.replace(\",\", \"\").replace(\"-\", np.NaN).value_counts(dropna=False, ascending=False)"
   ]
  },
  {
   "cell_type": "code",
   "execution_count": 140,
   "metadata": {},
   "outputs": [
    {
     "data": {
      "text/plain": [
       "10       1045\n",
       "NaN      1024\n",
       "1         367\n",
       "5         170\n",
       "50        148\n",
       "         ... \n",
       "67469       1\n",
       "43197       1\n",
       "10027       1\n",
       "35882       1\n",
       "57          1\n",
       "Name: km, Length: 6690, dtype: int64"
      ]
     },
     "execution_count": 140,
     "metadata": {},
     "output_type": "execute_result"
    }
   ],
   "source": [
    "df.km = df.km.str.split().str[0].str.replace(\",\", \"\").replace(\"-\", np.NaN)\n",
    "df.km.value_counts(dropna=False)"
   ]
  },
  {
   "cell_type": "markdown",
   "metadata": {},
   "source": [
    "## registration & First Registration"
   ]
  },
  {
   "cell_type": "code",
   "execution_count": 28,
   "metadata": {
    "scrolled": true
   },
   "outputs": [
    {
     "ename": "TypeError",
     "evalue": "unhashable type: 'list'",
     "output_type": "error",
     "traceback": [
      "\u001b[0;31m---------------------------------------------------------------------------\u001b[0m",
      "\u001b[0;31mTypeError\u001b[0m                                 Traceback (most recent call last)",
      "\u001b[0;32mpandas/_libs/hashtable_class_helper.pxi\u001b[0m in \u001b[0;36mpandas._libs.hashtable.PyObjectHashTable.map_locations\u001b[0;34m()\u001b[0m\n",
      "\u001b[0;31mTypeError\u001b[0m: unhashable type: 'list'"
     ]
    },
    {
     "name": "stderr",
     "output_type": "stream",
     "text": [
      "Exception ignored in: 'pandas._libs.index.IndexEngine._call_map_locations'\n",
      "Traceback (most recent call last):\n",
      "  File \"pandas/_libs/hashtable_class_helper.pxi\", line 5231, in pandas._libs.hashtable.PyObjectHashTable.map_locations\n",
      "TypeError: unhashable type: 'list'\n"
     ]
    },
    {
     "data": {
      "text/plain": [
       "[\\n, 2018, \\n]    4522\n",
       "[\\n, 2016, \\n]    3674\n",
       "[\\n, 2017, \\n]    3273\n",
       "[\\n, 2019, \\n]    2853\n",
       "NaN               1597\n",
       "Name: First Registration, dtype: int64"
      ]
     },
     "execution_count": 28,
     "metadata": {},
     "output_type": "execute_result"
    }
   ],
   "source": [
    "df[\"First Registration\"].value_counts(dropna=False)"
   ]
  },
  {
   "cell_type": "code",
   "execution_count": 29,
   "metadata": {},
   "outputs": [
    {
     "data": {
      "text/plain": [
       "-/-        1597\n",
       "03/2018     695\n",
       "02/2019     585\n",
       "05/2018     572\n",
       "03/2019     543\n",
       "01/2019     541\n",
       "04/2018     541\n",
       "02/2018     539\n",
       "03/2016     536\n",
       "04/2016     532\n",
       "06/2018     532\n",
       "01/2018     511\n",
       "04/2019     506\n",
       "02/2016     472\n",
       "03/2017     471\n",
       "05/2016     459\n",
       "06/2016     452\n",
       "05/2019     440\n",
       "06/2017     409\n",
       "05/2017     404\n",
       "07/2018     396\n",
       "04/2017     380\n",
       "01/2016     376\n",
       "02/2017     368\n",
       "01/2017     306\n",
       "08/2018     285\n",
       "06/2019     224\n",
       "07/2017     215\n",
       "11/2017     180\n",
       "07/2016     176\n",
       "10/2016     160\n",
       "10/2017     154\n",
       "09/2017     149\n",
       "11/2016     142\n",
       "09/2018     141\n",
       "09/2016     141\n",
       "12/2016     134\n",
       "12/2017     123\n",
       "08/2017     114\n",
       "11/2018     110\n",
       "12/2018     103\n",
       "10/2018      97\n",
       "08/2016      94\n",
       "07/2019       6\n",
       "09/2019       5\n",
       "08/2019       1\n",
       "11/2019       1\n",
       "12/2019       1\n",
       "Name: registration, dtype: int64"
      ]
     },
     "execution_count": 29,
     "metadata": {},
     "output_type": "execute_result"
    }
   ],
   "source": [
    "df.registration.value_counts(dropna=False)"
   ]
  },
  {
   "cell_type": "code",
   "execution_count": 30,
   "metadata": {},
   "outputs": [],
   "source": [
    "df[\"registration\"] = df[\"registration\"].replace(\"-/-\", np.NaN)"
   ]
  },
  {
   "cell_type": "code",
   "execution_count": 31,
   "metadata": {},
   "outputs": [],
   "source": [
    "df[\"registration\"] = pd.to_datetime(df[\"registration\"])"
   ]
  },
  {
   "cell_type": "code",
   "execution_count": 32,
   "metadata": {
    "scrolled": true
   },
   "outputs": [
    {
     "data": {
      "text/plain": [
       "NaT           1597\n",
       "2018-03-01     695\n",
       "2019-02-01     585\n",
       "2018-05-01     572\n",
       "2019-03-01     543\n",
       "2019-01-01     541\n",
       "2018-04-01     541\n",
       "2018-02-01     539\n",
       "2016-03-01     536\n",
       "2016-04-01     532\n",
       "2018-06-01     532\n",
       "2018-01-01     511\n",
       "2019-04-01     506\n",
       "2016-02-01     472\n",
       "2017-03-01     471\n",
       "2016-05-01     459\n",
       "2016-06-01     452\n",
       "2019-05-01     440\n",
       "2017-06-01     409\n",
       "2017-05-01     404\n",
       "2018-07-01     396\n",
       "2017-04-01     380\n",
       "2016-01-01     376\n",
       "2017-02-01     368\n",
       "2017-01-01     306\n",
       "2018-08-01     285\n",
       "2019-06-01     224\n",
       "2017-07-01     215\n",
       "2017-11-01     180\n",
       "2016-07-01     176\n",
       "2016-10-01     160\n",
       "2017-10-01     154\n",
       "2017-09-01     149\n",
       "2016-11-01     142\n",
       "2018-09-01     141\n",
       "2016-09-01     141\n",
       "2016-12-01     134\n",
       "2017-12-01     123\n",
       "2017-08-01     114\n",
       "2018-11-01     110\n",
       "2018-12-01     103\n",
       "2018-10-01      97\n",
       "2016-08-01      94\n",
       "2019-07-01       6\n",
       "2019-09-01       5\n",
       "2019-08-01       1\n",
       "2019-11-01       1\n",
       "2019-12-01       1\n",
       "Name: registration, dtype: int64"
      ]
     },
     "execution_count": 32,
     "metadata": {},
     "output_type": "execute_result"
    }
   ],
   "source": [
    "df[\"registration\"].value_counts(dropna=False)"
   ]
  },
  {
   "cell_type": "code",
   "execution_count": 141,
   "metadata": {},
   "outputs": [
    {
     "data": {
      "text/html": [
       "<div>\n",
       "<style scoped>\n",
       "    .dataframe tbody tr th:only-of-type {\n",
       "        vertical-align: middle;\n",
       "    }\n",
       "\n",
       "    .dataframe tbody tr th {\n",
       "        vertical-align: top;\n",
       "    }\n",
       "\n",
       "    .dataframe thead th {\n",
       "        text-align: right;\n",
       "    }\n",
       "</style>\n",
       "<table border=\"1\" class=\"dataframe\">\n",
       "  <thead>\n",
       "    <tr style=\"text-align: right;\">\n",
       "      <th></th>\n",
       "      <th>First Registration</th>\n",
       "      <th>registration</th>\n",
       "    </tr>\n",
       "  </thead>\n",
       "  <tbody>\n",
       "    <tr>\n",
       "      <th>13177</th>\n",
       "      <td>[\\n, 2018, \\n]</td>\n",
       "      <td>08/2018</td>\n",
       "    </tr>\n",
       "    <tr>\n",
       "      <th>520</th>\n",
       "      <td>[\\n, 2016, \\n]</td>\n",
       "      <td>08/2016</td>\n",
       "    </tr>\n",
       "    <tr>\n",
       "      <th>7398</th>\n",
       "      <td>[\\n, 2018, \\n]</td>\n",
       "      <td>04/2018</td>\n",
       "    </tr>\n",
       "    <tr>\n",
       "      <th>12780</th>\n",
       "      <td>[\\n, 2019, \\n]</td>\n",
       "      <td>02/2019</td>\n",
       "    </tr>\n",
       "    <tr>\n",
       "      <th>9842</th>\n",
       "      <td>[\\n, 2018, \\n]</td>\n",
       "      <td>03/2018</td>\n",
       "    </tr>\n",
       "    <tr>\n",
       "      <th>11240</th>\n",
       "      <td>[\\n, 2017, \\n]</td>\n",
       "      <td>11/2017</td>\n",
       "    </tr>\n",
       "    <tr>\n",
       "      <th>5615</th>\n",
       "      <td>NaN</td>\n",
       "      <td>-/-</td>\n",
       "    </tr>\n",
       "    <tr>\n",
       "      <th>7542</th>\n",
       "      <td>[\\n, 2018, \\n]</td>\n",
       "      <td>03/2018</td>\n",
       "    </tr>\n",
       "    <tr>\n",
       "      <th>1607</th>\n",
       "      <td>[\\n, 2018, \\n]</td>\n",
       "      <td>07/2018</td>\n",
       "    </tr>\n",
       "    <tr>\n",
       "      <th>2589</th>\n",
       "      <td>[\\n, 2019, \\n]</td>\n",
       "      <td>03/2019</td>\n",
       "    </tr>\n",
       "    <tr>\n",
       "      <th>667</th>\n",
       "      <td>[\\n, 2016, \\n]</td>\n",
       "      <td>02/2016</td>\n",
       "    </tr>\n",
       "    <tr>\n",
       "      <th>7569</th>\n",
       "      <td>[\\n, 2018, \\n]</td>\n",
       "      <td>03/2018</td>\n",
       "    </tr>\n",
       "    <tr>\n",
       "      <th>10875</th>\n",
       "      <td>[\\n, 2016, \\n]</td>\n",
       "      <td>03/2016</td>\n",
       "    </tr>\n",
       "    <tr>\n",
       "      <th>4145</th>\n",
       "      <td>[\\n, 2017, \\n]</td>\n",
       "      <td>03/2017</td>\n",
       "    </tr>\n",
       "    <tr>\n",
       "      <th>10911</th>\n",
       "      <td>[\\n, 2017, \\n]</td>\n",
       "      <td>05/2017</td>\n",
       "    </tr>\n",
       "    <tr>\n",
       "      <th>10916</th>\n",
       "      <td>[\\n, 2016, \\n]</td>\n",
       "      <td>01/2016</td>\n",
       "    </tr>\n",
       "    <tr>\n",
       "      <th>6140</th>\n",
       "      <td>[\\n, 2017, \\n]</td>\n",
       "      <td>01/2017</td>\n",
       "    </tr>\n",
       "    <tr>\n",
       "      <th>756</th>\n",
       "      <td>[\\n, 2016, \\n]</td>\n",
       "      <td>02/2016</td>\n",
       "    </tr>\n",
       "    <tr>\n",
       "      <th>10157</th>\n",
       "      <td>[\\n, 2019, \\n]</td>\n",
       "      <td>03/2019</td>\n",
       "    </tr>\n",
       "    <tr>\n",
       "      <th>10819</th>\n",
       "      <td>[\\n, 2016, \\n]</td>\n",
       "      <td>04/2016</td>\n",
       "    </tr>\n",
       "    <tr>\n",
       "      <th>14952</th>\n",
       "      <td>[\\n, 2016, \\n]</td>\n",
       "      <td>04/2016</td>\n",
       "    </tr>\n",
       "    <tr>\n",
       "      <th>4991</th>\n",
       "      <td>[\\n, 2018, \\n]</td>\n",
       "      <td>06/2018</td>\n",
       "    </tr>\n",
       "    <tr>\n",
       "      <th>7498</th>\n",
       "      <td>[\\n, 2018, \\n]</td>\n",
       "      <td>03/2018</td>\n",
       "    </tr>\n",
       "    <tr>\n",
       "      <th>2267</th>\n",
       "      <td>NaN</td>\n",
       "      <td>-/-</td>\n",
       "    </tr>\n",
       "    <tr>\n",
       "      <th>2063</th>\n",
       "      <td>[\\n, 2019, \\n]</td>\n",
       "      <td>04/2019</td>\n",
       "    </tr>\n",
       "    <tr>\n",
       "      <th>5709</th>\n",
       "      <td>[\\n, 2019, \\n]</td>\n",
       "      <td>02/2019</td>\n",
       "    </tr>\n",
       "    <tr>\n",
       "      <th>1615</th>\n",
       "      <td>[\\n, 2018, \\n]</td>\n",
       "      <td>06/2018</td>\n",
       "    </tr>\n",
       "    <tr>\n",
       "      <th>325</th>\n",
       "      <td>[\\n, 2016, \\n]</td>\n",
       "      <td>02/2016</td>\n",
       "    </tr>\n",
       "    <tr>\n",
       "      <th>2454</th>\n",
       "      <td>[\\n, 2019, \\n]</td>\n",
       "      <td>04/2019</td>\n",
       "    </tr>\n",
       "    <tr>\n",
       "      <th>6231</th>\n",
       "      <td>[\\n, 2017, \\n]</td>\n",
       "      <td>09/2017</td>\n",
       "    </tr>\n",
       "    <tr>\n",
       "      <th>14422</th>\n",
       "      <td>[\\n, 2018, \\n]</td>\n",
       "      <td>01/2018</td>\n",
       "    </tr>\n",
       "    <tr>\n",
       "      <th>542</th>\n",
       "      <td>[\\n, 2016, \\n]</td>\n",
       "      <td>04/2016</td>\n",
       "    </tr>\n",
       "    <tr>\n",
       "      <th>13997</th>\n",
       "      <td>[\\n, 2017, \\n]</td>\n",
       "      <td>03/2017</td>\n",
       "    </tr>\n",
       "    <tr>\n",
       "      <th>6902</th>\n",
       "      <td>[\\n, 2017, \\n]</td>\n",
       "      <td>09/2017</td>\n",
       "    </tr>\n",
       "    <tr>\n",
       "      <th>559</th>\n",
       "      <td>[\\n, 2016, \\n]</td>\n",
       "      <td>03/2016</td>\n",
       "    </tr>\n",
       "    <tr>\n",
       "      <th>3446</th>\n",
       "      <td>[\\n, 2016, \\n]</td>\n",
       "      <td>02/2016</td>\n",
       "    </tr>\n",
       "    <tr>\n",
       "      <th>14188</th>\n",
       "      <td>[\\n, 2017, \\n]</td>\n",
       "      <td>03/2017</td>\n",
       "    </tr>\n",
       "    <tr>\n",
       "      <th>8533</th>\n",
       "      <td>[\\n, 2016, \\n]</td>\n",
       "      <td>12/2016</td>\n",
       "    </tr>\n",
       "    <tr>\n",
       "      <th>2879</th>\n",
       "      <td>[\\n, 2016, \\n]</td>\n",
       "      <td>03/2016</td>\n",
       "    </tr>\n",
       "    <tr>\n",
       "      <th>14255</th>\n",
       "      <td>[\\n, 2018, \\n]</td>\n",
       "      <td>12/2018</td>\n",
       "    </tr>\n",
       "    <tr>\n",
       "      <th>11892</th>\n",
       "      <td>[\\n, 2018, \\n]</td>\n",
       "      <td>06/2018</td>\n",
       "    </tr>\n",
       "    <tr>\n",
       "      <th>14044</th>\n",
       "      <td>[\\n, 2018, \\n]</td>\n",
       "      <td>08/2018</td>\n",
       "    </tr>\n",
       "    <tr>\n",
       "      <th>15524</th>\n",
       "      <td>[\\n, 2017, \\n]</td>\n",
       "      <td>10/2017</td>\n",
       "    </tr>\n",
       "    <tr>\n",
       "      <th>4082</th>\n",
       "      <td>[\\n, 2018, \\n]</td>\n",
       "      <td>01/2018</td>\n",
       "    </tr>\n",
       "    <tr>\n",
       "      <th>355</th>\n",
       "      <td>[\\n, 2016, \\n]</td>\n",
       "      <td>03/2016</td>\n",
       "    </tr>\n",
       "    <tr>\n",
       "      <th>13090</th>\n",
       "      <td>[\\n, 2018, \\n]</td>\n",
       "      <td>08/2018</td>\n",
       "    </tr>\n",
       "    <tr>\n",
       "      <th>9697</th>\n",
       "      <td>[\\n, 2019, \\n]</td>\n",
       "      <td>02/2019</td>\n",
       "    </tr>\n",
       "    <tr>\n",
       "      <th>1762</th>\n",
       "      <td>[\\n, 2018, \\n]</td>\n",
       "      <td>08/2018</td>\n",
       "    </tr>\n",
       "    <tr>\n",
       "      <th>12826</th>\n",
       "      <td>NaN</td>\n",
       "      <td>-/-</td>\n",
       "    </tr>\n",
       "    <tr>\n",
       "      <th>10520</th>\n",
       "      <td>[\\n, 2016, \\n]</td>\n",
       "      <td>04/2016</td>\n",
       "    </tr>\n",
       "    <tr>\n",
       "      <th>13690</th>\n",
       "      <td>[\\n, 2016, \\n]</td>\n",
       "      <td>04/2016</td>\n",
       "    </tr>\n",
       "    <tr>\n",
       "      <th>10849</th>\n",
       "      <td>[\\n, 2016, \\n]</td>\n",
       "      <td>04/2016</td>\n",
       "    </tr>\n",
       "    <tr>\n",
       "      <th>3938</th>\n",
       "      <td>[\\n, 2017, \\n]</td>\n",
       "      <td>09/2017</td>\n",
       "    </tr>\n",
       "    <tr>\n",
       "      <th>705</th>\n",
       "      <td>[\\n, 2016, \\n]</td>\n",
       "      <td>05/2016</td>\n",
       "    </tr>\n",
       "    <tr>\n",
       "      <th>7249</th>\n",
       "      <td>[\\n, 2018, \\n]</td>\n",
       "      <td>03/2018</td>\n",
       "    </tr>\n",
       "    <tr>\n",
       "      <th>7507</th>\n",
       "      <td>[\\n, 2018, \\n]</td>\n",
       "      <td>02/2018</td>\n",
       "    </tr>\n",
       "    <tr>\n",
       "      <th>8879</th>\n",
       "      <td>[\\n, 2017, \\n]</td>\n",
       "      <td>02/2017</td>\n",
       "    </tr>\n",
       "    <tr>\n",
       "      <th>6214</th>\n",
       "      <td>[\\n, 2016, \\n]</td>\n",
       "      <td>05/2016</td>\n",
       "    </tr>\n",
       "    <tr>\n",
       "      <th>8172</th>\n",
       "      <td>[\\n, 2019, \\n]</td>\n",
       "      <td>04/2019</td>\n",
       "    </tr>\n",
       "    <tr>\n",
       "      <th>5832</th>\n",
       "      <td>[\\n, 2017, \\n]</td>\n",
       "      <td>09/2017</td>\n",
       "    </tr>\n",
       "    <tr>\n",
       "      <th>9381</th>\n",
       "      <td>[\\n, 2017, \\n]</td>\n",
       "      <td>03/2017</td>\n",
       "    </tr>\n",
       "    <tr>\n",
       "      <th>13887</th>\n",
       "      <td>[\\n, 2017, \\n]</td>\n",
       "      <td>07/2017</td>\n",
       "    </tr>\n",
       "    <tr>\n",
       "      <th>1051</th>\n",
       "      <td>[\\n, 2018, \\n]</td>\n",
       "      <td>05/2018</td>\n",
       "    </tr>\n",
       "    <tr>\n",
       "      <th>4584</th>\n",
       "      <td>[\\n, 2018, \\n]</td>\n",
       "      <td>05/2018</td>\n",
       "    </tr>\n",
       "    <tr>\n",
       "      <th>14165</th>\n",
       "      <td>[\\n, 2017, \\n]</td>\n",
       "      <td>05/2017</td>\n",
       "    </tr>\n",
       "    <tr>\n",
       "      <th>15580</th>\n",
       "      <td>[\\n, 2018, \\n]</td>\n",
       "      <td>05/2018</td>\n",
       "    </tr>\n",
       "    <tr>\n",
       "      <th>12806</th>\n",
       "      <td>NaN</td>\n",
       "      <td>-/-</td>\n",
       "    </tr>\n",
       "    <tr>\n",
       "      <th>15414</th>\n",
       "      <td>[\\n, 2016, \\n]</td>\n",
       "      <td>01/2016</td>\n",
       "    </tr>\n",
       "    <tr>\n",
       "      <th>9254</th>\n",
       "      <td>NaN</td>\n",
       "      <td>-/-</td>\n",
       "    </tr>\n",
       "    <tr>\n",
       "      <th>13817</th>\n",
       "      <td>[\\n, 2016, \\n]</td>\n",
       "      <td>04/2016</td>\n",
       "    </tr>\n",
       "    <tr>\n",
       "      <th>8204</th>\n",
       "      <td>NaN</td>\n",
       "      <td>-/-</td>\n",
       "    </tr>\n",
       "    <tr>\n",
       "      <th>9654</th>\n",
       "      <td>[\\n, 2018, \\n]</td>\n",
       "      <td>02/2018</td>\n",
       "    </tr>\n",
       "    <tr>\n",
       "      <th>6475</th>\n",
       "      <td>[\\n, 2018, \\n]</td>\n",
       "      <td>02/2018</td>\n",
       "    </tr>\n",
       "    <tr>\n",
       "      <th>8401</th>\n",
       "      <td>[\\n, 2018, \\n]</td>\n",
       "      <td>04/2018</td>\n",
       "    </tr>\n",
       "    <tr>\n",
       "      <th>3167</th>\n",
       "      <td>[\\n, 2016, \\n]</td>\n",
       "      <td>02/2016</td>\n",
       "    </tr>\n",
       "    <tr>\n",
       "      <th>14320</th>\n",
       "      <td>[\\n, 2018, \\n]</td>\n",
       "      <td>06/2018</td>\n",
       "    </tr>\n",
       "    <tr>\n",
       "      <th>1608</th>\n",
       "      <td>[\\n, 2018, \\n]</td>\n",
       "      <td>12/2018</td>\n",
       "    </tr>\n",
       "    <tr>\n",
       "      <th>6722</th>\n",
       "      <td>[\\n, 2017, \\n]</td>\n",
       "      <td>07/2017</td>\n",
       "    </tr>\n",
       "    <tr>\n",
       "      <th>1968</th>\n",
       "      <td>[\\n, 2019, \\n]</td>\n",
       "      <td>06/2019</td>\n",
       "    </tr>\n",
       "    <tr>\n",
       "      <th>10494</th>\n",
       "      <td>[\\n, 2016, \\n]</td>\n",
       "      <td>07/2016</td>\n",
       "    </tr>\n",
       "    <tr>\n",
       "      <th>1511</th>\n",
       "      <td>[\\n, 2018, \\n]</td>\n",
       "      <td>01/2018</td>\n",
       "    </tr>\n",
       "    <tr>\n",
       "      <th>11434</th>\n",
       "      <td>[\\n, 2017, \\n]</td>\n",
       "      <td>09/2017</td>\n",
       "    </tr>\n",
       "    <tr>\n",
       "      <th>13238</th>\n",
       "      <td>[\\n, 2016, \\n]</td>\n",
       "      <td>03/2016</td>\n",
       "    </tr>\n",
       "    <tr>\n",
       "      <th>8362</th>\n",
       "      <td>[\\n, 2018, \\n]</td>\n",
       "      <td>03/2018</td>\n",
       "    </tr>\n",
       "    <tr>\n",
       "      <th>9864</th>\n",
       "      <td>NaN</td>\n",
       "      <td>-/-</td>\n",
       "    </tr>\n",
       "    <tr>\n",
       "      <th>937</th>\n",
       "      <td>[\\n, 2017, \\n]</td>\n",
       "      <td>12/2017</td>\n",
       "    </tr>\n",
       "    <tr>\n",
       "      <th>703</th>\n",
       "      <td>[\\n, 2016, \\n]</td>\n",
       "      <td>01/2016</td>\n",
       "    </tr>\n",
       "    <tr>\n",
       "      <th>1198</th>\n",
       "      <td>[\\n, 2017, \\n]</td>\n",
       "      <td>05/2017</td>\n",
       "    </tr>\n",
       "    <tr>\n",
       "      <th>1804</th>\n",
       "      <td>[\\n, 2018, \\n]</td>\n",
       "      <td>06/2018</td>\n",
       "    </tr>\n",
       "    <tr>\n",
       "      <th>14298</th>\n",
       "      <td>[\\n, 2018, \\n]</td>\n",
       "      <td>05/2018</td>\n",
       "    </tr>\n",
       "    <tr>\n",
       "      <th>5719</th>\n",
       "      <td>[\\n, 2017, \\n]</td>\n",
       "      <td>04/2017</td>\n",
       "    </tr>\n",
       "    <tr>\n",
       "      <th>226</th>\n",
       "      <td>[\\n, 2017, \\n]</td>\n",
       "      <td>10/2017</td>\n",
       "    </tr>\n",
       "    <tr>\n",
       "      <th>7107</th>\n",
       "      <td>[\\n, 2018, \\n]</td>\n",
       "      <td>08/2018</td>\n",
       "    </tr>\n",
       "    <tr>\n",
       "      <th>9009</th>\n",
       "      <td>[\\n, 2016, \\n]</td>\n",
       "      <td>05/2016</td>\n",
       "    </tr>\n",
       "    <tr>\n",
       "      <th>10298</th>\n",
       "      <td>[\\n, 2019, \\n]</td>\n",
       "      <td>05/2019</td>\n",
       "    </tr>\n",
       "    <tr>\n",
       "      <th>10982</th>\n",
       "      <td>[\\n, 2016, \\n]</td>\n",
       "      <td>06/2016</td>\n",
       "    </tr>\n",
       "    <tr>\n",
       "      <th>245</th>\n",
       "      <td>[\\n, 2016, \\n]</td>\n",
       "      <td>06/2016</td>\n",
       "    </tr>\n",
       "    <tr>\n",
       "      <th>8632</th>\n",
       "      <td>[\\n, 2016, \\n]</td>\n",
       "      <td>06/2016</td>\n",
       "    </tr>\n",
       "    <tr>\n",
       "      <th>3391</th>\n",
       "      <td>[\\n, 2017, \\n]</td>\n",
       "      <td>03/2017</td>\n",
       "    </tr>\n",
       "    <tr>\n",
       "      <th>711</th>\n",
       "      <td>[\\n, 2016, \\n]</td>\n",
       "      <td>03/2016</td>\n",
       "    </tr>\n",
       "  </tbody>\n",
       "</table>\n",
       "</div>"
      ],
      "text/plain": [
       "      First Registration registration\n",
       "13177     [\\n, 2018, \\n]      08/2018\n",
       "520       [\\n, 2016, \\n]      08/2016\n",
       "7398      [\\n, 2018, \\n]      04/2018\n",
       "12780     [\\n, 2019, \\n]      02/2019\n",
       "9842      [\\n, 2018, \\n]      03/2018\n",
       "11240     [\\n, 2017, \\n]      11/2017\n",
       "5615                 NaN          -/-\n",
       "7542      [\\n, 2018, \\n]      03/2018\n",
       "1607      [\\n, 2018, \\n]      07/2018\n",
       "2589      [\\n, 2019, \\n]      03/2019\n",
       "667       [\\n, 2016, \\n]      02/2016\n",
       "7569      [\\n, 2018, \\n]      03/2018\n",
       "10875     [\\n, 2016, \\n]      03/2016\n",
       "4145      [\\n, 2017, \\n]      03/2017\n",
       "10911     [\\n, 2017, \\n]      05/2017\n",
       "10916     [\\n, 2016, \\n]      01/2016\n",
       "6140      [\\n, 2017, \\n]      01/2017\n",
       "756       [\\n, 2016, \\n]      02/2016\n",
       "10157     [\\n, 2019, \\n]      03/2019\n",
       "10819     [\\n, 2016, \\n]      04/2016\n",
       "14952     [\\n, 2016, \\n]      04/2016\n",
       "4991      [\\n, 2018, \\n]      06/2018\n",
       "7498      [\\n, 2018, \\n]      03/2018\n",
       "2267                 NaN          -/-\n",
       "2063      [\\n, 2019, \\n]      04/2019\n",
       "5709      [\\n, 2019, \\n]      02/2019\n",
       "1615      [\\n, 2018, \\n]      06/2018\n",
       "325       [\\n, 2016, \\n]      02/2016\n",
       "2454      [\\n, 2019, \\n]      04/2019\n",
       "6231      [\\n, 2017, \\n]      09/2017\n",
       "14422     [\\n, 2018, \\n]      01/2018\n",
       "542       [\\n, 2016, \\n]      04/2016\n",
       "13997     [\\n, 2017, \\n]      03/2017\n",
       "6902      [\\n, 2017, \\n]      09/2017\n",
       "559       [\\n, 2016, \\n]      03/2016\n",
       "3446      [\\n, 2016, \\n]      02/2016\n",
       "14188     [\\n, 2017, \\n]      03/2017\n",
       "8533      [\\n, 2016, \\n]      12/2016\n",
       "2879      [\\n, 2016, \\n]      03/2016\n",
       "14255     [\\n, 2018, \\n]      12/2018\n",
       "11892     [\\n, 2018, \\n]      06/2018\n",
       "14044     [\\n, 2018, \\n]      08/2018\n",
       "15524     [\\n, 2017, \\n]      10/2017\n",
       "4082      [\\n, 2018, \\n]      01/2018\n",
       "355       [\\n, 2016, \\n]      03/2016\n",
       "13090     [\\n, 2018, \\n]      08/2018\n",
       "9697      [\\n, 2019, \\n]      02/2019\n",
       "1762      [\\n, 2018, \\n]      08/2018\n",
       "12826                NaN          -/-\n",
       "10520     [\\n, 2016, \\n]      04/2016\n",
       "13690     [\\n, 2016, \\n]      04/2016\n",
       "10849     [\\n, 2016, \\n]      04/2016\n",
       "3938      [\\n, 2017, \\n]      09/2017\n",
       "705       [\\n, 2016, \\n]      05/2016\n",
       "7249      [\\n, 2018, \\n]      03/2018\n",
       "7507      [\\n, 2018, \\n]      02/2018\n",
       "8879      [\\n, 2017, \\n]      02/2017\n",
       "6214      [\\n, 2016, \\n]      05/2016\n",
       "8172      [\\n, 2019, \\n]      04/2019\n",
       "5832      [\\n, 2017, \\n]      09/2017\n",
       "9381      [\\n, 2017, \\n]      03/2017\n",
       "13887     [\\n, 2017, \\n]      07/2017\n",
       "1051      [\\n, 2018, \\n]      05/2018\n",
       "4584      [\\n, 2018, \\n]      05/2018\n",
       "14165     [\\n, 2017, \\n]      05/2017\n",
       "15580     [\\n, 2018, \\n]      05/2018\n",
       "12806                NaN          -/-\n",
       "15414     [\\n, 2016, \\n]      01/2016\n",
       "9254                 NaN          -/-\n",
       "13817     [\\n, 2016, \\n]      04/2016\n",
       "8204                 NaN          -/-\n",
       "9654      [\\n, 2018, \\n]      02/2018\n",
       "6475      [\\n, 2018, \\n]      02/2018\n",
       "8401      [\\n, 2018, \\n]      04/2018\n",
       "3167      [\\n, 2016, \\n]      02/2016\n",
       "14320     [\\n, 2018, \\n]      06/2018\n",
       "1608      [\\n, 2018, \\n]      12/2018\n",
       "6722      [\\n, 2017, \\n]      07/2017\n",
       "1968      [\\n, 2019, \\n]      06/2019\n",
       "10494     [\\n, 2016, \\n]      07/2016\n",
       "1511      [\\n, 2018, \\n]      01/2018\n",
       "11434     [\\n, 2017, \\n]      09/2017\n",
       "13238     [\\n, 2016, \\n]      03/2016\n",
       "8362      [\\n, 2018, \\n]      03/2018\n",
       "9864                 NaN          -/-\n",
       "937       [\\n, 2017, \\n]      12/2017\n",
       "703       [\\n, 2016, \\n]      01/2016\n",
       "1198      [\\n, 2017, \\n]      05/2017\n",
       "1804      [\\n, 2018, \\n]      06/2018\n",
       "14298     [\\n, 2018, \\n]      05/2018\n",
       "5719      [\\n, 2017, \\n]      04/2017\n",
       "226       [\\n, 2017, \\n]      10/2017\n",
       "7107      [\\n, 2018, \\n]      08/2018\n",
       "9009      [\\n, 2016, \\n]      05/2016\n",
       "10298     [\\n, 2019, \\n]      05/2019\n",
       "10982     [\\n, 2016, \\n]      06/2016\n",
       "245       [\\n, 2016, \\n]      06/2016\n",
       "8632      [\\n, 2016, \\n]      06/2016\n",
       "3391      [\\n, 2017, \\n]      03/2017\n",
       "711       [\\n, 2016, \\n]      03/2016"
      ]
     },
     "execution_count": 141,
     "metadata": {},
     "output_type": "execute_result"
    }
   ],
   "source": [
    "df[[\"First Registration\", \"registration\"]].sample(100)"
   ]
  },
  {
   "cell_type": "code",
   "execution_count": 144,
   "metadata": {},
   "outputs": [],
   "source": [
    "# all values including nulls are the same so \"First Registration\" will be dropped.\n",
    "df.drop(columns=\"First Registration\", inplace=True) "
   ]
  },
  {
   "cell_type": "markdown",
   "metadata": {},
   "source": [
    "## hp"
   ]
  },
  {
   "cell_type": "code",
   "execution_count": 145,
   "metadata": {},
   "outputs": [
    {
     "data": {
      "text/plain": [
       "85 kW     2542\n",
       "66 kW     2122\n",
       "81 kW     1402\n",
       "100 kW    1308\n",
       "110 kW    1112\n",
       "70 kW      888\n",
       "125 kW     707\n",
       "51 kW      695\n",
       "55 kW      569\n",
       "118 kW     516\n",
       "92 kW      466\n",
       "121 kW     392\n",
       "147 kW     380\n",
       "77 kW      345\n",
       "56 kW      286\n",
       "54 kW      276\n",
       "103 kW     253\n",
       "87 kW      232\n",
       "165 kW     194\n",
       "88 kW      177\n",
       "60 kW      160\n",
       "162 kW      98\n",
       "- kW        88\n",
       "74 kW       81\n",
       "96 kW       72\n",
       "71 kW       59\n",
       "101 kW      47\n",
       "67 kW       40\n",
       "154 kW      39\n",
       "122 kW      35\n",
       "119 kW      30\n",
       "164 kW      27\n",
       "135 kW      24\n",
       "82 kW       22\n",
       "52 kW       22\n",
       "78 kW       20\n",
       "1 kW        20\n",
       "294 kW      18\n",
       "146 kW      18\n",
       "141 kW      16\n",
       "57 kW       10\n",
       "104 kW       8\n",
       "120 kW       8\n",
       "191 kW       7\n",
       "112 kW       7\n",
       "155 kW       6\n",
       "117 kW       6\n",
       "184 kW       5\n",
       "90 kW        4\n",
       "76 kW        4\n",
       "65 kW        4\n",
       "149 kW       3\n",
       "80 kW        3\n",
       "168 kW       3\n",
       "98 kW        3\n",
       "93 kW        3\n",
       "228 kW       2\n",
       "270 kW       2\n",
       "53 kW        2\n",
       "140 kW       2\n",
       "86 kW        2\n",
       "167 kW       2\n",
       "127 kW       2\n",
       "89 kW        2\n",
       "143 kW       2\n",
       "63 kW        2\n",
       "40 kW        2\n",
       "150 kW       2\n",
       "163 kW       1\n",
       "115 kW       1\n",
       "132 kW       1\n",
       "75 kW        1\n",
       "4 kW         1\n",
       "137 kW       1\n",
       "123 kW       1\n",
       "133 kW       1\n",
       "84 kW        1\n",
       "195 kW       1\n",
       "44 kW        1\n",
       "239 kW       1\n",
       "9 kW         1\n",
       "Name: hp, dtype: int64"
      ]
     },
     "execution_count": 145,
     "metadata": {},
     "output_type": "execute_result"
    }
   ],
   "source": [
    "df.hp.value_counts(dropna=False)"
   ]
  },
  {
   "cell_type": "code",
   "execution_count": 146,
   "metadata": {},
   "outputs": [
    {
     "data": {
      "text/plain": [
       "85     2542\n",
       "66     2122\n",
       "81     1402\n",
       "100    1308\n",
       "110    1112\n",
       "70      888\n",
       "125     707\n",
       "51      695\n",
       "55      569\n",
       "118     516\n",
       "92      466\n",
       "121     392\n",
       "147     380\n",
       "77      345\n",
       "56      286\n",
       "54      276\n",
       "103     253\n",
       "87      232\n",
       "165     194\n",
       "88      177\n",
       "60      160\n",
       "162      98\n",
       "-        88\n",
       "74       81\n",
       "96       72\n",
       "71       59\n",
       "101      47\n",
       "67       40\n",
       "154      39\n",
       "122      35\n",
       "119      30\n",
       "164      27\n",
       "135      24\n",
       "82       22\n",
       "52       22\n",
       "78       20\n",
       "1        20\n",
       "294      18\n",
       "146      18\n",
       "141      16\n",
       "57       10\n",
       "104       8\n",
       "120       8\n",
       "191       7\n",
       "112       7\n",
       "155       6\n",
       "117       6\n",
       "184       5\n",
       "90        4\n",
       "76        4\n",
       "65        4\n",
       "149       3\n",
       "80        3\n",
       "168       3\n",
       "98        3\n",
       "93        3\n",
       "228       2\n",
       "270       2\n",
       "53        2\n",
       "140       2\n",
       "86        2\n",
       "167       2\n",
       "127       2\n",
       "89        2\n",
       "143       2\n",
       "63        2\n",
       "40        2\n",
       "150       2\n",
       "163       1\n",
       "115       1\n",
       "132       1\n",
       "75        1\n",
       "4         1\n",
       "137       1\n",
       "123       1\n",
       "133       1\n",
       "84        1\n",
       "195       1\n",
       "44        1\n",
       "239       1\n",
       "9         1\n",
       "Name: hp, dtype: int64"
      ]
     },
     "execution_count": 146,
     "metadata": {},
     "output_type": "execute_result"
    }
   ],
   "source": [
    "df.hp.str.split().str[0].value_counts(dropna=False)"
   ]
  },
  {
   "cell_type": "code",
   "execution_count": 147,
   "metadata": {},
   "outputs": [],
   "source": [
    "df[\"hp_kW\"] = df.hp.str.split().str[0]\n",
    "df.drop(columns=\"hp\", inplace=True)"
   ]
  },
  {
   "cell_type": "markdown",
   "metadata": {},
   "source": [
    "## Type"
   ]
  },
  {
   "cell_type": "code",
   "execution_count": 148,
   "metadata": {
    "scrolled": true
   },
   "outputs": [
    {
     "ename": "TypeError",
     "evalue": "unhashable type: 'list'",
     "output_type": "error",
     "traceback": [
      "\u001b[0;31m---------------------------------------------------------------------------\u001b[0m",
      "\u001b[0;31mTypeError\u001b[0m                                 Traceback (most recent call last)",
      "\u001b[0;32mpandas/_libs/hashtable_class_helper.pxi\u001b[0m in \u001b[0;36mpandas._libs.hashtable.PyObjectHashTable.map_locations\u001b[0;34m()\u001b[0m\n",
      "\u001b[0;31mTypeError\u001b[0m: unhashable type: 'list'"
     ]
    },
    {
     "name": "stderr",
     "output_type": "stream",
     "text": [
      "Exception ignored in: 'pandas._libs.index.IndexEngine._call_map_locations'\n",
      "Traceback (most recent call last):\n",
      "  File \"pandas/_libs/hashtable_class_helper.pxi\", line 5231, in pandas._libs.hashtable.PyObjectHashTable.map_locations\n",
      "TypeError: unhashable type: 'list'\n"
     ]
    },
    {
     "data": {
      "text/plain": [
       "[, Used, , Diesel (Particulate Filter)]                                                                                                       3475\n",
       "[, Used, , Diesel]                                                                                                                            2516\n",
       "[, Used, , Gasoline]                                                                                                                          2367\n",
       "[, Used, , Super 95]                                                                                                                          1818\n",
       "[, Pre-registered, , Super 95]                                                                                                                 500\n",
       "[, New, , Super 95]                                                                                                                            497\n",
       "[, Employee's car, , Diesel (Particulate Filter)]                                                                                              343\n",
       "[, New, , Gasoline]                                                                                                                            340\n",
       "[, Used, , Super 95 / Regular/Benzine 91]                                                                                                      324\n",
       "[, Employee's car, , Super 95]                                                                                                                 264\n",
       "[, Demonstration, , Super 95]                                                                                                                  259\n",
       "[, Pre-registered, , Gasoline]                                                                                                                 198\n",
       "[, Pre-registered, , Diesel (Particulate Filter)]                                                                                              189\n",
       "[, New, , Diesel (Particulate Filter)]                                                                                                         179\n",
       "[, Pre-registered, , Diesel]                                                                                                                   160\n",
       "[, Demonstration, , Gasoline]                                                                                                                  158\n",
       "[, Employee's car, , Diesel]                                                                                                                   139\n",
       "[, New, , Super 95 (Particulate Filter)]                                                                                                       130\n",
       "[, Demonstration, , Diesel (Particulate Filter)]                                                                                               129\n",
       "[, Used, , Regular/Benzine 91]                                                                                                                 122\n",
       "[, New, , Diesel]                                                                                                                              122\n",
       "[, Used, , Super E10 95]                                                                                                                       122\n",
       "[, Employee's car, , Gasoline]                                                                                                                 112\n",
       "[, New, , Super E10 95]                                                                                                                         97\n",
       "[, New, , Regular/Benzine 91]                                                                                                                   83\n",
       "[, Employee's car, , Regular/Benzine 91]                                                                                                        77\n",
       "[, New, , Regular/Benzine 91 (Particulate Filter)]                                                                                              73\n",
       "[, Used, , Super 95 / Super E10 95]                                                                                                             70\n",
       "[, Pre-registered, , Super 95 (Particulate Filter)]                                                                                             61\n",
       "[, Pre-registered, , Super E10 95]                                                                                                              55\n",
       "[, Demonstration, , Super 95 / Regular/Benzine 91]                                                                                              49\n",
       "[, Demonstration, , Diesel]                                                                                                                     45\n",
       "[, Used, , Super 95 (Particulate Filter)]                                                                                                       39\n",
       "[, Used, , Super 95 / Super Plus 98]                                                                                                            38\n",
       "[, Pre-registered, , Regular/Benzine 91]                                                                                                        36\n",
       "[, Demonstration, , Regular/Benzine 91]                                                                                                         36\n",
       "[, Employee's car, , Super E10 95]                                                                                                              33\n",
       "[, Demonstration, , Super 95 (Particulate Filter)]                                                                                              32\n",
       "[, Pre-registered, , Gasoline (Particulate Filter)]                                                                                             28\n",
       "[, Pre-registered, , Super 95 / Regular/Benzine 91]                                                                                             27\n",
       "[, Used, , CNG]                                                                                                                                 27\n",
       "[, Used, , Super 95 / Super Plus 98 / Super E10 95 / Super Plus E10 98]                                                                         25\n",
       "[, Demonstration, , Super E10 95]                                                                                                               24\n",
       "[, Used, , Gasoline (Particulate Filter)]                                                                                                       23\n",
       "[, Pre-registered, , Super 95 / Super E10 95]                                                                                                   22\n",
       "[, New, , Super 95 / Super E10 95]                                                                                                              21\n",
       "[, New, , Super 95 / Regular/Benzine 91]                                                                                                        21\n",
       "[, New, , Super 95 / Super Plus 98]                                                                                                             20\n",
       "[, Used, , Super E10 95 / Super 95]                                                                                                             18\n",
       "[, Demonstration, , Super 95 / Super E10 95]                                                                                                    16\n",
       "[, Pre-registered, , Super 95 / Super E10 95 (Particulate Filter)]                                                                              16\n",
       "[, Pre-registered, , Super 95 / Super Plus 98]                                                                                                  15\n",
       "[, New, , Gasoline (Particulate Filter)]                                                                                                        15\n",
       "[, Used, , Regular/Benzine 91 / Super 95 / Super Plus 98 / Regular/Benzine E10 91 / Super E10 95 / Super Plus E10 98]                           12\n",
       "[, New, , Super E10 95 / Super 95]                                                                                                              12\n",
       "[, Demonstration, , Super 95 / Super Plus 98]                                                                                                   12\n",
       "[, Employee's car, , Regular/Benzine 91 (Particulate Filter)]                                                                                   12\n",
       "[, Pre-registered, , Super E10 95 / Super 95 / Super Plus 98 / Super Plus E10 98]                                                               11\n",
       "[, Employee's car, , Gasoline (Particulate Filter)]                                                                                             10\n",
       "[, Used, , LPG]                                                                                                                                 10\n",
       "[, Demonstration, , Regular/Benzine 91 (Particulate Filter)]                                                                                     9\n",
       "[, Used, , Super E10 95 / Super 95 / Super Plus 98 / Super Plus E10 98]                                                                          8\n",
       "[, Demonstration, , Super 95 / Super Plus 98 / Super E10 95 / Super Plus E10 98]                                                                 8\n",
       "[, Pre-registered, , Regular/Benzine 91 / Regular/Benzine E10 91]                                                                                7\n",
       "[, Used, , Liquid petroleum gas (LPG)]                                                                                                           7\n",
       "[, Employee's car, , Super 95 (Particulate Filter)]                                                                                              6\n",
       "[, Used, , Regular/Benzine E10 91]                                                                                                               5\n",
       "[, New, , Super 95 / Super Plus 98 (Particulate Filter)]                                                                                         5\n",
       "[, New, , Super 95 / Super E10 95 (Particulate Filter)]                                                                                          5\n",
       "[, Used, , Super 95 / Super Plus 98 (Particulate Filter)]                                                                                        5\n",
       "[, Used, , Super 95 / Regular/Benzine 91 / Super Plus 98 / Regular/Benzine E10 91 / Super E10 95 / Super Plus E10 98]                            5\n",
       "[, New, , CNG]                                                                                                                                   5\n",
       "[, New, , Super 95 / Super Plus 98 / Super E10 95 / Super Plus E10 98]                                                                           5\n",
       "[, Used, , Electric/Gasoline]                                                                                                                    4\n",
       "[, Demonstration, , Super 95 / Super Plus 98 (Particulate Filter)]                                                                               4\n",
       "[, Used, , Super E10 95 / Super Plus E10 98]                                                                                                     4\n",
       "[, Used, , Super 95 / Super E10 95 / Super Plus E10 98 / Super Plus 98]                                                                          4\n",
       "[, Used, , Others]                                                                                                                               3\n",
       "[, Used, , Super 95 / Super E10 95 (Particulate Filter)]                                                                                         3\n",
       "[, New, , Super 95 / Super Plus 98 / Super E10 95]                                                                                               3\n",
       "[, Employee's car, , Super E10 95 / Super 95]                                                                                                    3\n",
       "[, Pre-registered, , Regular/Benzine E10 91]                                                                                                     3\n",
       "[, Used, , Super 95 / Super Plus 98 / Super Plus E10 98 / Super E10 95]                                                                          3\n",
       "[, Employee's car, , Super 95 / Regular/Benzine 91]                                                                                              3\n",
       "[, Pre-registered, , Liquid petroleum gas (LPG)]                                                                                                 3\n",
       "[, Used, , Super 95 / Super Plus 98 / Super E10 95]                                                                                              3\n",
       "[, New, , Super E10 95 (Particulate Filter)]                                                                                                     3\n",
       "[, Demonstration, , Super E10 95 / Super 95]                                                                                                     3\n",
       "[, Used, , Regular/Benzine 91 / Super 95 / Super Plus 98 / Regular/Benzine E10 91 / Super Plus E10 98 / Super E10 95]                            3\n",
       "[, Pre-registered, , Regular/Benzine 91 (Particulate Filter)]                                                                                    3\n",
       "[, Pre-registered, , LPG]                                                                                                                        3\n",
       "[, Pre-registered, , Super E10 95 / Super 95 / Super Plus 98 / Super Plus E10 98 (Particulate Filter)]                                           3\n",
       "[, Used, , Regular/Benzine 91 (Particulate Filter)]                                                                                              3\n",
       "[, Pre-registered, , Super Plus 98]                                                                                                              2\n",
       "[, Employee's car, , Super 95 / Super E10 95]                                                                                                    2\n",
       "[, Used, , Super 95 / Regular/Benzine 91 / Super Plus 98]                                                                                        2\n",
       "[, Pre-registered, , Super 95 / Super Plus 98 / Super E10 95]                                                                                    2\n",
       "[, Used, , Regular/Benzine 91 / Super 95 / Super Plus 98 / Super Plus E10 98 / Super E10 95 / Regular/Benzine E10 91]                            2\n",
       "[, Pre-registered, , Super E10 95 / Super 95]                                                                                                    2\n",
       "[, New, , Regular/Benzine E10 91]                                                                                                                2\n",
       "[, New, , Super 95 / Super Plus 98 / Super E10 95 / Super Plus E10 98 (Particulate Filter)]                                                      2\n",
       "[, Pre-registered, , Super E10 95 / Super 95 / Super Plus 98]                                                                                    2\n",
       "[, Used, , Super Plus 98]                                                                                                                        2\n",
       "[, Employee's car, , LPG]                                                                                                                        2\n",
       "NaN                                                                                                                                              2\n",
       "[, New, , Super Plus 98]                                                                                                                         2\n",
       "[, Pre-registered, , Super 95 / Super Plus 98 / Super E10 95 / Super Plus E10 98]                                                                2\n",
       "[, Demonstration, , Super 95 / Super E10 95 (Particulate Filter)]                                                                                1\n",
       "[, New, , Regular/Benzine 91 / Super 95 / Super Plus 98 / Regular/Benzine E10 91 / Super E10 95 / Super Plus E10 98]                             1\n",
       "[, Demonstration, , Super 95 / Regular/Benzine 91 / Super E10 95 / Super Plus 98 / Super Plus E10 98 / Regular/Benzine E10 91]                   1\n",
       "[, Pre-registered, , Super 95 / Super Plus 98 / Super E10 95 / Super Plus E10 98 (Particulate Filter)]                                           1\n",
       "[, Used, , Super E10 95 / Regular/Benzine 91]                                                                                                    1\n",
       "[, Pre-registered, , Super Plus 98 / Super 95 / Super Plus E10 98]                                                                               1\n",
       "[, Pre-registered, , Super E10 95 (Particulate Filter)]                                                                                          1\n",
       "[, Pre-registered, , Super 95 / Super E10 95 / Regular/Benzine 91]                                                                               1\n",
       "[, Used, , Super 95 / Regular/Benzine E10 91]                                                                                                    1\n",
       "[, Pre-registered, , Others]                                                                                                                     1\n",
       "[, Pre-registered, , Super E10 95 / Regular/Benzine 91 / Regular/Benzine E10 91 / Super 95]                                                      1\n",
       "[, Demonstration, , Super 95 / Regular/Benzine 91 (Particulate Filter)]                                                                          1\n",
       "[, Used, , Super 95 / Super E10 95 / Super Plus 98]                                                                                              1\n",
       "[, Demonstration, , Super Plus 98 / Regular/Benzine 91]                                                                                          1\n",
       "[, Used, , Electric]                                                                                                                             1\n",
       "[, Demonstration, , Super 95 / Super Plus 98 / Super Plus E10 98 / Super E10 95]                                                                 1\n",
       "[, Employee's car, , Super E10 95 / Super 95 / Super Plus 98]                                                                                    1\n",
       "[, Demonstration, , Super 95 / Regular/Benzine 91 / Super Plus 98 / Regular/Benzine E10 91 / Super E10 95 / Super Plus E10 98]                   1\n",
       "[, Demonstration, , Super 95 / Super Plus 98 / Regular/Benzine E10 91 / Super Plus E10 98 / Super E10 95 / Regular/Benzine 91]                   1\n",
       "[, Employee's car, , Others]                                                                                                                     1\n",
       "[, Used, , Regular/Benzine 91 / Super 95 / Super E10 95 / Super Plus E10 98 / Super Plus 98 / Regular/Benzine E10 91]                            1\n",
       "[, Demonstration, , Gasoline (Particulate Filter)]                                                                                               1\n",
       "[, Used, , Super 95 / Super E10 95 / Super Plus E10 98]                                                                                          1\n",
       "[, Used, , Regular/Benzine 91 / Super 95 / Super Plus E10 98 / Super E10 95 / Regular/Benzine E10 91 / Super Plus 98]                            1\n",
       "[, Pre-registered, , Super E10 95 / Regular/Benzine 91]                                                                                          1\n",
       "[, New, , LPG]                                                                                                                                   1\n",
       "[, Used, , Super 95 / Super Plus 98 / Super Plus E10 98]                                                                                         1\n",
       "[, Used, , Regular/Benzine 91 / Super 95 / Super Plus 98]                                                                                        1\n",
       "[, Used, , Regular/Benzine 91 / Super 95 / Super E10 95 / Regular/Benzine E10 91]                                                                1\n",
       "[, Pre-registered, , Biogas]                                                                                                                     1\n",
       "[, Used, , Super E10 95 (Particulate Filter)]                                                                                                    1\n",
       "[, Pre-registered, , Regular/Benzine 91 / Super 95]                                                                                              1\n",
       "[, Used, , Regular/Benzine 91 / Super 95 / Super Plus 98 / Super Plus E10 98 / Super E10 95 / Regular/Benzine E10 91 (Particulate Filter)]       1\n",
       "[, New, , Super 95 / Biodiesel]                                                                                                                  1\n",
       "[, New, , CNG (Particulate Filter)]                                                                                                              1\n",
       "[, Pre-registered, , CNG (Particulate Filter)]                                                                                                   1\n",
       "[, Demonstration, , Super E10 95 (Particulate Filter)]                                                                                           1\n",
       "[, Used, , Super E10 95 / Regular/Benzine 91 / Super 95 / Super Plus 98 / Regular/Benzine E10 91 / Super Plus E10 98]                            1\n",
       "[, Used, , Others (Particulate Filter)]                                                                                                          1\n",
       "[, Used, , CNG (Particulate Filter)]                                                                                                             1\n",
       "[, Employee's car, , Super 95 / Super Plus 98 / Super Plus E10 98 / Super E10 95]                                                                1\n",
       "[, Used, , Regular/Benzine E10 91 / Regular/Benzine 91 / Super 95 / Super Plus 98 / Super E10 95 / Super Plus E10 98]                            1\n",
       "[, Used, , Super 95 / Regular/Benzine 91 / Super E10 95 / Super Plus E10 98 / Super Plus 98 / Regular/Benzine E10 91]                            1\n",
       "[, Used, , Regular/Benzine 91 / Super Plus 98 / Regular/Benzine E10 91 / Super 95 / Super E10 95 / Super Plus E10 98]                            1\n",
       "[, Used, , Domestic gas H]                                                                                                                       1\n",
       "[, Used, , Super Plus E10 98 / Super 95 / Super Plus 98 / Super E10 95]                                                                          1\n",
       "[, Used, , Super 95 / Regular/Benzine E10 91 / Super E10 95]                                                                                     1\n",
       "[, Pre-registered, , Regular/Benzine 91 / Super 95 / Regular/Benzine E10 91 / Super E10 95 / Super Plus 98 / Super Plus E10 98]                  1\n",
       "[, Employee's car, , Regular/Benzine 91 / Super 95 / Super E10 95]                                                                               1\n",
       "[, Used, , Regular/Benzine E10 91 / Super E10 95 / Super Plus E10 98 / Super Plus 98 / Super 95 / Regular/Benzine 91]                            1\n",
       "[, Used, , Super 95 / Regular/Benzine 91 / Super E10 95 / Super Plus E10 98 / Super Plus 98]                                                     1\n",
       "[, Employee's car, , Super E10 95 (Particulate Filter)]                                                                                          1\n",
       "[, New, , Super 95 / Regular/Benzine 91 / Super Plus 98 / Regular/Benzine E10 91 / Super Plus E10 98 / Super E10 95]                             1\n",
       "[, Pre-registered, , CNG]                                                                                                                        1\n",
       "[, Pre-registered, , Super Plus 98 / Super E10 95]                                                                                               1\n",
       "[, Demonstration, , Super Plus 98 / Super 95 / Super E10 95]                                                                                     1\n",
       "[, Pre-registered, , Regular/Benzine 91 / Super 95 / Regular/Benzine E10 91]                                                                     1\n",
       "[, New, , Super 95 / Regular/Benzine 91 / Super Plus 98 / Regular/Benzine E10 91 / Super E10 95 / Super Plus E10 98]                             1\n",
       "[, New, , Regular/Benzine 91 / Super 95 / Super Plus 98 / Regular/Benzine E10 91 / Super Plus E10 98 / Super E10 95]                             1\n",
       "[, Used, , Super 95 / Super Plus 98 / Super E10 95 / Super Plus E10 98 (Particulate Filter)]                                                     1\n",
       "[, Demonstration, , Super Plus 98]                                                                                                               1\n",
       "[, New, , Super Plus E10 98]                                                                                                                     1\n",
       "[, Demonstration, , Regular/Benzine E10 91]                                                                                                      1\n",
       "Name: Type, dtype: int64"
      ]
     },
     "execution_count": 148,
     "metadata": {},
     "output_type": "execute_result"
    }
   ],
   "source": [
    "df.Type.value_counts(dropna=False)"
   ]
  },
  {
   "cell_type": "code",
   "execution_count": 149,
   "metadata": {},
   "outputs": [
    {
     "data": {
      "text/plain": [
       "       15917\n",
       "NaN        2\n",
       "Name: Type, dtype: int64"
      ]
     },
     "execution_count": 149,
     "metadata": {},
     "output_type": "execute_result"
    }
   ],
   "source": [
    "df.Type.str[0].value_counts(dropna=False)"
   ]
  },
  {
   "cell_type": "code",
   "execution_count": 150,
   "metadata": {},
   "outputs": [
    {
     "data": {
      "text/plain": [
       "Used              11096\n",
       "New                1650\n",
       "Pre-registered     1364\n",
       "Employee's car     1011\n",
       "Demonstration       796\n",
       "NaN                   2\n",
       "Name: Type, dtype: int64"
      ]
     },
     "execution_count": 150,
     "metadata": {},
     "output_type": "execute_result"
    }
   ],
   "source": [
    "df.Type.str[1].value_counts(dropna=False)"
   ]
  },
  {
   "cell_type": "code",
   "execution_count": 151,
   "metadata": {},
   "outputs": [],
   "source": [
    "df[\"used_new\"] = df.Type.str[1]"
   ]
  },
  {
   "cell_type": "code",
   "execution_count": 152,
   "metadata": {},
   "outputs": [
    {
     "data": {
      "text/plain": [
       "       15917\n",
       "NaN        2\n",
       "Name: Type, dtype: int64"
      ]
     },
     "execution_count": 152,
     "metadata": {},
     "output_type": "execute_result"
    }
   ],
   "source": [
    "df.Type.str[2].value_counts(dropna=False)"
   ]
  },
  {
   "cell_type": "code",
   "execution_count": 153,
   "metadata": {},
   "outputs": [
    {
     "data": {
      "text/plain": [
       "Diesel (Particulate Filter)                                                                                                       4315\n",
       "Super 95                                                                                                                          3338\n",
       "Gasoline                                                                                                                          3175\n",
       "Diesel                                                                                                                            2982\n",
       "Super 95 / Regular/Benzine 91                                                                                                      424\n",
       "Regular/Benzine 91                                                                                                                 354\n",
       "Super E10 95                                                                                                                       331\n",
       "Super 95 (Particulate Filter)                                                                                                      268\n",
       "Super 95 / Super E10 95                                                                                                            131\n",
       "Regular/Benzine 91 (Particulate Filter)                                                                                            100\n",
       "Super 95 / Super Plus 98                                                                                                            85\n",
       "Gasoline (Particulate Filter)                                                                                                       77\n",
       "Super 95 / Super Plus 98 / Super E10 95 / Super Plus E10 98                                                                         40\n",
       "Super E10 95 / Super 95                                                                                                             38\n",
       "CNG                                                                                                                                 33\n",
       "Super 95 / Super E10 95 (Particulate Filter)                                                                                        25\n",
       "Super E10 95 / Super 95 / Super Plus 98 / Super Plus E10 98                                                                         19\n",
       "LPG                                                                                                                                 16\n",
       "Super 95 / Super Plus 98 (Particulate Filter)                                                                                       14\n",
       "Regular/Benzine 91 / Super 95 / Super Plus 98 / Regular/Benzine E10 91 / Super E10 95 / Super Plus E10 98                           13\n",
       "Regular/Benzine E10 91                                                                                                              11\n",
       "Liquid petroleum gas (LPG)                                                                                                          10\n",
       "Super 95 / Super Plus 98 / Super E10 95                                                                                              8\n",
       "Regular/Benzine 91 / Regular/Benzine E10 91                                                                                          7\n",
       "Super 95 / Regular/Benzine 91 / Super Plus 98 / Regular/Benzine E10 91 / Super E10 95 / Super Plus E10 98                            7\n",
       "Super Plus 98                                                                                                                        7\n",
       "Super E10 95 (Particulate Filter)                                                                                                    7\n",
       "Others                                                                                                                               5\n",
       "Super 95 / Super Plus 98 / Super Plus E10 98 / Super E10 95                                                                          5\n",
       "Regular/Benzine 91 / Super 95 / Super Plus 98 / Regular/Benzine E10 91 / Super Plus E10 98 / Super E10 95                            4\n",
       "Super E10 95 / Super Plus E10 98                                                                                                     4\n",
       "Super 95 / Super Plus 98 / Super E10 95 / Super Plus E10 98 (Particulate Filter)                                                     4\n",
       "Super 95 / Super E10 95 / Super Plus E10 98 / Super Plus 98                                                                          4\n",
       "Electric/Gasoline                                                                                                                    4\n",
       "Super E10 95 / Super 95 / Super Plus 98 / Super Plus E10 98 (Particulate Filter)                                                     3\n",
       "Super E10 95 / Super 95 / Super Plus 98                                                                                              3\n",
       "CNG (Particulate Filter)                                                                                                             3\n",
       "Regular/Benzine 91 / Super 95 / Super Plus 98 / Super Plus E10 98 / Super E10 95 / Regular/Benzine E10 91                            2\n",
       "Super 95 / Regular/Benzine 91 / Super Plus 98                                                                                        2\n",
       "NaN                                                                                                                                  2\n",
       "Super E10 95 / Regular/Benzine 91                                                                                                    2\n",
       "Regular/Benzine 91 / Super 95 / Super Plus E10 98 / Super E10 95 / Regular/Benzine E10 91 / Super Plus 98                            1\n",
       "Regular/Benzine 91 / Super 95 / Super E10 95 / Regular/Benzine E10 91                                                                1\n",
       "Super 95 / Regular/Benzine 91 / Super E10 95 / Super Plus 98 / Super Plus E10 98 / Regular/Benzine E10 91                            1\n",
       "Super E10 95 / Regular/Benzine 91 / Regular/Benzine E10 91 / Super 95                                                                1\n",
       "Super 95 / Regular/Benzine E10 91                                                                                                    1\n",
       "Electric                                                                                                                             1\n",
       "Super 95 / Super E10 95 / Super Plus E10 98                                                                                          1\n",
       "Regular/Benzine 91 / Super 95 / Super E10 95 / Super Plus E10 98 / Super Plus 98 / Regular/Benzine E10 91                            1\n",
       "Super 95 / Super Plus 98 / Super Plus E10 98                                                                                         1\n",
       "Regular/Benzine 91 / Super 95 / Super E10 95                                                                                         1\n",
       "Super 95 / Super Plus 98 / Regular/Benzine E10 91 / Super Plus E10 98 / Super E10 95 / Regular/Benzine 91                            1\n",
       "Super Plus 98 / Regular/Benzine 91                                                                                                   1\n",
       "Super 95 / Regular/Benzine 91 (Particulate Filter)                                                                                   1\n",
       "Super 95 / Super E10 95 / Regular/Benzine 91                                                                                         1\n",
       "Super 95 / Super E10 95 / Super Plus 98                                                                                              1\n",
       "Super 95 / Regular/Benzine E10 91 / Super E10 95                                                                                     1\n",
       "Regular/Benzine 91 / Super 95 / Regular/Benzine E10 91 / Super E10 95 / Super Plus 98 / Super Plus E10 98                            1\n",
       "Regular/Benzine E10 91 / Super E10 95 / Super Plus E10 98 / Super Plus 98 / Super 95 / Regular/Benzine 91                            1\n",
       "Super 95 / Regular/Benzine 91 / Super E10 95 / Super Plus E10 98 / Super Plus 98                                                     1\n",
       "Others (Particulate Filter)                                                                                                          1\n",
       "Biogas                                                                                                                               1\n",
       "Super 95 / Biodiesel                                                                                                                 1\n",
       "Regular/Benzine 91 / Super 95 / Super Plus 98 / Super Plus E10 98 / Super E10 95 / Regular/Benzine E10 91 (Particulate Filter)       1\n",
       "Regular/Benzine 91 / Super 95 / Super Plus 98                                                                                        1\n",
       "Regular/Benzine 91 / Super 95                                                                                                        1\n",
       "Regular/Benzine E10 91 / Regular/Benzine 91 / Super 95 / Super Plus 98 / Super E10 95 / Super Plus E10 98                            1\n",
       "Domestic gas H                                                                                                                       1\n",
       "Super E10 95 / Regular/Benzine 91 / Super 95 / Super Plus 98 / Regular/Benzine E10 91 / Super Plus E10 98                            1\n",
       "Super Plus E10 98 / Super 95 / Super Plus 98 / Super E10 95                                                                          1\n",
       "Super 95 / Regular/Benzine 91 / Super E10 95 / Super Plus E10 98 / Super Plus 98 / Regular/Benzine E10 91                            1\n",
       "Super Plus 98 / Super 95 / Super E10 95                                                                                              1\n",
       "Super Plus E10 98                                                                                                                    1\n",
       "Regular/Benzine 91 / Super 95 / Regular/Benzine E10 91                                                                               1\n",
       "Super Plus 98 / Super E10 95                                                                                                         1\n",
       "Super 95 / Regular/Benzine 91 / Super Plus 98 / Regular/Benzine E10 91 / Super Plus E10 98 / Super E10 95                            1\n",
       "Regular/Benzine 91 / Super Plus 98 / Regular/Benzine E10 91 / Super 95 / Super E10 95 / Super Plus E10 98                            1\n",
       "Super Plus 98 / Super 95 / Super Plus E10 98                                                                                         1\n",
       "Name: Type, dtype: int64"
      ]
     },
     "execution_count": 153,
     "metadata": {},
     "output_type": "execute_result"
    }
   ],
   "source": [
    "df.Type.str[3].value_counts(dropna=False)"
   ]
  },
  {
   "cell_type": "markdown",
   "metadata": {},
   "source": [
    "## fuel_type column is generated. "
   ]
  },
  {
   "cell_type": "code",
   "execution_count": 154,
   "metadata": {
    "scrolled": true
   },
   "outputs": [
    {
     "data": {
      "text/plain": [
       "Diesel (Particulate Filter)                                                                                                       4315\n",
       "Super 95                                                                                                                          3338\n",
       "Gasoline                                                                                                                          3175\n",
       "Diesel                                                                                                                            2982\n",
       "Super 95 / Regular/Benzine 91                                                                                                      424\n",
       "Regular/Benzine 91                                                                                                                 354\n",
       "Super E10 95                                                                                                                       331\n",
       "Super 95 (Particulate Filter)                                                                                                      268\n",
       "Super 95 / Super E10 95                                                                                                            131\n",
       "Regular/Benzine 91 (Particulate Filter)                                                                                            100\n",
       "Super 95 / Super Plus 98                                                                                                            85\n",
       "Gasoline (Particulate Filter)                                                                                                       77\n",
       "Super 95 / Super Plus 98 / Super E10 95 / Super Plus E10 98                                                                         40\n",
       "Super E10 95 / Super 95                                                                                                             38\n",
       "CNG                                                                                                                                 33\n",
       "Super 95 / Super E10 95 (Particulate Filter)                                                                                        25\n",
       "Super E10 95 / Super 95 / Super Plus 98 / Super Plus E10 98                                                                         19\n",
       "LPG                                                                                                                                 16\n",
       "Super 95 / Super Plus 98 (Particulate Filter)                                                                                       14\n",
       "Regular/Benzine 91 / Super 95 / Super Plus 98 / Regular/Benzine E10 91 / Super E10 95 / Super Plus E10 98                           13\n",
       "Regular/Benzine E10 91                                                                                                              11\n",
       "Liquid petroleum gas (LPG)                                                                                                          10\n",
       "Super 95 / Super Plus 98 / Super E10 95                                                                                              8\n",
       "Regular/Benzine 91 / Regular/Benzine E10 91                                                                                          7\n",
       "Super 95 / Regular/Benzine 91 / Super Plus 98 / Regular/Benzine E10 91 / Super E10 95 / Super Plus E10 98                            7\n",
       "Super Plus 98                                                                                                                        7\n",
       "Super E10 95 (Particulate Filter)                                                                                                    7\n",
       "Others                                                                                                                               5\n",
       "Super 95 / Super Plus 98 / Super Plus E10 98 / Super E10 95                                                                          5\n",
       "Regular/Benzine 91 / Super 95 / Super Plus 98 / Regular/Benzine E10 91 / Super Plus E10 98 / Super E10 95                            4\n",
       "Super E10 95 / Super Plus E10 98                                                                                                     4\n",
       "Super 95 / Super Plus 98 / Super E10 95 / Super Plus E10 98 (Particulate Filter)                                                     4\n",
       "Super 95 / Super E10 95 / Super Plus E10 98 / Super Plus 98                                                                          4\n",
       "Electric/Gasoline                                                                                                                    4\n",
       "Super E10 95 / Super 95 / Super Plus 98 / Super Plus E10 98 (Particulate Filter)                                                     3\n",
       "Super E10 95 / Super 95 / Super Plus 98                                                                                              3\n",
       "CNG (Particulate Filter)                                                                                                             3\n",
       "Regular/Benzine 91 / Super 95 / Super Plus 98 / Super Plus E10 98 / Super E10 95 / Regular/Benzine E10 91                            2\n",
       "Super 95 / Regular/Benzine 91 / Super Plus 98                                                                                        2\n",
       "NaN                                                                                                                                  2\n",
       "Super E10 95 / Regular/Benzine 91                                                                                                    2\n",
       "Regular/Benzine 91 / Super 95 / Super Plus E10 98 / Super E10 95 / Regular/Benzine E10 91 / Super Plus 98                            1\n",
       "Regular/Benzine 91 / Super 95 / Super E10 95 / Regular/Benzine E10 91                                                                1\n",
       "Super 95 / Regular/Benzine 91 / Super E10 95 / Super Plus 98 / Super Plus E10 98 / Regular/Benzine E10 91                            1\n",
       "Super E10 95 / Regular/Benzine 91 / Regular/Benzine E10 91 / Super 95                                                                1\n",
       "Super 95 / Regular/Benzine E10 91                                                                                                    1\n",
       "Electric                                                                                                                             1\n",
       "Super 95 / Super E10 95 / Super Plus E10 98                                                                                          1\n",
       "Regular/Benzine 91 / Super 95 / Super E10 95 / Super Plus E10 98 / Super Plus 98 / Regular/Benzine E10 91                            1\n",
       "Super 95 / Super Plus 98 / Super Plus E10 98                                                                                         1\n",
       "Regular/Benzine 91 / Super 95 / Super E10 95                                                                                         1\n",
       "Super 95 / Super Plus 98 / Regular/Benzine E10 91 / Super Plus E10 98 / Super E10 95 / Regular/Benzine 91                            1\n",
       "Super Plus 98 / Regular/Benzine 91                                                                                                   1\n",
       "Super 95 / Regular/Benzine 91 (Particulate Filter)                                                                                   1\n",
       "Super 95 / Super E10 95 / Regular/Benzine 91                                                                                         1\n",
       "Super 95 / Super E10 95 / Super Plus 98                                                                                              1\n",
       "Super 95 / Regular/Benzine E10 91 / Super E10 95                                                                                     1\n",
       "Regular/Benzine 91 / Super 95 / Regular/Benzine E10 91 / Super E10 95 / Super Plus 98 / Super Plus E10 98                            1\n",
       "Regular/Benzine E10 91 / Super E10 95 / Super Plus E10 98 / Super Plus 98 / Super 95 / Regular/Benzine 91                            1\n",
       "Super 95 / Regular/Benzine 91 / Super E10 95 / Super Plus E10 98 / Super Plus 98                                                     1\n",
       "Others (Particulate Filter)                                                                                                          1\n",
       "Biogas                                                                                                                               1\n",
       "Super 95 / Biodiesel                                                                                                                 1\n",
       "Regular/Benzine 91 / Super 95 / Super Plus 98 / Super Plus E10 98 / Super E10 95 / Regular/Benzine E10 91 (Particulate Filter)       1\n",
       "Regular/Benzine 91 / Super 95 / Super Plus 98                                                                                        1\n",
       "Regular/Benzine 91 / Super 95                                                                                                        1\n",
       "Regular/Benzine E10 91 / Regular/Benzine 91 / Super 95 / Super Plus 98 / Super E10 95 / Super Plus E10 98                            1\n",
       "Domestic gas H                                                                                                                       1\n",
       "Super E10 95 / Regular/Benzine 91 / Super 95 / Super Plus 98 / Regular/Benzine E10 91 / Super Plus E10 98                            1\n",
       "Super Plus E10 98 / Super 95 / Super Plus 98 / Super E10 95                                                                          1\n",
       "Super 95 / Regular/Benzine 91 / Super E10 95 / Super Plus E10 98 / Super Plus 98 / Regular/Benzine E10 91                            1\n",
       "Super Plus 98 / Super 95 / Super E10 95                                                                                              1\n",
       "Super Plus E10 98                                                                                                                    1\n",
       "Regular/Benzine 91 / Super 95 / Regular/Benzine E10 91                                                                               1\n",
       "Super Plus 98 / Super E10 95                                                                                                         1\n",
       "Super 95 / Regular/Benzine 91 / Super Plus 98 / Regular/Benzine E10 91 / Super Plus E10 98 / Super E10 95                            1\n",
       "Regular/Benzine 91 / Super Plus 98 / Regular/Benzine E10 91 / Super 95 / Super E10 95 / Super Plus E10 98                            1\n",
       "Super Plus 98 / Super 95 / Super Plus E10 98                                                                                         1\n",
       "Name: fuel_type, dtype: int64"
      ]
     },
     "execution_count": 154,
     "metadata": {},
     "output_type": "execute_result"
    }
   ],
   "source": [
    "df[\"fuel_type\"] = df.Type.str[3]\n",
    "df.fuel_type.value_counts(dropna=False)"
   ]
  },
  {
   "cell_type": "code",
   "execution_count": 155,
   "metadata": {},
   "outputs": [
    {
     "data": {
      "text/html": [
       "<div>\n",
       "<style scoped>\n",
       "    .dataframe tbody tr th:only-of-type {\n",
       "        vertical-align: middle;\n",
       "    }\n",
       "\n",
       "    .dataframe tbody tr th {\n",
       "        vertical-align: top;\n",
       "    }\n",
       "\n",
       "    .dataframe thead th {\n",
       "        text-align: right;\n",
       "    }\n",
       "</style>\n",
       "<table border=\"1\" class=\"dataframe\">\n",
       "  <thead>\n",
       "    <tr style=\"text-align: right;\">\n",
       "      <th></th>\n",
       "      <th>Fuel</th>\n",
       "      <th>fuel_type</th>\n",
       "    </tr>\n",
       "  </thead>\n",
       "  <tbody>\n",
       "    <tr>\n",
       "      <th>13868</th>\n",
       "      <td>[\\n, Super 95, \\n]</td>\n",
       "      <td>Super 95</td>\n",
       "    </tr>\n",
       "    <tr>\n",
       "      <th>14360</th>\n",
       "      <td>[\\n, Super 95, \\n]</td>\n",
       "      <td>Super 95</td>\n",
       "    </tr>\n",
       "    <tr>\n",
       "      <th>12450</th>\n",
       "      <td>[\\n, Diesel (Particulate Filter), \\n]</td>\n",
       "      <td>Diesel (Particulate Filter)</td>\n",
       "    </tr>\n",
       "    <tr>\n",
       "      <th>2519</th>\n",
       "      <td>[\\n, Gasoline, \\n]</td>\n",
       "      <td>Gasoline</td>\n",
       "    </tr>\n",
       "    <tr>\n",
       "      <th>9923</th>\n",
       "      <td>[\\n, Regular/Benzine 91 / Super 95 / Super Plus 98 / Regular/Benzine E10 91 / Super Plus E10 98 / Super E10 95, \\n]</td>\n",
       "      <td>Regular/Benzine 91 / Super 95 / Super Plus 98 / Regular/Benzine E10 91 / Super Plus E10 98 / Super E10 95</td>\n",
       "    </tr>\n",
       "    <tr>\n",
       "      <th>12219</th>\n",
       "      <td>[\\n, Super E10 95, \\n]</td>\n",
       "      <td>Super E10 95</td>\n",
       "    </tr>\n",
       "    <tr>\n",
       "      <th>11499</th>\n",
       "      <td>[\\n, Diesel (Particulate Filter), \\n]</td>\n",
       "      <td>Diesel (Particulate Filter)</td>\n",
       "    </tr>\n",
       "    <tr>\n",
       "      <th>14232</th>\n",
       "      <td>[\\n, Diesel (Particulate Filter), \\n]</td>\n",
       "      <td>Diesel (Particulate Filter)</td>\n",
       "    </tr>\n",
       "    <tr>\n",
       "      <th>11251</th>\n",
       "      <td>[\\n, Super 95, \\n]</td>\n",
       "      <td>Super 95</td>\n",
       "    </tr>\n",
       "    <tr>\n",
       "      <th>7940</th>\n",
       "      <td>[\\n, Diesel, \\n]</td>\n",
       "      <td>Diesel</td>\n",
       "    </tr>\n",
       "    <tr>\n",
       "      <th>8878</th>\n",
       "      <td>[\\n, Diesel, \\n]</td>\n",
       "      <td>Diesel</td>\n",
       "    </tr>\n",
       "    <tr>\n",
       "      <th>12691</th>\n",
       "      <td>[\\n, Diesel, \\n]</td>\n",
       "      <td>Diesel</td>\n",
       "    </tr>\n",
       "    <tr>\n",
       "      <th>9826</th>\n",
       "      <td>[\\n, Gasoline, \\n]</td>\n",
       "      <td>Gasoline</td>\n",
       "    </tr>\n",
       "    <tr>\n",
       "      <th>11396</th>\n",
       "      <td>[\\n, Super 95, \\n]</td>\n",
       "      <td>Super 95</td>\n",
       "    </tr>\n",
       "    <tr>\n",
       "      <th>13094</th>\n",
       "      <td>[\\n, Gasoline, \\n]</td>\n",
       "      <td>Gasoline</td>\n",
       "    </tr>\n",
       "    <tr>\n",
       "      <th>5253</th>\n",
       "      <td>[\\n, Gasoline (Particulate Filter), \\n]</td>\n",
       "      <td>Gasoline (Particulate Filter)</td>\n",
       "    </tr>\n",
       "    <tr>\n",
       "      <th>15156</th>\n",
       "      <td>[\\n, Diesel (Particulate Filter), \\n]</td>\n",
       "      <td>Diesel (Particulate Filter)</td>\n",
       "    </tr>\n",
       "    <tr>\n",
       "      <th>10106</th>\n",
       "      <td>[\\n, Super 95, \\n]</td>\n",
       "      <td>Super 95</td>\n",
       "    </tr>\n",
       "    <tr>\n",
       "      <th>447</th>\n",
       "      <td>[\\n, Gasoline, \\n]</td>\n",
       "      <td>Gasoline</td>\n",
       "    </tr>\n",
       "    <tr>\n",
       "      <th>12696</th>\n",
       "      <td>[\\n, Super E10 95, \\n]</td>\n",
       "      <td>Super E10 95</td>\n",
       "    </tr>\n",
       "    <tr>\n",
       "      <th>8656</th>\n",
       "      <td>[\\n, Diesel, \\n]</td>\n",
       "      <td>Diesel</td>\n",
       "    </tr>\n",
       "    <tr>\n",
       "      <th>7572</th>\n",
       "      <td>[\\n, Super 95, \\n]</td>\n",
       "      <td>Super 95</td>\n",
       "    </tr>\n",
       "    <tr>\n",
       "      <th>6622</th>\n",
       "      <td>[\\n, Diesel (Particulate Filter), \\n]</td>\n",
       "      <td>Diesel (Particulate Filter)</td>\n",
       "    </tr>\n",
       "    <tr>\n",
       "      <th>5915</th>\n",
       "      <td>[\\n, Diesel (Particulate Filter), \\n]</td>\n",
       "      <td>Diesel (Particulate Filter)</td>\n",
       "    </tr>\n",
       "    <tr>\n",
       "      <th>13210</th>\n",
       "      <td>[\\n, Diesel (Particulate Filter), \\n]</td>\n",
       "      <td>Diesel (Particulate Filter)</td>\n",
       "    </tr>\n",
       "    <tr>\n",
       "      <th>1728</th>\n",
       "      <td>[\\n, Diesel (Particulate Filter), \\n]</td>\n",
       "      <td>Diesel (Particulate Filter)</td>\n",
       "    </tr>\n",
       "    <tr>\n",
       "      <th>13695</th>\n",
       "      <td>[\\n, Diesel, \\n]</td>\n",
       "      <td>Diesel</td>\n",
       "    </tr>\n",
       "    <tr>\n",
       "      <th>3312</th>\n",
       "      <td>[\\n, Gasoline, \\n]</td>\n",
       "      <td>Gasoline</td>\n",
       "    </tr>\n",
       "    <tr>\n",
       "      <th>1716</th>\n",
       "      <td>[\\n, Diesel (Particulate Filter), \\n]</td>\n",
       "      <td>Diesel (Particulate Filter)</td>\n",
       "    </tr>\n",
       "    <tr>\n",
       "      <th>9478</th>\n",
       "      <td>[\\n, Super 95, \\n]</td>\n",
       "      <td>Super 95</td>\n",
       "    </tr>\n",
       "    <tr>\n",
       "      <th>12813</th>\n",
       "      <td>[\\n, Diesel, \\n]</td>\n",
       "      <td>Diesel</td>\n",
       "    </tr>\n",
       "    <tr>\n",
       "      <th>12957</th>\n",
       "      <td>[\\n, Diesel, \\n]</td>\n",
       "      <td>Diesel</td>\n",
       "    </tr>\n",
       "    <tr>\n",
       "      <th>2472</th>\n",
       "      <td>[\\n, Super 95, \\n]</td>\n",
       "      <td>Super 95</td>\n",
       "    </tr>\n",
       "    <tr>\n",
       "      <th>15910</th>\n",
       "      <td>[\\n, Regular/Benzine E10 91, \\n]</td>\n",
       "      <td>Regular/Benzine E10 91</td>\n",
       "    </tr>\n",
       "    <tr>\n",
       "      <th>11806</th>\n",
       "      <td>[\\n, Diesel, \\n]</td>\n",
       "      <td>Diesel</td>\n",
       "    </tr>\n",
       "    <tr>\n",
       "      <th>646</th>\n",
       "      <td>[\\n, Diesel (Particulate Filter), \\n]</td>\n",
       "      <td>Diesel (Particulate Filter)</td>\n",
       "    </tr>\n",
       "    <tr>\n",
       "      <th>11141</th>\n",
       "      <td>[\\n, Diesel, \\n]</td>\n",
       "      <td>Diesel</td>\n",
       "    </tr>\n",
       "    <tr>\n",
       "      <th>7869</th>\n",
       "      <td>[\\n, Super 95, \\n]</td>\n",
       "      <td>Super 95</td>\n",
       "    </tr>\n",
       "    <tr>\n",
       "      <th>10670</th>\n",
       "      <td>[\\n, Diesel (Particulate Filter), \\n]</td>\n",
       "      <td>Diesel (Particulate Filter)</td>\n",
       "    </tr>\n",
       "    <tr>\n",
       "      <th>12635</th>\n",
       "      <td>[\\n, Diesel, \\n]</td>\n",
       "      <td>Diesel</td>\n",
       "    </tr>\n",
       "    <tr>\n",
       "      <th>1780</th>\n",
       "      <td>[\\n, Diesel (Particulate Filter), \\n]</td>\n",
       "      <td>Diesel (Particulate Filter)</td>\n",
       "    </tr>\n",
       "    <tr>\n",
       "      <th>12189</th>\n",
       "      <td>[\\n, Diesel (Particulate Filter), \\n]</td>\n",
       "      <td>Diesel (Particulate Filter)</td>\n",
       "    </tr>\n",
       "    <tr>\n",
       "      <th>1530</th>\n",
       "      <td>[\\n, Gasoline, \\n]</td>\n",
       "      <td>Gasoline</td>\n",
       "    </tr>\n",
       "    <tr>\n",
       "      <th>14050</th>\n",
       "      <td>[\\n, Diesel, \\n]</td>\n",
       "      <td>Diesel</td>\n",
       "    </tr>\n",
       "    <tr>\n",
       "      <th>12186</th>\n",
       "      <td>[\\n, Super E10 95, \\n]</td>\n",
       "      <td>Super E10 95</td>\n",
       "    </tr>\n",
       "    <tr>\n",
       "      <th>12301</th>\n",
       "      <td>[\\n, Super 95, \\n]</td>\n",
       "      <td>Super 95</td>\n",
       "    </tr>\n",
       "    <tr>\n",
       "      <th>13651</th>\n",
       "      <td>[\\n, Gasoline, \\n]</td>\n",
       "      <td>Gasoline</td>\n",
       "    </tr>\n",
       "    <tr>\n",
       "      <th>10292</th>\n",
       "      <td>[\\n, Super 95, \\n]</td>\n",
       "      <td>Super 95</td>\n",
       "    </tr>\n",
       "    <tr>\n",
       "      <th>12480</th>\n",
       "      <td>[\\n, Diesel (Particulate Filter), \\n]</td>\n",
       "      <td>Diesel (Particulate Filter)</td>\n",
       "    </tr>\n",
       "    <tr>\n",
       "      <th>4301</th>\n",
       "      <td>[\\n, Gasoline, \\n]</td>\n",
       "      <td>Gasoline</td>\n",
       "    </tr>\n",
       "    <tr>\n",
       "      <th>13104</th>\n",
       "      <td>[\\n, Super 95, \\n]</td>\n",
       "      <td>Super 95</td>\n",
       "    </tr>\n",
       "    <tr>\n",
       "      <th>2294</th>\n",
       "      <td>[\\n, Gasoline, \\n]</td>\n",
       "      <td>Gasoline</td>\n",
       "    </tr>\n",
       "    <tr>\n",
       "      <th>4033</th>\n",
       "      <td>[\\n, Diesel (Particulate Filter), \\n]</td>\n",
       "      <td>Diesel (Particulate Filter)</td>\n",
       "    </tr>\n",
       "    <tr>\n",
       "      <th>1227</th>\n",
       "      <td>[\\n, Super 95, \\n]</td>\n",
       "      <td>Super 95</td>\n",
       "    </tr>\n",
       "    <tr>\n",
       "      <th>11712</th>\n",
       "      <td>[\\n, Diesel (Particulate Filter), \\n]</td>\n",
       "      <td>Diesel (Particulate Filter)</td>\n",
       "    </tr>\n",
       "    <tr>\n",
       "      <th>6760</th>\n",
       "      <td>[\\n, Diesel (Particulate Filter), \\n]</td>\n",
       "      <td>Diesel (Particulate Filter)</td>\n",
       "    </tr>\n",
       "    <tr>\n",
       "      <th>4726</th>\n",
       "      <td>[\\n, Diesel, \\n]</td>\n",
       "      <td>Diesel</td>\n",
       "    </tr>\n",
       "    <tr>\n",
       "      <th>226</th>\n",
       "      <td>[\\n, Diesel (Particulate Filter), \\n]</td>\n",
       "      <td>Diesel (Particulate Filter)</td>\n",
       "    </tr>\n",
       "    <tr>\n",
       "      <th>771</th>\n",
       "      <td>[\\n, Gasoline, \\n]</td>\n",
       "      <td>Gasoline</td>\n",
       "    </tr>\n",
       "    <tr>\n",
       "      <th>14472</th>\n",
       "      <td>[\\n, Super 95, \\n]</td>\n",
       "      <td>Super 95</td>\n",
       "    </tr>\n",
       "    <tr>\n",
       "      <th>9935</th>\n",
       "      <td>[\\n, Super 95, \\n]</td>\n",
       "      <td>Super 95</td>\n",
       "    </tr>\n",
       "    <tr>\n",
       "      <th>9880</th>\n",
       "      <td>[\\n, Super E10 95, \\n]</td>\n",
       "      <td>Super E10 95</td>\n",
       "    </tr>\n",
       "    <tr>\n",
       "      <th>12363</th>\n",
       "      <td>[\\n, Super E10 95, \\n]</td>\n",
       "      <td>Super E10 95</td>\n",
       "    </tr>\n",
       "    <tr>\n",
       "      <th>307</th>\n",
       "      <td>[\\n, Diesel (Particulate Filter), \\n]</td>\n",
       "      <td>Diesel (Particulate Filter)</td>\n",
       "    </tr>\n",
       "    <tr>\n",
       "      <th>10699</th>\n",
       "      <td>[\\n, Diesel (Particulate Filter), \\n]</td>\n",
       "      <td>Diesel (Particulate Filter)</td>\n",
       "    </tr>\n",
       "    <tr>\n",
       "      <th>3653</th>\n",
       "      <td>[\\n, Diesel, \\n]</td>\n",
       "      <td>Diesel</td>\n",
       "    </tr>\n",
       "    <tr>\n",
       "      <th>308</th>\n",
       "      <td>[\\n, Diesel (Particulate Filter), \\n]</td>\n",
       "      <td>Diesel (Particulate Filter)</td>\n",
       "    </tr>\n",
       "    <tr>\n",
       "      <th>8846</th>\n",
       "      <td>[\\n, Super 95, \\n]</td>\n",
       "      <td>Super 95</td>\n",
       "    </tr>\n",
       "    <tr>\n",
       "      <th>161</th>\n",
       "      <td>[\\n, Super 95, \\n]</td>\n",
       "      <td>Super 95</td>\n",
       "    </tr>\n",
       "    <tr>\n",
       "      <th>3525</th>\n",
       "      <td>[\\n, Diesel, \\n]</td>\n",
       "      <td>Diesel</td>\n",
       "    </tr>\n",
       "    <tr>\n",
       "      <th>11157</th>\n",
       "      <td>[\\n, Diesel, \\n]</td>\n",
       "      <td>Diesel</td>\n",
       "    </tr>\n",
       "    <tr>\n",
       "      <th>390</th>\n",
       "      <td>[\\n, Gasoline, \\n]</td>\n",
       "      <td>Gasoline</td>\n",
       "    </tr>\n",
       "    <tr>\n",
       "      <th>434</th>\n",
       "      <td>[\\n, Diesel (Particulate Filter), \\n]</td>\n",
       "      <td>Diesel (Particulate Filter)</td>\n",
       "    </tr>\n",
       "    <tr>\n",
       "      <th>12534</th>\n",
       "      <td>[\\n, Diesel (Particulate Filter), \\n]</td>\n",
       "      <td>Diesel (Particulate Filter)</td>\n",
       "    </tr>\n",
       "    <tr>\n",
       "      <th>13139</th>\n",
       "      <td>[\\n, Regular/Benzine 91, \\n]</td>\n",
       "      <td>Regular/Benzine 91</td>\n",
       "    </tr>\n",
       "    <tr>\n",
       "      <th>4789</th>\n",
       "      <td>[\\n, Diesel, \\n]</td>\n",
       "      <td>Diesel</td>\n",
       "    </tr>\n",
       "    <tr>\n",
       "      <th>15629</th>\n",
       "      <td>[\\n, Diesel, \\n]</td>\n",
       "      <td>Diesel</td>\n",
       "    </tr>\n",
       "    <tr>\n",
       "      <th>4901</th>\n",
       "      <td>[\\n, Diesel, \\n]</td>\n",
       "      <td>Diesel</td>\n",
       "    </tr>\n",
       "    <tr>\n",
       "      <th>6299</th>\n",
       "      <td>[\\n, Diesel (Particulate Filter), \\n]</td>\n",
       "      <td>Diesel (Particulate Filter)</td>\n",
       "    </tr>\n",
       "    <tr>\n",
       "      <th>3539</th>\n",
       "      <td>[\\n, Diesel (Particulate Filter), \\n]</td>\n",
       "      <td>Diesel (Particulate Filter)</td>\n",
       "    </tr>\n",
       "    <tr>\n",
       "      <th>2565</th>\n",
       "      <td>[\\n, Gasoline, \\n]</td>\n",
       "      <td>Gasoline</td>\n",
       "    </tr>\n",
       "    <tr>\n",
       "      <th>762</th>\n",
       "      <td>[\\n, Diesel, \\n]</td>\n",
       "      <td>Diesel</td>\n",
       "    </tr>\n",
       "    <tr>\n",
       "      <th>7354</th>\n",
       "      <td>[\\n, Gasoline, \\n]</td>\n",
       "      <td>Gasoline</td>\n",
       "    </tr>\n",
       "    <tr>\n",
       "      <th>7305</th>\n",
       "      <td>[\\n, Super 95, \\n]</td>\n",
       "      <td>Super 95</td>\n",
       "    </tr>\n",
       "    <tr>\n",
       "      <th>14475</th>\n",
       "      <td>[\\n, Gasoline, \\n]</td>\n",
       "      <td>Gasoline</td>\n",
       "    </tr>\n",
       "    <tr>\n",
       "      <th>14048</th>\n",
       "      <td>[\\n, Diesel, \\n]</td>\n",
       "      <td>Diesel</td>\n",
       "    </tr>\n",
       "    <tr>\n",
       "      <th>1532</th>\n",
       "      <td>[\\n, Diesel (Particulate Filter), \\n]</td>\n",
       "      <td>Diesel (Particulate Filter)</td>\n",
       "    </tr>\n",
       "    <tr>\n",
       "      <th>871</th>\n",
       "      <td>[\\n, Gasoline, \\n]</td>\n",
       "      <td>Gasoline</td>\n",
       "    </tr>\n",
       "    <tr>\n",
       "      <th>13909</th>\n",
       "      <td>[\\n, Gasoline, \\n]</td>\n",
       "      <td>Gasoline</td>\n",
       "    </tr>\n",
       "    <tr>\n",
       "      <th>633</th>\n",
       "      <td>[\\n, Diesel (Particulate Filter), \\n]</td>\n",
       "      <td>Diesel (Particulate Filter)</td>\n",
       "    </tr>\n",
       "    <tr>\n",
       "      <th>10299</th>\n",
       "      <td>[\\n, Gasoline, \\n]</td>\n",
       "      <td>Gasoline</td>\n",
       "    </tr>\n",
       "    <tr>\n",
       "      <th>1704</th>\n",
       "      <td>[\\n, Diesel (Particulate Filter), \\n]</td>\n",
       "      <td>Diesel (Particulate Filter)</td>\n",
       "    </tr>\n",
       "    <tr>\n",
       "      <th>14318</th>\n",
       "      <td>[\\n, Super 95, \\n]</td>\n",
       "      <td>Super 95</td>\n",
       "    </tr>\n",
       "    <tr>\n",
       "      <th>2690</th>\n",
       "      <td>[\\n, Diesel, \\n]</td>\n",
       "      <td>Diesel</td>\n",
       "    </tr>\n",
       "    <tr>\n",
       "      <th>4126</th>\n",
       "      <td>[\\n, Diesel (Particulate Filter), \\n]</td>\n",
       "      <td>Diesel (Particulate Filter)</td>\n",
       "    </tr>\n",
       "    <tr>\n",
       "      <th>3236</th>\n",
       "      <td>[\\n, Regular/Benzine 91, \\n]</td>\n",
       "      <td>Regular/Benzine 91</td>\n",
       "    </tr>\n",
       "    <tr>\n",
       "      <th>7568</th>\n",
       "      <td>[\\n, Super 95, \\n]</td>\n",
       "      <td>Super 95</td>\n",
       "    </tr>\n",
       "    <tr>\n",
       "      <th>1974</th>\n",
       "      <td>[\\n, Gasoline, \\n]</td>\n",
       "      <td>Gasoline</td>\n",
       "    </tr>\n",
       "    <tr>\n",
       "      <th>6766</th>\n",
       "      <td>[\\n, Diesel (Particulate Filter), \\n]</td>\n",
       "      <td>Diesel (Particulate Filter)</td>\n",
       "    </tr>\n",
       "    <tr>\n",
       "      <th>9892</th>\n",
       "      <td>[\\n, Super 95, \\n]</td>\n",
       "      <td>Super 95</td>\n",
       "    </tr>\n",
       "  </tbody>\n",
       "</table>\n",
       "</div>"
      ],
      "text/plain": [
       "                                                                                                                      Fuel                                                                                                  fuel_type\n",
       "13868                                                                                                   [\\n, Super 95, \\n]                                                                                                   Super 95\n",
       "14360                                                                                                   [\\n, Super 95, \\n]                                                                                                   Super 95\n",
       "12450                                                                                [\\n, Diesel (Particulate Filter), \\n]                                                                                Diesel (Particulate Filter)\n",
       "2519                                                                                                    [\\n, Gasoline, \\n]                                                                                                   Gasoline\n",
       "9923   [\\n, Regular/Benzine 91 / Super 95 / Super Plus 98 / Regular/Benzine E10 91 / Super Plus E10 98 / Super E10 95, \\n]  Regular/Benzine 91 / Super 95 / Super Plus 98 / Regular/Benzine E10 91 / Super Plus E10 98 / Super E10 95\n",
       "12219                                                                                               [\\n, Super E10 95, \\n]                                                                                               Super E10 95\n",
       "11499                                                                                [\\n, Diesel (Particulate Filter), \\n]                                                                                Diesel (Particulate Filter)\n",
       "14232                                                                                [\\n, Diesel (Particulate Filter), \\n]                                                                                Diesel (Particulate Filter)\n",
       "11251                                                                                                   [\\n, Super 95, \\n]                                                                                                   Super 95\n",
       "7940                                                                                                      [\\n, Diesel, \\n]                                                                                                     Diesel\n",
       "8878                                                                                                      [\\n, Diesel, \\n]                                                                                                     Diesel\n",
       "12691                                                                                                     [\\n, Diesel, \\n]                                                                                                     Diesel\n",
       "9826                                                                                                    [\\n, Gasoline, \\n]                                                                                                   Gasoline\n",
       "11396                                                                                                   [\\n, Super 95, \\n]                                                                                                   Super 95\n",
       "13094                                                                                                   [\\n, Gasoline, \\n]                                                                                                   Gasoline\n",
       "5253                                                                               [\\n, Gasoline (Particulate Filter), \\n]                                                                              Gasoline (Particulate Filter)\n",
       "15156                                                                                [\\n, Diesel (Particulate Filter), \\n]                                                                                Diesel (Particulate Filter)\n",
       "10106                                                                                                   [\\n, Super 95, \\n]                                                                                                   Super 95\n",
       "447                                                                                                     [\\n, Gasoline, \\n]                                                                                                   Gasoline\n",
       "12696                                                                                               [\\n, Super E10 95, \\n]                                                                                               Super E10 95\n",
       "8656                                                                                                      [\\n, Diesel, \\n]                                                                                                     Diesel\n",
       "7572                                                                                                    [\\n, Super 95, \\n]                                                                                                   Super 95\n",
       "6622                                                                                 [\\n, Diesel (Particulate Filter), \\n]                                                                                Diesel (Particulate Filter)\n",
       "5915                                                                                 [\\n, Diesel (Particulate Filter), \\n]                                                                                Diesel (Particulate Filter)\n",
       "13210                                                                                [\\n, Diesel (Particulate Filter), \\n]                                                                                Diesel (Particulate Filter)\n",
       "1728                                                                                 [\\n, Diesel (Particulate Filter), \\n]                                                                                Diesel (Particulate Filter)\n",
       "13695                                                                                                     [\\n, Diesel, \\n]                                                                                                     Diesel\n",
       "3312                                                                                                    [\\n, Gasoline, \\n]                                                                                                   Gasoline\n",
       "1716                                                                                 [\\n, Diesel (Particulate Filter), \\n]                                                                                Diesel (Particulate Filter)\n",
       "9478                                                                                                    [\\n, Super 95, \\n]                                                                                                   Super 95\n",
       "12813                                                                                                     [\\n, Diesel, \\n]                                                                                                     Diesel\n",
       "12957                                                                                                     [\\n, Diesel, \\n]                                                                                                     Diesel\n",
       "2472                                                                                                    [\\n, Super 95, \\n]                                                                                                   Super 95\n",
       "15910                                                                                     [\\n, Regular/Benzine E10 91, \\n]                                                                                     Regular/Benzine E10 91\n",
       "11806                                                                                                     [\\n, Diesel, \\n]                                                                                                     Diesel\n",
       "646                                                                                  [\\n, Diesel (Particulate Filter), \\n]                                                                                Diesel (Particulate Filter)\n",
       "11141                                                                                                     [\\n, Diesel, \\n]                                                                                                     Diesel\n",
       "7869                                                                                                    [\\n, Super 95, \\n]                                                                                                   Super 95\n",
       "10670                                                                                [\\n, Diesel (Particulate Filter), \\n]                                                                                Diesel (Particulate Filter)\n",
       "12635                                                                                                     [\\n, Diesel, \\n]                                                                                                     Diesel\n",
       "1780                                                                                 [\\n, Diesel (Particulate Filter), \\n]                                                                                Diesel (Particulate Filter)\n",
       "12189                                                                                [\\n, Diesel (Particulate Filter), \\n]                                                                                Diesel (Particulate Filter)\n",
       "1530                                                                                                    [\\n, Gasoline, \\n]                                                                                                   Gasoline\n",
       "14050                                                                                                     [\\n, Diesel, \\n]                                                                                                     Diesel\n",
       "12186                                                                                               [\\n, Super E10 95, \\n]                                                                                               Super E10 95\n",
       "12301                                                                                                   [\\n, Super 95, \\n]                                                                                                   Super 95\n",
       "13651                                                                                                   [\\n, Gasoline, \\n]                                                                                                   Gasoline\n",
       "10292                                                                                                   [\\n, Super 95, \\n]                                                                                                   Super 95\n",
       "12480                                                                                [\\n, Diesel (Particulate Filter), \\n]                                                                                Diesel (Particulate Filter)\n",
       "4301                                                                                                    [\\n, Gasoline, \\n]                                                                                                   Gasoline\n",
       "13104                                                                                                   [\\n, Super 95, \\n]                                                                                                   Super 95\n",
       "2294                                                                                                    [\\n, Gasoline, \\n]                                                                                                   Gasoline\n",
       "4033                                                                                 [\\n, Diesel (Particulate Filter), \\n]                                                                                Diesel (Particulate Filter)\n",
       "1227                                                                                                    [\\n, Super 95, \\n]                                                                                                   Super 95\n",
       "11712                                                                                [\\n, Diesel (Particulate Filter), \\n]                                                                                Diesel (Particulate Filter)\n",
       "6760                                                                                 [\\n, Diesel (Particulate Filter), \\n]                                                                                Diesel (Particulate Filter)\n",
       "4726                                                                                                      [\\n, Diesel, \\n]                                                                                                     Diesel\n",
       "226                                                                                  [\\n, Diesel (Particulate Filter), \\n]                                                                                Diesel (Particulate Filter)\n",
       "771                                                                                                     [\\n, Gasoline, \\n]                                                                                                   Gasoline\n",
       "14472                                                                                                   [\\n, Super 95, \\n]                                                                                                   Super 95\n",
       "9935                                                                                                    [\\n, Super 95, \\n]                                                                                                   Super 95\n",
       "9880                                                                                                [\\n, Super E10 95, \\n]                                                                                               Super E10 95\n",
       "12363                                                                                               [\\n, Super E10 95, \\n]                                                                                               Super E10 95\n",
       "307                                                                                  [\\n, Diesel (Particulate Filter), \\n]                                                                                Diesel (Particulate Filter)\n",
       "10699                                                                                [\\n, Diesel (Particulate Filter), \\n]                                                                                Diesel (Particulate Filter)\n",
       "3653                                                                                                      [\\n, Diesel, \\n]                                                                                                     Diesel\n",
       "308                                                                                  [\\n, Diesel (Particulate Filter), \\n]                                                                                Diesel (Particulate Filter)\n",
       "8846                                                                                                    [\\n, Super 95, \\n]                                                                                                   Super 95\n",
       "161                                                                                                     [\\n, Super 95, \\n]                                                                                                   Super 95\n",
       "3525                                                                                                      [\\n, Diesel, \\n]                                                                                                     Diesel\n",
       "11157                                                                                                     [\\n, Diesel, \\n]                                                                                                     Diesel\n",
       "390                                                                                                     [\\n, Gasoline, \\n]                                                                                                   Gasoline\n",
       "434                                                                                  [\\n, Diesel (Particulate Filter), \\n]                                                                                Diesel (Particulate Filter)\n",
       "12534                                                                                [\\n, Diesel (Particulate Filter), \\n]                                                                                Diesel (Particulate Filter)\n",
       "13139                                                                                         [\\n, Regular/Benzine 91, \\n]                                                                                         Regular/Benzine 91\n",
       "4789                                                                                                      [\\n, Diesel, \\n]                                                                                                     Diesel\n",
       "15629                                                                                                     [\\n, Diesel, \\n]                                                                                                     Diesel\n",
       "4901                                                                                                      [\\n, Diesel, \\n]                                                                                                     Diesel\n",
       "6299                                                                                 [\\n, Diesel (Particulate Filter), \\n]                                                                                Diesel (Particulate Filter)\n",
       "3539                                                                                 [\\n, Diesel (Particulate Filter), \\n]                                                                                Diesel (Particulate Filter)\n",
       "2565                                                                                                    [\\n, Gasoline, \\n]                                                                                                   Gasoline\n",
       "762                                                                                                       [\\n, Diesel, \\n]                                                                                                     Diesel\n",
       "7354                                                                                                    [\\n, Gasoline, \\n]                                                                                                   Gasoline\n",
       "7305                                                                                                    [\\n, Super 95, \\n]                                                                                                   Super 95\n",
       "14475                                                                                                   [\\n, Gasoline, \\n]                                                                                                   Gasoline\n",
       "14048                                                                                                     [\\n, Diesel, \\n]                                                                                                     Diesel\n",
       "1532                                                                                 [\\n, Diesel (Particulate Filter), \\n]                                                                                Diesel (Particulate Filter)\n",
       "871                                                                                                     [\\n, Gasoline, \\n]                                                                                                   Gasoline\n",
       "13909                                                                                                   [\\n, Gasoline, \\n]                                                                                                   Gasoline\n",
       "633                                                                                  [\\n, Diesel (Particulate Filter), \\n]                                                                                Diesel (Particulate Filter)\n",
       "10299                                                                                                   [\\n, Gasoline, \\n]                                                                                                   Gasoline\n",
       "1704                                                                                 [\\n, Diesel (Particulate Filter), \\n]                                                                                Diesel (Particulate Filter)\n",
       "14318                                                                                                   [\\n, Super 95, \\n]                                                                                                   Super 95\n",
       "2690                                                                                                      [\\n, Diesel, \\n]                                                                                                     Diesel\n",
       "4126                                                                                 [\\n, Diesel (Particulate Filter), \\n]                                                                                Diesel (Particulate Filter)\n",
       "3236                                                                                          [\\n, Regular/Benzine 91, \\n]                                                                                         Regular/Benzine 91\n",
       "7568                                                                                                    [\\n, Super 95, \\n]                                                                                                   Super 95\n",
       "1974                                                                                                    [\\n, Gasoline, \\n]                                                                                                   Gasoline\n",
       "6766                                                                                 [\\n, Diesel (Particulate Filter), \\n]                                                                                Diesel (Particulate Filter)\n",
       "9892                                                                                                    [\\n, Super 95, \\n]                                                                                                   Super 95"
      ]
     },
     "execution_count": 155,
     "metadata": {},
     "output_type": "execute_result"
    }
   ],
   "source": [
    "df[[\"Fuel\", \"fuel_type\"]].sample(100) ## they have the same values. Fuel will be dropped."
   ]
  },
  {
   "cell_type": "code",
   "execution_count": 156,
   "metadata": {},
   "outputs": [],
   "source": [
    "df.drop(columns=\"Fuel\", inplace=True)"
   ]
  },
  {
   "cell_type": "code",
   "execution_count": 157,
   "metadata": {},
   "outputs": [
    {
     "data": {
      "text/plain": [
       "NaN    15919\n",
       "Name: Type, dtype: int64"
      ]
     },
     "execution_count": 157,
     "metadata": {},
     "output_type": "execute_result"
    }
   ],
   "source": [
    "df.Type.str[4].value_counts(dropna=False)"
   ]
  },
  {
   "cell_type": "code",
   "execution_count": 158,
   "metadata": {},
   "outputs": [
    {
     "data": {
      "text/plain": [
       "Index(['make_model', 'short_description', 'body_type', 'price', 'vat', 'km', 'registration', 'prev_owner', 'Type', 'Previous Owners', 'Next Inspection', 'Inspection new', 'Warranty', 'Full Service', 'Non-smoking Vehicle', 'null', 'Offer Number', 'Body Color', 'Paint Type', 'Body Color Original', 'Upholstery', 'Body', 'Nr. of Doors', 'Nr. of Seats', 'Model Code', 'Gearing Type', 'Displacement', 'Cylinders', 'Weight', 'Drive chain', 'Consumption', 'CO2 Emission', 'Emission Class', '\\nComfort & Convenience\\n', '\\nEntertainment & Media\\n', '\\nExtras\\n', '\\nSafety & Security\\n', 'description', 'Emission Label', 'Gears', 'Country version', 'make', 'hp_kW', 'used_new', 'fuel_type'], dtype='object')"
      ]
     },
     "execution_count": 158,
     "metadata": {},
     "output_type": "execute_result"
    }
   ],
   "source": [
    "df.columns"
   ]
  },
  {
   "cell_type": "code",
   "execution_count": 159,
   "metadata": {},
   "outputs": [],
   "source": [
    "df.drop(columns=\"Type\", inplace=True)"
   ]
  },
  {
   "cell_type": "markdown",
   "metadata": {},
   "source": [
    "## null "
   ]
  },
  {
   "cell_type": "code",
   "execution_count": 160,
   "metadata": {},
   "outputs": [
    {
     "ename": "TypeError",
     "evalue": "unhashable type: 'list'",
     "output_type": "error",
     "traceback": [
      "\u001b[0;31m---------------------------------------------------------------------------\u001b[0m",
      "\u001b[0;31mTypeError\u001b[0m                                 Traceback (most recent call last)",
      "\u001b[0;32mpandas/_libs/hashtable_class_helper.pxi\u001b[0m in \u001b[0;36mpandas._libs.hashtable.PyObjectHashTable.map_locations\u001b[0;34m()\u001b[0m\n",
      "\u001b[0;31mTypeError\u001b[0m: unhashable type: 'list'"
     ]
    },
    {
     "name": "stderr",
     "output_type": "stream",
     "text": [
      "Exception ignored in: 'pandas._libs.index.IndexEngine._call_map_locations'\n",
      "Traceback (most recent call last):\n",
      "  File \"pandas/_libs/hashtable_class_helper.pxi\", line 5231, in pandas._libs.hashtable.PyObjectHashTable.map_locations\n",
      "TypeError: unhashable type: 'list'\n"
     ]
    },
    {
     "data": {
      "text/plain": [
       "[]    15919\n",
       "Name: null, dtype: int64"
      ]
     },
     "execution_count": 160,
     "metadata": {},
     "output_type": "execute_result"
    }
   ],
   "source": [
    "df.null.value_counts(dropna=False)"
   ]
  },
  {
   "cell_type": "code",
   "execution_count": 161,
   "metadata": {},
   "outputs": [],
   "source": [
    "df.drop(columns=\"null\", inplace=True)"
   ]
  },
  {
   "cell_type": "markdown",
   "metadata": {},
   "source": [
    "## Offer Number"
   ]
  },
  {
   "cell_type": "code",
   "execution_count": 162,
   "metadata": {},
   "outputs": [
    {
     "ename": "TypeError",
     "evalue": "unhashable type: 'list'",
     "output_type": "error",
     "traceback": [
      "\u001b[0;31m---------------------------------------------------------------------------\u001b[0m",
      "\u001b[0;31mTypeError\u001b[0m                                 Traceback (most recent call last)",
      "\u001b[0;32mpandas/_libs/hashtable_class_helper.pxi\u001b[0m in \u001b[0;36mpandas._libs.hashtable.PyObjectHashTable.map_locations\u001b[0;34m()\u001b[0m\n",
      "\u001b[0;31mTypeError\u001b[0m: unhashable type: 'list'"
     ]
    },
    {
     "name": "stderr",
     "output_type": "stream",
     "text": [
      "Exception ignored in: 'pandas._libs.index.IndexEngine._call_map_locations'\n",
      "Traceback (most recent call last):\n",
      "  File \"pandas/_libs/hashtable_class_helper.pxi\", line 5231, in pandas._libs.hashtable.PyObjectHashTable.map_locations\n",
      "TypeError: unhashable type: 'list'\n"
     ]
    },
    {
     "data": {
      "text/plain": [
       "NaN                                               3175\n",
       "[\\nLT67679\\n]                                       27\n",
       "[\\nUN89904\\n]                                       27\n",
       "[\\nXJ38068\\n]                                       27\n",
       "[\\nJV03654\\n]                                       27\n",
       "                                                  ... \n",
       "[\\n160_dcbb6c3e-a6da-43a3-8754-ccd994cec93b\\n]       1\n",
       "[\\n6701576\\n]                                        1\n",
       "[\\n6701569\\n]                                        1\n",
       "[\\n158121\\n]                                         1\n",
       "[\\nRe_30000008029\\n]                                 1\n",
       "Name: Offer Number, Length: 11441, dtype: int64"
      ]
     },
     "execution_count": 162,
     "metadata": {},
     "output_type": "execute_result"
    }
   ],
   "source": [
    "df[\"Offer Number\"].value_counts(dropna=False)"
   ]
  },
  {
   "cell_type": "code",
   "execution_count": 163,
   "metadata": {},
   "outputs": [
    {
     "data": {
      "text/plain": [
       "NaN                                         3175\n",
       "LT67679                                       27\n",
       "UN89904                                       27\n",
       "XJ38068                                       27\n",
       "JV03654                                       27\n",
       "                                            ... \n",
       "160_dcbb6c3e-a6da-43a3-8754-ccd994cec93b       1\n",
       "6701576                                        1\n",
       "6701569                                        1\n",
       "158121                                         1\n",
       "Re_30000008029                                 1\n",
       "Name: Offer Number, Length: 11441, dtype: int64"
      ]
     },
     "execution_count": 163,
     "metadata": {},
     "output_type": "execute_result"
    }
   ],
   "source": [
    "df[\"Offer Number\"].str[0].str.strip().value_counts(dropna=False)"
   ]
  },
  {
   "cell_type": "code",
   "execution_count": 164,
   "metadata": {},
   "outputs": [
    {
     "data": {
      "text/plain": [
       "0             LR-062483\n",
       "1                   NaN\n",
       "2              AM-95365\n",
       "3                   NaN\n",
       "4                 C1626\n",
       "              ...      \n",
       "15914          10988301\n",
       "15915       507370_3223\n",
       "15916          Espace16\n",
       "15917           2691331\n",
       "15918    Re_30000008029\n",
       "Name: Offer Number, Length: 15919, dtype: object"
      ]
     },
     "execution_count": 164,
     "metadata": {},
     "output_type": "execute_result"
    }
   ],
   "source": [
    "df[\"Offer Number\"].str[0].str.strip()"
   ]
  },
  {
   "cell_type": "code",
   "execution_count": 165,
   "metadata": {},
   "outputs": [
    {
     "data": {
      "text/plain": [
       "8124                                 [\\nBUCHHB015479\\n]\n",
       "15672                                       [\\n5601O\\n]\n",
       "1219                             [\\nAT001-1920920048\\n]\n",
       "10146                                     [\\n4281836\\n]\n",
       "8115                                       [\\n379143\\n]\n",
       "10912                                 [\\n00-49-13535\\n]\n",
       "12251                                      [\\n319393\\n]\n",
       "13215                                      [\\nKZ623K\\n]\n",
       "8445                                       [\\n499013\\n]\n",
       "13211                                    [\\n11576759\\n]\n",
       "12307                                      [\\n297 EG\\n]\n",
       "6470                                  [\\nEX J8060536\\n]\n",
       "11038                                               NaN\n",
       "13426                                     [\\n2604704\\n]\n",
       "616                                         [\\n78079\\n]\n",
       "4878                                       [\\n149717\\n]\n",
       "15553                                      [\\nXX302Z\\n]\n",
       "6241                                       [\\n157554\\n]\n",
       "5719                                        [\\n16615\\n]\n",
       "6583                                      [\\n8071491\\n]\n",
       "8397                                       [\\nNN355X\\n]\n",
       "15604                                               NaN\n",
       "11423                                    [\\nBA344433\\n]\n",
       "14059                                     [\\nv211509\\n]\n",
       "843                                       [\\n2839728\\n]\n",
       "9695                                  [\\n28-06609-or\\n]\n",
       "15490                                 [\\nNW_stv1194a\\n]\n",
       "2181                                    [\\n263-15754\\n]\n",
       "10421                                               NaN\n",
       "10124                                   [\\nWL-035353\\n]\n",
       "10430                                       [\\nFW250\\n]\n",
       "3640                                       [\\n107484\\n]\n",
       "13218                                      [\\nNR908F\\n]\n",
       "172                                    [\\nB017678-Q2\\n]\n",
       "10291                               [\\nNW-068996-113\\n]\n",
       "14384                               [\\nC_A5617-12318\\n]\n",
       "1137                                     [\\n55336587\\n]\n",
       "5892                                                NaN\n",
       "9625                                       [\\n163480\\n]\n",
       "9480                                                NaN\n",
       "3153                                                NaN\n",
       "12216                                    [\\nJ1132468\\n]\n",
       "2134                                        [\\nAF557\\n]\n",
       "10644                                        [\\n3342\\n]\n",
       "9540                                         [\\n7825\\n]\n",
       "8797                                      [\\n2077616\\n]\n",
       "13732                                               NaN\n",
       "998                                         [\\n02653\\n]\n",
       "5608                                        [\\n55629\\n]\n",
       "15488                                               NaN\n",
       "4953                                        [\\n56637\\n]\n",
       "6265                                           [\\n37\\n]\n",
       "2031                                     [\\n11582547\\n]\n",
       "11184                                               NaN\n",
       "11689                            [\\n550_403_5329_227\\n]\n",
       "2754                                      [\\n1566011\\n]\n",
       "15244                                     [\\n0648JNT\\n]\n",
       "10193                                 [\\n00-11-11192\\n]\n",
       "11095                                               NaN\n",
       "14266                                    [\\n10354580\\n]\n",
       "14712                                      [\\n417517\\n]\n",
       "9740                                                NaN\n",
       "9859                                     [\\nK4314621\\n]\n",
       "11585                                      [\\n776961\\n]\n",
       "10962                                               NaN\n",
       "41                                         [\\nAU9606\\n]\n",
       "9214                                      [\\n2707594\\n]\n",
       "3747                                                NaN\n",
       "846                                      [\\nGW10010a\\n]\n",
       "7064                                        [\\n39166\\n]\n",
       "6408                                   [\\n1003919102\\n]\n",
       "14625                                     [\\n2709739\\n]\n",
       "8516         [\\n707b0856-abb7-4525-b4fb-81cf9c82614a\\n]\n",
       "169                                                 NaN\n",
       "4070                                         [\\n9288\\n]\n",
       "476                                         [\\n91882\\n]\n",
       "13535                                     [\\n2663958\\n]\n",
       "11338                                               NaN\n",
       "7045                                      [\\nG111704\\n]\n",
       "15894                                     [\\n1409734\\n]\n",
       "7504                                       [\\n759640\\n]\n",
       "3469                                                NaN\n",
       "14460                                        [\\n1189\\n]\n",
       "14172        [\\ne791243c-47ed-4c6c-95d8-be9a5a1c4ac8\\n]\n",
       "10218                                      [\\n060423\\n]\n",
       "9934                                     [\\nK4385764\\n]\n",
       "8619                                                NaN\n",
       "5493                                       [\\n158170\\n]\n",
       "13810                                               NaN\n",
       "8817                                [\\n4035256-349OR\\n]\n",
       "14589                                  [\\ngw nr. 710\\n]\n",
       "14420                                               NaN\n",
       "35                                           [\\n6229\\n]\n",
       "9189                               [\\n16456-20190625\\n]\n",
       "1778                                     [\\n70-50737\\n]\n",
       "7527                              [\\nCC0_350_1204_16\\n]\n",
       "12025                                       [\\n05836\\n]\n",
       "3503     [\\n112_ef2b748a-64f4-4e29-b348-9ccfc927a957\\n]\n",
       "9364                                       [\\n228916\\n]\n",
       "14550                                       [\\n58635\\n]\n",
       "Name: Offer Number, dtype: object"
      ]
     },
     "execution_count": 165,
     "metadata": {},
     "output_type": "execute_result"
    }
   ],
   "source": [
    "df[\"Offer Number\"].sample(100)"
   ]
  },
  {
   "cell_type": "code",
   "execution_count": 166,
   "metadata": {},
   "outputs": [],
   "source": [
    "# not usefull also we can not use it as index because there is many null values.\n",
    "df.drop(columns=[\"Offer Number\"] , inplace=True)"
   ]
  },
  {
   "cell_type": "code",
   "execution_count": 167,
   "metadata": {
    "scrolled": true
   },
   "outputs": [
    {
     "data": {
      "text/plain": [
       "Index(['make_model', 'short_description', 'body_type', 'price', 'vat', 'km', 'registration', 'prev_owner', 'Previous Owners', 'Next Inspection', 'Inspection new', 'Warranty', 'Full Service', 'Non-smoking Vehicle', 'Body Color', 'Paint Type', 'Body Color Original', 'Upholstery', 'Body', 'Nr. of Doors', 'Nr. of Seats', 'Model Code', 'Gearing Type', 'Displacement', 'Cylinders', 'Weight', 'Drive chain', 'Consumption', 'CO2 Emission', 'Emission Class', '\\nComfort & Convenience\\n', '\\nEntertainment & Media\\n', '\\nExtras\\n', '\\nSafety & Security\\n', 'description', 'Emission Label', 'Gears', 'Country version', 'make', 'hp_kW', 'used_new', 'fuel_type'], dtype='object')"
      ]
     },
     "execution_count": 167,
     "metadata": {},
     "output_type": "execute_result"
    }
   ],
   "source": [
    "df.columns"
   ]
  },
  {
   "cell_type": "markdown",
   "metadata": {},
   "source": [
    "## Body color"
   ]
  },
  {
   "cell_type": "code",
   "execution_count": 168,
   "metadata": {},
   "outputs": [
    {
     "data": {
      "text/plain": [
       "Black     3745\n",
       "Grey      3505\n",
       "White     3406\n",
       "Silver    1647\n",
       "Blue      1431\n",
       "Red        957\n",
       "NaN        597\n",
       "Brown      289\n",
       "Green      154\n",
       "Beige      108\n",
       "Yellow      51\n",
       "Violet      18\n",
       "Bronze       6\n",
       "Orange       3\n",
       "Gold         2\n",
       "Name: Body Color, dtype: int64"
      ]
     },
     "execution_count": 168,
     "metadata": {},
     "output_type": "execute_result"
    }
   ],
   "source": [
    "df['Body Color'].str[1].str.strip().value_counts(dropna=False)"
   ]
  },
  {
   "cell_type": "code",
   "execution_count": 169,
   "metadata": {},
   "outputs": [],
   "source": [
    "df.color = df['Body Color'].str[1].str.strip()"
   ]
  },
  {
   "cell_type": "code",
   "execution_count": 170,
   "metadata": {},
   "outputs": [],
   "source": [
    "df.drop(columns='Body Color', inplace=True)"
   ]
  },
  {
   "cell_type": "code",
   "execution_count": 171,
   "metadata": {},
   "outputs": [
    {
     "data": {
      "text/plain": [
       "Black     3745\n",
       "Grey      3505\n",
       "White     3406\n",
       "Silver    1647\n",
       "Blue      1431\n",
       "Red        957\n",
       "Brown      289\n",
       "Green      154\n",
       "Beige      108\n",
       "Yellow      51\n",
       "Violet      18\n",
       "Bronze       6\n",
       "Orange       3\n",
       "Gold         2\n",
       "Name: Body Color, dtype: int64"
      ]
     },
     "execution_count": 171,
     "metadata": {},
     "output_type": "execute_result"
    }
   ],
   "source": [
    "df.color.value_counts()"
   ]
  },
  {
   "cell_type": "code",
   "execution_count": 172,
   "metadata": {},
   "outputs": [
    {
     "data": {
      "text/plain": [
       "Index(['make_model', 'short_description', 'body_type', 'price', 'vat', 'km', 'registration', 'prev_owner', 'Previous Owners', 'Next Inspection', 'Inspection new', 'Warranty', 'Full Service', 'Non-smoking Vehicle', 'Paint Type', 'Body Color Original', 'Upholstery', 'Body', 'Nr. of Doors', 'Nr. of Seats', 'Model Code', 'Gearing Type', 'Displacement', 'Cylinders', 'Weight', 'Drive chain', 'Consumption', 'CO2 Emission', 'Emission Class', '\\nComfort & Convenience\\n', '\\nEntertainment & Media\\n', '\\nExtras\\n', '\\nSafety & Security\\n', 'description', 'Emission Label', 'Gears', 'Country version', 'make', 'hp_kW', 'used_new', 'fuel_type'], dtype='object')"
      ]
     },
     "execution_count": 172,
     "metadata": {},
     "output_type": "execute_result"
    }
   ],
   "source": [
    "df.columns"
   ]
  },
  {
   "cell_type": "markdown",
   "metadata": {},
   "source": [
    "## Body Color Original"
   ]
  },
  {
   "cell_type": "code",
   "execution_count": 173,
   "metadata": {},
   "outputs": [
    {
     "ename": "TypeError",
     "evalue": "unhashable type: 'list'",
     "output_type": "error",
     "traceback": [
      "\u001b[0;31m---------------------------------------------------------------------------\u001b[0m",
      "\u001b[0;31mTypeError\u001b[0m                                 Traceback (most recent call last)",
      "\u001b[0;32mpandas/_libs/hashtable_class_helper.pxi\u001b[0m in \u001b[0;36mpandas._libs.hashtable.PyObjectHashTable.map_locations\u001b[0;34m()\u001b[0m\n",
      "\u001b[0;31mTypeError\u001b[0m: unhashable type: 'list'"
     ]
    },
    {
     "name": "stderr",
     "output_type": "stream",
     "text": [
      "Exception ignored in: 'pandas._libs.index.IndexEngine._call_map_locations'\n",
      "Traceback (most recent call last):\n",
      "  File \"pandas/_libs/hashtable_class_helper.pxi\", line 5231, in pandas._libs.hashtable.PyObjectHashTable.map_locations\n",
      "TypeError: unhashable type: 'list'\n"
     ]
    },
    {
     "data": {
      "text/plain": [
       "NaN                                    3759\n",
       "[\\nOnyx Schwarz\\n]                      338\n",
       "[\\nBianco\\n]                            282\n",
       "[\\nMythosschwarz Metallic\\n]            238\n",
       "[\\nBrillantschwarz\\n]                   216\n",
       "                                       ... \n",
       "[\\nRouge-Braun (G0Y)\\n]                   1\n",
       "[\\nVARI COLRI DISPONIBILI\\n]              1\n",
       "[\\nKokosnussbraun Metallic\\n]             1\n",
       "[\\nFarbe frei wählbar\\n]                  1\n",
       "[\\nPerlmutt-Weiß Metallic (Weiß)\\n]       1\n",
       "Name: Body Color Original, Length: 1928, dtype: int64"
      ]
     },
     "execution_count": 173,
     "metadata": {},
     "output_type": "execute_result"
    }
   ],
   "source": [
    "df[\"Body Color Original\"].value_counts(dropna=False)"
   ]
  },
  {
   "cell_type": "code",
   "execution_count": 174,
   "metadata": {},
   "outputs": [
    {
     "data": {
      "text/plain": [
       "NaN                              3759\n",
       "Onyx Schwarz                      338\n",
       "Bianco                            282\n",
       "Mythosschwarz Metallic            238\n",
       "Brillantschwarz                   216\n",
       "                                 ... \n",
       "Rouge-Braun (G0Y)                   1\n",
       "VARI COLRI DISPONIBILI              1\n",
       "Kokosnussbraun Metallic             1\n",
       "Farbe frei wählbar                  1\n",
       "Perlmutt-Weiß Metallic (Weiß)       1\n",
       "Name: Body Color Original, Length: 1928, dtype: int64"
      ]
     },
     "execution_count": 174,
     "metadata": {},
     "output_type": "execute_result"
    }
   ],
   "source": [
    "df[\"Body Color Original\"].str[0].str.strip().value_counts(dropna=False)"
   ]
  },
  {
   "cell_type": "code",
   "execution_count": 175,
   "metadata": {},
   "outputs": [],
   "source": [
    "df.original_color = df[\"Body Color Original\"].str[0].str.strip()"
   ]
  },
  {
   "cell_type": "code",
   "execution_count": 176,
   "metadata": {},
   "outputs": [],
   "source": [
    "df.drop(columns=\"Body Color Original\", inplace=True)"
   ]
  },
  {
   "cell_type": "code",
   "execution_count": 177,
   "metadata": {},
   "outputs": [
    {
     "data": {
      "text/plain": [
       "Index(['make_model', 'short_description', 'body_type', 'price', 'vat', 'km', 'registration', 'prev_owner', 'Previous Owners', 'Next Inspection', 'Inspection new', 'Warranty', 'Full Service', 'Non-smoking Vehicle', 'Paint Type', 'Upholstery', 'Body', 'Nr. of Doors', 'Nr. of Seats', 'Model Code', 'Gearing Type', 'Displacement', 'Cylinders', 'Weight', 'Drive chain', 'Consumption', 'CO2 Emission', 'Emission Class', '\\nComfort & Convenience\\n', '\\nEntertainment & Media\\n', '\\nExtras\\n', '\\nSafety & Security\\n', 'description', 'Emission Label', 'Gears', 'Country version', 'make', 'hp_kW', 'used_new', 'fuel_type'], dtype='object')"
      ]
     },
     "execution_count": 177,
     "metadata": {},
     "output_type": "execute_result"
    }
   ],
   "source": [
    "df.columns"
   ]
  },
  {
   "cell_type": "markdown",
   "metadata": {},
   "source": [
    "## Upholstery"
   ]
  },
  {
   "cell_type": "code",
   "execution_count": 178,
   "metadata": {
    "scrolled": true
   },
   "outputs": [
    {
     "ename": "TypeError",
     "evalue": "unhashable type: 'list'",
     "output_type": "error",
     "traceback": [
      "\u001b[0;31m---------------------------------------------------------------------------\u001b[0m",
      "\u001b[0;31mTypeError\u001b[0m                                 Traceback (most recent call last)",
      "\u001b[0;32mpandas/_libs/hashtable_class_helper.pxi\u001b[0m in \u001b[0;36mpandas._libs.hashtable.PyObjectHashTable.map_locations\u001b[0;34m()\u001b[0m\n",
      "\u001b[0;31mTypeError\u001b[0m: unhashable type: 'list'"
     ]
    },
    {
     "name": "stderr",
     "output_type": "stream",
     "text": [
      "Exception ignored in: 'pandas._libs.index.IndexEngine._call_map_locations'\n",
      "Traceback (most recent call last):\n",
      "  File \"pandas/_libs/hashtable_class_helper.pxi\", line 5231, in pandas._libs.hashtable.PyObjectHashTable.map_locations\n",
      "TypeError: unhashable type: 'list'\n"
     ]
    },
    {
     "data": {
      "text/plain": [
       "[\\nCloth, Black\\n]           5821\n",
       "NaN                          3720\n",
       "[\\nPart leather, Black\\n]    1121\n",
       "[\\nCloth\\n]                  1005\n",
       "[\\nCloth, Grey\\n]             891\n",
       "[\\nCloth, Other\\n]            639\n",
       "[\\nFull leather, Black\\n]     575\n",
       "[\\nBlack\\n]                   491\n",
       "[\\nGrey\\n]                    273\n",
       "[\\nOther, Other\\n]            182\n",
       "[\\nPart leather\\n]            140\n",
       "[\\nFull leather\\n]            139\n",
       "[\\nFull leather, Brown\\n]     116\n",
       "[\\nPart leather, Grey\\n]      116\n",
       "[\\nOther, Black\\n]            110\n",
       "[\\nFull leather, Other\\n]      72\n",
       "[\\nFull leather, Grey\\n]       67\n",
       "[\\nPart leather, Other\\n]      65\n",
       "[\\nOther\\n]                    56\n",
       "[\\nPart leather, Brown\\n]      50\n",
       "[\\nalcantara, Black\\n]         47\n",
       "[\\nVelour, Black\\n]            36\n",
       "[\\nFull leather, Beige\\n]      36\n",
       "[\\nCloth, Brown\\n]             28\n",
       "[\\nVelour\\n]                   16\n",
       "[\\nOther, Grey\\n]              15\n",
       "[\\nCloth, Beige\\n]             13\n",
       "[\\nBrown\\n]                    12\n",
       "[\\nCloth, Blue\\n]              12\n",
       "[\\nVelour, Grey\\n]              8\n",
       "[\\nCloth, White\\n]              8\n",
       "[\\nalcantara, Grey\\n]           6\n",
       "[\\nCloth, Red\\n]                5\n",
       "[\\nOther, Yellow\\n]             4\n",
       "[\\nPart leather, Red\\n]         3\n",
       "[\\nBeige\\n]                     3\n",
       "[\\nPart leather, White\\n]       2\n",
       "[\\nFull leather, Blue\\n]        2\n",
       "[\\nalcantara, Other\\n]          2\n",
       "[\\nalcantara\\n]                 2\n",
       "[\\nWhite\\n]                     2\n",
       "[\\nPart leather, Beige\\n]       2\n",
       "[\\nBlue\\n]                      2\n",
       "[\\nCloth, Orange\\n]             1\n",
       "[\\nFull leather, Red\\n]         1\n",
       "[\\nOther, Brown\\n]              1\n",
       "[\\nFull leather, White\\n]       1\n",
       "Name: Upholstery, dtype: int64"
      ]
     },
     "execution_count": 178,
     "metadata": {},
     "output_type": "execute_result"
    }
   ],
   "source": [
    "df.Upholstery.value_counts(dropna=False)"
   ]
  },
  {
   "cell_type": "code",
   "execution_count": 179,
   "metadata": {
    "scrolled": true
   },
   "outputs": [
    {
     "data": {
      "text/plain": [
       "Cloth, Black           5821\n",
       "NaN                    3720\n",
       "Part leather, Black    1121\n",
       "Cloth                  1005\n",
       "Cloth, Grey             891\n",
       "Cloth, Other            639\n",
       "Full leather, Black     575\n",
       "Black                   491\n",
       "Grey                    273\n",
       "Other, Other            182\n",
       "Part leather            140\n",
       "Full leather            139\n",
       "Full leather, Brown     116\n",
       "Part leather, Grey      116\n",
       "Other, Black            110\n",
       "Full leather, Other      72\n",
       "Full leather, Grey       67\n",
       "Part leather, Other      65\n",
       "Other                    56\n",
       "Part leather, Brown      50\n",
       "alcantara, Black         47\n",
       "Velour, Black            36\n",
       "Full leather, Beige      36\n",
       "Cloth, Brown             28\n",
       "Velour                   16\n",
       "Other, Grey              15\n",
       "Cloth, Beige             13\n",
       "Brown                    12\n",
       "Cloth, Blue              12\n",
       "Velour, Grey              8\n",
       "Cloth, White              8\n",
       "alcantara, Grey           6\n",
       "Cloth, Red                5\n",
       "Other, Yellow             4\n",
       "Part leather, Red         3\n",
       "Beige                     3\n",
       "Part leather, White       2\n",
       "Full leather, Blue        2\n",
       "alcantara, Other          2\n",
       "alcantara                 2\n",
       "White                     2\n",
       "Part leather, Beige       2\n",
       "Blue                      2\n",
       "Cloth, Orange             1\n",
       "Full leather, Red         1\n",
       "Other, Brown              1\n",
       "Full leather, White       1\n",
       "Name: Upholstery, dtype: int64"
      ]
     },
     "execution_count": 179,
     "metadata": {},
     "output_type": "execute_result"
    }
   ],
   "source": [
    "df.Upholstery.str[0].str.strip().value_counts(dropna=False)"
   ]
  },
  {
   "cell_type": "code",
   "execution_count": 180,
   "metadata": {},
   "outputs": [
    {
     "data": {
      "text/plain": [
       "Cloth           8423\n",
       "NaN             3720\n",
       "Part leather    1499\n",
       "Full leather    1009\n",
       "Black            491\n",
       "Other            368\n",
       "Grey             273\n",
       "Velour            60\n",
       "alcantara         57\n",
       "Brown             12\n",
       "Beige              3\n",
       "Blue               2\n",
       "White              2\n",
       "Name: Upholstery, dtype: int64"
      ]
     },
     "execution_count": 180,
     "metadata": {},
     "output_type": "execute_result"
    }
   ],
   "source": [
    "df.Upholstery.str[0].str.strip().str.split(pat=\",\").str[0].value_counts(dropna=False)"
   ]
  },
  {
   "cell_type": "code",
   "execution_count": 181,
   "metadata": {},
   "outputs": [
    {
     "data": {
      "text/plain": [
       "Cloth           8423\n",
       "NaN             4871\n",
       "Part leather    1499\n",
       "Full leather    1009\n",
       "Velour            60\n",
       "alcantara         57\n",
       "Name: Upholstery, dtype: int64"
      ]
     },
     "execution_count": 181,
     "metadata": {},
     "output_type": "execute_result"
    }
   ],
   "source": [
    "df.Upholstery.str[0].str.strip().str.split(pat=\",\").str[0].replace(dict.fromkeys(\n",
    "    [\"Black\", \"Grey\", \"Other\", \"Brown\", \"Beige\", \"Blue\", \"White\"], np.NaN)\n",
    "                                                                      ).value_counts(dropna=False)"
   ]
  },
  {
   "cell_type": "code",
   "execution_count": 182,
   "metadata": {},
   "outputs": [],
   "source": [
    "df[\"upholstery_kind\"] = df.Upholstery.str[0].str.strip().str.split(pat=\",\").str[0].replace(dict.fromkeys(\n",
    "    [\"Black\", \"Grey\", \"Other\", \"Brown\", \"Beige\", \"Blue\", \"White\"], np.NaN)\n",
    "                                                                      )"
   ]
  },
  {
   "cell_type": "code",
   "execution_count": 183,
   "metadata": {},
   "outputs": [
    {
     "data": {
      "text/plain": [
       " Black     7710\n",
       "NaN        5861\n",
       " Grey      1103\n",
       " Other      960\n",
       " Brown      195\n",
       " Beige       51\n",
       " Blue        14\n",
       " White       11\n",
       " Red          9\n",
       " Yellow       4\n",
       " Orange       1\n",
       "Name: Upholstery, dtype: int64"
      ]
     },
     "execution_count": 183,
     "metadata": {},
     "output_type": "execute_result"
    }
   ],
   "source": [
    "df.Upholstery.str[0].str.strip().str.split(pat=\",\").str[1].value_counts(dropna=False)"
   ]
  },
  {
   "cell_type": "code",
   "execution_count": 184,
   "metadata": {},
   "outputs": [],
   "source": [
    "df[\"upholstery_color\"] = df.Upholstery.str[0].str.strip().str.split(pat=\",\").str[1]"
   ]
  },
  {
   "cell_type": "code",
   "execution_count": 185,
   "metadata": {},
   "outputs": [],
   "source": [
    "df.drop(columns=\"Upholstery\", inplace=True)"
   ]
  },
  {
   "cell_type": "markdown",
   "metadata": {},
   "source": [
    "## Body & body_type"
   ]
  },
  {
   "cell_type": "code",
   "execution_count": 186,
   "metadata": {},
   "outputs": [
    {
     "ename": "TypeError",
     "evalue": "unhashable type: 'list'",
     "output_type": "error",
     "traceback": [
      "\u001b[0;31m---------------------------------------------------------------------------\u001b[0m",
      "\u001b[0;31mTypeError\u001b[0m                                 Traceback (most recent call last)",
      "\u001b[0;32mpandas/_libs/hashtable_class_helper.pxi\u001b[0m in \u001b[0;36mpandas._libs.hashtable.PyObjectHashTable.map_locations\u001b[0;34m()\u001b[0m\n",
      "\u001b[0;31mTypeError\u001b[0m: unhashable type: 'list'"
     ]
    },
    {
     "name": "stderr",
     "output_type": "stream",
     "text": [
      "Exception ignored in: 'pandas._libs.index.IndexEngine._call_map_locations'\n",
      "Traceback (most recent call last):\n",
      "  File \"pandas/_libs/hashtable_class_helper.pxi\", line 5231, in pandas._libs.hashtable.PyObjectHashTable.map_locations\n",
      "TypeError: unhashable type: 'list'\n"
     ]
    },
    {
     "data": {
      "text/plain": [
       "[\\n, Sedans, \\n]           7903\n",
       "[\\n, Station wagon, \\n]    3553\n",
       "[\\n, Compact, \\n]          3153\n",
       "[\\n, Van, \\n]               783\n",
       "[\\n, Other, \\n]             290\n",
       "[\\n, Transporter, \\n]        88\n",
       "NaN                          60\n",
       "[\\n, Off-Road, \\n]           56\n",
       "[\\n, Coupe, \\n]              25\n",
       "[\\n, Convertible, \\n]         8\n",
       "Name: Body, dtype: int64"
      ]
     },
     "execution_count": 186,
     "metadata": {},
     "output_type": "execute_result"
    }
   ],
   "source": [
    "df.Body.value_counts(dropna=False)"
   ]
  },
  {
   "cell_type": "code",
   "execution_count": 187,
   "metadata": {},
   "outputs": [
    {
     "data": {
      "text/plain": [
       "Sedans           7903\n",
       "Station wagon    3553\n",
       "Compact          3153\n",
       "Van               783\n",
       "Other             290\n",
       "Transporter        88\n",
       "NaN                60\n",
       "Off-Road           56\n",
       "Coupe              25\n",
       "Convertible         8\n",
       "Name: Body, dtype: int64"
      ]
     },
     "execution_count": 187,
     "metadata": {},
     "output_type": "execute_result"
    }
   ],
   "source": [
    "df.Body.str[1].str.strip().value_counts(dropna=False)"
   ]
  },
  {
   "cell_type": "code",
   "execution_count": 188,
   "metadata": {},
   "outputs": [
    {
     "data": {
      "text/plain": [
       "Sedans           7903\n",
       "Station wagon    3553\n",
       "Compact          3153\n",
       "Van               783\n",
       "Other             290\n",
       "Transporter        88\n",
       "NaN                60\n",
       "Off-Road           56\n",
       "Coupe              25\n",
       "Convertible         8\n",
       "Name: body_type, dtype: int64"
      ]
     },
     "execution_count": 188,
     "metadata": {},
     "output_type": "execute_result"
    }
   ],
   "source": [
    "df.body_type.value_counts(dropna=False)"
   ]
  },
  {
   "cell_type": "code",
   "execution_count": 189,
   "metadata": {},
   "outputs": [],
   "source": [
    "# they are the same.\n",
    "df.drop(columns=\"Body\", inplace=True)"
   ]
  },
  {
   "cell_type": "code",
   "execution_count": 190,
   "metadata": {},
   "outputs": [
    {
     "data": {
      "text/plain": [
       "Index(['make_model', 'short_description', 'body_type', 'price', 'vat', 'km', 'registration', 'prev_owner', 'Previous Owners', 'Next Inspection', 'Inspection new', 'Warranty', 'Full Service', 'Non-smoking Vehicle', 'Paint Type', 'Nr. of Doors', 'Nr. of Seats', 'Model Code', 'Gearing Type', 'Displacement', 'Cylinders', 'Weight', 'Drive chain', 'Consumption', 'CO2 Emission', 'Emission Class', '\\nComfort & Convenience\\n', '\\nEntertainment & Media\\n', '\\nExtras\\n', '\\nSafety & Security\\n', 'description', 'Emission Label', 'Gears', 'Country version', 'make', 'hp_kW', 'used_new', 'fuel_type', 'upholstery_kind', 'upholstery_color'], dtype='object')"
      ]
     },
     "execution_count": 190,
     "metadata": {},
     "output_type": "execute_result"
    }
   ],
   "source": [
    "df.columns"
   ]
  },
  {
   "cell_type": "markdown",
   "metadata": {},
   "source": [
    "## \"Nr. of Doors\""
   ]
  },
  {
   "cell_type": "code",
   "execution_count": 191,
   "metadata": {},
   "outputs": [
    {
     "ename": "TypeError",
     "evalue": "unhashable type: 'list'",
     "output_type": "error",
     "traceback": [
      "\u001b[0;31m---------------------------------------------------------------------------\u001b[0m",
      "\u001b[0;31mTypeError\u001b[0m                                 Traceback (most recent call last)",
      "\u001b[0;32mpandas/_libs/hashtable_class_helper.pxi\u001b[0m in \u001b[0;36mpandas._libs.hashtable.PyObjectHashTable.map_locations\u001b[0;34m()\u001b[0m\n",
      "\u001b[0;31mTypeError\u001b[0m: unhashable type: 'list'"
     ]
    },
    {
     "name": "stderr",
     "output_type": "stream",
     "text": [
      "Exception ignored in: 'pandas._libs.index.IndexEngine._call_map_locations'\n",
      "Traceback (most recent call last):\n",
      "  File \"pandas/_libs/hashtable_class_helper.pxi\", line 5231, in pandas._libs.hashtable.PyObjectHashTable.map_locations\n",
      "TypeError: unhashable type: 'list'\n"
     ]
    },
    {
     "data": {
      "text/plain": [
       "[\\n5\\n]    11575\n",
       "[\\n4\\n]     3079\n",
       "[\\n3\\n]      832\n",
       "[\\n2\\n]      219\n",
       "NaN          212\n",
       "[\\n1\\n]        1\n",
       "[\\n7\\n]        1\n",
       "Name: Nr. of Doors, dtype: int64"
      ]
     },
     "execution_count": 191,
     "metadata": {},
     "output_type": "execute_result"
    }
   ],
   "source": [
    "df[\"Nr. of Doors\"].value_counts(dropna=False)"
   ]
  },
  {
   "cell_type": "code",
   "execution_count": 192,
   "metadata": {},
   "outputs": [
    {
     "data": {
      "text/plain": [
       "5      11575\n",
       "4       3079\n",
       "3        832\n",
       "2        219\n",
       "NaN      212\n",
       "1          1\n",
       "7          1\n",
       "Name: Nr. of Doors, dtype: int64"
      ]
     },
     "execution_count": 192,
     "metadata": {},
     "output_type": "execute_result"
    }
   ],
   "source": [
    "df[\"Nr. of Doors\"].str[0].str.strip().value_counts(dropna=False)"
   ]
  },
  {
   "cell_type": "code",
   "execution_count": 193,
   "metadata": {},
   "outputs": [],
   "source": [
    "df[\"door_count\"] = df[\"Nr. of Doors\"].str[0].str.strip()"
   ]
  },
  {
   "cell_type": "code",
   "execution_count": 194,
   "metadata": {},
   "outputs": [],
   "source": [
    "df.drop(columns=\"Nr. of Doors\", inplace=True)"
   ]
  },
  {
   "cell_type": "markdown",
   "metadata": {},
   "source": [
    "## \"Nr. of Seats\""
   ]
  },
  {
   "cell_type": "code",
   "execution_count": 195,
   "metadata": {},
   "outputs": [
    {
     "ename": "TypeError",
     "evalue": "unhashable type: 'list'",
     "output_type": "error",
     "traceback": [
      "\u001b[0;31m---------------------------------------------------------------------------\u001b[0m",
      "\u001b[0;31mTypeError\u001b[0m                                 Traceback (most recent call last)",
      "\u001b[0;32mpandas/_libs/hashtable_class_helper.pxi\u001b[0m in \u001b[0;36mpandas._libs.hashtable.PyObjectHashTable.map_locations\u001b[0;34m()\u001b[0m\n",
      "\u001b[0;31mTypeError\u001b[0m: unhashable type: 'list'"
     ]
    },
    {
     "name": "stderr",
     "output_type": "stream",
     "text": [
      "Exception ignored in: 'pandas._libs.index.IndexEngine._call_map_locations'\n",
      "Traceback (most recent call last):\n",
      "  File \"pandas/_libs/hashtable_class_helper.pxi\", line 5231, in pandas._libs.hashtable.PyObjectHashTable.map_locations\n",
      "TypeError: unhashable type: 'list'\n"
     ]
    },
    {
     "data": {
      "text/plain": [
       "[\\n5\\n]    13336\n",
       "[\\n4\\n]     1125\n",
       "NaN          977\n",
       "[\\n7\\n]      362\n",
       "[\\n2\\n]      116\n",
       "[\\n6\\n]        2\n",
       "[\\n3\\n]        1\n",
       "Name: Nr. of Seats, dtype: int64"
      ]
     },
     "execution_count": 195,
     "metadata": {},
     "output_type": "execute_result"
    }
   ],
   "source": [
    "df[\"Nr. of Seats\"].value_counts(dropna=False)"
   ]
  },
  {
   "cell_type": "code",
   "execution_count": 196,
   "metadata": {},
   "outputs": [
    {
     "data": {
      "text/plain": [
       "5      13336\n",
       "4       1125\n",
       "NaN      977\n",
       "7        362\n",
       "2        116\n",
       "6          2\n",
       "3          1\n",
       "Name: Nr. of Seats, dtype: int64"
      ]
     },
     "execution_count": 196,
     "metadata": {},
     "output_type": "execute_result"
    }
   ],
   "source": [
    "df[\"Nr. of Seats\"].str[0].str.strip().value_counts(dropna=False)"
   ]
  },
  {
   "cell_type": "code",
   "execution_count": 197,
   "metadata": {},
   "outputs": [],
   "source": [
    "df[\"seat_count\"] = df[\"Nr. of Seats\"].str[0].str.strip()"
   ]
  },
  {
   "cell_type": "code",
   "execution_count": 198,
   "metadata": {},
   "outputs": [],
   "source": [
    "df.drop(columns=\"Nr. of Seats\", inplace=True)"
   ]
  },
  {
   "cell_type": "code",
   "execution_count": 199,
   "metadata": {},
   "outputs": [
    {
     "data": {
      "text/plain": [
       "Index(['make_model', 'short_description', 'body_type', 'price', 'vat', 'km', 'registration', 'prev_owner', 'Previous Owners', 'Next Inspection', 'Inspection new', 'Warranty', 'Full Service', 'Non-smoking Vehicle', 'Paint Type', 'Model Code', 'Gearing Type', 'Displacement', 'Cylinders', 'Weight', 'Drive chain', 'Consumption', 'CO2 Emission', 'Emission Class', '\\nComfort & Convenience\\n', '\\nEntertainment & Media\\n', '\\nExtras\\n', '\\nSafety & Security\\n', 'description', 'Emission Label', 'Gears', 'Country version', 'make', 'hp_kW', 'used_new', 'fuel_type', 'upholstery_kind', 'upholstery_color', 'door_count', 'seat_count'], dtype='object')"
      ]
     },
     "execution_count": 199,
     "metadata": {},
     "output_type": "execute_result"
    }
   ],
   "source": [
    "df.columns"
   ]
  },
  {
   "cell_type": "markdown",
   "metadata": {},
   "source": [
    "## Gearing Type & Gears"
   ]
  },
  {
   "cell_type": "code",
   "execution_count": 200,
   "metadata": {},
   "outputs": [
    {
     "ename": "TypeError",
     "evalue": "unhashable type: 'list'",
     "output_type": "error",
     "traceback": [
      "\u001b[0;31m---------------------------------------------------------------------------\u001b[0m",
      "\u001b[0;31mTypeError\u001b[0m                                 Traceback (most recent call last)",
      "\u001b[0;32mpandas/_libs/hashtable_class_helper.pxi\u001b[0m in \u001b[0;36mpandas._libs.hashtable.PyObjectHashTable.map_locations\u001b[0;34m()\u001b[0m\n",
      "\u001b[0;31mTypeError\u001b[0m: unhashable type: 'list'"
     ]
    },
    {
     "name": "stderr",
     "output_type": "stream",
     "text": [
      "Exception ignored in: 'pandas._libs.index.IndexEngine._call_map_locations'\n",
      "Traceback (most recent call last):\n",
      "  File \"pandas/_libs/hashtable_class_helper.pxi\", line 5231, in pandas._libs.hashtable.PyObjectHashTable.map_locations\n",
      "TypeError: unhashable type: 'list'\n"
     ]
    },
    {
     "data": {
      "text/plain": [
       "[\\n, Manual, \\n]            8153\n",
       "[\\n, Automatic, \\n]         7297\n",
       "[\\n, Semi-automatic, \\n]     469\n",
       "Name: Gearing Type, dtype: int64"
      ]
     },
     "execution_count": 200,
     "metadata": {},
     "output_type": "execute_result"
    }
   ],
   "source": [
    "df[\"Gearing Type\"].value_counts(dropna=False)"
   ]
  },
  {
   "cell_type": "code",
   "execution_count": 201,
   "metadata": {},
   "outputs": [
    {
     "data": {
      "text/plain": [
       "Manual            8153\n",
       "Automatic         7297\n",
       "Semi-automatic     469\n",
       "Name: Gearing Type, dtype: int64"
      ]
     },
     "execution_count": 201,
     "metadata": {},
     "output_type": "execute_result"
    }
   ],
   "source": [
    "df[\"Gearing Type\"].str[1].str.strip().value_counts(dropna=False)"
   ]
  },
  {
   "cell_type": "code",
   "execution_count": 202,
   "metadata": {},
   "outputs": [],
   "source": [
    "df[\"auto_manuel\"] = df[\"Gearing Type\"].str[1].str.strip()"
   ]
  },
  {
   "cell_type": "code",
   "execution_count": 203,
   "metadata": {},
   "outputs": [
    {
     "data": {
      "text/html": [
       "<div>\n",
       "<style scoped>\n",
       "    .dataframe tbody tr th:only-of-type {\n",
       "        vertical-align: middle;\n",
       "    }\n",
       "\n",
       "    .dataframe tbody tr th {\n",
       "        vertical-align: top;\n",
       "    }\n",
       "\n",
       "    .dataframe thead th {\n",
       "        text-align: right;\n",
       "    }\n",
       "</style>\n",
       "<table border=\"1\" class=\"dataframe\">\n",
       "  <thead>\n",
       "    <tr style=\"text-align: right;\">\n",
       "      <th></th>\n",
       "      <th>auto_manuel</th>\n",
       "      <th>Gears</th>\n",
       "    </tr>\n",
       "  </thead>\n",
       "  <tbody>\n",
       "    <tr>\n",
       "      <th>15540</th>\n",
       "      <td>Automatic</td>\n",
       "      <td>[\\n6\\n]</td>\n",
       "    </tr>\n",
       "    <tr>\n",
       "      <th>12850</th>\n",
       "      <td>Manual</td>\n",
       "      <td>NaN</td>\n",
       "    </tr>\n",
       "    <tr>\n",
       "      <th>7074</th>\n",
       "      <td>Automatic</td>\n",
       "      <td>[\\n6\\n]</td>\n",
       "    </tr>\n",
       "    <tr>\n",
       "      <th>14811</th>\n",
       "      <td>Manual</td>\n",
       "      <td>[\\n5\\n]</td>\n",
       "    </tr>\n",
       "    <tr>\n",
       "      <th>7857</th>\n",
       "      <td>Automatic</td>\n",
       "      <td>[\\n6\\n]</td>\n",
       "    </tr>\n",
       "    <tr>\n",
       "      <th>2934</th>\n",
       "      <td>Automatic</td>\n",
       "      <td>[\\n7\\n]</td>\n",
       "    </tr>\n",
       "    <tr>\n",
       "      <th>14847</th>\n",
       "      <td>Manual</td>\n",
       "      <td>[\\n5\\n]</td>\n",
       "    </tr>\n",
       "    <tr>\n",
       "      <th>14880</th>\n",
       "      <td>Manual</td>\n",
       "      <td>[\\n5\\n]</td>\n",
       "    </tr>\n",
       "    <tr>\n",
       "      <th>4127</th>\n",
       "      <td>Manual</td>\n",
       "      <td>[\\n6\\n]</td>\n",
       "    </tr>\n",
       "    <tr>\n",
       "      <th>7598</th>\n",
       "      <td>Automatic</td>\n",
       "      <td>[\\n6\\n]</td>\n",
       "    </tr>\n",
       "    <tr>\n",
       "      <th>15880</th>\n",
       "      <td>Automatic</td>\n",
       "      <td>NaN</td>\n",
       "    </tr>\n",
       "    <tr>\n",
       "      <th>2043</th>\n",
       "      <td>Automatic</td>\n",
       "      <td>[\\n7\\n]</td>\n",
       "    </tr>\n",
       "    <tr>\n",
       "      <th>14304</th>\n",
       "      <td>Manual</td>\n",
       "      <td>[\\n5\\n]</td>\n",
       "    </tr>\n",
       "    <tr>\n",
       "      <th>3251</th>\n",
       "      <td>Automatic</td>\n",
       "      <td>[\\n7\\n]</td>\n",
       "    </tr>\n",
       "    <tr>\n",
       "      <th>15025</th>\n",
       "      <td>Automatic</td>\n",
       "      <td>NaN</td>\n",
       "    </tr>\n",
       "    <tr>\n",
       "      <th>45</th>\n",
       "      <td>Manual</td>\n",
       "      <td>[\\n5\\n]</td>\n",
       "    </tr>\n",
       "    <tr>\n",
       "      <th>11191</th>\n",
       "      <td>Manual</td>\n",
       "      <td>[\\n6\\n]</td>\n",
       "    </tr>\n",
       "    <tr>\n",
       "      <th>8977</th>\n",
       "      <td>Manual</td>\n",
       "      <td>[\\n5\\n]</td>\n",
       "    </tr>\n",
       "    <tr>\n",
       "      <th>7365</th>\n",
       "      <td>Manual</td>\n",
       "      <td>[\\n6\\n]</td>\n",
       "    </tr>\n",
       "    <tr>\n",
       "      <th>7102</th>\n",
       "      <td>Automatic</td>\n",
       "      <td>[\\n6\\n]</td>\n",
       "    </tr>\n",
       "    <tr>\n",
       "      <th>1241</th>\n",
       "      <td>Manual</td>\n",
       "      <td>NaN</td>\n",
       "    </tr>\n",
       "    <tr>\n",
       "      <th>8347</th>\n",
       "      <td>Automatic</td>\n",
       "      <td>NaN</td>\n",
       "    </tr>\n",
       "    <tr>\n",
       "      <th>15865</th>\n",
       "      <td>Automatic</td>\n",
       "      <td>[\\n6\\n]</td>\n",
       "    </tr>\n",
       "    <tr>\n",
       "      <th>15791</th>\n",
       "      <td>Automatic</td>\n",
       "      <td>NaN</td>\n",
       "    </tr>\n",
       "    <tr>\n",
       "      <th>13873</th>\n",
       "      <td>Automatic</td>\n",
       "      <td>NaN</td>\n",
       "    </tr>\n",
       "    <tr>\n",
       "      <th>5700</th>\n",
       "      <td>Manual</td>\n",
       "      <td>[\\n6\\n]</td>\n",
       "    </tr>\n",
       "    <tr>\n",
       "      <th>14613</th>\n",
       "      <td>Manual</td>\n",
       "      <td>[\\n5\\n]</td>\n",
       "    </tr>\n",
       "    <tr>\n",
       "      <th>12899</th>\n",
       "      <td>Manual</td>\n",
       "      <td>[\\n6\\n]</td>\n",
       "    </tr>\n",
       "    <tr>\n",
       "      <th>2711</th>\n",
       "      <td>Automatic</td>\n",
       "      <td>NaN</td>\n",
       "    </tr>\n",
       "    <tr>\n",
       "      <th>10471</th>\n",
       "      <td>Automatic</td>\n",
       "      <td>[\\n6\\n]</td>\n",
       "    </tr>\n",
       "    <tr>\n",
       "      <th>4792</th>\n",
       "      <td>Manual</td>\n",
       "      <td>[\\n6\\n]</td>\n",
       "    </tr>\n",
       "    <tr>\n",
       "      <th>14802</th>\n",
       "      <td>Manual</td>\n",
       "      <td>NaN</td>\n",
       "    </tr>\n",
       "    <tr>\n",
       "      <th>12963</th>\n",
       "      <td>Automatic</td>\n",
       "      <td>[\\n6\\n]</td>\n",
       "    </tr>\n",
       "    <tr>\n",
       "      <th>6597</th>\n",
       "      <td>Automatic</td>\n",
       "      <td>[\\n6\\n]</td>\n",
       "    </tr>\n",
       "    <tr>\n",
       "      <th>7179</th>\n",
       "      <td>Automatic</td>\n",
       "      <td>NaN</td>\n",
       "    </tr>\n",
       "    <tr>\n",
       "      <th>14891</th>\n",
       "      <td>Manual</td>\n",
       "      <td>NaN</td>\n",
       "    </tr>\n",
       "    <tr>\n",
       "      <th>12483</th>\n",
       "      <td>Automatic</td>\n",
       "      <td>[\\n6\\n]</td>\n",
       "    </tr>\n",
       "    <tr>\n",
       "      <th>11583</th>\n",
       "      <td>Manual</td>\n",
       "      <td>NaN</td>\n",
       "    </tr>\n",
       "    <tr>\n",
       "      <th>13430</th>\n",
       "      <td>Manual</td>\n",
       "      <td>NaN</td>\n",
       "    </tr>\n",
       "    <tr>\n",
       "      <th>4385</th>\n",
       "      <td>Manual</td>\n",
       "      <td>NaN</td>\n",
       "    </tr>\n",
       "    <tr>\n",
       "      <th>7525</th>\n",
       "      <td>Manual</td>\n",
       "      <td>[\\n6\\n]</td>\n",
       "    </tr>\n",
       "    <tr>\n",
       "      <th>5722</th>\n",
       "      <td>Automatic</td>\n",
       "      <td>[\\n6\\n]</td>\n",
       "    </tr>\n",
       "    <tr>\n",
       "      <th>11573</th>\n",
       "      <td>Manual</td>\n",
       "      <td>NaN</td>\n",
       "    </tr>\n",
       "    <tr>\n",
       "      <th>1166</th>\n",
       "      <td>Manual</td>\n",
       "      <td>[\\n5\\n]</td>\n",
       "    </tr>\n",
       "    <tr>\n",
       "      <th>9243</th>\n",
       "      <td>Manual</td>\n",
       "      <td>[\\n5\\n]</td>\n",
       "    </tr>\n",
       "    <tr>\n",
       "      <th>12811</th>\n",
       "      <td>Manual</td>\n",
       "      <td>[\\n6\\n]</td>\n",
       "    </tr>\n",
       "    <tr>\n",
       "      <th>8660</th>\n",
       "      <td>Manual</td>\n",
       "      <td>[\\n5\\n]</td>\n",
       "    </tr>\n",
       "    <tr>\n",
       "      <th>3310</th>\n",
       "      <td>Semi-automatic</td>\n",
       "      <td>[\\n7\\n]</td>\n",
       "    </tr>\n",
       "    <tr>\n",
       "      <th>937</th>\n",
       "      <td>Manual</td>\n",
       "      <td>[\\n5\\n]</td>\n",
       "    </tr>\n",
       "    <tr>\n",
       "      <th>7813</th>\n",
       "      <td>Automatic</td>\n",
       "      <td>[\\n6\\n]</td>\n",
       "    </tr>\n",
       "    <tr>\n",
       "      <th>6565</th>\n",
       "      <td>Manual</td>\n",
       "      <td>NaN</td>\n",
       "    </tr>\n",
       "    <tr>\n",
       "      <th>2299</th>\n",
       "      <td>Manual</td>\n",
       "      <td>[\\n6\\n]</td>\n",
       "    </tr>\n",
       "    <tr>\n",
       "      <th>13870</th>\n",
       "      <td>Automatic</td>\n",
       "      <td>NaN</td>\n",
       "    </tr>\n",
       "    <tr>\n",
       "      <th>1436</th>\n",
       "      <td>Manual</td>\n",
       "      <td>[\\n5\\n]</td>\n",
       "    </tr>\n",
       "    <tr>\n",
       "      <th>12585</th>\n",
       "      <td>Automatic</td>\n",
       "      <td>[\\n6\\n]</td>\n",
       "    </tr>\n",
       "    <tr>\n",
       "      <th>1719</th>\n",
       "      <td>Manual</td>\n",
       "      <td>[\\n5\\n]</td>\n",
       "    </tr>\n",
       "    <tr>\n",
       "      <th>9696</th>\n",
       "      <td>Automatic</td>\n",
       "      <td>NaN</td>\n",
       "    </tr>\n",
       "    <tr>\n",
       "      <th>10271</th>\n",
       "      <td>Manual</td>\n",
       "      <td>[\\n5\\n]</td>\n",
       "    </tr>\n",
       "    <tr>\n",
       "      <th>9622</th>\n",
       "      <td>Manual</td>\n",
       "      <td>[\\n5\\n]</td>\n",
       "    </tr>\n",
       "    <tr>\n",
       "      <th>3928</th>\n",
       "      <td>Automatic</td>\n",
       "      <td>[\\n7\\n]</td>\n",
       "    </tr>\n",
       "    <tr>\n",
       "      <th>1942</th>\n",
       "      <td>Automatic</td>\n",
       "      <td>NaN</td>\n",
       "    </tr>\n",
       "    <tr>\n",
       "      <th>4300</th>\n",
       "      <td>Manual</td>\n",
       "      <td>[\\n6\\n]</td>\n",
       "    </tr>\n",
       "    <tr>\n",
       "      <th>3147</th>\n",
       "      <td>Manual</td>\n",
       "      <td>[\\n6\\n]</td>\n",
       "    </tr>\n",
       "    <tr>\n",
       "      <th>1941</th>\n",
       "      <td>Automatic</td>\n",
       "      <td>NaN</td>\n",
       "    </tr>\n",
       "    <tr>\n",
       "      <th>2813</th>\n",
       "      <td>Automatic</td>\n",
       "      <td>[\\n6\\n]</td>\n",
       "    </tr>\n",
       "    <tr>\n",
       "      <th>297</th>\n",
       "      <td>Automatic</td>\n",
       "      <td>NaN</td>\n",
       "    </tr>\n",
       "    <tr>\n",
       "      <th>12942</th>\n",
       "      <td>Automatic</td>\n",
       "      <td>NaN</td>\n",
       "    </tr>\n",
       "    <tr>\n",
       "      <th>1824</th>\n",
       "      <td>Manual</td>\n",
       "      <td>NaN</td>\n",
       "    </tr>\n",
       "    <tr>\n",
       "      <th>14415</th>\n",
       "      <td>Automatic</td>\n",
       "      <td>NaN</td>\n",
       "    </tr>\n",
       "    <tr>\n",
       "      <th>1522</th>\n",
       "      <td>Manual</td>\n",
       "      <td>NaN</td>\n",
       "    </tr>\n",
       "    <tr>\n",
       "      <th>8805</th>\n",
       "      <td>Manual</td>\n",
       "      <td>[\\n5\\n]</td>\n",
       "    </tr>\n",
       "    <tr>\n",
       "      <th>9081</th>\n",
       "      <td>Automatic</td>\n",
       "      <td>[\\n6\\n]</td>\n",
       "    </tr>\n",
       "    <tr>\n",
       "      <th>7548</th>\n",
       "      <td>Manual</td>\n",
       "      <td>[\\n6\\n]</td>\n",
       "    </tr>\n",
       "    <tr>\n",
       "      <th>3213</th>\n",
       "      <td>Manual</td>\n",
       "      <td>[\\n6\\n]</td>\n",
       "    </tr>\n",
       "    <tr>\n",
       "      <th>13762</th>\n",
       "      <td>Manual</td>\n",
       "      <td>NaN</td>\n",
       "    </tr>\n",
       "    <tr>\n",
       "      <th>12669</th>\n",
       "      <td>Automatic</td>\n",
       "      <td>[\\n6\\n]</td>\n",
       "    </tr>\n",
       "    <tr>\n",
       "      <th>2946</th>\n",
       "      <td>Automatic</td>\n",
       "      <td>[\\n7\\n]</td>\n",
       "    </tr>\n",
       "    <tr>\n",
       "      <th>11680</th>\n",
       "      <td>Manual</td>\n",
       "      <td>NaN</td>\n",
       "    </tr>\n",
       "    <tr>\n",
       "      <th>1332</th>\n",
       "      <td>Manual</td>\n",
       "      <td>[\\n5\\n]</td>\n",
       "    </tr>\n",
       "    <tr>\n",
       "      <th>12036</th>\n",
       "      <td>Automatic</td>\n",
       "      <td>[\\n6\\n]</td>\n",
       "    </tr>\n",
       "    <tr>\n",
       "      <th>9346</th>\n",
       "      <td>Automatic</td>\n",
       "      <td>[\\n6\\n]</td>\n",
       "    </tr>\n",
       "    <tr>\n",
       "      <th>10495</th>\n",
       "      <td>Manual</td>\n",
       "      <td>[\\n6\\n]</td>\n",
       "    </tr>\n",
       "    <tr>\n",
       "      <th>12053</th>\n",
       "      <td>Automatic</td>\n",
       "      <td>NaN</td>\n",
       "    </tr>\n",
       "    <tr>\n",
       "      <th>14971</th>\n",
       "      <td>Automatic</td>\n",
       "      <td>NaN</td>\n",
       "    </tr>\n",
       "    <tr>\n",
       "      <th>11744</th>\n",
       "      <td>Manual</td>\n",
       "      <td>[\\n6\\n]</td>\n",
       "    </tr>\n",
       "    <tr>\n",
       "      <th>10155</th>\n",
       "      <td>Automatic</td>\n",
       "      <td>NaN</td>\n",
       "    </tr>\n",
       "    <tr>\n",
       "      <th>395</th>\n",
       "      <td>Automatic</td>\n",
       "      <td>[\\n7\\n]</td>\n",
       "    </tr>\n",
       "    <tr>\n",
       "      <th>4298</th>\n",
       "      <td>Manual</td>\n",
       "      <td>NaN</td>\n",
       "    </tr>\n",
       "    <tr>\n",
       "      <th>13817</th>\n",
       "      <td>Manual</td>\n",
       "      <td>[\\n5\\n]</td>\n",
       "    </tr>\n",
       "    <tr>\n",
       "      <th>6011</th>\n",
       "      <td>Automatic</td>\n",
       "      <td>[\\n6\\n]</td>\n",
       "    </tr>\n",
       "    <tr>\n",
       "      <th>6876</th>\n",
       "      <td>Manual</td>\n",
       "      <td>[\\n6\\n]</td>\n",
       "    </tr>\n",
       "    <tr>\n",
       "      <th>8910</th>\n",
       "      <td>Semi-automatic</td>\n",
       "      <td>[\\n5\\n]</td>\n",
       "    </tr>\n",
       "    <tr>\n",
       "      <th>7994</th>\n",
       "      <td>Manual</td>\n",
       "      <td>[\\n5\\n]</td>\n",
       "    </tr>\n",
       "    <tr>\n",
       "      <th>11025</th>\n",
       "      <td>Manual</td>\n",
       "      <td>[\\n6\\n]</td>\n",
       "    </tr>\n",
       "    <tr>\n",
       "      <th>8846</th>\n",
       "      <td>Automatic</td>\n",
       "      <td>NaN</td>\n",
       "    </tr>\n",
       "    <tr>\n",
       "      <th>1368</th>\n",
       "      <td>Manual</td>\n",
       "      <td>NaN</td>\n",
       "    </tr>\n",
       "    <tr>\n",
       "      <th>360</th>\n",
       "      <td>Automatic</td>\n",
       "      <td>NaN</td>\n",
       "    </tr>\n",
       "    <tr>\n",
       "      <th>2042</th>\n",
       "      <td>Automatic</td>\n",
       "      <td>NaN</td>\n",
       "    </tr>\n",
       "    <tr>\n",
       "      <th>3356</th>\n",
       "      <td>Semi-automatic</td>\n",
       "      <td>[\\n6\\n]</td>\n",
       "    </tr>\n",
       "    <tr>\n",
       "      <th>287</th>\n",
       "      <td>Automatic</td>\n",
       "      <td>NaN</td>\n",
       "    </tr>\n",
       "  </tbody>\n",
       "</table>\n",
       "</div>"
      ],
      "text/plain": [
       "          auto_manuel    Gears\n",
       "15540       Automatic  [\\n6\\n]\n",
       "12850          Manual      NaN\n",
       "7074        Automatic  [\\n6\\n]\n",
       "14811          Manual  [\\n5\\n]\n",
       "7857        Automatic  [\\n6\\n]\n",
       "2934        Automatic  [\\n7\\n]\n",
       "14847          Manual  [\\n5\\n]\n",
       "14880          Manual  [\\n5\\n]\n",
       "4127           Manual  [\\n6\\n]\n",
       "7598        Automatic  [\\n6\\n]\n",
       "15880       Automatic      NaN\n",
       "2043        Automatic  [\\n7\\n]\n",
       "14304          Manual  [\\n5\\n]\n",
       "3251        Automatic  [\\n7\\n]\n",
       "15025       Automatic      NaN\n",
       "45             Manual  [\\n5\\n]\n",
       "11191          Manual  [\\n6\\n]\n",
       "8977           Manual  [\\n5\\n]\n",
       "7365           Manual  [\\n6\\n]\n",
       "7102        Automatic  [\\n6\\n]\n",
       "1241           Manual      NaN\n",
       "8347        Automatic      NaN\n",
       "15865       Automatic  [\\n6\\n]\n",
       "15791       Automatic      NaN\n",
       "13873       Automatic      NaN\n",
       "5700           Manual  [\\n6\\n]\n",
       "14613          Manual  [\\n5\\n]\n",
       "12899          Manual  [\\n6\\n]\n",
       "2711        Automatic      NaN\n",
       "10471       Automatic  [\\n6\\n]\n",
       "4792           Manual  [\\n6\\n]\n",
       "14802          Manual      NaN\n",
       "12963       Automatic  [\\n6\\n]\n",
       "6597        Automatic  [\\n6\\n]\n",
       "7179        Automatic      NaN\n",
       "14891          Manual      NaN\n",
       "12483       Automatic  [\\n6\\n]\n",
       "11583          Manual      NaN\n",
       "13430          Manual      NaN\n",
       "4385           Manual      NaN\n",
       "7525           Manual  [\\n6\\n]\n",
       "5722        Automatic  [\\n6\\n]\n",
       "11573          Manual      NaN\n",
       "1166           Manual  [\\n5\\n]\n",
       "9243           Manual  [\\n5\\n]\n",
       "12811          Manual  [\\n6\\n]\n",
       "8660           Manual  [\\n5\\n]\n",
       "3310   Semi-automatic  [\\n7\\n]\n",
       "937            Manual  [\\n5\\n]\n",
       "7813        Automatic  [\\n6\\n]\n",
       "6565           Manual      NaN\n",
       "2299           Manual  [\\n6\\n]\n",
       "13870       Automatic      NaN\n",
       "1436           Manual  [\\n5\\n]\n",
       "12585       Automatic  [\\n6\\n]\n",
       "1719           Manual  [\\n5\\n]\n",
       "9696        Automatic      NaN\n",
       "10271          Manual  [\\n5\\n]\n",
       "9622           Manual  [\\n5\\n]\n",
       "3928        Automatic  [\\n7\\n]\n",
       "1942        Automatic      NaN\n",
       "4300           Manual  [\\n6\\n]\n",
       "3147           Manual  [\\n6\\n]\n",
       "1941        Automatic      NaN\n",
       "2813        Automatic  [\\n6\\n]\n",
       "297         Automatic      NaN\n",
       "12942       Automatic      NaN\n",
       "1824           Manual      NaN\n",
       "14415       Automatic      NaN\n",
       "1522           Manual      NaN\n",
       "8805           Manual  [\\n5\\n]\n",
       "9081        Automatic  [\\n6\\n]\n",
       "7548           Manual  [\\n6\\n]\n",
       "3213           Manual  [\\n6\\n]\n",
       "13762          Manual      NaN\n",
       "12669       Automatic  [\\n6\\n]\n",
       "2946        Automatic  [\\n7\\n]\n",
       "11680          Manual      NaN\n",
       "1332           Manual  [\\n5\\n]\n",
       "12036       Automatic  [\\n6\\n]\n",
       "9346        Automatic  [\\n6\\n]\n",
       "10495          Manual  [\\n6\\n]\n",
       "12053       Automatic      NaN\n",
       "14971       Automatic      NaN\n",
       "11744          Manual  [\\n6\\n]\n",
       "10155       Automatic      NaN\n",
       "395         Automatic  [\\n7\\n]\n",
       "4298           Manual      NaN\n",
       "13817          Manual  [\\n5\\n]\n",
       "6011        Automatic  [\\n6\\n]\n",
       "6876           Manual  [\\n6\\n]\n",
       "8910   Semi-automatic  [\\n5\\n]\n",
       "7994           Manual  [\\n5\\n]\n",
       "11025          Manual  [\\n6\\n]\n",
       "8846        Automatic      NaN\n",
       "1368           Manual      NaN\n",
       "360         Automatic      NaN\n",
       "2042        Automatic      NaN\n",
       "3356   Semi-automatic  [\\n6\\n]\n",
       "287         Automatic      NaN"
      ]
     },
     "execution_count": 203,
     "metadata": {},
     "output_type": "execute_result"
    }
   ],
   "source": [
    "df[[\"auto_manuel\", \"Gears\"]].sample(100) # they are different."
   ]
  },
  {
   "cell_type": "code",
   "execution_count": 204,
   "metadata": {},
   "outputs": [],
   "source": [
    "df.drop(columns= \"Gearing Type\", inplace=True)"
   ]
  },
  {
   "cell_type": "code",
   "execution_count": 205,
   "metadata": {
    "scrolled": true
   },
   "outputs": [
    {
     "data": {
      "text/plain": [
       "Index(['make_model', 'short_description', 'body_type', 'price', 'vat', 'km', 'registration', 'prev_owner', 'Previous Owners', 'Next Inspection', 'Inspection new', 'Warranty', 'Full Service', 'Non-smoking Vehicle', 'Paint Type', 'Model Code', 'Displacement', 'Cylinders', 'Weight', 'Drive chain', 'Consumption', 'CO2 Emission', 'Emission Class', '\\nComfort & Convenience\\n', '\\nEntertainment & Media\\n', '\\nExtras\\n', '\\nSafety & Security\\n', 'description', 'Emission Label', 'Gears', 'Country version', 'make', 'hp_kW', 'used_new', 'fuel_type', 'upholstery_kind', 'upholstery_color', 'door_count', 'seat_count', 'auto_manuel'], dtype='object')"
      ]
     },
     "execution_count": 205,
     "metadata": {},
     "output_type": "execute_result"
    }
   ],
   "source": [
    "df.columns"
   ]
  },
  {
   "cell_type": "markdown",
   "metadata": {},
   "source": [
    "## Displacement"
   ]
  },
  {
   "cell_type": "code",
   "execution_count": 206,
   "metadata": {
    "scrolled": true
   },
   "outputs": [
    {
     "ename": "TypeError",
     "evalue": "unhashable type: 'list'",
     "output_type": "error",
     "traceback": [
      "\u001b[0;31m---------------------------------------------------------------------------\u001b[0m",
      "\u001b[0;31mTypeError\u001b[0m                                 Traceback (most recent call last)",
      "\u001b[0;32mpandas/_libs/hashtable_class_helper.pxi\u001b[0m in \u001b[0;36mpandas._libs.hashtable.PyObjectHashTable.map_locations\u001b[0;34m()\u001b[0m\n",
      "\u001b[0;31mTypeError\u001b[0m: unhashable type: 'list'"
     ]
    },
    {
     "name": "stderr",
     "output_type": "stream",
     "text": [
      "Exception ignored in: 'pandas._libs.index.IndexEngine._call_map_locations'\n",
      "Traceback (most recent call last):\n",
      "  File \"pandas/_libs/hashtable_class_helper.pxi\", line 5231, in pandas._libs.hashtable.PyObjectHashTable.map_locations\n",
      "TypeError: unhashable type: 'list'\n"
     ]
    },
    {
     "data": {
      "text/plain": [
       "[\\n1,598 cc\\n]     4761\n",
       "[\\n999 cc\\n]       2438\n",
       "[\\n1,398 cc\\n]     1314\n",
       "[\\n1,399 cc\\n]      749\n",
       "[\\n1,229 cc\\n]      677\n",
       "[\\n1,956 cc\\n]      670\n",
       "[\\n1,461 cc\\n]      595\n",
       "[\\n1,490 cc\\n]      559\n",
       "NaN                 496\n",
       "[\\n1,422 cc\\n]      467\n",
       "[\\n1,197 cc\\n]      353\n",
       "[\\n898 cc\\n]        351\n",
       "[\\n1,395 cc\\n]      320\n",
       "[\\n1,968 cc\\n]      301\n",
       "[\\n1,149 cc\\n]      288\n",
       "[\\n1,618 cc\\n]      212\n",
       "[\\n1,798 cc\\n]      210\n",
       "[\\n1,498 cc\\n]      196\n",
       "[\\n1,600 cc\\n]      130\n",
       "[\\n1,248 cc\\n]      110\n",
       "[\\n1,997 cc\\n]      103\n",
       "[\\n1,364 cc\\n]      102\n",
       "[\\n1,400 cc\\n]       90\n",
       "[\\n998 cc\\n]         72\n",
       "[\\n1,500 cc\\n]       50\n",
       "[\\n2,000 cc\\n]       46\n",
       "[\\n1,000 cc\\n]       40\n",
       "[\\n1 cc\\n]           36\n",
       "[\\n1,998 cc\\n]       25\n",
       "[\\n2,480 cc\\n]       20\n",
       "[\\n1,200 cc\\n]       18\n",
       "[\\n1,984 cc\\n]       18\n",
       "[\\n1,397 cc\\n]       11\n",
       "[\\n899 cc\\n]         11\n",
       "[\\n160 cc\\n]          6\n",
       "[\\n929 cc\\n]          5\n",
       "[\\n1,499 cc\\n]        5\n",
       "[\\n997 cc\\n]          4\n",
       "[\\n1,596 cc\\n]        4\n",
       "[\\n139 cc\\n]          4\n",
       "[\\n900 cc\\n]          4\n",
       "[\\n1,599 cc\\n]        3\n",
       "[\\n1,199 cc\\n]        3\n",
       "[\\n1,396 cc\\n]        3\n",
       "[\\n1,495 cc\\n]        2\n",
       "[\\n1,589 cc\\n]        2\n",
       "[\\n1,300 cc\\n]        2\n",
       "[\\n2 cc\\n]            2\n",
       "[\\n995 cc\\n]          2\n",
       "[\\n1,496 cc\\n]        1\n",
       "[\\n890 cc\\n]          1\n",
       "[\\n1,580 cc\\n]        1\n",
       "[\\n1,995 cc\\n]        1\n",
       "[\\n1,333 cc\\n]        1\n",
       "[\\n54 cc\\n]           1\n",
       "[\\n1,533 cc\\n]        1\n",
       "[\\n1,100 cc\\n]        1\n",
       "[\\n1,350 cc\\n]        1\n",
       "[\\n16,000 cc\\n]       1\n",
       "[\\n1,856 cc\\n]        1\n",
       "[\\n1,568 cc\\n]        1\n",
       "[\\n1,896 cc\\n]        1\n",
       "[\\n1,584 cc\\n]        1\n",
       "[\\n996 cc\\n]          1\n",
       "[\\n1,696 cc\\n]        1\n",
       "[\\n1,686 cc\\n]        1\n",
       "[\\n15,898 cc\\n]       1\n",
       "[\\n1,368 cc\\n]        1\n",
       "[\\n140 cc\\n]          1\n",
       "[\\n973 cc\\n]          1\n",
       "[\\n1,239 cc\\n]        1\n",
       "[\\n1,369 cc\\n]        1\n",
       "[\\n1,390 cc\\n]        1\n",
       "[\\n122 cc\\n]          1\n",
       "[\\n1,198 cc\\n]        1\n",
       "[\\n1,195 cc\\n]        1\n",
       "[\\n2,967 cc\\n]        1\n",
       "[\\n1,800 cc\\n]        1\n",
       "Name: Displacement, dtype: int64"
      ]
     },
     "execution_count": 206,
     "metadata": {},
     "output_type": "execute_result"
    }
   ],
   "source": [
    "df.Displacement.value_counts(dropna=False)"
   ]
  },
  {
   "cell_type": "code",
   "execution_count": 207,
   "metadata": {},
   "outputs": [
    {
     "data": {
      "text/plain": [
       "1598     4761\n",
       "999      2438\n",
       "1398     1314\n",
       "1399      749\n",
       "1229      677\n",
       "1956      670\n",
       "1461      595\n",
       "1490      559\n",
       "NaN       496\n",
       "1422      467\n",
       "1197      353\n",
       "898       351\n",
       "1395      320\n",
       "1968      301\n",
       "1149      288\n",
       "1618      212\n",
       "1798      210\n",
       "1498      196\n",
       "1600      130\n",
       "1248      110\n",
       "1997      103\n",
       "1364      102\n",
       "1400       90\n",
       "998        72\n",
       "1500       50\n",
       "2000       46\n",
       "1000       40\n",
       "1          36\n",
       "1998       25\n",
       "2480       20\n",
       "1200       18\n",
       "1984       18\n",
       "1397       11\n",
       "899        11\n",
       "160         6\n",
       "929         5\n",
       "1499        5\n",
       "997         4\n",
       "1596        4\n",
       "139         4\n",
       "900         4\n",
       "1599        3\n",
       "1199        3\n",
       "1396        3\n",
       "1495        2\n",
       "1589        2\n",
       "1300        2\n",
       "2           2\n",
       "995         2\n",
       "1496        1\n",
       "890         1\n",
       "1580        1\n",
       "1995        1\n",
       "1333        1\n",
       "54          1\n",
       "1533        1\n",
       "1100        1\n",
       "1350        1\n",
       "16000       1\n",
       "1856        1\n",
       "1568        1\n",
       "1896        1\n",
       "1584        1\n",
       "996         1\n",
       "1696        1\n",
       "1686        1\n",
       "15898       1\n",
       "1368        1\n",
       "140         1\n",
       "973         1\n",
       "1239        1\n",
       "1369        1\n",
       "1390        1\n",
       "122         1\n",
       "1198        1\n",
       "1195        1\n",
       "2967        1\n",
       "1800        1\n",
       "Name: Displacement, dtype: int64"
      ]
     },
     "execution_count": 207,
     "metadata": {},
     "output_type": "execute_result"
    }
   ],
   "source": [
    "df.Displacement.str[0].str.strip().str.split().str[0].str.replace(\",\", \"\").value_counts(dropna=False)"
   ]
  },
  {
   "cell_type": "code",
   "execution_count": 208,
   "metadata": {},
   "outputs": [],
   "source": [
    "df[\"displacement_cc\"] = df.Displacement.str[0].str.strip().str.split().str[0].str.replace(\",\", \"\")"
   ]
  },
  {
   "cell_type": "code",
   "execution_count": 209,
   "metadata": {},
   "outputs": [],
   "source": [
    "df.drop(columns=\"Displacement\", inplace=True)"
   ]
  },
  {
   "cell_type": "code",
   "execution_count": 210,
   "metadata": {},
   "outputs": [
    {
     "data": {
      "text/plain": [
       "Index(['make_model', 'short_description', 'body_type', 'price', 'vat', 'km', 'registration', 'prev_owner', 'Previous Owners', 'Next Inspection', 'Inspection new', 'Warranty', 'Full Service', 'Non-smoking Vehicle', 'Paint Type', 'Model Code', 'Cylinders', 'Weight', 'Drive chain', 'Consumption', 'CO2 Emission', 'Emission Class', '\\nComfort & Convenience\\n', '\\nEntertainment & Media\\n', '\\nExtras\\n', '\\nSafety & Security\\n', 'description', 'Emission Label', 'Gears', 'Country version', 'make', 'hp_kW', 'used_new', 'fuel_type', 'upholstery_kind', 'upholstery_color', 'door_count', 'seat_count', 'auto_manuel', 'displacement_cc'], dtype='object')"
      ]
     },
     "execution_count": 210,
     "metadata": {},
     "output_type": "execute_result"
    }
   ],
   "source": [
    "df.columns"
   ]
  },
  {
   "cell_type": "markdown",
   "metadata": {},
   "source": [
    "## Consumption"
   ]
  },
  {
   "cell_type": "code",
   "execution_count": 337,
   "metadata": {
    "scrolled": false
   },
   "outputs": [
    {
     "ename": "TypeError",
     "evalue": "unhashable type: 'list'",
     "output_type": "error",
     "traceback": [
      "\u001b[0;31m---------------------------------------------------------------------------\u001b[0m",
      "\u001b[0;31mTypeError\u001b[0m                                 Traceback (most recent call last)",
      "\u001b[0;32mpandas/_libs/hashtable_class_helper.pxi\u001b[0m in \u001b[0;36mpandas._libs.hashtable.PyObjectHashTable.map_locations\u001b[0;34m()\u001b[0m\n",
      "\u001b[0;31mTypeError\u001b[0m: unhashable type: 'list'"
     ]
    },
    {
     "name": "stderr",
     "output_type": "stream",
     "text": [
      "Exception ignored in: 'pandas._libs.index.IndexEngine._call_map_locations'\n",
      "Traceback (most recent call last):\n",
      "  File \"pandas/_libs/hashtable_class_helper.pxi\", line 5231, in pandas._libs.hashtable.PyObjectHashTable.map_locations\n",
      "TypeError: unhashable type: 'list'\n"
     ]
    },
    {
     "data": {
      "text/plain": [
       "NaN                                                                                   1906\n",
       "[[3.9 l/100 km (comb)], [4.1 l/100 km (city)], [3.7 l/100 km (country)]]               304\n",
       "[[4.2 l/100 km (comb)], [5 l/100 km (city)], [3.7 l/100 km (country)]]                 276\n",
       "[[5.4 l/100 km (comb)], [6.8 l/100 km (city)], [4.5 l/100 km (country)]]               257\n",
       "[[3.8 l/100 km (comb)], [4.3 l/100 km (city)], [3.5 l/100 km (country)]]               253\n",
       "                                                                                      ... \n",
       "[[4.2 l/100 km (comb)], [5.3 l/100 km (city)], [3.6 l/100 km (country)]]                 1\n",
       "[\\n, 5.1 l/100 km (comb), \\n, 6.4 l/100 km (city), \\n, 4.3 l/100 km (country), \\n]       1\n",
       "[[4.6 l/100 km (comb)], [5.4 l/100 km (city)], [6.7 l/100 km (country)]]                 1\n",
       "[\\n, 6.3 l/100 km (comb), \\n, \\n, \\n]                                                    1\n",
       "[\\n, 7.4 l/100 km (comb), \\n, 9.6 l/100 km (city), \\n, 6 l/100 km (country), \\n]         1\n",
       "Name: Consumption, Length: 882, dtype: int64"
      ]
     },
     "execution_count": 337,
     "metadata": {},
     "output_type": "execute_result"
    }
   ],
   "source": [
    "df.Consumption.value_counts(dropna=False)"
   ]
  },
  {
   "cell_type": "code",
   "execution_count": 342,
   "metadata": {},
   "outputs": [
    {
     "name": "stdout",
     "output_type": "stream",
     "text": [
      "<class 'pandas.core.frame.DataFrame'>\n",
      "RangeIndex: 15919 entries, 0 to 15918\n",
      "Data columns (total 1 columns):\n",
      " #   Column       Dtype \n",
      "---  ------       ----- \n",
      " 0   Consumption  object\n",
      "dtypes: object(1)\n",
      "memory usage: 124.5+ KB\n"
     ]
    }
   ],
   "source": [
    "df[[\"Consumption\"]].info()"
   ]
  },
  {
   "cell_type": "code",
   "execution_count": 338,
   "metadata": {
    "scrolled": true
   },
   "outputs": [
    {
     "data": {
      "text/plain": [
       "NaN    15069\n",
       "         850\n",
       "Name: Consumption, dtype: int64"
      ]
     },
     "execution_count": 338,
     "metadata": {},
     "output_type": "execute_result"
    }
   ],
   "source": [
    "df.Consumption.str[0].str.strip().value_counts(dropna=False)"
   ]
  },
  {
   "cell_type": "code",
   "execution_count": 348,
   "metadata": {
    "scrolled": false
   },
   "outputs": [
    {
     "data": {
      "text/plain": [
       "0        3.8\n",
       "1        5.6\n",
       "2        3.8\n",
       "3        3.8\n",
       "4        4.1\n",
       "        ... \n",
       "15914    5.3\n",
       "15915    NaN\n",
       "15916    5.3\n",
       "15917    5.3\n",
       "15918    6.8\n",
       "Name: Consumption, Length: 15919, dtype: object"
      ]
     },
     "execution_count": 348,
     "metadata": {},
     "output_type": "execute_result"
    }
   ],
   "source": [
    "df.Consumption.str[0].str[0].str.split().str[0]"
   ]
  },
  {
   "cell_type": "code",
   "execution_count": 350,
   "metadata": {},
   "outputs": [],
   "source": [
    "df.Consumption.str[0].str[0].str.split().str[0]"
   ]
  },
  {
   "cell_type": "code",
   "execution_count": 349,
   "metadata": {
    "collapsed": true
   },
   "outputs": [
    {
     "data": {
      "text/plain": [
       "NaN     2883\n",
       "3.9      732\n",
       "4        712\n",
       "5.4      663\n",
       "5.1      630\n",
       "4.4      595\n",
       "3.8      585\n",
       "5.6      568\n",
       "4.7      555\n",
       "4.8      523\n",
       "5        513\n",
       "4.5      511\n",
       "5.2      429\n",
       "4.6      420\n",
       "4.2      408\n",
       "5.3      375\n",
       "3.7      369\n",
       "4.9      348\n",
       "5.5      342\n",
       "4.1      341\n",
       "5.9      308\n",
       "3.3      307\n",
       "5.7      302\n",
       "4.3      295\n",
       "3.5      288\n",
       "6        278\n",
       "3.6      194\n",
       "6.2      184\n",
       "5.8      142\n",
       "6.3      141\n",
       "6.1      135\n",
       "6.8      134\n",
       "6.6      119\n",
       "3.4      106\n",
       "3         69\n",
       "6.4       64\n",
       "7.4       62\n",
       "7.1       38\n",
       "6.5       36\n",
       "10        34\n",
       "6.7       33\n",
       "3.2       25\n",
       "6.9       21\n",
       "8.3       20\n",
       "7.6       14\n",
       "7          9\n",
       "3.1        7\n",
       "7.2        6\n",
       "7.8        6\n",
       "8          5\n",
       "51         4\n",
       "8.7        3\n",
       "8.6        3\n",
       "7.3        2\n",
       "7.9        2\n",
       "8.1        2\n",
       "40         2\n",
       "38         2\n",
       "0          2\n",
       "11         1\n",
       "43         1\n",
       "7.5        1\n",
       "13.8       1\n",
       "55         1\n",
       "54         1\n",
       "1.2        1\n",
       "32         1\n",
       "33         1\n",
       "50         1\n",
       "1          1\n",
       "46         1\n",
       "9.1        1\n",
       "Name: Consumption, dtype: int64"
      ]
     },
     "execution_count": 349,
     "metadata": {},
     "output_type": "execute_result"
    }
   ],
   "source": [
    "df.Consumption.str[0].str[0].str.split().str[0].value_counts(dropna=False)"
   ]
  },
  {
   "cell_type": "code",
   "execution_count": null,
   "metadata": {},
   "outputs": [],
   "source": [
    "df.Consumption.str[0].str[0].str.split().str[0]."
   ]
  },
  {
   "cell_type": "code",
   "execution_count": 214,
   "metadata": {},
   "outputs": [
    {
     "data": {
      "text/plain": [
       "NaN    15069\n",
       "         850\n",
       "Name: Consumption, dtype: int64"
      ]
     },
     "execution_count": 214,
     "metadata": {},
     "output_type": "execute_result"
    }
   ],
   "source": [
    "df.Consumption.str[2].str.strip().value_counts(dropna=False)"
   ]
  },
  {
   "cell_type": "code",
   "execution_count": 215,
   "metadata": {},
   "outputs": [
    {
     "data": {
      "text/plain": [
       "NaN                     15069\n",
       "7.3 l/100 km (city)        81\n",
       "7.8 l/100 km (city)        72\n",
       "6.7 l/100 km (city)        60\n",
       "7.5 l/100 km (city)        50\n",
       "7.2 l/100 km (city)        48\n",
       "5.9 l/100 km (city)        45\n",
       "7.7 l/100 km (city)        39\n",
       "7.1 l/100 km (city)        37\n",
       "5.8 l/100 km (city)        33\n",
       "5.4 l/100 km (city)        32\n",
       "5 l/100 km (city)          27\n",
       "6.2 l/100 km (city)        26\n",
       "7.9 l/100 km (city)        24\n",
       "8.2 l/100 km (city)        22\n",
       "6.3 l/100 km (city)        21\n",
       "7.6 l/100 km (city)        21\n",
       "6.4 l/100 km (city)        20\n",
       "8.3 l/100 km (city)        16\n",
       "8.6 l/100 km (city)        15\n",
       "6.6 l/100 km (city)        15\n",
       "                           14\n",
       "5.2 l/100 km (city)        12\n",
       "6 l/100 km (city)          12\n",
       "6.8 l/100 km (city)        11\n",
       "5.7 l/100 km (city)        11\n",
       "7 l/100 km (city)          10\n",
       "8 l/100 km (city)           9\n",
       "8.5 l/100 km (city)         9\n",
       "7.4 l/100 km (city)         9\n",
       "5.1 l/100 km (city)         9\n",
       "5.5 l/100 km (city)         9\n",
       "6.9 l/100 km (city)         8\n",
       "5.6 l/100 km (city)         4\n",
       "8.1 l/100 km (city)         4\n",
       "8.7 l/100 km (city)         3\n",
       "9.2 l/100 km (city)         3\n",
       "8.4 l/100 km (city)         2\n",
       "3.8 l/100 km (city)         1\n",
       "6.1 l/100 km (city)         1\n",
       "4.7 l/100 km (city)         1\n",
       "9.5 l/100 km (city)         1\n",
       "9.4 l/100 km (city)         1\n",
       "11.5 l/100 km (city)        1\n",
       "9.6 l/100 km (city)         1\n",
       "Name: Consumption, dtype: int64"
      ]
     },
     "execution_count": 215,
     "metadata": {},
     "output_type": "execute_result"
    }
   ],
   "source": [
    "df.Consumption.str[3].str.strip().value_counts(dropna=False)"
   ]
  },
  {
   "cell_type": "code",
   "execution_count": 216,
   "metadata": {},
   "outputs": [
    {
     "data": {
      "text/plain": [
       "NaN                       15083\n",
       "4.2 l/100 km (country)       77\n",
       "4.9 l/100 km (country)       71\n",
       "4.6 l/100 km (country)       70\n",
       "4.4 l/100 km (country)       69\n",
       "4.5 l/100 km (country)       59\n",
       "4.7 l/100 km (country)       53\n",
       "4.8 l/100 km (country)       52\n",
       "5.3 l/100 km (country)       51\n",
       "5.4 l/100 km (country)       49\n",
       "4 l/100 km (country)         34\n",
       "5.2 l/100 km (country)       33\n",
       "3.7 l/100 km (country)       30\n",
       "3.8 l/100 km (country)       27\n",
       "5 l/100 km (country)         24\n",
       "4.3 l/100 km (country)       24\n",
       "4.1 l/100 km (country)       23\n",
       "5.6 l/100 km (country)       23\n",
       "3.9 l/100 km (country)       18\n",
       "5.1 l/100 km (country)       17\n",
       "5.7 l/100 km (country)       13\n",
       "6 l/100 km (country)          7\n",
       "5.5 l/100 km (country)        6\n",
       "6.3 l/100 km (country)        3\n",
       "3.3 l/100 km (country)        1\n",
       "6.1 l/100 km (country)        1\n",
       "7 l/100 km (country)          1\n",
       "Name: Consumption, dtype: int64"
      ]
     },
     "execution_count": 216,
     "metadata": {},
     "output_type": "execute_result"
    }
   ],
   "source": [
    "df.Consumption.str[5].str.strip().value_counts(dropna=False)"
   ]
  },
  {
   "cell_type": "code",
   "execution_count": 359,
   "metadata": {},
   "outputs": [],
   "source": [
    "df[\"consumption_comb\"] = df.Consumption.str[0].str[0].str.strip().str.split().str[0]"
   ]
  },
  {
   "cell_type": "code",
   "execution_count": 220,
   "metadata": {},
   "outputs": [
    {
     "data": {
      "text/plain": [
       "NaN     2883\n",
       "3.9      732\n",
       "4        712\n",
       "5.4      663\n",
       "5.1      630\n",
       "4.4      595\n",
       "3.8      585\n",
       "5.6      568\n",
       "4.7      555\n",
       "4.8      523\n",
       "5        513\n",
       "4.5      511\n",
       "5.2      429\n",
       "4.6      420\n",
       "4.2      408\n",
       "5.3      375\n",
       "3.7      369\n",
       "4.9      348\n",
       "5.5      342\n",
       "4.1      341\n",
       "5.9      308\n",
       "3.3      307\n",
       "5.7      302\n",
       "4.3      295\n",
       "3.5      288\n",
       "6        278\n",
       "3.6      194\n",
       "6.2      184\n",
       "5.8      142\n",
       "6.3      141\n",
       "6.1      135\n",
       "6.8      134\n",
       "6.6      119\n",
       "3.4      106\n",
       "3         69\n",
       "6.4       64\n",
       "7.4       62\n",
       "7.1       38\n",
       "6.5       36\n",
       "10        34\n",
       "6.7       33\n",
       "3.2       25\n",
       "6.9       21\n",
       "8.3       20\n",
       "7.6       14\n",
       "7          9\n",
       "3.1        7\n",
       "7.2        6\n",
       "7.8        6\n",
       "8          5\n",
       "51         4\n",
       "8.7        3\n",
       "8.6        3\n",
       "7.3        2\n",
       "7.9        2\n",
       "8.1        2\n",
       "40         2\n",
       "38         2\n",
       "0          2\n",
       "11         1\n",
       "43         1\n",
       "7.5        1\n",
       "13.8       1\n",
       "55         1\n",
       "54         1\n",
       "1.2        1\n",
       "32         1\n",
       "33         1\n",
       "50         1\n",
       "1          1\n",
       "46         1\n",
       "9.1        1\n",
       "Name: consumption_comb, dtype: int64"
      ]
     },
     "execution_count": 220,
     "metadata": {},
     "output_type": "execute_result"
    }
   ],
   "source": [
    "df[\"consumption_comb\"].value_counts(dropna=False)"
   ]
  },
  {
   "cell_type": "code",
   "execution_count": 361,
   "metadata": {},
   "outputs": [],
   "source": [
    "df[[\"Consumption\", \"consumption_comb\"]].to_csv(\"consumption.csv\", index=False )"
   ]
  },
  {
   "cell_type": "code",
   "execution_count": null,
   "metadata": {
    "scrolled": true
   },
   "outputs": [],
   "source": [
    "df.columns"
   ]
  },
  {
   "cell_type": "markdown",
   "metadata": {},
   "source": [
    "## CO2 Emission"
   ]
  },
  {
   "cell_type": "code",
   "execution_count": 221,
   "metadata": {},
   "outputs": [
    {
     "ename": "TypeError",
     "evalue": "unhashable type: 'list'",
     "output_type": "error",
     "traceback": [
      "\u001b[0;31m---------------------------------------------------------------------------\u001b[0m",
      "\u001b[0;31mTypeError\u001b[0m                                 Traceback (most recent call last)",
      "\u001b[0;32mpandas/_libs/hashtable_class_helper.pxi\u001b[0m in \u001b[0;36mpandas._libs.hashtable.PyObjectHashTable.map_locations\u001b[0;34m()\u001b[0m\n",
      "\u001b[0;31mTypeError\u001b[0m: unhashable type: 'list'"
     ]
    },
    {
     "name": "stderr",
     "output_type": "stream",
     "text": [
      "Exception ignored in: 'pandas._libs.index.IndexEngine._call_map_locations'\n",
      "Traceback (most recent call last):\n",
      "  File \"pandas/_libs/hashtable_class_helper.pxi\", line 5231, in pandas._libs.hashtable.PyObjectHashTable.map_locations\n",
      "TypeError: unhashable type: 'list'\n"
     ]
    },
    {
     "data": {
      "text/plain": [
       "NaN                             1808\n",
       "[\\n120 g CO2/km (comb)\\n]        740\n",
       "[[], [], []]                     628\n",
       "[\\n99 g CO2/km (comb)\\n]         545\n",
       "[\\n97 g CO2/km (comb)\\n]         537\n",
       "[\\n104 g CO2/km (comb)\\n]        501\n",
       "[\\n102 g CO2/km (comb)\\n]        477\n",
       "[\\n103 g CO2/km (comb)\\n]        445\n",
       "[\\n114 g CO2/km (comb)\\n]        382\n",
       "[\\n124 g CO2/km (comb)\\n]        372\n",
       "[\\n107 g CO2/km (comb)\\n]        362\n",
       "[\\n108 g CO2/km (comb)\\n]        362\n",
       "[\\n119 g CO2/km (comb)\\n]        361\n",
       "[\\n106 g CO2/km (comb)\\n]        349\n",
       "[\\n128 g CO2/km (comb)\\n]        329\n",
       "[\\n126 g CO2/km (comb)\\n]        282\n",
       "[\\n85 g CO2/km (comb)\\n]         275\n",
       "[\\n118 g CO2/km (comb)\\n]        270\n",
       "[\\n110 g CO2/km (comb)\\n]        266\n",
       "[\\n127 g CO2/km (comb)\\n]        257\n",
       "[\\n117 g CO2/km (comb)\\n]        254\n",
       "[\\n111 g CO2/km (comb)\\n]        237\n",
       "[\\n113 g CO2/km (comb)\\n]        235\n",
       "[\\n109 g CO2/km (comb)\\n]        234\n",
       "[\\n139 g CO2/km (comb)\\n]        224\n",
       "[\\n140 g CO2/km (comb)\\n]        218\n",
       "[\\n129 g CO2/km (comb)\\n]        213\n",
       "[\\n105 g CO2/km (comb)\\n]        202\n",
       "[\\n135 g CO2/km (comb)\\n]        202\n",
       "[\\n92 g CO2/km (comb)\\n]         198\n",
       "[\\n130 g CO2/km (comb)\\n]        180\n",
       "[\\n123 g CO2/km (comb)\\n]        178\n",
       "[\\n150 g CO2/km (comb)\\n]        174\n",
       "[\\n112 g CO2/km (comb)\\n]        171\n",
       "[\\n143 g CO2/km (comb)\\n]        171\n",
       "[\\n95 g CO2/km (comb)\\n]         161\n",
       "[\\n116 g CO2/km (comb)\\n]        157\n",
       "[\\n141 g CO2/km (comb)\\n]        156\n",
       "[\\n98 g CO2/km (comb)\\n]         151\n",
       "[\\n133 g CO2/km (comb)\\n]        145\n",
       "[\\n136 g CO2/km (comb)\\n]        145\n",
       "[\\n137 g CO2/km (comb)\\n]        133\n",
       "[\\n125 g CO2/km (comb)\\n]        132\n",
       "[\\n134 g CO2/km (comb)\\n]        130\n",
       "[\\n145 g CO2/km (comb)\\n]        126\n",
       "[\\n149 g CO2/km (comb)\\n]        117\n",
       "[\\n153 g CO2/km (comb)\\n]        113\n",
       "[\\n147 g CO2/km (comb)\\n]        109\n",
       "[\\n101 g CO2/km (comb)\\n]        105\n",
       "[\\n132 g CO2/km (comb)\\n]        100\n",
       "[\\n115 g CO2/km (comb)\\n]         86\n",
       "[\\n122 g CO2/km (comb)\\n]         83\n",
       "[\\n121 g CO2/km (comb)\\n]         82\n",
       "[\\n138 g CO2/km (comb)\\n]         75\n",
       "[\\n93 g CO2/km (comb)\\n]          66\n",
       "[\\n168 g CO2/km (comb)\\n]         58\n",
       "[\\n142 g CO2/km (comb)\\n]         58\n",
       "[\\n148 g CO2/km (comb)\\n]         48\n",
       "[\\n131 g CO2/km (comb)\\n]         48\n",
       "[\\n154 g CO2/km (comb)\\n]         40\n",
       "[\\n144 g CO2/km (comb)\\n]         40\n",
       "[\\n94 g CO2/km (comb)\\n]          37\n",
       "[\\n146 g CO2/km (comb)\\n]         36\n",
       "[\\n100 g CO2/km (comb)\\n]         36\n",
       "[\\n90 g CO2/km (comb)\\n]          35\n",
       "[\\n151 g CO2/km (comb)\\n]         34\n",
       "[\\n91 g CO2/km (comb)\\n]          31\n",
       "[\\n186 g CO2/km (comb)\\n]         30\n",
       "[\\n152 g CO2/km (comb)\\n]         28\n",
       "[\\n187 g CO2/km (comb)\\n]         26\n",
       "[\\n172 g CO2/km (comb)\\n]         25\n",
       "[\\n82 g CO2/km (comb)\\n]          25\n",
       "[\\n96 g CO2/km (comb)\\n]          22\n",
       "[\\n189 g CO2/km (comb)\\n]         19\n",
       "[\\n89 g CO2/km (comb)\\n]          19\n",
       "[\\n157 g CO2/km (comb)\\n]         18\n",
       "[\\n158 g CO2/km (comb)\\n]         17\n",
       "[\\n88 g CO2/km (comb)\\n]          15\n",
       "[\\n169 g CO2/km (comb)\\n]         15\n",
       "[\\n156 g CO2/km (comb)\\n]         14\n",
       "[\\n164 g CO2/km (comb)\\n]         13\n",
       "[\\n161 g CO2/km (comb)\\n]         10\n",
       "[\\n170 g CO2/km (comb)\\n]         10\n",
       "[\\n166 g CO2/km (comb)\\n]          8\n",
       "[\\n175 g CO2/km (comb)\\n]          8\n",
       "[\\n155 g CO2/km (comb)\\n]          8\n",
       "[\\n188 g CO2/km (comb)\\n]          7\n",
       "[\\n159 g CO2/km (comb)\\n]          7\n",
       "[\\n174 g CO2/km (comb)\\n]          6\n",
       "[\\n87 g CO2/km (comb)\\n]           6\n",
       "[\\n197 g CO2/km (comb)\\n]          4\n",
       "[\\n194 g CO2/km (comb)\\n]          3\n",
       "[\\n5 g CO2/km (comb)\\n]            3\n",
       "[\\n36 g CO2/km (comb)\\n]           3\n",
       "[\\n12,087 g CO2/km (comb)\\n]       3\n",
       "[\\n84 g CO2/km (comb)\\n]           2\n",
       "[\\n191 g CO2/km (comb)\\n]          2\n",
       "[\\n167 g CO2/km (comb)\\n]          2\n",
       "[\\n0 g CO2/km (comb)\\n]            2\n",
       "[\\n199 g CO2/km (comb)\\n]          2\n",
       "[\\n162 g CO2/km (comb)\\n]          2\n",
       "[\\n177 g CO2/km (comb)\\n]          1\n",
       "[\\n181 g CO2/km (comb)\\n]          1\n",
       "[\\n331 g CO2/km (comb)\\n]          1\n",
       "[\\n45 g CO2/km (comb)\\n]           1\n",
       "[\\n180 g CO2/km (comb)\\n]          1\n",
       "[\\n171 g CO2/km (comb)\\n]          1\n",
       "[\\n183 g CO2/km (comb)\\n]          1\n",
       "[\\n1 g CO2/km (comb)\\n]            1\n",
       "[\\n13,983 g CO2/km (comb)\\n]       1\n",
       "[\\n184 g CO2/km (comb)\\n]          1\n",
       "[\\n14,457 g CO2/km (comb)\\n]       1\n",
       "[\\n12,324 g CO2/km (comb)\\n]       1\n",
       "[\\n239 g CO2/km (comb)\\n]          1\n",
       "[\\n160 g CO2/km (comb)\\n]          1\n",
       "[\\n190 g CO2/km (comb)\\n]          1\n",
       "[\\n80 g CO2/km (comb)\\n]           1\n",
       "[\\n990 g CO2/km (comb)\\n]          1\n",
       "[\\n253 g CO2/km (comb)\\n]          1\n",
       "[\\n14 g CO2/km (comb)\\n]           1\n",
       "[\\n1,060 g CO2/km (comb)\\n]        1\n",
       "[\\n51 g CO2/km (comb)\\n]           1\n",
       "[\\n165 g CO2/km (comb)\\n]          1\n",
       "[\\n193 g CO2/km (comb)\\n]          1\n",
       "Name: CO2 Emission, dtype: int64"
      ]
     },
     "execution_count": 221,
     "metadata": {},
     "output_type": "execute_result"
    }
   ],
   "source": [
    "df[\"CO2 Emission\"].value_counts(dropna=False)"
   ]
  },
  {
   "cell_type": "code",
   "execution_count": 222,
   "metadata": {},
   "outputs": [
    {
     "data": {
      "text/plain": [
       "NaN                       2436\n",
       "120 g CO2/km (comb)        740\n",
       "99 g CO2/km (comb)         545\n",
       "97 g CO2/km (comb)         537\n",
       "104 g CO2/km (comb)        501\n",
       "102 g CO2/km (comb)        477\n",
       "103 g CO2/km (comb)        445\n",
       "114 g CO2/km (comb)        382\n",
       "124 g CO2/km (comb)        372\n",
       "107 g CO2/km (comb)        362\n",
       "108 g CO2/km (comb)        362\n",
       "119 g CO2/km (comb)        361\n",
       "106 g CO2/km (comb)        349\n",
       "128 g CO2/km (comb)        329\n",
       "126 g CO2/km (comb)        282\n",
       "85 g CO2/km (comb)         275\n",
       "118 g CO2/km (comb)        270\n",
       "110 g CO2/km (comb)        266\n",
       "127 g CO2/km (comb)        257\n",
       "117 g CO2/km (comb)        254\n",
       "111 g CO2/km (comb)        237\n",
       "113 g CO2/km (comb)        235\n",
       "109 g CO2/km (comb)        234\n",
       "139 g CO2/km (comb)        224\n",
       "140 g CO2/km (comb)        218\n",
       "129 g CO2/km (comb)        213\n",
       "105 g CO2/km (comb)        202\n",
       "135 g CO2/km (comb)        202\n",
       "92 g CO2/km (comb)         198\n",
       "130 g CO2/km (comb)        180\n",
       "123 g CO2/km (comb)        178\n",
       "150 g CO2/km (comb)        174\n",
       "112 g CO2/km (comb)        171\n",
       "143 g CO2/km (comb)        171\n",
       "95 g CO2/km (comb)         161\n",
       "116 g CO2/km (comb)        157\n",
       "141 g CO2/km (comb)        156\n",
       "98 g CO2/km (comb)         151\n",
       "133 g CO2/km (comb)        145\n",
       "136 g CO2/km (comb)        145\n",
       "137 g CO2/km (comb)        133\n",
       "125 g CO2/km (comb)        132\n",
       "134 g CO2/km (comb)        130\n",
       "145 g CO2/km (comb)        126\n",
       "149 g CO2/km (comb)        117\n",
       "153 g CO2/km (comb)        113\n",
       "147 g CO2/km (comb)        109\n",
       "101 g CO2/km (comb)        105\n",
       "132 g CO2/km (comb)        100\n",
       "115 g CO2/km (comb)         86\n",
       "122 g CO2/km (comb)         83\n",
       "121 g CO2/km (comb)         82\n",
       "138 g CO2/km (comb)         75\n",
       "93 g CO2/km (comb)          66\n",
       "168 g CO2/km (comb)         58\n",
       "142 g CO2/km (comb)         58\n",
       "148 g CO2/km (comb)         48\n",
       "131 g CO2/km (comb)         48\n",
       "154 g CO2/km (comb)         40\n",
       "144 g CO2/km (comb)         40\n",
       "94 g CO2/km (comb)          37\n",
       "146 g CO2/km (comb)         36\n",
       "100 g CO2/km (comb)         36\n",
       "90 g CO2/km (comb)          35\n",
       "151 g CO2/km (comb)         34\n",
       "91 g CO2/km (comb)          31\n",
       "186 g CO2/km (comb)         30\n",
       "152 g CO2/km (comb)         28\n",
       "187 g CO2/km (comb)         26\n",
       "172 g CO2/km (comb)         25\n",
       "82 g CO2/km (comb)          25\n",
       "96 g CO2/km (comb)          22\n",
       "189 g CO2/km (comb)         19\n",
       "89 g CO2/km (comb)          19\n",
       "157 g CO2/km (comb)         18\n",
       "158 g CO2/km (comb)         17\n",
       "88 g CO2/km (comb)          15\n",
       "169 g CO2/km (comb)         15\n",
       "156 g CO2/km (comb)         14\n",
       "164 g CO2/km (comb)         13\n",
       "161 g CO2/km (comb)         10\n",
       "170 g CO2/km (comb)         10\n",
       "166 g CO2/km (comb)          8\n",
       "175 g CO2/km (comb)          8\n",
       "155 g CO2/km (comb)          8\n",
       "188 g CO2/km (comb)          7\n",
       "159 g CO2/km (comb)          7\n",
       "174 g CO2/km (comb)          6\n",
       "87 g CO2/km (comb)           6\n",
       "197 g CO2/km (comb)          4\n",
       "194 g CO2/km (comb)          3\n",
       "5 g CO2/km (comb)            3\n",
       "36 g CO2/km (comb)           3\n",
       "12,087 g CO2/km (comb)       3\n",
       "84 g CO2/km (comb)           2\n",
       "191 g CO2/km (comb)          2\n",
       "167 g CO2/km (comb)          2\n",
       "0 g CO2/km (comb)            2\n",
       "199 g CO2/km (comb)          2\n",
       "162 g CO2/km (comb)          2\n",
       "177 g CO2/km (comb)          1\n",
       "181 g CO2/km (comb)          1\n",
       "331 g CO2/km (comb)          1\n",
       "45 g CO2/km (comb)           1\n",
       "180 g CO2/km (comb)          1\n",
       "171 g CO2/km (comb)          1\n",
       "183 g CO2/km (comb)          1\n",
       "1 g CO2/km (comb)            1\n",
       "13,983 g CO2/km (comb)       1\n",
       "184 g CO2/km (comb)          1\n",
       "14,457 g CO2/km (comb)       1\n",
       "12,324 g CO2/km (comb)       1\n",
       "239 g CO2/km (comb)          1\n",
       "160 g CO2/km (comb)          1\n",
       "190 g CO2/km (comb)          1\n",
       "80 g CO2/km (comb)           1\n",
       "990 g CO2/km (comb)          1\n",
       "253 g CO2/km (comb)          1\n",
       "14 g CO2/km (comb)           1\n",
       "1,060 g CO2/km (comb)        1\n",
       "51 g CO2/km (comb)           1\n",
       "165 g CO2/km (comb)          1\n",
       "193 g CO2/km (comb)          1\n",
       "Name: CO2 Emission, dtype: int64"
      ]
     },
     "execution_count": 222,
     "metadata": {},
     "output_type": "execute_result"
    }
   ],
   "source": [
    "df[\"CO2 Emission\"].str[0].str.strip().value_counts(dropna=False)"
   ]
  },
  {
   "cell_type": "code",
   "execution_count": 223,
   "metadata": {},
   "outputs": [
    {
     "data": {
      "text/plain": [
       "NaN       2436\n",
       "120        740\n",
       "99         545\n",
       "97         537\n",
       "104        501\n",
       "102        477\n",
       "103        445\n",
       "114        382\n",
       "124        372\n",
       "107        362\n",
       "108        362\n",
       "119        361\n",
       "106        349\n",
       "128        329\n",
       "126        282\n",
       "85         275\n",
       "118        270\n",
       "110        266\n",
       "127        257\n",
       "117        254\n",
       "111        237\n",
       "113        235\n",
       "109        234\n",
       "139        224\n",
       "140        218\n",
       "129        213\n",
       "105        202\n",
       "135        202\n",
       "92         198\n",
       "130        180\n",
       "123        178\n",
       "150        174\n",
       "112        171\n",
       "143        171\n",
       "95         161\n",
       "116        157\n",
       "141        156\n",
       "98         151\n",
       "133        145\n",
       "136        145\n",
       "137        133\n",
       "125        132\n",
       "134        130\n",
       "145        126\n",
       "149        117\n",
       "153        113\n",
       "147        109\n",
       "101        105\n",
       "132        100\n",
       "115         86\n",
       "122         83\n",
       "121         82\n",
       "138         75\n",
       "93          66\n",
       "168         58\n",
       "142         58\n",
       "148         48\n",
       "131         48\n",
       "154         40\n",
       "144         40\n",
       "94          37\n",
       "146         36\n",
       "100         36\n",
       "90          35\n",
       "151         34\n",
       "91          31\n",
       "186         30\n",
       "152         28\n",
       "187         26\n",
       "172         25\n",
       "82          25\n",
       "96          22\n",
       "189         19\n",
       "89          19\n",
       "157         18\n",
       "158         17\n",
       "88          15\n",
       "169         15\n",
       "156         14\n",
       "164         13\n",
       "161         10\n",
       "170         10\n",
       "166          8\n",
       "175          8\n",
       "155          8\n",
       "188          7\n",
       "159          7\n",
       "174          6\n",
       "87           6\n",
       "197          4\n",
       "194          3\n",
       "5            3\n",
       "36           3\n",
       "12,087       3\n",
       "84           2\n",
       "191          2\n",
       "167          2\n",
       "0            2\n",
       "199          2\n",
       "162          2\n",
       "177          1\n",
       "181          1\n",
       "331          1\n",
       "45           1\n",
       "180          1\n",
       "171          1\n",
       "183          1\n",
       "1            1\n",
       "13,983       1\n",
       "184          1\n",
       "14,457       1\n",
       "12,324       1\n",
       "239          1\n",
       "160          1\n",
       "190          1\n",
       "80           1\n",
       "990          1\n",
       "253          1\n",
       "14           1\n",
       "1,060        1\n",
       "51           1\n",
       "165          1\n",
       "193          1\n",
       "Name: CO2 Emission, dtype: int64"
      ]
     },
     "execution_count": 223,
     "metadata": {},
     "output_type": "execute_result"
    }
   ],
   "source": [
    "df[\"CO2 Emission\"].str[0].str.strip().str.split().str[0].value_counts(dropna=False)"
   ]
  },
  {
   "cell_type": "code",
   "execution_count": 224,
   "metadata": {},
   "outputs": [],
   "source": [
    "df[\"co2_emission\"] = df[\"CO2 Emission\"].str[0].str.strip().str.split().str[0]"
   ]
  },
  {
   "cell_type": "code",
   "execution_count": 225,
   "metadata": {},
   "outputs": [],
   "source": [
    "df.drop(columns=\"CO2 Emission\", inplace=True)"
   ]
  },
  {
   "cell_type": "code",
   "execution_count": 226,
   "metadata": {},
   "outputs": [
    {
     "data": {
      "text/plain": [
       "Index(['make_model', 'short_description', 'body_type', 'price', 'vat', 'km', 'registration', 'prev_owner', 'Previous Owners', 'Next Inspection', 'Inspection new', 'Warranty', 'Full Service', 'Non-smoking Vehicle', 'Paint Type', 'Model Code', 'Cylinders', 'Weight', 'Drive chain', 'Consumption', 'Emission Class', '\\nComfort & Convenience\\n', '\\nEntertainment & Media\\n', '\\nExtras\\n', '\\nSafety & Security\\n', 'description', 'Emission Label', 'Gears', 'Country version', 'make', 'hp_kW', 'used_new', 'fuel_type', 'upholstery_kind', 'upholstery_color', 'door_count', 'seat_count', 'auto_manuel', 'displacement_cc', 'consumption_comb', 'co2_emission'], dtype='object')"
      ]
     },
     "execution_count": 226,
     "metadata": {},
     "output_type": "execute_result"
    }
   ],
   "source": [
    "df.columns"
   ]
  },
  {
   "cell_type": "code",
   "execution_count": 227,
   "metadata": {},
   "outputs": [
    {
     "ename": "TypeError",
     "evalue": "unhashable type: 'list'",
     "output_type": "error",
     "traceback": [
      "\u001b[0;31m---------------------------------------------------------------------------\u001b[0m",
      "\u001b[0;31mTypeError\u001b[0m                                 Traceback (most recent call last)",
      "\u001b[0;32mpandas/_libs/hashtable_class_helper.pxi\u001b[0m in \u001b[0;36mpandas._libs.hashtable.PyObjectHashTable.map_locations\u001b[0;34m()\u001b[0m\n",
      "\u001b[0;31mTypeError\u001b[0m: unhashable type: 'list'"
     ]
    },
    {
     "name": "stderr",
     "output_type": "stream",
     "text": [
      "Exception ignored in: 'pandas._libs.index.IndexEngine._call_map_locations'\n",
      "Traceback (most recent call last):\n",
      "  File \"pandas/_libs/hashtable_class_helper.pxi\", line 5231, in pandas._libs.hashtable.PyObjectHashTable.map_locations\n",
      "TypeError: unhashable type: 'list'\n"
     ]
    },
    {
     "data": {
      "text/plain": [
       "[\\nEuro 6\\n]          10139\n",
       "NaN                    3021\n",
       "[\\nEuro 6d-TEMP\\n]     1845\n",
       "[[], [], []]            607\n",
       "[\\nEuro 6c\\n]           127\n",
       "[\\nEuro 5\\n]             78\n",
       "[\\nEuro 6d\\n]            62\n",
       "[\\nEuro 4\\n]             40\n",
       "Name: Emission Class, dtype: int64"
      ]
     },
     "execution_count": 227,
     "metadata": {},
     "output_type": "execute_result"
    }
   ],
   "source": [
    "df[\"Emission Class\"].value_counts(dropna=False)"
   ]
  },
  {
   "cell_type": "code",
   "execution_count": 228,
   "metadata": {},
   "outputs": [
    {
     "data": {
      "text/plain": [
       "Euro 6          10139\n",
       "NaN              3628\n",
       "Euro 6d-TEMP     1845\n",
       "Euro 6c           127\n",
       "Euro 5             78\n",
       "Euro 6d            62\n",
       "Euro 4             40\n",
       "Name: Emission Class, dtype: int64"
      ]
     },
     "execution_count": 228,
     "metadata": {},
     "output_type": "execute_result"
    }
   ],
   "source": [
    "df[\"Emission Class\"].str[0].str.strip().value_counts(dropna=False)"
   ]
  },
  {
   "cell_type": "code",
   "execution_count": 229,
   "metadata": {},
   "outputs": [],
   "source": [
    "df.emission_class = df[\"Emission Class\"].str[0].str.strip()"
   ]
  },
  {
   "cell_type": "code",
   "execution_count": 230,
   "metadata": {
    "scrolled": true
   },
   "outputs": [],
   "source": [
    "df.drop(columns=\"Emission Class\", inplace=True)"
   ]
  },
  {
   "cell_type": "code",
   "execution_count": 231,
   "metadata": {},
   "outputs": [
    {
     "data": {
      "text/plain": [
       "Index(['make_model', 'short_description', 'body_type', 'price', 'vat', 'km', 'registration', 'prev_owner', 'Previous Owners', 'Next Inspection', 'Inspection new', 'Warranty', 'Full Service', 'Non-smoking Vehicle', 'Paint Type', 'Model Code', 'Cylinders', 'Weight', 'Drive chain', 'Consumption', '\\nComfort & Convenience\\n', '\\nEntertainment & Media\\n', '\\nExtras\\n', '\\nSafety & Security\\n', 'description', 'Emission Label', 'Gears', 'Country version', 'make', 'hp_kW', 'used_new', 'fuel_type', 'upholstery_kind', 'upholstery_color', 'door_count', 'seat_count', 'auto_manuel', 'displacement_cc', 'consumption_comb', 'co2_emission'], dtype='object')"
      ]
     },
     "execution_count": 231,
     "metadata": {},
     "output_type": "execute_result"
    }
   ],
   "source": [
    "df.columns"
   ]
  },
  {
   "cell_type": "markdown",
   "metadata": {},
   "source": [
    "## '\\nComfort & Convenience\\n'"
   ]
  },
  {
   "cell_type": "code",
   "execution_count": 232,
   "metadata": {},
   "outputs": [
    {
     "data": {
      "text/plain": [
       "0                                                                                                                                                                                               [Air conditioning, Armrest, Automatic climate control, Cruise control, Electrical side mirrors, Hill Holder, Leather steering wheel, Light sensor, Multi-function steering wheel, Navigation system, Park Distance Control, Parking assist system sensors rear, Power windows, Rain sensor, Seat heating, Start-stop system]\n",
       "1                                                                                                                                                                                                                                                                                                                                   [Air conditioning, Automatic climate control, Hill Holder, Leather steering wheel, Lumbar support, Parking assist system sensors rear, Power windows, Start-stop system, Tinted windows]\n",
       "2                                                                                                                                                                                                                         [Air conditioning, Cruise control, Electrical side mirrors, Hill Holder, Leather steering wheel, Multi-function steering wheel, Navigation system, Park Distance Control, Parking assist system sensors front, Parking assist system sensors rear, Power windows, Seat heating, Start-stop system]\n",
       "3                                                                                                                                                                                                                                [Air suspension, Armrest, Auxiliary heating, Electrical side mirrors, Heads-up display, Hill Holder, Leather steering wheel, Light sensor, Lumbar support, Multi-function steering wheel, Navigation system, Power windows, Rain sensor, Seat heating, Split rear seats, Start-stop system]\n",
       "4                                                                                                                                                                                                                                                [Air conditioning, Armrest, Automatic climate control, Electrical side mirrors, Hill Holder, Leather steering wheel, Light sensor, Multi-function steering wheel, Park Distance Control, Parking assist system sensors rear, Power windows, Rain sensor, Start-stop system]\n",
       "                                                                                                                                                                                                                                                                ...                                                                                                                                                                                                                                                         \n",
       "15914                                                                  [Air conditioning, Automatic climate control, Cruise control, Electrically adjustable seats, Electrical side mirrors, Hill Holder, Keyless central door lock, Leather steering wheel, Light sensor, Massage seats, Multi-function steering wheel, Navigation system, Park Distance Control, Parking assist system sensors front, Parking assist system sensors rear, Power windows, Rain sensor, Split rear seats, Start-stop system, Tinted windows]\n",
       "15915    [Air conditioning, Automatic climate control, Cruise control, Electrically heated windshield, Electrical side mirrors, Electric tailgate, Heads-up display, Heated steering wheel, Hill Holder, Keyless central door lock, Leather steering wheel, Light sensor, Lumbar support, Navigation system, Park Distance Control, Parking assist system camera, Parking assist system self-steering, Parking assist system sensors front, Parking assist system sensors rear, Power windows, Rain sensor, Seat heating,...\n",
       "15916    [Air conditioning, Armrest, Automatic climate control, Cruise control, Electrically heated windshield, Electrical side mirrors, Electric tailgate, Heads-up display, Heated steering wheel, Leather steering wheel, Light sensor, Massage seats, Multi-function steering wheel, Navigation system, Panorama roof, Park Distance Control, Parking assist system camera, Parking assist system sensors front, Parking assist system sensors rear, Power windows, Rain sensor, Seat heating, Seat ventilation, Sunr...\n",
       "15917                                                                                                                                                                                                                                                                                                   [Air conditioning, Automatic climate control, Cruise control, Electrically adjustable seats, Electrical side mirrors, Leather steering wheel, Light sensor, Park Distance Control, Power windows, Start-stop system]\n",
       "15918                                                                                                                                                                                                                                                                                          [Air conditioning, Automatic climate control, Cruise control, Electrically adjustable seats, Electrical side mirrors, Electric tailgate, Hill Holder, Leather steering wheel, Navigation system, Power windows, Seat heating]\n",
       "Name: \\nComfort & Convenience\\n, Length: 15919, dtype: object"
      ]
     },
     "execution_count": 232,
     "metadata": {},
     "output_type": "execute_result"
    }
   ],
   "source": [
    "df['\\nComfort & Convenience\\n']"
   ]
  },
  {
   "cell_type": "code",
   "execution_count": 233,
   "metadata": {
    "scrolled": true
   },
   "outputs": [
    {
     "ename": "TypeError",
     "evalue": "unhashable type: 'list'",
     "output_type": "error",
     "traceback": [
      "\u001b[0;31m---------------------------------------------------------------------------\u001b[0m",
      "\u001b[0;31mTypeError\u001b[0m                                 Traceback (most recent call last)",
      "\u001b[0;32mpandas/_libs/hashtable_class_helper.pxi\u001b[0m in \u001b[0;36mpandas._libs.hashtable.PyObjectHashTable.map_locations\u001b[0;34m()\u001b[0m\n",
      "\u001b[0;31mTypeError\u001b[0m: unhashable type: 'list'"
     ]
    },
    {
     "name": "stderr",
     "output_type": "stream",
     "text": [
      "Exception ignored in: 'pandas._libs.index.IndexEngine._call_map_locations'\n",
      "Traceback (most recent call last):\n",
      "  File \"pandas/_libs/hashtable_class_helper.pxi\", line 5231, in pandas._libs.hashtable.PyObjectHashTable.map_locations\n",
      "TypeError: unhashable type: 'list'\n"
     ]
    },
    {
     "data": {
      "text/plain": [
       "NaN                                                                                                                                                                                                                                                                                                                                                                                                                                                                                                                          920\n",
       "[Air conditioning, Electrical side mirrors, Hill Holder, Power windows]                                                                                                                                                                                                                                                                                                                                                                                                                                                      216\n",
       "[Air conditioning, Electrical side mirrors, Power windows]                                                                                                                                                                                                                                                                                                                                                                                                                                                                   134\n",
       "[Air conditioning, Power windows]                                                                                                                                                                                                                                                                                                                                                                                                                                                                                            130\n",
       "[Air conditioning, Armrest, Automatic climate control, Cruise control, Electrical side mirrors, Leather steering wheel, Light sensor, Lumbar support, Multi-function steering wheel, Navigation system, Park Distance Control, Parking assist system sensors front, Parking assist system sensors rear, Power windows, Rain sensor, Seat heating, Start-stop system]                                                                                                                                                         105\n",
       "                                                                                                                                                                                                                                                                                                                                                                                                                                                                                                                            ... \n",
       "[Air conditioning, Cruise control, Electrical side mirrors, Hill Holder, Leather steering wheel, Light sensor, Multi-function steering wheel, Navigation system, Park Distance Control, Parking assist system sensors rear, Power windows, Rain sensor, Split rear seats, Start-stop system, Tinted windows]                                                                                                                                                                                                                   1\n",
       "[Air conditioning, Armrest, Automatic climate control, Cruise control, Electrical side mirrors, Heated steering wheel, Hill Holder, Leather steering wheel, Light sensor, Lumbar support, Multi-function steering wheel, Navigation system, Park Distance Control, Parking assist system camera, Parking assist system sensors front, Parking assist system sensors rear, Power windows, Rain sensor, Seat heating, Sunroof]                                                                                                   1\n",
       "[Air conditioning, Armrest, Cruise control, Electrical side mirrors, Heated steering wheel, Hill Holder, Leather steering wheel, Light sensor, Multi-function steering wheel, Park Distance Control, Parking assist system camera, Parking assist system sensors front, Parking assist system sensors rear, Power windows, Rain sensor, Seat heating, Split rear seats, Start-stop system, Tinted windows]                                                                                                                     1\n",
       "[Air conditioning, Automatic climate control, Cruise control, Electrical side mirrors, Leather steering wheel, Light sensor, Multi-function steering wheel, Park Distance Control, Parking assist system sensors front, Parking assist system sensors rear, Power windows, Rain sensor, Seat heating]                                                                                                                                                                                                                          1\n",
       "[Air conditioning, Automatic climate control, Cruise control, Electrically heated windshield, Electrical side mirrors, Electric tailgate, Heads-up display, Heated steering wheel, Hill Holder, Keyless central door lock, Leather steering wheel, Light sensor, Lumbar support, Navigation system, Park Distance Control, Parking assist system camera, Parking assist system self-steering, Parking assist system sensors front, Parking assist system sensors rear, Power windows, Rain sensor, Seat heating, Sunroof]      1\n",
       "Name: \\nComfort & Convenience\\n, Length: 6199, dtype: int64"
      ]
     },
     "execution_count": 233,
     "metadata": {},
     "output_type": "execute_result"
    }
   ],
   "source": [
    "df['\\nComfort & Convenience\\n'].value_counts(dropna=False)"
   ]
  },
  {
   "cell_type": "code",
   "execution_count": 234,
   "metadata": {
    "scrolled": true
   },
   "outputs": [
    {
     "data": {
      "text/plain": [
       "0                          Armrest\n",
       "1        Automatic climate control\n",
       "2                   Cruise control\n",
       "3                          Armrest\n",
       "4                          Armrest\n",
       "                   ...            \n",
       "15914    Automatic climate control\n",
       "15915    Automatic climate control\n",
       "15916                      Armrest\n",
       "15917    Automatic climate control\n",
       "15918    Automatic climate control\n",
       "Name: \\nComfort & Convenience\\n, Length: 15919, dtype: object"
      ]
     },
     "execution_count": 234,
     "metadata": {},
     "output_type": "execute_result"
    }
   ],
   "source": [
    "df['\\nComfort & Convenience\\n'].str[1]"
   ]
  },
  {
   "cell_type": "code",
   "execution_count": 235,
   "metadata": {},
   "outputs": [
    {
     "data": {
      "text/plain": [
       "4271                                                                                                                                                                                                                  [Air conditioning, Armrest, Electrical side mirrors, Leather steering wheel, Light sensor, Lumbar support, Multi-function steering wheel, Park Distance Control, Parking assist system sensors front, Parking assist system sensors rear, Power windows, Rain sensor, Seat heating, Start-stop system]\n",
       "2940                                                                                                                                                                                         [Air conditioning, Armrest, Automatic climate control, Cruise control, Electrical side mirrors, Leather steering wheel, Light sensor, Lumbar support, Multi-function steering wheel, Navigation system, Park Distance Control, Parking assist system sensors rear, Power windows, Rain sensor, Seat heating, Start-stop system]\n",
       "6990                                                                                                                                                                                                                                                                                                                                                                                                                                                                                                                     NaN\n",
       "249                                                                                                                                        [Air conditioning, Armrest, Automatic climate control, Cruise control, Electrical side mirrors, Hill Holder, Keyless central door lock, Light sensor, Lumbar support, Multi-function steering wheel, Navigation system, Park Distance Control, Parking assist system sensors rear, Power windows, Rain sensor, Seat heating, Split rear seats, Start-stop system, Tinted windows]\n",
       "4025                                                                                                                                                                                                                                                              [Air conditioning, Automatic climate control, Cruise control, Leather steering wheel, Light sensor, Multi-function steering wheel, Navigation system, Parking assist system sensors rear, Power windows, Rain sensor, Split rear seats, Start-stop system]\n",
       "9806                                                                                                                                                                                                                                                                                                                                                                                                                                                              [Air conditioning, Electrical side mirrors, Power windows]\n",
       "3186                                                                                                                                                                                                                                                                                                                                                                                                                                                                                                                     NaN\n",
       "2219                                                                                                                                                 [Air conditioning, Armrest, Automatic climate control, Cruise control, Hill Holder, Keyless central door lock, Leather steering wheel, Light sensor, Multi-function steering wheel, Navigation system, Park Distance Control, Parking assist system sensors front, Parking assist system sensors rear, Power windows, Rain sensor, Split rear seats, Start-stop system]\n",
       "1878                                                                                                                                                                                                                                                                                                                                                                                                                                         [Air conditioning, Automatic climate control, Power windows, Start-stop system]\n",
       "6563                                                                                                                                                                                                                                                                                                                                                                                              [Air conditioning, Electrical side mirrors, Hill Holder, Keyless central door lock, Leather steering wheel, Power windows]\n",
       "5733                                                                                                                                                                                                                                                                                                                                                                                                          [Air conditioning, Armrest, Automatic climate control, Cruise control, Electrical side mirrors, Power windows]\n",
       "6730                                                                                                                                 [Air conditioning, Armrest, Automatic climate control, Cruise control, Electrically adjustable seats, Electrical side mirrors, Heated steering wheel, Leather steering wheel, Light sensor, Multi-function steering wheel, Navigation system, Park Distance Control, Parking assist system sensors front, Parking assist system sensors rear, Power windows, Rain sensor, Seat heating]\n",
       "2516                                                                                                                                                                                                                     [Air conditioning, Armrest, Electrical side mirrors, Hill Holder, Leather steering wheel, Light sensor, Multi-function steering wheel, Park Distance Control, Parking assist system sensors front, Parking assist system sensors rear, Power windows, Rain sensor, Seat heating, Start-stop system]\n",
       "5546                                                                                                                                                                                                                                                             [Air conditioning, Armrest, Automatic climate control, Cruise control, Electrical side mirrors, Hill Holder, Multi-function steering wheel, Navigation system, Park Distance Control, Parking assist system sensors rear, Power windows, Start-stop system]\n",
       "10227                                                                                                                                                                                                                                                                                                                                                                                                                 [Air conditioning, Electrical side mirrors, Hill Holder, Multi-function steering wheel, Power windows]\n",
       "5715                                                                                                                                                                                                                                                                                                                                                                                                                     [Air conditioning, Cruise control, Multi-function steering wheel, Power windows, Start-stop system]\n",
       "1954                                                                                                                                                                                                                            [Air conditioning, Automatic climate control, Cruise control, Multi-function steering wheel, Navigation system, Park Distance Control, Parking assist system sensors front, Parking assist system sensors rear, Power windows, Rain sensor, Seat heating, Start-stop system, Tinted windows]\n",
       "6504                                                                                                                                                                                                                                                                                   [Air conditioning, Armrest, Automatic climate control, Cruise control, Electrical side mirrors, Hill Holder, Leather steering wheel, Light sensor, Multi-function steering wheel, Power windows, Split rear seats, Start-stop system]\n",
       "6812                                                                                                                                                                                                                                                                                                                                                                         [Air conditioning, Cruise control, Multi-function steering wheel, Park Distance Control, Parking assist system sensors rear, Start-stop system]\n",
       "15854                                                                                                                                                                                                                                                                                                                                                                                                                                                                                                                    NaN\n",
       "10820                                                                                                                                                                                                                                                                                               [Air conditioning, Armrest, Automatic climate control, Cruise control, Electrically adjustable seats, Electrical side mirrors, Leather steering wheel, Light sensor, Navigation system, Power windows, Split rear seats]\n",
       "12491                                              [Air conditioning, Armrest, Automatic climate control, Cruise control, Electrical side mirrors, Electric tailgate, Heads-up display, Heated steering wheel, Keyless central door lock, Leather steering wheel, Light sensor, Multi-function steering wheel, Navigation system, Park Distance Control, Parking assist system camera, Parking assist system sensors front, Parking assist system sensors rear, Power windows, Rain sensor, Seat heating, Start-stop system]\n",
       "13282                                                                                                                                                                                                                                                                                                                                                                                                       [Air conditioning, Automatic climate control, Cruise control, Navigation system, Rain sensor, Start-stop system]\n",
       "2974                                                                                                                                                                                                                                                                                                                                                                                                                                                                                                                     NaN\n",
       "10152                                                                                                                                                         [Air conditioning, Cruise control, Electrically heated windshield, Electrical side mirrors, Heated steering wheel, Hill Holder, Leather steering wheel, Multi-function steering wheel, Park Distance Control, Parking assist system camera, Parking assist system sensors front, Parking assist system sensors rear, Power windows, Rain sensor, Seat heating]\n",
       "9770                                                                                                                                                                                                                                                                                                                                                                            [Air conditioning, Electrical side mirrors, Hill Holder, Multi-function steering wheel, Navigation system, Power windows, Start-stop system]\n",
       "12414    [Air conditioning, Armrest, Automatic climate control, Electrically adjustable seats, Electrical side mirrors, Electric tailgate, Heated steering wheel, Hill Holder, Keyless central door lock, Leather steering wheel, Light sensor, Lumbar support, Massage seats, Multi-function steering wheel, Navigation system, Park Distance Control, Parking assist system camera, Parking assist system self-steering, Parking assist system sensors front, Parking assist system sensors rear, Power windows, Rain s...\n",
       "79                                                                                                                                                                                              [Air conditioning, Armrest, Automatic climate control, Electrical side mirrors, Hill Holder, Leather steering wheel, Light sensor, Lumbar support, Multi-function steering wheel, Navigation system, Park Distance Control, Parking assist system sensors rear, Power windows, Rain sensor, Seat heating, Start-stop system]\n",
       "15051    [Air conditioning, Armrest, Automatic climate control, Cruise control, Electrically adjustable seats, Electrical side mirrors, Electric tailgate, Hill Holder, Keyless central door lock, Leather steering wheel, Light sensor, Lumbar support, Multi-function steering wheel, Navigation system, Panorama roof, Park Distance Control, Parking assist system camera, Parking assist system sensors front, Parking assist system sensors rear, Power windows, Rain sensor, Seat heating, Split rear seats, Start...\n",
       "14533                                                                                                                                                                                                                                                                                                                                                                                                                    [Air conditioning, Cruise control, Multi-function steering wheel, Power windows, Start-stop system]\n",
       "1975                                                                                                                                                       [Air conditioning, Armrest, Automatic climate control, Cruise control, Electrical side mirrors, Hill Holder, Leather steering wheel, Light sensor, Multi-function steering wheel, Navigation system, Park Distance Control, Parking assist system sensors front, Parking assist system sensors rear, Power windows, Rain sensor, Seat heating, Start-stop system]\n",
       "15373                                                                                                                                                                                                                                                                [Air conditioning, Armrest, Automatic climate control, Cruise control, Electrical side mirrors, Leather steering wheel, Lumbar support, Multi-function steering wheel, Navigation system, Power windows, Rain sensor, Split rear seats, Tinted windows]\n",
       "8738                                                                                                                                                                                                                                                                                                                                                                    [Air conditioning, Electrical side mirrors, Multi-function steering wheel, Park Distance Control, Parking assist system sensors rear, Power windows]\n",
       "7291                                                                                                 [Air conditioning, Armrest, Cruise control, Electrically adjustable seats, Electrical side mirrors, Heated steering wheel, Hill Holder, Leather steering wheel, Light sensor, Lumbar support, Multi-function steering wheel, Navigation system, Park Distance Control, Parking assist system camera, Parking assist system sensors front, Parking assist system sensors rear, Power windows, Rain sensor, Seat heating]\n",
       "9879                                                                                              [Air conditioning, Automatic climate control, Cruise control, Electrically heated windshield, Electrical side mirrors, Heated steering wheel, Hill Holder, Leather steering wheel, Light sensor, Multi-function steering wheel, Navigation system, Park Distance Control, Parking assist system camera, Parking assist system sensors front, Parking assist system sensors rear, Power windows, Rain sensor, Seat heating]\n",
       "7056                                                                                                                                [Air conditioning, Armrest, Automatic climate control, Cruise control, Electrical side mirrors, Heated steering wheel, Hill Holder, Leather steering wheel, Light sensor, Multi-function steering wheel, Navigation system, Park Distance Control, Parking assist system sensors front, Parking assist system sensors rear, Power windows, Rain sensor, Seat heating, Start-stop system]\n",
       "7316                                                                                                                                                                                                                                                                                                                                                                                                                                                                                                                     NaN\n",
       "3010                                                                                                                                                                                                                                                                                                                                                     [Air conditioning, Automatic climate control, Electrical side mirrors, Park Distance Control, Parking assist system sensors rear, Power windows, Start-stop system]\n",
       "5013                                                                                                                                                                                                          [Air conditioning, Armrest, Automatic climate control, Cruise control, Electrical side mirrors, Hill Holder, Leather steering wheel, Multi-function steering wheel, Navigation system, Park Distance Control, Parking assist system sensors rear, Power windows, Rain sensor, Seat heating, Start-stop system]\n",
       "15252                                                                                                                                                                                                        [Air conditioning, Armrest, Cruise control, Electrically adjustable seats, Hill Holder, Multi-function steering wheel, Navigation system, Park Distance Control, Parking assist system camera, Parking assist system sensors rear, Power windows, Rain sensor, Seat heating, Start-stop system, Tinted windows]\n",
       "6726                                                                                                                                                                                                                                                                                                                                                                                                                                                                     [Air conditioning, Power windows, Split rear seats]\n",
       "12433                                                                                                                                                                                                                             [Air conditioning, Armrest, Automatic climate control, Cruise control, Leather steering wheel, Light sensor, Multi-function steering wheel, Navigation system, Park Distance Control, Parking assist system sensors front, Parking assist system sensors rear, Power windows, Rain sensor]\n",
       "11680                                                      [Air conditioning, Armrest, Automatic climate control, Cruise control, Electrically adjustable seats, Electrical side mirrors, Electric tailgate, Keyless central door lock, Leather steering wheel, Light sensor, Lumbar support, Multi-function steering wheel, Navigation system, Park Distance Control, Parking assist system camera, Parking assist system sensors front, Parking assist system sensors rear, Power windows, Rain sensor, Start-stop system]\n",
       "11064    [Air conditioning, Armrest, Automatic climate control, Cruise control, Electrically adjustable seats, Electrical side mirrors, Electric tailgate, Heated steering wheel, Keyless central door lock, Leather steering wheel, Light sensor, Lumbar support, Multi-function steering wheel, Navigation system, Park Distance Control, Parking assist system camera, Parking assist system self-steering, Parking assist system sensors front, Parking assist system sensors rear, Power windows, Rain sensor, Seat ...\n",
       "6442                                                                                                                                                                                                                                                                                                                  [Air conditioning, Armrest, Cruise control, Electrical side mirrors, Hill Holder, Leather steering wheel, Park Distance Control, Parking assist system sensors rear, Power windows, Start-stop system]\n",
       "14940                                                             [Air conditioning, Armrest, Automatic climate control, Cruise control, Electrical side mirrors, Hill Holder, Keyless central door lock, Leather steering wheel, Light sensor, Lumbar support, Multi-function steering wheel, Navigation system, Panorama roof, Park Distance Control, Parking assist system camera, Parking assist system sensors front, Parking assist system sensors rear, Power windows, Rain sensor, Split rear seats, Tinted windows]\n",
       "3588                                                                     [Air conditioning, Air suspension, Armrest, Automatic climate control, Electrical side mirrors, Keyless central door lock, Leather steering wheel, Light sensor, Lumbar support, Multi-function steering wheel, Navigation system, Park Distance Control, Parking assist system sensors front, Parking assist system sensors rear, Power windows, Rain sensor, Seat heating, Seat ventilation, Split rear seats, Start-stop system, Tinted windows]\n",
       "9395                                                                                                                                                                                                                                                                                                                                                                          [Air conditioning, Cruise control, Electrical side mirrors, Hill Holder, Leather steering wheel, Multi-function steering wheel, Power windows]\n",
       "9070                                                                                                                                                                                                                                                                                                                                                                                                                                           [Air conditioning, Electrical side mirrors, Power windows, Start-stop system]\n",
       "7521                                                                                                               [Air conditioning, Armrest, Automatic climate control, Electrical side mirrors, Leather steering wheel, Light sensor, Lumbar support, Multi-function steering wheel, Navigation system, Park Distance Control, Parking assist system camera, Parking assist system self-steering, Parking assist system sensors front, Parking assist system sensors rear, Power windows, Rain sensor, Start-stop system]\n",
       "Name: \\nComfort & Convenience\\n, dtype: object"
      ]
     },
     "execution_count": 235,
     "metadata": {},
     "output_type": "execute_result"
    }
   ],
   "source": [
    "df['\\nComfort & Convenience\\n'].sample(50)"
   ]
  },
  {
   "cell_type": "code",
   "execution_count": 236,
   "metadata": {},
   "outputs": [],
   "source": [
    "def unique_values(df, column):\n",
    "    '''finds the  unique values of an iterable column'''\n",
    "    unique_lst = []\n",
    "    for i in df[column]:\n",
    "        if type(i) is not float:\n",
    "            for ii in i:\n",
    "                if ii not in unique_lst:\n",
    "                    unique_lst.append(ii)\n",
    "    return unique_lst\n",
    "    "
   ]
  },
  {
   "cell_type": "code",
   "execution_count": 237,
   "metadata": {
    "scrolled": false
   },
   "outputs": [
    {
     "data": {
      "text/plain": [
       "['Air conditioning',\n",
       " 'Armrest',\n",
       " 'Automatic climate control',\n",
       " 'Cruise control',\n",
       " 'Electrical side mirrors',\n",
       " 'Hill Holder',\n",
       " 'Leather steering wheel',\n",
       " 'Light sensor',\n",
       " 'Multi-function steering wheel',\n",
       " 'Navigation system',\n",
       " 'Park Distance Control',\n",
       " 'Parking assist system sensors rear',\n",
       " 'Power windows',\n",
       " 'Rain sensor',\n",
       " 'Seat heating',\n",
       " 'Start-stop system',\n",
       " 'Lumbar support',\n",
       " 'Tinted windows',\n",
       " 'Parking assist system sensors front',\n",
       " 'Air suspension',\n",
       " 'Auxiliary heating',\n",
       " 'Heads-up display',\n",
       " 'Split rear seats',\n",
       " 'Keyless central door lock',\n",
       " 'Electrically heated windshield',\n",
       " 'Seat ventilation',\n",
       " 'Wind deflector',\n",
       " 'Leather seats',\n",
       " 'Sunroof',\n",
       " 'Panorama roof',\n",
       " 'Parking assist system camera',\n",
       " 'Electrically adjustable seats',\n",
       " 'Parking assist system self-steering',\n",
       " 'Windshield',\n",
       " 'Electric tailgate',\n",
       " 'Heated steering wheel',\n",
       " 'Massage seats',\n",
       " 'Electric Starter']"
      ]
     },
     "execution_count": 237,
     "metadata": {},
     "output_type": "execute_result"
    }
   ],
   "source": [
    "unique_values(df, '\\nComfort & Convenience\\n')\n"
   ]
  },
  {
   "cell_type": "code",
   "execution_count": 238,
   "metadata": {},
   "outputs": [],
   "source": [
    "df['comfort']= [','.join(i).strip() if isinstance(i, list) else i for i in df['\\nComfort & Convenience\\n']]"
   ]
  },
  {
   "cell_type": "code",
   "execution_count": 239,
   "metadata": {
    "scrolled": true
   },
   "outputs": [
    {
     "data": {
      "text/plain": [
       "0                                                                                                                                                                                              Air conditioning,Armrest,Automatic climate control,Cruise control,Electrical side mirrors,Hill Holder,Leather steering wheel,Light sensor,Multi-function steering wheel,Navigation system,Park Distance Control,Parking assist system sensors rear,Power windows,Rain sensor,Seat heating,Start-stop system\n",
       "1                                                                                                                                                                                                                                                                                                                           Air conditioning,Automatic climate control,Hill Holder,Leather steering wheel,Lumbar support,Parking assist system sensors rear,Power windows,Start-stop system,Tinted windows\n",
       "2                                                                                                                                                                                                                     Air conditioning,Cruise control,Electrical side mirrors,Hill Holder,Leather steering wheel,Multi-function steering wheel,Navigation system,Park Distance Control,Parking assist system sensors front,Parking assist system sensors rear,Power windows,Seat heating,Start-stop system\n",
       "3                                                                                                                                                                                                                               Air suspension,Armrest,Auxiliary heating,Electrical side mirrors,Heads-up display,Hill Holder,Leather steering wheel,Light sensor,Lumbar support,Multi-function steering wheel,Navigation system,Power windows,Rain sensor,Seat heating,Split rear seats,Start-stop system\n",
       "4                                                                                                                                                                                                                                            Air conditioning,Armrest,Automatic climate control,Electrical side mirrors,Hill Holder,Leather steering wheel,Light sensor,Multi-function steering wheel,Park Distance Control,Parking assist system sensors rear,Power windows,Rain sensor,Start-stop system\n",
       "                                                                                                                                                                                                                                                       ...                                                                                                                                                                                                                                                \n",
       "15914                                                                     Air conditioning,Automatic climate control,Cruise control,Electrically adjustable seats,Electrical side mirrors,Hill Holder,Keyless central door lock,Leather steering wheel,Light sensor,Massage seats,Multi-function steering wheel,Navigation system,Park Distance Control,Parking assist system sensors front,Parking assist system sensors rear,Power windows,Rain sensor,Split rear seats,Start-stop system,Tinted windows\n",
       "15915    Air conditioning,Automatic climate control,Cruise control,Electrically heated windshield,Electrical side mirrors,Electric tailgate,Heads-up display,Heated steering wheel,Hill Holder,Keyless central door lock,Leather steering wheel,Light sensor,Lumbar support,Navigation system,Park Distance Control,Parking assist system camera,Parking assist system self-steering,Parking assist system sensors front,Parking assist system sensors rear,Power windows,Rain sensor,Seat heating,Sunroof\n",
       "15916          Air conditioning,Armrest,Automatic climate control,Cruise control,Electrically heated windshield,Electrical side mirrors,Electric tailgate,Heads-up display,Heated steering wheel,Leather steering wheel,Light sensor,Massage seats,Multi-function steering wheel,Navigation system,Panorama roof,Park Distance Control,Parking assist system camera,Parking assist system sensors front,Parking assist system sensors rear,Power windows,Rain sensor,Seat heating,Seat ventilation,Sunroof\n",
       "15917                                                                                                                                                                                                                                                                                            Air conditioning,Automatic climate control,Cruise control,Electrically adjustable seats,Electrical side mirrors,Leather steering wheel,Light sensor,Park Distance Control,Power windows,Start-stop system\n",
       "15918                                                                                                                                                                                                                                                                                    Air conditioning,Automatic climate control,Cruise control,Electrically adjustable seats,Electrical side mirrors,Electric tailgate,Hill Holder,Leather steering wheel,Navigation system,Power windows,Seat heating\n",
       "Name: comfort, Length: 15919, dtype: object"
      ]
     },
     "execution_count": 239,
     "metadata": {},
     "output_type": "execute_result"
    }
   ],
   "source": [
    "df[\"comfort\"]"
   ]
  },
  {
   "cell_type": "code",
   "execution_count": 240,
   "metadata": {
    "scrolled": true
   },
   "outputs": [
    {
     "data": {
      "text/plain": [
       "NaN                                                                                                                                                                                                                                                                                                                                                                                                                                                                                                  920\n",
       "Air conditioning,Electrical side mirrors,Hill Holder,Power windows                                                                                                                                                                                                                                                                                                                                                                                                                                   216\n",
       "Air conditioning,Electrical side mirrors,Power windows                                                                                                                                                                                                                                                                                                                                                                                                                                               134\n",
       "Air conditioning,Power windows                                                                                                                                                                                                                                                                                                                                                                                                                                                                       130\n",
       "Air conditioning,Armrest,Automatic climate control,Cruise control,Electrical side mirrors,Leather steering wheel,Light sensor,Lumbar support,Multi-function steering wheel,Navigation system,Park Distance Control,Parking assist system sensors front,Parking assist system sensors rear,Power windows,Rain sensor,Seat heating,Start-stop system                                                                                                                                                   105\n",
       "                                                                                                                                                                                                                                                                                                                                                                                                                                                                                                    ... \n",
       "Air conditioning,Cruise control,Electrical side mirrors,Hill Holder,Leather steering wheel,Light sensor,Multi-function steering wheel,Navigation system,Park Distance Control,Parking assist system sensors rear,Power windows,Rain sensor,Split rear seats,Start-stop system,Tinted windows                                                                                                                                                                                                           1\n",
       "Air conditioning,Armrest,Automatic climate control,Cruise control,Electrical side mirrors,Heated steering wheel,Hill Holder,Leather steering wheel,Light sensor,Lumbar support,Multi-function steering wheel,Navigation system,Park Distance Control,Parking assist system camera,Parking assist system sensors front,Parking assist system sensors rear,Power windows,Rain sensor,Seat heating,Sunroof                                                                                                1\n",
       "Air conditioning,Armrest,Cruise control,Electrical side mirrors,Heated steering wheel,Hill Holder,Leather steering wheel,Light sensor,Multi-function steering wheel,Park Distance Control,Parking assist system camera,Parking assist system sensors front,Parking assist system sensors rear,Power windows,Rain sensor,Seat heating,Split rear seats,Start-stop system,Tinted windows                                                                                                                 1\n",
       "Air conditioning,Automatic climate control,Cruise control,Electrical side mirrors,Leather steering wheel,Light sensor,Multi-function steering wheel,Park Distance Control,Parking assist system sensors front,Parking assist system sensors rear,Power windows,Rain sensor,Seat heating                                                                                                                                                                                                                1\n",
       "Air conditioning,Automatic climate control,Cruise control,Electrically heated windshield,Electrical side mirrors,Electric tailgate,Heads-up display,Heated steering wheel,Hill Holder,Keyless central door lock,Leather steering wheel,Light sensor,Lumbar support,Navigation system,Park Distance Control,Parking assist system camera,Parking assist system self-steering,Parking assist system sensors front,Parking assist system sensors rear,Power windows,Rain sensor,Seat heating,Sunroof      1\n",
       "Name: comfort, Length: 6199, dtype: int64"
      ]
     },
     "execution_count": 240,
     "metadata": {},
     "output_type": "execute_result"
    }
   ],
   "source": [
    "df.comfort.value_counts(dropna=False)"
   ]
  },
  {
   "cell_type": "code",
   "execution_count": 241,
   "metadata": {},
   "outputs": [
    {
     "data": {
      "text/plain": [
       "Index(['make_model', 'short_description', 'body_type', 'price', 'vat', 'km', 'registration', 'prev_owner', 'Previous Owners', 'Next Inspection', 'Inspection new', 'Warranty', 'Full Service', 'Non-smoking Vehicle', 'Paint Type', 'Model Code', 'Cylinders', 'Weight', 'Drive chain', 'Consumption', '\\nComfort & Convenience\\n', '\\nEntertainment & Media\\n', '\\nExtras\\n', '\\nSafety & Security\\n', 'description', 'Emission Label', 'Gears', 'Country version', 'make', 'hp_kW', 'used_new', 'fuel_type', 'upholstery_kind', 'upholstery_color', 'door_count', 'seat_count', 'auto_manuel', 'displacement_cc', 'consumption_comb', 'co2_emission', 'comfort'], dtype='object')"
      ]
     },
     "execution_count": 241,
     "metadata": {},
     "output_type": "execute_result"
    }
   ],
   "source": [
    "df.columns"
   ]
  },
  {
   "cell_type": "code",
   "execution_count": 242,
   "metadata": {},
   "outputs": [],
   "source": [
    "df.drop(columns=\"\\nComfort & Convenience\\n\", inplace=True)"
   ]
  },
  {
   "cell_type": "markdown",
   "metadata": {},
   "source": [
    "## '\\nEntertainment & Media\\n"
   ]
  },
  {
   "cell_type": "code",
   "execution_count": 243,
   "metadata": {},
   "outputs": [
    {
     "data": {
      "text/plain": [
       "0                                           [Bluetooth, Hands-free equipment, On-board computer, Radio]\n",
       "1                             [Bluetooth, Hands-free equipment, On-board computer, Radio, Sound system]\n",
       "2                                                                              [MP3, On-board computer]\n",
       "3        [Bluetooth, CD player, Hands-free equipment, MP3, On-board computer, Radio, Sound system, USB]\n",
       "4                      [Bluetooth, CD player, Hands-free equipment, MP3, On-board computer, Radio, USB]\n",
       "                                                      ...                                              \n",
       "15914                   [Bluetooth, Digital radio, Hands-free equipment, On-board computer, Radio, USB]\n",
       "15915                                      [Bluetooth, Digital radio, Hands-free equipment, Radio, USB]\n",
       "15916                                       [Bluetooth, Hands-free equipment, On-board computer, Radio]\n",
       "15917                                                            [Bluetooth, Digital radio, Radio, USB]\n",
       "15918                                                                                             [USB]\n",
       "Name: \\nEntertainment & Media\\n, Length: 15919, dtype: object"
      ]
     },
     "execution_count": 243,
     "metadata": {},
     "output_type": "execute_result"
    }
   ],
   "source": [
    "df[\"\\nEntertainment & Media\\n\"]"
   ]
  },
  {
   "cell_type": "code",
   "execution_count": 244,
   "metadata": {},
   "outputs": [
    {
     "ename": "TypeError",
     "evalue": "unhashable type: 'list'",
     "output_type": "error",
     "traceback": [
      "\u001b[0;31m---------------------------------------------------------------------------\u001b[0m",
      "\u001b[0;31mTypeError\u001b[0m                                 Traceback (most recent call last)",
      "\u001b[0;32mpandas/_libs/hashtable_class_helper.pxi\u001b[0m in \u001b[0;36mpandas._libs.hashtable.PyObjectHashTable.map_locations\u001b[0;34m()\u001b[0m\n",
      "\u001b[0;31mTypeError\u001b[0m: unhashable type: 'list'"
     ]
    },
    {
     "name": "stderr",
     "output_type": "stream",
     "text": [
      "Exception ignored in: 'pandas._libs.index.IndexEngine._call_map_locations'\n",
      "Traceback (most recent call last):\n",
      "  File \"pandas/_libs/hashtable_class_helper.pxi\", line 5231, in pandas._libs.hashtable.PyObjectHashTable.map_locations\n",
      "TypeError: unhashable type: 'list'\n"
     ]
    },
    {
     "data": {
      "text/plain": [
       "NaN                                                                                                           1374\n",
       "[Bluetooth, Hands-free equipment, On-board computer, Radio, USB]                                              1282\n",
       "[Bluetooth, Hands-free equipment, MP3, On-board computer, Radio, USB]                                          982\n",
       "[Bluetooth, CD player, Hands-free equipment, MP3, On-board computer, Radio, USB]                               783\n",
       "[On-board computer, Radio]                                                                                     487\n",
       "                                                                                                              ... \n",
       "[Bluetooth, CD player, Digital radio, Hands-free equipment, Radio]                                               1\n",
       "[CD player, Hands-free equipment, MP3, Radio, USB]                                                               1\n",
       "[MP3, Radio, Sound system, USB]                                                                                  1\n",
       "[Bluetooth, MP3, On-board computer, Radio, Television, USB]                                                      1\n",
       "[Bluetooth, CD player, Hands-free equipment, MP3, On-board computer, Radio, Sound system, Television, USB]       1\n",
       "Name: \\nEntertainment & Media\\n, Length: 347, dtype: int64"
      ]
     },
     "execution_count": 244,
     "metadata": {},
     "output_type": "execute_result"
    }
   ],
   "source": [
    "df[\"\\nEntertainment & Media\\n\"].value_counts(dropna=False)"
   ]
  },
  {
   "cell_type": "code",
   "execution_count": 245,
   "metadata": {
    "scrolled": true
   },
   "outputs": [
    {
     "data": {
      "text/plain": [
       "['Bluetooth',\n",
       " 'Hands-free equipment',\n",
       " 'On-board computer',\n",
       " 'Radio',\n",
       " 'Sound system',\n",
       " 'MP3',\n",
       " 'CD player',\n",
       " 'USB',\n",
       " 'Digital radio',\n",
       " 'Television']"
      ]
     },
     "execution_count": 245,
     "metadata": {},
     "output_type": "execute_result"
    }
   ],
   "source": [
    "unique_values(df, \"\\nEntertainment & Media\\n\")"
   ]
  },
  {
   "cell_type": "code",
   "execution_count": 246,
   "metadata": {},
   "outputs": [],
   "source": [
    "df['digi_media']= [','.join(i).strip() if isinstance(i, list) else i for i in df[\"\\nEntertainment & Media\\n\"]]"
   ]
  },
  {
   "cell_type": "code",
   "execution_count": 247,
   "metadata": {},
   "outputs": [
    {
     "data": {
      "text/plain": [
       "NaN                                                                                                 1374\n",
       "Bluetooth,Hands-free equipment,On-board computer,Radio,USB                                          1282\n",
       "Bluetooth,Hands-free equipment,MP3,On-board computer,Radio,USB                                       982\n",
       "Bluetooth,CD player,Hands-free equipment,MP3,On-board computer,Radio,USB                             783\n",
       "On-board computer,Radio                                                                              487\n",
       "                                                                                                    ... \n",
       "Bluetooth,CD player,Digital radio,Hands-free equipment,Radio                                           1\n",
       "CD player,Hands-free equipment,MP3,Radio,USB                                                           1\n",
       "MP3,Radio,Sound system,USB                                                                             1\n",
       "Bluetooth,MP3,On-board computer,Radio,Television,USB                                                   1\n",
       "Bluetooth,CD player,Hands-free equipment,MP3,On-board computer,Radio,Sound system,Television,USB       1\n",
       "Name: digi_media, Length: 347, dtype: int64"
      ]
     },
     "execution_count": 247,
     "metadata": {},
     "output_type": "execute_result"
    }
   ],
   "source": [
    "df.digi_media.value_counts(dropna=False)"
   ]
  },
  {
   "cell_type": "code",
   "execution_count": 248,
   "metadata": {},
   "outputs": [
    {
     "data": {
      "text/plain": [
       "Index(['make_model', 'short_description', 'body_type', 'price', 'vat', 'km', 'registration', 'prev_owner', 'Previous Owners', 'Next Inspection', 'Inspection new', 'Warranty', 'Full Service', 'Non-smoking Vehicle', 'Paint Type', 'Model Code', 'Cylinders', 'Weight', 'Drive chain', 'Consumption', '\\nEntertainment & Media\\n', '\\nExtras\\n', '\\nSafety & Security\\n', 'description', 'Emission Label', 'Gears', 'Country version', 'make', 'hp_kW', 'used_new', 'fuel_type', 'upholstery_kind', 'upholstery_color', 'door_count', 'seat_count', 'auto_manuel', 'displacement_cc', 'consumption_comb', 'co2_emission', 'comfort', 'digi_media'], dtype='object')"
      ]
     },
     "execution_count": 248,
     "metadata": {},
     "output_type": "execute_result"
    }
   ],
   "source": [
    "df.columns"
   ]
  },
  {
   "cell_type": "code",
   "execution_count": 249,
   "metadata": {},
   "outputs": [],
   "source": [
    "df.drop(columns='\\nEntertainment & Media\\n', inplace=True)"
   ]
  },
  {
   "cell_type": "markdown",
   "metadata": {},
   "source": [
    "## \\nExtras\\n"
   ]
  },
  {
   "cell_type": "code",
   "execution_count": 250,
   "metadata": {},
   "outputs": [
    {
     "data": {
      "text/plain": [
       "0                    [Alloy wheels, Catalytic Converter, Voice Control]\n",
       "1          [Alloy wheels, Sport seats, Sport suspension, Voice Control]\n",
       "2                                         [Alloy wheels, Voice Control]\n",
       "3                            [Alloy wheels, Sport seats, Voice Control]\n",
       "4        [Alloy wheels, Sport package, Sport suspension, Voice Control]\n",
       "                                      ...                              \n",
       "15914                                      [Alloy wheels, Touch screen]\n",
       "15915                       [Alloy wheels, Touch screen, Voice Control]\n",
       "15916                                                    [Alloy wheels]\n",
       "15917                                      [Alloy wheels, Touch screen]\n",
       "15918                                      [Alloy wheels, Touch screen]\n",
       "Name: \\nExtras\\n, Length: 15919, dtype: object"
      ]
     },
     "execution_count": 250,
     "metadata": {},
     "output_type": "execute_result"
    }
   ],
   "source": [
    "df[\"\\nExtras\\n\"]"
   ]
  },
  {
   "cell_type": "code",
   "execution_count": 251,
   "metadata": {},
   "outputs": [
    {
     "ename": "TypeError",
     "evalue": "unhashable type: 'list'",
     "output_type": "error",
     "traceback": [
      "\u001b[0;31m---------------------------------------------------------------------------\u001b[0m",
      "\u001b[0;31mTypeError\u001b[0m                                 Traceback (most recent call last)",
      "\u001b[0;32mpandas/_libs/hashtable_class_helper.pxi\u001b[0m in \u001b[0;36mpandas._libs.hashtable.PyObjectHashTable.map_locations\u001b[0;34m()\u001b[0m\n",
      "\u001b[0;31mTypeError\u001b[0m: unhashable type: 'list'"
     ]
    },
    {
     "name": "stderr",
     "output_type": "stream",
     "text": [
      "Exception ignored in: 'pandas._libs.index.IndexEngine._call_map_locations'\n",
      "Traceback (most recent call last):\n",
      "  File \"pandas/_libs/hashtable_class_helper.pxi\", line 5231, in pandas._libs.hashtable.PyObjectHashTable.map_locations\n",
      "TypeError: unhashable type: 'list'\n"
     ]
    },
    {
     "data": {
      "text/plain": [
       "[Alloy wheels]                                                                                                     3245\n",
       "NaN                                                                                                                2962\n",
       "[Alloy wheels, Touch screen]                                                                                        697\n",
       "[Alloy wheels, Voice Control]                                                                                       577\n",
       "[Alloy wheels, Touch screen, Voice Control]                                                                         541\n",
       "                                                                                                                   ... \n",
       "[Alloy wheels, Catalytic Converter, Shift paddles, Sport package, Sport seats, Sport suspension, Voice Control]       1\n",
       "[Alloy wheels, Catalytic Converter, Roof rack, Sport package, Sport seats, Trailer hitch]                             1\n",
       "[Alloy wheels, Catalytic Converter, Ski bag, Sport package, Voice Control]                                            1\n",
       "[Catalytic Converter, Roof rack, Sport seats, Sport suspension]                                                       1\n",
       "[Alloy wheels, Shift paddles, Ski bag, Sport seats, Sport suspension, Touch screen, Voice Control]                    1\n",
       "Name: \\nExtras\\n, Length: 660, dtype: int64"
      ]
     },
     "execution_count": 251,
     "metadata": {},
     "output_type": "execute_result"
    }
   ],
   "source": [
    "df[\"\\nExtras\\n\"].value_counts(dropna=False)"
   ]
  },
  {
   "cell_type": "code",
   "execution_count": 252,
   "metadata": {},
   "outputs": [
    {
     "data": {
      "text/plain": [
       "['Alloy wheels',\n",
       " 'Catalytic Converter',\n",
       " 'Voice Control',\n",
       " 'Sport seats',\n",
       " 'Sport suspension',\n",
       " 'Sport package',\n",
       " 'Shift paddles',\n",
       " 'Winter tyres',\n",
       " 'Touch screen',\n",
       " 'Handicapped enabled',\n",
       " 'Trailer hitch',\n",
       " 'Cab or rented Car',\n",
       " 'Roof rack',\n",
       " 'Tuned car',\n",
       " 'Ski bag',\n",
       " 'Sliding door',\n",
       " 'Right hand drive']"
      ]
     },
     "execution_count": 252,
     "metadata": {},
     "output_type": "execute_result"
    }
   ],
   "source": [
    "unique_values(df, \"\\nExtras\\n\")"
   ]
  },
  {
   "cell_type": "code",
   "execution_count": 253,
   "metadata": {},
   "outputs": [],
   "source": [
    "df[\"extra\"] = [','.join(i).strip() if isinstance(i, list) else i for i in df[\"\\nExtras\\n\"]]"
   ]
  },
  {
   "cell_type": "code",
   "execution_count": 254,
   "metadata": {},
   "outputs": [],
   "source": [
    "df.drop(columns=[\"\\nExtras\\n\"], inplace=True)"
   ]
  },
  {
   "cell_type": "code",
   "execution_count": 255,
   "metadata": {},
   "outputs": [
    {
     "data": {
      "text/plain": [
       "Index(['url', 'make_model', 'short_description', 'body_type', 'price', 'vat', 'km', 'registration', 'prev_owner', 'kW', 'hp', 'Type', 'Previous Owners', 'Next Inspection', 'Inspection new', 'Warranty', 'Full Service', 'Non-smoking Vehicle', 'null', 'Make', 'Model', 'Offer Number', 'First Registration', 'Body Color', 'Paint Type', 'Body Color Original', 'Upholstery', 'Body', 'Nr. of Doors', 'Nr. of Seats', 'Model Code', 'Gearing Type', 'Displacement', 'Cylinders', 'Weight', 'Drive chain', 'Fuel', 'Consumption', 'CO2 Emission', 'Emission Class', '\\nComfort & Convenience\\n', '\\nEntertainment & Media\\n', '\\nExtras\\n', '\\nSafety & Security\\n', 'description', 'Emission Label', 'Gears', 'Country version', 'Electricity consumption', 'Last Service Date', 'Other Fuel Types', 'Availability', 'Last Timing Belt Service Date', 'Available from'], dtype='object')"
      ]
     },
     "execution_count": 255,
     "metadata": {},
     "output_type": "execute_result"
    }
   ],
   "source": [
    "dfo.columns"
   ]
  },
  {
   "cell_type": "markdown",
   "metadata": {},
   "source": [
    "# \\nSafety & Security\\n"
   ]
  },
  {
   "cell_type": "code",
   "execution_count": 256,
   "metadata": {},
   "outputs": [
    {
     "data": {
      "text/plain": [
       "0                                                                                                                                                       [ABS, Central door lock, Daytime running lights, Driver-side airbag, Electronic stability control, Fog lights, Immobilizer, Isofix, Passenger-side airbag, Power steering, Side airbag, Tire pressure monitoring system, Traction control, Xenon headlights]\n",
       "1                                                                                                               [ABS, Central door lock, Central door lock with remote control, Daytime running lights, Driver-side airbag, Electronic stability control, Head airbag, Immobilizer, Isofix, Passenger-side airbag, Power steering, Side airbag, Tire pressure monitoring system, Traction control, Xenon headlights]\n",
       "2                                                                                                                                                                                     [ABS, Central door lock, Daytime running lights, Driver-side airbag, Electronic stability control, Immobilizer, Isofix, Passenger-side airbag, Power steering, Side airbag, Tire pressure monitoring system, Traction control]\n",
       "3                                                                                                                                 [ABS, Alarm system, Central door lock with remote control, Driver drowsiness detection, Driver-side airbag, Electronic stability control, Emergency system, Head airbag, Immobilizer, Isofix, Passenger-side airbag, Power steering, Side airbag, Tire pressure monitoring system]\n",
       "4                                                                                                                                                                               [ABS, Central door lock, Driver-side airbag, Electronic stability control, Fog lights, Immobilizer, Isofix, Passenger-side airbag, Power steering, Side airbag, Tire pressure monitoring system, Traction control, Xenon headlights]\n",
       "                                                                                                                                                                                                            ...                                                                                                                                                                                                     \n",
       "15914        [ABS, Central door lock, Central door lock with remote control, Driver-side airbag, Electronic stability control, Emergency brake assistant, Head airbag, Immobilizer, Isofix, Lane departure warning system, LED Daytime Running Lights, LED Headlights, Passenger-side airbag, Power steering, Rear airbag, Side airbag, Tire pressure monitoring system, Traction control, Traffic sign recognition]\n",
       "15915    [ABS, Adaptive Cruise Control, Blind spot monitor, Central door lock, Daytime running lights, Driver-side airbag, Electronic stability control, Emergency brake assistant, Immobilizer, Isofix, Lane departure warning system, LED Daytime Running Lights, LED Headlights, Passenger-side airbag, Power steering, Side airbag, Tire pressure monitoring system, Traction control, Traffic sign recognition]\n",
       "15916                                     [ABS, Adaptive Cruise Control, Blind spot monitor, Central door lock, Daytime running lights, Driver-side airbag, Electronic stability control, Emergency brake assistant, Immobilizer, Isofix, Lane departure warning system, LED Daytime Running Lights, LED Headlights, Passenger-side airbag, Power steering, Side airbag, Traction control, Traffic sign recognition]\n",
       "15917                                                                                                                                                                  [ABS, Blind spot monitor, Driver-side airbag, Electronic stability control, Emergency brake assistant, Isofix, LED Headlights, Passenger-side airbag, Power steering, Side airbag, Tire pressure monitoring system, Traffic sign recognition]\n",
       "15918                                                                                                                 [ABS, Blind spot monitor, Daytime running lights, Driver-side airbag, Electronic stability control, Emergency brake assistant, Immobilizer, Isofix, LED Daytime Running Lights, Passenger-side airbag, Power steering, Side airbag, Tire pressure monitoring system, Traffic sign recognition]\n",
       "Name: \\nSafety & Security\\n, Length: 15919, dtype: object"
      ]
     },
     "execution_count": 256,
     "metadata": {},
     "output_type": "execute_result"
    }
   ],
   "source": [
    "df[\"\\nSafety & Security\\n\"]"
   ]
  },
  {
   "cell_type": "code",
   "execution_count": 257,
   "metadata": {},
   "outputs": [
    {
     "ename": "TypeError",
     "evalue": "unhashable type: 'list'",
     "output_type": "error",
     "traceback": [
      "\u001b[0;31m---------------------------------------------------------------------------\u001b[0m",
      "\u001b[0;31mTypeError\u001b[0m                                 Traceback (most recent call last)",
      "\u001b[0;32mpandas/_libs/hashtable_class_helper.pxi\u001b[0m in \u001b[0;36mpandas._libs.hashtable.PyObjectHashTable.map_locations\u001b[0;34m()\u001b[0m\n",
      "\u001b[0;31mTypeError\u001b[0m: unhashable type: 'list'"
     ]
    },
    {
     "name": "stderr",
     "output_type": "stream",
     "text": [
      "Exception ignored in: 'pandas._libs.index.IndexEngine._call_map_locations'\n",
      "Traceback (most recent call last):\n",
      "  File \"pandas/_libs/hashtable_class_helper.pxi\", line 5231, in pandas._libs.hashtable.PyObjectHashTable.map_locations\n",
      "TypeError: unhashable type: 'list'\n"
     ]
    },
    {
     "data": {
      "text/plain": [
       "NaN                                                                                                                                                                                                                                                                                                                                                                                  982\n",
       "[ABS, Central door lock, Daytime running lights, Driver-side airbag, Electronic stability control, Fog lights, Immobilizer, Isofix, Passenger-side airbag, Power steering, Side airbag, Tire pressure monitoring system, Traction control]                                                                                                                                           538\n",
       "[ABS, Central door lock, Daytime running lights, Driver-side airbag, Electronic stability control, Immobilizer, Isofix, Passenger-side airbag, Power steering, Side airbag, Tire pressure monitoring system, Traction control]                                                                                                                                                       480\n",
       "[ABS, Central door lock, Daytime running lights, Driver-side airbag, Electronic stability control, Immobilizer, Isofix, Passenger-side airbag, Power steering, Side airbag, Tire pressure monitoring system, Traction control, Xenon headlights]                                                                                                                                     275\n",
       "[ABS, Central door lock, Daytime running lights, Driver-side airbag, Electronic stability control, Fog lights, Immobilizer, Isofix, LED Daytime Running Lights, Passenger-side airbag, Power steering, Side airbag, Tire pressure monitoring system, Traction control]                                                                                                               272\n",
       "                                                                                                                                                                                                                                                                                                                                                                                    ... \n",
       "[ABS, Central door lock, Electronic stability control, Immobilizer, Isofix, Passenger-side airbag, Power steering, Side airbag]                                                                                                                                                                                                                                                        1\n",
       "[ABS, Adaptive Cruise Control, Central door lock, Daytime running lights, Driver-side airbag, Electronic stability control, Emergency brake assistant, Immobilizer, Isofix, Passenger-side airbag, Power steering, Side airbag, Tire pressure monitoring system, Traction control]                                                                                                     1\n",
       "[ABS, Adaptive Cruise Control, Alarm system, Central door lock, Driver-side airbag, Electronic stability control, Fog lights, Immobilizer, Isofix, Lane departure warning system, LED Daytime Running Lights, Passenger-side airbag, Power steering, Side airbag, Tire pressure monitoring system, Traction control, Xenon headlights]                                                 1\n",
       "[ABS, Adaptive Cruise Control, Central door lock, Daytime running lights, Driver-side airbag, Electronic stability control, Fog lights, Immobilizer, Isofix, Power steering, Tire pressure monitoring system, Traction control]                                                                                                                                                        1\n",
       "[ABS, Adaptive Cruise Control, Central door lock, Daytime running lights, Driver-side airbag, Electronic stability control, Emergency brake assistant, Fog lights, Immobilizer, Isofix, Lane departure warning system, LED Daytime Running Lights, LED Headlights, Passenger-side airbag, Power steering, Side airbag, Tire pressure monitoring system, Traffic sign recognition]      1\n",
       "Name: \\nSafety & Security\\n, Length: 4444, dtype: int64"
      ]
     },
     "execution_count": 257,
     "metadata": {},
     "output_type": "execute_result"
    }
   ],
   "source": [
    "df[\"\\nSafety & Security\\n\"].value_counts(dropna=False)"
   ]
  },
  {
   "cell_type": "code",
   "execution_count": 258,
   "metadata": {},
   "outputs": [
    {
     "data": {
      "text/plain": [
       "['ABS',\n",
       " 'Central door lock',\n",
       " 'Daytime running lights',\n",
       " 'Driver-side airbag',\n",
       " 'Electronic stability control',\n",
       " 'Fog lights',\n",
       " 'Immobilizer',\n",
       " 'Isofix',\n",
       " 'Passenger-side airbag',\n",
       " 'Power steering',\n",
       " 'Side airbag',\n",
       " 'Tire pressure monitoring system',\n",
       " 'Traction control',\n",
       " 'Xenon headlights',\n",
       " 'Central door lock with remote control',\n",
       " 'Head airbag',\n",
       " 'Alarm system',\n",
       " 'Driver drowsiness detection',\n",
       " 'Emergency system',\n",
       " 'LED Headlights',\n",
       " 'Adaptive headlights',\n",
       " 'LED Daytime Running Lights',\n",
       " 'Rear airbag',\n",
       " 'Emergency brake assistant',\n",
       " 'Adaptive Cruise Control',\n",
       " 'Night view assist',\n",
       " 'Traffic sign recognition',\n",
       " 'Lane departure warning system',\n",
       " 'Blind spot monitor']"
      ]
     },
     "execution_count": 258,
     "metadata": {},
     "output_type": "execute_result"
    }
   ],
   "source": [
    "unique_values(df, \"\\nSafety & Security\\n\")"
   ]
  },
  {
   "cell_type": "code",
   "execution_count": 259,
   "metadata": {},
   "outputs": [
    {
     "data": {
      "text/plain": [
       "0                                                                                                                                                  ABS,Central door lock,Daytime running lights,Driver-side airbag,Electronic stability control,Fog lights,Immobilizer,Isofix,Passenger-side airbag,Power steering,Side airbag,Tire pressure monitoring system,Traction control,Xenon headlights\n",
       "1                                                                                                           ABS,Central door lock,Central door lock with remote control,Daytime running lights,Driver-side airbag,Electronic stability control,Head airbag,Immobilizer,Isofix,Passenger-side airbag,Power steering,Side airbag,Tire pressure monitoring system,Traction control,Xenon headlights\n",
       "2                                                                                                                                                                              ABS,Central door lock,Daytime running lights,Driver-side airbag,Electronic stability control,Immobilizer,Isofix,Passenger-side airbag,Power steering,Side airbag,Tire pressure monitoring system,Traction control\n",
       "3                                                                                                                            ABS,Alarm system,Central door lock with remote control,Driver drowsiness detection,Driver-side airbag,Electronic stability control,Emergency system,Head airbag,Immobilizer,Isofix,Passenger-side airbag,Power steering,Side airbag,Tire pressure monitoring system\n",
       "4                                                                                                                                                                         ABS,Central door lock,Driver-side airbag,Electronic stability control,Fog lights,Immobilizer,Isofix,Passenger-side airbag,Power steering,Side airbag,Tire pressure monitoring system,Traction control,Xenon headlights\n",
       "                                                                                                                                                                                                  ...                                                                                                                                                                                           \n",
       "15914        ABS,Central door lock,Central door lock with remote control,Driver-side airbag,Electronic stability control,Emergency brake assistant,Head airbag,Immobilizer,Isofix,Lane departure warning system,LED Daytime Running Lights,LED Headlights,Passenger-side airbag,Power steering,Rear airbag,Side airbag,Tire pressure monitoring system,Traction control,Traffic sign recognition\n",
       "15915    ABS,Adaptive Cruise Control,Blind spot monitor,Central door lock,Daytime running lights,Driver-side airbag,Electronic stability control,Emergency brake assistant,Immobilizer,Isofix,Lane departure warning system,LED Daytime Running Lights,LED Headlights,Passenger-side airbag,Power steering,Side airbag,Tire pressure monitoring system,Traction control,Traffic sign recognition\n",
       "15916                                    ABS,Adaptive Cruise Control,Blind spot monitor,Central door lock,Daytime running lights,Driver-side airbag,Electronic stability control,Emergency brake assistant,Immobilizer,Isofix,Lane departure warning system,LED Daytime Running Lights,LED Headlights,Passenger-side airbag,Power steering,Side airbag,Traction control,Traffic sign recognition\n",
       "15917                                                                                                                                                           ABS,Blind spot monitor,Driver-side airbag,Electronic stability control,Emergency brake assistant,Isofix,LED Headlights,Passenger-side airbag,Power steering,Side airbag,Tire pressure monitoring system,Traffic sign recognition\n",
       "15918                                                                                                            ABS,Blind spot monitor,Daytime running lights,Driver-side airbag,Electronic stability control,Emergency brake assistant,Immobilizer,Isofix,LED Daytime Running Lights,Passenger-side airbag,Power steering,Side airbag,Tire pressure monitoring system,Traffic sign recognition\n",
       "Name: safety, Length: 15919, dtype: object"
      ]
     },
     "execution_count": 259,
     "metadata": {},
     "output_type": "execute_result"
    }
   ],
   "source": [
    "df[\"safety\"] = [','.join(i).strip() if isinstance(i, list) else i for i in df[\"\\nSafety & Security\\n\"]]\n",
    "df[\"safety\"]"
   ]
  },
  {
   "cell_type": "code",
   "execution_count": 260,
   "metadata": {},
   "outputs": [],
   "source": [
    "df.drop(columns='\\nSafety & Security\\n', inplace=True)"
   ]
  },
  {
   "cell_type": "code",
   "execution_count": 261,
   "metadata": {},
   "outputs": [
    {
     "data": {
      "text/plain": [
       "Index(['url', 'make_model', 'short_description', 'body_type', 'price', 'vat', 'km', 'registration', 'prev_owner', 'kW', 'hp', 'Type', 'Previous Owners', 'Next Inspection', 'Inspection new', 'Warranty', 'Full Service', 'Non-smoking Vehicle', 'null', 'Make', 'Model', 'Offer Number', 'First Registration', 'Body Color', 'Paint Type', 'Body Color Original', 'Upholstery', 'Body', 'Nr. of Doors', 'Nr. of Seats', 'Model Code', 'Gearing Type', 'Displacement', 'Cylinders', 'Weight', 'Drive chain', 'Fuel', 'Consumption', 'CO2 Emission', 'Emission Class', '\\nComfort & Convenience\\n', '\\nEntertainment & Media\\n', '\\nExtras\\n', '\\nSafety & Security\\n', 'description', 'Emission Label', 'Gears', 'Country version', 'Electricity consumption', 'Last Service Date', 'Other Fuel Types', 'Availability', 'Last Timing Belt Service Date', 'Available from'], dtype='object')"
      ]
     },
     "execution_count": 261,
     "metadata": {},
     "output_type": "execute_result"
    }
   ],
   "source": [
    "dfo.columns"
   ]
  },
  {
   "cell_type": "markdown",
   "metadata": {},
   "source": [
    "## 'description'"
   ]
  },
  {
   "cell_type": "code",
   "execution_count": 262,
   "metadata": {},
   "outputs": [
    {
     "data": {
      "text/plain": [
       "0        [\\n, Sicherheit:,  , Deaktivierung für Beifahrer-Airbag,  , ESC mit elektronischer Quersperre,  , Tagfahrlicht,  , Reifendruck-Kontrollanzeige,  , Kopfairbag-System mit Seiten-Airbags vorn,  , Sicherheitslenksäule, Assistenzsysteme:,  , Berganfahrassistent, Komfort:,  , Scheinwerferreinigung,  , Xenon plus inklusive Scheinwerfer-Reinigungsanlage,  , Scheinwerfer-Reinigungsanlage,  , Einparkhilfe hinten,  , Licht-/Regensensor,  , Funkfernbedienung,  , Elektrische Luftzusatzheizung, Interieur:...\n",
       "1                                                                                                                                                                                                                                                                                                                                                                                                               [\\nLangstreckenfahrzeug daher die hohe Kilometerleistung. , Bremsen neu bei 62000 km. , Gut gepflegter A1\\n]\n",
       "2        [\\n, Fahrzeug-Nummer: AM-95365,  , Ehem. UPE 24.640 EUR,  , Komfort,  , Klimaanlage,  , Elektrische Fensterheber,  , Sitzheizung,  , Tempomat,  , Zentralverriegelung,  , Leder-Lenkrad,  , Elektrische Spiegel,  , Wärmedämmendes Glas,  , Anfahrassistent,  , Sicherheit,  , Window/Kopfairbags,  , ESP (el. Stabilitäts Programm),  , Elektronische Wegfahrsperre,  , Reifendruckkontrolle,  , Tagfahrlicht,  , Exterieur,  , Alufelgen 16 Zoll,  , Einparkhilfe vo + hi,  , Interieur,  , Stoff Zeitgeist,  ...\n",
       "3                                                                                                                                                                                                                                                                                   [\\nAudi A1: , - 1e eigenaar , - Perfecte staat: schade/ongevalvrij , - Onderhoudsboekje Audi garage , - Full option!, - S-line opties, - Automaat, lederen bekleding, navi-pro, Xenon lampen, zetelverwarming, automatische airco,...\\n]\n",
       "4        [\\n, Technik & Sicherheit:, Xenon plus, Klimaautomatik, Einparkhilfe hinten, Scheinwerferreinigungsanlage, Nebelscheinwerfer, Zentralverriegelung mit Fernbedienung, Außenspiegel elek. einstellbar, Fensterheber elek, Start/Stop Anlage, 6 Airbag inkl. Kopfairbag, Euro 6, Multimedia:, Radio CD Concert, audi music interface, Handyvorbereitung (Bluetooth), Sprachsteuerung, USB Anschluss, Assistenzsysteme:, Lichtsensor, Regensensor, Berganfahrassistent, Reifendruckkontrolle, ESP inkl. ABS, Interie...\n",
       "                                                                                                                                                                                                                                                                ...                                                                                                                                                                                                                                                         \n",
       "15914    [\\nVettura visionabile nella sede in Via Roma 141 a Villorba (TV)., Prezzo escluse spese immatricolazione., Optional inclusi nel prezzo:, - Easy Park Assist con parking camera., Non esiti a contattare i nostri consulenti nella sede di:, Villorba (TV) - Via Roma 141, Numero verde: 800286606 (gratuito), Concessionaria ufficiale per UDINE: Lancia, Alfa Romeo, Subaru, Hyundai, Infiniti. Concessionaria ufficiale per UDINE, TRIESTE e GORIZIA: Kia e Volvo. Concessionaria ufficiale per TRIESTE e GOR...\n",
       "15915    [\\nDach: Panorama-Glas-Schiebedach, Lackierung: Metallic, Paket: CRUISING - Adaptiver Tempopilot ACC (bis 150km/h) - Head-up-Display, Paket: LIMITED Deluxe - Easy-Park-Assistent: Teilautomatisches Einparken - Elektrische Heckklappe mit Fußsensor - Rückfahrkamera, Paket: WINTER - Beheizbares Lenkrad - Beheizbare Windschutzscheibe - Beheizbare Sitze in der 2. Sitzreihe, Airbag: Anti Submarining Airbags v/h, Airbag: 2 Seitenairbags vorne, Airbag: Windowbags für Sitzreihen 1 + 2, Airbag Fahrer- ...\n",
       "15916    [\\n, Getriebe:,  Automatik, Technik:,  Bordcomputer, Assistenten:,  Totwinkel-Assistent, Verkehrszeichenerkennung, Regensensor, Fernlichtassistent, Lichtsensor, Notbremsassistent, Spurhalteassistent, Abstandsregeltempomat, Komfort:,  Servolenkung, Zentralverriegelung, Elektrischer Fensterheber, Lederausstattung, Sitzheizung, Elektrische Aussenspiegel, Teilbare Ruecksitzlehne, Tempomat, Multifunktionslenkrad, Keyless Go Startfunktion, Mittelarmlehne, Lenksaeule einstellbar, ParkDistanceContro...\n",
       "15917    [\\nDEK:[2691331], Renault Espace Blue dCi 200CV EDC Business, Nuova da Immatricolare, COLORE: Grigio Titanio, INTERNO: Pelle+Tessuto, TRASMISSIONE: Cambio Automatico EDC, ---, ACCESSORI: , 7 Posti, , , Cerchi in Lega 17, Navigatore con Display 8.7, Clima Automatico, Sensori di Parcheggio Anteriori e Posteriori con Retrocamera, Fari Full LED Pure Vision, Cruise Control, Renault Multisense, ---, Listino Nuovo 44.300 Euro, Prezzo Gruppo Carmeli: 39.700 Euro (Esclusa IPT e Messa in Strada), IVA ...\n",
       "15918    [\\n, Sicherheit Airbags:,  , Seitenairbag,  , Fahrerairbag,  , Beifahrerairbag,  , Sicherheit:,  , Rückfahrkamera,  , Reifendruckkontrolle,  , ABS,  , elektr. Stabilitätsprogramm (ESP),  , ISOFIX Kindersitzhalterung,  , Tagfahrlicht,  , Kindersitze integriert,  , Wegfahrsperre,  , Spiegel automatisch abblendbar,  , Servolenkung,  , 3. Bremsleuchte,  , LED-Tagfahrlicht,  , Notbremsassistent,  , Totwinkel-Assistent,  , Verkehrszeichenerkennung,  , Fernlichtassistent,  , Geschwindigkeitsbegrenz...\n",
       "Name: description, Length: 15919, dtype: object"
      ]
     },
     "execution_count": 262,
     "metadata": {},
     "output_type": "execute_result"
    }
   ],
   "source": [
    "df.description"
   ]
  },
  {
   "cell_type": "code",
   "execution_count": 263,
   "metadata": {},
   "outputs": [
    {
     "ename": "TypeError",
     "evalue": "unhashable type: 'list'",
     "output_type": "error",
     "traceback": [
      "\u001b[0;31m---------------------------------------------------------------------------\u001b[0m",
      "\u001b[0;31mTypeError\u001b[0m                                 Traceback (most recent call last)",
      "\u001b[0;32mpandas/_libs/hashtable_class_helper.pxi\u001b[0m in \u001b[0;36mpandas._libs.hashtable.PyObjectHashTable.map_locations\u001b[0;34m()\u001b[0m\n",
      "\u001b[0;31mTypeError\u001b[0m: unhashable type: 'list'"
     ]
    },
    {
     "name": "stderr",
     "output_type": "stream",
     "text": [
      "Exception ignored in: 'pandas._libs.index.IndexEngine._call_map_locations'\n",
      "Traceback (most recent call last):\n",
      "  File \"pandas/_libs/hashtable_class_helper.pxi\", line 5231, in pandas._libs.hashtable.PyObjectHashTable.map_locations\n",
      "TypeError: unhashable type: 'list'\n"
     ]
    },
    {
     "data": {
      "text/plain": [
       "[]                                                                                                                                                                                                                                                                                                                                                                                                                                                                                                                                                                                                                                                                                                                                                                                                                                                                                                                                                                                                                                                                                                                                                                                                                                                                                                                                                                                                                                                                                                                                                                                                                                                                                                                                                                                                                                                                                                                                                                                                                                                                                                                                                                                                                                                                                                                                                                                                                                                                                                                                                                                                                                                                                        636\n",
       "[\\n, \\n]                                                                                                                                                                                                                                                                                                                                                                                                                                                                                                                                                                                                                                                                                                                                                                                                                                                                                                                                                                                                                                                                                                                                                                                                                                                                                                                                                                                                                                                                                                                                                                                                                                                                                                                                                                                                                                                                                                                                                                                                                                                                                                                                                                                                                                                                                                                                                                                                                                                                                                                                                                                                                                                                                   30\n",
       "[\\n, Fahrzeugbeschreibung,  Sichern Sie sich diesen Renault Clio 1.6 TCE Energy Sport Trophy zum Top-Preis inklusive dem , AUTOHERO-RUNDUM-SORGLOS-PAKET,  , Infos:,  1.Hand, deutsche Auslieferung, Unfallfrei, scheckheftgepflegt,  , Highlights,  , Audio-Navigationssystem R-Link Evolution mit Touchscreen und Carminat TomTom,  , Sportsitze ,  , Sportfahrwerk,  , Scheinwerfer Full-LED , Komfort,  , Geschwindigkeits-Regelanlage (Tempomat) ,  , Klimaanlage,  , Einparkhilfe hinten,  , Multifunktionslenkrad (Sport/Leder) mit Schaltwippen/-tasten ,  , Fensterheber elektr. mit Impulsgeber links/rechts vorn,  , Zentralverriegelung / Startanlage Handsfree Entry & Drive ,  , Berganfahr-Assistent (HSA) , Multimedia,  , Audiosystem: Radio R & GO (Bluetooth, DAB-Tuner),  , Bordcomputer,  , Freisprecheinrichtung Bluetooth ,  , USB-Anschluss inkl. AUX-IN-Anschluss (Plug & Music) , Licht und Sicht,  , Außenspiegel elektr. verstell- und heizbar ,  , Licht- und Regensensor ,  , Tagfahrlicht LED ,  , Nebelscheinwerfer LED ,  , Coming-Home-Lichtfunktion ,  , Heckleuchten LED , Sicherheit,  , Isofix-Aufnahmen für Kindersitz ,  , Seitenairbag vorn,  , Wegfahrsperre,  , Differentialsperre,  , Bremsassistent ,  , Elektron. Stabilitäts-Programm (ESP),  , Anti-Blockier-System (ABS),  , Anti-Submarining-Airbag im Fond,  , Airbag Fahrer-/Beifahrerseite ,  , Differentialsperre ,  , Reifendruck-Kontrollsystem ,  , Untersteuerungskontrolle (USC) ,  , Antischlupfregelung (ASR) , Weiteres,  , Start/Stop-Anlage ,  , Servolenkung geschwindigkeitsabhängig,  , R.S. Drive (Fahrmodusschalter) ,  , Gepäckraumabdeckung / Rollo ,  , Heckdiffusor ,  , LM-Felgen ,  , Heckspoiler (Renault Sport) ,  , Pedale Aluminium ,  , Energierückgewinnung (Energy Smart Management) , ...]                                                                                                                                                                                                                                                                                                                                                                                                                                                                                                                                                                                                                                                                                                                                                                                                                                                              27\n",
       "[\\nPosibilidad de prueba del vehículo hasta 5 días. Consultar condiciones. PVP para particulares. Varias unidades y colores disponibles. Precios publicados para vehículos industriales (furgonetas) válidos para compradores autónomos o empresas, consultar condiciones para particulares. Las imágenes y kilómetros pueden no corresponder con el modelo anunciado. Para confirmar póngase en contacto con nuestro departamento comercial. Consulta las excepcionales condiciones de financiación que tenemos disponibles. Precio de venta final IVA y gastos de transferencia incluidos. Horario de atención al cliente: Lunes a Viernes de 09:00 a 18:00.\\n]                                                                                                                                                                                                                                                                                                                                                                                                                                                                                                                                                                                                                                                                                                                                                                                                                                                                                                                                                                                                                                                                                                                                                                                                                                                                                                                                                                                                                                                                                                                                                                                                                                                                                                                                                                                                                                                                                                                                                                                                                          27\n",
       "[\\nSichern Sie sich diesen RENAULT CLIO 1.2 LIMITED zum Top-Preis inklusive dem, AUTOHERO-RUNDUM-SORGLOS-PAKET,  , Infos:,  2.Hand, mindestens 12 Monate gültige HU und AU, deutsche Ausführung, unfallfrei ,  , Highlights,  , Audio-Navigationssystem mit Touchscreen-Farbdisplay, Komfort,  , Klimaanlage ,  , Multifunktionslenkrad in Leder ,  , Berganfahr-Assistent (HSA),  , Fensterheber elektrisch vorn ,  , Geschwindigkeits-Regelanlage (Tempomat) ,  , Heckscheibe heizbar ,  , Sitz vorn links höhenverstellbar,  , Sitz vorn rechts umklappbar ,  , Stau-/Ablagefach im Laderaumboden ,  , Zentralverriegelung mit Fernbedienung , Multimedia,  , Radio R&GO,  , Bluetooth Freisprechanlage ,  , USB-/AUX-Schnittstelle ,  , Bordcomputer,  , Licht und Sicht,  , Tagfahrlicht LED ,  , Außenspiegel elektrisch verstell- und heizbar, Sicherheit,  , Airbag für Fahrer und Beifahrer,  , Beifahrerairbag deaktivierbar ,  , Seitenairbags vorn ,  , Kopfairbagsystem,  , Anti-Blockier-System (ABS),  , Elektronische Bremskraftverteilung ,  , Elektronische Stabilitäts-Programm (ESP) ,  , Reifen-Reparaturkit ,  , Reifendruck-Kontrollsystem ,  , Untersteuerungskontrolle (USC) ,  , ISOFIX Kindersitzverankerung , Weiteres,  , Dachreling silber ,  , Look-Paket Chrom (außen) ,  , Look-Paket Grau (innen) ,  , R&GO-Paket ,  , Style-Paket ,  Ihr , AUTOHERO-RUNDUM-SORGLOS-PAKET,  beinhaltet:, Kostenlose Lieferung in Ihre Nähe, Optische & technische Aufbereitung, Mindestens 12 Monate gültige HU und AU, 1-Jahr-Premium-Garantie, Zulassung inklusive , 14-Tage-Rückgaberecht, Markenunabhängige Inzahlungnahme , Individuelle Finanzierungen zu fairen Konditionen,  , HIER GEHT ES ZUR 360° - ANSICHT DES FAHRZEUGES:, :, https://www.autohero.com/de/renault-clio-1-2-limited/id/30f99516-8785-47e7-a4a3-6cdac4d8e633/,  , Haftungsausschluss, :, Für Angaben vom Verkäufer, des Herstellers oder von Datenbankabfragen übernimmt Autohero keine Haftung. Änderungen, Zwischenverkauf und Irrtümer sind vorbehalten.\\n]                                                                                                                                                                                                                                                                                                                                                                                                                                                                                                                                                                                                                                27\n",
       "                                                                                                                                                                                                                                                                                                                                                                                                                                                                                                                                                                                                                                                                                                                                                                                                                                                                                                                                                                                                                                                                                                                                                                                                                                                                                                                                                                                                                                                                                                                                                                                                                                                                                                                                                                                                                                                                                                                                                                                                                                                                                                                                                                                                                                                                                                                                                                                                                                                                                                                                                                                                                                                                                         ... \n",
       "[\\nPratica 67374, Airbag fullsize per conducente e passeggero, Alzacristalli elettrici ant. e post. con funzione attivaz. a pressione, Assetto dinamico, Audi drive select, Inserti in micrometallic argento, Kit riparazione pneumatici, Pacchetto di navigazione, Piano di copertura del vano bagagli estraibile, Presa AUX-IN, Proiettori allo Xenon Plus con reg. aut. prof. fari, Lavafari, Rivestimenti dei sedili in tessuto, Serbatoio AdBlue, Sistema controllo pressione pneumatici, Sistema di ancoraggio ISOFIX e 3° punto di ancoraggio Top Tether sui sedili post. laterali, Sistema di informazioni per il conducente con display monocromatico, Tappetini anteriori e posteriori, Versione Business, Volante sportivo multifunzionale in pelle 3 razze, ABS, EBV (Ripartitore elettronico della forza frenante), Airbag laterali anteriori integrati negli schienali dei sedili, Airbag per la testa, Airbag per le ginocchia (lato conducente), Appoggiatesta anteriori (2) e posteriori (3) regolabili, Radio MMI plus, Interfaccia Bluetooth, Appoggiabraccia centrale anteriore, Cambio manuale, Cerchi in lega 7 J x 16\" a 5 razze a stella, Chiusura centralizzata con telecomando, Regolatore di velocità, ESC - Sistema elettronico di controllo della stabilizzazione con bloccaggio trasversale elettronico, ASR - Dispositivo di controllo della trazione, EDS (Dispositivo antislittamento in partenza), Filtro anti particolato, Cinture di sicurezza con pretensionatore, Specchietti retrovisivi esterni riscaldabili e ripiegabili elettricamente, Schienale del sedile posteriore ribaltabile (divisibile in rapporto 40:60 o ribaltabile completam.), Sistema di ausilio al parcheggio posteriore, Servosterzo elettromeccanico, Tergilunotto\\n]                                                                                                                                                                                                                                                                                                                                                                                                                                                                                                                                                                                                                                                                                                                                                                                                                                                                                                          1\n",
       "[\\n, Getriebe:,  Schaltgetriebe, Technik:,  Bordcomputer, Start-Stop-Automatik, Assistenten:,  Regensensor, Lichtsensor, Berganfahrassistent, Komfort:,  Servolenkung, Zentralverriegelung, Elektrischer Fensterheber, Sitzheizung, Elektrische Aussenspiegel, Teilbare Ruecksitzlehne, Tempomat, Park Distance Control, Multifunktionslenkrad, Innenspiegel autom. abblendbar, Mittelarmlehne, Innenraumfilter, Lenksaeule einstellbar, Sportsitze, Klimaautomatik-2-Zonen, Sicht:,  Xenon Scheinwerfer, Colorverglasung, Scheinwerferreinigung, Aussenspiegel beheizbar, Privacyverglasung, Sicherheit:,  ABS, Airbag, Beifahrer-Airbag, Wegfahrsperre, Seitenairbags, ESP, Antriebsschlupfregelung, Reifendruckkontrolle, Traktionskontrolle, Kopfairbag, Knieairbag, Kindersitzbefestigung, Pannenkit, Entertainment:,  CD, Radio, AUX-In, USB-Anschluss, MP3, Bluetooth, Freisprecheinrichtung, Umwelt:,  Grüne Umweltplakette, , Energieeffizienzklasse B, Qualität:,  Garantie, Scheckheftgepflegt, HUAU neu, Nichtraucherfahrzeug, Sonstiges:,  Metallic, Alufelgen, Dachreling, Gepaeckraumabdeckung, Stossfaenger in Wagenfarbe, Sportfahrwerk, Weiteres:,  Connectivity-Paket inkl. Bluetooth-Schnittstelle, Klimaautomatik 2-Zonen, Optik-Paket schwarz Audi exclusive, Einparkhilfe (APS), Verglasung hinten abgedunkelt, Sitzheizung vorn, Dachreling (Aluminium), Soundsystem DSP / Audi Sound-System, Ablage- und Gepäckraum-Paket, Audi music interface, Scheibenwaschdüsen heizbar, Vorbereitung Navigationssystem, Adaptives Bremslicht, Anfahr-Assistent (hold assist), Antriebsart: Frontantrieb, Audi Drive Select, Außenspiegel Wagenfarbe, Blinkleuchten LED in Außenspiegel integriert, Bremsanlage mit Rekuperation - Bremsenergierückgewinnung, Bremsassistent, Dachspoiler, Dekoreinlagen Aluminium Mistral, Einstiegsleisten Aluminium, Elektron. Differentialsperre (EDS), Elektron. Stabilitätskontrolle (ESC), Elektron. Stabilitäts-Programm, Euro 6, Fahrer-Informations-System (FIS), Fensterheber elektrisch vorn und hinten, Frontscheibe Akustikglas, Fußmatten Velours, Getriebe 6-Gang, Heckscheibe heizbar, Interieur Aluminium-Optik, Isofix-Aufnahmen für Kindersitz, Kopfstützen hinten, Multi-Media-Interface MMI, Parkbremse elektro-mechanisch, Polster: Stoff Rallye, Servolenkung elektro-mechanisch, Sitze vorn mit ausziehbarer Oberschenkelauflage, Sitzhöhenverstellung, Sport/Lederlenkrad, Sport-Fahrwerk, Start/Stop-Anlage, Telefon-Vorbereitung mit Bluetooth-Schnittstelle, Wagenheber, Wärmeschutzverglasung, Xenon Plus, ZV mit Fernbedienung, ... Änderungen, Zwischenverkauf und Irrtümer vorbehalten.,  by CG360.de\\n]      1\n",
       "[\\n, Getriebe, 6-Gang, Licht und Sicht, Xenon-Scheinwerfer Plus (Abblend- und Fernlicht), Technik und Sicherheit, Fahrerairbag, Airbag Fahrer-/Beifahrerseite, Seitenairbag vorn, Kopfairbags, Anti-Blockier-System (ABS), Elektron. Stabilitätskontrolle (ESC), Elektron. Differentialsperre (EDS), Zentralverriegelung mit Fernbedienung, Schließ-/Startsystem Advanced Key (Komfortschlüssel), Servolenkung elektro-mechanisch, Geschwindigkeits-Regelanlage (Tempomat), Elektronische Wegfahrsperre, Bordcomputer, Reifendruck-Kontrollsystem, Assistenzsysteme, Fahrassistenz-System: Anfahr-Assistent (hold assist), Multimedia, Multi-Media-Interface MMI Basic Plus / MMI Radio Plus, Audi Smartphone Interface, Komfort, Komfort-Klimaautomatik 2-Zonen, Einparkhilfe hinten (APS), Fensterheber elektrisch, Licht- und Regensensor, Außenspiegel elektr. verstellbar beide, Scheibenwaschdüsen und Außenspiegel beheizt, Wärmeschutzverglasung grün getönt, Innenausstattung, Sitzheizung vorn, Lenkrad (Sport/Leder - 3-Speichen) mit Multifunktion, Mittelarmlehne vorn, Rücksitzlehne geteilt/klappbar, Aussenausstattung, LM-Felgen, Pakete, Komfort-Paket, Sonstiges, Rußpartikelfilter, Scheckheftgepflegt, Nichtraucherfahrzeug, Weitere Informationen, Schadstoffklasse: EURO 6D-TEMP, Connectivity-Paket, Glanz-Paket, LM-Felgen 7.5x17 (5-Speichen Y-Design), Progressivlenkung, Antriebs-Schlupfregelung (ASR), Elektron. Stabilitäts-Programm (ESP), Getriebe 6-Gang, Lenkrad (Sport - 3-Speichen), Parkbremse elektro-mechanisch, Sitze vorn höhenverstellbar, Vorrüstung Mobiltelefon/Handy mit Bluetooth-Schnittstelle, Audi music interface, Außenspiegel elektr. verstell- und heizbar beide, Vorbereitung Navigationssystem, Irrtümer und Änderungen vorbehalten., Die im Internet angebotene Ausstattung ist kein Vertragsbestandteil., Die Ausstattung muss vor Ort geprüft werden., Das angebotene Fahrzeug kann von einer Rückrufaktion betroffen sein. Co2 Angaben können abweichen., \\n]                                                                                                                                                                                                                                                                                                                                                                                                                                                                                                                                                                                                                                                                  1\n",
       "[\\n, Aluminium-Gussräder im 5-Speichen-Stern-Design Größe 7 J x 16 mit Reifen 205/55 R 16, Dachreling eloxiert, Einparkhilfe hinten, Fahrerinformationssystem mit Farbdisplay, Lederlenkrad im 3-Speichen-Design mit Multifunktion plus, Ablage-/Gepäckraumpaket mit erweitertem USB-Buchsen-Angebot, Lichtpaket, Reifen 16', Anlaufvariante RdW, Vorbereitung für Anhängevorrichtung, Audi sound system, Reifen 205/55 R16 91W, Xenon plus, Allwetterlicht, Kopfstützen hinten (3 Stück), MMI Radio plus, Zentralverriegelung mit Funkschlüssel, Bluetooth-Schnittstelle, Innenspiegel abblendbar, elektronische Stabilisierungskontrolle (ESC), Airbags, 6-Gang-Schaltgetriebe, Seitenairbags vorn und Kopfairbagsystem, elektromechanische Servolenkung, Leuchtweitenregulierung automatisch-statisch, Scheibenwaschdüsen beheizbar vorn, Reifendruck-Kontrollanzeige, Tagfahrlicht, Start-Stop-System, AUX-IN-Anschluss, Kindersitzverankerung ISOFIX und Top Tether für die äußeren Fondsitze, Sitzbezüge in Stoff Index, Wärmeschutzverglasung, Akustikfrontscheibe, Außenspiegel links asphärisch, Außen-Sound Standard, Außenspiegel rechts (großes Sichtfeld) konvex, elektromechanische Parkbremse, Dachhimmel in Stoff felsgrau, Kraftstoffsystem Otto-Einspritzer, Linkslenker, Reifenreparaturset, Heckleuchten, Scheibenwaschanlage, Entriegelung Hintersitz Standard, Waschwasserstandsanzeige, Abgaskonzept EU6 AG/H/I, Frontantrieb, A3, Außenspiegelgehäuse in Wagenfarbe, Ohne erweitertem Sicherheitssystem, Geschwindigkeitsbegrenzungsanlage, Dachkantenspoiler, Heckscheibenwischer, Sportback, Kindersicherung manuell, Ohne Kamerasysteme/Umfeldsensorik, 4-Zyl. Ottomotor 1 5 L/110KW TSI Grundmotor ist: TJ7/N09/T9F, Nebelschlussleuchten, Nichtraucherausführung, Radstand, Doppeltonfanfare, Serienfahrwerk, 4 Türen, Modellbezeichnung gemäß neuer Leistungskennzeichnung, Warnleuchten, Zierleisten schwarz, Nichtraucherfahrzeug, Irrtümer Änderungen und Zwischenverkauf vorbehalten, sehr guter Zustand, Komfortklima, Aussenspiegel heizbar, elektrische Aussenspiegel, geteilte Rückbank, Scheckheft gepflegt, Fahrersitz höhenverstellbar, Beifahrersitz höhenverstellbar, \\n]                                                                                                                                                                                                                                                                                                                                                                                                                                                                        1\n",
       "[\\nDEK:[2691331], Renault Espace Blue dCi 200CV EDC Business, Nuova da Immatricolare, COLORE: Grigio Titanio, INTERNO: Pelle+Tessuto, TRASMISSIONE: Cambio Automatico EDC, ---, ACCESSORI: , 7 Posti, , , Cerchi in Lega 17, Navigatore con Display 8.7, Clima Automatico, Sensori di Parcheggio Anteriori e Posteriori con Retrocamera, Fari Full LED Pure Vision, Cruise Control, Renault Multisense, ---, Listino Nuovo 44.300 Euro, Prezzo Gruppo Carmeli: 39.700 Euro (Esclusa IPT e Messa in Strada), IVA Esposta, In caso di Adesione alla PROMO GRUPPO CARMELI puoi Averla a 36.000 Euro, Contattaci per scoprire tutti i vantaggi della PROMO GRUPPO CARMELI, ____________________________________, Gruppo Carmeli S.p.A. è Concessionaria e Service ufficiale dei Marchi Renault, Dacia, Nissan, Mercedes e Smart per la provincia di Brescia e Bergamo ed opera nel mercato dell’auto da più di 40 anni., Nelle sedi di Brescia (Nissan e Renault-Dacia Autospazio), di Coccaglio (Renault-Dacia e Nissan) e di Bergamo (Nissan) oltre a tutta la gamma di veicoli dei Marchi rappresentati, propone anche 2.000 auto a Km Zero e Aziendali di tutte le marche., Offriamo Servizi:, -VALUTAZIONE e PERMUTA del tuo USATO, -ACQUISTO con pagamento immediato del tuo USATO, -FINANZIAMENTI e LEASING agevolati, -NOLEGGIO A LUNGO TERMINE di veicoli di tutte le marche, -PACCHETTI ASSICURATIVI su misura con possibilità di garanzia del valore a Nuovo, ____________________________________, Sebbene sia stato fatto ogni ragionevole sforzo per assicurare l'esattezza delle informazioni riportate, vi potrebbero essere involontarie incongruenze riguardanti le immagini e la descrizione degli accessori, che pertanto non rappresentano vincolo contrattuale. Per ulteriori informazioni sulle condizioni economiche ti invitiamo a contattarci., \\n]                                                                                                                                                                                                                                                                                                                                                                                                                                                                                                                                                                                                                                                                                                                                                                                                                   1\n",
       "Name: description, Length: 12874, dtype: int64"
      ]
     },
     "execution_count": 263,
     "metadata": {},
     "output_type": "execute_result"
    }
   ],
   "source": [
    "df.description.value_counts(dropna=False)"
   ]
  },
  {
   "cell_type": "markdown",
   "metadata": {},
   "source": [
    "This column have many unorganized data and most of them are in Germen so this column will be dropped."
   ]
  },
  {
   "cell_type": "code",
   "execution_count": 264,
   "metadata": {},
   "outputs": [],
   "source": [
    "df.drop(columns=\"description\", inplace=True)"
   ]
  },
  {
   "cell_type": "code",
   "execution_count": 265,
   "metadata": {
    "scrolled": true
   },
   "outputs": [
    {
     "data": {
      "text/plain": [
       "Index(['url', 'make_model', 'short_description', 'body_type', 'price', 'vat', 'km', 'registration', 'prev_owner', 'kW', 'hp', 'Type', 'Previous Owners', 'Next Inspection', 'Inspection new', 'Warranty', 'Full Service', 'Non-smoking Vehicle', 'null', 'Make', 'Model', 'Offer Number', 'First Registration', 'Body Color', 'Paint Type', 'Body Color Original', 'Upholstery', 'Body', 'Nr. of Doors', 'Nr. of Seats', 'Model Code', 'Gearing Type', 'Displacement', 'Cylinders', 'Weight', 'Drive chain', 'Fuel', 'Consumption', 'CO2 Emission', 'Emission Class', '\\nComfort & Convenience\\n', '\\nEntertainment & Media\\n', '\\nExtras\\n', '\\nSafety & Security\\n', 'description', 'Emission Label', 'Gears', 'Country version', 'Electricity consumption', 'Last Service Date', 'Other Fuel Types', 'Availability', 'Last Timing Belt Service Date', 'Available from'], dtype='object')"
      ]
     },
     "execution_count": 265,
     "metadata": {},
     "output_type": "execute_result"
    }
   ],
   "source": [
    "dfo.columns"
   ]
  },
  {
   "cell_type": "markdown",
   "metadata": {},
   "source": [
    "## Gears"
   ]
  },
  {
   "cell_type": "code",
   "execution_count": 266,
   "metadata": {},
   "outputs": [
    {
     "ename": "TypeError",
     "evalue": "unhashable type: 'list'",
     "output_type": "error",
     "traceback": [
      "\u001b[0;31m---------------------------------------------------------------------------\u001b[0m",
      "\u001b[0;31mTypeError\u001b[0m                                 Traceback (most recent call last)",
      "\u001b[0;32mpandas/_libs/hashtable_class_helper.pxi\u001b[0m in \u001b[0;36mpandas._libs.hashtable.PyObjectHashTable.map_locations\u001b[0;34m()\u001b[0m\n",
      "\u001b[0;31mTypeError\u001b[0m: unhashable type: 'list'"
     ]
    },
    {
     "name": "stderr",
     "output_type": "stream",
     "text": [
      "Exception ignored in: 'pandas._libs.index.IndexEngine._call_map_locations'\n",
      "Traceback (most recent call last):\n",
      "  File \"pandas/_libs/hashtable_class_helper.pxi\", line 5231, in pandas._libs.hashtable.PyObjectHashTable.map_locations\n",
      "TypeError: unhashable type: 'list'\n"
     ]
    },
    {
     "data": {
      "text/plain": [
       "[\\n6\\n]     5822\n",
       "NaN         4712\n",
       "[\\n5\\n]     3239\n",
       "[\\n7\\n]     1908\n",
       "[\\n8\\n]      224\n",
       "[\\n9\\n]        6\n",
       "[\\n1\\n]        2\n",
       "[\\n3\\n]        2\n",
       "[\\n4\\n]        2\n",
       "[\\n2\\n]        1\n",
       "[\\n50\\n]       1\n",
       "Name: Gears, dtype: int64"
      ]
     },
     "execution_count": 266,
     "metadata": {},
     "output_type": "execute_result"
    }
   ],
   "source": [
    "df.Gears.value_counts(dropna=False)"
   ]
  },
  {
   "cell_type": "code",
   "execution_count": 267,
   "metadata": {},
   "outputs": [
    {
     "data": {
      "text/plain": [
       "6      5822\n",
       "NaN    4712\n",
       "5      3239\n",
       "7      1908\n",
       "8       224\n",
       "9         6\n",
       "1         2\n",
       "3         2\n",
       "4         2\n",
       "2         1\n",
       "50        1\n",
       "Name: gears, dtype: int64"
      ]
     },
     "execution_count": 267,
     "metadata": {},
     "output_type": "execute_result"
    }
   ],
   "source": [
    "df[\"gears\"] = df.Gears.str[0].str.strip()\n",
    "df[\"gears\"].value_counts(dropna=False)"
   ]
  },
  {
   "cell_type": "code",
   "execution_count": 268,
   "metadata": {},
   "outputs": [],
   "source": [
    "df.drop(columns=\"Gears\", inplace=True)"
   ]
  },
  {
   "cell_type": "code",
   "execution_count": 269,
   "metadata": {},
   "outputs": [
    {
     "data": {
      "text/plain": [
       "Index(['url', 'make_model', 'short_description', 'body_type', 'price', 'vat', 'km', 'registration', 'prev_owner', 'kW', 'hp', 'Type', 'Previous Owners', 'Next Inspection', 'Inspection new', 'Warranty', 'Full Service', 'Non-smoking Vehicle', 'null', 'Make', 'Model', 'Offer Number', 'First Registration', 'Body Color', 'Paint Type', 'Body Color Original', 'Upholstery', 'Body', 'Nr. of Doors', 'Nr. of Seats', 'Model Code', 'Gearing Type', 'Displacement', 'Cylinders', 'Weight', 'Drive chain', 'Fuel', 'Consumption', 'CO2 Emission', 'Emission Class', '\\nComfort & Convenience\\n', '\\nEntertainment & Media\\n', '\\nExtras\\n', '\\nSafety & Security\\n', 'description', 'Emission Label', 'Gears', 'Country version', 'Electricity consumption', 'Last Service Date', 'Other Fuel Types', 'Availability', 'Last Timing Belt Service Date', 'Available from'], dtype='object')"
      ]
     },
     "execution_count": 269,
     "metadata": {},
     "output_type": "execute_result"
    }
   ],
   "source": [
    "dfo.columns"
   ]
  },
  {
   "cell_type": "markdown",
   "metadata": {},
   "source": [
    "## Warranty"
   ]
  },
  {
   "cell_type": "code",
   "execution_count": 270,
   "metadata": {
    "scrolled": false
   },
   "outputs": [
    {
     "ename": "TypeError",
     "evalue": "unhashable type: 'list'",
     "output_type": "error",
     "traceback": [
      "\u001b[0;31m---------------------------------------------------------------------------\u001b[0m",
      "\u001b[0;31mTypeError\u001b[0m                                 Traceback (most recent call last)",
      "\u001b[0;32mpandas/_libs/hashtable_class_helper.pxi\u001b[0m in \u001b[0;36mpandas._libs.hashtable.PyObjectHashTable.map_locations\u001b[0;34m()\u001b[0m\n",
      "\u001b[0;31mTypeError\u001b[0m: unhashable type: 'list'"
     ]
    },
    {
     "name": "stderr",
     "output_type": "stream",
     "text": [
      "Exception ignored in: 'pandas._libs.index.IndexEngine._call_map_locations'\n",
      "Traceback (most recent call last):\n",
      "  File \"pandas/_libs/hashtable_class_helper.pxi\", line 5231, in pandas._libs.hashtable.PyObjectHashTable.map_locations\n",
      "TypeError: unhashable type: 'list'\n"
     ]
    },
    {
     "data": {
      "text/plain": [
       "NaN                                                                                                5420\n",
       "[\\n, \\n, \\nEuro 6\\n]                                                                               1868\n",
       "\\n12 months\\n                                                                                      1177\n",
       "\\n                                                                                                  979\n",
       "\\n24 months\\n                                                                                       566\n",
       "                                                                                                   ... \n",
       "[\\n72 months\\n, \\n125 g CO2/km (comb)\\n]                                                              1\n",
       "[\\n60 months\\n, \\n14 g CO2/km (comb)\\n]                                                               1\n",
       "[\\n24 months\\n, \\n121 g CO2/km (comb)\\n]                                                              1\n",
       "[\\n12 months\\n, \\nEuro 6d\\n]                                                                          1\n",
       "[\\n36 months\\n, \\n, 7.4 l/100 km (comb), \\n, 9.6 l/100 km (city), \\n, 6 l/100 km (country), \\n]       1\n",
       "Name: Warranty, Length: 516, dtype: int64"
      ]
     },
     "execution_count": 270,
     "metadata": {},
     "output_type": "execute_result"
    }
   ],
   "source": [
    "df.Warranty.value_counts(dropna=False)"
   ]
  },
  {
   "cell_type": "code",
   "execution_count": 271,
   "metadata": {},
   "outputs": [
    {
     "data": {
      "text/plain": [
       "11509                                                             [\\n12 months\\n, \\n139 g CO2/km (comb)\\n]\n",
       "13722                                                              [\\n12 months\\n, \\n85 g CO2/km (comb)\\n]\n",
       "6262                                                                                                   NaN\n",
       "6374                                                                                         \\n12 months\\n\n",
       "2347                                                                               [\\n, \\n, \\n4 (Green)\\n]\n",
       "3218                                                                                                   NaN\n",
       "12399                                                                                                  NaN\n",
       "7982                                                                                                   NaN\n",
       "14480                                                                                                  NaN\n",
       "2697                                                                                       [\\n12 months\\n]\n",
       "6669                                                                                                   NaN\n",
       "5504                                                              [\\n36 months\\n, \\n107 g CO2/km (comb)\\n]\n",
       "7811                                                                     [\\n, \\n, \\n139 g CO2/km (comb)\\n]\n",
       "6899                                                                                         \\n12 months\\n\n",
       "2718                                                                                          \\n6 months\\n\n",
       "2662                                                                                         \\n12 months\\n\n",
       "679                                                                                   [\\n, \\n, \\nEuro 6\\n]\n",
       "13210                                                             [\\n24 months\\n, \\n109 g CO2/km (comb)\\n]\n",
       "4042                                                                                                    \\n\n",
       "5770     [\\n60 months\\n, \\n, 5.1 l/100 km (comb), \\n, 6.3 l/100 km (city), \\n, 4.3 l/100 km (country), \\n]\n",
       "8278                                                                                                   NaN\n",
       "1642                                                                                  [\\n, \\n, \\nEuro 6\\n]\n",
       "7263                                                              [\\n60 months\\n, \\n128 g CO2/km (comb)\\n]\n",
       "5090                                                                                                    \\n\n",
       "3239                                                                                                   NaN\n",
       "94                                                                 [\\n6 months\\n, \\n103 g CO2/km (comb)\\n]\n",
       "14999                                                                                                  NaN\n",
       "5733                                                                                                   NaN\n",
       "5488                                                                               [\\n, \\n, \\n4 (Green)\\n]\n",
       "9548                                                                                       [\\n12 months\\n]\n",
       "15232                                                                                         \\n1 months\\n\n",
       "5524                                                                            [\\n, \\n, \\nEuro 6d-TEMP\\n]\n",
       "4745                                                                                                    \\n\n",
       "6416                                                                           [\\n12 months\\n, \\nEuro 6\\n]\n",
       "5639                                                                     [\\n, \\n, \\n114 g CO2/km (comb)\\n]\n",
       "13341                                                                                                  NaN\n",
       "8548                                                                                  [\\n, \\n, \\nEuro 6\\n]\n",
       "1285                                                                                                   NaN\n",
       "9358                                                                               [\\n, \\n, \\n4 (Green)\\n]\n",
       "10102                                                                           [\\n, \\n, \\nEuro 6d-TEMP\\n]\n",
       "8119                                                                                                    \\n\n",
       "4595                                                                                                   NaN\n",
       "6883                                                                                                   NaN\n",
       "7031                                                                                                   NaN\n",
       "535                                                                                [\\n, \\n, \\n4 (Green)\\n]\n",
       "5239                                                                                         \\n24 months\\n\n",
       "3635                                                              [\\n24 months\\n, \\n103 g CO2/km (comb)\\n]\n",
       "6047                                                                                                   NaN\n",
       "6772                                                              [\\n12 months\\n, \\n102 g CO2/km (comb)\\n]\n",
       "11589                                                                    [\\n, \\n, \\n130 g CO2/km (comb)\\n]\n",
       "Name: Warranty, dtype: object"
      ]
     },
     "execution_count": 271,
     "metadata": {},
     "output_type": "execute_result"
    }
   ],
   "source": [
    "df.Warranty.sample(50)"
   ]
  },
  {
   "cell_type": "code",
   "execution_count": 272,
   "metadata": {},
   "outputs": [
    {
     "data": {
      "text/plain": [
       "             7703\n",
       "NaN          5420\n",
       "12 months    1417\n",
       "24 months     552\n",
       "60 months     382\n",
       "36 months     223\n",
       "6 months       49\n",
       "72 months      44\n",
       "48 months      40\n",
       "3 months       14\n",
       "23 months      10\n",
       "18 months       7\n",
       "20 months       7\n",
       "25 months       5\n",
       "2 months        4\n",
       "50 months       4\n",
       "16 months       4\n",
       "34 months       3\n",
       "17 months       2\n",
       "45 months       2\n",
       "1 months        2\n",
       "14 months       2\n",
       "21 months       2\n",
       "11 months       2\n",
       "22 months       2\n",
       "46 months       2\n",
       "26 months       2\n",
       "13 months       2\n",
       "19 months       1\n",
       "10 months       1\n",
       "28 months       1\n",
       "56 months       1\n",
       "7 months        1\n",
       "15 months       1\n",
       "49 months       1\n",
       "47 months       1\n",
       "65 months       1\n",
       "33 months       1\n",
       "40 months       1\n",
       "Name: Warranty, dtype: int64"
      ]
     },
     "execution_count": 272,
     "metadata": {},
     "output_type": "execute_result"
    }
   ],
   "source": [
    "df.Warranty.str[0].str.strip().value_counts(dropna=False)"
   ]
  },
  {
   "cell_type": "code",
   "execution_count": 273,
   "metadata": {},
   "outputs": [
    {
     "data": {
      "text/plain": [
       "NaN    13123\n",
       "12      1417\n",
       "24       552\n",
       "60       382\n",
       "36       223\n",
       "6         49\n",
       "72        44\n",
       "48        40\n",
       "3         14\n",
       "23        10\n",
       "18         7\n",
       "20         7\n",
       "25         5\n",
       "50         4\n",
       "16         4\n",
       "2          4\n",
       "34         3\n",
       "1          2\n",
       "11         2\n",
       "14         2\n",
       "45         2\n",
       "22         2\n",
       "21         2\n",
       "17         2\n",
       "46         2\n",
       "26         2\n",
       "13         2\n",
       "65         1\n",
       "33         1\n",
       "28         1\n",
       "15         1\n",
       "7          1\n",
       "19         1\n",
       "10         1\n",
       "56         1\n",
       "49         1\n",
       "47         1\n",
       "40         1\n",
       "Name: Warranty, dtype: int64"
      ]
     },
     "execution_count": 273,
     "metadata": {},
     "output_type": "execute_result"
    }
   ],
   "source": [
    "df.Warranty.str[0].str.strip().str.split().str[0].value_counts(dropna=False)"
   ]
  },
  {
   "cell_type": "code",
   "execution_count": 274,
   "metadata": {},
   "outputs": [
    {
     "data": {
      "text/plain": [
       "NaN    13123\n",
       "12      1417\n",
       "24       552\n",
       "60       382\n",
       "36       223\n",
       "6         49\n",
       "72        44\n",
       "48        40\n",
       "3         14\n",
       "23        10\n",
       "18         7\n",
       "20         7\n",
       "25         5\n",
       "50         4\n",
       "16         4\n",
       "2          4\n",
       "34         3\n",
       "1          2\n",
       "11         2\n",
       "14         2\n",
       "45         2\n",
       "22         2\n",
       "21         2\n",
       "17         2\n",
       "46         2\n",
       "26         2\n",
       "13         2\n",
       "65         1\n",
       "33         1\n",
       "28         1\n",
       "15         1\n",
       "7          1\n",
       "19         1\n",
       "10         1\n",
       "56         1\n",
       "49         1\n",
       "47         1\n",
       "40         1\n",
       "Name: warranty, dtype: int64"
      ]
     },
     "execution_count": 274,
     "metadata": {},
     "output_type": "execute_result"
    }
   ],
   "source": [
    "df[\"warranty\"] = df.Warranty.str[0].str.strip().str.split().str[0]\n",
    "df[\"warranty\"].value_counts(dropna=False)"
   ]
  },
  {
   "cell_type": "code",
   "execution_count": 275,
   "metadata": {},
   "outputs": [],
   "source": [
    "df.drop(columns=\"Warranty\", inplace=True)"
   ]
  },
  {
   "cell_type": "code",
   "execution_count": 276,
   "metadata": {},
   "outputs": [
    {
     "data": {
      "text/plain": [
       "0.8243608266850933"
      ]
     },
     "execution_count": 276,
     "metadata": {},
     "output_type": "execute_result"
    }
   ],
   "source": [
    "len(df[df[\"warranty\"].isnull()]) / len(df)\n",
    "# % 82 row has no warranty data so warranty column maybe dropped."
   ]
  },
  {
   "cell_type": "markdown",
   "metadata": {},
   "source": [
    "## Cylinders"
   ]
  },
  {
   "cell_type": "code",
   "execution_count": 277,
   "metadata": {
    "scrolled": true
   },
   "outputs": [
    {
     "ename": "TypeError",
     "evalue": "unhashable type: 'list'",
     "output_type": "error",
     "traceback": [
      "\u001b[0;31m---------------------------------------------------------------------------\u001b[0m",
      "\u001b[0;31mTypeError\u001b[0m                                 Traceback (most recent call last)",
      "\u001b[0;32mpandas/_libs/hashtable_class_helper.pxi\u001b[0m in \u001b[0;36mpandas._libs.hashtable.PyObjectHashTable.map_locations\u001b[0;34m()\u001b[0m\n",
      "\u001b[0;31mTypeError\u001b[0m: unhashable type: 'list'"
     ]
    },
    {
     "name": "stderr",
     "output_type": "stream",
     "text": [
      "Exception ignored in: 'pandas._libs.index.IndexEngine._call_map_locations'\n",
      "Traceback (most recent call last):\n",
      "  File \"pandas/_libs/hashtable_class_helper.pxi\", line 5231, in pandas._libs.hashtable.PyObjectHashTable.map_locations\n",
      "TypeError: unhashable type: 'list'\n"
     ]
    },
    {
     "data": {
      "text/plain": [
       "[\\n4\\n]    8105\n",
       "NaN        5680\n",
       "[\\n3\\n]    2104\n",
       "[\\n5\\n]      22\n",
       "[\\n6\\n]       3\n",
       "[\\n8\\n]       2\n",
       "[\\n2\\n]       2\n",
       "[\\n1\\n]       1\n",
       "Name: Cylinders, dtype: int64"
      ]
     },
     "execution_count": 277,
     "metadata": {},
     "output_type": "execute_result"
    }
   ],
   "source": [
    "df[\"Cylinders\"].value_counts(dropna=False)"
   ]
  },
  {
   "cell_type": "code",
   "execution_count": 278,
   "metadata": {},
   "outputs": [
    {
     "data": {
      "text/plain": [
       "4      8105\n",
       "NaN    5680\n",
       "3      2104\n",
       "5        22\n",
       "6         3\n",
       "8         2\n",
       "2         2\n",
       "1         1\n",
       "Name: Cylinders, dtype: int64"
      ]
     },
     "execution_count": 278,
     "metadata": {},
     "output_type": "execute_result"
    }
   ],
   "source": [
    "df.Cylinders.str[0].str.strip().value_counts(dropna=False)"
   ]
  },
  {
   "cell_type": "code",
   "execution_count": 279,
   "metadata": {
    "scrolled": true
   },
   "outputs": [],
   "source": [
    "df[\"cylinders\"] = df.Cylinders.str[0].str.strip()"
   ]
  },
  {
   "cell_type": "code",
   "execution_count": 280,
   "metadata": {},
   "outputs": [],
   "source": [
    "df.drop(columns=\"Cylinders\", inplace=True)"
   ]
  },
  {
   "cell_type": "markdown",
   "metadata": {},
   "source": [
    "## Paint Type "
   ]
  },
  {
   "cell_type": "code",
   "execution_count": 281,
   "metadata": {
    "scrolled": true
   },
   "outputs": [
    {
     "ename": "TypeError",
     "evalue": "unhashable type: 'list'",
     "output_type": "error",
     "traceback": [
      "\u001b[0;31m---------------------------------------------------------------------------\u001b[0m",
      "\u001b[0;31mTypeError\u001b[0m                                 Traceback (most recent call last)",
      "\u001b[0;32mpandas/_libs/hashtable_class_helper.pxi\u001b[0m in \u001b[0;36mpandas._libs.hashtable.PyObjectHashTable.map_locations\u001b[0;34m()\u001b[0m\n",
      "\u001b[0;31mTypeError\u001b[0m: unhashable type: 'list'"
     ]
    },
    {
     "name": "stderr",
     "output_type": "stream",
     "text": [
      "Exception ignored in: 'pandas._libs.index.IndexEngine._call_map_locations'\n",
      "Traceback (most recent call last):\n",
      "  File \"pandas/_libs/hashtable_class_helper.pxi\", line 5231, in pandas._libs.hashtable.PyObjectHashTable.map_locations\n",
      "TypeError: unhashable type: 'list'\n"
     ]
    },
    {
     "data": {
      "text/plain": [
       "[\\nMetallic\\n]       9794\n",
       "NaN                  5772\n",
       "[\\nUni/basic\\n]       347\n",
       "[\\nPerl effect\\n]       6\n",
       "Name: Paint Type, dtype: int64"
      ]
     },
     "execution_count": 281,
     "metadata": {},
     "output_type": "execute_result"
    }
   ],
   "source": [
    "df[\"Paint Type\"].value_counts(dropna=False)"
   ]
  },
  {
   "cell_type": "code",
   "execution_count": 282,
   "metadata": {},
   "outputs": [
    {
     "data": {
      "text/plain": [
       "Metallic       9794\n",
       "NaN            5772\n",
       "Uni/basic       347\n",
       "Perl effect       6\n",
       "Name: Paint Type, dtype: int64"
      ]
     },
     "execution_count": 282,
     "metadata": {},
     "output_type": "execute_result"
    }
   ],
   "source": [
    "df[\"Paint Type\"].str[0].str.strip().value_counts(dropna=False)"
   ]
  },
  {
   "cell_type": "code",
   "execution_count": 283,
   "metadata": {},
   "outputs": [],
   "source": [
    "df[\"paint_type\"] = df[\"Paint Type\"].str[0].str.strip()"
   ]
  },
  {
   "cell_type": "code",
   "execution_count": 284,
   "metadata": {},
   "outputs": [],
   "source": [
    "df.drop(columns=\"Paint Type\", axis=1, inplace=True)"
   ]
  },
  {
   "cell_type": "markdown",
   "metadata": {},
   "source": [
    "## Previous Owners & prev_owner \n",
    "these column names looklikes eachother lets inspect them."
   ]
  },
  {
   "cell_type": "code",
   "execution_count": 285,
   "metadata": {},
   "outputs": [
    {
     "ename": "TypeError",
     "evalue": "unhashable type: 'list'",
     "output_type": "error",
     "traceback": [
      "\u001b[0;31m---------------------------------------------------------------------------\u001b[0m",
      "\u001b[0;31mTypeError\u001b[0m                                 Traceback (most recent call last)",
      "\u001b[0;32mpandas/_libs/hashtable_class_helper.pxi\u001b[0m in \u001b[0;36mpandas._libs.hashtable.PyObjectHashTable.map_locations\u001b[0;34m()\u001b[0m\n",
      "\u001b[0;31mTypeError\u001b[0m: unhashable type: 'list'"
     ]
    },
    {
     "name": "stderr",
     "output_type": "stream",
     "text": [
      "Exception ignored in: 'pandas._libs.index.IndexEngine._call_map_locations'\n",
      "Traceback (most recent call last):\n",
      "  File \"pandas/_libs/hashtable_class_helper.pxi\", line 5231, in pandas._libs.hashtable.PyObjectHashTable.map_locations\n",
      "TypeError: unhashable type: 'list'\n"
     ]
    },
    {
     "data": {
      "text/plain": [
       "\\n1\\n                                                                                        8101\n",
       "NaN                                                                                          6640\n",
       "\\n2\\n                                                                                         766\n",
       "\\n0\\n                                                                                         163\n",
       "\\n3\\n                                                                                          17\n",
       "[\\n1\\n, \\n168 g CO2/km (comb)\\n]                                                               13\n",
       "[\\n1\\n, \\n139 g CO2/km (comb)\\n]                                                               12\n",
       "[\\n1\\n, \\n110 g CO2/km (comb)\\n]                                                               12\n",
       "[\\n1\\n, \\n135 g CO2/km (comb)\\n]                                                                9\n",
       "[\\n1\\n, \\n120 g CO2/km (comb)\\n]                                                                8\n",
       "[\\n1\\n, \\n, 6.3 l/100 km (comb), \\n, 7.8 l/100 km (city), \\n, 5.4 l/100 km (country), \\n]       7\n",
       "[\\n1\\n, \\n153 g CO2/km (comb)\\n]                                                                6\n",
       "[\\n1\\n, \\n113 g CO2/km (comb)\\n]                                                                5\n",
       "[\\n1\\n, \\n107 g CO2/km (comb)\\n]                                                                5\n",
       "[\\n1\\n, \\n140 g CO2/km (comb)\\n]                                                                5\n",
       "[\\n1\\n, \\n114 g CO2/km (comb)\\n]                                                                5\n",
       "[\\n0\\n, \\n139 g CO2/km (comb)\\n]                                                                4\n",
       "[\\n1\\n, \\n128 g CO2/km (comb)\\n]                                                                4\n",
       "[\\n1\\n, \\n127 g CO2/km (comb)\\n]                                                                4\n",
       "[\\n1\\n, \\n, 6 l/100 km (comb), \\n, 7.8 l/100 km (city), \\n, 4.9 l/100 km (country), \\n]         4\n",
       "[\\n1\\n, \\n124 g CO2/km (comb)\\n]                                                                3\n",
       "[\\n1\\n, \\n, 5.7 l/100 km (comb), \\n, 7.3 l/100 km (city), \\n, 4.7 l/100 km (country), \\n]       3\n",
       "[\\n1\\n, \\n150 g CO2/km (comb)\\n]                                                                3\n",
       "[\\n1\\n, \\n129 g CO2/km (comb)\\n]                                                                3\n",
       "[\\n1\\n, \\n149 g CO2/km (comb)\\n]                                                                3\n",
       "[\\n1\\n, \\n147 g CO2/km (comb)\\n]                                                                3\n",
       "[\\n1\\n, \\n136 g CO2/km (comb)\\n]                                                                3\n",
       "[\\n1\\n, \\n119 g CO2/km (comb)\\n]                                                                3\n",
       "[\\n1\\n, \\n123 g CO2/km (comb)\\n]                                                                3\n",
       "[\\n0\\n, \\n114 g CO2/km (comb)\\n]                                                                3\n",
       "[\\n0\\n, \\n0 kWh/100 km (comb)\\n]                                                                2\n",
       "[\\n0\\n, \\n, 5.4 l/100 km (comb), \\n, 7.1 l/100 km (city), \\n, 4.4 l/100 km (country), \\n]       2\n",
       "[\\n1\\n, \\n145 g CO2/km (comb)\\n]                                                                2\n",
       "[\\n0\\n, \\n120 g CO2/km (comb)\\n]                                                                2\n",
       "[\\n0\\n, \\n126 g CO2/km (comb)\\n]                                                                2\n",
       "[\\n0\\n, \\n136 g CO2/km (comb)\\n]                                                                2\n",
       "[\\n1\\n, \\n, 5.8 l/100 km (comb), \\n, 7.3 l/100 km (city), \\n, 4.9 l/100 km (country), \\n]       2\n",
       "[\\n1\\n, \\n, 6.6 l/100 km (comb), \\n, 8.2 l/100 km (city), \\n, 5.7 l/100 km (country), \\n]       2\n",
       "[\\n1\\n, \\n, 5.9 l/100 km (comb), \\n, 7.5 l/100 km (city), \\n, 5 l/100 km (country), \\n]         2\n",
       "[\\n2\\n, \\n129 g CO2/km (comb)\\n]                                                                2\n",
       "[\\n2\\n, \\n, 5.6 l/100 km (comb), \\n, 7.3 l/100 km (city), \\n, 4.7 l/100 km (country), \\n]       2\n",
       "[\\n1\\n, \\n, 6 l/100 km (comb), \\n, 7.7 l/100 km (city), \\n, 4.9 l/100 km (country), \\n]         2\n",
       "[\\n1\\n, \\n133 g CO2/km (comb)\\n]                                                                2\n",
       "[\\n1\\n, \\n, 4.8 l/100 km (comb), \\n, 5.9 l/100 km (city), \\n, 4.2 l/100 km (country), \\n]       2\n",
       "[\\n1\\n, \\n, 5 l/100 km (comb), \\n, 5.9 l/100 km (city), \\n, 4.5 l/100 km (country), \\n]         2\n",
       "[\\n1\\n, \\n126 g CO2/km (comb)\\n]                                                                2\n",
       "[\\n1\\n, \\n109 g CO2/km (comb)\\n]                                                                2\n",
       "[\\n1\\n, \\n, 5.4 l/100 km (comb), \\n, 7.1 l/100 km (city), \\n, 4.4 l/100 km (country), \\n]       2\n",
       "[\\n1\\n]                                                                                         2\n",
       "[\\n1\\n, \\n116 g CO2/km (comb)\\n]                                                                2\n",
       "[\\n1\\n, \\n, 6.3 l/100 km (comb), \\n, 8.6 l/100 km (city), \\n, 5 l/100 km (country), \\n]         2\n",
       "[\\n1\\n, \\n, 7.4 l/100 km (comb), \\n, 9.2 l/100 km (city), \\n, 6.3 l/100 km (country), \\n]       2\n",
       "[\\n2\\n, \\n125 g CO2/km (comb)\\n]                                                                2\n",
       "[\\n1\\n, \\n105 g CO2/km (comb)\\n]                                                                2\n",
       "\\n4\\n                                                                                           2\n",
       "[\\n1\\n, \\n, 5 l/100 km (comb), \\n, 6.3 l/100 km (city), \\n, 4.2 l/100 km (country), \\n]         2\n",
       "[\\n1\\n, \\n181 g CO2/km (comb)\\n]                                                                1\n",
       "[\\n0\\n, \\n104 g CO2/km (comb)\\n]                                                                1\n",
       "[\\n0\\n, \\n, 4.6 l/100 km (comb), \\n, 5.8 l/100 km (city), \\n, 3.9 l/100 km (country), \\n]       1\n",
       "[\\n1\\n, \\n141 g CO2/km (comb)\\n]                                                                1\n",
       "[\\n0\\n, \\n106 g CO2/km (comb)\\n]                                                                1\n",
       "[\\n1\\n, \\n102 g CO2/km (comb)\\n]                                                                1\n",
       "[\\n1\\n, \\n, 5.9 l/100 km (comb), \\n, 7.6 l/100 km (city), \\n, 4.9 l/100 km (country), \\n]       1\n",
       "[\\n1\\n, \\n, 6.1 l/100 km (comb), \\n, 7.7 l/100 km (city), \\n, 5.2 l/100 km (country), \\n]       1\n",
       "[\\n1\\n, \\n, 6.7 l/100 km (comb), \\n, 8.6 l/100 km (city), \\n, 5.6 l/100 km (country), \\n]       1\n",
       "[\\n0\\n, \\n187 g CO2/km (comb)\\n]                                                                1\n",
       "[\\n1\\n, \\n, 6.8 l/100 km (comb), \\n, 8.7 l/100 km (city), \\n, 5.7 l/100 km (country), \\n]       1\n",
       "[\\n2\\n, \\n123 g CO2/km (comb)\\n]                                                                1\n",
       "[\\n0\\n, \\n105 g CO2/km (comb)\\n]                                                                1\n",
       "[\\n1\\n, \\n188 g CO2/km (comb)\\n]                                                                1\n",
       "[\\n1\\n, \\n187 g CO2/km (comb)\\n]                                                                1\n",
       "[\\n1\\n, \\n85 g CO2/km (comb)\\n]                                                                 1\n",
       "[\\n1\\n, \\n, 5.9 l/100 km (comb), \\n, 7.6 l/100 km (city), \\n, 5.1 l/100 km (country), \\n]       1\n",
       "[\\n1\\n, \\n125 g CO2/km (comb)\\n]                                                                1\n",
       "[\\n0\\n, \\n, 6.6 l/100 km (comb), \\n, 8.2 l/100 km (city), \\n, 5.7 l/100 km (country), \\n]       1\n",
       "[\\n1\\n, \\n159 g CO2/km (comb)\\n]                                                                1\n",
       "[\\n1\\n, \\n, 5.6 l/100 km (comb), \\n, 7.3 l/100 km (city), \\n, 4.7 l/100 km (country), \\n]       1\n",
       "[\\n2\\n, \\n124 g CO2/km (comb)\\n]                                                                1\n",
       "[\\n0\\n, \\n107 g CO2/km (comb)\\n]                                                                1\n",
       "[\\n0\\n, \\n117 g CO2/km (comb)\\n]                                                                1\n",
       "[\\n1\\n, \\n96 g CO2/km (comb)\\n]                                                                 1\n",
       "[\\n1\\n, \\n104 g CO2/km (comb)\\n]                                                                1\n",
       "[\\n1\\n, \\n, 5.2 l/100 km (comb), \\n, 6 l/100 km (city), \\n, 4.8 l/100 km (country), \\n]         1\n",
       "[\\n1\\n, \\n134 g CO2/km (comb)\\n]                                                                1\n",
       "[\\n1\\n, \\n, 6.5 l/100 km (comb), \\n, 8.5 l/100 km (city), \\n, 5.4 l/100 km (country), \\n]       1\n",
       "[\\n1\\n, \\n, 5.9 l/100 km (comb), \\n, 7.4 l/100 km (city), \\n, 5 l/100 km (country), \\n]         1\n",
       "[\\n2\\n, \\n122 g CO2/km (comb)\\n]                                                                1\n",
       "[\\n1\\n, \\n0 g CO2/km (comb)\\n]                                                                  1\n",
       "[\\n1\\n, \\n137 g CO2/km (comb)\\n]                                                                1\n",
       "[\\n1\\n, \\n99 g CO2/km (comb)\\n]                                                                 1\n",
       "[\\n1\\n, \\n142 g CO2/km (comb)\\n]                                                                1\n",
       "[\\n1\\n, \\n84 g CO2/km (comb)\\n]                                                                 1\n",
       "[\\n2\\n, \\n127 g CO2/km (comb)\\n]                                                                1\n",
       "[\\n1\\n, \\n, 6.6 l/100 km (comb), \\n, 8.2 l/100 km (city), \\n, 5.6 l/100 km (country), \\n]       1\n",
       "[\\n1\\n, \\n, 6 l/100 km (comb), \\n, 8 l/100 km (city), \\n, 4.9 l/100 km (country), \\n]           1\n",
       "[\\n1\\n, \\n, 5.9 l/100 km (comb), \\n, 7.9 l/100 km (city), \\n, 4.8 l/100 km (country), \\n]       1\n",
       "[\\n1\\n, \\n, 4.9 l/100 km (comb), \\n, 6 l/100 km (city), \\n, 4.2 l/100 km (country), \\n]         1\n",
       "[\\n1\\n, \\n, 6.2 l/100 km (comb), \\n, 7.9 l/100 km (city), \\n, 5.3 l/100 km (country), \\n]       1\n",
       "[\\n1\\n, \\n111 g CO2/km (comb)\\n]                                                                1\n",
       "[\\n1\\n, \\nEuro 6\\n]                                                                             1\n",
       "[\\n2\\n, \\n119 g CO2/km (comb)\\n]                                                                1\n",
       "[\\n1\\n, \\n, 6.6 l/100 km (comb), \\n, 8.1 l/100 km (city), \\n, 5.7 l/100 km (country), \\n]       1\n",
       "[\\n2\\n, \\n137 g CO2/km (comb)\\n]                                                                1\n",
       "Name: Previous Owners, dtype: int64"
      ]
     },
     "execution_count": 285,
     "metadata": {},
     "output_type": "execute_result"
    }
   ],
   "source": [
    "df[\"Previous Owners\"].value_counts(dropna=False)"
   ]
  },
  {
   "cell_type": "code",
   "execution_count": 286,
   "metadata": {},
   "outputs": [
    {
     "data": {
      "text/plain": [
       "       9049\n",
       "NaN    6640\n",
       "1       193\n",
       "0        25\n",
       "2        12\n",
       "Name: Previous Owners, dtype: int64"
      ]
     },
     "execution_count": 286,
     "metadata": {},
     "output_type": "execute_result"
    }
   ],
   "source": [
    "df[\"Previous Owners\"].str[0].str.strip().value_counts(dropna=False)"
   ]
  },
  {
   "cell_type": "code",
   "execution_count": 287,
   "metadata": {},
   "outputs": [
    {
     "data": {
      "text/plain": [
       "1 previous owner     8294\n",
       "NaN                  6828\n",
       "2 previous owners     778\n",
       "3 previous owners      17\n",
       "4 previous owners       2\n",
       "Name: prev_owner, dtype: int64"
      ]
     },
     "execution_count": 287,
     "metadata": {},
     "output_type": "execute_result"
    }
   ],
   "source": [
    "df.prev_owner.value_counts(dropna=False)"
   ]
  },
  {
   "cell_type": "code",
   "execution_count": 288,
   "metadata": {},
   "outputs": [
    {
     "data": {
      "text/plain": [
       "1      8294\n",
       "NaN    6828\n",
       "2       778\n",
       "3        17\n",
       "4         2\n",
       "Name: prev_owner, dtype: int64"
      ]
     },
     "execution_count": 288,
     "metadata": {},
     "output_type": "execute_result"
    }
   ],
   "source": [
    "df.prev_owner.str[0].str.strip().value_counts(dropna=False)"
   ]
  },
  {
   "cell_type": "code",
   "execution_count": 289,
   "metadata": {},
   "outputs": [
    {
     "data": {
      "text/plain": [
       "1      8294\n",
       "NaN    6640\n",
       "2       778\n",
       "        163\n",
       "0        25\n",
       "3        17\n",
       "4         2\n",
       "Name: prev_owner, dtype: int64"
      ]
     },
     "execution_count": 289,
     "metadata": {},
     "output_type": "execute_result"
    }
   ],
   "source": [
    "df.prev_owner.fillna(df[\"Previous Owners\"]).str[0].str.strip().value_counts(dropna=False) \n",
    "# there is no important change after filna so df[\"Previous Owners\"] will be dropped and \n",
    "# df.prev_owner will be kept."
   ]
  },
  {
   "cell_type": "code",
   "execution_count": 290,
   "metadata": {},
   "outputs": [
    {
     "data": {
      "text/plain": [
       "1      8294\n",
       "NaN    6828\n",
       "2       778\n",
       "3        17\n",
       "4         2\n",
       "Name: prev_owner, dtype: int64"
      ]
     },
     "execution_count": 290,
     "metadata": {},
     "output_type": "execute_result"
    }
   ],
   "source": [
    "df.prev_owner = df.prev_owner.str[0].str.strip()\n",
    "df.prev_owner.value_counts(dropna=False)"
   ]
  },
  {
   "cell_type": "code",
   "execution_count": 291,
   "metadata": {},
   "outputs": [],
   "source": [
    "df.drop(columns=\"Previous Owners\", inplace=True)"
   ]
  },
  {
   "cell_type": "markdown",
   "metadata": {},
   "source": [
    "## Drive chain"
   ]
  },
  {
   "cell_type": "code",
   "execution_count": 292,
   "metadata": {},
   "outputs": [
    {
     "data": {
      "text/plain": [
       "front    8886\n",
       "NaN      6858\n",
       "4WD       171\n",
       "rear        4\n",
       "Name: Drive chain, dtype: int64"
      ]
     },
     "execution_count": 292,
     "metadata": {},
     "output_type": "execute_result"
    }
   ],
   "source": [
    "df[\"Drive chain\"].str[0].str.strip().value_counts(dropna=False)"
   ]
  },
  {
   "cell_type": "code",
   "execution_count": 293,
   "metadata": {},
   "outputs": [],
   "source": [
    "df[\"drive_chain\"] = df[\"Drive chain\"].str[0].str.strip()"
   ]
  },
  {
   "cell_type": "code",
   "execution_count": 294,
   "metadata": {},
   "outputs": [],
   "source": [
    "df.drop(columns=\"Drive chain\", inplace=True)"
   ]
  },
  {
   "cell_type": "markdown",
   "metadata": {},
   "source": [
    "## Weight"
   ]
  },
  {
   "cell_type": "code",
   "execution_count": 295,
   "metadata": {},
   "outputs": [
    {
     "data": {
      "text/plain": [
       "NaN         6974\n",
       "1,163 kg     574\n",
       "1,360 kg     356\n",
       "1,165 kg     301\n",
       "1,335 kg     242\n",
       "            ... \n",
       "1,960 kg       1\n",
       "1,258 kg       1\n",
       "1,167 kg       1\n",
       "1,331 kg       1\n",
       "2,037 kg       1\n",
       "Name: Weight, Length: 435, dtype: int64"
      ]
     },
     "execution_count": 295,
     "metadata": {},
     "output_type": "execute_result"
    }
   ],
   "source": [
    "df.Weight.str[0].str.strip().value_counts(dropna=False)"
   ]
  },
  {
   "cell_type": "code",
   "execution_count": 296,
   "metadata": {},
   "outputs": [
    {
     "data": {
      "text/html": [
       "<div>\n",
       "<style scoped>\n",
       "    .dataframe tbody tr th:only-of-type {\n",
       "        vertical-align: middle;\n",
       "    }\n",
       "\n",
       "    .dataframe tbody tr th {\n",
       "        vertical-align: top;\n",
       "    }\n",
       "\n",
       "    .dataframe thead th {\n",
       "        text-align: right;\n",
       "    }\n",
       "</style>\n",
       "<table border=\"1\" class=\"dataframe\">\n",
       "  <thead>\n",
       "    <tr style=\"text-align: right;\">\n",
       "      <th></th>\n",
       "      <th>0</th>\n",
       "    </tr>\n",
       "  </thead>\n",
       "  <tbody>\n",
       "    <tr>\n",
       "      <th>0</th>\n",
       "      <td>1,220</td>\n",
       "    </tr>\n",
       "    <tr>\n",
       "      <th>1</th>\n",
       "      <td>1,255</td>\n",
       "    </tr>\n",
       "    <tr>\n",
       "      <th>2</th>\n",
       "      <td>NaN</td>\n",
       "    </tr>\n",
       "    <tr>\n",
       "      <th>3</th>\n",
       "      <td>1,195</td>\n",
       "    </tr>\n",
       "    <tr>\n",
       "      <th>4</th>\n",
       "      <td>NaN</td>\n",
       "    </tr>\n",
       "    <tr>\n",
       "      <th>...</th>\n",
       "      <td>...</td>\n",
       "    </tr>\n",
       "    <tr>\n",
       "      <th>15914</th>\n",
       "      <td>1,758</td>\n",
       "    </tr>\n",
       "    <tr>\n",
       "      <th>15915</th>\n",
       "      <td>1,708</td>\n",
       "    </tr>\n",
       "    <tr>\n",
       "      <th>15916</th>\n",
       "      <td>NaN</td>\n",
       "    </tr>\n",
       "    <tr>\n",
       "      <th>15917</th>\n",
       "      <td>1,758</td>\n",
       "    </tr>\n",
       "    <tr>\n",
       "      <th>15918</th>\n",
       "      <td>1,685</td>\n",
       "    </tr>\n",
       "  </tbody>\n",
       "</table>\n",
       "<p>15919 rows × 1 columns</p>\n",
       "</div>"
      ],
      "text/plain": [
       "           0\n",
       "0      1,220\n",
       "1      1,255\n",
       "2        NaN\n",
       "3      1,195\n",
       "4        NaN\n",
       "...      ...\n",
       "15914  1,758\n",
       "15915  1,708\n",
       "15916    NaN\n",
       "15917  1,758\n",
       "15918  1,685\n",
       "\n",
       "[15919 rows x 1 columns]"
      ]
     },
     "execution_count": 296,
     "metadata": {},
     "output_type": "execute_result"
    }
   ],
   "source": [
    "df.Weight.str[0].str.strip().str.extract('(\\d,*\\d*)')"
   ]
  },
  {
   "cell_type": "code",
   "execution_count": 297,
   "metadata": {},
   "outputs": [
    {
     "data": {
      "text/plain": [
       "NaN     6974\n",
       "1163     574\n",
       "1360     356\n",
       "1165     301\n",
       "1335     242\n",
       "        ... \n",
       "1960       1\n",
       "1258       1\n",
       "1167       1\n",
       "1331       1\n",
       "2037       1\n",
       "Name: 0, Length: 435, dtype: int64"
      ]
     },
     "execution_count": 297,
     "metadata": {},
     "output_type": "execute_result"
    }
   ],
   "source": [
    "df.Weight.str[0].str.strip().str.extract('(\\d,*\\d*)')[0].str.replace(\",\", \"\").value_counts(dropna=False)"
   ]
  },
  {
   "cell_type": "code",
   "execution_count": 298,
   "metadata": {},
   "outputs": [],
   "source": [
    "df[\"weight_kg\"] = df.Weight.str[0].str.strip().str.extract('(\\d,*\\d*)')[0].str.replace(\",\", \"\")"
   ]
  },
  {
   "cell_type": "code",
   "execution_count": 299,
   "metadata": {},
   "outputs": [],
   "source": [
    "df.drop(columns= \"Weight\", inplace=True)"
   ]
  },
  {
   "cell_type": "code",
   "execution_count": 300,
   "metadata": {},
   "outputs": [
    {
     "data": {
      "text/plain": [
       "Index(['make_model', 'short_description', 'body_type', 'price', 'vat', 'km', 'registration', 'prev_owner', 'Next Inspection', 'Inspection new', 'Full Service', 'Non-smoking Vehicle', 'Model Code', 'Consumption', 'Emission Label', 'Country version', 'make', 'hp_kW', 'used_new', 'fuel_type', 'upholstery_kind', 'upholstery_color', 'door_count', 'seat_count', 'auto_manuel', 'displacement_cc', 'consumption_comb', 'co2_emission', 'comfort', 'digi_media', 'extra', 'safety', 'gears', 'warranty', 'cylinders', 'paint_type', 'drive_chain', 'weight_kg'], dtype='object')"
      ]
     },
     "execution_count": 300,
     "metadata": {},
     "output_type": "execute_result"
    }
   ],
   "source": [
    "df.columns"
   ]
  },
  {
   "cell_type": "markdown",
   "metadata": {},
   "source": [
    "## Full Service"
   ]
  },
  {
   "cell_type": "code",
   "execution_count": 301,
   "metadata": {},
   "outputs": [
    {
     "data": {
      "text/plain": [
       "\\n     8215\n",
       "NaN    7704\n",
       "Name: Full Service, dtype: int64"
      ]
     },
     "execution_count": 301,
     "metadata": {},
     "output_type": "execute_result"
    }
   ],
   "source": [
    "df[\"Full Service\"].str[0].value_counts(dropna=False)"
   ]
  },
  {
   "cell_type": "code",
   "execution_count": 302,
   "metadata": {},
   "outputs": [
    {
     "data": {
      "text/plain": [
       "NaN    7987\n",
       "\\n     7932\n",
       "Name: Full Service, dtype: int64"
      ]
     },
     "execution_count": 302,
     "metadata": {},
     "output_type": "execute_result"
    }
   ],
   "source": [
    "df[\"Full Service\"].str[1].value_counts(dropna=False)"
   ]
  },
  {
   "cell_type": "code",
   "execution_count": 303,
   "metadata": {
    "scrolled": true
   },
   "outputs": [
    {
     "data": {
      "text/plain": [
       "NaN                           9689\n",
       "\\n4 (Green)\\n                 2235\n",
       "\\nEuro 6\\n                    2097\n",
       "\\nEuro 6d-TEMP\\n               399\n",
       "\\n120 g CO2/km (comb)\\n        105\n",
       "\\n126 g CO2/km (comb)\\n         84\n",
       "\\n104 g CO2/km (comb)\\n         77\n",
       "\\n97 g CO2/km (comb)\\n          76\n",
       "\\n124 g CO2/km (comb)\\n         61\n",
       "\\n99 g CO2/km (comb)\\n          60\n",
       "\\n128 g CO2/km (comb)\\n         53\n",
       "\\n119 g CO2/km (comb)\\n         49\n",
       "\\n                              40\n",
       "\\n140 g CO2/km (comb)\\n         39\n",
       "\\n106 g CO2/km (comb)\\n         38\n",
       "\\n92 g CO2/km (comb)\\n          33\n",
       "\\n107 g CO2/km (comb)\\n         32\n",
       "\\n114 g CO2/km (comb)\\n         31\n",
       "\\n102 g CO2/km (comb)\\n         29\n",
       "\\n103 g CO2/km (comb)\\n         29\n",
       "\\n1 (No sticker)\\n              29\n",
       "\\nEuro 6c\\n                     28\n",
       "\\n117 g CO2/km (comb)\\n         24\n",
       "\\n139 g CO2/km (comb)\\n         24\n",
       "\\n127 g CO2/km (comb)\\n         23\n",
       "\\n141 g CO2/km (comb)\\n         22\n",
       "\\n136 g CO2/km (comb)\\n         20\n",
       "\\n85 g CO2/km (comb)\\n          20\n",
       "\\n125 g CO2/km (comb)\\n         20\n",
       "\\n108 g CO2/km (comb)\\n         19\n",
       "\\n112 g CO2/km (comb)\\n         18\n",
       "\\n109 g CO2/km (comb)\\n         17\n",
       "\\n5 (Blue)\\n                    17\n",
       "\\n150 g CO2/km (comb)\\n         16\n",
       "\\n129 g CO2/km (comb)\\n         16\n",
       "\\n130 g CO2/km (comb)\\n         15\n",
       "\\n154 g CO2/km (comb)\\n         15\n",
       "\\n133 g CO2/km (comb)\\n         15\n",
       "\\n113 g CO2/km (comb)\\n         15\n",
       "\\n135 g CO2/km (comb)\\n         14\n",
       "\\n116 g CO2/km (comb)\\n         13\n",
       "\\n110 g CO2/km (comb)\\n         13\n",
       "\\n123 g CO2/km (comb)\\n         12\n",
       "\\n137 g CO2/km (comb)\\n         12\n",
       "\\n143 g CO2/km (comb)\\n         12\n",
       "\\n105 g CO2/km (comb)\\n         11\n",
       "\\nEuro 6d\\n                     11\n",
       "\\n132 g CO2/km (comb)\\n         10\n",
       "\\n95 g CO2/km (comb)\\n          10\n",
       "\\n101 g CO2/km (comb)\\n         10\n",
       "\\n118 g CO2/km (comb)\\n         10\n",
       "\\n91 g CO2/km (comb)\\n           9\n",
       "\\n111 g CO2/km (comb)\\n          9\n",
       "\\n147 g CO2/km (comb)\\n          9\n",
       "\\n149 g CO2/km (comb)\\n          9\n",
       "\\n145 g CO2/km (comb)\\n          8\n",
       "\\nEuro 5\\n                       8\n",
       "\\n121 g CO2/km (comb)\\n          7\n",
       "\\n96 g CO2/km (comb)\\n           6\n",
       "\\n82 g CO2/km (comb)\\n           5\n",
       "\\n142 g CO2/km (comb)\\n          5\n",
       "\\n134 g CO2/km (comb)\\n          5\n",
       "\\n138 g CO2/km (comb)\\n          5\n",
       "\\n131 g CO2/km (comb)\\n          4\n",
       "\\n89 g CO2/km (comb)\\n           4\n",
       "\\n189 g CO2/km (comb)\\n          4\n",
       "\\n148 g CO2/km (comb)\\n          4\n",
       "\\n152 g CO2/km (comb)\\n          3\n",
       "\\n151 g CO2/km (comb)\\n          3\n",
       "\\n94 g CO2/km (comb)\\n           3\n",
       "\\n153 g CO2/km (comb)\\n          3\n",
       "\\n115 g CO2/km (comb)\\n          3\n",
       "\\n122 g CO2/km (comb)\\n          3\n",
       "\\n98 g CO2/km (comb)\\n           3\n",
       "\\n169 g CO2/km (comb)\\n          2\n",
       "\\n166 g CO2/km (comb)\\n          2\n",
       "\\n157 g CO2/km (comb)\\n          2\n",
       "\\n93 g CO2/km (comb)\\n           2\n",
       "\\n144 g CO2/km (comb)\\n          2\n",
       "\\n146 g CO2/km (comb)\\n          2\n",
       "\\n88 g CO2/km (comb)\\n           2\n",
       "\\n90 g CO2/km (comb)\\n           2\n",
       "\\n188 g CO2/km (comb)\\n          2\n",
       "\\n0 kWh/100 km (comb)\\n          2\n",
       "\\n87 g CO2/km (comb)\\n           1\n",
       "\\n84 g CO2/km (comb)\\n           1\n",
       "\\n80 g CO2/km (comb)\\n           1\n",
       "\\n156 g CO2/km (comb)\\n          1\n",
       "\\n159 g CO2/km (comb)\\n          1\n",
       "\\n253 g CO2/km (comb)\\n          1\n",
       "\\n164 g CO2/km (comb)\\n          1\n",
       "\\n13,983 g CO2/km (comb)\\n       1\n",
       "\\n197 g CO2/km (comb)\\n          1\n",
       "\\nEuro 4\\n                       1\n",
       "Name: Full Service, dtype: int64"
      ]
     },
     "execution_count": 303,
     "metadata": {},
     "output_type": "execute_result"
    }
   ],
   "source": [
    "df[\"Full Service\"].str[2].value_counts(dropna=False)"
   ]
  },
  {
   "cell_type": "code",
   "execution_count": 304,
   "metadata": {},
   "outputs": [
    {
     "data": {
      "text/plain": [
       "NaN                    15879\n",
       "5.4 l/100 km (comb)        6\n",
       "6.6 l/100 km (comb)        5\n",
       "5.7 l/100 km (comb)        5\n",
       "4.9 l/100 km (comb)        4\n",
       "5.9 l/100 km (comb)        4\n",
       "4.4 l/100 km (comb)        2\n",
       "6.3 l/100 km (comb)        2\n",
       "6 l/100 km (comb)          2\n",
       "4.8 l/100 km (comb)        2\n",
       "5.5 l/100 km (comb)        1\n",
       "5.8 l/100 km (comb)        1\n",
       "4.7 l/100 km (comb)        1\n",
       "5 l/100 km (comb)          1\n",
       "4.3 l/100 km (comb)        1\n",
       "4.6 l/100 km (comb)        1\n",
       "6.2 l/100 km (comb)        1\n",
       "6.5 l/100 km (comb)        1\n",
       "Name: Full Service, dtype: int64"
      ]
     },
     "execution_count": 304,
     "metadata": {},
     "output_type": "execute_result"
    }
   ],
   "source": [
    "df[\"Full Service\"].str[3].value_counts(dropna=False)"
   ]
  },
  {
   "cell_type": "code",
   "execution_count": 305,
   "metadata": {},
   "outputs": [
    {
     "data": {
      "text/plain": [
       "NaN    15879\n",
       "\\n        40\n",
       "Name: Full Service, dtype: int64"
      ]
     },
     "execution_count": 305,
     "metadata": {},
     "output_type": "execute_result"
    }
   ],
   "source": [
    "df[\"Full Service\"].str[4].value_counts(dropna=False)"
   ]
  },
  {
   "cell_type": "code",
   "execution_count": 306,
   "metadata": {
    "scrolled": true
   },
   "outputs": [
    {
     "data": {
      "text/plain": [
       "NaN                    15879\n",
       "7.8 l/100 km (city)        4\n",
       "7.3 l/100 km (city)        4\n",
       "5.9 l/100 km (city)        3\n",
       "6 l/100 km (city)          3\n",
       "8.2 l/100 km (city)        3\n",
       "7.2 l/100 km (city)        3\n",
       "5.2 l/100 km (city)        3\n",
       "\\n                         2\n",
       "6.7 l/100 km (city)        2\n",
       "7.6 l/100 km (city)        2\n",
       "7.5 l/100 km (city)        1\n",
       "6.2 l/100 km (city)        1\n",
       "8 l/100 km (city)          1\n",
       "7.4 l/100 km (city)        1\n",
       "7 l/100 km (city)          1\n",
       "5.8 l/100 km (city)        1\n",
       "7.7 l/100 km (city)        1\n",
       "8.1 l/100 km (city)        1\n",
       "8.3 l/100 km (city)        1\n",
       "8.4 l/100 km (city)        1\n",
       "5.4 l/100 km (city)        1\n",
       "Name: Full Service, dtype: int64"
      ]
     },
     "execution_count": 306,
     "metadata": {},
     "output_type": "execute_result"
    }
   ],
   "source": [
    "df[\"Full Service\"].str[5].value_counts(dropna=False)"
   ]
  },
  {
   "cell_type": "code",
   "execution_count": 307,
   "metadata": {},
   "outputs": [],
   "source": [
    "df.drop(columns=\"Full Service\", inplace=True) # there is no usefull data in this column"
   ]
  },
  {
   "cell_type": "markdown",
   "metadata": {},
   "source": [
    "# columns that have null values between 50 - 90 percent."
   ]
  },
  {
   "cell_type": "markdown",
   "metadata": {},
   "source": [
    "## Country version"
   ]
  },
  {
   "cell_type": "code",
   "execution_count": 308,
   "metadata": {},
   "outputs": [
    {
     "ename": "TypeError",
     "evalue": "unhashable type: 'list'",
     "output_type": "error",
     "traceback": [
      "\u001b[0;31m---------------------------------------------------------------------------\u001b[0m",
      "\u001b[0;31mTypeError\u001b[0m                                 Traceback (most recent call last)",
      "\u001b[0;32mpandas/_libs/hashtable_class_helper.pxi\u001b[0m in \u001b[0;36mpandas._libs.hashtable.PyObjectHashTable.map_locations\u001b[0;34m()\u001b[0m\n",
      "\u001b[0;31mTypeError\u001b[0m: unhashable type: 'list'"
     ]
    },
    {
     "name": "stderr",
     "output_type": "stream",
     "text": [
      "Exception ignored in: 'pandas._libs.index.IndexEngine._call_map_locations'\n",
      "Traceback (most recent call last):\n",
      "  File \"pandas/_libs/hashtable_class_helper.pxi\", line 5231, in pandas._libs.hashtable.PyObjectHashTable.map_locations\n",
      "TypeError: unhashable type: 'list'\n"
     ]
    },
    {
     "data": {
      "text/plain": [
       "NaN                     8333\n",
       "[\\nGermany\\n]           4502\n",
       "[\\nItaly\\n]             1038\n",
       "[\\nEuropean Union\\n]     507\n",
       "[\\nNetherlands\\n]        464\n",
       "[\\nSpain\\n]              325\n",
       "[\\nBelgium\\n]            314\n",
       "[\\nAustria\\n]            208\n",
       "[\\nCzech Republic\\n]      52\n",
       "[\\nPoland\\n]              49\n",
       "[\\nFrance\\n]              38\n",
       "[\\nDenmark\\n]             33\n",
       "[\\nHungary\\n]             28\n",
       "[\\nJapan\\n]                8\n",
       "[\\nSlovakia\\n]             4\n",
       "[\\nCroatia\\n]              4\n",
       "[\\nSweden\\n]               3\n",
       "[\\nRomania\\n]              2\n",
       "[\\nBulgaria\\n]             2\n",
       "[\\nLuxembourg\\n]           1\n",
       "[\\nSwitzerland\\n]          1\n",
       "[\\nSlovenia\\n]             1\n",
       "[\\nEgypt\\n]                1\n",
       "[\\nSerbia\\n]               1\n",
       "Name: Country version, dtype: int64"
      ]
     },
     "execution_count": 308,
     "metadata": {},
     "output_type": "execute_result"
    }
   ],
   "source": [
    "df['Country version'].value_counts(dropna=False)"
   ]
  },
  {
   "cell_type": "code",
   "execution_count": 309,
   "metadata": {},
   "outputs": [
    {
     "data": {
      "text/plain": [
       "NaN               8333\n",
       "Germany           4502\n",
       "Italy             1038\n",
       "European Union     507\n",
       "Netherlands        464\n",
       "Spain              325\n",
       "Belgium            314\n",
       "Austria            208\n",
       "Czech Republic      52\n",
       "Poland              49\n",
       "France              38\n",
       "Denmark             33\n",
       "Hungary             28\n",
       "Japan                8\n",
       "Slovakia             4\n",
       "Croatia              4\n",
       "Sweden               3\n",
       "Romania              2\n",
       "Bulgaria             2\n",
       "Luxembourg           1\n",
       "Switzerland          1\n",
       "Slovenia             1\n",
       "Egypt                1\n",
       "Serbia               1\n",
       "Name: country_ver, dtype: int64"
      ]
     },
     "execution_count": 309,
     "metadata": {},
     "output_type": "execute_result"
    }
   ],
   "source": [
    "df[\"country_ver\"] = df['Country version'].str[0].str.strip()\n",
    "df[\"country_ver\"].value_counts(dropna=False)"
   ]
  },
  {
   "cell_type": "code",
   "execution_count": 310,
   "metadata": {},
   "outputs": [],
   "source": [
    "df.drop(columns=\"Country version\", inplace=True)"
   ]
  },
  {
   "cell_type": "markdown",
   "metadata": {},
   "source": [
    "## Non-smoking Vehicle"
   ]
  },
  {
   "cell_type": "code",
   "execution_count": 311,
   "metadata": {
    "scrolled": true
   },
   "outputs": [
    {
     "ename": "TypeError",
     "evalue": "unhashable type: 'list'",
     "output_type": "error",
     "traceback": [
      "\u001b[0;31m---------------------------------------------------------------------------\u001b[0m",
      "\u001b[0;31mTypeError\u001b[0m                                 Traceback (most recent call last)",
      "\u001b[0;32mpandas/_libs/hashtable_class_helper.pxi\u001b[0m in \u001b[0;36mpandas._libs.hashtable.PyObjectHashTable.map_locations\u001b[0;34m()\u001b[0m\n",
      "\u001b[0;31mTypeError\u001b[0m: unhashable type: 'list'"
     ]
    },
    {
     "name": "stderr",
     "output_type": "stream",
     "text": [
      "Exception ignored in: 'pandas._libs.index.IndexEngine._call_map_locations'\n",
      "Traceback (most recent call last):\n",
      "  File \"pandas/_libs/hashtable_class_helper.pxi\", line 5231, in pandas._libs.hashtable.PyObjectHashTable.map_locations\n",
      "TypeError: unhashable type: 'list'\n"
     ]
    },
    {
     "data": {
      "text/plain": [
       "NaN                                                                                           8742\n",
       "[\\n, \\n]                                                                                      3647\n",
       "[\\n, \\n, \\n4 (Green)\\n]                                                                       1240\n",
       "[\\n, \\n, \\nEuro 6\\n]                                                                          1127\n",
       "[\\n, \\n, \\nEuro 6d-TEMP\\n]                                                                     345\n",
       "\\n                                                                                              70\n",
       "[\\n, \\n, \\n120 g CO2/km (comb)\\n]                                                               63\n",
       "[\\n, \\n, \\n85 g CO2/km (comb)\\n]                                                                46\n",
       "[\\n, \\n, \\n104 g CO2/km (comb)\\n]                                                               36\n",
       "[\\n, \\n, \\n107 g CO2/km (comb)\\n]                                                               36\n",
       "[\\n, \\n, \\n153 g CO2/km (comb)\\n]                                                               31\n",
       "[\\n, \\n, \\n124 g CO2/km (comb)\\n]                                                               29\n",
       "[\\n, \\n, \\n1 (No sticker)\\n]                                                                    24\n",
       "[\\n, \\n, \\n99 g CO2/km (comb)\\n]                                                                23\n",
       "[\\n, \\n, \\n106 g CO2/km (comb)\\n]                                                               20\n",
       "[\\n, \\n, \\n97 g CO2/km (comb)\\n]                                                                20\n",
       "[\\n, \\n, \\n108 g CO2/km (comb)\\n]                                                               19\n",
       "[\\n, \\n, \\n113 g CO2/km (comb)\\n]                                                               18\n",
       "[\\n, \\n, \\n100 g CO2/km (comb)\\n]                                                               18\n",
       "[\\n, \\n, \\n109 g CO2/km (comb)\\n]                                                               18\n",
       "[\\n, \\n, \\n105 g CO2/km (comb)\\n]                                                               18\n",
       "[\\n, \\n, \\nEuro 6c\\n]                                                                           17\n",
       "[\\n, \\n, \\n98 g CO2/km (comb)\\n]                                                                15\n",
       "[\\n, \\n, \\n129 g CO2/km (comb)\\n]                                                               14\n",
       "[\\n, \\n, \\n131 g CO2/km (comb)\\n]                                                               13\n",
       "[\\n, \\n, \\n133 g CO2/km (comb)\\n]                                                               12\n",
       "[\\n, \\n, \\n103 g CO2/km (comb)\\n]                                                               12\n",
       "[\\n, \\n, \\n114 g CO2/km (comb)\\n]                                                               12\n",
       "[\\n, \\n, \\n116 g CO2/km (comb)\\n]                                                               11\n",
       "[\\n, \\n, \\n135 g CO2/km (comb)\\n]                                                               11\n",
       "[\\n, \\n, \\n102 g CO2/km (comb)\\n]                                                               11\n",
       "[\\n, \\n, \\n127 g CO2/km (comb)\\n]                                                               10\n",
       "[\\n, \\n, \\n143 g CO2/km (comb)\\n]                                                               10\n",
       "[\\n, \\n, \\n92 g CO2/km (comb)\\n]                                                                 9\n",
       "[\\n, \\n, \\nEuro 6d\\n]                                                                            9\n",
       "[\\n, \\n, \\n112 g CO2/km (comb)\\n]                                                                9\n",
       "[\\n, \\n, \\n5 (Blue)\\n]                                                                           8\n",
       "[\\n, \\n, \\n118 g CO2/km (comb)\\n]                                                                8\n",
       "[\\n, \\n, \\n139 g CO2/km (comb)\\n]                                                                7\n",
       "[\\n, \\n, \\n128 g CO2/km (comb)\\n]                                                                7\n",
       "[\\n, \\n, \\n147 g CO2/km (comb)\\n]                                                                7\n",
       "[\\n, \\n, \\n126 g CO2/km (comb)\\n]                                                                6\n",
       "[\\n, \\n, \\n137 g CO2/km (comb)\\n]                                                                6\n",
       "[\\n, \\n, \\n117 g CO2/km (comb)\\n]                                                                6\n",
       "[\\n, \\n, \\n140 g CO2/km (comb)\\n]                                                                6\n",
       "[\\n, \\n, \\n130 g CO2/km (comb)\\n]                                                                5\n",
       "[\\n, \\n, \\n115 g CO2/km (comb)\\n]                                                                5\n",
       "[\\n, \\n, \\nEuro 5\\n]                                                                             4\n",
       "[\\n, \\n, \\n, 5.2 l/100 km (comb), \\n, 5.8 l/100 km (city), \\n, 4.8 l/100 km (country), \\n]       4\n",
       "[\\n, \\n, \\n123 g CO2/km (comb)\\n]                                                                4\n",
       "[\\n, \\n, \\n151 g CO2/km (comb)\\n]                                                                4\n",
       "[\\n, \\n, \\n95 g CO2/km (comb)\\n]                                                                 3\n",
       "[\\n, \\n, \\n119 g CO2/km (comb)\\n]                                                                3\n",
       "[\\n, \\n, \\n148 g CO2/km (comb)\\n]                                                                3\n",
       "[\\n, \\n, \\n157 g CO2/km (comb)\\n]                                                                3\n",
       "[\\n, \\n, \\n136 g CO2/km (comb)\\n]                                                                3\n",
       "[\\n, \\n, \\n110 g CO2/km (comb)\\n]                                                                3\n",
       "[\\n, \\n, \\n149 g CO2/km (comb)\\n]                                                                3\n",
       "[\\n, \\n, \\n138 g CO2/km (comb)\\n]                                                                2\n",
       "[\\n, \\n, \\n125 g CO2/km (comb)\\n]                                                                2\n",
       "[\\n, \\n, \\n, 5.2 l/100 km (comb), \\n, 6.4 l/100 km (city), \\n, 4.4 l/100 km (country), \\n]       2\n",
       "[\\n, \\n, \\n166 g CO2/km (comb)\\n]                                                                2\n",
       "[\\n, \\n, \\n121 g CO2/km (comb)\\n]                                                                2\n",
       "[\\n, \\n, \\n142 g CO2/km (comb)\\n]                                                                2\n",
       "[\\n, \\n, \\n90 g CO2/km (comb)\\n]                                                                 2\n",
       "[\\n, \\n, \\n111 g CO2/km (comb)\\n]                                                                2\n",
       "[\\n, \\n, \\n134 g CO2/km (comb)\\n]                                                                2\n",
       "[\\n, \\n, \\n, 6.5 l/100 km (comb), \\n, 8.5 l/100 km (city), \\n, 5.4 l/100 km (country), \\n]       1\n",
       "[\\n, \\n, \\n, 6.4 l/100 km (comb), \\n, 8.1 l/100 km (city), \\n, 5.4 l/100 km (country), \\n]       1\n",
       "[\\n, \\n, \\n161 g CO2/km (comb)\\n]                                                                1\n",
       "[\\n, \\n, \\n172 g CO2/km (comb)\\n]                                                                1\n",
       "[\\n, \\n, \\n189 g CO2/km (comb)\\n]                                                                1\n",
       "[\\n, \\n, \\n82 g CO2/km (comb)\\n]                                                                 1\n",
       "[\\n, \\n, \\n154 g CO2/km (comb)\\n]                                                                1\n",
       "[\\n, \\n, \\n, 6.5 l/100 km (comb), \\n, 7.9 l/100 km (city), \\n, 5.6 l/100 km (country), \\n]       1\n",
       "[\\n, \\n, \\n, 6.3 l/100 km (comb), \\n, 8 l/100 km (city), \\n, 5.3 l/100 km (country), \\n]         1\n",
       "[\\n, \\n, \\n146 g CO2/km (comb)\\n]                                                                1\n",
       "[\\n, \\n, \\n, 5.7 l/100 km (comb), \\n, 7.3 l/100 km (city), \\n, 4.7 l/100 km (country), \\n]       1\n",
       "[\\n, \\n, \\n, 6.1 l/100 km (comb), \\n, 7.7 l/100 km (city), \\n, 5.2 l/100 km (country), \\n]       1\n",
       "[\\n, \\n, \\n156 g CO2/km (comb)\\n]                                                                1\n",
       "[\\n, \\n, \\n, 6.1 l/100 km (comb), \\n, 7.8 l/100 km (city), \\n, 5.1 l/100 km (country), \\n]       1\n",
       "[\\n, \\n, \\n, 6.2 l/100 km (comb), \\n, 7.9 l/100 km (city), \\n, 5.3 l/100 km (country), \\n]       1\n",
       "[\\n, \\n, \\n152 g CO2/km (comb)\\n]                                                                1\n",
       "[\\n, \\n, \\n144 g CO2/km (comb)\\n]                                                                1\n",
       "[\\n, \\n, \\n132 g CO2/km (comb)\\n]                                                                1\n",
       "[\\n, \\n, \\n, 1.6 l/100 km (comb), \\n, \\n, \\n]                                                    1\n",
       "[\\n, \\n, \\n169 g CO2/km (comb)\\n]                                                                1\n",
       "[\\n, \\n, \\n101 g CO2/km (comb)\\n]                                                                1\n",
       "[\\n, \\n, \\n159 g CO2/km (comb)\\n]                                                                1\n",
       "[\\n, \\n, \\n91 g CO2/km (comb)\\n]                                                                 1\n",
       "[\\n, \\n, \\n, 5.6 l/100 km (comb), \\n, 7.3 l/100 km (city), \\n, 4.7 l/100 km (country), \\n]       1\n",
       "[\\n, \\n, \\n122 g CO2/km (comb)\\n]                                                                1\n",
       "[\\n, \\n, \\n158 g CO2/km (comb)\\n]                                                                1\n",
       "[\\n, \\n, \\n150 g CO2/km (comb)\\n]                                                                1\n",
       "[\\n, \\n, \\n175 g CO2/km (comb)\\n]                                                                1\n",
       "Name: Non-smoking Vehicle, dtype: int64"
      ]
     },
     "execution_count": 311,
     "metadata": {},
     "output_type": "execute_result"
    }
   ],
   "source": [
    "df[\"Non-smoking Vehicle\"].value_counts(dropna=False)"
   ]
  },
  {
   "cell_type": "code",
   "execution_count": 312,
   "metadata": {},
   "outputs": [
    {
     "data": {
      "text/plain": [
       "NaN    8742\n",
       "\\n     7177\n",
       "Name: Non-smoking Vehicle, dtype: int64"
      ]
     },
     "execution_count": 312,
     "metadata": {},
     "output_type": "execute_result"
    }
   ],
   "source": [
    "df[\"Non-smoking Vehicle\"].str[0].value_counts(dropna=False)"
   ]
  },
  {
   "cell_type": "code",
   "execution_count": 313,
   "metadata": {},
   "outputs": [
    {
     "data": {
      "text/plain": [
       "NaN    8812\n",
       "\\n     7107\n",
       "Name: Non-smoking Vehicle, dtype: int64"
      ]
     },
     "execution_count": 313,
     "metadata": {},
     "output_type": "execute_result"
    }
   ],
   "source": [
    "df[\"Non-smoking Vehicle\"].str[1].value_counts(dropna=False)"
   ]
  },
  {
   "cell_type": "code",
   "execution_count": 314,
   "metadata": {
    "scrolled": true
   },
   "outputs": [
    {
     "data": {
      "text/plain": [
       "NaN                        12459\n",
       "\\n4 (Green)\\n               1240\n",
       "\\nEuro 6\\n                  1127\n",
       "\\nEuro 6d-TEMP\\n             345\n",
       "\\n120 g CO2/km (comb)\\n       63\n",
       "\\n85 g CO2/km (comb)\\n        46\n",
       "\\n104 g CO2/km (comb)\\n       36\n",
       "\\n107 g CO2/km (comb)\\n       36\n",
       "\\n153 g CO2/km (comb)\\n       31\n",
       "\\n124 g CO2/km (comb)\\n       29\n",
       "\\n1 (No sticker)\\n            24\n",
       "\\n99 g CO2/km (comb)\\n        23\n",
       "\\n106 g CO2/km (comb)\\n       20\n",
       "\\n97 g CO2/km (comb)\\n        20\n",
       "\\n108 g CO2/km (comb)\\n       19\n",
       "\\n109 g CO2/km (comb)\\n       18\n",
       "\\n105 g CO2/km (comb)\\n       18\n",
       "\\n100 g CO2/km (comb)\\n       18\n",
       "\\n113 g CO2/km (comb)\\n       18\n",
       "\\nEuro 6c\\n                   17\n",
       "\\n                            16\n",
       "\\n98 g CO2/km (comb)\\n        15\n",
       "\\n129 g CO2/km (comb)\\n       14\n",
       "\\n131 g CO2/km (comb)\\n       13\n",
       "\\n103 g CO2/km (comb)\\n       12\n",
       "\\n114 g CO2/km (comb)\\n       12\n",
       "\\n133 g CO2/km (comb)\\n       12\n",
       "\\n135 g CO2/km (comb)\\n       11\n",
       "\\n102 g CO2/km (comb)\\n       11\n",
       "\\n116 g CO2/km (comb)\\n       11\n",
       "\\n127 g CO2/km (comb)\\n       10\n",
       "\\n143 g CO2/km (comb)\\n       10\n",
       "\\nEuro 6d\\n                    9\n",
       "\\n92 g CO2/km (comb)\\n         9\n",
       "\\n112 g CO2/km (comb)\\n        9\n",
       "\\n118 g CO2/km (comb)\\n        8\n",
       "\\n5 (Blue)\\n                   8\n",
       "\\n128 g CO2/km (comb)\\n        7\n",
       "\\n139 g CO2/km (comb)\\n        7\n",
       "\\n147 g CO2/km (comb)\\n        7\n",
       "\\n117 g CO2/km (comb)\\n        6\n",
       "\\n137 g CO2/km (comb)\\n        6\n",
       "\\n140 g CO2/km (comb)\\n        6\n",
       "\\n126 g CO2/km (comb)\\n        6\n",
       "\\n115 g CO2/km (comb)\\n        5\n",
       "\\n130 g CO2/km (comb)\\n        5\n",
       "\\nEuro 5\\n                     4\n",
       "\\n151 g CO2/km (comb)\\n        4\n",
       "\\n123 g CO2/km (comb)\\n        4\n",
       "\\n148 g CO2/km (comb)\\n        3\n",
       "\\n119 g CO2/km (comb)\\n        3\n",
       "\\n149 g CO2/km (comb)\\n        3\n",
       "\\n110 g CO2/km (comb)\\n        3\n",
       "\\n136 g CO2/km (comb)\\n        3\n",
       "\\n157 g CO2/km (comb)\\n        3\n",
       "\\n95 g CO2/km (comb)\\n         3\n",
       "\\n166 g CO2/km (comb)\\n        2\n",
       "\\n90 g CO2/km (comb)\\n         2\n",
       "\\n138 g CO2/km (comb)\\n        2\n",
       "\\n121 g CO2/km (comb)\\n        2\n",
       "\\n125 g CO2/km (comb)\\n        2\n",
       "\\n134 g CO2/km (comb)\\n        2\n",
       "\\n111 g CO2/km (comb)\\n        2\n",
       "\\n142 g CO2/km (comb)\\n        2\n",
       "\\n152 g CO2/km (comb)\\n        1\n",
       "\\n82 g CO2/km (comb)\\n         1\n",
       "\\n172 g CO2/km (comb)\\n        1\n",
       "\\n154 g CO2/km (comb)\\n        1\n",
       "\\n161 g CO2/km (comb)\\n        1\n",
       "\\n146 g CO2/km (comb)\\n        1\n",
       "\\n156 g CO2/km (comb)\\n        1\n",
       "\\n91 g CO2/km (comb)\\n         1\n",
       "\\n144 g CO2/km (comb)\\n        1\n",
       "\\n132 g CO2/km (comb)\\n        1\n",
       "\\n169 g CO2/km (comb)\\n        1\n",
       "\\n159 g CO2/km (comb)\\n        1\n",
       "\\n158 g CO2/km (comb)\\n        1\n",
       "\\n150 g CO2/km (comb)\\n        1\n",
       "\\n122 g CO2/km (comb)\\n        1\n",
       "\\n189 g CO2/km (comb)\\n        1\n",
       "\\n101 g CO2/km (comb)\\n        1\n",
       "\\n175 g CO2/km (comb)\\n        1\n",
       "Name: Non-smoking Vehicle, dtype: int64"
      ]
     },
     "execution_count": 314,
     "metadata": {},
     "output_type": "execute_result"
    }
   ],
   "source": [
    "df[\"Non-smoking Vehicle\"].str[2].value_counts(dropna=False)"
   ]
  },
  {
   "cell_type": "code",
   "execution_count": 315,
   "metadata": {},
   "outputs": [
    {
     "data": {
      "text/html": [
       "<div>\n",
       "<style scoped>\n",
       "    .dataframe tbody tr th:only-of-type {\n",
       "        vertical-align: middle;\n",
       "    }\n",
       "\n",
       "    .dataframe tbody tr th {\n",
       "        vertical-align: top;\n",
       "    }\n",
       "\n",
       "    .dataframe thead th {\n",
       "        text-align: right;\n",
       "    }\n",
       "</style>\n",
       "<table border=\"1\" class=\"dataframe\">\n",
       "  <thead>\n",
       "    <tr style=\"text-align: right;\">\n",
       "      <th></th>\n",
       "      <th>Non-smoking Vehicle</th>\n",
       "      <th>co2_emission</th>\n",
       "    </tr>\n",
       "  </thead>\n",
       "  <tbody>\n",
       "    <tr>\n",
       "      <th>12297</th>\n",
       "      <td>[\\n, \\n]</td>\n",
       "      <td>139</td>\n",
       "    </tr>\n",
       "    <tr>\n",
       "      <th>14737</th>\n",
       "      <td>[\\n, \\n, \\n114 g CO2/km (comb)\\n]</td>\n",
       "      <td>114</td>\n",
       "    </tr>\n",
       "    <tr>\n",
       "      <th>14942</th>\n",
       "      <td>NaN</td>\n",
       "      <td>NaN</td>\n",
       "    </tr>\n",
       "    <tr>\n",
       "      <th>3730</th>\n",
       "      <td>NaN</td>\n",
       "      <td>107</td>\n",
       "    </tr>\n",
       "    <tr>\n",
       "      <th>15831</th>\n",
       "      <td>NaN</td>\n",
       "      <td>NaN</td>\n",
       "    </tr>\n",
       "    <tr>\n",
       "      <th>5915</th>\n",
       "      <td>[\\n, \\n]</td>\n",
       "      <td>119</td>\n",
       "    </tr>\n",
       "    <tr>\n",
       "      <th>10228</th>\n",
       "      <td>[\\n, \\n]</td>\n",
       "      <td>129</td>\n",
       "    </tr>\n",
       "    <tr>\n",
       "      <th>14325</th>\n",
       "      <td>NaN</td>\n",
       "      <td>NaN</td>\n",
       "    </tr>\n",
       "    <tr>\n",
       "      <th>9275</th>\n",
       "      <td>[\\n, \\n, \\nEuro 6\\n]</td>\n",
       "      <td>128</td>\n",
       "    </tr>\n",
       "    <tr>\n",
       "      <th>10332</th>\n",
       "      <td>[\\n, \\n]</td>\n",
       "      <td>129</td>\n",
       "    </tr>\n",
       "    <tr>\n",
       "      <th>12316</th>\n",
       "      <td>[\\n, \\n]</td>\n",
       "      <td>139</td>\n",
       "    </tr>\n",
       "    <tr>\n",
       "      <th>4268</th>\n",
       "      <td>[\\n, \\n, \\nEuro 6\\n]</td>\n",
       "      <td>106</td>\n",
       "    </tr>\n",
       "    <tr>\n",
       "      <th>13953</th>\n",
       "      <td>NaN</td>\n",
       "      <td>NaN</td>\n",
       "    </tr>\n",
       "    <tr>\n",
       "      <th>11012</th>\n",
       "      <td>NaN</td>\n",
       "      <td>NaN</td>\n",
       "    </tr>\n",
       "    <tr>\n",
       "      <th>7420</th>\n",
       "      <td>[\\n, \\n]</td>\n",
       "      <td>93</td>\n",
       "    </tr>\n",
       "    <tr>\n",
       "      <th>15667</th>\n",
       "      <td>NaN</td>\n",
       "      <td>161</td>\n",
       "    </tr>\n",
       "    <tr>\n",
       "      <th>13368</th>\n",
       "      <td>[\\n, \\n]</td>\n",
       "      <td>92</td>\n",
       "    </tr>\n",
       "    <tr>\n",
       "      <th>4184</th>\n",
       "      <td>[\\n, \\n]</td>\n",
       "      <td>106</td>\n",
       "    </tr>\n",
       "    <tr>\n",
       "      <th>12533</th>\n",
       "      <td>NaN</td>\n",
       "      <td>NaN</td>\n",
       "    </tr>\n",
       "    <tr>\n",
       "      <th>3677</th>\n",
       "      <td>[\\n, \\n, \\n4 (Green)\\n]</td>\n",
       "      <td>115</td>\n",
       "    </tr>\n",
       "    <tr>\n",
       "      <th>6270</th>\n",
       "      <td>NaN</td>\n",
       "      <td>NaN</td>\n",
       "    </tr>\n",
       "    <tr>\n",
       "      <th>7069</th>\n",
       "      <td>NaN</td>\n",
       "      <td>119</td>\n",
       "    </tr>\n",
       "    <tr>\n",
       "      <th>4517</th>\n",
       "      <td>NaN</td>\n",
       "      <td>103</td>\n",
       "    </tr>\n",
       "    <tr>\n",
       "      <th>12775</th>\n",
       "      <td>NaN</td>\n",
       "      <td>145</td>\n",
       "    </tr>\n",
       "    <tr>\n",
       "      <th>6607</th>\n",
       "      <td>NaN</td>\n",
       "      <td>122</td>\n",
       "    </tr>\n",
       "    <tr>\n",
       "      <th>11844</th>\n",
       "      <td>NaN</td>\n",
       "      <td>141</td>\n",
       "    </tr>\n",
       "    <tr>\n",
       "      <th>8851</th>\n",
       "      <td>NaN</td>\n",
       "      <td>NaN</td>\n",
       "    </tr>\n",
       "    <tr>\n",
       "      <th>10290</th>\n",
       "      <td>[\\n, \\n]</td>\n",
       "      <td>134</td>\n",
       "    </tr>\n",
       "    <tr>\n",
       "      <th>4670</th>\n",
       "      <td>NaN</td>\n",
       "      <td>103</td>\n",
       "    </tr>\n",
       "    <tr>\n",
       "      <th>7712</th>\n",
       "      <td>NaN</td>\n",
       "      <td>130</td>\n",
       "    </tr>\n",
       "    <tr>\n",
       "      <th>11034</th>\n",
       "      <td>[\\n, \\n]</td>\n",
       "      <td>104</td>\n",
       "    </tr>\n",
       "    <tr>\n",
       "      <th>975</th>\n",
       "      <td>[\\n, \\n]</td>\n",
       "      <td>102</td>\n",
       "    </tr>\n",
       "    <tr>\n",
       "      <th>14400</th>\n",
       "      <td>NaN</td>\n",
       "      <td>135</td>\n",
       "    </tr>\n",
       "    <tr>\n",
       "      <th>10084</th>\n",
       "      <td>NaN</td>\n",
       "      <td>143</td>\n",
       "    </tr>\n",
       "    <tr>\n",
       "      <th>7900</th>\n",
       "      <td>NaN</td>\n",
       "      <td>107</td>\n",
       "    </tr>\n",
       "    <tr>\n",
       "      <th>10462</th>\n",
       "      <td>NaN</td>\n",
       "      <td>149</td>\n",
       "    </tr>\n",
       "    <tr>\n",
       "      <th>5805</th>\n",
       "      <td>[\\n, \\n, \\n4 (Green)\\n]</td>\n",
       "      <td>127</td>\n",
       "    </tr>\n",
       "    <tr>\n",
       "      <th>240</th>\n",
       "      <td>[\\n, \\n]</td>\n",
       "      <td>109</td>\n",
       "    </tr>\n",
       "    <tr>\n",
       "      <th>2838</th>\n",
       "      <td>NaN</td>\n",
       "      <td>99</td>\n",
       "    </tr>\n",
       "    <tr>\n",
       "      <th>2320</th>\n",
       "      <td>[\\n, \\n, \\n4 (Green)\\n]</td>\n",
       "      <td>108</td>\n",
       "    </tr>\n",
       "    <tr>\n",
       "      <th>100</th>\n",
       "      <td>NaN</td>\n",
       "      <td>105</td>\n",
       "    </tr>\n",
       "    <tr>\n",
       "      <th>2372</th>\n",
       "      <td>[\\n, \\n, \\n4 (Green)\\n]</td>\n",
       "      <td>110</td>\n",
       "    </tr>\n",
       "    <tr>\n",
       "      <th>1092</th>\n",
       "      <td>[\\n, \\n]</td>\n",
       "      <td>102</td>\n",
       "    </tr>\n",
       "    <tr>\n",
       "      <th>1819</th>\n",
       "      <td>NaN</td>\n",
       "      <td>99</td>\n",
       "    </tr>\n",
       "    <tr>\n",
       "      <th>11025</th>\n",
       "      <td>[\\n, \\n]</td>\n",
       "      <td>114</td>\n",
       "    </tr>\n",
       "    <tr>\n",
       "      <th>6768</th>\n",
       "      <td>NaN</td>\n",
       "      <td>NaN</td>\n",
       "    </tr>\n",
       "    <tr>\n",
       "      <th>3814</th>\n",
       "      <td>NaN</td>\n",
       "      <td>114</td>\n",
       "    </tr>\n",
       "    <tr>\n",
       "      <th>10231</th>\n",
       "      <td>[\\n, \\n]</td>\n",
       "      <td>129</td>\n",
       "    </tr>\n",
       "    <tr>\n",
       "      <th>8179</th>\n",
       "      <td>NaN</td>\n",
       "      <td>107</td>\n",
       "    </tr>\n",
       "    <tr>\n",
       "      <th>1087</th>\n",
       "      <td>NaN</td>\n",
       "      <td>NaN</td>\n",
       "    </tr>\n",
       "    <tr>\n",
       "      <th>5635</th>\n",
       "      <td>NaN</td>\n",
       "      <td>118</td>\n",
       "    </tr>\n",
       "    <tr>\n",
       "      <th>6998</th>\n",
       "      <td>NaN</td>\n",
       "      <td>93</td>\n",
       "    </tr>\n",
       "    <tr>\n",
       "      <th>6028</th>\n",
       "      <td>NaN</td>\n",
       "      <td>130</td>\n",
       "    </tr>\n",
       "    <tr>\n",
       "      <th>11813</th>\n",
       "      <td>[\\n, \\n]</td>\n",
       "      <td>NaN</td>\n",
       "    </tr>\n",
       "    <tr>\n",
       "      <th>10037</th>\n",
       "      <td>NaN</td>\n",
       "      <td>149</td>\n",
       "    </tr>\n",
       "    <tr>\n",
       "      <th>10859</th>\n",
       "      <td>[\\n, \\n, \\n4 (Green)\\n]</td>\n",
       "      <td>135</td>\n",
       "    </tr>\n",
       "    <tr>\n",
       "      <th>15558</th>\n",
       "      <td>[\\n, \\n, \\nEuro 6\\n]</td>\n",
       "      <td>120</td>\n",
       "    </tr>\n",
       "    <tr>\n",
       "      <th>13382</th>\n",
       "      <td>[\\n, \\n]</td>\n",
       "      <td>NaN</td>\n",
       "    </tr>\n",
       "    <tr>\n",
       "      <th>6161</th>\n",
       "      <td>[\\n, \\n]</td>\n",
       "      <td>95</td>\n",
       "    </tr>\n",
       "    <tr>\n",
       "      <th>4927</th>\n",
       "      <td>NaN</td>\n",
       "      <td>114</td>\n",
       "    </tr>\n",
       "    <tr>\n",
       "      <th>4059</th>\n",
       "      <td>[\\n, \\n]</td>\n",
       "      <td>106</td>\n",
       "    </tr>\n",
       "    <tr>\n",
       "      <th>2777</th>\n",
       "      <td>NaN</td>\n",
       "      <td>NaN</td>\n",
       "    </tr>\n",
       "    <tr>\n",
       "      <th>3997</th>\n",
       "      <td>NaN</td>\n",
       "      <td>NaN</td>\n",
       "    </tr>\n",
       "    <tr>\n",
       "      <th>9644</th>\n",
       "      <td>[\\n, \\n]</td>\n",
       "      <td>137</td>\n",
       "    </tr>\n",
       "    <tr>\n",
       "      <th>14292</th>\n",
       "      <td>NaN</td>\n",
       "      <td>118</td>\n",
       "    </tr>\n",
       "    <tr>\n",
       "      <th>11250</th>\n",
       "      <td>[\\n, \\n, \\n4 (Green)\\n]</td>\n",
       "      <td>145</td>\n",
       "    </tr>\n",
       "    <tr>\n",
       "      <th>11726</th>\n",
       "      <td>[\\n, \\n, \\nEuro 6\\n]</td>\n",
       "      <td>140</td>\n",
       "    </tr>\n",
       "    <tr>\n",
       "      <th>14500</th>\n",
       "      <td>[\\n, \\n]</td>\n",
       "      <td>108</td>\n",
       "    </tr>\n",
       "    <tr>\n",
       "      <th>12796</th>\n",
       "      <td>NaN</td>\n",
       "      <td>NaN</td>\n",
       "    </tr>\n",
       "    <tr>\n",
       "      <th>12194</th>\n",
       "      <td>NaN</td>\n",
       "      <td>NaN</td>\n",
       "    </tr>\n",
       "    <tr>\n",
       "      <th>14026</th>\n",
       "      <td>NaN</td>\n",
       "      <td>NaN</td>\n",
       "    </tr>\n",
       "    <tr>\n",
       "      <th>12440</th>\n",
       "      <td>NaN</td>\n",
       "      <td>151</td>\n",
       "    </tr>\n",
       "    <tr>\n",
       "      <th>3214</th>\n",
       "      <td>[\\n, \\n, \\nEuro 6\\n]</td>\n",
       "      <td>119</td>\n",
       "    </tr>\n",
       "    <tr>\n",
       "      <th>8289</th>\n",
       "      <td>NaN</td>\n",
       "      <td>123</td>\n",
       "    </tr>\n",
       "    <tr>\n",
       "      <th>306</th>\n",
       "      <td>NaN</td>\n",
       "      <td>94</td>\n",
       "    </tr>\n",
       "    <tr>\n",
       "      <th>6554</th>\n",
       "      <td>[\\n, \\n, \\nEuro 6\\n]</td>\n",
       "      <td>128</td>\n",
       "    </tr>\n",
       "    <tr>\n",
       "      <th>1106</th>\n",
       "      <td>NaN</td>\n",
       "      <td>103</td>\n",
       "    </tr>\n",
       "    <tr>\n",
       "      <th>3213</th>\n",
       "      <td>[\\n, \\n, \\nEuro 6\\n]</td>\n",
       "      <td>119</td>\n",
       "    </tr>\n",
       "    <tr>\n",
       "      <th>15116</th>\n",
       "      <td>[\\n, \\n, \\nEuro 6\\n]</td>\n",
       "      <td>140</td>\n",
       "    </tr>\n",
       "    <tr>\n",
       "      <th>6073</th>\n",
       "      <td>NaN</td>\n",
       "      <td>97</td>\n",
       "    </tr>\n",
       "    <tr>\n",
       "      <th>15329</th>\n",
       "      <td>NaN</td>\n",
       "      <td>116</td>\n",
       "    </tr>\n",
       "    <tr>\n",
       "      <th>13104</th>\n",
       "      <td>NaN</td>\n",
       "      <td>120</td>\n",
       "    </tr>\n",
       "    <tr>\n",
       "      <th>9756</th>\n",
       "      <td>[\\n, \\n, \\nEuro 6\\n]</td>\n",
       "      <td>120</td>\n",
       "    </tr>\n",
       "    <tr>\n",
       "      <th>14150</th>\n",
       "      <td>NaN</td>\n",
       "      <td>82</td>\n",
       "    </tr>\n",
       "    <tr>\n",
       "      <th>6761</th>\n",
       "      <td>NaN</td>\n",
       "      <td>124</td>\n",
       "    </tr>\n",
       "    <tr>\n",
       "      <th>7633</th>\n",
       "      <td>NaN</td>\n",
       "      <td>149</td>\n",
       "    </tr>\n",
       "    <tr>\n",
       "      <th>526</th>\n",
       "      <td>NaN</td>\n",
       "      <td>97</td>\n",
       "    </tr>\n",
       "    <tr>\n",
       "      <th>6327</th>\n",
       "      <td>NaN</td>\n",
       "      <td>107</td>\n",
       "    </tr>\n",
       "    <tr>\n",
       "      <th>6453</th>\n",
       "      <td>NaN</td>\n",
       "      <td>99</td>\n",
       "    </tr>\n",
       "    <tr>\n",
       "      <th>13335</th>\n",
       "      <td>[\\n, \\n, \\n4 (Green)\\n]</td>\n",
       "      <td>128</td>\n",
       "    </tr>\n",
       "    <tr>\n",
       "      <th>9689</th>\n",
       "      <td>NaN</td>\n",
       "      <td>120</td>\n",
       "    </tr>\n",
       "    <tr>\n",
       "      <th>12024</th>\n",
       "      <td>[\\n, \\n]</td>\n",
       "      <td>150</td>\n",
       "    </tr>\n",
       "    <tr>\n",
       "      <th>11496</th>\n",
       "      <td>NaN</td>\n",
       "      <td>137</td>\n",
       "    </tr>\n",
       "    <tr>\n",
       "      <th>8761</th>\n",
       "      <td>[\\n, \\n, \\n4 (Green)\\n]</td>\n",
       "      <td>128</td>\n",
       "    </tr>\n",
       "    <tr>\n",
       "      <th>13735</th>\n",
       "      <td>[\\n, \\n, \\n85 g CO2/km (comb)\\n]</td>\n",
       "      <td>85</td>\n",
       "    </tr>\n",
       "    <tr>\n",
       "      <th>14123</th>\n",
       "      <td>[\\n, \\n]</td>\n",
       "      <td>113</td>\n",
       "    </tr>\n",
       "    <tr>\n",
       "      <th>9400</th>\n",
       "      <td>NaN</td>\n",
       "      <td>124</td>\n",
       "    </tr>\n",
       "    <tr>\n",
       "      <th>6799</th>\n",
       "      <td>[\\n, \\n, \\nEuro 6\\n]</td>\n",
       "      <td>97</td>\n",
       "    </tr>\n",
       "    <tr>\n",
       "      <th>6221</th>\n",
       "      <td>[\\n, \\n, \\nEuro 6\\n]</td>\n",
       "      <td>98</td>\n",
       "    </tr>\n",
       "    <tr>\n",
       "      <th>15191</th>\n",
       "      <td>[\\n, \\n]</td>\n",
       "      <td>NaN</td>\n",
       "    </tr>\n",
       "  </tbody>\n",
       "</table>\n",
       "</div>"
      ],
      "text/plain": [
       "                     Non-smoking Vehicle co2_emission\n",
       "12297                           [\\n, \\n]          139\n",
       "14737  [\\n, \\n, \\n114 g CO2/km (comb)\\n]          114\n",
       "14942                                NaN          NaN\n",
       "3730                                 NaN          107\n",
       "15831                                NaN          NaN\n",
       "5915                            [\\n, \\n]          119\n",
       "10228                           [\\n, \\n]          129\n",
       "14325                                NaN          NaN\n",
       "9275                [\\n, \\n, \\nEuro 6\\n]          128\n",
       "10332                           [\\n, \\n]          129\n",
       "12316                           [\\n, \\n]          139\n",
       "4268                [\\n, \\n, \\nEuro 6\\n]          106\n",
       "13953                                NaN          NaN\n",
       "11012                                NaN          NaN\n",
       "7420                            [\\n, \\n]           93\n",
       "15667                                NaN          161\n",
       "13368                           [\\n, \\n]           92\n",
       "4184                            [\\n, \\n]          106\n",
       "12533                                NaN          NaN\n",
       "3677             [\\n, \\n, \\n4 (Green)\\n]          115\n",
       "6270                                 NaN          NaN\n",
       "7069                                 NaN          119\n",
       "4517                                 NaN          103\n",
       "12775                                NaN          145\n",
       "6607                                 NaN          122\n",
       "11844                                NaN          141\n",
       "8851                                 NaN          NaN\n",
       "10290                           [\\n, \\n]          134\n",
       "4670                                 NaN          103\n",
       "7712                                 NaN          130\n",
       "11034                           [\\n, \\n]          104\n",
       "975                             [\\n, \\n]          102\n",
       "14400                                NaN          135\n",
       "10084                                NaN          143\n",
       "7900                                 NaN          107\n",
       "10462                                NaN          149\n",
       "5805             [\\n, \\n, \\n4 (Green)\\n]          127\n",
       "240                             [\\n, \\n]          109\n",
       "2838                                 NaN           99\n",
       "2320             [\\n, \\n, \\n4 (Green)\\n]          108\n",
       "100                                  NaN          105\n",
       "2372             [\\n, \\n, \\n4 (Green)\\n]          110\n",
       "1092                            [\\n, \\n]          102\n",
       "1819                                 NaN           99\n",
       "11025                           [\\n, \\n]          114\n",
       "6768                                 NaN          NaN\n",
       "3814                                 NaN          114\n",
       "10231                           [\\n, \\n]          129\n",
       "8179                                 NaN          107\n",
       "1087                                 NaN          NaN\n",
       "5635                                 NaN          118\n",
       "6998                                 NaN           93\n",
       "6028                                 NaN          130\n",
       "11813                           [\\n, \\n]          NaN\n",
       "10037                                NaN          149\n",
       "10859            [\\n, \\n, \\n4 (Green)\\n]          135\n",
       "15558               [\\n, \\n, \\nEuro 6\\n]          120\n",
       "13382                           [\\n, \\n]          NaN\n",
       "6161                            [\\n, \\n]           95\n",
       "4927                                 NaN          114\n",
       "4059                            [\\n, \\n]          106\n",
       "2777                                 NaN          NaN\n",
       "3997                                 NaN          NaN\n",
       "9644                            [\\n, \\n]          137\n",
       "14292                                NaN          118\n",
       "11250            [\\n, \\n, \\n4 (Green)\\n]          145\n",
       "11726               [\\n, \\n, \\nEuro 6\\n]          140\n",
       "14500                           [\\n, \\n]          108\n",
       "12796                                NaN          NaN\n",
       "12194                                NaN          NaN\n",
       "14026                                NaN          NaN\n",
       "12440                                NaN          151\n",
       "3214                [\\n, \\n, \\nEuro 6\\n]          119\n",
       "8289                                 NaN          123\n",
       "306                                  NaN           94\n",
       "6554                [\\n, \\n, \\nEuro 6\\n]          128\n",
       "1106                                 NaN          103\n",
       "3213                [\\n, \\n, \\nEuro 6\\n]          119\n",
       "15116               [\\n, \\n, \\nEuro 6\\n]          140\n",
       "6073                                 NaN           97\n",
       "15329                                NaN          116\n",
       "13104                                NaN          120\n",
       "9756                [\\n, \\n, \\nEuro 6\\n]          120\n",
       "14150                                NaN           82\n",
       "6761                                 NaN          124\n",
       "7633                                 NaN          149\n",
       "526                                  NaN           97\n",
       "6327                                 NaN          107\n",
       "6453                                 NaN           99\n",
       "13335            [\\n, \\n, \\n4 (Green)\\n]          128\n",
       "9689                                 NaN          120\n",
       "12024                           [\\n, \\n]          150\n",
       "11496                                NaN          137\n",
       "8761             [\\n, \\n, \\n4 (Green)\\n]          128\n",
       "13735   [\\n, \\n, \\n85 g CO2/km (comb)\\n]           85\n",
       "14123                           [\\n, \\n]          113\n",
       "9400                                 NaN          124\n",
       "6799                [\\n, \\n, \\nEuro 6\\n]           97\n",
       "6221                [\\n, \\n, \\nEuro 6\\n]           98\n",
       "15191                           [\\n, \\n]          NaN"
      ]
     },
     "execution_count": 315,
     "metadata": {},
     "output_type": "execute_result"
    }
   ],
   "source": [
    "df[[\"Non-smoking Vehicle\", \"co2_emission\"]].sample(100)"
   ]
  },
  {
   "cell_type": "code",
   "execution_count": 316,
   "metadata": {},
   "outputs": [],
   "source": [
    "df.drop(columns=\"Non-smoking Vehicle\", inplace=True)"
   ]
  },
  {
   "cell_type": "markdown",
   "metadata": {},
   "source": [
    "## Model Code"
   ]
  },
  {
   "cell_type": "code",
   "execution_count": 317,
   "metadata": {},
   "outputs": [
    {
     "data": {
      "text/plain": [
       "NaN         10941\n",
       "0035/BCB      268\n",
       "0588/BNO      245\n",
       "0588/BDB      206\n",
       "0588/BHX      188\n",
       "            ...  \n",
       "0035/AVN        1\n",
       "0035/BEM        1\n",
       "0035/BAG        1\n",
       "0035/BAA        1\n",
       "3333/BKG        1\n",
       "Name: Model Code, Length: 233, dtype: int64"
      ]
     },
     "execution_count": 317,
     "metadata": {},
     "output_type": "execute_result"
    }
   ],
   "source": [
    "df[\"Model Code\"].str[0].str.strip().value_counts(dropna=False)"
   ]
  },
  {
   "cell_type": "code",
   "execution_count": 318,
   "metadata": {},
   "outputs": [],
   "source": [
    "df[\"model_code\"] =  df[\"Model Code\"].str[0].str.strip()"
   ]
  },
  {
   "cell_type": "code",
   "execution_count": 319,
   "metadata": {},
   "outputs": [],
   "source": [
    "df.drop(columns=\"Model Code\", inplace=True)"
   ]
  },
  {
   "cell_type": "markdown",
   "metadata": {},
   "source": [
    "## Emission Label"
   ]
  },
  {
   "cell_type": "code",
   "execution_count": 320,
   "metadata": {},
   "outputs": [
    {
     "data": {
      "text/plain": [
       "NaN               11974\n",
       "4 (Green)          3553\n",
       "1 (No sticker)      381\n",
       "5 (Blue)              8\n",
       "3 (Yellow)            2\n",
       "2 (Red)               1\n",
       "Name: Emission Label, dtype: int64"
      ]
     },
     "execution_count": 320,
     "metadata": {},
     "output_type": "execute_result"
    }
   ],
   "source": [
    "df[\"Emission Label\"].str[0].str.strip().value_counts(dropna=False)"
   ]
  },
  {
   "cell_type": "code",
   "execution_count": 321,
   "metadata": {},
   "outputs": [
    {
     "data": {
      "text/plain": [
       "NaN               11974\n",
       "4 (Green)          3553\n",
       "1 (No sticker)      381\n",
       "5 (Blue)              8\n",
       "3 (Yellow)            2\n",
       "2 (Red)               1\n",
       "Name: Emission_Label, dtype: int64"
      ]
     },
     "execution_count": 321,
     "metadata": {},
     "output_type": "execute_result"
    }
   ],
   "source": [
    "df[\"Emission_Label\"] = df[\"Emission Label\"].str[0].str.strip()\n",
    "df[\"Emission_Label\"].value_counts(dropna=False)"
   ]
  },
  {
   "cell_type": "code",
   "execution_count": 322,
   "metadata": {},
   "outputs": [],
   "source": [
    "df.drop(columns=\"Emission Label\", inplace=True)"
   ]
  },
  {
   "cell_type": "markdown",
   "metadata": {},
   "source": [
    "## Inspection new"
   ]
  },
  {
   "cell_type": "code",
   "execution_count": 323,
   "metadata": {},
   "outputs": [
    {
     "data": {
      "text/plain": [
       "NaN    11987\n",
       "Yes     3570\n",
       "         362\n",
       "Name: Inspection new, dtype: int64"
      ]
     },
     "execution_count": 323,
     "metadata": {},
     "output_type": "execute_result"
    }
   ],
   "source": [
    "df[\"Inspection new\"].str[0].str.strip().value_counts(dropna=False)"
   ]
  },
  {
   "cell_type": "markdown",
   "metadata": {},
   "source": [
    "Altough null value percentage is high. it can effect the value of the car. So we will keep it."
   ]
  },
  {
   "cell_type": "code",
   "execution_count": 324,
   "metadata": {},
   "outputs": [
    {
     "data": {
      "text/plain": [
       "NaN    11987\n",
       "Yes     3570\n",
       "         362\n",
       "Name: new_inspection, dtype: int64"
      ]
     },
     "execution_count": 324,
     "metadata": {},
     "output_type": "execute_result"
    }
   ],
   "source": [
    "df[\"new_inspection\"] = df[\"Inspection new\"].str[0].str.strip()\n",
    "df[\"new_inspection\"].value_counts(dropna=False)"
   ]
  },
  {
   "cell_type": "code",
   "execution_count": 325,
   "metadata": {},
   "outputs": [],
   "source": [
    "df.drop(columns=[\"Inspection new\"] , inplace=True)"
   ]
  },
  {
   "cell_type": "markdown",
   "metadata": {},
   "source": [
    "## Next Inspection"
   ]
  },
  {
   "cell_type": "code",
   "execution_count": 326,
   "metadata": {
    "scrolled": true
   },
   "outputs": [
    {
     "data": {
      "text/plain": [
       "NaN        12384\n",
       "             710\n",
       "06/2021      437\n",
       "03/2021      172\n",
       "05/2021      153\n",
       "02/2021      149\n",
       "04/2021      142\n",
       "01/2021      117\n",
       "05/2022      116\n",
       "02/2022       96\n",
       "03/2020       88\n",
       "03/2022       85\n",
       "04/2022       82\n",
       "01/2022       75\n",
       "07/2021       60\n",
       "08/2021       59\n",
       "02/2020       56\n",
       "04/2020       52\n",
       "06/2020       50\n",
       "05/2020       50\n",
       "01/2020       48\n",
       "11/2021       47\n",
       "12/2020       47\n",
       "11/2020       46\n",
       "04/2019       37\n",
       "07/2020       35\n",
       "10/2020       35\n",
       "06/2019       33\n",
       "09/2019       32\n",
       "07/2019       30\n",
       "11/2019       29\n",
       "09/2021       29\n",
       "08/2020       29\n",
       "10/2019       28\n",
       "03/2019       28\n",
       "05/2019       27\n",
       "01/2019       27\n",
       "02/2019       27\n",
       "06/2022       26\n",
       "08/2019       25\n",
       "09/2020       21\n",
       "12/2021       20\n",
       "10/2021       16\n",
       "12/2019       13\n",
       "01/2001        5\n",
       "07/2018        5\n",
       "10/2018        5\n",
       "11/2018        4\n",
       "03/2018        2\n",
       "12/2018        2\n",
       "09/2018        2\n",
       "06/2016        2\n",
       "08/2018        2\n",
       "07/2022        2\n",
       "04/2017        2\n",
       "03/2023        2\n",
       "02/2023        2\n",
       "05/2018        2\n",
       "05/2014        1\n",
       "02/2017        1\n",
       "04/2016        1\n",
       "01/2018        1\n",
       "06/2018        1\n",
       "05/2017        1\n",
       "07/2017        1\n",
       "12/2017        1\n",
       "01/2023        1\n",
       "01/1921        1\n",
       "11/2022        1\n",
       "03/2017        1\n",
       "Name: Next Inspection, dtype: int64"
      ]
     },
     "execution_count": 326,
     "metadata": {},
     "output_type": "execute_result"
    }
   ],
   "source": [
    "df[\"Next Inspection\"].str[0].str.strip().value_counts(dropna=False)"
   ]
  },
  {
   "cell_type": "code",
   "execution_count": 327,
   "metadata": {},
   "outputs": [],
   "source": [
    "df[\"next_inspection\"] = df[\"Next Inspection\"].str[0].str.strip()"
   ]
  },
  {
   "cell_type": "code",
   "execution_count": 328,
   "metadata": {
    "scrolled": true
   },
   "outputs": [
    {
     "data": {
      "text/plain": [
       "NaT           13094\n",
       "2021-06-01      437\n",
       "2021-03-01      172\n",
       "2021-05-01      153\n",
       "2021-02-01      149\n",
       "2021-04-01      142\n",
       "2021-01-01      117\n",
       "2022-05-01      116\n",
       "2022-02-01       96\n",
       "2020-03-01       88\n",
       "2022-03-01       85\n",
       "2022-04-01       82\n",
       "2022-01-01       75\n",
       "2021-07-01       60\n",
       "2021-08-01       59\n",
       "2020-02-01       56\n",
       "2020-04-01       52\n",
       "2020-06-01       50\n",
       "2020-05-01       50\n",
       "2020-01-01       48\n",
       "2021-11-01       47\n",
       "2020-12-01       47\n",
       "2020-11-01       46\n",
       "2019-04-01       37\n",
       "2020-07-01       35\n",
       "2020-10-01       35\n",
       "2019-06-01       33\n",
       "2019-09-01       32\n",
       "2019-07-01       30\n",
       "2019-11-01       29\n",
       "2021-09-01       29\n",
       "2020-08-01       29\n",
       "2019-10-01       28\n",
       "2019-03-01       28\n",
       "2019-05-01       27\n",
       "2019-01-01       27\n",
       "2019-02-01       27\n",
       "2022-06-01       26\n",
       "2019-08-01       25\n",
       "2020-09-01       21\n",
       "2021-12-01       20\n",
       "2021-10-01       16\n",
       "2019-12-01       13\n",
       "2001-01-01        5\n",
       "2018-07-01        5\n",
       "2018-10-01        5\n",
       "2018-11-01        4\n",
       "2018-03-01        2\n",
       "2018-12-01        2\n",
       "2018-09-01        2\n",
       "2016-06-01        2\n",
       "2018-08-01        2\n",
       "2022-07-01        2\n",
       "2017-04-01        2\n",
       "2023-03-01        2\n",
       "2023-02-01        2\n",
       "2018-05-01        2\n",
       "2014-05-01        1\n",
       "2017-02-01        1\n",
       "2016-04-01        1\n",
       "2018-01-01        1\n",
       "2018-06-01        1\n",
       "2017-05-01        1\n",
       "2017-07-01        1\n",
       "2017-12-01        1\n",
       "2023-01-01        1\n",
       "1921-01-01        1\n",
       "2022-11-01        1\n",
       "2017-03-01        1\n",
       "Name: next_inspection, dtype: int64"
      ]
     },
     "execution_count": 328,
     "metadata": {},
     "output_type": "execute_result"
    }
   ],
   "source": [
    "df[\"next_inspection\"] = pd.to_datetime(df[\"next_inspection\"])\n",
    "df[\"next_inspection\"].value_counts(dropna=False)"
   ]
  },
  {
   "cell_type": "code",
   "execution_count": 329,
   "metadata": {},
   "outputs": [],
   "source": [
    "df.drop(columns=\"Next Inspection\", inplace=True)"
   ]
  },
  {
   "cell_type": "markdown",
   "metadata": {},
   "source": [
    "## short_description"
   ]
  },
  {
   "cell_type": "code",
   "execution_count": 330,
   "metadata": {},
   "outputs": [
    {
     "data": {
      "text/plain": [
       "SPB 1.6 TDI 116 CV S tronic Sport                 64\n",
       "NaN                                               46\n",
       "1.4 66kW (90CV) Selective                         40\n",
       "MOVE KLIMA CD USB ALLWETTER BLUETOOTH             38\n",
       "SPB 30 TDI S tronic Business                      35\n",
       "                                                  ..\n",
       "K Sports Tourer Business **Navi*Voll**             1\n",
       "1.0 Turbo ecoFLEX Automatic Elective Park Navi     1\n",
       "1.6 CDTI Business *Navi*Automatik*Spurh.*          1\n",
       "1.6 136 CV Automatica Navi E 6 Garanzia Full       1\n",
       "TCe 225 EDC GPF LIM Deluxe Pano,RFK                1\n",
       "Name: short_description, Length: 10002, dtype: int64"
      ]
     },
     "execution_count": 330,
     "metadata": {},
     "output_type": "execute_result"
    }
   ],
   "source": [
    "df.short_description.value_counts(dropna=False)"
   ]
  },
  {
   "cell_type": "code",
   "execution_count": 331,
   "metadata": {
    "scrolled": true
   },
   "outputs": [
    {
     "data": {
      "text/plain": [
       "10785            1.6 CDTI 136CV Sports Tourer aut. Cosmo E6\n",
       "5622           Sportback 30 TFSI Sport Connect,OptikSchwarz\n",
       "3548              Sportback 1.6 TDI clean diesel Attraction\n",
       "10587                  ST 2.0 CDTI 4x4 Leder Navi Pano BOSE\n",
       "14137                                  IV Grandtour Limited\n",
       "7084     Sports Tourer ON//Navi/Kamera *6 Jahre Qualitätsve\n",
       "5294                        Sportback 35 TDI S tronic 110kW\n",
       "11511    Grand Sport Edition 1.6 CDTI Automatik Navi Sitzhz\n",
       "7779             5-turig 1.6 Turbo Innovation AT6 200 PS SS\n",
       "10552               1.6 CDTI 136 ch Business Connect Pack A\n",
       "9922                  1.4 120 Jahre KAMERA SHZ PDC OPC line\n",
       "4715          1.6 TDI S Line Edition S-tronic 85 kW (116 CV\n",
       "1616     Sportback 1.0 TFSI 95 pk 5 deurs Adrenalin Navigat\n",
       "2565     Sportback Audi A1 Sportback 30 TFSI 85(116) kW(pk)\n",
       "13707                                       1.2 16V 75 LIFE\n",
       "4161                           1.6 TDI Sportback S-line LED\n",
       "4320                                Sportback 1.6 TDI 110pk\n",
       "5387                Sportback 30 TFSI sport Xenon Allwetter\n",
       "14933                                        initiale Paris\n",
       "2261                                      30 TFSI Sportback\n",
       "6232              1.4 Sports Tourer Cool & Sound aus 1.HAND\n",
       "14969              dCi 160 EDC Initiale Paris EU6 7Sitz AHK\n",
       "8046                K 1.0 Edition Klima*Tempomat*PDC*USB*BT\n",
       "12518               Sports Tourer 2.0CDTI GSI [EURO6d-temp]\n",
       "2730     Limousine 2.0 TDI clean diesel S - tronic KLIMA XE\n",
       "8466                                    5 DRS AUTOMAAT NAVI\n",
       "11527                        B 1,6 Diesel S/S GS Edition AT\n",
       "10246       **TOP** Selection 3t Cool&Sound *limited* Klima\n",
       "1759        Sportback DESIGN 1.4TDI XENON.NAVI.SHZG.2xPDC N\n",
       "4312                               SPB 1.6 TDI 116 CV Sport\n",
       "8386                             Corsa 1.4 Edition Automaat\n",
       "2571        Sportback 25 TFSI Aktionsmodell LED PDC LM Klim\n",
       "14525           SCe75 s&s NAVI klima Keycard Radio BTH T.om\n",
       "13076              CLIO 4 1.2 TCE 120 ECO² INTENS AUTOMATIK\n",
       "3484                                  SB Attraction 1,6 TDI\n",
       "7171                      K 1.4 Turbo ST Dynamic Start/Stop\n",
       "12095               1.6 CDTI Innovation KAMERA*PDC V*H*UVM*\n",
       "9962     E Edition 1.4 RDC Klima CD AUX USB ESP Seitenairb.\n",
       "4858                    Sportback 1,0 TFSI Sport Navi Xenon\n",
       "1427                              Sportback 1.0 TFSI S-Line\n",
       "7548     5ª SERIE 1.6 CDTI 110CV START&STOP SPORTS TOURER I\n",
       "492                Sportback 1.4 TDI (EPH,SHZ,BT,Navivorb.)\n",
       "8066              K 1.4 120 Jahre Klima*SHZ*RFK*PDC*DAB*ALU\n",
       "5334             Sportback 30 TFSI 116 CV S tronic Business\n",
       "706                            SB 1,0 TFSI intense S-tronic\n",
       "6169                 K 1.6 CDTI Edition IntelliLink PDC GRA\n",
       "15872                   INITIALE PARIS TCE 225 EDC PF EU6DT\n",
       "9623                                    1.2 5 porte b-Color\n",
       "13921         IV 1.2 16V 75 Grandtour Limited Klima*el FH*Z\n",
       "3574                  2.0 TDI CD Attraction 135 kW (184 CV)\n",
       "Name: short_description, dtype: object"
      ]
     },
     "execution_count": 331,
     "metadata": {},
     "output_type": "execute_result"
    }
   ],
   "source": [
    "df.short_description.sample(50)"
   ]
  },
  {
   "cell_type": "code",
   "execution_count": 332,
   "metadata": {},
   "outputs": [
    {
     "data": {
      "text/plain": [
       "NaN    5164\n",
       "1.6    3890\n",
       "1.4    2531\n",
       "1.0    1321\n",
       "1.2     953\n",
       "2.0     886\n",
       "1.5     883\n",
       "1.3     135\n",
       "1.8      59\n",
       "0.9      49\n",
       "4.0      22\n",
       "2.5      19\n",
       "1.1       3\n",
       "1.7       3\n",
       "2.8       1\n",
       "dtype: int64"
      ]
     },
     "execution_count": 332,
     "metadata": {},
     "output_type": "execute_result"
    }
   ],
   "source": [
    "df['short_description'].str.extract('\\D*([0-9]{1}\\.\\d{1})[\\D ]').value_counts(dropna=False)"
   ]
  },
  {
   "cell_type": "code",
   "execution_count": 333,
   "metadata": {},
   "outputs": [],
   "source": [
    "df['cc_from_description'] = df['short_description'].str.extract('\\D*([0-3]{1}\\.\\d{1})[\\D ]')"
   ]
  },
  {
   "cell_type": "code",
   "execution_count": 334,
   "metadata": {},
   "outputs": [
    {
     "data": {
      "text/html": [
       "<div>\n",
       "<style scoped>\n",
       "    .dataframe tbody tr th:only-of-type {\n",
       "        vertical-align: middle;\n",
       "    }\n",
       "\n",
       "    .dataframe tbody tr th {\n",
       "        vertical-align: top;\n",
       "    }\n",
       "\n",
       "    .dataframe thead th {\n",
       "        text-align: right;\n",
       "    }\n",
       "</style>\n",
       "<table border=\"1\" class=\"dataframe\">\n",
       "  <thead>\n",
       "    <tr style=\"text-align: right;\">\n",
       "      <th></th>\n",
       "      <th>make_model</th>\n",
       "      <th>short_description</th>\n",
       "      <th>body_type</th>\n",
       "      <th>price</th>\n",
       "      <th>vat</th>\n",
       "      <th>km</th>\n",
       "      <th>registration</th>\n",
       "      <th>prev_owner</th>\n",
       "      <th>Consumption</th>\n",
       "      <th>make</th>\n",
       "      <th>hp_kW</th>\n",
       "      <th>used_new</th>\n",
       "      <th>fuel_type</th>\n",
       "      <th>upholstery_kind</th>\n",
       "      <th>upholstery_color</th>\n",
       "      <th>door_count</th>\n",
       "      <th>seat_count</th>\n",
       "      <th>auto_manuel</th>\n",
       "      <th>displacement_cc</th>\n",
       "      <th>consumption_comb</th>\n",
       "      <th>co2_emission</th>\n",
       "      <th>comfort</th>\n",
       "      <th>digi_media</th>\n",
       "      <th>extra</th>\n",
       "      <th>safety</th>\n",
       "      <th>gears</th>\n",
       "      <th>warranty</th>\n",
       "      <th>cylinders</th>\n",
       "      <th>paint_type</th>\n",
       "      <th>drive_chain</th>\n",
       "      <th>weight_kg</th>\n",
       "      <th>country_ver</th>\n",
       "      <th>model_code</th>\n",
       "      <th>Emission_Label</th>\n",
       "      <th>new_inspection</th>\n",
       "      <th>next_inspection</th>\n",
       "      <th>cc_from_description</th>\n",
       "    </tr>\n",
       "  </thead>\n",
       "  <tbody>\n",
       "    <tr>\n",
       "      <th>0</th>\n",
       "      <td>Audi A1</td>\n",
       "      <td>Sportback 1.4 TDI S-tronic Xenon Navi Klima</td>\n",
       "      <td>Sedans</td>\n",
       "      <td>15770</td>\n",
       "      <td>VAT deductible</td>\n",
       "      <td>56013</td>\n",
       "      <td>01/2016</td>\n",
       "      <td>2</td>\n",
       "      <td>[[3.8 l/100 km (comb)], [4.3 l/100 km (city)], [3.5 l/100 km (country)]]</td>\n",
       "      <td>Audi</td>\n",
       "      <td>66</td>\n",
       "      <td>Used</td>\n",
       "      <td>Diesel (Particulate Filter)</td>\n",
       "      <td>Cloth</td>\n",
       "      <td>Black</td>\n",
       "      <td>5</td>\n",
       "      <td>5</td>\n",
       "      <td>Automatic</td>\n",
       "      <td>1422</td>\n",
       "      <td>3.8</td>\n",
       "      <td>99</td>\n",
       "      <td>Air conditioning,Armrest,Automatic climate control,Cruise control,Electrical side mirrors,Hill Holder,Leather steering wheel,Light sensor,Multi-function steering wheel,Navigation system,Park Distance Control,Parking assist system sensors rear,Power windows,Rain sensor,Seat heating,Start-stop system</td>\n",
       "      <td>Bluetooth,Hands-free equipment,On-board computer,Radio</td>\n",
       "      <td>Alloy wheels,Catalytic Converter,Voice Control</td>\n",
       "      <td>ABS,Central door lock,Daytime running lights,Driver-side airbag,Electronic stability control,Fog lights,Immobilizer,Isofix,Passenger-side airbag,Power steering,Side airbag,Tire pressure monitoring system,Traction control,Xenon headlights</td>\n",
       "      <td>NaN</td>\n",
       "      <td>NaN</td>\n",
       "      <td>3</td>\n",
       "      <td>Metallic</td>\n",
       "      <td>front</td>\n",
       "      <td>1220</td>\n",
       "      <td>NaN</td>\n",
       "      <td>0588/BDF</td>\n",
       "      <td>NaN</td>\n",
       "      <td>Yes</td>\n",
       "      <td>2021-06-01</td>\n",
       "      <td>1.4</td>\n",
       "    </tr>\n",
       "    <tr>\n",
       "      <th>1</th>\n",
       "      <td>Audi A1</td>\n",
       "      <td>1.8 TFSI sport</td>\n",
       "      <td>Sedans</td>\n",
       "      <td>14500</td>\n",
       "      <td>Price negotiable</td>\n",
       "      <td>80000</td>\n",
       "      <td>03/2017</td>\n",
       "      <td>None</td>\n",
       "      <td>[[5.6 l/100 km (comb)], [7.1 l/100 km (city)], [4.7 l/100 km (country)]]</td>\n",
       "      <td>Audi</td>\n",
       "      <td>141</td>\n",
       "      <td>Used</td>\n",
       "      <td>Gasoline</td>\n",
       "      <td>Cloth</td>\n",
       "      <td>Grey</td>\n",
       "      <td>3</td>\n",
       "      <td>4</td>\n",
       "      <td>Automatic</td>\n",
       "      <td>1798</td>\n",
       "      <td>5.6</td>\n",
       "      <td>129</td>\n",
       "      <td>Air conditioning,Automatic climate control,Hill Holder,Leather steering wheel,Lumbar support,Parking assist system sensors rear,Power windows,Start-stop system,Tinted windows</td>\n",
       "      <td>Bluetooth,Hands-free equipment,On-board computer,Radio,Sound system</td>\n",
       "      <td>Alloy wheels,Sport seats,Sport suspension,Voice Control</td>\n",
       "      <td>ABS,Central door lock,Central door lock with remote control,Daytime running lights,Driver-side airbag,Electronic stability control,Head airbag,Immobilizer,Isofix,Passenger-side airbag,Power steering,Side airbag,Tire pressure monitoring system,Traction control,Xenon headlights</td>\n",
       "      <td>7</td>\n",
       "      <td>NaN</td>\n",
       "      <td>4</td>\n",
       "      <td>NaN</td>\n",
       "      <td>front</td>\n",
       "      <td>1255</td>\n",
       "      <td>NaN</td>\n",
       "      <td>0588/BCY</td>\n",
       "      <td>4 (Green)</td>\n",
       "      <td>NaN</td>\n",
       "      <td>NaT</td>\n",
       "      <td>1.8</td>\n",
       "    </tr>\n",
       "    <tr>\n",
       "      <th>2</th>\n",
       "      <td>Audi A1</td>\n",
       "      <td>Sportback 1.6 TDI S tronic Einparkhilfe plus+music</td>\n",
       "      <td>Sedans</td>\n",
       "      <td>14640</td>\n",
       "      <td>VAT deductible</td>\n",
       "      <td>83450</td>\n",
       "      <td>02/2016</td>\n",
       "      <td>1</td>\n",
       "      <td>[[3.8 l/100 km (comb)], [4.4 l/100 km (city)], [3.4 l/100 km (country)]]</td>\n",
       "      <td>Audi</td>\n",
       "      <td>85</td>\n",
       "      <td>Used</td>\n",
       "      <td>Diesel (Particulate Filter)</td>\n",
       "      <td>Cloth</td>\n",
       "      <td>Black</td>\n",
       "      <td>4</td>\n",
       "      <td>4</td>\n",
       "      <td>Automatic</td>\n",
       "      <td>1598</td>\n",
       "      <td>3.8</td>\n",
       "      <td>99</td>\n",
       "      <td>Air conditioning,Cruise control,Electrical side mirrors,Hill Holder,Leather steering wheel,Multi-function steering wheel,Navigation system,Park Distance Control,Parking assist system sensors front,Parking assist system sensors rear,Power windows,Seat heating,Start-stop system</td>\n",
       "      <td>MP3,On-board computer</td>\n",
       "      <td>Alloy wheels,Voice Control</td>\n",
       "      <td>ABS,Central door lock,Daytime running lights,Driver-side airbag,Electronic stability control,Immobilizer,Isofix,Passenger-side airbag,Power steering,Side airbag,Tire pressure monitoring system,Traction control</td>\n",
       "      <td>NaN</td>\n",
       "      <td>NaN</td>\n",
       "      <td>NaN</td>\n",
       "      <td>Metallic</td>\n",
       "      <td>front</td>\n",
       "      <td>NaN</td>\n",
       "      <td>NaN</td>\n",
       "      <td>NaN</td>\n",
       "      <td>4 (Green)</td>\n",
       "      <td>NaN</td>\n",
       "      <td>NaT</td>\n",
       "      <td>1.6</td>\n",
       "    </tr>\n",
       "  </tbody>\n",
       "</table>\n",
       "</div>"
      ],
      "text/plain": [
       "  make_model                                   short_description body_type  price               vat     km registration prev_owner                                                               Consumption  make hp_kW used_new                    fuel_type upholstery_kind upholstery_color door_count seat_count auto_manuel displacement_cc consumption_comb co2_emission                                                                                                                                                                                                                                                                                                      comfort                                                           digi_media                                                    extra                                                                                                                                                                                                                                                                                safety gears warranty cylinders paint_type drive_chain weight_kg country_ver model_code Emission_Label new_inspection next_inspection cc_from_description\n",
       "0    Audi A1         Sportback 1.4 TDI S-tronic Xenon Navi Klima    Sedans  15770    VAT deductible  56013      01/2016          2  [[3.8 l/100 km (comb)], [4.3 l/100 km (city)], [3.5 l/100 km (country)]]  Audi    66     Used  Diesel (Particulate Filter)           Cloth            Black          5          5   Automatic            1422              3.8           99  Air conditioning,Armrest,Automatic climate control,Cruise control,Electrical side mirrors,Hill Holder,Leather steering wheel,Light sensor,Multi-function steering wheel,Navigation system,Park Distance Control,Parking assist system sensors rear,Power windows,Rain sensor,Seat heating,Start-stop system               Bluetooth,Hands-free equipment,On-board computer,Radio           Alloy wheels,Catalytic Converter,Voice Control                                         ABS,Central door lock,Daytime running lights,Driver-side airbag,Electronic stability control,Fog lights,Immobilizer,Isofix,Passenger-side airbag,Power steering,Side airbag,Tire pressure monitoring system,Traction control,Xenon headlights   NaN      NaN         3   Metallic       front      1220         NaN   0588/BDF            NaN            Yes      2021-06-01                 1.4\n",
       "1    Audi A1                                      1.8 TFSI sport    Sedans  14500  Price negotiable  80000      03/2017       None  [[5.6 l/100 km (comb)], [7.1 l/100 km (city)], [4.7 l/100 km (country)]]  Audi   141     Used                     Gasoline           Cloth             Grey          3          4   Automatic            1798              5.6          129                                                                                                                               Air conditioning,Automatic climate control,Hill Holder,Leather steering wheel,Lumbar support,Parking assist system sensors rear,Power windows,Start-stop system,Tinted windows  Bluetooth,Hands-free equipment,On-board computer,Radio,Sound system  Alloy wheels,Sport seats,Sport suspension,Voice Control  ABS,Central door lock,Central door lock with remote control,Daytime running lights,Driver-side airbag,Electronic stability control,Head airbag,Immobilizer,Isofix,Passenger-side airbag,Power steering,Side airbag,Tire pressure monitoring system,Traction control,Xenon headlights     7      NaN         4        NaN       front      1255         NaN   0588/BCY      4 (Green)            NaN             NaT                 1.8\n",
       "2    Audi A1  Sportback 1.6 TDI S tronic Einparkhilfe plus+music    Sedans  14640    VAT deductible  83450      02/2016          1  [[3.8 l/100 km (comb)], [4.4 l/100 km (city)], [3.4 l/100 km (country)]]  Audi    85     Used  Diesel (Particulate Filter)           Cloth            Black          4          4   Automatic            1598              3.8           99                         Air conditioning,Cruise control,Electrical side mirrors,Hill Holder,Leather steering wheel,Multi-function steering wheel,Navigation system,Park Distance Control,Parking assist system sensors front,Parking assist system sensors rear,Power windows,Seat heating,Start-stop system                                                MP3,On-board computer                               Alloy wheels,Voice Control                                                                     ABS,Central door lock,Daytime running lights,Driver-side airbag,Electronic stability control,Immobilizer,Isofix,Passenger-side airbag,Power steering,Side airbag,Tire pressure monitoring system,Traction control   NaN      NaN       NaN   Metallic       front       NaN         NaN        NaN      4 (Green)            NaN             NaT                 1.6"
      ]
     },
     "execution_count": 334,
     "metadata": {},
     "output_type": "execute_result"
    }
   ],
   "source": [
    "df.head(3)"
   ]
  },
  {
   "cell_type": "code",
   "execution_count": 335,
   "metadata": {},
   "outputs": [],
   "source": [
    "df.to_csv(\"scout_clean.csv\", index=False)"
   ]
  },
  {
   "cell_type": "markdown",
   "metadata": {
    "id": "uGeKSdYds1MD"
   },
   "source": [
    "# PART- 2 `( Handling With Missing Vales )`"
   ]
  },
  {
   "cell_type": "code",
   "execution_count": null,
   "metadata": {
    "id": "WDZnqBhbs1ME"
   },
   "outputs": [],
   "source": []
  },
  {
   "cell_type": "markdown",
   "metadata": {
    "id": "gPPdPAu5s1ME"
   },
   "source": [
    "# PART- 3 `( Handling With Outliers )`"
   ]
  },
  {
   "cell_type": "code",
   "execution_count": null,
   "metadata": {
    "id": "Is4HLjHWs1MF"
   },
   "outputs": [],
   "source": []
  },
  {
   "cell_type": "markdown",
   "metadata": {
    "id": "EKxmsgfts1MG"
   },
   "source": [
    "# Final Step (Checking final situation of data via graphs)"
   ]
  },
  {
   "cell_type": "code",
   "execution_count": null,
   "metadata": {
    "id": "8mgL_Bd0s1MG"
   },
   "outputs": [],
   "source": []
  },
  {
   "cell_type": "markdown",
   "metadata": {
    "id": "2PgUVPoes1MH"
   },
   "source": [
    "## Export dataframe to csv file (without dummy)"
   ]
  },
  {
   "cell_type": "code",
   "execution_count": null,
   "metadata": {
    "id": "Byg_o2ZMs1MI"
   },
   "outputs": [],
   "source": [
    "# df.to_csv(\"final_scout_not_dummy.csv\", index=False)"
   ]
  },
  {
   "cell_type": "markdown",
   "metadata": {
    "id": "hrw9hr-3s1MJ"
   },
   "source": [
    "# Dummy Operation"
   ]
  },
  {
   "cell_type": "code",
   "execution_count": null,
   "metadata": {
    "id": "faDyWTC9s1MJ"
   },
   "outputs": [],
   "source": []
  },
  {
   "cell_type": "code",
   "execution_count": null,
   "metadata": {},
   "outputs": [],
   "source": [
    "# df = df.join(df.comfort.str.get_dummies(sep = ',').add_prefix(\"comf_\"))"
   ]
  },
  {
   "cell_type": "code",
   "execution_count": null,
   "metadata": {
    "scrolled": true
   },
   "outputs": [],
   "source": [
    "# df.comfort.str.get_dummies(sep = ',')"
   ]
  },
  {
   "cell_type": "code",
   "execution_count": null,
   "metadata": {},
   "outputs": [],
   "source": [
    "# df.drop(columns=\"comfort\", inplace=True) # will be dropped after dummy"
   ]
  },
  {
   "cell_type": "code",
   "execution_count": null,
   "metadata": {},
   "outputs": [],
   "source": [
    "# df= df.join(df.digi_media.str.get_dummies(sep=\",\").add_prefix(\"digi_\"))"
   ]
  },
  {
   "cell_type": "code",
   "execution_count": null,
   "metadata": {},
   "outputs": [],
   "source": [
    "# df.digi_media.str.get_dummies(sep=\",\")"
   ]
  },
  {
   "cell_type": "code",
   "execution_count": null,
   "metadata": {},
   "outputs": [],
   "source": [
    "# df.drop(columns='digi_media', inplace=True)"
   ]
  },
  {
   "cell_type": "code",
   "execution_count": null,
   "metadata": {
    "scrolled": true
   },
   "outputs": [],
   "source": [
    "# df[\"extras\"].str.get_dummies(sep=\",\")"
   ]
  },
  {
   "cell_type": "code",
   "execution_count": null,
   "metadata": {},
   "outputs": [],
   "source": [
    "# df= df.join(df[\"\\nExtras\\n\"].str.get_dummies(sep=\",\").add_prefix(\"extra_\"))"
   ]
  },
  {
   "cell_type": "code",
   "execution_count": null,
   "metadata": {},
   "outputs": [],
   "source": [
    "# df[\"safety\"].str.get_dummies(sep=\",\")"
   ]
  },
  {
   "cell_type": "code",
   "execution_count": null,
   "metadata": {},
   "outputs": [],
   "source": [
    "# df = df.join((df[\"safety\"].str.get_dummies(sep=\",\").add_prefix(\"safety_\")))"
   ]
  },
  {
   "cell_type": "markdown",
   "metadata": {
    "id": "DUOdihlqs1MJ"
   },
   "source": [
    "## Export dataframe to csv file (dummy)"
   ]
  },
  {
   "cell_type": "code",
   "execution_count": null,
   "metadata": {
    "id": "IJT7Yl1Us1MK"
   },
   "outputs": [],
   "source": [
    "# df_dummied.to_csv(\"final_scout_dummy.csv\", index=False)"
   ]
  }
 ],
 "metadata": {
  "colab": {
   "name": "DAwPy-Capstone_Project_(AutoScout)_Student.ipynb",
   "provenance": []
  },
  "kernelspec": {
   "display_name": "Python 3 (ipykernel)",
   "language": "python",
   "name": "python3"
  },
  "language_info": {
   "codemirror_mode": {
    "name": "ipython",
    "version": 3
   },
   "file_extension": ".py",
   "mimetype": "text/x-python",
   "name": "python",
   "nbconvert_exporter": "python",
   "pygments_lexer": "ipython3",
   "version": "3.9.7"
  }
 },
 "nbformat": 4,
 "nbformat_minor": 1
}
