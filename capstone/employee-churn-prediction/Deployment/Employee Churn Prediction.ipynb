{
 "cells": [
  {
   "cell_type": "markdown",
   "metadata": {
    "id": "8EjVhtzq2slH"
   },
   "source": [
    "# WELCOME!"
   ]
  },
  {
   "cell_type": "markdown",
   "metadata": {
    "id": "JqV3cXW-2slL"
   },
   "source": [
    "Welcome to \"***Employee Churn Analysis Project***\".  \n",
    "\n",
    "Also you will research what is Employee Churn?, How it is different from customer churn, Exploratory data analysis and visualization of employee churn dataset using ***matplotlib*** and ***seaborn***, model building and evaluation using python ***scikit-learn*** packages. \n",
    "\n",
    "You will be able to implement classification techniques in Python. Using Scikit-Learn allowing you to successfully make predictions.\n",
    "\n",
    "At the end of the project, you will have the opportunity to deploy your model using *Streamlit*.\n",
    "\n",
    "Before diving into the project, please take a look at the determines and project structure.\n",
    "\n",
    "- NOTE: This project assumes that you already know the basics of coding in Python and are familiar with model deployement as well as the theory behind Distance Based, Bagging, Boosting algorithms, and Confusion Matrices. You can try more models and methods beside these to improve your model metrics.\n",
    "\n"
   ]
  },
  {
   "cell_type": "markdown",
   "metadata": {
    "id": "4oRnVXpS2slN"
   },
   "source": [
    "# #Determines\n",
    "In this project you have HR data of a company. A study is requested from you to predict which employee will churn by using this data.\n",
    "\n",
    "The HR dataset has 14,999 samples. In the given dataset, you have two types of employee one who stayed and another who left the company.\n",
    "\n",
    "You can describe 10 attributes in detail as:\n",
    "- ***satisfaction_level:*** It is employee satisfaction point, which ranges from 0-1.\n",
    "- ***last_evaluation:*** It is evaluated performance by the employer, which also ranges from 0-1.\n",
    "- ***number_projects:*** How many of projects assigned to an employee?\n",
    "- ***average_monthly_hours:*** How many hours in averega an employee worked in a month?\n",
    "- **time_spent_company:** time_spent_company means employee experience. The number of years spent by an employee in the company.\n",
    "- ***work_accident:*** Whether an employee has had a work accident or not.\n",
    "- ***promotion_last_5years:*** Whether an employee has had a promotion in the last 5 years or not.\n",
    "- ***Departments:*** Employee's working department/division.\n",
    "- ***Salary:*** Salary level of the employee such as low, medium and high.\n",
    "- ***left:*** Whether the employee has left the company or not.\n",
    "\n",
    "First of all, to observe the structure of the data, outliers, missing values and features that affect the target variable, you must use exploratory data analysis and data visualization techniques. \n",
    "\n",
    "Then, you must perform data pre-processing operations such as ***Scaling*** and ***Encoding*** to increase the accuracy score of Gradient Descent Based or Distance-Based algorithms. you are asked to perform ***Cluster Analysis*** based on the information you obtain during exploratory data analysis and data visualization processes. \n",
    "\n",
    "The purpose of clustering analysis is to cluster data with similar characteristics. You are asked to use the ***K-means*** algorithm to make cluster analysis. However, you must provide the K-means algorithm with information about the number of clusters it will make predictions. Also, the data you apply to the K-means algorithm must be scaled. In order to find the optimal number of clusters, you are asked to use the ***Elbow method***. Briefly, try to predict the set to which individuals are related by using K-means and evaluate the estimation results.\n",
    "\n",
    "Once the data is ready to be applied to the model, you must ***split the data into train and test***. Then build a model to predict whether employees will churn or not. Train your models with your train set, test the success of your model with your test set. \n",
    "\n",
    "Try to make your predictions by using the algorithms ***Logistic Regression***, ***Random Forest Classifier***, ***XGBoost Classifier***, ***ANN***. You can use the related modules of the ***scikit-learn*** and ***Tensorflow-Keras*** library. You can use scikit-learn ***Classification Metrics*** module for accuracy calculation. You can use the ***Yellowbrick*** module for model selection and visualization.\n",
    "\n",
    "In the final step, you will deploy your model using Streamlit tool.\n",
    "\n"
   ]
  },
  {
   "cell_type": "markdown",
   "metadata": {
    "id": "97xzRLNj2slO"
   },
   "source": [
    "# #Tasks\n",
    "\n",
    "#### 1. Exploratory Data Analysis\n",
    "- Importing Modules\n",
    "- Loading Dataset\n",
    "- Data Insigts\n",
    "\n",
    "#### 2. Data Visualization\n",
    "- Employees Left\n",
    "- Determine Number of Projects\n",
    "- Determine Time Spent in Company\n",
    "- Subplots of Features\n",
    "\n",
    "#### 3. Model Building\n",
    "- Split Data as Train and Test set\n",
    "- Built Random Forest Classifier and Evaluate Model Performance and Predict Test Data\n",
    "- Evaluate Model Performance and Predict Test Data"
   ]
  },
  {
   "cell_type": "markdown",
   "metadata": {
    "id": "WLTGi7q02slP"
   },
   "source": [
    "## 1. Exploratory Data Analysis\n",
    "\n",
    "Exploratory Data Analysis is an initial process of analysis, in which you can summarize characteristics of data such as pattern, trends, outliers, and hypothesis testing using descriptive statistics and visualization."
   ]
  },
  {
   "cell_type": "markdown",
   "metadata": {
    "id": "TyrWBiyM2sld"
   },
   "source": [
    "### Importing Modules"
   ]
  },
  {
   "cell_type": "code",
   "execution_count": 1,
   "metadata": {
    "execution": {
     "iopub.execute_input": "2022-11-07T11:08:58.495956Z",
     "iopub.status.busy": "2022-11-07T11:08:58.495717Z",
     "iopub.status.idle": "2022-11-07T11:09:00.216456Z",
     "shell.execute_reply": "2022-11-07T11:09:00.215909Z",
     "shell.execute_reply.started": "2022-11-07T11:08:58.495900Z"
    },
    "id": "TI19sGjE2slf"
   },
   "outputs": [
    {
     "data": {
      "text/html": [
       "        <script type=\"text/javascript\">\n",
       "        window.PlotlyConfig = {MathJaxConfig: 'local'};\n",
       "        if (window.MathJax && window.MathJax.Hub && window.MathJax.Hub.Config) {window.MathJax.Hub.Config({SVG: {font: \"STIX-Web\"}});}\n",
       "        if (typeof require !== 'undefined') {\n",
       "        require.undef(\"plotly\");\n",
       "        requirejs.config({\n",
       "            paths: {\n",
       "                'plotly': ['https://cdn.plot.ly/plotly-2.12.1.min']\n",
       "            }\n",
       "        });\n",
       "        require(['plotly'], function(Plotly) {\n",
       "            window._Plotly = Plotly;\n",
       "        });\n",
       "        }\n",
       "        </script>\n",
       "        "
      ]
     },
     "metadata": {},
     "output_type": "display_data"
    }
   ],
   "source": [
    "# Import Libraries\n",
    "import numpy as np\n",
    "import pandas as pd \n",
    "import seaborn as sns\n",
    "import matplotlib.pyplot as plt\n",
    "import scipy.stats as stats\n",
    "%matplotlib inline\n",
    "import statsmodels.api as sm\n",
    "import statsmodels.formula.api as smf\n",
    "import missingno as msno \n",
    "\n",
    "from sklearn.compose import make_column_transformer\n",
    "\n",
    "# Scaling\n",
    "from sklearn.preprocessing import scale \n",
    "from sklearn.preprocessing import StandardScaler\n",
    "from sklearn.preprocessing import PolynomialFeatures \n",
    "from sklearn.preprocessing import OneHotEncoder\n",
    "from sklearn.preprocessing import PowerTransformer \n",
    "from sklearn.preprocessing import MinMaxScaler\n",
    "from sklearn.preprocessing import RobustScaler\n",
    "\n",
    "\n",
    "# Importing plotly and cufflinks in offline mode\n",
    "import plotly.express as px\n",
    "import cufflinks as cf\n",
    "import plotly.offline\n",
    "cf.go_offline()\n",
    "cf.set_config_file(offline=False, world_readable=True)\n",
    "\n",
    "# Ignore Warnings\n",
    "import warnings\n",
    "warnings.filterwarnings(\"ignore\")\n",
    "warnings.warn(\"this will not show\")\n",
    "\n",
    "# Figure & Display options\n",
    "plt.rcParams[\"figure.figsize\"] = (10,6)\n",
    "pd.set_option('max_colwidth',200)\n",
    "pd.set_option('display.max_rows', 1000)\n",
    "pd.set_option('display.max_columns', 200)\n",
    "pd.set_option('display.float_format', lambda x: '%.3f' % x)\n",
    "\n",
    "sns.set_style(\"whitegrid\")\n",
    "\n",
    "# !pip install termcolor\n",
    "import colorama\n",
    "from colorama import Fore, Style  # makes strings colored\n",
    "from termcolor import colored\n",
    "\n",
    "import ipywidgets\n",
    "from ipywidgets import interact"
   ]
  },
  {
   "cell_type": "code",
   "execution_count": 2,
   "metadata": {
    "execution": {
     "iopub.execute_input": "2022-11-07T11:09:00.217398Z",
     "iopub.status.busy": "2022-11-07T11:09:00.217293Z",
     "iopub.status.idle": "2022-11-07T11:09:02.901177Z",
     "shell.execute_reply": "2022-11-07T11:09:02.900561Z",
     "shell.execute_reply.started": "2022-11-07T11:09:00.217385Z"
    }
   },
   "outputs": [
    {
     "name": "stderr",
     "output_type": "stream",
     "text": [
      "2022-11-07 14:09:00.229432: I tensorflow/core/platform/cpu_feature_guard.cc:193] This TensorFlow binary is optimized with oneAPI Deep Neural Network Library (oneDNN) to use the following CPU instructions in performance-critical operations:  AVX2 FMA\n",
      "To enable them in other operations, rebuild TensorFlow with the appropriate compiler flags.\n",
      "2022-11-07 14:09:00.770916: W tensorflow/stream_executor/platform/default/dso_loader.cc:64] Could not load dynamic library 'libcudart.so.11.0'; dlerror: libcudart.so.11.0: cannot open shared object file: No such file or directory\n",
      "2022-11-07 14:09:00.770967: I tensorflow/stream_executor/cuda/cudart_stub.cc:29] Ignore above cudart dlerror if you do not have a GPU set up on your machine.\n",
      "2022-11-07 14:09:00.860787: E tensorflow/stream_executor/cuda/cuda_blas.cc:2981] Unable to register cuBLAS factory: Attempting to register factory for plugin cuBLAS when one has already been registered\n",
      "2022-11-07 14:09:01.866318: W tensorflow/stream_executor/platform/default/dso_loader.cc:64] Could not load dynamic library 'libnvinfer.so.7'; dlerror: libnvinfer.so.7: cannot open shared object file: No such file or directory\n",
      "2022-11-07 14:09:01.866490: W tensorflow/stream_executor/platform/default/dso_loader.cc:64] Could not load dynamic library 'libnvinfer_plugin.so.7'; dlerror: libnvinfer_plugin.so.7: cannot open shared object file: No such file or directory\n",
      "2022-11-07 14:09:01.866504: W tensorflow/compiler/tf2tensorrt/utils/py_utils.cc:38] TF-TRT Warning: Cannot dlopen some TensorRT libraries. If you would like to use Nvidia GPU with TensorRT, please make sure the missing libraries mentioned above are installed properly.\n"
     ]
    }
   ],
   "source": [
    "import tensorflow as tf\n",
    "from tensorflow.keras.models import Sequential\n",
    "from tensorflow.keras.layers import Dense, Activation, Dropout\n",
    "from tensorflow.keras.callbacks import EarlyStopping\n",
    "from tensorflow.keras.optimizers import Adam\n",
    "from sklearn.metrics import classification_report, confusion_matrix\n",
    "from sklearn.metrics import roc_auc_score, roc_curve, precision_recall_curve, average_precision_score\n",
    "from sklearn.model_selection import cross_val_score, cross_validate\n",
    "from sklearn.model_selection import GridSearchCV"
   ]
  },
  {
   "cell_type": "markdown",
   "metadata": {
    "id": "vS9n2J9-2sln"
   },
   "source": [
    "### Loading Dataset\n",
    "\n",
    "Let's first load the required HR dataset using pandas's \"read_csv\" function."
   ]
  },
  {
   "cell_type": "code",
   "execution_count": 3,
   "metadata": {
    "execution": {
     "iopub.execute_input": "2022-11-07T11:09:02.901855Z",
     "iopub.status.busy": "2022-11-07T11:09:02.901726Z",
     "iopub.status.idle": "2022-11-07T11:09:02.925157Z",
     "shell.execute_reply": "2022-11-07T11:09:02.924653Z",
     "shell.execute_reply.started": "2022-11-07T11:09:02.901838Z"
    },
    "id": "rvS39ktq2slt"
   },
   "outputs": [],
   "source": [
    "df = pd.read_csv(\"HR_Dataset.csv\")"
   ]
  },
  {
   "cell_type": "markdown",
   "metadata": {
    "id": "wc8t0m9u2sl2"
   },
   "source": [
    "### Data Insights\n",
    "\n",
    "In the given dataset, you have two types of employee one who stayed and another who left the company. So, you can divide data into two groups and compare their characteristics. Moreover, you can find the average of both the groups using groupby() and mean() function."
   ]
  },
  {
   "cell_type": "code",
   "execution_count": 4,
   "metadata": {
    "execution": {
     "iopub.execute_input": "2022-11-07T11:09:02.926392Z",
     "iopub.status.busy": "2022-11-07T11:09:02.926185Z",
     "iopub.status.idle": "2022-11-07T11:09:02.938594Z",
     "shell.execute_reply": "2022-11-07T11:09:02.937907Z",
     "shell.execute_reply.started": "2022-11-07T11:09:02.926350Z"
    },
    "id": "6Qd_Mxw-2sl9"
   },
   "outputs": [
    {
     "name": "stdout",
     "output_type": "stream",
     "text": [
      "<class 'pandas.core.frame.DataFrame'>\n",
      "RangeIndex: 14999 entries, 0 to 14998\n",
      "Data columns (total 10 columns):\n",
      " #   Column                 Non-Null Count  Dtype  \n",
      "---  ------                 --------------  -----  \n",
      " 0   satisfaction_level     14999 non-null  float64\n",
      " 1   last_evaluation        14999 non-null  float64\n",
      " 2   number_project         14999 non-null  int64  \n",
      " 3   average_montly_hours   14999 non-null  int64  \n",
      " 4   time_spend_company     14999 non-null  int64  \n",
      " 5   Work_accident          14999 non-null  int64  \n",
      " 6   left                   14999 non-null  int64  \n",
      " 7   promotion_last_5years  14999 non-null  int64  \n",
      " 8   Departments            14999 non-null  object \n",
      " 9   salary                 14999 non-null  object \n",
      "dtypes: float64(2), int64(6), object(2)\n",
      "memory usage: 1.1+ MB\n"
     ]
    }
   ],
   "source": [
    "df.info()"
   ]
  },
  {
   "cell_type": "code",
   "execution_count": 5,
   "metadata": {
    "execution": {
     "iopub.execute_input": "2022-11-07T11:09:02.939915Z",
     "iopub.status.busy": "2022-11-07T11:09:02.939688Z",
     "iopub.status.idle": "2022-11-07T11:09:02.946181Z",
     "shell.execute_reply": "2022-11-07T11:09:02.945649Z",
     "shell.execute_reply.started": "2022-11-07T11:09:02.939888Z"
    }
   },
   "outputs": [
    {
     "data": {
      "text/plain": [
       "Index(['satisfaction_level', 'last_evaluation', 'number_project',\n",
       "       'average_montly_hours', 'time_spend_company', 'Work_accident', 'left',\n",
       "       'promotion_last_5years', 'Departments ', 'salary'],\n",
       "      dtype='object')"
      ]
     },
     "execution_count": 5,
     "metadata": {},
     "output_type": "execute_result"
    }
   ],
   "source": [
    "df.columns"
   ]
  },
  {
   "cell_type": "code",
   "execution_count": 6,
   "metadata": {
    "execution": {
     "iopub.execute_input": "2022-11-07T11:09:02.947030Z",
     "iopub.status.busy": "2022-11-07T11:09:02.946913Z",
     "iopub.status.idle": "2022-11-07T11:09:02.950699Z",
     "shell.execute_reply": "2022-11-07T11:09:02.950145Z",
     "shell.execute_reply.started": "2022-11-07T11:09:02.947015Z"
    },
    "tags": []
   },
   "outputs": [],
   "source": [
    "df.rename(columns={'Departments ': \"departments\" }, inplace=True)"
   ]
  },
  {
   "cell_type": "code",
   "execution_count": 7,
   "metadata": {
    "execution": {
     "iopub.execute_input": "2022-11-07T11:09:02.951493Z",
     "iopub.status.busy": "2022-11-07T11:09:02.951375Z",
     "iopub.status.idle": "2022-11-07T11:09:02.961425Z",
     "shell.execute_reply": "2022-11-07T11:09:02.960695Z",
     "shell.execute_reply.started": "2022-11-07T11:09:02.951477Z"
    }
   },
   "outputs": [
    {
     "data": {
      "text/html": [
       "<div>\n",
       "<style scoped>\n",
       "    .dataframe tbody tr th:only-of-type {\n",
       "        vertical-align: middle;\n",
       "    }\n",
       "\n",
       "    .dataframe tbody tr th {\n",
       "        vertical-align: top;\n",
       "    }\n",
       "\n",
       "    .dataframe thead th {\n",
       "        text-align: right;\n",
       "    }\n",
       "</style>\n",
       "<table border=\"1\" class=\"dataframe\">\n",
       "  <thead>\n",
       "    <tr style=\"text-align: right;\">\n",
       "      <th></th>\n",
       "      <th>satisfaction_level</th>\n",
       "      <th>last_evaluation</th>\n",
       "      <th>number_project</th>\n",
       "      <th>average_montly_hours</th>\n",
       "      <th>time_spend_company</th>\n",
       "      <th>Work_accident</th>\n",
       "      <th>left</th>\n",
       "      <th>promotion_last_5years</th>\n",
       "      <th>departments</th>\n",
       "      <th>salary</th>\n",
       "    </tr>\n",
       "  </thead>\n",
       "  <tbody>\n",
       "    <tr>\n",
       "      <th>0</th>\n",
       "      <td>0.380</td>\n",
       "      <td>0.530</td>\n",
       "      <td>2</td>\n",
       "      <td>157</td>\n",
       "      <td>3</td>\n",
       "      <td>0</td>\n",
       "      <td>1</td>\n",
       "      <td>0</td>\n",
       "      <td>sales</td>\n",
       "      <td>low</td>\n",
       "    </tr>\n",
       "    <tr>\n",
       "      <th>1</th>\n",
       "      <td>0.800</td>\n",
       "      <td>0.860</td>\n",
       "      <td>5</td>\n",
       "      <td>262</td>\n",
       "      <td>6</td>\n",
       "      <td>0</td>\n",
       "      <td>1</td>\n",
       "      <td>0</td>\n",
       "      <td>sales</td>\n",
       "      <td>medium</td>\n",
       "    </tr>\n",
       "    <tr>\n",
       "      <th>2</th>\n",
       "      <td>0.110</td>\n",
       "      <td>0.880</td>\n",
       "      <td>7</td>\n",
       "      <td>272</td>\n",
       "      <td>4</td>\n",
       "      <td>0</td>\n",
       "      <td>1</td>\n",
       "      <td>0</td>\n",
       "      <td>sales</td>\n",
       "      <td>medium</td>\n",
       "    </tr>\n",
       "    <tr>\n",
       "      <th>3</th>\n",
       "      <td>0.720</td>\n",
       "      <td>0.870</td>\n",
       "      <td>5</td>\n",
       "      <td>223</td>\n",
       "      <td>5</td>\n",
       "      <td>0</td>\n",
       "      <td>1</td>\n",
       "      <td>0</td>\n",
       "      <td>sales</td>\n",
       "      <td>low</td>\n",
       "    </tr>\n",
       "    <tr>\n",
       "      <th>4</th>\n",
       "      <td>0.370</td>\n",
       "      <td>0.520</td>\n",
       "      <td>2</td>\n",
       "      <td>159</td>\n",
       "      <td>3</td>\n",
       "      <td>0</td>\n",
       "      <td>1</td>\n",
       "      <td>0</td>\n",
       "      <td>sales</td>\n",
       "      <td>low</td>\n",
       "    </tr>\n",
       "  </tbody>\n",
       "</table>\n",
       "</div>"
      ],
      "text/plain": [
       "   satisfaction_level  last_evaluation  number_project  average_montly_hours  \\\n",
       "0               0.380            0.530               2                   157   \n",
       "1               0.800            0.860               5                   262   \n",
       "2               0.110            0.880               7                   272   \n",
       "3               0.720            0.870               5                   223   \n",
       "4               0.370            0.520               2                   159   \n",
       "\n",
       "   time_spend_company  Work_accident  left  promotion_last_5years departments  \\\n",
       "0                   3              0     1                      0       sales   \n",
       "1                   6              0     1                      0       sales   \n",
       "2                   4              0     1                      0       sales   \n",
       "3                   5              0     1                      0       sales   \n",
       "4                   3              0     1                      0       sales   \n",
       "\n",
       "   salary  \n",
       "0     low  \n",
       "1  medium  \n",
       "2  medium  \n",
       "3     low  \n",
       "4     low  "
      ]
     },
     "execution_count": 7,
     "metadata": {},
     "output_type": "execute_result"
    }
   ],
   "source": [
    "df.head()"
   ]
  },
  {
   "cell_type": "code",
   "execution_count": 8,
   "metadata": {
    "execution": {
     "iopub.execute_input": "2022-11-07T11:09:02.962488Z",
     "iopub.status.busy": "2022-11-07T11:09:02.962214Z",
     "iopub.status.idle": "2022-11-07T11:09:02.967022Z",
     "shell.execute_reply": "2022-11-07T11:09:02.966454Z",
     "shell.execute_reply.started": "2022-11-07T11:09:02.962472Z"
    }
   },
   "outputs": [],
   "source": [
    "from colorama import Fore, Back, Style\n",
    "\n",
    "def first_looking(col):\n",
    "    \"\"\"give only column name as \"col_name\" not as df[\"col_name\"]\"\"\"\n",
    "    print(Back.BLACK + Fore.YELLOW, \"Column name    : \", col, Style.RESET_ALL)\n",
    "    print(Fore.RED + \"--------------------------------\", Style.RESET_ALL)\n",
    "    print(\"per_of_nulls   : \", \"%\", round(df[col].isnull().sum()*100 / df.shape[0], 2))\n",
    "    print(\"num_of_nulls   : \", df[col].isnull().sum())\n",
    "    print(\"num_of_uniques : \", df[col].nunique())\n",
    "    print(Fore.RED + \"--------------------------------\", Style.RESET_ALL)\n",
    "    print(\"Value counts\")\n",
    "    print(df[col].value_counts(dropna = False))\n",
    "    print(Fore.RED + \"--------------------------------\", Style.RESET_ALL)\n",
    "    print(\"Descriptive statistics\")\n",
    "    print(df[col].describe())\n",
    "    print()\n",
    "    print()"
   ]
  },
  {
   "cell_type": "code",
   "execution_count": 9,
   "metadata": {
    "execution": {
     "iopub.execute_input": "2022-11-07T11:09:02.967669Z",
     "iopub.status.busy": "2022-11-07T11:09:02.967564Z",
     "iopub.status.idle": "2022-11-07T11:09:02.971174Z",
     "shell.execute_reply": "2022-11-07T11:09:02.970784Z",
     "shell.execute_reply.started": "2022-11-07T11:09:02.967655Z"
    }
   },
   "outputs": [
    {
     "data": {
      "text/plain": [
       "Index(['satisfaction_level', 'last_evaluation', 'number_project',\n",
       "       'average_montly_hours', 'time_spend_company', 'Work_accident', 'left',\n",
       "       'promotion_last_5years', 'departments', 'salary'],\n",
       "      dtype='object')"
      ]
     },
     "execution_count": 9,
     "metadata": {},
     "output_type": "execute_result"
    }
   ],
   "source": [
    "df.columns"
   ]
  },
  {
   "cell_type": "code",
   "execution_count": 10,
   "metadata": {
    "execution": {
     "iopub.execute_input": "2022-11-07T11:09:02.973469Z",
     "iopub.status.busy": "2022-11-07T11:09:02.973278Z",
     "iopub.status.idle": "2022-11-07T11:09:02.978073Z",
     "shell.execute_reply": "2022-11-07T11:09:02.977614Z",
     "shell.execute_reply.started": "2022-11-07T11:09:02.973453Z"
    },
    "tags": []
   },
   "outputs": [
    {
     "data": {
      "text/plain": [
       "array(['low', 'medium', 'high'], dtype=object)"
      ]
     },
     "execution_count": 10,
     "metadata": {},
     "output_type": "execute_result"
    }
   ],
   "source": [
    "df[\"salary\"].unique()"
   ]
  },
  {
   "cell_type": "code",
   "execution_count": 11,
   "metadata": {
    "execution": {
     "iopub.execute_input": "2022-11-07T11:09:02.978926Z",
     "iopub.status.busy": "2022-11-07T11:09:02.978803Z",
     "iopub.status.idle": "2022-11-07T11:09:03.019245Z",
     "shell.execute_reply": "2022-11-07T11:09:03.018706Z",
     "shell.execute_reply.started": "2022-11-07T11:09:02.978910Z"
    },
    "scrolled": true,
    "tags": []
   },
   "outputs": [
    {
     "name": "stdout",
     "output_type": "stream",
     "text": [
      "\u001b[40m\u001b[33m Column name    :  satisfaction_level \u001b[0m\n",
      "\u001b[31m-------------------------------- \u001b[0m\n",
      "per_of_nulls   :  % 0.0\n",
      "num_of_nulls   :  0\n",
      "num_of_uniques :  92\n",
      "\u001b[31m-------------------------------- \u001b[0m\n",
      "Value counts\n",
      "0.100    358\n",
      "0.110    335\n",
      "0.740    257\n",
      "0.770    252\n",
      "0.840    247\n",
      "0.730    246\n",
      "0.780    241\n",
      "0.370    241\n",
      "0.820    241\n",
      "0.890    237\n",
      "0.830    234\n",
      "0.760    234\n",
      "0.720    230\n",
      "0.500    229\n",
      "0.660    228\n",
      "0.750    226\n",
      "0.870    225\n",
      "0.910    224\n",
      "0.430    224\n",
      "0.800    222\n",
      "0.810    220\n",
      "0.900    220\n",
      "0.590    219\n",
      "0.790    217\n",
      "0.440    211\n",
      "0.570    210\n",
      "0.400    209\n",
      "0.630    209\n",
      "0.490    209\n",
      "0.690    209\n",
      "0.610    208\n",
      "0.850    207\n",
      "0.700    205\n",
      "0.450    203\n",
      "0.960    203\n",
      "0.860    200\n",
      "0.650    199\n",
      "0.920    198\n",
      "0.520    196\n",
      "0.090    195\n",
      "0.600    193\n",
      "0.380    189\n",
      "0.620    188\n",
      "0.510    187\n",
      "0.880    187\n",
      "0.640    187\n",
      "0.560    187\n",
      "0.540    185\n",
      "0.980    183\n",
      "0.580    182\n",
      "0.950    181\n",
      "0.550    179\n",
      "0.530    179\n",
      "0.670    177\n",
      "0.970    176\n",
      "0.390    175\n",
      "0.990    172\n",
      "0.710    171\n",
      "0.410    171\n",
      "0.930    169\n",
      "0.940    167\n",
      "0.680    162\n",
      "0.420    155\n",
      "0.480    149\n",
      "0.360    139\n",
      "1.000    111\n",
      "0.460     95\n",
      "0.240     80\n",
      "0.160     79\n",
      "0.150     76\n",
      "0.190     74\n",
      "0.140     73\n",
      "0.170     72\n",
      "0.200     69\n",
      "0.210     67\n",
      "0.180     63\n",
      "0.220     60\n",
      "0.310     59\n",
      "0.230     54\n",
      "0.130     54\n",
      "0.320     50\n",
      "0.340     48\n",
      "0.470     42\n",
      "0.300     39\n",
      "0.290     38\n",
      "0.350     37\n",
      "0.330     36\n",
      "0.250     34\n",
      "0.280     31\n",
      "0.270     30\n",
      "0.260     30\n",
      "0.120     30\n",
      "Name: satisfaction_level, dtype: int64\n",
      "\u001b[31m-------------------------------- \u001b[0m\n",
      "Descriptive statistics\n",
      "count   14999.000\n",
      "mean        0.613\n",
      "std         0.249\n",
      "min         0.090\n",
      "25%         0.440\n",
      "50%         0.640\n",
      "75%         0.820\n",
      "max         1.000\n",
      "Name: satisfaction_level, dtype: float64\n",
      "\n",
      "\n",
      "\u001b[40m\u001b[33m Column name    :  last_evaluation \u001b[0m\n",
      "\u001b[31m-------------------------------- \u001b[0m\n",
      "per_of_nulls   :  % 0.0\n",
      "num_of_nulls   :  0\n",
      "num_of_uniques :  65\n",
      "\u001b[31m-------------------------------- \u001b[0m\n",
      "Value counts\n",
      "0.550    358\n",
      "0.500    353\n",
      "0.540    350\n",
      "0.510    345\n",
      "0.570    333\n",
      "0.490    332\n",
      "0.870    326\n",
      "0.530    324\n",
      "0.560    322\n",
      "0.850    316\n",
      "0.900    313\n",
      "0.520    309\n",
      "0.890    296\n",
      "0.840    294\n",
      "0.480    292\n",
      "0.910    287\n",
      "1.000    283\n",
      "0.970    276\n",
      "0.860    273\n",
      "0.930    269\n",
      "0.830    269\n",
      "0.920    269\n",
      "0.940    263\n",
      "0.980    263\n",
      "0.770    263\n",
      "0.740    260\n",
      "0.950    258\n",
      "0.990    258\n",
      "0.810    255\n",
      "0.590    255\n",
      "0.800    251\n",
      "0.960    249\n",
      "0.670    245\n",
      "0.790    241\n",
      "0.750    238\n",
      "0.820    237\n",
      "0.630    236\n",
      "0.640    235\n",
      "0.880    235\n",
      "0.610    234\n",
      "0.620    233\n",
      "0.580    225\n",
      "0.730    223\n",
      "0.680    222\n",
      "0.660    222\n",
      "0.600    221\n",
      "0.760    216\n",
      "0.780    214\n",
      "0.700    213\n",
      "0.460    211\n",
      "0.720    211\n",
      "0.650    201\n",
      "0.710    196\n",
      "0.690    193\n",
      "0.470    173\n",
      "0.450    115\n",
      "0.410     59\n",
      "0.400     57\n",
      "0.420     56\n",
      "0.370     55\n",
      "0.390     52\n",
      "0.430     50\n",
      "0.380     50\n",
      "0.440     44\n",
      "0.360     22\n",
      "Name: last_evaluation, dtype: int64\n",
      "\u001b[31m-------------------------------- \u001b[0m\n",
      "Descriptive statistics\n",
      "count   14999.000\n",
      "mean        0.716\n",
      "std         0.171\n",
      "min         0.360\n",
      "25%         0.560\n",
      "50%         0.720\n",
      "75%         0.870\n",
      "max         1.000\n",
      "Name: last_evaluation, dtype: float64\n",
      "\n",
      "\n",
      "\u001b[40m\u001b[33m Column name    :  number_project \u001b[0m\n",
      "\u001b[31m-------------------------------- \u001b[0m\n",
      "per_of_nulls   :  % 0.0\n",
      "num_of_nulls   :  0\n",
      "num_of_uniques :  6\n",
      "\u001b[31m-------------------------------- \u001b[0m\n",
      "Value counts\n",
      "4    4365\n",
      "3    4055\n",
      "5    2761\n",
      "2    2388\n",
      "6    1174\n",
      "7     256\n",
      "Name: number_project, dtype: int64\n",
      "\u001b[31m-------------------------------- \u001b[0m\n",
      "Descriptive statistics\n",
      "count   14999.000\n",
      "mean        3.803\n",
      "std         1.233\n",
      "min         2.000\n",
      "25%         3.000\n",
      "50%         4.000\n",
      "75%         5.000\n",
      "max         7.000\n",
      "Name: number_project, dtype: float64\n",
      "\n",
      "\n",
      "\u001b[40m\u001b[33m Column name    :  average_montly_hours \u001b[0m\n",
      "\u001b[31m-------------------------------- \u001b[0m\n",
      "per_of_nulls   :  % 0.0\n",
      "num_of_nulls   :  0\n",
      "num_of_uniques :  215\n",
      "\u001b[31m-------------------------------- \u001b[0m\n",
      "Value counts\n",
      "135    153\n",
      "156    153\n",
      "149    148\n",
      "151    147\n",
      "160    136\n",
      "145    134\n",
      "140    129\n",
      "143    127\n",
      "157    126\n",
      "257    126\n",
      "155    125\n",
      "260    124\n",
      "245    124\n",
      "158    124\n",
      "148    123\n",
      "137    122\n",
      "153    122\n",
      "154    121\n",
      "159    121\n",
      "139    120\n",
      "147    118\n",
      "141    115\n",
      "255    115\n",
      "134    114\n",
      "254    113\n",
      "243    112\n",
      "224    112\n",
      "152    112\n",
      "142    112\n",
      "264    111\n",
      "146    110\n",
      "258    110\n",
      "263    110\n",
      "150    108\n",
      "238    108\n",
      "247    108\n",
      "266    105\n",
      "136    104\n",
      "271    104\n",
      "144    102\n",
      "269    102\n",
      "246    102\n",
      "233    102\n",
      "261    102\n",
      "253    101\n",
      "132    100\n",
      "250    100\n",
      "244     98\n",
      "242     98\n",
      "251     98\n",
      "259     98\n",
      "232     97\n",
      "239     96\n",
      "192     96\n",
      "162     96\n",
      "173     96\n",
      "225     95\n",
      "274     94\n",
      "167     94\n",
      "268     93\n",
      "229     93\n",
      "185     93\n",
      "240     93\n",
      "270     93\n",
      "226     93\n",
      "223     93\n",
      "249     93\n",
      "168     92\n",
      "265     91\n",
      "237     90\n",
      "273     88\n",
      "138     88\n",
      "267     88\n",
      "180     88\n",
      "161     87\n",
      "256     87\n",
      "217     87\n",
      "133     87\n",
      "262     86\n",
      "198     86\n",
      "252     86\n",
      "201     86\n",
      "272     86\n",
      "169     86\n",
      "248     86\n",
      "178     85\n",
      "241     85\n",
      "219     85\n",
      "189     85\n",
      "183     84\n",
      "222     84\n",
      "171     83\n",
      "236     83\n",
      "206     83\n",
      "275     82\n",
      "221     81\n",
      "177     81\n",
      "176     81\n",
      "184     80\n",
      "191     80\n",
      "202     80\n",
      "211     79\n",
      "196     79\n",
      "218     79\n",
      "199     79\n",
      "164     78\n",
      "181     78\n",
      "174     78\n",
      "214     78\n",
      "165     78\n",
      "227     77\n",
      "231     77\n",
      "170     76\n",
      "186     76\n",
      "175     76\n",
      "216     76\n",
      "235     76\n",
      "228     76\n",
      "190     75\n",
      "182     75\n",
      "234     74\n",
      "205     73\n",
      "188     73\n",
      "166     73\n",
      "163     73\n",
      "179     73\n",
      "212     72\n",
      "210     72\n",
      "203     72\n",
      "127     72\n",
      "209     72\n",
      "208     72\n",
      "207     71\n",
      "194     71\n",
      "213     71\n",
      "172     70\n",
      "197     70\n",
      "131     69\n",
      "204     68\n",
      "215     68\n",
      "187     68\n",
      "193     67\n",
      "195     67\n",
      "128     65\n",
      "220     64\n",
      "129     63\n",
      "130     59\n",
      "230     59\n",
      "200     58\n",
      "286     50\n",
      "282     36\n",
      "278     35\n",
      "281     34\n",
      "285     33\n",
      "279     32\n",
      "287     30\n",
      "276     30\n",
      "280     29\n",
      "113     29\n",
      "104     28\n",
      "111     26\n",
      "126     25\n",
      "283     25\n",
      "121     24\n",
      "301     24\n",
      "284     24\n",
      "98      23\n",
      "296     21\n",
      "277     21\n",
      "123     20\n",
      "308     20\n",
      "106     19\n",
      "100     19\n",
      "289     19\n",
      "125     19\n",
      "108     18\n",
      "117     18\n",
      "109     18\n",
      "310     18\n",
      "305     18\n",
      "306     18\n",
      "102     17\n",
      "105     17\n",
      "304     17\n",
      "103     17\n",
      "291     17\n",
      "294     16\n",
      "101     16\n",
      "309     16\n",
      "292     15\n",
      "114     15\n",
      "290     15\n",
      "307     14\n",
      "115     14\n",
      "97      14\n",
      "124     13\n",
      "298     13\n",
      "293     13\n",
      "110     12\n",
      "295     12\n",
      "118     12\n",
      "300     11\n",
      "99      11\n",
      "122     11\n",
      "112     10\n",
      "107     10\n",
      "120     10\n",
      "116     10\n",
      "119     10\n",
      "302      8\n",
      "297      7\n",
      "288      6\n",
      "299      6\n",
      "96       6\n",
      "303      6\n",
      "Name: average_montly_hours, dtype: int64\n",
      "\u001b[31m-------------------------------- \u001b[0m\n",
      "Descriptive statistics\n",
      "count   14999.000\n",
      "mean      201.050\n",
      "std        49.943\n",
      "min        96.000\n",
      "25%       156.000\n",
      "50%       200.000\n",
      "75%       245.000\n",
      "max       310.000\n",
      "Name: average_montly_hours, dtype: float64\n",
      "\n",
      "\n",
      "\u001b[40m\u001b[33m Column name    :  time_spend_company \u001b[0m\n",
      "\u001b[31m-------------------------------- \u001b[0m\n",
      "per_of_nulls   :  % 0.0\n",
      "num_of_nulls   :  0\n",
      "num_of_uniques :  8\n",
      "\u001b[31m-------------------------------- \u001b[0m\n",
      "Value counts\n",
      "3     6443\n",
      "2     3244\n",
      "4     2557\n",
      "5     1473\n",
      "6      718\n",
      "10     214\n",
      "7      188\n",
      "8      162\n",
      "Name: time_spend_company, dtype: int64\n",
      "\u001b[31m-------------------------------- \u001b[0m\n",
      "Descriptive statistics\n",
      "count   14999.000\n",
      "mean        3.498\n",
      "std         1.460\n",
      "min         2.000\n",
      "25%         3.000\n",
      "50%         3.000\n",
      "75%         4.000\n",
      "max        10.000\n",
      "Name: time_spend_company, dtype: float64\n",
      "\n",
      "\n",
      "\u001b[40m\u001b[33m Column name    :  Work_accident \u001b[0m\n",
      "\u001b[31m-------------------------------- \u001b[0m\n",
      "per_of_nulls   :  % 0.0\n",
      "num_of_nulls   :  0\n",
      "num_of_uniques :  2\n",
      "\u001b[31m-------------------------------- \u001b[0m\n",
      "Value counts\n",
      "0    12830\n",
      "1     2169\n",
      "Name: Work_accident, dtype: int64\n",
      "\u001b[31m-------------------------------- \u001b[0m\n",
      "Descriptive statistics\n",
      "count   14999.000\n",
      "mean        0.145\n",
      "std         0.352\n",
      "min         0.000\n",
      "25%         0.000\n",
      "50%         0.000\n",
      "75%         0.000\n",
      "max         1.000\n",
      "Name: Work_accident, dtype: float64\n",
      "\n",
      "\n",
      "\u001b[40m\u001b[33m Column name    :  left \u001b[0m\n",
      "\u001b[31m-------------------------------- \u001b[0m\n",
      "per_of_nulls   :  % 0.0\n",
      "num_of_nulls   :  0\n",
      "num_of_uniques :  2\n",
      "\u001b[31m-------------------------------- \u001b[0m\n",
      "Value counts\n",
      "0    11428\n",
      "1     3571\n",
      "Name: left, dtype: int64\n",
      "\u001b[31m-------------------------------- \u001b[0m\n",
      "Descriptive statistics\n",
      "count   14999.000\n",
      "mean        0.238\n",
      "std         0.426\n",
      "min         0.000\n",
      "25%         0.000\n",
      "50%         0.000\n",
      "75%         0.000\n",
      "max         1.000\n",
      "Name: left, dtype: float64\n",
      "\n",
      "\n",
      "\u001b[40m\u001b[33m Column name    :  promotion_last_5years \u001b[0m\n",
      "\u001b[31m-------------------------------- \u001b[0m\n",
      "per_of_nulls   :  % 0.0\n",
      "num_of_nulls   :  0\n",
      "num_of_uniques :  2\n",
      "\u001b[31m-------------------------------- \u001b[0m\n",
      "Value counts\n",
      "0    14680\n",
      "1      319\n",
      "Name: promotion_last_5years, dtype: int64\n",
      "\u001b[31m-------------------------------- \u001b[0m\n",
      "Descriptive statistics\n",
      "count   14999.000\n",
      "mean        0.021\n",
      "std         0.144\n",
      "min         0.000\n",
      "25%         0.000\n",
      "50%         0.000\n",
      "75%         0.000\n",
      "max         1.000\n",
      "Name: promotion_last_5years, dtype: float64\n",
      "\n",
      "\n",
      "\u001b[40m\u001b[33m Column name    :  departments \u001b[0m\n",
      "\u001b[31m-------------------------------- \u001b[0m\n",
      "per_of_nulls   :  % 0.0\n",
      "num_of_nulls   :  0\n",
      "num_of_uniques :  10\n",
      "\u001b[31m-------------------------------- \u001b[0m\n",
      "Value counts\n",
      "sales          4140\n",
      "technical      2720\n",
      "support        2229\n",
      "IT             1227\n",
      "product_mng     902\n",
      "marketing       858\n",
      "RandD           787\n",
      "accounting      767\n",
      "hr              739\n",
      "management      630\n",
      "Name: departments, dtype: int64\n",
      "\u001b[31m-------------------------------- \u001b[0m\n",
      "Descriptive statistics\n",
      "count     14999\n",
      "unique       10\n",
      "top       sales\n",
      "freq       4140\n",
      "Name: departments, dtype: object\n",
      "\n",
      "\n",
      "\u001b[40m\u001b[33m Column name    :  salary \u001b[0m\n",
      "\u001b[31m-------------------------------- \u001b[0m\n",
      "per_of_nulls   :  % 0.0\n",
      "num_of_nulls   :  0\n",
      "num_of_uniques :  3\n",
      "\u001b[31m-------------------------------- \u001b[0m\n",
      "Value counts\n",
      "low       7316\n",
      "medium    6446\n",
      "high      1237\n",
      "Name: salary, dtype: int64\n",
      "\u001b[31m-------------------------------- \u001b[0m\n",
      "Descriptive statistics\n",
      "count     14999\n",
      "unique        3\n",
      "top         low\n",
      "freq       7316\n",
      "Name: salary, dtype: object\n",
      "\n",
      "\n"
     ]
    }
   ],
   "source": [
    "for col in df.columns:\n",
    "    first_looking(col)"
   ]
  },
  {
   "cell_type": "markdown",
   "metadata": {
    "id": "0PsO9Iew2smG"
   },
   "source": [
    "## 2. Data Visualization\n",
    "\n",
    "You can search for answers to the following questions using data visualization methods. Based on these responses, you can develop comments about the factors that cause churn.\n",
    "- How does the promotion status affect employee churn?\n",
    "- How does years of experience affect employee churn?\n",
    "- How does workload affect employee churn?\n",
    "- How does the salary level affect employee churn?\n",
    "\n",
    "*Feel free to add more visualization"
   ]
  },
  {
   "cell_type": "code",
   "execution_count": 12,
   "metadata": {
    "execution": {
     "iopub.execute_input": "2022-11-07T11:09:03.019989Z",
     "iopub.status.busy": "2022-11-07T11:09:03.019871Z",
     "iopub.status.idle": "2022-11-07T11:09:03.024292Z",
     "shell.execute_reply": "2022-11-07T11:09:03.023796Z",
     "shell.execute_reply.started": "2022-11-07T11:09:03.019973Z"
    }
   },
   "outputs": [
    {
     "data": {
      "text/plain": [
       "Index(['satisfaction_level', 'last_evaluation', 'number_project',\n",
       "       'average_montly_hours', 'time_spend_company', 'Work_accident', 'left',\n",
       "       'promotion_last_5years', 'departments', 'salary'],\n",
       "      dtype='object')"
      ]
     },
     "execution_count": 12,
     "metadata": {},
     "output_type": "execute_result"
    }
   ],
   "source": [
    "df.columns"
   ]
  },
  {
   "cell_type": "code",
   "execution_count": null,
   "metadata": {},
   "outputs": [],
   "source": []
  },
  {
   "cell_type": "markdown",
   "metadata": {
    "id": "qRQhFwtq2smI"
   },
   "source": [
    "### Employees Left\n",
    "\n",
    "Let's check how many employees were left?\n",
    "Here, you can plot a bar graph using Matplotlib. The bar graph is suitable for showing discrete variable counts."
   ]
  },
  {
   "cell_type": "code",
   "execution_count": 13,
   "metadata": {
    "execution": {
     "iopub.execute_input": "2022-11-07T11:09:03.024958Z",
     "iopub.status.busy": "2022-11-07T11:09:03.024856Z",
     "iopub.status.idle": "2022-11-07T11:09:03.109702Z",
     "shell.execute_reply": "2022-11-07T11:09:03.108951Z",
     "shell.execute_reply.started": "2022-11-07T11:09:03.024945Z"
    },
    "tags": []
   },
   "outputs": [
    {
     "data": {
      "image/png": "[encoded data removed]",
      "text/plain": [
       "<Figure size 400x400 with 1 Axes>"
      ]
     },
     "metadata": {},
     "output_type": "display_data"
    }
   ],
   "source": [
    "plt.figure(figsize=(4,4))\n",
    "plt.pie(df.left.value_counts(normalize=True), labels=[\"on the job\", \"left the job\"],shadow=True, explode=(0, 0.1), autopct='%.0f%%')\n",
    "plt.show;"
   ]
  },
  {
   "cell_type": "markdown",
   "metadata": {
    "id": "Vn6NHSZE2smY"
   },
   "source": [
    "### Number of Projects\n",
    "\n",
    "Similarly, you can also plot a bar graph to count the number of employees deployed on how many projects?"
   ]
  },
  {
   "cell_type": "markdown",
   "metadata": {
    "id": "VEbtBv3q2smq"
   },
   "source": [
    "### Subplots of Features\n",
    "\n",
    "You can use the methods of the matplotlib."
   ]
  },
  {
   "cell_type": "code",
   "execution_count": 14,
   "metadata": {
    "execution": {
     "iopub.execute_input": "2022-11-07T11:09:03.111541Z",
     "iopub.status.busy": "2022-11-07T11:09:03.111202Z",
     "iopub.status.idle": "2022-11-07T11:09:04.232881Z",
     "shell.execute_reply": "2022-11-07T11:09:04.232413Z",
     "shell.execute_reply.started": "2022-11-07T11:09:03.111505Z"
    },
    "tags": []
   },
   "outputs": [
    {
     "data": {
      "image/png": "[encoded data removed]",
      "text/plain": [
       "<Figure size 1400x800 with 5 Axes>"
      ]
     },
     "metadata": {},
     "output_type": "display_data"
    }
   ],
   "source": [
    "df_num = df.select_dtypes(\"number\").drop(columns=[\"Work_accident\", \"promotion_last_5years\" ])\n",
    "\n",
    "\n",
    "plt.figure(figsize=(14,8))\n",
    "i =1\n",
    "\n",
    "for col in df_num.drop(columns = \"left\").columns:\n",
    "    plt.subplot(2,3,i)\n",
    "    ax = sns.barplot(data=df_num, x=\"left\", y=col)\n",
    "    ax.bar_label(ax.containers[0], fmt=\"mean    %.2f\")\n",
    "    i +=1;\n",
    "    \n",
    "plt.subplots_adjust(top=0.93, wspace=0.4, hspace=0.4)"
   ]
  },
  {
   "cell_type": "code",
   "execution_count": 15,
   "metadata": {
    "execution": {
     "iopub.execute_input": "2022-11-07T11:09:04.233697Z",
     "iopub.status.busy": "2022-11-07T11:09:04.233546Z",
     "iopub.status.idle": "2022-11-07T11:09:04.423398Z",
     "shell.execute_reply": "2022-11-07T11:09:04.422952Z",
     "shell.execute_reply.started": "2022-11-07T11:09:04.233683Z"
    },
    "tags": []
   },
   "outputs": [
    {
     "data": {
      "image/png": "[encoded data removed]",
      "text/plain": [
       "<Figure size 1000x400 with 2 Axes>"
      ]
     },
     "metadata": {},
     "output_type": "display_data"
    }
   ],
   "source": [
    "plt.figure(figsize=(10,4))\n",
    "\n",
    "plt.subplot(121)\n",
    "ax = sns.countplot(data=df, hue='left', x='promotion_last_5years');\n",
    "for p in ax.containers:\n",
    "    ax.bar_label(p)\n",
    "    \n",
    "df_per = df.groupby(\"promotion_last_5years\")[[\"left\"]].value_counts(normalize=True).reset_index().sort_values(by=0)\n",
    "\n",
    "plt.subplot(122)\n",
    "ax = sns.barplot(data=df_per, x=\"promotion_last_5years\", y=0, hue=\"left\",\n",
    "                 order=(df.promotion_last_5years.value_counts().index)\n",
    "                )\n",
    "ax.set(ylabel='percentage')\n",
    "\n",
    "for p in ax.containers:\n",
    "    ax.bar_label(p, fmt='%.2f')"
   ]
  },
  {
   "cell_type": "code",
   "execution_count": 16,
   "metadata": {
    "execution": {
     "iopub.execute_input": "2022-11-07T11:09:04.424195Z",
     "iopub.status.busy": "2022-11-07T11:09:04.424087Z",
     "iopub.status.idle": "2022-11-07T11:09:04.713404Z",
     "shell.execute_reply": "2022-11-07T11:09:04.712923Z",
     "shell.execute_reply.started": "2022-11-07T11:09:04.424180Z"
    },
    "tags": []
   },
   "outputs": [
    {
     "data": {
      "image/png": "[encoded data removed]",
      "text/plain": [
       "<Figure size 1000x400 with 2 Axes>"
      ]
     },
     "metadata": {},
     "output_type": "display_data"
    }
   ],
   "source": [
    "plt.figure(figsize=(10,4))\n",
    "plt.subplot(121)\n",
    "ax = sns.countplot(data=df, x='Work_accident', hue='left');\n",
    "for p in ax.containers:\n",
    "    ax.bar_label(p)\n",
    "    \n",
    "plt.subplot(122)\n",
    "\n",
    "df_per = df.groupby(\"Work_accident\")[[\"left\"]].value_counts(normalize=True).reset_index().sort_values(by=0)\n",
    "\n",
    "ax = sns.barplot(data=df_per, order=(df.Work_accident.value_counts().index), \n",
    "                hue=\"left\", y=0, x=\"Work_accident\")\n",
    "ax.set(ylabel='percentage')\n",
    "\n",
    "for p in ax.containers:\n",
    "    ax.bar_label(p, fmt='%.2f')"
   ]
  },
  {
   "cell_type": "code",
   "execution_count": 17,
   "metadata": {
    "execution": {
     "iopub.execute_input": "2022-11-07T11:09:04.714277Z",
     "iopub.status.busy": "2022-11-07T11:09:04.714129Z",
     "iopub.status.idle": "2022-11-07T11:09:04.933496Z",
     "shell.execute_reply": "2022-11-07T11:09:04.933003Z",
     "shell.execute_reply.started": "2022-11-07T11:09:04.714263Z"
    },
    "tags": []
   },
   "outputs": [
    {
     "data": {
      "image/png": "[encoded data removed]",
      "text/plain": [
       "<Figure size 1200x400 with 2 Axes>"
      ]
     },
     "metadata": {},
     "output_type": "display_data"
    }
   ],
   "source": [
    "plt.figure(figsize=(12,4))\n",
    "plt.subplot(121)\n",
    "ax = sns.countplot(data=df, hue='left', x='salary');\n",
    "for p in ax.containers:\n",
    "    ax.bar_label(p)\n",
    "    \n",
    "plt.subplot(122)\n",
    "\n",
    "df_per = df.groupby(\"salary\")[[\"left\"]].value_counts(normalize=True).reset_index().sort_values(by=0)\n",
    "\n",
    "ax = sns.barplot(data=df_per, order=(df.salary.value_counts().index), \n",
    "                x=\"salary\", y=0, hue=\"left\")\n",
    "ax.set(ylabel='percentage')\n",
    "\n",
    "for p in ax.containers:\n",
    "    ax.bar_label(p, fmt='%.2f')"
   ]
  },
  {
   "cell_type": "code",
   "execution_count": 18,
   "metadata": {
    "execution": {
     "iopub.execute_input": "2022-11-07T11:09:04.934373Z",
     "iopub.status.busy": "2022-11-07T11:09:04.934188Z",
     "iopub.status.idle": "2022-11-07T11:09:04.940157Z",
     "shell.execute_reply": "2022-11-07T11:09:04.939462Z",
     "shell.execute_reply.started": "2022-11-07T11:09:04.934358Z"
    },
    "tags": []
   },
   "outputs": [
    {
     "data": {
      "text/plain": [
       "sales          4140\n",
       "technical      2720\n",
       "support        2229\n",
       "IT             1227\n",
       "product_mng     902\n",
       "marketing       858\n",
       "RandD           787\n",
       "accounting      767\n",
       "hr              739\n",
       "management      630\n",
       "Name: departments, dtype: int64"
      ]
     },
     "execution_count": 18,
     "metadata": {},
     "output_type": "execute_result"
    }
   ],
   "source": [
    "df.departments.value_counts()\n",
    "#.index"
   ]
  },
  {
   "cell_type": "code",
   "execution_count": 19,
   "metadata": {
    "execution": {
     "iopub.execute_input": "2022-11-07T11:09:04.941345Z",
     "iopub.status.busy": "2022-11-07T11:09:04.941134Z",
     "iopub.status.idle": "2022-11-07T11:09:05.405054Z",
     "shell.execute_reply": "2022-11-07T11:09:05.404569Z",
     "shell.execute_reply.started": "2022-11-07T11:09:04.941325Z"
    },
    "tags": []
   },
   "outputs": [
    {
     "data": {
      "image/png": "[encoded data removed]",
      "text/plain": [
       "<Figure size 1600x800 with 2 Axes>"
      ]
     },
     "metadata": {},
     "output_type": "display_data"
    }
   ],
   "source": [
    "plt.figure(figsize=(16,8))\n",
    "\n",
    "plt.subplot(121)\n",
    "ax = sns.countplot(data=df, x='departments', hue='left',\n",
    "                   order=(df.departments.value_counts().index));\n",
    "plt.xticks(rotation=45)\n",
    "for p in ax.containers:\n",
    "    ax.bar_label(p)\n",
    "\n",
    "    \n",
    "df_per = df.groupby(\"departments\")[[\"left\"]].value_counts(normalize=True).reset_index().sort_values(by=0)\n",
    "\n",
    "plt.subplot(122)\n",
    "ax = sns.barplot(data=df_per, x=\"departments\", y=0, hue=\"left\",\n",
    "                                    order=(df.departments.value_counts().index))\n",
    "plt.xticks(rotation=45)\n",
    "ax.set(ylabel='percentage')\n",
    "for p in ax.containers:\n",
    "    ax.bar_label(p, fmt='%.2f')\n",
    "\n"
   ]
  },
  {
   "cell_type": "code",
   "execution_count": 20,
   "metadata": {
    "execution": {
     "iopub.execute_input": "2022-11-07T11:09:05.405997Z",
     "iopub.status.busy": "2022-11-07T11:09:05.405817Z",
     "iopub.status.idle": "2022-11-07T11:09:05.579627Z",
     "shell.execute_reply": "2022-11-07T11:09:05.579283Z",
     "shell.execute_reply.started": "2022-11-07T11:09:05.405974Z"
    },
    "tags": []
   },
   "outputs": [
    {
     "data": {
      "text/plain": [
       "Text(0.5, 1.0, 'Correlation Matrix')"
      ]
     },
     "execution_count": 20,
     "metadata": {},
     "output_type": "execute_result"
    },
    {
     "data": {
      "image/png": "[encoded data removed]",
      "text/plain": [
       "<Figure size 500x400 with 2 Axes>"
      ]
     },
     "metadata": {},
     "output_type": "display_data"
    }
   ],
   "source": [
    "plt.figure(figsize=(5,4))\n",
    "sns.heatmap(df_num.drop(columns=\"left\").corr(),annot=True, cmap='viridis')\n",
    "plt.title(\"Correlation Matrix\")"
   ]
  },
  {
   "cell_type": "markdown",
   "metadata": {
    "id": "WpmbaABr2snN"
   },
   "source": [
    "## 3. Model Building"
   ]
  },
  {
   "cell_type": "markdown",
   "metadata": {
    "id": "pYsKmaZd2snO"
   },
   "source": [
    "### Split Data as Train and Test Set"
   ]
  },
  {
   "cell_type": "markdown",
   "metadata": {
    "id": "VAiUMdtI2snk"
   },
   "source": [
    "#### Evaluating Model Performance and Tuning"
   ]
  },
  {
   "cell_type": "markdown",
   "metadata": {
    "id": "92xg3rvR2snl"
   },
   "source": [
    "- Confusion Matrix : You can use scikit-learn metrics module for accuracy calculation. A Confusion matrix is an N x N matrix used for evaluating the performance of a classification model, where N is the number of target classes. The matrix compares the actual target values with those predicted by the machine learning model. This gives us a holistic view of how well our classification model is performing and what kinds of errors it is making.\n",
    "\n",
    "    [Confusion Matrix](https://www.analyticsvidhya.com/blog/2020/04/confusion-matrix-machine-learning/)"
   ]
  },
  {
   "cell_type": "markdown",
   "metadata": {
    "id": "S9VeChm62snm"
   },
   "source": [
    "- Yellowbrick: Yellowbrick is a suite of visualization and diagnostic tools that will enable quicker model selection. It’s a Python package that combines scikit-learn and matplotlib. Some of the more popular visualization tools include model selection, feature visualization, classification and regression visualization\n",
    "\n",
    "    [Yellowbrick](https://www.analyticsvidhya.com/blog/2018/05/yellowbrick-a-set-of-visualization-tools-to-accelerate-your-model-selection-process/)"
   ]
  },
  {
   "cell_type": "markdown",
   "metadata": {
    "id": "PfMy1D_p2soK"
   },
   "source": [
    "### #Random Forest Classifier"
   ]
  },
  {
   "cell_type": "markdown",
   "metadata": {
    "id": "QPakx2ON2sn3"
   },
   "source": [
    "#### Model Building"
   ]
  },
  {
   "cell_type": "code",
   "execution_count": 21,
   "metadata": {
    "execution": {
     "iopub.execute_input": "2022-11-07T11:09:05.580511Z",
     "iopub.status.busy": "2022-11-07T11:09:05.580336Z",
     "iopub.status.idle": "2022-11-07T11:09:05.584146Z",
     "shell.execute_reply": "2022-11-07T11:09:05.583670Z",
     "shell.execute_reply.started": "2022-11-07T11:09:05.580487Z"
    },
    "id": "HkNI16f72sn4"
   },
   "outputs": [],
   "source": [
    "X = df.drop(columns=\"left\")\n",
    "y = df['left']"
   ]
  },
  {
   "cell_type": "code",
   "execution_count": 22,
   "metadata": {
    "execution": {
     "iopub.execute_input": "2022-11-07T11:09:05.584828Z",
     "iopub.status.busy": "2022-11-07T11:09:05.584724Z",
     "iopub.status.idle": "2022-11-07T11:09:05.591894Z",
     "shell.execute_reply": "2022-11-07T11:09:05.591427Z",
     "shell.execute_reply.started": "2022-11-07T11:09:05.584815Z"
    }
   },
   "outputs": [],
   "source": [
    "from sklearn.model_selection import train_test_split"
   ]
  },
  {
   "cell_type": "code",
   "execution_count": 23,
   "metadata": {
    "execution": {
     "iopub.execute_input": "2022-11-07T11:09:05.592634Z",
     "iopub.status.busy": "2022-11-07T11:09:05.592529Z",
     "iopub.status.idle": "2022-11-07T11:09:05.597248Z",
     "shell.execute_reply": "2022-11-07T11:09:05.596719Z",
     "shell.execute_reply.started": "2022-11-07T11:09:05.592620Z"
    }
   },
   "outputs": [],
   "source": [
    "X_train, X_test, y_train, y_test = train_test_split(X, y, test_size=0.2, random_state=101)"
   ]
  },
  {
   "cell_type": "code",
   "execution_count": 24,
   "metadata": {
    "execution": {
     "iopub.execute_input": "2022-11-07T11:09:05.598059Z",
     "iopub.status.busy": "2022-11-07T11:09:05.597911Z",
     "iopub.status.idle": "2022-11-07T11:09:05.611497Z",
     "shell.execute_reply": "2022-11-07T11:09:05.610900Z",
     "shell.execute_reply.started": "2022-11-07T11:09:05.598044Z"
    },
    "tags": []
   },
   "outputs": [
    {
     "data": {
      "text/html": [
       "<div>\n",
       "<style scoped>\n",
       "    .dataframe tbody tr th:only-of-type {\n",
       "        vertical-align: middle;\n",
       "    }\n",
       "\n",
       "    .dataframe tbody tr th {\n",
       "        vertical-align: top;\n",
       "    }\n",
       "\n",
       "    .dataframe thead th {\n",
       "        text-align: right;\n",
       "    }\n",
       "</style>\n",
       "<table border=\"1\" class=\"dataframe\">\n",
       "  <thead>\n",
       "    <tr style=\"text-align: right;\">\n",
       "      <th></th>\n",
       "      <th>satisfaction_level</th>\n",
       "      <th>last_evaluation</th>\n",
       "      <th>number_project</th>\n",
       "      <th>average_montly_hours</th>\n",
       "      <th>time_spend_company</th>\n",
       "      <th>Work_accident</th>\n",
       "      <th>promotion_last_5years</th>\n",
       "      <th>departments</th>\n",
       "      <th>salary</th>\n",
       "    </tr>\n",
       "  </thead>\n",
       "  <tbody>\n",
       "    <tr>\n",
       "      <th>5362</th>\n",
       "      <td>0.420</td>\n",
       "      <td>0.470</td>\n",
       "      <td>4</td>\n",
       "      <td>146</td>\n",
       "      <td>3</td>\n",
       "      <td>1</td>\n",
       "      <td>0</td>\n",
       "      <td>sales</td>\n",
       "      <td>medium</td>\n",
       "    </tr>\n",
       "    <tr>\n",
       "      <th>1257</th>\n",
       "      <td>0.880</td>\n",
       "      <td>0.920</td>\n",
       "      <td>4</td>\n",
       "      <td>233</td>\n",
       "      <td>6</td>\n",
       "      <td>0</td>\n",
       "      <td>0</td>\n",
       "      <td>technical</td>\n",
       "      <td>low</td>\n",
       "    </tr>\n",
       "    <tr>\n",
       "      <th>12387</th>\n",
       "      <td>0.100</td>\n",
       "      <td>0.970</td>\n",
       "      <td>6</td>\n",
       "      <td>247</td>\n",
       "      <td>4</td>\n",
       "      <td>0</td>\n",
       "      <td>0</td>\n",
       "      <td>management</td>\n",
       "      <td>medium</td>\n",
       "    </tr>\n",
       "    <tr>\n",
       "      <th>4375</th>\n",
       "      <td>0.720</td>\n",
       "      <td>0.930</td>\n",
       "      <td>4</td>\n",
       "      <td>174</td>\n",
       "      <td>2</td>\n",
       "      <td>0</td>\n",
       "      <td>0</td>\n",
       "      <td>sales</td>\n",
       "      <td>low</td>\n",
       "    </tr>\n",
       "    <tr>\n",
       "      <th>5452</th>\n",
       "      <td>0.500</td>\n",
       "      <td>0.730</td>\n",
       "      <td>4</td>\n",
       "      <td>271</td>\n",
       "      <td>2</td>\n",
       "      <td>0</td>\n",
       "      <td>0</td>\n",
       "      <td>hr</td>\n",
       "      <td>low</td>\n",
       "    </tr>\n",
       "    <tr>\n",
       "      <th>...</th>\n",
       "      <td>...</td>\n",
       "      <td>...</td>\n",
       "      <td>...</td>\n",
       "      <td>...</td>\n",
       "      <td>...</td>\n",
       "      <td>...</td>\n",
       "      <td>...</td>\n",
       "      <td>...</td>\n",
       "      <td>...</td>\n",
       "    </tr>\n",
       "    <tr>\n",
       "      <th>5695</th>\n",
       "      <td>0.610</td>\n",
       "      <td>0.720</td>\n",
       "      <td>3</td>\n",
       "      <td>144</td>\n",
       "      <td>2</td>\n",
       "      <td>0</td>\n",
       "      <td>0</td>\n",
       "      <td>support</td>\n",
       "      <td>low</td>\n",
       "    </tr>\n",
       "    <tr>\n",
       "      <th>8006</th>\n",
       "      <td>0.560</td>\n",
       "      <td>0.550</td>\n",
       "      <td>3</td>\n",
       "      <td>245</td>\n",
       "      <td>2</td>\n",
       "      <td>0</td>\n",
       "      <td>0</td>\n",
       "      <td>IT</td>\n",
       "      <td>medium</td>\n",
       "    </tr>\n",
       "    <tr>\n",
       "      <th>1361</th>\n",
       "      <td>0.750</td>\n",
       "      <td>0.890</td>\n",
       "      <td>5</td>\n",
       "      <td>272</td>\n",
       "      <td>5</td>\n",
       "      <td>0</td>\n",
       "      <td>0</td>\n",
       "      <td>IT</td>\n",
       "      <td>medium</td>\n",
       "    </tr>\n",
       "    <tr>\n",
       "      <th>1547</th>\n",
       "      <td>0.090</td>\n",
       "      <td>0.830</td>\n",
       "      <td>6</td>\n",
       "      <td>250</td>\n",
       "      <td>4</td>\n",
       "      <td>0</td>\n",
       "      <td>0</td>\n",
       "      <td>sales</td>\n",
       "      <td>medium</td>\n",
       "    </tr>\n",
       "    <tr>\n",
       "      <th>13151</th>\n",
       "      <td>0.950</td>\n",
       "      <td>0.840</td>\n",
       "      <td>3</td>\n",
       "      <td>270</td>\n",
       "      <td>3</td>\n",
       "      <td>1</td>\n",
       "      <td>1</td>\n",
       "      <td>sales</td>\n",
       "      <td>medium</td>\n",
       "    </tr>\n",
       "  </tbody>\n",
       "</table>\n",
       "<p>11999 rows × 9 columns</p>\n",
       "</div>"
      ],
      "text/plain": [
       "       satisfaction_level  last_evaluation  number_project  \\\n",
       "5362                0.420            0.470               4   \n",
       "1257                0.880            0.920               4   \n",
       "12387               0.100            0.970               6   \n",
       "4375                0.720            0.930               4   \n",
       "5452                0.500            0.730               4   \n",
       "...                   ...              ...             ...   \n",
       "5695                0.610            0.720               3   \n",
       "8006                0.560            0.550               3   \n",
       "1361                0.750            0.890               5   \n",
       "1547                0.090            0.830               6   \n",
       "13151               0.950            0.840               3   \n",
       "\n",
       "       average_montly_hours  time_spend_company  Work_accident  \\\n",
       "5362                    146                   3              1   \n",
       "1257                    233                   6              0   \n",
       "12387                   247                   4              0   \n",
       "4375                    174                   2              0   \n",
       "5452                    271                   2              0   \n",
       "...                     ...                 ...            ...   \n",
       "5695                    144                   2              0   \n",
       "8006                    245                   2              0   \n",
       "1361                    272                   5              0   \n",
       "1547                    250                   4              0   \n",
       "13151                   270                   3              1   \n",
       "\n",
       "       promotion_last_5years departments  salary  \n",
       "5362                       0       sales  medium  \n",
       "1257                       0   technical     low  \n",
       "12387                      0  management  medium  \n",
       "4375                       0       sales     low  \n",
       "5452                       0          hr     low  \n",
       "...                      ...         ...     ...  \n",
       "5695                       0     support     low  \n",
       "8006                       0          IT  medium  \n",
       "1361                       0          IT  medium  \n",
       "1547                       0       sales  medium  \n",
       "13151                      1       sales  medium  \n",
       "\n",
       "[11999 rows x 9 columns]"
      ]
     },
     "execution_count": 24,
     "metadata": {},
     "output_type": "execute_result"
    }
   ],
   "source": [
    "X_train"
   ]
  },
  {
   "cell_type": "code",
   "execution_count": 25,
   "metadata": {
    "execution": {
     "iopub.execute_input": "2022-11-07T11:09:05.612460Z",
     "iopub.status.busy": "2022-11-07T11:09:05.612274Z",
     "iopub.status.idle": "2022-11-07T11:09:05.618820Z",
     "shell.execute_reply": "2022-11-07T11:09:05.618181Z",
     "shell.execute_reply.started": "2022-11-07T11:09:05.612439Z"
    },
    "tags": []
   },
   "outputs": [
    {
     "data": {
      "text/plain": [
       "Index(['Work_accident', 'promotion_last_5years', 'departments', 'salary'], dtype='object')"
      ]
     },
     "execution_count": 25,
     "metadata": {},
     "output_type": "execute_result"
    }
   ],
   "source": [
    "cat = X_train[['Work_accident', 'promotion_last_5years', 'departments', \"salary\"]].columns\n",
    "cat"
   ]
  },
  {
   "cell_type": "code",
   "execution_count": 26,
   "metadata": {
    "execution": {
     "iopub.execute_input": "2022-11-07T11:09:05.619735Z",
     "iopub.status.busy": "2022-11-07T11:09:05.619609Z",
     "iopub.status.idle": "2022-11-07T11:09:05.623004Z",
     "shell.execute_reply": "2022-11-07T11:09:05.622517Z",
     "shell.execute_reply.started": "2022-11-07T11:09:05.619720Z"
    }
   },
   "outputs": [],
   "source": [
    "from sklearn.compose import make_column_transformer\n",
    "from sklearn.preprocessing import OrdinalEncoder\n",
    "\n",
    "\n",
    "ord_enc = OrdinalEncoder(handle_unknown='use_encoded_value', unknown_value=-1)\n",
    "\n",
    "column_trans = make_column_transformer((ord_enc, cat), remainder='passthrough')"
   ]
  },
  {
   "cell_type": "code",
   "execution_count": 27,
   "metadata": {
    "execution": {
     "iopub.execute_input": "2022-11-07T11:09:05.623878Z",
     "iopub.status.busy": "2022-11-07T11:09:05.623757Z",
     "iopub.status.idle": "2022-11-07T11:09:06.339713Z",
     "shell.execute_reply": "2022-11-07T11:09:06.339167Z",
     "shell.execute_reply.started": "2022-11-07T11:09:05.623863Z"
    }
   },
   "outputs": [
    {
     "data": {
      "text/html": [
       "<style>#sk-container-id-1 {color: black;background-color: white;}#sk-container-id-1 pre{padding: 0;}#sk-container-id-1 div.sk-toggleable {background-color: white;}#sk-container-id-1 label.sk-toggleable__label {cursor: pointer;display: block;width: 100%;margin-bottom: 0;padding: 0.3em;box-sizing: border-box;text-align: center;}#sk-container-id-1 label.sk-toggleable__label-arrow:before {content: \"▸\";float: left;margin-right: 0.25em;color: #696969;}#sk-container-id-1 label.sk-toggleable__label-arrow:hover:before {color: black;}#sk-container-id-1 div.sk-estimator:hover label.sk-toggleable__label-arrow:before {color: black;}#sk-container-id-1 div.sk-toggleable__content {max-height: 0;max-width: 0;overflow: hidden;text-align: left;background-color: #f0f8ff;}#sk-container-id-1 div.sk-toggleable__content pre {margin: 0.2em;color: black;border-radius: 0.25em;background-color: #f0f8ff;}#sk-container-id-1 input.sk-toggleable__control:checked~div.sk-toggleable__content {max-height: 200px;max-width: 100%;overflow: auto;}#sk-container-id-1 input.sk-toggleable__control:checked~label.sk-toggleable__label-arrow:before {content: \"▾\";}#sk-container-id-1 div.sk-estimator input.sk-toggleable__control:checked~label.sk-toggleable__label {background-color: #d4ebff;}#sk-container-id-1 div.sk-label input.sk-toggleable__control:checked~label.sk-toggleable__label {background-color: #d4ebff;}#sk-container-id-1 input.sk-hidden--visually {border: 0;clip: rect(1px 1px 1px 1px);clip: rect(1px, 1px, 1px, 1px);height: 1px;margin: -1px;overflow: hidden;padding: 0;position: absolute;width: 1px;}#sk-container-id-1 div.sk-estimator {font-family: monospace;background-color: #f0f8ff;border: 1px dotted black;border-radius: 0.25em;box-sizing: border-box;margin-bottom: 0.5em;}#sk-container-id-1 div.sk-estimator:hover {background-color: #d4ebff;}#sk-container-id-1 div.sk-parallel-item::after {content: \"\";width: 100%;border-bottom: 1px solid gray;flex-grow: 1;}#sk-container-id-1 div.sk-label:hover label.sk-toggleable__label {background-color: #d4ebff;}#sk-container-id-1 div.sk-serial::before {content: \"\";position: absolute;border-left: 1px solid gray;box-sizing: border-box;top: 0;bottom: 0;left: 50%;z-index: 0;}#sk-container-id-1 div.sk-serial {display: flex;flex-direction: column;align-items: center;background-color: white;padding-right: 0.2em;padding-left: 0.2em;position: relative;}#sk-container-id-1 div.sk-item {position: relative;z-index: 1;}#sk-container-id-1 div.sk-parallel {display: flex;align-items: stretch;justify-content: center;background-color: white;position: relative;}#sk-container-id-1 div.sk-item::before, #sk-container-id-1 div.sk-parallel-item::before {content: \"\";position: absolute;border-left: 1px solid gray;box-sizing: border-box;top: 0;bottom: 0;left: 50%;z-index: -1;}#sk-container-id-1 div.sk-parallel-item {display: flex;flex-direction: column;z-index: 1;position: relative;background-color: white;}#sk-container-id-1 div.sk-parallel-item:first-child::after {align-self: flex-end;width: 50%;}#sk-container-id-1 div.sk-parallel-item:last-child::after {align-self: flex-start;width: 50%;}#sk-container-id-1 div.sk-parallel-item:only-child::after {width: 0;}#sk-container-id-1 div.sk-dashed-wrapped {border: 1px dashed gray;margin: 0 0.4em 0.5em 0.4em;box-sizing: border-box;padding-bottom: 0.4em;background-color: white;}#sk-container-id-1 div.sk-label label {font-family: monospace;font-weight: bold;display: inline-block;line-height: 1.2em;}#sk-container-id-1 div.sk-label-container {text-align: center;}#sk-container-id-1 div.sk-container {/* jupyter's `normalize.less` sets `[hidden] { display: none; }` but bootstrap.min.css set `[hidden] { display: none !important; }` so we also need the `!important` here to be able to override the default hidden behavior on the sphinx rendered scikit-learn.org. See: https://github.com/scikit-learn/scikit-learn/issues/21755 */display: inline-block !important;position: relative;}#sk-container-id-1 div.sk-text-repr-fallback {display: none;}</style><div id=\"sk-container-id-1\" class=\"sk-top-container\"><div class=\"sk-text-repr-fallback\"><pre>Pipeline(steps=[(&#x27;OrdinalEncoder&#x27;,\n",
       "                 ColumnTransformer(remainder=&#x27;passthrough&#x27;,\n",
       "                                   transformers=[(&#x27;ordinalencoder&#x27;,\n",
       "                                                  OrdinalEncoder(handle_unknown=&#x27;use_encoded_value&#x27;,\n",
       "                                                                 unknown_value=-1),\n",
       "                                                  Index([&#x27;Work_accident&#x27;, &#x27;promotion_last_5years&#x27;, &#x27;departments&#x27;, &#x27;salary&#x27;], dtype=&#x27;object&#x27;))])),\n",
       "                (&#x27;RF_model&#x27;, RandomForestClassifier(random_state=101))])</pre><b>In a Jupyter environment, please rerun this cell to show the HTML representation or trust the notebook. <br />On GitHub, the HTML representation is unable to render, please try loading this page with nbviewer.org.</b></div><div class=\"sk-container\" hidden><div class=\"sk-item sk-dashed-wrapped\"><div class=\"sk-label-container\"><div class=\"sk-label sk-toggleable\"><input class=\"sk-toggleable__control sk-hidden--visually\" id=\"sk-estimator-id-1\" type=\"checkbox\" ><label for=\"sk-estimator-id-1\" class=\"sk-toggleable__label sk-toggleable__label-arrow\">Pipeline</label><div class=\"sk-toggleable__content\"><pre>Pipeline(steps=[(&#x27;OrdinalEncoder&#x27;,\n",
       "                 ColumnTransformer(remainder=&#x27;passthrough&#x27;,\n",
       "                                   transformers=[(&#x27;ordinalencoder&#x27;,\n",
       "                                                  OrdinalEncoder(handle_unknown=&#x27;use_encoded_value&#x27;,\n",
       "                                                                 unknown_value=-1),\n",
       "                                                  Index([&#x27;Work_accident&#x27;, &#x27;promotion_last_5years&#x27;, &#x27;departments&#x27;, &#x27;salary&#x27;], dtype=&#x27;object&#x27;))])),\n",
       "                (&#x27;RF_model&#x27;, RandomForestClassifier(random_state=101))])</pre></div></div></div><div class=\"sk-serial\"><div class=\"sk-item sk-dashed-wrapped\"><div class=\"sk-label-container\"><div class=\"sk-label sk-toggleable\"><input class=\"sk-toggleable__control sk-hidden--visually\" id=\"sk-estimator-id-2\" type=\"checkbox\" ><label for=\"sk-estimator-id-2\" class=\"sk-toggleable__label sk-toggleable__label-arrow\">OrdinalEncoder: ColumnTransformer</label><div class=\"sk-toggleable__content\"><pre>ColumnTransformer(remainder=&#x27;passthrough&#x27;,\n",
       "                  transformers=[(&#x27;ordinalencoder&#x27;,\n",
       "                                 OrdinalEncoder(handle_unknown=&#x27;use_encoded_value&#x27;,\n",
       "                                                unknown_value=-1),\n",
       "                                 Index([&#x27;Work_accident&#x27;, &#x27;promotion_last_5years&#x27;, &#x27;departments&#x27;, &#x27;salary&#x27;], dtype=&#x27;object&#x27;))])</pre></div></div></div><div class=\"sk-parallel\"><div class=\"sk-parallel-item\"><div class=\"sk-item\"><div class=\"sk-label-container\"><div class=\"sk-label sk-toggleable\"><input class=\"sk-toggleable__control sk-hidden--visually\" id=\"sk-estimator-id-3\" type=\"checkbox\" ><label for=\"sk-estimator-id-3\" class=\"sk-toggleable__label sk-toggleable__label-arrow\">ordinalencoder</label><div class=\"sk-toggleable__content\"><pre>Index([&#x27;Work_accident&#x27;, &#x27;promotion_last_5years&#x27;, &#x27;departments&#x27;, &#x27;salary&#x27;], dtype=&#x27;object&#x27;)</pre></div></div></div><div class=\"sk-serial\"><div class=\"sk-item\"><div class=\"sk-estimator sk-toggleable\"><input class=\"sk-toggleable__control sk-hidden--visually\" id=\"sk-estimator-id-4\" type=\"checkbox\" ><label for=\"sk-estimator-id-4\" class=\"sk-toggleable__label sk-toggleable__label-arrow\">OrdinalEncoder</label><div class=\"sk-toggleable__content\"><pre>OrdinalEncoder(handle_unknown=&#x27;use_encoded_value&#x27;, unknown_value=-1)</pre></div></div></div></div></div></div><div class=\"sk-parallel-item\"><div class=\"sk-item\"><div class=\"sk-label-container\"><div class=\"sk-label sk-toggleable\"><input class=\"sk-toggleable__control sk-hidden--visually\" id=\"sk-estimator-id-5\" type=\"checkbox\" ><label for=\"sk-estimator-id-5\" class=\"sk-toggleable__label sk-toggleable__label-arrow\">remainder</label><div class=\"sk-toggleable__content\"><pre>[&#x27;satisfaction_level&#x27;, &#x27;last_evaluation&#x27;, &#x27;number_project&#x27;, &#x27;average_montly_hours&#x27;, &#x27;time_spend_company&#x27;]</pre></div></div></div><div class=\"sk-serial\"><div class=\"sk-item\"><div class=\"sk-estimator sk-toggleable\"><input class=\"sk-toggleable__control sk-hidden--visually\" id=\"sk-estimator-id-6\" type=\"checkbox\" ><label for=\"sk-estimator-id-6\" class=\"sk-toggleable__label sk-toggleable__label-arrow\">passthrough</label><div class=\"sk-toggleable__content\"><pre>passthrough</pre></div></div></div></div></div></div></div></div><div class=\"sk-item\"><div class=\"sk-estimator sk-toggleable\"><input class=\"sk-toggleable__control sk-hidden--visually\" id=\"sk-estimator-id-7\" type=\"checkbox\" ><label for=\"sk-estimator-id-7\" class=\"sk-toggleable__label sk-toggleable__label-arrow\">RandomForestClassifier</label><div class=\"sk-toggleable__content\"><pre>RandomForestClassifier(random_state=101)</pre></div></div></div></div></div></div></div>"
      ],
      "text/plain": [
       "Pipeline(steps=[('OrdinalEncoder',\n",
       "                 ColumnTransformer(remainder='passthrough',\n",
       "                                   transformers=[('ordinalencoder',\n",
       "                                                  OrdinalEncoder(handle_unknown='use_encoded_value',\n",
       "                                                                 unknown_value=-1),\n",
       "                                                  Index(['Work_accident', 'promotion_last_5years', 'departments', 'salary'], dtype='object'))])),\n",
       "                ('RF_model', RandomForestClassifier(random_state=101))])"
      ]
     },
     "execution_count": 27,
     "metadata": {},
     "output_type": "execute_result"
    }
   ],
   "source": [
    "from sklearn.pipeline import Pipeline\n",
    "from sklearn.ensemble import RandomForestClassifier\n",
    "\n",
    "\n",
    "operations = [(\"OrdinalEncoder\", column_trans), (\"RF_model\", RandomForestClassifier(random_state=101))]\n",
    "\n",
    "pipe_RF = Pipeline(steps=operations)\n",
    "\n",
    "pipe_RF.fit(X_train, y_train)"
   ]
  },
  {
   "cell_type": "markdown",
   "metadata": {
    "id": "MdGymWJ_2sn9"
   },
   "source": [
    "#### Evaluating Model Performance and Tuning"
   ]
  },
  {
   "cell_type": "code",
   "execution_count": 28,
   "metadata": {
    "execution": {
     "iopub.execute_input": "2022-11-07T11:09:06.342582Z",
     "iopub.status.busy": "2022-11-07T11:09:06.342413Z",
     "iopub.status.idle": "2022-11-07T11:09:06.347061Z",
     "shell.execute_reply": "2022-11-07T11:09:06.346496Z",
     "shell.execute_reply.started": "2022-11-07T11:09:06.342562Z"
    },
    "id": "TPF_wziW2soC",
    "tags": []
   },
   "outputs": [],
   "source": [
    "from sklearn.metrics import confusion_matrix, classification_report, accuracy_score, recall_score, precision_score,f1_score\n",
    "\n",
    "def eval_metric(model, X_train, y_train, X_test, y_test):\n",
    "    y_train_pred = model.predict(X_train)\n",
    "    y_pred = model.predict(X_test)\n",
    "    \n",
    "    print(\"Test_Set\")\n",
    "    print(confusion_matrix(y_test, y_pred))\n",
    "    print(classification_report(y_test, y_pred))\n",
    "    print()\n",
    "    print(\"Train_Set\")\n",
    "    print(confusion_matrix(y_train, y_train_pred))\n",
    "    print(classification_report(y_train, y_train_pred))"
   ]
  },
  {
   "cell_type": "code",
   "execution_count": 29,
   "metadata": {
    "execution": {
     "iopub.execute_input": "2022-11-07T11:09:06.348189Z",
     "iopub.status.busy": "2022-11-07T11:09:06.347956Z",
     "iopub.status.idle": "2022-11-07T11:09:06.506990Z",
     "shell.execute_reply": "2022-11-07T11:09:06.506540Z",
     "shell.execute_reply.started": "2022-11-07T11:09:06.348157Z"
    }
   },
   "outputs": [
    {
     "name": "stdout",
     "output_type": "stream",
     "text": [
      "Test_Set\n",
      "[[2261    1]\n",
      " [  16  722]]\n",
      "              precision    recall  f1-score   support\n",
      "\n",
      "           0       0.99      1.00      1.00      2262\n",
      "           1       1.00      0.98      0.99       738\n",
      "\n",
      "    accuracy                           0.99      3000\n",
      "   macro avg       1.00      0.99      0.99      3000\n",
      "weighted avg       0.99      0.99      0.99      3000\n",
      "\n",
      "\n",
      "Train_Set\n",
      "[[9166    0]\n",
      " [   0 2833]]\n",
      "              precision    recall  f1-score   support\n",
      "\n",
      "           0       1.00      1.00      1.00      9166\n",
      "           1       1.00      1.00      1.00      2833\n",
      "\n",
      "    accuracy                           1.00     11999\n",
      "   macro avg       1.00      1.00      1.00     11999\n",
      "weighted avg       1.00      1.00      1.00     11999\n",
      "\n"
     ]
    }
   ],
   "source": [
    "eval_metric(pipe_RF, X_train, y_train, X_test, y_test)"
   ]
  },
  {
   "cell_type": "code",
   "execution_count": 30,
   "metadata": {
    "execution": {
     "iopub.execute_input": "2022-11-07T11:09:06.507787Z",
     "iopub.status.busy": "2022-11-07T11:09:06.507633Z",
     "iopub.status.idle": "2022-11-07T11:09:06.511471Z",
     "shell.execute_reply": "2022-11-07T11:09:06.510868Z",
     "shell.execute_reply.started": "2022-11-07T11:09:06.507756Z"
    }
   },
   "outputs": [],
   "source": [
    "from sklearn.metrics import make_scorer\n",
    "from sklearn.model_selection import cross_validate, cross_val_score\n",
    "from sklearn.model_selection import GridSearchCV"
   ]
  },
  {
   "cell_type": "code",
   "execution_count": 48,
   "metadata": {
    "execution": {
     "iopub.execute_input": "2022-11-07T11:11:40.083123Z",
     "iopub.status.busy": "2022-11-07T11:11:40.082557Z",
     "iopub.status.idle": "2022-11-07T11:11:41.222941Z",
     "shell.execute_reply": "2022-11-07T11:11:41.222324Z",
     "shell.execute_reply.started": "2022-11-07T11:11:40.083092Z"
    }
   },
   "outputs": [
    {
     "data": {
      "text/html": [
       "<style>#sk-container-id-3 {color: black;background-color: white;}#sk-container-id-3 pre{padding: 0;}#sk-container-id-3 div.sk-toggleable {background-color: white;}#sk-container-id-3 label.sk-toggleable__label {cursor: pointer;display: block;width: 100%;margin-bottom: 0;padding: 0.3em;box-sizing: border-box;text-align: center;}#sk-container-id-3 label.sk-toggleable__label-arrow:before {content: \"▸\";float: left;margin-right: 0.25em;color: #696969;}#sk-container-id-3 label.sk-toggleable__label-arrow:hover:before {color: black;}#sk-container-id-3 div.sk-estimator:hover label.sk-toggleable__label-arrow:before {color: black;}#sk-container-id-3 div.sk-toggleable__content {max-height: 0;max-width: 0;overflow: hidden;text-align: left;background-color: #f0f8ff;}#sk-container-id-3 div.sk-toggleable__content pre {margin: 0.2em;color: black;border-radius: 0.25em;background-color: #f0f8ff;}#sk-container-id-3 input.sk-toggleable__control:checked~div.sk-toggleable__content {max-height: 200px;max-width: 100%;overflow: auto;}#sk-container-id-3 input.sk-toggleable__control:checked~label.sk-toggleable__label-arrow:before {content: \"▾\";}#sk-container-id-3 div.sk-estimator input.sk-toggleable__control:checked~label.sk-toggleable__label {background-color: #d4ebff;}#sk-container-id-3 div.sk-label input.sk-toggleable__control:checked~label.sk-toggleable__label {background-color: #d4ebff;}#sk-container-id-3 input.sk-hidden--visually {border: 0;clip: rect(1px 1px 1px 1px);clip: rect(1px, 1px, 1px, 1px);height: 1px;margin: -1px;overflow: hidden;padding: 0;position: absolute;width: 1px;}#sk-container-id-3 div.sk-estimator {font-family: monospace;background-color: #f0f8ff;border: 1px dotted black;border-radius: 0.25em;box-sizing: border-box;margin-bottom: 0.5em;}#sk-container-id-3 div.sk-estimator:hover {background-color: #d4ebff;}#sk-container-id-3 div.sk-parallel-item::after {content: \"\";width: 100%;border-bottom: 1px solid gray;flex-grow: 1;}#sk-container-id-3 div.sk-label:hover label.sk-toggleable__label {background-color: #d4ebff;}#sk-container-id-3 div.sk-serial::before {content: \"\";position: absolute;border-left: 1px solid gray;box-sizing: border-box;top: 0;bottom: 0;left: 50%;z-index: 0;}#sk-container-id-3 div.sk-serial {display: flex;flex-direction: column;align-items: center;background-color: white;padding-right: 0.2em;padding-left: 0.2em;position: relative;}#sk-container-id-3 div.sk-item {position: relative;z-index: 1;}#sk-container-id-3 div.sk-parallel {display: flex;align-items: stretch;justify-content: center;background-color: white;position: relative;}#sk-container-id-3 div.sk-item::before, #sk-container-id-3 div.sk-parallel-item::before {content: \"\";position: absolute;border-left: 1px solid gray;box-sizing: border-box;top: 0;bottom: 0;left: 50%;z-index: -1;}#sk-container-id-3 div.sk-parallel-item {display: flex;flex-direction: column;z-index: 1;position: relative;background-color: white;}#sk-container-id-3 div.sk-parallel-item:first-child::after {align-self: flex-end;width: 50%;}#sk-container-id-3 div.sk-parallel-item:last-child::after {align-self: flex-start;width: 50%;}#sk-container-id-3 div.sk-parallel-item:only-child::after {width: 0;}#sk-container-id-3 div.sk-dashed-wrapped {border: 1px dashed gray;margin: 0 0.4em 0.5em 0.4em;box-sizing: border-box;padding-bottom: 0.4em;background-color: white;}#sk-container-id-3 div.sk-label label {font-family: monospace;font-weight: bold;display: inline-block;line-height: 1.2em;}#sk-container-id-3 div.sk-label-container {text-align: center;}#sk-container-id-3 div.sk-container {/* jupyter's `normalize.less` sets `[hidden] { display: none; }` but bootstrap.min.css set `[hidden] { display: none !important; }` so we also need the `!important` here to be able to override the default hidden behavior on the sphinx rendered scikit-learn.org. See: https://github.com/scikit-learn/scikit-learn/issues/21755 */display: inline-block !important;position: relative;}#sk-container-id-3 div.sk-text-repr-fallback {display: none;}</style><div id=\"sk-container-id-3\" class=\"sk-top-container\"><div class=\"sk-text-repr-fallback\"><pre>Pipeline(steps=[(&#x27;OrdinalEncoder&#x27;,\n",
       "                 ColumnTransformer(remainder=&#x27;passthrough&#x27;,\n",
       "                                   transformers=[(&#x27;ordinalencoder&#x27;,\n",
       "                                                  OrdinalEncoder(handle_unknown=&#x27;use_encoded_value&#x27;,\n",
       "                                                                 unknown_value=-1),\n",
       "                                                  Index([&#x27;Work_accident&#x27;, &#x27;promotion_last_5years&#x27;, &#x27;departments&#x27;, &#x27;salary&#x27;], dtype=&#x27;object&#x27;))])),\n",
       "                (&#x27;RF_model&#x27;,\n",
       "                 RandomForestClassifier(class_weight=&#x27;balanced&#x27;, max_depth=10,\n",
       "                                        n_estimators=200, random_state=101))])</pre><b>In a Jupyter environment, please rerun this cell to show the HTML representation or trust the notebook. <br />On GitHub, the HTML representation is unable to render, please try loading this page with nbviewer.org.</b></div><div class=\"sk-container\" hidden><div class=\"sk-item sk-dashed-wrapped\"><div class=\"sk-label-container\"><div class=\"sk-label sk-toggleable\"><input class=\"sk-toggleable__control sk-hidden--visually\" id=\"sk-estimator-id-15\" type=\"checkbox\" ><label for=\"sk-estimator-id-15\" class=\"sk-toggleable__label sk-toggleable__label-arrow\">Pipeline</label><div class=\"sk-toggleable__content\"><pre>Pipeline(steps=[(&#x27;OrdinalEncoder&#x27;,\n",
       "                 ColumnTransformer(remainder=&#x27;passthrough&#x27;,\n",
       "                                   transformers=[(&#x27;ordinalencoder&#x27;,\n",
       "                                                  OrdinalEncoder(handle_unknown=&#x27;use_encoded_value&#x27;,\n",
       "                                                                 unknown_value=-1),\n",
       "                                                  Index([&#x27;Work_accident&#x27;, &#x27;promotion_last_5years&#x27;, &#x27;departments&#x27;, &#x27;salary&#x27;], dtype=&#x27;object&#x27;))])),\n",
       "                (&#x27;RF_model&#x27;,\n",
       "                 RandomForestClassifier(class_weight=&#x27;balanced&#x27;, max_depth=10,\n",
       "                                        n_estimators=200, random_state=101))])</pre></div></div></div><div class=\"sk-serial\"><div class=\"sk-item sk-dashed-wrapped\"><div class=\"sk-label-container\"><div class=\"sk-label sk-toggleable\"><input class=\"sk-toggleable__control sk-hidden--visually\" id=\"sk-estimator-id-16\" type=\"checkbox\" ><label for=\"sk-estimator-id-16\" class=\"sk-toggleable__label sk-toggleable__label-arrow\">OrdinalEncoder: ColumnTransformer</label><div class=\"sk-toggleable__content\"><pre>ColumnTransformer(remainder=&#x27;passthrough&#x27;,\n",
       "                  transformers=[(&#x27;ordinalencoder&#x27;,\n",
       "                                 OrdinalEncoder(handle_unknown=&#x27;use_encoded_value&#x27;,\n",
       "                                                unknown_value=-1),\n",
       "                                 Index([&#x27;Work_accident&#x27;, &#x27;promotion_last_5years&#x27;, &#x27;departments&#x27;, &#x27;salary&#x27;], dtype=&#x27;object&#x27;))])</pre></div></div></div><div class=\"sk-parallel\"><div class=\"sk-parallel-item\"><div class=\"sk-item\"><div class=\"sk-label-container\"><div class=\"sk-label sk-toggleable\"><input class=\"sk-toggleable__control sk-hidden--visually\" id=\"sk-estimator-id-17\" type=\"checkbox\" ><label for=\"sk-estimator-id-17\" class=\"sk-toggleable__label sk-toggleable__label-arrow\">ordinalencoder</label><div class=\"sk-toggleable__content\"><pre>Index([&#x27;Work_accident&#x27;, &#x27;promotion_last_5years&#x27;, &#x27;departments&#x27;, &#x27;salary&#x27;], dtype=&#x27;object&#x27;)</pre></div></div></div><div class=\"sk-serial\"><div class=\"sk-item\"><div class=\"sk-estimator sk-toggleable\"><input class=\"sk-toggleable__control sk-hidden--visually\" id=\"sk-estimator-id-18\" type=\"checkbox\" ><label for=\"sk-estimator-id-18\" class=\"sk-toggleable__label sk-toggleable__label-arrow\">OrdinalEncoder</label><div class=\"sk-toggleable__content\"><pre>OrdinalEncoder(handle_unknown=&#x27;use_encoded_value&#x27;, unknown_value=-1)</pre></div></div></div></div></div></div><div class=\"sk-parallel-item\"><div class=\"sk-item\"><div class=\"sk-label-container\"><div class=\"sk-label sk-toggleable\"><input class=\"sk-toggleable__control sk-hidden--visually\" id=\"sk-estimator-id-19\" type=\"checkbox\" ><label for=\"sk-estimator-id-19\" class=\"sk-toggleable__label sk-toggleable__label-arrow\">remainder</label><div class=\"sk-toggleable__content\"><pre>[&#x27;satisfaction_level&#x27;, &#x27;last_evaluation&#x27;, &#x27;number_project&#x27;, &#x27;average_montly_hours&#x27;, &#x27;time_spend_company&#x27;]</pre></div></div></div><div class=\"sk-serial\"><div class=\"sk-item\"><div class=\"sk-estimator sk-toggleable\"><input class=\"sk-toggleable__control sk-hidden--visually\" id=\"sk-estimator-id-20\" type=\"checkbox\" ><label for=\"sk-estimator-id-20\" class=\"sk-toggleable__label sk-toggleable__label-arrow\">passthrough</label><div class=\"sk-toggleable__content\"><pre>passthrough</pre></div></div></div></div></div></div></div></div><div class=\"sk-item\"><div class=\"sk-estimator sk-toggleable\"><input class=\"sk-toggleable__control sk-hidden--visually\" id=\"sk-estimator-id-21\" type=\"checkbox\" ><label for=\"sk-estimator-id-21\" class=\"sk-toggleable__label sk-toggleable__label-arrow\">RandomForestClassifier</label><div class=\"sk-toggleable__content\"><pre>RandomForestClassifier(class_weight=&#x27;balanced&#x27;, max_depth=10, n_estimators=200,\n",
       "                       random_state=101)</pre></div></div></div></div></div></div></div>"
      ],
      "text/plain": [
       "Pipeline(steps=[('OrdinalEncoder',\n",
       "                 ColumnTransformer(remainder='passthrough',\n",
       "                                   transformers=[('ordinalencoder',\n",
       "                                                  OrdinalEncoder(handle_unknown='use_encoded_value',\n",
       "                                                                 unknown_value=-1),\n",
       "                                                  Index(['Work_accident', 'promotion_last_5years', 'departments', 'salary'], dtype='object'))])),\n",
       "                ('RF_model',\n",
       "                 RandomForestClassifier(class_weight='balanced', max_depth=10,\n",
       "                                        n_estimators=200, random_state=101))])"
      ]
     },
     "execution_count": 48,
     "metadata": {},
     "output_type": "execute_result"
    }
   ],
   "source": [
    "model_RF = RandomForestClassifier(max_depth=10, n_estimators=200, class_weight=\"balanced\",random_state=101)\n",
    "operations = [(\"OrdinalEncoder\", column_trans), (\"RF_model\", model_RF)]\n",
    "\n",
    "pipe_RF = Pipeline(steps=operations)\n",
    "\n",
    "pipe_RF.fit(X_train, y_train)"
   ]
  },
  {
   "cell_type": "code",
   "execution_count": 49,
   "metadata": {
    "execution": {
     "iopub.execute_input": "2022-11-07T11:11:41.224000Z",
     "iopub.status.busy": "2022-11-07T11:11:41.223852Z",
     "iopub.status.idle": "2022-11-07T11:11:41.457200Z",
     "shell.execute_reply": "2022-11-07T11:11:41.456643Z",
     "shell.execute_reply.started": "2022-11-07T11:11:41.223986Z"
    }
   },
   "outputs": [
    {
     "name": "stdout",
     "output_type": "stream",
     "text": [
      "Test_Set\n",
      "[[2259    3]\n",
      " [  40  698]]\n",
      "              precision    recall  f1-score   support\n",
      "\n",
      "           0       0.98      1.00      0.99      2262\n",
      "           1       1.00      0.95      0.97       738\n",
      "\n",
      "    accuracy                           0.99      3000\n",
      "   macro avg       0.99      0.97      0.98      3000\n",
      "weighted avg       0.99      0.99      0.99      3000\n",
      "\n",
      "\n",
      "Train_Set\n",
      "[[9145   21]\n",
      " [ 114 2719]]\n",
      "              precision    recall  f1-score   support\n",
      "\n",
      "           0       0.99      1.00      0.99      9166\n",
      "           1       0.99      0.96      0.98      2833\n",
      "\n",
      "    accuracy                           0.99     11999\n",
      "   macro avg       0.99      0.98      0.98     11999\n",
      "weighted avg       0.99      0.99      0.99     11999\n",
      "\n"
     ]
    }
   ],
   "source": [
    "eval_metric(pipe_RF, X_train, y_train, X_test, y_test)"
   ]
  },
  {
   "cell_type": "code",
   "execution_count": 64,
   "metadata": {
    "execution": {
     "iopub.execute_input": "2022-11-07T11:12:53.299838Z",
     "iopub.status.busy": "2022-11-07T11:12:53.299671Z",
     "iopub.status.idle": "2022-11-07T11:13:03.399420Z",
     "shell.execute_reply": "2022-11-07T11:13:03.398747Z",
     "shell.execute_reply.started": "2022-11-07T11:12:53.299811Z"
    },
    "tags": []
   },
   "outputs": [
    {
     "data": {
      "text/html": [
       "<div>\n",
       "<style scoped>\n",
       "    .dataframe tbody tr th:only-of-type {\n",
       "        vertical-align: middle;\n",
       "    }\n",
       "\n",
       "    .dataframe tbody tr th {\n",
       "        vertical-align: top;\n",
       "    }\n",
       "\n",
       "    .dataframe thead th {\n",
       "        text-align: right;\n",
       "    }\n",
       "</style>\n",
       "<table border=\"1\" class=\"dataframe\">\n",
       "  <thead>\n",
       "    <tr style=\"text-align: right;\">\n",
       "      <th></th>\n",
       "      <th>fit_time</th>\n",
       "      <th>score_time</th>\n",
       "      <th>test_accuracy</th>\n",
       "      <th>test_precision</th>\n",
       "      <th>test_recall</th>\n",
       "      <th>test_f1</th>\n",
       "    </tr>\n",
       "  </thead>\n",
       "  <tbody>\n",
       "    <tr>\n",
       "      <th>1</th>\n",
       "      <td>0.989</td>\n",
       "      <td>0.033</td>\n",
       "      <td>0.986</td>\n",
       "      <td>0.989</td>\n",
       "      <td>0.951</td>\n",
       "      <td>0.969</td>\n",
       "    </tr>\n",
       "    <tr>\n",
       "      <th>2</th>\n",
       "      <td>0.965</td>\n",
       "      <td>0.034</td>\n",
       "      <td>0.986</td>\n",
       "      <td>0.982</td>\n",
       "      <td>0.958</td>\n",
       "      <td>0.970</td>\n",
       "    </tr>\n",
       "    <tr>\n",
       "      <th>3</th>\n",
       "      <td>0.977</td>\n",
       "      <td>0.033</td>\n",
       "      <td>0.985</td>\n",
       "      <td>0.989</td>\n",
       "      <td>0.947</td>\n",
       "      <td>0.968</td>\n",
       "    </tr>\n",
       "    <tr>\n",
       "      <th>4</th>\n",
       "      <td>0.969</td>\n",
       "      <td>0.033</td>\n",
       "      <td>0.978</td>\n",
       "      <td>0.996</td>\n",
       "      <td>0.908</td>\n",
       "      <td>0.950</td>\n",
       "    </tr>\n",
       "    <tr>\n",
       "      <th>5</th>\n",
       "      <td>0.968</td>\n",
       "      <td>0.033</td>\n",
       "      <td>0.979</td>\n",
       "      <td>0.989</td>\n",
       "      <td>0.922</td>\n",
       "      <td>0.954</td>\n",
       "    </tr>\n",
       "    <tr>\n",
       "      <th>6</th>\n",
       "      <td>0.969</td>\n",
       "      <td>0.033</td>\n",
       "      <td>0.983</td>\n",
       "      <td>0.992</td>\n",
       "      <td>0.933</td>\n",
       "      <td>0.962</td>\n",
       "    </tr>\n",
       "    <tr>\n",
       "      <th>7</th>\n",
       "      <td>0.965</td>\n",
       "      <td>0.033</td>\n",
       "      <td>0.979</td>\n",
       "      <td>0.992</td>\n",
       "      <td>0.919</td>\n",
       "      <td>0.954</td>\n",
       "    </tr>\n",
       "    <tr>\n",
       "      <th>8</th>\n",
       "      <td>0.969</td>\n",
       "      <td>0.034</td>\n",
       "      <td>0.988</td>\n",
       "      <td>1.000</td>\n",
       "      <td>0.947</td>\n",
       "      <td>0.973</td>\n",
       "    </tr>\n",
       "    <tr>\n",
       "      <th>9</th>\n",
       "      <td>0.964</td>\n",
       "      <td>0.034</td>\n",
       "      <td>0.982</td>\n",
       "      <td>0.985</td>\n",
       "      <td>0.937</td>\n",
       "      <td>0.960</td>\n",
       "    </tr>\n",
       "    <tr>\n",
       "      <th>10</th>\n",
       "      <td>1.009</td>\n",
       "      <td>0.036</td>\n",
       "      <td>0.988</td>\n",
       "      <td>0.989</td>\n",
       "      <td>0.961</td>\n",
       "      <td>0.975</td>\n",
       "    </tr>\n",
       "  </tbody>\n",
       "</table>\n",
       "</div>"
      ],
      "text/plain": [
       "    fit_time  score_time  test_accuracy  test_precision  test_recall  test_f1\n",
       "1      0.989       0.033          0.986           0.989        0.951    0.969\n",
       "2      0.965       0.034          0.986           0.982        0.958    0.970\n",
       "3      0.977       0.033          0.985           0.989        0.947    0.968\n",
       "4      0.969       0.033          0.978           0.996        0.908    0.950\n",
       "5      0.968       0.033          0.979           0.989        0.922    0.954\n",
       "6      0.969       0.033          0.983           0.992        0.933    0.962\n",
       "7      0.965       0.033          0.979           0.992        0.919    0.954\n",
       "8      0.969       0.034          0.988           1.000        0.947    0.973\n",
       "9      0.964       0.034          0.982           0.985        0.937    0.960\n",
       "10     1.009       0.036          0.988           0.989        0.961    0.975"
      ]
     },
     "execution_count": 64,
     "metadata": {},
     "output_type": "execute_result"
    }
   ],
   "source": [
    "model_RF = RandomForestClassifier(max_depth=10, n_estimators=200, class_weight=\"balanced\",random_state=101)\n",
    "\n",
    "operations = [(\"OrdinalEncoder\", column_trans), (\"RF_model\", model_RF)]\n",
    "\n",
    "model = Pipeline(steps=operations)\n",
    "\n",
    "scores = cross_validate(model, X_train, y_train, scoring = [\"accuracy\", \"precision\", \"recall\", \"f1\"], \n",
    "                        cv = 10)\n",
    "df_scores = pd.DataFrame(scores, index = range(1, 11))\n",
    "df_scores"
   ]
  },
  {
   "cell_type": "code",
   "execution_count": 65,
   "metadata": {
    "execution": {
     "iopub.execute_input": "2022-11-07T11:13:03.401079Z",
     "iopub.status.busy": "2022-11-07T11:13:03.400860Z",
     "iopub.status.idle": "2022-11-07T11:13:03.410770Z",
     "shell.execute_reply": "2022-11-07T11:13:03.410113Z",
     "shell.execute_reply.started": "2022-11-07T11:13:03.401060Z"
    },
    "tags": []
   },
   "outputs": [
    {
     "data": {
      "text/html": [
       "<div>\n",
       "<style scoped>\n",
       "    .dataframe tbody tr th:only-of-type {\n",
       "        vertical-align: middle;\n",
       "    }\n",
       "\n",
       "    .dataframe tbody tr th {\n",
       "        vertical-align: top;\n",
       "    }\n",
       "\n",
       "    .dataframe thead th {\n",
       "        text-align: right;\n",
       "    }\n",
       "</style>\n",
       "<table border=\"1\" class=\"dataframe\">\n",
       "  <thead>\n",
       "    <tr style=\"text-align: right;\">\n",
       "      <th></th>\n",
       "      <th>test_accuracy</th>\n",
       "      <th>test_precision</th>\n",
       "      <th>test_recall</th>\n",
       "      <th>test_f1</th>\n",
       "    </tr>\n",
       "  </thead>\n",
       "  <tbody>\n",
       "    <tr>\n",
       "      <th>RF</th>\n",
       "      <td>0.983</td>\n",
       "      <td>0.990</td>\n",
       "      <td>0.938</td>\n",
       "      <td>0.963</td>\n",
       "    </tr>\n",
       "  </tbody>\n",
       "</table>\n",
       "</div>"
      ],
      "text/plain": [
       "    test_accuracy  test_precision  test_recall  test_f1\n",
       "RF          0.983           0.990        0.938    0.963"
      ]
     },
     "execution_count": 65,
     "metadata": {},
     "output_type": "execute_result"
    }
   ],
   "source": [
    "RF_results = pd.DataFrame(df_scores.mean()[2:], columns=[\"RF\"])\n",
    "RF_results.T"
   ]
  },
  {
   "cell_type": "code",
   "execution_count": 66,
   "metadata": {
    "execution": {
     "iopub.execute_input": "2022-11-07T11:13:03.411660Z",
     "iopub.status.busy": "2022-11-07T11:13:03.411478Z",
     "iopub.status.idle": "2022-11-07T11:13:03.684624Z",
     "shell.execute_reply": "2022-11-07T11:13:03.684115Z",
     "shell.execute_reply.started": "2022-11-07T11:13:03.411645Z"
    },
    "tags": []
   },
   "outputs": [
    {
     "data": {
      "image/png": "[encoded data removed]",
      "text/plain": [
       "<Figure size 800x550 with 1 Axes>"
      ]
     },
     "metadata": {},
     "output_type": "display_data"
    }
   ],
   "source": [
    "from yellowbrick.classifier import ROCAUC\n",
    "\n",
    "model = pipe_RF\n",
    "visualizer = ROCAUC(model)\n",
    "\n",
    "visualizer.fit(X_train, y_train)       \n",
    "visualizer.score(X_test, y_test)       \n",
    "visualizer.show();         "
   ]
  },
  {
   "cell_type": "code",
   "execution_count": 67,
   "metadata": {
    "execution": {
     "iopub.execute_input": "2022-11-07T11:13:03.686134Z",
     "iopub.status.busy": "2022-11-07T11:13:03.686014Z",
     "iopub.status.idle": "2022-11-07T11:13:03.704100Z",
     "shell.execute_reply": "2022-11-07T11:13:03.703546Z",
     "shell.execute_reply.started": "2022-11-07T11:13:03.686119Z"
    }
   },
   "outputs": [
    {
     "data": {
      "text/plain": [
       "array([0.00768381, 0.00104591, 0.01009259, 0.00612451, 0.31050633,\n",
       "       0.12094379, 0.1503391 , 0.13439343, 0.25887053])"
      ]
     },
     "execution_count": 67,
     "metadata": {},
     "output_type": "execute_result"
    }
   ],
   "source": [
    "pipe_RF[\"RF_model\"].feature_importances_ "
   ]
  },
  {
   "cell_type": "code",
   "execution_count": 68,
   "metadata": {
    "execution": {
     "iopub.execute_input": "2022-11-07T11:13:03.704640Z",
     "iopub.status.busy": "2022-11-07T11:13:03.704537Z",
     "iopub.status.idle": "2022-11-07T11:13:03.708640Z",
     "shell.execute_reply": "2022-11-07T11:13:03.708193Z",
     "shell.execute_reply.started": "2022-11-07T11:13:03.704625Z"
    },
    "tags": []
   },
   "outputs": [
    {
     "data": {
      "text/plain": [
       "Index(['satisfaction_level', 'last_evaluation', 'number_project',\n",
       "       'average_montly_hours', 'time_spend_company', 'Work_accident',\n",
       "       'promotion_last_5years', 'departments', 'salary'],\n",
       "      dtype='object')"
      ]
     },
     "execution_count": 68,
     "metadata": {},
     "output_type": "execute_result"
    }
   ],
   "source": [
    "X_train.columns"
   ]
  },
  {
   "cell_type": "code",
   "execution_count": 69,
   "metadata": {
    "execution": {
     "iopub.execute_input": "2022-11-07T11:13:03.709565Z",
     "iopub.status.busy": "2022-11-07T11:13:03.709444Z",
     "iopub.status.idle": "2022-11-07T11:13:03.714620Z",
     "shell.execute_reply": "2022-11-07T11:13:03.714129Z",
     "shell.execute_reply.started": "2022-11-07T11:13:03.709551Z"
    }
   },
   "outputs": [
    {
     "data": {
      "text/plain": [
       "['Work_accident',\n",
       " 'promotion_last_5years',\n",
       " 'departments',\n",
       " 'salary',\n",
       " 'satisfaction_level',\n",
       " 'last_evaluation',\n",
       " 'number_project',\n",
       " 'average_montly_hours',\n",
       " 'time_spend_company']"
      ]
     },
     "execution_count": 69,
     "metadata": {},
     "output_type": "execute_result"
    }
   ],
   "source": [
    "features = list(X_train[cat].columns) + list(X_train.drop(columns=cat).columns)\n",
    "features"
   ]
  },
  {
   "cell_type": "code",
   "execution_count": 70,
   "metadata": {
    "execution": {
     "iopub.execute_input": "2022-11-07T11:13:03.715580Z",
     "iopub.status.busy": "2022-11-07T11:13:03.715439Z",
     "iopub.status.idle": "2022-11-07T11:13:03.734484Z",
     "shell.execute_reply": "2022-11-07T11:13:03.733680Z",
     "shell.execute_reply.started": "2022-11-07T11:13:03.715566Z"
    },
    "tags": []
   },
   "outputs": [
    {
     "data": {
      "text/html": [
       "<div>\n",
       "<style scoped>\n",
       "    .dataframe tbody tr th:only-of-type {\n",
       "        vertical-align: middle;\n",
       "    }\n",
       "\n",
       "    .dataframe tbody tr th {\n",
       "        vertical-align: top;\n",
       "    }\n",
       "\n",
       "    .dataframe thead th {\n",
       "        text-align: right;\n",
       "    }\n",
       "</style>\n",
       "<table border=\"1\" class=\"dataframe\">\n",
       "  <thead>\n",
       "    <tr style=\"text-align: right;\">\n",
       "      <th></th>\n",
       "      <th>Feature Importance</th>\n",
       "    </tr>\n",
       "  </thead>\n",
       "  <tbody>\n",
       "    <tr>\n",
       "      <th>satisfaction_level</th>\n",
       "      <td>0.311</td>\n",
       "    </tr>\n",
       "    <tr>\n",
       "      <th>time_spend_company</th>\n",
       "      <td>0.259</td>\n",
       "    </tr>\n",
       "    <tr>\n",
       "      <th>number_project</th>\n",
       "      <td>0.150</td>\n",
       "    </tr>\n",
       "    <tr>\n",
       "      <th>average_montly_hours</th>\n",
       "      <td>0.134</td>\n",
       "    </tr>\n",
       "    <tr>\n",
       "      <th>last_evaluation</th>\n",
       "      <td>0.121</td>\n",
       "    </tr>\n",
       "    <tr>\n",
       "      <th>departments</th>\n",
       "      <td>0.010</td>\n",
       "    </tr>\n",
       "    <tr>\n",
       "      <th>Work_accident</th>\n",
       "      <td>0.008</td>\n",
       "    </tr>\n",
       "    <tr>\n",
       "      <th>salary</th>\n",
       "      <td>0.006</td>\n",
       "    </tr>\n",
       "    <tr>\n",
       "      <th>promotion_last_5years</th>\n",
       "      <td>0.001</td>\n",
       "    </tr>\n",
       "  </tbody>\n",
       "</table>\n",
       "</div>"
      ],
      "text/plain": [
       "                       Feature Importance\n",
       "satisfaction_level                  0.311\n",
       "time_spend_company                  0.259\n",
       "number_project                      0.150\n",
       "average_montly_hours                0.134\n",
       "last_evaluation                     0.121\n",
       "departments                         0.010\n",
       "Work_accident                       0.008\n",
       "salary                              0.006\n",
       "promotion_last_5years               0.001"
      ]
     },
     "execution_count": 70,
     "metadata": {},
     "output_type": "execute_result"
    }
   ],
   "source": [
    "rf_feature_imp = pd.DataFrame(data = pipe_RF[\"RF_model\"].feature_importances_, index = features, #index=X.columns\n",
    "                              columns = [\"Feature Importance\"]).sort_values(\"Feature Importance\", ascending = False)\n",
    "rf_feature_imp"
   ]
  },
  {
   "cell_type": "code",
   "execution_count": 71,
   "metadata": {
    "execution": {
     "iopub.execute_input": "2022-11-07T11:13:03.735674Z",
     "iopub.status.busy": "2022-11-07T11:13:03.735497Z",
     "iopub.status.idle": "2022-11-07T11:13:03.908799Z",
     "shell.execute_reply": "2022-11-07T11:13:03.908294Z",
     "shell.execute_reply.started": "2022-11-07T11:13:03.735659Z"
    },
    "tags": []
   },
   "outputs": [
    {
     "data": {
      "image/png": "[encoded data removed]",
      "text/plain": [
       "<Figure size 800x550 with 1 Axes>"
      ]
     },
     "metadata": {},
     "output_type": "display_data"
    }
   ],
   "source": [
    "ax = sns.barplot(x=rf_feature_imp[\"Feature Importance\"], y=rf_feature_imp.index)\n",
    "ax.bar_label(ax.containers[0],fmt=\"%.3f\")\n",
    "plt.title(\"Feature Importance for Random Forest\")\n",
    "plt.show()"
   ]
  },
  {
   "cell_type": "code",
   "execution_count": 72,
   "metadata": {
    "execution": {
     "iopub.execute_input": "2022-11-07T11:13:03.909638Z",
     "iopub.status.busy": "2022-11-07T11:13:03.909525Z",
     "iopub.status.idle": "2022-11-07T11:13:04.061158Z",
     "shell.execute_reply": "2022-11-07T11:13:04.060682Z",
     "shell.execute_reply.started": "2022-11-07T11:13:03.909623Z"
    },
    "tags": []
   },
   "outputs": [
    {
     "data": {
      "image/png": "[encoded data removed]",
      "text/plain": [
       "<Figure size 800x550 with 1 Axes>"
      ]
     },
     "metadata": {},
     "output_type": "display_data"
    }
   ],
   "source": [
    "from yellowbrick.model_selection import FeatureImportances\n",
    "\n",
    "model = pipe_RF[\"RF_model\"]\n",
    "viz = FeatureImportances(model, labels=features)\n",
    "viz.fit(X_train, y_train)\n",
    "viz.show();"
   ]
  },
  {
   "cell_type": "markdown",
   "metadata": {
    "id": "_BYTdWlr2soJ"
   },
   "source": [
    "#### Prediction"
   ]
  },
  {
   "cell_type": "code",
   "execution_count": 73,
   "metadata": {
    "execution": {
     "iopub.execute_input": "2022-11-07T11:13:04.062486Z",
     "iopub.status.busy": "2022-11-07T11:13:04.062376Z",
     "iopub.status.idle": "2022-11-07T11:13:04.072299Z",
     "shell.execute_reply": "2022-11-07T11:13:04.071763Z",
     "shell.execute_reply.started": "2022-11-07T11:13:04.062472Z"
    },
    "id": "9KT7jzZ-TgMe",
    "tags": []
   },
   "outputs": [
    {
     "data": {
      "text/html": [
       "<div>\n",
       "<style scoped>\n",
       "    .dataframe tbody tr th:only-of-type {\n",
       "        vertical-align: middle;\n",
       "    }\n",
       "\n",
       "    .dataframe tbody tr th {\n",
       "        vertical-align: top;\n",
       "    }\n",
       "\n",
       "    .dataframe thead th {\n",
       "        text-align: right;\n",
       "    }\n",
       "</style>\n",
       "<table border=\"1\" class=\"dataframe\">\n",
       "  <thead>\n",
       "    <tr style=\"text-align: right;\">\n",
       "      <th></th>\n",
       "      <th>satisfaction_level</th>\n",
       "      <th>last_evaluation</th>\n",
       "      <th>number_project</th>\n",
       "      <th>average_montly_hours</th>\n",
       "      <th>time_spend_company</th>\n",
       "      <th>Work_accident</th>\n",
       "      <th>left</th>\n",
       "      <th>promotion_last_5years</th>\n",
       "      <th>departments</th>\n",
       "      <th>salary</th>\n",
       "    </tr>\n",
       "  </thead>\n",
       "  <tbody>\n",
       "    <tr>\n",
       "      <th>9598</th>\n",
       "      <td>0.790</td>\n",
       "      <td>0.720</td>\n",
       "      <td>5</td>\n",
       "      <td>245</td>\n",
       "      <td>3</td>\n",
       "      <td>1</td>\n",
       "      <td>0</td>\n",
       "      <td>0</td>\n",
       "      <td>technical</td>\n",
       "      <td>low</td>\n",
       "    </tr>\n",
       "    <tr>\n",
       "      <th>5519</th>\n",
       "      <td>0.980</td>\n",
       "      <td>0.570</td>\n",
       "      <td>5</td>\n",
       "      <td>141</td>\n",
       "      <td>3</td>\n",
       "      <td>0</td>\n",
       "      <td>0</td>\n",
       "      <td>1</td>\n",
       "      <td>sales</td>\n",
       "      <td>high</td>\n",
       "    </tr>\n",
       "    <tr>\n",
       "      <th>11054</th>\n",
       "      <td>0.590</td>\n",
       "      <td>0.540</td>\n",
       "      <td>4</td>\n",
       "      <td>178</td>\n",
       "      <td>2</td>\n",
       "      <td>0</td>\n",
       "      <td>0</td>\n",
       "      <td>0</td>\n",
       "      <td>support</td>\n",
       "      <td>medium</td>\n",
       "    </tr>\n",
       "    <tr>\n",
       "      <th>3628</th>\n",
       "      <td>0.210</td>\n",
       "      <td>0.930</td>\n",
       "      <td>4</td>\n",
       "      <td>243</td>\n",
       "      <td>4</td>\n",
       "      <td>0</td>\n",
       "      <td>0</td>\n",
       "      <td>0</td>\n",
       "      <td>technical</td>\n",
       "      <td>low</td>\n",
       "    </tr>\n",
       "    <tr>\n",
       "      <th>6645</th>\n",
       "      <td>0.730</td>\n",
       "      <td>0.940</td>\n",
       "      <td>4</td>\n",
       "      <td>213</td>\n",
       "      <td>3</td>\n",
       "      <td>1</td>\n",
       "      <td>0</td>\n",
       "      <td>0</td>\n",
       "      <td>marketing</td>\n",
       "      <td>medium</td>\n",
       "    </tr>\n",
       "  </tbody>\n",
       "</table>\n",
       "</div>"
      ],
      "text/plain": [
       "       satisfaction_level  last_evaluation  number_project  \\\n",
       "9598                0.790            0.720               5   \n",
       "5519                0.980            0.570               5   \n",
       "11054               0.590            0.540               4   \n",
       "3628                0.210            0.930               4   \n",
       "6645                0.730            0.940               4   \n",
       "\n",
       "       average_montly_hours  time_spend_company  Work_accident  left  \\\n",
       "9598                    245                   3              1     0   \n",
       "5519                    141                   3              0     0   \n",
       "11054                   178                   2              0     0   \n",
       "3628                    243                   4              0     0   \n",
       "6645                    213                   3              1     0   \n",
       "\n",
       "       promotion_last_5years departments  salary  \n",
       "9598                       0   technical     low  \n",
       "5519                       1       sales    high  \n",
       "11054                      0     support  medium  \n",
       "3628                       0   technical     low  \n",
       "6645                       0   marketing  medium  "
      ]
     },
     "execution_count": 73,
     "metadata": {},
     "output_type": "execute_result"
    }
   ],
   "source": [
    "obs = df.sample(5)\n",
    "obs"
   ]
  },
  {
   "cell_type": "code",
   "execution_count": 74,
   "metadata": {
    "execution": {
     "iopub.execute_input": "2022-11-07T11:13:04.073141Z",
     "iopub.status.busy": "2022-11-07T11:13:04.072987Z",
     "iopub.status.idle": "2022-11-07T11:13:04.102309Z",
     "shell.execute_reply": "2022-11-07T11:13:04.101655Z",
     "shell.execute_reply.started": "2022-11-07T11:13:04.073120Z"
    },
    "tags": []
   },
   "outputs": [
    {
     "data": {
      "text/plain": [
       "array([0, 0, 0, 0, 0])"
      ]
     },
     "execution_count": 74,
     "metadata": {},
     "output_type": "execute_result"
    }
   ],
   "source": [
    "pipe_RF.predict(obs)"
   ]
  },
  {
   "cell_type": "code",
   "execution_count": 96,
   "metadata": {
    "execution": {
     "iopub.execute_input": "2022-11-07T11:18:03.235647Z",
     "iopub.status.busy": "2022-11-07T11:18:03.235340Z",
     "iopub.status.idle": "2022-11-07T11:18:03.251674Z",
     "shell.execute_reply": "2022-11-07T11:18:03.251128Z",
     "shell.execute_reply.started": "2022-11-07T11:18:03.235612Z"
    },
    "tags": []
   },
   "outputs": [],
   "source": [
    "import pickle\n",
    "pickle.dump(pipe_RF, open(\"Random_Forest.pkl\", 'wb'))"
   ]
  },
  {
   "cell_type": "code",
   "execution_count": 97,
   "metadata": {
    "execution": {
     "iopub.execute_input": "2022-11-07T11:18:05.444404Z",
     "iopub.status.busy": "2022-11-07T11:18:05.444209Z",
     "iopub.status.idle": "2022-11-07T11:18:05.455337Z",
     "shell.execute_reply": "2022-11-07T11:18:05.454851Z",
     "shell.execute_reply.started": "2022-11-07T11:18:05.444377Z"
    },
    "tags": []
   },
   "outputs": [],
   "source": [
    "rf_model = pickle.load(open(\"Random_Forest.pkl\", 'rb'))"
   ]
  },
  {
   "cell_type": "code",
   "execution_count": 98,
   "metadata": {
    "execution": {
     "iopub.execute_input": "2022-11-07T11:18:06.403312Z",
     "iopub.status.busy": "2022-11-07T11:18:06.403115Z",
     "iopub.status.idle": "2022-11-07T11:18:06.462742Z",
     "shell.execute_reply": "2022-11-07T11:18:06.462230Z",
     "shell.execute_reply.started": "2022-11-07T11:18:06.403284Z"
    },
    "tags": []
   },
   "outputs": [],
   "source": [
    "y_pred = rf_model.predict(X_test)"
   ]
  },
  {
   "cell_type": "code",
   "execution_count": 103,
   "metadata": {
    "execution": {
     "iopub.execute_input": "2022-11-07T11:18:20.159297Z",
     "iopub.status.busy": "2022-11-07T11:18:20.158825Z",
     "iopub.status.idle": "2022-11-07T11:18:20.165037Z",
     "shell.execute_reply": "2022-11-07T11:18:20.164567Z",
     "shell.execute_reply.started": "2022-11-07T11:18:20.159275Z"
    },
    "tags": []
   },
   "outputs": [
    {
     "data": {
      "text/html": [
       "<div>\n",
       "<style scoped>\n",
       "    .dataframe tbody tr th:only-of-type {\n",
       "        vertical-align: middle;\n",
       "    }\n",
       "\n",
       "    .dataframe tbody tr th {\n",
       "        vertical-align: top;\n",
       "    }\n",
       "\n",
       "    .dataframe thead th {\n",
       "        text-align: right;\n",
       "    }\n",
       "</style>\n",
       "<table border=\"1\" class=\"dataframe\">\n",
       "  <thead>\n",
       "    <tr style=\"text-align: right;\">\n",
       "      <th></th>\n",
       "      <th>Actual</th>\n",
       "      <th>Pred</th>\n",
       "    </tr>\n",
       "  </thead>\n",
       "  <tbody>\n",
       "    <tr>\n",
       "      <th>14574</th>\n",
       "      <td>1</td>\n",
       "      <td>1</td>\n",
       "    </tr>\n",
       "    <tr>\n",
       "      <th>13375</th>\n",
       "      <td>0</td>\n",
       "      <td>0</td>\n",
       "    </tr>\n",
       "    <tr>\n",
       "      <th>10597</th>\n",
       "      <td>0</td>\n",
       "      <td>0</td>\n",
       "    </tr>\n",
       "    <tr>\n",
       "      <th>10420</th>\n",
       "      <td>0</td>\n",
       "      <td>0</td>\n",
       "    </tr>\n",
       "    <tr>\n",
       "      <th>10258</th>\n",
       "      <td>0</td>\n",
       "      <td>0</td>\n",
       "    </tr>\n",
       "    <tr>\n",
       "      <th>699</th>\n",
       "      <td>1</td>\n",
       "      <td>1</td>\n",
       "    </tr>\n",
       "    <tr>\n",
       "      <th>461</th>\n",
       "      <td>1</td>\n",
       "      <td>1</td>\n",
       "    </tr>\n",
       "    <tr>\n",
       "      <th>7434</th>\n",
       "      <td>0</td>\n",
       "      <td>0</td>\n",
       "    </tr>\n",
       "    <tr>\n",
       "      <th>6519</th>\n",
       "      <td>0</td>\n",
       "      <td>0</td>\n",
       "    </tr>\n",
       "    <tr>\n",
       "      <th>5001</th>\n",
       "      <td>0</td>\n",
       "      <td>0</td>\n",
       "    </tr>\n",
       "  </tbody>\n",
       "</table>\n",
       "</div>"
      ],
      "text/plain": [
       "       Actual  Pred\n",
       "14574       1     1\n",
       "13375       0     0\n",
       "10597       0     0\n",
       "10420       0     0\n",
       "10258       0     0\n",
       "699         1     1\n",
       "461         1     1\n",
       "7434        0     0\n",
       "6519        0     0\n",
       "5001        0     0"
      ]
     },
     "execution_count": 103,
     "metadata": {},
     "output_type": "execute_result"
    }
   ],
   "source": [
    "my_dict = {\"Actual\": y_test, \n",
    "           \"Pred\":y_pred}\n",
    "           \n",
    "pd.DataFrame.from_dict(my_dict).sample(10)"
   ]
  },
  {
   "cell_type": "markdown",
   "metadata": {
    "id": "Hv7E8XsazFMM"
   },
   "source": [
    "## 4. Model Deployement\n",
    "\n",
    " Model Deployement helps you showcase your work to the world and make better decisions with it. But, deploying a model can get a little tricky at times. Before deploying the model, many things such as data storage, preprocessing, model building and monitoring need to be studied. Streamlit is a popular open source framework used by data scientists for model distribution.\n",
    "\n",
    "Deployment of machine learning models, means making your models available to your other business systems. By deploying models, other systems can send data to them and get their predictions, which are in turn populated back into the company systems. Through machine learning model deployment, can begin to take full advantage of the model you built.\n",
    "\n",
    "Data science is concerned with how to build machine learning models, which algorithm is more predictive, how to design features, and what variables to use to make the models more accurate. However, how these models are actually used is often neglected. And yet this is the most important step in the machine learning pipline. Only when a model is fully integrated with the business systems, real values ​​can be extract from its predictions."
   ]
  }
 ],
 "metadata": {
  "colab": {
   "collapsed_sections": [],
   "provenance": []
  },
  "kernelspec": {
   "display_name": "Python 3 (ipykernel)",
   "language": "python",
   "name": "python3"
  },
  "language_info": {
   "codemirror_mode": {
    "name": "ipython",
    "version": 3
   },
   "file_extension": ".py",
   "mimetype": "text/x-python",
   "name": "python",
   "nbconvert_exporter": "python",
   "pygments_lexer": "ipython3",
   "version": "3.9.13"
  },
  "vscode": {
   "interpreter": {
    "hash": "b91502e98c93ec413571a3c4a71c4e7e2f090119475bdef759aa0802c5125d05"
   }
  }
 },
 "nbformat": 4,
 "nbformat_minor": 4
}
