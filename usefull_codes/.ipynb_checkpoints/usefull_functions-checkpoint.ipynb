{
 "cells": [
  {
   "cell_type": "markdown",
   "metadata": {
    "tags": []
   },
   "source": [
    "# visualization related"
   ]
  },
  {
   "cell_type": "markdown",
   "metadata": {},
   "source": [
    "## visual parameters"
   ]
  },
  {
   "cell_type": "code",
   "execution_count": null,
   "metadata": {
    "tags": []
   },
   "outputs": [],
   "source": [
    "# The style parameters control properties like the color of the background and whether a grid is enabled by default.\n",
    "# sns.set_style(\"whitegrid\", {'axes.grid' : False})\n",
    "sns.set_style(\"whitegrid\")\n",
    "params = {\n",
    "'figure.figsize':(12,6),\n",
    "'figure.titlesize':20,\n",
    "'font.size': 15,\n",
    "'axes.titlesize': 20,\n",
    "'axes.labelsize': 15,\n",
    "'xtick.labelsize': 15,\n",
    "'ytick.labelsize': 15,\n",
    "'legend.fontsize': 15,\n",
    "'boxplot.showmeans': True,\n",
    "'boxplot.meanprops.marker': 'o',\n",
    "'boxplot.meanprops.markeredgecolor': 'k',\n",
    "'boxplot.meanprops.markerfacecolor': 'r',\n",
    "'boxplot.meanprops.markersize': 10.1,\n",
    "'boxplot.medianprops.color': 'r',\n",
    "'boxplot.medianprops.linewidth': 2.0,\n",
    "}\n",
    "plt.rcParams.update(params)\n",
    "# plt.rcParams.update(plt.rcParamsDefault)\n",
    "# print(plt.style.library)\n",
    "# print(plt.rcParams['figure.figsize'])"
   ]
  },
  {
   "cell_type": "markdown",
   "metadata": {},
   "source": [
    "## multiple plots"
   ]
  },
  {
   "cell_type": "code",
   "execution_count": null,
   "metadata": {
    "execution": {
     "iopub.status.busy": "2022-10-10T01:27:12.963301Z",
     "iopub.status.idle": "2022-10-10T01:27:12.963477Z",
     "shell.execute_reply": "2022-10-10T01:27:12.963387Z",
     "shell.execute_reply.started": "2022-10-10T01:27:12.963377Z"
    }
   },
   "outputs": [],
   "source": [
    "index = 0\n",
    "plt.figure(figsize=(20,20))\n",
    "for feature in df.columns:\n",
    "    if feature != \"Outcome\":\n",
    "        index += 1\n",
    "        plt.subplot(3,3,index)\n",
    "        sns.boxplot(x='Outcome',y=feature,data=df)"
   ]
  },
  {
   "cell_type": "markdown",
   "metadata": {},
   "source": [
    "## plot labels"
   ]
  },
  {
   "cell_type": "code",
   "execution_count": null,
   "metadata": {
    "execution": {
     "iopub.status.busy": "2022-10-10T01:27:12.964330Z",
     "iopub.status.idle": "2022-10-10T01:27:12.964612Z",
     "shell.execute_reply": "2022-10-10T01:27:12.964523Z",
     "shell.execute_reply.started": "2022-10-10T01:27:12.964513Z"
    }
   },
   "outputs": [],
   "source": [
    "def labels(ax):\n",
    "    for p in ax.patches:\n",
    "        width = p.get_width()                        # get bar length\n",
    "        ax.text(width,                               # set the text at 1 unit right of the bar\n",
    "                p.get_y() + p.get_height() / 2,      # get Y coordinate + X coordinate / 2\n",
    "                '{:1.3f}'.format(width),             # set variable to display, 2 decimals\n",
    "                ha = 'left',                         # horizontal alignment\n",
    "                va = 'center')                       # vertical alignment"
   ]
  },
  {
   "cell_type": "code",
   "execution_count": null,
   "metadata": {
    "ExecuteTime": {
     "end_time": "2022-08-28T20:07:07.857901Z",
     "start_time": "2022-08-28T20:07:07.734466Z"
    },
    "execution": {
     "iopub.status.busy": "2022-10-10T01:27:12.965554Z",
     "iopub.status.idle": "2022-10-10T01:27:12.965746Z",
     "shell.execute_reply": "2022-10-10T01:27:12.965660Z",
     "shell.execute_reply.started": "2022-10-10T01:27:12.965649Z"
    },
    "id": "edf3cbe3",
    "outputId": "4fe1cc04-1551-4e78-b8a2-05e318c015c8"
   },
   "outputs": [],
   "source": [
    "ax = sns.countplot(x=\"species\", data = df)\n",
    "ax.bar_label(ax.containers[0], fontsize=\"small\");"
   ]
  },
  {
   "cell_type": "code",
   "execution_count": null,
   "metadata": {
    "ExecuteTime": {
     "end_time": "2022-08-28T20:07:07.952052Z",
     "start_time": "2022-08-28T20:07:07.858901Z"
    },
    "execution": {
     "iopub.status.busy": "2022-10-10T01:27:12.966485Z",
     "iopub.status.idle": "2022-10-10T01:27:12.966652Z",
     "shell.execute_reply": "2022-10-10T01:27:12.966567Z",
     "shell.execute_reply.started": "2022-10-10T01:27:12.966557Z"
    },
    "id": "a23a562f",
    "outputId": "b65714cc-6a0d-4dce-fa44-e7401d5bd644"
   },
   "outputs": [],
   "source": [
    "ax = sns.countplot(x=\"species\", hue=\"sex\", data = df)\n",
    "for p in ax.containers:\n",
    "    ax.bar_label(p)"
   ]
  },
  {
   "cell_type": "code",
   "execution_count": null,
   "metadata": {
    "ExecuteTime": {
     "end_time": "2022-08-28T20:07:13.123863Z",
     "start_time": "2022-08-28T20:07:13.014800Z"
    },
    "execution": {
     "iopub.status.busy": "2022-10-10T01:27:12.967390Z",
     "iopub.status.idle": "2022-10-10T01:27:12.967640Z",
     "shell.execute_reply": "2022-10-10T01:27:12.967518Z",
     "shell.execute_reply.started": "2022-10-10T01:27:12.967508Z"
    },
    "id": "0eac65b8",
    "outputId": "424a9014-20c2-428a-f893-9464355c1038"
   },
   "outputs": [],
   "source": [
    "ax = sns.barplot(x = df_f_i.index, y = 'Feature Importance', data = df_f_i)\n",
    "ax.bar_label(ax.containers[0],fmt=\"%.3f\");\n",
    "plt.xticks(rotation = 90)\n",
    "plt.tight_layout()"
   ]
  },
  {
   "cell_type": "code",
   "execution_count": null,
   "metadata": {
    "execution": {
     "iopub.status.busy": "2022-10-10T01:27:12.968444Z",
     "iopub.status.idle": "2022-10-10T01:27:12.968608Z",
     "shell.execute_reply": "2022-10-10T01:27:12.968523Z",
     "shell.execute_reply.started": "2022-10-10T01:27:12.968514Z"
    }
   },
   "outputs": [],
   "source": [
    "plt.figure(figsize=(12,6))\n",
    "splot = sns.barplot(data=imp_feats.sort_values('Importance'),x=imp_feats.sort_values('Importance').index,y='Importance')\n",
    "plt.xticks(rotation=90)\n",
    "for p in splot.patches:\n",
    "    splot.annotate(format(p.get_height(), '.2f'), \n",
    "                   (p.get_x() + p.get_width() / 2., p.get_height()), \n",
    "                   ha = 'center', va = 'center', \n",
    "                   size=15,\n",
    "                   xytext = (0, -12), \n",
    "                   textcoords = 'offset points')"
   ]
  },
  {
   "cell_type": "code",
   "execution_count": null,
   "metadata": {
    "execution": {
     "iopub.status.busy": "2022-10-10T01:27:12.969467Z",
     "iopub.status.idle": "2022-10-10T01:27:12.969660Z",
     "shell.execute_reply": "2022-10-10T01:27:12.969572Z",
     "shell.execute_reply.started": "2022-10-10T01:27:12.969563Z"
    }
   },
   "outputs": [],
   "source": [
    "imp_feats.sort_values('Importance')"
   ]
  },
  {
   "cell_type": "markdown",
   "metadata": {},
   "source": [
    "## 3D plotly"
   ]
  },
  {
   "cell_type": "code",
   "execution_count": null,
   "metadata": {
    "ExecuteTime": {
     "end_time": "2022-08-28T20:07:10.722309Z",
     "start_time": "2022-08-28T20:07:09.957910Z"
    },
    "execution": {
     "iopub.status.busy": "2022-10-10T01:27:12.970393Z",
     "iopub.status.idle": "2022-10-10T01:27:12.970636Z",
     "shell.execute_reply": "2022-10-10T01:27:12.970512Z",
     "shell.execute_reply.started": "2022-10-10T01:27:12.970496Z"
    },
    "id": "111d30cf"
   },
   "outputs": [],
   "source": [
    "import plotly.express as px"
   ]
  },
  {
   "cell_type": "code",
   "execution_count": null,
   "metadata": {
    "ExecuteTime": {
     "end_time": "2022-08-28T20:07:11.633646Z",
     "start_time": "2022-08-28T20:07:10.722309Z"
    },
    "execution": {
     "iopub.status.busy": "2022-10-10T01:27:12.971332Z",
     "iopub.status.idle": "2022-10-10T01:27:12.971497Z",
     "shell.execute_reply": "2022-10-10T01:27:12.971412Z",
     "shell.execute_reply.started": "2022-10-10T01:27:12.971403Z"
    },
    "id": "3d9693b2",
    "outputId": "8e4ad92b-a47a-4f51-ba73-67cf6e3ff28f"
   },
   "outputs": [],
   "source": [
    "fig = px.scatter_3d(df, \n",
    "                    x='culmen_length_mm',\n",
    "                    y='flipper_length_mm',\n",
    "                    z='culmen_depth_mm',\n",
    "                    color='species')\n",
    "fig.show();"
   ]
  },
  {
   "cell_type": "markdown",
   "metadata": {},
   "source": [
    "## All possible scatter plots in  a df"
   ]
  },
  {
   "cell_type": "code",
   "execution_count": null,
   "metadata": {
    "ExecuteTime": {
     "end_time": "2022-09-07T10:40:32.176438Z",
     "start_time": "2022-09-07T10:40:31.531613Z"
    },
    "execution": {
     "iopub.status.busy": "2022-10-10T01:27:12.972744Z",
     "iopub.status.idle": "2022-10-10T01:27:12.973056Z",
     "shell.execute_reply": "2022-10-10T01:27:12.972910Z",
     "shell.execute_reply.started": "2022-10-10T01:27:12.972894Z"
    }
   },
   "outputs": [],
   "source": [
    "plt.figure(figsize = (20,18))\n",
    "plot_number = 1\n",
    "for i in df:\n",
    "    for j in df:\n",
    "        if j!=i:\n",
    "            plt.subplot(4,3,plot_number)\n",
    "            plt.scatter(df[j], df[i], c = clusters, cmap = \"viridis\")\n",
    "            plt.xlabel(j)\n",
    "            plt.ylabel(i)\n",
    "            plot_number += 1\n",
    "            \n",
    "# 4 feature 3 class ımız var. Her bir kombinasyon için bir scatter plot çizdirdik\n",
    "# Bütün featureların birbiri ile olan ilişkisini görüyoruz\n",
    "# Hangi featureların nasıl ayrıştığını görüyoruz"
   ]
  },
  {
   "cell_type": "markdown",
   "metadata": {},
   "source": [
    "## All histograms in df"
   ]
  },
  {
   "cell_type": "code",
   "execution_count": null,
   "metadata": {
    "cell_style": "split",
    "execution": {
     "iopub.status.busy": "2022-10-10T01:27:12.974049Z",
     "iopub.status.idle": "2022-10-10T01:27:12.974379Z",
     "shell.execute_reply": "2022-10-10T01:27:12.974192Z",
     "shell.execute_reply.started": "2022-10-10T01:27:12.974178Z"
    },
    "hidden": true,
    "tags": []
   },
   "outputs": [],
   "source": [
    "df.hist(figsize=(15, 12), bins=15);"
   ]
  },
  {
   "cell_type": "markdown",
   "metadata": {},
   "source": [
    "## correalations as barplot"
   ]
  },
  {
   "cell_type": "code",
   "execution_count": null,
   "metadata": {
    "execution": {
     "iopub.status.busy": "2022-10-10T01:27:12.975396Z",
     "iopub.status.idle": "2022-10-10T01:27:12.975748Z",
     "shell.execute_reply": "2022-10-10T01:27:12.975641Z",
     "shell.execute_reply.started": "2022-10-10T01:27:12.975629Z"
    }
   },
   "outputs": [],
   "source": [
    "ax = df.corr()[\"Customer_Segment\"][:-1].sort_values().plot(kind=\"barh\")\n",
    "ax.bar_label(ax.containers[0], fmt=\"%.2f\");\n",
    "# Her bir feature ın customer segment ile olan korelasyonu\n",
    "# Ash_alcanity ve flavanoids customer segmenti belirleyiciymiş"
   ]
  },
  {
   "cell_type": "code",
   "execution_count": null,
   "metadata": {
    "cell_style": "center",
    "colab": {
     "base_uri": "https://localhost:8080/",
     "height": 391
    },
    "execution": {
     "iopub.status.busy": "2022-10-10T01:27:12.976462Z",
     "iopub.status.idle": "2022-10-10T01:27:12.976653Z",
     "shell.execute_reply": "2022-10-10T01:27:12.976562Z",
     "shell.execute_reply.started": "2022-10-10T01:27:12.976534Z"
    },
    "executionInfo": {
     "elapsed": 1405,
     "status": "ok",
     "timestamp": 1610203065835,
     "user": {
      "displayName": "Richard C",
      "photoUrl": "",
      "userId": "08040814671867660929"
     },
     "user_tz": -180
    },
    "hidden": true,
    "id": "IasR3c8ajeC0",
    "outputId": "4742bedb-e6bc-4967-f1cd-c36f7610f33e"
   },
   "outputs": [],
   "source": [
    "df.corr()['Exited'][:-1].sort_values().plot.barh();"
   ]
  },
  {
   "cell_type": "markdown",
   "metadata": {
    "execution": {
     "iopub.execute_input": "2022-10-28T01:54:16.786351Z",
     "iopub.status.busy": "2022-10-28T01:54:16.785841Z",
     "iopub.status.idle": "2022-10-28T01:54:16.788906Z",
     "shell.execute_reply": "2022-10-28T01:54:16.788557Z",
     "shell.execute_reply.started": "2022-10-28T01:54:16.786302Z"
    }
   },
   "source": [
    "## subplots"
   ]
  },
  {
   "cell_type": "code",
   "execution_count": null,
   "metadata": {
    "collapsed": true,
    "execution": {
     "iopub.execute_input": "2022-10-28T01:52:15.714346Z",
     "iopub.status.busy": "2022-10-28T01:52:15.714144Z",
     "iopub.status.idle": "2022-10-28T01:52:17.379033Z",
     "shell.execute_reply": "2022-10-28T01:52:17.378442Z",
     "shell.execute_reply.started": "2022-10-28T01:52:15.714317Z"
    },
    "jupyter": {
     "outputs_hidden": true
    },
    "tags": []
   },
   "outputs": [
    {
     "data": {
      "image/png": "[encoded data removed]",
      "text/plain": [
       "<Figure size 1500x1500 with 13 Axes>"
      ]
     },
     "metadata": {},
     "output_type": "display_data"
    }
   ],
   "source": [
    "plt.figure(figsize=(15,15))\n",
    "plt.suptitle(\"comparison of cohorts\")\n",
    "\n",
    "for i in range(len(cohort_df)):\n",
    "    plt.subplot(5,3,i+1)\n",
    "    ax = cohort_df.iloc[i].plot(kind=\"bar\", title=cohort_df.index[i].strftime(\"%Y-%b\"))\n",
    "    ax.bar_label(ax.containers[0], fontsize=\"small\")\n",
    "    plt.subplots_adjust(top=0.93, hspace=0.7)"
   ]
  },
  {
   "cell_type": "markdown",
   "metadata": {
    "tags": []
   },
   "source": [
    "# Pandas"
   ]
  },
  {
   "cell_type": "markdown",
   "metadata": {},
   "source": [
    "## combine hierarchical columns name"
   ]
  },
  {
   "cell_type": "code",
   "execution_count": null,
   "metadata": {
    "execution": {
     "iopub.status.busy": "2022-10-10T01:27:12.977553Z",
     "iopub.status.idle": "2022-10-10T01:27:12.977839Z",
     "shell.execute_reply": "2022-10-10T01:27:12.977747Z",
     "shell.execute_reply.started": "2022-10-10T01:27:12.977737Z"
    }
   },
   "outputs": [],
   "source": [
    "%%script echo skipping\n",
    "df.columns = [f'{x}_{y}' for x,y in df.columns]"
   ]
  },
  {
   "cell_type": "markdown",
   "metadata": {},
   "source": [
    "## duplike kolonları duplike satır gibi düş"
   ]
  },
  {
   "cell_type": "code",
   "execution_count": null,
   "metadata": {
    "execution": {
     "iopub.status.busy": "2022-10-10T01:27:12.978713Z",
     "iopub.status.idle": "2022-10-10T01:27:12.978886Z",
     "shell.execute_reply": "2022-10-10T01:27:12.978796Z",
     "shell.execute_reply.started": "2022-10-10T01:27:12.978786Z"
    }
   },
   "outputs": [],
   "source": [
    "df = df.T.drop_duplicates().T\n",
    "df.select_dtypes('O').describe().T"
   ]
  },
  {
   "cell_type": "markdown",
   "metadata": {},
   "source": [
    "## unique values in object columns"
   ]
  },
  {
   "cell_type": "code",
   "execution_count": null,
   "metadata": {
    "execution": {
     "iopub.status.busy": "2022-10-10T01:27:12.979415Z",
     "iopub.status.idle": "2022-10-10T01:27:12.979590Z",
     "shell.execute_reply": "2022-10-10T01:27:12.979503Z",
     "shell.execute_reply.started": "2022-10-10T01:27:12.979493Z"
    }
   },
   "outputs": [],
   "source": [
    "for feature in df.columns:\n",
    "    if df[feature].dtype==\"object\":\n",
    "        print(df[feature].unique())"
   ]
  },
  {
   "cell_type": "code",
   "execution_count": null,
   "metadata": {
    "execution": {
     "iopub.status.busy": "2022-10-10T01:27:12.980574Z",
     "iopub.status.idle": "2022-10-10T01:27:12.980848Z",
     "shell.execute_reply": "2022-10-10T01:27:12.980717Z",
     "shell.execute_reply.started": "2022-10-10T01:27:12.980704Z"
    }
   },
   "outputs": [],
   "source": [
    "for feature in df.columns:\n",
    "    if df[feature].dtype==\"object\":\n",
    "        print(feature, df[feature].nunique())"
   ]
  },
  {
   "cell_type": "markdown",
   "metadata": {},
   "source": [
    "## value counts in all object columns"
   ]
  },
  {
   "cell_type": "code",
   "execution_count": null,
   "metadata": {
    "execution": {
     "iopub.status.busy": "2022-10-10T01:27:12.981745Z",
     "iopub.status.idle": "2022-10-10T01:27:12.981988Z",
     "shell.execute_reply": "2022-10-10T01:27:12.981860Z",
     "shell.execute_reply.started": "2022-10-10T01:27:12.981847Z"
    }
   },
   "outputs": [],
   "source": [
    "for feature in df.columns:\n",
    "    if df[feature].dtype==\"object\":\n",
    "        print()\n",
    "        print(feature)\n",
    "        print(\"**************\")\n",
    "        print()\n",
    "        print(df[feature].value_counts(dropna=False))"
   ]
  },
  {
   "cell_type": "markdown",
   "metadata": {
    "execution": {
     "iopub.execute_input": "2022-10-01T14:28:56.055128Z",
     "iopub.status.busy": "2022-10-01T14:28:56.054437Z",
     "iopub.status.idle": "2022-10-01T14:28:56.060877Z",
     "shell.execute_reply": "2022-10-01T14:28:56.060308Z",
     "shell.execute_reply.started": "2022-10-01T14:28:56.054946Z"
    },
    "tags": []
   },
   "source": [
    "## dict to df with iterating a df"
   ]
  },
  {
   "cell_type": "code",
   "execution_count": null,
   "metadata": {
    "execution": {
     "iopub.status.busy": "2022-10-10T01:27:12.983037Z",
     "iopub.status.idle": "2022-10-10T01:27:12.983286Z",
     "shell.execute_reply": "2022-10-10T01:27:12.983155Z",
     "shell.execute_reply.started": "2022-10-10T01:27:12.983141Z"
    },
    "tags": []
   },
   "outputs": [],
   "source": [
    "mydict = {}\n",
    "for i in df.Cust_id.unique():\n",
    "    a = df[df[\"Cust_id\"] == i][[\"Order_Date\"]].sort_values(by=\"Order_Date\").drop_duplicates()\n",
    "    if len(a) >= 3:\n",
    "        b = (a.iloc[2] - a.iloc[0]).dt.days[0]\n",
    "        mydict[i] = b\n",
    "data = {\"cust_id\": mydict.keys(), \"days_between1st_3th_purchase\": mydict.values()}\n",
    "cust_more3purchase = pd.DataFrame(data)           \n",
    "cust_more3purchase\n",
    "    \n",
    "        "
   ]
  },
  {
   "cell_type": "markdown",
   "metadata": {
    "execution": {
     "iopub.execute_input": "2022-10-03T13:23:14.745710Z",
     "iopub.status.busy": "2022-10-03T13:23:14.745306Z",
     "iopub.status.idle": "2022-10-03T13:23:14.752139Z",
     "shell.execute_reply": "2022-10-03T13:23:14.751050Z",
     "shell.execute_reply.started": "2022-10-03T13:23:14.745603Z"
    },
    "tags": []
   },
   "source": [
    "## To select rows whose column value is in an iterable, "
   ]
  },
  {
   "cell_type": "code",
   "execution_count": null,
   "metadata": {
    "execution": {
     "iopub.status.busy": "2022-10-10T01:27:12.984432Z",
     "iopub.status.idle": "2022-10-10T01:27:12.984726Z",
     "shell.execute_reply": "2022-10-10T01:27:12.984592Z",
     "shell.execute_reply.started": "2022-10-10T01:27:12.984577Z"
    }
   },
   "outputs": [],
   "source": [
    "df.loc[df['column_name'].isin(an iterable like list)]"
   ]
  },
  {
   "cell_type": "markdown",
   "metadata": {},
   "source": [
    "## Dropna "
   ]
  },
  {
   "cell_type": "code",
   "execution_count": 2,
   "metadata": {
    "execution": {
     "iopub.execute_input": "2022-10-25T10:45:29.091785Z",
     "iopub.status.busy": "2022-10-25T10:45:29.091064Z",
     "iopub.status.idle": "2022-10-25T10:45:29.099018Z",
     "shell.execute_reply": "2022-10-25T10:45:29.097391Z",
     "shell.execute_reply.started": "2022-10-25T10:45:29.091730Z"
    },
    "tags": []
   },
   "outputs": [],
   "source": [
    "df.dropna(subset=\"column_name\", inplace=True)"
   ]
  },
  {
   "cell_type": "markdown",
   "metadata": {},
   "source": [
    "## groupby and sort"
   ]
  },
  {
   "cell_type": "code",
   "execution_count": 130,
   "metadata": {
    "execution": {
     "iopub.execute_input": "2022-10-25T10:34:28.339927Z",
     "iopub.status.busy": "2022-10-25T10:34:28.339749Z",
     "iopub.status.idle": "2022-10-25T10:34:28.569431Z",
     "shell.execute_reply": "2022-10-25T10:34:28.568921Z",
     "shell.execute_reply.started": "2022-10-25T10:34:28.339897Z"
    },
    "tags": []
   },
   "outputs": [
    {
     "data": {
      "text/html": [
       "<div>\n",
       "<style scoped>\n",
       "    .dataframe tbody tr th:only-of-type {\n",
       "        vertical-align: middle;\n",
       "    }\n",
       "\n",
       "    .dataframe tbody tr th {\n",
       "        vertical-align: top;\n",
       "    }\n",
       "\n",
       "    .dataframe thead th {\n",
       "        text-align: right;\n",
       "    }\n",
       "</style>\n",
       "<table border=\"1\" class=\"dataframe\">\n",
       "  <thead>\n",
       "    <tr style=\"text-align: right;\">\n",
       "      <th></th>\n",
       "      <th>CustomerID</th>\n",
       "      <th>Date</th>\n",
       "    </tr>\n",
       "  </thead>\n",
       "  <tbody>\n",
       "    <tr>\n",
       "      <th>541893</th>\n",
       "      <td>13113.000</td>\n",
       "      <td>2011-12-09</td>\n",
       "    </tr>\n",
       "    <tr>\n",
       "      <th>541260</th>\n",
       "      <td>16558.000</td>\n",
       "      <td>2011-12-09</td>\n",
       "    </tr>\n",
       "    <tr>\n",
       "      <th>541541</th>\n",
       "      <td>15498.000</td>\n",
       "      <td>2011-12-09</td>\n",
       "    </tr>\n",
       "    <tr>\n",
       "      <th>541542</th>\n",
       "      <td>15344.000</td>\n",
       "      <td>2011-12-09</td>\n",
       "    </tr>\n",
       "    <tr>\n",
       "      <th>541545</th>\n",
       "      <td>12985.000</td>\n",
       "      <td>2011-12-09</td>\n",
       "    </tr>\n",
       "    <tr>\n",
       "      <th>...</th>\n",
       "      <td>...</td>\n",
       "      <td>...</td>\n",
       "    </tr>\n",
       "    <tr>\n",
       "      <th>1181</th>\n",
       "      <td>14237.000</td>\n",
       "      <td>2010-12-01</td>\n",
       "    </tr>\n",
       "    <tr>\n",
       "      <th>973</th>\n",
       "      <td>14729.000</td>\n",
       "      <td>2010-12-01</td>\n",
       "    </tr>\n",
       "    <tr>\n",
       "      <th>1400</th>\n",
       "      <td>15165.000</td>\n",
       "      <td>2010-12-01</td>\n",
       "    </tr>\n",
       "    <tr>\n",
       "      <th>2029</th>\n",
       "      <td>17643.000</td>\n",
       "      <td>2010-12-01</td>\n",
       "    </tr>\n",
       "    <tr>\n",
       "      <th>1315</th>\n",
       "      <td>15350.000</td>\n",
       "      <td>2010-12-01</td>\n",
       "    </tr>\n",
       "  </tbody>\n",
       "</table>\n",
       "<p>3950 rows × 2 columns</p>\n",
       "</div>"
      ],
      "text/plain": [
       "        CustomerID        Date\n",
       "541893   13113.000  2011-12-09\n",
       "541260   16558.000  2011-12-09\n",
       "541541   15498.000  2011-12-09\n",
       "541542   15344.000  2011-12-09\n",
       "541545   12985.000  2011-12-09\n",
       "...            ...         ...\n",
       "1181     14237.000  2010-12-01\n",
       "973      14729.000  2010-12-01\n",
       "1400     15165.000  2010-12-01\n",
       "2029     17643.000  2010-12-01\n",
       "1315     15350.000  2010-12-01\n",
       "\n",
       "[3950 rows x 2 columns]"
      ]
     },
     "execution_count": 130,
     "metadata": {},
     "output_type": "execute_result"
    }
   ],
   "source": [
    "df.sort_values(\"Date\", ascending=False).groupby(\"CustomerID\")[\"CustomerID\", \"Date\"].head(1)\n",
    "# finds the last order date of customers.\n",
    "# first sort and then groupby and then take the firs one. "
   ]
  },
  {
   "cell_type": "markdown",
   "metadata": {
    "execution": {
     "iopub.execute_input": "2022-10-28T04:27:54.509072Z",
     "iopub.status.busy": "2022-10-28T04:27:54.508943Z",
     "iopub.status.idle": "2022-10-28T04:27:54.511637Z",
     "shell.execute_reply": "2022-10-28T04:27:54.511066Z",
     "shell.execute_reply.started": "2022-10-28T04:27:54.509058Z"
    }
   },
   "source": [
    "## convert float to int in all df"
   ]
  },
  {
   "cell_type": "code",
   "execution_count": null,
   "metadata": {},
   "outputs": [],
   "source": [
    "df = df.astype('Int64') # also can be used in series"
   ]
  },
  {
   "cell_type": "markdown",
   "metadata": {},
   "source": [
    "astype(int) and astype('int64') cannot handle missing values (numpy int),\n",
    "astype('Int64') (note the capital I) can handle missing values (pandas int)"
   ]
  },
  {
   "cell_type": "markdown",
   "metadata": {},
   "source": [
    "# file operations"
   ]
  },
  {
   "cell_type": "markdown",
   "metadata": {},
   "source": [
    "## download from url (a drive address) to your drive"
   ]
  },
  {
   "cell_type": "code",
   "execution_count": null,
   "metadata": {
    "execution": {
     "iopub.status.busy": "2022-10-10T01:27:12.986728Z",
     "iopub.status.idle": "2022-10-10T01:27:12.986978Z",
     "shell.execute_reply": "2022-10-10T01:27:12.986848Z",
     "shell.execute_reply.started": "2022-10-10T01:27:12.986835Z"
    },
    "tags": []
   },
   "outputs": [],
   "source": [
    "# İstenilen yere download ediyor\n",
    "import gdown\n",
    "\n",
    "url = 'https://drive.google.com/u/0/uc?id=1wtZvloOKYdbEvrm4vBXhTUFnLy7ejR5H&export=download' #from a someone's drive\n",
    "output = '/content/drive/MyDrive/Colab Notebooks/cell_images.zip' # to your drive. dont need download to local.\n",
    "\n",
    "gdown.download(url, output, quiet=False)\n"
   ]
  },
  {
   "cell_type": "markdown",
   "metadata": {},
   "source": [
    "# Numpy"
   ]
  },
  {
   "cell_type": "markdown",
   "metadata": {
    "execution": {
     "iopub.execute_input": "2022-10-11T19:55:04.025148Z",
     "iopub.status.busy": "2022-10-11T19:55:04.024964Z",
     "iopub.status.idle": "2022-10-11T19:55:04.027985Z",
     "shell.execute_reply": "2022-10-11T19:55:04.027468Z",
     "shell.execute_reply.started": "2022-10-11T19:55:04.025120Z"
    },
    "tags": []
   },
   "source": [
    "## Get a random number in a range"
   ]
  },
  {
   "cell_type": "code",
   "execution_count": null,
   "metadata": {
    "tags": []
   },
   "outputs": [],
   "source": [
    "random.randrange(0, 10001)"
   ]
  },
  {
   "cell_type": "markdown",
   "metadata": {},
   "source": [
    "## linspace"
   ]
  },
  {
   "cell_type": "code",
   "execution_count": null,
   "metadata": {},
   "outputs": [],
   "source": [
    "np.linspace(50 , 1000, 4) float  # döndürebilir"
   ]
  },
  {
   "cell_type": "code",
   "execution_count": null,
   "metadata": {},
   "outputs": [],
   "source": [
    "np.linspace(50 , 1000, 4).astype(int)   # integer döndürür"
   ]
  },
  {
   "cell_type": "markdown",
   "metadata": {},
   "source": [
    "## Color print"
   ]
  },
  {
   "cell_type": "code",
   "execution_count": 4,
   "metadata": {
    "execution": {
     "iopub.execute_input": "2022-10-24T08:42:42.432103Z",
     "iopub.status.busy": "2022-10-24T08:42:42.430507Z",
     "iopub.status.idle": "2022-10-24T08:42:42.439776Z",
     "shell.execute_reply": "2022-10-24T08:42:42.438568Z",
     "shell.execute_reply.started": "2022-10-24T08:42:42.432033Z"
    },
    "tags": []
   },
   "outputs": [
    {
     "name": "stdout",
     "output_type": "stream",
     "text": [
      "\u001b[31msome text, some more text or variable \u001b[0m\n",
      "normal text again\n"
     ]
    }
   ],
   "source": [
    "from colorama import Fore, Back, Style\n",
    "a = \"some more text or variable\"\n",
    "print(Fore.RED + \"some text,\", a, Style.RESET_ALL)\n",
    "print(\"normal text again\")\n"
   ]
  },
  {
   "cell_type": "markdown",
   "metadata": {
    "execution": {
     "iopub.execute_input": "2022-10-31T03:08:32.373201Z",
     "iopub.status.busy": "2022-10-31T03:08:32.372981Z",
     "iopub.status.idle": "2022-10-31T03:08:32.376392Z",
     "shell.execute_reply": "2022-10-31T03:08:32.375996Z",
     "shell.execute_reply.started": "2022-10-31T03:08:32.373146Z"
    }
   },
   "source": [
    "## create new column with where "
   ]
  },
  {
   "cell_type": "code",
   "execution_count": null,
   "metadata": {},
   "outputs": [],
   "source": [
    "rfm_df[\"Customer_segment\"] = np.where(rfm_df['RFM_Score'] > 4.5, \"Top Customers\",\n",
    "                                    (np.where(rfm_df['RFM_Score'] > 4,\"High value Customer\",\n",
    "                                    (np.where(rfm_df['RFM_Score'] > 3,\"Medium Value Customer\",\n",
    "                                     np.where(rfm_df['RFM_Score'] > 1.6,'Low Value Customers', 'Lost Customers'))))))\n",
    "rfm_df[['CustomerID', 'RFM_Score', 'Customer_segment']].head(20)"
   ]
  }
 ],
 "metadata": {
  "kernelspec": {
   "display_name": "Python 3 (ipykernel)",
   "language": "python",
   "name": "python3"
  },
  "language_info": {
   "codemirror_mode": {
    "name": "ipython",
    "version": 3
   },
   "file_extension": ".py",
   "mimetype": "text/x-python",
   "name": "python",
   "nbconvert_exporter": "python",
   "pygments_lexer": "ipython3",
   "version": "3.9.13"
  },
  "vscode": {
   "interpreter": {
    "hash": "0a6b6417c5065dbac1d8dd2b982b9db9d8da7340961bf6d1bfc1f74af383bca2"
   }
  }
 },
 "nbformat": 4,
 "nbformat_minor": 4
}
