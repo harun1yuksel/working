{
 "cells": [
  {
   "cell_type": "markdown",
   "id": "6489dc95",
   "metadata": {},
   "source": [
    "# Assignment 2"
   ]
  },
  {
   "cell_type": "markdown",
   "id": "a0e75491",
   "metadata": {},
   "source": [
    "### EXERCISE 1. Suppose scores on exams in statistics are normally distributed with an unknown population mean and a population standard deviation of 3 points.  A random sample of 36 scores is taken and gives a sample mean (sample  mean score) of 68. Find a confidence interval estimate for the population mean exam score (the mean score on all exams)."
   ]
  },
  {
   "cell_type": "code",
   "execution_count": 8,
   "id": "805e266a",
   "metadata": {},
   "outputs": [
    {
     "data": {
      "text/plain": [
       "(67.15521377301812, 68.84478622698188)"
      ]
     },
     "execution_count": 8,
     "metadata": {},
     "output_type": "execute_result"
    }
   ],
   "source": [
    "stats.t.interval(alpha=0.90,              #confidence level\n",
    "                 df=36-1,    #degrees of freedom\n",
    "                 loc=68,     #sample mean\n",
    "                 scale=3/np.sqrt(36)) #standard error of the mean"
   ]
  },
  {
   "cell_type": "markdown",
   "id": "91e538db",
   "metadata": {},
   "source": [
    "### EXERCISE 2. What is the normal body temperature for healthy humans? A random sample of 130 healthy human body temperatures provided by Allen Shoemaker7 yielded 98.25 degrees and standard deviation 0.73 degrees. "
   ]
  },
  {
   "cell_type": "code",
   "execution_count": 9,
   "id": "f56a804b",
   "metadata": {},
   "outputs": [
    {
     "data": {
      "text/plain": [
       "(98.08260738705933, 98.41739261294067)"
      ]
     },
     "execution_count": 9,
     "metadata": {},
     "output_type": "execute_result"
    }
   ],
   "source": [
    "stats.t.interval(alpha=0.99,              #confidence level\n",
    "                 df=130-1,    #degrees of freedom\n",
    "                 loc=98.25,     #sample mean\n",
    "                 scale=0.73/np.sqrt(130)) #standard error of the mean"
   ]
  },
  {
   "cell_type": "markdown",
   "id": "9d3c043d",
   "metadata": {},
   "source": [
    "### EXERCISE 3. The administrators for a hospital wished to estimate the average number of days required for inpatient treatment of patients between the ages of 25 and 34. A random sample of 500 hospital patients between these ages produced a mean and standard deviation equal to 5.4 and 3.1 days, respectively. Construct a 95% confidence interval for the mean length of stay for the population of patients from which the sample was drawn."
   ]
  },
  {
   "cell_type": "code",
   "execution_count": 10,
   "id": "a136cbda",
   "metadata": {
    "scrolled": true
   },
   "outputs": [
    {
     "data": {
      "text/plain": [
       "(5.127617354510309, 5.672382645489692)"
      ]
     },
     "execution_count": 10,
     "metadata": {},
     "output_type": "execute_result"
    }
   ],
   "source": [
    "stats.t.interval(alpha=0.95,              #confidence level\n",
    "                 df=500-1,    #degrees of freedom\n",
    "                 loc=5.4,     #sample mean\n",
    "                 scale=3.1/np.sqrt(500)) #standard error of the mean"
   ]
  }
 ],
 "metadata": {
  "kernelspec": {
   "display_name": "Python 3 (ipykernel)",
   "language": "python",
   "name": "python3"
  },
  "language_info": {
   "codemirror_mode": {
    "name": "ipython",
    "version": 3
   },
   "file_extension": ".py",
   "mimetype": "text/x-python",
   "name": "python",
   "nbconvert_exporter": "python",
   "pygments_lexer": "ipython3",
   "version": "3.9.7"
  }
 },
 "nbformat": 4,
 "nbformat_minor": 5
}
