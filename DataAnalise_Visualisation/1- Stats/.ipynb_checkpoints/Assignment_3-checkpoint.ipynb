{
 "cells": [
  {
   "cell_type": "code",
   "execution_count": 3,
   "id": "8caa3818",
   "metadata": {},
   "outputs": [],
   "source": [
    "import numpy as np\n",
    "import matplotlib.pyplot as plt\n",
    "from scipy import stats\n",
    "import seaborn as sns"
   ]
  },
  {
   "cell_type": "code",
   "execution_count": null,
   "id": "a7fd2bdf",
   "metadata": {},
   "outputs": [],
   "source": []
  },
  {
   "cell_type": "markdown",
   "id": "ff9dd085",
   "metadata": {},
   "source": [
    "### EXERCISE 1. The hourly wages in a particular industry are normally distributed with mean $13.20 and standard deviation $2.50. A company in this industry employs 40 workers, paying them an average of $12.20 per hour. Can this company be accused of paying substandard wages? Use an α = .01 level test. (Wackerly, Ex.10.18)\n",
    "\n",
    "CHECK: statistic: -2.5298221281347035, pvalue= 0.005706018193000826"
   ]
  },
  {
   "cell_type": "code",
   "execution_count": 12,
   "id": "9c748768",
   "metadata": {},
   "outputs": [],
   "source": [
    "xbar = 13.20 # population mean\n",
    "sigma = 2.5 # population standard deviation (from past experiences)\n",
    "n = 40\n",
    "mu = 12.20  # sample mean"
   ]
  },
  {
   "cell_type": "code",
   "execution_count": 13,
   "id": "2b2d8834",
   "metadata": {},
   "outputs": [
    {
     "data": {
      "text/plain": [
       "2.5298221281347035"
      ]
     },
     "execution_count": 13,
     "metadata": {},
     "output_type": "execute_result"
    }
   ],
   "source": [
    "z = (xbar - mu) / (sigma/np.sqrt(n))\n",
    "z # statistic"
   ]
  },
  {
   "cell_type": "code",
   "execution_count": 14,
   "id": "1dbbb2fe",
   "metadata": {},
   "outputs": [
    {
     "data": {
      "text/plain": [
       "0.005706018193000872"
      ]
     },
     "execution_count": 14,
     "metadata": {},
     "output_type": "execute_result"
    }
   ],
   "source": [
    "p = 1 - stats.norm.cdf(z)\n",
    "p"
   ]
  },
  {
   "cell_type": "markdown",
   "id": "b5b2b09c",
   "metadata": {},
   "source": [
    "### EXERCISE 2.Shear strength measurements derived from unconfined compression tests for two types of soils gave the results shown in the following document (measurements in tons per square foot). Do the soils appear to differ with respect to average shear strength, at the 1% significance level?\n",
    "\n",
    "\n",
    "CHECK: statistic: 5.1681473319343345, pvalue= 2.593228732352821e-06\n",
    "\n"
   ]
  },
  {
   "cell_type": "code",
   "execution_count": null,
   "id": "6c776762",
   "metadata": {},
   "outputs": [],
   "source": []
  },
  {
   "cell_type": "markdown",
   "id": "189ad81f",
   "metadata": {},
   "source": [
    "### EXERCISE 3. The following dataset is based on data provided by the World Bank (https://datacatalog.worldbank.org/dataset/education-statistics). World Bank Edstats.  2015 PISA Test Dataset\n",
    "\n",
    "1. Get descriptive statistics (the central tendency, dispersion and shape of a dataset’s distribution) for each continent group (AS, EU, AF, NA, SA, OC).\n",
    "2. Determine whether there is any difference (on the average) for the math scores among European (EU) and Asian (AS) countries (assume normality and equal variances). Draw side-by-side box plots.\n",
    "\n",
    "CHECK: statistic=0.870055317967983, pvalue=0.38826888111307345"
   ]
  },
  {
   "cell_type": "code",
   "execution_count": null,
   "id": "e5ca6a42",
   "metadata": {},
   "outputs": [],
   "source": []
  },
  {
   "cell_type": "markdown",
   "id": "24f6bf74",
   "metadata": {},
   "source": [
    "### EXERCISE 4.  A gym operator organized a 2-month exercise and diet program for 15 customers suffering from their excess weight. To evaluate whether this diet program was effective, he measured the customers' starting and ending weights and recorded them in the computer. Did the exercise and diet program have an impact on customers' weight loss? Use an α = .01 level test.  Weight Dataset\n",
    "\n",
    "CHECK: statistic=2.67808348404993, pvalue=0.00900646517506627"
   ]
  },
  {
   "cell_type": "code",
   "execution_count": null,
   "id": "4761c8e7",
   "metadata": {},
   "outputs": [],
   "source": []
  }
 ],
 "metadata": {
  "kernelspec": {
   "display_name": "Python 3 (ipykernel)",
   "language": "python",
   "name": "python3"
  },
  "language_info": {
   "codemirror_mode": {
    "name": "ipython",
    "version": 3
   },
   "file_extension": ".py",
   "mimetype": "text/x-python",
   "name": "python",
   "nbconvert_exporter": "python",
   "pygments_lexer": "ipython3",
   "version": "3.9.7"
  }
 },
 "nbformat": 4,
 "nbformat_minor": 5
}
