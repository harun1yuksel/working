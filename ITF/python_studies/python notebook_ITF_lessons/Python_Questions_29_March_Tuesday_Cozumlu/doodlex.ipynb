{
 "cells": [
  {
   "cell_type": "code",
   "execution_count": 3,
   "metadata": {},
   "outputs": [
    {
     "name": "stdout",
     "output_type": "stream",
     "text": [
      "40\n"
     ]
    }
   ],
   "source": [
    "cc = 2\n",
    "if False:\n",
    "    cc = 2\n",
    "\n",
    "def Helmet():\n",
    "    if True:\n",
    "        cc = 40\n",
    "        \n",
    "\n",
    "Helmet()\n",
    "print(cc)"
   ]
  },
  {
   "cell_type": "code",
   "execution_count": 1,
   "metadata": {},
   "outputs": [
    {
     "data": {
      "text/plain": [
       "{'phone': 2548563, 'adres': 'sokak'}"
      ]
     },
     "execution_count": 1,
     "metadata": {},
     "output_type": "execute_result"
    }
   ],
   "source": [
    "a = dict(phone = 2548563, adres = \"sokak\")\n",
    "a"
   ]
  },
  {
   "cell_type": "code",
   "execution_count": null,
   "metadata": {},
   "outputs": [],
   "source": [
    "from logic_question3 import c"
   ]
  },
  {
   "cell_type": "code",
   "execution_count": 2,
   "metadata": {},
   "outputs": [
    {
     "name": "stdout",
     "output_type": "stream",
     "text": [
      "PiSa15\n"
     ]
    }
   ],
   "source": [
    "from password_producer import passworder\n"
   ]
  },
  {
   "cell_type": "code",
   "execution_count": 3,
   "metadata": {},
   "outputs": [
    {
     "data": {
      "text/plain": [
       "'PiSa15'"
      ]
     },
     "execution_count": 3,
     "metadata": {},
     "output_type": "execute_result"
    }
   ],
   "source": [
    "ad = \"Peyami\" # input(\"ad girin : \")\n",
    "soyad = \"Safa\" # input(\"soyad girin : \")\n",
    "s = \"01011950\" # input(\"numara girin : \")\n",
    "(lambda ad, soyad : ad[0] + ad[-1] + soyad[0] + soyad[-1] + str(sum([int(i) for i in s[-4:] if int(i) % 2 == 1])))(ad, soyad)"
   ]
  }
 ],
 "metadata": {
  "interpreter": {
   "hash": "2be5faf79681da6f2a61fdfdd5405d65d042280f7fba6178067603e3a2925119"
  },
  "kernelspec": {
   "display_name": "Python 3.10.2 64-bit",
   "language": "python",
   "name": "python3"
  },
  "language_info": {
   "codemirror_mode": {
    "name": "ipython",
    "version": 3
   },
   "file_extension": ".py",
   "mimetype": "text/x-python",
   "name": "python",
   "nbconvert_exporter": "python",
   "pygments_lexer": "ipython3",
   "version": "3.10.2"
  },
  "orig_nbformat": 4
 },
 "nbformat": 4,
 "nbformat_minor": 2
}
