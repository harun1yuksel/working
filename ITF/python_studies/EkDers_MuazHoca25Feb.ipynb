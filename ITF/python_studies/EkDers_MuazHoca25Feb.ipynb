{
 "cells": [
  {
   "cell_type": "code",
   "execution_count": null,
   "metadata": {
    "colab": {
     "base_uri": "https://localhost:8080/"
    },
    "executionInfo": {
     "elapsed": 11312,
     "status": "ok",
     "timestamp": 1645903272118,
     "user": {
      "displayName": "İlknur Özçelik",
      "photoUrl": "https://lh3.googleusercontent.com/a/default-user=s64",
      "userId": "00777403709854998031"
     },
     "user_tz": -180
    },
    "id": "vBNRP8Hisq8N",
    "outputId": "a100cecd-12cd-4ab9-cb9b-ebb0b27d2212"
   },
   "outputs": [
    {
     "name": "stdout",
     "output_type": "stream",
     "text": [
      "Please enter your salary :650\n",
      "Please enter your service year :3\n",
      "You should work at least 5 years to get bonus.\n"
     ]
    }
   ],
   "source": [
    "# A company decided to give bonus of 5% to employee if his/her year of service is more than 5 years.\n",
    "# Ask user for their salary and year of service and print the net bonus amount.\n",
    "\n",
    "salary = int(input(\"Please enter your salary :\"))\n",
    "year_service = int(input(\"Please enter your service year :\"))\n",
    "\n",
    "if year_service >= 5:\n",
    "  salary = salary + int((salary * 5)/100)\n",
    "  print(f\"Your salary has been increased to {salary}\")\n",
    "else:\n",
    "  print(\"You should work at least 5 years to get bonus.\")\n",
    "\n"
   ]
  },
  {
   "cell_type": "code",
   "execution_count": null,
   "metadata": {
    "colab": {
     "base_uri": "https://localhost:8080/"
    },
    "executionInfo": {
     "elapsed": 6797,
     "status": "ok",
     "timestamp": 1645905583929,
     "user": {
      "displayName": "İlknur Özçelik",
      "photoUrl": "https://lh3.googleusercontent.com/a/default-user=s64",
      "userId": "00777403709854998031"
     },
     "user_tz": -180
    },
    "id": "hmHUAw2FfHvj",
    "outputId": "ffa2868e-b059-415a-cc5e-7c6fe33589f3"
   },
   "outputs": [
    {
     "name": "stdout",
     "output_type": "stream",
     "text": [
      "Please enter your purchased quantity :250\n",
      "Your new cost is $22500.0 \n"
     ]
    }
   ],
   "source": [
    "# A shop will give discount of 10% if the cost of purchased quantity is more than 1000.\n",
    "# Ask user for quantity\n",
    "# Suppose, one unit will cost 100.\n",
    "# Judge and print total cost for user.\n",
    "\n",
    "purchd_qntty = int(input(\"Please enter your purchased quantity :\"))\n",
    "cost_unit = 100\n",
    "\n",
    "if purchd_qntty*100 > 1000:\n",
    "  new_cost = purchd_qntty*100 - (purchd_qntty*100*10)/100\n",
    "  print(f\"Your new cost is ${new_cost} \")\n",
    "else:\n",
    "  print(\"We are sorry. You do not get any discount.\")\n"
   ]
  },
  {
   "cell_type": "code",
   "execution_count": null,
   "metadata": {
    "colab": {
     "base_uri": "https://localhost:8080/"
    },
    "executionInfo": {
     "elapsed": 3173,
     "status": "ok",
     "timestamp": 1645906347523,
     "user": {
      "displayName": "İlknur Özçelik",
      "photoUrl": "https://lh3.googleusercontent.com/a/default-user=s64",
      "userId": "00777403709854998031"
     },
     "user_tz": -180
    },
    "id": "QmvZHDuocwRB",
    "outputId": "20121ea3-44a2-4e59-9d64-718ecb20cefe"
   },
   "outputs": [
    {
     "name": "stdout",
     "output_type": "stream",
     "text": [
      "Please enter a number between 1-7 :5\n",
      "5th day of week is Friday.\n"
     ]
    }
   ],
   "source": [
    "# Write a code returns the weekday according to the input number:\n",
    "\n",
    "# 1 returns \"Sunday\"\n",
    "# 2 returns \"Monday\"\n",
    "# 3 returns \"Tuesday\"\n",
    "# 4 returns \"Wednesday\"\n",
    "# 5 returns \"Thursday\"\n",
    "# 6 returns \"Friday\"\n",
    "# 7 returns \"Saturday\"\n",
    "# Otherwise returns \"Wrong, please enter a number between 1 and 7\"\n",
    "\n",
    "days_week = {\"1\":\"Monday\" , \"2\":\"Tuesday\" , \"3\":\"Wednesday\" , \"4\":\"Thursday\" ,\n",
    "             \"5\":\"Friday\" ,\"6\":\"Saturday\",\"7\":\"Sunday\"}\n",
    "num = input(\"Please enter a number between 1-7 :\")\n",
    "\n",
    "if num in days_week.keys():\n",
    "  print(f\"{num}th day of week is {days_week[num]}.\")\n",
    "else:\n",
    "  print(\"You entered wrong number. Please enter a number between 1-7.\")\n"
   ]
  },
  {
   "cell_type": "code",
   "execution_count": 1,
   "metadata": {
    "colab": {
     "base_uri": "https://localhost:8080/"
    },
    "executionInfo": {
     "elapsed": 5583,
     "status": "ok",
     "timestamp": 1645992133724,
     "user": {
      "displayName": "İlknur Özçelik",
      "photoUrl": "https://lh3.googleusercontent.com/a/default-user=s64",
      "userId": "00777403709854998031"
     },
     "user_tz": -180
    },
    "id": "vC_-eFskrVnk",
    "outputId": "f1f91eb7-17bc-4c1b-aa07-3ddbe7cab629"
   },
   "outputs": [
    {
     "name": "stdout",
     "output_type": "stream",
     "text": [
      "Please enter a word :merhaba ali\n",
      "5\n"
     ]
    }
   ],
   "source": [
    "# Write a code to count vowels of a string entered by user.\n",
    "\n",
    "word = input(\"Please enter a word :\")\n",
    "\n",
    "vowels = [\"a\",\"e\",\"ı\",\"i\",\"o\",\"ö\",\"u\",\"ü\"]\n",
    "word_vowels_count = []\n",
    "word_vowels_list = []\n",
    "\n",
    "for i in vowels:\n",
    "  num_vowels = word.count(i)\n",
    "  word_vowels_count.append(num_vowels)\n",
    "#  word_vowels_list.append[]\n",
    "\n",
    "print(sum(word_vowels_count))\n"
   ]
  },
  {
   "cell_type": "code",
   "execution_count": 3,
   "metadata": {},
   "outputs": [
    {
     "name": "stdout",
     "output_type": "stream",
     "text": [
      "46\n"
     ]
    }
   ],
   "source": [
    "mlist = [2, 5, 5, 5, 9, 20]\n",
    "print(sum(mlist))"
   ]
  },
  {
   "cell_type": "code",
   "execution_count": 17,
   "metadata": {
    "colab": {
     "base_uri": "https://localhost:8080/"
    },
    "executionInfo": {
     "elapsed": 5648,
     "status": "ok",
     "timestamp": 1645993384948,
     "user": {
      "displayName": "İlknur Özçelik",
      "photoUrl": "https://lh3.googleusercontent.com/a/default-user=s64",
      "userId": "00777403709854998031"
     },
     "user_tz": -180
    },
    "id": "RrFP1z1cx3Bt",
    "outputId": "e3440cd0-c869-4853-b14c-7f1c8926851d"
   },
   "outputs": [
    {
     "name": "stdout",
     "output_type": "stream",
     "text": [
      "Please enter a word :merhaba\n",
      "['e', 'a', 'a']\n",
      "3\n"
     ]
    }
   ],
   "source": [
    "# Kullanıcının girdiği bir kelimenin sesli harflerini bularak listesini oluşturup,\n",
    "# hem listesini hem de sayısını yazdıran bir kod yazdım: \n",
    "word = input(\"Please enter a word :\")\n",
    "\n",
    "vowels = [\"a\",\"e\",\"ı\",\"i\",\"o\",\"ö\",\"u\",\"ü\"]\n",
    "word_vowels_count = []\n",
    "word_vowels_list = []\n",
    "word_list = list(word)\n",
    "n = 0\n",
    "\n",
    "for i in range(len(word_list)):\n",
    "  if word_list[i] in vowels:\n",
    "    word_vowels_list.append(word_list[i])\n",
    "    n += 1\n",
    "  else:\n",
    "    continue\n",
    "\n",
    "print(word_vowels_list)\n",
    "print(len(word_vowels_list))\n"
   ]
  },
  {
   "cell_type": "code",
   "execution_count": 25,
   "metadata": {
    "colab": {
     "base_uri": "https://localhost:8080/"
    },
    "executionInfo": {
     "elapsed": 6126,
     "status": "ok",
     "timestamp": 1645994920499,
     "user": {
      "displayName": "İlknur Özçelik",
      "photoUrl": "https://lh3.googleusercontent.com/a/default-user=s64",
      "userId": "00777403709854998031"
     },
     "user_tz": -180
    },
    "id": "tuu13ZEHqRac",
    "outputId": "4b2c2fe8-4cd3-4653-e390-d60a22be92a1"
   },
   "outputs": [
    {
     "name": "stdout",
     "output_type": "stream",
     "text": [
      "Please enter a character :G\n",
      "Please enter another character :d\n",
      "G and d return 0\n"
     ]
    }
   ],
   "source": [
    "# Write a code that will check if two given characters are the same case.\n",
    "\n",
    "# If any of characters is not a letter, return -1\n",
    "# If both characters are the same case, return 1\n",
    "# If both characters are letters and not the same case, return 0\n",
    "# Examples\n",
    "# 'a' and 'g' returns 1\n",
    "\n",
    "# 'A' and 'C' returns 1\n",
    "\n",
    "# 'b' and 'G' returns 0\n",
    "\n",
    "# 'B' and 'g' returns 0\n",
    "\n",
    "# '0' and '?' returns -1\n",
    "\n",
    "small_letters = {'q', 'w', 'e', 'r', 't', 'y', 'u', 'ı', 'o', 'p', 'ğ', 'ü', 'a',\\\n",
    "                 's', 'd', 'f', 'g', 'h', 'j', 'k', 'l', 'ş', 'i', 'z', 'x', 'c',\\\n",
    "                 'v', 'b', 'n', 'm', 'ö', 'ç'}\n",
    "big_letters = {'Q', 'W', 'E', 'R', 'T', 'Y', 'U', 'I', 'O', 'P', 'Ğ', 'Ü', 'A',\\\n",
    "                 'S', 'D', 'F', 'G', 'H', 'J', 'K', 'L', 'Ş', 'İ', 'Z', 'X', 'C'\\\n",
    "                 'V', 'B', 'N', 'M', 'Ö', 'Ç'}\n",
    "\n",
    "character1 = input(\"Please enter a character :\")\n",
    "character2 = input(\"Please enter another character :\")\n",
    "\n",
    "if (character1 not in small_letters and character1 not in big_letters) or (character2 not in small_letters and character2 not in big_letters):\n",
    "  print(f\"{character1} or {character2} is not a letter. Return -1\")\n",
    "\n",
    "elif (character1 in small_letters and character2 in small_letters) or (character1 in big_letters and character2 in big_letters):\n",
    "  print(f\"{character1} and {character2} are the same case. Return 1\")\n",
    "\n",
    "else:\n",
    "  print(f\"{character1} and {character2} are not the same case. Return 0\")\n"
   ]
  },
  {
   "cell_type": "code",
   "execution_count": 56,
   "metadata": {
    "colab": {
     "base_uri": "https://localhost:8080/"
    },
    "executionInfo": {
     "elapsed": 5222,
     "status": "ok",
     "timestamp": 1645997437908,
     "user": {
      "displayName": "İlknur Özçelik",
      "photoUrl": "https://lh3.googleusercontent.com/a/default-user=s64",
      "userId": "00777403709854998031"
     },
     "user_tz": -180
    },
    "id": "ejWpuPcHDNae",
    "outputId": "7aaa33a5-361a-4df9-d0df-90d391b94839"
   },
   "outputs": [
    {
     "name": "stdout",
     "output_type": "stream",
     "text": [
      "Lütfen 2 karakter Giriniz:gh\n",
      "Both characters are letters and not the same case = 0\n",
      "Both characters are letters and not the same case = 0\n",
      "Your characters are the same case = 1\n"
     ]
    }
   ],
   "source": [
    "# Bu da yukarıdaki soru için Muaz Hoca'nın çözümü:\n",
    "# ÖNEMLİ : İlk if bloğunda hata var. kontrol edilip düzeltilmeli.\n",
    "\n",
    "small_letters = {'q', 'w', 'e', 'r', 't', 'y', 'u', 'ı', 'o', 'p', 'ğ', 'ü', 'a',\\\n",
    "                 's', 'd', 'f', 'g', 'h', 'j', 'k', 'l', 'ş', 'i', 'z', 'x', 'c',\\\n",
    "                 'v', 'b', 'n', 'm', 'ö', 'ç'}\n",
    "big_letters = {'Q', 'W', 'E', 'R', 'T', 'Y', 'U', 'I', 'O', 'P', 'Ğ', 'Ü', 'A',\\\n",
    "                 'S', 'D', 'F', 'G', 'H', 'J', 'K', 'L', 'Ş', 'İ', 'Z', 'X', 'C'\\\n",
    "                 'V', 'B', 'N', 'M', 'Ö', 'Ç'}\n",
    "\n",
    "char = input(\"Lütfen 2 karakter Giriniz:\")\n",
    "char_set = set(char)\n",
    "\n",
    "if len(char_set) <=1:\n",
    "  print(\"Eksik veya hatalı giriş yaptınız lütfen 2 karakter giriniz\")\n",
    "\n",
    "else:\n",
    "  \n",
    "  for i in char_set:\n",
    "    if (i in small_letters and i not in big_letters) and (i in big_letters and i not in small_letters):\n",
    "      print(\"Your characters are the same case = 1\")\n",
    "    elif i in small_letters or i in big_letters:\n",
    "      print(\"Both characters are letters and not the same case = 0\")\n",
    "    else:\n",
    "      print(\"any of characters is not a letter, return -1\")\n",
    "\n",
    "if 1 < len(char) < 3:\n",
    "  if char_set.issubset(small_letters):\n",
    "    char_set= \"Your characters are the same case = 1\"\n",
    "  elif char_set .issubset(big_letters):\n",
    "    char_set= \"Your characters are the same case = 1\"\n",
    "  elif char_set.issubset(small_letters | big_letters):\n",
    "    char_set = \"Both characters are letters and not the same case = 0\"\n",
    "  else:\n",
    "    char_set = \"any of characters is not a letter, return -1\"\n",
    "else:\n",
    "  print(\"Lütfen 2 haneli bir değer giriniz\")\n",
    "print(char_set)"
   ]
  },
  {
   "cell_type": "code",
   "execution_count": 54,
   "metadata": {
    "colab": {
     "base_uri": "https://localhost:8080/"
    },
    "executionInfo": {
     "elapsed": 2777,
     "status": "ok",
     "timestamp": 1645996471078,
     "user": {
      "displayName": "İlknur Özçelik",
      "photoUrl": "https://lh3.googleusercontent.com/a/default-user=s64",
      "userId": "00777403709854998031"
     },
     "user_tz": -180
    },
    "id": "-SrpYkQT8bNi",
    "outputId": "1d7f1dec-f8ac-4aac-ca76-57c7e667d998"
   },
   "outputs": [
    {
     "name": "stdout",
     "output_type": "stream",
     "text": [
      "Enter a character :5\n",
      "your character is not a letter\n"
     ]
    }
   ],
   "source": [
    "# Girilen bir karakterin letter(harf) olup olmadığını ve harf ise küçük harf\n",
    "# olup olmadığını kontrol eden kod:\n",
    "\n",
    "char = input(\"Enter a character :\")\n",
    "\n",
    "if char.isalpha():\n",
    "  \n",
    "  if char.islower():\n",
    "    print (\"your character is lowercase\")\n",
    "  \n",
    "  else:\n",
    "    print (\"your character is uppercase\")\n",
    "\n",
    "else:\n",
    "  print (\"your character is not a letter\")\n"
   ]
  },
  {
   "cell_type": "code",
   "execution_count": 13,
   "metadata": {
    "colab": {
     "base_uri": "https://localhost:8080/"
    },
    "executionInfo": {
     "elapsed": 2823,
     "status": "ok",
     "timestamp": 1646168671352,
     "user": {
      "displayName": "İlknur Özçelik",
      "photoUrl": "https://lh3.googleusercontent.com/a/default-user=s64",
      "userId": "00777403709854998031"
     },
     "user_tz": -180
    },
    "id": "_cr4b-y5qSEJ",
    "outputId": "574b8ffe-e8e2-4ac6-d4cf-773457b10d35"
   },
   "outputs": [
    {
     "name": "stdout",
     "output_type": "stream",
     "text": [
      "Please enter a month number between 1-12:5\n",
      "5\n",
      "May\n",
      "quarters-2\n"
     ]
    }
   ],
   "source": [
    "# Given a month as an integer from 1 to 12, return to which quarter of the year \n",
    "# it belongs as an integer number.\n",
    "\n",
    "# For example: month 2 (February), is part of the first quarter; \n",
    "# month 6 (June), is part of the second quarter; and\n",
    "# month 11 (November), is part of the fourth quarter.\n",
    "\n",
    "ay = (input(\"Please enter a month number between 1-12:\"))\n",
    "\n",
    "aylar = {\"quarters-1\": {\"1\" : \"January\", \"2\" : \"February\", \"3\" : \"March\"},\n",
    "        \"quarters-2\" : {\"4\" : \"April\", \"5\" : \"May\", \"6\" : \"June\", },\n",
    "        \"quarters-3\" : {\"7\" : \"July\", \"8\" : \"August\", \"9\" : \"September\"},\n",
    "        \"quarters-4\" : {\"10\": \"October\", \"11\": \"November\", \"12\": \"December\"}\n",
    "         }\n",
    "\n",
    "for i in aylar.keys():\n",
    "#  print(i)\n",
    "  yeni = aylar.get(i)\n",
    "#  print(yeni)\n",
    "  if ay in yeni.keys():\n",
    "    print(ay)\n",
    "    print(yeni.get(ay))\n",
    "    print(i)\n",
    "    break\n",
    "  \n",
    "  "
   ]
  },
  {
   "cell_type": "code",
   "execution_count": null,
   "metadata": {
    "colab": {
     "base_uri": "https://localhost:8080/"
    },
    "executionInfo": {
     "elapsed": 11532,
     "status": "ok",
     "timestamp": 1645901947264,
     "user": {
      "displayName": "İlknur Özçelik",
      "photoUrl": "https://lh3.googleusercontent.com/a/default-user=s64",
      "userId": "00777403709854998031"
     },
     "user_tz": -180
    },
    "id": "3GOhqQlqssZZ",
    "outputId": "dfce2723-eacc-4604-820c-6d1af6e08f6c"
   },
   "outputs": [
    {
     "name": "stdout",
     "output_type": "stream",
     "text": [
      "please enter a number :12385492\n",
      "[True, True, True, False, False, True, False]\n",
      "12385492 is not a tidy number.\n"
     ]
    }
   ],
   "source": [
    "# Girilen sayının tidy(basamaklarında düzenli bir artış var mı?) number olup olmadığını bulalım.\n",
    "num = input(\"please enter a number :\")\n",
    "\n",
    "num_list = list(num)\n",
    "new_list = []\n",
    "n = 0\n",
    "\n",
    "while n < len(num_list)-1:\n",
    "    \n",
    "  new_list.append(num_list[n+1] >= num_list[n])\n",
    "  n += 1\n",
    "print(new_list)\n",
    "\n",
    "if False in new_list:\n",
    "  print(f\"{num} is not a tidy number.\")\n",
    "else:\n",
    "  print(f\"{num} is a tidy number.\")"
   ]
  },
  {
   "cell_type": "code",
   "execution_count": 16,
   "metadata": {
    "colab": {
     "base_uri": "https://localhost:8080/"
    },
    "executionInfo": {
     "elapsed": 3672,
     "status": "ok",
     "timestamp": 1646168743377,
     "user": {
      "displayName": "İlknur Özçelik",
      "photoUrl": "https://lh3.googleusercontent.com/a/default-user=s64",
      "userId": "00777403709854998031"
     },
     "user_tz": -180
    },
    "id": "bKaZ63mxZ4wc",
    "outputId": "7df31e05-8197-4ab3-b94d-70c9b7fe36df"
   },
   "outputs": [
    {
     "name": "stdout",
     "output_type": "stream",
     "text": [
      "please enter a number :56124\n",
      "56124 is not a tidy number.\n"
     ]
    }
   ],
   "source": [
    "# Kullanıcının girdiği sayının TIDY NUMBER olup olmadığını bulan kod (SON HALİ):\n",
    "num = input(\"please enter a number :\")\n",
    "\n",
    "num_list = list(num)\n",
    "new_list = []\n",
    "n = 0\n",
    "\n",
    "while n < len(num_list)-1:\n",
    "    \n",
    "  new_list.append(num_list[n+1] >= num_list[n])\n",
    "  n += 1\n",
    "\n",
    "if False in new_list:\n",
    "  print(f\"{num} is not a tidy number.\")\n",
    "else:\n",
    "  print(f\"{num} is a tidy number.\")"
   ]
  },
  {
   "cell_type": "code",
   "execution_count": null,
   "metadata": {
    "id": "DuHXX2Krssfn"
   },
   "outputs": [],
   "source": []
  }
 ],
 "metadata": {
  "colab": {
   "authorship_tag": "ABX9TyPvyYXX1nmTW3ULPUUPy4Vf",
   "collapsed_sections": [],
   "name": "PythonEkDers25Feb.ipynb",
   "provenance": []
  },
  "kernelspec": {
   "display_name": "Python 3",
   "language": "python",
   "name": "python3"
  },
  "language_info": {
   "codemirror_mode": {
    "name": "ipython",
    "version": 3
   },
   "file_extension": ".py",
   "mimetype": "text/x-python",
   "name": "python",
   "nbconvert_exporter": "python",
   "pygments_lexer": "ipython3",
   "version": "3.8.10"
  }
 },
 "nbformat": 4,
 "nbformat_minor": 1
}
