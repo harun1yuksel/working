{
 "cells": [
  {
   "cell_type": "code",
   "execution_count": 3,
   "metadata": {
    "colab": {
     "base_uri": "https://localhost:8080/"
    },
    "executionInfo": {
     "elapsed": 66268,
     "status": "ok",
     "timestamp": 1646208906894,
     "user": {
      "displayName": "İlknur Özçelik",
      "photoUrl": "https://lh3.googleusercontent.com/a/default-user=s64",
      "userId": "00777403709854998031"
     },
     "user_tz": -180
    },
    "id": "AZMK46hBA-i1",
    "outputId": "7c33b22d-83c3-4208-9f16-3e9b0cc06d52"
   },
   "outputs": [
    {
     "name": "stdout",
     "output_type": "stream",
     "text": [
      "Enter a word :pynatives\n",
      "0 : p\n",
      "2 : n\n",
      "4 : t\n",
      "6 : v\n",
      "8 : s\n"
     ]
    }
   ],
   "source": [
    "# Kullanıcıdan alınan bir stringin çift indexli olan karakterlerini index numaraları ile birlikte yazdıran bir kod yazalım.\n",
    "\n",
    "word = input(\"Enter a word :\")\n",
    "for i in range(0,len(word),2):\n",
    "#  print(i, \":\", word[i])\n",
    "  print(i, \":\", word[i], end=\"\\n\")\n",
    "  "
   ]
  },
  {
   "cell_type": "code",
   "execution_count": 5,
   "metadata": {
    "colab": {
     "base_uri": "https://localhost:8080/"
    },
    "executionInfo": {
     "elapsed": 5042,
     "status": "ok",
     "timestamp": 1646209162567,
     "user": {
      "displayName": "İlknur Özçelik",
      "photoUrl": "https://lh3.googleusercontent.com/a/default-user=s64",
      "userId": "00777403709854998031"
     },
     "user_tz": -180
    },
    "id": "XsxY3jqCDsHJ",
    "outputId": "f7acfa85-30bd-43db-ef85-a5f45bec0f5f"
   },
   "outputs": [
    {
     "name": "stdout",
     "output_type": "stream",
     "text": [
      "Enter a number :4687\n",
      "7 8 6 4 "
     ]
    }
   ],
   "source": [
    "# Girilen bir sayının her digitini tersten ekstrakt eden ve yazdıran bir kod yazalım.\n",
    "# Ör: 7536 için çıktı: \"6 3 5 7\"\n",
    "\n",
    "number = int(input(\"Enter a number :\"))\n",
    "\n",
    "while number > 0:\n",
    "  last = number % 10  # En sondaki sayıyı (kalanı) bulmak için modulusunu aldık. Yazdırdık.\n",
    "  number = number//10  # Sayıyı floor division ile bölerek sondaki sayı çıktığında oluşan yeni sayıyı bulduk.\n",
    "  print(last, end=\" \")  # Sayıları aralarına boşluk bırakarak yan yana yazdırdık."
   ]
  },
  {
   "cell_type": "code",
   "execution_count": 6,
   "metadata": {
    "colab": {
     "base_uri": "https://localhost:8080/"
    },
    "executionInfo": {
     "elapsed": 266,
     "status": "ok",
     "timestamp": 1646209607713,
     "user": {
      "displayName": "İlknur Özçelik",
      "photoUrl": "https://lh3.googleusercontent.com/a/default-user=s64",
      "userId": "00777403709854998031"
     },
     "user_tz": -180
    },
    "id": "YenPYe_HKRnq",
    "outputId": "acc397af-acb3-4677-c280-321fd5c21522"
   },
   "outputs": [
    {
     "name": "stdout",
     "output_type": "stream",
     "text": [
      "* \n",
      "\n",
      "* * \n",
      "\n",
      "* * * \n",
      "\n",
      "* * * * \n",
      "\n",
      "* * * * * \n",
      "\n",
      "* * * * \n",
      "\n",
      "* * * \n",
      "\n",
      "* * \n",
      "\n",
      "* \n",
      "\n",
      "\n",
      "\n"
     ]
    }
   ],
   "source": [
    "# Ekrana birden başlayıp her seferinde birer artırarak * yazdırmak\n",
    "# ve bunu 5. satıra kadar artan bir şekilde, sonra azalan bir şekilde\n",
    "# yazdırmak için bir kod yazalım.\n",
    "\n",
    "rows = 5\n",
    "\n",
    "for i in range(0, rows):  # Burada satır sayısını belirliyoruz.\n",
    "\n",
    "  for j in range(0, i+1):  # Burada da yıldız sayısını belirliyoruz. Yıldızların artan bir şekilde yazdırılacağını range içinde tanımlıyoruz.\n",
    "    print(\"*\", end=\" \")  # Yıldızları yan yana yazıdrmak için end=\" \" tanımladık. Yoksa default olarak alt alta yazdırırdı.\n",
    "  print(\"\\n\")\n",
    "\n",
    "for i in range (rows, 0, -1):  # Burada azalan bir şekilde satır sayısını belirliyoruz.\n",
    " \n",
    "  for j in range(0,i-1):  # Burada da yıldızların azalan bir şekilde sayısını belirliyoruz.\n",
    "    print(\"*\", end=\" \")  # Yıldızları yan yana yazıdrmak için end=\" \" tanımladık.\n",
    "  print(\"\\n\")"
   ]
  },
  {
   "cell_type": "code",
   "execution_count": 12,
   "metadata": {
    "colab": {
     "base_uri": "https://localhost:8080/"
    },
    "executionInfo": {
     "elapsed": 14887,
     "status": "ok",
     "timestamp": 1646150493469,
     "user": {
      "displayName": "İlknur Özçelik",
      "photoUrl": "https://lh3.googleusercontent.com/a/default-user=s64",
      "userId": "00777403709854998031"
     },
     "user_tz": -180
    },
    "id": "mqeefyl1MGuA",
    "outputId": "6da6ce54-dcf8-44f5-fa0b-8f1f94ee4709"
   },
   "outputs": [
    {
     "name": "stdout",
     "output_type": "stream",
     "text": [
      "Enter astring : clarusway 2022*/&\n",
      "Letters : 9\n",
      "Digit : 4\n"
     ]
    }
   ],
   "source": [
    "# Girilen bir stringin içindeki digit ve letter sayılarını yazdıran bir kod yazalım.\n",
    "\n",
    "s = input(\"Enter a string : \")\n",
    "letter = 0  # harf sayılarını saymak için tanımlanan sayaç ve başlangıç değeri.\n",
    "digt = 0  # sayı sayılarını saymak için tanımlanan sayaç ve başlangıç değeri.\n",
    "\n",
    "for c in s:  # String deki her karakter için for döngüsünün içindeki işlemleri yap.\n",
    "  if c.isdigit():  # .isdigit() metodu ile bir stringdeki sayıları bulabiliriz.\n",
    "    digt += 1\n",
    "  elif c.isalpha():  # .isalpha() metodu ile bir stringdeki harfleri bulabiliriz.\n",
    "    letter += 1\n",
    "  else:\n",
    "    pass  # Diğer koşullarda pas geçmesi için bu komutu yazdık.\n",
    "print(\"Letters :\", letter)\n",
    "print(\"Digit :\", digt)"
   ]
  },
  {
   "cell_type": "code",
   "execution_count": 7,
   "metadata": {
    "colab": {
     "base_uri": "https://localhost:8080/"
    },
    "executionInfo": {
     "elapsed": 2653,
     "status": "ok",
     "timestamp": 1646210042602,
     "user": {
      "displayName": "İlknur Özçelik",
      "photoUrl": "https://lh3.googleusercontent.com/a/default-user=s64",
      "userId": "00777403709854998031"
     },
     "user_tz": -180
    },
    "id": "LkU8IGyYN1t6",
    "outputId": "577b1cb9-866b-4076-952b-422a546b80a5"
   },
   "outputs": [
    {
     "name": "stdout",
     "output_type": "stream",
     "text": [
      "Number : 27\n",
      "27 is not a prime number\n"
     ]
    }
   ],
   "source": [
    "# Girilen sayının prime number olup olmadığını kontrol eden bir kod yazalım.\n",
    "\n",
    "number = int(input(\"Number : \"))\n",
    "counter = 0  # Girilen sayının diğer sayılara bölümünde kalan=0 olma durumunun \n",
    "#            kaç kez gerçekleştiğini bulmak ve buradan prime number ayrımını \n",
    "#            yapabilmek için bunu tanımladık.\n",
    "\n",
    "if number > 1:\n",
    "  for i in range(2, int(number//2)+1):  # Range aralığını 2 den sayının yarısının bir fazlasına kadar tanımladık.\n",
    "    if number % i == 0:\n",
    "      counter += 1\n",
    "      break\n",
    "\n",
    "if counter == 0:  # Girilen sayı kendisinden başka sayılara bölünmediği için counter hiç artmayacak. Böylece prime sayı bulunmuş olacak.\n",
    "  print(number, \"is a prime number\")\n",
    "else:  # Girilen sayı kendisinden başka sayılara bölündüğünde counter değeri 0'dan farklı olacağı için else bloğu çalışacak.  \n",
    "  print(number, \"is not a prime number\")"
   ]
  },
  {
   "cell_type": "code",
   "execution_count": 15,
   "metadata": {
    "colab": {
     "base_uri": "https://localhost:8080/"
    },
    "executionInfo": {
     "elapsed": 404,
     "status": "ok",
     "timestamp": 1646151936876,
     "user": {
      "displayName": "İlknur Özçelik",
      "photoUrl": "https://lh3.googleusercontent.com/a/default-user=s64",
      "userId": "00777403709854998031"
     },
     "user_tz": -180
    },
    "id": "Tt6DqBsIS4Nm",
    "outputId": "b1e3dd6e-84d8-4646-8e8a-247bf0e506f2"
   },
   "outputs": [
    {
     "name": "stdout",
     "output_type": "stream",
     "text": [
      "3 5 7 11 13 17 19 23 29 31 37 41 43 47 53 59 61 67 71 73 79 83 89 97 "
     ]
    }
   ],
   "source": [
    "# 1-100 arasındaki sayılardan hangilerinin prime sayı olduğunu yazdıran bir kod yazalım.\n",
    "\n",
    "for number in range(3,100):\n",
    "  counter = 0\n",
    "\n",
    "  for i in range(2, int(number//2)+1):\n",
    "      if number % i == 0:\n",
    "        counter += 1\n",
    "        break\n",
    "\n",
    "  if counter == 0:\n",
    "    print(number, end=\" \")\n"
   ]
  }
 ],
 "metadata": {
  "colab": {
   "authorship_tag": "ABX9TyPfLOPcNdYPpAdphoYUiMpv",
   "collapsed_sections": [],
   "name": "EkDers_MurphyMentor_1March.ipynb",
   "provenance": []
  },
  "kernelspec": {
   "display_name": "Python 3",
   "language": "python",
   "name": "python3"
  },
  "language_info": {
   "codemirror_mode": {
    "name": "ipython",
    "version": 3
   },
   "file_extension": ".py",
   "mimetype": "text/x-python",
   "name": "python",
   "nbconvert_exporter": "python",
   "pygments_lexer": "ipython3",
   "version": "3.8.10"
  }
 },
 "nbformat": 4,
 "nbformat_minor": 1
}
