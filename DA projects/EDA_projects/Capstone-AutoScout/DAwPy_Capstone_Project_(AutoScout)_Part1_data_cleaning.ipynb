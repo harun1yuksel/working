{
 "cells": [
  {
   "cell_type": "markdown",
   "metadata": {
    "id": "Bv1I7_aas1L3"
   },
   "source": [
    "___\n",
    "\n",
    "<p style=\"text-align: center;\"><img src=\"https://docs.google.com/uc?id=1lY0Uj5R04yMY3-ZppPWxqCr5pvBLYPnV\" class=\"img-fluid\" \n",
    "alt=\"CLRSWY\"></p>\n",
    "\n",
    "## <p style=\"background-color:#FDFEFE; font-family:newtimeroman; color:#9d4f8c; font-size:100%; text-align:center; border-radius:10px 10px;\">WAY TO REINVENT YOURSELF</p>"
   ]
  },
  {
   "cell_type": "markdown",
   "metadata": {
    "id": "Bkw3_pB0s1L-"
   },
   "source": [
    "<img src=https://i.ibb.co/wJW61Y2/Used-cars.jpg width=\"700\" height=\"200\">\n",
    "\n",
    "## <p style=\"background-color:#FDFEFE; font-family:newtimeroman; color:#060108; font-size:200%; text-align:center; border-radius:10px 10px;\">The Capstone Project of Data Analytics Module</p>\n",
    "\n",
    "## <p style=\"background-color:#FDFEFE; font-family:newtimeroman; color:#060108; font-size:150%; text-align:center; border-radius:10px 10px;\">Car Price Prediction EDA</p>"
   ]
  },
  {
   "cell_type": "markdown",
   "metadata": {
    "id": "BtStUOQNs1L_"
   },
   "source": [
    "# WELCOME!"
   ]
  },
  {
   "cell_type": "markdown",
   "metadata": {
    "id": "Z_oWczxZs1MA"
   },
   "source": [
    "## Introduction\n",
    "Welcome to \"***AutoScout Data Analysis Project***\". This is the capstone project of ***Data Analysis*** Module. **Auto Scout** data which using for this project, scraped from the on-line car trading company in 2019, contains many features of 9 different car models. In this project, you will have the opportunity to apply many commonly used algorithms for Data Cleaning and Exploratory Data Analysis by using many Python libraries such as Numpy, Pandas, Matplotlib, Seaborn, Scipy you will analyze clean dataset.\n",
    "\n",
    "The project consists of 3 parts:\n",
    "* First part is related with 'data cleaning'. It deals with Incorrect Headers, Incorrect Format, Anomalies, Dropping useless columns.\n",
    "* Second part is related with 'filling data'. It deals with Missing Values. Categorical to numeric transformation is done.\n",
    "* Third part is related with 'handling outliers of data' via Visualisation libraries. Some insights are extracted.\n"
   ]
  },
  {
   "cell_type": "code",
   "execution_count": 1,
   "metadata": {},
   "outputs": [],
   "source": [
    "import numpy as np\n",
    "import pandas as pd\n",
    "\n",
    "import seaborn as sns\n",
    "import matplotlib.pyplot as plt\n",
    "\n",
    "from pandas.plotting import register_matplotlib_converters\n",
    "from pylab import rcParams\n",
    "sns.set_style(\"darkgrid\")\n",
    "\n",
    "# import lux\n",
    "\n",
    "import warnings\n",
    "warnings.filterwarnings(\"ignore\")\n",
    "\n",
    "# Set it None to display all rows in the dataframe\n",
    "pd.set_option('display.max_rows', 200)\n",
    "\n",
    "# Set it to None to display all columns in the dataframe\n",
    "# pd.set_option('display.max_columns', None)\n",
    "\n",
    "from requests import request\n",
    "import json\n",
    "from pandas.io.json import json_normalize\n",
    "\n",
    "from pandas import json_normalize"
   ]
  },
  {
   "cell_type": "code",
   "execution_count": 2,
   "metadata": {},
   "outputs": [],
   "source": [
    "pd.set_option('display.max_columns', 500)\n",
    "pd.set_option('display.max_colwidth', 500)\n",
    "pd.set_option('display.max_info_columns', 500)\n",
    "pd.set_option('display.max_info_rows', 2000)\n",
    "pd.set_option('display.expand_frame_repr', True)\n",
    "pd.set_option('display.width', 2000)"
   ]
  },
  {
   "cell_type": "markdown",
   "metadata": {
    "id": "vvgJ5KWTs1MB"
   },
   "source": [
    "# PART- 1 `( Data Cleaning )`"
   ]
  },
  {
   "cell_type": "code",
   "execution_count": 3,
   "metadata": {
    "scrolled": true
   },
   "outputs": [
    {
     "name": "stdout",
     "output_type": "stream",
     "text": [
      "<class 'pandas.core.frame.DataFrame'>\n",
      "RangeIndex: 15919 entries, 0 to 15918\n",
      "Data columns (total 54 columns):\n",
      " #   Column                         Dtype  \n",
      "---  ------                         -----  \n",
      " 0   url                            object \n",
      " 1   make_model                     object \n",
      " 2   short_description              object \n",
      " 3   body_type                      object \n",
      " 4   price                          int64  \n",
      " 5   vat                            object \n",
      " 6   km                             object \n",
      " 7   registration                   object \n",
      " 8   prev_owner                     object \n",
      " 9   kW                             float64\n",
      " 10  hp                             object \n",
      " 11  Type                           object \n",
      " 12  Previous Owners                object \n",
      " 13  Next Inspection                object \n",
      " 14  Inspection new                 object \n",
      " 15  Warranty                       object \n",
      " 16  Full Service                   object \n",
      " 17  Non-smoking Vehicle            object \n",
      " 18  null                           object \n",
      " 19  Make                           object \n",
      " 20  Model                          object \n",
      " 21  Offer Number                   object \n",
      " 22  First Registration             object \n",
      " 23  Body Color                     object \n",
      " 24  Paint Type                     object \n",
      " 25  Body Color Original            object \n",
      " 26  Upholstery                     object \n",
      " 27  Body                           object \n",
      " 28  Nr. of Doors                   object \n",
      " 29  Nr. of Seats                   object \n",
      " 30  Model Code                     object \n",
      " 31  Gearing Type                   object \n",
      " 32  Displacement                   object \n",
      " 33  Cylinders                      object \n",
      " 34  Weight                         object \n",
      " 35  Drive chain                    object \n",
      " 36  Fuel                           object \n",
      " 37  Consumption                    object \n",
      " 38  CO2 Emission                   object \n",
      " 39  Emission Class                 object \n",
      " 40  \n",
      "Comfort & Convenience\n",
      "        object \n",
      " 41  \n",
      "Entertainment & Media\n",
      "        object \n",
      " 42  \n",
      "Extras\n",
      "                       object \n",
      " 43  \n",
      "Safety & Security\n",
      "            object \n",
      " 44  description                    object \n",
      " 45  Emission Label                 object \n",
      " 46  Gears                          object \n",
      " 47  Country version                object \n",
      " 48  Electricity consumption        object \n",
      " 49  Last Service Date              object \n",
      " 50  Other Fuel Types               object \n",
      " 51  Availability                   object \n",
      " 52  Last Timing Belt Service Date  object \n",
      " 53  Available from                 object \n",
      "dtypes: float64(1), int64(1), object(52)\n",
      "memory usage: 6.6+ MB\n"
     ]
    }
   ],
   "source": [
    "df = pd.read_json(\"scout_car.json\", lines= True, orient= \"columns\")\n",
    "df.info()"
   ]
  },
  {
   "cell_type": "code",
   "execution_count": 4,
   "metadata": {},
   "outputs": [],
   "source": [
    "dfo = df.copy()"
   ]
  },
  {
   "cell_type": "code",
   "execution_count": 5,
   "metadata": {
    "scrolled": true
   },
   "outputs": [
    {
     "data": {
      "text/plain": [
       "url                                  0\n",
       "make_model                           0\n",
       "short_description                   46\n",
       "body_type                           60\n",
       "price                                0\n",
       "vat                               4513\n",
       "km                                   0\n",
       "registration                         0\n",
       "prev_owner                        6828\n",
       "kW                               15919\n",
       "hp                                   0\n",
       "Type                                 2\n",
       "Previous Owners                   6640\n",
       "Next Inspection                  12384\n",
       "Inspection new                   11987\n",
       "Warranty                          5420\n",
       "Full Service                      7704\n",
       "Non-smoking Vehicle               8742\n",
       "null                                 0\n",
       "Make                                 0\n",
       "Model                                0\n",
       "Offer Number                      3175\n",
       "First Registration                1597\n",
       "Body Color                         597\n",
       "Paint Type                        5772\n",
       "Body Color Original               3759\n",
       "Upholstery                        3720\n",
       "Body                                60\n",
       "Nr. of Doors                       212\n",
       "Nr. of Seats                       977\n",
       "Model Code                       10941\n",
       "Gearing Type                         0\n",
       "Displacement                       496\n",
       "Cylinders                         5680\n",
       "Weight                            6974\n",
       "Drive chain                       6858\n",
       "Fuel                                 0\n",
       "Consumption                       1906\n",
       "CO2 Emission                      1808\n",
       "Emission Class                    3021\n",
       "\\nComfort & Convenience\\n          920\n",
       "\\nEntertainment & Media\\n         1374\n",
       "\\nExtras\\n                        2962\n",
       "\\nSafety & Security\\n              982\n",
       "description                          0\n",
       "Emission Label                   11934\n",
       "Gears                             4712\n",
       "Country version                   8333\n",
       "Electricity consumption          15782\n",
       "Last Service Date                15353\n",
       "Other Fuel Types                 15039\n",
       "Availability                     15284\n",
       "Last Timing Belt Service Date    15903\n",
       "Available from                   15647\n",
       "dtype: int64"
      ]
     },
     "execution_count": 5,
     "metadata": {},
     "output_type": "execute_result"
    }
   ],
   "source": [
    "df.isnull().sum()"
   ]
  },
  {
   "cell_type": "code",
   "execution_count": 6,
   "metadata": {
    "scrolled": true
   },
   "outputs": [
    {
     "data": {
      "text/plain": [
       "url                                0.000000\n",
       "make_model                         0.000000\n",
       "price                              0.000000\n",
       "description                        0.000000\n",
       "km                                 0.000000\n",
       "registration                       0.000000\n",
       "Gearing Type                       0.000000\n",
       "Model                              0.000000\n",
       "hp                                 0.000000\n",
       "Make                               0.000000\n",
       "null                               0.000000\n",
       "Fuel                               0.000000\n",
       "Type                               0.012564\n",
       "short_description                  0.288963\n",
       "body_type                          0.376908\n",
       "Body                               0.376908\n",
       "Nr. of Doors                       1.331742\n",
       "Displacement                       3.115774\n",
       "Body Color                         3.750236\n",
       "\\nComfort & Convenience\\n          5.779257\n",
       "Nr. of Seats                       6.137320\n",
       "\\nSafety & Security\\n              6.168729\n",
       "\\nEntertainment & Media\\n          8.631195\n",
       "First Registration                10.032037\n",
       "CO2 Emission                      11.357497\n",
       "Consumption                       11.973114\n",
       "\\nExtras\\n                        18.606696\n",
       "Emission Class                    18.977323\n",
       "Offer Number                      19.944720\n",
       "Upholstery                        23.368302\n",
       "Body Color Original               23.613292\n",
       "vat                               28.349771\n",
       "Gears                             29.599849\n",
       "Warranty                          34.047365\n",
       "Cylinders                         35.680633\n",
       "Paint Type                        36.258559\n",
       "Previous Owners                   41.711163\n",
       "prev_owner                        42.892141\n",
       "Drive chain                       43.080596\n",
       "Weight                            43.809285\n",
       "Full Service                      48.395000\n",
       "Country version                   52.346253\n",
       "Non-smoking Vehicle               54.915510\n",
       "Model Code                        68.729192\n",
       "Emission Label                    74.967021\n",
       "Inspection new                    75.299956\n",
       "Next Inspection                   77.793831\n",
       "Other Fuel Types                  94.472015\n",
       "Availability                      96.011056\n",
       "Last Service Date                 96.444500\n",
       "Available from                    98.291350\n",
       "Electricity consumption           99.139393\n",
       "Last Timing Belt Service Date     99.899491\n",
       "kW                               100.000000\n",
       "dtype: float64"
      ]
     },
     "execution_count": 6,
     "metadata": {},
     "output_type": "execute_result"
    }
   ],
   "source": [
    "## percentage of null values\n",
    "(df.isnull().sum() / df.shape[0] * 100).sort_values()"
   ]
  },
  {
   "cell_type": "code",
   "execution_count": 7,
   "metadata": {},
   "outputs": [],
   "source": [
    "# columns that have more then 90 percent null will be dropped.\n",
    "drop_lst = ['Other Fuel Types', 'Availability', 'Last Service Date', 'Available from', 'Electricity consumption', 'Last Timing Belt Service Date', 'kW']"
   ]
  },
  {
   "cell_type": "code",
   "execution_count": 8,
   "metadata": {},
   "outputs": [],
   "source": [
    "df.drop(columns=drop_lst, axis=1, inplace=True)"
   ]
  },
  {
   "cell_type": "markdown",
   "metadata": {},
   "source": [
    "# checking the columns that have less null than 50%"
   ]
  },
  {
   "cell_type": "code",
   "execution_count": 11,
   "metadata": {
    "scrolled": true
   },
   "outputs": [
    {
     "data": {
      "text/html": [
       "<div>\n",
       "<style scoped>\n",
       "    .dataframe tbody tr th:only-of-type {\n",
       "        vertical-align: middle;\n",
       "    }\n",
       "\n",
       "    .dataframe tbody tr th {\n",
       "        vertical-align: top;\n",
       "    }\n",
       "\n",
       "    .dataframe thead th {\n",
       "        text-align: right;\n",
       "    }\n",
       "</style>\n",
       "<table border=\"1\" class=\"dataframe\">\n",
       "  <thead>\n",
       "    <tr style=\"text-align: right;\">\n",
       "      <th></th>\n",
       "      <th>0</th>\n",
       "      <th>1</th>\n",
       "      <th>2</th>\n",
       "      <th>3</th>\n",
       "      <th>4</th>\n",
       "    </tr>\n",
       "  </thead>\n",
       "  <tbody>\n",
       "    <tr>\n",
       "      <th>url</th>\n",
       "      <td>https://www.autoscout24.com//offers/audi-a1-sportback-1-4-tdi-s-tronic-xenon-navi-klima-diesel-black-bdab349a-caa5-41b0-98eb-c1345b84445e</td>\n",
       "      <td>https://www.autoscout24.com//offers/audi-a1-1-8-tfsi-sport-gasoline-red-b2547f8a-e83f-6237-e053-e250040a56df</td>\n",
       "      <td>https://www.autoscout24.com//offers/audi-a1-sportback-1-6-tdi-s-tronic-einparkhilfe-plus-music-diesel-black-6183cb6a-8570-4b86-a132-9b54214bca88</td>\n",
       "      <td>https://www.autoscout24.com//offers/audi-a1-1-4-tdi-design-s-tronic-diesel-brown-35c86585-2727-d61e-e053-e250040ad640</td>\n",
       "      <td>https://www.autoscout24.com//offers/audi-a1-sportback-1-4-tdi-s-tronic-s-line-ext-admired-xe-diesel-black-b86b55d8-9c7c-4a58-b658-b97008a51efc</td>\n",
       "    </tr>\n",
       "    <tr>\n",
       "      <th>make_model</th>\n",
       "      <td>Audi A1</td>\n",
       "      <td>Audi A1</td>\n",
       "      <td>Audi A1</td>\n",
       "      <td>Audi A1</td>\n",
       "      <td>Audi A1</td>\n",
       "    </tr>\n",
       "    <tr>\n",
       "      <th>short_description</th>\n",
       "      <td>Sportback 1.4 TDI S-tronic Xenon Navi Klima</td>\n",
       "      <td>1.8 TFSI sport</td>\n",
       "      <td>Sportback 1.6 TDI S tronic Einparkhilfe plus+music</td>\n",
       "      <td>1.4 TDi Design S tronic</td>\n",
       "      <td>Sportback 1.4 TDI S-Tronic S-Line Ext. admired, Xe</td>\n",
       "    </tr>\n",
       "    <tr>\n",
       "      <th>body_type</th>\n",
       "      <td>Sedans</td>\n",
       "      <td>Sedans</td>\n",
       "      <td>Sedans</td>\n",
       "      <td>Sedans</td>\n",
       "      <td>Sedans</td>\n",
       "    </tr>\n",
       "    <tr>\n",
       "      <th>price</th>\n",
       "      <td>15770</td>\n",
       "      <td>14500</td>\n",
       "      <td>14640</td>\n",
       "      <td>14500</td>\n",
       "      <td>16790</td>\n",
       "    </tr>\n",
       "    <tr>\n",
       "      <th>vat</th>\n",
       "      <td>VAT deductible</td>\n",
       "      <td>Price negotiable</td>\n",
       "      <td>VAT deductible</td>\n",
       "      <td>None</td>\n",
       "      <td>None</td>\n",
       "    </tr>\n",
       "    <tr>\n",
       "      <th>km</th>\n",
       "      <td>56,013 km</td>\n",
       "      <td>80,000 km</td>\n",
       "      <td>83,450 km</td>\n",
       "      <td>73,000 km</td>\n",
       "      <td>16,200 km</td>\n",
       "    </tr>\n",
       "    <tr>\n",
       "      <th>registration</th>\n",
       "      <td>01/2016</td>\n",
       "      <td>03/2017</td>\n",
       "      <td>02/2016</td>\n",
       "      <td>08/2016</td>\n",
       "      <td>05/2016</td>\n",
       "    </tr>\n",
       "    <tr>\n",
       "      <th>prev_owner</th>\n",
       "      <td>2 previous owners</td>\n",
       "      <td>None</td>\n",
       "      <td>1 previous owner</td>\n",
       "      <td>1 previous owner</td>\n",
       "      <td>1 previous owner</td>\n",
       "    </tr>\n",
       "    <tr>\n",
       "      <th>hp</th>\n",
       "      <td>66 kW</td>\n",
       "      <td>141 kW</td>\n",
       "      <td>85 kW</td>\n",
       "      <td>66 kW</td>\n",
       "      <td>66 kW</td>\n",
       "    </tr>\n",
       "    <tr>\n",
       "      <th>Type</th>\n",
       "      <td>[, Used, , Diesel (Particulate Filter)]</td>\n",
       "      <td>[, Used, , Gasoline]</td>\n",
       "      <td>[, Used, , Diesel (Particulate Filter)]</td>\n",
       "      <td>[, Used, , Diesel (Particulate Filter)]</td>\n",
       "      <td>[, Used, , Diesel (Particulate Filter)]</td>\n",
       "    </tr>\n",
       "    <tr>\n",
       "      <th>Previous Owners</th>\n",
       "      <td>\\n2\\n</td>\n",
       "      <td>NaN</td>\n",
       "      <td>\\n1\\n</td>\n",
       "      <td>\\n1\\n</td>\n",
       "      <td>\\n1\\n</td>\n",
       "    </tr>\n",
       "    <tr>\n",
       "      <th>Next Inspection</th>\n",
       "      <td>[\\n06/2021\\n, \\n99 g CO2/km (comb)\\n]</td>\n",
       "      <td>NaN</td>\n",
       "      <td>NaN</td>\n",
       "      <td>NaN</td>\n",
       "      <td>NaN</td>\n",
       "    </tr>\n",
       "    <tr>\n",
       "      <th>Inspection new</th>\n",
       "      <td>[\\nYes\\n, \\nEuro 6\\n]</td>\n",
       "      <td>NaN</td>\n",
       "      <td>NaN</td>\n",
       "      <td>NaN</td>\n",
       "      <td>[\\nYes\\n, \\n109 g CO2/km (comb)\\n]</td>\n",
       "    </tr>\n",
       "    <tr>\n",
       "      <th>Warranty</th>\n",
       "      <td>[\\n, \\n, \\n4 (Green)\\n]</td>\n",
       "      <td>NaN</td>\n",
       "      <td>[\\n, \\n, \\n99 g CO2/km (comb)\\n]</td>\n",
       "      <td>NaN</td>\n",
       "      <td>[\\n, \\n, \\nEuro 6\\n]</td>\n",
       "    </tr>\n",
       "    <tr>\n",
       "      <th>Full Service</th>\n",
       "      <td>[\\n, \\n]</td>\n",
       "      <td>NaN</td>\n",
       "      <td>NaN</td>\n",
       "      <td>[\\n, \\n, \\n99 g CO2/km (comb)\\n]</td>\n",
       "      <td>[\\n, \\n, \\n4 (Green)\\n]</td>\n",
       "    </tr>\n",
       "    <tr>\n",
       "      <th>Non-smoking Vehicle</th>\n",
       "      <td>[\\n, \\n]</td>\n",
       "      <td>NaN</td>\n",
       "      <td>NaN</td>\n",
       "      <td>[\\n, \\n, \\nEuro 6\\n]</td>\n",
       "      <td>[\\n, \\n]</td>\n",
       "    </tr>\n",
       "    <tr>\n",
       "      <th>null</th>\n",
       "      <td>[]</td>\n",
       "      <td>[]</td>\n",
       "      <td>[]</td>\n",
       "      <td>[]</td>\n",
       "      <td>[]</td>\n",
       "    </tr>\n",
       "    <tr>\n",
       "      <th>Make</th>\n",
       "      <td>\\nAudi\\n</td>\n",
       "      <td>\\nAudi\\n</td>\n",
       "      <td>\\nAudi\\n</td>\n",
       "      <td>\\nAudi\\n</td>\n",
       "      <td>\\nAudi\\n</td>\n",
       "    </tr>\n",
       "    <tr>\n",
       "      <th>Model</th>\n",
       "      <td>[\\n, A1, \\n]</td>\n",
       "      <td>[\\n, A1, \\n]</td>\n",
       "      <td>[\\n, A1, \\n]</td>\n",
       "      <td>[\\n, A1, \\n]</td>\n",
       "      <td>[\\n, A1, \\n]</td>\n",
       "    </tr>\n",
       "    <tr>\n",
       "      <th>Offer Number</th>\n",
       "      <td>[\\nLR-062483\\n]</td>\n",
       "      <td>NaN</td>\n",
       "      <td>[\\nAM-95365\\n]</td>\n",
       "      <td>NaN</td>\n",
       "      <td>[\\nC1626\\n]</td>\n",
       "    </tr>\n",
       "    <tr>\n",
       "      <th>First Registration</th>\n",
       "      <td>[\\n, 2016, \\n]</td>\n",
       "      <td>[\\n, 2017, \\n]</td>\n",
       "      <td>[\\n, 2016, \\n]</td>\n",
       "      <td>[\\n, 2016, \\n]</td>\n",
       "      <td>[\\n, 2016, \\n]</td>\n",
       "    </tr>\n",
       "    <tr>\n",
       "      <th>Body Color</th>\n",
       "      <td>[\\n, Black, \\n]</td>\n",
       "      <td>[\\n, Red, \\n]</td>\n",
       "      <td>[\\n, Black, \\n]</td>\n",
       "      <td>[\\n, Brown, \\n]</td>\n",
       "      <td>[\\n, Black, \\n]</td>\n",
       "    </tr>\n",
       "    <tr>\n",
       "      <th>Paint Type</th>\n",
       "      <td>[\\nMetallic\\n]</td>\n",
       "      <td>NaN</td>\n",
       "      <td>[\\nMetallic\\n]</td>\n",
       "      <td>[\\nMetallic\\n]</td>\n",
       "      <td>[\\nMetallic\\n]</td>\n",
       "    </tr>\n",
       "    <tr>\n",
       "      <th>Body Color Original</th>\n",
       "      <td>[\\nMythosschwarz\\n]</td>\n",
       "      <td>NaN</td>\n",
       "      <td>[\\nmythosschwarz metallic\\n]</td>\n",
       "      <td>NaN</td>\n",
       "      <td>[\\nMythosschwarz Metallic\\n]</td>\n",
       "    </tr>\n",
       "    <tr>\n",
       "      <th>Upholstery</th>\n",
       "      <td>[\\nCloth, Black\\n]</td>\n",
       "      <td>[\\nCloth, Grey\\n]</td>\n",
       "      <td>[\\nCloth, Black\\n]</td>\n",
       "      <td>NaN</td>\n",
       "      <td>[\\nCloth, Black\\n]</td>\n",
       "    </tr>\n",
       "    <tr>\n",
       "      <th>Body</th>\n",
       "      <td>[\\n, Sedans, \\n]</td>\n",
       "      <td>[\\n, Sedans, \\n]</td>\n",
       "      <td>[\\n, Sedans, \\n]</td>\n",
       "      <td>[\\n, Sedans, \\n]</td>\n",
       "      <td>[\\n, Sedans, \\n]</td>\n",
       "    </tr>\n",
       "    <tr>\n",
       "      <th>Nr. of Doors</th>\n",
       "      <td>[\\n5\\n]</td>\n",
       "      <td>[\\n3\\n]</td>\n",
       "      <td>[\\n4\\n]</td>\n",
       "      <td>[\\n3\\n]</td>\n",
       "      <td>[\\n5\\n]</td>\n",
       "    </tr>\n",
       "    <tr>\n",
       "      <th>Nr. of Seats</th>\n",
       "      <td>[\\n5\\n]</td>\n",
       "      <td>[\\n4\\n]</td>\n",
       "      <td>[\\n4\\n]</td>\n",
       "      <td>[\\n4\\n]</td>\n",
       "      <td>[\\n5\\n]</td>\n",
       "    </tr>\n",
       "    <tr>\n",
       "      <th>Model Code</th>\n",
       "      <td>[\\n0588/BDF\\n]</td>\n",
       "      <td>[\\n0588/BCY\\n]</td>\n",
       "      <td>NaN</td>\n",
       "      <td>NaN</td>\n",
       "      <td>[\\n0588/BDF\\n]</td>\n",
       "    </tr>\n",
       "    <tr>\n",
       "      <th>Gearing Type</th>\n",
       "      <td>[\\n, Automatic, \\n]</td>\n",
       "      <td>[\\n, Automatic, \\n]</td>\n",
       "      <td>[\\n, Automatic, \\n]</td>\n",
       "      <td>[\\n, Automatic, \\n]</td>\n",
       "      <td>[\\n, Automatic, \\n]</td>\n",
       "    </tr>\n",
       "    <tr>\n",
       "      <th>Displacement</th>\n",
       "      <td>[\\n1,422 cc\\n]</td>\n",
       "      <td>[\\n1,798 cc\\n]</td>\n",
       "      <td>[\\n1,598 cc\\n]</td>\n",
       "      <td>[\\n1,422 cc\\n]</td>\n",
       "      <td>[\\n1,422 cc\\n]</td>\n",
       "    </tr>\n",
       "    <tr>\n",
       "      <th>Cylinders</th>\n",
       "      <td>[\\n3\\n]</td>\n",
       "      <td>[\\n4\\n]</td>\n",
       "      <td>NaN</td>\n",
       "      <td>[\\n3\\n]</td>\n",
       "      <td>[\\n3\\n]</td>\n",
       "    </tr>\n",
       "    <tr>\n",
       "      <th>Weight</th>\n",
       "      <td>[\\n1,220 kg\\n]</td>\n",
       "      <td>[\\n1,255 kg\\n]</td>\n",
       "      <td>NaN</td>\n",
       "      <td>[\\n1,195 kg\\n]</td>\n",
       "      <td>NaN</td>\n",
       "    </tr>\n",
       "    <tr>\n",
       "      <th>Drive chain</th>\n",
       "      <td>[\\nfront\\n]</td>\n",
       "      <td>[\\nfront\\n]</td>\n",
       "      <td>[\\nfront\\n]</td>\n",
       "      <td>NaN</td>\n",
       "      <td>[\\nfront\\n]</td>\n",
       "    </tr>\n",
       "    <tr>\n",
       "      <th>Fuel</th>\n",
       "      <td>[\\n, Diesel (Particulate Filter), \\n]</td>\n",
       "      <td>[\\n, Gasoline, \\n]</td>\n",
       "      <td>[\\n, Diesel (Particulate Filter), \\n]</td>\n",
       "      <td>[\\n, Diesel (Particulate Filter), \\n]</td>\n",
       "      <td>[\\n, Diesel (Particulate Filter), \\n]</td>\n",
       "    </tr>\n",
       "    <tr>\n",
       "      <th>Consumption</th>\n",
       "      <td>[[3.8 l/100 km (comb)], [4.3 l/100 km (city)], [3.5 l/100 km (country)]]</td>\n",
       "      <td>[[5.6 l/100 km (comb)], [7.1 l/100 km (city)], [4.7 l/100 km (country)]]</td>\n",
       "      <td>[[3.8 l/100 km (comb)], [4.4 l/100 km (city)], [3.4 l/100 km (country)]]</td>\n",
       "      <td>[[3.8 l/100 km (comb)], [4.3 l/100 km (city)], [3.5 l/100 km (country)]]</td>\n",
       "      <td>[[4.1 l/100 km (comb)], [4.6 l/100 km (city)], [3.8 l/100 km (country)]]</td>\n",
       "    </tr>\n",
       "    <tr>\n",
       "      <th>CO2 Emission</th>\n",
       "      <td>[\\n99 g CO2/km (comb)\\n]</td>\n",
       "      <td>[\\n129 g CO2/km (comb)\\n]</td>\n",
       "      <td>[\\n99 g CO2/km (comb)\\n]</td>\n",
       "      <td>[\\n99 g CO2/km (comb)\\n]</td>\n",
       "      <td>[\\n109 g CO2/km (comb)\\n]</td>\n",
       "    </tr>\n",
       "    <tr>\n",
       "      <th>Emission Class</th>\n",
       "      <td>[\\nEuro 6\\n]</td>\n",
       "      <td>[\\nEuro 6\\n]</td>\n",
       "      <td>[\\nEuro 6\\n]</td>\n",
       "      <td>[\\nEuro 6\\n]</td>\n",
       "      <td>[\\nEuro 6\\n]</td>\n",
       "    </tr>\n",
       "    <tr>\n",
       "      <th>\\nComfort &amp; Convenience\\n</th>\n",
       "      <td>[Air conditioning, Armrest, Automatic climate control, Cruise control, Electrical side mirrors, Hill Holder, Leather steering wheel, Light sensor, Multi-function steering wheel, Navigation system, Park Distance Control, Parking assist system sensors rear, Power windows, Rain sensor, Seat heating, Start-stop system]</td>\n",
       "      <td>[Air conditioning, Automatic climate control, Hill Holder, Leather steering wheel, Lumbar support, Parking assist system sensors rear, Power windows, Start-stop system, Tinted windows]</td>\n",
       "      <td>[Air conditioning, Cruise control, Electrical side mirrors, Hill Holder, Leather steering wheel, Multi-function steering wheel, Navigation system, Park Distance Control, Parking assist system sensors front, Parking assist system sensors rear, Power windows, Seat heating, Start-stop system]</td>\n",
       "      <td>[Air suspension, Armrest, Auxiliary heating, Electrical side mirrors, Heads-up display, Hill Holder, Leather steering wheel, Light sensor, Lumbar support, Multi-function steering wheel, Navigation system, Power windows, Rain sensor, Seat heating, Split rear seats, Start-stop system]</td>\n",
       "      <td>[Air conditioning, Armrest, Automatic climate control, Electrical side mirrors, Hill Holder, Leather steering wheel, Light sensor, Multi-function steering wheel, Park Distance Control, Parking assist system sensors rear, Power windows, Rain sensor, Start-stop system]</td>\n",
       "    </tr>\n",
       "    <tr>\n",
       "      <th>\\nEntertainment &amp; Media\\n</th>\n",
       "      <td>[Bluetooth, Hands-free equipment, On-board computer, Radio]</td>\n",
       "      <td>[Bluetooth, Hands-free equipment, On-board computer, Radio, Sound system]</td>\n",
       "      <td>[MP3, On-board computer]</td>\n",
       "      <td>[Bluetooth, CD player, Hands-free equipment, MP3, On-board computer, Radio, Sound system, USB]</td>\n",
       "      <td>[Bluetooth, CD player, Hands-free equipment, MP3, On-board computer, Radio, USB]</td>\n",
       "    </tr>\n",
       "    <tr>\n",
       "      <th>\\nExtras\\n</th>\n",
       "      <td>[Alloy wheels, Catalytic Converter, Voice Control]</td>\n",
       "      <td>[Alloy wheels, Sport seats, Sport suspension, Voice Control]</td>\n",
       "      <td>[Alloy wheels, Voice Control]</td>\n",
       "      <td>[Alloy wheels, Sport seats, Voice Control]</td>\n",
       "      <td>[Alloy wheels, Sport package, Sport suspension, Voice Control]</td>\n",
       "    </tr>\n",
       "    <tr>\n",
       "      <th>\\nSafety &amp; Security\\n</th>\n",
       "      <td>[ABS, Central door lock, Daytime running lights, Driver-side airbag, Electronic stability control, Fog lights, Immobilizer, Isofix, Passenger-side airbag, Power steering, Side airbag, Tire pressure monitoring system, Traction control, Xenon headlights]</td>\n",
       "      <td>[ABS, Central door lock, Central door lock with remote control, Daytime running lights, Driver-side airbag, Electronic stability control, Head airbag, Immobilizer, Isofix, Passenger-side airbag, Power steering, Side airbag, Tire pressure monitoring system, Traction control, Xenon headlights]</td>\n",
       "      <td>[ABS, Central door lock, Daytime running lights, Driver-side airbag, Electronic stability control, Immobilizer, Isofix, Passenger-side airbag, Power steering, Side airbag, Tire pressure monitoring system, Traction control]</td>\n",
       "      <td>[ABS, Alarm system, Central door lock with remote control, Driver drowsiness detection, Driver-side airbag, Electronic stability control, Emergency system, Head airbag, Immobilizer, Isofix, Passenger-side airbag, Power steering, Side airbag, Tire pressure monitoring system]</td>\n",
       "      <td>[ABS, Central door lock, Driver-side airbag, Electronic stability control, Fog lights, Immobilizer, Isofix, Passenger-side airbag, Power steering, Side airbag, Tire pressure monitoring system, Traction control, Xenon headlights]</td>\n",
       "    </tr>\n",
       "    <tr>\n",
       "      <th>description</th>\n",
       "      <td>[\\n, Sicherheit:,  , Deaktivierung für Beifahrer-Airbag,  , ESC mit elektronischer Quersperre,  , Tagfahrlicht,  , Reifendruck-Kontrollanzeige,  , Kopfairbag-System mit Seiten-Airbags vorn,  , Sicherheitslenksäule, Assistenzsysteme:,  , Berganfahrassistent, Komfort:,  , Scheinwerferreinigung,  , Xenon plus inklusive Scheinwerfer-Reinigungsanlage,  , Scheinwerfer-Reinigungsanlage,  , Einparkhilfe hinten,  , Licht-/Regensensor,  , Funkfernbedienung,  , Elektrische Luftzusatzheizung, Interieur:...</td>\n",
       "      <td>[\\nLangstreckenfahrzeug daher die hohe Kilometerleistung. , Bremsen neu bei 62000 km. , Gut gepflegter A1\\n]</td>\n",
       "      <td>[\\n, Fahrzeug-Nummer: AM-95365,  , Ehem. UPE 24.640 EUR,  , Komfort,  , Klimaanlage,  , Elektrische Fensterheber,  , Sitzheizung,  , Tempomat,  , Zentralverriegelung,  , Leder-Lenkrad,  , Elektrische Spiegel,  , Wärmedämmendes Glas,  , Anfahrassistent,  , Sicherheit,  , Window/Kopfairbags,  , ESP (el. Stabilitäts Programm),  , Elektronische Wegfahrsperre,  , Reifendruckkontrolle,  , Tagfahrlicht,  , Exterieur,  , Alufelgen 16 Zoll,  , Einparkhilfe vo + hi,  , Interieur,  , Stoff Zeitgeist,  ...</td>\n",
       "      <td>[\\nAudi A1: , - 1e eigenaar , - Perfecte staat: schade/ongevalvrij , - Onderhoudsboekje Audi garage , - Full option!, - S-line opties, - Automaat, lederen bekleding, navi-pro, Xenon lampen, zetelverwarming, automatische airco,...\\n]</td>\n",
       "      <td>[\\n, Technik &amp; Sicherheit:, Xenon plus, Klimaautomatik, Einparkhilfe hinten, Scheinwerferreinigungsanlage, Nebelscheinwerfer, Zentralverriegelung mit Fernbedienung, Außenspiegel elek. einstellbar, Fensterheber elek, Start/Stop Anlage, 6 Airbag inkl. Kopfairbag, Euro 6, Multimedia:, Radio CD Concert, audi music interface, Handyvorbereitung (Bluetooth), Sprachsteuerung, USB Anschluss, Assistenzsysteme:, Lichtsensor, Regensensor, Berganfahrassistent, Reifendruckkontrolle, ESP inkl. ABS, Interie...</td>\n",
       "    </tr>\n",
       "    <tr>\n",
       "      <th>Emission Label</th>\n",
       "      <td>NaN</td>\n",
       "      <td>[\\n4 (Green)\\n]</td>\n",
       "      <td>[\\n4 (Green)\\n]</td>\n",
       "      <td>NaN</td>\n",
       "      <td>NaN</td>\n",
       "    </tr>\n",
       "    <tr>\n",
       "      <th>Gears</th>\n",
       "      <td>NaN</td>\n",
       "      <td>[\\n7\\n]</td>\n",
       "      <td>NaN</td>\n",
       "      <td>[\\n6\\n]</td>\n",
       "      <td>NaN</td>\n",
       "    </tr>\n",
       "    <tr>\n",
       "      <th>Country version</th>\n",
       "      <td>NaN</td>\n",
       "      <td>NaN</td>\n",
       "      <td>NaN</td>\n",
       "      <td>NaN</td>\n",
       "      <td>[\\nGermany\\n]</td>\n",
       "    </tr>\n",
       "  </tbody>\n",
       "</table>\n",
       "</div>"
      ],
      "text/plain": [
       "                                                                                                                                                                                                                                                                                                                                                                                                                                                                                                                                             0                                                                                                                                                                                                                                                                                                     1                                                                                                                                                                                                                                                                                                                                                                                                                                                                                                                    2                                                                                                                                                                                                                                                                                            3  \\\n",
       "url                                                                                                                                                                                                                                                                                                                                                                                                  https://www.autoscout24.com//offers/audi-a1-sportback-1-4-tdi-s-tronic-xenon-navi-klima-diesel-black-bdab349a-caa5-41b0-98eb-c1345b84445e                                                                                                                                                                                          https://www.autoscout24.com//offers/audi-a1-1-8-tfsi-sport-gasoline-red-b2547f8a-e83f-6237-e053-e250040a56df                                                                                                                                                                                                                                                                                                                                                                     https://www.autoscout24.com//offers/audi-a1-sportback-1-6-tdi-s-tronic-einparkhilfe-plus-music-diesel-black-6183cb6a-8570-4b86-a132-9b54214bca88                                                                                                                                                                        https://www.autoscout24.com//offers/audi-a1-1-4-tdi-design-s-tronic-diesel-brown-35c86585-2727-d61e-e053-e250040ad640   \n",
       "make_model                                                                                                                                                                                                                                                                                                                                                                                                                                                                                                                             Audi A1                                                                                                                                                                                                                                                                                               Audi A1                                                                                                                                                                                                                                                                                                                                                                                                                                                                                                              Audi A1                                                                                                                                                                                                                                                                                      Audi A1   \n",
       "short_description                                                                                                                                                                                                                                                                                                                                                                                                                                                                                  Sportback 1.4 TDI S-tronic Xenon Navi Klima                                                                                                                                                                                                                                                                                        1.8 TFSI sport                                                                                                                                                                                                                                                                                                                                                                                                                                                                   Sportback 1.6 TDI S tronic Einparkhilfe plus+music                                                                                                                                                                                                                                                                      1.4 TDi Design S tronic   \n",
       "body_type                                                                                                                                                                                                                                                                                                                                                                                                                                                                                                                               Sedans                                                                                                                                                                                                                                                                                                Sedans                                                                                                                                                                                                                                                                                                                                                                                                                                                                                                               Sedans                                                                                                                                                                                                                                                                                       Sedans   \n",
       "price                                                                                                                                                                                                                                                                                                                                                                                                                                                                                                                                    15770                                                                                                                                                                                                                                                                                                 14500                                                                                                                                                                                                                                                                                                                                                                                                                                                                                                                14640                                                                                                                                                                                                                                                                                        14500   \n",
       "vat                                                                                                                                                                                                                                                                                                                                                                                                                                                                                                                             VAT deductible                                                                                                                                                                                                                                                                                      Price negotiable                                                                                                                                                                                                                                                                                                                                                                                                                                                                                                       VAT deductible                                                                                                                                                                                                                                                                                         None   \n",
       "km                                                                                                                                                                                                                                                                                                                                                                                                                                                                                                                                   56,013 km                                                                                                                                                                                                                                                                                             80,000 km                                                                                                                                                                                                                                                                                                                                                                                                                                                                                                            83,450 km                                                                                                                                                                                                                                                                                    73,000 km   \n",
       "registration                                                                                                                                                                                                                                                                                                                                                                                                                                                                                                                           01/2016                                                                                                                                                                                                                                                                                               03/2017                                                                                                                                                                                                                                                                                                                                                                                                                                                                                                              02/2016                                                                                                                                                                                                                                                                                      08/2016   \n",
       "prev_owner                                                                                                                                                                                                                                                                                                                                                                                                                                                                                                                   2 previous owners                                                                                                                                                                                                                                                                                                  None                                                                                                                                                                                                                                                                                                                                                                                                                                                                                                     1 previous owner                                                                                                                                                                                                                                                                             1 previous owner   \n",
       "hp                                                                                                                                                                                                                                                                                                                                                                                                                                                                                                                                       66 kW                                                                                                                                                                                                                                                                                                141 kW                                                                                                                                                                                                                                                                                                                                                                                                                                                                                                                85 kW                                                                                                                                                                                                                                                                                        66 kW   \n",
       "Type                                                                                                                                                                                                                                                                                                                                                                                                                                                                                                   [, Used, , Diesel (Particulate Filter)]                                                                                                                                                                                                                                                                                  [, Used, , Gasoline]                                                                                                                                                                                                                                                                                                                                                                                                                                                                              [, Used, , Diesel (Particulate Filter)]                                                                                                                                                                                                                                                      [, Used, , Diesel (Particulate Filter)]   \n",
       "Previous Owners                                                                                                                                                                                                                                                                                                                                                                                                                                                                                                                          \\n2\\n                                                                                                                                                                                                                                                                                                   NaN                                                                                                                                                                                                                                                                                                                                                                                                                                                                                                                \\n1\\n                                                                                                                                                                                                                                                                                        \\n1\\n   \n",
       "Next Inspection                                                                                                                                                                                                                                                                                                                                                                                                                                                                                          [\\n06/2021\\n, \\n99 g CO2/km (comb)\\n]                                                                                                                                                                                                                                                                                                   NaN                                                                                                                                                                                                                                                                                                                                                                                                                                                                                                                  NaN                                                                                                                                                                                                                                                                                          NaN   \n",
       "Inspection new                                                                                                                                                                                                                                                                                                                                                                                                                                                                                                           [\\nYes\\n, \\nEuro 6\\n]                                                                                                                                                                                                                                                                                                   NaN                                                                                                                                                                                                                                                                                                                                                                                                                                                                                                                  NaN                                                                                                                                                                                                                                                                                          NaN   \n",
       "Warranty                                                                                                                                                                                                                                                                                                                                                                                                                                                                                                               [\\n, \\n, \\n4 (Green)\\n]                                                                                                                                                                                                                                                                                                   NaN                                                                                                                                                                                                                                                                                                                                                                                                                                                                                     [\\n, \\n, \\n99 g CO2/km (comb)\\n]                                                                                                                                                                                                                                                                                          NaN   \n",
       "Full Service                                                                                                                                                                                                                                                                                                                                                                                                                                                                                                                          [\\n, \\n]                                                                                                                                                                                                                                                                                                   NaN                                                                                                                                                                                                                                                                                                                                                                                                                                                                                                                  NaN                                                                                                                                                                                                                                                             [\\n, \\n, \\n99 g CO2/km (comb)\\n]   \n",
       "Non-smoking Vehicle                                                                                                                                                                                                                                                                                                                                                                                                                                                                                                                   [\\n, \\n]                                                                                                                                                                                                                                                                                                   NaN                                                                                                                                                                                                                                                                                                                                                                                                                                                                                                                  NaN                                                                                                                                                                                                                                                                         [\\n, \\n, \\nEuro 6\\n]   \n",
       "null                                                                                                                                                                                                                                                                                                                                                                                                                                                                                                                                        []                                                                                                                                                                                                                                                                                                    []                                                                                                                                                                                                                                                                                                                                                                                                                                                                                                                   []                                                                                                                                                                                                                                                                                           []   \n",
       "Make                                                                                                                                                                                                                                                                                                                                                                                                                                                                                                                                  \\nAudi\\n                                                                                                                                                                                                                                                                                              \\nAudi\\n                                                                                                                                                                                                                                                                                                                                                                                                                                                                                                             \\nAudi\\n                                                                                                                                                                                                                                                                                     \\nAudi\\n   \n",
       "Model                                                                                                                                                                                                                                                                                                                                                                                                                                                                                                                             [\\n, A1, \\n]                                                                                                                                                                                                                                                                                          [\\n, A1, \\n]                                                                                                                                                                                                                                                                                                                                                                                                                                                                                                         [\\n, A1, \\n]                                                                                                                                                                                                                                                                                 [\\n, A1, \\n]   \n",
       "Offer Number                                                                                                                                                                                                                                                                                                                                                                                                                                                                                                                   [\\nLR-062483\\n]                                                                                                                                                                                                                                                                                                   NaN                                                                                                                                                                                                                                                                                                                                                                                                                                                                                                       [\\nAM-95365\\n]                                                                                                                                                                                                                                                                                          NaN   \n",
       "First Registration                                                                                                                                                                                                                                                                                                                                                                                                                                                                                                              [\\n, 2016, \\n]                                                                                                                                                                                                                                                                                        [\\n, 2017, \\n]                                                                                                                                                                                                                                                                                                                                                                                                                                                                                                       [\\n, 2016, \\n]                                                                                                                                                                                                                                                                               [\\n, 2016, \\n]   \n",
       "Body Color                                                                                                                                                                                                                                                                                                                                                                                                                                                                                                                     [\\n, Black, \\n]                                                                                                                                                                                                                                                                                         [\\n, Red, \\n]                                                                                                                                                                                                                                                                                                                                                                                                                                                                                                      [\\n, Black, \\n]                                                                                                                                                                                                                                                                              [\\n, Brown, \\n]   \n",
       "Paint Type                                                                                                                                                                                                                                                                                                                                                                                                                                                                                                                      [\\nMetallic\\n]                                                                                                                                                                                                                                                                                                   NaN                                                                                                                                                                                                                                                                                                                                                                                                                                                                                                       [\\nMetallic\\n]                                                                                                                                                                                                                                                                               [\\nMetallic\\n]   \n",
       "Body Color Original                                                                                                                                                                                                                                                                                                                                                                                                                                                                                                        [\\nMythosschwarz\\n]                                                                                                                                                                                                                                                                                                   NaN                                                                                                                                                                                                                                                                                                                                                                                                                                                                                         [\\nmythosschwarz metallic\\n]                                                                                                                                                                                                                                                                                          NaN   \n",
       "Upholstery                                                                                                                                                                                                                                                                                                                                                                                                                                                                                                                  [\\nCloth, Black\\n]                                                                                                                                                                                                                                                                                     [\\nCloth, Grey\\n]                                                                                                                                                                                                                                                                                                                                                                                                                                                                                                   [\\nCloth, Black\\n]                                                                                                                                                                                                                                                                                          NaN   \n",
       "Body                                                                                                                                                                                                                                                                                                                                                                                                                                                                                                                          [\\n, Sedans, \\n]                                                                                                                                                                                                                                                                                      [\\n, Sedans, \\n]                                                                                                                                                                                                                                                                                                                                                                                                                                                                                                     [\\n, Sedans, \\n]                                                                                                                                                                                                                                                                             [\\n, Sedans, \\n]   \n",
       "Nr. of Doors                                                                                                                                                                                                                                                                                                                                                                                                                                                                                                                           [\\n5\\n]                                                                                                                                                                                                                                                                                               [\\n3\\n]                                                                                                                                                                                                                                                                                                                                                                                                                                                                                                              [\\n4\\n]                                                                                                                                                                                                                                                                                      [\\n3\\n]   \n",
       "Nr. of Seats                                                                                                                                                                                                                                                                                                                                                                                                                                                                                                                           [\\n5\\n]                                                                                                                                                                                                                                                                                               [\\n4\\n]                                                                                                                                                                                                                                                                                                                                                                                                                                                                                                              [\\n4\\n]                                                                                                                                                                                                                                                                                      [\\n4\\n]   \n",
       "Model Code                                                                                                                                                                                                                                                                                                                                                                                                                                                                                                                      [\\n0588/BDF\\n]                                                                                                                                                                                                                                                                                        [\\n0588/BCY\\n]                                                                                                                                                                                                                                                                                                                                                                                                                                                                                                                  NaN                                                                                                                                                                                                                                                                                          NaN   \n",
       "Gearing Type                                                                                                                                                                                                                                                                                                                                                                                                                                                                                                               [\\n, Automatic, \\n]                                                                                                                                                                                                                                                                                   [\\n, Automatic, \\n]                                                                                                                                                                                                                                                                                                                                                                                                                                                                                                  [\\n, Automatic, \\n]                                                                                                                                                                                                                                                                          [\\n, Automatic, \\n]   \n",
       "Displacement                                                                                                                                                                                                                                                                                                                                                                                                                                                                                                                    [\\n1,422 cc\\n]                                                                                                                                                                                                                                                                                        [\\n1,798 cc\\n]                                                                                                                                                                                                                                                                                                                                                                                                                                                                                                       [\\n1,598 cc\\n]                                                                                                                                                                                                                                                                               [\\n1,422 cc\\n]   \n",
       "Cylinders                                                                                                                                                                                                                                                                                                                                                                                                                                                                                                                              [\\n3\\n]                                                                                                                                                                                                                                                                                               [\\n4\\n]                                                                                                                                                                                                                                                                                                                                                                                                                                                                                                                  NaN                                                                                                                                                                                                                                                                                      [\\n3\\n]   \n",
       "Weight                                                                                                                                                                                                                                                                                                                                                                                                                                                                                                                          [\\n1,220 kg\\n]                                                                                                                                                                                                                                                                                        [\\n1,255 kg\\n]                                                                                                                                                                                                                                                                                                                                                                                                                                                                                                                  NaN                                                                                                                                                                                                                                                                               [\\n1,195 kg\\n]   \n",
       "Drive chain                                                                                                                                                                                                                                                                                                                                                                                                                                                                                                                        [\\nfront\\n]                                                                                                                                                                                                                                                                                           [\\nfront\\n]                                                                                                                                                                                                                                                                                                                                                                                                                                                                                                          [\\nfront\\n]                                                                                                                                                                                                                                                                                          NaN   \n",
       "Fuel                                                                                                                                                                                                                                                                                                                                                                                                                                                                                                     [\\n, Diesel (Particulate Filter), \\n]                                                                                                                                                                                                                                                                                    [\\n, Gasoline, \\n]                                                                                                                                                                                                                                                                                                                                                                                                                                                                                [\\n, Diesel (Particulate Filter), \\n]                                                                                                                                                                                                                                                        [\\n, Diesel (Particulate Filter), \\n]   \n",
       "Consumption                                                                                                                                                                                                                                                                                                                                                                                                                                                           [[3.8 l/100 km (comb)], [4.3 l/100 km (city)], [3.5 l/100 km (country)]]                                                                                                                                                                                                                              [[5.6 l/100 km (comb)], [7.1 l/100 km (city)], [4.7 l/100 km (country)]]                                                                                                                                                                                                                                                                                                                                                                                                                                             [[3.8 l/100 km (comb)], [4.4 l/100 km (city)], [3.4 l/100 km (country)]]                                                                                                                                                                                                                     [[3.8 l/100 km (comb)], [4.3 l/100 km (city)], [3.5 l/100 km (country)]]   \n",
       "CO2 Emission                                                                                                                                                                                                                                                                                                                                                                                                                                                                                                          [\\n99 g CO2/km (comb)\\n]                                                                                                                                                                                                                                                                             [\\n129 g CO2/km (comb)\\n]                                                                                                                                                                                                                                                                                                                                                                                                                                                                                             [\\n99 g CO2/km (comb)\\n]                                                                                                                                                                                                                                                                     [\\n99 g CO2/km (comb)\\n]   \n",
       "Emission Class                                                                                                                                                                                                                                                                                                                                                                                                                                                                                                                    [\\nEuro 6\\n]                                                                                                                                                                                                                                                                                          [\\nEuro 6\\n]                                                                                                                                                                                                                                                                                                                                                                                                                                                                                                         [\\nEuro 6\\n]                                                                                                                                                                                                                                                                                 [\\nEuro 6\\n]   \n",
       "\\nComfort & Convenience\\n                                                                                                                                                                                         [Air conditioning, Armrest, Automatic climate control, Cruise control, Electrical side mirrors, Hill Holder, Leather steering wheel, Light sensor, Multi-function steering wheel, Navigation system, Park Distance Control, Parking assist system sensors rear, Power windows, Rain sensor, Seat heating, Start-stop system]                                                                                                              [Air conditioning, Automatic climate control, Hill Holder, Leather steering wheel, Lumbar support, Parking assist system sensors rear, Power windows, Start-stop system, Tinted windows]                                                                                                                                                                                                                   [Air conditioning, Cruise control, Electrical side mirrors, Hill Holder, Leather steering wheel, Multi-function steering wheel, Navigation system, Park Distance Control, Parking assist system sensors front, Parking assist system sensors rear, Power windows, Seat heating, Start-stop system]  [Air suspension, Armrest, Auxiliary heating, Electrical side mirrors, Heads-up display, Hill Holder, Leather steering wheel, Light sensor, Lumbar support, Multi-function steering wheel, Navigation system, Power windows, Rain sensor, Seat heating, Split rear seats, Start-stop system]   \n",
       "\\nEntertainment & Media\\n                                                                                                                                                                                                                                                                                                                                                                                                                                                          [Bluetooth, Hands-free equipment, On-board computer, Radio]                                                                                                                                                                                                                             [Bluetooth, Hands-free equipment, On-board computer, Radio, Sound system]                                                                                                                                                                                                                                                                                                                                                                                                                                                                                             [MP3, On-board computer]                                                                                                                                                                                               [Bluetooth, CD player, Hands-free equipment, MP3, On-board computer, Radio, Sound system, USB]   \n",
       "\\nExtras\\n                                                                                                                                                                                                                                                                                                                                                                                                                                                                                  [Alloy wheels, Catalytic Converter, Voice Control]                                                                                                                                                                                                                                          [Alloy wheels, Sport seats, Sport suspension, Voice Control]                                                                                                                                                                                                                                                                                                                                                                                                                                                                                        [Alloy wheels, Voice Control]                                                                                                                                                                                                                                                   [Alloy wheels, Sport seats, Voice Control]   \n",
       "\\nSafety & Security\\n                                                                                                                                                                                                                                                             [ABS, Central door lock, Daytime running lights, Driver-side airbag, Electronic stability control, Fog lights, Immobilizer, Isofix, Passenger-side airbag, Power steering, Side airbag, Tire pressure monitoring system, Traction control, Xenon headlights]  [ABS, Central door lock, Central door lock with remote control, Daytime running lights, Driver-side airbag, Electronic stability control, Head airbag, Immobilizer, Isofix, Passenger-side airbag, Power steering, Side airbag, Tire pressure monitoring system, Traction control, Xenon headlights]                                                                                                                                                                                                                                                                                       [ABS, Central door lock, Daytime running lights, Driver-side airbag, Electronic stability control, Immobilizer, Isofix, Passenger-side airbag, Power steering, Side airbag, Tire pressure monitoring system, Traction control]           [ABS, Alarm system, Central door lock with remote control, Driver drowsiness detection, Driver-side airbag, Electronic stability control, Emergency system, Head airbag, Immobilizer, Isofix, Passenger-side airbag, Power steering, Side airbag, Tire pressure monitoring system]   \n",
       "description                [\\n, Sicherheit:,  , Deaktivierung für Beifahrer-Airbag,  , ESC mit elektronischer Quersperre,  , Tagfahrlicht,  , Reifendruck-Kontrollanzeige,  , Kopfairbag-System mit Seiten-Airbags vorn,  , Sicherheitslenksäule, Assistenzsysteme:,  , Berganfahrassistent, Komfort:,  , Scheinwerferreinigung,  , Xenon plus inklusive Scheinwerfer-Reinigungsanlage,  , Scheinwerfer-Reinigungsanlage,  , Einparkhilfe hinten,  , Licht-/Regensensor,  , Funkfernbedienung,  , Elektrische Luftzusatzheizung, Interieur:...                                                                                                                                                                                          [\\nLangstreckenfahrzeug daher die hohe Kilometerleistung. , Bremsen neu bei 62000 km. , Gut gepflegter A1\\n]  [\\n, Fahrzeug-Nummer: AM-95365,  , Ehem. UPE 24.640 EUR,  , Komfort,  , Klimaanlage,  , Elektrische Fensterheber,  , Sitzheizung,  , Tempomat,  , Zentralverriegelung,  , Leder-Lenkrad,  , Elektrische Spiegel,  , Wärmedämmendes Glas,  , Anfahrassistent,  , Sicherheit,  , Window/Kopfairbags,  , ESP (el. Stabilitäts Programm),  , Elektronische Wegfahrsperre,  , Reifendruckkontrolle,  , Tagfahrlicht,  , Exterieur,  , Alufelgen 16 Zoll,  , Einparkhilfe vo + hi,  , Interieur,  , Stoff Zeitgeist,  ...                                                     [\\nAudi A1: , - 1e eigenaar , - Perfecte staat: schade/ongevalvrij , - Onderhoudsboekje Audi garage , - Full option!, - S-line opties, - Automaat, lederen bekleding, navi-pro, Xenon lampen, zetelverwarming, automatische airco,...\\n]   \n",
       "Emission Label                                                                                                                                                                                                                                                                                                                                                                                                                                                                                                                             NaN                                                                                                                                                                                                                                                                                       [\\n4 (Green)\\n]                                                                                                                                                                                                                                                                                                                                                                                                                                                                                                      [\\n4 (Green)\\n]                                                                                                                                                                                                                                                                                          NaN   \n",
       "Gears                                                                                                                                                                                                                                                                                                                                                                                                                                                                                                                                      NaN                                                                                                                                                                                                                                                                                               [\\n7\\n]                                                                                                                                                                                                                                                                                                                                                                                                                                                                                                                  NaN                                                                                                                                                                                                                                                                                      [\\n6\\n]   \n",
       "Country version                                                                                                                                                                                                                                                                                                                                                                                                                                                                                                                            NaN                                                                                                                                                                                                                                                                                                   NaN                                                                                                                                                                                                                                                                                                                                                                                                                                                                                                                  NaN                                                                                                                                                                                                                                                                                          NaN   \n",
       "\n",
       "                                                                                                                                                                                                                                                                                                                                                                                                                                                                                                                                             4  \n",
       "url                                                                                                                                                                                                                                                                                                                                                                                             https://www.autoscout24.com//offers/audi-a1-sportback-1-4-tdi-s-tronic-s-line-ext-admired-xe-diesel-black-b86b55d8-9c7c-4a58-b658-b97008a51efc  \n",
       "make_model                                                                                                                                                                                                                                                                                                                                                                                                                                                                                                                             Audi A1  \n",
       "short_description                                                                                                                                                                                                                                                                                                                                                                                                                                                                           Sportback 1.4 TDI S-Tronic S-Line Ext. admired, Xe  \n",
       "body_type                                                                                                                                                                                                                                                                                                                                                                                                                                                                                                                               Sedans  \n",
       "price                                                                                                                                                                                                                                                                                                                                                                                                                                                                                                                                    16790  \n",
       "vat                                                                                                                                                                                                                                                                                                                                                                                                                                                                                                                                       None  \n",
       "km                                                                                                                                                                                                                                                                                                                                                                                                                                                                                                                                   16,200 km  \n",
       "registration                                                                                                                                                                                                                                                                                                                                                                                                                                                                                                                           05/2016  \n",
       "prev_owner                                                                                                                                                                                                                                                                                                                                                                                                                                                                                                                    1 previous owner  \n",
       "hp                                                                                                                                                                                                                                                                                                                                                                                                                                                                                                                                       66 kW  \n",
       "Type                                                                                                                                                                                                                                                                                                                                                                                                                                                                                                   [, Used, , Diesel (Particulate Filter)]  \n",
       "Previous Owners                                                                                                                                                                                                                                                                                                                                                                                                                                                                                                                          \\n1\\n  \n",
       "Next Inspection                                                                                                                                                                                                                                                                                                                                                                                                                                                                                                                            NaN  \n",
       "Inspection new                                                                                                                                                                                                                                                                                                                                                                                                                                                                                              [\\nYes\\n, \\n109 g CO2/km (comb)\\n]  \n",
       "Warranty                                                                                                                                                                                                                                                                                                                                                                                                                                                                                                                  [\\n, \\n, \\nEuro 6\\n]  \n",
       "Full Service                                                                                                                                                                                                                                                                                                                                                                                                                                                                                                           [\\n, \\n, \\n4 (Green)\\n]  \n",
       "Non-smoking Vehicle                                                                                                                                                                                                                                                                                                                                                                                                                                                                                                                   [\\n, \\n]  \n",
       "null                                                                                                                                                                                                                                                                                                                                                                                                                                                                                                                                        []  \n",
       "Make                                                                                                                                                                                                                                                                                                                                                                                                                                                                                                                                  \\nAudi\\n  \n",
       "Model                                                                                                                                                                                                                                                                                                                                                                                                                                                                                                                             [\\n, A1, \\n]  \n",
       "Offer Number                                                                                                                                                                                                                                                                                                                                                                                                                                                                                                                       [\\nC1626\\n]  \n",
       "First Registration                                                                                                                                                                                                                                                                                                                                                                                                                                                                                                              [\\n, 2016, \\n]  \n",
       "Body Color                                                                                                                                                                                                                                                                                                                                                                                                                                                                                                                     [\\n, Black, \\n]  \n",
       "Paint Type                                                                                                                                                                                                                                                                                                                                                                                                                                                                                                                      [\\nMetallic\\n]  \n",
       "Body Color Original                                                                                                                                                                                                                                                                                                                                                                                                                                                                                               [\\nMythosschwarz Metallic\\n]  \n",
       "Upholstery                                                                                                                                                                                                                                                                                                                                                                                                                                                                                                                  [\\nCloth, Black\\n]  \n",
       "Body                                                                                                                                                                                                                                                                                                                                                                                                                                                                                                                          [\\n, Sedans, \\n]  \n",
       "Nr. of Doors                                                                                                                                                                                                                                                                                                                                                                                                                                                                                                                           [\\n5\\n]  \n",
       "Nr. of Seats                                                                                                                                                                                                                                                                                                                                                                                                                                                                                                                           [\\n5\\n]  \n",
       "Model Code                                                                                                                                                                                                                                                                                                                                                                                                                                                                                                                      [\\n0588/BDF\\n]  \n",
       "Gearing Type                                                                                                                                                                                                                                                                                                                                                                                                                                                                                                               [\\n, Automatic, \\n]  \n",
       "Displacement                                                                                                                                                                                                                                                                                                                                                                                                                                                                                                                    [\\n1,422 cc\\n]  \n",
       "Cylinders                                                                                                                                                                                                                                                                                                                                                                                                                                                                                                                              [\\n3\\n]  \n",
       "Weight                                                                                                                                                                                                                                                                                                                                                                                                                                                                                                                                     NaN  \n",
       "Drive chain                                                                                                                                                                                                                                                                                                                                                                                                                                                                                                                        [\\nfront\\n]  \n",
       "Fuel                                                                                                                                                                                                                                                                                                                                                                                                                                                                                                     [\\n, Diesel (Particulate Filter), \\n]  \n",
       "Consumption                                                                                                                                                                                                                                                                                                                                                                                                                                                           [[4.1 l/100 km (comb)], [4.6 l/100 km (city)], [3.8 l/100 km (country)]]  \n",
       "CO2 Emission                                                                                                                                                                                                                                                                                                                                                                                                                                                                                                         [\\n109 g CO2/km (comb)\\n]  \n",
       "Emission Class                                                                                                                                                                                                                                                                                                                                                                                                                                                                                                                    [\\nEuro 6\\n]  \n",
       "\\nComfort & Convenience\\n                                                                                                                                                                                                                                          [Air conditioning, Armrest, Automatic climate control, Electrical side mirrors, Hill Holder, Leather steering wheel, Light sensor, Multi-function steering wheel, Park Distance Control, Parking assist system sensors rear, Power windows, Rain sensor, Start-stop system]  \n",
       "\\nEntertainment & Media\\n                                                                                                                                                                                                                                                                                                                                                                                                                                     [Bluetooth, CD player, Hands-free equipment, MP3, On-board computer, Radio, USB]  \n",
       "\\nExtras\\n                                                                                                                                                                                                                                                                                                                                                                                                                                                                      [Alloy wheels, Sport package, Sport suspension, Voice Control]  \n",
       "\\nSafety & Security\\n                                                                                                                                                                                                                                                                                     [ABS, Central door lock, Driver-side airbag, Electronic stability control, Fog lights, Immobilizer, Isofix, Passenger-side airbag, Power steering, Side airbag, Tire pressure monitoring system, Traction control, Xenon headlights]  \n",
       "description                [\\n, Technik & Sicherheit:, Xenon plus, Klimaautomatik, Einparkhilfe hinten, Scheinwerferreinigungsanlage, Nebelscheinwerfer, Zentralverriegelung mit Fernbedienung, Außenspiegel elek. einstellbar, Fensterheber elek, Start/Stop Anlage, 6 Airbag inkl. Kopfairbag, Euro 6, Multimedia:, Radio CD Concert, audi music interface, Handyvorbereitung (Bluetooth), Sprachsteuerung, USB Anschluss, Assistenzsysteme:, Lichtsensor, Regensensor, Berganfahrassistent, Reifendruckkontrolle, ESP inkl. ABS, Interie...  \n",
       "Emission Label                                                                                                                                                                                                                                                                                                                                                                                                                                                                                                                             NaN  \n",
       "Gears                                                                                                                                                                                                                                                                                                                                                                                                                                                                                                                                      NaN  \n",
       "Country version                                                                                                                                                                                                                                                                                                                                                                                                                                                                                                                  [\\nGermany\\n]  "
      ]
     },
     "execution_count": 11,
     "metadata": {},
     "output_type": "execute_result"
    }
   ],
   "source": [
    "df.head().T"
   ]
  },
  {
   "cell_type": "markdown",
   "metadata": {},
   "source": [
    "## url"
   ]
  },
  {
   "cell_type": "code",
   "execution_count": 10,
   "metadata": {
    "scrolled": true
   },
   "outputs": [
    {
     "data": {
      "text/plain": [
       "https://www.autoscout24.com//offers/audi-a1-sportback-1-4-tdi-s-tronic-xenon-navi-klima-diesel-black-bdab349a-caa5-41b0-98eb-c1345b84445e                  1\n",
       "https://www.autoscout24.com//offers/opel-insignia-bus-inno-2-0-cdti-aut-navi-bi-xe-led-e6-diesel-black-8710b253-dd98-4ed0-9d46-cbad2d79532b                1\n",
       "https://www.autoscout24.com//offers/opel-insignia-sport-tourer-opel-sport-tourer-1-6-cdti-136-ch-a-c-diesel-silver-10b7463b-9f56-4348-af35-df3432b2b585    1\n",
       "https://www.autoscout24.com//offers/opel-insignia-2-0cdti-st-business-innovation-navi-bt-diesel-black-ba5a3368-dedc-4e51-9127-3976b26e93c2                 1\n",
       "https://www.autoscout24.com//offers/opel-insignia-sport-tourer-opel-sport-tourer-1-6-cdti-136-ch-a-c-diesel-silver-7b52f054-78d3-4d5e-9370-8a7d081d7edd    1\n",
       "                                                                                                                                                          ..\n",
       "https://www.autoscout24.com//offers/audi-a3-sb-30-1-6-tdi-business-116cv-s-tronic-diesel-black-cf50f7b1-4d7b-466f-93a2-4e11ec0b4107                        1\n",
       "https://www.autoscout24.com//offers/audi-a3-sb-30-1-6-tdi-business-116cv-s-tronic-diesel-grey-3f47eb34-15c4-4763-860d-78fcbbd2c9ff                         1\n",
       "https://www.autoscout24.com//offers/audi-a3-sb-30-1-6-tdi-business-116cv-s-tronic-diesel-silver-f7a4bc95-b2ef-4bac-9497-6bcbcd05db0b                       1\n",
       "https://www.autoscout24.com//offers/audi-a3-sb-30-1-6-tdi-business-116cv-s-tronic-diesel-silver-1c94c7a2-67b5-49ca-ae42-42a6800fb3f5                       1\n",
       "https://www.autoscout24.com//offers/renault-espace-initiale-paris-tce-225-edc-gpf-navi-shz-aux-gasoline-grey-0bd690d9-7e93-4cab-bc5a-9d5b63402481          1\n",
       "Name: url, Length: 15919, dtype: int64"
      ]
     },
     "execution_count": 10,
     "metadata": {},
     "output_type": "execute_result"
    }
   ],
   "source": [
    "df.url.value_counts(dropna=False)"
   ]
  },
  {
   "cell_type": "code",
   "execution_count": 11,
   "metadata": {},
   "outputs": [],
   "source": [
    "df.drop(columns=\"url\", inplace=True)"
   ]
  },
  {
   "cell_type": "code",
   "execution_count": 12,
   "metadata": {
    "scrolled": true
   },
   "outputs": [
    {
     "data": {
      "text/plain": [
       "Index(['make_model', 'short_description', 'body_type', 'price', 'vat', 'km', 'registration', 'prev_owner', 'hp', 'Type', 'Previous Owners', 'Next Inspection', 'Inspection new', 'Warranty', 'Full Service', 'Non-smoking Vehicle', 'null', 'Make', 'Model', 'Offer Number', 'First Registration', 'Body Color', 'Paint Type', 'Body Color Original', 'Upholstery', 'Body', 'Nr. of Doors', 'Nr. of Seats', 'Model Code', 'Gearing Type', 'Displacement', 'Cylinders', 'Weight', 'Drive chain', 'Fuel', 'Consumption', 'CO2 Emission', 'Emission Class', '\\nComfort & Convenience\\n', '\\nEntertainment & Media\\n', '\\nExtras\\n', '\\nSafety & Security\\n', 'description', 'Emission Label', 'Gears', 'Country version'], dtype='object')"
      ]
     },
     "execution_count": 12,
     "metadata": {},
     "output_type": "execute_result"
    }
   ],
   "source": [
    "df.columns"
   ]
  },
  {
   "cell_type": "markdown",
   "metadata": {},
   "source": [
    "## make_model & Make & Model"
   ]
  },
  {
   "cell_type": "code",
   "execution_count": 13,
   "metadata": {},
   "outputs": [
    {
     "data": {
      "text/plain": [
       "Audi A3           3097\n",
       "Audi A1           2614\n",
       "Opel Insignia     2598\n",
       "Opel Astra        2526\n",
       "Opel Corsa        2219\n",
       "Renault Clio      1839\n",
       "Renault Espace     991\n",
       "Renault Duster      34\n",
       "Audi A2              1\n",
       "Name: make_model, dtype: int64"
      ]
     },
     "execution_count": 13,
     "metadata": {},
     "output_type": "execute_result"
    }
   ],
   "source": [
    "df.make_model.value_counts(dropna=False)"
   ]
  },
  {
   "cell_type": "code",
   "execution_count": 14,
   "metadata": {},
   "outputs": [
    {
     "data": {
      "text/plain": [
       "\\nOpel\\n       7343\n",
       "\\nAudi\\n       5712\n",
       "\\nRenault\\n    2864\n",
       "Name: Make, dtype: int64"
      ]
     },
     "execution_count": 14,
     "metadata": {},
     "output_type": "execute_result"
    }
   ],
   "source": [
    "df.Make.value_counts(dropna=False)"
   ]
  },
  {
   "cell_type": "code",
   "execution_count": 15,
   "metadata": {},
   "outputs": [
    {
     "data": {
      "text/plain": [
       "Opel       7343\n",
       "Audi       5712\n",
       "Renault    2864\n",
       "Name: Make, dtype: int64"
      ]
     },
     "execution_count": 15,
     "metadata": {},
     "output_type": "execute_result"
    }
   ],
   "source": [
    "df.Make.str.strip().value_counts(dropna=False)"
   ]
  },
  {
   "cell_type": "code",
   "execution_count": 16,
   "metadata": {},
   "outputs": [],
   "source": [
    "df[\"make\"] = df[\"Make\"].str.strip()"
   ]
  },
  {
   "cell_type": "code",
   "execution_count": 17,
   "metadata": {},
   "outputs": [],
   "source": [
    "df.drop(columns=\"Make\", inplace=True)"
   ]
  },
  {
   "cell_type": "code",
   "execution_count": 18,
   "metadata": {},
   "outputs": [
    {
     "ename": "TypeError",
     "evalue": "unhashable type: 'list'",
     "output_type": "error",
     "traceback": [
      "\u001b[0;31m---------------------------------------------------------------------------\u001b[0m",
      "\u001b[0;31mTypeError\u001b[0m                                 Traceback (most recent call last)",
      "\u001b[0;32mpandas/_libs/hashtable_class_helper.pxi\u001b[0m in \u001b[0;36mpandas._libs.hashtable.PyObjectHashTable.map_locations\u001b[0;34m()\u001b[0m\n",
      "\u001b[0;31mTypeError\u001b[0m: unhashable type: 'list'"
     ]
    },
    {
     "name": "stderr",
     "output_type": "stream",
     "text": [
      "Exception ignored in: 'pandas._libs.index.IndexEngine._call_map_locations'\n",
      "Traceback (most recent call last):\n",
      "  File \"pandas/_libs/hashtable_class_helper.pxi\", line 5231, in pandas._libs.hashtable.PyObjectHashTable.map_locations\n",
      "TypeError: unhashable type: 'list'\n"
     ]
    },
    {
     "data": {
      "text/plain": [
       "[\\n, A3, \\n]          3097\n",
       "[\\n, A1, \\n]          2614\n",
       "[\\n, Insignia, \\n]    2598\n",
       "[\\n, Astra, \\n]       2526\n",
       "[\\n, Corsa, \\n]       2219\n",
       "[\\n, Clio, \\n]        1839\n",
       "[\\n, Espace, \\n]       991\n",
       "[\\n, Duster, \\n]        34\n",
       "[\\n, A2, \\n]             1\n",
       "Name: Model, dtype: int64"
      ]
     },
     "execution_count": 18,
     "metadata": {},
     "output_type": "execute_result"
    }
   ],
   "source": [
    "df.Model.value_counts(dropna=False)"
   ]
  },
  {
   "cell_type": "code",
   "execution_count": 19,
   "metadata": {},
   "outputs": [
    {
     "data": {
      "text/plain": [
       "A3          3097\n",
       "A1          2614\n",
       "Insignia    2598\n",
       "Astra       2526\n",
       "Corsa       2219\n",
       "Clio        1839\n",
       "Espace       991\n",
       "Duster        34\n",
       "A2             1\n",
       "Name: Model, dtype: int64"
      ]
     },
     "execution_count": 19,
     "metadata": {},
     "output_type": "execute_result"
    }
   ],
   "source": [
    "df.Model.str[1].value_counts(dropna=False)"
   ]
  },
  {
   "cell_type": "code",
   "execution_count": 20,
   "metadata": {},
   "outputs": [],
   "source": [
    "df.model = df.Model.str[1]"
   ]
  },
  {
   "cell_type": "code",
   "execution_count": 21,
   "metadata": {},
   "outputs": [],
   "source": [
    "df.drop(columns=\"Model\", inplace=True)"
   ]
  },
  {
   "cell_type": "markdown",
   "metadata": {},
   "source": [
    "## body_type"
   ]
  },
  {
   "cell_type": "code",
   "execution_count": 22,
   "metadata": {},
   "outputs": [
    {
     "data": {
      "text/plain": [
       "Sedans           7903\n",
       "Station wagon    3553\n",
       "Compact          3153\n",
       "Van               783\n",
       "Other             290\n",
       "Transporter        88\n",
       "NaN                60\n",
       "Off-Road           56\n",
       "Coupe              25\n",
       "Convertible         8\n",
       "Name: body_type, dtype: int64"
      ]
     },
     "execution_count": 22,
     "metadata": {},
     "output_type": "execute_result"
    }
   ],
   "source": [
    "df.body_type.value_counts(dropna=False)"
   ]
  },
  {
   "cell_type": "markdown",
   "metadata": {},
   "source": [
    "## price"
   ]
  },
  {
   "cell_type": "code",
   "execution_count": 23,
   "metadata": {},
   "outputs": [
    {
     "data": {
      "text/plain": [
       "14990    154\n",
       "15990    151\n",
       "10990    139\n",
       "15900    106\n",
       "17990    102\n",
       "        ... \n",
       "17559      1\n",
       "17560      1\n",
       "17570      1\n",
       "17575      1\n",
       "39875      1\n",
       "Name: price, Length: 2956, dtype: int64"
      ]
     },
     "execution_count": 23,
     "metadata": {},
     "output_type": "execute_result"
    }
   ],
   "source": [
    "df.price.value_counts(dropna=False)"
   ]
  },
  {
   "cell_type": "markdown",
   "metadata": {},
   "source": [
    "## vat"
   ]
  },
  {
   "cell_type": "code",
   "execution_count": 24,
   "metadata": {},
   "outputs": [
    {
     "data": {
      "text/plain": [
       "VAT deductible      10980\n",
       "NaN                  4513\n",
       "Price negotiable      426\n",
       "Name: vat, dtype: int64"
      ]
     },
     "execution_count": 24,
     "metadata": {},
     "output_type": "execute_result"
    }
   ],
   "source": [
    "df.vat.value_counts(dropna=False)"
   ]
  },
  {
   "cell_type": "markdown",
   "metadata": {},
   "source": [
    "## km"
   ]
  },
  {
   "cell_type": "code",
   "execution_count": 25,
   "metadata": {},
   "outputs": [
    {
     "data": {
      "text/plain": [
       "10 km        1045\n",
       "- km         1024\n",
       "1 km          367\n",
       "5 km          170\n",
       "50 km         148\n",
       "             ... \n",
       "67,469 km       1\n",
       "43,197 km       1\n",
       "10,027 km       1\n",
       "35,882 km       1\n",
       "57 km           1\n",
       "Name: km, Length: 6690, dtype: int64"
      ]
     },
     "execution_count": 25,
     "metadata": {},
     "output_type": "execute_result"
    }
   ],
   "source": [
    "df.km.value_counts(dropna=False)"
   ]
  },
  {
   "cell_type": "code",
   "execution_count": 26,
   "metadata": {},
   "outputs": [
    {
     "data": {
      "text/plain": [
       "10       1045\n",
       "NaN      1024\n",
       "1         367\n",
       "5         170\n",
       "50        148\n",
       "         ... \n",
       "67469       1\n",
       "43197       1\n",
       "10027       1\n",
       "35882       1\n",
       "57          1\n",
       "Name: km, Length: 6690, dtype: int64"
      ]
     },
     "execution_count": 26,
     "metadata": {},
     "output_type": "execute_result"
    }
   ],
   "source": [
    "df.km.str.split().str[0].str.replace(\",\", \"\").replace(\"-\", np.NaN).value_counts(dropna=False, ascending=False)"
   ]
  },
  {
   "cell_type": "code",
   "execution_count": 27,
   "metadata": {},
   "outputs": [
    {
     "data": {
      "text/plain": [
       "10       1045\n",
       "NaN      1024\n",
       "1         367\n",
       "5         170\n",
       "50        148\n",
       "         ... \n",
       "67469       1\n",
       "43197       1\n",
       "10027       1\n",
       "35882       1\n",
       "57          1\n",
       "Name: km, Length: 6690, dtype: int64"
      ]
     },
     "execution_count": 27,
     "metadata": {},
     "output_type": "execute_result"
    }
   ],
   "source": [
    "df.km = df.km.str.split().str[0].str.replace(\",\", \"\").replace(\"-\", np.NaN)\n",
    "df.km.value_counts(dropna=False)"
   ]
  },
  {
   "cell_type": "markdown",
   "metadata": {},
   "source": [
    "## registration & First Registration"
   ]
  },
  {
   "cell_type": "code",
   "execution_count": 28,
   "metadata": {
    "scrolled": true
   },
   "outputs": [
    {
     "ename": "TypeError",
     "evalue": "unhashable type: 'list'",
     "output_type": "error",
     "traceback": [
      "\u001b[0;31m---------------------------------------------------------------------------\u001b[0m",
      "\u001b[0;31mTypeError\u001b[0m                                 Traceback (most recent call last)",
      "\u001b[0;32mpandas/_libs/hashtable_class_helper.pxi\u001b[0m in \u001b[0;36mpandas._libs.hashtable.PyObjectHashTable.map_locations\u001b[0;34m()\u001b[0m\n",
      "\u001b[0;31mTypeError\u001b[0m: unhashable type: 'list'"
     ]
    },
    {
     "name": "stderr",
     "output_type": "stream",
     "text": [
      "Exception ignored in: 'pandas._libs.index.IndexEngine._call_map_locations'\n",
      "Traceback (most recent call last):\n",
      "  File \"pandas/_libs/hashtable_class_helper.pxi\", line 5231, in pandas._libs.hashtable.PyObjectHashTable.map_locations\n",
      "TypeError: unhashable type: 'list'\n"
     ]
    },
    {
     "data": {
      "text/plain": [
       "[\\n, 2018, \\n]    4522\n",
       "[\\n, 2016, \\n]    3674\n",
       "[\\n, 2017, \\n]    3273\n",
       "[\\n, 2019, \\n]    2853\n",
       "NaN               1597\n",
       "Name: First Registration, dtype: int64"
      ]
     },
     "execution_count": 28,
     "metadata": {},
     "output_type": "execute_result"
    }
   ],
   "source": [
    "df[\"First Registration\"].value_counts(dropna=False)"
   ]
  },
  {
   "cell_type": "code",
   "execution_count": 29,
   "metadata": {
    "scrolled": true
   },
   "outputs": [
    {
     "data": {
      "text/plain": [
       "-/-        1597\n",
       "03/2018     695\n",
       "02/2019     585\n",
       "05/2018     572\n",
       "03/2019     543\n",
       "01/2019     541\n",
       "04/2018     541\n",
       "02/2018     539\n",
       "03/2016     536\n",
       "04/2016     532\n",
       "06/2018     532\n",
       "01/2018     511\n",
       "04/2019     506\n",
       "02/2016     472\n",
       "03/2017     471\n",
       "05/2016     459\n",
       "06/2016     452\n",
       "05/2019     440\n",
       "06/2017     409\n",
       "05/2017     404\n",
       "07/2018     396\n",
       "04/2017     380\n",
       "01/2016     376\n",
       "02/2017     368\n",
       "01/2017     306\n",
       "08/2018     285\n",
       "06/2019     224\n",
       "07/2017     215\n",
       "11/2017     180\n",
       "07/2016     176\n",
       "10/2016     160\n",
       "10/2017     154\n",
       "09/2017     149\n",
       "11/2016     142\n",
       "09/2018     141\n",
       "09/2016     141\n",
       "12/2016     134\n",
       "12/2017     123\n",
       "08/2017     114\n",
       "11/2018     110\n",
       "12/2018     103\n",
       "10/2018      97\n",
       "08/2016      94\n",
       "07/2019       6\n",
       "09/2019       5\n",
       "08/2019       1\n",
       "11/2019       1\n",
       "12/2019       1\n",
       "Name: registration, dtype: int64"
      ]
     },
     "execution_count": 29,
     "metadata": {},
     "output_type": "execute_result"
    }
   ],
   "source": [
    "df.registration.value_counts(dropna=False)"
   ]
  },
  {
   "cell_type": "code",
   "execution_count": 30,
   "metadata": {},
   "outputs": [],
   "source": [
    "df[\"registration\"] = df[\"registration\"].replace(\"-/-\", np.NaN)"
   ]
  },
  {
   "cell_type": "code",
   "execution_count": 31,
   "metadata": {},
   "outputs": [],
   "source": [
    "df[\"registration\"] = pd.to_datetime(df[\"registration\"])"
   ]
  },
  {
   "cell_type": "code",
   "execution_count": 32,
   "metadata": {
    "scrolled": true
   },
   "outputs": [
    {
     "data": {
      "text/plain": [
       "NaT           1597\n",
       "2018-03-01     695\n",
       "2019-02-01     585\n",
       "2018-05-01     572\n",
       "2019-03-01     543\n",
       "2019-01-01     541\n",
       "2018-04-01     541\n",
       "2018-02-01     539\n",
       "2016-03-01     536\n",
       "2016-04-01     532\n",
       "2018-06-01     532\n",
       "2018-01-01     511\n",
       "2019-04-01     506\n",
       "2016-02-01     472\n",
       "2017-03-01     471\n",
       "2016-05-01     459\n",
       "2016-06-01     452\n",
       "2019-05-01     440\n",
       "2017-06-01     409\n",
       "2017-05-01     404\n",
       "2018-07-01     396\n",
       "2017-04-01     380\n",
       "2016-01-01     376\n",
       "2017-02-01     368\n",
       "2017-01-01     306\n",
       "2018-08-01     285\n",
       "2019-06-01     224\n",
       "2017-07-01     215\n",
       "2017-11-01     180\n",
       "2016-07-01     176\n",
       "2016-10-01     160\n",
       "2017-10-01     154\n",
       "2017-09-01     149\n",
       "2016-11-01     142\n",
       "2018-09-01     141\n",
       "2016-09-01     141\n",
       "2016-12-01     134\n",
       "2017-12-01     123\n",
       "2017-08-01     114\n",
       "2018-11-01     110\n",
       "2018-12-01     103\n",
       "2018-10-01      97\n",
       "2016-08-01      94\n",
       "2019-07-01       6\n",
       "2019-09-01       5\n",
       "2019-08-01       1\n",
       "2019-11-01       1\n",
       "2019-12-01       1\n",
       "Name: registration, dtype: int64"
      ]
     },
     "execution_count": 32,
     "metadata": {},
     "output_type": "execute_result"
    }
   ],
   "source": [
    "df[\"registration\"].value_counts(dropna=False)"
   ]
  },
  {
   "cell_type": "code",
   "execution_count": 33,
   "metadata": {},
   "outputs": [
    {
     "data": {
      "text/html": [
       "<div>\n",
       "<style scoped>\n",
       "    .dataframe tbody tr th:only-of-type {\n",
       "        vertical-align: middle;\n",
       "    }\n",
       "\n",
       "    .dataframe tbody tr th {\n",
       "        vertical-align: top;\n",
       "    }\n",
       "\n",
       "    .dataframe thead th {\n",
       "        text-align: right;\n",
       "    }\n",
       "</style>\n",
       "<table border=\"1\" class=\"dataframe\">\n",
       "  <thead>\n",
       "    <tr style=\"text-align: right;\">\n",
       "      <th></th>\n",
       "      <th>First Registration</th>\n",
       "      <th>registration</th>\n",
       "    </tr>\n",
       "  </thead>\n",
       "  <tbody>\n",
       "    <tr>\n",
       "      <th>3811</th>\n",
       "      <td>[\\n, 2017, \\n]</td>\n",
       "      <td>2017-04-01</td>\n",
       "    </tr>\n",
       "    <tr>\n",
       "      <th>1959</th>\n",
       "      <td>[\\n, 2019, \\n]</td>\n",
       "      <td>2019-05-01</td>\n",
       "    </tr>\n",
       "    <tr>\n",
       "      <th>11360</th>\n",
       "      <td>[\\n, 2017, \\n]</td>\n",
       "      <td>2017-03-01</td>\n",
       "    </tr>\n",
       "    <tr>\n",
       "      <th>5192</th>\n",
       "      <td>[\\n, 2019, \\n]</td>\n",
       "      <td>2019-03-01</td>\n",
       "    </tr>\n",
       "    <tr>\n",
       "      <th>3285</th>\n",
       "      <td>[\\n, 2016, \\n]</td>\n",
       "      <td>2016-05-01</td>\n",
       "    </tr>\n",
       "    <tr>\n",
       "      <th>3630</th>\n",
       "      <td>[\\n, 2017, \\n]</td>\n",
       "      <td>2017-01-01</td>\n",
       "    </tr>\n",
       "    <tr>\n",
       "      <th>4397</th>\n",
       "      <td>[\\n, 2017, \\n]</td>\n",
       "      <td>2017-01-01</td>\n",
       "    </tr>\n",
       "    <tr>\n",
       "      <th>9556</th>\n",
       "      <td>[\\n, 2018, \\n]</td>\n",
       "      <td>2018-01-01</td>\n",
       "    </tr>\n",
       "    <tr>\n",
       "      <th>7180</th>\n",
       "      <td>[\\n, 2018, \\n]</td>\n",
       "      <td>2018-08-01</td>\n",
       "    </tr>\n",
       "    <tr>\n",
       "      <th>6591</th>\n",
       "      <td>[\\n, 2018, \\n]</td>\n",
       "      <td>2018-03-01</td>\n",
       "    </tr>\n",
       "    <tr>\n",
       "      <th>13880</th>\n",
       "      <td>[\\n, 2017, \\n]</td>\n",
       "      <td>2017-03-01</td>\n",
       "    </tr>\n",
       "    <tr>\n",
       "      <th>1133</th>\n",
       "      <td>[\\n, 2017, \\n]</td>\n",
       "      <td>2017-04-01</td>\n",
       "    </tr>\n",
       "    <tr>\n",
       "      <th>321</th>\n",
       "      <td>[\\n, 2016, \\n]</td>\n",
       "      <td>2016-02-01</td>\n",
       "    </tr>\n",
       "    <tr>\n",
       "      <th>4258</th>\n",
       "      <td>[\\n, 2017, \\n]</td>\n",
       "      <td>2017-06-01</td>\n",
       "    </tr>\n",
       "    <tr>\n",
       "      <th>13527</th>\n",
       "      <td>[\\n, 2016, \\n]</td>\n",
       "      <td>2016-10-01</td>\n",
       "    </tr>\n",
       "    <tr>\n",
       "      <th>1263</th>\n",
       "      <td>[\\n, 2017, \\n]</td>\n",
       "      <td>2017-02-01</td>\n",
       "    </tr>\n",
       "    <tr>\n",
       "      <th>15141</th>\n",
       "      <td>[\\n, 2016, \\n]</td>\n",
       "      <td>2016-11-01</td>\n",
       "    </tr>\n",
       "    <tr>\n",
       "      <th>12491</th>\n",
       "      <td>NaN</td>\n",
       "      <td>NaT</td>\n",
       "    </tr>\n",
       "    <tr>\n",
       "      <th>6278</th>\n",
       "      <td>[\\n, 2016, \\n]</td>\n",
       "      <td>2016-02-01</td>\n",
       "    </tr>\n",
       "    <tr>\n",
       "      <th>8375</th>\n",
       "      <td>[\\n, 2018, \\n]</td>\n",
       "      <td>2018-12-01</td>\n",
       "    </tr>\n",
       "    <tr>\n",
       "      <th>14840</th>\n",
       "      <td>[\\n, 2019, \\n]</td>\n",
       "      <td>2019-03-01</td>\n",
       "    </tr>\n",
       "    <tr>\n",
       "      <th>11814</th>\n",
       "      <td>[\\n, 2018, \\n]</td>\n",
       "      <td>2018-03-01</td>\n",
       "    </tr>\n",
       "    <tr>\n",
       "      <th>4827</th>\n",
       "      <td>[\\n, 2018, \\n]</td>\n",
       "      <td>2018-02-01</td>\n",
       "    </tr>\n",
       "    <tr>\n",
       "      <th>10250</th>\n",
       "      <td>[\\n, 2019, \\n]</td>\n",
       "      <td>2019-06-01</td>\n",
       "    </tr>\n",
       "    <tr>\n",
       "      <th>2198</th>\n",
       "      <td>NaN</td>\n",
       "      <td>NaT</td>\n",
       "    </tr>\n",
       "    <tr>\n",
       "      <th>12421</th>\n",
       "      <td>[\\n, 2019, \\n]</td>\n",
       "      <td>2019-04-01</td>\n",
       "    </tr>\n",
       "    <tr>\n",
       "      <th>801</th>\n",
       "      <td>[\\n, 2016, \\n]</td>\n",
       "      <td>2016-09-01</td>\n",
       "    </tr>\n",
       "    <tr>\n",
       "      <th>3253</th>\n",
       "      <td>[\\n, 2016, \\n]</td>\n",
       "      <td>2016-09-01</td>\n",
       "    </tr>\n",
       "    <tr>\n",
       "      <th>11822</th>\n",
       "      <td>[\\n, 2018, \\n]</td>\n",
       "      <td>2018-04-01</td>\n",
       "    </tr>\n",
       "    <tr>\n",
       "      <th>628</th>\n",
       "      <td>[\\n, 2016, \\n]</td>\n",
       "      <td>2016-02-01</td>\n",
       "    </tr>\n",
       "    <tr>\n",
       "      <th>11925</th>\n",
       "      <td>[\\n, 2018, \\n]</td>\n",
       "      <td>2018-03-01</td>\n",
       "    </tr>\n",
       "    <tr>\n",
       "      <th>13217</th>\n",
       "      <td>[\\n, 2017, \\n]</td>\n",
       "      <td>2017-12-01</td>\n",
       "    </tr>\n",
       "    <tr>\n",
       "      <th>1038</th>\n",
       "      <td>NaN</td>\n",
       "      <td>NaT</td>\n",
       "    </tr>\n",
       "    <tr>\n",
       "      <th>11220</th>\n",
       "      <td>[\\n, 2016, \\n]</td>\n",
       "      <td>2016-04-01</td>\n",
       "    </tr>\n",
       "    <tr>\n",
       "      <th>1143</th>\n",
       "      <td>[\\n, 2018, \\n]</td>\n",
       "      <td>2018-05-01</td>\n",
       "    </tr>\n",
       "    <tr>\n",
       "      <th>4311</th>\n",
       "      <td>[\\n, 2017, \\n]</td>\n",
       "      <td>2017-06-01</td>\n",
       "    </tr>\n",
       "    <tr>\n",
       "      <th>2542</th>\n",
       "      <td>[\\n, 2019, \\n]</td>\n",
       "      <td>2019-04-01</td>\n",
       "    </tr>\n",
       "    <tr>\n",
       "      <th>11976</th>\n",
       "      <td>[\\n, 2018, \\n]</td>\n",
       "      <td>2018-02-01</td>\n",
       "    </tr>\n",
       "    <tr>\n",
       "      <th>13543</th>\n",
       "      <td>[\\n, 2016, \\n]</td>\n",
       "      <td>2016-01-01</td>\n",
       "    </tr>\n",
       "    <tr>\n",
       "      <th>6166</th>\n",
       "      <td>[\\n, 2016, \\n]</td>\n",
       "      <td>2016-12-01</td>\n",
       "    </tr>\n",
       "    <tr>\n",
       "      <th>89</th>\n",
       "      <td>[\\n, 2016, \\n]</td>\n",
       "      <td>2016-04-01</td>\n",
       "    </tr>\n",
       "    <tr>\n",
       "      <th>6193</th>\n",
       "      <td>[\\n, 2016, \\n]</td>\n",
       "      <td>2016-02-01</td>\n",
       "    </tr>\n",
       "    <tr>\n",
       "      <th>5909</th>\n",
       "      <td>[\\n, 2016, \\n]</td>\n",
       "      <td>2016-09-01</td>\n",
       "    </tr>\n",
       "    <tr>\n",
       "      <th>12939</th>\n",
       "      <td>NaN</td>\n",
       "      <td>NaT</td>\n",
       "    </tr>\n",
       "    <tr>\n",
       "      <th>11904</th>\n",
       "      <td>[\\n, 2018, \\n]</td>\n",
       "      <td>2018-09-01</td>\n",
       "    </tr>\n",
       "    <tr>\n",
       "      <th>5869</th>\n",
       "      <td>[\\n, 2018, \\n]</td>\n",
       "      <td>2018-04-01</td>\n",
       "    </tr>\n",
       "    <tr>\n",
       "      <th>8381</th>\n",
       "      <td>[\\n, 2018, \\n]</td>\n",
       "      <td>2018-01-01</td>\n",
       "    </tr>\n",
       "    <tr>\n",
       "      <th>8092</th>\n",
       "      <td>[\\n, 2019, \\n]</td>\n",
       "      <td>2019-05-01</td>\n",
       "    </tr>\n",
       "    <tr>\n",
       "      <th>6648</th>\n",
       "      <td>[\\n, 2018, \\n]</td>\n",
       "      <td>2018-03-01</td>\n",
       "    </tr>\n",
       "    <tr>\n",
       "      <th>14140</th>\n",
       "      <td>NaN</td>\n",
       "      <td>NaT</td>\n",
       "    </tr>\n",
       "    <tr>\n",
       "      <th>7968</th>\n",
       "      <td>[\\n, 2019, \\n]</td>\n",
       "      <td>2019-01-01</td>\n",
       "    </tr>\n",
       "    <tr>\n",
       "      <th>9330</th>\n",
       "      <td>[\\n, 2018, \\n]</td>\n",
       "      <td>2018-02-01</td>\n",
       "    </tr>\n",
       "    <tr>\n",
       "      <th>1614</th>\n",
       "      <td>[\\n, 2018, \\n]</td>\n",
       "      <td>2018-04-01</td>\n",
       "    </tr>\n",
       "    <tr>\n",
       "      <th>15480</th>\n",
       "      <td>[\\n, 2017, \\n]</td>\n",
       "      <td>2017-10-01</td>\n",
       "    </tr>\n",
       "    <tr>\n",
       "      <th>13420</th>\n",
       "      <td>[\\n, 2018, \\n]</td>\n",
       "      <td>2018-09-01</td>\n",
       "    </tr>\n",
       "    <tr>\n",
       "      <th>12188</th>\n",
       "      <td>[\\n, 2018, \\n]</td>\n",
       "      <td>2018-06-01</td>\n",
       "    </tr>\n",
       "    <tr>\n",
       "      <th>11133</th>\n",
       "      <td>[\\n, 2016, \\n]</td>\n",
       "      <td>2016-04-01</td>\n",
       "    </tr>\n",
       "    <tr>\n",
       "      <th>6283</th>\n",
       "      <td>[\\n, 2016, \\n]</td>\n",
       "      <td>2016-02-01</td>\n",
       "    </tr>\n",
       "    <tr>\n",
       "      <th>5133</th>\n",
       "      <td>[\\n, 2019, \\n]</td>\n",
       "      <td>2019-04-01</td>\n",
       "    </tr>\n",
       "    <tr>\n",
       "      <th>15358</th>\n",
       "      <td>[\\n, 2016, \\n]</td>\n",
       "      <td>2016-11-01</td>\n",
       "    </tr>\n",
       "    <tr>\n",
       "      <th>15393</th>\n",
       "      <td>[\\n, 2018, \\n]</td>\n",
       "      <td>2018-02-01</td>\n",
       "    </tr>\n",
       "    <tr>\n",
       "      <th>84</th>\n",
       "      <td>[\\n, 2017, \\n]</td>\n",
       "      <td>2017-05-01</td>\n",
       "    </tr>\n",
       "    <tr>\n",
       "      <th>7514</th>\n",
       "      <td>[\\n, 2018, \\n]</td>\n",
       "      <td>2018-01-01</td>\n",
       "    </tr>\n",
       "    <tr>\n",
       "      <th>4747</th>\n",
       "      <td>[\\n, 2018, \\n]</td>\n",
       "      <td>2018-11-01</td>\n",
       "    </tr>\n",
       "    <tr>\n",
       "      <th>12158</th>\n",
       "      <td>[\\n, 2018, \\n]</td>\n",
       "      <td>2018-05-01</td>\n",
       "    </tr>\n",
       "    <tr>\n",
       "      <th>14724</th>\n",
       "      <td>[\\n, 2019, \\n]</td>\n",
       "      <td>2019-02-01</td>\n",
       "    </tr>\n",
       "    <tr>\n",
       "      <th>10006</th>\n",
       "      <td>[\\n, 2019, \\n]</td>\n",
       "      <td>2019-02-01</td>\n",
       "    </tr>\n",
       "    <tr>\n",
       "      <th>2162</th>\n",
       "      <td>[\\n, 2019, \\n]</td>\n",
       "      <td>2019-03-01</td>\n",
       "    </tr>\n",
       "    <tr>\n",
       "      <th>7625</th>\n",
       "      <td>NaN</td>\n",
       "      <td>NaT</td>\n",
       "    </tr>\n",
       "    <tr>\n",
       "      <th>7668</th>\n",
       "      <td>[\\n, 2019, \\n]</td>\n",
       "      <td>2019-01-01</td>\n",
       "    </tr>\n",
       "    <tr>\n",
       "      <th>5344</th>\n",
       "      <td>[\\n, 2019, \\n]</td>\n",
       "      <td>2019-06-01</td>\n",
       "    </tr>\n",
       "    <tr>\n",
       "      <th>10730</th>\n",
       "      <td>[\\n, 2016, \\n]</td>\n",
       "      <td>2016-05-01</td>\n",
       "    </tr>\n",
       "    <tr>\n",
       "      <th>13722</th>\n",
       "      <td>[\\n, 2016, \\n]</td>\n",
       "      <td>2016-04-01</td>\n",
       "    </tr>\n",
       "    <tr>\n",
       "      <th>12343</th>\n",
       "      <td>[\\n, 2018, \\n]</td>\n",
       "      <td>2018-03-01</td>\n",
       "    </tr>\n",
       "    <tr>\n",
       "      <th>15111</th>\n",
       "      <td>[\\n, 2016, \\n]</td>\n",
       "      <td>2016-05-01</td>\n",
       "    </tr>\n",
       "    <tr>\n",
       "      <th>12761</th>\n",
       "      <td>NaN</td>\n",
       "      <td>NaT</td>\n",
       "    </tr>\n",
       "    <tr>\n",
       "      <th>15211</th>\n",
       "      <td>[\\n, 2016, \\n]</td>\n",
       "      <td>2016-06-01</td>\n",
       "    </tr>\n",
       "    <tr>\n",
       "      <th>3799</th>\n",
       "      <td>[\\n, 2018, \\n]</td>\n",
       "      <td>2018-03-01</td>\n",
       "    </tr>\n",
       "    <tr>\n",
       "      <th>2305</th>\n",
       "      <td>NaN</td>\n",
       "      <td>NaT</td>\n",
       "    </tr>\n",
       "    <tr>\n",
       "      <th>13739</th>\n",
       "      <td>[\\n, 2016, \\n]</td>\n",
       "      <td>2016-04-01</td>\n",
       "    </tr>\n",
       "    <tr>\n",
       "      <th>1583</th>\n",
       "      <td>[\\n, 2018, \\n]</td>\n",
       "      <td>2018-07-01</td>\n",
       "    </tr>\n",
       "    <tr>\n",
       "      <th>9757</th>\n",
       "      <td>[\\n, 2018, \\n]</td>\n",
       "      <td>2018-05-01</td>\n",
       "    </tr>\n",
       "    <tr>\n",
       "      <th>13461</th>\n",
       "      <td>[\\n, 2016, \\n]</td>\n",
       "      <td>2016-06-01</td>\n",
       "    </tr>\n",
       "    <tr>\n",
       "      <th>8722</th>\n",
       "      <td>[\\n, 2016, \\n]</td>\n",
       "      <td>2016-04-01</td>\n",
       "    </tr>\n",
       "    <tr>\n",
       "      <th>5920</th>\n",
       "      <td>[\\n, 2016, \\n]</td>\n",
       "      <td>2016-11-01</td>\n",
       "    </tr>\n",
       "    <tr>\n",
       "      <th>2610</th>\n",
       "      <td>NaN</td>\n",
       "      <td>NaT</td>\n",
       "    </tr>\n",
       "    <tr>\n",
       "      <th>6203</th>\n",
       "      <td>[\\n, 2017, \\n]</td>\n",
       "      <td>2017-03-01</td>\n",
       "    </tr>\n",
       "    <tr>\n",
       "      <th>14523</th>\n",
       "      <td>[\\n, 2018, \\n]</td>\n",
       "      <td>2018-07-01</td>\n",
       "    </tr>\n",
       "    <tr>\n",
       "      <th>2807</th>\n",
       "      <td>[\\n, 2016, \\n]</td>\n",
       "      <td>2016-01-01</td>\n",
       "    </tr>\n",
       "    <tr>\n",
       "      <th>10642</th>\n",
       "      <td>[\\n, 2017, \\n]</td>\n",
       "      <td>2017-03-01</td>\n",
       "    </tr>\n",
       "    <tr>\n",
       "      <th>940</th>\n",
       "      <td>[\\n, 2018, \\n]</td>\n",
       "      <td>2018-05-01</td>\n",
       "    </tr>\n",
       "    <tr>\n",
       "      <th>11764</th>\n",
       "      <td>[\\n, 2017, \\n]</td>\n",
       "      <td>2017-05-01</td>\n",
       "    </tr>\n",
       "    <tr>\n",
       "      <th>10080</th>\n",
       "      <td>[\\n, 2019, \\n]</td>\n",
       "      <td>2019-01-01</td>\n",
       "    </tr>\n",
       "    <tr>\n",
       "      <th>9077</th>\n",
       "      <td>[\\n, 2018, \\n]</td>\n",
       "      <td>2018-01-01</td>\n",
       "    </tr>\n",
       "    <tr>\n",
       "      <th>6402</th>\n",
       "      <td>[\\n, 2016, \\n]</td>\n",
       "      <td>2016-01-01</td>\n",
       "    </tr>\n",
       "    <tr>\n",
       "      <th>10132</th>\n",
       "      <td>[\\n, 2019, \\n]</td>\n",
       "      <td>2019-02-01</td>\n",
       "    </tr>\n",
       "    <tr>\n",
       "      <th>14899</th>\n",
       "      <td>[\\n, 2019, \\n]</td>\n",
       "      <td>2019-06-01</td>\n",
       "    </tr>\n",
       "    <tr>\n",
       "      <th>15622</th>\n",
       "      <td>[\\n, 2019, \\n]</td>\n",
       "      <td>2019-04-01</td>\n",
       "    </tr>\n",
       "    <tr>\n",
       "      <th>7358</th>\n",
       "      <td>[\\n, 2018, \\n]</td>\n",
       "      <td>2018-09-01</td>\n",
       "    </tr>\n",
       "    <tr>\n",
       "      <th>4940</th>\n",
       "      <td>[\\n, 2018, \\n]</td>\n",
       "      <td>2018-07-01</td>\n",
       "    </tr>\n",
       "  </tbody>\n",
       "</table>\n",
       "</div>"
      ],
      "text/plain": [
       "      First Registration registration\n",
       "3811      [\\n, 2017, \\n]   2017-04-01\n",
       "1959      [\\n, 2019, \\n]   2019-05-01\n",
       "11360     [\\n, 2017, \\n]   2017-03-01\n",
       "5192      [\\n, 2019, \\n]   2019-03-01\n",
       "3285      [\\n, 2016, \\n]   2016-05-01\n",
       "3630      [\\n, 2017, \\n]   2017-01-01\n",
       "4397      [\\n, 2017, \\n]   2017-01-01\n",
       "9556      [\\n, 2018, \\n]   2018-01-01\n",
       "7180      [\\n, 2018, \\n]   2018-08-01\n",
       "6591      [\\n, 2018, \\n]   2018-03-01\n",
       "13880     [\\n, 2017, \\n]   2017-03-01\n",
       "1133      [\\n, 2017, \\n]   2017-04-01\n",
       "321       [\\n, 2016, \\n]   2016-02-01\n",
       "4258      [\\n, 2017, \\n]   2017-06-01\n",
       "13527     [\\n, 2016, \\n]   2016-10-01\n",
       "1263      [\\n, 2017, \\n]   2017-02-01\n",
       "15141     [\\n, 2016, \\n]   2016-11-01\n",
       "12491                NaN          NaT\n",
       "6278      [\\n, 2016, \\n]   2016-02-01\n",
       "8375      [\\n, 2018, \\n]   2018-12-01\n",
       "14840     [\\n, 2019, \\n]   2019-03-01\n",
       "11814     [\\n, 2018, \\n]   2018-03-01\n",
       "4827      [\\n, 2018, \\n]   2018-02-01\n",
       "10250     [\\n, 2019, \\n]   2019-06-01\n",
       "2198                 NaN          NaT\n",
       "12421     [\\n, 2019, \\n]   2019-04-01\n",
       "801       [\\n, 2016, \\n]   2016-09-01\n",
       "3253      [\\n, 2016, \\n]   2016-09-01\n",
       "11822     [\\n, 2018, \\n]   2018-04-01\n",
       "628       [\\n, 2016, \\n]   2016-02-01\n",
       "11925     [\\n, 2018, \\n]   2018-03-01\n",
       "13217     [\\n, 2017, \\n]   2017-12-01\n",
       "1038                 NaN          NaT\n",
       "11220     [\\n, 2016, \\n]   2016-04-01\n",
       "1143      [\\n, 2018, \\n]   2018-05-01\n",
       "4311      [\\n, 2017, \\n]   2017-06-01\n",
       "2542      [\\n, 2019, \\n]   2019-04-01\n",
       "11976     [\\n, 2018, \\n]   2018-02-01\n",
       "13543     [\\n, 2016, \\n]   2016-01-01\n",
       "6166      [\\n, 2016, \\n]   2016-12-01\n",
       "89        [\\n, 2016, \\n]   2016-04-01\n",
       "6193      [\\n, 2016, \\n]   2016-02-01\n",
       "5909      [\\n, 2016, \\n]   2016-09-01\n",
       "12939                NaN          NaT\n",
       "11904     [\\n, 2018, \\n]   2018-09-01\n",
       "5869      [\\n, 2018, \\n]   2018-04-01\n",
       "8381      [\\n, 2018, \\n]   2018-01-01\n",
       "8092      [\\n, 2019, \\n]   2019-05-01\n",
       "6648      [\\n, 2018, \\n]   2018-03-01\n",
       "14140                NaN          NaT\n",
       "7968      [\\n, 2019, \\n]   2019-01-01\n",
       "9330      [\\n, 2018, \\n]   2018-02-01\n",
       "1614      [\\n, 2018, \\n]   2018-04-01\n",
       "15480     [\\n, 2017, \\n]   2017-10-01\n",
       "13420     [\\n, 2018, \\n]   2018-09-01\n",
       "12188     [\\n, 2018, \\n]   2018-06-01\n",
       "11133     [\\n, 2016, \\n]   2016-04-01\n",
       "6283      [\\n, 2016, \\n]   2016-02-01\n",
       "5133      [\\n, 2019, \\n]   2019-04-01\n",
       "15358     [\\n, 2016, \\n]   2016-11-01\n",
       "15393     [\\n, 2018, \\n]   2018-02-01\n",
       "84        [\\n, 2017, \\n]   2017-05-01\n",
       "7514      [\\n, 2018, \\n]   2018-01-01\n",
       "4747      [\\n, 2018, \\n]   2018-11-01\n",
       "12158     [\\n, 2018, \\n]   2018-05-01\n",
       "14724     [\\n, 2019, \\n]   2019-02-01\n",
       "10006     [\\n, 2019, \\n]   2019-02-01\n",
       "2162      [\\n, 2019, \\n]   2019-03-01\n",
       "7625                 NaN          NaT\n",
       "7668      [\\n, 2019, \\n]   2019-01-01\n",
       "5344      [\\n, 2019, \\n]   2019-06-01\n",
       "10730     [\\n, 2016, \\n]   2016-05-01\n",
       "13722     [\\n, 2016, \\n]   2016-04-01\n",
       "12343     [\\n, 2018, \\n]   2018-03-01\n",
       "15111     [\\n, 2016, \\n]   2016-05-01\n",
       "12761                NaN          NaT\n",
       "15211     [\\n, 2016, \\n]   2016-06-01\n",
       "3799      [\\n, 2018, \\n]   2018-03-01\n",
       "2305                 NaN          NaT\n",
       "13739     [\\n, 2016, \\n]   2016-04-01\n",
       "1583      [\\n, 2018, \\n]   2018-07-01\n",
       "9757      [\\n, 2018, \\n]   2018-05-01\n",
       "13461     [\\n, 2016, \\n]   2016-06-01\n",
       "8722      [\\n, 2016, \\n]   2016-04-01\n",
       "5920      [\\n, 2016, \\n]   2016-11-01\n",
       "2610                 NaN          NaT\n",
       "6203      [\\n, 2017, \\n]   2017-03-01\n",
       "14523     [\\n, 2018, \\n]   2018-07-01\n",
       "2807      [\\n, 2016, \\n]   2016-01-01\n",
       "10642     [\\n, 2017, \\n]   2017-03-01\n",
       "940       [\\n, 2018, \\n]   2018-05-01\n",
       "11764     [\\n, 2017, \\n]   2017-05-01\n",
       "10080     [\\n, 2019, \\n]   2019-01-01\n",
       "9077      [\\n, 2018, \\n]   2018-01-01\n",
       "6402      [\\n, 2016, \\n]   2016-01-01\n",
       "10132     [\\n, 2019, \\n]   2019-02-01\n",
       "14899     [\\n, 2019, \\n]   2019-06-01\n",
       "15622     [\\n, 2019, \\n]   2019-04-01\n",
       "7358      [\\n, 2018, \\n]   2018-09-01\n",
       "4940      [\\n, 2018, \\n]   2018-07-01"
      ]
     },
     "execution_count": 33,
     "metadata": {},
     "output_type": "execute_result"
    }
   ],
   "source": [
    "df[[\"First Registration\", \"registration\"]].sample(100)"
   ]
  },
  {
   "cell_type": "code",
   "execution_count": 34,
   "metadata": {},
   "outputs": [],
   "source": [
    "# all values including nulls are the same so \"First Registration\" will be dropped.\n",
    "df.drop(columns=\"First Registration\", inplace=True) "
   ]
  },
  {
   "cell_type": "markdown",
   "metadata": {},
   "source": [
    "## hp"
   ]
  },
  {
   "cell_type": "code",
   "execution_count": 35,
   "metadata": {
    "scrolled": true
   },
   "outputs": [
    {
     "data": {
      "text/plain": [
       "85 kW     2542\n",
       "66 kW     2122\n",
       "81 kW     1402\n",
       "100 kW    1308\n",
       "110 kW    1112\n",
       "70 kW      888\n",
       "125 kW     707\n",
       "51 kW      695\n",
       "55 kW      569\n",
       "118 kW     516\n",
       "92 kW      466\n",
       "121 kW     392\n",
       "147 kW     380\n",
       "77 kW      345\n",
       "56 kW      286\n",
       "54 kW      276\n",
       "103 kW     253\n",
       "87 kW      232\n",
       "165 kW     194\n",
       "88 kW      177\n",
       "60 kW      160\n",
       "162 kW      98\n",
       "- kW        88\n",
       "74 kW       81\n",
       "96 kW       72\n",
       "71 kW       59\n",
       "101 kW      47\n",
       "67 kW       40\n",
       "154 kW      39\n",
       "122 kW      35\n",
       "119 kW      30\n",
       "164 kW      27\n",
       "135 kW      24\n",
       "82 kW       22\n",
       "52 kW       22\n",
       "78 kW       20\n",
       "1 kW        20\n",
       "294 kW      18\n",
       "146 kW      18\n",
       "141 kW      16\n",
       "57 kW       10\n",
       "104 kW       8\n",
       "120 kW       8\n",
       "191 kW       7\n",
       "112 kW       7\n",
       "155 kW       6\n",
       "117 kW       6\n",
       "184 kW       5\n",
       "90 kW        4\n",
       "76 kW        4\n",
       "65 kW        4\n",
       "149 kW       3\n",
       "80 kW        3\n",
       "168 kW       3\n",
       "98 kW        3\n",
       "93 kW        3\n",
       "228 kW       2\n",
       "270 kW       2\n",
       "53 kW        2\n",
       "140 kW       2\n",
       "86 kW        2\n",
       "167 kW       2\n",
       "127 kW       2\n",
       "89 kW        2\n",
       "143 kW       2\n",
       "63 kW        2\n",
       "40 kW        2\n",
       "150 kW       2\n",
       "163 kW       1\n",
       "115 kW       1\n",
       "132 kW       1\n",
       "75 kW        1\n",
       "4 kW         1\n",
       "137 kW       1\n",
       "123 kW       1\n",
       "133 kW       1\n",
       "84 kW        1\n",
       "195 kW       1\n",
       "44 kW        1\n",
       "239 kW       1\n",
       "9 kW         1\n",
       "Name: hp, dtype: int64"
      ]
     },
     "execution_count": 35,
     "metadata": {},
     "output_type": "execute_result"
    }
   ],
   "source": [
    "df.hp.value_counts(dropna=False)"
   ]
  },
  {
   "cell_type": "code",
   "execution_count": 36,
   "metadata": {
    "scrolled": true
   },
   "outputs": [
    {
     "data": {
      "text/plain": [
       "85     2542\n",
       "66     2122\n",
       "81     1402\n",
       "100    1308\n",
       "110    1112\n",
       "70      888\n",
       "125     707\n",
       "51      695\n",
       "55      569\n",
       "118     516\n",
       "92      466\n",
       "121     392\n",
       "147     380\n",
       "77      345\n",
       "56      286\n",
       "54      276\n",
       "103     253\n",
       "87      232\n",
       "165     194\n",
       "88      177\n",
       "60      160\n",
       "162      98\n",
       "-        88\n",
       "74       81\n",
       "96       72\n",
       "71       59\n",
       "101      47\n",
       "67       40\n",
       "154      39\n",
       "122      35\n",
       "119      30\n",
       "164      27\n",
       "135      24\n",
       "82       22\n",
       "52       22\n",
       "78       20\n",
       "1        20\n",
       "294      18\n",
       "146      18\n",
       "141      16\n",
       "57       10\n",
       "104       8\n",
       "120       8\n",
       "191       7\n",
       "112       7\n",
       "155       6\n",
       "117       6\n",
       "184       5\n",
       "90        4\n",
       "76        4\n",
       "65        4\n",
       "149       3\n",
       "80        3\n",
       "168       3\n",
       "98        3\n",
       "93        3\n",
       "228       2\n",
       "270       2\n",
       "53        2\n",
       "140       2\n",
       "86        2\n",
       "167       2\n",
       "127       2\n",
       "89        2\n",
       "143       2\n",
       "63        2\n",
       "40        2\n",
       "150       2\n",
       "163       1\n",
       "115       1\n",
       "132       1\n",
       "75        1\n",
       "4         1\n",
       "137       1\n",
       "123       1\n",
       "133       1\n",
       "84        1\n",
       "195       1\n",
       "44        1\n",
       "239       1\n",
       "9         1\n",
       "Name: hp, dtype: int64"
      ]
     },
     "execution_count": 36,
     "metadata": {},
     "output_type": "execute_result"
    }
   ],
   "source": [
    "df.hp.str.split().str[0].value_counts(dropna=False)"
   ]
  },
  {
   "cell_type": "code",
   "execution_count": 37,
   "metadata": {},
   "outputs": [],
   "source": [
    "df[\"hp_kW\"] = df.hp.str.split().str[0]\n",
    "df.drop(columns=\"hp\", inplace=True)"
   ]
  },
  {
   "cell_type": "markdown",
   "metadata": {},
   "source": [
    "## Type"
   ]
  },
  {
   "cell_type": "code",
   "execution_count": 38,
   "metadata": {
    "scrolled": true
   },
   "outputs": [
    {
     "ename": "TypeError",
     "evalue": "unhashable type: 'list'",
     "output_type": "error",
     "traceback": [
      "\u001b[0;31m---------------------------------------------------------------------------\u001b[0m",
      "\u001b[0;31mTypeError\u001b[0m                                 Traceback (most recent call last)",
      "\u001b[0;32mpandas/_libs/hashtable_class_helper.pxi\u001b[0m in \u001b[0;36mpandas._libs.hashtable.PyObjectHashTable.map_locations\u001b[0;34m()\u001b[0m\n",
      "\u001b[0;31mTypeError\u001b[0m: unhashable type: 'list'"
     ]
    },
    {
     "name": "stderr",
     "output_type": "stream",
     "text": [
      "Exception ignored in: 'pandas._libs.index.IndexEngine._call_map_locations'\n",
      "Traceback (most recent call last):\n",
      "  File \"pandas/_libs/hashtable_class_helper.pxi\", line 5231, in pandas._libs.hashtable.PyObjectHashTable.map_locations\n",
      "TypeError: unhashable type: 'list'\n"
     ]
    },
    {
     "data": {
      "text/plain": [
       "[, Used, , Diesel (Particulate Filter)]                                                                                                       3475\n",
       "[, Used, , Diesel]                                                                                                                            2516\n",
       "[, Used, , Gasoline]                                                                                                                          2367\n",
       "[, Used, , Super 95]                                                                                                                          1818\n",
       "[, Pre-registered, , Super 95]                                                                                                                 500\n",
       "[, New, , Super 95]                                                                                                                            497\n",
       "[, Employee's car, , Diesel (Particulate Filter)]                                                                                              343\n",
       "[, New, , Gasoline]                                                                                                                            340\n",
       "[, Used, , Super 95 / Regular/Benzine 91]                                                                                                      324\n",
       "[, Employee's car, , Super 95]                                                                                                                 264\n",
       "[, Demonstration, , Super 95]                                                                                                                  259\n",
       "[, Pre-registered, , Gasoline]                                                                                                                 198\n",
       "[, Pre-registered, , Diesel (Particulate Filter)]                                                                                              189\n",
       "[, New, , Diesel (Particulate Filter)]                                                                                                         179\n",
       "[, Pre-registered, , Diesel]                                                                                                                   160\n",
       "[, Demonstration, , Gasoline]                                                                                                                  158\n",
       "[, Employee's car, , Diesel]                                                                                                                   139\n",
       "[, New, , Super 95 (Particulate Filter)]                                                                                                       130\n",
       "[, Demonstration, , Diesel (Particulate Filter)]                                                                                               129\n",
       "[, Used, , Regular/Benzine 91]                                                                                                                 122\n",
       "[, New, , Diesel]                                                                                                                              122\n",
       "[, Used, , Super E10 95]                                                                                                                       122\n",
       "[, Employee's car, , Gasoline]                                                                                                                 112\n",
       "[, New, , Super E10 95]                                                                                                                         97\n",
       "[, New, , Regular/Benzine 91]                                                                                                                   83\n",
       "[, Employee's car, , Regular/Benzine 91]                                                                                                        77\n",
       "[, New, , Regular/Benzine 91 (Particulate Filter)]                                                                                              73\n",
       "[, Used, , Super 95 / Super E10 95]                                                                                                             70\n",
       "[, Pre-registered, , Super 95 (Particulate Filter)]                                                                                             61\n",
       "[, Pre-registered, , Super E10 95]                                                                                                              55\n",
       "[, Demonstration, , Super 95 / Regular/Benzine 91]                                                                                              49\n",
       "[, Demonstration, , Diesel]                                                                                                                     45\n",
       "[, Used, , Super 95 (Particulate Filter)]                                                                                                       39\n",
       "[, Used, , Super 95 / Super Plus 98]                                                                                                            38\n",
       "[, Pre-registered, , Regular/Benzine 91]                                                                                                        36\n",
       "[, Demonstration, , Regular/Benzine 91]                                                                                                         36\n",
       "[, Employee's car, , Super E10 95]                                                                                                              33\n",
       "[, Demonstration, , Super 95 (Particulate Filter)]                                                                                              32\n",
       "[, Pre-registered, , Gasoline (Particulate Filter)]                                                                                             28\n",
       "[, Pre-registered, , Super 95 / Regular/Benzine 91]                                                                                             27\n",
       "[, Used, , CNG]                                                                                                                                 27\n",
       "[, Used, , Super 95 / Super Plus 98 / Super E10 95 / Super Plus E10 98]                                                                         25\n",
       "[, Demonstration, , Super E10 95]                                                                                                               24\n",
       "[, Used, , Gasoline (Particulate Filter)]                                                                                                       23\n",
       "[, Pre-registered, , Super 95 / Super E10 95]                                                                                                   22\n",
       "[, New, , Super 95 / Super E10 95]                                                                                                              21\n",
       "[, New, , Super 95 / Regular/Benzine 91]                                                                                                        21\n",
       "[, New, , Super 95 / Super Plus 98]                                                                                                             20\n",
       "[, Used, , Super E10 95 / Super 95]                                                                                                             18\n",
       "[, Demonstration, , Super 95 / Super E10 95]                                                                                                    16\n",
       "[, Pre-registered, , Super 95 / Super E10 95 (Particulate Filter)]                                                                              16\n",
       "[, Pre-registered, , Super 95 / Super Plus 98]                                                                                                  15\n",
       "[, New, , Gasoline (Particulate Filter)]                                                                                                        15\n",
       "[, Used, , Regular/Benzine 91 / Super 95 / Super Plus 98 / Regular/Benzine E10 91 / Super E10 95 / Super Plus E10 98]                           12\n",
       "[, New, , Super E10 95 / Super 95]                                                                                                              12\n",
       "[, Demonstration, , Super 95 / Super Plus 98]                                                                                                   12\n",
       "[, Employee's car, , Regular/Benzine 91 (Particulate Filter)]                                                                                   12\n",
       "[, Pre-registered, , Super E10 95 / Super 95 / Super Plus 98 / Super Plus E10 98]                                                               11\n",
       "[, Employee's car, , Gasoline (Particulate Filter)]                                                                                             10\n",
       "[, Used, , LPG]                                                                                                                                 10\n",
       "[, Demonstration, , Regular/Benzine 91 (Particulate Filter)]                                                                                     9\n",
       "[, Used, , Super E10 95 / Super 95 / Super Plus 98 / Super Plus E10 98]                                                                          8\n",
       "[, Demonstration, , Super 95 / Super Plus 98 / Super E10 95 / Super Plus E10 98]                                                                 8\n",
       "[, Pre-registered, , Regular/Benzine 91 / Regular/Benzine E10 91]                                                                                7\n",
       "[, Used, , Liquid petroleum gas (LPG)]                                                                                                           7\n",
       "[, Employee's car, , Super 95 (Particulate Filter)]                                                                                              6\n",
       "[, Used, , Regular/Benzine E10 91]                                                                                                               5\n",
       "[, New, , Super 95 / Super Plus 98 (Particulate Filter)]                                                                                         5\n",
       "[, New, , Super 95 / Super E10 95 (Particulate Filter)]                                                                                          5\n",
       "[, Used, , Super 95 / Super Plus 98 (Particulate Filter)]                                                                                        5\n",
       "[, Used, , Super 95 / Regular/Benzine 91 / Super Plus 98 / Regular/Benzine E10 91 / Super E10 95 / Super Plus E10 98]                            5\n",
       "[, New, , CNG]                                                                                                                                   5\n",
       "[, New, , Super 95 / Super Plus 98 / Super E10 95 / Super Plus E10 98]                                                                           5\n",
       "[, Used, , Electric/Gasoline]                                                                                                                    4\n",
       "[, Demonstration, , Super 95 / Super Plus 98 (Particulate Filter)]                                                                               4\n",
       "[, Used, , Super E10 95 / Super Plus E10 98]                                                                                                     4\n",
       "[, Used, , Super 95 / Super E10 95 / Super Plus E10 98 / Super Plus 98]                                                                          4\n",
       "[, Used, , Others]                                                                                                                               3\n",
       "[, Used, , Super 95 / Super E10 95 (Particulate Filter)]                                                                                         3\n",
       "[, New, , Super 95 / Super Plus 98 / Super E10 95]                                                                                               3\n",
       "[, Employee's car, , Super E10 95 / Super 95]                                                                                                    3\n",
       "[, Pre-registered, , Regular/Benzine E10 91]                                                                                                     3\n",
       "[, Used, , Super 95 / Super Plus 98 / Super Plus E10 98 / Super E10 95]                                                                          3\n",
       "[, Employee's car, , Super 95 / Regular/Benzine 91]                                                                                              3\n",
       "[, Pre-registered, , Liquid petroleum gas (LPG)]                                                                                                 3\n",
       "[, Used, , Super 95 / Super Plus 98 / Super E10 95]                                                                                              3\n",
       "[, New, , Super E10 95 (Particulate Filter)]                                                                                                     3\n",
       "[, Demonstration, , Super E10 95 / Super 95]                                                                                                     3\n",
       "[, Used, , Regular/Benzine 91 / Super 95 / Super Plus 98 / Regular/Benzine E10 91 / Super Plus E10 98 / Super E10 95]                            3\n",
       "[, Pre-registered, , Regular/Benzine 91 (Particulate Filter)]                                                                                    3\n",
       "[, Pre-registered, , LPG]                                                                                                                        3\n",
       "[, Pre-registered, , Super E10 95 / Super 95 / Super Plus 98 / Super Plus E10 98 (Particulate Filter)]                                           3\n",
       "[, Used, , Regular/Benzine 91 (Particulate Filter)]                                                                                              3\n",
       "[, Pre-registered, , Super Plus 98]                                                                                                              2\n",
       "[, Employee's car, , Super 95 / Super E10 95]                                                                                                    2\n",
       "[, Used, , Super 95 / Regular/Benzine 91 / Super Plus 98]                                                                                        2\n",
       "[, Pre-registered, , Super 95 / Super Plus 98 / Super E10 95]                                                                                    2\n",
       "[, Used, , Regular/Benzine 91 / Super 95 / Super Plus 98 / Super Plus E10 98 / Super E10 95 / Regular/Benzine E10 91]                            2\n",
       "[, Pre-registered, , Super E10 95 / Super 95]                                                                                                    2\n",
       "[, New, , Regular/Benzine E10 91]                                                                                                                2\n",
       "[, New, , Super 95 / Super Plus 98 / Super E10 95 / Super Plus E10 98 (Particulate Filter)]                                                      2\n",
       "[, Pre-registered, , Super E10 95 / Super 95 / Super Plus 98]                                                                                    2\n",
       "[, Used, , Super Plus 98]                                                                                                                        2\n",
       "[, Employee's car, , LPG]                                                                                                                        2\n",
       "NaN                                                                                                                                              2\n",
       "[, New, , Super Plus 98]                                                                                                                         2\n",
       "[, Pre-registered, , Super 95 / Super Plus 98 / Super E10 95 / Super Plus E10 98]                                                                2\n",
       "[, Demonstration, , Super 95 / Super E10 95 (Particulate Filter)]                                                                                1\n",
       "[, New, , Regular/Benzine 91 / Super 95 / Super Plus 98 / Regular/Benzine E10 91 / Super E10 95 / Super Plus E10 98]                             1\n",
       "[, Demonstration, , Super 95 / Regular/Benzine 91 / Super E10 95 / Super Plus 98 / Super Plus E10 98 / Regular/Benzine E10 91]                   1\n",
       "[, Pre-registered, , Super 95 / Super Plus 98 / Super E10 95 / Super Plus E10 98 (Particulate Filter)]                                           1\n",
       "[, Used, , Super E10 95 / Regular/Benzine 91]                                                                                                    1\n",
       "[, Pre-registered, , Super Plus 98 / Super 95 / Super Plus E10 98]                                                                               1\n",
       "[, Pre-registered, , Super E10 95 (Particulate Filter)]                                                                                          1\n",
       "[, Pre-registered, , Super 95 / Super E10 95 / Regular/Benzine 91]                                                                               1\n",
       "[, Used, , Super 95 / Regular/Benzine E10 91]                                                                                                    1\n",
       "[, Pre-registered, , Others]                                                                                                                     1\n",
       "[, Pre-registered, , Super E10 95 / Regular/Benzine 91 / Regular/Benzine E10 91 / Super 95]                                                      1\n",
       "[, Demonstration, , Super 95 / Regular/Benzine 91 (Particulate Filter)]                                                                          1\n",
       "[, Used, , Super 95 / Super E10 95 / Super Plus 98]                                                                                              1\n",
       "[, Demonstration, , Super Plus 98 / Regular/Benzine 91]                                                                                          1\n",
       "[, Used, , Electric]                                                                                                                             1\n",
       "[, Demonstration, , Super 95 / Super Plus 98 / Super Plus E10 98 / Super E10 95]                                                                 1\n",
       "[, Employee's car, , Super E10 95 / Super 95 / Super Plus 98]                                                                                    1\n",
       "[, Demonstration, , Super 95 / Regular/Benzine 91 / Super Plus 98 / Regular/Benzine E10 91 / Super E10 95 / Super Plus E10 98]                   1\n",
       "[, Demonstration, , Super 95 / Super Plus 98 / Regular/Benzine E10 91 / Super Plus E10 98 / Super E10 95 / Regular/Benzine 91]                   1\n",
       "[, Employee's car, , Others]                                                                                                                     1\n",
       "[, Used, , Regular/Benzine 91 / Super 95 / Super E10 95 / Super Plus E10 98 / Super Plus 98 / Regular/Benzine E10 91]                            1\n",
       "[, Demonstration, , Gasoline (Particulate Filter)]                                                                                               1\n",
       "[, Used, , Super 95 / Super E10 95 / Super Plus E10 98]                                                                                          1\n",
       "[, Used, , Regular/Benzine 91 / Super 95 / Super Plus E10 98 / Super E10 95 / Regular/Benzine E10 91 / Super Plus 98]                            1\n",
       "[, Pre-registered, , Super E10 95 / Regular/Benzine 91]                                                                                          1\n",
       "[, New, , LPG]                                                                                                                                   1\n",
       "[, Used, , Super 95 / Super Plus 98 / Super Plus E10 98]                                                                                         1\n",
       "[, Used, , Regular/Benzine 91 / Super 95 / Super Plus 98]                                                                                        1\n",
       "[, Used, , Regular/Benzine 91 / Super 95 / Super E10 95 / Regular/Benzine E10 91]                                                                1\n",
       "[, Pre-registered, , Biogas]                                                                                                                     1\n",
       "[, Used, , Super E10 95 (Particulate Filter)]                                                                                                    1\n",
       "[, Pre-registered, , Regular/Benzine 91 / Super 95]                                                                                              1\n",
       "[, Used, , Regular/Benzine 91 / Super 95 / Super Plus 98 / Super Plus E10 98 / Super E10 95 / Regular/Benzine E10 91 (Particulate Filter)]       1\n",
       "[, New, , Super 95 / Biodiesel]                                                                                                                  1\n",
       "[, New, , CNG (Particulate Filter)]                                                                                                              1\n",
       "[, Pre-registered, , CNG (Particulate Filter)]                                                                                                   1\n",
       "[, Demonstration, , Super E10 95 (Particulate Filter)]                                                                                           1\n",
       "[, Used, , Super E10 95 / Regular/Benzine 91 / Super 95 / Super Plus 98 / Regular/Benzine E10 91 / Super Plus E10 98]                            1\n",
       "[, Used, , Others (Particulate Filter)]                                                                                                          1\n",
       "[, Used, , CNG (Particulate Filter)]                                                                                                             1\n",
       "[, Employee's car, , Super 95 / Super Plus 98 / Super Plus E10 98 / Super E10 95]                                                                1\n",
       "[, Used, , Regular/Benzine E10 91 / Regular/Benzine 91 / Super 95 / Super Plus 98 / Super E10 95 / Super Plus E10 98]                            1\n",
       "[, Used, , Super 95 / Regular/Benzine 91 / Super E10 95 / Super Plus E10 98 / Super Plus 98 / Regular/Benzine E10 91]                            1\n",
       "[, Used, , Regular/Benzine 91 / Super Plus 98 / Regular/Benzine E10 91 / Super 95 / Super E10 95 / Super Plus E10 98]                            1\n",
       "[, Used, , Domestic gas H]                                                                                                                       1\n",
       "[, Used, , Super Plus E10 98 / Super 95 / Super Plus 98 / Super E10 95]                                                                          1\n",
       "[, Used, , Super 95 / Regular/Benzine E10 91 / Super E10 95]                                                                                     1\n",
       "[, Pre-registered, , Regular/Benzine 91 / Super 95 / Regular/Benzine E10 91 / Super E10 95 / Super Plus 98 / Super Plus E10 98]                  1\n",
       "[, Employee's car, , Regular/Benzine 91 / Super 95 / Super E10 95]                                                                               1\n",
       "[, Used, , Regular/Benzine E10 91 / Super E10 95 / Super Plus E10 98 / Super Plus 98 / Super 95 / Regular/Benzine 91]                            1\n",
       "[, Used, , Super 95 / Regular/Benzine 91 / Super E10 95 / Super Plus E10 98 / Super Plus 98]                                                     1\n",
       "[, Employee's car, , Super E10 95 (Particulate Filter)]                                                                                          1\n",
       "[, New, , Super 95 / Regular/Benzine 91 / Super Plus 98 / Regular/Benzine E10 91 / Super Plus E10 98 / Super E10 95]                             1\n",
       "[, Pre-registered, , CNG]                                                                                                                        1\n",
       "[, Pre-registered, , Super Plus 98 / Super E10 95]                                                                                               1\n",
       "[, Demonstration, , Super Plus 98 / Super 95 / Super E10 95]                                                                                     1\n",
       "[, Pre-registered, , Regular/Benzine 91 / Super 95 / Regular/Benzine E10 91]                                                                     1\n",
       "[, New, , Super 95 / Regular/Benzine 91 / Super Plus 98 / Regular/Benzine E10 91 / Super E10 95 / Super Plus E10 98]                             1\n",
       "[, New, , Regular/Benzine 91 / Super 95 / Super Plus 98 / Regular/Benzine E10 91 / Super Plus E10 98 / Super E10 95]                             1\n",
       "[, Used, , Super 95 / Super Plus 98 / Super E10 95 / Super Plus E10 98 (Particulate Filter)]                                                     1\n",
       "[, Demonstration, , Super Plus 98]                                                                                                               1\n",
       "[, New, , Super Plus E10 98]                                                                                                                     1\n",
       "[, Demonstration, , Regular/Benzine E10 91]                                                                                                      1\n",
       "Name: Type, dtype: int64"
      ]
     },
     "execution_count": 38,
     "metadata": {},
     "output_type": "execute_result"
    }
   ],
   "source": [
    "df.Type.value_counts(dropna=False)"
   ]
  },
  {
   "cell_type": "code",
   "execution_count": 39,
   "metadata": {},
   "outputs": [
    {
     "data": {
      "text/plain": [
       "       15917\n",
       "NaN        2\n",
       "Name: Type, dtype: int64"
      ]
     },
     "execution_count": 39,
     "metadata": {},
     "output_type": "execute_result"
    }
   ],
   "source": [
    "df.Type.str[0].value_counts(dropna=False)"
   ]
  },
  {
   "cell_type": "code",
   "execution_count": 40,
   "metadata": {},
   "outputs": [
    {
     "data": {
      "text/plain": [
       "Used              11096\n",
       "New                1650\n",
       "Pre-registered     1364\n",
       "Employee's car     1011\n",
       "Demonstration       796\n",
       "NaN                   2\n",
       "Name: Type, dtype: int64"
      ]
     },
     "execution_count": 40,
     "metadata": {},
     "output_type": "execute_result"
    }
   ],
   "source": [
    "df.Type.str[1].value_counts(dropna=False)"
   ]
  },
  {
   "cell_type": "code",
   "execution_count": 41,
   "metadata": {},
   "outputs": [],
   "source": [
    "df[\"used_new\"] = df.Type.str[1]"
   ]
  },
  {
   "cell_type": "code",
   "execution_count": 42,
   "metadata": {},
   "outputs": [
    {
     "data": {
      "text/plain": [
       "       15917\n",
       "NaN        2\n",
       "Name: Type, dtype: int64"
      ]
     },
     "execution_count": 42,
     "metadata": {},
     "output_type": "execute_result"
    }
   ],
   "source": [
    "df.Type.str[2].value_counts(dropna=False)"
   ]
  },
  {
   "cell_type": "code",
   "execution_count": 43,
   "metadata": {},
   "outputs": [
    {
     "data": {
      "text/plain": [
       "Diesel (Particulate Filter)                                                                                                       4315\n",
       "Super 95                                                                                                                          3338\n",
       "Gasoline                                                                                                                          3175\n",
       "Diesel                                                                                                                            2982\n",
       "Super 95 / Regular/Benzine 91                                                                                                      424\n",
       "Regular/Benzine 91                                                                                                                 354\n",
       "Super E10 95                                                                                                                       331\n",
       "Super 95 (Particulate Filter)                                                                                                      268\n",
       "Super 95 / Super E10 95                                                                                                            131\n",
       "Regular/Benzine 91 (Particulate Filter)                                                                                            100\n",
       "Super 95 / Super Plus 98                                                                                                            85\n",
       "Gasoline (Particulate Filter)                                                                                                       77\n",
       "Super 95 / Super Plus 98 / Super E10 95 / Super Plus E10 98                                                                         40\n",
       "Super E10 95 / Super 95                                                                                                             38\n",
       "CNG                                                                                                                                 33\n",
       "Super 95 / Super E10 95 (Particulate Filter)                                                                                        25\n",
       "Super E10 95 / Super 95 / Super Plus 98 / Super Plus E10 98                                                                         19\n",
       "LPG                                                                                                                                 16\n",
       "Super 95 / Super Plus 98 (Particulate Filter)                                                                                       14\n",
       "Regular/Benzine 91 / Super 95 / Super Plus 98 / Regular/Benzine E10 91 / Super E10 95 / Super Plus E10 98                           13\n",
       "Regular/Benzine E10 91                                                                                                              11\n",
       "Liquid petroleum gas (LPG)                                                                                                          10\n",
       "Super 95 / Super Plus 98 / Super E10 95                                                                                              8\n",
       "Regular/Benzine 91 / Regular/Benzine E10 91                                                                                          7\n",
       "Super 95 / Regular/Benzine 91 / Super Plus 98 / Regular/Benzine E10 91 / Super E10 95 / Super Plus E10 98                            7\n",
       "Super Plus 98                                                                                                                        7\n",
       "Super E10 95 (Particulate Filter)                                                                                                    7\n",
       "Others                                                                                                                               5\n",
       "Super 95 / Super Plus 98 / Super Plus E10 98 / Super E10 95                                                                          5\n",
       "Regular/Benzine 91 / Super 95 / Super Plus 98 / Regular/Benzine E10 91 / Super Plus E10 98 / Super E10 95                            4\n",
       "Super E10 95 / Super Plus E10 98                                                                                                     4\n",
       "Super 95 / Super Plus 98 / Super E10 95 / Super Plus E10 98 (Particulate Filter)                                                     4\n",
       "Super 95 / Super E10 95 / Super Plus E10 98 / Super Plus 98                                                                          4\n",
       "Electric/Gasoline                                                                                                                    4\n",
       "Super E10 95 / Super 95 / Super Plus 98 / Super Plus E10 98 (Particulate Filter)                                                     3\n",
       "Super E10 95 / Super 95 / Super Plus 98                                                                                              3\n",
       "CNG (Particulate Filter)                                                                                                             3\n",
       "Regular/Benzine 91 / Super 95 / Super Plus 98 / Super Plus E10 98 / Super E10 95 / Regular/Benzine E10 91                            2\n",
       "Super 95 / Regular/Benzine 91 / Super Plus 98                                                                                        2\n",
       "NaN                                                                                                                                  2\n",
       "Super E10 95 / Regular/Benzine 91                                                                                                    2\n",
       "Regular/Benzine 91 / Super 95 / Super Plus E10 98 / Super E10 95 / Regular/Benzine E10 91 / Super Plus 98                            1\n",
       "Regular/Benzine 91 / Super 95 / Super E10 95 / Regular/Benzine E10 91                                                                1\n",
       "Super 95 / Regular/Benzine 91 / Super E10 95 / Super Plus 98 / Super Plus E10 98 / Regular/Benzine E10 91                            1\n",
       "Super E10 95 / Regular/Benzine 91 / Regular/Benzine E10 91 / Super 95                                                                1\n",
       "Super 95 / Regular/Benzine E10 91                                                                                                    1\n",
       "Electric                                                                                                                             1\n",
       "Super 95 / Super E10 95 / Super Plus E10 98                                                                                          1\n",
       "Regular/Benzine 91 / Super 95 / Super E10 95 / Super Plus E10 98 / Super Plus 98 / Regular/Benzine E10 91                            1\n",
       "Super 95 / Super Plus 98 / Super Plus E10 98                                                                                         1\n",
       "Regular/Benzine 91 / Super 95 / Super E10 95                                                                                         1\n",
       "Super 95 / Super Plus 98 / Regular/Benzine E10 91 / Super Plus E10 98 / Super E10 95 / Regular/Benzine 91                            1\n",
       "Super Plus 98 / Regular/Benzine 91                                                                                                   1\n",
       "Super 95 / Regular/Benzine 91 (Particulate Filter)                                                                                   1\n",
       "Super 95 / Super E10 95 / Regular/Benzine 91                                                                                         1\n",
       "Super 95 / Super E10 95 / Super Plus 98                                                                                              1\n",
       "Super 95 / Regular/Benzine E10 91 / Super E10 95                                                                                     1\n",
       "Regular/Benzine 91 / Super 95 / Regular/Benzine E10 91 / Super E10 95 / Super Plus 98 / Super Plus E10 98                            1\n",
       "Regular/Benzine E10 91 / Super E10 95 / Super Plus E10 98 / Super Plus 98 / Super 95 / Regular/Benzine 91                            1\n",
       "Super 95 / Regular/Benzine 91 / Super E10 95 / Super Plus E10 98 / Super Plus 98                                                     1\n",
       "Others (Particulate Filter)                                                                                                          1\n",
       "Biogas                                                                                                                               1\n",
       "Super 95 / Biodiesel                                                                                                                 1\n",
       "Regular/Benzine 91 / Super 95 / Super Plus 98 / Super Plus E10 98 / Super E10 95 / Regular/Benzine E10 91 (Particulate Filter)       1\n",
       "Regular/Benzine 91 / Super 95 / Super Plus 98                                                                                        1\n",
       "Regular/Benzine 91 / Super 95                                                                                                        1\n",
       "Regular/Benzine E10 91 / Regular/Benzine 91 / Super 95 / Super Plus 98 / Super E10 95 / Super Plus E10 98                            1\n",
       "Domestic gas H                                                                                                                       1\n",
       "Super E10 95 / Regular/Benzine 91 / Super 95 / Super Plus 98 / Regular/Benzine E10 91 / Super Plus E10 98                            1\n",
       "Super Plus E10 98 / Super 95 / Super Plus 98 / Super E10 95                                                                          1\n",
       "Super 95 / Regular/Benzine 91 / Super E10 95 / Super Plus E10 98 / Super Plus 98 / Regular/Benzine E10 91                            1\n",
       "Super Plus 98 / Super 95 / Super E10 95                                                                                              1\n",
       "Super Plus E10 98                                                                                                                    1\n",
       "Regular/Benzine 91 / Super 95 / Regular/Benzine E10 91                                                                               1\n",
       "Super Plus 98 / Super E10 95                                                                                                         1\n",
       "Super 95 / Regular/Benzine 91 / Super Plus 98 / Regular/Benzine E10 91 / Super Plus E10 98 / Super E10 95                            1\n",
       "Regular/Benzine 91 / Super Plus 98 / Regular/Benzine E10 91 / Super 95 / Super E10 95 / Super Plus E10 98                            1\n",
       "Super Plus 98 / Super 95 / Super Plus E10 98                                                                                         1\n",
       "Name: Type, dtype: int64"
      ]
     },
     "execution_count": 43,
     "metadata": {},
     "output_type": "execute_result"
    }
   ],
   "source": [
    "df.Type.str[3].value_counts(dropna=False)"
   ]
  },
  {
   "cell_type": "markdown",
   "metadata": {},
   "source": [
    "## fuel_type column is generated. "
   ]
  },
  {
   "cell_type": "code",
   "execution_count": 44,
   "metadata": {
    "scrolled": true
   },
   "outputs": [
    {
     "data": {
      "text/plain": [
       "Diesel (Particulate Filter)                                                                                                       4315\n",
       "Super 95                                                                                                                          3338\n",
       "Gasoline                                                                                                                          3175\n",
       "Diesel                                                                                                                            2982\n",
       "Super 95 / Regular/Benzine 91                                                                                                      424\n",
       "Regular/Benzine 91                                                                                                                 354\n",
       "Super E10 95                                                                                                                       331\n",
       "Super 95 (Particulate Filter)                                                                                                      268\n",
       "Super 95 / Super E10 95                                                                                                            131\n",
       "Regular/Benzine 91 (Particulate Filter)                                                                                            100\n",
       "Super 95 / Super Plus 98                                                                                                            85\n",
       "Gasoline (Particulate Filter)                                                                                                       77\n",
       "Super 95 / Super Plus 98 / Super E10 95 / Super Plus E10 98                                                                         40\n",
       "Super E10 95 / Super 95                                                                                                             38\n",
       "CNG                                                                                                                                 33\n",
       "Super 95 / Super E10 95 (Particulate Filter)                                                                                        25\n",
       "Super E10 95 / Super 95 / Super Plus 98 / Super Plus E10 98                                                                         19\n",
       "LPG                                                                                                                                 16\n",
       "Super 95 / Super Plus 98 (Particulate Filter)                                                                                       14\n",
       "Regular/Benzine 91 / Super 95 / Super Plus 98 / Regular/Benzine E10 91 / Super E10 95 / Super Plus E10 98                           13\n",
       "Regular/Benzine E10 91                                                                                                              11\n",
       "Liquid petroleum gas (LPG)                                                                                                          10\n",
       "Super 95 / Super Plus 98 / Super E10 95                                                                                              8\n",
       "Regular/Benzine 91 / Regular/Benzine E10 91                                                                                          7\n",
       "Super 95 / Regular/Benzine 91 / Super Plus 98 / Regular/Benzine E10 91 / Super E10 95 / Super Plus E10 98                            7\n",
       "Super Plus 98                                                                                                                        7\n",
       "Super E10 95 (Particulate Filter)                                                                                                    7\n",
       "Others                                                                                                                               5\n",
       "Super 95 / Super Plus 98 / Super Plus E10 98 / Super E10 95                                                                          5\n",
       "Regular/Benzine 91 / Super 95 / Super Plus 98 / Regular/Benzine E10 91 / Super Plus E10 98 / Super E10 95                            4\n",
       "Super E10 95 / Super Plus E10 98                                                                                                     4\n",
       "Super 95 / Super Plus 98 / Super E10 95 / Super Plus E10 98 (Particulate Filter)                                                     4\n",
       "Super 95 / Super E10 95 / Super Plus E10 98 / Super Plus 98                                                                          4\n",
       "Electric/Gasoline                                                                                                                    4\n",
       "Super E10 95 / Super 95 / Super Plus 98 / Super Plus E10 98 (Particulate Filter)                                                     3\n",
       "Super E10 95 / Super 95 / Super Plus 98                                                                                              3\n",
       "CNG (Particulate Filter)                                                                                                             3\n",
       "Regular/Benzine 91 / Super 95 / Super Plus 98 / Super Plus E10 98 / Super E10 95 / Regular/Benzine E10 91                            2\n",
       "Super 95 / Regular/Benzine 91 / Super Plus 98                                                                                        2\n",
       "NaN                                                                                                                                  2\n",
       "Super E10 95 / Regular/Benzine 91                                                                                                    2\n",
       "Regular/Benzine 91 / Super 95 / Super Plus E10 98 / Super E10 95 / Regular/Benzine E10 91 / Super Plus 98                            1\n",
       "Regular/Benzine 91 / Super 95 / Super E10 95 / Regular/Benzine E10 91                                                                1\n",
       "Super 95 / Regular/Benzine 91 / Super E10 95 / Super Plus 98 / Super Plus E10 98 / Regular/Benzine E10 91                            1\n",
       "Super E10 95 / Regular/Benzine 91 / Regular/Benzine E10 91 / Super 95                                                                1\n",
       "Super 95 / Regular/Benzine E10 91                                                                                                    1\n",
       "Electric                                                                                                                             1\n",
       "Super 95 / Super E10 95 / Super Plus E10 98                                                                                          1\n",
       "Regular/Benzine 91 / Super 95 / Super E10 95 / Super Plus E10 98 / Super Plus 98 / Regular/Benzine E10 91                            1\n",
       "Super 95 / Super Plus 98 / Super Plus E10 98                                                                                         1\n",
       "Regular/Benzine 91 / Super 95 / Super E10 95                                                                                         1\n",
       "Super 95 / Super Plus 98 / Regular/Benzine E10 91 / Super Plus E10 98 / Super E10 95 / Regular/Benzine 91                            1\n",
       "Super Plus 98 / Regular/Benzine 91                                                                                                   1\n",
       "Super 95 / Regular/Benzine 91 (Particulate Filter)                                                                                   1\n",
       "Super 95 / Super E10 95 / Regular/Benzine 91                                                                                         1\n",
       "Super 95 / Super E10 95 / Super Plus 98                                                                                              1\n",
       "Super 95 / Regular/Benzine E10 91 / Super E10 95                                                                                     1\n",
       "Regular/Benzine 91 / Super 95 / Regular/Benzine E10 91 / Super E10 95 / Super Plus 98 / Super Plus E10 98                            1\n",
       "Regular/Benzine E10 91 / Super E10 95 / Super Plus E10 98 / Super Plus 98 / Super 95 / Regular/Benzine 91                            1\n",
       "Super 95 / Regular/Benzine 91 / Super E10 95 / Super Plus E10 98 / Super Plus 98                                                     1\n",
       "Others (Particulate Filter)                                                                                                          1\n",
       "Biogas                                                                                                                               1\n",
       "Super 95 / Biodiesel                                                                                                                 1\n",
       "Regular/Benzine 91 / Super 95 / Super Plus 98 / Super Plus E10 98 / Super E10 95 / Regular/Benzine E10 91 (Particulate Filter)       1\n",
       "Regular/Benzine 91 / Super 95 / Super Plus 98                                                                                        1\n",
       "Regular/Benzine 91 / Super 95                                                                                                        1\n",
       "Regular/Benzine E10 91 / Regular/Benzine 91 / Super 95 / Super Plus 98 / Super E10 95 / Super Plus E10 98                            1\n",
       "Domestic gas H                                                                                                                       1\n",
       "Super E10 95 / Regular/Benzine 91 / Super 95 / Super Plus 98 / Regular/Benzine E10 91 / Super Plus E10 98                            1\n",
       "Super Plus E10 98 / Super 95 / Super Plus 98 / Super E10 95                                                                          1\n",
       "Super 95 / Regular/Benzine 91 / Super E10 95 / Super Plus E10 98 / Super Plus 98 / Regular/Benzine E10 91                            1\n",
       "Super Plus 98 / Super 95 / Super E10 95                                                                                              1\n",
       "Super Plus E10 98                                                                                                                    1\n",
       "Regular/Benzine 91 / Super 95 / Regular/Benzine E10 91                                                                               1\n",
       "Super Plus 98 / Super E10 95                                                                                                         1\n",
       "Super 95 / Regular/Benzine 91 / Super Plus 98 / Regular/Benzine E10 91 / Super Plus E10 98 / Super E10 95                            1\n",
       "Regular/Benzine 91 / Super Plus 98 / Regular/Benzine E10 91 / Super 95 / Super E10 95 / Super Plus E10 98                            1\n",
       "Super Plus 98 / Super 95 / Super Plus E10 98                                                                                         1\n",
       "Name: fuel_type, dtype: int64"
      ]
     },
     "execution_count": 44,
     "metadata": {},
     "output_type": "execute_result"
    }
   ],
   "source": [
    "df[\"fuel_type\"] = df.Type.str[3]\n",
    "df.fuel_type.value_counts(dropna=False)"
   ]
  },
  {
   "cell_type": "code",
   "execution_count": 45,
   "metadata": {},
   "outputs": [
    {
     "data": {
      "text/html": [
       "<div>\n",
       "<style scoped>\n",
       "    .dataframe tbody tr th:only-of-type {\n",
       "        vertical-align: middle;\n",
       "    }\n",
       "\n",
       "    .dataframe tbody tr th {\n",
       "        vertical-align: top;\n",
       "    }\n",
       "\n",
       "    .dataframe thead th {\n",
       "        text-align: right;\n",
       "    }\n",
       "</style>\n",
       "<table border=\"1\" class=\"dataframe\">\n",
       "  <thead>\n",
       "    <tr style=\"text-align: right;\">\n",
       "      <th></th>\n",
       "      <th>Fuel</th>\n",
       "      <th>fuel_type</th>\n",
       "    </tr>\n",
       "  </thead>\n",
       "  <tbody>\n",
       "    <tr>\n",
       "      <th>14283</th>\n",
       "      <td>[\\n, Super 95, \\n]</td>\n",
       "      <td>Super 95</td>\n",
       "    </tr>\n",
       "    <tr>\n",
       "      <th>3701</th>\n",
       "      <td>[\\n, Super 95 (Particulate Filter), \\n]</td>\n",
       "      <td>Super 95 (Particulate Filter)</td>\n",
       "    </tr>\n",
       "    <tr>\n",
       "      <th>5217</th>\n",
       "      <td>[\\n, Diesel, \\n]</td>\n",
       "      <td>Diesel</td>\n",
       "    </tr>\n",
       "    <tr>\n",
       "      <th>4216</th>\n",
       "      <td>[\\n, Super 95 / Regular/Benzine 91, \\n]</td>\n",
       "      <td>Super 95 / Regular/Benzine 91</td>\n",
       "    </tr>\n",
       "    <tr>\n",
       "      <th>12026</th>\n",
       "      <td>[\\n, Super 95, \\n]</td>\n",
       "      <td>Super 95</td>\n",
       "    </tr>\n",
       "    <tr>\n",
       "      <th>13439</th>\n",
       "      <td>[\\n, Diesel, \\n]</td>\n",
       "      <td>Diesel</td>\n",
       "    </tr>\n",
       "    <tr>\n",
       "      <th>2582</th>\n",
       "      <td>[\\n, Gasoline, \\n]</td>\n",
       "      <td>Gasoline</td>\n",
       "    </tr>\n",
       "    <tr>\n",
       "      <th>10843</th>\n",
       "      <td>[\\n, Diesel (Particulate Filter), \\n]</td>\n",
       "      <td>Diesel (Particulate Filter)</td>\n",
       "    </tr>\n",
       "    <tr>\n",
       "      <th>13628</th>\n",
       "      <td>[\\n, Diesel (Particulate Filter), \\n]</td>\n",
       "      <td>Diesel (Particulate Filter)</td>\n",
       "    </tr>\n",
       "    <tr>\n",
       "      <th>3503</th>\n",
       "      <td>[\\n, Diesel, \\n]</td>\n",
       "      <td>Diesel</td>\n",
       "    </tr>\n",
       "    <tr>\n",
       "      <th>563</th>\n",
       "      <td>[\\n, Diesel, \\n]</td>\n",
       "      <td>Diesel</td>\n",
       "    </tr>\n",
       "    <tr>\n",
       "      <th>15612</th>\n",
       "      <td>[\\n, Diesel (Particulate Filter), \\n]</td>\n",
       "      <td>Diesel (Particulate Filter)</td>\n",
       "    </tr>\n",
       "    <tr>\n",
       "      <th>9519</th>\n",
       "      <td>[\\n, Gasoline, \\n]</td>\n",
       "      <td>Gasoline</td>\n",
       "    </tr>\n",
       "    <tr>\n",
       "      <th>14382</th>\n",
       "      <td>[\\n, Diesel (Particulate Filter), \\n]</td>\n",
       "      <td>Diesel (Particulate Filter)</td>\n",
       "    </tr>\n",
       "    <tr>\n",
       "      <th>13124</th>\n",
       "      <td>[\\n, Super 95, \\n]</td>\n",
       "      <td>Super 95</td>\n",
       "    </tr>\n",
       "    <tr>\n",
       "      <th>7065</th>\n",
       "      <td>[\\n, Super 95, \\n]</td>\n",
       "      <td>Super 95</td>\n",
       "    </tr>\n",
       "    <tr>\n",
       "      <th>6292</th>\n",
       "      <td>[\\n, Diesel (Particulate Filter), \\n]</td>\n",
       "      <td>Diesel (Particulate Filter)</td>\n",
       "    </tr>\n",
       "    <tr>\n",
       "      <th>12717</th>\n",
       "      <td>[\\n, Super 95, \\n]</td>\n",
       "      <td>Super 95</td>\n",
       "    </tr>\n",
       "    <tr>\n",
       "      <th>10123</th>\n",
       "      <td>[\\n, Super 95, \\n]</td>\n",
       "      <td>Super 95</td>\n",
       "    </tr>\n",
       "    <tr>\n",
       "      <th>4597</th>\n",
       "      <td>[\\n, Diesel, \\n]</td>\n",
       "      <td>Diesel</td>\n",
       "    </tr>\n",
       "    <tr>\n",
       "      <th>2276</th>\n",
       "      <td>[\\n, Regular/Benzine 91, \\n]</td>\n",
       "      <td>Regular/Benzine 91</td>\n",
       "    </tr>\n",
       "    <tr>\n",
       "      <th>15281</th>\n",
       "      <td>[\\n, Diesel (Particulate Filter), \\n]</td>\n",
       "      <td>Diesel (Particulate Filter)</td>\n",
       "    </tr>\n",
       "    <tr>\n",
       "      <th>14047</th>\n",
       "      <td>[\\n, Super 95, \\n]</td>\n",
       "      <td>Super 95</td>\n",
       "    </tr>\n",
       "    <tr>\n",
       "      <th>6335</th>\n",
       "      <td>[\\n, Gasoline, \\n]</td>\n",
       "      <td>Gasoline</td>\n",
       "    </tr>\n",
       "    <tr>\n",
       "      <th>13534</th>\n",
       "      <td>[\\n, Diesel, \\n]</td>\n",
       "      <td>Diesel</td>\n",
       "    </tr>\n",
       "    <tr>\n",
       "      <th>9074</th>\n",
       "      <td>[\\n, Super 95, \\n]</td>\n",
       "      <td>Super 95</td>\n",
       "    </tr>\n",
       "    <tr>\n",
       "      <th>13179</th>\n",
       "      <td>[\\n, Gasoline, \\n]</td>\n",
       "      <td>Gasoline</td>\n",
       "    </tr>\n",
       "    <tr>\n",
       "      <th>4433</th>\n",
       "      <td>[\\n, Super 95, \\n]</td>\n",
       "      <td>Super 95</td>\n",
       "    </tr>\n",
       "    <tr>\n",
       "      <th>7159</th>\n",
       "      <td>[\\n, Gasoline, \\n]</td>\n",
       "      <td>Gasoline</td>\n",
       "    </tr>\n",
       "    <tr>\n",
       "      <th>12273</th>\n",
       "      <td>[\\n, Diesel (Particulate Filter), \\n]</td>\n",
       "      <td>Diesel (Particulate Filter)</td>\n",
       "    </tr>\n",
       "    <tr>\n",
       "      <th>10106</th>\n",
       "      <td>[\\n, Super 95, \\n]</td>\n",
       "      <td>Super 95</td>\n",
       "    </tr>\n",
       "    <tr>\n",
       "      <th>8055</th>\n",
       "      <td>[\\n, Regular/Benzine 91, \\n]</td>\n",
       "      <td>Regular/Benzine 91</td>\n",
       "    </tr>\n",
       "    <tr>\n",
       "      <th>8835</th>\n",
       "      <td>[\\n, Super E10 95, \\n]</td>\n",
       "      <td>Super E10 95</td>\n",
       "    </tr>\n",
       "    <tr>\n",
       "      <th>12135</th>\n",
       "      <td>[\\n, Gasoline, \\n]</td>\n",
       "      <td>Gasoline</td>\n",
       "    </tr>\n",
       "    <tr>\n",
       "      <th>14052</th>\n",
       "      <td>[\\n, Super 95, \\n]</td>\n",
       "      <td>Super 95</td>\n",
       "    </tr>\n",
       "    <tr>\n",
       "      <th>12901</th>\n",
       "      <td>[\\n, Diesel (Particulate Filter), \\n]</td>\n",
       "      <td>Diesel (Particulate Filter)</td>\n",
       "    </tr>\n",
       "    <tr>\n",
       "      <th>11809</th>\n",
       "      <td>[\\n, Diesel (Particulate Filter), \\n]</td>\n",
       "      <td>Diesel (Particulate Filter)</td>\n",
       "    </tr>\n",
       "    <tr>\n",
       "      <th>14803</th>\n",
       "      <td>[\\n, Gasoline, \\n]</td>\n",
       "      <td>Gasoline</td>\n",
       "    </tr>\n",
       "    <tr>\n",
       "      <th>1200</th>\n",
       "      <td>[\\n, Gasoline, \\n]</td>\n",
       "      <td>Gasoline</td>\n",
       "    </tr>\n",
       "    <tr>\n",
       "      <th>10247</th>\n",
       "      <td>[\\n, Super E10 95 / Super 95 / Super Plus 98 / Super Plus E10 98, \\n]</td>\n",
       "      <td>Super E10 95 / Super 95 / Super Plus 98 / Super Plus E10 98</td>\n",
       "    </tr>\n",
       "    <tr>\n",
       "      <th>10831</th>\n",
       "      <td>[\\n, Diesel, \\n]</td>\n",
       "      <td>Diesel</td>\n",
       "    </tr>\n",
       "    <tr>\n",
       "      <th>1514</th>\n",
       "      <td>[\\n, Diesel (Particulate Filter), \\n]</td>\n",
       "      <td>Diesel (Particulate Filter)</td>\n",
       "    </tr>\n",
       "    <tr>\n",
       "      <th>12257</th>\n",
       "      <td>[\\n, Diesel (Particulate Filter), \\n]</td>\n",
       "      <td>Diesel (Particulate Filter)</td>\n",
       "    </tr>\n",
       "    <tr>\n",
       "      <th>8340</th>\n",
       "      <td>[\\n, Super 95, \\n]</td>\n",
       "      <td>Super 95</td>\n",
       "    </tr>\n",
       "    <tr>\n",
       "      <th>5248</th>\n",
       "      <td>[\\n, Diesel (Particulate Filter), \\n]</td>\n",
       "      <td>Diesel (Particulate Filter)</td>\n",
       "    </tr>\n",
       "    <tr>\n",
       "      <th>15563</th>\n",
       "      <td>[\\n, Diesel (Particulate Filter), \\n]</td>\n",
       "      <td>Diesel (Particulate Filter)</td>\n",
       "    </tr>\n",
       "    <tr>\n",
       "      <th>31</th>\n",
       "      <td>[\\n, Diesel (Particulate Filter), \\n]</td>\n",
       "      <td>Diesel (Particulate Filter)</td>\n",
       "    </tr>\n",
       "    <tr>\n",
       "      <th>14858</th>\n",
       "      <td>[\\n, Super 95, \\n]</td>\n",
       "      <td>Super 95</td>\n",
       "    </tr>\n",
       "    <tr>\n",
       "      <th>14578</th>\n",
       "      <td>[\\n, Diesel, \\n]</td>\n",
       "      <td>Diesel</td>\n",
       "    </tr>\n",
       "    <tr>\n",
       "      <th>13082</th>\n",
       "      <td>[\\n, Super 95, \\n]</td>\n",
       "      <td>Super 95</td>\n",
       "    </tr>\n",
       "    <tr>\n",
       "      <th>7199</th>\n",
       "      <td>[\\n, Gasoline, \\n]</td>\n",
       "      <td>Gasoline</td>\n",
       "    </tr>\n",
       "    <tr>\n",
       "      <th>890</th>\n",
       "      <td>[\\n, Diesel, \\n]</td>\n",
       "      <td>Diesel</td>\n",
       "    </tr>\n",
       "    <tr>\n",
       "      <th>14400</th>\n",
       "      <td>[\\n, Super 95, \\n]</td>\n",
       "      <td>Super 95</td>\n",
       "    </tr>\n",
       "    <tr>\n",
       "      <th>10985</th>\n",
       "      <td>[\\n, Diesel, \\n]</td>\n",
       "      <td>Diesel</td>\n",
       "    </tr>\n",
       "    <tr>\n",
       "      <th>3536</th>\n",
       "      <td>[\\n, Diesel (Particulate Filter), \\n]</td>\n",
       "      <td>Diesel (Particulate Filter)</td>\n",
       "    </tr>\n",
       "    <tr>\n",
       "      <th>5773</th>\n",
       "      <td>[\\n, Super 95, \\n]</td>\n",
       "      <td>Super 95</td>\n",
       "    </tr>\n",
       "    <tr>\n",
       "      <th>6960</th>\n",
       "      <td>[\\n, Diesel (Particulate Filter), \\n]</td>\n",
       "      <td>Diesel (Particulate Filter)</td>\n",
       "    </tr>\n",
       "    <tr>\n",
       "      <th>14055</th>\n",
       "      <td>[\\n, Super 95, \\n]</td>\n",
       "      <td>Super 95</td>\n",
       "    </tr>\n",
       "    <tr>\n",
       "      <th>1486</th>\n",
       "      <td>[\\n, Diesel, \\n]</td>\n",
       "      <td>Diesel</td>\n",
       "    </tr>\n",
       "    <tr>\n",
       "      <th>14532</th>\n",
       "      <td>[\\n, Diesel, \\n]</td>\n",
       "      <td>Diesel</td>\n",
       "    </tr>\n",
       "    <tr>\n",
       "      <th>5500</th>\n",
       "      <td>[\\n, Super 95, \\n]</td>\n",
       "      <td>Super 95</td>\n",
       "    </tr>\n",
       "    <tr>\n",
       "      <th>5471</th>\n",
       "      <td>[\\n, Gasoline, \\n]</td>\n",
       "      <td>Gasoline</td>\n",
       "    </tr>\n",
       "    <tr>\n",
       "      <th>5097</th>\n",
       "      <td>[\\n, Gasoline, \\n]</td>\n",
       "      <td>Gasoline</td>\n",
       "    </tr>\n",
       "    <tr>\n",
       "      <th>14388</th>\n",
       "      <td>[\\n, Gasoline, \\n]</td>\n",
       "      <td>Gasoline</td>\n",
       "    </tr>\n",
       "    <tr>\n",
       "      <th>7657</th>\n",
       "      <td>[\\n, Super 95, \\n]</td>\n",
       "      <td>Super 95</td>\n",
       "    </tr>\n",
       "    <tr>\n",
       "      <th>6628</th>\n",
       "      <td>[\\n, Diesel (Particulate Filter), \\n]</td>\n",
       "      <td>Diesel (Particulate Filter)</td>\n",
       "    </tr>\n",
       "    <tr>\n",
       "      <th>15719</th>\n",
       "      <td>[\\n, Super 95, \\n]</td>\n",
       "      <td>Super 95</td>\n",
       "    </tr>\n",
       "    <tr>\n",
       "      <th>4089</th>\n",
       "      <td>[\\n, Diesel, \\n]</td>\n",
       "      <td>Diesel</td>\n",
       "    </tr>\n",
       "    <tr>\n",
       "      <th>4685</th>\n",
       "      <td>[\\n, Diesel (Particulate Filter), \\n]</td>\n",
       "      <td>Diesel (Particulate Filter)</td>\n",
       "    </tr>\n",
       "    <tr>\n",
       "      <th>13568</th>\n",
       "      <td>[\\n, Super 95, \\n]</td>\n",
       "      <td>Super 95</td>\n",
       "    </tr>\n",
       "    <tr>\n",
       "      <th>380</th>\n",
       "      <td>[\\n, Super 95, \\n]</td>\n",
       "      <td>Super 95</td>\n",
       "    </tr>\n",
       "    <tr>\n",
       "      <th>12314</th>\n",
       "      <td>[\\n, Diesel, \\n]</td>\n",
       "      <td>Diesel</td>\n",
       "    </tr>\n",
       "    <tr>\n",
       "      <th>4097</th>\n",
       "      <td>[\\n, Diesel (Particulate Filter), \\n]</td>\n",
       "      <td>Diesel (Particulate Filter)</td>\n",
       "    </tr>\n",
       "    <tr>\n",
       "      <th>10306</th>\n",
       "      <td>[\\n, Gasoline, \\n]</td>\n",
       "      <td>Gasoline</td>\n",
       "    </tr>\n",
       "    <tr>\n",
       "      <th>294</th>\n",
       "      <td>[\\n, Diesel (Particulate Filter), \\n]</td>\n",
       "      <td>Diesel (Particulate Filter)</td>\n",
       "    </tr>\n",
       "    <tr>\n",
       "      <th>11823</th>\n",
       "      <td>[\\n, Diesel (Particulate Filter), \\n]</td>\n",
       "      <td>Diesel (Particulate Filter)</td>\n",
       "    </tr>\n",
       "    <tr>\n",
       "      <th>8541</th>\n",
       "      <td>[\\n, Super 95, \\n]</td>\n",
       "      <td>Super 95</td>\n",
       "    </tr>\n",
       "    <tr>\n",
       "      <th>14692</th>\n",
       "      <td>[\\n, Super 95, \\n]</td>\n",
       "      <td>Super 95</td>\n",
       "    </tr>\n",
       "    <tr>\n",
       "      <th>7795</th>\n",
       "      <td>[\\n, Super 95 (Particulate Filter), \\n]</td>\n",
       "      <td>Super 95 (Particulate Filter)</td>\n",
       "    </tr>\n",
       "    <tr>\n",
       "      <th>6267</th>\n",
       "      <td>[\\n, Diesel, \\n]</td>\n",
       "      <td>Diesel</td>\n",
       "    </tr>\n",
       "    <tr>\n",
       "      <th>262</th>\n",
       "      <td>[\\n, Diesel, \\n]</td>\n",
       "      <td>Diesel</td>\n",
       "    </tr>\n",
       "    <tr>\n",
       "      <th>10711</th>\n",
       "      <td>[\\n, Diesel (Particulate Filter), \\n]</td>\n",
       "      <td>Diesel (Particulate Filter)</td>\n",
       "    </tr>\n",
       "    <tr>\n",
       "      <th>4415</th>\n",
       "      <td>[\\n, Diesel, \\n]</td>\n",
       "      <td>Diesel</td>\n",
       "    </tr>\n",
       "    <tr>\n",
       "      <th>8415</th>\n",
       "      <td>[\\n, Super 95, \\n]</td>\n",
       "      <td>Super 95</td>\n",
       "    </tr>\n",
       "    <tr>\n",
       "      <th>13892</th>\n",
       "      <td>[\\n, Diesel (Particulate Filter), \\n]</td>\n",
       "      <td>Diesel (Particulate Filter)</td>\n",
       "    </tr>\n",
       "    <tr>\n",
       "      <th>8715</th>\n",
       "      <td>[\\n, Gasoline, \\n]</td>\n",
       "      <td>Gasoline</td>\n",
       "    </tr>\n",
       "    <tr>\n",
       "      <th>5977</th>\n",
       "      <td>[\\n, Super 95, \\n]</td>\n",
       "      <td>Super 95</td>\n",
       "    </tr>\n",
       "    <tr>\n",
       "      <th>14296</th>\n",
       "      <td>[\\n, Gasoline, \\n]</td>\n",
       "      <td>Gasoline</td>\n",
       "    </tr>\n",
       "    <tr>\n",
       "      <th>826</th>\n",
       "      <td>[\\n, Diesel (Particulate Filter), \\n]</td>\n",
       "      <td>Diesel (Particulate Filter)</td>\n",
       "    </tr>\n",
       "    <tr>\n",
       "      <th>10081</th>\n",
       "      <td>[\\n, Super 95, \\n]</td>\n",
       "      <td>Super 95</td>\n",
       "    </tr>\n",
       "    <tr>\n",
       "      <th>4430</th>\n",
       "      <td>[\\n, Super 95, \\n]</td>\n",
       "      <td>Super 95</td>\n",
       "    </tr>\n",
       "    <tr>\n",
       "      <th>9646</th>\n",
       "      <td>[\\n, Super 95 / Regular/Benzine 91, \\n]</td>\n",
       "      <td>Super 95 / Regular/Benzine 91</td>\n",
       "    </tr>\n",
       "    <tr>\n",
       "      <th>5393</th>\n",
       "      <td>[\\n, Diesel, \\n]</td>\n",
       "      <td>Diesel</td>\n",
       "    </tr>\n",
       "    <tr>\n",
       "      <th>12636</th>\n",
       "      <td>[\\n, Diesel (Particulate Filter), \\n]</td>\n",
       "      <td>Diesel (Particulate Filter)</td>\n",
       "    </tr>\n",
       "    <tr>\n",
       "      <th>6262</th>\n",
       "      <td>[\\n, Diesel (Particulate Filter), \\n]</td>\n",
       "      <td>Diesel (Particulate Filter)</td>\n",
       "    </tr>\n",
       "    <tr>\n",
       "      <th>13825</th>\n",
       "      <td>[\\n, Diesel, \\n]</td>\n",
       "      <td>Diesel</td>\n",
       "    </tr>\n",
       "    <tr>\n",
       "      <th>7346</th>\n",
       "      <td>[\\n, Diesel (Particulate Filter), \\n]</td>\n",
       "      <td>Diesel (Particulate Filter)</td>\n",
       "    </tr>\n",
       "    <tr>\n",
       "      <th>13735</th>\n",
       "      <td>[\\n, Diesel (Particulate Filter), \\n]</td>\n",
       "      <td>Diesel (Particulate Filter)</td>\n",
       "    </tr>\n",
       "    <tr>\n",
       "      <th>4763</th>\n",
       "      <td>[\\n, Diesel, \\n]</td>\n",
       "      <td>Diesel</td>\n",
       "    </tr>\n",
       "    <tr>\n",
       "      <th>3219</th>\n",
       "      <td>[\\n, Diesel, \\n]</td>\n",
       "      <td>Diesel</td>\n",
       "    </tr>\n",
       "  </tbody>\n",
       "</table>\n",
       "</div>"
      ],
      "text/plain": [
       "                                                                        Fuel                                                    fuel_type\n",
       "14283                                                     [\\n, Super 95, \\n]                                                     Super 95\n",
       "3701                                 [\\n, Super 95 (Particulate Filter), \\n]                                Super 95 (Particulate Filter)\n",
       "5217                                                        [\\n, Diesel, \\n]                                                       Diesel\n",
       "4216                                 [\\n, Super 95 / Regular/Benzine 91, \\n]                                Super 95 / Regular/Benzine 91\n",
       "12026                                                     [\\n, Super 95, \\n]                                                     Super 95\n",
       "13439                                                       [\\n, Diesel, \\n]                                                       Diesel\n",
       "2582                                                      [\\n, Gasoline, \\n]                                                     Gasoline\n",
       "10843                                  [\\n, Diesel (Particulate Filter), \\n]                                  Diesel (Particulate Filter)\n",
       "13628                                  [\\n, Diesel (Particulate Filter), \\n]                                  Diesel (Particulate Filter)\n",
       "3503                                                        [\\n, Diesel, \\n]                                                       Diesel\n",
       "563                                                         [\\n, Diesel, \\n]                                                       Diesel\n",
       "15612                                  [\\n, Diesel (Particulate Filter), \\n]                                  Diesel (Particulate Filter)\n",
       "9519                                                      [\\n, Gasoline, \\n]                                                     Gasoline\n",
       "14382                                  [\\n, Diesel (Particulate Filter), \\n]                                  Diesel (Particulate Filter)\n",
       "13124                                                     [\\n, Super 95, \\n]                                                     Super 95\n",
       "7065                                                      [\\n, Super 95, \\n]                                                     Super 95\n",
       "6292                                   [\\n, Diesel (Particulate Filter), \\n]                                  Diesel (Particulate Filter)\n",
       "12717                                                     [\\n, Super 95, \\n]                                                     Super 95\n",
       "10123                                                     [\\n, Super 95, \\n]                                                     Super 95\n",
       "4597                                                        [\\n, Diesel, \\n]                                                       Diesel\n",
       "2276                                            [\\n, Regular/Benzine 91, \\n]                                           Regular/Benzine 91\n",
       "15281                                  [\\n, Diesel (Particulate Filter), \\n]                                  Diesel (Particulate Filter)\n",
       "14047                                                     [\\n, Super 95, \\n]                                                     Super 95\n",
       "6335                                                      [\\n, Gasoline, \\n]                                                     Gasoline\n",
       "13534                                                       [\\n, Diesel, \\n]                                                       Diesel\n",
       "9074                                                      [\\n, Super 95, \\n]                                                     Super 95\n",
       "13179                                                     [\\n, Gasoline, \\n]                                                     Gasoline\n",
       "4433                                                      [\\n, Super 95, \\n]                                                     Super 95\n",
       "7159                                                      [\\n, Gasoline, \\n]                                                     Gasoline\n",
       "12273                                  [\\n, Diesel (Particulate Filter), \\n]                                  Diesel (Particulate Filter)\n",
       "10106                                                     [\\n, Super 95, \\n]                                                     Super 95\n",
       "8055                                            [\\n, Regular/Benzine 91, \\n]                                           Regular/Benzine 91\n",
       "8835                                                  [\\n, Super E10 95, \\n]                                                 Super E10 95\n",
       "12135                                                     [\\n, Gasoline, \\n]                                                     Gasoline\n",
       "14052                                                     [\\n, Super 95, \\n]                                                     Super 95\n",
       "12901                                  [\\n, Diesel (Particulate Filter), \\n]                                  Diesel (Particulate Filter)\n",
       "11809                                  [\\n, Diesel (Particulate Filter), \\n]                                  Diesel (Particulate Filter)\n",
       "14803                                                     [\\n, Gasoline, \\n]                                                     Gasoline\n",
       "1200                                                      [\\n, Gasoline, \\n]                                                     Gasoline\n",
       "10247  [\\n, Super E10 95 / Super 95 / Super Plus 98 / Super Plus E10 98, \\n]  Super E10 95 / Super 95 / Super Plus 98 / Super Plus E10 98\n",
       "10831                                                       [\\n, Diesel, \\n]                                                       Diesel\n",
       "1514                                   [\\n, Diesel (Particulate Filter), \\n]                                  Diesel (Particulate Filter)\n",
       "12257                                  [\\n, Diesel (Particulate Filter), \\n]                                  Diesel (Particulate Filter)\n",
       "8340                                                      [\\n, Super 95, \\n]                                                     Super 95\n",
       "5248                                   [\\n, Diesel (Particulate Filter), \\n]                                  Diesel (Particulate Filter)\n",
       "15563                                  [\\n, Diesel (Particulate Filter), \\n]                                  Diesel (Particulate Filter)\n",
       "31                                     [\\n, Diesel (Particulate Filter), \\n]                                  Diesel (Particulate Filter)\n",
       "14858                                                     [\\n, Super 95, \\n]                                                     Super 95\n",
       "14578                                                       [\\n, Diesel, \\n]                                                       Diesel\n",
       "13082                                                     [\\n, Super 95, \\n]                                                     Super 95\n",
       "7199                                                      [\\n, Gasoline, \\n]                                                     Gasoline\n",
       "890                                                         [\\n, Diesel, \\n]                                                       Diesel\n",
       "14400                                                     [\\n, Super 95, \\n]                                                     Super 95\n",
       "10985                                                       [\\n, Diesel, \\n]                                                       Diesel\n",
       "3536                                   [\\n, Diesel (Particulate Filter), \\n]                                  Diesel (Particulate Filter)\n",
       "5773                                                      [\\n, Super 95, \\n]                                                     Super 95\n",
       "6960                                   [\\n, Diesel (Particulate Filter), \\n]                                  Diesel (Particulate Filter)\n",
       "14055                                                     [\\n, Super 95, \\n]                                                     Super 95\n",
       "1486                                                        [\\n, Diesel, \\n]                                                       Diesel\n",
       "14532                                                       [\\n, Diesel, \\n]                                                       Diesel\n",
       "5500                                                      [\\n, Super 95, \\n]                                                     Super 95\n",
       "5471                                                      [\\n, Gasoline, \\n]                                                     Gasoline\n",
       "5097                                                      [\\n, Gasoline, \\n]                                                     Gasoline\n",
       "14388                                                     [\\n, Gasoline, \\n]                                                     Gasoline\n",
       "7657                                                      [\\n, Super 95, \\n]                                                     Super 95\n",
       "6628                                   [\\n, Diesel (Particulate Filter), \\n]                                  Diesel (Particulate Filter)\n",
       "15719                                                     [\\n, Super 95, \\n]                                                     Super 95\n",
       "4089                                                        [\\n, Diesel, \\n]                                                       Diesel\n",
       "4685                                   [\\n, Diesel (Particulate Filter), \\n]                                  Diesel (Particulate Filter)\n",
       "13568                                                     [\\n, Super 95, \\n]                                                     Super 95\n",
       "380                                                       [\\n, Super 95, \\n]                                                     Super 95\n",
       "12314                                                       [\\n, Diesel, \\n]                                                       Diesel\n",
       "4097                                   [\\n, Diesel (Particulate Filter), \\n]                                  Diesel (Particulate Filter)\n",
       "10306                                                     [\\n, Gasoline, \\n]                                                     Gasoline\n",
       "294                                    [\\n, Diesel (Particulate Filter), \\n]                                  Diesel (Particulate Filter)\n",
       "11823                                  [\\n, Diesel (Particulate Filter), \\n]                                  Diesel (Particulate Filter)\n",
       "8541                                                      [\\n, Super 95, \\n]                                                     Super 95\n",
       "14692                                                     [\\n, Super 95, \\n]                                                     Super 95\n",
       "7795                                 [\\n, Super 95 (Particulate Filter), \\n]                                Super 95 (Particulate Filter)\n",
       "6267                                                        [\\n, Diesel, \\n]                                                       Diesel\n",
       "262                                                         [\\n, Diesel, \\n]                                                       Diesel\n",
       "10711                                  [\\n, Diesel (Particulate Filter), \\n]                                  Diesel (Particulate Filter)\n",
       "4415                                                        [\\n, Diesel, \\n]                                                       Diesel\n",
       "8415                                                      [\\n, Super 95, \\n]                                                     Super 95\n",
       "13892                                  [\\n, Diesel (Particulate Filter), \\n]                                  Diesel (Particulate Filter)\n",
       "8715                                                      [\\n, Gasoline, \\n]                                                     Gasoline\n",
       "5977                                                      [\\n, Super 95, \\n]                                                     Super 95\n",
       "14296                                                     [\\n, Gasoline, \\n]                                                     Gasoline\n",
       "826                                    [\\n, Diesel (Particulate Filter), \\n]                                  Diesel (Particulate Filter)\n",
       "10081                                                     [\\n, Super 95, \\n]                                                     Super 95\n",
       "4430                                                      [\\n, Super 95, \\n]                                                     Super 95\n",
       "9646                                 [\\n, Super 95 / Regular/Benzine 91, \\n]                                Super 95 / Regular/Benzine 91\n",
       "5393                                                        [\\n, Diesel, \\n]                                                       Diesel\n",
       "12636                                  [\\n, Diesel (Particulate Filter), \\n]                                  Diesel (Particulate Filter)\n",
       "6262                                   [\\n, Diesel (Particulate Filter), \\n]                                  Diesel (Particulate Filter)\n",
       "13825                                                       [\\n, Diesel, \\n]                                                       Diesel\n",
       "7346                                   [\\n, Diesel (Particulate Filter), \\n]                                  Diesel (Particulate Filter)\n",
       "13735                                  [\\n, Diesel (Particulate Filter), \\n]                                  Diesel (Particulate Filter)\n",
       "4763                                                        [\\n, Diesel, \\n]                                                       Diesel\n",
       "3219                                                        [\\n, Diesel, \\n]                                                       Diesel"
      ]
     },
     "execution_count": 45,
     "metadata": {},
     "output_type": "execute_result"
    }
   ],
   "source": [
    "df[[\"Fuel\", \"fuel_type\"]].sample(100) ## they have the same values. Fuel will be dropped."
   ]
  },
  {
   "cell_type": "code",
   "execution_count": 46,
   "metadata": {},
   "outputs": [],
   "source": [
    "df.drop(columns=\"Fuel\", inplace=True)"
   ]
  },
  {
   "cell_type": "code",
   "execution_count": 47,
   "metadata": {},
   "outputs": [
    {
     "data": {
      "text/plain": [
       "NaN    15919\n",
       "Name: Type, dtype: int64"
      ]
     },
     "execution_count": 47,
     "metadata": {},
     "output_type": "execute_result"
    }
   ],
   "source": [
    "df.Type.str[4].value_counts(dropna=False)"
   ]
  },
  {
   "cell_type": "code",
   "execution_count": 48,
   "metadata": {},
   "outputs": [
    {
     "data": {
      "text/plain": [
       "Index(['make_model', 'short_description', 'body_type', 'price', 'vat', 'km', 'registration', 'prev_owner', 'Type', 'Previous Owners', 'Next Inspection', 'Inspection new', 'Warranty', 'Full Service', 'Non-smoking Vehicle', 'null', 'Offer Number', 'Body Color', 'Paint Type', 'Body Color Original', 'Upholstery', 'Body', 'Nr. of Doors', 'Nr. of Seats', 'Model Code', 'Gearing Type', 'Displacement', 'Cylinders', 'Weight', 'Drive chain', 'Consumption', 'CO2 Emission', 'Emission Class', '\\nComfort & Convenience\\n', '\\nEntertainment & Media\\n', '\\nExtras\\n', '\\nSafety & Security\\n', 'description', 'Emission Label', 'Gears', 'Country version', 'make', 'hp_kW', 'used_new', 'fuel_type'], dtype='object')"
      ]
     },
     "execution_count": 48,
     "metadata": {},
     "output_type": "execute_result"
    }
   ],
   "source": [
    "df.columns"
   ]
  },
  {
   "cell_type": "code",
   "execution_count": 49,
   "metadata": {},
   "outputs": [],
   "source": [
    "df.drop(columns=\"Type\", inplace=True)"
   ]
  },
  {
   "cell_type": "markdown",
   "metadata": {},
   "source": [
    "## null "
   ]
  },
  {
   "cell_type": "code",
   "execution_count": 50,
   "metadata": {},
   "outputs": [
    {
     "ename": "TypeError",
     "evalue": "unhashable type: 'list'",
     "output_type": "error",
     "traceback": [
      "\u001b[0;31m---------------------------------------------------------------------------\u001b[0m",
      "\u001b[0;31mTypeError\u001b[0m                                 Traceback (most recent call last)",
      "\u001b[0;32mpandas/_libs/hashtable_class_helper.pxi\u001b[0m in \u001b[0;36mpandas._libs.hashtable.PyObjectHashTable.map_locations\u001b[0;34m()\u001b[0m\n",
      "\u001b[0;31mTypeError\u001b[0m: unhashable type: 'list'"
     ]
    },
    {
     "name": "stderr",
     "output_type": "stream",
     "text": [
      "Exception ignored in: 'pandas._libs.index.IndexEngine._call_map_locations'\n",
      "Traceback (most recent call last):\n",
      "  File \"pandas/_libs/hashtable_class_helper.pxi\", line 5231, in pandas._libs.hashtable.PyObjectHashTable.map_locations\n",
      "TypeError: unhashable type: 'list'\n"
     ]
    },
    {
     "data": {
      "text/plain": [
       "[]    15919\n",
       "Name: null, dtype: int64"
      ]
     },
     "execution_count": 50,
     "metadata": {},
     "output_type": "execute_result"
    }
   ],
   "source": [
    "df.null.value_counts(dropna=False)"
   ]
  },
  {
   "cell_type": "code",
   "execution_count": 51,
   "metadata": {},
   "outputs": [],
   "source": [
    "df.drop(columns=\"null\", inplace=True)"
   ]
  },
  {
   "cell_type": "markdown",
   "metadata": {},
   "source": [
    "## Offer Number"
   ]
  },
  {
   "cell_type": "code",
   "execution_count": 52,
   "metadata": {},
   "outputs": [
    {
     "ename": "TypeError",
     "evalue": "unhashable type: 'list'",
     "output_type": "error",
     "traceback": [
      "\u001b[0;31m---------------------------------------------------------------------------\u001b[0m",
      "\u001b[0;31mTypeError\u001b[0m                                 Traceback (most recent call last)",
      "\u001b[0;32mpandas/_libs/hashtable_class_helper.pxi\u001b[0m in \u001b[0;36mpandas._libs.hashtable.PyObjectHashTable.map_locations\u001b[0;34m()\u001b[0m\n",
      "\u001b[0;31mTypeError\u001b[0m: unhashable type: 'list'"
     ]
    },
    {
     "name": "stderr",
     "output_type": "stream",
     "text": [
      "Exception ignored in: 'pandas._libs.index.IndexEngine._call_map_locations'\n",
      "Traceback (most recent call last):\n",
      "  File \"pandas/_libs/hashtable_class_helper.pxi\", line 5231, in pandas._libs.hashtable.PyObjectHashTable.map_locations\n",
      "TypeError: unhashable type: 'list'\n"
     ]
    },
    {
     "data": {
      "text/plain": [
       "NaN                                               3175\n",
       "[\\nLT67679\\n]                                       27\n",
       "[\\nUN89904\\n]                                       27\n",
       "[\\nXJ38068\\n]                                       27\n",
       "[\\nJV03654\\n]                                       27\n",
       "                                                  ... \n",
       "[\\n160_dcbb6c3e-a6da-43a3-8754-ccd994cec93b\\n]       1\n",
       "[\\n6701576\\n]                                        1\n",
       "[\\n6701569\\n]                                        1\n",
       "[\\n158121\\n]                                         1\n",
       "[\\nRe_30000008029\\n]                                 1\n",
       "Name: Offer Number, Length: 11441, dtype: int64"
      ]
     },
     "execution_count": 52,
     "metadata": {},
     "output_type": "execute_result"
    }
   ],
   "source": [
    "df[\"Offer Number\"].value_counts(dropna=False)"
   ]
  },
  {
   "cell_type": "code",
   "execution_count": 53,
   "metadata": {},
   "outputs": [
    {
     "data": {
      "text/plain": [
       "NaN                                         3175\n",
       "LT67679                                       27\n",
       "UN89904                                       27\n",
       "XJ38068                                       27\n",
       "JV03654                                       27\n",
       "                                            ... \n",
       "160_dcbb6c3e-a6da-43a3-8754-ccd994cec93b       1\n",
       "6701576                                        1\n",
       "6701569                                        1\n",
       "158121                                         1\n",
       "Re_30000008029                                 1\n",
       "Name: Offer Number, Length: 11441, dtype: int64"
      ]
     },
     "execution_count": 53,
     "metadata": {},
     "output_type": "execute_result"
    }
   ],
   "source": [
    "df[\"Offer Number\"].str[0].str.strip().value_counts(dropna=False)"
   ]
  },
  {
   "cell_type": "code",
   "execution_count": 54,
   "metadata": {},
   "outputs": [
    {
     "data": {
      "text/plain": [
       "0             LR-062483\n",
       "1                   NaN\n",
       "2              AM-95365\n",
       "3                   NaN\n",
       "4                 C1626\n",
       "              ...      \n",
       "15914          10988301\n",
       "15915       507370_3223\n",
       "15916          Espace16\n",
       "15917           2691331\n",
       "15918    Re_30000008029\n",
       "Name: Offer Number, Length: 15919, dtype: object"
      ]
     },
     "execution_count": 54,
     "metadata": {},
     "output_type": "execute_result"
    }
   ],
   "source": [
    "df[\"Offer Number\"].str[0].str.strip()"
   ]
  },
  {
   "cell_type": "code",
   "execution_count": 55,
   "metadata": {
    "scrolled": true
   },
   "outputs": [
    {
     "data": {
      "text/plain": [
       "7835                                       [\\n2266045\\n]\n",
       "14646                                    [\\n10-900059\\n]\n",
       "132                                                  NaN\n",
       "6079                                                 NaN\n",
       "4094                                        [\\n480103\\n]\n",
       "168                                                  NaN\n",
       "10516                                        [\\n29444\\n]\n",
       "12685                                     [\\n11573931\\n]\n",
       "4129                                         [\\n11857\\n]\n",
       "2550                                     [\\nAUIN90409\\n]\n",
       "14571                                       [\\nRC200G\\n]\n",
       "755                                                  NaN\n",
       "13033                                       [\\nXN063K\\n]\n",
       "11530                                                NaN\n",
       "3579                                       [\\n4513861\\n]\n",
       "12753                                     [\\n0078vxz2\\n]\n",
       "11325                                [\\n0519-H1071950\\n]\n",
       "9222                                       [\\n2811647\\n]\n",
       "2925                                       [\\n5600059\\n]\n",
       "3646                                                 NaN\n",
       "15286                                 [\\nren_41_19561\\n]\n",
       "15559                                         [\\n9929\\n]\n",
       "9464                                                 NaN\n",
       "12909                                                NaN\n",
       "14524                                     [\\nVO809321\\n]\n",
       "14489                                    [\\nD9_562549\\n]\n",
       "9066                               [\\nBDK263-G4212268\\n]\n",
       "67       [\\n2605_364fb191-3033-4835-b957-d3e28ebb4866\\n]\n",
       "3872                                       [\\nU_22276\\n]\n",
       "1132                                     [\\n86G-57670\\n]\n",
       "1889                                       [\\nA-F1189\\n]\n",
       "3391                                                 NaN\n",
       "4852                                            [\\n80\\n]\n",
       "3134                                                 NaN\n",
       "3207                                       [\\n3240JPF\\n]\n",
       "8358                                    [\\njd11112756\\n]\n",
       "8680                                      [\\nG6106144\\n]\n",
       "2631                                    [\\nAN27990177\\n]\n",
       "4927                                     [\\nHWI-AW070\\n]\n",
       "889                                        [\\n4800053\\n]\n",
       "1019                                         [\\n3127M\\n]\n",
       "10779                             [\\n430_435_3881_298\\n]\n",
       "96                                         [\\nU_17883\\n]\n",
       "2454                                        [\\n512067\\n]\n",
       "323                                       [\\nGW103265\\n]\n",
       "11268                                      [\\n4920KCT\\n]\n",
       "405                                    [\\nM-1310-NA25\\n]\n",
       "7558                                          [\\n2346\\n]\n",
       "8470                                     [\\nJB 153 JO\\n]\n",
       "1664                                                 NaN\n",
       "8749                                        [\\n223714\\n]\n",
       "4821                                        [\\n037330\\n]\n",
       "7732                                        [\\n70555C\\n]\n",
       "4755                                      [\\n11651638\\n]\n",
       "5357                                     [\\n230-12571\\n]\n",
       "49                                        [\\n154-0307\\n]\n",
       "6990                              [\\n883_413_1253_132\\n]\n",
       "12964                                      [\\n1853826\\n]\n",
       "11745                                       [\\n318658\\n]\n",
       "9965                                      [\\nK4270718\\n]\n",
       "11652                                                NaN\n",
       "14592                                    [\\ngw_nr_114\\n]\n",
       "12999                                        [\\n71258\\n]\n",
       "3761                                       [\\n1749205\\n]\n",
       "7080                                      [\\nJ8037856\\n]\n",
       "2578                                  [\\n5146284677NW\\n]\n",
       "14387                                      [\\nUN89904\\n]\n",
       "15095                                                NaN\n",
       "15229                                      [\\n4981515\\n]\n",
       "11165                                      [\\n5017579\\n]\n",
       "2670                                      [\\n543 - AU\\n]\n",
       "2669                                        [\\nNG587D\\n]\n",
       "553                                         [\\n078976\\n]\n",
       "6068                                         [\\n34JNR\\n]\n",
       "1947                                         [\\n62545\\n]\n",
       "10351                                      [\\n2671683\\n]\n",
       "14403                                   [\\nD9_6065PR8\\n]\n",
       "7683                                       [\\nLUK 135\\n]\n",
       "6481                                  [\\nBDK-G8043349\\n]\n",
       "13131                                       [\\nBCAM14\\n]\n",
       "6495                                                 NaN\n",
       "10058                                 [\\nBUCH19065178\\n]\n",
       "1643                                       [\\nAKT5419\\n]\n",
       "5376                                         [\\n77995\\n]\n",
       "14131                                     [\\nVO003114\\n]\n",
       "11182                                      [\\n4801825\\n]\n",
       "3699                                      [\\n11649647\\n]\n",
       "12123                                                NaN\n",
       "13457                                      [\\nHM53619\\n]\n",
       "13062                                                NaN\n",
       "9638                                   [\\nBUCHHB66925\\n]\n",
       "4383                                        [\\n145353\\n]\n",
       "13157                                     [\\n55893538\\n]\n",
       "4764                                        [\\n512222\\n]\n",
       "14165                                     [\\n11480133\\n]\n",
       "11022                                       [\\n225826\\n]\n",
       "11026                                       [\\n226936\\n]\n",
       "12425                             [\\n2002144 D_315029\\n]\n",
       "12822                                                NaN\n",
       "3043                                          [\\n4483\\n]\n",
       "Name: Offer Number, dtype: object"
      ]
     },
     "execution_count": 55,
     "metadata": {},
     "output_type": "execute_result"
    }
   ],
   "source": [
    "df[\"Offer Number\"].sample(100)"
   ]
  },
  {
   "cell_type": "code",
   "execution_count": 56,
   "metadata": {},
   "outputs": [],
   "source": [
    "# not usefull also we can not use it as index because there is many null values.\n",
    "df.drop(columns=[\"Offer Number\"] , inplace=True)"
   ]
  },
  {
   "cell_type": "code",
   "execution_count": 57,
   "metadata": {
    "scrolled": true
   },
   "outputs": [
    {
     "data": {
      "text/plain": [
       "Index(['make_model', 'short_description', 'body_type', 'price', 'vat', 'km', 'registration', 'prev_owner', 'Previous Owners', 'Next Inspection', 'Inspection new', 'Warranty', 'Full Service', 'Non-smoking Vehicle', 'Body Color', 'Paint Type', 'Body Color Original', 'Upholstery', 'Body', 'Nr. of Doors', 'Nr. of Seats', 'Model Code', 'Gearing Type', 'Displacement', 'Cylinders', 'Weight', 'Drive chain', 'Consumption', 'CO2 Emission', 'Emission Class', '\\nComfort & Convenience\\n', '\\nEntertainment & Media\\n', '\\nExtras\\n', '\\nSafety & Security\\n', 'description', 'Emission Label', 'Gears', 'Country version', 'make', 'hp_kW', 'used_new', 'fuel_type'], dtype='object')"
      ]
     },
     "execution_count": 57,
     "metadata": {},
     "output_type": "execute_result"
    }
   ],
   "source": [
    "df.columns"
   ]
  },
  {
   "cell_type": "markdown",
   "metadata": {},
   "source": [
    "## Body color"
   ]
  },
  {
   "cell_type": "code",
   "execution_count": 58,
   "metadata": {},
   "outputs": [
    {
     "data": {
      "text/plain": [
       "Black     3745\n",
       "Grey      3505\n",
       "White     3406\n",
       "Silver    1647\n",
       "Blue      1431\n",
       "Red        957\n",
       "NaN        597\n",
       "Brown      289\n",
       "Green      154\n",
       "Beige      108\n",
       "Yellow      51\n",
       "Violet      18\n",
       "Bronze       6\n",
       "Orange       3\n",
       "Gold         2\n",
       "Name: Body Color, dtype: int64"
      ]
     },
     "execution_count": 58,
     "metadata": {},
     "output_type": "execute_result"
    }
   ],
   "source": [
    "df['Body Color'].str[1].str.strip().value_counts(dropna=False)"
   ]
  },
  {
   "cell_type": "code",
   "execution_count": 59,
   "metadata": {},
   "outputs": [],
   "source": [
    "df.color = df['Body Color'].str[1].str.strip()"
   ]
  },
  {
   "cell_type": "code",
   "execution_count": 60,
   "metadata": {},
   "outputs": [],
   "source": [
    "df.drop(columns='Body Color', inplace=True)"
   ]
  },
  {
   "cell_type": "code",
   "execution_count": 61,
   "metadata": {},
   "outputs": [
    {
     "data": {
      "text/plain": [
       "Black     3745\n",
       "Grey      3505\n",
       "White     3406\n",
       "Silver    1647\n",
       "Blue      1431\n",
       "Red        957\n",
       "Brown      289\n",
       "Green      154\n",
       "Beige      108\n",
       "Yellow      51\n",
       "Violet      18\n",
       "Bronze       6\n",
       "Orange       3\n",
       "Gold         2\n",
       "Name: Body Color, dtype: int64"
      ]
     },
     "execution_count": 61,
     "metadata": {},
     "output_type": "execute_result"
    }
   ],
   "source": [
    "df.color.value_counts()"
   ]
  },
  {
   "cell_type": "code",
   "execution_count": 62,
   "metadata": {},
   "outputs": [
    {
     "data": {
      "text/plain": [
       "Index(['make_model', 'short_description', 'body_type', 'price', 'vat', 'km', 'registration', 'prev_owner', 'Previous Owners', 'Next Inspection', 'Inspection new', 'Warranty', 'Full Service', 'Non-smoking Vehicle', 'Paint Type', 'Body Color Original', 'Upholstery', 'Body', 'Nr. of Doors', 'Nr. of Seats', 'Model Code', 'Gearing Type', 'Displacement', 'Cylinders', 'Weight', 'Drive chain', 'Consumption', 'CO2 Emission', 'Emission Class', '\\nComfort & Convenience\\n', '\\nEntertainment & Media\\n', '\\nExtras\\n', '\\nSafety & Security\\n', 'description', 'Emission Label', 'Gears', 'Country version', 'make', 'hp_kW', 'used_new', 'fuel_type'], dtype='object')"
      ]
     },
     "execution_count": 62,
     "metadata": {},
     "output_type": "execute_result"
    }
   ],
   "source": [
    "df.columns"
   ]
  },
  {
   "cell_type": "markdown",
   "metadata": {},
   "source": [
    "## Body Color Original"
   ]
  },
  {
   "cell_type": "code",
   "execution_count": 63,
   "metadata": {},
   "outputs": [
    {
     "ename": "TypeError",
     "evalue": "unhashable type: 'list'",
     "output_type": "error",
     "traceback": [
      "\u001b[0;31m---------------------------------------------------------------------------\u001b[0m",
      "\u001b[0;31mTypeError\u001b[0m                                 Traceback (most recent call last)",
      "\u001b[0;32mpandas/_libs/hashtable_class_helper.pxi\u001b[0m in \u001b[0;36mpandas._libs.hashtable.PyObjectHashTable.map_locations\u001b[0;34m()\u001b[0m\n",
      "\u001b[0;31mTypeError\u001b[0m: unhashable type: 'list'"
     ]
    },
    {
     "name": "stderr",
     "output_type": "stream",
     "text": [
      "Exception ignored in: 'pandas._libs.index.IndexEngine._call_map_locations'\n",
      "Traceback (most recent call last):\n",
      "  File \"pandas/_libs/hashtable_class_helper.pxi\", line 5231, in pandas._libs.hashtable.PyObjectHashTable.map_locations\n",
      "TypeError: unhashable type: 'list'\n"
     ]
    },
    {
     "data": {
      "text/plain": [
       "NaN                                    3759\n",
       "[\\nOnyx Schwarz\\n]                      338\n",
       "[\\nBianco\\n]                            282\n",
       "[\\nMythosschwarz Metallic\\n]            238\n",
       "[\\nBrillantschwarz\\n]                   216\n",
       "                                       ... \n",
       "[\\nRouge-Braun (G0Y)\\n]                   1\n",
       "[\\nVARI COLRI DISPONIBILI\\n]              1\n",
       "[\\nKokosnussbraun Metallic\\n]             1\n",
       "[\\nFarbe frei wählbar\\n]                  1\n",
       "[\\nPerlmutt-Weiß Metallic (Weiß)\\n]       1\n",
       "Name: Body Color Original, Length: 1928, dtype: int64"
      ]
     },
     "execution_count": 63,
     "metadata": {},
     "output_type": "execute_result"
    }
   ],
   "source": [
    "df[\"Body Color Original\"].value_counts(dropna=False)"
   ]
  },
  {
   "cell_type": "code",
   "execution_count": 64,
   "metadata": {},
   "outputs": [
    {
     "data": {
      "text/plain": [
       "NaN                              3759\n",
       "Onyx Schwarz                      338\n",
       "Bianco                            282\n",
       "Mythosschwarz Metallic            238\n",
       "Brillantschwarz                   216\n",
       "                                 ... \n",
       "Rouge-Braun (G0Y)                   1\n",
       "VARI COLRI DISPONIBILI              1\n",
       "Kokosnussbraun Metallic             1\n",
       "Farbe frei wählbar                  1\n",
       "Perlmutt-Weiß Metallic (Weiß)       1\n",
       "Name: Body Color Original, Length: 1928, dtype: int64"
      ]
     },
     "execution_count": 64,
     "metadata": {},
     "output_type": "execute_result"
    }
   ],
   "source": [
    "df[\"Body Color Original\"].str[0].str.strip().value_counts(dropna=False)"
   ]
  },
  {
   "cell_type": "code",
   "execution_count": 65,
   "metadata": {},
   "outputs": [],
   "source": [
    "df.original_color = df[\"Body Color Original\"].str[0].str.strip()"
   ]
  },
  {
   "cell_type": "code",
   "execution_count": 66,
   "metadata": {},
   "outputs": [],
   "source": [
    "df.drop(columns=\"Body Color Original\", inplace=True)"
   ]
  },
  {
   "cell_type": "code",
   "execution_count": 67,
   "metadata": {},
   "outputs": [
    {
     "data": {
      "text/plain": [
       "Index(['make_model', 'short_description', 'body_type', 'price', 'vat', 'km', 'registration', 'prev_owner', 'Previous Owners', 'Next Inspection', 'Inspection new', 'Warranty', 'Full Service', 'Non-smoking Vehicle', 'Paint Type', 'Upholstery', 'Body', 'Nr. of Doors', 'Nr. of Seats', 'Model Code', 'Gearing Type', 'Displacement', 'Cylinders', 'Weight', 'Drive chain', 'Consumption', 'CO2 Emission', 'Emission Class', '\\nComfort & Convenience\\n', '\\nEntertainment & Media\\n', '\\nExtras\\n', '\\nSafety & Security\\n', 'description', 'Emission Label', 'Gears', 'Country version', 'make', 'hp_kW', 'used_new', 'fuel_type'], dtype='object')"
      ]
     },
     "execution_count": 67,
     "metadata": {},
     "output_type": "execute_result"
    }
   ],
   "source": [
    "df.columns"
   ]
  },
  {
   "cell_type": "markdown",
   "metadata": {},
   "source": [
    "## Upholstery"
   ]
  },
  {
   "cell_type": "code",
   "execution_count": 68,
   "metadata": {
    "scrolled": true
   },
   "outputs": [
    {
     "ename": "TypeError",
     "evalue": "unhashable type: 'list'",
     "output_type": "error",
     "traceback": [
      "\u001b[0;31m---------------------------------------------------------------------------\u001b[0m",
      "\u001b[0;31mTypeError\u001b[0m                                 Traceback (most recent call last)",
      "\u001b[0;32mpandas/_libs/hashtable_class_helper.pxi\u001b[0m in \u001b[0;36mpandas._libs.hashtable.PyObjectHashTable.map_locations\u001b[0;34m()\u001b[0m\n",
      "\u001b[0;31mTypeError\u001b[0m: unhashable type: 'list'"
     ]
    },
    {
     "name": "stderr",
     "output_type": "stream",
     "text": [
      "Exception ignored in: 'pandas._libs.index.IndexEngine._call_map_locations'\n",
      "Traceback (most recent call last):\n",
      "  File \"pandas/_libs/hashtable_class_helper.pxi\", line 5231, in pandas._libs.hashtable.PyObjectHashTable.map_locations\n",
      "TypeError: unhashable type: 'list'\n"
     ]
    },
    {
     "data": {
      "text/plain": [
       "[\\nCloth, Black\\n]           5821\n",
       "NaN                          3720\n",
       "[\\nPart leather, Black\\n]    1121\n",
       "[\\nCloth\\n]                  1005\n",
       "[\\nCloth, Grey\\n]             891\n",
       "[\\nCloth, Other\\n]            639\n",
       "[\\nFull leather, Black\\n]     575\n",
       "[\\nBlack\\n]                   491\n",
       "[\\nGrey\\n]                    273\n",
       "[\\nOther, Other\\n]            182\n",
       "[\\nPart leather\\n]            140\n",
       "[\\nFull leather\\n]            139\n",
       "[\\nFull leather, Brown\\n]     116\n",
       "[\\nPart leather, Grey\\n]      116\n",
       "[\\nOther, Black\\n]            110\n",
       "[\\nFull leather, Other\\n]      72\n",
       "[\\nFull leather, Grey\\n]       67\n",
       "[\\nPart leather, Other\\n]      65\n",
       "[\\nOther\\n]                    56\n",
       "[\\nPart leather, Brown\\n]      50\n",
       "[\\nalcantara, Black\\n]         47\n",
       "[\\nVelour, Black\\n]            36\n",
       "[\\nFull leather, Beige\\n]      36\n",
       "[\\nCloth, Brown\\n]             28\n",
       "[\\nVelour\\n]                   16\n",
       "[\\nOther, Grey\\n]              15\n",
       "[\\nCloth, Beige\\n]             13\n",
       "[\\nBrown\\n]                    12\n",
       "[\\nCloth, Blue\\n]              12\n",
       "[\\nVelour, Grey\\n]              8\n",
       "[\\nCloth, White\\n]              8\n",
       "[\\nalcantara, Grey\\n]           6\n",
       "[\\nCloth, Red\\n]                5\n",
       "[\\nOther, Yellow\\n]             4\n",
       "[\\nPart leather, Red\\n]         3\n",
       "[\\nBeige\\n]                     3\n",
       "[\\nPart leather, White\\n]       2\n",
       "[\\nFull leather, Blue\\n]        2\n",
       "[\\nalcantara, Other\\n]          2\n",
       "[\\nalcantara\\n]                 2\n",
       "[\\nWhite\\n]                     2\n",
       "[\\nPart leather, Beige\\n]       2\n",
       "[\\nBlue\\n]                      2\n",
       "[\\nCloth, Orange\\n]             1\n",
       "[\\nFull leather, Red\\n]         1\n",
       "[\\nOther, Brown\\n]              1\n",
       "[\\nFull leather, White\\n]       1\n",
       "Name: Upholstery, dtype: int64"
      ]
     },
     "execution_count": 68,
     "metadata": {},
     "output_type": "execute_result"
    }
   ],
   "source": [
    "df.Upholstery.value_counts(dropna=False)"
   ]
  },
  {
   "cell_type": "code",
   "execution_count": 69,
   "metadata": {
    "scrolled": true
   },
   "outputs": [
    {
     "data": {
      "text/plain": [
       "Cloth, Black           5821\n",
       "NaN                    3720\n",
       "Part leather, Black    1121\n",
       "Cloth                  1005\n",
       "Cloth, Grey             891\n",
       "Cloth, Other            639\n",
       "Full leather, Black     575\n",
       "Black                   491\n",
       "Grey                    273\n",
       "Other, Other            182\n",
       "Part leather            140\n",
       "Full leather            139\n",
       "Full leather, Brown     116\n",
       "Part leather, Grey      116\n",
       "Other, Black            110\n",
       "Full leather, Other      72\n",
       "Full leather, Grey       67\n",
       "Part leather, Other      65\n",
       "Other                    56\n",
       "Part leather, Brown      50\n",
       "alcantara, Black         47\n",
       "Velour, Black            36\n",
       "Full leather, Beige      36\n",
       "Cloth, Brown             28\n",
       "Velour                   16\n",
       "Other, Grey              15\n",
       "Cloth, Beige             13\n",
       "Brown                    12\n",
       "Cloth, Blue              12\n",
       "Velour, Grey              8\n",
       "Cloth, White              8\n",
       "alcantara, Grey           6\n",
       "Cloth, Red                5\n",
       "Other, Yellow             4\n",
       "Part leather, Red         3\n",
       "Beige                     3\n",
       "Part leather, White       2\n",
       "Full leather, Blue        2\n",
       "alcantara, Other          2\n",
       "alcantara                 2\n",
       "White                     2\n",
       "Part leather, Beige       2\n",
       "Blue                      2\n",
       "Cloth, Orange             1\n",
       "Full leather, Red         1\n",
       "Other, Brown              1\n",
       "Full leather, White       1\n",
       "Name: Upholstery, dtype: int64"
      ]
     },
     "execution_count": 69,
     "metadata": {},
     "output_type": "execute_result"
    }
   ],
   "source": [
    "df.Upholstery.str[0].str.strip().value_counts(dropna=False)"
   ]
  },
  {
   "cell_type": "code",
   "execution_count": 70,
   "metadata": {},
   "outputs": [
    {
     "data": {
      "text/plain": [
       "Cloth           8423\n",
       "NaN             3720\n",
       "Part leather    1499\n",
       "Full leather    1009\n",
       "Black            491\n",
       "Other            368\n",
       "Grey             273\n",
       "Velour            60\n",
       "alcantara         57\n",
       "Brown             12\n",
       "Beige              3\n",
       "Blue               2\n",
       "White              2\n",
       "Name: Upholstery, dtype: int64"
      ]
     },
     "execution_count": 70,
     "metadata": {},
     "output_type": "execute_result"
    }
   ],
   "source": [
    "df.Upholstery.str[0].str.strip().str.split(pat=\",\").str[0].value_counts(dropna=False)"
   ]
  },
  {
   "cell_type": "code",
   "execution_count": 71,
   "metadata": {},
   "outputs": [
    {
     "data": {
      "text/plain": [
       "Cloth           8423\n",
       "NaN             4871\n",
       "Part leather    1499\n",
       "Full leather    1009\n",
       "Velour            60\n",
       "alcantara         57\n",
       "Name: Upholstery, dtype: int64"
      ]
     },
     "execution_count": 71,
     "metadata": {},
     "output_type": "execute_result"
    }
   ],
   "source": [
    "df.Upholstery.str[0].str.strip().str.split(pat=\",\").str[0].replace(dict.fromkeys(\n",
    "    [\"Black\", \"Grey\", \"Other\", \"Brown\", \"Beige\", \"Blue\", \"White\"], np.NaN)\n",
    "                                                                      ).value_counts(dropna=False)"
   ]
  },
  {
   "cell_type": "code",
   "execution_count": 72,
   "metadata": {},
   "outputs": [],
   "source": [
    "df[\"upholstery_kind\"] = df.Upholstery.str[0].str.strip().str.split(pat=\",\").str[0].replace(dict.fromkeys(\n",
    "    [\"Black\", \"Grey\", \"Other\", \"Brown\", \"Beige\", \"Blue\", \"White\"], np.NaN)\n",
    "                                                                      )"
   ]
  },
  {
   "cell_type": "code",
   "execution_count": 73,
   "metadata": {},
   "outputs": [
    {
     "data": {
      "text/plain": [
       " Black     7710\n",
       "NaN        5861\n",
       " Grey      1103\n",
       " Other      960\n",
       " Brown      195\n",
       " Beige       51\n",
       " Blue        14\n",
       " White       11\n",
       " Red          9\n",
       " Yellow       4\n",
       " Orange       1\n",
       "Name: Upholstery, dtype: int64"
      ]
     },
     "execution_count": 73,
     "metadata": {},
     "output_type": "execute_result"
    }
   ],
   "source": [
    "df.Upholstery.str[0].str.strip().str.split(pat=\",\").str[1].value_counts(dropna=False)"
   ]
  },
  {
   "cell_type": "code",
   "execution_count": 74,
   "metadata": {},
   "outputs": [],
   "source": [
    "df[\"upholstery_color\"] = df.Upholstery.str[0].str.strip().str.split(pat=\",\").str[1]"
   ]
  },
  {
   "cell_type": "code",
   "execution_count": 75,
   "metadata": {},
   "outputs": [],
   "source": [
    "df.drop(columns=\"Upholstery\", inplace=True)"
   ]
  },
  {
   "cell_type": "markdown",
   "metadata": {},
   "source": [
    "## Body & body_type"
   ]
  },
  {
   "cell_type": "code",
   "execution_count": 76,
   "metadata": {},
   "outputs": [
    {
     "ename": "TypeError",
     "evalue": "unhashable type: 'list'",
     "output_type": "error",
     "traceback": [
      "\u001b[0;31m---------------------------------------------------------------------------\u001b[0m",
      "\u001b[0;31mTypeError\u001b[0m                                 Traceback (most recent call last)",
      "\u001b[0;32mpandas/_libs/hashtable_class_helper.pxi\u001b[0m in \u001b[0;36mpandas._libs.hashtable.PyObjectHashTable.map_locations\u001b[0;34m()\u001b[0m\n",
      "\u001b[0;31mTypeError\u001b[0m: unhashable type: 'list'"
     ]
    },
    {
     "name": "stderr",
     "output_type": "stream",
     "text": [
      "Exception ignored in: 'pandas._libs.index.IndexEngine._call_map_locations'\n",
      "Traceback (most recent call last):\n",
      "  File \"pandas/_libs/hashtable_class_helper.pxi\", line 5231, in pandas._libs.hashtable.PyObjectHashTable.map_locations\n",
      "TypeError: unhashable type: 'list'\n"
     ]
    },
    {
     "data": {
      "text/plain": [
       "[\\n, Sedans, \\n]           7903\n",
       "[\\n, Station wagon, \\n]    3553\n",
       "[\\n, Compact, \\n]          3153\n",
       "[\\n, Van, \\n]               783\n",
       "[\\n, Other, \\n]             290\n",
       "[\\n, Transporter, \\n]        88\n",
       "NaN                          60\n",
       "[\\n, Off-Road, \\n]           56\n",
       "[\\n, Coupe, \\n]              25\n",
       "[\\n, Convertible, \\n]         8\n",
       "Name: Body, dtype: int64"
      ]
     },
     "execution_count": 76,
     "metadata": {},
     "output_type": "execute_result"
    }
   ],
   "source": [
    "df.Body.value_counts(dropna=False)"
   ]
  },
  {
   "cell_type": "code",
   "execution_count": 77,
   "metadata": {},
   "outputs": [
    {
     "data": {
      "text/plain": [
       "Sedans           7903\n",
       "Station wagon    3553\n",
       "Compact          3153\n",
       "Van               783\n",
       "Other             290\n",
       "Transporter        88\n",
       "NaN                60\n",
       "Off-Road           56\n",
       "Coupe              25\n",
       "Convertible         8\n",
       "Name: Body, dtype: int64"
      ]
     },
     "execution_count": 77,
     "metadata": {},
     "output_type": "execute_result"
    }
   ],
   "source": [
    "df.Body.str[1].str.strip().value_counts(dropna=False)"
   ]
  },
  {
   "cell_type": "code",
   "execution_count": 78,
   "metadata": {},
   "outputs": [
    {
     "data": {
      "text/plain": [
       "Sedans           7903\n",
       "Station wagon    3553\n",
       "Compact          3153\n",
       "Van               783\n",
       "Other             290\n",
       "Transporter        88\n",
       "NaN                60\n",
       "Off-Road           56\n",
       "Coupe              25\n",
       "Convertible         8\n",
       "Name: body_type, dtype: int64"
      ]
     },
     "execution_count": 78,
     "metadata": {},
     "output_type": "execute_result"
    }
   ],
   "source": [
    "df.body_type.value_counts(dropna=False)"
   ]
  },
  {
   "cell_type": "code",
   "execution_count": 79,
   "metadata": {},
   "outputs": [],
   "source": [
    "# they are the same.\n",
    "df.drop(columns=\"Body\", inplace=True)"
   ]
  },
  {
   "cell_type": "code",
   "execution_count": 80,
   "metadata": {},
   "outputs": [
    {
     "data": {
      "text/plain": [
       "Index(['make_model', 'short_description', 'body_type', 'price', 'vat', 'km', 'registration', 'prev_owner', 'Previous Owners', 'Next Inspection', 'Inspection new', 'Warranty', 'Full Service', 'Non-smoking Vehicle', 'Paint Type', 'Nr. of Doors', 'Nr. of Seats', 'Model Code', 'Gearing Type', 'Displacement', 'Cylinders', 'Weight', 'Drive chain', 'Consumption', 'CO2 Emission', 'Emission Class', '\\nComfort & Convenience\\n', '\\nEntertainment & Media\\n', '\\nExtras\\n', '\\nSafety & Security\\n', 'description', 'Emission Label', 'Gears', 'Country version', 'make', 'hp_kW', 'used_new', 'fuel_type', 'upholstery_kind', 'upholstery_color'], dtype='object')"
      ]
     },
     "execution_count": 80,
     "metadata": {},
     "output_type": "execute_result"
    }
   ],
   "source": [
    "df.columns"
   ]
  },
  {
   "cell_type": "markdown",
   "metadata": {},
   "source": [
    "## \"Nr. of Doors\""
   ]
  },
  {
   "cell_type": "code",
   "execution_count": 81,
   "metadata": {},
   "outputs": [
    {
     "ename": "TypeError",
     "evalue": "unhashable type: 'list'",
     "output_type": "error",
     "traceback": [
      "\u001b[0;31m---------------------------------------------------------------------------\u001b[0m",
      "\u001b[0;31mTypeError\u001b[0m                                 Traceback (most recent call last)",
      "\u001b[0;32mpandas/_libs/hashtable_class_helper.pxi\u001b[0m in \u001b[0;36mpandas._libs.hashtable.PyObjectHashTable.map_locations\u001b[0;34m()\u001b[0m\n",
      "\u001b[0;31mTypeError\u001b[0m: unhashable type: 'list'"
     ]
    },
    {
     "name": "stderr",
     "output_type": "stream",
     "text": [
      "Exception ignored in: 'pandas._libs.index.IndexEngine._call_map_locations'\n",
      "Traceback (most recent call last):\n",
      "  File \"pandas/_libs/hashtable_class_helper.pxi\", line 5231, in pandas._libs.hashtable.PyObjectHashTable.map_locations\n",
      "TypeError: unhashable type: 'list'\n"
     ]
    },
    {
     "data": {
      "text/plain": [
       "[\\n5\\n]    11575\n",
       "[\\n4\\n]     3079\n",
       "[\\n3\\n]      832\n",
       "[\\n2\\n]      219\n",
       "NaN          212\n",
       "[\\n1\\n]        1\n",
       "[\\n7\\n]        1\n",
       "Name: Nr. of Doors, dtype: int64"
      ]
     },
     "execution_count": 81,
     "metadata": {},
     "output_type": "execute_result"
    }
   ],
   "source": [
    "df[\"Nr. of Doors\"].value_counts(dropna=False)"
   ]
  },
  {
   "cell_type": "code",
   "execution_count": 82,
   "metadata": {},
   "outputs": [
    {
     "data": {
      "text/plain": [
       "5      11575\n",
       "4       3079\n",
       "3        832\n",
       "2        219\n",
       "NaN      212\n",
       "1          1\n",
       "7          1\n",
       "Name: Nr. of Doors, dtype: int64"
      ]
     },
     "execution_count": 82,
     "metadata": {},
     "output_type": "execute_result"
    }
   ],
   "source": [
    "df[\"Nr. of Doors\"].str[0].str.strip().value_counts(dropna=False)"
   ]
  },
  {
   "cell_type": "code",
   "execution_count": 83,
   "metadata": {},
   "outputs": [],
   "source": [
    "df[\"door_count\"] = df[\"Nr. of Doors\"].str[0].str.strip()"
   ]
  },
  {
   "cell_type": "code",
   "execution_count": 84,
   "metadata": {},
   "outputs": [],
   "source": [
    "df.drop(columns=\"Nr. of Doors\", inplace=True)"
   ]
  },
  {
   "cell_type": "markdown",
   "metadata": {},
   "source": [
    "## \"Nr. of Seats\""
   ]
  },
  {
   "cell_type": "code",
   "execution_count": 85,
   "metadata": {},
   "outputs": [
    {
     "ename": "TypeError",
     "evalue": "unhashable type: 'list'",
     "output_type": "error",
     "traceback": [
      "\u001b[0;31m---------------------------------------------------------------------------\u001b[0m",
      "\u001b[0;31mTypeError\u001b[0m                                 Traceback (most recent call last)",
      "\u001b[0;32mpandas/_libs/hashtable_class_helper.pxi\u001b[0m in \u001b[0;36mpandas._libs.hashtable.PyObjectHashTable.map_locations\u001b[0;34m()\u001b[0m\n",
      "\u001b[0;31mTypeError\u001b[0m: unhashable type: 'list'"
     ]
    },
    {
     "name": "stderr",
     "output_type": "stream",
     "text": [
      "Exception ignored in: 'pandas._libs.index.IndexEngine._call_map_locations'\n",
      "Traceback (most recent call last):\n",
      "  File \"pandas/_libs/hashtable_class_helper.pxi\", line 5231, in pandas._libs.hashtable.PyObjectHashTable.map_locations\n",
      "TypeError: unhashable type: 'list'\n"
     ]
    },
    {
     "data": {
      "text/plain": [
       "[\\n5\\n]    13336\n",
       "[\\n4\\n]     1125\n",
       "NaN          977\n",
       "[\\n7\\n]      362\n",
       "[\\n2\\n]      116\n",
       "[\\n6\\n]        2\n",
       "[\\n3\\n]        1\n",
       "Name: Nr. of Seats, dtype: int64"
      ]
     },
     "execution_count": 85,
     "metadata": {},
     "output_type": "execute_result"
    }
   ],
   "source": [
    "df[\"Nr. of Seats\"].value_counts(dropna=False)"
   ]
  },
  {
   "cell_type": "code",
   "execution_count": 86,
   "metadata": {},
   "outputs": [
    {
     "data": {
      "text/plain": [
       "5      13336\n",
       "4       1125\n",
       "NaN      977\n",
       "7        362\n",
       "2        116\n",
       "6          2\n",
       "3          1\n",
       "Name: Nr. of Seats, dtype: int64"
      ]
     },
     "execution_count": 86,
     "metadata": {},
     "output_type": "execute_result"
    }
   ],
   "source": [
    "df[\"Nr. of Seats\"].str[0].str.strip().value_counts(dropna=False)"
   ]
  },
  {
   "cell_type": "code",
   "execution_count": 87,
   "metadata": {},
   "outputs": [],
   "source": [
    "df[\"seat_count\"] = df[\"Nr. of Seats\"].str[0].str.strip()"
   ]
  },
  {
   "cell_type": "code",
   "execution_count": 88,
   "metadata": {},
   "outputs": [],
   "source": [
    "df.drop(columns=\"Nr. of Seats\", inplace=True)"
   ]
  },
  {
   "cell_type": "code",
   "execution_count": 89,
   "metadata": {},
   "outputs": [
    {
     "data": {
      "text/plain": [
       "Index(['make_model', 'short_description', 'body_type', 'price', 'vat', 'km', 'registration', 'prev_owner', 'Previous Owners', 'Next Inspection', 'Inspection new', 'Warranty', 'Full Service', 'Non-smoking Vehicle', 'Paint Type', 'Model Code', 'Gearing Type', 'Displacement', 'Cylinders', 'Weight', 'Drive chain', 'Consumption', 'CO2 Emission', 'Emission Class', '\\nComfort & Convenience\\n', '\\nEntertainment & Media\\n', '\\nExtras\\n', '\\nSafety & Security\\n', 'description', 'Emission Label', 'Gears', 'Country version', 'make', 'hp_kW', 'used_new', 'fuel_type', 'upholstery_kind', 'upholstery_color', 'door_count', 'seat_count'], dtype='object')"
      ]
     },
     "execution_count": 89,
     "metadata": {},
     "output_type": "execute_result"
    }
   ],
   "source": [
    "df.columns"
   ]
  },
  {
   "cell_type": "markdown",
   "metadata": {},
   "source": [
    "## Gearing Type & Gears"
   ]
  },
  {
   "cell_type": "code",
   "execution_count": 90,
   "metadata": {},
   "outputs": [
    {
     "ename": "TypeError",
     "evalue": "unhashable type: 'list'",
     "output_type": "error",
     "traceback": [
      "\u001b[0;31m---------------------------------------------------------------------------\u001b[0m",
      "\u001b[0;31mTypeError\u001b[0m                                 Traceback (most recent call last)",
      "\u001b[0;32mpandas/_libs/hashtable_class_helper.pxi\u001b[0m in \u001b[0;36mpandas._libs.hashtable.PyObjectHashTable.map_locations\u001b[0;34m()\u001b[0m\n",
      "\u001b[0;31mTypeError\u001b[0m: unhashable type: 'list'"
     ]
    },
    {
     "name": "stderr",
     "output_type": "stream",
     "text": [
      "Exception ignored in: 'pandas._libs.index.IndexEngine._call_map_locations'\n",
      "Traceback (most recent call last):\n",
      "  File \"pandas/_libs/hashtable_class_helper.pxi\", line 5231, in pandas._libs.hashtable.PyObjectHashTable.map_locations\n",
      "TypeError: unhashable type: 'list'\n"
     ]
    },
    {
     "data": {
      "text/plain": [
       "[\\n, Manual, \\n]            8153\n",
       "[\\n, Automatic, \\n]         7297\n",
       "[\\n, Semi-automatic, \\n]     469\n",
       "Name: Gearing Type, dtype: int64"
      ]
     },
     "execution_count": 90,
     "metadata": {},
     "output_type": "execute_result"
    }
   ],
   "source": [
    "df[\"Gearing Type\"].value_counts(dropna=False)"
   ]
  },
  {
   "cell_type": "code",
   "execution_count": 91,
   "metadata": {},
   "outputs": [
    {
     "data": {
      "text/plain": [
       "Manual            8153\n",
       "Automatic         7297\n",
       "Semi-automatic     469\n",
       "Name: Gearing Type, dtype: int64"
      ]
     },
     "execution_count": 91,
     "metadata": {},
     "output_type": "execute_result"
    }
   ],
   "source": [
    "df[\"Gearing Type\"].str[1].str.strip().value_counts(dropna=False)"
   ]
  },
  {
   "cell_type": "code",
   "execution_count": 92,
   "metadata": {},
   "outputs": [],
   "source": [
    "df[\"auto_manuel\"] = df[\"Gearing Type\"].str[1].str.strip()"
   ]
  },
  {
   "cell_type": "code",
   "execution_count": 93,
   "metadata": {},
   "outputs": [
    {
     "data": {
      "text/html": [
       "<div>\n",
       "<style scoped>\n",
       "    .dataframe tbody tr th:only-of-type {\n",
       "        vertical-align: middle;\n",
       "    }\n",
       "\n",
       "    .dataframe tbody tr th {\n",
       "        vertical-align: top;\n",
       "    }\n",
       "\n",
       "    .dataframe thead th {\n",
       "        text-align: right;\n",
       "    }\n",
       "</style>\n",
       "<table border=\"1\" class=\"dataframe\">\n",
       "  <thead>\n",
       "    <tr style=\"text-align: right;\">\n",
       "      <th></th>\n",
       "      <th>auto_manuel</th>\n",
       "      <th>Gears</th>\n",
       "    </tr>\n",
       "  </thead>\n",
       "  <tbody>\n",
       "    <tr>\n",
       "      <th>2688</th>\n",
       "      <td>Automatic</td>\n",
       "      <td>NaN</td>\n",
       "    </tr>\n",
       "    <tr>\n",
       "      <th>1681</th>\n",
       "      <td>Automatic</td>\n",
       "      <td>NaN</td>\n",
       "    </tr>\n",
       "    <tr>\n",
       "      <th>3006</th>\n",
       "      <td>Manual</td>\n",
       "      <td>[\\n6\\n]</td>\n",
       "    </tr>\n",
       "    <tr>\n",
       "      <th>2354</th>\n",
       "      <td>Automatic</td>\n",
       "      <td>NaN</td>\n",
       "    </tr>\n",
       "    <tr>\n",
       "      <th>2457</th>\n",
       "      <td>Manual</td>\n",
       "      <td>[\\n5\\n]</td>\n",
       "    </tr>\n",
       "    <tr>\n",
       "      <th>14013</th>\n",
       "      <td>Automatic</td>\n",
       "      <td>NaN</td>\n",
       "    </tr>\n",
       "    <tr>\n",
       "      <th>15017</th>\n",
       "      <td>Automatic</td>\n",
       "      <td>NaN</td>\n",
       "    </tr>\n",
       "    <tr>\n",
       "      <th>846</th>\n",
       "      <td>Manual</td>\n",
       "      <td>NaN</td>\n",
       "    </tr>\n",
       "    <tr>\n",
       "      <th>8636</th>\n",
       "      <td>Manual</td>\n",
       "      <td>[\\n5\\n]</td>\n",
       "    </tr>\n",
       "    <tr>\n",
       "      <th>14311</th>\n",
       "      <td>Manual</td>\n",
       "      <td>[\\n5\\n]</td>\n",
       "    </tr>\n",
       "    <tr>\n",
       "      <th>12578</th>\n",
       "      <td>Automatic</td>\n",
       "      <td>[\\n8\\n]</td>\n",
       "    </tr>\n",
       "    <tr>\n",
       "      <th>2697</th>\n",
       "      <td>Automatic</td>\n",
       "      <td>NaN</td>\n",
       "    </tr>\n",
       "    <tr>\n",
       "      <th>8272</th>\n",
       "      <td>Automatic</td>\n",
       "      <td>[\\n6\\n]</td>\n",
       "    </tr>\n",
       "    <tr>\n",
       "      <th>3171</th>\n",
       "      <td>Manual</td>\n",
       "      <td>NaN</td>\n",
       "    </tr>\n",
       "    <tr>\n",
       "      <th>5163</th>\n",
       "      <td>Automatic</td>\n",
       "      <td>[\\n7\\n]</td>\n",
       "    </tr>\n",
       "    <tr>\n",
       "      <th>6928</th>\n",
       "      <td>Manual</td>\n",
       "      <td>NaN</td>\n",
       "    </tr>\n",
       "    <tr>\n",
       "      <th>10936</th>\n",
       "      <td>Manual</td>\n",
       "      <td>[\\n6\\n]</td>\n",
       "    </tr>\n",
       "    <tr>\n",
       "      <th>11805</th>\n",
       "      <td>Automatic</td>\n",
       "      <td>[\\n6\\n]</td>\n",
       "    </tr>\n",
       "    <tr>\n",
       "      <th>3918</th>\n",
       "      <td>Automatic</td>\n",
       "      <td>[\\n7\\n]</td>\n",
       "    </tr>\n",
       "    <tr>\n",
       "      <th>3888</th>\n",
       "      <td>Automatic</td>\n",
       "      <td>[\\n6\\n]</td>\n",
       "    </tr>\n",
       "    <tr>\n",
       "      <th>11737</th>\n",
       "      <td>Manual</td>\n",
       "      <td>NaN</td>\n",
       "    </tr>\n",
       "    <tr>\n",
       "      <th>15743</th>\n",
       "      <td>Automatic</td>\n",
       "      <td>NaN</td>\n",
       "    </tr>\n",
       "    <tr>\n",
       "      <th>5628</th>\n",
       "      <td>Manual</td>\n",
       "      <td>[\\n6\\n]</td>\n",
       "    </tr>\n",
       "    <tr>\n",
       "      <th>5803</th>\n",
       "      <td>Automatic</td>\n",
       "      <td>[\\n6\\n]</td>\n",
       "    </tr>\n",
       "    <tr>\n",
       "      <th>3806</th>\n",
       "      <td>Automatic</td>\n",
       "      <td>[\\n7\\n]</td>\n",
       "    </tr>\n",
       "    <tr>\n",
       "      <th>8009</th>\n",
       "      <td>Manual</td>\n",
       "      <td>[\\n5\\n]</td>\n",
       "    </tr>\n",
       "    <tr>\n",
       "      <th>3980</th>\n",
       "      <td>Automatic</td>\n",
       "      <td>[\\n7\\n]</td>\n",
       "    </tr>\n",
       "    <tr>\n",
       "      <th>12920</th>\n",
       "      <td>Manual</td>\n",
       "      <td>[\\n6\\n]</td>\n",
       "    </tr>\n",
       "    <tr>\n",
       "      <th>9630</th>\n",
       "      <td>Manual</td>\n",
       "      <td>[\\n5\\n]</td>\n",
       "    </tr>\n",
       "    <tr>\n",
       "      <th>138</th>\n",
       "      <td>Automatic</td>\n",
       "      <td>[\\n7\\n]</td>\n",
       "    </tr>\n",
       "    <tr>\n",
       "      <th>8324</th>\n",
       "      <td>Automatic</td>\n",
       "      <td>[\\n5\\n]</td>\n",
       "    </tr>\n",
       "    <tr>\n",
       "      <th>2248</th>\n",
       "      <td>Manual</td>\n",
       "      <td>[\\n5\\n]</td>\n",
       "    </tr>\n",
       "    <tr>\n",
       "      <th>1035</th>\n",
       "      <td>Automatic</td>\n",
       "      <td>[\\n7\\n]</td>\n",
       "    </tr>\n",
       "    <tr>\n",
       "      <th>11119</th>\n",
       "      <td>Manual</td>\n",
       "      <td>[\\n6\\n]</td>\n",
       "    </tr>\n",
       "    <tr>\n",
       "      <th>6835</th>\n",
       "      <td>Manual</td>\n",
       "      <td>NaN</td>\n",
       "    </tr>\n",
       "    <tr>\n",
       "      <th>4480</th>\n",
       "      <td>Automatic</td>\n",
       "      <td>[\\n7\\n]</td>\n",
       "    </tr>\n",
       "    <tr>\n",
       "      <th>2018</th>\n",
       "      <td>Automatic</td>\n",
       "      <td>NaN</td>\n",
       "    </tr>\n",
       "    <tr>\n",
       "      <th>15287</th>\n",
       "      <td>Manual</td>\n",
       "      <td>[\\n6\\n]</td>\n",
       "    </tr>\n",
       "    <tr>\n",
       "      <th>9316</th>\n",
       "      <td>Automatic</td>\n",
       "      <td>[\\n5\\n]</td>\n",
       "    </tr>\n",
       "    <tr>\n",
       "      <th>13769</th>\n",
       "      <td>Automatic</td>\n",
       "      <td>NaN</td>\n",
       "    </tr>\n",
       "    <tr>\n",
       "      <th>4383</th>\n",
       "      <td>Manual</td>\n",
       "      <td>[\\n6\\n]</td>\n",
       "    </tr>\n",
       "    <tr>\n",
       "      <th>7789</th>\n",
       "      <td>Automatic</td>\n",
       "      <td>NaN</td>\n",
       "    </tr>\n",
       "    <tr>\n",
       "      <th>2403</th>\n",
       "      <td>Manual</td>\n",
       "      <td>[\\n6\\n]</td>\n",
       "    </tr>\n",
       "    <tr>\n",
       "      <th>12616</th>\n",
       "      <td>Automatic</td>\n",
       "      <td>[\\n8\\n]</td>\n",
       "    </tr>\n",
       "    <tr>\n",
       "      <th>14263</th>\n",
       "      <td>Automatic</td>\n",
       "      <td>NaN</td>\n",
       "    </tr>\n",
       "    <tr>\n",
       "      <th>11064</th>\n",
       "      <td>Manual</td>\n",
       "      <td>NaN</td>\n",
       "    </tr>\n",
       "    <tr>\n",
       "      <th>8726</th>\n",
       "      <td>Manual</td>\n",
       "      <td>[\\n5\\n]</td>\n",
       "    </tr>\n",
       "    <tr>\n",
       "      <th>2525</th>\n",
       "      <td>Manual</td>\n",
       "      <td>NaN</td>\n",
       "    </tr>\n",
       "    <tr>\n",
       "      <th>1961</th>\n",
       "      <td>Automatic</td>\n",
       "      <td>[\\n7\\n]</td>\n",
       "    </tr>\n",
       "    <tr>\n",
       "      <th>8198</th>\n",
       "      <td>Manual</td>\n",
       "      <td>NaN</td>\n",
       "    </tr>\n",
       "    <tr>\n",
       "      <th>14246</th>\n",
       "      <td>Manual</td>\n",
       "      <td>[\\n5\\n]</td>\n",
       "    </tr>\n",
       "    <tr>\n",
       "      <th>1830</th>\n",
       "      <td>Manual</td>\n",
       "      <td>[\\n5\\n]</td>\n",
       "    </tr>\n",
       "    <tr>\n",
       "      <th>13869</th>\n",
       "      <td>Automatic</td>\n",
       "      <td>NaN</td>\n",
       "    </tr>\n",
       "    <tr>\n",
       "      <th>5468</th>\n",
       "      <td>Manual</td>\n",
       "      <td>[\\n6\\n]</td>\n",
       "    </tr>\n",
       "    <tr>\n",
       "      <th>6027</th>\n",
       "      <td>Automatic</td>\n",
       "      <td>[\\n6\\n]</td>\n",
       "    </tr>\n",
       "    <tr>\n",
       "      <th>5259</th>\n",
       "      <td>Automatic</td>\n",
       "      <td>[\\n7\\n]</td>\n",
       "    </tr>\n",
       "    <tr>\n",
       "      <th>3109</th>\n",
       "      <td>Manual</td>\n",
       "      <td>NaN</td>\n",
       "    </tr>\n",
       "    <tr>\n",
       "      <th>6335</th>\n",
       "      <td>Automatic</td>\n",
       "      <td>NaN</td>\n",
       "    </tr>\n",
       "    <tr>\n",
       "      <th>7797</th>\n",
       "      <td>Automatic</td>\n",
       "      <td>[\\n6\\n]</td>\n",
       "    </tr>\n",
       "    <tr>\n",
       "      <th>11233</th>\n",
       "      <td>Manual</td>\n",
       "      <td>NaN</td>\n",
       "    </tr>\n",
       "    <tr>\n",
       "      <th>275</th>\n",
       "      <td>Automatic</td>\n",
       "      <td>[\\n7\\n]</td>\n",
       "    </tr>\n",
       "    <tr>\n",
       "      <th>3454</th>\n",
       "      <td>Semi-automatic</td>\n",
       "      <td>[\\n7\\n]</td>\n",
       "    </tr>\n",
       "    <tr>\n",
       "      <th>5552</th>\n",
       "      <td>Manual</td>\n",
       "      <td>[\\n6\\n]</td>\n",
       "    </tr>\n",
       "    <tr>\n",
       "      <th>13188</th>\n",
       "      <td>Automatic</td>\n",
       "      <td>NaN</td>\n",
       "    </tr>\n",
       "    <tr>\n",
       "      <th>300</th>\n",
       "      <td>Automatic</td>\n",
       "      <td>NaN</td>\n",
       "    </tr>\n",
       "    <tr>\n",
       "      <th>11738</th>\n",
       "      <td>Manual</td>\n",
       "      <td>NaN</td>\n",
       "    </tr>\n",
       "    <tr>\n",
       "      <th>863</th>\n",
       "      <td>Automatic</td>\n",
       "      <td>[\\n6\\n]</td>\n",
       "    </tr>\n",
       "    <tr>\n",
       "      <th>5244</th>\n",
       "      <td>Automatic</td>\n",
       "      <td>NaN</td>\n",
       "    </tr>\n",
       "    <tr>\n",
       "      <th>15774</th>\n",
       "      <td>Automatic</td>\n",
       "      <td>[\\n6\\n]</td>\n",
       "    </tr>\n",
       "    <tr>\n",
       "      <th>6611</th>\n",
       "      <td>Automatic</td>\n",
       "      <td>[\\n6\\n]</td>\n",
       "    </tr>\n",
       "    <tr>\n",
       "      <th>10901</th>\n",
       "      <td>Manual</td>\n",
       "      <td>[\\n6\\n]</td>\n",
       "    </tr>\n",
       "    <tr>\n",
       "      <th>11092</th>\n",
       "      <td>Manual</td>\n",
       "      <td>[\\n6\\n]</td>\n",
       "    </tr>\n",
       "    <tr>\n",
       "      <th>4036</th>\n",
       "      <td>Manual</td>\n",
       "      <td>[\\n6\\n]</td>\n",
       "    </tr>\n",
       "    <tr>\n",
       "      <th>4085</th>\n",
       "      <td>Manual</td>\n",
       "      <td>[\\n6\\n]</td>\n",
       "    </tr>\n",
       "    <tr>\n",
       "      <th>2125</th>\n",
       "      <td>Automatic</td>\n",
       "      <td>[\\n7\\n]</td>\n",
       "    </tr>\n",
       "    <tr>\n",
       "      <th>8221</th>\n",
       "      <td>Manual</td>\n",
       "      <td>[\\n6\\n]</td>\n",
       "    </tr>\n",
       "    <tr>\n",
       "      <th>2759</th>\n",
       "      <td>Automatic</td>\n",
       "      <td>[\\n7\\n]</td>\n",
       "    </tr>\n",
       "    <tr>\n",
       "      <th>10630</th>\n",
       "      <td>Automatic</td>\n",
       "      <td>NaN</td>\n",
       "    </tr>\n",
       "    <tr>\n",
       "      <th>15893</th>\n",
       "      <td>Automatic</td>\n",
       "      <td>[\\n6\\n]</td>\n",
       "    </tr>\n",
       "    <tr>\n",
       "      <th>3310</th>\n",
       "      <td>Semi-automatic</td>\n",
       "      <td>[\\n7\\n]</td>\n",
       "    </tr>\n",
       "    <tr>\n",
       "      <th>5479</th>\n",
       "      <td>Manual</td>\n",
       "      <td>[\\n6\\n]</td>\n",
       "    </tr>\n",
       "    <tr>\n",
       "      <th>1107</th>\n",
       "      <td>Automatic</td>\n",
       "      <td>NaN</td>\n",
       "    </tr>\n",
       "    <tr>\n",
       "      <th>4371</th>\n",
       "      <td>Manual</td>\n",
       "      <td>[\\n6\\n]</td>\n",
       "    </tr>\n",
       "    <tr>\n",
       "      <th>7546</th>\n",
       "      <td>Manual</td>\n",
       "      <td>[\\n6\\n]</td>\n",
       "    </tr>\n",
       "    <tr>\n",
       "      <th>4495</th>\n",
       "      <td>Automatic</td>\n",
       "      <td>[\\n7\\n]</td>\n",
       "    </tr>\n",
       "    <tr>\n",
       "      <th>616</th>\n",
       "      <td>Manual</td>\n",
       "      <td>[\\n5\\n]</td>\n",
       "    </tr>\n",
       "    <tr>\n",
       "      <th>6993</th>\n",
       "      <td>Manual</td>\n",
       "      <td>[\\n6\\n]</td>\n",
       "    </tr>\n",
       "    <tr>\n",
       "      <th>12940</th>\n",
       "      <td>Automatic</td>\n",
       "      <td>NaN</td>\n",
       "    </tr>\n",
       "    <tr>\n",
       "      <th>12589</th>\n",
       "      <td>Automatic</td>\n",
       "      <td>[\\n6\\n]</td>\n",
       "    </tr>\n",
       "    <tr>\n",
       "      <th>7170</th>\n",
       "      <td>Automatic</td>\n",
       "      <td>[\\n6\\n]</td>\n",
       "    </tr>\n",
       "    <tr>\n",
       "      <th>1285</th>\n",
       "      <td>Manual</td>\n",
       "      <td>[\\n5\\n]</td>\n",
       "    </tr>\n",
       "    <tr>\n",
       "      <th>8676</th>\n",
       "      <td>Manual</td>\n",
       "      <td>[\\n5\\n]</td>\n",
       "    </tr>\n",
       "    <tr>\n",
       "      <th>4900</th>\n",
       "      <td>Manual</td>\n",
       "      <td>[\\n6\\n]</td>\n",
       "    </tr>\n",
       "    <tr>\n",
       "      <th>11412</th>\n",
       "      <td>Automatic</td>\n",
       "      <td>[\\n8\\n]</td>\n",
       "    </tr>\n",
       "    <tr>\n",
       "      <th>250</th>\n",
       "      <td>Automatic</td>\n",
       "      <td>NaN</td>\n",
       "    </tr>\n",
       "    <tr>\n",
       "      <th>1741</th>\n",
       "      <td>Manual</td>\n",
       "      <td>[\\n5\\n]</td>\n",
       "    </tr>\n",
       "    <tr>\n",
       "      <th>15507</th>\n",
       "      <td>Automatic</td>\n",
       "      <td>[\\n6\\n]</td>\n",
       "    </tr>\n",
       "    <tr>\n",
       "      <th>13288</th>\n",
       "      <td>Automatic</td>\n",
       "      <td>[\\n6\\n]</td>\n",
       "    </tr>\n",
       "    <tr>\n",
       "      <th>2376</th>\n",
       "      <td>Automatic</td>\n",
       "      <td>[\\n7\\n]</td>\n",
       "    </tr>\n",
       "    <tr>\n",
       "      <th>10278</th>\n",
       "      <td>Manual</td>\n",
       "      <td>[\\n5\\n]</td>\n",
       "    </tr>\n",
       "  </tbody>\n",
       "</table>\n",
       "</div>"
      ],
      "text/plain": [
       "          auto_manuel    Gears\n",
       "2688        Automatic      NaN\n",
       "1681        Automatic      NaN\n",
       "3006           Manual  [\\n6\\n]\n",
       "2354        Automatic      NaN\n",
       "2457           Manual  [\\n5\\n]\n",
       "14013       Automatic      NaN\n",
       "15017       Automatic      NaN\n",
       "846            Manual      NaN\n",
       "8636           Manual  [\\n5\\n]\n",
       "14311          Manual  [\\n5\\n]\n",
       "12578       Automatic  [\\n8\\n]\n",
       "2697        Automatic      NaN\n",
       "8272        Automatic  [\\n6\\n]\n",
       "3171           Manual      NaN\n",
       "5163        Automatic  [\\n7\\n]\n",
       "6928           Manual      NaN\n",
       "10936          Manual  [\\n6\\n]\n",
       "11805       Automatic  [\\n6\\n]\n",
       "3918        Automatic  [\\n7\\n]\n",
       "3888        Automatic  [\\n6\\n]\n",
       "11737          Manual      NaN\n",
       "15743       Automatic      NaN\n",
       "5628           Manual  [\\n6\\n]\n",
       "5803        Automatic  [\\n6\\n]\n",
       "3806        Automatic  [\\n7\\n]\n",
       "8009           Manual  [\\n5\\n]\n",
       "3980        Automatic  [\\n7\\n]\n",
       "12920          Manual  [\\n6\\n]\n",
       "9630           Manual  [\\n5\\n]\n",
       "138         Automatic  [\\n7\\n]\n",
       "8324        Automatic  [\\n5\\n]\n",
       "2248           Manual  [\\n5\\n]\n",
       "1035        Automatic  [\\n7\\n]\n",
       "11119          Manual  [\\n6\\n]\n",
       "6835           Manual      NaN\n",
       "4480        Automatic  [\\n7\\n]\n",
       "2018        Automatic      NaN\n",
       "15287          Manual  [\\n6\\n]\n",
       "9316        Automatic  [\\n5\\n]\n",
       "13769       Automatic      NaN\n",
       "4383           Manual  [\\n6\\n]\n",
       "7789        Automatic      NaN\n",
       "2403           Manual  [\\n6\\n]\n",
       "12616       Automatic  [\\n8\\n]\n",
       "14263       Automatic      NaN\n",
       "11064          Manual      NaN\n",
       "8726           Manual  [\\n5\\n]\n",
       "2525           Manual      NaN\n",
       "1961        Automatic  [\\n7\\n]\n",
       "8198           Manual      NaN\n",
       "14246          Manual  [\\n5\\n]\n",
       "1830           Manual  [\\n5\\n]\n",
       "13869       Automatic      NaN\n",
       "5468           Manual  [\\n6\\n]\n",
       "6027        Automatic  [\\n6\\n]\n",
       "5259        Automatic  [\\n7\\n]\n",
       "3109           Manual      NaN\n",
       "6335        Automatic      NaN\n",
       "7797        Automatic  [\\n6\\n]\n",
       "11233          Manual      NaN\n",
       "275         Automatic  [\\n7\\n]\n",
       "3454   Semi-automatic  [\\n7\\n]\n",
       "5552           Manual  [\\n6\\n]\n",
       "13188       Automatic      NaN\n",
       "300         Automatic      NaN\n",
       "11738          Manual      NaN\n",
       "863         Automatic  [\\n6\\n]\n",
       "5244        Automatic      NaN\n",
       "15774       Automatic  [\\n6\\n]\n",
       "6611        Automatic  [\\n6\\n]\n",
       "10901          Manual  [\\n6\\n]\n",
       "11092          Manual  [\\n6\\n]\n",
       "4036           Manual  [\\n6\\n]\n",
       "4085           Manual  [\\n6\\n]\n",
       "2125        Automatic  [\\n7\\n]\n",
       "8221           Manual  [\\n6\\n]\n",
       "2759        Automatic  [\\n7\\n]\n",
       "10630       Automatic      NaN\n",
       "15893       Automatic  [\\n6\\n]\n",
       "3310   Semi-automatic  [\\n7\\n]\n",
       "5479           Manual  [\\n6\\n]\n",
       "1107        Automatic      NaN\n",
       "4371           Manual  [\\n6\\n]\n",
       "7546           Manual  [\\n6\\n]\n",
       "4495        Automatic  [\\n7\\n]\n",
       "616            Manual  [\\n5\\n]\n",
       "6993           Manual  [\\n6\\n]\n",
       "12940       Automatic      NaN\n",
       "12589       Automatic  [\\n6\\n]\n",
       "7170        Automatic  [\\n6\\n]\n",
       "1285           Manual  [\\n5\\n]\n",
       "8676           Manual  [\\n5\\n]\n",
       "4900           Manual  [\\n6\\n]\n",
       "11412       Automatic  [\\n8\\n]\n",
       "250         Automatic      NaN\n",
       "1741           Manual  [\\n5\\n]\n",
       "15507       Automatic  [\\n6\\n]\n",
       "13288       Automatic  [\\n6\\n]\n",
       "2376        Automatic  [\\n7\\n]\n",
       "10278          Manual  [\\n5\\n]"
      ]
     },
     "execution_count": 93,
     "metadata": {},
     "output_type": "execute_result"
    }
   ],
   "source": [
    "df[[\"auto_manuel\", \"Gears\"]].sample(100) # they are different."
   ]
  },
  {
   "cell_type": "code",
   "execution_count": 94,
   "metadata": {},
   "outputs": [],
   "source": [
    "df.drop(columns= \"Gearing Type\", inplace=True)"
   ]
  },
  {
   "cell_type": "code",
   "execution_count": 95,
   "metadata": {
    "scrolled": true
   },
   "outputs": [
    {
     "data": {
      "text/plain": [
       "Index(['make_model', 'short_description', 'body_type', 'price', 'vat', 'km', 'registration', 'prev_owner', 'Previous Owners', 'Next Inspection', 'Inspection new', 'Warranty', 'Full Service', 'Non-smoking Vehicle', 'Paint Type', 'Model Code', 'Displacement', 'Cylinders', 'Weight', 'Drive chain', 'Consumption', 'CO2 Emission', 'Emission Class', '\\nComfort & Convenience\\n', '\\nEntertainment & Media\\n', '\\nExtras\\n', '\\nSafety & Security\\n', 'description', 'Emission Label', 'Gears', 'Country version', 'make', 'hp_kW', 'used_new', 'fuel_type', 'upholstery_kind', 'upholstery_color', 'door_count', 'seat_count', 'auto_manuel'], dtype='object')"
      ]
     },
     "execution_count": 95,
     "metadata": {},
     "output_type": "execute_result"
    }
   ],
   "source": [
    "df.columns"
   ]
  },
  {
   "cell_type": "markdown",
   "metadata": {},
   "source": [
    "## Displacement"
   ]
  },
  {
   "cell_type": "code",
   "execution_count": 96,
   "metadata": {
    "scrolled": true
   },
   "outputs": [
    {
     "ename": "TypeError",
     "evalue": "unhashable type: 'list'",
     "output_type": "error",
     "traceback": [
      "\u001b[0;31m---------------------------------------------------------------------------\u001b[0m",
      "\u001b[0;31mTypeError\u001b[0m                                 Traceback (most recent call last)",
      "\u001b[0;32mpandas/_libs/hashtable_class_helper.pxi\u001b[0m in \u001b[0;36mpandas._libs.hashtable.PyObjectHashTable.map_locations\u001b[0;34m()\u001b[0m\n",
      "\u001b[0;31mTypeError\u001b[0m: unhashable type: 'list'"
     ]
    },
    {
     "name": "stderr",
     "output_type": "stream",
     "text": [
      "Exception ignored in: 'pandas._libs.index.IndexEngine._call_map_locations'\n",
      "Traceback (most recent call last):\n",
      "  File \"pandas/_libs/hashtable_class_helper.pxi\", line 5231, in pandas._libs.hashtable.PyObjectHashTable.map_locations\n",
      "TypeError: unhashable type: 'list'\n"
     ]
    },
    {
     "data": {
      "text/plain": [
       "[\\n1,598 cc\\n]     4761\n",
       "[\\n999 cc\\n]       2438\n",
       "[\\n1,398 cc\\n]     1314\n",
       "[\\n1,399 cc\\n]      749\n",
       "[\\n1,229 cc\\n]      677\n",
       "[\\n1,956 cc\\n]      670\n",
       "[\\n1,461 cc\\n]      595\n",
       "[\\n1,490 cc\\n]      559\n",
       "NaN                 496\n",
       "[\\n1,422 cc\\n]      467\n",
       "[\\n1,197 cc\\n]      353\n",
       "[\\n898 cc\\n]        351\n",
       "[\\n1,395 cc\\n]      320\n",
       "[\\n1,968 cc\\n]      301\n",
       "[\\n1,149 cc\\n]      288\n",
       "[\\n1,618 cc\\n]      212\n",
       "[\\n1,798 cc\\n]      210\n",
       "[\\n1,498 cc\\n]      196\n",
       "[\\n1,600 cc\\n]      130\n",
       "[\\n1,248 cc\\n]      110\n",
       "[\\n1,997 cc\\n]      103\n",
       "[\\n1,364 cc\\n]      102\n",
       "[\\n1,400 cc\\n]       90\n",
       "[\\n998 cc\\n]         72\n",
       "[\\n1,500 cc\\n]       50\n",
       "[\\n2,000 cc\\n]       46\n",
       "[\\n1,000 cc\\n]       40\n",
       "[\\n1 cc\\n]           36\n",
       "[\\n1,998 cc\\n]       25\n",
       "[\\n2,480 cc\\n]       20\n",
       "[\\n1,200 cc\\n]       18\n",
       "[\\n1,984 cc\\n]       18\n",
       "[\\n1,397 cc\\n]       11\n",
       "[\\n899 cc\\n]         11\n",
       "[\\n160 cc\\n]          6\n",
       "[\\n929 cc\\n]          5\n",
       "[\\n1,499 cc\\n]        5\n",
       "[\\n997 cc\\n]          4\n",
       "[\\n1,596 cc\\n]        4\n",
       "[\\n139 cc\\n]          4\n",
       "[\\n900 cc\\n]          4\n",
       "[\\n1,599 cc\\n]        3\n",
       "[\\n1,199 cc\\n]        3\n",
       "[\\n1,396 cc\\n]        3\n",
       "[\\n1,495 cc\\n]        2\n",
       "[\\n1,589 cc\\n]        2\n",
       "[\\n1,300 cc\\n]        2\n",
       "[\\n2 cc\\n]            2\n",
       "[\\n995 cc\\n]          2\n",
       "[\\n1,496 cc\\n]        1\n",
       "[\\n890 cc\\n]          1\n",
       "[\\n1,580 cc\\n]        1\n",
       "[\\n1,995 cc\\n]        1\n",
       "[\\n1,333 cc\\n]        1\n",
       "[\\n54 cc\\n]           1\n",
       "[\\n1,533 cc\\n]        1\n",
       "[\\n1,100 cc\\n]        1\n",
       "[\\n1,350 cc\\n]        1\n",
       "[\\n16,000 cc\\n]       1\n",
       "[\\n1,856 cc\\n]        1\n",
       "[\\n1,568 cc\\n]        1\n",
       "[\\n1,896 cc\\n]        1\n",
       "[\\n1,584 cc\\n]        1\n",
       "[\\n996 cc\\n]          1\n",
       "[\\n1,696 cc\\n]        1\n",
       "[\\n1,686 cc\\n]        1\n",
       "[\\n15,898 cc\\n]       1\n",
       "[\\n1,368 cc\\n]        1\n",
       "[\\n140 cc\\n]          1\n",
       "[\\n973 cc\\n]          1\n",
       "[\\n1,239 cc\\n]        1\n",
       "[\\n1,369 cc\\n]        1\n",
       "[\\n1,390 cc\\n]        1\n",
       "[\\n122 cc\\n]          1\n",
       "[\\n1,198 cc\\n]        1\n",
       "[\\n1,195 cc\\n]        1\n",
       "[\\n2,967 cc\\n]        1\n",
       "[\\n1,800 cc\\n]        1\n",
       "Name: Displacement, dtype: int64"
      ]
     },
     "execution_count": 96,
     "metadata": {},
     "output_type": "execute_result"
    }
   ],
   "source": [
    "df.Displacement.value_counts(dropna=False)"
   ]
  },
  {
   "cell_type": "code",
   "execution_count": 97,
   "metadata": {
    "scrolled": true
   },
   "outputs": [
    {
     "data": {
      "text/plain": [
       "1598     4761\n",
       "999      2438\n",
       "1398     1314\n",
       "1399      749\n",
       "1229      677\n",
       "1956      670\n",
       "1461      595\n",
       "1490      559\n",
       "NaN       496\n",
       "1422      467\n",
       "1197      353\n",
       "898       351\n",
       "1395      320\n",
       "1968      301\n",
       "1149      288\n",
       "1618      212\n",
       "1798      210\n",
       "1498      196\n",
       "1600      130\n",
       "1248      110\n",
       "1997      103\n",
       "1364      102\n",
       "1400       90\n",
       "998        72\n",
       "1500       50\n",
       "2000       46\n",
       "1000       40\n",
       "1          36\n",
       "1998       25\n",
       "2480       20\n",
       "1200       18\n",
       "1984       18\n",
       "1397       11\n",
       "899        11\n",
       "160         6\n",
       "929         5\n",
       "1499        5\n",
       "997         4\n",
       "1596        4\n",
       "139         4\n",
       "900         4\n",
       "1599        3\n",
       "1199        3\n",
       "1396        3\n",
       "1495        2\n",
       "1589        2\n",
       "1300        2\n",
       "2           2\n",
       "995         2\n",
       "1496        1\n",
       "890         1\n",
       "1580        1\n",
       "1995        1\n",
       "1333        1\n",
       "54          1\n",
       "1533        1\n",
       "1100        1\n",
       "1350        1\n",
       "16000       1\n",
       "1856        1\n",
       "1568        1\n",
       "1896        1\n",
       "1584        1\n",
       "996         1\n",
       "1696        1\n",
       "1686        1\n",
       "15898       1\n",
       "1368        1\n",
       "140         1\n",
       "973         1\n",
       "1239        1\n",
       "1369        1\n",
       "1390        1\n",
       "122         1\n",
       "1198        1\n",
       "1195        1\n",
       "2967        1\n",
       "1800        1\n",
       "Name: Displacement, dtype: int64"
      ]
     },
     "execution_count": 97,
     "metadata": {},
     "output_type": "execute_result"
    }
   ],
   "source": [
    "df.Displacement.str[0].str.strip().str.split().str[0].str.replace(\",\", \"\").value_counts(dropna=False)"
   ]
  },
  {
   "cell_type": "code",
   "execution_count": 98,
   "metadata": {},
   "outputs": [],
   "source": [
    "df[\"displacement_cc\"] = df.Displacement.str[0].str.strip().str.split().str[0].str.replace(\",\", \"\")"
   ]
  },
  {
   "cell_type": "code",
   "execution_count": 99,
   "metadata": {},
   "outputs": [],
   "source": [
    "df.drop(columns=\"Displacement\", inplace=True)"
   ]
  },
  {
   "cell_type": "code",
   "execution_count": 100,
   "metadata": {},
   "outputs": [
    {
     "data": {
      "text/plain": [
       "Index(['make_model', 'short_description', 'body_type', 'price', 'vat', 'km', 'registration', 'prev_owner', 'Previous Owners', 'Next Inspection', 'Inspection new', 'Warranty', 'Full Service', 'Non-smoking Vehicle', 'Paint Type', 'Model Code', 'Cylinders', 'Weight', 'Drive chain', 'Consumption', 'CO2 Emission', 'Emission Class', '\\nComfort & Convenience\\n', '\\nEntertainment & Media\\n', '\\nExtras\\n', '\\nSafety & Security\\n', 'description', 'Emission Label', 'Gears', 'Country version', 'make', 'hp_kW', 'used_new', 'fuel_type', 'upholstery_kind', 'upholstery_color', 'door_count', 'seat_count', 'auto_manuel', 'displacement_cc'], dtype='object')"
      ]
     },
     "execution_count": 100,
     "metadata": {},
     "output_type": "execute_result"
    }
   ],
   "source": [
    "df.columns"
   ]
  },
  {
   "cell_type": "markdown",
   "metadata": {},
   "source": [
    "## Consumption"
   ]
  },
  {
   "cell_type": "code",
   "execution_count": 101,
   "metadata": {
    "scrolled": false
   },
   "outputs": [
    {
     "ename": "TypeError",
     "evalue": "unhashable type: 'list'",
     "output_type": "error",
     "traceback": [
      "\u001b[0;31m---------------------------------------------------------------------------\u001b[0m",
      "\u001b[0;31mTypeError\u001b[0m                                 Traceback (most recent call last)",
      "\u001b[0;32mpandas/_libs/hashtable_class_helper.pxi\u001b[0m in \u001b[0;36mpandas._libs.hashtable.PyObjectHashTable.map_locations\u001b[0;34m()\u001b[0m\n",
      "\u001b[0;31mTypeError\u001b[0m: unhashable type: 'list'"
     ]
    },
    {
     "name": "stderr",
     "output_type": "stream",
     "text": [
      "Exception ignored in: 'pandas._libs.index.IndexEngine._call_map_locations'\n",
      "Traceback (most recent call last):\n",
      "  File \"pandas/_libs/hashtable_class_helper.pxi\", line 5231, in pandas._libs.hashtable.PyObjectHashTable.map_locations\n",
      "TypeError: unhashable type: 'list'\n"
     ]
    },
    {
     "data": {
      "text/plain": [
       "NaN                                                                                   1906\n",
       "[[3.9 l/100 km (comb)], [4.1 l/100 km (city)], [3.7 l/100 km (country)]]               304\n",
       "[[4.2 l/100 km (comb)], [5 l/100 km (city)], [3.7 l/100 km (country)]]                 276\n",
       "[[5.4 l/100 km (comb)], [6.8 l/100 km (city)], [4.5 l/100 km (country)]]               257\n",
       "[[3.8 l/100 km (comb)], [4.3 l/100 km (city)], [3.5 l/100 km (country)]]               253\n",
       "                                                                                      ... \n",
       "[[4.2 l/100 km (comb)], [5.3 l/100 km (city)], [3.6 l/100 km (country)]]                 1\n",
       "[\\n, 5.1 l/100 km (comb), \\n, 6.4 l/100 km (city), \\n, 4.3 l/100 km (country), \\n]       1\n",
       "[[4.6 l/100 km (comb)], [5.4 l/100 km (city)], [6.7 l/100 km (country)]]                 1\n",
       "[\\n, 6.3 l/100 km (comb), \\n, \\n, \\n]                                                    1\n",
       "[\\n, 7.4 l/100 km (comb), \\n, 9.6 l/100 km (city), \\n, 6 l/100 km (country), \\n]         1\n",
       "Name: Consumption, Length: 882, dtype: int64"
      ]
     },
     "execution_count": 101,
     "metadata": {},
     "output_type": "execute_result"
    }
   ],
   "source": [
    "df.Consumption.value_counts(dropna=False)"
   ]
  },
  {
   "cell_type": "code",
   "execution_count": 102,
   "metadata": {},
   "outputs": [
    {
     "name": "stdout",
     "output_type": "stream",
     "text": [
      "<class 'pandas.core.frame.DataFrame'>\n",
      "RangeIndex: 15919 entries, 0 to 15918\n",
      "Data columns (total 1 columns):\n",
      " #   Column       Dtype \n",
      "---  ------       ----- \n",
      " 0   Consumption  object\n",
      "dtypes: object(1)\n",
      "memory usage: 124.5+ KB\n"
     ]
    }
   ],
   "source": [
    "df[[\"Consumption\"]].info()"
   ]
  },
  {
   "cell_type": "code",
   "execution_count": 103,
   "metadata": {
    "scrolled": true
   },
   "outputs": [
    {
     "data": {
      "text/plain": [
       "NaN    15069\n",
       "         850\n",
       "Name: Consumption, dtype: int64"
      ]
     },
     "execution_count": 103,
     "metadata": {},
     "output_type": "execute_result"
    }
   ],
   "source": [
    "df.Consumption.str[0].str.strip().value_counts(dropna=False)"
   ]
  },
  {
   "cell_type": "code",
   "execution_count": 104,
   "metadata": {
    "scrolled": false
   },
   "outputs": [
    {
     "data": {
      "text/plain": [
       "0        3.8\n",
       "1        5.6\n",
       "2        3.8\n",
       "3        3.8\n",
       "4        4.1\n",
       "        ... \n",
       "15914    5.3\n",
       "15915    NaN\n",
       "15916    5.3\n",
       "15917    5.3\n",
       "15918    6.8\n",
       "Name: Consumption, Length: 15919, dtype: object"
      ]
     },
     "execution_count": 104,
     "metadata": {},
     "output_type": "execute_result"
    }
   ],
   "source": [
    "df.Consumption.str[0].str[0].str.split().str[0]"
   ]
  },
  {
   "cell_type": "code",
   "execution_count": 105,
   "metadata": {},
   "outputs": [
    {
     "data": {
      "text/plain": [
       "0        3.8\n",
       "1        5.6\n",
       "2        3.8\n",
       "3        3.8\n",
       "4        4.1\n",
       "        ... \n",
       "15914    5.3\n",
       "15915    NaN\n",
       "15916    5.3\n",
       "15917    5.3\n",
       "15918    6.8\n",
       "Name: Consumption, Length: 15919, dtype: object"
      ]
     },
     "execution_count": 105,
     "metadata": {},
     "output_type": "execute_result"
    }
   ],
   "source": [
    "df.Consumption.str[0].str[0].str.split().str[0]"
   ]
  },
  {
   "cell_type": "code",
   "execution_count": 106,
   "metadata": {
    "scrolled": true
   },
   "outputs": [
    {
     "data": {
      "text/plain": [
       "NaN     2883\n",
       "3.9      732\n",
       "4        712\n",
       "5.4      663\n",
       "5.1      630\n",
       "4.4      595\n",
       "3.8      585\n",
       "5.6      568\n",
       "4.7      555\n",
       "4.8      523\n",
       "5        513\n",
       "4.5      511\n",
       "5.2      429\n",
       "4.6      420\n",
       "4.2      408\n",
       "5.3      375\n",
       "3.7      369\n",
       "4.9      348\n",
       "5.5      342\n",
       "4.1      341\n",
       "5.9      308\n",
       "3.3      307\n",
       "5.7      302\n",
       "4.3      295\n",
       "3.5      288\n",
       "6        278\n",
       "3.6      194\n",
       "6.2      184\n",
       "5.8      142\n",
       "6.3      141\n",
       "6.1      135\n",
       "6.8      134\n",
       "6.6      119\n",
       "3.4      106\n",
       "3         69\n",
       "6.4       64\n",
       "7.4       62\n",
       "7.1       38\n",
       "6.5       36\n",
       "10        34\n",
       "6.7       33\n",
       "3.2       25\n",
       "6.9       21\n",
       "8.3       20\n",
       "7.6       14\n",
       "7          9\n",
       "3.1        7\n",
       "7.2        6\n",
       "7.8        6\n",
       "8          5\n",
       "51         4\n",
       "8.7        3\n",
       "8.6        3\n",
       "7.3        2\n",
       "7.9        2\n",
       "8.1        2\n",
       "40         2\n",
       "38         2\n",
       "0          2\n",
       "11         1\n",
       "43         1\n",
       "7.5        1\n",
       "13.8       1\n",
       "55         1\n",
       "54         1\n",
       "1.2        1\n",
       "32         1\n",
       "33         1\n",
       "50         1\n",
       "1          1\n",
       "46         1\n",
       "9.1        1\n",
       "Name: Consumption, dtype: int64"
      ]
     },
     "execution_count": 106,
     "metadata": {},
     "output_type": "execute_result"
    }
   ],
   "source": [
    "df.Consumption.str[0].str[0].str.split().str[0].value_counts(dropna=False)"
   ]
  },
  {
   "cell_type": "code",
   "execution_count": 107,
   "metadata": {},
   "outputs": [
    {
     "data": {
      "text/plain": [
       "0        3.8\n",
       "1        5.6\n",
       "2        3.8\n",
       "3        3.8\n",
       "4        4.1\n",
       "        ... \n",
       "15914    5.3\n",
       "15915    NaN\n",
       "15916    5.3\n",
       "15917    5.3\n",
       "15918    6.8\n",
       "Name: Consumption, Length: 15919, dtype: object"
      ]
     },
     "execution_count": 107,
     "metadata": {},
     "output_type": "execute_result"
    }
   ],
   "source": [
    "df.Consumption.str[0].str[0].str.split().str[0]"
   ]
  },
  {
   "cell_type": "code",
   "execution_count": 108,
   "metadata": {},
   "outputs": [
    {
     "data": {
      "text/plain": [
       "NaN    15069\n",
       "         850\n",
       "Name: Consumption, dtype: int64"
      ]
     },
     "execution_count": 108,
     "metadata": {},
     "output_type": "execute_result"
    }
   ],
   "source": [
    "df.Consumption.str[2].str.strip().value_counts(dropna=False)"
   ]
  },
  {
   "cell_type": "code",
   "execution_count": 109,
   "metadata": {
    "scrolled": true
   },
   "outputs": [
    {
     "data": {
      "text/plain": [
       "NaN                     15069\n",
       "7.3 l/100 km (city)        81\n",
       "7.8 l/100 km (city)        72\n",
       "6.7 l/100 km (city)        60\n",
       "7.5 l/100 km (city)        50\n",
       "7.2 l/100 km (city)        48\n",
       "5.9 l/100 km (city)        45\n",
       "7.7 l/100 km (city)        39\n",
       "7.1 l/100 km (city)        37\n",
       "5.8 l/100 km (city)        33\n",
       "5.4 l/100 km (city)        32\n",
       "5 l/100 km (city)          27\n",
       "6.2 l/100 km (city)        26\n",
       "7.9 l/100 km (city)        24\n",
       "8.2 l/100 km (city)        22\n",
       "6.3 l/100 km (city)        21\n",
       "7.6 l/100 km (city)        21\n",
       "6.4 l/100 km (city)        20\n",
       "8.3 l/100 km (city)        16\n",
       "8.6 l/100 km (city)        15\n",
       "6.6 l/100 km (city)        15\n",
       "                           14\n",
       "5.2 l/100 km (city)        12\n",
       "6 l/100 km (city)          12\n",
       "6.8 l/100 km (city)        11\n",
       "5.7 l/100 km (city)        11\n",
       "7 l/100 km (city)          10\n",
       "8 l/100 km (city)           9\n",
       "8.5 l/100 km (city)         9\n",
       "7.4 l/100 km (city)         9\n",
       "5.1 l/100 km (city)         9\n",
       "5.5 l/100 km (city)         9\n",
       "6.9 l/100 km (city)         8\n",
       "5.6 l/100 km (city)         4\n",
       "8.1 l/100 km (city)         4\n",
       "8.7 l/100 km (city)         3\n",
       "9.2 l/100 km (city)         3\n",
       "8.4 l/100 km (city)         2\n",
       "3.8 l/100 km (city)         1\n",
       "6.1 l/100 km (city)         1\n",
       "4.7 l/100 km (city)         1\n",
       "9.5 l/100 km (city)         1\n",
       "9.4 l/100 km (city)         1\n",
       "11.5 l/100 km (city)        1\n",
       "9.6 l/100 km (city)         1\n",
       "Name: Consumption, dtype: int64"
      ]
     },
     "execution_count": 109,
     "metadata": {},
     "output_type": "execute_result"
    }
   ],
   "source": [
    "df.Consumption.str[3].str.strip().value_counts(dropna=False)"
   ]
  },
  {
   "cell_type": "code",
   "execution_count": 110,
   "metadata": {
    "scrolled": true
   },
   "outputs": [
    {
     "data": {
      "text/plain": [
       "NaN                       15083\n",
       "4.2 l/100 km (country)       77\n",
       "4.9 l/100 km (country)       71\n",
       "4.6 l/100 km (country)       70\n",
       "4.4 l/100 km (country)       69\n",
       "4.5 l/100 km (country)       59\n",
       "4.7 l/100 km (country)       53\n",
       "4.8 l/100 km (country)       52\n",
       "5.3 l/100 km (country)       51\n",
       "5.4 l/100 km (country)       49\n",
       "4 l/100 km (country)         34\n",
       "5.2 l/100 km (country)       33\n",
       "3.7 l/100 km (country)       30\n",
       "3.8 l/100 km (country)       27\n",
       "5 l/100 km (country)         24\n",
       "4.3 l/100 km (country)       24\n",
       "4.1 l/100 km (country)       23\n",
       "5.6 l/100 km (country)       23\n",
       "3.9 l/100 km (country)       18\n",
       "5.1 l/100 km (country)       17\n",
       "5.7 l/100 km (country)       13\n",
       "6 l/100 km (country)          7\n",
       "5.5 l/100 km (country)        6\n",
       "6.3 l/100 km (country)        3\n",
       "3.3 l/100 km (country)        1\n",
       "6.1 l/100 km (country)        1\n",
       "7 l/100 km (country)          1\n",
       "Name: Consumption, dtype: int64"
      ]
     },
     "execution_count": 110,
     "metadata": {},
     "output_type": "execute_result"
    }
   ],
   "source": [
    "df.Consumption.str[5].str.strip().value_counts(dropna=False)"
   ]
  },
  {
   "cell_type": "code",
   "execution_count": 111,
   "metadata": {},
   "outputs": [],
   "source": [
    "df[\"consumption_comb\"] = df.Consumption.str[0].str[0].str.strip().str.split().str[0]"
   ]
  },
  {
   "cell_type": "code",
   "execution_count": 112,
   "metadata": {
    "scrolled": true
   },
   "outputs": [
    {
     "data": {
      "text/plain": [
       "NaN     2883\n",
       "3.9      732\n",
       "4        712\n",
       "5.4      663\n",
       "5.1      630\n",
       "4.4      595\n",
       "3.8      585\n",
       "5.6      568\n",
       "4.7      555\n",
       "4.8      523\n",
       "5        513\n",
       "4.5      511\n",
       "5.2      429\n",
       "4.6      420\n",
       "4.2      408\n",
       "5.3      375\n",
       "3.7      369\n",
       "4.9      348\n",
       "5.5      342\n",
       "4.1      341\n",
       "5.9      308\n",
       "3.3      307\n",
       "5.7      302\n",
       "4.3      295\n",
       "3.5      288\n",
       "6        278\n",
       "3.6      194\n",
       "6.2      184\n",
       "5.8      142\n",
       "6.3      141\n",
       "6.1      135\n",
       "6.8      134\n",
       "6.6      119\n",
       "3.4      106\n",
       "3         69\n",
       "6.4       64\n",
       "7.4       62\n",
       "7.1       38\n",
       "6.5       36\n",
       "10        34\n",
       "6.7       33\n",
       "3.2       25\n",
       "6.9       21\n",
       "8.3       20\n",
       "7.6       14\n",
       "7          9\n",
       "3.1        7\n",
       "7.2        6\n",
       "7.8        6\n",
       "8          5\n",
       "51         4\n",
       "8.7        3\n",
       "8.6        3\n",
       "7.3        2\n",
       "7.9        2\n",
       "8.1        2\n",
       "40         2\n",
       "38         2\n",
       "0          2\n",
       "11         1\n",
       "43         1\n",
       "7.5        1\n",
       "13.8       1\n",
       "55         1\n",
       "54         1\n",
       "1.2        1\n",
       "32         1\n",
       "33         1\n",
       "50         1\n",
       "1          1\n",
       "46         1\n",
       "9.1        1\n",
       "Name: consumption_comb, dtype: int64"
      ]
     },
     "execution_count": 112,
     "metadata": {},
     "output_type": "execute_result"
    }
   ],
   "source": [
    "df[\"consumption_comb\"].value_counts(dropna=False)"
   ]
  },
  {
   "cell_type": "code",
   "execution_count": 113,
   "metadata": {},
   "outputs": [],
   "source": [
    "df[[\"Consumption\", \"consumption_comb\"]].to_csv(\"consumption.csv\", index=False )"
   ]
  },
  {
   "cell_type": "code",
   "execution_count": 114,
   "metadata": {
    "scrolled": true
   },
   "outputs": [
    {
     "data": {
      "text/plain": [
       "Index(['make_model', 'short_description', 'body_type', 'price', 'vat', 'km', 'registration', 'prev_owner', 'Previous Owners', 'Next Inspection', 'Inspection new', 'Warranty', 'Full Service', 'Non-smoking Vehicle', 'Paint Type', 'Model Code', 'Cylinders', 'Weight', 'Drive chain', 'Consumption', 'CO2 Emission', 'Emission Class', '\\nComfort & Convenience\\n', '\\nEntertainment & Media\\n', '\\nExtras\\n', '\\nSafety & Security\\n', 'description', 'Emission Label', 'Gears', 'Country version', 'make', 'hp_kW', 'used_new', 'fuel_type', 'upholstery_kind', 'upholstery_color', 'door_count', 'seat_count', 'auto_manuel', 'displacement_cc', 'consumption_comb'], dtype='object')"
      ]
     },
     "execution_count": 114,
     "metadata": {},
     "output_type": "execute_result"
    }
   ],
   "source": [
    "df.columns"
   ]
  },
  {
   "cell_type": "markdown",
   "metadata": {},
   "source": [
    "## CO2 Emission"
   ]
  },
  {
   "cell_type": "code",
   "execution_count": 115,
   "metadata": {},
   "outputs": [
    {
     "ename": "TypeError",
     "evalue": "unhashable type: 'list'",
     "output_type": "error",
     "traceback": [
      "\u001b[0;31m---------------------------------------------------------------------------\u001b[0m",
      "\u001b[0;31mTypeError\u001b[0m                                 Traceback (most recent call last)",
      "\u001b[0;32mpandas/_libs/hashtable_class_helper.pxi\u001b[0m in \u001b[0;36mpandas._libs.hashtable.PyObjectHashTable.map_locations\u001b[0;34m()\u001b[0m\n",
      "\u001b[0;31mTypeError\u001b[0m: unhashable type: 'list'"
     ]
    },
    {
     "name": "stderr",
     "output_type": "stream",
     "text": [
      "Exception ignored in: 'pandas._libs.index.IndexEngine._call_map_locations'\n",
      "Traceback (most recent call last):\n",
      "  File \"pandas/_libs/hashtable_class_helper.pxi\", line 5231, in pandas._libs.hashtable.PyObjectHashTable.map_locations\n",
      "TypeError: unhashable type: 'list'\n"
     ]
    },
    {
     "data": {
      "text/plain": [
       "NaN                             1808\n",
       "[\\n120 g CO2/km (comb)\\n]        740\n",
       "[[], [], []]                     628\n",
       "[\\n99 g CO2/km (comb)\\n]         545\n",
       "[\\n97 g CO2/km (comb)\\n]         537\n",
       "[\\n104 g CO2/km (comb)\\n]        501\n",
       "[\\n102 g CO2/km (comb)\\n]        477\n",
       "[\\n103 g CO2/km (comb)\\n]        445\n",
       "[\\n114 g CO2/km (comb)\\n]        382\n",
       "[\\n124 g CO2/km (comb)\\n]        372\n",
       "[\\n107 g CO2/km (comb)\\n]        362\n",
       "[\\n108 g CO2/km (comb)\\n]        362\n",
       "[\\n119 g CO2/km (comb)\\n]        361\n",
       "[\\n106 g CO2/km (comb)\\n]        349\n",
       "[\\n128 g CO2/km (comb)\\n]        329\n",
       "[\\n126 g CO2/km (comb)\\n]        282\n",
       "[\\n85 g CO2/km (comb)\\n]         275\n",
       "[\\n118 g CO2/km (comb)\\n]        270\n",
       "[\\n110 g CO2/km (comb)\\n]        266\n",
       "[\\n127 g CO2/km (comb)\\n]        257\n",
       "[\\n117 g CO2/km (comb)\\n]        254\n",
       "[\\n111 g CO2/km (comb)\\n]        237\n",
       "[\\n113 g CO2/km (comb)\\n]        235\n",
       "[\\n109 g CO2/km (comb)\\n]        234\n",
       "[\\n139 g CO2/km (comb)\\n]        224\n",
       "[\\n140 g CO2/km (comb)\\n]        218\n",
       "[\\n129 g CO2/km (comb)\\n]        213\n",
       "[\\n105 g CO2/km (comb)\\n]        202\n",
       "[\\n135 g CO2/km (comb)\\n]        202\n",
       "[\\n92 g CO2/km (comb)\\n]         198\n",
       "[\\n130 g CO2/km (comb)\\n]        180\n",
       "[\\n123 g CO2/km (comb)\\n]        178\n",
       "[\\n150 g CO2/km (comb)\\n]        174\n",
       "[\\n112 g CO2/km (comb)\\n]        171\n",
       "[\\n143 g CO2/km (comb)\\n]        171\n",
       "[\\n95 g CO2/km (comb)\\n]         161\n",
       "[\\n116 g CO2/km (comb)\\n]        157\n",
       "[\\n141 g CO2/km (comb)\\n]        156\n",
       "[\\n98 g CO2/km (comb)\\n]         151\n",
       "[\\n133 g CO2/km (comb)\\n]        145\n",
       "[\\n136 g CO2/km (comb)\\n]        145\n",
       "[\\n137 g CO2/km (comb)\\n]        133\n",
       "[\\n125 g CO2/km (comb)\\n]        132\n",
       "[\\n134 g CO2/km (comb)\\n]        130\n",
       "[\\n145 g CO2/km (comb)\\n]        126\n",
       "[\\n149 g CO2/km (comb)\\n]        117\n",
       "[\\n153 g CO2/km (comb)\\n]        113\n",
       "[\\n147 g CO2/km (comb)\\n]        109\n",
       "[\\n101 g CO2/km (comb)\\n]        105\n",
       "[\\n132 g CO2/km (comb)\\n]        100\n",
       "[\\n115 g CO2/km (comb)\\n]         86\n",
       "[\\n122 g CO2/km (comb)\\n]         83\n",
       "[\\n121 g CO2/km (comb)\\n]         82\n",
       "[\\n138 g CO2/km (comb)\\n]         75\n",
       "[\\n93 g CO2/km (comb)\\n]          66\n",
       "[\\n168 g CO2/km (comb)\\n]         58\n",
       "[\\n142 g CO2/km (comb)\\n]         58\n",
       "[\\n148 g CO2/km (comb)\\n]         48\n",
       "[\\n131 g CO2/km (comb)\\n]         48\n",
       "[\\n154 g CO2/km (comb)\\n]         40\n",
       "[\\n144 g CO2/km (comb)\\n]         40\n",
       "[\\n94 g CO2/km (comb)\\n]          37\n",
       "[\\n146 g CO2/km (comb)\\n]         36\n",
       "[\\n100 g CO2/km (comb)\\n]         36\n",
       "[\\n90 g CO2/km (comb)\\n]          35\n",
       "[\\n151 g CO2/km (comb)\\n]         34\n",
       "[\\n91 g CO2/km (comb)\\n]          31\n",
       "[\\n186 g CO2/km (comb)\\n]         30\n",
       "[\\n152 g CO2/km (comb)\\n]         28\n",
       "[\\n187 g CO2/km (comb)\\n]         26\n",
       "[\\n172 g CO2/km (comb)\\n]         25\n",
       "[\\n82 g CO2/km (comb)\\n]          25\n",
       "[\\n96 g CO2/km (comb)\\n]          22\n",
       "[\\n189 g CO2/km (comb)\\n]         19\n",
       "[\\n89 g CO2/km (comb)\\n]          19\n",
       "[\\n157 g CO2/km (comb)\\n]         18\n",
       "[\\n158 g CO2/km (comb)\\n]         17\n",
       "[\\n88 g CO2/km (comb)\\n]          15\n",
       "[\\n169 g CO2/km (comb)\\n]         15\n",
       "[\\n156 g CO2/km (comb)\\n]         14\n",
       "[\\n164 g CO2/km (comb)\\n]         13\n",
       "[\\n161 g CO2/km (comb)\\n]         10\n",
       "[\\n170 g CO2/km (comb)\\n]         10\n",
       "[\\n166 g CO2/km (comb)\\n]          8\n",
       "[\\n175 g CO2/km (comb)\\n]          8\n",
       "[\\n155 g CO2/km (comb)\\n]          8\n",
       "[\\n188 g CO2/km (comb)\\n]          7\n",
       "[\\n159 g CO2/km (comb)\\n]          7\n",
       "[\\n174 g CO2/km (comb)\\n]          6\n",
       "[\\n87 g CO2/km (comb)\\n]           6\n",
       "[\\n197 g CO2/km (comb)\\n]          4\n",
       "[\\n194 g CO2/km (comb)\\n]          3\n",
       "[\\n5 g CO2/km (comb)\\n]            3\n",
       "[\\n36 g CO2/km (comb)\\n]           3\n",
       "[\\n12,087 g CO2/km (comb)\\n]       3\n",
       "[\\n84 g CO2/km (comb)\\n]           2\n",
       "[\\n191 g CO2/km (comb)\\n]          2\n",
       "[\\n167 g CO2/km (comb)\\n]          2\n",
       "[\\n0 g CO2/km (comb)\\n]            2\n",
       "[\\n199 g CO2/km (comb)\\n]          2\n",
       "[\\n162 g CO2/km (comb)\\n]          2\n",
       "[\\n177 g CO2/km (comb)\\n]          1\n",
       "[\\n181 g CO2/km (comb)\\n]          1\n",
       "[\\n331 g CO2/km (comb)\\n]          1\n",
       "[\\n45 g CO2/km (comb)\\n]           1\n",
       "[\\n180 g CO2/km (comb)\\n]          1\n",
       "[\\n171 g CO2/km (comb)\\n]          1\n",
       "[\\n183 g CO2/km (comb)\\n]          1\n",
       "[\\n1 g CO2/km (comb)\\n]            1\n",
       "[\\n13,983 g CO2/km (comb)\\n]       1\n",
       "[\\n184 g CO2/km (comb)\\n]          1\n",
       "[\\n14,457 g CO2/km (comb)\\n]       1\n",
       "[\\n12,324 g CO2/km (comb)\\n]       1\n",
       "[\\n239 g CO2/km (comb)\\n]          1\n",
       "[\\n160 g CO2/km (comb)\\n]          1\n",
       "[\\n190 g CO2/km (comb)\\n]          1\n",
       "[\\n80 g CO2/km (comb)\\n]           1\n",
       "[\\n990 g CO2/km (comb)\\n]          1\n",
       "[\\n253 g CO2/km (comb)\\n]          1\n",
       "[\\n14 g CO2/km (comb)\\n]           1\n",
       "[\\n1,060 g CO2/km (comb)\\n]        1\n",
       "[\\n51 g CO2/km (comb)\\n]           1\n",
       "[\\n165 g CO2/km (comb)\\n]          1\n",
       "[\\n193 g CO2/km (comb)\\n]          1\n",
       "Name: CO2 Emission, dtype: int64"
      ]
     },
     "execution_count": 115,
     "metadata": {},
     "output_type": "execute_result"
    }
   ],
   "source": [
    "df[\"CO2 Emission\"].value_counts(dropna=False)"
   ]
  },
  {
   "cell_type": "code",
   "execution_count": 116,
   "metadata": {},
   "outputs": [
    {
     "data": {
      "text/plain": [
       "NaN                       2436\n",
       "120 g CO2/km (comb)        740\n",
       "99 g CO2/km (comb)         545\n",
       "97 g CO2/km (comb)         537\n",
       "104 g CO2/km (comb)        501\n",
       "102 g CO2/km (comb)        477\n",
       "103 g CO2/km (comb)        445\n",
       "114 g CO2/km (comb)        382\n",
       "124 g CO2/km (comb)        372\n",
       "107 g CO2/km (comb)        362\n",
       "108 g CO2/km (comb)        362\n",
       "119 g CO2/km (comb)        361\n",
       "106 g CO2/km (comb)        349\n",
       "128 g CO2/km (comb)        329\n",
       "126 g CO2/km (comb)        282\n",
       "85 g CO2/km (comb)         275\n",
       "118 g CO2/km (comb)        270\n",
       "110 g CO2/km (comb)        266\n",
       "127 g CO2/km (comb)        257\n",
       "117 g CO2/km (comb)        254\n",
       "111 g CO2/km (comb)        237\n",
       "113 g CO2/km (comb)        235\n",
       "109 g CO2/km (comb)        234\n",
       "139 g CO2/km (comb)        224\n",
       "140 g CO2/km (comb)        218\n",
       "129 g CO2/km (comb)        213\n",
       "105 g CO2/km (comb)        202\n",
       "135 g CO2/km (comb)        202\n",
       "92 g CO2/km (comb)         198\n",
       "130 g CO2/km (comb)        180\n",
       "123 g CO2/km (comb)        178\n",
       "150 g CO2/km (comb)        174\n",
       "112 g CO2/km (comb)        171\n",
       "143 g CO2/km (comb)        171\n",
       "95 g CO2/km (comb)         161\n",
       "116 g CO2/km (comb)        157\n",
       "141 g CO2/km (comb)        156\n",
       "98 g CO2/km (comb)         151\n",
       "133 g CO2/km (comb)        145\n",
       "136 g CO2/km (comb)        145\n",
       "137 g CO2/km (comb)        133\n",
       "125 g CO2/km (comb)        132\n",
       "134 g CO2/km (comb)        130\n",
       "145 g CO2/km (comb)        126\n",
       "149 g CO2/km (comb)        117\n",
       "153 g CO2/km (comb)        113\n",
       "147 g CO2/km (comb)        109\n",
       "101 g CO2/km (comb)        105\n",
       "132 g CO2/km (comb)        100\n",
       "115 g CO2/km (comb)         86\n",
       "122 g CO2/km (comb)         83\n",
       "121 g CO2/km (comb)         82\n",
       "138 g CO2/km (comb)         75\n",
       "93 g CO2/km (comb)          66\n",
       "168 g CO2/km (comb)         58\n",
       "142 g CO2/km (comb)         58\n",
       "148 g CO2/km (comb)         48\n",
       "131 g CO2/km (comb)         48\n",
       "154 g CO2/km (comb)         40\n",
       "144 g CO2/km (comb)         40\n",
       "94 g CO2/km (comb)          37\n",
       "146 g CO2/km (comb)         36\n",
       "100 g CO2/km (comb)         36\n",
       "90 g CO2/km (comb)          35\n",
       "151 g CO2/km (comb)         34\n",
       "91 g CO2/km (comb)          31\n",
       "186 g CO2/km (comb)         30\n",
       "152 g CO2/km (comb)         28\n",
       "187 g CO2/km (comb)         26\n",
       "172 g CO2/km (comb)         25\n",
       "82 g CO2/km (comb)          25\n",
       "96 g CO2/km (comb)          22\n",
       "189 g CO2/km (comb)         19\n",
       "89 g CO2/km (comb)          19\n",
       "157 g CO2/km (comb)         18\n",
       "158 g CO2/km (comb)         17\n",
       "88 g CO2/km (comb)          15\n",
       "169 g CO2/km (comb)         15\n",
       "156 g CO2/km (comb)         14\n",
       "164 g CO2/km (comb)         13\n",
       "161 g CO2/km (comb)         10\n",
       "170 g CO2/km (comb)         10\n",
       "166 g CO2/km (comb)          8\n",
       "175 g CO2/km (comb)          8\n",
       "155 g CO2/km (comb)          8\n",
       "188 g CO2/km (comb)          7\n",
       "159 g CO2/km (comb)          7\n",
       "174 g CO2/km (comb)          6\n",
       "87 g CO2/km (comb)           6\n",
       "197 g CO2/km (comb)          4\n",
       "194 g CO2/km (comb)          3\n",
       "5 g CO2/km (comb)            3\n",
       "36 g CO2/km (comb)           3\n",
       "12,087 g CO2/km (comb)       3\n",
       "84 g CO2/km (comb)           2\n",
       "191 g CO2/km (comb)          2\n",
       "167 g CO2/km (comb)          2\n",
       "0 g CO2/km (comb)            2\n",
       "199 g CO2/km (comb)          2\n",
       "162 g CO2/km (comb)          2\n",
       "177 g CO2/km (comb)          1\n",
       "181 g CO2/km (comb)          1\n",
       "331 g CO2/km (comb)          1\n",
       "45 g CO2/km (comb)           1\n",
       "180 g CO2/km (comb)          1\n",
       "171 g CO2/km (comb)          1\n",
       "183 g CO2/km (comb)          1\n",
       "1 g CO2/km (comb)            1\n",
       "13,983 g CO2/km (comb)       1\n",
       "184 g CO2/km (comb)          1\n",
       "14,457 g CO2/km (comb)       1\n",
       "12,324 g CO2/km (comb)       1\n",
       "239 g CO2/km (comb)          1\n",
       "160 g CO2/km (comb)          1\n",
       "190 g CO2/km (comb)          1\n",
       "80 g CO2/km (comb)           1\n",
       "990 g CO2/km (comb)          1\n",
       "253 g CO2/km (comb)          1\n",
       "14 g CO2/km (comb)           1\n",
       "1,060 g CO2/km (comb)        1\n",
       "51 g CO2/km (comb)           1\n",
       "165 g CO2/km (comb)          1\n",
       "193 g CO2/km (comb)          1\n",
       "Name: CO2 Emission, dtype: int64"
      ]
     },
     "execution_count": 116,
     "metadata": {},
     "output_type": "execute_result"
    }
   ],
   "source": [
    "df[\"CO2 Emission\"].str[0].str.strip().value_counts(dropna=False)"
   ]
  },
  {
   "cell_type": "code",
   "execution_count": 117,
   "metadata": {},
   "outputs": [
    {
     "data": {
      "text/plain": [
       "NaN       2436\n",
       "120        740\n",
       "99         545\n",
       "97         537\n",
       "104        501\n",
       "102        477\n",
       "103        445\n",
       "114        382\n",
       "124        372\n",
       "107        362\n",
       "108        362\n",
       "119        361\n",
       "106        349\n",
       "128        329\n",
       "126        282\n",
       "85         275\n",
       "118        270\n",
       "110        266\n",
       "127        257\n",
       "117        254\n",
       "111        237\n",
       "113        235\n",
       "109        234\n",
       "139        224\n",
       "140        218\n",
       "129        213\n",
       "105        202\n",
       "135        202\n",
       "92         198\n",
       "130        180\n",
       "123        178\n",
       "150        174\n",
       "112        171\n",
       "143        171\n",
       "95         161\n",
       "116        157\n",
       "141        156\n",
       "98         151\n",
       "133        145\n",
       "136        145\n",
       "137        133\n",
       "125        132\n",
       "134        130\n",
       "145        126\n",
       "149        117\n",
       "153        113\n",
       "147        109\n",
       "101        105\n",
       "132        100\n",
       "115         86\n",
       "122         83\n",
       "121         82\n",
       "138         75\n",
       "93          66\n",
       "168         58\n",
       "142         58\n",
       "148         48\n",
       "131         48\n",
       "154         40\n",
       "144         40\n",
       "94          37\n",
       "146         36\n",
       "100         36\n",
       "90          35\n",
       "151         34\n",
       "91          31\n",
       "186         30\n",
       "152         28\n",
       "187         26\n",
       "172         25\n",
       "82          25\n",
       "96          22\n",
       "189         19\n",
       "89          19\n",
       "157         18\n",
       "158         17\n",
       "88          15\n",
       "169         15\n",
       "156         14\n",
       "164         13\n",
       "161         10\n",
       "170         10\n",
       "166          8\n",
       "175          8\n",
       "155          8\n",
       "188          7\n",
       "159          7\n",
       "174          6\n",
       "87           6\n",
       "197          4\n",
       "194          3\n",
       "5            3\n",
       "36           3\n",
       "12,087       3\n",
       "84           2\n",
       "191          2\n",
       "167          2\n",
       "0            2\n",
       "199          2\n",
       "162          2\n",
       "177          1\n",
       "181          1\n",
       "331          1\n",
       "45           1\n",
       "180          1\n",
       "171          1\n",
       "183          1\n",
       "1            1\n",
       "13,983       1\n",
       "184          1\n",
       "14,457       1\n",
       "12,324       1\n",
       "239          1\n",
       "160          1\n",
       "190          1\n",
       "80           1\n",
       "990          1\n",
       "253          1\n",
       "14           1\n",
       "1,060        1\n",
       "51           1\n",
       "165          1\n",
       "193          1\n",
       "Name: CO2 Emission, dtype: int64"
      ]
     },
     "execution_count": 117,
     "metadata": {},
     "output_type": "execute_result"
    }
   ],
   "source": [
    "df[\"CO2 Emission\"].str[0].str.strip().str.split().str[0].value_counts(dropna=False)"
   ]
  },
  {
   "cell_type": "code",
   "execution_count": 118,
   "metadata": {},
   "outputs": [],
   "source": [
    "df[\"co2_emission\"] = df[\"CO2 Emission\"].str[0].str.strip().str.split().str[0]"
   ]
  },
  {
   "cell_type": "code",
   "execution_count": 119,
   "metadata": {},
   "outputs": [],
   "source": [
    "df.drop(columns=\"CO2 Emission\", inplace=True)"
   ]
  },
  {
   "cell_type": "code",
   "execution_count": 120,
   "metadata": {},
   "outputs": [
    {
     "data": {
      "text/plain": [
       "Index(['make_model', 'short_description', 'body_type', 'price', 'vat', 'km', 'registration', 'prev_owner', 'Previous Owners', 'Next Inspection', 'Inspection new', 'Warranty', 'Full Service', 'Non-smoking Vehicle', 'Paint Type', 'Model Code', 'Cylinders', 'Weight', 'Drive chain', 'Consumption', 'Emission Class', '\\nComfort & Convenience\\n', '\\nEntertainment & Media\\n', '\\nExtras\\n', '\\nSafety & Security\\n', 'description', 'Emission Label', 'Gears', 'Country version', 'make', 'hp_kW', 'used_new', 'fuel_type', 'upholstery_kind', 'upholstery_color', 'door_count', 'seat_count', 'auto_manuel', 'displacement_cc', 'consumption_comb', 'co2_emission'], dtype='object')"
      ]
     },
     "execution_count": 120,
     "metadata": {},
     "output_type": "execute_result"
    }
   ],
   "source": [
    "df.columns"
   ]
  },
  {
   "cell_type": "code",
   "execution_count": 121,
   "metadata": {},
   "outputs": [
    {
     "ename": "TypeError",
     "evalue": "unhashable type: 'list'",
     "output_type": "error",
     "traceback": [
      "\u001b[0;31m---------------------------------------------------------------------------\u001b[0m",
      "\u001b[0;31mTypeError\u001b[0m                                 Traceback (most recent call last)",
      "\u001b[0;32mpandas/_libs/hashtable_class_helper.pxi\u001b[0m in \u001b[0;36mpandas._libs.hashtable.PyObjectHashTable.map_locations\u001b[0;34m()\u001b[0m\n",
      "\u001b[0;31mTypeError\u001b[0m: unhashable type: 'list'"
     ]
    },
    {
     "name": "stderr",
     "output_type": "stream",
     "text": [
      "Exception ignored in: 'pandas._libs.index.IndexEngine._call_map_locations'\n",
      "Traceback (most recent call last):\n",
      "  File \"pandas/_libs/hashtable_class_helper.pxi\", line 5231, in pandas._libs.hashtable.PyObjectHashTable.map_locations\n",
      "TypeError: unhashable type: 'list'\n"
     ]
    },
    {
     "data": {
      "text/plain": [
       "[\\nEuro 6\\n]          10139\n",
       "NaN                    3021\n",
       "[\\nEuro 6d-TEMP\\n]     1845\n",
       "[[], [], []]            607\n",
       "[\\nEuro 6c\\n]           127\n",
       "[\\nEuro 5\\n]             78\n",
       "[\\nEuro 6d\\n]            62\n",
       "[\\nEuro 4\\n]             40\n",
       "Name: Emission Class, dtype: int64"
      ]
     },
     "execution_count": 121,
     "metadata": {},
     "output_type": "execute_result"
    }
   ],
   "source": [
    "df[\"Emission Class\"].value_counts(dropna=False)"
   ]
  },
  {
   "cell_type": "code",
   "execution_count": 122,
   "metadata": {},
   "outputs": [
    {
     "data": {
      "text/plain": [
       "Euro 6          10139\n",
       "NaN              3628\n",
       "Euro 6d-TEMP     1845\n",
       "Euro 6c           127\n",
       "Euro 5             78\n",
       "Euro 6d            62\n",
       "Euro 4             40\n",
       "Name: Emission Class, dtype: int64"
      ]
     },
     "execution_count": 122,
     "metadata": {},
     "output_type": "execute_result"
    }
   ],
   "source": [
    "df[\"Emission Class\"].str[0].str.strip().value_counts(dropna=False)"
   ]
  },
  {
   "cell_type": "code",
   "execution_count": 123,
   "metadata": {},
   "outputs": [],
   "source": [
    "df.emission_class = df[\"Emission Class\"].str[0].str.strip()"
   ]
  },
  {
   "cell_type": "code",
   "execution_count": 124,
   "metadata": {
    "scrolled": true
   },
   "outputs": [],
   "source": [
    "df.drop(columns=\"Emission Class\", inplace=True)"
   ]
  },
  {
   "cell_type": "code",
   "execution_count": 125,
   "metadata": {},
   "outputs": [
    {
     "data": {
      "text/plain": [
       "Index(['make_model', 'short_description', 'body_type', 'price', 'vat', 'km', 'registration', 'prev_owner', 'Previous Owners', 'Next Inspection', 'Inspection new', 'Warranty', 'Full Service', 'Non-smoking Vehicle', 'Paint Type', 'Model Code', 'Cylinders', 'Weight', 'Drive chain', 'Consumption', '\\nComfort & Convenience\\n', '\\nEntertainment & Media\\n', '\\nExtras\\n', '\\nSafety & Security\\n', 'description', 'Emission Label', 'Gears', 'Country version', 'make', 'hp_kW', 'used_new', 'fuel_type', 'upholstery_kind', 'upholstery_color', 'door_count', 'seat_count', 'auto_manuel', 'displacement_cc', 'consumption_comb', 'co2_emission'], dtype='object')"
      ]
     },
     "execution_count": 125,
     "metadata": {},
     "output_type": "execute_result"
    }
   ],
   "source": [
    "df.columns"
   ]
  },
  {
   "cell_type": "markdown",
   "metadata": {},
   "source": [
    "## '\\nComfort & Convenience\\n'"
   ]
  },
  {
   "cell_type": "code",
   "execution_count": 126,
   "metadata": {
    "scrolled": true
   },
   "outputs": [
    {
     "data": {
      "text/plain": [
       "0                                                                                                                                                                                               [Air conditioning, Armrest, Automatic climate control, Cruise control, Electrical side mirrors, Hill Holder, Leather steering wheel, Light sensor, Multi-function steering wheel, Navigation system, Park Distance Control, Parking assist system sensors rear, Power windows, Rain sensor, Seat heating, Start-stop system]\n",
       "1                                                                                                                                                                                                                                                                                                                                   [Air conditioning, Automatic climate control, Hill Holder, Leather steering wheel, Lumbar support, Parking assist system sensors rear, Power windows, Start-stop system, Tinted windows]\n",
       "2                                                                                                                                                                                                                         [Air conditioning, Cruise control, Electrical side mirrors, Hill Holder, Leather steering wheel, Multi-function steering wheel, Navigation system, Park Distance Control, Parking assist system sensors front, Parking assist system sensors rear, Power windows, Seat heating, Start-stop system]\n",
       "3                                                                                                                                                                                                                                [Air suspension, Armrest, Auxiliary heating, Electrical side mirrors, Heads-up display, Hill Holder, Leather steering wheel, Light sensor, Lumbar support, Multi-function steering wheel, Navigation system, Power windows, Rain sensor, Seat heating, Split rear seats, Start-stop system]\n",
       "4                                                                                                                                                                                                                                                [Air conditioning, Armrest, Automatic climate control, Electrical side mirrors, Hill Holder, Leather steering wheel, Light sensor, Multi-function steering wheel, Park Distance Control, Parking assist system sensors rear, Power windows, Rain sensor, Start-stop system]\n",
       "                                                                                                                                                                                                                                                                ...                                                                                                                                                                                                                                                         \n",
       "15914                                                                  [Air conditioning, Automatic climate control, Cruise control, Electrically adjustable seats, Electrical side mirrors, Hill Holder, Keyless central door lock, Leather steering wheel, Light sensor, Massage seats, Multi-function steering wheel, Navigation system, Park Distance Control, Parking assist system sensors front, Parking assist system sensors rear, Power windows, Rain sensor, Split rear seats, Start-stop system, Tinted windows]\n",
       "15915    [Air conditioning, Automatic climate control, Cruise control, Electrically heated windshield, Electrical side mirrors, Electric tailgate, Heads-up display, Heated steering wheel, Hill Holder, Keyless central door lock, Leather steering wheel, Light sensor, Lumbar support, Navigation system, Park Distance Control, Parking assist system camera, Parking assist system self-steering, Parking assist system sensors front, Parking assist system sensors rear, Power windows, Rain sensor, Seat heating,...\n",
       "15916    [Air conditioning, Armrest, Automatic climate control, Cruise control, Electrically heated windshield, Electrical side mirrors, Electric tailgate, Heads-up display, Heated steering wheel, Leather steering wheel, Light sensor, Massage seats, Multi-function steering wheel, Navigation system, Panorama roof, Park Distance Control, Parking assist system camera, Parking assist system sensors front, Parking assist system sensors rear, Power windows, Rain sensor, Seat heating, Seat ventilation, Sunr...\n",
       "15917                                                                                                                                                                                                                                                                                                   [Air conditioning, Automatic climate control, Cruise control, Electrically adjustable seats, Electrical side mirrors, Leather steering wheel, Light sensor, Park Distance Control, Power windows, Start-stop system]\n",
       "15918                                                                                                                                                                                                                                                                                          [Air conditioning, Automatic climate control, Cruise control, Electrically adjustable seats, Electrical side mirrors, Electric tailgate, Hill Holder, Leather steering wheel, Navigation system, Power windows, Seat heating]\n",
       "Name: \\nComfort & Convenience\\n, Length: 15919, dtype: object"
      ]
     },
     "execution_count": 126,
     "metadata": {},
     "output_type": "execute_result"
    }
   ],
   "source": [
    "df['\\nComfort & Convenience\\n']"
   ]
  },
  {
   "cell_type": "code",
   "execution_count": 127,
   "metadata": {
    "scrolled": true
   },
   "outputs": [
    {
     "ename": "TypeError",
     "evalue": "unhashable type: 'list'",
     "output_type": "error",
     "traceback": [
      "\u001b[0;31m---------------------------------------------------------------------------\u001b[0m",
      "\u001b[0;31mTypeError\u001b[0m                                 Traceback (most recent call last)",
      "\u001b[0;32mpandas/_libs/hashtable_class_helper.pxi\u001b[0m in \u001b[0;36mpandas._libs.hashtable.PyObjectHashTable.map_locations\u001b[0;34m()\u001b[0m\n",
      "\u001b[0;31mTypeError\u001b[0m: unhashable type: 'list'"
     ]
    },
    {
     "name": "stderr",
     "output_type": "stream",
     "text": [
      "Exception ignored in: 'pandas._libs.index.IndexEngine._call_map_locations'\n",
      "Traceback (most recent call last):\n",
      "  File \"pandas/_libs/hashtable_class_helper.pxi\", line 5231, in pandas._libs.hashtable.PyObjectHashTable.map_locations\n",
      "TypeError: unhashable type: 'list'\n"
     ]
    },
    {
     "data": {
      "text/plain": [
       "NaN                                                                                                                                                                                                                                                                                                                                                                                                                                                                                                                          920\n",
       "[Air conditioning, Electrical side mirrors, Hill Holder, Power windows]                                                                                                                                                                                                                                                                                                                                                                                                                                                      216\n",
       "[Air conditioning, Electrical side mirrors, Power windows]                                                                                                                                                                                                                                                                                                                                                                                                                                                                   134\n",
       "[Air conditioning, Power windows]                                                                                                                                                                                                                                                                                                                                                                                                                                                                                            130\n",
       "[Air conditioning, Armrest, Automatic climate control, Cruise control, Electrical side mirrors, Leather steering wheel, Light sensor, Lumbar support, Multi-function steering wheel, Navigation system, Park Distance Control, Parking assist system sensors front, Parking assist system sensors rear, Power windows, Rain sensor, Seat heating, Start-stop system]                                                                                                                                                         105\n",
       "                                                                                                                                                                                                                                                                                                                                                                                                                                                                                                                            ... \n",
       "[Air conditioning, Cruise control, Electrical side mirrors, Hill Holder, Leather steering wheel, Light sensor, Multi-function steering wheel, Navigation system, Park Distance Control, Parking assist system sensors rear, Power windows, Rain sensor, Split rear seats, Start-stop system, Tinted windows]                                                                                                                                                                                                                   1\n",
       "[Air conditioning, Armrest, Automatic climate control, Cruise control, Electrical side mirrors, Heated steering wheel, Hill Holder, Leather steering wheel, Light sensor, Lumbar support, Multi-function steering wheel, Navigation system, Park Distance Control, Parking assist system camera, Parking assist system sensors front, Parking assist system sensors rear, Power windows, Rain sensor, Seat heating, Sunroof]                                                                                                   1\n",
       "[Air conditioning, Armrest, Cruise control, Electrical side mirrors, Heated steering wheel, Hill Holder, Leather steering wheel, Light sensor, Multi-function steering wheel, Park Distance Control, Parking assist system camera, Parking assist system sensors front, Parking assist system sensors rear, Power windows, Rain sensor, Seat heating, Split rear seats, Start-stop system, Tinted windows]                                                                                                                     1\n",
       "[Air conditioning, Automatic climate control, Cruise control, Electrical side mirrors, Leather steering wheel, Light sensor, Multi-function steering wheel, Park Distance Control, Parking assist system sensors front, Parking assist system sensors rear, Power windows, Rain sensor, Seat heating]                                                                                                                                                                                                                          1\n",
       "[Air conditioning, Automatic climate control, Cruise control, Electrically heated windshield, Electrical side mirrors, Electric tailgate, Heads-up display, Heated steering wheel, Hill Holder, Keyless central door lock, Leather steering wheel, Light sensor, Lumbar support, Navigation system, Park Distance Control, Parking assist system camera, Parking assist system self-steering, Parking assist system sensors front, Parking assist system sensors rear, Power windows, Rain sensor, Seat heating, Sunroof]      1\n",
       "Name: \\nComfort & Convenience\\n, Length: 6199, dtype: int64"
      ]
     },
     "execution_count": 127,
     "metadata": {},
     "output_type": "execute_result"
    }
   ],
   "source": [
    "df['\\nComfort & Convenience\\n'].value_counts(dropna=False)"
   ]
  },
  {
   "cell_type": "code",
   "execution_count": 128,
   "metadata": {
    "scrolled": true
   },
   "outputs": [
    {
     "data": {
      "text/plain": [
       "0                          Armrest\n",
       "1        Automatic climate control\n",
       "2                   Cruise control\n",
       "3                          Armrest\n",
       "4                          Armrest\n",
       "                   ...            \n",
       "15914    Automatic climate control\n",
       "15915    Automatic climate control\n",
       "15916                      Armrest\n",
       "15917    Automatic climate control\n",
       "15918    Automatic climate control\n",
       "Name: \\nComfort & Convenience\\n, Length: 15919, dtype: object"
      ]
     },
     "execution_count": 128,
     "metadata": {},
     "output_type": "execute_result"
    }
   ],
   "source": [
    "df['\\nComfort & Convenience\\n'].str[1]"
   ]
  },
  {
   "cell_type": "code",
   "execution_count": 129,
   "metadata": {},
   "outputs": [
    {
     "data": {
      "text/plain": [
       "6690                                                                                           [Air conditioning, Armrest, Cruise control, Electrically adjustable seats, Electrical side mirrors, Heated steering wheel, Leather steering wheel, Light sensor, Lumbar support, Multi-function steering wheel, Navigation system, Park Distance Control, Parking assist system camera, Parking assist system sensors front, Parking assist system sensors rear, Power windows, Rain sensor, Seat heating, Start-stop system]\n",
       "11887    [Air conditioning, Armrest, Automatic climate control, Cruise control, Electrically adjustable seats, Electrical side mirrors, Electric tailgate, Heated steering wheel, Hill Holder, Keyless central door lock, Leather steering wheel, Light sensor, Lumbar support, Multi-function steering wheel, Navigation system, Park Distance Control, Parking assist system camera, Parking assist system sensors front, Parking assist system sensors rear, Power windows, Rain sensor, Seat heating, Start-stop system]\n",
       "5713                                                                                                                                                                                                                                                                                                                                                                                                                                                                                                                     NaN\n",
       "9043                                                                                                                                                                                                                                                                                                                                                                                                                                                                                                                     NaN\n",
       "9471                                                                                                                                                                                                                                                                                                                            [Air conditioning, Cruise control, Electrical side mirrors, Leather steering wheel, Multi-function steering wheel, Park Distance Control, Parking assist system sensors rear, Power windows]\n",
       "4504                                                                                                                                                                                                                                                              [Armrest, Electrical side mirrors, Keyless central door lock, Leather steering wheel, Light sensor, Multi-function steering wheel, Park Distance Control, Parking assist system sensors rear, Power windows, Rain sensor, Seat heating, Start-stop system]\n",
       "93                                                                                                                                                                                                                 [Air conditioning, Armrest, Automatic climate control, Electrical side mirrors, Hill Holder, Leather steering wheel, Light sensor, Lumbar support, Multi-function steering wheel, Park Distance Control, Parking assist system sensors rear, Power windows, Rain sensor, Seat heating, Start-stop system]\n",
       "13708                                                                                                                                                                                                                                                                                                                                                                                                                                     [Air conditioning, Electrical side mirrors, Leather steering wheel, Power windows]\n",
       "10821                                                                                                                                                                                                                                                                                                                                [Air conditioning, Armrest, Automatic climate control, Cruise control, Electrically adjustable seats, Electrical side mirrors, Leather steering wheel, Power windows, Split rear seats]\n",
       "13622                                                                                                                                                                                                                                                                                                                                                                                                                                                               [Cruise control, Electrical side mirrors, Power windows]\n",
       "2483                                                                                                                                                                                                                                                                                                                                                                                                          [Air conditioning, Automatic climate control, Multi-function steering wheel, Power windows, Start-stop system]\n",
       "1923                                                                                                                                                                                                                                                                         [Air conditioning, Automatic climate control, Multi-function steering wheel, Navigation system, Park Distance Control, Parking assist system sensors front, Parking assist system sensors rear, Rain sensor, Start-stop system, Tinted windows]\n",
       "12114                                                                                                                [Air conditioning, Armrest, Automatic climate control, Cruise control, Electrical side mirrors, Heated steering wheel, Hill Holder, Light sensor, Multi-function steering wheel, Navigation system, Park Distance Control, Parking assist system camera, Parking assist system sensors front, Parking assist system sensors rear, Power windows, Rain sensor, Seat heating, Start-stop system, Sunroof]\n",
       "8215                                                                                                                                                                                           [Air conditioning, Armrest, Cruise control, Electrical side mirrors, Heated steering wheel, Leather steering wheel, Light sensor, Multi-function steering wheel, Park Distance Control, Parking assist system sensors front, Parking assist system sensors rear, Power windows, Rain sensor, Seat heating, Start-stop system]\n",
       "615                                                                                                                                                                                                                                                                                                                                                                    [Air conditioning, Electrical side mirrors, Hill Holder, Park Distance Control, Parking assist system sensors rear, Power windows, Start-stop system]\n",
       "8189                                                                                                                                   [Air conditioning, Armrest, Automatic climate control, Cruise control, Electrical side mirrors, Heated steering wheel, Hill Holder, Leather steering wheel, Multi-function steering wheel, Park Distance Control, Parking assist system camera, Parking assist system sensors front, Parking assist system sensors rear, Power windows, Rain sensor, Seat heating, Start-stop system]\n",
       "12790                                                                                                                                                                                                       [Air conditioning, Automatic climate control, Cruise control, Electrical side mirrors, Heads-up display, Multi-function steering wheel, Navigation system, Park Distance Control, Parking assist system camera, Parking assist system sensors rear, Power windows, Rain sensor, Seat heating, Start-stop system]\n",
       "4550                                                                                                                                                                                                                                                                                                                                                             [Air conditioning, Automatic climate control, Cruise control, Lumbar support, Multi-function steering wheel, Navigation system, Power windows, Rain sensor]\n",
       "4486                                                                                                                                                                                                                                                                                                                                                            [Air conditioning, Armrest, Automatic climate control, Leather steering wheel, Multi-function steering wheel, Navigation system, Power windows, Rain sensor]\n",
       "8592                                                                                                                                                                                                                                                                                                                                                                                                                                                              [Air conditioning, Electrical side mirrors, Power windows]\n",
       "2522                                                                                                                                                                                                                                                                                    [Air conditioning, Automatic climate control, Cruise control, Electrical side mirrors, Leather steering wheel, Multi-function steering wheel, Park Distance Control, Parking assist system sensors rear, Power windows, Rain sensor]\n",
       "4574                                                                                                                                           [Air conditioning, Armrest, Automatic climate control, Cruise control, Electrical side mirrors, Electric tailgate, Keyless central door lock, Leather steering wheel, Light sensor, Lumbar support, Multi-function steering wheel, Navigation system, Park Distance Control, Parking assist system sensors rear, Power windows, Rain sensor, Seat heating, Start-stop system]\n",
       "8671                                                                                                                                                                                                                                                                                                                                                                                                     [Air conditioning, Electrical side mirrors, Hill Holder, Multi-function steering wheel, Power windows, Rain sensor]\n",
       "8511                                                                                                                                                                           [Air conditioning, Automatic climate control, Cruise control, Electrically heated windshield, Electrical side mirrors, Heated steering wheel, Hill Holder, Leather steering wheel, Light sensor, Multi-function steering wheel, Park Distance Control, Parking assist system sensors rear, Power windows, Rain sensor, Seat heating, Sunroof]\n",
       "11395                                                                                                                                                                                                                                                                                                                                                                                             [Air conditioning, Cruise control, Electrically adjustable seats, Navigation system, Park Distance Control, Power windows]\n",
       "13249                                                                                                                                                                                                                                                                                                                                            [Air conditioning, Cruise control, Electrical side mirrors, Navigation system, Park Distance Control, Parking assist system sensors rear, Power windows, Start-stop system]\n",
       "7272                                                                                                 [Air conditioning, Armrest, Cruise control, Electrically adjustable seats, Electrical side mirrors, Heated steering wheel, Hill Holder, Leather steering wheel, Light sensor, Lumbar support, Multi-function steering wheel, Navigation system, Park Distance Control, Parking assist system camera, Parking assist system sensors front, Parking assist system sensors rear, Power windows, Rain sensor, Seat heating]\n",
       "9160                                                                                                                                                                                                                                                                                                                                                                                                                                                 [Air conditioning, Electrical side mirrors, Hill Holder, Power windows]\n",
       "12339    [Air conditioning, Armrest, Automatic climate control, Cruise control, Electrically adjustable seats, Electrical side mirrors, Electric tailgate, Heated steering wheel, Hill Holder, Keyless central door lock, Leather steering wheel, Light sensor, Lumbar support, Multi-function steering wheel, Navigation system, Park Distance Control, Parking assist system camera, Parking assist system sensors front, Parking assist system sensors rear, Power windows, Rain sensor, Seat heating, Start-stop system]\n",
       "15049                                                          [Air conditioning, Automatic climate control, Cruise control, Electrically adjustable seats, Electrical side mirrors, Electric tailgate, Heads-up display, Light sensor, Lumbar support, Multi-function steering wheel, Navigation system, Panorama roof, Park Distance Control, Parking assist system camera, Parking assist system sensors front, Parking assist system sensors rear, Power windows, Rain sensor, Seat heating, Start-stop system, Sunroof]\n",
       "9589                                                                                                                                                                                                                                                                                                                                                                                                           [Air conditioning, Automatic climate control, Multi-function steering wheel, Power windows, Split rear seats]\n",
       "2826                                                                                                                                                                    [Air conditioning, Armrest, Automatic climate control, Cruise control, Electrical side mirrors, Leather steering wheel, Light sensor, Multi-function steering wheel, Navigation system, Park Distance Control, Parking assist system sensors front, Parking assist system sensors rear, Power windows, Rain sensor, Seat heating, Start-stop system]\n",
       "13734                                                                                                                                                                                                                                                                                                                                                                                                       [Air conditioning, Cruise control, Hill Holder, Multi-function steering wheel, Power windows, Start-stop system]\n",
       "5047                                                                                                                                                                                                                                                                                                                                                                                                                      [Cruise control, Multi-function steering wheel, Park Distance Control, Power windows, Rain sensor]\n",
       "1295                                                                                                                                                                                                                            [Air conditioning, Armrest, Automatic climate control, Electrical side mirrors, Leather steering wheel, Light sensor, Lumbar support, Multi-function steering wheel, Park Distance Control, Parking assist system sensors rear, Power windows, Rain sensor, Seat heating, Start-stop system]\n",
       "5617                                                                                                           [Air conditioning, Armrest, Automatic climate control, Cruise control, Electrically adjustable seats, Electrical side mirrors, Hill Holder, Light sensor, Multi-function steering wheel, Navigation system, Park Distance Control, Parking assist system self-steering, Parking assist system sensors front, Parking assist system sensors rear, Power windows, Rain sensor, Seat heating, Start-stop system]\n",
       "579                                                                                                                                                                                                                                                                                                                                                                                                                                            [Air conditioning, Electrical side mirrors, Power windows, Start-stop system]\n",
       "12867                                                                                                                                                                                                                                                                                                                                                                                                                                                                                                                    NaN\n",
       "6805                                                                                                                                                                                                                                                                                                                                                                                                  [Air conditioning, Cruise control, Multi-function steering wheel, Navigation system, Power windows, Start-stop system]\n",
       "13309                                                                                                                                                                                                                                                                                        [Air conditioning, Cruise control, Electrically adjustable seats, Electrical side mirrors, Hill Holder, Keyless central door lock, Park Distance Control, Parking assist system sensors rear, Power windows, Start-stop system]\n",
       "2986                                                                                                                                                                                                                                                                                                       [Air conditioning, Automatic climate control, Electrical side mirrors, Navigation system, Park Distance Control, Parking assist system sensors rear, Power windows, Rain sensor, Seat heating, Start-stop system]\n",
       "6288                                                                                                                                                                                                                                                   [Air conditioning, Cruise control, Hill Holder, Leather steering wheel, Lumbar support, Multi-function steering wheel, Navigation system, Park Distance Control, Parking assist system sensors rear, Power windows, Rain sensor, Split rear seats, Start-stop system]\n",
       "12796                                                                                                                                                                                                       [Air conditioning, Automatic climate control, Cruise control, Electrical side mirrors, Heads-up display, Multi-function steering wheel, Navigation system, Park Distance Control, Parking assist system camera, Parking assist system sensors rear, Power windows, Rain sensor, Seat heating, Start-stop system]\n",
       "13290                                                                                                                                                                                           [Air conditioning, Armrest, Cruise control, Electrical side mirrors, Hill Holder, Keyless central door lock, Leather steering wheel, Light sensor, Multi-function steering wheel, Navigation system, Park Distance Control, Parking assist system sensors rear, Power windows, Rain sensor, Seat heating, Start-stop system]\n",
       "9704                                                                                                                                                                                      [Air conditioning, Automatic climate control, Cruise control, Electrical side mirrors, Heated steering wheel, Hill Holder, Leather steering wheel, Light sensor, Multi-function steering wheel, Park Distance Control, Parking assist system camera, Parking assist system sensors rear, Power windows, Rain sensor, Seat heating]\n",
       "6284                                                                                                                                                                                                                                                                                                                                                                                          [Air conditioning, Automatic climate control, Auxiliary heating, Cruise control, Multi-function steering wheel, Power windows]\n",
       "14830                                                                                                                                                                                                                                                                                                                                                                                                                                             [Air conditioning, Cruise control, Electrical side mirrors, Power windows]\n",
       "9277                                                                                                                                                                                                                                                                    [Air conditioning, Cruise control, Electrical side mirrors, Heated steering wheel, Leather steering wheel, Multi-function steering wheel, Park Distance Control, Parking assist system sensors rear, Power windows, Seat heating, Start-stop system]\n",
       "13457                                                                                                                                                                                                                                                                                                                           [Air conditioning, Cruise control, Electrical side mirrors, Hill Holder, Keyless central door lock, Leather steering wheel, Multi-function steering wheel, Navigation system, Power windows]\n",
       "11790                                                                                                                                      [Air conditioning, Armrest, Automatic climate control, Cruise control, Electrical side mirrors, Hill Holder, Leather steering wheel, Light sensor, Lumbar support, Multi-function steering wheel, Navigation system, Park Distance Control, Parking assist system sensors front, Parking assist system sensors rear, Power windows, Rain sensor, Seat heating, Start-stop system]\n",
       "Name: \\nComfort & Convenience\\n, dtype: object"
      ]
     },
     "execution_count": 129,
     "metadata": {},
     "output_type": "execute_result"
    }
   ],
   "source": [
    "df['\\nComfort & Convenience\\n'].sample(50)"
   ]
  },
  {
   "cell_type": "code",
   "execution_count": 130,
   "metadata": {},
   "outputs": [],
   "source": [
    "def unique_values(df, column):\n",
    "    '''finds the  unique values of an iterable column'''\n",
    "    unique_lst = []\n",
    "    for i in df[column]:\n",
    "        if type(i) is not float:\n",
    "            for ii in i:\n",
    "                if ii not in unique_lst:\n",
    "                    unique_lst.append(ii)\n",
    "    return unique_lst\n",
    "    "
   ]
  },
  {
   "cell_type": "code",
   "execution_count": 131,
   "metadata": {
    "scrolled": true
   },
   "outputs": [
    {
     "data": {
      "text/plain": [
       "['Air conditioning',\n",
       " 'Armrest',\n",
       " 'Automatic climate control',\n",
       " 'Cruise control',\n",
       " 'Electrical side mirrors',\n",
       " 'Hill Holder',\n",
       " 'Leather steering wheel',\n",
       " 'Light sensor',\n",
       " 'Multi-function steering wheel',\n",
       " 'Navigation system',\n",
       " 'Park Distance Control',\n",
       " 'Parking assist system sensors rear',\n",
       " 'Power windows',\n",
       " 'Rain sensor',\n",
       " 'Seat heating',\n",
       " 'Start-stop system',\n",
       " 'Lumbar support',\n",
       " 'Tinted windows',\n",
       " 'Parking assist system sensors front',\n",
       " 'Air suspension',\n",
       " 'Auxiliary heating',\n",
       " 'Heads-up display',\n",
       " 'Split rear seats',\n",
       " 'Keyless central door lock',\n",
       " 'Electrically heated windshield',\n",
       " 'Seat ventilation',\n",
       " 'Wind deflector',\n",
       " 'Leather seats',\n",
       " 'Sunroof',\n",
       " 'Panorama roof',\n",
       " 'Parking assist system camera',\n",
       " 'Electrically adjustable seats',\n",
       " 'Parking assist system self-steering',\n",
       " 'Windshield',\n",
       " 'Electric tailgate',\n",
       " 'Heated steering wheel',\n",
       " 'Massage seats',\n",
       " 'Electric Starter']"
      ]
     },
     "execution_count": 131,
     "metadata": {},
     "output_type": "execute_result"
    }
   ],
   "source": [
    "unique_values(df, '\\nComfort & Convenience\\n')\n"
   ]
  },
  {
   "cell_type": "code",
   "execution_count": 132,
   "metadata": {},
   "outputs": [],
   "source": [
    "df['comfort']= [','.join(i).strip() if isinstance(i, list) else i for i in df['\\nComfort & Convenience\\n']]"
   ]
  },
  {
   "cell_type": "code",
   "execution_count": 133,
   "metadata": {
    "scrolled": true
   },
   "outputs": [
    {
     "data": {
      "text/plain": [
       "0                                                                                                                                                                                              Air conditioning,Armrest,Automatic climate control,Cruise control,Electrical side mirrors,Hill Holder,Leather steering wheel,Light sensor,Multi-function steering wheel,Navigation system,Park Distance Control,Parking assist system sensors rear,Power windows,Rain sensor,Seat heating,Start-stop system\n",
       "1                                                                                                                                                                                                                                                                                                                           Air conditioning,Automatic climate control,Hill Holder,Leather steering wheel,Lumbar support,Parking assist system sensors rear,Power windows,Start-stop system,Tinted windows\n",
       "2                                                                                                                                                                                                                     Air conditioning,Cruise control,Electrical side mirrors,Hill Holder,Leather steering wheel,Multi-function steering wheel,Navigation system,Park Distance Control,Parking assist system sensors front,Parking assist system sensors rear,Power windows,Seat heating,Start-stop system\n",
       "3                                                                                                                                                                                                                               Air suspension,Armrest,Auxiliary heating,Electrical side mirrors,Heads-up display,Hill Holder,Leather steering wheel,Light sensor,Lumbar support,Multi-function steering wheel,Navigation system,Power windows,Rain sensor,Seat heating,Split rear seats,Start-stop system\n",
       "4                                                                                                                                                                                                                                            Air conditioning,Armrest,Automatic climate control,Electrical side mirrors,Hill Holder,Leather steering wheel,Light sensor,Multi-function steering wheel,Park Distance Control,Parking assist system sensors rear,Power windows,Rain sensor,Start-stop system\n",
       "                                                                                                                                                                                                                                                       ...                                                                                                                                                                                                                                                \n",
       "15914                                                                     Air conditioning,Automatic climate control,Cruise control,Electrically adjustable seats,Electrical side mirrors,Hill Holder,Keyless central door lock,Leather steering wheel,Light sensor,Massage seats,Multi-function steering wheel,Navigation system,Park Distance Control,Parking assist system sensors front,Parking assist system sensors rear,Power windows,Rain sensor,Split rear seats,Start-stop system,Tinted windows\n",
       "15915    Air conditioning,Automatic climate control,Cruise control,Electrically heated windshield,Electrical side mirrors,Electric tailgate,Heads-up display,Heated steering wheel,Hill Holder,Keyless central door lock,Leather steering wheel,Light sensor,Lumbar support,Navigation system,Park Distance Control,Parking assist system camera,Parking assist system self-steering,Parking assist system sensors front,Parking assist system sensors rear,Power windows,Rain sensor,Seat heating,Sunroof\n",
       "15916          Air conditioning,Armrest,Automatic climate control,Cruise control,Electrically heated windshield,Electrical side mirrors,Electric tailgate,Heads-up display,Heated steering wheel,Leather steering wheel,Light sensor,Massage seats,Multi-function steering wheel,Navigation system,Panorama roof,Park Distance Control,Parking assist system camera,Parking assist system sensors front,Parking assist system sensors rear,Power windows,Rain sensor,Seat heating,Seat ventilation,Sunroof\n",
       "15917                                                                                                                                                                                                                                                                                            Air conditioning,Automatic climate control,Cruise control,Electrically adjustable seats,Electrical side mirrors,Leather steering wheel,Light sensor,Park Distance Control,Power windows,Start-stop system\n",
       "15918                                                                                                                                                                                                                                                                                    Air conditioning,Automatic climate control,Cruise control,Electrically adjustable seats,Electrical side mirrors,Electric tailgate,Hill Holder,Leather steering wheel,Navigation system,Power windows,Seat heating\n",
       "Name: comfort, Length: 15919, dtype: object"
      ]
     },
     "execution_count": 133,
     "metadata": {},
     "output_type": "execute_result"
    }
   ],
   "source": [
    "df[\"comfort\"]"
   ]
  },
  {
   "cell_type": "code",
   "execution_count": 134,
   "metadata": {
    "scrolled": true
   },
   "outputs": [
    {
     "data": {
      "text/plain": [
       "NaN                                                                                                                                                                                                                                                                                                                                                                                                                                                                                                  920\n",
       "Air conditioning,Electrical side mirrors,Hill Holder,Power windows                                                                                                                                                                                                                                                                                                                                                                                                                                   216\n",
       "Air conditioning,Electrical side mirrors,Power windows                                                                                                                                                                                                                                                                                                                                                                                                                                               134\n",
       "Air conditioning,Power windows                                                                                                                                                                                                                                                                                                                                                                                                                                                                       130\n",
       "Air conditioning,Armrest,Automatic climate control,Cruise control,Electrical side mirrors,Leather steering wheel,Light sensor,Lumbar support,Multi-function steering wheel,Navigation system,Park Distance Control,Parking assist system sensors front,Parking assist system sensors rear,Power windows,Rain sensor,Seat heating,Start-stop system                                                                                                                                                   105\n",
       "                                                                                                                                                                                                                                                                                                                                                                                                                                                                                                    ... \n",
       "Air conditioning,Cruise control,Electrical side mirrors,Hill Holder,Leather steering wheel,Light sensor,Multi-function steering wheel,Navigation system,Park Distance Control,Parking assist system sensors rear,Power windows,Rain sensor,Split rear seats,Start-stop system,Tinted windows                                                                                                                                                                                                           1\n",
       "Air conditioning,Armrest,Automatic climate control,Cruise control,Electrical side mirrors,Heated steering wheel,Hill Holder,Leather steering wheel,Light sensor,Lumbar support,Multi-function steering wheel,Navigation system,Park Distance Control,Parking assist system camera,Parking assist system sensors front,Parking assist system sensors rear,Power windows,Rain sensor,Seat heating,Sunroof                                                                                                1\n",
       "Air conditioning,Armrest,Cruise control,Electrical side mirrors,Heated steering wheel,Hill Holder,Leather steering wheel,Light sensor,Multi-function steering wheel,Park Distance Control,Parking assist system camera,Parking assist system sensors front,Parking assist system sensors rear,Power windows,Rain sensor,Seat heating,Split rear seats,Start-stop system,Tinted windows                                                                                                                 1\n",
       "Air conditioning,Automatic climate control,Cruise control,Electrical side mirrors,Leather steering wheel,Light sensor,Multi-function steering wheel,Park Distance Control,Parking assist system sensors front,Parking assist system sensors rear,Power windows,Rain sensor,Seat heating                                                                                                                                                                                                                1\n",
       "Air conditioning,Automatic climate control,Cruise control,Electrically heated windshield,Electrical side mirrors,Electric tailgate,Heads-up display,Heated steering wheel,Hill Holder,Keyless central door lock,Leather steering wheel,Light sensor,Lumbar support,Navigation system,Park Distance Control,Parking assist system camera,Parking assist system self-steering,Parking assist system sensors front,Parking assist system sensors rear,Power windows,Rain sensor,Seat heating,Sunroof      1\n",
       "Name: comfort, Length: 6199, dtype: int64"
      ]
     },
     "execution_count": 134,
     "metadata": {},
     "output_type": "execute_result"
    }
   ],
   "source": [
    "df.comfort.value_counts(dropna=False)"
   ]
  },
  {
   "cell_type": "code",
   "execution_count": 135,
   "metadata": {},
   "outputs": [
    {
     "data": {
      "text/plain": [
       "Index(['make_model', 'short_description', 'body_type', 'price', 'vat', 'km', 'registration', 'prev_owner', 'Previous Owners', 'Next Inspection', 'Inspection new', 'Warranty', 'Full Service', 'Non-smoking Vehicle', 'Paint Type', 'Model Code', 'Cylinders', 'Weight', 'Drive chain', 'Consumption', '\\nComfort & Convenience\\n', '\\nEntertainment & Media\\n', '\\nExtras\\n', '\\nSafety & Security\\n', 'description', 'Emission Label', 'Gears', 'Country version', 'make', 'hp_kW', 'used_new', 'fuel_type', 'upholstery_kind', 'upholstery_color', 'door_count', 'seat_count', 'auto_manuel', 'displacement_cc', 'consumption_comb', 'co2_emission', 'comfort'], dtype='object')"
      ]
     },
     "execution_count": 135,
     "metadata": {},
     "output_type": "execute_result"
    }
   ],
   "source": [
    "df.columns"
   ]
  },
  {
   "cell_type": "code",
   "execution_count": 136,
   "metadata": {},
   "outputs": [],
   "source": [
    "df.drop(columns=\"\\nComfort & Convenience\\n\", inplace=True)"
   ]
  },
  {
   "cell_type": "markdown",
   "metadata": {},
   "source": [
    "## '\\nEntertainment & Media\\n"
   ]
  },
  {
   "cell_type": "code",
   "execution_count": 137,
   "metadata": {},
   "outputs": [
    {
     "data": {
      "text/plain": [
       "0                                           [Bluetooth, Hands-free equipment, On-board computer, Radio]\n",
       "1                             [Bluetooth, Hands-free equipment, On-board computer, Radio, Sound system]\n",
       "2                                                                              [MP3, On-board computer]\n",
       "3        [Bluetooth, CD player, Hands-free equipment, MP3, On-board computer, Radio, Sound system, USB]\n",
       "4                      [Bluetooth, CD player, Hands-free equipment, MP3, On-board computer, Radio, USB]\n",
       "                                                      ...                                              \n",
       "15914                   [Bluetooth, Digital radio, Hands-free equipment, On-board computer, Radio, USB]\n",
       "15915                                      [Bluetooth, Digital radio, Hands-free equipment, Radio, USB]\n",
       "15916                                       [Bluetooth, Hands-free equipment, On-board computer, Radio]\n",
       "15917                                                            [Bluetooth, Digital radio, Radio, USB]\n",
       "15918                                                                                             [USB]\n",
       "Name: \\nEntertainment & Media\\n, Length: 15919, dtype: object"
      ]
     },
     "execution_count": 137,
     "metadata": {},
     "output_type": "execute_result"
    }
   ],
   "source": [
    "df[\"\\nEntertainment & Media\\n\"]"
   ]
  },
  {
   "cell_type": "code",
   "execution_count": 138,
   "metadata": {},
   "outputs": [
    {
     "ename": "TypeError",
     "evalue": "unhashable type: 'list'",
     "output_type": "error",
     "traceback": [
      "\u001b[0;31m---------------------------------------------------------------------------\u001b[0m",
      "\u001b[0;31mTypeError\u001b[0m                                 Traceback (most recent call last)",
      "\u001b[0;32mpandas/_libs/hashtable_class_helper.pxi\u001b[0m in \u001b[0;36mpandas._libs.hashtable.PyObjectHashTable.map_locations\u001b[0;34m()\u001b[0m\n",
      "\u001b[0;31mTypeError\u001b[0m: unhashable type: 'list'"
     ]
    },
    {
     "name": "stderr",
     "output_type": "stream",
     "text": [
      "Exception ignored in: 'pandas._libs.index.IndexEngine._call_map_locations'\n",
      "Traceback (most recent call last):\n",
      "  File \"pandas/_libs/hashtable_class_helper.pxi\", line 5231, in pandas._libs.hashtable.PyObjectHashTable.map_locations\n",
      "TypeError: unhashable type: 'list'\n"
     ]
    },
    {
     "data": {
      "text/plain": [
       "NaN                                                                                                           1374\n",
       "[Bluetooth, Hands-free equipment, On-board computer, Radio, USB]                                              1282\n",
       "[Bluetooth, Hands-free equipment, MP3, On-board computer, Radio, USB]                                          982\n",
       "[Bluetooth, CD player, Hands-free equipment, MP3, On-board computer, Radio, USB]                               783\n",
       "[On-board computer, Radio]                                                                                     487\n",
       "                                                                                                              ... \n",
       "[Bluetooth, CD player, Digital radio, Hands-free equipment, Radio]                                               1\n",
       "[CD player, Hands-free equipment, MP3, Radio, USB]                                                               1\n",
       "[MP3, Radio, Sound system, USB]                                                                                  1\n",
       "[Bluetooth, MP3, On-board computer, Radio, Television, USB]                                                      1\n",
       "[Bluetooth, CD player, Hands-free equipment, MP3, On-board computer, Radio, Sound system, Television, USB]       1\n",
       "Name: \\nEntertainment & Media\\n, Length: 347, dtype: int64"
      ]
     },
     "execution_count": 138,
     "metadata": {},
     "output_type": "execute_result"
    }
   ],
   "source": [
    "df[\"\\nEntertainment & Media\\n\"].value_counts(dropna=False)"
   ]
  },
  {
   "cell_type": "code",
   "execution_count": 139,
   "metadata": {
    "scrolled": true
   },
   "outputs": [
    {
     "data": {
      "text/plain": [
       "['Bluetooth',\n",
       " 'Hands-free equipment',\n",
       " 'On-board computer',\n",
       " 'Radio',\n",
       " 'Sound system',\n",
       " 'MP3',\n",
       " 'CD player',\n",
       " 'USB',\n",
       " 'Digital radio',\n",
       " 'Television']"
      ]
     },
     "execution_count": 139,
     "metadata": {},
     "output_type": "execute_result"
    }
   ],
   "source": [
    "unique_values(df, \"\\nEntertainment & Media\\n\")"
   ]
  },
  {
   "cell_type": "code",
   "execution_count": 140,
   "metadata": {},
   "outputs": [],
   "source": [
    "df['digi_media']= [','.join(i).strip() if isinstance(i, list) else i for i in df[\"\\nEntertainment & Media\\n\"]]"
   ]
  },
  {
   "cell_type": "code",
   "execution_count": 141,
   "metadata": {},
   "outputs": [
    {
     "data": {
      "text/plain": [
       "NaN                                                                                                 1374\n",
       "Bluetooth,Hands-free equipment,On-board computer,Radio,USB                                          1282\n",
       "Bluetooth,Hands-free equipment,MP3,On-board computer,Radio,USB                                       982\n",
       "Bluetooth,CD player,Hands-free equipment,MP3,On-board computer,Radio,USB                             783\n",
       "On-board computer,Radio                                                                              487\n",
       "                                                                                                    ... \n",
       "Bluetooth,CD player,Digital radio,Hands-free equipment,Radio                                           1\n",
       "CD player,Hands-free equipment,MP3,Radio,USB                                                           1\n",
       "MP3,Radio,Sound system,USB                                                                             1\n",
       "Bluetooth,MP3,On-board computer,Radio,Television,USB                                                   1\n",
       "Bluetooth,CD player,Hands-free equipment,MP3,On-board computer,Radio,Sound system,Television,USB       1\n",
       "Name: digi_media, Length: 347, dtype: int64"
      ]
     },
     "execution_count": 141,
     "metadata": {},
     "output_type": "execute_result"
    }
   ],
   "source": [
    "df.digi_media.value_counts(dropna=False)"
   ]
  },
  {
   "cell_type": "code",
   "execution_count": 142,
   "metadata": {},
   "outputs": [
    {
     "data": {
      "text/plain": [
       "Index(['make_model', 'short_description', 'body_type', 'price', 'vat', 'km', 'registration', 'prev_owner', 'Previous Owners', 'Next Inspection', 'Inspection new', 'Warranty', 'Full Service', 'Non-smoking Vehicle', 'Paint Type', 'Model Code', 'Cylinders', 'Weight', 'Drive chain', 'Consumption', '\\nEntertainment & Media\\n', '\\nExtras\\n', '\\nSafety & Security\\n', 'description', 'Emission Label', 'Gears', 'Country version', 'make', 'hp_kW', 'used_new', 'fuel_type', 'upholstery_kind', 'upholstery_color', 'door_count', 'seat_count', 'auto_manuel', 'displacement_cc', 'consumption_comb', 'co2_emission', 'comfort', 'digi_media'], dtype='object')"
      ]
     },
     "execution_count": 142,
     "metadata": {},
     "output_type": "execute_result"
    }
   ],
   "source": [
    "df.columns"
   ]
  },
  {
   "cell_type": "code",
   "execution_count": 143,
   "metadata": {},
   "outputs": [],
   "source": [
    "df.drop(columns='\\nEntertainment & Media\\n', inplace=True)"
   ]
  },
  {
   "cell_type": "markdown",
   "metadata": {},
   "source": [
    "## \\nExtras\\n"
   ]
  },
  {
   "cell_type": "code",
   "execution_count": 144,
   "metadata": {},
   "outputs": [
    {
     "data": {
      "text/plain": [
       "0                    [Alloy wheels, Catalytic Converter, Voice Control]\n",
       "1          [Alloy wheels, Sport seats, Sport suspension, Voice Control]\n",
       "2                                         [Alloy wheels, Voice Control]\n",
       "3                            [Alloy wheels, Sport seats, Voice Control]\n",
       "4        [Alloy wheels, Sport package, Sport suspension, Voice Control]\n",
       "                                      ...                              \n",
       "15914                                      [Alloy wheels, Touch screen]\n",
       "15915                       [Alloy wheels, Touch screen, Voice Control]\n",
       "15916                                                    [Alloy wheels]\n",
       "15917                                      [Alloy wheels, Touch screen]\n",
       "15918                                      [Alloy wheels, Touch screen]\n",
       "Name: \\nExtras\\n, Length: 15919, dtype: object"
      ]
     },
     "execution_count": 144,
     "metadata": {},
     "output_type": "execute_result"
    }
   ],
   "source": [
    "df[\"\\nExtras\\n\"]"
   ]
  },
  {
   "cell_type": "code",
   "execution_count": 145,
   "metadata": {},
   "outputs": [
    {
     "ename": "TypeError",
     "evalue": "unhashable type: 'list'",
     "output_type": "error",
     "traceback": [
      "\u001b[0;31m---------------------------------------------------------------------------\u001b[0m",
      "\u001b[0;31mTypeError\u001b[0m                                 Traceback (most recent call last)",
      "\u001b[0;32mpandas/_libs/hashtable_class_helper.pxi\u001b[0m in \u001b[0;36mpandas._libs.hashtable.PyObjectHashTable.map_locations\u001b[0;34m()\u001b[0m\n",
      "\u001b[0;31mTypeError\u001b[0m: unhashable type: 'list'"
     ]
    },
    {
     "name": "stderr",
     "output_type": "stream",
     "text": [
      "Exception ignored in: 'pandas._libs.index.IndexEngine._call_map_locations'\n",
      "Traceback (most recent call last):\n",
      "  File \"pandas/_libs/hashtable_class_helper.pxi\", line 5231, in pandas._libs.hashtable.PyObjectHashTable.map_locations\n",
      "TypeError: unhashable type: 'list'\n"
     ]
    },
    {
     "data": {
      "text/plain": [
       "[Alloy wheels]                                                                                                     3245\n",
       "NaN                                                                                                                2962\n",
       "[Alloy wheels, Touch screen]                                                                                        697\n",
       "[Alloy wheels, Voice Control]                                                                                       577\n",
       "[Alloy wheels, Touch screen, Voice Control]                                                                         541\n",
       "                                                                                                                   ... \n",
       "[Alloy wheels, Catalytic Converter, Shift paddles, Sport package, Sport seats, Sport suspension, Voice Control]       1\n",
       "[Alloy wheels, Catalytic Converter, Roof rack, Sport package, Sport seats, Trailer hitch]                             1\n",
       "[Alloy wheels, Catalytic Converter, Ski bag, Sport package, Voice Control]                                            1\n",
       "[Catalytic Converter, Roof rack, Sport seats, Sport suspension]                                                       1\n",
       "[Alloy wheels, Shift paddles, Ski bag, Sport seats, Sport suspension, Touch screen, Voice Control]                    1\n",
       "Name: \\nExtras\\n, Length: 660, dtype: int64"
      ]
     },
     "execution_count": 145,
     "metadata": {},
     "output_type": "execute_result"
    }
   ],
   "source": [
    "df[\"\\nExtras\\n\"].value_counts(dropna=False)"
   ]
  },
  {
   "cell_type": "code",
   "execution_count": 146,
   "metadata": {},
   "outputs": [
    {
     "data": {
      "text/plain": [
       "['Alloy wheels',\n",
       " 'Catalytic Converter',\n",
       " 'Voice Control',\n",
       " 'Sport seats',\n",
       " 'Sport suspension',\n",
       " 'Sport package',\n",
       " 'Shift paddles',\n",
       " 'Winter tyres',\n",
       " 'Touch screen',\n",
       " 'Handicapped enabled',\n",
       " 'Trailer hitch',\n",
       " 'Cab or rented Car',\n",
       " 'Roof rack',\n",
       " 'Tuned car',\n",
       " 'Ski bag',\n",
       " 'Sliding door',\n",
       " 'Right hand drive']"
      ]
     },
     "execution_count": 146,
     "metadata": {},
     "output_type": "execute_result"
    }
   ],
   "source": [
    "unique_values(df, \"\\nExtras\\n\")"
   ]
  },
  {
   "cell_type": "code",
   "execution_count": 147,
   "metadata": {},
   "outputs": [],
   "source": [
    "df[\"extra\"] = [','.join(i).strip() if isinstance(i, list) else i for i in df[\"\\nExtras\\n\"]]"
   ]
  },
  {
   "cell_type": "code",
   "execution_count": 148,
   "metadata": {},
   "outputs": [],
   "source": [
    "df.drop(columns=[\"\\nExtras\\n\"], inplace=True)"
   ]
  },
  {
   "cell_type": "code",
   "execution_count": 149,
   "metadata": {},
   "outputs": [
    {
     "data": {
      "text/plain": [
       "Index(['url', 'make_model', 'short_description', 'body_type', 'price', 'vat', 'km', 'registration', 'prev_owner', 'kW', 'hp', 'Type', 'Previous Owners', 'Next Inspection', 'Inspection new', 'Warranty', 'Full Service', 'Non-smoking Vehicle', 'null', 'Make', 'Model', 'Offer Number', 'First Registration', 'Body Color', 'Paint Type', 'Body Color Original', 'Upholstery', 'Body', 'Nr. of Doors', 'Nr. of Seats', 'Model Code', 'Gearing Type', 'Displacement', 'Cylinders', 'Weight', 'Drive chain', 'Fuel', 'Consumption', 'CO2 Emission', 'Emission Class', '\\nComfort & Convenience\\n', '\\nEntertainment & Media\\n', '\\nExtras\\n', '\\nSafety & Security\\n', 'description', 'Emission Label', 'Gears', 'Country version', 'Electricity consumption', 'Last Service Date', 'Other Fuel Types', 'Availability', 'Last Timing Belt Service Date', 'Available from'], dtype='object')"
      ]
     },
     "execution_count": 149,
     "metadata": {},
     "output_type": "execute_result"
    }
   ],
   "source": [
    "dfo.columns"
   ]
  },
  {
   "cell_type": "markdown",
   "metadata": {},
   "source": [
    "# \\nSafety & Security\\n"
   ]
  },
  {
   "cell_type": "code",
   "execution_count": 150,
   "metadata": {
    "scrolled": true
   },
   "outputs": [
    {
     "data": {
      "text/plain": [
       "0                                                                                                                                                       [ABS, Central door lock, Daytime running lights, Driver-side airbag, Electronic stability control, Fog lights, Immobilizer, Isofix, Passenger-side airbag, Power steering, Side airbag, Tire pressure monitoring system, Traction control, Xenon headlights]\n",
       "1                                                                                                               [ABS, Central door lock, Central door lock with remote control, Daytime running lights, Driver-side airbag, Electronic stability control, Head airbag, Immobilizer, Isofix, Passenger-side airbag, Power steering, Side airbag, Tire pressure monitoring system, Traction control, Xenon headlights]\n",
       "2                                                                                                                                                                                     [ABS, Central door lock, Daytime running lights, Driver-side airbag, Electronic stability control, Immobilizer, Isofix, Passenger-side airbag, Power steering, Side airbag, Tire pressure monitoring system, Traction control]\n",
       "3                                                                                                                                 [ABS, Alarm system, Central door lock with remote control, Driver drowsiness detection, Driver-side airbag, Electronic stability control, Emergency system, Head airbag, Immobilizer, Isofix, Passenger-side airbag, Power steering, Side airbag, Tire pressure monitoring system]\n",
       "4                                                                                                                                                                               [ABS, Central door lock, Driver-side airbag, Electronic stability control, Fog lights, Immobilizer, Isofix, Passenger-side airbag, Power steering, Side airbag, Tire pressure monitoring system, Traction control, Xenon headlights]\n",
       "                                                                                                                                                                                                            ...                                                                                                                                                                                                     \n",
       "15914        [ABS, Central door lock, Central door lock with remote control, Driver-side airbag, Electronic stability control, Emergency brake assistant, Head airbag, Immobilizer, Isofix, Lane departure warning system, LED Daytime Running Lights, LED Headlights, Passenger-side airbag, Power steering, Rear airbag, Side airbag, Tire pressure monitoring system, Traction control, Traffic sign recognition]\n",
       "15915    [ABS, Adaptive Cruise Control, Blind spot monitor, Central door lock, Daytime running lights, Driver-side airbag, Electronic stability control, Emergency brake assistant, Immobilizer, Isofix, Lane departure warning system, LED Daytime Running Lights, LED Headlights, Passenger-side airbag, Power steering, Side airbag, Tire pressure monitoring system, Traction control, Traffic sign recognition]\n",
       "15916                                     [ABS, Adaptive Cruise Control, Blind spot monitor, Central door lock, Daytime running lights, Driver-side airbag, Electronic stability control, Emergency brake assistant, Immobilizer, Isofix, Lane departure warning system, LED Daytime Running Lights, LED Headlights, Passenger-side airbag, Power steering, Side airbag, Traction control, Traffic sign recognition]\n",
       "15917                                                                                                                                                                  [ABS, Blind spot monitor, Driver-side airbag, Electronic stability control, Emergency brake assistant, Isofix, LED Headlights, Passenger-side airbag, Power steering, Side airbag, Tire pressure monitoring system, Traffic sign recognition]\n",
       "15918                                                                                                                 [ABS, Blind spot monitor, Daytime running lights, Driver-side airbag, Electronic stability control, Emergency brake assistant, Immobilizer, Isofix, LED Daytime Running Lights, Passenger-side airbag, Power steering, Side airbag, Tire pressure monitoring system, Traffic sign recognition]\n",
       "Name: \\nSafety & Security\\n, Length: 15919, dtype: object"
      ]
     },
     "execution_count": 150,
     "metadata": {},
     "output_type": "execute_result"
    }
   ],
   "source": [
    "df[\"\\nSafety & Security\\n\"]"
   ]
  },
  {
   "cell_type": "code",
   "execution_count": 151,
   "metadata": {
    "scrolled": true
   },
   "outputs": [
    {
     "ename": "TypeError",
     "evalue": "unhashable type: 'list'",
     "output_type": "error",
     "traceback": [
      "\u001b[0;31m---------------------------------------------------------------------------\u001b[0m",
      "\u001b[0;31mTypeError\u001b[0m                                 Traceback (most recent call last)",
      "\u001b[0;32mpandas/_libs/hashtable_class_helper.pxi\u001b[0m in \u001b[0;36mpandas._libs.hashtable.PyObjectHashTable.map_locations\u001b[0;34m()\u001b[0m\n",
      "\u001b[0;31mTypeError\u001b[0m: unhashable type: 'list'"
     ]
    },
    {
     "name": "stderr",
     "output_type": "stream",
     "text": [
      "Exception ignored in: 'pandas._libs.index.IndexEngine._call_map_locations'\n",
      "Traceback (most recent call last):\n",
      "  File \"pandas/_libs/hashtable_class_helper.pxi\", line 5231, in pandas._libs.hashtable.PyObjectHashTable.map_locations\n",
      "TypeError: unhashable type: 'list'\n"
     ]
    },
    {
     "data": {
      "text/plain": [
       "NaN                                                                                                                                                                                                                                                                                                                                                                                  982\n",
       "[ABS, Central door lock, Daytime running lights, Driver-side airbag, Electronic stability control, Fog lights, Immobilizer, Isofix, Passenger-side airbag, Power steering, Side airbag, Tire pressure monitoring system, Traction control]                                                                                                                                           538\n",
       "[ABS, Central door lock, Daytime running lights, Driver-side airbag, Electronic stability control, Immobilizer, Isofix, Passenger-side airbag, Power steering, Side airbag, Tire pressure monitoring system, Traction control]                                                                                                                                                       480\n",
       "[ABS, Central door lock, Daytime running lights, Driver-side airbag, Electronic stability control, Immobilizer, Isofix, Passenger-side airbag, Power steering, Side airbag, Tire pressure monitoring system, Traction control, Xenon headlights]                                                                                                                                     275\n",
       "[ABS, Central door lock, Daytime running lights, Driver-side airbag, Electronic stability control, Fog lights, Immobilizer, Isofix, LED Daytime Running Lights, Passenger-side airbag, Power steering, Side airbag, Tire pressure monitoring system, Traction control]                                                                                                               272\n",
       "                                                                                                                                                                                                                                                                                                                                                                                    ... \n",
       "[ABS, Central door lock, Electronic stability control, Immobilizer, Isofix, Passenger-side airbag, Power steering, Side airbag]                                                                                                                                                                                                                                                        1\n",
       "[ABS, Adaptive Cruise Control, Central door lock, Daytime running lights, Driver-side airbag, Electronic stability control, Emergency brake assistant, Immobilizer, Isofix, Passenger-side airbag, Power steering, Side airbag, Tire pressure monitoring system, Traction control]                                                                                                     1\n",
       "[ABS, Adaptive Cruise Control, Alarm system, Central door lock, Driver-side airbag, Electronic stability control, Fog lights, Immobilizer, Isofix, Lane departure warning system, LED Daytime Running Lights, Passenger-side airbag, Power steering, Side airbag, Tire pressure monitoring system, Traction control, Xenon headlights]                                                 1\n",
       "[ABS, Adaptive Cruise Control, Central door lock, Daytime running lights, Driver-side airbag, Electronic stability control, Fog lights, Immobilizer, Isofix, Power steering, Tire pressure monitoring system, Traction control]                                                                                                                                                        1\n",
       "[ABS, Adaptive Cruise Control, Central door lock, Daytime running lights, Driver-side airbag, Electronic stability control, Emergency brake assistant, Fog lights, Immobilizer, Isofix, Lane departure warning system, LED Daytime Running Lights, LED Headlights, Passenger-side airbag, Power steering, Side airbag, Tire pressure monitoring system, Traffic sign recognition]      1\n",
       "Name: \\nSafety & Security\\n, Length: 4444, dtype: int64"
      ]
     },
     "execution_count": 151,
     "metadata": {},
     "output_type": "execute_result"
    }
   ],
   "source": [
    "df[\"\\nSafety & Security\\n\"].value_counts(dropna=False)"
   ]
  },
  {
   "cell_type": "code",
   "execution_count": 152,
   "metadata": {
    "scrolled": true
   },
   "outputs": [
    {
     "data": {
      "text/plain": [
       "['ABS',\n",
       " 'Central door lock',\n",
       " 'Daytime running lights',\n",
       " 'Driver-side airbag',\n",
       " 'Electronic stability control',\n",
       " 'Fog lights',\n",
       " 'Immobilizer',\n",
       " 'Isofix',\n",
       " 'Passenger-side airbag',\n",
       " 'Power steering',\n",
       " 'Side airbag',\n",
       " 'Tire pressure monitoring system',\n",
       " 'Traction control',\n",
       " 'Xenon headlights',\n",
       " 'Central door lock with remote control',\n",
       " 'Head airbag',\n",
       " 'Alarm system',\n",
       " 'Driver drowsiness detection',\n",
       " 'Emergency system',\n",
       " 'LED Headlights',\n",
       " 'Adaptive headlights',\n",
       " 'LED Daytime Running Lights',\n",
       " 'Rear airbag',\n",
       " 'Emergency brake assistant',\n",
       " 'Adaptive Cruise Control',\n",
       " 'Night view assist',\n",
       " 'Traffic sign recognition',\n",
       " 'Lane departure warning system',\n",
       " 'Blind spot monitor']"
      ]
     },
     "execution_count": 152,
     "metadata": {},
     "output_type": "execute_result"
    }
   ],
   "source": [
    "unique_values(df, \"\\nSafety & Security\\n\")"
   ]
  },
  {
   "cell_type": "code",
   "execution_count": 153,
   "metadata": {
    "scrolled": true
   },
   "outputs": [
    {
     "data": {
      "text/plain": [
       "0                                                                                                                                                  ABS,Central door lock,Daytime running lights,Driver-side airbag,Electronic stability control,Fog lights,Immobilizer,Isofix,Passenger-side airbag,Power steering,Side airbag,Tire pressure monitoring system,Traction control,Xenon headlights\n",
       "1                                                                                                           ABS,Central door lock,Central door lock with remote control,Daytime running lights,Driver-side airbag,Electronic stability control,Head airbag,Immobilizer,Isofix,Passenger-side airbag,Power steering,Side airbag,Tire pressure monitoring system,Traction control,Xenon headlights\n",
       "2                                                                                                                                                                              ABS,Central door lock,Daytime running lights,Driver-side airbag,Electronic stability control,Immobilizer,Isofix,Passenger-side airbag,Power steering,Side airbag,Tire pressure monitoring system,Traction control\n",
       "3                                                                                                                            ABS,Alarm system,Central door lock with remote control,Driver drowsiness detection,Driver-side airbag,Electronic stability control,Emergency system,Head airbag,Immobilizer,Isofix,Passenger-side airbag,Power steering,Side airbag,Tire pressure monitoring system\n",
       "4                                                                                                                                                                         ABS,Central door lock,Driver-side airbag,Electronic stability control,Fog lights,Immobilizer,Isofix,Passenger-side airbag,Power steering,Side airbag,Tire pressure monitoring system,Traction control,Xenon headlights\n",
       "                                                                                                                                                                                                  ...                                                                                                                                                                                           \n",
       "15914        ABS,Central door lock,Central door lock with remote control,Driver-side airbag,Electronic stability control,Emergency brake assistant,Head airbag,Immobilizer,Isofix,Lane departure warning system,LED Daytime Running Lights,LED Headlights,Passenger-side airbag,Power steering,Rear airbag,Side airbag,Tire pressure monitoring system,Traction control,Traffic sign recognition\n",
       "15915    ABS,Adaptive Cruise Control,Blind spot monitor,Central door lock,Daytime running lights,Driver-side airbag,Electronic stability control,Emergency brake assistant,Immobilizer,Isofix,Lane departure warning system,LED Daytime Running Lights,LED Headlights,Passenger-side airbag,Power steering,Side airbag,Tire pressure monitoring system,Traction control,Traffic sign recognition\n",
       "15916                                    ABS,Adaptive Cruise Control,Blind spot monitor,Central door lock,Daytime running lights,Driver-side airbag,Electronic stability control,Emergency brake assistant,Immobilizer,Isofix,Lane departure warning system,LED Daytime Running Lights,LED Headlights,Passenger-side airbag,Power steering,Side airbag,Traction control,Traffic sign recognition\n",
       "15917                                                                                                                                                           ABS,Blind spot monitor,Driver-side airbag,Electronic stability control,Emergency brake assistant,Isofix,LED Headlights,Passenger-side airbag,Power steering,Side airbag,Tire pressure monitoring system,Traffic sign recognition\n",
       "15918                                                                                                            ABS,Blind spot monitor,Daytime running lights,Driver-side airbag,Electronic stability control,Emergency brake assistant,Immobilizer,Isofix,LED Daytime Running Lights,Passenger-side airbag,Power steering,Side airbag,Tire pressure monitoring system,Traffic sign recognition\n",
       "Name: safety, Length: 15919, dtype: object"
      ]
     },
     "execution_count": 153,
     "metadata": {},
     "output_type": "execute_result"
    }
   ],
   "source": [
    "df[\"safety\"] = [','.join(i).strip() if isinstance(i, list) else i for i in df[\"\\nSafety & Security\\n\"]]\n",
    "df[\"safety\"]"
   ]
  },
  {
   "cell_type": "code",
   "execution_count": 154,
   "metadata": {},
   "outputs": [],
   "source": [
    "df.drop(columns='\\nSafety & Security\\n', inplace=True)"
   ]
  },
  {
   "cell_type": "code",
   "execution_count": 155,
   "metadata": {},
   "outputs": [
    {
     "data": {
      "text/plain": [
       "Index(['url', 'make_model', 'short_description', 'body_type', 'price', 'vat', 'km', 'registration', 'prev_owner', 'kW', 'hp', 'Type', 'Previous Owners', 'Next Inspection', 'Inspection new', 'Warranty', 'Full Service', 'Non-smoking Vehicle', 'null', 'Make', 'Model', 'Offer Number', 'First Registration', 'Body Color', 'Paint Type', 'Body Color Original', 'Upholstery', 'Body', 'Nr. of Doors', 'Nr. of Seats', 'Model Code', 'Gearing Type', 'Displacement', 'Cylinders', 'Weight', 'Drive chain', 'Fuel', 'Consumption', 'CO2 Emission', 'Emission Class', '\\nComfort & Convenience\\n', '\\nEntertainment & Media\\n', '\\nExtras\\n', '\\nSafety & Security\\n', 'description', 'Emission Label', 'Gears', 'Country version', 'Electricity consumption', 'Last Service Date', 'Other Fuel Types', 'Availability', 'Last Timing Belt Service Date', 'Available from'], dtype='object')"
      ]
     },
     "execution_count": 155,
     "metadata": {},
     "output_type": "execute_result"
    }
   ],
   "source": [
    "dfo.columns"
   ]
  },
  {
   "cell_type": "markdown",
   "metadata": {},
   "source": [
    "## 'description'"
   ]
  },
  {
   "cell_type": "code",
   "execution_count": 156,
   "metadata": {
    "scrolled": true
   },
   "outputs": [
    {
     "data": {
      "text/plain": [
       "0        [\\n, Sicherheit:,  , Deaktivierung für Beifahrer-Airbag,  , ESC mit elektronischer Quersperre,  , Tagfahrlicht,  , Reifendruck-Kontrollanzeige,  , Kopfairbag-System mit Seiten-Airbags vorn,  , Sicherheitslenksäule, Assistenzsysteme:,  , Berganfahrassistent, Komfort:,  , Scheinwerferreinigung,  , Xenon plus inklusive Scheinwerfer-Reinigungsanlage,  , Scheinwerfer-Reinigungsanlage,  , Einparkhilfe hinten,  , Licht-/Regensensor,  , Funkfernbedienung,  , Elektrische Luftzusatzheizung, Interieur:...\n",
       "1                                                                                                                                                                                                                                                                                                                                                                                                               [\\nLangstreckenfahrzeug daher die hohe Kilometerleistung. , Bremsen neu bei 62000 km. , Gut gepflegter A1\\n]\n",
       "2        [\\n, Fahrzeug-Nummer: AM-95365,  , Ehem. UPE 24.640 EUR,  , Komfort,  , Klimaanlage,  , Elektrische Fensterheber,  , Sitzheizung,  , Tempomat,  , Zentralverriegelung,  , Leder-Lenkrad,  , Elektrische Spiegel,  , Wärmedämmendes Glas,  , Anfahrassistent,  , Sicherheit,  , Window/Kopfairbags,  , ESP (el. Stabilitäts Programm),  , Elektronische Wegfahrsperre,  , Reifendruckkontrolle,  , Tagfahrlicht,  , Exterieur,  , Alufelgen 16 Zoll,  , Einparkhilfe vo + hi,  , Interieur,  , Stoff Zeitgeist,  ...\n",
       "3                                                                                                                                                                                                                                                                                   [\\nAudi A1: , - 1e eigenaar , - Perfecte staat: schade/ongevalvrij , - Onderhoudsboekje Audi garage , - Full option!, - S-line opties, - Automaat, lederen bekleding, navi-pro, Xenon lampen, zetelverwarming, automatische airco,...\\n]\n",
       "4        [\\n, Technik & Sicherheit:, Xenon plus, Klimaautomatik, Einparkhilfe hinten, Scheinwerferreinigungsanlage, Nebelscheinwerfer, Zentralverriegelung mit Fernbedienung, Außenspiegel elek. einstellbar, Fensterheber elek, Start/Stop Anlage, 6 Airbag inkl. Kopfairbag, Euro 6, Multimedia:, Radio CD Concert, audi music interface, Handyvorbereitung (Bluetooth), Sprachsteuerung, USB Anschluss, Assistenzsysteme:, Lichtsensor, Regensensor, Berganfahrassistent, Reifendruckkontrolle, ESP inkl. ABS, Interie...\n",
       "                                                                                                                                                                                                                                                                ...                                                                                                                                                                                                                                                         \n",
       "15914    [\\nVettura visionabile nella sede in Via Roma 141 a Villorba (TV)., Prezzo escluse spese immatricolazione., Optional inclusi nel prezzo:, - Easy Park Assist con parking camera., Non esiti a contattare i nostri consulenti nella sede di:, Villorba (TV) - Via Roma 141, Numero verde: 800286606 (gratuito), Concessionaria ufficiale per UDINE: Lancia, Alfa Romeo, Subaru, Hyundai, Infiniti. Concessionaria ufficiale per UDINE, TRIESTE e GORIZIA: Kia e Volvo. Concessionaria ufficiale per TRIESTE e GOR...\n",
       "15915    [\\nDach: Panorama-Glas-Schiebedach, Lackierung: Metallic, Paket: CRUISING - Adaptiver Tempopilot ACC (bis 150km/h) - Head-up-Display, Paket: LIMITED Deluxe - Easy-Park-Assistent: Teilautomatisches Einparken - Elektrische Heckklappe mit Fußsensor - Rückfahrkamera, Paket: WINTER - Beheizbares Lenkrad - Beheizbare Windschutzscheibe - Beheizbare Sitze in der 2. Sitzreihe, Airbag: Anti Submarining Airbags v/h, Airbag: 2 Seitenairbags vorne, Airbag: Windowbags für Sitzreihen 1 + 2, Airbag Fahrer- ...\n",
       "15916    [\\n, Getriebe:,  Automatik, Technik:,  Bordcomputer, Assistenten:,  Totwinkel-Assistent, Verkehrszeichenerkennung, Regensensor, Fernlichtassistent, Lichtsensor, Notbremsassistent, Spurhalteassistent, Abstandsregeltempomat, Komfort:,  Servolenkung, Zentralverriegelung, Elektrischer Fensterheber, Lederausstattung, Sitzheizung, Elektrische Aussenspiegel, Teilbare Ruecksitzlehne, Tempomat, Multifunktionslenkrad, Keyless Go Startfunktion, Mittelarmlehne, Lenksaeule einstellbar, ParkDistanceContro...\n",
       "15917    [\\nDEK:[2691331], Renault Espace Blue dCi 200CV EDC Business, Nuova da Immatricolare, COLORE: Grigio Titanio, INTERNO: Pelle+Tessuto, TRASMISSIONE: Cambio Automatico EDC, ---, ACCESSORI: , 7 Posti, , , Cerchi in Lega 17, Navigatore con Display 8.7, Clima Automatico, Sensori di Parcheggio Anteriori e Posteriori con Retrocamera, Fari Full LED Pure Vision, Cruise Control, Renault Multisense, ---, Listino Nuovo 44.300 Euro, Prezzo Gruppo Carmeli: 39.700 Euro (Esclusa IPT e Messa in Strada), IVA ...\n",
       "15918    [\\n, Sicherheit Airbags:,  , Seitenairbag,  , Fahrerairbag,  , Beifahrerairbag,  , Sicherheit:,  , Rückfahrkamera,  , Reifendruckkontrolle,  , ABS,  , elektr. Stabilitätsprogramm (ESP),  , ISOFIX Kindersitzhalterung,  , Tagfahrlicht,  , Kindersitze integriert,  , Wegfahrsperre,  , Spiegel automatisch abblendbar,  , Servolenkung,  , 3. Bremsleuchte,  , LED-Tagfahrlicht,  , Notbremsassistent,  , Totwinkel-Assistent,  , Verkehrszeichenerkennung,  , Fernlichtassistent,  , Geschwindigkeitsbegrenz...\n",
       "Name: description, Length: 15919, dtype: object"
      ]
     },
     "execution_count": 156,
     "metadata": {},
     "output_type": "execute_result"
    }
   ],
   "source": [
    "df.description"
   ]
  },
  {
   "cell_type": "code",
   "execution_count": 157,
   "metadata": {},
   "outputs": [
    {
     "ename": "TypeError",
     "evalue": "unhashable type: 'list'",
     "output_type": "error",
     "traceback": [
      "\u001b[0;31m---------------------------------------------------------------------------\u001b[0m",
      "\u001b[0;31mTypeError\u001b[0m                                 Traceback (most recent call last)",
      "\u001b[0;32mpandas/_libs/hashtable_class_helper.pxi\u001b[0m in \u001b[0;36mpandas._libs.hashtable.PyObjectHashTable.map_locations\u001b[0;34m()\u001b[0m\n",
      "\u001b[0;31mTypeError\u001b[0m: unhashable type: 'list'"
     ]
    },
    {
     "name": "stderr",
     "output_type": "stream",
     "text": [
      "Exception ignored in: 'pandas._libs.index.IndexEngine._call_map_locations'\n",
      "Traceback (most recent call last):\n",
      "  File \"pandas/_libs/hashtable_class_helper.pxi\", line 5231, in pandas._libs.hashtable.PyObjectHashTable.map_locations\n",
      "TypeError: unhashable type: 'list'\n"
     ]
    },
    {
     "data": {
      "text/plain": [
       "[]                                                                                                                                                                                                                                                                                                                                                                                                                                                                                                                                                                                                                                                                                                                                                                                                                                                                                                                                                                                                                                                                                                                                                                                                                                                                                                                                                                                                                                                                                                                                                                                                                                                                                                                                                                                                                                                                                                                                                                                                                                                                                                                                                                                                                                                                                                                                                                                                                                                                                                                                                                                                                                                                                        636\n",
       "[\\n, \\n]                                                                                                                                                                                                                                                                                                                                                                                                                                                                                                                                                                                                                                                                                                                                                                                                                                                                                                                                                                                                                                                                                                                                                                                                                                                                                                                                                                                                                                                                                                                                                                                                                                                                                                                                                                                                                                                                                                                                                                                                                                                                                                                                                                                                                                                                                                                                                                                                                                                                                                                                                                                                                                                                                   30\n",
       "[\\n, Fahrzeugbeschreibung,  Sichern Sie sich diesen Renault Clio 1.6 TCE Energy Sport Trophy zum Top-Preis inklusive dem , AUTOHERO-RUNDUM-SORGLOS-PAKET,  , Infos:,  1.Hand, deutsche Auslieferung, Unfallfrei, scheckheftgepflegt,  , Highlights,  , Audio-Navigationssystem R-Link Evolution mit Touchscreen und Carminat TomTom,  , Sportsitze ,  , Sportfahrwerk,  , Scheinwerfer Full-LED , Komfort,  , Geschwindigkeits-Regelanlage (Tempomat) ,  , Klimaanlage,  , Einparkhilfe hinten,  , Multifunktionslenkrad (Sport/Leder) mit Schaltwippen/-tasten ,  , Fensterheber elektr. mit Impulsgeber links/rechts vorn,  , Zentralverriegelung / Startanlage Handsfree Entry & Drive ,  , Berganfahr-Assistent (HSA) , Multimedia,  , Audiosystem: Radio R & GO (Bluetooth, DAB-Tuner),  , Bordcomputer,  , Freisprecheinrichtung Bluetooth ,  , USB-Anschluss inkl. AUX-IN-Anschluss (Plug & Music) , Licht und Sicht,  , Außenspiegel elektr. verstell- und heizbar ,  , Licht- und Regensensor ,  , Tagfahrlicht LED ,  , Nebelscheinwerfer LED ,  , Coming-Home-Lichtfunktion ,  , Heckleuchten LED , Sicherheit,  , Isofix-Aufnahmen für Kindersitz ,  , Seitenairbag vorn,  , Wegfahrsperre,  , Differentialsperre,  , Bremsassistent ,  , Elektron. Stabilitäts-Programm (ESP),  , Anti-Blockier-System (ABS),  , Anti-Submarining-Airbag im Fond,  , Airbag Fahrer-/Beifahrerseite ,  , Differentialsperre ,  , Reifendruck-Kontrollsystem ,  , Untersteuerungskontrolle (USC) ,  , Antischlupfregelung (ASR) , Weiteres,  , Start/Stop-Anlage ,  , Servolenkung geschwindigkeitsabhängig,  , R.S. Drive (Fahrmodusschalter) ,  , Gepäckraumabdeckung / Rollo ,  , Heckdiffusor ,  , LM-Felgen ,  , Heckspoiler (Renault Sport) ,  , Pedale Aluminium ,  , Energierückgewinnung (Energy Smart Management) , ...]                                                                                                                                                                                                                                                                                                                                                                                                                                                                                                                                                                                                                                                                                                                                                                                                                                                              27\n",
       "[\\nPosibilidad de prueba del vehículo hasta 5 días. Consultar condiciones. PVP para particulares. Varias unidades y colores disponibles. Precios publicados para vehículos industriales (furgonetas) válidos para compradores autónomos o empresas, consultar condiciones para particulares. Las imágenes y kilómetros pueden no corresponder con el modelo anunciado. Para confirmar póngase en contacto con nuestro departamento comercial. Consulta las excepcionales condiciones de financiación que tenemos disponibles. Precio de venta final IVA y gastos de transferencia incluidos. Horario de atención al cliente: Lunes a Viernes de 09:00 a 18:00.\\n]                                                                                                                                                                                                                                                                                                                                                                                                                                                                                                                                                                                                                                                                                                                                                                                                                                                                                                                                                                                                                                                                                                                                                                                                                                                                                                                                                                                                                                                                                                                                                                                                                                                                                                                                                                                                                                                                                                                                                                                                                          27\n",
       "[\\nSichern Sie sich diesen RENAULT CLIO 1.2 LIMITED zum Top-Preis inklusive dem, AUTOHERO-RUNDUM-SORGLOS-PAKET,  , Infos:,  2.Hand, mindestens 12 Monate gültige HU und AU, deutsche Ausführung, unfallfrei ,  , Highlights,  , Audio-Navigationssystem mit Touchscreen-Farbdisplay, Komfort,  , Klimaanlage ,  , Multifunktionslenkrad in Leder ,  , Berganfahr-Assistent (HSA),  , Fensterheber elektrisch vorn ,  , Geschwindigkeits-Regelanlage (Tempomat) ,  , Heckscheibe heizbar ,  , Sitz vorn links höhenverstellbar,  , Sitz vorn rechts umklappbar ,  , Stau-/Ablagefach im Laderaumboden ,  , Zentralverriegelung mit Fernbedienung , Multimedia,  , Radio R&GO,  , Bluetooth Freisprechanlage ,  , USB-/AUX-Schnittstelle ,  , Bordcomputer,  , Licht und Sicht,  , Tagfahrlicht LED ,  , Außenspiegel elektrisch verstell- und heizbar, Sicherheit,  , Airbag für Fahrer und Beifahrer,  , Beifahrerairbag deaktivierbar ,  , Seitenairbags vorn ,  , Kopfairbagsystem,  , Anti-Blockier-System (ABS),  , Elektronische Bremskraftverteilung ,  , Elektronische Stabilitäts-Programm (ESP) ,  , Reifen-Reparaturkit ,  , Reifendruck-Kontrollsystem ,  , Untersteuerungskontrolle (USC) ,  , ISOFIX Kindersitzverankerung , Weiteres,  , Dachreling silber ,  , Look-Paket Chrom (außen) ,  , Look-Paket Grau (innen) ,  , R&GO-Paket ,  , Style-Paket ,  Ihr , AUTOHERO-RUNDUM-SORGLOS-PAKET,  beinhaltet:, Kostenlose Lieferung in Ihre Nähe, Optische & technische Aufbereitung, Mindestens 12 Monate gültige HU und AU, 1-Jahr-Premium-Garantie, Zulassung inklusive , 14-Tage-Rückgaberecht, Markenunabhängige Inzahlungnahme , Individuelle Finanzierungen zu fairen Konditionen,  , HIER GEHT ES ZUR 360° - ANSICHT DES FAHRZEUGES:, :, https://www.autohero.com/de/renault-clio-1-2-limited/id/30f99516-8785-47e7-a4a3-6cdac4d8e633/,  , Haftungsausschluss, :, Für Angaben vom Verkäufer, des Herstellers oder von Datenbankabfragen übernimmt Autohero keine Haftung. Änderungen, Zwischenverkauf und Irrtümer sind vorbehalten.\\n]                                                                                                                                                                                                                                                                                                                                                                                                                                                                                                                                                                                                                                27\n",
       "                                                                                                                                                                                                                                                                                                                                                                                                                                                                                                                                                                                                                                                                                                                                                                                                                                                                                                                                                                                                                                                                                                                                                                                                                                                                                                                                                                                                                                                                                                                                                                                                                                                                                                                                                                                                                                                                                                                                                                                                                                                                                                                                                                                                                                                                                                                                                                                                                                                                                                                                                                                                                                                                                         ... \n",
       "[\\nPratica 67374, Airbag fullsize per conducente e passeggero, Alzacristalli elettrici ant. e post. con funzione attivaz. a pressione, Assetto dinamico, Audi drive select, Inserti in micrometallic argento, Kit riparazione pneumatici, Pacchetto di navigazione, Piano di copertura del vano bagagli estraibile, Presa AUX-IN, Proiettori allo Xenon Plus con reg. aut. prof. fari, Lavafari, Rivestimenti dei sedili in tessuto, Serbatoio AdBlue, Sistema controllo pressione pneumatici, Sistema di ancoraggio ISOFIX e 3° punto di ancoraggio Top Tether sui sedili post. laterali, Sistema di informazioni per il conducente con display monocromatico, Tappetini anteriori e posteriori, Versione Business, Volante sportivo multifunzionale in pelle 3 razze, ABS, EBV (Ripartitore elettronico della forza frenante), Airbag laterali anteriori integrati negli schienali dei sedili, Airbag per la testa, Airbag per le ginocchia (lato conducente), Appoggiatesta anteriori (2) e posteriori (3) regolabili, Radio MMI plus, Interfaccia Bluetooth, Appoggiabraccia centrale anteriore, Cambio manuale, Cerchi in lega 7 J x 16\" a 5 razze a stella, Chiusura centralizzata con telecomando, Regolatore di velocità, ESC - Sistema elettronico di controllo della stabilizzazione con bloccaggio trasversale elettronico, ASR - Dispositivo di controllo della trazione, EDS (Dispositivo antislittamento in partenza), Filtro anti particolato, Cinture di sicurezza con pretensionatore, Specchietti retrovisivi esterni riscaldabili e ripiegabili elettricamente, Schienale del sedile posteriore ribaltabile (divisibile in rapporto 40:60 o ribaltabile completam.), Sistema di ausilio al parcheggio posteriore, Servosterzo elettromeccanico, Tergilunotto\\n]                                                                                                                                                                                                                                                                                                                                                                                                                                                                                                                                                                                                                                                                                                                                                                                                                                                                                                          1\n",
       "[\\n, Getriebe:,  Schaltgetriebe, Technik:,  Bordcomputer, Start-Stop-Automatik, Assistenten:,  Regensensor, Lichtsensor, Berganfahrassistent, Komfort:,  Servolenkung, Zentralverriegelung, Elektrischer Fensterheber, Sitzheizung, Elektrische Aussenspiegel, Teilbare Ruecksitzlehne, Tempomat, Park Distance Control, Multifunktionslenkrad, Innenspiegel autom. abblendbar, Mittelarmlehne, Innenraumfilter, Lenksaeule einstellbar, Sportsitze, Klimaautomatik-2-Zonen, Sicht:,  Xenon Scheinwerfer, Colorverglasung, Scheinwerferreinigung, Aussenspiegel beheizbar, Privacyverglasung, Sicherheit:,  ABS, Airbag, Beifahrer-Airbag, Wegfahrsperre, Seitenairbags, ESP, Antriebsschlupfregelung, Reifendruckkontrolle, Traktionskontrolle, Kopfairbag, Knieairbag, Kindersitzbefestigung, Pannenkit, Entertainment:,  CD, Radio, AUX-In, USB-Anschluss, MP3, Bluetooth, Freisprecheinrichtung, Umwelt:,  Grüne Umweltplakette, , Energieeffizienzklasse B, Qualität:,  Garantie, Scheckheftgepflegt, HUAU neu, Nichtraucherfahrzeug, Sonstiges:,  Metallic, Alufelgen, Dachreling, Gepaeckraumabdeckung, Stossfaenger in Wagenfarbe, Sportfahrwerk, Weiteres:,  Connectivity-Paket inkl. Bluetooth-Schnittstelle, Klimaautomatik 2-Zonen, Optik-Paket schwarz Audi exclusive, Einparkhilfe (APS), Verglasung hinten abgedunkelt, Sitzheizung vorn, Dachreling (Aluminium), Soundsystem DSP / Audi Sound-System, Ablage- und Gepäckraum-Paket, Audi music interface, Scheibenwaschdüsen heizbar, Vorbereitung Navigationssystem, Adaptives Bremslicht, Anfahr-Assistent (hold assist), Antriebsart: Frontantrieb, Audi Drive Select, Außenspiegel Wagenfarbe, Blinkleuchten LED in Außenspiegel integriert, Bremsanlage mit Rekuperation - Bremsenergierückgewinnung, Bremsassistent, Dachspoiler, Dekoreinlagen Aluminium Mistral, Einstiegsleisten Aluminium, Elektron. Differentialsperre (EDS), Elektron. Stabilitätskontrolle (ESC), Elektron. Stabilitäts-Programm, Euro 6, Fahrer-Informations-System (FIS), Fensterheber elektrisch vorn und hinten, Frontscheibe Akustikglas, Fußmatten Velours, Getriebe 6-Gang, Heckscheibe heizbar, Interieur Aluminium-Optik, Isofix-Aufnahmen für Kindersitz, Kopfstützen hinten, Multi-Media-Interface MMI, Parkbremse elektro-mechanisch, Polster: Stoff Rallye, Servolenkung elektro-mechanisch, Sitze vorn mit ausziehbarer Oberschenkelauflage, Sitzhöhenverstellung, Sport/Lederlenkrad, Sport-Fahrwerk, Start/Stop-Anlage, Telefon-Vorbereitung mit Bluetooth-Schnittstelle, Wagenheber, Wärmeschutzverglasung, Xenon Plus, ZV mit Fernbedienung, ... Änderungen, Zwischenverkauf und Irrtümer vorbehalten.,  by CG360.de\\n]      1\n",
       "[\\n, Getriebe, 6-Gang, Licht und Sicht, Xenon-Scheinwerfer Plus (Abblend- und Fernlicht), Technik und Sicherheit, Fahrerairbag, Airbag Fahrer-/Beifahrerseite, Seitenairbag vorn, Kopfairbags, Anti-Blockier-System (ABS), Elektron. Stabilitätskontrolle (ESC), Elektron. Differentialsperre (EDS), Zentralverriegelung mit Fernbedienung, Schließ-/Startsystem Advanced Key (Komfortschlüssel), Servolenkung elektro-mechanisch, Geschwindigkeits-Regelanlage (Tempomat), Elektronische Wegfahrsperre, Bordcomputer, Reifendruck-Kontrollsystem, Assistenzsysteme, Fahrassistenz-System: Anfahr-Assistent (hold assist), Multimedia, Multi-Media-Interface MMI Basic Plus / MMI Radio Plus, Audi Smartphone Interface, Komfort, Komfort-Klimaautomatik 2-Zonen, Einparkhilfe hinten (APS), Fensterheber elektrisch, Licht- und Regensensor, Außenspiegel elektr. verstellbar beide, Scheibenwaschdüsen und Außenspiegel beheizt, Wärmeschutzverglasung grün getönt, Innenausstattung, Sitzheizung vorn, Lenkrad (Sport/Leder - 3-Speichen) mit Multifunktion, Mittelarmlehne vorn, Rücksitzlehne geteilt/klappbar, Aussenausstattung, LM-Felgen, Pakete, Komfort-Paket, Sonstiges, Rußpartikelfilter, Scheckheftgepflegt, Nichtraucherfahrzeug, Weitere Informationen, Schadstoffklasse: EURO 6D-TEMP, Connectivity-Paket, Glanz-Paket, LM-Felgen 7.5x17 (5-Speichen Y-Design), Progressivlenkung, Antriebs-Schlupfregelung (ASR), Elektron. Stabilitäts-Programm (ESP), Getriebe 6-Gang, Lenkrad (Sport - 3-Speichen), Parkbremse elektro-mechanisch, Sitze vorn höhenverstellbar, Vorrüstung Mobiltelefon/Handy mit Bluetooth-Schnittstelle, Audi music interface, Außenspiegel elektr. verstell- und heizbar beide, Vorbereitung Navigationssystem, Irrtümer und Änderungen vorbehalten., Die im Internet angebotene Ausstattung ist kein Vertragsbestandteil., Die Ausstattung muss vor Ort geprüft werden., Das angebotene Fahrzeug kann von einer Rückrufaktion betroffen sein. Co2 Angaben können abweichen., \\n]                                                                                                                                                                                                                                                                                                                                                                                                                                                                                                                                                                                                                                                                  1\n",
       "[\\n, Aluminium-Gussräder im 5-Speichen-Stern-Design Größe 7 J x 16 mit Reifen 205/55 R 16, Dachreling eloxiert, Einparkhilfe hinten, Fahrerinformationssystem mit Farbdisplay, Lederlenkrad im 3-Speichen-Design mit Multifunktion plus, Ablage-/Gepäckraumpaket mit erweitertem USB-Buchsen-Angebot, Lichtpaket, Reifen 16', Anlaufvariante RdW, Vorbereitung für Anhängevorrichtung, Audi sound system, Reifen 205/55 R16 91W, Xenon plus, Allwetterlicht, Kopfstützen hinten (3 Stück), MMI Radio plus, Zentralverriegelung mit Funkschlüssel, Bluetooth-Schnittstelle, Innenspiegel abblendbar, elektronische Stabilisierungskontrolle (ESC), Airbags, 6-Gang-Schaltgetriebe, Seitenairbags vorn und Kopfairbagsystem, elektromechanische Servolenkung, Leuchtweitenregulierung automatisch-statisch, Scheibenwaschdüsen beheizbar vorn, Reifendruck-Kontrollanzeige, Tagfahrlicht, Start-Stop-System, AUX-IN-Anschluss, Kindersitzverankerung ISOFIX und Top Tether für die äußeren Fondsitze, Sitzbezüge in Stoff Index, Wärmeschutzverglasung, Akustikfrontscheibe, Außenspiegel links asphärisch, Außen-Sound Standard, Außenspiegel rechts (großes Sichtfeld) konvex, elektromechanische Parkbremse, Dachhimmel in Stoff felsgrau, Kraftstoffsystem Otto-Einspritzer, Linkslenker, Reifenreparaturset, Heckleuchten, Scheibenwaschanlage, Entriegelung Hintersitz Standard, Waschwasserstandsanzeige, Abgaskonzept EU6 AG/H/I, Frontantrieb, A3, Außenspiegelgehäuse in Wagenfarbe, Ohne erweitertem Sicherheitssystem, Geschwindigkeitsbegrenzungsanlage, Dachkantenspoiler, Heckscheibenwischer, Sportback, Kindersicherung manuell, Ohne Kamerasysteme/Umfeldsensorik, 4-Zyl. Ottomotor 1 5 L/110KW TSI Grundmotor ist: TJ7/N09/T9F, Nebelschlussleuchten, Nichtraucherausführung, Radstand, Doppeltonfanfare, Serienfahrwerk, 4 Türen, Modellbezeichnung gemäß neuer Leistungskennzeichnung, Warnleuchten, Zierleisten schwarz, Nichtraucherfahrzeug, Irrtümer Änderungen und Zwischenverkauf vorbehalten, sehr guter Zustand, Komfortklima, Aussenspiegel heizbar, elektrische Aussenspiegel, geteilte Rückbank, Scheckheft gepflegt, Fahrersitz höhenverstellbar, Beifahrersitz höhenverstellbar, \\n]                                                                                                                                                                                                                                                                                                                                                                                                                                                                        1\n",
       "[\\nDEK:[2691331], Renault Espace Blue dCi 200CV EDC Business, Nuova da Immatricolare, COLORE: Grigio Titanio, INTERNO: Pelle+Tessuto, TRASMISSIONE: Cambio Automatico EDC, ---, ACCESSORI: , 7 Posti, , , Cerchi in Lega 17, Navigatore con Display 8.7, Clima Automatico, Sensori di Parcheggio Anteriori e Posteriori con Retrocamera, Fari Full LED Pure Vision, Cruise Control, Renault Multisense, ---, Listino Nuovo 44.300 Euro, Prezzo Gruppo Carmeli: 39.700 Euro (Esclusa IPT e Messa in Strada), IVA Esposta, In caso di Adesione alla PROMO GRUPPO CARMELI puoi Averla a 36.000 Euro, Contattaci per scoprire tutti i vantaggi della PROMO GRUPPO CARMELI, ____________________________________, Gruppo Carmeli S.p.A. è Concessionaria e Service ufficiale dei Marchi Renault, Dacia, Nissan, Mercedes e Smart per la provincia di Brescia e Bergamo ed opera nel mercato dell’auto da più di 40 anni., Nelle sedi di Brescia (Nissan e Renault-Dacia Autospazio), di Coccaglio (Renault-Dacia e Nissan) e di Bergamo (Nissan) oltre a tutta la gamma di veicoli dei Marchi rappresentati, propone anche 2.000 auto a Km Zero e Aziendali di tutte le marche., Offriamo Servizi:, -VALUTAZIONE e PERMUTA del tuo USATO, -ACQUISTO con pagamento immediato del tuo USATO, -FINANZIAMENTI e LEASING agevolati, -NOLEGGIO A LUNGO TERMINE di veicoli di tutte le marche, -PACCHETTI ASSICURATIVI su misura con possibilità di garanzia del valore a Nuovo, ____________________________________, Sebbene sia stato fatto ogni ragionevole sforzo per assicurare l'esattezza delle informazioni riportate, vi potrebbero essere involontarie incongruenze riguardanti le immagini e la descrizione degli accessori, che pertanto non rappresentano vincolo contrattuale. Per ulteriori informazioni sulle condizioni economiche ti invitiamo a contattarci., \\n]                                                                                                                                                                                                                                                                                                                                                                                                                                                                                                                                                                                                                                                                                                                                                                                                                   1\n",
       "Name: description, Length: 12874, dtype: int64"
      ]
     },
     "execution_count": 157,
     "metadata": {},
     "output_type": "execute_result"
    }
   ],
   "source": [
    "df.description.value_counts(dropna=False)"
   ]
  },
  {
   "cell_type": "markdown",
   "metadata": {},
   "source": [
    "This column have many unorganized data and most of them are in Germen so this column will be dropped."
   ]
  },
  {
   "cell_type": "code",
   "execution_count": 158,
   "metadata": {},
   "outputs": [],
   "source": [
    "df.drop(columns=\"description\", inplace=True)"
   ]
  },
  {
   "cell_type": "code",
   "execution_count": 159,
   "metadata": {
    "scrolled": true
   },
   "outputs": [
    {
     "data": {
      "text/plain": [
       "Index(['url', 'make_model', 'short_description', 'body_type', 'price', 'vat', 'km', 'registration', 'prev_owner', 'kW', 'hp', 'Type', 'Previous Owners', 'Next Inspection', 'Inspection new', 'Warranty', 'Full Service', 'Non-smoking Vehicle', 'null', 'Make', 'Model', 'Offer Number', 'First Registration', 'Body Color', 'Paint Type', 'Body Color Original', 'Upholstery', 'Body', 'Nr. of Doors', 'Nr. of Seats', 'Model Code', 'Gearing Type', 'Displacement', 'Cylinders', 'Weight', 'Drive chain', 'Fuel', 'Consumption', 'CO2 Emission', 'Emission Class', '\\nComfort & Convenience\\n', '\\nEntertainment & Media\\n', '\\nExtras\\n', '\\nSafety & Security\\n', 'description', 'Emission Label', 'Gears', 'Country version', 'Electricity consumption', 'Last Service Date', 'Other Fuel Types', 'Availability', 'Last Timing Belt Service Date', 'Available from'], dtype='object')"
      ]
     },
     "execution_count": 159,
     "metadata": {},
     "output_type": "execute_result"
    }
   ],
   "source": [
    "dfo.columns"
   ]
  },
  {
   "cell_type": "markdown",
   "metadata": {},
   "source": [
    "## Gears"
   ]
  },
  {
   "cell_type": "code",
   "execution_count": 160,
   "metadata": {},
   "outputs": [
    {
     "ename": "TypeError",
     "evalue": "unhashable type: 'list'",
     "output_type": "error",
     "traceback": [
      "\u001b[0;31m---------------------------------------------------------------------------\u001b[0m",
      "\u001b[0;31mTypeError\u001b[0m                                 Traceback (most recent call last)",
      "\u001b[0;32mpandas/_libs/hashtable_class_helper.pxi\u001b[0m in \u001b[0;36mpandas._libs.hashtable.PyObjectHashTable.map_locations\u001b[0;34m()\u001b[0m\n",
      "\u001b[0;31mTypeError\u001b[0m: unhashable type: 'list'"
     ]
    },
    {
     "name": "stderr",
     "output_type": "stream",
     "text": [
      "Exception ignored in: 'pandas._libs.index.IndexEngine._call_map_locations'\n",
      "Traceback (most recent call last):\n",
      "  File \"pandas/_libs/hashtable_class_helper.pxi\", line 5231, in pandas._libs.hashtable.PyObjectHashTable.map_locations\n",
      "TypeError: unhashable type: 'list'\n"
     ]
    },
    {
     "data": {
      "text/plain": [
       "[\\n6\\n]     5822\n",
       "NaN         4712\n",
       "[\\n5\\n]     3239\n",
       "[\\n7\\n]     1908\n",
       "[\\n8\\n]      224\n",
       "[\\n9\\n]        6\n",
       "[\\n1\\n]        2\n",
       "[\\n3\\n]        2\n",
       "[\\n4\\n]        2\n",
       "[\\n2\\n]        1\n",
       "[\\n50\\n]       1\n",
       "Name: Gears, dtype: int64"
      ]
     },
     "execution_count": 160,
     "metadata": {},
     "output_type": "execute_result"
    }
   ],
   "source": [
    "df.Gears.value_counts(dropna=False)"
   ]
  },
  {
   "cell_type": "code",
   "execution_count": 161,
   "metadata": {},
   "outputs": [
    {
     "data": {
      "text/plain": [
       "6      5822\n",
       "NaN    4712\n",
       "5      3239\n",
       "7      1908\n",
       "8       224\n",
       "9         6\n",
       "1         2\n",
       "3         2\n",
       "4         2\n",
       "2         1\n",
       "50        1\n",
       "Name: gears, dtype: int64"
      ]
     },
     "execution_count": 161,
     "metadata": {},
     "output_type": "execute_result"
    }
   ],
   "source": [
    "df[\"gears\"] = df.Gears.str[0].str.strip()\n",
    "df[\"gears\"].value_counts(dropna=False)"
   ]
  },
  {
   "cell_type": "code",
   "execution_count": 162,
   "metadata": {},
   "outputs": [],
   "source": [
    "df.drop(columns=\"Gears\", inplace=True)"
   ]
  },
  {
   "cell_type": "code",
   "execution_count": 163,
   "metadata": {},
   "outputs": [
    {
     "data": {
      "text/plain": [
       "Index(['url', 'make_model', 'short_description', 'body_type', 'price', 'vat', 'km', 'registration', 'prev_owner', 'kW', 'hp', 'Type', 'Previous Owners', 'Next Inspection', 'Inspection new', 'Warranty', 'Full Service', 'Non-smoking Vehicle', 'null', 'Make', 'Model', 'Offer Number', 'First Registration', 'Body Color', 'Paint Type', 'Body Color Original', 'Upholstery', 'Body', 'Nr. of Doors', 'Nr. of Seats', 'Model Code', 'Gearing Type', 'Displacement', 'Cylinders', 'Weight', 'Drive chain', 'Fuel', 'Consumption', 'CO2 Emission', 'Emission Class', '\\nComfort & Convenience\\n', '\\nEntertainment & Media\\n', '\\nExtras\\n', '\\nSafety & Security\\n', 'description', 'Emission Label', 'Gears', 'Country version', 'Electricity consumption', 'Last Service Date', 'Other Fuel Types', 'Availability', 'Last Timing Belt Service Date', 'Available from'], dtype='object')"
      ]
     },
     "execution_count": 163,
     "metadata": {},
     "output_type": "execute_result"
    }
   ],
   "source": [
    "dfo.columns"
   ]
  },
  {
   "cell_type": "markdown",
   "metadata": {},
   "source": [
    "## Warranty"
   ]
  },
  {
   "cell_type": "code",
   "execution_count": 164,
   "metadata": {
    "scrolled": false
   },
   "outputs": [
    {
     "ename": "TypeError",
     "evalue": "unhashable type: 'list'",
     "output_type": "error",
     "traceback": [
      "\u001b[0;31m---------------------------------------------------------------------------\u001b[0m",
      "\u001b[0;31mTypeError\u001b[0m                                 Traceback (most recent call last)",
      "\u001b[0;32mpandas/_libs/hashtable_class_helper.pxi\u001b[0m in \u001b[0;36mpandas._libs.hashtable.PyObjectHashTable.map_locations\u001b[0;34m()\u001b[0m\n",
      "\u001b[0;31mTypeError\u001b[0m: unhashable type: 'list'"
     ]
    },
    {
     "name": "stderr",
     "output_type": "stream",
     "text": [
      "Exception ignored in: 'pandas._libs.index.IndexEngine._call_map_locations'\n",
      "Traceback (most recent call last):\n",
      "  File \"pandas/_libs/hashtable_class_helper.pxi\", line 5231, in pandas._libs.hashtable.PyObjectHashTable.map_locations\n",
      "TypeError: unhashable type: 'list'\n"
     ]
    },
    {
     "data": {
      "text/plain": [
       "NaN                                                                                                5420\n",
       "[\\n, \\n, \\nEuro 6\\n]                                                                               1868\n",
       "\\n12 months\\n                                                                                      1177\n",
       "\\n                                                                                                  979\n",
       "\\n24 months\\n                                                                                       566\n",
       "                                                                                                   ... \n",
       "[\\n72 months\\n, \\n125 g CO2/km (comb)\\n]                                                              1\n",
       "[\\n60 months\\n, \\n14 g CO2/km (comb)\\n]                                                               1\n",
       "[\\n24 months\\n, \\n121 g CO2/km (comb)\\n]                                                              1\n",
       "[\\n12 months\\n, \\nEuro 6d\\n]                                                                          1\n",
       "[\\n36 months\\n, \\n, 7.4 l/100 km (comb), \\n, 9.6 l/100 km (city), \\n, 6 l/100 km (country), \\n]       1\n",
       "Name: Warranty, Length: 516, dtype: int64"
      ]
     },
     "execution_count": 164,
     "metadata": {},
     "output_type": "execute_result"
    }
   ],
   "source": [
    "df.Warranty.value_counts(dropna=False)"
   ]
  },
  {
   "cell_type": "code",
   "execution_count": 165,
   "metadata": {
    "scrolled": true
   },
   "outputs": [
    {
     "data": {
      "text/plain": [
       "8427                                                                   [\\n, \\n, \\n1 (No sticker)\\n]\n",
       "12130                                                      [\\n12 months\\n, \\n132 g CO2/km (comb)\\n]\n",
       "7882                                                       [\\n72 months\\n, \\n116 g CO2/km (comb)\\n]\n",
       "5395                                                                 [\\n24 months\\n, \\n4 (Green)\\n]\n",
       "13712                                                                                           NaN\n",
       "5724                                                                                  \\n12 months\\n\n",
       "6588                                                                           [\\n, \\n, \\nEuro 6\\n]\n",
       "2711                                                                                       [\\n, \\n]\n",
       "6878                                                                                            NaN\n",
       "12088                                                             [\\n, \\n, \\n130 g CO2/km (comb)\\n]\n",
       "230                                                                                             NaN\n",
       "8148     [\\n, \\n, \\n, 4.7 l/100 km (comb), \\n, 5.5 l/100 km (city), \\n, 4.1 l/100 km (country), \\n]\n",
       "4698                                                                                            NaN\n",
       "11441                                                             [\\n, \\n, \\n130 g CO2/km (comb)\\n]\n",
       "6959                                                                           [\\n, \\n, \\nEuro 6\\n]\n",
       "11832                                                             [\\n, \\n, \\n150 g CO2/km (comb)\\n]\n",
       "15691                                                                          [\\n, \\n, \\nEuro 6\\n]\n",
       "7227                                                                    [\\n24 months\\n, \\nEuro 6\\n]\n",
       "4646                                                                                  \\n12 months\\n\n",
       "12334                                                                [\\n12 months\\n, \\n4 (Green)\\n]\n",
       "6955                                                                           [\\n, \\n, \\nEuro 6\\n]\n",
       "4923                                                                                             \\n\n",
       "5367                                                                     [\\n, \\n, \\nEuro 6d-TEMP\\n]\n",
       "2778                                                                           [\\n, \\n, \\nEuro 6\\n]\n",
       "11241                                                      [\\n12 months\\n, \\n137 g CO2/km (comb)\\n]\n",
       "6102                                                                                  \\n12 months\\n\n",
       "15687                                                             [\\n, \\n, \\n168 g CO2/km (comb)\\n]\n",
       "2717                                                                                            NaN\n",
       "1237                                                                                            NaN\n",
       "7813                                                              [\\n, \\n, \\n134 g CO2/km (comb)\\n]\n",
       "2477                                                                                            NaN\n",
       "2874                                                        [\\n36 months\\n, \\n99 g CO2/km (comb)\\n]\n",
       "11890                                                                          [\\n, \\n, \\nEuro 6\\n]\n",
       "1768                                                                                  \\n24 months\\n\n",
       "3060                                                                                  \\n12 months\\n\n",
       "15350                                                                               [\\n12 months\\n]\n",
       "10584                                                                   [\\n12 months\\n, \\nEuro 6\\n]\n",
       "5816                                                                    [\\n60 months\\n, \\nEuro 6\\n]\n",
       "5701                                                                                            NaN\n",
       "15630                                                                                           NaN\n",
       "13651                                                                                           NaN\n",
       "11766                                                             [\\n, \\n, \\n130 g CO2/km (comb)\\n]\n",
       "13906                                                                                           NaN\n",
       "15335                                                                                      [\\n, \\n]\n",
       "648                                                        [\\n12 months\\n, \\n102 g CO2/km (comb)\\n]\n",
       "15762                                                                                           NaN\n",
       "14630                                                                                            \\n\n",
       "1198                                                                                             \\n\n",
       "13118                                                                                            \\n\n",
       "410                                                                            [\\n, \\n, \\nEuro 6\\n]\n",
       "Name: Warranty, dtype: object"
      ]
     },
     "execution_count": 165,
     "metadata": {},
     "output_type": "execute_result"
    }
   ],
   "source": [
    "df.Warranty.sample(50)"
   ]
  },
  {
   "cell_type": "code",
   "execution_count": 166,
   "metadata": {
    "scrolled": true
   },
   "outputs": [
    {
     "data": {
      "text/plain": [
       "             7703\n",
       "NaN          5420\n",
       "12 months    1417\n",
       "24 months     552\n",
       "60 months     382\n",
       "36 months     223\n",
       "6 months       49\n",
       "72 months      44\n",
       "48 months      40\n",
       "3 months       14\n",
       "23 months      10\n",
       "18 months       7\n",
       "20 months       7\n",
       "25 months       5\n",
       "2 months        4\n",
       "50 months       4\n",
       "16 months       4\n",
       "34 months       3\n",
       "17 months       2\n",
       "45 months       2\n",
       "1 months        2\n",
       "14 months       2\n",
       "21 months       2\n",
       "11 months       2\n",
       "22 months       2\n",
       "46 months       2\n",
       "26 months       2\n",
       "13 months       2\n",
       "19 months       1\n",
       "10 months       1\n",
       "28 months       1\n",
       "56 months       1\n",
       "7 months        1\n",
       "15 months       1\n",
       "49 months       1\n",
       "47 months       1\n",
       "65 months       1\n",
       "33 months       1\n",
       "40 months       1\n",
       "Name: Warranty, dtype: int64"
      ]
     },
     "execution_count": 166,
     "metadata": {},
     "output_type": "execute_result"
    }
   ],
   "source": [
    "df.Warranty.str[0].str.strip().value_counts(dropna=False)"
   ]
  },
  {
   "cell_type": "code",
   "execution_count": 167,
   "metadata": {
    "scrolled": true
   },
   "outputs": [
    {
     "data": {
      "text/plain": [
       "NaN    13123\n",
       "12      1417\n",
       "24       552\n",
       "60       382\n",
       "36       223\n",
       "6         49\n",
       "72        44\n",
       "48        40\n",
       "3         14\n",
       "23        10\n",
       "18         7\n",
       "20         7\n",
       "25         5\n",
       "50         4\n",
       "16         4\n",
       "2          4\n",
       "34         3\n",
       "1          2\n",
       "11         2\n",
       "14         2\n",
       "45         2\n",
       "22         2\n",
       "21         2\n",
       "17         2\n",
       "46         2\n",
       "26         2\n",
       "13         2\n",
       "65         1\n",
       "33         1\n",
       "28         1\n",
       "15         1\n",
       "7          1\n",
       "19         1\n",
       "10         1\n",
       "56         1\n",
       "49         1\n",
       "47         1\n",
       "40         1\n",
       "Name: Warranty, dtype: int64"
      ]
     },
     "execution_count": 167,
     "metadata": {},
     "output_type": "execute_result"
    }
   ],
   "source": [
    "df.Warranty.str[0].str.strip().str.split().str[0].value_counts(dropna=False)"
   ]
  },
  {
   "cell_type": "code",
   "execution_count": 168,
   "metadata": {
    "scrolled": true
   },
   "outputs": [
    {
     "data": {
      "text/plain": [
       "NaN    13123\n",
       "12      1417\n",
       "24       552\n",
       "60       382\n",
       "36       223\n",
       "6         49\n",
       "72        44\n",
       "48        40\n",
       "3         14\n",
       "23        10\n",
       "18         7\n",
       "20         7\n",
       "25         5\n",
       "50         4\n",
       "16         4\n",
       "2          4\n",
       "34         3\n",
       "1          2\n",
       "11         2\n",
       "14         2\n",
       "45         2\n",
       "22         2\n",
       "21         2\n",
       "17         2\n",
       "46         2\n",
       "26         2\n",
       "13         2\n",
       "65         1\n",
       "33         1\n",
       "28         1\n",
       "15         1\n",
       "7          1\n",
       "19         1\n",
       "10         1\n",
       "56         1\n",
       "49         1\n",
       "47         1\n",
       "40         1\n",
       "Name: warranty, dtype: int64"
      ]
     },
     "execution_count": 168,
     "metadata": {},
     "output_type": "execute_result"
    }
   ],
   "source": [
    "df[\"warranty\"] = df.Warranty.str[0].str.strip().str.split().str[0]\n",
    "df[\"warranty\"].value_counts(dropna=False)"
   ]
  },
  {
   "cell_type": "code",
   "execution_count": 169,
   "metadata": {},
   "outputs": [],
   "source": [
    "df.drop(columns=\"Warranty\", inplace=True)"
   ]
  },
  {
   "cell_type": "code",
   "execution_count": 170,
   "metadata": {},
   "outputs": [
    {
     "data": {
      "text/plain": [
       "0.8243608266850933"
      ]
     },
     "execution_count": 170,
     "metadata": {},
     "output_type": "execute_result"
    }
   ],
   "source": [
    "len(df[df[\"warranty\"].isnull()]) / len(df)\n",
    "# % 82 row has no warranty data so warranty column maybe dropped."
   ]
  },
  {
   "cell_type": "markdown",
   "metadata": {},
   "source": [
    "## Cylinders"
   ]
  },
  {
   "cell_type": "code",
   "execution_count": 171,
   "metadata": {
    "scrolled": true
   },
   "outputs": [
    {
     "ename": "TypeError",
     "evalue": "unhashable type: 'list'",
     "output_type": "error",
     "traceback": [
      "\u001b[0;31m---------------------------------------------------------------------------\u001b[0m",
      "\u001b[0;31mTypeError\u001b[0m                                 Traceback (most recent call last)",
      "\u001b[0;32mpandas/_libs/hashtable_class_helper.pxi\u001b[0m in \u001b[0;36mpandas._libs.hashtable.PyObjectHashTable.map_locations\u001b[0;34m()\u001b[0m\n",
      "\u001b[0;31mTypeError\u001b[0m: unhashable type: 'list'"
     ]
    },
    {
     "name": "stderr",
     "output_type": "stream",
     "text": [
      "Exception ignored in: 'pandas._libs.index.IndexEngine._call_map_locations'\n",
      "Traceback (most recent call last):\n",
      "  File \"pandas/_libs/hashtable_class_helper.pxi\", line 5231, in pandas._libs.hashtable.PyObjectHashTable.map_locations\n",
      "TypeError: unhashable type: 'list'\n"
     ]
    },
    {
     "data": {
      "text/plain": [
       "[\\n4\\n]    8105\n",
       "NaN        5680\n",
       "[\\n3\\n]    2104\n",
       "[\\n5\\n]      22\n",
       "[\\n6\\n]       3\n",
       "[\\n8\\n]       2\n",
       "[\\n2\\n]       2\n",
       "[\\n1\\n]       1\n",
       "Name: Cylinders, dtype: int64"
      ]
     },
     "execution_count": 171,
     "metadata": {},
     "output_type": "execute_result"
    }
   ],
   "source": [
    "df[\"Cylinders\"].value_counts(dropna=False)"
   ]
  },
  {
   "cell_type": "code",
   "execution_count": 172,
   "metadata": {},
   "outputs": [
    {
     "data": {
      "text/plain": [
       "4      8105\n",
       "NaN    5680\n",
       "3      2104\n",
       "5        22\n",
       "6         3\n",
       "8         2\n",
       "2         2\n",
       "1         1\n",
       "Name: Cylinders, dtype: int64"
      ]
     },
     "execution_count": 172,
     "metadata": {},
     "output_type": "execute_result"
    }
   ],
   "source": [
    "df.Cylinders.str[0].str.strip().value_counts(dropna=False)"
   ]
  },
  {
   "cell_type": "code",
   "execution_count": 173,
   "metadata": {
    "scrolled": true
   },
   "outputs": [],
   "source": [
    "df[\"cylinders\"] = df.Cylinders.str[0].str.strip()"
   ]
  },
  {
   "cell_type": "code",
   "execution_count": 174,
   "metadata": {},
   "outputs": [],
   "source": [
    "df.drop(columns=\"Cylinders\", inplace=True)"
   ]
  },
  {
   "cell_type": "markdown",
   "metadata": {},
   "source": [
    "## Paint Type "
   ]
  },
  {
   "cell_type": "code",
   "execution_count": 175,
   "metadata": {
    "scrolled": true
   },
   "outputs": [
    {
     "ename": "TypeError",
     "evalue": "unhashable type: 'list'",
     "output_type": "error",
     "traceback": [
      "\u001b[0;31m---------------------------------------------------------------------------\u001b[0m",
      "\u001b[0;31mTypeError\u001b[0m                                 Traceback (most recent call last)",
      "\u001b[0;32mpandas/_libs/hashtable_class_helper.pxi\u001b[0m in \u001b[0;36mpandas._libs.hashtable.PyObjectHashTable.map_locations\u001b[0;34m()\u001b[0m\n",
      "\u001b[0;31mTypeError\u001b[0m: unhashable type: 'list'"
     ]
    },
    {
     "name": "stderr",
     "output_type": "stream",
     "text": [
      "Exception ignored in: 'pandas._libs.index.IndexEngine._call_map_locations'\n",
      "Traceback (most recent call last):\n",
      "  File \"pandas/_libs/hashtable_class_helper.pxi\", line 5231, in pandas._libs.hashtable.PyObjectHashTable.map_locations\n",
      "TypeError: unhashable type: 'list'\n"
     ]
    },
    {
     "data": {
      "text/plain": [
       "[\\nMetallic\\n]       9794\n",
       "NaN                  5772\n",
       "[\\nUni/basic\\n]       347\n",
       "[\\nPerl effect\\n]       6\n",
       "Name: Paint Type, dtype: int64"
      ]
     },
     "execution_count": 175,
     "metadata": {},
     "output_type": "execute_result"
    }
   ],
   "source": [
    "df[\"Paint Type\"].value_counts(dropna=False)"
   ]
  },
  {
   "cell_type": "code",
   "execution_count": 176,
   "metadata": {},
   "outputs": [
    {
     "data": {
      "text/plain": [
       "Metallic       9794\n",
       "NaN            5772\n",
       "Uni/basic       347\n",
       "Perl effect       6\n",
       "Name: Paint Type, dtype: int64"
      ]
     },
     "execution_count": 176,
     "metadata": {},
     "output_type": "execute_result"
    }
   ],
   "source": [
    "df[\"Paint Type\"].str[0].str.strip().value_counts(dropna=False)"
   ]
  },
  {
   "cell_type": "code",
   "execution_count": 177,
   "metadata": {},
   "outputs": [],
   "source": [
    "df[\"paint_type\"] = df[\"Paint Type\"].str[0].str.strip()"
   ]
  },
  {
   "cell_type": "code",
   "execution_count": 178,
   "metadata": {},
   "outputs": [],
   "source": [
    "df.drop(columns=\"Paint Type\", axis=1, inplace=True)"
   ]
  },
  {
   "cell_type": "markdown",
   "metadata": {},
   "source": [
    "## Previous Owners & prev_owner \n",
    "these column names looklikes eachother lets inspect them."
   ]
  },
  {
   "cell_type": "code",
   "execution_count": 179,
   "metadata": {},
   "outputs": [
    {
     "ename": "TypeError",
     "evalue": "unhashable type: 'list'",
     "output_type": "error",
     "traceback": [
      "\u001b[0;31m---------------------------------------------------------------------------\u001b[0m",
      "\u001b[0;31mTypeError\u001b[0m                                 Traceback (most recent call last)",
      "\u001b[0;32mpandas/_libs/hashtable_class_helper.pxi\u001b[0m in \u001b[0;36mpandas._libs.hashtable.PyObjectHashTable.map_locations\u001b[0;34m()\u001b[0m\n",
      "\u001b[0;31mTypeError\u001b[0m: unhashable type: 'list'"
     ]
    },
    {
     "name": "stderr",
     "output_type": "stream",
     "text": [
      "Exception ignored in: 'pandas._libs.index.IndexEngine._call_map_locations'\n",
      "Traceback (most recent call last):\n",
      "  File \"pandas/_libs/hashtable_class_helper.pxi\", line 5231, in pandas._libs.hashtable.PyObjectHashTable.map_locations\n",
      "TypeError: unhashable type: 'list'\n"
     ]
    },
    {
     "data": {
      "text/plain": [
       "\\n1\\n                                                                                        8101\n",
       "NaN                                                                                          6640\n",
       "\\n2\\n                                                                                         766\n",
       "\\n0\\n                                                                                         163\n",
       "\\n3\\n                                                                                          17\n",
       "[\\n1\\n, \\n168 g CO2/km (comb)\\n]                                                               13\n",
       "[\\n1\\n, \\n139 g CO2/km (comb)\\n]                                                               12\n",
       "[\\n1\\n, \\n110 g CO2/km (comb)\\n]                                                               12\n",
       "[\\n1\\n, \\n135 g CO2/km (comb)\\n]                                                                9\n",
       "[\\n1\\n, \\n120 g CO2/km (comb)\\n]                                                                8\n",
       "[\\n1\\n, \\n, 6.3 l/100 km (comb), \\n, 7.8 l/100 km (city), \\n, 5.4 l/100 km (country), \\n]       7\n",
       "[\\n1\\n, \\n153 g CO2/km (comb)\\n]                                                                6\n",
       "[\\n1\\n, \\n113 g CO2/km (comb)\\n]                                                                5\n",
       "[\\n1\\n, \\n107 g CO2/km (comb)\\n]                                                                5\n",
       "[\\n1\\n, \\n140 g CO2/km (comb)\\n]                                                                5\n",
       "[\\n1\\n, \\n114 g CO2/km (comb)\\n]                                                                5\n",
       "[\\n0\\n, \\n139 g CO2/km (comb)\\n]                                                                4\n",
       "[\\n1\\n, \\n128 g CO2/km (comb)\\n]                                                                4\n",
       "[\\n1\\n, \\n127 g CO2/km (comb)\\n]                                                                4\n",
       "[\\n1\\n, \\n, 6 l/100 km (comb), \\n, 7.8 l/100 km (city), \\n, 4.9 l/100 km (country), \\n]         4\n",
       "[\\n1\\n, \\n124 g CO2/km (comb)\\n]                                                                3\n",
       "[\\n1\\n, \\n, 5.7 l/100 km (comb), \\n, 7.3 l/100 km (city), \\n, 4.7 l/100 km (country), \\n]       3\n",
       "[\\n1\\n, \\n150 g CO2/km (comb)\\n]                                                                3\n",
       "[\\n1\\n, \\n129 g CO2/km (comb)\\n]                                                                3\n",
       "[\\n1\\n, \\n149 g CO2/km (comb)\\n]                                                                3\n",
       "[\\n1\\n, \\n147 g CO2/km (comb)\\n]                                                                3\n",
       "[\\n1\\n, \\n136 g CO2/km (comb)\\n]                                                                3\n",
       "[\\n1\\n, \\n119 g CO2/km (comb)\\n]                                                                3\n",
       "[\\n1\\n, \\n123 g CO2/km (comb)\\n]                                                                3\n",
       "[\\n0\\n, \\n114 g CO2/km (comb)\\n]                                                                3\n",
       "[\\n0\\n, \\n0 kWh/100 km (comb)\\n]                                                                2\n",
       "[\\n0\\n, \\n, 5.4 l/100 km (comb), \\n, 7.1 l/100 km (city), \\n, 4.4 l/100 km (country), \\n]       2\n",
       "[\\n1\\n, \\n145 g CO2/km (comb)\\n]                                                                2\n",
       "[\\n0\\n, \\n120 g CO2/km (comb)\\n]                                                                2\n",
       "[\\n0\\n, \\n126 g CO2/km (comb)\\n]                                                                2\n",
       "[\\n0\\n, \\n136 g CO2/km (comb)\\n]                                                                2\n",
       "[\\n1\\n, \\n, 5.8 l/100 km (comb), \\n, 7.3 l/100 km (city), \\n, 4.9 l/100 km (country), \\n]       2\n",
       "[\\n1\\n, \\n, 6.6 l/100 km (comb), \\n, 8.2 l/100 km (city), \\n, 5.7 l/100 km (country), \\n]       2\n",
       "[\\n1\\n, \\n, 5.9 l/100 km (comb), \\n, 7.5 l/100 km (city), \\n, 5 l/100 km (country), \\n]         2\n",
       "[\\n2\\n, \\n129 g CO2/km (comb)\\n]                                                                2\n",
       "[\\n2\\n, \\n, 5.6 l/100 km (comb), \\n, 7.3 l/100 km (city), \\n, 4.7 l/100 km (country), \\n]       2\n",
       "[\\n1\\n, \\n, 6 l/100 km (comb), \\n, 7.7 l/100 km (city), \\n, 4.9 l/100 km (country), \\n]         2\n",
       "[\\n1\\n, \\n133 g CO2/km (comb)\\n]                                                                2\n",
       "[\\n1\\n, \\n, 4.8 l/100 km (comb), \\n, 5.9 l/100 km (city), \\n, 4.2 l/100 km (country), \\n]       2\n",
       "[\\n1\\n, \\n, 5 l/100 km (comb), \\n, 5.9 l/100 km (city), \\n, 4.5 l/100 km (country), \\n]         2\n",
       "[\\n1\\n, \\n126 g CO2/km (comb)\\n]                                                                2\n",
       "[\\n1\\n, \\n109 g CO2/km (comb)\\n]                                                                2\n",
       "[\\n1\\n, \\n, 5.4 l/100 km (comb), \\n, 7.1 l/100 km (city), \\n, 4.4 l/100 km (country), \\n]       2\n",
       "[\\n1\\n]                                                                                         2\n",
       "[\\n1\\n, \\n116 g CO2/km (comb)\\n]                                                                2\n",
       "[\\n1\\n, \\n, 6.3 l/100 km (comb), \\n, 8.6 l/100 km (city), \\n, 5 l/100 km (country), \\n]         2\n",
       "[\\n1\\n, \\n, 7.4 l/100 km (comb), \\n, 9.2 l/100 km (city), \\n, 6.3 l/100 km (country), \\n]       2\n",
       "[\\n2\\n, \\n125 g CO2/km (comb)\\n]                                                                2\n",
       "[\\n1\\n, \\n105 g CO2/km (comb)\\n]                                                                2\n",
       "\\n4\\n                                                                                           2\n",
       "[\\n1\\n, \\n, 5 l/100 km (comb), \\n, 6.3 l/100 km (city), \\n, 4.2 l/100 km (country), \\n]         2\n",
       "[\\n1\\n, \\n181 g CO2/km (comb)\\n]                                                                1\n",
       "[\\n0\\n, \\n104 g CO2/km (comb)\\n]                                                                1\n",
       "[\\n0\\n, \\n, 4.6 l/100 km (comb), \\n, 5.8 l/100 km (city), \\n, 3.9 l/100 km (country), \\n]       1\n",
       "[\\n1\\n, \\n141 g CO2/km (comb)\\n]                                                                1\n",
       "[\\n0\\n, \\n106 g CO2/km (comb)\\n]                                                                1\n",
       "[\\n1\\n, \\n102 g CO2/km (comb)\\n]                                                                1\n",
       "[\\n1\\n, \\n, 5.9 l/100 km (comb), \\n, 7.6 l/100 km (city), \\n, 4.9 l/100 km (country), \\n]       1\n",
       "[\\n1\\n, \\n, 6.1 l/100 km (comb), \\n, 7.7 l/100 km (city), \\n, 5.2 l/100 km (country), \\n]       1\n",
       "[\\n1\\n, \\n, 6.7 l/100 km (comb), \\n, 8.6 l/100 km (city), \\n, 5.6 l/100 km (country), \\n]       1\n",
       "[\\n0\\n, \\n187 g CO2/km (comb)\\n]                                                                1\n",
       "[\\n1\\n, \\n, 6.8 l/100 km (comb), \\n, 8.7 l/100 km (city), \\n, 5.7 l/100 km (country), \\n]       1\n",
       "[\\n2\\n, \\n123 g CO2/km (comb)\\n]                                                                1\n",
       "[\\n0\\n, \\n105 g CO2/km (comb)\\n]                                                                1\n",
       "[\\n1\\n, \\n188 g CO2/km (comb)\\n]                                                                1\n",
       "[\\n1\\n, \\n187 g CO2/km (comb)\\n]                                                                1\n",
       "[\\n1\\n, \\n85 g CO2/km (comb)\\n]                                                                 1\n",
       "[\\n1\\n, \\n, 5.9 l/100 km (comb), \\n, 7.6 l/100 km (city), \\n, 5.1 l/100 km (country), \\n]       1\n",
       "[\\n1\\n, \\n125 g CO2/km (comb)\\n]                                                                1\n",
       "[\\n0\\n, \\n, 6.6 l/100 km (comb), \\n, 8.2 l/100 km (city), \\n, 5.7 l/100 km (country), \\n]       1\n",
       "[\\n1\\n, \\n159 g CO2/km (comb)\\n]                                                                1\n",
       "[\\n1\\n, \\n, 5.6 l/100 km (comb), \\n, 7.3 l/100 km (city), \\n, 4.7 l/100 km (country), \\n]       1\n",
       "[\\n2\\n, \\n124 g CO2/km (comb)\\n]                                                                1\n",
       "[\\n0\\n, \\n107 g CO2/km (comb)\\n]                                                                1\n",
       "[\\n0\\n, \\n117 g CO2/km (comb)\\n]                                                                1\n",
       "[\\n1\\n, \\n96 g CO2/km (comb)\\n]                                                                 1\n",
       "[\\n1\\n, \\n104 g CO2/km (comb)\\n]                                                                1\n",
       "[\\n1\\n, \\n, 5.2 l/100 km (comb), \\n, 6 l/100 km (city), \\n, 4.8 l/100 km (country), \\n]         1\n",
       "[\\n1\\n, \\n134 g CO2/km (comb)\\n]                                                                1\n",
       "[\\n1\\n, \\n, 6.5 l/100 km (comb), \\n, 8.5 l/100 km (city), \\n, 5.4 l/100 km (country), \\n]       1\n",
       "[\\n1\\n, \\n, 5.9 l/100 km (comb), \\n, 7.4 l/100 km (city), \\n, 5 l/100 km (country), \\n]         1\n",
       "[\\n2\\n, \\n122 g CO2/km (comb)\\n]                                                                1\n",
       "[\\n1\\n, \\n0 g CO2/km (comb)\\n]                                                                  1\n",
       "[\\n1\\n, \\n137 g CO2/km (comb)\\n]                                                                1\n",
       "[\\n1\\n, \\n99 g CO2/km (comb)\\n]                                                                 1\n",
       "[\\n1\\n, \\n142 g CO2/km (comb)\\n]                                                                1\n",
       "[\\n1\\n, \\n84 g CO2/km (comb)\\n]                                                                 1\n",
       "[\\n2\\n, \\n127 g CO2/km (comb)\\n]                                                                1\n",
       "[\\n1\\n, \\n, 6.6 l/100 km (comb), \\n, 8.2 l/100 km (city), \\n, 5.6 l/100 km (country), \\n]       1\n",
       "[\\n1\\n, \\n, 6 l/100 km (comb), \\n, 8 l/100 km (city), \\n, 4.9 l/100 km (country), \\n]           1\n",
       "[\\n1\\n, \\n, 5.9 l/100 km (comb), \\n, 7.9 l/100 km (city), \\n, 4.8 l/100 km (country), \\n]       1\n",
       "[\\n1\\n, \\n, 4.9 l/100 km (comb), \\n, 6 l/100 km (city), \\n, 4.2 l/100 km (country), \\n]         1\n",
       "[\\n1\\n, \\n, 6.2 l/100 km (comb), \\n, 7.9 l/100 km (city), \\n, 5.3 l/100 km (country), \\n]       1\n",
       "[\\n1\\n, \\n111 g CO2/km (comb)\\n]                                                                1\n",
       "[\\n1\\n, \\nEuro 6\\n]                                                                             1\n",
       "[\\n2\\n, \\n119 g CO2/km (comb)\\n]                                                                1\n",
       "[\\n1\\n, \\n, 6.6 l/100 km (comb), \\n, 8.1 l/100 km (city), \\n, 5.7 l/100 km (country), \\n]       1\n",
       "[\\n2\\n, \\n137 g CO2/km (comb)\\n]                                                                1\n",
       "Name: Previous Owners, dtype: int64"
      ]
     },
     "execution_count": 179,
     "metadata": {},
     "output_type": "execute_result"
    }
   ],
   "source": [
    "df[\"Previous Owners\"].value_counts(dropna=False)"
   ]
  },
  {
   "cell_type": "code",
   "execution_count": 180,
   "metadata": {},
   "outputs": [
    {
     "data": {
      "text/plain": [
       "       9049\n",
       "NaN    6640\n",
       "1       193\n",
       "0        25\n",
       "2        12\n",
       "Name: Previous Owners, dtype: int64"
      ]
     },
     "execution_count": 180,
     "metadata": {},
     "output_type": "execute_result"
    }
   ],
   "source": [
    "df[\"Previous Owners\"].str[0].str.strip().value_counts(dropna=False)"
   ]
  },
  {
   "cell_type": "code",
   "execution_count": 181,
   "metadata": {},
   "outputs": [
    {
     "data": {
      "text/plain": [
       "1 previous owner     8294\n",
       "NaN                  6828\n",
       "2 previous owners     778\n",
       "3 previous owners      17\n",
       "4 previous owners       2\n",
       "Name: prev_owner, dtype: int64"
      ]
     },
     "execution_count": 181,
     "metadata": {},
     "output_type": "execute_result"
    }
   ],
   "source": [
    "df.prev_owner.value_counts(dropna=False)"
   ]
  },
  {
   "cell_type": "code",
   "execution_count": 182,
   "metadata": {},
   "outputs": [
    {
     "data": {
      "text/plain": [
       "1      8294\n",
       "NaN    6828\n",
       "2       778\n",
       "3        17\n",
       "4         2\n",
       "Name: prev_owner, dtype: int64"
      ]
     },
     "execution_count": 182,
     "metadata": {},
     "output_type": "execute_result"
    }
   ],
   "source": [
    "df.prev_owner.str[0].str.strip().value_counts(dropna=False)"
   ]
  },
  {
   "cell_type": "code",
   "execution_count": 183,
   "metadata": {},
   "outputs": [
    {
     "data": {
      "text/plain": [
       "1      8294\n",
       "NaN    6640\n",
       "2       778\n",
       "        163\n",
       "0        25\n",
       "3        17\n",
       "4         2\n",
       "Name: prev_owner, dtype: int64"
      ]
     },
     "execution_count": 183,
     "metadata": {},
     "output_type": "execute_result"
    }
   ],
   "source": [
    "df.prev_owner.fillna(df[\"Previous Owners\"]).str[0].str.strip().value_counts(dropna=False) \n",
    "# there is no important change after filna so df[\"Previous Owners\"] will be dropped and \n",
    "# df.prev_owner will be kept."
   ]
  },
  {
   "cell_type": "code",
   "execution_count": 184,
   "metadata": {},
   "outputs": [
    {
     "data": {
      "text/plain": [
       "1      8294\n",
       "NaN    6828\n",
       "2       778\n",
       "3        17\n",
       "4         2\n",
       "Name: prev_owner, dtype: int64"
      ]
     },
     "execution_count": 184,
     "metadata": {},
     "output_type": "execute_result"
    }
   ],
   "source": [
    "df.prev_owner = df.prev_owner.str[0].str.strip()\n",
    "df.prev_owner.value_counts(dropna=False)"
   ]
  },
  {
   "cell_type": "code",
   "execution_count": 185,
   "metadata": {},
   "outputs": [],
   "source": [
    "df.drop(columns=\"Previous Owners\", inplace=True)"
   ]
  },
  {
   "cell_type": "markdown",
   "metadata": {},
   "source": [
    "## Drive chain"
   ]
  },
  {
   "cell_type": "code",
   "execution_count": 186,
   "metadata": {},
   "outputs": [
    {
     "data": {
      "text/plain": [
       "front    8886\n",
       "NaN      6858\n",
       "4WD       171\n",
       "rear        4\n",
       "Name: Drive chain, dtype: int64"
      ]
     },
     "execution_count": 186,
     "metadata": {},
     "output_type": "execute_result"
    }
   ],
   "source": [
    "df[\"Drive chain\"].str[0].str.strip().value_counts(dropna=False)"
   ]
  },
  {
   "cell_type": "code",
   "execution_count": 187,
   "metadata": {},
   "outputs": [],
   "source": [
    "df[\"drive_chain\"] = df[\"Drive chain\"].str[0].str.strip()"
   ]
  },
  {
   "cell_type": "code",
   "execution_count": 188,
   "metadata": {},
   "outputs": [],
   "source": [
    "df.drop(columns=\"Drive chain\", inplace=True)"
   ]
  },
  {
   "cell_type": "markdown",
   "metadata": {},
   "source": [
    "## Weight"
   ]
  },
  {
   "cell_type": "code",
   "execution_count": 189,
   "metadata": {},
   "outputs": [
    {
     "data": {
      "text/plain": [
       "NaN         6974\n",
       "1,163 kg     574\n",
       "1,360 kg     356\n",
       "1,165 kg     301\n",
       "1,335 kg     242\n",
       "            ... \n",
       "1,960 kg       1\n",
       "1,258 kg       1\n",
       "1,167 kg       1\n",
       "1,331 kg       1\n",
       "2,037 kg       1\n",
       "Name: Weight, Length: 435, dtype: int64"
      ]
     },
     "execution_count": 189,
     "metadata": {},
     "output_type": "execute_result"
    }
   ],
   "source": [
    "df.Weight.str[0].str.strip().value_counts(dropna=False)"
   ]
  },
  {
   "cell_type": "code",
   "execution_count": 190,
   "metadata": {},
   "outputs": [
    {
     "data": {
      "text/html": [
       "<div>\n",
       "<style scoped>\n",
       "    .dataframe tbody tr th:only-of-type {\n",
       "        vertical-align: middle;\n",
       "    }\n",
       "\n",
       "    .dataframe tbody tr th {\n",
       "        vertical-align: top;\n",
       "    }\n",
       "\n",
       "    .dataframe thead th {\n",
       "        text-align: right;\n",
       "    }\n",
       "</style>\n",
       "<table border=\"1\" class=\"dataframe\">\n",
       "  <thead>\n",
       "    <tr style=\"text-align: right;\">\n",
       "      <th></th>\n",
       "      <th>0</th>\n",
       "    </tr>\n",
       "  </thead>\n",
       "  <tbody>\n",
       "    <tr>\n",
       "      <th>0</th>\n",
       "      <td>1,220</td>\n",
       "    </tr>\n",
       "    <tr>\n",
       "      <th>1</th>\n",
       "      <td>1,255</td>\n",
       "    </tr>\n",
       "    <tr>\n",
       "      <th>2</th>\n",
       "      <td>NaN</td>\n",
       "    </tr>\n",
       "    <tr>\n",
       "      <th>3</th>\n",
       "      <td>1,195</td>\n",
       "    </tr>\n",
       "    <tr>\n",
       "      <th>4</th>\n",
       "      <td>NaN</td>\n",
       "    </tr>\n",
       "    <tr>\n",
       "      <th>...</th>\n",
       "      <td>...</td>\n",
       "    </tr>\n",
       "    <tr>\n",
       "      <th>15914</th>\n",
       "      <td>1,758</td>\n",
       "    </tr>\n",
       "    <tr>\n",
       "      <th>15915</th>\n",
       "      <td>1,708</td>\n",
       "    </tr>\n",
       "    <tr>\n",
       "      <th>15916</th>\n",
       "      <td>NaN</td>\n",
       "    </tr>\n",
       "    <tr>\n",
       "      <th>15917</th>\n",
       "      <td>1,758</td>\n",
       "    </tr>\n",
       "    <tr>\n",
       "      <th>15918</th>\n",
       "      <td>1,685</td>\n",
       "    </tr>\n",
       "  </tbody>\n",
       "</table>\n",
       "<p>15919 rows × 1 columns</p>\n",
       "</div>"
      ],
      "text/plain": [
       "           0\n",
       "0      1,220\n",
       "1      1,255\n",
       "2        NaN\n",
       "3      1,195\n",
       "4        NaN\n",
       "...      ...\n",
       "15914  1,758\n",
       "15915  1,708\n",
       "15916    NaN\n",
       "15917  1,758\n",
       "15918  1,685\n",
       "\n",
       "[15919 rows x 1 columns]"
      ]
     },
     "execution_count": 190,
     "metadata": {},
     "output_type": "execute_result"
    }
   ],
   "source": [
    "df.Weight.str[0].str.strip().str.extract('(\\d,*\\d*)')"
   ]
  },
  {
   "cell_type": "code",
   "execution_count": 191,
   "metadata": {},
   "outputs": [
    {
     "data": {
      "text/plain": [
       "NaN     6974\n",
       "1163     574\n",
       "1360     356\n",
       "1165     301\n",
       "1335     242\n",
       "        ... \n",
       "1960       1\n",
       "1258       1\n",
       "1167       1\n",
       "1331       1\n",
       "2037       1\n",
       "Name: 0, Length: 435, dtype: int64"
      ]
     },
     "execution_count": 191,
     "metadata": {},
     "output_type": "execute_result"
    }
   ],
   "source": [
    "df.Weight.str[0].str.strip().str.extract('(\\d,*\\d*)')[0].str.replace(\",\", \"\").value_counts(dropna=False)"
   ]
  },
  {
   "cell_type": "code",
   "execution_count": 192,
   "metadata": {},
   "outputs": [],
   "source": [
    "df[\"weight_kg\"] = df.Weight.str[0].str.strip().str.extract('(\\d,*\\d*)')[0].str.replace(\",\", \"\")"
   ]
  },
  {
   "cell_type": "code",
   "execution_count": 193,
   "metadata": {},
   "outputs": [],
   "source": [
    "df.drop(columns= \"Weight\", inplace=True)"
   ]
  },
  {
   "cell_type": "code",
   "execution_count": 194,
   "metadata": {},
   "outputs": [
    {
     "data": {
      "text/plain": [
       "Index(['make_model', 'short_description', 'body_type', 'price', 'vat', 'km', 'registration', 'prev_owner', 'Next Inspection', 'Inspection new', 'Full Service', 'Non-smoking Vehicle', 'Model Code', 'Consumption', 'Emission Label', 'Country version', 'make', 'hp_kW', 'used_new', 'fuel_type', 'upholstery_kind', 'upholstery_color', 'door_count', 'seat_count', 'auto_manuel', 'displacement_cc', 'consumption_comb', 'co2_emission', 'comfort', 'digi_media', 'extra', 'safety', 'gears', 'warranty', 'cylinders', 'paint_type', 'drive_chain', 'weight_kg'], dtype='object')"
      ]
     },
     "execution_count": 194,
     "metadata": {},
     "output_type": "execute_result"
    }
   ],
   "source": [
    "df.columns"
   ]
  },
  {
   "cell_type": "markdown",
   "metadata": {},
   "source": [
    "## Full Service"
   ]
  },
  {
   "cell_type": "code",
   "execution_count": 195,
   "metadata": {},
   "outputs": [
    {
     "data": {
      "text/plain": [
       "\\n     8215\n",
       "NaN    7704\n",
       "Name: Full Service, dtype: int64"
      ]
     },
     "execution_count": 195,
     "metadata": {},
     "output_type": "execute_result"
    }
   ],
   "source": [
    "df[\"Full Service\"].str[0].value_counts(dropna=False)"
   ]
  },
  {
   "cell_type": "code",
   "execution_count": 196,
   "metadata": {},
   "outputs": [
    {
     "data": {
      "text/plain": [
       "NaN    7987\n",
       "\\n     7932\n",
       "Name: Full Service, dtype: int64"
      ]
     },
     "execution_count": 196,
     "metadata": {},
     "output_type": "execute_result"
    }
   ],
   "source": [
    "df[\"Full Service\"].str[1].value_counts(dropna=False)"
   ]
  },
  {
   "cell_type": "code",
   "execution_count": 197,
   "metadata": {
    "scrolled": true
   },
   "outputs": [
    {
     "data": {
      "text/plain": [
       "NaN                           9689\n",
       "\\n4 (Green)\\n                 2235\n",
       "\\nEuro 6\\n                    2097\n",
       "\\nEuro 6d-TEMP\\n               399\n",
       "\\n120 g CO2/km (comb)\\n        105\n",
       "\\n126 g CO2/km (comb)\\n         84\n",
       "\\n104 g CO2/km (comb)\\n         77\n",
       "\\n97 g CO2/km (comb)\\n          76\n",
       "\\n124 g CO2/km (comb)\\n         61\n",
       "\\n99 g CO2/km (comb)\\n          60\n",
       "\\n128 g CO2/km (comb)\\n         53\n",
       "\\n119 g CO2/km (comb)\\n         49\n",
       "\\n                              40\n",
       "\\n140 g CO2/km (comb)\\n         39\n",
       "\\n106 g CO2/km (comb)\\n         38\n",
       "\\n92 g CO2/km (comb)\\n          33\n",
       "\\n107 g CO2/km (comb)\\n         32\n",
       "\\n114 g CO2/km (comb)\\n         31\n",
       "\\n102 g CO2/km (comb)\\n         29\n",
       "\\n103 g CO2/km (comb)\\n         29\n",
       "\\n1 (No sticker)\\n              29\n",
       "\\nEuro 6c\\n                     28\n",
       "\\n117 g CO2/km (comb)\\n         24\n",
       "\\n139 g CO2/km (comb)\\n         24\n",
       "\\n127 g CO2/km (comb)\\n         23\n",
       "\\n141 g CO2/km (comb)\\n         22\n",
       "\\n136 g CO2/km (comb)\\n         20\n",
       "\\n85 g CO2/km (comb)\\n          20\n",
       "\\n125 g CO2/km (comb)\\n         20\n",
       "\\n108 g CO2/km (comb)\\n         19\n",
       "\\n112 g CO2/km (comb)\\n         18\n",
       "\\n109 g CO2/km (comb)\\n         17\n",
       "\\n5 (Blue)\\n                    17\n",
       "\\n150 g CO2/km (comb)\\n         16\n",
       "\\n129 g CO2/km (comb)\\n         16\n",
       "\\n130 g CO2/km (comb)\\n         15\n",
       "\\n154 g CO2/km (comb)\\n         15\n",
       "\\n133 g CO2/km (comb)\\n         15\n",
       "\\n113 g CO2/km (comb)\\n         15\n",
       "\\n135 g CO2/km (comb)\\n         14\n",
       "\\n116 g CO2/km (comb)\\n         13\n",
       "\\n110 g CO2/km (comb)\\n         13\n",
       "\\n123 g CO2/km (comb)\\n         12\n",
       "\\n137 g CO2/km (comb)\\n         12\n",
       "\\n143 g CO2/km (comb)\\n         12\n",
       "\\n105 g CO2/km (comb)\\n         11\n",
       "\\nEuro 6d\\n                     11\n",
       "\\n132 g CO2/km (comb)\\n         10\n",
       "\\n95 g CO2/km (comb)\\n          10\n",
       "\\n101 g CO2/km (comb)\\n         10\n",
       "\\n118 g CO2/km (comb)\\n         10\n",
       "\\n91 g CO2/km (comb)\\n           9\n",
       "\\n111 g CO2/km (comb)\\n          9\n",
       "\\n147 g CO2/km (comb)\\n          9\n",
       "\\n149 g CO2/km (comb)\\n          9\n",
       "\\n145 g CO2/km (comb)\\n          8\n",
       "\\nEuro 5\\n                       8\n",
       "\\n121 g CO2/km (comb)\\n          7\n",
       "\\n96 g CO2/km (comb)\\n           6\n",
       "\\n82 g CO2/km (comb)\\n           5\n",
       "\\n142 g CO2/km (comb)\\n          5\n",
       "\\n134 g CO2/km (comb)\\n          5\n",
       "\\n138 g CO2/km (comb)\\n          5\n",
       "\\n131 g CO2/km (comb)\\n          4\n",
       "\\n89 g CO2/km (comb)\\n           4\n",
       "\\n189 g CO2/km (comb)\\n          4\n",
       "\\n148 g CO2/km (comb)\\n          4\n",
       "\\n152 g CO2/km (comb)\\n          3\n",
       "\\n151 g CO2/km (comb)\\n          3\n",
       "\\n94 g CO2/km (comb)\\n           3\n",
       "\\n153 g CO2/km (comb)\\n          3\n",
       "\\n115 g CO2/km (comb)\\n          3\n",
       "\\n122 g CO2/km (comb)\\n          3\n",
       "\\n98 g CO2/km (comb)\\n           3\n",
       "\\n169 g CO2/km (comb)\\n          2\n",
       "\\n166 g CO2/km (comb)\\n          2\n",
       "\\n157 g CO2/km (comb)\\n          2\n",
       "\\n93 g CO2/km (comb)\\n           2\n",
       "\\n144 g CO2/km (comb)\\n          2\n",
       "\\n146 g CO2/km (comb)\\n          2\n",
       "\\n88 g CO2/km (comb)\\n           2\n",
       "\\n90 g CO2/km (comb)\\n           2\n",
       "\\n188 g CO2/km (comb)\\n          2\n",
       "\\n0 kWh/100 km (comb)\\n          2\n",
       "\\n87 g CO2/km (comb)\\n           1\n",
       "\\n84 g CO2/km (comb)\\n           1\n",
       "\\n80 g CO2/km (comb)\\n           1\n",
       "\\n156 g CO2/km (comb)\\n          1\n",
       "\\n159 g CO2/km (comb)\\n          1\n",
       "\\n253 g CO2/km (comb)\\n          1\n",
       "\\n164 g CO2/km (comb)\\n          1\n",
       "\\n13,983 g CO2/km (comb)\\n       1\n",
       "\\n197 g CO2/km (comb)\\n          1\n",
       "\\nEuro 4\\n                       1\n",
       "Name: Full Service, dtype: int64"
      ]
     },
     "execution_count": 197,
     "metadata": {},
     "output_type": "execute_result"
    }
   ],
   "source": [
    "df[\"Full Service\"].str[2].value_counts(dropna=False)"
   ]
  },
  {
   "cell_type": "code",
   "execution_count": 198,
   "metadata": {},
   "outputs": [
    {
     "data": {
      "text/plain": [
       "NaN                    15879\n",
       "5.4 l/100 km (comb)        6\n",
       "6.6 l/100 km (comb)        5\n",
       "5.7 l/100 km (comb)        5\n",
       "4.9 l/100 km (comb)        4\n",
       "5.9 l/100 km (comb)        4\n",
       "4.4 l/100 km (comb)        2\n",
       "6.3 l/100 km (comb)        2\n",
       "6 l/100 km (comb)          2\n",
       "4.8 l/100 km (comb)        2\n",
       "5.5 l/100 km (comb)        1\n",
       "5.8 l/100 km (comb)        1\n",
       "4.7 l/100 km (comb)        1\n",
       "5 l/100 km (comb)          1\n",
       "4.3 l/100 km (comb)        1\n",
       "4.6 l/100 km (comb)        1\n",
       "6.2 l/100 km (comb)        1\n",
       "6.5 l/100 km (comb)        1\n",
       "Name: Full Service, dtype: int64"
      ]
     },
     "execution_count": 198,
     "metadata": {},
     "output_type": "execute_result"
    }
   ],
   "source": [
    "df[\"Full Service\"].str[3].value_counts(dropna=False)"
   ]
  },
  {
   "cell_type": "code",
   "execution_count": 199,
   "metadata": {},
   "outputs": [
    {
     "data": {
      "text/plain": [
       "NaN    15879\n",
       "\\n        40\n",
       "Name: Full Service, dtype: int64"
      ]
     },
     "execution_count": 199,
     "metadata": {},
     "output_type": "execute_result"
    }
   ],
   "source": [
    "df[\"Full Service\"].str[4].value_counts(dropna=False)"
   ]
  },
  {
   "cell_type": "code",
   "execution_count": 200,
   "metadata": {
    "scrolled": true
   },
   "outputs": [
    {
     "data": {
      "text/plain": [
       "NaN                    15879\n",
       "7.8 l/100 km (city)        4\n",
       "7.3 l/100 km (city)        4\n",
       "5.9 l/100 km (city)        3\n",
       "6 l/100 km (city)          3\n",
       "8.2 l/100 km (city)        3\n",
       "7.2 l/100 km (city)        3\n",
       "5.2 l/100 km (city)        3\n",
       "\\n                         2\n",
       "6.7 l/100 km (city)        2\n",
       "7.6 l/100 km (city)        2\n",
       "7.5 l/100 km (city)        1\n",
       "6.2 l/100 km (city)        1\n",
       "8 l/100 km (city)          1\n",
       "7.4 l/100 km (city)        1\n",
       "7 l/100 km (city)          1\n",
       "5.8 l/100 km (city)        1\n",
       "7.7 l/100 km (city)        1\n",
       "8.1 l/100 km (city)        1\n",
       "8.3 l/100 km (city)        1\n",
       "8.4 l/100 km (city)        1\n",
       "5.4 l/100 km (city)        1\n",
       "Name: Full Service, dtype: int64"
      ]
     },
     "execution_count": 200,
     "metadata": {},
     "output_type": "execute_result"
    }
   ],
   "source": [
    "df[\"Full Service\"].str[5].value_counts(dropna=False)"
   ]
  },
  {
   "cell_type": "code",
   "execution_count": 201,
   "metadata": {},
   "outputs": [],
   "source": [
    "df.drop(columns=\"Full Service\", inplace=True) # there is no usefull data in this column"
   ]
  },
  {
   "cell_type": "markdown",
   "metadata": {},
   "source": [
    "# columns that have null values between 50 - 90 percent."
   ]
  },
  {
   "cell_type": "markdown",
   "metadata": {},
   "source": [
    "## Country version"
   ]
  },
  {
   "cell_type": "code",
   "execution_count": 202,
   "metadata": {
    "scrolled": true
   },
   "outputs": [
    {
     "ename": "TypeError",
     "evalue": "unhashable type: 'list'",
     "output_type": "error",
     "traceback": [
      "\u001b[0;31m---------------------------------------------------------------------------\u001b[0m",
      "\u001b[0;31mTypeError\u001b[0m                                 Traceback (most recent call last)",
      "\u001b[0;32mpandas/_libs/hashtable_class_helper.pxi\u001b[0m in \u001b[0;36mpandas._libs.hashtable.PyObjectHashTable.map_locations\u001b[0;34m()\u001b[0m\n",
      "\u001b[0;31mTypeError\u001b[0m: unhashable type: 'list'"
     ]
    },
    {
     "name": "stderr",
     "output_type": "stream",
     "text": [
      "Exception ignored in: 'pandas._libs.index.IndexEngine._call_map_locations'\n",
      "Traceback (most recent call last):\n",
      "  File \"pandas/_libs/hashtable_class_helper.pxi\", line 5231, in pandas._libs.hashtable.PyObjectHashTable.map_locations\n",
      "TypeError: unhashable type: 'list'\n"
     ]
    },
    {
     "data": {
      "text/plain": [
       "NaN                     8333\n",
       "[\\nGermany\\n]           4502\n",
       "[\\nItaly\\n]             1038\n",
       "[\\nEuropean Union\\n]     507\n",
       "[\\nNetherlands\\n]        464\n",
       "[\\nSpain\\n]              325\n",
       "[\\nBelgium\\n]            314\n",
       "[\\nAustria\\n]            208\n",
       "[\\nCzech Republic\\n]      52\n",
       "[\\nPoland\\n]              49\n",
       "[\\nFrance\\n]              38\n",
       "[\\nDenmark\\n]             33\n",
       "[\\nHungary\\n]             28\n",
       "[\\nJapan\\n]                8\n",
       "[\\nSlovakia\\n]             4\n",
       "[\\nCroatia\\n]              4\n",
       "[\\nSweden\\n]               3\n",
       "[\\nRomania\\n]              2\n",
       "[\\nBulgaria\\n]             2\n",
       "[\\nLuxembourg\\n]           1\n",
       "[\\nSwitzerland\\n]          1\n",
       "[\\nSlovenia\\n]             1\n",
       "[\\nEgypt\\n]                1\n",
       "[\\nSerbia\\n]               1\n",
       "Name: Country version, dtype: int64"
      ]
     },
     "execution_count": 202,
     "metadata": {},
     "output_type": "execute_result"
    }
   ],
   "source": [
    "df['Country version'].value_counts(dropna=False)"
   ]
  },
  {
   "cell_type": "code",
   "execution_count": 203,
   "metadata": {
    "scrolled": true
   },
   "outputs": [
    {
     "data": {
      "text/plain": [
       "NaN               8333\n",
       "Germany           4502\n",
       "Italy             1038\n",
       "European Union     507\n",
       "Netherlands        464\n",
       "Spain              325\n",
       "Belgium            314\n",
       "Austria            208\n",
       "Czech Republic      52\n",
       "Poland              49\n",
       "France              38\n",
       "Denmark             33\n",
       "Hungary             28\n",
       "Japan                8\n",
       "Slovakia             4\n",
       "Croatia              4\n",
       "Sweden               3\n",
       "Romania              2\n",
       "Bulgaria             2\n",
       "Luxembourg           1\n",
       "Switzerland          1\n",
       "Slovenia             1\n",
       "Egypt                1\n",
       "Serbia               1\n",
       "Name: country_ver, dtype: int64"
      ]
     },
     "execution_count": 203,
     "metadata": {},
     "output_type": "execute_result"
    }
   ],
   "source": [
    "df[\"country_ver\"] = df['Country version'].str[0].str.strip()\n",
    "df[\"country_ver\"].value_counts(dropna=False)"
   ]
  },
  {
   "cell_type": "code",
   "execution_count": 204,
   "metadata": {},
   "outputs": [],
   "source": [
    "df.drop(columns=\"Country version\", inplace=True)"
   ]
  },
  {
   "cell_type": "markdown",
   "metadata": {},
   "source": [
    "## Non-smoking Vehicle"
   ]
  },
  {
   "cell_type": "code",
   "execution_count": 205,
   "metadata": {
    "scrolled": true
   },
   "outputs": [
    {
     "ename": "TypeError",
     "evalue": "unhashable type: 'list'",
     "output_type": "error",
     "traceback": [
      "\u001b[0;31m---------------------------------------------------------------------------\u001b[0m",
      "\u001b[0;31mTypeError\u001b[0m                                 Traceback (most recent call last)",
      "\u001b[0;32mpandas/_libs/hashtable_class_helper.pxi\u001b[0m in \u001b[0;36mpandas._libs.hashtable.PyObjectHashTable.map_locations\u001b[0;34m()\u001b[0m\n",
      "\u001b[0;31mTypeError\u001b[0m: unhashable type: 'list'"
     ]
    },
    {
     "name": "stderr",
     "output_type": "stream",
     "text": [
      "Exception ignored in: 'pandas._libs.index.IndexEngine._call_map_locations'\n",
      "Traceback (most recent call last):\n",
      "  File \"pandas/_libs/hashtable_class_helper.pxi\", line 5231, in pandas._libs.hashtable.PyObjectHashTable.map_locations\n",
      "TypeError: unhashable type: 'list'\n"
     ]
    },
    {
     "data": {
      "text/plain": [
       "NaN                                                                                           8742\n",
       "[\\n, \\n]                                                                                      3647\n",
       "[\\n, \\n, \\n4 (Green)\\n]                                                                       1240\n",
       "[\\n, \\n, \\nEuro 6\\n]                                                                          1127\n",
       "[\\n, \\n, \\nEuro 6d-TEMP\\n]                                                                     345\n",
       "\\n                                                                                              70\n",
       "[\\n, \\n, \\n120 g CO2/km (comb)\\n]                                                               63\n",
       "[\\n, \\n, \\n85 g CO2/km (comb)\\n]                                                                46\n",
       "[\\n, \\n, \\n104 g CO2/km (comb)\\n]                                                               36\n",
       "[\\n, \\n, \\n107 g CO2/km (comb)\\n]                                                               36\n",
       "[\\n, \\n, \\n153 g CO2/km (comb)\\n]                                                               31\n",
       "[\\n, \\n, \\n124 g CO2/km (comb)\\n]                                                               29\n",
       "[\\n, \\n, \\n1 (No sticker)\\n]                                                                    24\n",
       "[\\n, \\n, \\n99 g CO2/km (comb)\\n]                                                                23\n",
       "[\\n, \\n, \\n106 g CO2/km (comb)\\n]                                                               20\n",
       "[\\n, \\n, \\n97 g CO2/km (comb)\\n]                                                                20\n",
       "[\\n, \\n, \\n108 g CO2/km (comb)\\n]                                                               19\n",
       "[\\n, \\n, \\n113 g CO2/km (comb)\\n]                                                               18\n",
       "[\\n, \\n, \\n100 g CO2/km (comb)\\n]                                                               18\n",
       "[\\n, \\n, \\n109 g CO2/km (comb)\\n]                                                               18\n",
       "[\\n, \\n, \\n105 g CO2/km (comb)\\n]                                                               18\n",
       "[\\n, \\n, \\nEuro 6c\\n]                                                                           17\n",
       "[\\n, \\n, \\n98 g CO2/km (comb)\\n]                                                                15\n",
       "[\\n, \\n, \\n129 g CO2/km (comb)\\n]                                                               14\n",
       "[\\n, \\n, \\n131 g CO2/km (comb)\\n]                                                               13\n",
       "[\\n, \\n, \\n133 g CO2/km (comb)\\n]                                                               12\n",
       "[\\n, \\n, \\n103 g CO2/km (comb)\\n]                                                               12\n",
       "[\\n, \\n, \\n114 g CO2/km (comb)\\n]                                                               12\n",
       "[\\n, \\n, \\n116 g CO2/km (comb)\\n]                                                               11\n",
       "[\\n, \\n, \\n135 g CO2/km (comb)\\n]                                                               11\n",
       "[\\n, \\n, \\n102 g CO2/km (comb)\\n]                                                               11\n",
       "[\\n, \\n, \\n127 g CO2/km (comb)\\n]                                                               10\n",
       "[\\n, \\n, \\n143 g CO2/km (comb)\\n]                                                               10\n",
       "[\\n, \\n, \\n92 g CO2/km (comb)\\n]                                                                 9\n",
       "[\\n, \\n, \\nEuro 6d\\n]                                                                            9\n",
       "[\\n, \\n, \\n112 g CO2/km (comb)\\n]                                                                9\n",
       "[\\n, \\n, \\n5 (Blue)\\n]                                                                           8\n",
       "[\\n, \\n, \\n118 g CO2/km (comb)\\n]                                                                8\n",
       "[\\n, \\n, \\n139 g CO2/km (comb)\\n]                                                                7\n",
       "[\\n, \\n, \\n128 g CO2/km (comb)\\n]                                                                7\n",
       "[\\n, \\n, \\n147 g CO2/km (comb)\\n]                                                                7\n",
       "[\\n, \\n, \\n126 g CO2/km (comb)\\n]                                                                6\n",
       "[\\n, \\n, \\n137 g CO2/km (comb)\\n]                                                                6\n",
       "[\\n, \\n, \\n117 g CO2/km (comb)\\n]                                                                6\n",
       "[\\n, \\n, \\n140 g CO2/km (comb)\\n]                                                                6\n",
       "[\\n, \\n, \\n130 g CO2/km (comb)\\n]                                                                5\n",
       "[\\n, \\n, \\n115 g CO2/km (comb)\\n]                                                                5\n",
       "[\\n, \\n, \\nEuro 5\\n]                                                                             4\n",
       "[\\n, \\n, \\n, 5.2 l/100 km (comb), \\n, 5.8 l/100 km (city), \\n, 4.8 l/100 km (country), \\n]       4\n",
       "[\\n, \\n, \\n123 g CO2/km (comb)\\n]                                                                4\n",
       "[\\n, \\n, \\n151 g CO2/km (comb)\\n]                                                                4\n",
       "[\\n, \\n, \\n95 g CO2/km (comb)\\n]                                                                 3\n",
       "[\\n, \\n, \\n119 g CO2/km (comb)\\n]                                                                3\n",
       "[\\n, \\n, \\n148 g CO2/km (comb)\\n]                                                                3\n",
       "[\\n, \\n, \\n157 g CO2/km (comb)\\n]                                                                3\n",
       "[\\n, \\n, \\n136 g CO2/km (comb)\\n]                                                                3\n",
       "[\\n, \\n, \\n110 g CO2/km (comb)\\n]                                                                3\n",
       "[\\n, \\n, \\n149 g CO2/km (comb)\\n]                                                                3\n",
       "[\\n, \\n, \\n138 g CO2/km (comb)\\n]                                                                2\n",
       "[\\n, \\n, \\n125 g CO2/km (comb)\\n]                                                                2\n",
       "[\\n, \\n, \\n, 5.2 l/100 km (comb), \\n, 6.4 l/100 km (city), \\n, 4.4 l/100 km (country), \\n]       2\n",
       "[\\n, \\n, \\n166 g CO2/km (comb)\\n]                                                                2\n",
       "[\\n, \\n, \\n121 g CO2/km (comb)\\n]                                                                2\n",
       "[\\n, \\n, \\n142 g CO2/km (comb)\\n]                                                                2\n",
       "[\\n, \\n, \\n90 g CO2/km (comb)\\n]                                                                 2\n",
       "[\\n, \\n, \\n111 g CO2/km (comb)\\n]                                                                2\n",
       "[\\n, \\n, \\n134 g CO2/km (comb)\\n]                                                                2\n",
       "[\\n, \\n, \\n, 6.5 l/100 km (comb), \\n, 8.5 l/100 km (city), \\n, 5.4 l/100 km (country), \\n]       1\n",
       "[\\n, \\n, \\n, 6.4 l/100 km (comb), \\n, 8.1 l/100 km (city), \\n, 5.4 l/100 km (country), \\n]       1\n",
       "[\\n, \\n, \\n161 g CO2/km (comb)\\n]                                                                1\n",
       "[\\n, \\n, \\n172 g CO2/km (comb)\\n]                                                                1\n",
       "[\\n, \\n, \\n189 g CO2/km (comb)\\n]                                                                1\n",
       "[\\n, \\n, \\n82 g CO2/km (comb)\\n]                                                                 1\n",
       "[\\n, \\n, \\n154 g CO2/km (comb)\\n]                                                                1\n",
       "[\\n, \\n, \\n, 6.5 l/100 km (comb), \\n, 7.9 l/100 km (city), \\n, 5.6 l/100 km (country), \\n]       1\n",
       "[\\n, \\n, \\n, 6.3 l/100 km (comb), \\n, 8 l/100 km (city), \\n, 5.3 l/100 km (country), \\n]         1\n",
       "[\\n, \\n, \\n146 g CO2/km (comb)\\n]                                                                1\n",
       "[\\n, \\n, \\n, 5.7 l/100 km (comb), \\n, 7.3 l/100 km (city), \\n, 4.7 l/100 km (country), \\n]       1\n",
       "[\\n, \\n, \\n, 6.1 l/100 km (comb), \\n, 7.7 l/100 km (city), \\n, 5.2 l/100 km (country), \\n]       1\n",
       "[\\n, \\n, \\n156 g CO2/km (comb)\\n]                                                                1\n",
       "[\\n, \\n, \\n, 6.1 l/100 km (comb), \\n, 7.8 l/100 km (city), \\n, 5.1 l/100 km (country), \\n]       1\n",
       "[\\n, \\n, \\n, 6.2 l/100 km (comb), \\n, 7.9 l/100 km (city), \\n, 5.3 l/100 km (country), \\n]       1\n",
       "[\\n, \\n, \\n152 g CO2/km (comb)\\n]                                                                1\n",
       "[\\n, \\n, \\n144 g CO2/km (comb)\\n]                                                                1\n",
       "[\\n, \\n, \\n132 g CO2/km (comb)\\n]                                                                1\n",
       "[\\n, \\n, \\n, 1.6 l/100 km (comb), \\n, \\n, \\n]                                                    1\n",
       "[\\n, \\n, \\n169 g CO2/km (comb)\\n]                                                                1\n",
       "[\\n, \\n, \\n101 g CO2/km (comb)\\n]                                                                1\n",
       "[\\n, \\n, \\n159 g CO2/km (comb)\\n]                                                                1\n",
       "[\\n, \\n, \\n91 g CO2/km (comb)\\n]                                                                 1\n",
       "[\\n, \\n, \\n, 5.6 l/100 km (comb), \\n, 7.3 l/100 km (city), \\n, 4.7 l/100 km (country), \\n]       1\n",
       "[\\n, \\n, \\n122 g CO2/km (comb)\\n]                                                                1\n",
       "[\\n, \\n, \\n158 g CO2/km (comb)\\n]                                                                1\n",
       "[\\n, \\n, \\n150 g CO2/km (comb)\\n]                                                                1\n",
       "[\\n, \\n, \\n175 g CO2/km (comb)\\n]                                                                1\n",
       "Name: Non-smoking Vehicle, dtype: int64"
      ]
     },
     "execution_count": 205,
     "metadata": {},
     "output_type": "execute_result"
    }
   ],
   "source": [
    "df[\"Non-smoking Vehicle\"].value_counts(dropna=False)"
   ]
  },
  {
   "cell_type": "code",
   "execution_count": 206,
   "metadata": {},
   "outputs": [
    {
     "data": {
      "text/plain": [
       "NaN    8742\n",
       "\\n     7177\n",
       "Name: Non-smoking Vehicle, dtype: int64"
      ]
     },
     "execution_count": 206,
     "metadata": {},
     "output_type": "execute_result"
    }
   ],
   "source": [
    "df[\"Non-smoking Vehicle\"].str[0].value_counts(dropna=False)"
   ]
  },
  {
   "cell_type": "code",
   "execution_count": 207,
   "metadata": {},
   "outputs": [
    {
     "data": {
      "text/plain": [
       "NaN    8812\n",
       "\\n     7107\n",
       "Name: Non-smoking Vehicle, dtype: int64"
      ]
     },
     "execution_count": 207,
     "metadata": {},
     "output_type": "execute_result"
    }
   ],
   "source": [
    "df[\"Non-smoking Vehicle\"].str[1].value_counts(dropna=False)"
   ]
  },
  {
   "cell_type": "code",
   "execution_count": 208,
   "metadata": {
    "scrolled": true
   },
   "outputs": [
    {
     "data": {
      "text/plain": [
       "NaN                        12459\n",
       "\\n4 (Green)\\n               1240\n",
       "\\nEuro 6\\n                  1127\n",
       "\\nEuro 6d-TEMP\\n             345\n",
       "\\n120 g CO2/km (comb)\\n       63\n",
       "\\n85 g CO2/km (comb)\\n        46\n",
       "\\n104 g CO2/km (comb)\\n       36\n",
       "\\n107 g CO2/km (comb)\\n       36\n",
       "\\n153 g CO2/km (comb)\\n       31\n",
       "\\n124 g CO2/km (comb)\\n       29\n",
       "\\n1 (No sticker)\\n            24\n",
       "\\n99 g CO2/km (comb)\\n        23\n",
       "\\n106 g CO2/km (comb)\\n       20\n",
       "\\n97 g CO2/km (comb)\\n        20\n",
       "\\n108 g CO2/km (comb)\\n       19\n",
       "\\n109 g CO2/km (comb)\\n       18\n",
       "\\n105 g CO2/km (comb)\\n       18\n",
       "\\n100 g CO2/km (comb)\\n       18\n",
       "\\n113 g CO2/km (comb)\\n       18\n",
       "\\nEuro 6c\\n                   17\n",
       "\\n                            16\n",
       "\\n98 g CO2/km (comb)\\n        15\n",
       "\\n129 g CO2/km (comb)\\n       14\n",
       "\\n131 g CO2/km (comb)\\n       13\n",
       "\\n103 g CO2/km (comb)\\n       12\n",
       "\\n114 g CO2/km (comb)\\n       12\n",
       "\\n133 g CO2/km (comb)\\n       12\n",
       "\\n135 g CO2/km (comb)\\n       11\n",
       "\\n102 g CO2/km (comb)\\n       11\n",
       "\\n116 g CO2/km (comb)\\n       11\n",
       "\\n127 g CO2/km (comb)\\n       10\n",
       "\\n143 g CO2/km (comb)\\n       10\n",
       "\\nEuro 6d\\n                    9\n",
       "\\n92 g CO2/km (comb)\\n         9\n",
       "\\n112 g CO2/km (comb)\\n        9\n",
       "\\n118 g CO2/km (comb)\\n        8\n",
       "\\n5 (Blue)\\n                   8\n",
       "\\n128 g CO2/km (comb)\\n        7\n",
       "\\n139 g CO2/km (comb)\\n        7\n",
       "\\n147 g CO2/km (comb)\\n        7\n",
       "\\n117 g CO2/km (comb)\\n        6\n",
       "\\n137 g CO2/km (comb)\\n        6\n",
       "\\n140 g CO2/km (comb)\\n        6\n",
       "\\n126 g CO2/km (comb)\\n        6\n",
       "\\n115 g CO2/km (comb)\\n        5\n",
       "\\n130 g CO2/km (comb)\\n        5\n",
       "\\nEuro 5\\n                     4\n",
       "\\n151 g CO2/km (comb)\\n        4\n",
       "\\n123 g CO2/km (comb)\\n        4\n",
       "\\n148 g CO2/km (comb)\\n        3\n",
       "\\n119 g CO2/km (comb)\\n        3\n",
       "\\n149 g CO2/km (comb)\\n        3\n",
       "\\n110 g CO2/km (comb)\\n        3\n",
       "\\n136 g CO2/km (comb)\\n        3\n",
       "\\n157 g CO2/km (comb)\\n        3\n",
       "\\n95 g CO2/km (comb)\\n         3\n",
       "\\n166 g CO2/km (comb)\\n        2\n",
       "\\n90 g CO2/km (comb)\\n         2\n",
       "\\n138 g CO2/km (comb)\\n        2\n",
       "\\n121 g CO2/km (comb)\\n        2\n",
       "\\n125 g CO2/km (comb)\\n        2\n",
       "\\n134 g CO2/km (comb)\\n        2\n",
       "\\n111 g CO2/km (comb)\\n        2\n",
       "\\n142 g CO2/km (comb)\\n        2\n",
       "\\n152 g CO2/km (comb)\\n        1\n",
       "\\n82 g CO2/km (comb)\\n         1\n",
       "\\n172 g CO2/km (comb)\\n        1\n",
       "\\n154 g CO2/km (comb)\\n        1\n",
       "\\n161 g CO2/km (comb)\\n        1\n",
       "\\n146 g CO2/km (comb)\\n        1\n",
       "\\n156 g CO2/km (comb)\\n        1\n",
       "\\n91 g CO2/km (comb)\\n         1\n",
       "\\n144 g CO2/km (comb)\\n        1\n",
       "\\n132 g CO2/km (comb)\\n        1\n",
       "\\n169 g CO2/km (comb)\\n        1\n",
       "\\n159 g CO2/km (comb)\\n        1\n",
       "\\n158 g CO2/km (comb)\\n        1\n",
       "\\n150 g CO2/km (comb)\\n        1\n",
       "\\n122 g CO2/km (comb)\\n        1\n",
       "\\n189 g CO2/km (comb)\\n        1\n",
       "\\n101 g CO2/km (comb)\\n        1\n",
       "\\n175 g CO2/km (comb)\\n        1\n",
       "Name: Non-smoking Vehicle, dtype: int64"
      ]
     },
     "execution_count": 208,
     "metadata": {},
     "output_type": "execute_result"
    }
   ],
   "source": [
    "df[\"Non-smoking Vehicle\"].str[2].value_counts(dropna=False)"
   ]
  },
  {
   "cell_type": "code",
   "execution_count": 209,
   "metadata": {},
   "outputs": [
    {
     "data": {
      "text/html": [
       "<div>\n",
       "<style scoped>\n",
       "    .dataframe tbody tr th:only-of-type {\n",
       "        vertical-align: middle;\n",
       "    }\n",
       "\n",
       "    .dataframe tbody tr th {\n",
       "        vertical-align: top;\n",
       "    }\n",
       "\n",
       "    .dataframe thead th {\n",
       "        text-align: right;\n",
       "    }\n",
       "</style>\n",
       "<table border=\"1\" class=\"dataframe\">\n",
       "  <thead>\n",
       "    <tr style=\"text-align: right;\">\n",
       "      <th></th>\n",
       "      <th>Non-smoking Vehicle</th>\n",
       "      <th>co2_emission</th>\n",
       "    </tr>\n",
       "  </thead>\n",
       "  <tbody>\n",
       "    <tr>\n",
       "      <th>9329</th>\n",
       "      <td>[\\n, \\n, \\nEuro 6\\n]</td>\n",
       "      <td>123</td>\n",
       "    </tr>\n",
       "    <tr>\n",
       "      <th>12701</th>\n",
       "      <td>NaN</td>\n",
       "      <td>139</td>\n",
       "    </tr>\n",
       "    <tr>\n",
       "      <th>10512</th>\n",
       "      <td>NaN</td>\n",
       "      <td>NaN</td>\n",
       "    </tr>\n",
       "    <tr>\n",
       "      <th>181</th>\n",
       "      <td>NaN</td>\n",
       "      <td>112</td>\n",
       "    </tr>\n",
       "    <tr>\n",
       "      <th>4286</th>\n",
       "      <td>[\\n, \\n, \\nEuro 6\\n]</td>\n",
       "      <td>109</td>\n",
       "    </tr>\n",
       "    <tr>\n",
       "      <th>4361</th>\n",
       "      <td>[\\n, \\n, \\n114 g CO2/km (comb)\\n]</td>\n",
       "      <td>114</td>\n",
       "    </tr>\n",
       "    <tr>\n",
       "      <th>11374</th>\n",
       "      <td>NaN</td>\n",
       "      <td>NaN</td>\n",
       "    </tr>\n",
       "    <tr>\n",
       "      <th>2997</th>\n",
       "      <td>[\\n, \\n]</td>\n",
       "      <td>106</td>\n",
       "    </tr>\n",
       "    <tr>\n",
       "      <th>10992</th>\n",
       "      <td>NaN</td>\n",
       "      <td>104</td>\n",
       "    </tr>\n",
       "    <tr>\n",
       "      <th>14267</th>\n",
       "      <td>[\\n, \\n]</td>\n",
       "      <td>135</td>\n",
       "    </tr>\n",
       "    <tr>\n",
       "      <th>4293</th>\n",
       "      <td>[\\n, \\n, \\nEuro 6\\n]</td>\n",
       "      <td>107</td>\n",
       "    </tr>\n",
       "    <tr>\n",
       "      <th>8901</th>\n",
       "      <td>NaN</td>\n",
       "      <td>NaN</td>\n",
       "    </tr>\n",
       "    <tr>\n",
       "      <th>13106</th>\n",
       "      <td>NaN</td>\n",
       "      <td>120</td>\n",
       "    </tr>\n",
       "    <tr>\n",
       "      <th>15829</th>\n",
       "      <td>NaN</td>\n",
       "      <td>148</td>\n",
       "    </tr>\n",
       "    <tr>\n",
       "      <th>12435</th>\n",
       "      <td>[\\n, \\n]</td>\n",
       "      <td>145</td>\n",
       "    </tr>\n",
       "    <tr>\n",
       "      <th>14985</th>\n",
       "      <td>\\n</td>\n",
       "      <td>123</td>\n",
       "    </tr>\n",
       "    <tr>\n",
       "      <th>1085</th>\n",
       "      <td>[\\n, \\n, \\n4 (Green)\\n]</td>\n",
       "      <td>112</td>\n",
       "    </tr>\n",
       "    <tr>\n",
       "      <th>8434</th>\n",
       "      <td>[\\n, \\n, \\nEuro 6\\n]</td>\n",
       "      <td>142</td>\n",
       "    </tr>\n",
       "    <tr>\n",
       "      <th>4812</th>\n",
       "      <td>NaN</td>\n",
       "      <td>107</td>\n",
       "    </tr>\n",
       "    <tr>\n",
       "      <th>2148</th>\n",
       "      <td>NaN</td>\n",
       "      <td>108</td>\n",
       "    </tr>\n",
       "    <tr>\n",
       "      <th>9415</th>\n",
       "      <td>NaN</td>\n",
       "      <td>124</td>\n",
       "    </tr>\n",
       "    <tr>\n",
       "      <th>6964</th>\n",
       "      <td>NaN</td>\n",
       "      <td>104</td>\n",
       "    </tr>\n",
       "    <tr>\n",
       "      <th>6413</th>\n",
       "      <td>NaN</td>\n",
       "      <td>95</td>\n",
       "    </tr>\n",
       "    <tr>\n",
       "      <th>4569</th>\n",
       "      <td>NaN</td>\n",
       "      <td>103</td>\n",
       "    </tr>\n",
       "    <tr>\n",
       "      <th>873</th>\n",
       "      <td>[\\n, \\n]</td>\n",
       "      <td>NaN</td>\n",
       "    </tr>\n",
       "    <tr>\n",
       "      <th>6698</th>\n",
       "      <td>[\\n, \\n, \\nEuro 6\\n]</td>\n",
       "      <td>119</td>\n",
       "    </tr>\n",
       "    <tr>\n",
       "      <th>1917</th>\n",
       "      <td>NaN</td>\n",
       "      <td>116</td>\n",
       "    </tr>\n",
       "    <tr>\n",
       "      <th>11536</th>\n",
       "      <td>NaN</td>\n",
       "      <td>NaN</td>\n",
       "    </tr>\n",
       "    <tr>\n",
       "      <th>15556</th>\n",
       "      <td>NaN</td>\n",
       "      <td>120</td>\n",
       "    </tr>\n",
       "    <tr>\n",
       "      <th>1506</th>\n",
       "      <td>[\\n, \\n]</td>\n",
       "      <td>102</td>\n",
       "    </tr>\n",
       "    <tr>\n",
       "      <th>14816</th>\n",
       "      <td>[\\n, \\n, \\n118 g CO2/km (comb)\\n]</td>\n",
       "      <td>118</td>\n",
       "    </tr>\n",
       "    <tr>\n",
       "      <th>5367</th>\n",
       "      <td>NaN</td>\n",
       "      <td>118</td>\n",
       "    </tr>\n",
       "    <tr>\n",
       "      <th>1896</th>\n",
       "      <td>NaN</td>\n",
       "      <td>NaN</td>\n",
       "    </tr>\n",
       "    <tr>\n",
       "      <th>1640</th>\n",
       "      <td>NaN</td>\n",
       "      <td>108</td>\n",
       "    </tr>\n",
       "    <tr>\n",
       "      <th>1254</th>\n",
       "      <td>[\\n, \\n]</td>\n",
       "      <td>102</td>\n",
       "    </tr>\n",
       "    <tr>\n",
       "      <th>9700</th>\n",
       "      <td>NaN</td>\n",
       "      <td>112</td>\n",
       "    </tr>\n",
       "    <tr>\n",
       "      <th>350</th>\n",
       "      <td>[\\n, \\n]</td>\n",
       "      <td>99</td>\n",
       "    </tr>\n",
       "    <tr>\n",
       "      <th>6000</th>\n",
       "      <td>NaN</td>\n",
       "      <td>119</td>\n",
       "    </tr>\n",
       "    <tr>\n",
       "      <th>12495</th>\n",
       "      <td>NaN</td>\n",
       "      <td>148</td>\n",
       "    </tr>\n",
       "    <tr>\n",
       "      <th>5482</th>\n",
       "      <td>NaN</td>\n",
       "      <td>125</td>\n",
       "    </tr>\n",
       "    <tr>\n",
       "      <th>1521</th>\n",
       "      <td>[\\n, \\n]</td>\n",
       "      <td>109</td>\n",
       "    </tr>\n",
       "    <tr>\n",
       "      <th>4383</th>\n",
       "      <td>NaN</td>\n",
       "      <td>106</td>\n",
       "    </tr>\n",
       "    <tr>\n",
       "      <th>12092</th>\n",
       "      <td>[\\n, \\n]</td>\n",
       "      <td>139</td>\n",
       "    </tr>\n",
       "    <tr>\n",
       "      <th>15353</th>\n",
       "      <td>NaN</td>\n",
       "      <td>120</td>\n",
       "    </tr>\n",
       "    <tr>\n",
       "      <th>7652</th>\n",
       "      <td>[\\n, \\n]</td>\n",
       "      <td>138</td>\n",
       "    </tr>\n",
       "    <tr>\n",
       "      <th>8394</th>\n",
       "      <td>NaN</td>\n",
       "      <td>143</td>\n",
       "    </tr>\n",
       "    <tr>\n",
       "      <th>10388</th>\n",
       "      <td>[\\n, \\n]</td>\n",
       "      <td>128</td>\n",
       "    </tr>\n",
       "    <tr>\n",
       "      <th>15049</th>\n",
       "      <td>[\\n, \\n]</td>\n",
       "      <td>123</td>\n",
       "    </tr>\n",
       "    <tr>\n",
       "      <th>11472</th>\n",
       "      <td>[\\n, \\n, \\nEuro 6d-TEMP\\n]</td>\n",
       "      <td>141</td>\n",
       "    </tr>\n",
       "    <tr>\n",
       "      <th>6592</th>\n",
       "      <td>[\\n, \\n, \\n4 (Green)\\n]</td>\n",
       "      <td>128</td>\n",
       "    </tr>\n",
       "    <tr>\n",
       "      <th>3522</th>\n",
       "      <td>[\\n, \\n, \\nEuro 6\\n]</td>\n",
       "      <td>101</td>\n",
       "    </tr>\n",
       "    <tr>\n",
       "      <th>8448</th>\n",
       "      <td>NaN</td>\n",
       "      <td>NaN</td>\n",
       "    </tr>\n",
       "    <tr>\n",
       "      <th>10563</th>\n",
       "      <td>[\\n, \\n]</td>\n",
       "      <td>145</td>\n",
       "    </tr>\n",
       "    <tr>\n",
       "      <th>6754</th>\n",
       "      <td>NaN</td>\n",
       "      <td>93</td>\n",
       "    </tr>\n",
       "    <tr>\n",
       "      <th>6717</th>\n",
       "      <td>NaN</td>\n",
       "      <td>115</td>\n",
       "    </tr>\n",
       "    <tr>\n",
       "      <th>11163</th>\n",
       "      <td>NaN</td>\n",
       "      <td>NaN</td>\n",
       "    </tr>\n",
       "    <tr>\n",
       "      <th>599</th>\n",
       "      <td>[\\n, \\n]</td>\n",
       "      <td>97</td>\n",
       "    </tr>\n",
       "    <tr>\n",
       "      <th>8480</th>\n",
       "      <td>[\\n, \\n]</td>\n",
       "      <td>139</td>\n",
       "    </tr>\n",
       "    <tr>\n",
       "      <th>14396</th>\n",
       "      <td>NaN</td>\n",
       "      <td>135</td>\n",
       "    </tr>\n",
       "    <tr>\n",
       "      <th>7265</th>\n",
       "      <td>[\\n, \\n, \\n4 (Green)\\n]</td>\n",
       "      <td>128</td>\n",
       "    </tr>\n",
       "    <tr>\n",
       "      <th>5067</th>\n",
       "      <td>[\\n, \\n]</td>\n",
       "      <td>117</td>\n",
       "    </tr>\n",
       "    <tr>\n",
       "      <th>3555</th>\n",
       "      <td>[\\n, \\n]</td>\n",
       "      <td>117</td>\n",
       "    </tr>\n",
       "    <tr>\n",
       "      <th>9933</th>\n",
       "      <td>NaN</td>\n",
       "      <td>140</td>\n",
       "    </tr>\n",
       "    <tr>\n",
       "      <th>12945</th>\n",
       "      <td>[\\n, \\n, \\n4 (Green)\\n]</td>\n",
       "      <td>187</td>\n",
       "    </tr>\n",
       "    <tr>\n",
       "      <th>2266</th>\n",
       "      <td>[\\n, \\n, \\n4 (Green)\\n]</td>\n",
       "      <td>104</td>\n",
       "    </tr>\n",
       "    <tr>\n",
       "      <th>65</th>\n",
       "      <td>NaN</td>\n",
       "      <td>103</td>\n",
       "    </tr>\n",
       "    <tr>\n",
       "      <th>14663</th>\n",
       "      <td>[\\n, \\n]</td>\n",
       "      <td>113</td>\n",
       "    </tr>\n",
       "    <tr>\n",
       "      <th>7347</th>\n",
       "      <td>NaN</td>\n",
       "      <td>NaN</td>\n",
       "    </tr>\n",
       "    <tr>\n",
       "      <th>10026</th>\n",
       "      <td>NaN</td>\n",
       "      <td>140</td>\n",
       "    </tr>\n",
       "    <tr>\n",
       "      <th>15385</th>\n",
       "      <td>NaN</td>\n",
       "      <td>NaN</td>\n",
       "    </tr>\n",
       "    <tr>\n",
       "      <th>2941</th>\n",
       "      <td>NaN</td>\n",
       "      <td>99</td>\n",
       "    </tr>\n",
       "    <tr>\n",
       "      <th>15295</th>\n",
       "      <td>[\\n, \\n, \\n116 g CO2/km (comb)\\n]</td>\n",
       "      <td>116</td>\n",
       "    </tr>\n",
       "    <tr>\n",
       "      <th>6346</th>\n",
       "      <td>[\\n, \\n, \\nEuro 6\\n]</td>\n",
       "      <td>124</td>\n",
       "    </tr>\n",
       "    <tr>\n",
       "      <th>7630</th>\n",
       "      <td>NaN</td>\n",
       "      <td>151</td>\n",
       "    </tr>\n",
       "    <tr>\n",
       "      <th>1536</th>\n",
       "      <td>[\\n, \\n]</td>\n",
       "      <td>102</td>\n",
       "    </tr>\n",
       "    <tr>\n",
       "      <th>2907</th>\n",
       "      <td>NaN</td>\n",
       "      <td>NaN</td>\n",
       "    </tr>\n",
       "    <tr>\n",
       "      <th>10292</th>\n",
       "      <td>[\\n, \\n, \\n4 (Green)\\n]</td>\n",
       "      <td>120</td>\n",
       "    </tr>\n",
       "    <tr>\n",
       "      <th>11612</th>\n",
       "      <td>NaN</td>\n",
       "      <td>136</td>\n",
       "    </tr>\n",
       "    <tr>\n",
       "      <th>8413</th>\n",
       "      <td>NaN</td>\n",
       "      <td>139</td>\n",
       "    </tr>\n",
       "    <tr>\n",
       "      <th>13330</th>\n",
       "      <td>NaN</td>\n",
       "      <td>92</td>\n",
       "    </tr>\n",
       "    <tr>\n",
       "      <th>15666</th>\n",
       "      <td>[\\n, \\n]</td>\n",
       "      <td>120</td>\n",
       "    </tr>\n",
       "    <tr>\n",
       "      <th>9128</th>\n",
       "      <td>[\\n, \\n, \\n4 (Green)\\n]</td>\n",
       "      <td>133</td>\n",
       "    </tr>\n",
       "    <tr>\n",
       "      <th>4331</th>\n",
       "      <td>[\\n, \\n, \\n4 (Green)\\n]</td>\n",
       "      <td>117</td>\n",
       "    </tr>\n",
       "    <tr>\n",
       "      <th>1566</th>\n",
       "      <td>[\\n, \\n, \\nEuro 6d-TEMP\\n]</td>\n",
       "      <td>111</td>\n",
       "    </tr>\n",
       "    <tr>\n",
       "      <th>1327</th>\n",
       "      <td>[\\n, \\n]</td>\n",
       "      <td>97</td>\n",
       "    </tr>\n",
       "    <tr>\n",
       "      <th>5572</th>\n",
       "      <td>[\\n, \\n, \\nEuro 6d-TEMP\\n]</td>\n",
       "      <td>114</td>\n",
       "    </tr>\n",
       "    <tr>\n",
       "      <th>387</th>\n",
       "      <td>NaN</td>\n",
       "      <td>NaN</td>\n",
       "    </tr>\n",
       "    <tr>\n",
       "      <th>6443</th>\n",
       "      <td>[\\n, \\n]</td>\n",
       "      <td>97</td>\n",
       "    </tr>\n",
       "    <tr>\n",
       "      <th>11937</th>\n",
       "      <td>NaN</td>\n",
       "      <td>150</td>\n",
       "    </tr>\n",
       "    <tr>\n",
       "      <th>12398</th>\n",
       "      <td>NaN</td>\n",
       "      <td>141</td>\n",
       "    </tr>\n",
       "    <tr>\n",
       "      <th>0</th>\n",
       "      <td>[\\n, \\n]</td>\n",
       "      <td>99</td>\n",
       "    </tr>\n",
       "    <tr>\n",
       "      <th>1663</th>\n",
       "      <td>NaN</td>\n",
       "      <td>NaN</td>\n",
       "    </tr>\n",
       "    <tr>\n",
       "      <th>3980</th>\n",
       "      <td>NaN</td>\n",
       "      <td>103</td>\n",
       "    </tr>\n",
       "    <tr>\n",
       "      <th>15513</th>\n",
       "      <td>NaN</td>\n",
       "      <td>168</td>\n",
       "    </tr>\n",
       "    <tr>\n",
       "      <th>12256</th>\n",
       "      <td>NaN</td>\n",
       "      <td>NaN</td>\n",
       "    </tr>\n",
       "    <tr>\n",
       "      <th>10749</th>\n",
       "      <td>NaN</td>\n",
       "      <td>130</td>\n",
       "    </tr>\n",
       "    <tr>\n",
       "      <th>12166</th>\n",
       "      <td>[\\n, \\n, \\n4 (Green)\\n]</td>\n",
       "      <td>145</td>\n",
       "    </tr>\n",
       "    <tr>\n",
       "      <th>14983</th>\n",
       "      <td>[\\n, \\n, \\nEuro 6\\n]</td>\n",
       "      <td>120</td>\n",
       "    </tr>\n",
       "    <tr>\n",
       "      <th>8729</th>\n",
       "      <td>NaN</td>\n",
       "      <td>NaN</td>\n",
       "    </tr>\n",
       "    <tr>\n",
       "      <th>2414</th>\n",
       "      <td>NaN</td>\n",
       "      <td>NaN</td>\n",
       "    </tr>\n",
       "  </tbody>\n",
       "</table>\n",
       "</div>"
      ],
      "text/plain": [
       "                     Non-smoking Vehicle co2_emission\n",
       "9329                [\\n, \\n, \\nEuro 6\\n]          123\n",
       "12701                                NaN          139\n",
       "10512                                NaN          NaN\n",
       "181                                  NaN          112\n",
       "4286                [\\n, \\n, \\nEuro 6\\n]          109\n",
       "4361   [\\n, \\n, \\n114 g CO2/km (comb)\\n]          114\n",
       "11374                                NaN          NaN\n",
       "2997                            [\\n, \\n]          106\n",
       "10992                                NaN          104\n",
       "14267                           [\\n, \\n]          135\n",
       "4293                [\\n, \\n, \\nEuro 6\\n]          107\n",
       "8901                                 NaN          NaN\n",
       "13106                                NaN          120\n",
       "15829                                NaN          148\n",
       "12435                           [\\n, \\n]          145\n",
       "14985                                 \\n          123\n",
       "1085             [\\n, \\n, \\n4 (Green)\\n]          112\n",
       "8434                [\\n, \\n, \\nEuro 6\\n]          142\n",
       "4812                                 NaN          107\n",
       "2148                                 NaN          108\n",
       "9415                                 NaN          124\n",
       "6964                                 NaN          104\n",
       "6413                                 NaN           95\n",
       "4569                                 NaN          103\n",
       "873                             [\\n, \\n]          NaN\n",
       "6698                [\\n, \\n, \\nEuro 6\\n]          119\n",
       "1917                                 NaN          116\n",
       "11536                                NaN          NaN\n",
       "15556                                NaN          120\n",
       "1506                            [\\n, \\n]          102\n",
       "14816  [\\n, \\n, \\n118 g CO2/km (comb)\\n]          118\n",
       "5367                                 NaN          118\n",
       "1896                                 NaN          NaN\n",
       "1640                                 NaN          108\n",
       "1254                            [\\n, \\n]          102\n",
       "9700                                 NaN          112\n",
       "350                             [\\n, \\n]           99\n",
       "6000                                 NaN          119\n",
       "12495                                NaN          148\n",
       "5482                                 NaN          125\n",
       "1521                            [\\n, \\n]          109\n",
       "4383                                 NaN          106\n",
       "12092                           [\\n, \\n]          139\n",
       "15353                                NaN          120\n",
       "7652                            [\\n, \\n]          138\n",
       "8394                                 NaN          143\n",
       "10388                           [\\n, \\n]          128\n",
       "15049                           [\\n, \\n]          123\n",
       "11472         [\\n, \\n, \\nEuro 6d-TEMP\\n]          141\n",
       "6592             [\\n, \\n, \\n4 (Green)\\n]          128\n",
       "3522                [\\n, \\n, \\nEuro 6\\n]          101\n",
       "8448                                 NaN          NaN\n",
       "10563                           [\\n, \\n]          145\n",
       "6754                                 NaN           93\n",
       "6717                                 NaN          115\n",
       "11163                                NaN          NaN\n",
       "599                             [\\n, \\n]           97\n",
       "8480                            [\\n, \\n]          139\n",
       "14396                                NaN          135\n",
       "7265             [\\n, \\n, \\n4 (Green)\\n]          128\n",
       "5067                            [\\n, \\n]          117\n",
       "3555                            [\\n, \\n]          117\n",
       "9933                                 NaN          140\n",
       "12945            [\\n, \\n, \\n4 (Green)\\n]          187\n",
       "2266             [\\n, \\n, \\n4 (Green)\\n]          104\n",
       "65                                   NaN          103\n",
       "14663                           [\\n, \\n]          113\n",
       "7347                                 NaN          NaN\n",
       "10026                                NaN          140\n",
       "15385                                NaN          NaN\n",
       "2941                                 NaN           99\n",
       "15295  [\\n, \\n, \\n116 g CO2/km (comb)\\n]          116\n",
       "6346                [\\n, \\n, \\nEuro 6\\n]          124\n",
       "7630                                 NaN          151\n",
       "1536                            [\\n, \\n]          102\n",
       "2907                                 NaN          NaN\n",
       "10292            [\\n, \\n, \\n4 (Green)\\n]          120\n",
       "11612                                NaN          136\n",
       "8413                                 NaN          139\n",
       "13330                                NaN           92\n",
       "15666                           [\\n, \\n]          120\n",
       "9128             [\\n, \\n, \\n4 (Green)\\n]          133\n",
       "4331             [\\n, \\n, \\n4 (Green)\\n]          117\n",
       "1566          [\\n, \\n, \\nEuro 6d-TEMP\\n]          111\n",
       "1327                            [\\n, \\n]           97\n",
       "5572          [\\n, \\n, \\nEuro 6d-TEMP\\n]          114\n",
       "387                                  NaN          NaN\n",
       "6443                            [\\n, \\n]           97\n",
       "11937                                NaN          150\n",
       "12398                                NaN          141\n",
       "0                               [\\n, \\n]           99\n",
       "1663                                 NaN          NaN\n",
       "3980                                 NaN          103\n",
       "15513                                NaN          168\n",
       "12256                                NaN          NaN\n",
       "10749                                NaN          130\n",
       "12166            [\\n, \\n, \\n4 (Green)\\n]          145\n",
       "14983               [\\n, \\n, \\nEuro 6\\n]          120\n",
       "8729                                 NaN          NaN\n",
       "2414                                 NaN          NaN"
      ]
     },
     "execution_count": 209,
     "metadata": {},
     "output_type": "execute_result"
    }
   ],
   "source": [
    "df[[\"Non-smoking Vehicle\", \"co2_emission\"]].sample(100)"
   ]
  },
  {
   "cell_type": "code",
   "execution_count": 210,
   "metadata": {},
   "outputs": [],
   "source": [
    "df.drop(columns=\"Non-smoking Vehicle\", inplace=True)"
   ]
  },
  {
   "cell_type": "markdown",
   "metadata": {},
   "source": [
    "## Model Code"
   ]
  },
  {
   "cell_type": "code",
   "execution_count": 211,
   "metadata": {},
   "outputs": [
    {
     "data": {
      "text/plain": [
       "NaN         10941\n",
       "0035/BCB      268\n",
       "0588/BNO      245\n",
       "0588/BDB      206\n",
       "0588/BHX      188\n",
       "            ...  \n",
       "0035/AVN        1\n",
       "0035/BEM        1\n",
       "0035/BAG        1\n",
       "0035/BAA        1\n",
       "3333/BKG        1\n",
       "Name: Model Code, Length: 233, dtype: int64"
      ]
     },
     "execution_count": 211,
     "metadata": {},
     "output_type": "execute_result"
    }
   ],
   "source": [
    "df[\"Model Code\"].str[0].str.strip().value_counts(dropna=False)"
   ]
  },
  {
   "cell_type": "code",
   "execution_count": 212,
   "metadata": {},
   "outputs": [],
   "source": [
    "df[\"model_code\"] =  df[\"Model Code\"].str[0].str.strip()"
   ]
  },
  {
   "cell_type": "code",
   "execution_count": 213,
   "metadata": {},
   "outputs": [],
   "source": [
    "df.drop(columns=\"Model Code\", inplace=True)"
   ]
  },
  {
   "cell_type": "markdown",
   "metadata": {},
   "source": [
    "## Emission Label"
   ]
  },
  {
   "cell_type": "code",
   "execution_count": 214,
   "metadata": {},
   "outputs": [
    {
     "data": {
      "text/plain": [
       "NaN               11974\n",
       "4 (Green)          3553\n",
       "1 (No sticker)      381\n",
       "5 (Blue)              8\n",
       "3 (Yellow)            2\n",
       "2 (Red)               1\n",
       "Name: Emission Label, dtype: int64"
      ]
     },
     "execution_count": 214,
     "metadata": {},
     "output_type": "execute_result"
    }
   ],
   "source": [
    "df[\"Emission Label\"].str[0].str.strip().value_counts(dropna=False)"
   ]
  },
  {
   "cell_type": "code",
   "execution_count": 215,
   "metadata": {},
   "outputs": [
    {
     "data": {
      "text/plain": [
       "NaN               11974\n",
       "4 (Green)          3553\n",
       "1 (No sticker)      381\n",
       "5 (Blue)              8\n",
       "3 (Yellow)            2\n",
       "2 (Red)               1\n",
       "Name: Emission_Label, dtype: int64"
      ]
     },
     "execution_count": 215,
     "metadata": {},
     "output_type": "execute_result"
    }
   ],
   "source": [
    "df[\"Emission_Label\"] = df[\"Emission Label\"].str[0].str.strip()\n",
    "df[\"Emission_Label\"].value_counts(dropna=False)"
   ]
  },
  {
   "cell_type": "code",
   "execution_count": 216,
   "metadata": {},
   "outputs": [],
   "source": [
    "df.drop(columns=\"Emission Label\", inplace=True)"
   ]
  },
  {
   "cell_type": "markdown",
   "metadata": {},
   "source": [
    "## Inspection new"
   ]
  },
  {
   "cell_type": "code",
   "execution_count": 217,
   "metadata": {},
   "outputs": [
    {
     "data": {
      "text/plain": [
       "0                     [\\nYes\\n, \\nEuro 6\\n]\n",
       "1                                       NaN\n",
       "2                                       NaN\n",
       "3                                       NaN\n",
       "4        [\\nYes\\n, \\n109 g CO2/km (comb)\\n]\n",
       "                        ...                \n",
       "15914                                   NaN\n",
       "15915                                   NaN\n",
       "15916           [\\nYes\\n, \\nEuro 6d-TEMP\\n]\n",
       "15917                                   NaN\n",
       "15918    [\\nYes\\n, \\n153 g CO2/km (comb)\\n]\n",
       "Name: Inspection new, Length: 15919, dtype: object"
      ]
     },
     "execution_count": 217,
     "metadata": {},
     "output_type": "execute_result"
    }
   ],
   "source": [
    "df[\"Inspection new\"]"
   ]
  },
  {
   "cell_type": "code",
   "execution_count": 218,
   "metadata": {},
   "outputs": [
    {
     "data": {
      "text/plain": [
       "NaN    11987\n",
       "Yes     3570\n",
       "         362\n",
       "Name: Inspection new, dtype: int64"
      ]
     },
     "execution_count": 218,
     "metadata": {},
     "output_type": "execute_result"
    }
   ],
   "source": [
    "df[\"Inspection new\"].str[0].str.strip().value_counts(dropna=False)"
   ]
  },
  {
   "cell_type": "markdown",
   "metadata": {},
   "source": [
    "Altough null value percentage is high. it can effect the value of the car. So we will keep it."
   ]
  },
  {
   "cell_type": "code",
   "execution_count": 219,
   "metadata": {},
   "outputs": [
    {
     "data": {
      "text/plain": [
       "NaN    11987\n",
       "Yes     3570\n",
       "         362\n",
       "Name: new_inspection, dtype: int64"
      ]
     },
     "execution_count": 219,
     "metadata": {},
     "output_type": "execute_result"
    }
   ],
   "source": [
    "df[\"new_inspection\"] = df[\"Inspection new\"].str[0].str.strip()\n",
    "df[\"new_inspection\"].value_counts(dropna=False)"
   ]
  },
  {
   "cell_type": "code",
   "execution_count": 220,
   "metadata": {},
   "outputs": [],
   "source": [
    "df.drop(columns=[\"Inspection new\"] , inplace=True)"
   ]
  },
  {
   "cell_type": "markdown",
   "metadata": {},
   "source": [
    "## Next Inspection"
   ]
  },
  {
   "cell_type": "code",
   "execution_count": 221,
   "metadata": {
    "scrolled": true
   },
   "outputs": [
    {
     "data": {
      "text/plain": [
       "NaN        12384\n",
       "             710\n",
       "06/2021      437\n",
       "03/2021      172\n",
       "05/2021      153\n",
       "02/2021      149\n",
       "04/2021      142\n",
       "01/2021      117\n",
       "05/2022      116\n",
       "02/2022       96\n",
       "03/2020       88\n",
       "03/2022       85\n",
       "04/2022       82\n",
       "01/2022       75\n",
       "07/2021       60\n",
       "08/2021       59\n",
       "02/2020       56\n",
       "04/2020       52\n",
       "06/2020       50\n",
       "05/2020       50\n",
       "01/2020       48\n",
       "11/2021       47\n",
       "12/2020       47\n",
       "11/2020       46\n",
       "04/2019       37\n",
       "07/2020       35\n",
       "10/2020       35\n",
       "06/2019       33\n",
       "09/2019       32\n",
       "07/2019       30\n",
       "11/2019       29\n",
       "09/2021       29\n",
       "08/2020       29\n",
       "10/2019       28\n",
       "03/2019       28\n",
       "05/2019       27\n",
       "01/2019       27\n",
       "02/2019       27\n",
       "06/2022       26\n",
       "08/2019       25\n",
       "09/2020       21\n",
       "12/2021       20\n",
       "10/2021       16\n",
       "12/2019       13\n",
       "01/2001        5\n",
       "07/2018        5\n",
       "10/2018        5\n",
       "11/2018        4\n",
       "03/2018        2\n",
       "12/2018        2\n",
       "09/2018        2\n",
       "06/2016        2\n",
       "08/2018        2\n",
       "07/2022        2\n",
       "04/2017        2\n",
       "03/2023        2\n",
       "02/2023        2\n",
       "05/2018        2\n",
       "05/2014        1\n",
       "02/2017        1\n",
       "04/2016        1\n",
       "01/2018        1\n",
       "06/2018        1\n",
       "05/2017        1\n",
       "07/2017        1\n",
       "12/2017        1\n",
       "01/2023        1\n",
       "01/1921        1\n",
       "11/2022        1\n",
       "03/2017        1\n",
       "Name: Next Inspection, dtype: int64"
      ]
     },
     "execution_count": 221,
     "metadata": {},
     "output_type": "execute_result"
    }
   ],
   "source": [
    "df[\"Next Inspection\"].str[0].str.strip().value_counts(dropna=False)"
   ]
  },
  {
   "cell_type": "code",
   "execution_count": 222,
   "metadata": {},
   "outputs": [],
   "source": [
    "df[\"next_inspection\"] = df[\"Next Inspection\"].str[0].str.strip()"
   ]
  },
  {
   "cell_type": "code",
   "execution_count": 223,
   "metadata": {
    "scrolled": true
   },
   "outputs": [
    {
     "data": {
      "text/plain": [
       "NaT           13094\n",
       "2021-06-01      437\n",
       "2021-03-01      172\n",
       "2021-05-01      153\n",
       "2021-02-01      149\n",
       "2021-04-01      142\n",
       "2021-01-01      117\n",
       "2022-05-01      116\n",
       "2022-02-01       96\n",
       "2020-03-01       88\n",
       "2022-03-01       85\n",
       "2022-04-01       82\n",
       "2022-01-01       75\n",
       "2021-07-01       60\n",
       "2021-08-01       59\n",
       "2020-02-01       56\n",
       "2020-04-01       52\n",
       "2020-06-01       50\n",
       "2020-05-01       50\n",
       "2020-01-01       48\n",
       "2021-11-01       47\n",
       "2020-12-01       47\n",
       "2020-11-01       46\n",
       "2019-04-01       37\n",
       "2020-07-01       35\n",
       "2020-10-01       35\n",
       "2019-06-01       33\n",
       "2019-09-01       32\n",
       "2019-07-01       30\n",
       "2019-11-01       29\n",
       "2021-09-01       29\n",
       "2020-08-01       29\n",
       "2019-10-01       28\n",
       "2019-03-01       28\n",
       "2019-05-01       27\n",
       "2019-01-01       27\n",
       "2019-02-01       27\n",
       "2022-06-01       26\n",
       "2019-08-01       25\n",
       "2020-09-01       21\n",
       "2021-12-01       20\n",
       "2021-10-01       16\n",
       "2019-12-01       13\n",
       "2001-01-01        5\n",
       "2018-07-01        5\n",
       "2018-10-01        5\n",
       "2018-11-01        4\n",
       "2018-03-01        2\n",
       "2018-12-01        2\n",
       "2018-09-01        2\n",
       "2016-06-01        2\n",
       "2018-08-01        2\n",
       "2022-07-01        2\n",
       "2017-04-01        2\n",
       "2023-03-01        2\n",
       "2023-02-01        2\n",
       "2018-05-01        2\n",
       "2014-05-01        1\n",
       "2017-02-01        1\n",
       "2016-04-01        1\n",
       "2018-01-01        1\n",
       "2018-06-01        1\n",
       "2017-05-01        1\n",
       "2017-07-01        1\n",
       "2017-12-01        1\n",
       "2023-01-01        1\n",
       "1921-01-01        1\n",
       "2022-11-01        1\n",
       "2017-03-01        1\n",
       "Name: next_inspection, dtype: int64"
      ]
     },
     "execution_count": 223,
     "metadata": {},
     "output_type": "execute_result"
    }
   ],
   "source": [
    "df[\"next_inspection\"] = pd.to_datetime(df[\"next_inspection\"])\n",
    "df[\"next_inspection\"].value_counts(dropna=False)"
   ]
  },
  {
   "cell_type": "code",
   "execution_count": 224,
   "metadata": {},
   "outputs": [],
   "source": [
    "df.drop(columns=\"Next Inspection\", inplace=True)"
   ]
  },
  {
   "cell_type": "markdown",
   "metadata": {},
   "source": [
    "## short_description"
   ]
  },
  {
   "cell_type": "code",
   "execution_count": 225,
   "metadata": {},
   "outputs": [
    {
     "data": {
      "text/plain": [
       "SPB 1.6 TDI 116 CV S tronic Sport                 64\n",
       "NaN                                               46\n",
       "1.4 66kW (90CV) Selective                         40\n",
       "MOVE KLIMA CD USB ALLWETTER BLUETOOTH             38\n",
       "SPB 30 TDI S tronic Business                      35\n",
       "                                                  ..\n",
       "K Sports Tourer Business **Navi*Voll**             1\n",
       "1.0 Turbo ecoFLEX Automatic Elective Park Navi     1\n",
       "1.6 CDTI Business *Navi*Automatik*Spurh.*          1\n",
       "1.6 136 CV Automatica Navi E 6 Garanzia Full       1\n",
       "TCe 225 EDC GPF LIM Deluxe Pano,RFK                1\n",
       "Name: short_description, Length: 10002, dtype: int64"
      ]
     },
     "execution_count": 225,
     "metadata": {},
     "output_type": "execute_result"
    }
   ],
   "source": [
    "df.short_description.value_counts(dropna=False)"
   ]
  },
  {
   "cell_type": "code",
   "execution_count": 226,
   "metadata": {
    "scrolled": true
   },
   "outputs": [
    {
     "data": {
      "text/plain": [
       "13776                             INTENS ENERGY TCe 120 EDC\n",
       "10265                                 1,4 Ecotec Cool&Sound\n",
       "62                                 1.0 TFSI ultra Sportback\n",
       "2878     Sportback 1.6 TDI Attraction S-Tronic*Navi*Xe Attr\n",
       "2734           1600 TDI SPB S TRONIC NAVI XENO \"17 ITALIANA\n",
       "645                 Sportback 1.0 TFSI, Navigation, Keyless\n",
       "553                    1.4TDi 90 **NAVI-CRUISE-PDC-EURO 6**\n",
       "928       Sportback 1.0TFSI Ultra SitzH KlimaA Licht&RegenS\n",
       "4297                    Sportback 1.4 TFSI 125CV Attraction\n",
       "6508     J 1.6 CDTI Sports Tourer Edition Navi Parksensoren\n",
       "4317              III (2) BERLINE 1.6 TDI 110 BUSINESS LINE\n",
       "15735    BUSINESS Edition BLUE dCi 160 EDC LED Navi Keyless\n",
       "5101                   30 TFSi S-Tronic Sport + GPS + Xenon\n",
       "12548                  Sports Tourer 1.5 Turbo Exclusive AT\n",
       "12443                    1.6T INNOVATION Navi, Kamera, BOSE\n",
       "11304               B ST Inno. 2.0 CDTI*Navi*LED*Teilleder*\n",
       "11484    B Sports Tourer 2.0 Diesel Aut. Edition*ACC*MATRIX\n",
       "11716                  1.6 CDTi 100kW S&S TURBO D Selective\n",
       "1000                            SPB 1.6 TDI 116 CV S tronic\n",
       "3630                             SPB 2.0 TDI S tronic Sport\n",
       "8081             K ST 1.4 Innovation*Navi*AGR*SHZ*LHZ* 4tkm\n",
       "3960                Autom. Limousine Design XENON 17Z NAVI!\n",
       "12057                  INNOVATION Grand Sport mit Automatik\n",
       "9294                        \"1 4 66kW (90CV) Color Edition\"\n",
       "8456                                   1.4 Automatik Active\n",
       "3218      Sportback 1.6 TDI 110pk Ultra -NAVI-AIRCO-CRUISE-\n",
       "10194                               Selection, 3-Türer 1.2,\n",
       "13424                               van 1.5 dci 75cv S&S E6\n",
       "12216                    ST 1.5 Inno. LED,Navi,Kamera uvm..\n",
       "9746                              1.4 Selective 66kW (90CV)\n",
       "5995      1,0 Turbo ecoflex Dir. Inj. Edition Easytr. St./S\n",
       "1317         Sportback 1.0 TFSI Sport Sportsitze Sitzh. PDC\n",
       "2875           SPB Admired S-line s-tronic 1.6 Diesel 110CV\n",
       "15483       TCe 225CV EDC Business , NUOVA DA IMMATRICOLARE\n",
       "1721                         Sportback 1.4 TDI Adrenalin 90\n",
       "4741               Sportback Basis MJ19 (D9) 30 TDI (Promo)\n",
       "1823              Sportback S-line Exterieur-Paket Navi PDC\n",
       "3516                                       2.0 Tdi Ambition\n",
       "7152                         K Lim. 1.4 Turbo AT Start/Stop\n",
       "1728     Sportback 1.4 TDI Design NAVI XENON PDC 16 GRA MED\n",
       "4849     Limousine 1.0TFSI Sport Xen Navi AHK EinparkH Temp\n",
       "877                                       Dsl 1.4 TDi ultra\n",
       "13736                        1.5dCi eco2 Energy Business 75\n",
       "3036                     1.6 TDI CD Advanced 81 kW (110 CV)\n",
       "4930               Sportback 1.5 TSI /XENON/Bluetooth /NAVI\n",
       "8209              ST 1,4 Turbo Direct Injection Edition S/S\n",
       "13633                          IV SOCIETE DCI 75 ENERGY AIR\n",
       "15363                         Renault Intens ENERGY dCi 130\n",
       "10920               2.0 CDTi Country Tourer Navi/Leder/Xeno\n",
       "5202         SB sport 30 TFSI S tr. XENON PDC HINTEN SITZHZ\n",
       "Name: short_description, dtype: object"
      ]
     },
     "execution_count": 226,
     "metadata": {},
     "output_type": "execute_result"
    }
   ],
   "source": [
    "df.short_description.sample(50)"
   ]
  },
  {
   "cell_type": "code",
   "execution_count": 227,
   "metadata": {},
   "outputs": [
    {
     "data": {
      "text/plain": [
       "NaN    5164\n",
       "1.6    3890\n",
       "1.4    2531\n",
       "1.0    1321\n",
       "1.2     953\n",
       "2.0     886\n",
       "1.5     883\n",
       "1.3     135\n",
       "1.8      59\n",
       "0.9      49\n",
       "4.0      22\n",
       "2.5      19\n",
       "1.1       3\n",
       "1.7       3\n",
       "2.8       1\n",
       "dtype: int64"
      ]
     },
     "execution_count": 227,
     "metadata": {},
     "output_type": "execute_result"
    }
   ],
   "source": [
    "df['short_description'].str.extract('\\D*([0-9]{1}\\.\\d{1})[\\D ]').value_counts(dropna=False)"
   ]
  },
  {
   "cell_type": "markdown",
   "metadata": {},
   "source": [
    "## cc_from_description"
   ]
  },
  {
   "cell_type": "code",
   "execution_count": 228,
   "metadata": {},
   "outputs": [],
   "source": [
    "df['cc_from_description'] = df['short_description'].str.extract('\\D*([0-3]{1}\\.\\d{1})[\\D ]')"
   ]
  },
  {
   "cell_type": "code",
   "execution_count": 229,
   "metadata": {},
   "outputs": [
    {
     "data": {
      "text/html": [
       "<div>\n",
       "<style scoped>\n",
       "    .dataframe tbody tr th:only-of-type {\n",
       "        vertical-align: middle;\n",
       "    }\n",
       "\n",
       "    .dataframe tbody tr th {\n",
       "        vertical-align: top;\n",
       "    }\n",
       "\n",
       "    .dataframe thead th {\n",
       "        text-align: right;\n",
       "    }\n",
       "</style>\n",
       "<table border=\"1\" class=\"dataframe\">\n",
       "  <thead>\n",
       "    <tr style=\"text-align: right;\">\n",
       "      <th></th>\n",
       "      <th>make_model</th>\n",
       "      <th>short_description</th>\n",
       "      <th>body_type</th>\n",
       "      <th>price</th>\n",
       "      <th>vat</th>\n",
       "      <th>km</th>\n",
       "      <th>registration</th>\n",
       "      <th>prev_owner</th>\n",
       "      <th>Consumption</th>\n",
       "      <th>make</th>\n",
       "      <th>hp_kW</th>\n",
       "      <th>used_new</th>\n",
       "      <th>fuel_type</th>\n",
       "      <th>upholstery_kind</th>\n",
       "      <th>upholstery_color</th>\n",
       "      <th>door_count</th>\n",
       "      <th>seat_count</th>\n",
       "      <th>auto_manuel</th>\n",
       "      <th>displacement_cc</th>\n",
       "      <th>consumption_comb</th>\n",
       "      <th>co2_emission</th>\n",
       "      <th>comfort</th>\n",
       "      <th>digi_media</th>\n",
       "      <th>extra</th>\n",
       "      <th>safety</th>\n",
       "      <th>gears</th>\n",
       "      <th>warranty</th>\n",
       "      <th>cylinders</th>\n",
       "      <th>paint_type</th>\n",
       "      <th>drive_chain</th>\n",
       "      <th>weight_kg</th>\n",
       "      <th>country_ver</th>\n",
       "      <th>model_code</th>\n",
       "      <th>Emission_Label</th>\n",
       "      <th>new_inspection</th>\n",
       "      <th>next_inspection</th>\n",
       "      <th>cc_from_description</th>\n",
       "    </tr>\n",
       "  </thead>\n",
       "  <tbody>\n",
       "    <tr>\n",
       "      <th>0</th>\n",
       "      <td>Audi A1</td>\n",
       "      <td>Sportback 1.4 TDI S-tronic Xenon Navi Klima</td>\n",
       "      <td>Sedans</td>\n",
       "      <td>15770</td>\n",
       "      <td>VAT deductible</td>\n",
       "      <td>56013</td>\n",
       "      <td>2016-01-01</td>\n",
       "      <td>2</td>\n",
       "      <td>[[3.8 l/100 km (comb)], [4.3 l/100 km (city)], [3.5 l/100 km (country)]]</td>\n",
       "      <td>Audi</td>\n",
       "      <td>66</td>\n",
       "      <td>Used</td>\n",
       "      <td>Diesel (Particulate Filter)</td>\n",
       "      <td>Cloth</td>\n",
       "      <td>Black</td>\n",
       "      <td>5</td>\n",
       "      <td>5</td>\n",
       "      <td>Automatic</td>\n",
       "      <td>1422</td>\n",
       "      <td>3.8</td>\n",
       "      <td>99</td>\n",
       "      <td>Air conditioning,Armrest,Automatic climate control,Cruise control,Electrical side mirrors,Hill Holder,Leather steering wheel,Light sensor,Multi-function steering wheel,Navigation system,Park Distance Control,Parking assist system sensors rear,Power windows,Rain sensor,Seat heating,Start-stop system</td>\n",
       "      <td>Bluetooth,Hands-free equipment,On-board computer,Radio</td>\n",
       "      <td>Alloy wheels,Catalytic Converter,Voice Control</td>\n",
       "      <td>ABS,Central door lock,Daytime running lights,Driver-side airbag,Electronic stability control,Fog lights,Immobilizer,Isofix,Passenger-side airbag,Power steering,Side airbag,Tire pressure monitoring system,Traction control,Xenon headlights</td>\n",
       "      <td>NaN</td>\n",
       "      <td>NaN</td>\n",
       "      <td>3</td>\n",
       "      <td>Metallic</td>\n",
       "      <td>front</td>\n",
       "      <td>1220</td>\n",
       "      <td>NaN</td>\n",
       "      <td>0588/BDF</td>\n",
       "      <td>NaN</td>\n",
       "      <td>Yes</td>\n",
       "      <td>2021-06-01</td>\n",
       "      <td>1.4</td>\n",
       "    </tr>\n",
       "    <tr>\n",
       "      <th>1</th>\n",
       "      <td>Audi A1</td>\n",
       "      <td>1.8 TFSI sport</td>\n",
       "      <td>Sedans</td>\n",
       "      <td>14500</td>\n",
       "      <td>Price negotiable</td>\n",
       "      <td>80000</td>\n",
       "      <td>2017-03-01</td>\n",
       "      <td>None</td>\n",
       "      <td>[[5.6 l/100 km (comb)], [7.1 l/100 km (city)], [4.7 l/100 km (country)]]</td>\n",
       "      <td>Audi</td>\n",
       "      <td>141</td>\n",
       "      <td>Used</td>\n",
       "      <td>Gasoline</td>\n",
       "      <td>Cloth</td>\n",
       "      <td>Grey</td>\n",
       "      <td>3</td>\n",
       "      <td>4</td>\n",
       "      <td>Automatic</td>\n",
       "      <td>1798</td>\n",
       "      <td>5.6</td>\n",
       "      <td>129</td>\n",
       "      <td>Air conditioning,Automatic climate control,Hill Holder,Leather steering wheel,Lumbar support,Parking assist system sensors rear,Power windows,Start-stop system,Tinted windows</td>\n",
       "      <td>Bluetooth,Hands-free equipment,On-board computer,Radio,Sound system</td>\n",
       "      <td>Alloy wheels,Sport seats,Sport suspension,Voice Control</td>\n",
       "      <td>ABS,Central door lock,Central door lock with remote control,Daytime running lights,Driver-side airbag,Electronic stability control,Head airbag,Immobilizer,Isofix,Passenger-side airbag,Power steering,Side airbag,Tire pressure monitoring system,Traction control,Xenon headlights</td>\n",
       "      <td>7</td>\n",
       "      <td>NaN</td>\n",
       "      <td>4</td>\n",
       "      <td>NaN</td>\n",
       "      <td>front</td>\n",
       "      <td>1255</td>\n",
       "      <td>NaN</td>\n",
       "      <td>0588/BCY</td>\n",
       "      <td>4 (Green)</td>\n",
       "      <td>NaN</td>\n",
       "      <td>NaT</td>\n",
       "      <td>1.8</td>\n",
       "    </tr>\n",
       "    <tr>\n",
       "      <th>2</th>\n",
       "      <td>Audi A1</td>\n",
       "      <td>Sportback 1.6 TDI S tronic Einparkhilfe plus+music</td>\n",
       "      <td>Sedans</td>\n",
       "      <td>14640</td>\n",
       "      <td>VAT deductible</td>\n",
       "      <td>83450</td>\n",
       "      <td>2016-02-01</td>\n",
       "      <td>1</td>\n",
       "      <td>[[3.8 l/100 km (comb)], [4.4 l/100 km (city)], [3.4 l/100 km (country)]]</td>\n",
       "      <td>Audi</td>\n",
       "      <td>85</td>\n",
       "      <td>Used</td>\n",
       "      <td>Diesel (Particulate Filter)</td>\n",
       "      <td>Cloth</td>\n",
       "      <td>Black</td>\n",
       "      <td>4</td>\n",
       "      <td>4</td>\n",
       "      <td>Automatic</td>\n",
       "      <td>1598</td>\n",
       "      <td>3.8</td>\n",
       "      <td>99</td>\n",
       "      <td>Air conditioning,Cruise control,Electrical side mirrors,Hill Holder,Leather steering wheel,Multi-function steering wheel,Navigation system,Park Distance Control,Parking assist system sensors front,Parking assist system sensors rear,Power windows,Seat heating,Start-stop system</td>\n",
       "      <td>MP3,On-board computer</td>\n",
       "      <td>Alloy wheels,Voice Control</td>\n",
       "      <td>ABS,Central door lock,Daytime running lights,Driver-side airbag,Electronic stability control,Immobilizer,Isofix,Passenger-side airbag,Power steering,Side airbag,Tire pressure monitoring system,Traction control</td>\n",
       "      <td>NaN</td>\n",
       "      <td>NaN</td>\n",
       "      <td>NaN</td>\n",
       "      <td>Metallic</td>\n",
       "      <td>front</td>\n",
       "      <td>NaN</td>\n",
       "      <td>NaN</td>\n",
       "      <td>NaN</td>\n",
       "      <td>4 (Green)</td>\n",
       "      <td>NaN</td>\n",
       "      <td>NaT</td>\n",
       "      <td>1.6</td>\n",
       "    </tr>\n",
       "  </tbody>\n",
       "</table>\n",
       "</div>"
      ],
      "text/plain": [
       "  make_model                                   short_description body_type  price               vat     km registration prev_owner                                                               Consumption  make hp_kW used_new                    fuel_type upholstery_kind upholstery_color door_count seat_count auto_manuel displacement_cc consumption_comb co2_emission                                                                                                                                                                                                                                                                                                      comfort                                                           digi_media                                                    extra                                                                                                                                                                                                                                                                                safety gears warranty cylinders paint_type drive_chain weight_kg country_ver model_code Emission_Label new_inspection next_inspection cc_from_description\n",
       "0    Audi A1         Sportback 1.4 TDI S-tronic Xenon Navi Klima    Sedans  15770    VAT deductible  56013   2016-01-01          2  [[3.8 l/100 km (comb)], [4.3 l/100 km (city)], [3.5 l/100 km (country)]]  Audi    66     Used  Diesel (Particulate Filter)           Cloth            Black          5          5   Automatic            1422              3.8           99  Air conditioning,Armrest,Automatic climate control,Cruise control,Electrical side mirrors,Hill Holder,Leather steering wheel,Light sensor,Multi-function steering wheel,Navigation system,Park Distance Control,Parking assist system sensors rear,Power windows,Rain sensor,Seat heating,Start-stop system               Bluetooth,Hands-free equipment,On-board computer,Radio           Alloy wheels,Catalytic Converter,Voice Control                                         ABS,Central door lock,Daytime running lights,Driver-side airbag,Electronic stability control,Fog lights,Immobilizer,Isofix,Passenger-side airbag,Power steering,Side airbag,Tire pressure monitoring system,Traction control,Xenon headlights   NaN      NaN         3   Metallic       front      1220         NaN   0588/BDF            NaN            Yes      2021-06-01                 1.4\n",
       "1    Audi A1                                      1.8 TFSI sport    Sedans  14500  Price negotiable  80000   2017-03-01       None  [[5.6 l/100 km (comb)], [7.1 l/100 km (city)], [4.7 l/100 km (country)]]  Audi   141     Used                     Gasoline           Cloth             Grey          3          4   Automatic            1798              5.6          129                                                                                                                               Air conditioning,Automatic climate control,Hill Holder,Leather steering wheel,Lumbar support,Parking assist system sensors rear,Power windows,Start-stop system,Tinted windows  Bluetooth,Hands-free equipment,On-board computer,Radio,Sound system  Alloy wheels,Sport seats,Sport suspension,Voice Control  ABS,Central door lock,Central door lock with remote control,Daytime running lights,Driver-side airbag,Electronic stability control,Head airbag,Immobilizer,Isofix,Passenger-side airbag,Power steering,Side airbag,Tire pressure monitoring system,Traction control,Xenon headlights     7      NaN         4        NaN       front      1255         NaN   0588/BCY      4 (Green)            NaN             NaT                 1.8\n",
       "2    Audi A1  Sportback 1.6 TDI S tronic Einparkhilfe plus+music    Sedans  14640    VAT deductible  83450   2016-02-01          1  [[3.8 l/100 km (comb)], [4.4 l/100 km (city)], [3.4 l/100 km (country)]]  Audi    85     Used  Diesel (Particulate Filter)           Cloth            Black          4          4   Automatic            1598              3.8           99                         Air conditioning,Cruise control,Electrical side mirrors,Hill Holder,Leather steering wheel,Multi-function steering wheel,Navigation system,Park Distance Control,Parking assist system sensors front,Parking assist system sensors rear,Power windows,Seat heating,Start-stop system                                                MP3,On-board computer                               Alloy wheels,Voice Control                                                                     ABS,Central door lock,Daytime running lights,Driver-side airbag,Electronic stability control,Immobilizer,Isofix,Passenger-side airbag,Power steering,Side airbag,Tire pressure monitoring system,Traction control   NaN      NaN       NaN   Metallic       front       NaN         NaN        NaN      4 (Green)            NaN             NaT                 1.6"
      ]
     },
     "execution_count": 229,
     "metadata": {},
     "output_type": "execute_result"
    }
   ],
   "source": [
    "df.head(3)"
   ]
  },
  {
   "cell_type": "code",
   "execution_count": 230,
   "metadata": {},
   "outputs": [],
   "source": [
    "df.to_csv(\"scout_clean.csv\", index=False)"
   ]
  }
 ],
 "metadata": {
  "colab": {
   "name": "DAwPy-Capstone_Project_(AutoScout)_Student.ipynb",
   "provenance": []
  },
  "kernelspec": {
   "display_name": "Python 3 (ipykernel)",
   "language": "python",
   "name": "python3"
  },
  "language_info": {
   "codemirror_mode": {
    "name": "ipython",
    "version": 3
   },
   "file_extension": ".py",
   "mimetype": "text/x-python",
   "name": "python",
   "nbconvert_exporter": "python",
   "pygments_lexer": "ipython3",
   "version": "3.9.7"
  }
 },
 "nbformat": 4,
 "nbformat_minor": 1
}
