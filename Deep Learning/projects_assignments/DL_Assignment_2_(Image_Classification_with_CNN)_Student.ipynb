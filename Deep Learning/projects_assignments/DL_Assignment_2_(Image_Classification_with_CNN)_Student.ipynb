{
  "cells": [
    {
      "cell_type": "markdown",
      "metadata": {
        "id": "t-2WmYTriNxg"
      },
      "source": [
        "___\n",
        "\n",
        "<p style=\"text-align: center;\"><img src=\"https://docs.google.com/uc?id=1lY0Uj5R04yMY3-ZppPWxqCr5pvBLYPnV\" class=\"img-fluid\" alt=\"CLRSWY\"></p>\n",
        "\n",
        "___"
      ]
    },
    {
      "cell_type": "markdown",
      "metadata": {
        "id": "ED-G6xRxiNxi"
      },
      "source": [
        "<h1 style=\"text-align: center;\">Deep Learning<br><br>Assignment-2 (CNN)<br><br>Image Classification with CNN<br><h1>"
      ]
    },
    {
      "cell_type": "markdown",
      "metadata": {
        "id": "NbnNOOrDiNxj"
      },
      "source": [
        "# Task and Dataset Info\n",
        "\n",
        "Welcome to second assignment of Deep learning lesson. Follow the instructions and complete the assignment.\n",
        "\n",
        "**Build an image classifier with Convolutional Neural Networks for the Fashion MNIST dataset. This data set includes 10 labels of different clothing types with 28 by 28 *grayscale* images. There is a training set of 60,000 images and 10,000 test images.**\n",
        "\n",
        "    Label\tDescription\n",
        "    0\t    T-shirt/top\n",
        "    1\t    Trouser\n",
        "    2\t    Pullover\n",
        "    3\t    Dress\n",
        "    4\t    Coat\n",
        "    5\t    Sandal\n",
        "    6\t    Shirt\n",
        "    7\t    Sneaker\n",
        "    8\t    Bag\n",
        "    9\t    Ankle boot"
      ]
    },
    {
      "cell_type": "markdown",
      "metadata": {
        "id": "5w78qBAKiNxk"
      },
      "source": [
        "# Import Libraries"
      ]
    },
    {
      "cell_type": "code",
      "execution_count": 1,
      "metadata": {
        "execution": {
          "iopub.execute_input": "2022-10-11T09:37:52.983438Z",
          "iopub.status.busy": "2022-10-11T09:37:52.983056Z",
          "iopub.status.idle": "2022-10-11T09:37:53.871141Z",
          "shell.execute_reply": "2022-10-11T09:37:53.870575Z",
          "shell.execute_reply.started": "2022-10-11T09:37:52.983306Z"
        },
        "id": "l1989p2PiNxk"
      },
      "outputs": [],
      "source": [
        "import os\n",
        "import numpy as np\n",
        "import pandas as pd\n",
        "import matplotlib.pyplot as plt\n",
        "import seaborn as sns\n",
        "from matplotlib.image import imread\n",
        "\n",
        "#import warnings\n",
        "#warnings.filterwarnings(\"ignore\")\n",
        "#warnings.warn(\"this will not show\")\n",
        "\n",
        "plt.rcParams[\"figure.figsize\"] = (10,6)\n",
        "\n",
        "sns.set_style(\"whitegrid\")\n",
        "pd.set_option('display.float_format', lambda x: '%.3f' % x)\n",
        "\n",
        "# Set it None to display all rows in the dataframe\n",
        "# pd.set_option('display.max_rows', None)\n",
        "\n",
        "# Set it to None to display all columns in the dataframe\n",
        "pd.set_option('display.max_columns', None)"
      ]
    },
    {
      "cell_type": "markdown",
      "metadata": {
        "id": "UgOwuTt_iNxl"
      },
      "source": [
        "# Recognizing and Understanding Data\n",
        "\n",
        "**TASK 1: Run the code below to download the dataset using Keras.**"
      ]
    },
    {
      "cell_type": "code",
      "execution_count": 2,
      "metadata": {
        "execution": {
          "iopub.execute_input": "2022-10-11T09:37:53.871955Z",
          "iopub.status.busy": "2022-10-11T09:37:53.871821Z",
          "iopub.status.idle": "2022-10-11T09:37:55.271602Z",
          "shell.execute_reply": "2022-10-11T09:37:55.271028Z",
          "shell.execute_reply.started": "2022-10-11T09:37:53.871928Z"
        },
        "id": "RkAsWdc5iNxm"
      },
      "outputs": [],
      "source": [
        "from tensorflow.keras.datasets import fashion_mnist\n",
        "\n",
        "(X_train, y_train), (X_test, y_test) = fashion_mnist.load_data()"
      ]
    },
    {
      "cell_type": "code",
      "execution_count": 3,
      "metadata": {
        "execution": {
          "iopub.execute_input": "2022-10-11T09:38:08.443012Z",
          "iopub.status.busy": "2022-10-11T09:38:08.442407Z",
          "iopub.status.idle": "2022-10-11T09:38:08.453175Z",
          "shell.execute_reply": "2022-10-11T09:38:08.452537Z",
          "shell.execute_reply.started": "2022-10-11T09:38:08.442940Z"
        },
        "tags": [],
        "colab": {
          "base_uri": "https://localhost:8080/"
        },
        "id": "dCEWAR0OiNxn",
        "outputId": "5d923acf-931c-496d-e4bd-4ae1a6da49c8"
      },
      "outputs": [
        {
          "output_type": "execute_result",
          "data": {
            "text/plain": [
              "(10000, 28, 28)"
            ]
          },
          "metadata": {},
          "execution_count": 3
        }
      ],
      "source": [
        "X_test.shape"
      ]
    },
    {
      "cell_type": "code",
      "execution_count": 4,
      "metadata": {
        "execution": {
          "iopub.execute_input": "2022-10-11T09:38:14.021422Z",
          "iopub.status.busy": "2022-10-11T09:38:14.020556Z",
          "iopub.status.idle": "2022-10-11T09:38:14.027637Z",
          "shell.execute_reply": "2022-10-11T09:38:14.026691Z",
          "shell.execute_reply.started": "2022-10-11T09:38:14.021375Z"
        },
        "tags": [],
        "colab": {
          "base_uri": "https://localhost:8080/"
        },
        "id": "z6IL6asDiNxn",
        "outputId": "9181f2fc-6a24-4420-f4c5-a91453a20e68"
      },
      "outputs": [
        {
          "output_type": "execute_result",
          "data": {
            "text/plain": [
              "(60000, 28, 28)"
            ]
          },
          "metadata": {},
          "execution_count": 4
        }
      ],
      "source": [
        "X_train.shape"
      ]
    },
    {
      "cell_type": "markdown",
      "metadata": {
        "id": "pWoLw4uGiNxo"
      },
      "source": [
        "**TASK 2: Use matplotlib to view an image from the data set. It can be any image from the data set.**"
      ]
    },
    {
      "cell_type": "code",
      "execution_count": 5,
      "metadata": {
        "execution": {
          "iopub.execute_input": "2022-10-11T09:38:16.268931Z",
          "iopub.status.busy": "2022-10-11T09:38:16.268632Z",
          "iopub.status.idle": "2022-10-11T09:38:16.272833Z",
          "shell.execute_reply": "2022-10-11T09:38:16.272057Z",
          "shell.execute_reply.started": "2022-10-11T09:38:16.268908Z"
        },
        "tags": [],
        "id": "Mex_XkFmiNxo"
      },
      "outputs": [],
      "source": [
        "classes=[\"T-shirt/top\", \"Trouser\",\"Pullover\",\"Dress\",\"Coat\",\"Sandal\",\"Shirt\",\"Sneaker\",\"Bag\",\"Ankle boot\"]"
      ]
    },
    {
      "cell_type": "code",
      "execution_count": 6,
      "metadata": {
        "execution": {
          "iopub.execute_input": "2022-10-11T09:38:16.980974Z",
          "iopub.status.busy": "2022-10-11T09:38:16.980786Z",
          "iopub.status.idle": "2022-10-11T09:38:16.984795Z",
          "shell.execute_reply": "2022-10-11T09:38:16.984285Z",
          "shell.execute_reply.started": "2022-10-11T09:38:16.980944Z"
        },
        "tags": [],
        "colab": {
          "base_uri": "https://localhost:8080/"
        },
        "id": "mprK9dM2iNxo",
        "outputId": "eaca8045-c1d7-49c5-ca91-2db7508fc0b3"
      },
      "outputs": [
        {
          "output_type": "execute_result",
          "data": {
            "text/plain": [
              "10000"
            ]
          },
          "metadata": {},
          "execution_count": 6
        }
      ],
      "source": [
        "X_test.shape[0]"
      ]
    },
    {
      "cell_type": "code",
      "execution_count": 7,
      "metadata": {
        "execution": {
          "iopub.execute_input": "2022-10-11T09:38:22.170192Z",
          "iopub.status.busy": "2022-10-11T09:38:22.169307Z",
          "iopub.status.idle": "2022-10-11T09:38:22.320369Z",
          "shell.execute_reply": "2022-10-11T09:38:22.319865Z",
          "shell.execute_reply.started": "2022-10-11T09:38:22.170117Z"
        },
        "tags": [],
        "colab": {
          "base_uri": "https://localhost:8080/",
          "height": 391
        },
        "id": "ptGa5OpPiNxp",
        "outputId": "dcbf5392-8f43-4858-8691-8b4d0f554c9a"
      },
      "outputs": [
        {
          "output_type": "execute_result",
          "data": {
            "text/plain": [
              "<matplotlib.image.AxesImage at 0x7ff7f826a890>"
            ]
          },
          "metadata": {},
          "execution_count": 7
        },
        {
          "output_type": "display_data",
          "data": {
            "text/plain": [
              "<Figure size 720x432 with 1 Axes>"
            ],
            "image/png": "[encoded data removed]"
          },
          "metadata": {}
        }
      ],
      "source": [
        "plt.imshow(X_test[0])"
      ]
    },
    {
      "cell_type": "code",
      "execution_count": 8,
      "metadata": {
        "execution": {
          "iopub.execute_input": "2022-10-11T09:38:26.043582Z",
          "iopub.status.busy": "2022-10-11T09:38:26.043386Z",
          "iopub.status.idle": "2022-10-11T09:38:26.046533Z",
          "shell.execute_reply": "2022-10-11T09:38:26.046124Z",
          "shell.execute_reply.started": "2022-10-11T09:38:26.043540Z"
        },
        "tags": [],
        "id": "DTlJduYCiNxp"
      },
      "outputs": [],
      "source": [
        "import random"
      ]
    },
    {
      "cell_type": "code",
      "execution_count": 9,
      "metadata": {
        "execution": {
          "iopub.execute_input": "2022-10-11T09:38:26.693418Z",
          "iopub.status.busy": "2022-10-11T09:38:26.693274Z",
          "iopub.status.idle": "2022-10-11T09:38:26.811618Z",
          "shell.execute_reply": "2022-10-11T09:38:26.811160Z",
          "shell.execute_reply.started": "2022-10-11T09:38:26.693401Z"
        },
        "tags": [],
        "colab": {
          "base_uri": "https://localhost:8080/",
          "height": 391
        },
        "id": "xENQXtPtiNxp",
        "outputId": "fb0468c1-00ee-4819-83a6-a756559ce4fe"
      },
      "outputs": [
        {
          "output_type": "execute_result",
          "data": {
            "text/plain": [
              "<matplotlib.image.AxesImage at 0x7ff7f7d67690>"
            ]
          },
          "metadata": {},
          "execution_count": 9
        },
        {
          "output_type": "display_data",
          "data": {
            "text/plain": [
              "<Figure size 720x432 with 1 Axes>"
            ],
            "image/png": "[encoded data removed]"
          },
          "metadata": {}
        }
      ],
      "source": [
        "random_img = X_test[random.randrange(0, 10001)]\n",
        "plt.imshow(random_img)"
      ]
    },
    {
      "cell_type": "markdown",
      "metadata": {
        "id": "CIcLozUriNxp"
      },
      "source": [
        "# Data Preprocessing\n",
        "\n",
        "**TASK 3: Normalize the X train and X test data by dividing by the max value of the image arrays.**"
      ]
    },
    {
      "cell_type": "code",
      "execution_count": 10,
      "metadata": {
        "execution": {
          "iopub.execute_input": "2022-10-11T09:38:31.211200Z",
          "iopub.status.busy": "2022-10-11T09:38:31.210999Z",
          "iopub.status.idle": "2022-10-11T09:38:31.240963Z",
          "shell.execute_reply": "2022-10-11T09:38:31.240574Z",
          "shell.execute_reply.started": "2022-10-11T09:38:31.211171Z"
        },
        "tags": [],
        "colab": {
          "base_uri": "https://localhost:8080/"
        },
        "id": "gxFrbwVtiNxq",
        "outputId": "ea8a5b72-5bb6-4882-a2d0-a60f08310a32"
      },
      "outputs": [
        {
          "output_type": "execute_result",
          "data": {
            "text/plain": [
              "255"
            ]
          },
          "metadata": {},
          "execution_count": 10
        }
      ],
      "source": [
        "X_train.max()"
      ]
    },
    {
      "cell_type": "code",
      "execution_count": 11,
      "metadata": {
        "execution": {
          "iopub.execute_input": "2022-10-11T09:38:37.677182Z",
          "iopub.status.busy": "2022-10-11T09:38:37.676641Z",
          "iopub.status.idle": "2022-10-11T09:38:37.761311Z",
          "shell.execute_reply": "2022-10-11T09:38:37.760819Z",
          "shell.execute_reply.started": "2022-10-11T09:38:37.677114Z"
        },
        "tags": [],
        "id": "ykkAyH05iNxq"
      },
      "outputs": [],
      "source": [
        "X_train = X_train/255"
      ]
    },
    {
      "cell_type": "code",
      "execution_count": 12,
      "metadata": {
        "execution": {
          "iopub.execute_input": "2022-10-11T09:38:42.001930Z",
          "iopub.status.busy": "2022-10-11T09:38:42.001375Z",
          "iopub.status.idle": "2022-10-11T09:38:42.016348Z",
          "shell.execute_reply": "2022-10-11T09:38:42.015802Z",
          "shell.execute_reply.started": "2022-10-11T09:38:42.001862Z"
        },
        "tags": [],
        "id": "IRZS4HEZiNxq"
      },
      "outputs": [],
      "source": [
        "X_test = X_test/255"
      ]
    },
    {
      "cell_type": "code",
      "execution_count": 13,
      "metadata": {
        "execution": {
          "iopub.execute_input": "2022-10-11T09:38:42.764511Z",
          "iopub.status.busy": "2022-10-11T09:38:42.764351Z",
          "iopub.status.idle": "2022-10-11T09:38:42.769150Z",
          "shell.execute_reply": "2022-10-11T09:38:42.768582Z",
          "shell.execute_reply.started": "2022-10-11T09:38:42.764493Z"
        },
        "tags": [],
        "colab": {
          "base_uri": "https://localhost:8080/"
        },
        "id": "KQLZUNJKiNxq",
        "outputId": "aaddec0f-c53c-4285-9f74-99b195ef8c1a"
      },
      "outputs": [
        {
          "output_type": "execute_result",
          "data": {
            "text/plain": [
              "(array([9, 2, 1, ..., 8, 1, 5], dtype=uint8),\n",
              " array([9, 0, 0, ..., 3, 0, 5], dtype=uint8))"
            ]
          },
          "metadata": {},
          "execution_count": 13
        }
      ],
      "source": [
        "y_test , y_train"
      ]
    },
    {
      "cell_type": "markdown",
      "metadata": {
        "id": "JDZ-mXu8iNxr"
      },
      "source": [
        "**Task 4: Reshape the X arrays to include a 4 dimension of the single channel. Similar to what we did for the numbers MNIST data set.**"
      ]
    },
    {
      "cell_type": "code",
      "execution_count": 14,
      "metadata": {
        "execution": {
          "iopub.execute_input": "2022-10-11T09:38:47.765273Z",
          "iopub.status.busy": "2022-10-11T09:38:47.765088Z",
          "iopub.status.idle": "2022-10-11T09:38:47.768538Z",
          "shell.execute_reply": "2022-10-11T09:38:47.767934Z",
          "shell.execute_reply.started": "2022-10-11T09:38:47.765258Z"
        },
        "tags": [],
        "id": "xdueMi9hiNxr"
      },
      "outputs": [],
      "source": [
        "X_train = X_train.reshape(X_train.shape[0],28, 28, 1) \n",
        "X_test = X_test.reshape(X_test.shape[0], 28, 28, 1)"
      ]
    },
    {
      "cell_type": "code",
      "execution_count": 15,
      "metadata": {
        "execution": {
          "iopub.execute_input": "2022-10-11T09:38:51.721413Z",
          "iopub.status.busy": "2022-10-11T09:38:51.721022Z",
          "iopub.status.idle": "2022-10-11T09:38:51.730167Z",
          "shell.execute_reply": "2022-10-11T09:38:51.729137Z",
          "shell.execute_reply.started": "2022-10-11T09:38:51.721363Z"
        },
        "tags": [],
        "colab": {
          "base_uri": "https://localhost:8080/"
        },
        "id": "2lSUV0AUiNxr",
        "outputId": "ba780e75-a337-4f0a-d1bd-e77db93811c9"
      },
      "outputs": [
        {
          "output_type": "execute_result",
          "data": {
            "text/plain": [
              "(10000, 28, 28, 1)"
            ]
          },
          "metadata": {},
          "execution_count": 15
        }
      ],
      "source": [
        "X_test.shape"
      ]
    },
    {
      "cell_type": "markdown",
      "metadata": {
        "id": "NNiO7fe5iNxs"
      },
      "source": [
        "**TASK 5: Convert the y_train and y_test values to be one-hot encoded for categorical analysis by Keras.**"
      ]
    },
    {
      "cell_type": "code",
      "execution_count": 16,
      "metadata": {
        "execution": {
          "iopub.execute_input": "2022-10-11T09:45:47.135159Z",
          "iopub.status.busy": "2022-10-11T09:45:47.134699Z",
          "iopub.status.idle": "2022-10-11T09:45:47.138627Z",
          "shell.execute_reply": "2022-10-11T09:45:47.138007Z",
          "shell.execute_reply.started": "2022-10-11T09:45:47.135140Z"
        },
        "id": "U6bMpiV0iNxs"
      },
      "outputs": [],
      "source": [
        "from tensorflow.keras.utils import to_categorical"
      ]
    },
    {
      "cell_type": "code",
      "execution_count": 17,
      "metadata": {
        "execution": {
          "iopub.execute_input": "2022-10-11T09:51:34.536279Z",
          "iopub.status.busy": "2022-10-11T09:51:34.535908Z",
          "iopub.status.idle": "2022-10-11T09:51:34.546368Z",
          "shell.execute_reply": "2022-10-11T09:51:34.545002Z",
          "shell.execute_reply.started": "2022-10-11T09:51:34.536233Z"
        },
        "tags": [],
        "colab": {
          "base_uri": "https://localhost:8080/"
        },
        "id": "GTkJMcr5iNxs",
        "outputId": "6c79efdd-fcbc-43cc-a60f-f67714362e2e"
      },
      "outputs": [
        {
          "output_type": "execute_result",
          "data": {
            "text/plain": [
              "(array([9, 2, 1, ..., 8, 1, 5], dtype=uint8), (10000,))"
            ]
          },
          "metadata": {},
          "execution_count": 17
        }
      ],
      "source": [
        "y_test, y_test.shape"
      ]
    },
    {
      "cell_type": "code",
      "execution_count": 18,
      "metadata": {
        "execution": {
          "iopub.execute_input": "2022-10-11T09:56:11.120797Z",
          "iopub.status.busy": "2022-10-11T09:56:11.118664Z",
          "iopub.status.idle": "2022-10-11T09:56:11.139316Z",
          "shell.execute_reply": "2022-10-11T09:56:11.138418Z",
          "shell.execute_reply.started": "2022-10-11T09:56:11.120674Z"
        },
        "tags": [],
        "colab": {
          "base_uri": "https://localhost:8080/"
        },
        "id": "o7CMc-EFiNxs",
        "outputId": "3cddde1d-b735-4c4b-b99e-fae8b71dcf58"
      },
      "outputs": [
        {
          "output_type": "execute_result",
          "data": {
            "text/plain": [
              "({0, 1, 2, 3, 4, 5, 6, 7, 8, 9}, {0, 1, 2, 3, 4, 5, 6, 7, 8, 9})"
            ]
          },
          "metadata": {},
          "execution_count": 18
        }
      ],
      "source": [
        "set(y_test), set(y_train)"
      ]
    },
    {
      "cell_type": "code",
      "execution_count": 19,
      "metadata": {
        "execution": {
          "iopub.execute_input": "2022-10-11T09:47:28.528750Z",
          "iopub.status.busy": "2022-10-11T09:47:28.528197Z",
          "iopub.status.idle": "2022-10-11T09:47:28.535725Z",
          "shell.execute_reply": "2022-10-11T09:47:28.535236Z",
          "shell.execute_reply.started": "2022-10-11T09:47:28.528680Z"
        },
        "tags": [],
        "colab": {
          "base_uri": "https://localhost:8080/"
        },
        "id": "GJhJG7KMiNxs",
        "outputId": "0ad42781-619a-45e0-c9c8-f8ad10d8486e"
      },
      "outputs": [
        {
          "output_type": "execute_result",
          "data": {
            "text/plain": [
              "['T-shirt/top',\n",
              " 'Trouser',\n",
              " 'Pullover',\n",
              " 'Dress',\n",
              " 'Coat',\n",
              " 'Sandal',\n",
              " 'Shirt',\n",
              " 'Sneaker',\n",
              " 'Bag',\n",
              " 'Ankle boot']"
            ]
          },
          "metadata": {},
          "execution_count": 19
        }
      ],
      "source": [
        "classes"
      ]
    },
    {
      "cell_type": "code",
      "execution_count": 20,
      "metadata": {
        "execution": {
          "iopub.execute_input": "2022-10-11T09:56:46.757674Z",
          "iopub.status.busy": "2022-10-11T09:56:46.757121Z",
          "iopub.status.idle": "2022-10-11T09:56:46.765631Z",
          "shell.execute_reply": "2022-10-11T09:56:46.765076Z",
          "shell.execute_reply.started": "2022-10-11T09:56:46.757604Z"
        },
        "colab": {
          "base_uri": "https://localhost:8080/"
        },
        "id": "gdbtxeKaiNxt",
        "outputId": "5665bb04-f3f2-4799-98e8-055e51078002"
      },
      "outputs": [
        {
          "output_type": "execute_result",
          "data": {
            "text/plain": [
              "(10000, 10)"
            ]
          },
          "metadata": {},
          "execution_count": 20
        }
      ],
      "source": [
        "Y_train = to_categorical(y_train, 10)\n",
        "Y_test = to_categorical(y_test, 10)\n",
        "Y_test.shape"
      ]
    },
    {
      "cell_type": "code",
      "execution_count": 21,
      "metadata": {
        "execution": {
          "iopub.execute_input": "2022-10-11T09:57:15.669302Z",
          "iopub.status.busy": "2022-10-11T09:57:15.668629Z",
          "iopub.status.idle": "2022-10-11T09:57:15.674469Z",
          "shell.execute_reply": "2022-10-11T09:57:15.673826Z",
          "shell.execute_reply.started": "2022-10-11T09:57:15.669224Z"
        },
        "colab": {
          "base_uri": "https://localhost:8080/"
        },
        "id": "H6UEYxlLiNxt",
        "outputId": "9f332151-3cd3-4f51-c582-c9a3f9ae645e"
      },
      "outputs": [
        {
          "output_type": "execute_result",
          "data": {
            "text/plain": [
              "array([0., 0., 0., 0., 0., 0., 0., 0., 0., 1.], dtype=float32)"
            ]
          },
          "metadata": {},
          "execution_count": 21
        }
      ],
      "source": [
        "Y_test[0]"
      ]
    },
    {
      "cell_type": "markdown",
      "metadata": {
        "id": "9IbhnmFpiNxt"
      },
      "source": [
        "# Modeling"
      ]
    },
    {
      "cell_type": "markdown",
      "metadata": {
        "id": "uDhLxA2LiNxt"
      },
      "source": [
        "## Create the model\n",
        "\n",
        "**TASK 5: Use Keras to create a model consisting of at least the following layers (but feel free to experiment):**\n",
        "\n",
        "* 2D Convolutional Layer, filters=28 and kernel_size=(3,3)\n",
        "* Pooling Layer where pool_size = (2,2) strides=(1,1)\n",
        "\n",
        "* Flatten Layer\n",
        "* Dense Layer (128 Neurons, but feel free to play around with this value), RELU activation\n",
        "\n",
        "* Final Dense Layer of 10 Neurons with a softmax activation\n",
        "\n",
        "**Then compile the model with these parameters: loss='categorical_crossentropy', optimizer='rmsprop', metrics=['accuracy']**"
      ]
    },
    {
      "cell_type": "code",
      "execution_count": 22,
      "metadata": {
        "execution": {
          "iopub.execute_input": "2022-10-11T09:59:35.292865Z",
          "iopub.status.busy": "2022-10-11T09:59:35.292672Z",
          "iopub.status.idle": "2022-10-11T09:59:35.296518Z",
          "shell.execute_reply": "2022-10-11T09:59:35.295903Z",
          "shell.execute_reply.started": "2022-10-11T09:59:35.292841Z"
        },
        "tags": [],
        "id": "axYKeQHiiNxt"
      },
      "outputs": [],
      "source": [
        "from tensorflow.keras.models import Sequential\n",
        "from tensorflow.keras.layers import Dense, Conv2D, MaxPool2D, Flatten, Dropout, BatchNormalization"
      ]
    },
    {
      "cell_type": "markdown",
      "metadata": {
        "id": "086TrZwBiNxu"
      },
      "source": [
        "##  Model Training \n",
        "\n",
        "**TASK 6: Train/Fit the model to the x_train set by using EarlyStop. Amount of epochs is up to you.**"
      ]
    },
    {
      "cell_type": "code",
      "execution_count": 23,
      "metadata": {
        "execution": {
          "iopub.execute_input": "2022-10-11T10:06:31.352261Z",
          "iopub.status.busy": "2022-10-11T10:06:31.352061Z",
          "iopub.status.idle": "2022-10-11T10:06:31.408510Z",
          "shell.execute_reply": "2022-10-11T10:06:31.407874Z",
          "shell.execute_reply.started": "2022-10-11T10:06:31.352218Z"
        },
        "tags": [],
        "id": "dk_288xDiNxu"
      },
      "outputs": [],
      "source": [
        "model = Sequential()\n",
        "model.add(Conv2D(filters=28, kernel_size=(3,3), input_shape=(28, 28, 1), activation='relu', padding='same'))\n",
        "model.add(MaxPool2D(pool_size=(2, 2), strides=(1,1)))\n",
        "\n",
        "model.add(Conv2D(filters=28, kernel_size=(3,3), activation='relu', padding='same'))\n",
        "model.add(MaxPool2D(pool_size=(2, 2), strides=(1,1)))\n",
        "\n",
        "\n",
        "model.add(Flatten())\n",
        "model.add(Dense(128, activation='relu')) \n",
        "model.add(Dropout(0.5))\n",
        "model.add(Dense(64, activation='relu'))\n",
        "model.add(Dense(10, activation='softmax'))\n",
        "model.compile(loss='categorical_crossentropy', optimizer='rmsprop', metrics=['accuracy'])"
      ]
    },
    {
      "cell_type": "markdown",
      "metadata": {
        "id": "VsjqYbfZiNxu"
      },
      "source": [
        "**TASK 7: Plot values of metrics you used in your model.**"
      ]
    },
    {
      "cell_type": "code",
      "execution_count": 24,
      "metadata": {
        "execution": {
          "iopub.execute_input": "2022-10-11T10:06:36.767160Z",
          "iopub.status.busy": "2022-10-11T10:06:36.766309Z",
          "iopub.status.idle": "2022-10-11T10:06:36.804643Z",
          "shell.execute_reply": "2022-10-11T10:06:36.804149Z",
          "shell.execute_reply.started": "2022-10-11T10:06:36.767077Z"
        },
        "colab": {
          "base_uri": "https://localhost:8080/"
        },
        "id": "1ekLvf2MiNxu",
        "outputId": "5c9a5b69-3704-4bf6-9c23-66f53b1e213f"
      },
      "outputs": [
        {
          "output_type": "stream",
          "name": "stdout",
          "text": [
            "Model: \"sequential\"\n",
            "_________________________________________________________________\n",
            " Layer (type)                Output Shape              Param #   \n",
            "=================================================================\n",
            " conv2d (Conv2D)             (None, 28, 28, 28)        280       \n",
            "                                                                 \n",
            " max_pooling2d (MaxPooling2D  (None, 27, 27, 28)       0         \n",
            " )                                                               \n",
            "                                                                 \n",
            " conv2d_1 (Conv2D)           (None, 27, 27, 28)        7084      \n",
            "                                                                 \n",
            " max_pooling2d_1 (MaxPooling  (None, 26, 26, 28)       0         \n",
            " 2D)                                                             \n",
            "                                                                 \n",
            " flatten (Flatten)           (None, 18928)             0         \n",
            "                                                                 \n",
            " dense (Dense)               (None, 128)               2422912   \n",
            "                                                                 \n",
            " dropout (Dropout)           (None, 128)               0         \n",
            "                                                                 \n",
            " dense_1 (Dense)             (None, 64)                8256      \n",
            "                                                                 \n",
            " dense_2 (Dense)             (None, 10)                650       \n",
            "                                                                 \n",
            "=================================================================\n",
            "Total params: 2,439,182\n",
            "Trainable params: 2,439,182\n",
            "Non-trainable params: 0\n",
            "_________________________________________________________________\n"
          ]
        }
      ],
      "source": [
        "model.summary()"
      ]
    },
    {
      "cell_type": "code",
      "execution_count": 25,
      "metadata": {
        "execution": {
          "iopub.execute_input": "2022-10-11T10:07:40.155644Z",
          "iopub.status.busy": "2022-10-11T10:07:40.155047Z",
          "iopub.status.idle": "2022-10-11T10:07:40.167376Z",
          "shell.execute_reply": "2022-10-11T10:07:40.164977Z",
          "shell.execute_reply.started": "2022-10-11T10:07:40.155570Z"
        },
        "id": "4U5xs6cWiNxv"
      },
      "outputs": [],
      "source": [
        "from tensorflow.keras.callbacks import EarlyStopping"
      ]
    },
    {
      "cell_type": "code",
      "execution_count": 26,
      "metadata": {
        "execution": {
          "iopub.execute_input": "2022-10-11T10:09:49.303554Z",
          "iopub.status.busy": "2022-10-11T10:09:49.303352Z",
          "iopub.status.idle": "2022-10-11T10:09:49.306762Z",
          "shell.execute_reply": "2022-10-11T10:09:49.306230Z",
          "shell.execute_reply.started": "2022-10-11T10:09:49.303525Z"
        },
        "id": "EUCo2hFgiNxv"
      },
      "outputs": [],
      "source": [
        "early_stop = EarlyStopping(monitor='val_accuracy', mode=\"max\", patience=3, restore_best_weights = True)"
      ]
    },
    {
      "cell_type": "code",
      "execution_count": 27,
      "metadata": {
        "colab": {
          "base_uri": "https://localhost:8080/"
        },
        "id": "NekKeoViiNxv",
        "outputId": "8849b8b2-aa76-4a3a-dfc2-75eb64ee9053"
      },
      "outputs": [
        {
          "output_type": "stream",
          "name": "stdout",
          "text": [
            "Epoch 1/100\n",
            "1200/1200 [==============================] - 15s 8ms/step - loss: 0.4785 - accuracy: 0.8325 - val_loss: 0.3145 - val_accuracy: 0.8835\n",
            "Epoch 2/100\n",
            "1200/1200 [==============================] - 6s 5ms/step - loss: 0.3185 - accuracy: 0.8904 - val_loss: 0.2926 - val_accuracy: 0.8981\n",
            "Epoch 3/100\n",
            "1200/1200 [==============================] - 7s 6ms/step - loss: 0.2927 - accuracy: 0.8998 - val_loss: 0.2877 - val_accuracy: 0.9032\n",
            "Epoch 4/100\n",
            "1200/1200 [==============================] - 6s 5ms/step - loss: 0.2884 - accuracy: 0.9049 - val_loss: 0.2801 - val_accuracy: 0.9049\n",
            "Epoch 5/100\n",
            "1200/1200 [==============================] - 6s 5ms/step - loss: 0.2844 - accuracy: 0.9056 - val_loss: 0.3235 - val_accuracy: 0.9012\n",
            "Epoch 6/100\n",
            "1200/1200 [==============================] - 6s 5ms/step - loss: 0.2786 - accuracy: 0.9071 - val_loss: 0.3384 - val_accuracy: 0.9009\n",
            "Epoch 7/100\n",
            "1200/1200 [==============================] - 6s 5ms/step - loss: 0.2756 - accuracy: 0.9078 - val_loss: 0.2734 - val_accuracy: 0.9066\n",
            "Epoch 8/100\n",
            "1200/1200 [==============================] - 9s 8ms/step - loss: 0.2721 - accuracy: 0.9106 - val_loss: 0.2806 - val_accuracy: 0.9068\n",
            "Epoch 9/100\n",
            "1200/1200 [==============================] - 6s 5ms/step - loss: 0.2749 - accuracy: 0.9103 - val_loss: 0.2750 - val_accuracy: 0.9065\n",
            "Epoch 10/100\n",
            "1200/1200 [==============================] - 6s 5ms/step - loss: 0.2754 - accuracy: 0.9101 - val_loss: 0.2848 - val_accuracy: 0.9025\n",
            "Epoch 11/100\n",
            "1200/1200 [==============================] - 6s 5ms/step - loss: 0.2752 - accuracy: 0.9079 - val_loss: 0.2704 - val_accuracy: 0.9071\n",
            "Epoch 12/100\n",
            "1200/1200 [==============================] - 6s 5ms/step - loss: 0.2808 - accuracy: 0.9087 - val_loss: 0.2805 - val_accuracy: 0.9039\n",
            "Epoch 13/100\n",
            "1200/1200 [==============================] - 6s 5ms/step - loss: 0.2743 - accuracy: 0.9094 - val_loss: 0.2917 - val_accuracy: 0.9013\n",
            "Epoch 14/100\n",
            "1200/1200 [==============================] - 6s 5ms/step - loss: 0.2797 - accuracy: 0.9094 - val_loss: 0.2828 - val_accuracy: 0.9044\n"
          ]
        },
        {
          "output_type": "execute_result",
          "data": {
            "text/plain": [
              "<keras.callbacks.History at 0x7ff7e0188110>"
            ]
          },
          "metadata": {},
          "execution_count": 27
        }
      ],
      "source": [
        "model.fit(X_train, Y_train, batch_size=50, epochs=100, validation_data=(X_test,Y_test),callbacks=[early_stop])"
      ]
    },
    {
      "cell_type": "markdown",
      "metadata": {
        "id": "u0-LyQYSiNxw"
      },
      "source": [
        "## Model Evaluation\n",
        "\n",
        "**TASK 8: Show the accuracy,precision,recall,f1-score the model achieved on the x_test data set. Keep in mind, there are quite a few ways to do this, but we recommend following the same procedure we showed in the MNIST lecture.**"
      ]
    },
    {
      "cell_type": "code",
      "source": [
        "summary = pd.DataFrame(model.history.history)\n",
        "summary"
      ],
      "metadata": {
        "colab": {
          "base_uri": "https://localhost:8080/",
          "height": 488
        },
        "id": "BGhy129GlMxa",
        "outputId": "119deec5-d783-4bc6-ceb1-983e95e30185"
      },
      "execution_count": 28,
      "outputs": [
        {
          "output_type": "execute_result",
          "data": {
            "text/plain": [
              "    loss  accuracy  val_loss  val_accuracy\n",
              "0  0.478     0.832     0.314         0.883\n",
              "1  0.318     0.890     0.293         0.898\n",
              "2  0.293     0.900     0.288         0.903\n",
              "3  0.288     0.905     0.280         0.905\n",
              "4  0.284     0.906     0.323         0.901\n",
              "5  0.279     0.907     0.338         0.901\n",
              "6  0.276     0.908     0.273         0.907\n",
              "7  0.272     0.911     0.281         0.907\n",
              "8  0.275     0.910     0.275         0.906\n",
              "9  0.275     0.910     0.285         0.902\n",
              "10 0.275     0.908     0.270         0.907\n",
              "11 0.281     0.909     0.280         0.904\n",
              "12 0.274     0.909     0.292         0.901\n",
              "13 0.280     0.909     0.283         0.904"
            ],
            "text/html": [
              "\n",
              "  <div id=\"df-710cb129-0f75-4b7b-8448-8cd20f47727b\">\n",
              "    <div class=\"colab-df-container\">\n",
              "      <div>\n",
              "<style scoped>\n",
              "    .dataframe tbody tr th:only-of-type {\n",
              "        vertical-align: middle;\n",
              "    }\n",
              "\n",
              "    .dataframe tbody tr th {\n",
              "        vertical-align: top;\n",
              "    }\n",
              "\n",
              "    .dataframe thead th {\n",
              "        text-align: right;\n",
              "    }\n",
              "</style>\n",
              "<table border=\"1\" class=\"dataframe\">\n",
              "  <thead>\n",
              "    <tr style=\"text-align: right;\">\n",
              "      <th></th>\n",
              "      <th>loss</th>\n",
              "      <th>accuracy</th>\n",
              "      <th>val_loss</th>\n",
              "      <th>val_accuracy</th>\n",
              "    </tr>\n",
              "  </thead>\n",
              "  <tbody>\n",
              "    <tr>\n",
              "      <th>0</th>\n",
              "      <td>0.478</td>\n",
              "      <td>0.832</td>\n",
              "      <td>0.314</td>\n",
              "      <td>0.883</td>\n",
              "    </tr>\n",
              "    <tr>\n",
              "      <th>1</th>\n",
              "      <td>0.318</td>\n",
              "      <td>0.890</td>\n",
              "      <td>0.293</td>\n",
              "      <td>0.898</td>\n",
              "    </tr>\n",
              "    <tr>\n",
              "      <th>2</th>\n",
              "      <td>0.293</td>\n",
              "      <td>0.900</td>\n",
              "      <td>0.288</td>\n",
              "      <td>0.903</td>\n",
              "    </tr>\n",
              "    <tr>\n",
              "      <th>3</th>\n",
              "      <td>0.288</td>\n",
              "      <td>0.905</td>\n",
              "      <td>0.280</td>\n",
              "      <td>0.905</td>\n",
              "    </tr>\n",
              "    <tr>\n",
              "      <th>4</th>\n",
              "      <td>0.284</td>\n",
              "      <td>0.906</td>\n",
              "      <td>0.323</td>\n",
              "      <td>0.901</td>\n",
              "    </tr>\n",
              "    <tr>\n",
              "      <th>5</th>\n",
              "      <td>0.279</td>\n",
              "      <td>0.907</td>\n",
              "      <td>0.338</td>\n",
              "      <td>0.901</td>\n",
              "    </tr>\n",
              "    <tr>\n",
              "      <th>6</th>\n",
              "      <td>0.276</td>\n",
              "      <td>0.908</td>\n",
              "      <td>0.273</td>\n",
              "      <td>0.907</td>\n",
              "    </tr>\n",
              "    <tr>\n",
              "      <th>7</th>\n",
              "      <td>0.272</td>\n",
              "      <td>0.911</td>\n",
              "      <td>0.281</td>\n",
              "      <td>0.907</td>\n",
              "    </tr>\n",
              "    <tr>\n",
              "      <th>8</th>\n",
              "      <td>0.275</td>\n",
              "      <td>0.910</td>\n",
              "      <td>0.275</td>\n",
              "      <td>0.906</td>\n",
              "    </tr>\n",
              "    <tr>\n",
              "      <th>9</th>\n",
              "      <td>0.275</td>\n",
              "      <td>0.910</td>\n",
              "      <td>0.285</td>\n",
              "      <td>0.902</td>\n",
              "    </tr>\n",
              "    <tr>\n",
              "      <th>10</th>\n",
              "      <td>0.275</td>\n",
              "      <td>0.908</td>\n",
              "      <td>0.270</td>\n",
              "      <td>0.907</td>\n",
              "    </tr>\n",
              "    <tr>\n",
              "      <th>11</th>\n",
              "      <td>0.281</td>\n",
              "      <td>0.909</td>\n",
              "      <td>0.280</td>\n",
              "      <td>0.904</td>\n",
              "    </tr>\n",
              "    <tr>\n",
              "      <th>12</th>\n",
              "      <td>0.274</td>\n",
              "      <td>0.909</td>\n",
              "      <td>0.292</td>\n",
              "      <td>0.901</td>\n",
              "    </tr>\n",
              "    <tr>\n",
              "      <th>13</th>\n",
              "      <td>0.280</td>\n",
              "      <td>0.909</td>\n",
              "      <td>0.283</td>\n",
              "      <td>0.904</td>\n",
              "    </tr>\n",
              "  </tbody>\n",
              "</table>\n",
              "</div>\n",
              "      <button class=\"colab-df-convert\" onclick=\"convertToInteractive('df-710cb129-0f75-4b7b-8448-8cd20f47727b')\"\n",
              "              title=\"Convert this dataframe to an interactive table.\"\n",
              "              style=\"display:none;\">\n",
              "        \n",
              "  <svg xmlns=\"http://www.w3.org/2000/svg\" height=\"24px\"viewBox=\"0 0 24 24\"\n",
              "       width=\"24px\">\n",
              "    <path d=\"M0 0h24v24H0V0z\" fill=\"none\"/>\n",
              "    <path d=\"M18.56 5.44l.94 2.06.94-2.06 2.06-.94-2.06-.94-.94-2.06-.94 2.06-2.06.94zm-11 1L8.5 8.5l.94-2.06 2.06-.94-2.06-.94L8.5 2.5l-.94 2.06-2.06.94zm10 10l.94 2.06.94-2.06 2.06-.94-2.06-.94-.94-2.06-.94 2.06-2.06.94z\"/><path d=\"M17.41 7.96l-1.37-1.37c-.4-.4-.92-.59-1.43-.59-.52 0-1.04.2-1.43.59L10.3 9.45l-7.72 7.72c-.78.78-.78 2.05 0 2.83L4 21.41c.39.39.9.59 1.41.59.51 0 1.02-.2 1.41-.59l7.78-7.78 2.81-2.81c.8-.78.8-2.07 0-2.86zM5.41 20L4 18.59l7.72-7.72 1.47 1.35L5.41 20z\"/>\n",
              "  </svg>\n",
              "      </button>\n",
              "      \n",
              "  <style>\n",
              "    .colab-df-container {\n",
              "      display:flex;\n",
              "      flex-wrap:wrap;\n",
              "      gap: 12px;\n",
              "    }\n",
              "\n",
              "    .colab-df-convert {\n",
              "      background-color: #E8F0FE;\n",
              "      border: none;\n",
              "      border-radius: 50%;\n",
              "      cursor: pointer;\n",
              "      display: none;\n",
              "      fill: #1967D2;\n",
              "      height: 32px;\n",
              "      padding: 0 0 0 0;\n",
              "      width: 32px;\n",
              "    }\n",
              "\n",
              "    .colab-df-convert:hover {\n",
              "      background-color: #E2EBFA;\n",
              "      box-shadow: 0px 1px 2px rgba(60, 64, 67, 0.3), 0px 1px 3px 1px rgba(60, 64, 67, 0.15);\n",
              "      fill: #174EA6;\n",
              "    }\n",
              "\n",
              "    [theme=dark] .colab-df-convert {\n",
              "      background-color: #3B4455;\n",
              "      fill: #D2E3FC;\n",
              "    }\n",
              "\n",
              "    [theme=dark] .colab-df-convert:hover {\n",
              "      background-color: #434B5C;\n",
              "      box-shadow: 0px 1px 3px 1px rgba(0, 0, 0, 0.15);\n",
              "      filter: drop-shadow(0px 1px 2px rgba(0, 0, 0, 0.3));\n",
              "      fill: #FFFFFF;\n",
              "    }\n",
              "  </style>\n",
              "\n",
              "      <script>\n",
              "        const buttonEl =\n",
              "          document.querySelector('#df-710cb129-0f75-4b7b-8448-8cd20f47727b button.colab-df-convert');\n",
              "        buttonEl.style.display =\n",
              "          google.colab.kernel.accessAllowed ? 'block' : 'none';\n",
              "\n",
              "        async function convertToInteractive(key) {\n",
              "          const element = document.querySelector('#df-710cb129-0f75-4b7b-8448-8cd20f47727b');\n",
              "          const dataTable =\n",
              "            await google.colab.kernel.invokeFunction('convertToInteractive',\n",
              "                                                     [key], {});\n",
              "          if (!dataTable) return;\n",
              "\n",
              "          const docLinkHtml = 'Like what you see? Visit the ' +\n",
              "            '<a target=\"_blank\" href=https://colab.research.google.com/notebooks/data_table.ipynb>data table notebook</a>'\n",
              "            + ' to learn more about interactive tables.';\n",
              "          element.innerHTML = '';\n",
              "          dataTable['output_type'] = 'display_data';\n",
              "          await google.colab.output.renderOutput(dataTable, element);\n",
              "          const docLink = document.createElement('div');\n",
              "          docLink.innerHTML = docLinkHtml;\n",
              "          element.appendChild(docLink);\n",
              "        }\n",
              "      </script>\n",
              "    </div>\n",
              "  </div>\n",
              "  "
            ]
          },
          "metadata": {},
          "execution_count": 28
        }
      ]
    },
    {
      "cell_type": "code",
      "source": [
        "summary[[\"loss\", \"val_loss\"]].plot();"
      ],
      "metadata": {
        "colab": {
          "base_uri": "https://localhost:8080/",
          "height": 374
        },
        "id": "ALHniCpJm2ux",
        "outputId": "91e803c3-c194-4d70-f237-cc267f94ef35"
      },
      "execution_count": 29,
      "outputs": [
        {
          "output_type": "display_data",
          "data": {
            "text/plain": [
              "<Figure size 720x432 with 1 Axes>"
            ],
            "image/png": "[encoded data removed]"
          },
          "metadata": {}
        }
      ]
    },
    {
      "cell_type": "code",
      "source": [
        "summary[[\"accuracy\", \"val_accuracy\"]].plot();"
      ],
      "metadata": {
        "colab": {
          "base_uri": "https://localhost:8080/",
          "height": 374
        },
        "id": "8lrOhWBrtUnw",
        "outputId": "7fb997d3-6655-452e-b851-4366869dbee6"
      },
      "execution_count": 30,
      "outputs": [
        {
          "output_type": "display_data",
          "data": {
            "text/plain": [
              "<Figure size 720x432 with 1 Axes>"
            ],
            "image/png": "[encoded data removed]"
          },
          "metadata": {}
        }
      ]
    },
    {
      "cell_type": "code",
      "execution_count": 31,
      "metadata": {
        "id": "VvXLYlxkiNxw"
      },
      "outputs": [],
      "source": [
        "from sklearn.metrics import classification_report, confusion_matrix"
      ]
    },
    {
      "cell_type": "code",
      "execution_count": 32,
      "metadata": {
        "id": "1w1qa7TTiNxw"
      },
      "outputs": [],
      "source": [
        "pred_prob = model.predict(X_test)"
      ]
    },
    {
      "cell_type": "code",
      "source": [
        "y_pred = np.argmax(pred_prob, axis=1)"
      ],
      "metadata": {
        "id": "q_ViFVytkrlh"
      },
      "execution_count": 33,
      "outputs": []
    },
    {
      "cell_type": "code",
      "execution_count": 34,
      "metadata": {
        "colab": {
          "base_uri": "https://localhost:8080/"
        },
        "id": "s0tG4QXViNxw",
        "outputId": "b8f46a46-44f8-4a9a-e058-9db5b490ff67"
      },
      "outputs": [
        {
          "output_type": "stream",
          "name": "stdout",
          "text": [
            "              precision    recall  f1-score   support\n",
            "\n",
            "           0       0.86      0.86      0.86      1000\n",
            "           1       0.99      0.98      0.99      1000\n",
            "           2       0.81      0.89      0.85      1000\n",
            "           3       0.88      0.93      0.90      1000\n",
            "           4       0.86      0.84      0.85      1000\n",
            "           5       0.98      0.98      0.98      1000\n",
            "           6       0.78      0.69      0.73      1000\n",
            "           7       0.95      0.97      0.96      1000\n",
            "           8       0.98      0.98      0.98      1000\n",
            "           9       0.97      0.96      0.97      1000\n",
            "\n",
            "    accuracy                           0.91     10000\n",
            "   macro avg       0.91      0.91      0.91     10000\n",
            "weighted avg       0.91      0.91      0.91     10000\n",
            "\n"
          ]
        }
      ],
      "source": [
        "print(classification_report(y_test, y_pred))\n"
      ]
    },
    {
      "cell_type": "markdown",
      "metadata": {
        "id": "QNg9lc04iNxw"
      },
      "source": [
        "## Prediction"
      ]
    },
    {
      "cell_type": "code",
      "execution_count": 35,
      "metadata": {
        "id": "quJskY33iNxw"
      },
      "outputs": [],
      "source": [
        "from tensorflow.keras.models import load_model\n",
        "from tensorflow.keras.preprocessing import image"
      ]
    },
    {
      "cell_type": "code",
      "execution_count": 36,
      "metadata": {
        "id": "DaDEl3cdiNxw"
      },
      "outputs": [],
      "source": [
        "model.save('cloth_predict.h5')"
      ]
    },
    {
      "cell_type": "code",
      "source": [
        "model = load_model('cloth_predict.h5')"
      ],
      "metadata": {
        "id": "0D_xJ_b1t0OK"
      },
      "execution_count": 37,
      "outputs": []
    },
    {
      "cell_type": "code",
      "source": [
        "X_test[459].shape"
      ],
      "metadata": {
        "colab": {
          "base_uri": "https://localhost:8080/"
        },
        "id": "FHT6ZqKIW2nh",
        "outputId": "849afb57-8a85-458d-c9b0-c7b5c4ec628d"
      },
      "execution_count": 38,
      "outputs": [
        {
          "output_type": "execute_result",
          "data": {
            "text/plain": [
              "(28, 28, 1)"
            ]
          },
          "metadata": {},
          "execution_count": 38
        }
      ]
    },
    {
      "cell_type": "code",
      "source": [
        "plt.imshow(X_test[459].reshape(28, 28));"
      ],
      "metadata": {
        "colab": {
          "base_uri": "https://localhost:8080/",
          "height": 374
        },
        "id": "dk44VE88uXs1",
        "outputId": "9b1f7205-1f17-4988-cd0e-8c3e16b8c65f"
      },
      "execution_count": 39,
      "outputs": [
        {
          "output_type": "display_data",
          "data": {
            "text/plain": [
              "<Figure size 720x432 with 1 Axes>"
            ],
            "image/png": "[encoded data removed]"
          },
          "metadata": {}
        }
      ]
    },
    {
      "cell_type": "code",
      "source": [
        "my_image = np.expand_dims(X_test[459], axis=0)\n",
        "my_image.shape"
      ],
      "metadata": {
        "colab": {
          "base_uri": "https://localhost:8080/"
        },
        "id": "rvxpVJhtwcsj",
        "outputId": "1dbcf821-181f-4d4f-dc61-9f99663e9ec5"
      },
      "execution_count": 40,
      "outputs": [
        {
          "output_type": "execute_result",
          "data": {
            "text/plain": [
              "(1, 28, 28, 1)"
            ]
          },
          "metadata": {},
          "execution_count": 40
        }
      ]
    },
    {
      "cell_type": "code",
      "source": [
        "np.argmax(model.predict(my_image))"
      ],
      "metadata": {
        "colab": {
          "base_uri": "https://localhost:8080/"
        },
        "id": "f05yryNUt0H1",
        "outputId": "6a873156-92ae-45a5-d565-1072d3416377"
      },
      "execution_count": 41,
      "outputs": [
        {
          "output_type": "execute_result",
          "data": {
            "text/plain": [
              "6"
            ]
          },
          "metadata": {},
          "execution_count": 41
        }
      ]
    },
    {
      "cell_type": "code",
      "source": [
        "classes"
      ],
      "metadata": {
        "colab": {
          "base_uri": "https://localhost:8080/"
        },
        "id": "LUnRk7K1w2fW",
        "outputId": "de621389-390b-4bfd-a4aa-a17c6a601b35"
      },
      "execution_count": 42,
      "outputs": [
        {
          "output_type": "execute_result",
          "data": {
            "text/plain": [
              "['T-shirt/top',\n",
              " 'Trouser',\n",
              " 'Pullover',\n",
              " 'Dress',\n",
              " 'Coat',\n",
              " 'Sandal',\n",
              " 'Shirt',\n",
              " 'Sneaker',\n",
              " 'Bag',\n",
              " 'Ankle boot']"
            ]
          },
          "metadata": {},
          "execution_count": 42
        }
      ]
    },
    {
      "cell_type": "code",
      "source": [
        "def pred_and_show_img (model, img_number):\n",
        "\n",
        "  \"\"\"\n",
        "  shows the class list, predicted image and the model prediction result\n",
        "  \"\"\"\n",
        "\n",
        "  plt.imshow(X_test[img_number].reshape(28, 28))\n",
        "\n",
        "  my_image = np.expand_dims(X_test[img_number], axis=0)\n",
        "  \n",
        "  prediction = np.argmax(model.predict(my_image))\n",
        "  print(\"Our model predicted this image in the\" , classes[prediction], \"class\")\n",
        " \n",
        "  "
      ],
      "metadata": {
        "id": "fdTm3t7sxkXh"
      },
      "execution_count": 53,
      "outputs": []
    },
    {
      "cell_type": "code",
      "source": [
        "pred_and_show_img(model, 398)"
      ],
      "metadata": {
        "colab": {
          "base_uri": "https://localhost:8080/",
          "height": 391
        },
        "id": "9p_69sr-0IO-",
        "outputId": "9e3385e1-6179-415f-a635-7f15ff68183f"
      },
      "execution_count": 54,
      "outputs": [
        {
          "output_type": "stream",
          "name": "stdout",
          "text": [
            "Our model predicted this image in the Trouser class\n"
          ]
        },
        {
          "output_type": "display_data",
          "data": {
            "text/plain": [
              "<Figure size 720x432 with 1 Axes>"
            ],
            "image/png": "[encoded data removed]"
          },
          "metadata": {}
        }
      ]
    },
    {
      "cell_type": "markdown",
      "metadata": {
        "id": "-nWKBPtyiNxw"
      },
      "source": [
        "# End of Assignment"
      ]
    },
    {
      "cell_type": "markdown",
      "metadata": {
        "id": "tPO_vYkxiNxx"
      },
      "source": [
        "___\n",
        "\n",
        "<p style=\"text-align: center;\"><img src=\"https://docs.google.com/uc?id=1lY0Uj5R04yMY3-ZppPWxqCr5pvBLYPnV\" class=\"img-fluid\" alt=\"CLRSWY\"></p>\n",
        "\n",
        "___"
      ]
    }
  ],
  "metadata": {
    "kernelspec": {
      "display_name": "Python 3 (ipykernel)",
      "language": "python",
      "name": "python3"
    },
    "language_info": {
      "codemirror_mode": {
        "name": "ipython",
        "version": 3
      },
      "file_extension": ".py",
      "mimetype": "text/x-python",
      "name": "python",
      "nbconvert_exporter": "python",
      "pygments_lexer": "ipython3",
      "version": "3.9.12"
    },
    "toc": {
      "base_numbering": 1,
      "nav_menu": {},
      "number_sections": false,
      "sideBar": true,
      "skip_h1_title": false,
      "title_cell": "Table of Contents",
      "title_sidebar": "Contents",
      "toc_cell": false,
      "toc_position": {},
      "toc_section_display": true,
      "toc_window_display": true
    },
    "colab": {
      "provenance": [],
      "collapsed_sections": []
    },
    "accelerator": "GPU"
  },
  "nbformat": 4,
  "nbformat_minor": 0
}