{
 "cells": [
  {
   "cell_type": "markdown",
   "metadata": {
    "id": "t-2WmYTriNxg"
   },
   "source": [
    "___\n",
    "\n",
    "<p style=\"text-align: center;\"><img src=\"https://docs.google.com/uc?id=1lY0Uj5R04yMY3-ZppPWxqCr5pvBLYPnV\" class=\"img-fluid\" alt=\"CLRSWY\"></p>\n",
    "\n",
    "___"
   ]
  },
  {
   "cell_type": "markdown",
   "metadata": {
    "id": "ED-G6xRxiNxi"
   },
   "source": [
    "<h1 style=\"text-align: center;\">Deep Learning<br><br>Assignment-2 (CNN)<br><br>Image Classification with CNN<br><h1>"
   ]
  },
  {
   "cell_type": "markdown",
   "metadata": {
    "id": "NbnNOOrDiNxj"
   },
   "source": [
    "# Task and Dataset Info\n",
    "\n",
    "Welcome to second assignment of Deep learning lesson. Follow the instructions and complete the assignment.\n",
    "\n",
    "**Build an image classifier with Convolutional Neural Networks for the Fashion MNIST dataset. This data set includes 10 labels of different clothing types with 28 by 28 *grayscale* images. There is a training set of 60,000 images and 10,000 test images.**\n",
    "\n",
    "    Label\tDescription\n",
    "    0\t    T-shirt/top\n",
    "    1\t    Trouser\n",
    "    2\t    Pullover\n",
    "    3\t    Dress\n",
    "    4\t    Coat\n",
    "    5\t    Sandal\n",
    "    6\t    Shirt\n",
    "    7\t    Sneaker\n",
    "    8\t    Bag\n",
    "    9\t    Ankle boot"
   ]
  },
  {
   "cell_type": "markdown",
   "metadata": {
    "id": "5w78qBAKiNxk"
   },
   "source": [
    "# Import Libraries"
   ]
  },
  {
   "cell_type": "code",
   "execution_count": 1,
   "metadata": {
    "execution": {
     "iopub.execute_input": "2022-10-11T17:35:27.344280Z",
     "iopub.status.busy": "2022-10-11T17:35:27.343896Z",
     "iopub.status.idle": "2022-10-11T17:35:28.351105Z",
     "shell.execute_reply": "2022-10-11T17:35:28.350499Z",
     "shell.execute_reply.started": "2022-10-11T17:35:27.344184Z"
    },
    "id": "l1989p2PiNxk"
   },
   "outputs": [],
   "source": [
    "import os\n",
    "import numpy as np\n",
    "import pandas as pd\n",
    "import matplotlib.pyplot as plt\n",
    "import seaborn as sns\n",
    "from matplotlib.image import imread\n",
    "\n",
    "#import warnings\n",
    "#warnings.filterwarnings(\"ignore\")\n",
    "#warnings.warn(\"this will not show\")\n",
    "\n",
    "plt.rcParams[\"figure.figsize\"] = (10,6)\n",
    "\n",
    "sns.set_style(\"whitegrid\")\n",
    "pd.set_option('display.float_format', lambda x: '%.3f' % x)\n",
    "\n",
    "# Set it None to display all rows in the dataframe\n",
    "# pd.set_option('display.max_rows', None)\n",
    "\n",
    "# Set it to None to display all columns in the dataframe\n",
    "pd.set_option('display.max_columns', None)"
   ]
  },
  {
   "cell_type": "markdown",
   "metadata": {
    "id": "UgOwuTt_iNxl"
   },
   "source": [
    "# Recognizing and Understanding Data\n",
    "\n",
    "**TASK 1: Run the code below to download the dataset using Keras.**"
   ]
  },
  {
   "cell_type": "code",
   "execution_count": 2,
   "metadata": {
    "execution": {
     "iopub.execute_input": "2022-10-11T17:35:28.351865Z",
     "iopub.status.busy": "2022-10-11T17:35:28.351760Z",
     "iopub.status.idle": "2022-10-11T17:35:30.069321Z",
     "shell.execute_reply": "2022-10-11T17:35:30.068784Z",
     "shell.execute_reply.started": "2022-10-11T17:35:28.351851Z"
    },
    "id": "RkAsWdc5iNxm"
   },
   "outputs": [
    {
     "name": "stderr",
     "output_type": "stream",
     "text": [
      "2022-10-11 20:35:28.355587: I tensorflow/core/platform/cpu_feature_guard.cc:193] This TensorFlow binary is optimized with oneAPI Deep Neural Network Library (oneDNN) to use the following CPU instructions in performance-critical operations:  AVX2 FMA\n",
      "To enable them in other operations, rebuild TensorFlow with the appropriate compiler flags.\n",
      "2022-10-11 20:35:28.492837: W tensorflow/stream_executor/platform/default/dso_loader.cc:64] Could not load dynamic library 'libcudart.so.11.0'; dlerror: libcudart.so.11.0: cannot open shared object file: No such file or directory\n",
      "2022-10-11 20:35:28.492854: I tensorflow/stream_executor/cuda/cudart_stub.cc:29] Ignore above cudart dlerror if you do not have a GPU set up on your machine.\n",
      "2022-10-11 20:35:28.518962: E tensorflow/stream_executor/cuda/cuda_blas.cc:2981] Unable to register cuBLAS factory: Attempting to register factory for plugin cuBLAS when one has already been registered\n",
      "2022-10-11 20:35:29.149323: W tensorflow/stream_executor/platform/default/dso_loader.cc:64] Could not load dynamic library 'libnvinfer.so.7'; dlerror: libnvinfer.so.7: cannot open shared object file: No such file or directory\n",
      "2022-10-11 20:35:29.149386: W tensorflow/stream_executor/platform/default/dso_loader.cc:64] Could not load dynamic library 'libnvinfer_plugin.so.7'; dlerror: libnvinfer_plugin.so.7: cannot open shared object file: No such file or directory\n",
      "2022-10-11 20:35:29.149393: W tensorflow/compiler/tf2tensorrt/utils/py_utils.cc:38] TF-TRT Warning: Cannot dlopen some TensorRT libraries. If you would like to use Nvidia GPU with TensorRT, please make sure the missing libraries mentioned above are installed properly.\n"
     ]
    }
   ],
   "source": [
    "from tensorflow.keras.datasets import fashion_mnist\n",
    "\n",
    "(X_train, y_train), (X_test, y_test) = fashion_mnist.load_data()"
   ]
  },
  {
   "cell_type": "code",
   "execution_count": 3,
   "metadata": {
    "colab": {
     "base_uri": "https://localhost:8080/"
    },
    "execution": {
     "iopub.execute_input": "2022-10-11T17:35:30.071177Z",
     "iopub.status.busy": "2022-10-11T17:35:30.070719Z",
     "iopub.status.idle": "2022-10-11T17:35:30.079738Z",
     "shell.execute_reply": "2022-10-11T17:35:30.079078Z",
     "shell.execute_reply.started": "2022-10-11T17:35:30.071152Z"
    },
    "id": "dCEWAR0OiNxn",
    "outputId": "18a419ca-f6b2-4f5e-a350-b4ebc38a245d",
    "tags": []
   },
   "outputs": [
    {
     "data": {
      "text/plain": [
       "(10000, 28, 28)"
      ]
     },
     "execution_count": 3,
     "metadata": {},
     "output_type": "execute_result"
    }
   ],
   "source": [
    "X_test.shape"
   ]
  },
  {
   "cell_type": "code",
   "execution_count": 4,
   "metadata": {
    "colab": {
     "base_uri": "https://localhost:8080/"
    },
    "execution": {
     "iopub.execute_input": "2022-10-11T17:35:30.080620Z",
     "iopub.status.busy": "2022-10-11T17:35:30.080417Z",
     "iopub.status.idle": "2022-10-11T17:35:30.089736Z",
     "shell.execute_reply": "2022-10-11T17:35:30.089159Z",
     "shell.execute_reply.started": "2022-10-11T17:35:30.080579Z"
    },
    "id": "z6IL6asDiNxn",
    "outputId": "0fb41801-d197-4b5c-f0ed-71483f11164c",
    "tags": []
   },
   "outputs": [
    {
     "data": {
      "text/plain": [
       "(60000, 28, 28)"
      ]
     },
     "execution_count": 4,
     "metadata": {},
     "output_type": "execute_result"
    }
   ],
   "source": [
    "X_train.shape"
   ]
  },
  {
   "cell_type": "markdown",
   "metadata": {
    "id": "pWoLw4uGiNxo"
   },
   "source": [
    "**TASK 2: Use matplotlib to view an image from the data set. It can be any image from the data set.**"
   ]
  },
  {
   "cell_type": "code",
   "execution_count": 5,
   "metadata": {
    "execution": {
     "iopub.execute_input": "2022-10-11T17:35:30.091001Z",
     "iopub.status.busy": "2022-10-11T17:35:30.090719Z",
     "iopub.status.idle": "2022-10-11T17:35:30.094635Z",
     "shell.execute_reply": "2022-10-11T17:35:30.094003Z",
     "shell.execute_reply.started": "2022-10-11T17:35:30.090979Z"
    },
    "id": "Mex_XkFmiNxo",
    "tags": []
   },
   "outputs": [],
   "source": [
    "classes=[\"T-shirt/top\", \"Trouser\",\"Pullover\",\"Dress\",\"Coat\",\"Sandal\",\"Shirt\",\"Sneaker\",\"Bag\",\"Ankle boot\"]"
   ]
  },
  {
   "cell_type": "code",
   "execution_count": 6,
   "metadata": {
    "colab": {
     "base_uri": "https://localhost:8080/"
    },
    "execution": {
     "iopub.execute_input": "2022-10-11T17:35:30.095665Z",
     "iopub.status.busy": "2022-10-11T17:35:30.095507Z",
     "iopub.status.idle": "2022-10-11T17:35:30.101156Z",
     "shell.execute_reply": "2022-10-11T17:35:30.100254Z",
     "shell.execute_reply.started": "2022-10-11T17:35:30.095644Z"
    },
    "id": "mprK9dM2iNxo",
    "outputId": "99ea447b-d1b2-41d1-a750-0b825fc53cc3",
    "tags": []
   },
   "outputs": [
    {
     "data": {
      "text/plain": [
       "10000"
      ]
     },
     "execution_count": 6,
     "metadata": {},
     "output_type": "execute_result"
    }
   ],
   "source": [
    "X_test.shape[0]"
   ]
  },
  {
   "cell_type": "code",
   "execution_count": 7,
   "metadata": {
    "colab": {
     "base_uri": "https://localhost:8080/",
     "height": 391
    },
    "execution": {
     "iopub.execute_input": "2022-10-11T17:35:30.102461Z",
     "iopub.status.busy": "2022-10-11T17:35:30.102169Z",
     "iopub.status.idle": "2022-10-11T17:35:30.285287Z",
     "shell.execute_reply": "2022-10-11T17:35:30.284626Z",
     "shell.execute_reply.started": "2022-10-11T17:35:30.102427Z"
    },
    "id": "ptGa5OpPiNxp",
    "outputId": "7ec8d165-91e6-4c01-e2b2-1c1b62582e23",
    "tags": []
   },
   "outputs": [
    {
     "data": {
      "text/plain": [
       "<matplotlib.image.AxesImage at 0x7ff6b734cb80>"
      ]
     },
     "execution_count": 7,
     "metadata": {},
     "output_type": "execute_result"
    },
    {
     "data": {
      "image/png": "[encoded data removed]",
      "text/plain": [
       "<Figure size 1000x600 with 1 Axes>"
      ]
     },
     "metadata": {},
     "output_type": "display_data"
    }
   ],
   "source": [
    "plt.imshow(X_test[0])"
   ]
  },
  {
   "cell_type": "code",
   "execution_count": 8,
   "metadata": {
    "execution": {
     "iopub.execute_input": "2022-10-11T17:35:30.286199Z",
     "iopub.status.busy": "2022-10-11T17:35:30.286040Z",
     "iopub.status.idle": "2022-10-11T17:35:30.289599Z",
     "shell.execute_reply": "2022-10-11T17:35:30.288989Z",
     "shell.execute_reply.started": "2022-10-11T17:35:30.286183Z"
    },
    "id": "DTlJduYCiNxp",
    "tags": []
   },
   "outputs": [],
   "source": [
    "import random"
   ]
  },
  {
   "cell_type": "code",
   "execution_count": 9,
   "metadata": {
    "colab": {
     "base_uri": "https://localhost:8080/",
     "height": 391
    },
    "execution": {
     "iopub.execute_input": "2022-10-11T17:35:30.290409Z",
     "iopub.status.busy": "2022-10-11T17:35:30.290295Z",
     "iopub.status.idle": "2022-10-11T17:35:30.431158Z",
     "shell.execute_reply": "2022-10-11T17:35:30.430554Z",
     "shell.execute_reply.started": "2022-10-11T17:35:30.290394Z"
    },
    "id": "xENQXtPtiNxp",
    "outputId": "4c44f2b0-aacc-4492-9dde-e327ae60f7bb",
    "tags": []
   },
   "outputs": [
    {
     "data": {
      "text/plain": [
       "<matplotlib.image.AxesImage at 0x7ff6b6aaf760>"
      ]
     },
     "execution_count": 9,
     "metadata": {},
     "output_type": "execute_result"
    },
    {
     "data": {
      "image/png": "[encoded data removed]",
      "text/plain": [
       "<Figure size 1000x600 with 1 Axes>"
      ]
     },
     "metadata": {},
     "output_type": "display_data"
    }
   ],
   "source": [
    "random_img = X_test[random.randrange(0, 10001)]\n",
    "plt.imshow(random_img)"
   ]
  },
  {
   "cell_type": "markdown",
   "metadata": {
    "id": "CIcLozUriNxp"
   },
   "source": [
    "# Data Preprocessing\n",
    "\n",
    "**TASK 3: Normalize the X train and X test data by dividing by the max value of the image arrays.**"
   ]
  },
  {
   "cell_type": "code",
   "execution_count": 10,
   "metadata": {
    "colab": {
     "base_uri": "https://localhost:8080/"
    },
    "execution": {
     "iopub.execute_input": "2022-10-11T17:35:30.431975Z",
     "iopub.status.busy": "2022-10-11T17:35:30.431808Z",
     "iopub.status.idle": "2022-10-11T17:35:30.463238Z",
     "shell.execute_reply": "2022-10-11T17:35:30.462728Z",
     "shell.execute_reply.started": "2022-10-11T17:35:30.431955Z"
    },
    "id": "gxFrbwVtiNxq",
    "outputId": "47e9915e-22f2-4edb-ca1b-ed7b8b665a93",
    "tags": []
   },
   "outputs": [
    {
     "data": {
      "text/plain": [
       "255"
      ]
     },
     "execution_count": 10,
     "metadata": {},
     "output_type": "execute_result"
    }
   ],
   "source": [
    "X_train.max()"
   ]
  },
  {
   "cell_type": "code",
   "execution_count": 11,
   "metadata": {
    "execution": {
     "iopub.execute_input": "2022-10-11T17:35:30.464015Z",
     "iopub.status.busy": "2022-10-11T17:35:30.463859Z",
     "iopub.status.idle": "2022-10-11T17:35:30.552584Z",
     "shell.execute_reply": "2022-10-11T17:35:30.552056Z",
     "shell.execute_reply.started": "2022-10-11T17:35:30.463998Z"
    },
    "id": "ykkAyH05iNxq",
    "tags": []
   },
   "outputs": [],
   "source": [
    "X_train = X_train/255"
   ]
  },
  {
   "cell_type": "code",
   "execution_count": 12,
   "metadata": {
    "execution": {
     "iopub.execute_input": "2022-10-11T17:35:30.556456Z",
     "iopub.status.busy": "2022-10-11T17:35:30.556202Z",
     "iopub.status.idle": "2022-10-11T17:35:30.573035Z",
     "shell.execute_reply": "2022-10-11T17:35:30.572371Z",
     "shell.execute_reply.started": "2022-10-11T17:35:30.556435Z"
    },
    "id": "IRZS4HEZiNxq",
    "tags": []
   },
   "outputs": [],
   "source": [
    "X_test = X_test/255"
   ]
  },
  {
   "cell_type": "code",
   "execution_count": 13,
   "metadata": {
    "colab": {
     "base_uri": "https://localhost:8080/"
    },
    "execution": {
     "iopub.execute_input": "2022-10-11T17:35:30.574069Z",
     "iopub.status.busy": "2022-10-11T17:35:30.573872Z",
     "iopub.status.idle": "2022-10-11T17:35:30.579893Z",
     "shell.execute_reply": "2022-10-11T17:35:30.578898Z",
     "shell.execute_reply.started": "2022-10-11T17:35:30.574046Z"
    },
    "id": "KQLZUNJKiNxq",
    "outputId": "95b24a65-4db0-4254-e3c2-b0376fc588a0",
    "tags": []
   },
   "outputs": [
    {
     "data": {
      "text/plain": [
       "(array([9, 2, 1, ..., 8, 1, 5], dtype=uint8),\n",
       " array([9, 0, 0, ..., 3, 0, 5], dtype=uint8))"
      ]
     },
     "execution_count": 13,
     "metadata": {},
     "output_type": "execute_result"
    }
   ],
   "source": [
    "y_test , y_train"
   ]
  },
  {
   "cell_type": "markdown",
   "metadata": {
    "id": "JDZ-mXu8iNxr"
   },
   "source": [
    "**Task 4: Reshape the X arrays to include a 4 dimension of the single channel. Similar to what we did for the numbers MNIST data set.**"
   ]
  },
  {
   "cell_type": "code",
   "execution_count": 14,
   "metadata": {
    "execution": {
     "iopub.execute_input": "2022-10-11T17:35:30.581431Z",
     "iopub.status.busy": "2022-10-11T17:35:30.581111Z",
     "iopub.status.idle": "2022-10-11T17:35:30.585566Z",
     "shell.execute_reply": "2022-10-11T17:35:30.584841Z",
     "shell.execute_reply.started": "2022-10-11T17:35:30.581402Z"
    },
    "id": "xdueMi9hiNxr",
    "tags": []
   },
   "outputs": [],
   "source": [
    "X_train = X_train.reshape(X_train.shape[0],28, 28, 1) \n",
    "X_test = X_test.reshape(X_test.shape[0], 28, 28, 1)"
   ]
  },
  {
   "cell_type": "code",
   "execution_count": 15,
   "metadata": {
    "colab": {
     "base_uri": "https://localhost:8080/"
    },
    "execution": {
     "iopub.execute_input": "2022-10-11T17:35:30.586953Z",
     "iopub.status.busy": "2022-10-11T17:35:30.586541Z",
     "iopub.status.idle": "2022-10-11T17:35:30.591870Z",
     "shell.execute_reply": "2022-10-11T17:35:30.590809Z",
     "shell.execute_reply.started": "2022-10-11T17:35:30.586926Z"
    },
    "id": "2lSUV0AUiNxr",
    "outputId": "b7dbaa05-004c-471a-b62d-19f3cd24cc6b",
    "tags": []
   },
   "outputs": [
    {
     "data": {
      "text/plain": [
       "(10000, 28, 28, 1)"
      ]
     },
     "execution_count": 15,
     "metadata": {},
     "output_type": "execute_result"
    }
   ],
   "source": [
    "X_test.shape"
   ]
  },
  {
   "cell_type": "markdown",
   "metadata": {
    "id": "NNiO7fe5iNxs"
   },
   "source": [
    "**TASK 5: Convert the y_train and y_test values to be one-hot encoded for categorical analysis by Keras.**"
   ]
  },
  {
   "cell_type": "code",
   "execution_count": 16,
   "metadata": {
    "execution": {
     "iopub.execute_input": "2022-10-11T17:35:30.594496Z",
     "iopub.status.busy": "2022-10-11T17:35:30.593857Z",
     "iopub.status.idle": "2022-10-11T17:35:30.598845Z",
     "shell.execute_reply": "2022-10-11T17:35:30.598209Z",
     "shell.execute_reply.started": "2022-10-11T17:35:30.594465Z"
    },
    "id": "U6bMpiV0iNxs"
   },
   "outputs": [],
   "source": [
    "from tensorflow.keras.utils import to_categorical"
   ]
  },
  {
   "cell_type": "code",
   "execution_count": 17,
   "metadata": {
    "colab": {
     "base_uri": "https://localhost:8080/"
    },
    "execution": {
     "iopub.execute_input": "2022-10-11T17:35:30.599888Z",
     "iopub.status.busy": "2022-10-11T17:35:30.599649Z",
     "iopub.status.idle": "2022-10-11T17:35:30.606284Z",
     "shell.execute_reply": "2022-10-11T17:35:30.605180Z",
     "shell.execute_reply.started": "2022-10-11T17:35:30.599872Z"
    },
    "id": "GTkJMcr5iNxs",
    "outputId": "16da7d83-fd9b-439b-b593-a91bd72a6a1f",
    "tags": []
   },
   "outputs": [
    {
     "data": {
      "text/plain": [
       "(array([9, 2, 1, ..., 8, 1, 5], dtype=uint8), (10000,))"
      ]
     },
     "execution_count": 17,
     "metadata": {},
     "output_type": "execute_result"
    }
   ],
   "source": [
    "y_test, y_test.shape"
   ]
  },
  {
   "cell_type": "code",
   "execution_count": 18,
   "metadata": {
    "colab": {
     "base_uri": "https://localhost:8080/"
    },
    "execution": {
     "iopub.execute_input": "2022-10-11T17:35:30.607550Z",
     "iopub.status.busy": "2022-10-11T17:35:30.607246Z",
     "iopub.status.idle": "2022-10-11T17:35:30.617856Z",
     "shell.execute_reply": "2022-10-11T17:35:30.617080Z",
     "shell.execute_reply.started": "2022-10-11T17:35:30.607524Z"
    },
    "id": "o7CMc-EFiNxs",
    "outputId": "c412155a-8af1-403b-9cb7-26bab8361195",
    "tags": []
   },
   "outputs": [
    {
     "data": {
      "text/plain": [
       "({0, 1, 2, 3, 4, 5, 6, 7, 8, 9}, {0, 1, 2, 3, 4, 5, 6, 7, 8, 9})"
      ]
     },
     "execution_count": 18,
     "metadata": {},
     "output_type": "execute_result"
    }
   ],
   "source": [
    "set(y_test), set(y_train)"
   ]
  },
  {
   "cell_type": "code",
   "execution_count": 19,
   "metadata": {
    "colab": {
     "base_uri": "https://localhost:8080/"
    },
    "execution": {
     "iopub.execute_input": "2022-10-11T17:35:30.618918Z",
     "iopub.status.busy": "2022-10-11T17:35:30.618682Z",
     "iopub.status.idle": "2022-10-11T17:35:30.623342Z",
     "shell.execute_reply": "2022-10-11T17:35:30.622609Z",
     "shell.execute_reply.started": "2022-10-11T17:35:30.618896Z"
    },
    "id": "GJhJG7KMiNxs",
    "outputId": "287e32a1-3469-4078-8005-cff3bbc0813e",
    "tags": []
   },
   "outputs": [
    {
     "data": {
      "text/plain": [
       "['T-shirt/top',\n",
       " 'Trouser',\n",
       " 'Pullover',\n",
       " 'Dress',\n",
       " 'Coat',\n",
       " 'Sandal',\n",
       " 'Shirt',\n",
       " 'Sneaker',\n",
       " 'Bag',\n",
       " 'Ankle boot']"
      ]
     },
     "execution_count": 19,
     "metadata": {},
     "output_type": "execute_result"
    }
   ],
   "source": [
    "classes"
   ]
  },
  {
   "cell_type": "code",
   "execution_count": 20,
   "metadata": {
    "colab": {
     "base_uri": "https://localhost:8080/"
    },
    "execution": {
     "iopub.execute_input": "2022-10-11T17:35:30.624109Z",
     "iopub.status.busy": "2022-10-11T17:35:30.623962Z",
     "iopub.status.idle": "2022-10-11T17:35:30.628872Z",
     "shell.execute_reply": "2022-10-11T17:35:30.628162Z",
     "shell.execute_reply.started": "2022-10-11T17:35:30.624094Z"
    },
    "id": "gdbtxeKaiNxt",
    "outputId": "daf2153f-2225-429b-826b-fa6ffc71737c"
   },
   "outputs": [
    {
     "data": {
      "text/plain": [
       "(10000, 10)"
      ]
     },
     "execution_count": 20,
     "metadata": {},
     "output_type": "execute_result"
    }
   ],
   "source": [
    "Y_train = to_categorical(y_train, 10)\n",
    "Y_test = to_categorical(y_test, 10)\n",
    "Y_test.shape"
   ]
  },
  {
   "cell_type": "code",
   "execution_count": 21,
   "metadata": {
    "colab": {
     "base_uri": "https://localhost:8080/"
    },
    "execution": {
     "iopub.execute_input": "2022-10-11T17:35:30.630041Z",
     "iopub.status.busy": "2022-10-11T17:35:30.629810Z",
     "iopub.status.idle": "2022-10-11T17:35:30.636077Z",
     "shell.execute_reply": "2022-10-11T17:35:30.634750Z",
     "shell.execute_reply.started": "2022-10-11T17:35:30.630017Z"
    },
    "id": "H6UEYxlLiNxt",
    "outputId": "68238b42-857b-42c1-9e54-663e06daefd0"
   },
   "outputs": [
    {
     "data": {
      "text/plain": [
       "array([0., 0., 0., 0., 0., 0., 0., 0., 0., 1.], dtype=float32)"
      ]
     },
     "execution_count": 21,
     "metadata": {},
     "output_type": "execute_result"
    }
   ],
   "source": [
    "Y_test[0]"
   ]
  },
  {
   "cell_type": "markdown",
   "metadata": {
    "id": "9IbhnmFpiNxt"
   },
   "source": [
    "# Modeling"
   ]
  },
  {
   "cell_type": "markdown",
   "metadata": {
    "id": "uDhLxA2LiNxt"
   },
   "source": [
    "## Create the model\n",
    "\n",
    "**TASK 5: Use Keras to create a model consisting of at least the following layers (but feel free to experiment):**\n",
    "\n",
    "* 2D Convolutional Layer, filters=28 and kernel_size=(3,3)\n",
    "* Pooling Layer where pool_size = (2,2) strides=(1,1)\n",
    "\n",
    "* Flatten Layer\n",
    "* Dense Layer (128 Neurons, but feel free to play around with this value), RELU activation\n",
    "\n",
    "* Final Dense Layer of 10 Neurons with a softmax activation\n",
    "\n",
    "**Then compile the model with these parameters: loss='categorical_crossentropy', optimizer='rmsprop', metrics=['accuracy']**"
   ]
  },
  {
   "cell_type": "code",
   "execution_count": 22,
   "metadata": {
    "execution": {
     "iopub.execute_input": "2022-10-11T17:35:30.637774Z",
     "iopub.status.busy": "2022-10-11T17:35:30.637422Z",
     "iopub.status.idle": "2022-10-11T17:35:30.646616Z",
     "shell.execute_reply": "2022-10-11T17:35:30.645265Z",
     "shell.execute_reply.started": "2022-10-11T17:35:30.637729Z"
    },
    "id": "axYKeQHiiNxt",
    "tags": []
   },
   "outputs": [],
   "source": [
    "from tensorflow.keras.models import Sequential\n",
    "from tensorflow.keras.layers import Dense, Conv2D, MaxPool2D, Flatten, Dropout, BatchNormalization"
   ]
  },
  {
   "cell_type": "markdown",
   "metadata": {
    "id": "086TrZwBiNxu"
   },
   "source": [
    "##  Model Training \n",
    "\n",
    "**TASK 6: Train/Fit the model to the x_train set by using EarlyStop. Amount of epochs is up to you.**"
   ]
  },
  {
   "cell_type": "code",
   "execution_count": 23,
   "metadata": {
    "execution": {
     "iopub.execute_input": "2022-10-11T17:35:30.648087Z",
     "iopub.status.busy": "2022-10-11T17:35:30.647668Z",
     "iopub.status.idle": "2022-10-11T17:35:30.794601Z",
     "shell.execute_reply": "2022-10-11T17:35:30.794124Z",
     "shell.execute_reply.started": "2022-10-11T17:35:30.648068Z"
    },
    "id": "dk_288xDiNxu",
    "tags": []
   },
   "outputs": [
    {
     "name": "stderr",
     "output_type": "stream",
     "text": [
      "2022-10-11 20:35:30.693420: I tensorflow/stream_executor/cuda/cuda_gpu_executor.cc:980] successful NUMA node read from SysFS had negative value (-1), but there must be at least one NUMA node, so returning NUMA node zero\n",
      "2022-10-11 20:35:30.693734: W tensorflow/stream_executor/platform/default/dso_loader.cc:64] Could not load dynamic library 'libcudart.so.11.0'; dlerror: libcudart.so.11.0: cannot open shared object file: No such file or directory\n",
      "2022-10-11 20:35:30.693807: W tensorflow/stream_executor/platform/default/dso_loader.cc:64] Could not load dynamic library 'libcublas.so.11'; dlerror: libcublas.so.11: cannot open shared object file: No such file or directory\n",
      "2022-10-11 20:35:30.693879: W tensorflow/stream_executor/platform/default/dso_loader.cc:64] Could not load dynamic library 'libcublasLt.so.11'; dlerror: libcublasLt.so.11: cannot open shared object file: No such file or directory\n",
      "2022-10-11 20:35:30.693950: W tensorflow/stream_executor/platform/default/dso_loader.cc:64] Could not load dynamic library 'libcufft.so.10'; dlerror: libcufft.so.10: cannot open shared object file: No such file or directory\n",
      "2022-10-11 20:35:30.694020: W tensorflow/stream_executor/platform/default/dso_loader.cc:64] Could not load dynamic library 'libcurand.so.10'; dlerror: libcurand.so.10: cannot open shared object file: No such file or directory\n",
      "2022-10-11 20:35:30.694088: W tensorflow/stream_executor/platform/default/dso_loader.cc:64] Could not load dynamic library 'libcusolver.so.11'; dlerror: libcusolver.so.11: cannot open shared object file: No such file or directory\n",
      "2022-10-11 20:35:30.694157: W tensorflow/stream_executor/platform/default/dso_loader.cc:64] Could not load dynamic library 'libcusparse.so.11'; dlerror: libcusparse.so.11: cannot open shared object file: No such file or directory\n",
      "2022-10-11 20:35:30.694226: W tensorflow/stream_executor/platform/default/dso_loader.cc:64] Could not load dynamic library 'libcudnn.so.8'; dlerror: libcudnn.so.8: cannot open shared object file: No such file or directory\n",
      "2022-10-11 20:35:30.694237: W tensorflow/core/common_runtime/gpu/gpu_device.cc:1934] Cannot dlopen some GPU libraries. Please make sure the missing libraries mentioned above are installed properly if you would like to use GPU. Follow the guide at https://www.tensorflow.org/install/gpu for how to download and setup the required libraries for your platform.\n",
      "Skipping registering GPU devices...\n",
      "2022-10-11 20:35:30.694663: I tensorflow/core/platform/cpu_feature_guard.cc:193] This TensorFlow binary is optimized with oneAPI Deep Neural Network Library (oneDNN) to use the following CPU instructions in performance-critical operations:  AVX2 FMA\n",
      "To enable them in other operations, rebuild TensorFlow with the appropriate compiler flags.\n"
     ]
    }
   ],
   "source": [
    "model = Sequential()\n",
    "model.add(Conv2D(filters=28, kernel_size=(3,3), input_shape=(28, 28, 1), activation='relu', padding='same'))\n",
    "model.add(MaxPool2D(pool_size=(2, 2), strides=(1,1)))\n",
    "\n",
    "model.add(Conv2D(filters=28, kernel_size=(3,3), activation='relu', padding='same'))\n",
    "model.add(MaxPool2D(pool_size=(2, 2)))\n",
    "\n",
    "\n",
    "model.add(Flatten())\n",
    "model.add(Dense(128, activation='relu')) \n",
    "model.add(Dropout(0.5))\n",
    "model.add(Dense(64, activation='relu'))\n",
    "model.add(Dense(10, activation='softmax'))\n",
    "model.compile(loss='categorical_crossentropy', optimizer='rmsprop', metrics=['accuracy'])"
   ]
  },
  {
   "cell_type": "markdown",
   "metadata": {
    "id": "VsjqYbfZiNxu"
   },
   "source": [
    "**TASK 7: Plot values of metrics you used in your model.**"
   ]
  },
  {
   "cell_type": "code",
   "execution_count": 24,
   "metadata": {
    "colab": {
     "base_uri": "https://localhost:8080/"
    },
    "execution": {
     "iopub.execute_input": "2022-10-11T17:35:30.795583Z",
     "iopub.status.busy": "2022-10-11T17:35:30.795409Z",
     "iopub.status.idle": "2022-10-11T17:35:30.811493Z",
     "shell.execute_reply": "2022-10-11T17:35:30.810992Z",
     "shell.execute_reply.started": "2022-10-11T17:35:30.795559Z"
    },
    "id": "1ekLvf2MiNxu",
    "outputId": "288370f0-095e-4a15-d3ef-cecfafda5948"
   },
   "outputs": [
    {
     "name": "stdout",
     "output_type": "stream",
     "text": [
      "Model: \"sequential\"\n",
      "_________________________________________________________________\n",
      " Layer (type)                Output Shape              Param #   \n",
      "=================================================================\n",
      " conv2d (Conv2D)             (None, 28, 28, 28)        280       \n",
      "                                                                 \n",
      " max_pooling2d (MaxPooling2D  (None, 27, 27, 28)       0         \n",
      " )                                                               \n",
      "                                                                 \n",
      " conv2d_1 (Conv2D)           (None, 27, 27, 28)        7084      \n",
      "                                                                 \n",
      " max_pooling2d_1 (MaxPooling  (None, 13, 13, 28)       0         \n",
      " 2D)                                                             \n",
      "                                                                 \n",
      " flatten (Flatten)           (None, 4732)              0         \n",
      "                                                                 \n",
      " dense (Dense)               (None, 128)               605824    \n",
      "                                                                 \n",
      " dropout (Dropout)           (None, 128)               0         \n",
      "                                                                 \n",
      " dense_1 (Dense)             (None, 64)                8256      \n",
      "                                                                 \n",
      " dense_2 (Dense)             (None, 10)                650       \n",
      "                                                                 \n",
      "=================================================================\n",
      "Total params: 622,094\n",
      "Trainable params: 622,094\n",
      "Non-trainable params: 0\n",
      "_________________________________________________________________\n"
     ]
    }
   ],
   "source": [
    "model.summary()"
   ]
  },
  {
   "cell_type": "code",
   "execution_count": 25,
   "metadata": {
    "execution": {
     "iopub.execute_input": "2022-10-11T17:35:30.812470Z",
     "iopub.status.busy": "2022-10-11T17:35:30.812300Z",
     "iopub.status.idle": "2022-10-11T17:35:30.816032Z",
     "shell.execute_reply": "2022-10-11T17:35:30.815503Z",
     "shell.execute_reply.started": "2022-10-11T17:35:30.812447Z"
    },
    "id": "4U5xs6cWiNxv"
   },
   "outputs": [],
   "source": [
    "from tensorflow.keras.callbacks import EarlyStopping"
   ]
  },
  {
   "cell_type": "code",
   "execution_count": 26,
   "metadata": {
    "execution": {
     "iopub.execute_input": "2022-10-11T17:35:30.816973Z",
     "iopub.status.busy": "2022-10-11T17:35:30.816795Z",
     "iopub.status.idle": "2022-10-11T17:35:30.820570Z",
     "shell.execute_reply": "2022-10-11T17:35:30.819826Z",
     "shell.execute_reply.started": "2022-10-11T17:35:30.816955Z"
    },
    "id": "EUCo2hFgiNxv"
   },
   "outputs": [],
   "source": [
    "early_stop = EarlyStopping(monitor='val_loss', mode=\"min\", patience=3, restore_best_weights = True)"
   ]
  },
  {
   "cell_type": "code",
   "execution_count": 27,
   "metadata": {
    "colab": {
     "base_uri": "https://localhost:8080/"
    },
    "execution": {
     "iopub.execute_input": "2022-10-11T17:35:30.822024Z",
     "iopub.status.busy": "2022-10-11T17:35:30.821484Z",
     "iopub.status.idle": "2022-10-11T17:43:35.296871Z",
     "shell.execute_reply": "2022-10-11T17:43:35.296043Z",
     "shell.execute_reply.started": "2022-10-11T17:35:30.822003Z"
    },
    "id": "NekKeoViiNxv",
    "outputId": "e5dc04cb-c72a-4fdd-bc56-739ed4b2dbbc"
   },
   "outputs": [
    {
     "name": "stdout",
     "output_type": "stream",
     "text": [
      "Epoch 1/100\n",
      "1200/1200 [==============================] - 46s 38ms/step - loss: 0.5201 - accuracy: 0.8142 - val_loss: 0.3460 - val_accuracy: 0.8800\n",
      "Epoch 2/100\n",
      "1200/1200 [==============================] - 47s 40ms/step - loss: 0.3329 - accuracy: 0.8835 - val_loss: 0.3373 - val_accuracy: 0.8856\n",
      "Epoch 3/100\n",
      "1200/1200 [==============================] - 48s 40ms/step - loss: 0.2930 - accuracy: 0.8984 - val_loss: 0.2869 - val_accuracy: 0.8971\n",
      "Epoch 4/100\n",
      "1200/1200 [==============================] - 48s 40ms/step - loss: 0.2807 - accuracy: 0.9032 - val_loss: 0.2742 - val_accuracy: 0.9046\n",
      "Epoch 5/100\n",
      "1200/1200 [==============================] - 49s 41ms/step - loss: 0.2751 - accuracy: 0.9083 - val_loss: 0.2869 - val_accuracy: 0.9054\n",
      "Epoch 6/100\n",
      "1200/1200 [==============================] - 48s 40ms/step - loss: 0.2746 - accuracy: 0.9076 - val_loss: 0.2852 - val_accuracy: 0.9067\n",
      "Epoch 7/100\n",
      "1200/1200 [==============================] - 50s 41ms/step - loss: 0.2736 - accuracy: 0.9094 - val_loss: 0.2740 - val_accuracy: 0.9069\n",
      "Epoch 8/100\n",
      "1200/1200 [==============================] - 49s 41ms/step - loss: 0.2765 - accuracy: 0.9082 - val_loss: 0.2978 - val_accuracy: 0.9043\n",
      "Epoch 9/100\n",
      "1200/1200 [==============================] - 49s 41ms/step - loss: 0.2738 - accuracy: 0.9077 - val_loss: 0.2909 - val_accuracy: 0.9019\n",
      "Epoch 10/100\n",
      "1200/1200 [==============================] - 50s 42ms/step - loss: 0.2698 - accuracy: 0.9099 - val_loss: 0.3584 - val_accuracy: 0.8877\n"
     ]
    },
    {
     "data": {
      "text/plain": [
       "<keras.callbacks.History at 0x7ff69c5d3b50>"
      ]
     },
     "execution_count": 27,
     "metadata": {},
     "output_type": "execute_result"
    }
   ],
   "source": [
    "model.fit(X_train, Y_train, batch_size=50, epochs=100, validation_data=(X_test,Y_test),callbacks=[early_stop])"
   ]
  },
  {
   "cell_type": "markdown",
   "metadata": {
    "id": "u0-LyQYSiNxw"
   },
   "source": [
    "## Model Evaluation\n",
    "\n",
    "**TASK 8: Show the accuracy,precision,recall,f1-score the model achieved on the x_test data set. Keep in mind, there are quite a few ways to do this, but we recommend following the same procedure we showed in the MNIST lecture.**"
   ]
  },
  {
   "cell_type": "code",
   "execution_count": 28,
   "metadata": {
    "colab": {
     "base_uri": "https://localhost:8080/",
     "height": 206
    },
    "execution": {
     "iopub.execute_input": "2022-10-11T17:43:35.297822Z",
     "iopub.status.busy": "2022-10-11T17:43:35.297681Z",
     "iopub.status.idle": "2022-10-11T17:43:35.307775Z",
     "shell.execute_reply": "2022-10-11T17:43:35.307093Z",
     "shell.execute_reply.started": "2022-10-11T17:43:35.297803Z"
    },
    "id": "BGhy129GlMxa",
    "outputId": "4ea3e0de-cf05-4c4e-abc7-d94c33f4538d"
   },
   "outputs": [
    {
     "data": {
      "text/html": [
       "<div>\n",
       "<style scoped>\n",
       "    .dataframe tbody tr th:only-of-type {\n",
       "        vertical-align: middle;\n",
       "    }\n",
       "\n",
       "    .dataframe tbody tr th {\n",
       "        vertical-align: top;\n",
       "    }\n",
       "\n",
       "    .dataframe thead th {\n",
       "        text-align: right;\n",
       "    }\n",
       "</style>\n",
       "<table border=\"1\" class=\"dataframe\">\n",
       "  <thead>\n",
       "    <tr style=\"text-align: right;\">\n",
       "      <th></th>\n",
       "      <th>loss</th>\n",
       "      <th>accuracy</th>\n",
       "      <th>val_loss</th>\n",
       "      <th>val_accuracy</th>\n",
       "    </tr>\n",
       "  </thead>\n",
       "  <tbody>\n",
       "    <tr>\n",
       "      <th>0</th>\n",
       "      <td>0.520</td>\n",
       "      <td>0.814</td>\n",
       "      <td>0.346</td>\n",
       "      <td>0.880</td>\n",
       "    </tr>\n",
       "    <tr>\n",
       "      <th>1</th>\n",
       "      <td>0.333</td>\n",
       "      <td>0.884</td>\n",
       "      <td>0.337</td>\n",
       "      <td>0.886</td>\n",
       "    </tr>\n",
       "    <tr>\n",
       "      <th>2</th>\n",
       "      <td>0.293</td>\n",
       "      <td>0.898</td>\n",
       "      <td>0.287</td>\n",
       "      <td>0.897</td>\n",
       "    </tr>\n",
       "    <tr>\n",
       "      <th>3</th>\n",
       "      <td>0.281</td>\n",
       "      <td>0.903</td>\n",
       "      <td>0.274</td>\n",
       "      <td>0.905</td>\n",
       "    </tr>\n",
       "    <tr>\n",
       "      <th>4</th>\n",
       "      <td>0.275</td>\n",
       "      <td>0.908</td>\n",
       "      <td>0.287</td>\n",
       "      <td>0.905</td>\n",
       "    </tr>\n",
       "  </tbody>\n",
       "</table>\n",
       "</div>"
      ],
      "text/plain": [
       "   loss  accuracy  val_loss  val_accuracy\n",
       "0 0.520     0.814     0.346         0.880\n",
       "1 0.333     0.884     0.337         0.886\n",
       "2 0.293     0.898     0.287         0.897\n",
       "3 0.281     0.903     0.274         0.905\n",
       "4 0.275     0.908     0.287         0.905"
      ]
     },
     "execution_count": 28,
     "metadata": {},
     "output_type": "execute_result"
    }
   ],
   "source": [
    "summary = pd.DataFrame(model.history.history)\n",
    "summary.head()"
   ]
  },
  {
   "cell_type": "code",
   "execution_count": 29,
   "metadata": {
    "colab": {
     "base_uri": "https://localhost:8080/",
     "height": 374
    },
    "execution": {
     "iopub.execute_input": "2022-10-11T17:43:35.309062Z",
     "iopub.status.busy": "2022-10-11T17:43:35.308819Z",
     "iopub.status.idle": "2022-10-11T17:43:35.491386Z",
     "shell.execute_reply": "2022-10-11T17:43:35.490584Z",
     "shell.execute_reply.started": "2022-10-11T17:43:35.309037Z"
    },
    "id": "ALHniCpJm2ux",
    "outputId": "7cbf0512-aa9c-45f1-da3b-6f7de3c704e4"
   },
   "outputs": [
    {
     "data": {
      "image/png": "[encoded data removed]",
      "text/plain": [
       "<Figure size 1000x600 with 1 Axes>"
      ]
     },
     "metadata": {},
     "output_type": "display_data"
    }
   ],
   "source": [
    "summary[[\"loss\", \"val_loss\"]].plot();"
   ]
  },
  {
   "cell_type": "code",
   "execution_count": 30,
   "metadata": {
    "colab": {
     "base_uri": "https://localhost:8080/",
     "height": 374
    },
    "execution": {
     "iopub.execute_input": "2022-10-11T17:43:35.492727Z",
     "iopub.status.busy": "2022-10-11T17:43:35.492469Z",
     "iopub.status.idle": "2022-10-11T17:43:35.668063Z",
     "shell.execute_reply": "2022-10-11T17:43:35.667404Z",
     "shell.execute_reply.started": "2022-10-11T17:43:35.492700Z"
    },
    "id": "8lrOhWBrtUnw",
    "outputId": "4dc0faa3-9632-4f6b-cebf-559e954d2dd6"
   },
   "outputs": [
    {
     "data": {
      "image/png": "[encoded data removed]",
      "text/plain": [
       "<Figure size 1000x600 with 1 Axes>"
      ]
     },
     "metadata": {},
     "output_type": "display_data"
    }
   ],
   "source": [
    "summary[[\"accuracy\", \"val_accuracy\"]].plot();"
   ]
  },
  {
   "cell_type": "code",
   "execution_count": 31,
   "metadata": {
    "execution": {
     "iopub.execute_input": "2022-10-11T17:43:35.669284Z",
     "iopub.status.busy": "2022-10-11T17:43:35.668897Z",
     "iopub.status.idle": "2022-10-11T17:43:35.708322Z",
     "shell.execute_reply": "2022-10-11T17:43:35.707692Z",
     "shell.execute_reply.started": "2022-10-11T17:43:35.669258Z"
    },
    "id": "VvXLYlxkiNxw"
   },
   "outputs": [],
   "source": [
    "from sklearn.metrics import classification_report, confusion_matrix"
   ]
  },
  {
   "cell_type": "code",
   "execution_count": 32,
   "metadata": {
    "execution": {
     "iopub.execute_input": "2022-10-11T17:43:35.709086Z",
     "iopub.status.busy": "2022-10-11T17:43:35.708947Z",
     "iopub.status.idle": "2022-10-11T17:43:37.629002Z",
     "shell.execute_reply": "2022-10-11T17:43:37.628379Z",
     "shell.execute_reply.started": "2022-10-11T17:43:35.709067Z"
    },
    "id": "1w1qa7TTiNxw"
   },
   "outputs": [
    {
     "name": "stdout",
     "output_type": "stream",
     "text": [
      "313/313 [==============================] - 2s 5ms/step\n"
     ]
    }
   ],
   "source": [
    "pred_prob = model.predict(X_test)"
   ]
  },
  {
   "cell_type": "code",
   "execution_count": 33,
   "metadata": {
    "execution": {
     "iopub.execute_input": "2022-10-11T17:43:37.629901Z",
     "iopub.status.busy": "2022-10-11T17:43:37.629750Z",
     "iopub.status.idle": "2022-10-11T17:43:37.633070Z",
     "shell.execute_reply": "2022-10-11T17:43:37.632535Z",
     "shell.execute_reply.started": "2022-10-11T17:43:37.629883Z"
    },
    "id": "q_ViFVytkrlh"
   },
   "outputs": [],
   "source": [
    "y_pred = np.argmax(pred_prob, axis=1)"
   ]
  },
  {
   "cell_type": "code",
   "execution_count": 34,
   "metadata": {
    "colab": {
     "base_uri": "https://localhost:8080/"
    },
    "execution": {
     "iopub.execute_input": "2022-10-11T17:43:37.633949Z",
     "iopub.status.busy": "2022-10-11T17:43:37.633798Z",
     "iopub.status.idle": "2022-10-11T17:43:37.659766Z",
     "shell.execute_reply": "2022-10-11T17:43:37.659100Z",
     "shell.execute_reply.started": "2022-10-11T17:43:37.633933Z"
    },
    "id": "s0tG4QXViNxw",
    "outputId": "69ff9164-1446-473e-bcd0-02e446958fb7"
   },
   "outputs": [
    {
     "name": "stdout",
     "output_type": "stream",
     "text": [
      "              precision    recall  f1-score   support\n",
      "\n",
      "           0       0.84      0.88      0.86      1000\n",
      "           1       0.99      0.98      0.99      1000\n",
      "           2       0.86      0.85      0.85      1000\n",
      "           3       0.87      0.93      0.90      1000\n",
      "           4       0.81      0.87      0.84      1000\n",
      "           5       0.98      0.98      0.98      1000\n",
      "           6       0.79      0.66      0.72      1000\n",
      "           7       0.95      0.98      0.96      1000\n",
      "           8       0.98      0.98      0.98      1000\n",
      "           9       0.98      0.95      0.97      1000\n",
      "\n",
      "    accuracy                           0.91     10000\n",
      "   macro avg       0.91      0.91      0.91     10000\n",
      "weighted avg       0.91      0.91      0.91     10000\n",
      "\n"
     ]
    }
   ],
   "source": [
    "print(classification_report(y_test, y_pred))\n"
   ]
  },
  {
   "cell_type": "markdown",
   "metadata": {
    "id": "QNg9lc04iNxw"
   },
   "source": [
    "## Prediction"
   ]
  },
  {
   "cell_type": "code",
   "execution_count": 35,
   "metadata": {
    "execution": {
     "iopub.execute_input": "2022-10-11T17:43:37.660562Z",
     "iopub.status.busy": "2022-10-11T17:43:37.660435Z",
     "iopub.status.idle": "2022-10-11T17:43:37.663641Z",
     "shell.execute_reply": "2022-10-11T17:43:37.663059Z",
     "shell.execute_reply.started": "2022-10-11T17:43:37.660545Z"
    },
    "id": "quJskY33iNxw"
   },
   "outputs": [],
   "source": [
    "from tensorflow.keras.models import load_model\n",
    "from tensorflow.keras.preprocessing import image"
   ]
  },
  {
   "cell_type": "code",
   "execution_count": 36,
   "metadata": {
    "execution": {
     "iopub.execute_input": "2022-10-11T17:43:37.664467Z",
     "iopub.status.busy": "2022-10-11T17:43:37.664340Z",
     "iopub.status.idle": "2022-10-11T17:43:37.699829Z",
     "shell.execute_reply": "2022-10-11T17:43:37.699160Z",
     "shell.execute_reply.started": "2022-10-11T17:43:37.664450Z"
    },
    "id": "DaDEl3cdiNxw"
   },
   "outputs": [],
   "source": [
    "model.save('cloth_predict.h5')"
   ]
  },
  {
   "cell_type": "code",
   "execution_count": 37,
   "metadata": {
    "execution": {
     "iopub.execute_input": "2022-10-11T17:43:37.700688Z",
     "iopub.status.busy": "2022-10-11T17:43:37.700543Z",
     "iopub.status.idle": "2022-10-11T17:43:37.798824Z",
     "shell.execute_reply": "2022-10-11T17:43:37.798268Z",
     "shell.execute_reply.started": "2022-10-11T17:43:37.700661Z"
    },
    "id": "0D_xJ_b1t0OK"
   },
   "outputs": [],
   "source": [
    "model = load_model('cloth_predict.h5')"
   ]
  },
  {
   "cell_type": "code",
   "execution_count": 38,
   "metadata": {
    "colab": {
     "base_uri": "https://localhost:8080/",
     "height": 391
    },
    "execution": {
     "iopub.execute_input": "2022-10-11T17:43:37.799719Z",
     "iopub.status.busy": "2022-10-11T17:43:37.799542Z",
     "iopub.status.idle": "2022-10-11T17:43:37.962883Z",
     "shell.execute_reply": "2022-10-11T17:43:37.962206Z",
     "shell.execute_reply.started": "2022-10-11T17:43:37.799695Z"
    },
    "id": "dk44VE88uXs1",
    "outputId": "5eaa8de4-df3a-4af2-ae16-0a53709fcb8f"
   },
   "outputs": [
    {
     "data": {
      "text/plain": [
       "<matplotlib.image.AxesImage at 0x7ff66c606790>"
      ]
     },
     "execution_count": 38,
     "metadata": {},
     "output_type": "execute_result"
    },
    {
     "data": {
      "image/png": "[encoded data removed]",
      "text/plain": [
       "<Figure size 1000x600 with 1 Axes>"
      ]
     },
     "metadata": {},
     "output_type": "display_data"
    }
   ],
   "source": [
    "img = X_test[459].reshape(28, 28)\n",
    "plt.imshow(img)"
   ]
  },
  {
   "cell_type": "code",
   "execution_count": 39,
   "metadata": {
    "colab": {
     "base_uri": "https://localhost:8080/"
    },
    "execution": {
     "iopub.execute_input": "2022-10-11T17:43:37.966765Z",
     "iopub.status.busy": "2022-10-11T17:43:37.966534Z",
     "iopub.status.idle": "2022-10-11T17:43:37.971321Z",
     "shell.execute_reply": "2022-10-11T17:43:37.970809Z",
     "shell.execute_reply.started": "2022-10-11T17:43:37.966745Z"
    },
    "id": "rvxpVJhtwcsj",
    "outputId": "dd3b6f5f-7ac4-40b4-dab9-b7111f3223ac"
   },
   "outputs": [
    {
     "data": {
      "text/plain": [
       "(1, 28, 28)"
      ]
     },
     "execution_count": 39,
     "metadata": {},
     "output_type": "execute_result"
    }
   ],
   "source": [
    "my_image = np.expand_dims(img, axis=0)\n",
    "my_image.shape"
   ]
  },
  {
   "cell_type": "code",
   "execution_count": 40,
   "metadata": {
    "colab": {
     "base_uri": "https://localhost:8080/"
    },
    "execution": {
     "iopub.execute_input": "2022-10-11T17:43:37.972181Z",
     "iopub.status.busy": "2022-10-11T17:43:37.972061Z",
     "iopub.status.idle": "2022-10-11T17:43:38.077805Z",
     "shell.execute_reply": "2022-10-11T17:43:38.077199Z",
     "shell.execute_reply.started": "2022-10-11T17:43:37.972165Z"
    },
    "id": "f05yryNUt0H1",
    "outputId": "fe46b6f1-df4e-4741-d5fd-69044d9cdf97"
   },
   "outputs": [
    {
     "name": "stdout",
     "output_type": "stream",
     "text": [
      "1/1 [==============================] - 0s 66ms/step\n"
     ]
    },
    {
     "data": {
      "text/plain": [
       "6"
      ]
     },
     "execution_count": 40,
     "metadata": {},
     "output_type": "execute_result"
    }
   ],
   "source": [
    "np.argmax(model.predict(my_image))"
   ]
  },
  {
   "cell_type": "code",
   "execution_count": 41,
   "metadata": {
    "colab": {
     "base_uri": "https://localhost:8080/"
    },
    "execution": {
     "iopub.execute_input": "2022-10-11T17:43:38.078914Z",
     "iopub.status.busy": "2022-10-11T17:43:38.078696Z",
     "iopub.status.idle": "2022-10-11T17:43:38.084049Z",
     "shell.execute_reply": "2022-10-11T17:43:38.083434Z",
     "shell.execute_reply.started": "2022-10-11T17:43:38.078888Z"
    },
    "id": "LUnRk7K1w2fW",
    "outputId": "ebcc8cb2-9496-4d59-e84a-7b1158e9b1a3"
   },
   "outputs": [
    {
     "data": {
      "text/plain": [
       "['T-shirt/top',\n",
       " 'Trouser',\n",
       " 'Pullover',\n",
       " 'Dress',\n",
       " 'Coat',\n",
       " 'Sandal',\n",
       " 'Shirt',\n",
       " 'Sneaker',\n",
       " 'Bag',\n",
       " 'Ankle boot']"
      ]
     },
     "execution_count": 41,
     "metadata": {},
     "output_type": "execute_result"
    }
   ],
   "source": [
    "classes"
   ]
  },
  {
   "cell_type": "code",
   "execution_count": 42,
   "metadata": {
    "execution": {
     "iopub.execute_input": "2022-10-11T17:43:38.085149Z",
     "iopub.status.busy": "2022-10-11T17:43:38.084957Z",
     "iopub.status.idle": "2022-10-11T17:43:38.100015Z",
     "shell.execute_reply": "2022-10-11T17:43:38.099310Z",
     "shell.execute_reply.started": "2022-10-11T17:43:38.085124Z"
    },
    "id": "fdTm3t7sxkXh"
   },
   "outputs": [],
   "source": [
    "def pred_and_show_img (model, img_number):\n",
    "\n",
    "  \"\"\"\n",
    "  shows predicted image and the model prediction result\n",
    "  \"\"\"\n",
    "\n",
    "  img = X_test[img_number].reshape(28, 28)\n",
    "  plt.imshow(img)\n",
    "\n",
    "  my_image = np.expand_dims(img, axis=0)\n",
    "  prediction = np.argmax(model.predict(my_image))\n",
    "  print(\"Our model predicted this image in the\" , classes[prediction], \"class\")\n",
    " \n",
    "  "
   ]
  },
  {
   "cell_type": "code",
   "execution_count": 43,
   "metadata": {
    "colab": {
     "base_uri": "https://localhost:8080/",
     "height": 391
    },
    "execution": {
     "iopub.execute_input": "2022-10-11T17:43:38.101070Z",
     "iopub.status.busy": "2022-10-11T17:43:38.100891Z",
     "iopub.status.idle": "2022-10-11T17:43:38.305681Z",
     "shell.execute_reply": "2022-10-11T17:43:38.305070Z",
     "shell.execute_reply.started": "2022-10-11T17:43:38.101047Z"
    },
    "id": "9p_69sr-0IO-",
    "outputId": "79a12e38-35f2-435b-9457-093f27b74f76"
   },
   "outputs": [
    {
     "name": "stdout",
     "output_type": "stream",
     "text": [
      "1/1 [==============================] - 0s 17ms/step\n",
      "Our model predicted this image in the Coat class\n"
     ]
    },
    {
     "data": {
      "image/png": "[encoded data removed]",
      "text/plain": [
       "<Figure size 1000x600 with 1 Axes>"
      ]
     },
     "metadata": {},
     "output_type": "display_data"
    }
   ],
   "source": [
    "pred_and_show_img(model, 6452)"
   ]
  },
  {
   "cell_type": "markdown",
   "metadata": {
    "id": "-nWKBPtyiNxw"
   },
   "source": [
    "# End of Assignment"
   ]
  },
  {
   "cell_type": "markdown",
   "metadata": {
    "id": "tPO_vYkxiNxx"
   },
   "source": [
    "___\n",
    "\n",
    "<p style=\"text-align: center;\"><img src=\"https://docs.google.com/uc?id=1lY0Uj5R04yMY3-ZppPWxqCr5pvBLYPnV\" class=\"img-fluid\" alt=\"CLRSWY\"></p>\n",
    "\n",
    "___"
   ]
  }
 ],
 "metadata": {
  "accelerator": "GPU",
  "colab": {
   "collapsed_sections": [],
   "provenance": []
  },
  "kernelspec": {
   "display_name": "Python 3 (ipykernel)",
   "language": "python",
   "name": "python3"
  },
  "language_info": {
   "codemirror_mode": {
    "name": "ipython",
    "version": 3
   },
   "file_extension": ".py",
   "mimetype": "text/x-python",
   "name": "python",
   "nbconvert_exporter": "python",
   "pygments_lexer": "ipython3",
   "version": "3.9.12"
  },
  "toc": {
   "base_numbering": 1,
   "nav_menu": {},
   "number_sections": false,
   "sideBar": true,
   "skip_h1_title": false,
   "title_cell": "Table of Contents",
   "title_sidebar": "Contents",
   "toc_cell": false,
   "toc_position": {},
   "toc_section_display": true,
   "toc_window_display": true
  },
  "vscode": {
   "interpreter": {
    "hash": "916dbcbb3f70747c44a77c7bcd40155683ae19c65e1c03b4aa3499c5328201f1"
   }
  }
 },
 "nbformat": 4,
 "nbformat_minor": 4
}
