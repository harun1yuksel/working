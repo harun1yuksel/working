{
 "cells": [
  {
   "cell_type": "markdown",
   "metadata": {
    "id": "t-2WmYTriNxg"
   },
   "source": [
    "___\n",
    "\n",
    "<p style=\"text-align: center;\"><img src=\"https://docs.google.com/uc?id=1lY0Uj5R04yMY3-ZppPWxqCr5pvBLYPnV\" class=\"img-fluid\" alt=\"CLRSWY\"></p>\n",
    "\n",
    "___"
   ]
  },
  {
   "cell_type": "markdown",
   "metadata": {
    "id": "ED-G6xRxiNxi"
   },
   "source": [
    "<h1 style=\"text-align: center;\">Deep Learning<br><br>Assignment-2 (CNN)<br><br>Image Classification with CNN<br><h1>"
   ]
  },
  {
   "cell_type": "markdown",
   "metadata": {
    "id": "NbnNOOrDiNxj"
   },
   "source": [
    "# Task and Dataset Info\n",
    "\n",
    "Welcome to second assignment of Deep learning lesson. Follow the instructions and complete the assignment.\n",
    "\n",
    "**Build an image classifier with Convolutional Neural Networks for the Fashion MNIST dataset. This data set includes 10 labels of different clothing types with 28 by 28 *grayscale* images. There is a training set of 60,000 images and 10,000 test images.**\n",
    "\n",
    "    Label\tDescription\n",
    "    0\t    T-shirt/top\n",
    "    1\t    Trouser\n",
    "    2\t    Pullover\n",
    "    3\t    Dress\n",
    "    4\t    Coat\n",
    "    5\t    Sandal\n",
    "    6\t    Shirt\n",
    "    7\t    Sneaker\n",
    "    8\t    Bag\n",
    "    9\t    Ankle boot"
   ]
  },
  {
   "cell_type": "markdown",
   "metadata": {
    "id": "5w78qBAKiNxk"
   },
   "source": [
    "# Import Libraries"
   ]
  },
  {
   "cell_type": "code",
   "execution_count": 1,
   "metadata": {
    "execution": {
     "iopub.execute_input": "2022-10-11T09:37:52.983438Z",
     "iopub.status.busy": "2022-10-11T09:37:52.983056Z",
     "iopub.status.idle": "2022-10-11T09:37:53.871141Z",
     "shell.execute_reply": "2022-10-11T09:37:53.870575Z",
     "shell.execute_reply.started": "2022-10-11T09:37:52.983306Z"
    },
    "id": "l1989p2PiNxk"
   },
   "outputs": [],
   "source": [
    "import os\n",
    "import numpy as np\n",
    "import pandas as pd\n",
    "import matplotlib.pyplot as plt\n",
    "import seaborn as sns\n",
    "from matplotlib.image import imread\n",
    "\n",
    "#import warnings\n",
    "#warnings.filterwarnings(\"ignore\")\n",
    "#warnings.warn(\"this will not show\")\n",
    "\n",
    "plt.rcParams[\"figure.figsize\"] = (10,6)\n",
    "\n",
    "sns.set_style(\"whitegrid\")\n",
    "pd.set_option('display.float_format', lambda x: '%.3f' % x)\n",
    "\n",
    "# Set it None to display all rows in the dataframe\n",
    "# pd.set_option('display.max_rows', None)\n",
    "\n",
    "# Set it to None to display all columns in the dataframe\n",
    "pd.set_option('display.max_columns', None)"
   ]
  },
  {
   "cell_type": "markdown",
   "metadata": {
    "id": "UgOwuTt_iNxl"
   },
   "source": [
    "# Recognizing and Understanding Data\n",
    "\n",
    "**TASK 1: Run the code below to download the dataset using Keras.**"
   ]
  },
  {
   "cell_type": "code",
   "execution_count": 2,
   "metadata": {
    "execution": {
     "iopub.execute_input": "2022-10-11T09:37:53.871955Z",
     "iopub.status.busy": "2022-10-11T09:37:53.871821Z",
     "iopub.status.idle": "2022-10-11T09:37:55.271602Z",
     "shell.execute_reply": "2022-10-11T09:37:55.271028Z",
     "shell.execute_reply.started": "2022-10-11T09:37:53.871928Z"
    },
    "id": "RkAsWdc5iNxm"
   },
   "outputs": [],
   "source": [
    "from tensorflow.keras.datasets import fashion_mnist\n",
    "\n",
    "(X_train, y_train), (X_test, y_test) = fashion_mnist.load_data()"
   ]
  },
  {
   "cell_type": "code",
   "execution_count": 3,
   "metadata": {
    "colab": {
     "base_uri": "https://localhost:8080/"
    },
    "execution": {
     "iopub.execute_input": "2022-10-11T09:38:08.443012Z",
     "iopub.status.busy": "2022-10-11T09:38:08.442407Z",
     "iopub.status.idle": "2022-10-11T09:38:08.453175Z",
     "shell.execute_reply": "2022-10-11T09:38:08.452537Z",
     "shell.execute_reply.started": "2022-10-11T09:38:08.442940Z"
    },
    "id": "dCEWAR0OiNxn",
    "outputId": "18a419ca-f6b2-4f5e-a350-b4ebc38a245d",
    "tags": []
   },
   "outputs": [
    {
     "data": {
      "text/plain": [
       "(10000, 28, 28)"
      ]
     },
     "execution_count": 3,
     "metadata": {},
     "output_type": "execute_result"
    }
   ],
   "source": [
    "X_test.shape"
   ]
  },
  {
   "cell_type": "code",
   "execution_count": 4,
   "metadata": {
    "colab": {
     "base_uri": "https://localhost:8080/"
    },
    "execution": {
     "iopub.execute_input": "2022-10-11T09:38:14.021422Z",
     "iopub.status.busy": "2022-10-11T09:38:14.020556Z",
     "iopub.status.idle": "2022-10-11T09:38:14.027637Z",
     "shell.execute_reply": "2022-10-11T09:38:14.026691Z",
     "shell.execute_reply.started": "2022-10-11T09:38:14.021375Z"
    },
    "id": "z6IL6asDiNxn",
    "outputId": "0fb41801-d197-4b5c-f0ed-71483f11164c",
    "tags": []
   },
   "outputs": [
    {
     "data": {
      "text/plain": [
       "(60000, 28, 28)"
      ]
     },
     "execution_count": 4,
     "metadata": {},
     "output_type": "execute_result"
    }
   ],
   "source": [
    "X_train.shape"
   ]
  },
  {
   "cell_type": "markdown",
   "metadata": {
    "id": "pWoLw4uGiNxo"
   },
   "source": [
    "**TASK 2: Use matplotlib to view an image from the data set. It can be any image from the data set.**"
   ]
  },
  {
   "cell_type": "code",
   "execution_count": 5,
   "metadata": {
    "execution": {
     "iopub.execute_input": "2022-10-11T09:38:16.268931Z",
     "iopub.status.busy": "2022-10-11T09:38:16.268632Z",
     "iopub.status.idle": "2022-10-11T09:38:16.272833Z",
     "shell.execute_reply": "2022-10-11T09:38:16.272057Z",
     "shell.execute_reply.started": "2022-10-11T09:38:16.268908Z"
    },
    "id": "Mex_XkFmiNxo",
    "tags": []
   },
   "outputs": [],
   "source": [
    "classes=[\"T-shirt/top\", \"Trouser\",\"Pullover\",\"Dress\",\"Coat\",\"Sandal\",\"Shirt\",\"Sneaker\",\"Bag\",\"Ankle boot\"]"
   ]
  },
  {
   "cell_type": "code",
   "execution_count": 6,
   "metadata": {
    "colab": {
     "base_uri": "https://localhost:8080/"
    },
    "execution": {
     "iopub.execute_input": "2022-10-11T09:38:16.980974Z",
     "iopub.status.busy": "2022-10-11T09:38:16.980786Z",
     "iopub.status.idle": "2022-10-11T09:38:16.984795Z",
     "shell.execute_reply": "2022-10-11T09:38:16.984285Z",
     "shell.execute_reply.started": "2022-10-11T09:38:16.980944Z"
    },
    "id": "mprK9dM2iNxo",
    "outputId": "99ea447b-d1b2-41d1-a750-0b825fc53cc3",
    "tags": []
   },
   "outputs": [
    {
     "data": {
      "text/plain": [
       "10000"
      ]
     },
     "execution_count": 6,
     "metadata": {},
     "output_type": "execute_result"
    }
   ],
   "source": [
    "X_test.shape[0]"
   ]
  },
  {
   "cell_type": "code",
   "execution_count": 7,
   "metadata": {
    "colab": {
     "base_uri": "https://localhost:8080/",
     "height": 391
    },
    "execution": {
     "iopub.execute_input": "2022-10-11T09:38:22.170192Z",
     "iopub.status.busy": "2022-10-11T09:38:22.169307Z",
     "iopub.status.idle": "2022-10-11T09:38:22.320369Z",
     "shell.execute_reply": "2022-10-11T09:38:22.319865Z",
     "shell.execute_reply.started": "2022-10-11T09:38:22.170117Z"
    },
    "id": "ptGa5OpPiNxp",
    "outputId": "7ec8d165-91e6-4c01-e2b2-1c1b62582e23",
    "tags": []
   },
   "outputs": [
    {
     "data": {
      "text/plain": [
       "<matplotlib.image.AxesImage at 0x7f42ea0b0d50>"
      ]
     },
     "execution_count": 7,
     "metadata": {},
     "output_type": "execute_result"
    },
    {
     "data": {
      "image/png": "[encoded data removed]",
      "text/plain": [
       "<Figure size 720x432 with 1 Axes>"
      ]
     },
     "metadata": {},
     "output_type": "display_data"
    }
   ],
   "source": [
    "plt.imshow(X_test[0])"
   ]
  },
  {
   "cell_type": "code",
   "execution_count": 8,
   "metadata": {
    "execution": {
     "iopub.execute_input": "2022-10-11T09:38:26.043582Z",
     "iopub.status.busy": "2022-10-11T09:38:26.043386Z",
     "iopub.status.idle": "2022-10-11T09:38:26.046533Z",
     "shell.execute_reply": "2022-10-11T09:38:26.046124Z",
     "shell.execute_reply.started": "2022-10-11T09:38:26.043540Z"
    },
    "id": "DTlJduYCiNxp",
    "tags": []
   },
   "outputs": [],
   "source": [
    "import random"
   ]
  },
  {
   "cell_type": "code",
   "execution_count": 9,
   "metadata": {
    "colab": {
     "base_uri": "https://localhost:8080/",
     "height": 391
    },
    "execution": {
     "iopub.execute_input": "2022-10-11T09:38:26.693418Z",
     "iopub.status.busy": "2022-10-11T09:38:26.693274Z",
     "iopub.status.idle": "2022-10-11T09:38:26.811618Z",
     "shell.execute_reply": "2022-10-11T09:38:26.811160Z",
     "shell.execute_reply.started": "2022-10-11T09:38:26.693401Z"
    },
    "id": "xENQXtPtiNxp",
    "outputId": "4c44f2b0-aacc-4492-9dde-e327ae60f7bb",
    "tags": []
   },
   "outputs": [
    {
     "data": {
      "text/plain": [
       "<matplotlib.image.AxesImage at 0x7f42e9b9e4d0>"
      ]
     },
     "execution_count": 9,
     "metadata": {},
     "output_type": "execute_result"
    },
    {
     "data": {
      "image/png": "[encoded data removed]",
      "text/plain": [
       "<Figure size 720x432 with 1 Axes>"
      ]
     },
     "metadata": {},
     "output_type": "display_data"
    }
   ],
   "source": [
    "random_img = X_test[random.randrange(0, 10001)]\n",
    "plt.imshow(random_img)"
   ]
  },
  {
   "cell_type": "markdown",
   "metadata": {
    "id": "CIcLozUriNxp"
   },
   "source": [
    "# Data Preprocessing\n",
    "\n",
    "**TASK 3: Normalize the X train and X test data by dividing by the max value of the image arrays.**"
   ]
  },
  {
   "cell_type": "code",
   "execution_count": 10,
   "metadata": {
    "colab": {
     "base_uri": "https://localhost:8080/"
    },
    "execution": {
     "iopub.execute_input": "2022-10-11T09:38:31.211200Z",
     "iopub.status.busy": "2022-10-11T09:38:31.210999Z",
     "iopub.status.idle": "2022-10-11T09:38:31.240963Z",
     "shell.execute_reply": "2022-10-11T09:38:31.240574Z",
     "shell.execute_reply.started": "2022-10-11T09:38:31.211171Z"
    },
    "id": "gxFrbwVtiNxq",
    "outputId": "47e9915e-22f2-4edb-ca1b-ed7b8b665a93",
    "tags": []
   },
   "outputs": [
    {
     "data": {
      "text/plain": [
       "255"
      ]
     },
     "execution_count": 10,
     "metadata": {},
     "output_type": "execute_result"
    }
   ],
   "source": [
    "X_train.max()"
   ]
  },
  {
   "cell_type": "code",
   "execution_count": 11,
   "metadata": {
    "execution": {
     "iopub.execute_input": "2022-10-11T09:38:37.677182Z",
     "iopub.status.busy": "2022-10-11T09:38:37.676641Z",
     "iopub.status.idle": "2022-10-11T09:38:37.761311Z",
     "shell.execute_reply": "2022-10-11T09:38:37.760819Z",
     "shell.execute_reply.started": "2022-10-11T09:38:37.677114Z"
    },
    "id": "ykkAyH05iNxq",
    "tags": []
   },
   "outputs": [],
   "source": [
    "X_train = X_train/255"
   ]
  },
  {
   "cell_type": "code",
   "execution_count": 12,
   "metadata": {
    "execution": {
     "iopub.execute_input": "2022-10-11T09:38:42.001930Z",
     "iopub.status.busy": "2022-10-11T09:38:42.001375Z",
     "iopub.status.idle": "2022-10-11T09:38:42.016348Z",
     "shell.execute_reply": "2022-10-11T09:38:42.015802Z",
     "shell.execute_reply.started": "2022-10-11T09:38:42.001862Z"
    },
    "id": "IRZS4HEZiNxq",
    "tags": []
   },
   "outputs": [],
   "source": [
    "X_test = X_test/255"
   ]
  },
  {
   "cell_type": "code",
   "execution_count": 13,
   "metadata": {
    "colab": {
     "base_uri": "https://localhost:8080/"
    },
    "execution": {
     "iopub.execute_input": "2022-10-11T09:38:42.764511Z",
     "iopub.status.busy": "2022-10-11T09:38:42.764351Z",
     "iopub.status.idle": "2022-10-11T09:38:42.769150Z",
     "shell.execute_reply": "2022-10-11T09:38:42.768582Z",
     "shell.execute_reply.started": "2022-10-11T09:38:42.764493Z"
    },
    "id": "KQLZUNJKiNxq",
    "outputId": "95b24a65-4db0-4254-e3c2-b0376fc588a0",
    "tags": []
   },
   "outputs": [
    {
     "data": {
      "text/plain": [
       "(array([9, 2, 1, ..., 8, 1, 5], dtype=uint8),\n",
       " array([9, 0, 0, ..., 3, 0, 5], dtype=uint8))"
      ]
     },
     "execution_count": 13,
     "metadata": {},
     "output_type": "execute_result"
    }
   ],
   "source": [
    "y_test , y_train"
   ]
  },
  {
   "cell_type": "markdown",
   "metadata": {
    "id": "JDZ-mXu8iNxr"
   },
   "source": [
    "**Task 4: Reshape the X arrays to include a 4 dimension of the single channel. Similar to what we did for the numbers MNIST data set.**"
   ]
  },
  {
   "cell_type": "code",
   "execution_count": 14,
   "metadata": {
    "execution": {
     "iopub.execute_input": "2022-10-11T09:38:47.765273Z",
     "iopub.status.busy": "2022-10-11T09:38:47.765088Z",
     "iopub.status.idle": "2022-10-11T09:38:47.768538Z",
     "shell.execute_reply": "2022-10-11T09:38:47.767934Z",
     "shell.execute_reply.started": "2022-10-11T09:38:47.765258Z"
    },
    "id": "xdueMi9hiNxr",
    "tags": []
   },
   "outputs": [],
   "source": [
    "X_train = X_train.reshape(X_train.shape[0],28, 28, 1) \n",
    "X_test = X_test.reshape(X_test.shape[0], 28, 28, 1)"
   ]
  },
  {
   "cell_type": "code",
   "execution_count": 15,
   "metadata": {
    "colab": {
     "base_uri": "https://localhost:8080/"
    },
    "execution": {
     "iopub.execute_input": "2022-10-11T09:38:51.721413Z",
     "iopub.status.busy": "2022-10-11T09:38:51.721022Z",
     "iopub.status.idle": "2022-10-11T09:38:51.730167Z",
     "shell.execute_reply": "2022-10-11T09:38:51.729137Z",
     "shell.execute_reply.started": "2022-10-11T09:38:51.721363Z"
    },
    "id": "2lSUV0AUiNxr",
    "outputId": "b7dbaa05-004c-471a-b62d-19f3cd24cc6b",
    "tags": []
   },
   "outputs": [
    {
     "data": {
      "text/plain": [
       "(10000, 28, 28, 1)"
      ]
     },
     "execution_count": 15,
     "metadata": {},
     "output_type": "execute_result"
    }
   ],
   "source": [
    "X_test.shape"
   ]
  },
  {
   "cell_type": "markdown",
   "metadata": {
    "id": "NNiO7fe5iNxs"
   },
   "source": [
    "**TASK 5: Convert the y_train and y_test values to be one-hot encoded for categorical analysis by Keras.**"
   ]
  },
  {
   "cell_type": "code",
   "execution_count": 16,
   "metadata": {
    "execution": {
     "iopub.execute_input": "2022-10-11T09:45:47.135159Z",
     "iopub.status.busy": "2022-10-11T09:45:47.134699Z",
     "iopub.status.idle": "2022-10-11T09:45:47.138627Z",
     "shell.execute_reply": "2022-10-11T09:45:47.138007Z",
     "shell.execute_reply.started": "2022-10-11T09:45:47.135140Z"
    },
    "id": "U6bMpiV0iNxs"
   },
   "outputs": [],
   "source": [
    "from tensorflow.keras.utils import to_categorical"
   ]
  },
  {
   "cell_type": "code",
   "execution_count": 17,
   "metadata": {
    "colab": {
     "base_uri": "https://localhost:8080/"
    },
    "execution": {
     "iopub.execute_input": "2022-10-11T09:51:34.536279Z",
     "iopub.status.busy": "2022-10-11T09:51:34.535908Z",
     "iopub.status.idle": "2022-10-11T09:51:34.546368Z",
     "shell.execute_reply": "2022-10-11T09:51:34.545002Z",
     "shell.execute_reply.started": "2022-10-11T09:51:34.536233Z"
    },
    "id": "GTkJMcr5iNxs",
    "outputId": "16da7d83-fd9b-439b-b593-a91bd72a6a1f",
    "tags": []
   },
   "outputs": [
    {
     "data": {
      "text/plain": [
       "(array([9, 2, 1, ..., 8, 1, 5], dtype=uint8), (10000,))"
      ]
     },
     "execution_count": 17,
     "metadata": {},
     "output_type": "execute_result"
    }
   ],
   "source": [
    "y_test, y_test.shape"
   ]
  },
  {
   "cell_type": "code",
   "execution_count": 18,
   "metadata": {
    "colab": {
     "base_uri": "https://localhost:8080/"
    },
    "execution": {
     "iopub.execute_input": "2022-10-11T09:56:11.120797Z",
     "iopub.status.busy": "2022-10-11T09:56:11.118664Z",
     "iopub.status.idle": "2022-10-11T09:56:11.139316Z",
     "shell.execute_reply": "2022-10-11T09:56:11.138418Z",
     "shell.execute_reply.started": "2022-10-11T09:56:11.120674Z"
    },
    "id": "o7CMc-EFiNxs",
    "outputId": "c412155a-8af1-403b-9cb7-26bab8361195",
    "tags": []
   },
   "outputs": [
    {
     "data": {
      "text/plain": [
       "({0, 1, 2, 3, 4, 5, 6, 7, 8, 9}, {0, 1, 2, 3, 4, 5, 6, 7, 8, 9})"
      ]
     },
     "execution_count": 18,
     "metadata": {},
     "output_type": "execute_result"
    }
   ],
   "source": [
    "set(y_test), set(y_train)"
   ]
  },
  {
   "cell_type": "code",
   "execution_count": 19,
   "metadata": {
    "colab": {
     "base_uri": "https://localhost:8080/"
    },
    "execution": {
     "iopub.execute_input": "2022-10-11T09:47:28.528750Z",
     "iopub.status.busy": "2022-10-11T09:47:28.528197Z",
     "iopub.status.idle": "2022-10-11T09:47:28.535725Z",
     "shell.execute_reply": "2022-10-11T09:47:28.535236Z",
     "shell.execute_reply.started": "2022-10-11T09:47:28.528680Z"
    },
    "id": "GJhJG7KMiNxs",
    "outputId": "287e32a1-3469-4078-8005-cff3bbc0813e",
    "tags": []
   },
   "outputs": [
    {
     "data": {
      "text/plain": [
       "['T-shirt/top',\n",
       " 'Trouser',\n",
       " 'Pullover',\n",
       " 'Dress',\n",
       " 'Coat',\n",
       " 'Sandal',\n",
       " 'Shirt',\n",
       " 'Sneaker',\n",
       " 'Bag',\n",
       " 'Ankle boot']"
      ]
     },
     "execution_count": 19,
     "metadata": {},
     "output_type": "execute_result"
    }
   ],
   "source": [
    "classes"
   ]
  },
  {
   "cell_type": "code",
   "execution_count": 20,
   "metadata": {
    "colab": {
     "base_uri": "https://localhost:8080/"
    },
    "execution": {
     "iopub.execute_input": "2022-10-11T09:56:46.757674Z",
     "iopub.status.busy": "2022-10-11T09:56:46.757121Z",
     "iopub.status.idle": "2022-10-11T09:56:46.765631Z",
     "shell.execute_reply": "2022-10-11T09:56:46.765076Z",
     "shell.execute_reply.started": "2022-10-11T09:56:46.757604Z"
    },
    "id": "gdbtxeKaiNxt",
    "outputId": "daf2153f-2225-429b-826b-fa6ffc71737c"
   },
   "outputs": [
    {
     "data": {
      "text/plain": [
       "(10000, 10)"
      ]
     },
     "execution_count": 20,
     "metadata": {},
     "output_type": "execute_result"
    }
   ],
   "source": [
    "Y_train = to_categorical(y_train, 10)\n",
    "Y_test = to_categorical(y_test, 10)\n",
    "Y_test.shape"
   ]
  },
  {
   "cell_type": "code",
   "execution_count": 21,
   "metadata": {
    "colab": {
     "base_uri": "https://localhost:8080/"
    },
    "execution": {
     "iopub.execute_input": "2022-10-11T09:57:15.669302Z",
     "iopub.status.busy": "2022-10-11T09:57:15.668629Z",
     "iopub.status.idle": "2022-10-11T09:57:15.674469Z",
     "shell.execute_reply": "2022-10-11T09:57:15.673826Z",
     "shell.execute_reply.started": "2022-10-11T09:57:15.669224Z"
    },
    "id": "H6UEYxlLiNxt",
    "outputId": "68238b42-857b-42c1-9e54-663e06daefd0"
   },
   "outputs": [
    {
     "data": {
      "text/plain": [
       "array([0., 0., 0., 0., 0., 0., 0., 0., 0., 1.], dtype=float32)"
      ]
     },
     "execution_count": 21,
     "metadata": {},
     "output_type": "execute_result"
    }
   ],
   "source": [
    "Y_test[0]"
   ]
  },
  {
   "cell_type": "markdown",
   "metadata": {
    "id": "9IbhnmFpiNxt"
   },
   "source": [
    "# Modeling"
   ]
  },
  {
   "cell_type": "markdown",
   "metadata": {
    "id": "uDhLxA2LiNxt"
   },
   "source": [
    "## Create the model\n",
    "\n",
    "**TASK 5: Use Keras to create a model consisting of at least the following layers (but feel free to experiment):**\n",
    "\n",
    "* 2D Convolutional Layer, filters=28 and kernel_size=(3,3)\n",
    "* Pooling Layer where pool_size = (2,2) strides=(1,1)\n",
    "\n",
    "* Flatten Layer\n",
    "* Dense Layer (128 Neurons, but feel free to play around with this value), RELU activation\n",
    "\n",
    "* Final Dense Layer of 10 Neurons with a softmax activation\n",
    "\n",
    "**Then compile the model with these parameters: loss='categorical_crossentropy', optimizer='rmsprop', metrics=['accuracy']**"
   ]
  },
  {
   "cell_type": "code",
   "execution_count": 22,
   "metadata": {
    "execution": {
     "iopub.execute_input": "2022-10-11T09:59:35.292865Z",
     "iopub.status.busy": "2022-10-11T09:59:35.292672Z",
     "iopub.status.idle": "2022-10-11T09:59:35.296518Z",
     "shell.execute_reply": "2022-10-11T09:59:35.295903Z",
     "shell.execute_reply.started": "2022-10-11T09:59:35.292841Z"
    },
    "id": "axYKeQHiiNxt",
    "tags": []
   },
   "outputs": [],
   "source": [
    "from tensorflow.keras.models import Sequential\n",
    "from tensorflow.keras.layers import Dense, Conv2D, MaxPool2D, Flatten, Dropout, BatchNormalization"
   ]
  },
  {
   "cell_type": "markdown",
   "metadata": {
    "id": "086TrZwBiNxu"
   },
   "source": [
    "##  Model Training \n",
    "\n",
    "**TASK 6: Train/Fit the model to the x_train set by using EarlyStop. Amount of epochs is up to you.**"
   ]
  },
  {
   "cell_type": "code",
   "execution_count": 23,
   "metadata": {
    "execution": {
     "iopub.execute_input": "2022-10-11T10:06:31.352261Z",
     "iopub.status.busy": "2022-10-11T10:06:31.352061Z",
     "iopub.status.idle": "2022-10-11T10:06:31.408510Z",
     "shell.execute_reply": "2022-10-11T10:06:31.407874Z",
     "shell.execute_reply.started": "2022-10-11T10:06:31.352218Z"
    },
    "id": "dk_288xDiNxu",
    "tags": []
   },
   "outputs": [],
   "source": [
    "model = Sequential()\n",
    "model.add(Conv2D(filters=28, kernel_size=(3,3), input_shape=(28, 28, 1), activation='relu', padding='same'))\n",
    "model.add(MaxPool2D(pool_size=(2, 2)))\n",
    "\n",
    "model.add(Conv2D(filters=28, kernel_size=(3,3), activation='relu', padding='same'))\n",
    "model.add(MaxPool2D(pool_size=(2, 2)))\n",
    "\n",
    "\n",
    "model.add(Flatten())\n",
    "model.add(Dense(128, activation='relu')) \n",
    "model.add(Dropout(0.5))\n",
    "model.add(Dense(64, activation='relu'))\n",
    "model.add(Dense(10, activation='softmax'))\n",
    "model.compile(loss='categorical_crossentropy', optimizer='rmsprop', metrics=['accuracy'])"
   ]
  },
  {
   "cell_type": "markdown",
   "metadata": {
    "id": "VsjqYbfZiNxu"
   },
   "source": [
    "**TASK 7: Plot values of metrics you used in your model.**"
   ]
  },
  {
   "cell_type": "code",
   "execution_count": 24,
   "metadata": {
    "colab": {
     "base_uri": "https://localhost:8080/"
    },
    "execution": {
     "iopub.execute_input": "2022-10-11T10:06:36.767160Z",
     "iopub.status.busy": "2022-10-11T10:06:36.766309Z",
     "iopub.status.idle": "2022-10-11T10:06:36.804643Z",
     "shell.execute_reply": "2022-10-11T10:06:36.804149Z",
     "shell.execute_reply.started": "2022-10-11T10:06:36.767077Z"
    },
    "id": "1ekLvf2MiNxu",
    "outputId": "288370f0-095e-4a15-d3ef-cecfafda5948"
   },
   "outputs": [
    {
     "name": "stdout",
     "output_type": "stream",
     "text": [
      "Model: \"sequential\"\n",
      "_________________________________________________________________\n",
      " Layer (type)                Output Shape              Param #   \n",
      "=================================================================\n",
      " conv2d (Conv2D)             (None, 28, 28, 28)        280       \n",
      "                                                                 \n",
      " max_pooling2d (MaxPooling2D  (None, 14, 14, 28)       0         \n",
      " )                                                               \n",
      "                                                                 \n",
      " conv2d_1 (Conv2D)           (None, 14, 14, 28)        7084      \n",
      "                                                                 \n",
      " max_pooling2d_1 (MaxPooling  (None, 7, 7, 28)         0         \n",
      " 2D)                                                             \n",
      "                                                                 \n",
      " flatten (Flatten)           (None, 1372)              0         \n",
      "                                                                 \n",
      " dense (Dense)               (None, 128)               175744    \n",
      "                                                                 \n",
      " dropout (Dropout)           (None, 128)               0         \n",
      "                                                                 \n",
      " dense_1 (Dense)             (None, 64)                8256      \n",
      "                                                                 \n",
      " dense_2 (Dense)             (None, 10)                650       \n",
      "                                                                 \n",
      "=================================================================\n",
      "Total params: 192,014\n",
      "Trainable params: 192,014\n",
      "Non-trainable params: 0\n",
      "_________________________________________________________________\n"
     ]
    }
   ],
   "source": [
    "model.summary()"
   ]
  },
  {
   "cell_type": "code",
   "execution_count": 25,
   "metadata": {
    "execution": {
     "iopub.execute_input": "2022-10-11T10:07:40.155644Z",
     "iopub.status.busy": "2022-10-11T10:07:40.155047Z",
     "iopub.status.idle": "2022-10-11T10:07:40.167376Z",
     "shell.execute_reply": "2022-10-11T10:07:40.164977Z",
     "shell.execute_reply.started": "2022-10-11T10:07:40.155570Z"
    },
    "id": "4U5xs6cWiNxv"
   },
   "outputs": [],
   "source": [
    "from tensorflow.keras.callbacks import EarlyStopping"
   ]
  },
  {
   "cell_type": "code",
   "execution_count": 26,
   "metadata": {
    "execution": {
     "iopub.execute_input": "2022-10-11T10:09:49.303554Z",
     "iopub.status.busy": "2022-10-11T10:09:49.303352Z",
     "iopub.status.idle": "2022-10-11T10:09:49.306762Z",
     "shell.execute_reply": "2022-10-11T10:09:49.306230Z",
     "shell.execute_reply.started": "2022-10-11T10:09:49.303525Z"
    },
    "id": "EUCo2hFgiNxv"
   },
   "outputs": [],
   "source": [
    "early_stop = EarlyStopping(monitor='val_loss', mode=\"min\", patience=3, restore_best_weights = True)"
   ]
  },
  {
   "cell_type": "code",
   "execution_count": 27,
   "metadata": {
    "colab": {
     "base_uri": "https://localhost:8080/"
    },
    "id": "NekKeoViiNxv",
    "outputId": "e5dc04cb-c72a-4fdd-bc56-739ed4b2dbbc"
   },
   "outputs": [
    {
     "name": "stdout",
     "output_type": "stream",
     "text": [
      "Epoch 1/100\n",
      "1200/1200 [==============================] - 14s 8ms/step - loss: 0.5535 - accuracy: 0.7990 - val_loss: 0.3687 - val_accuracy: 0.8657\n",
      "Epoch 2/100\n",
      "1200/1200 [==============================] - 6s 5ms/step - loss: 0.3567 - accuracy: 0.8748 - val_loss: 0.3075 - val_accuracy: 0.8903\n",
      "Epoch 3/100\n",
      "1200/1200 [==============================] - 5s 5ms/step - loss: 0.3116 - accuracy: 0.8901 - val_loss: 0.3002 - val_accuracy: 0.8921\n",
      "Epoch 4/100\n",
      "1200/1200 [==============================] - 5s 4ms/step - loss: 0.2853 - accuracy: 0.9009 - val_loss: 0.2738 - val_accuracy: 0.9019\n",
      "Epoch 5/100\n",
      "1200/1200 [==============================] - 5s 4ms/step - loss: 0.2796 - accuracy: 0.9037 - val_loss: 0.2743 - val_accuracy: 0.9039\n",
      "Epoch 6/100\n",
      "1200/1200 [==============================] - 5s 4ms/step - loss: 0.2670 - accuracy: 0.9084 - val_loss: 0.2764 - val_accuracy: 0.9064\n",
      "Epoch 7/100\n",
      "1200/1200 [==============================] - 5s 4ms/step - loss: 0.2633 - accuracy: 0.9091 - val_loss: 0.2765 - val_accuracy: 0.9049\n"
     ]
    },
    {
     "data": {
      "text/plain": [
       "<keras.callbacks.History at 0x7f42e003d590>"
      ]
     },
     "execution_count": 27,
     "metadata": {},
     "output_type": "execute_result"
    }
   ],
   "source": [
    "model.fit(X_train, Y_train, batch_size=50, epochs=100, validation_data=(X_test,Y_test),callbacks=[early_stop])"
   ]
  },
  {
   "cell_type": "markdown",
   "metadata": {
    "id": "u0-LyQYSiNxw"
   },
   "source": [
    "## Model Evaluation\n",
    "\n",
    "**TASK 8: Show the accuracy,precision,recall,f1-score the model achieved on the x_test data set. Keep in mind, there are quite a few ways to do this, but we recommend following the same procedure we showed in the MNIST lecture.**"
   ]
  },
  {
   "cell_type": "code",
   "execution_count": 28,
   "metadata": {
    "colab": {
     "base_uri": "https://localhost:8080/",
     "height": 206
    },
    "id": "BGhy129GlMxa",
    "outputId": "4ea3e0de-cf05-4c4e-abc7-d94c33f4538d"
   },
   "outputs": [
    {
     "data": {
      "text/html": [
       "\n",
       "  <div id=\"df-88a2d90a-8a7c-4f3f-9b9e-e22891786ec5\">\n",
       "    <div class=\"colab-df-container\">\n",
       "      <div>\n",
       "<style scoped>\n",
       "    .dataframe tbody tr th:only-of-type {\n",
       "        vertical-align: middle;\n",
       "    }\n",
       "\n",
       "    .dataframe tbody tr th {\n",
       "        vertical-align: top;\n",
       "    }\n",
       "\n",
       "    .dataframe thead th {\n",
       "        text-align: right;\n",
       "    }\n",
       "</style>\n",
       "<table border=\"1\" class=\"dataframe\">\n",
       "  <thead>\n",
       "    <tr style=\"text-align: right;\">\n",
       "      <th></th>\n",
       "      <th>loss</th>\n",
       "      <th>accuracy</th>\n",
       "      <th>val_loss</th>\n",
       "      <th>val_accuracy</th>\n",
       "    </tr>\n",
       "  </thead>\n",
       "  <tbody>\n",
       "    <tr>\n",
       "      <th>0</th>\n",
       "      <td>0.554</td>\n",
       "      <td>0.799</td>\n",
       "      <td>0.369</td>\n",
       "      <td>0.866</td>\n",
       "    </tr>\n",
       "    <tr>\n",
       "      <th>1</th>\n",
       "      <td>0.357</td>\n",
       "      <td>0.875</td>\n",
       "      <td>0.308</td>\n",
       "      <td>0.890</td>\n",
       "    </tr>\n",
       "    <tr>\n",
       "      <th>2</th>\n",
       "      <td>0.312</td>\n",
       "      <td>0.890</td>\n",
       "      <td>0.300</td>\n",
       "      <td>0.892</td>\n",
       "    </tr>\n",
       "    <tr>\n",
       "      <th>3</th>\n",
       "      <td>0.285</td>\n",
       "      <td>0.901</td>\n",
       "      <td>0.274</td>\n",
       "      <td>0.902</td>\n",
       "    </tr>\n",
       "    <tr>\n",
       "      <th>4</th>\n",
       "      <td>0.280</td>\n",
       "      <td>0.904</td>\n",
       "      <td>0.274</td>\n",
       "      <td>0.904</td>\n",
       "    </tr>\n",
       "  </tbody>\n",
       "</table>\n",
       "</div>\n",
       "      <button class=\"colab-df-convert\" onclick=\"convertToInteractive('df-88a2d90a-8a7c-4f3f-9b9e-e22891786ec5')\"\n",
       "              title=\"Convert this dataframe to an interactive table.\"\n",
       "              style=\"display:none;\">\n",
       "        \n",
       "  <svg xmlns=\"http://www.w3.org/2000/svg\" height=\"24px\"viewBox=\"0 0 24 24\"\n",
       "       width=\"24px\">\n",
       "    <path d=\"M0 0h24v24H0V0z\" fill=\"none\"/>\n",
       "    <path d=\"M18.56 5.44l.94 2.06.94-2.06 2.06-.94-2.06-.94-.94-2.06-.94 2.06-2.06.94zm-11 1L8.5 8.5l.94-2.06 2.06-.94-2.06-.94L8.5 2.5l-.94 2.06-2.06.94zm10 10l.94 2.06.94-2.06 2.06-.94-2.06-.94-.94-2.06-.94 2.06-2.06.94z\"/><path d=\"M17.41 7.96l-1.37-1.37c-.4-.4-.92-.59-1.43-.59-.52 0-1.04.2-1.43.59L10.3 9.45l-7.72 7.72c-.78.78-.78 2.05 0 2.83L4 21.41c.39.39.9.59 1.41.59.51 0 1.02-.2 1.41-.59l7.78-7.78 2.81-2.81c.8-.78.8-2.07 0-2.86zM5.41 20L4 18.59l7.72-7.72 1.47 1.35L5.41 20z\"/>\n",
       "  </svg>\n",
       "      </button>\n",
       "      \n",
       "  <style>\n",
       "    .colab-df-container {\n",
       "      display:flex;\n",
       "      flex-wrap:wrap;\n",
       "      gap: 12px;\n",
       "    }\n",
       "\n",
       "    .colab-df-convert {\n",
       "      background-color: #E8F0FE;\n",
       "      border: none;\n",
       "      border-radius: 50%;\n",
       "      cursor: pointer;\n",
       "      display: none;\n",
       "      fill: #1967D2;\n",
       "      height: 32px;\n",
       "      padding: 0 0 0 0;\n",
       "      width: 32px;\n",
       "    }\n",
       "\n",
       "    .colab-df-convert:hover {\n",
       "      background-color: #E2EBFA;\n",
       "      box-shadow: 0px 1px 2px rgba(60, 64, 67, 0.3), 0px 1px 3px 1px rgba(60, 64, 67, 0.15);\n",
       "      fill: #174EA6;\n",
       "    }\n",
       "\n",
       "    [theme=dark] .colab-df-convert {\n",
       "      background-color: #3B4455;\n",
       "      fill: #D2E3FC;\n",
       "    }\n",
       "\n",
       "    [theme=dark] .colab-df-convert:hover {\n",
       "      background-color: #434B5C;\n",
       "      box-shadow: 0px 1px 3px 1px rgba(0, 0, 0, 0.15);\n",
       "      filter: drop-shadow(0px 1px 2px rgba(0, 0, 0, 0.3));\n",
       "      fill: #FFFFFF;\n",
       "    }\n",
       "  </style>\n",
       "\n",
       "      <script>\n",
       "        const buttonEl =\n",
       "          document.querySelector('#df-88a2d90a-8a7c-4f3f-9b9e-e22891786ec5 button.colab-df-convert');\n",
       "        buttonEl.style.display =\n",
       "          google.colab.kernel.accessAllowed ? 'block' : 'none';\n",
       "\n",
       "        async function convertToInteractive(key) {\n",
       "          const element = document.querySelector('#df-88a2d90a-8a7c-4f3f-9b9e-e22891786ec5');\n",
       "          const dataTable =\n",
       "            await google.colab.kernel.invokeFunction('convertToInteractive',\n",
       "                                                     [key], {});\n",
       "          if (!dataTable) return;\n",
       "\n",
       "          const docLinkHtml = 'Like what you see? Visit the ' +\n",
       "            '<a target=\"_blank\" href=https://colab.research.google.com/notebooks/data_table.ipynb>data table notebook</a>'\n",
       "            + ' to learn more about interactive tables.';\n",
       "          element.innerHTML = '';\n",
       "          dataTable['output_type'] = 'display_data';\n",
       "          await google.colab.output.renderOutput(dataTable, element);\n",
       "          const docLink = document.createElement('div');\n",
       "          docLink.innerHTML = docLinkHtml;\n",
       "          element.appendChild(docLink);\n",
       "        }\n",
       "      </script>\n",
       "    </div>\n",
       "  </div>\n",
       "  "
      ],
      "text/plain": [
       "   loss  accuracy  val_loss  val_accuracy\n",
       "0 0.554     0.799     0.369         0.866\n",
       "1 0.357     0.875     0.308         0.890\n",
       "2 0.312     0.890     0.300         0.892\n",
       "3 0.285     0.901     0.274         0.902\n",
       "4 0.280     0.904     0.274         0.904"
      ]
     },
     "execution_count": 28,
     "metadata": {},
     "output_type": "execute_result"
    }
   ],
   "source": [
    "summary = pd.DataFrame(model.history.history)\n",
    "summary.head()"
   ]
  },
  {
   "cell_type": "code",
   "execution_count": 29,
   "metadata": {
    "colab": {
     "base_uri": "https://localhost:8080/",
     "height": 374
    },
    "id": "ALHniCpJm2ux",
    "outputId": "7cbf0512-aa9c-45f1-da3b-6f7de3c704e4"
   },
   "outputs": [
    {
     "data": {
      "image/png": "[encoded data removed]",
      "text/plain": [
       "<Figure size 720x432 with 1 Axes>"
      ]
     },
     "metadata": {},
     "output_type": "display_data"
    }
   ],
   "source": [
    "summary[[\"loss\", \"val_loss\"]].plot();"
   ]
  },
  {
   "cell_type": "code",
   "execution_count": 30,
   "metadata": {
    "colab": {
     "base_uri": "https://localhost:8080/",
     "height": 374
    },
    "id": "8lrOhWBrtUnw",
    "outputId": "4dc0faa3-9632-4f6b-cebf-559e954d2dd6"
   },
   "outputs": [
    {
     "data": {
      "image/png": "[encoded data removed]",
      "text/plain": [
       "<Figure size 720x432 with 1 Axes>"
      ]
     },
     "metadata": {},
     "output_type": "display_data"
    }
   ],
   "source": [
    "summary[[\"accuracy\", \"val_accuracy\"]].plot();"
   ]
  },
  {
   "cell_type": "code",
   "execution_count": 31,
   "metadata": {
    "id": "VvXLYlxkiNxw"
   },
   "outputs": [],
   "source": [
    "from sklearn.metrics import classification_report, confusion_matrix"
   ]
  },
  {
   "cell_type": "code",
   "execution_count": 32,
   "metadata": {
    "id": "1w1qa7TTiNxw"
   },
   "outputs": [],
   "source": [
    "pred_prob = model.predict(X_test)"
   ]
  },
  {
   "cell_type": "code",
   "execution_count": 33,
   "metadata": {
    "id": "q_ViFVytkrlh"
   },
   "outputs": [],
   "source": [
    "y_pred = np.argmax(pred_prob, axis=1)"
   ]
  },
  {
   "cell_type": "code",
   "execution_count": 34,
   "metadata": {
    "colab": {
     "base_uri": "https://localhost:8080/"
    },
    "id": "s0tG4QXViNxw",
    "outputId": "69ff9164-1446-473e-bcd0-02e446958fb7"
   },
   "outputs": [
    {
     "name": "stdout",
     "output_type": "stream",
     "text": [
      "              precision    recall  f1-score   support\n",
      "\n",
      "           0       0.85      0.86      0.85      1000\n",
      "           1       0.99      0.98      0.99      1000\n",
      "           2       0.89      0.78      0.83      1000\n",
      "           3       0.90      0.90      0.90      1000\n",
      "           4       0.77      0.90      0.83      1000\n",
      "           5       0.98      0.99      0.98      1000\n",
      "           6       0.74      0.70      0.72      1000\n",
      "           7       0.95      0.98      0.96      1000\n",
      "           8       0.98      0.98      0.98      1000\n",
      "           9       0.99      0.95      0.97      1000\n",
      "\n",
      "    accuracy                           0.90     10000\n",
      "   macro avg       0.90      0.90      0.90     10000\n",
      "weighted avg       0.90      0.90      0.90     10000\n",
      "\n"
     ]
    }
   ],
   "source": [
    "print(classification_report(y_test, y_pred))\n"
   ]
  },
  {
   "cell_type": "markdown",
   "metadata": {
    "id": "QNg9lc04iNxw"
   },
   "source": [
    "## Prediction"
   ]
  },
  {
   "cell_type": "code",
   "execution_count": 35,
   "metadata": {
    "id": "quJskY33iNxw"
   },
   "outputs": [],
   "source": [
    "from tensorflow.keras.models import load_model\n",
    "from tensorflow.keras.preprocessing import image"
   ]
  },
  {
   "cell_type": "code",
   "execution_count": 36,
   "metadata": {
    "id": "DaDEl3cdiNxw"
   },
   "outputs": [],
   "source": [
    "model.save('cloth_predict.h5')"
   ]
  },
  {
   "cell_type": "code",
   "execution_count": 37,
   "metadata": {
    "id": "0D_xJ_b1t0OK"
   },
   "outputs": [],
   "source": [
    "model = load_model('cloth_predict.h5')"
   ]
  },
  {
   "cell_type": "code",
   "execution_count": 83,
   "metadata": {
    "colab": {
     "base_uri": "https://localhost:8080/",
     "height": 391
    },
    "id": "dk44VE88uXs1",
    "outputId": "5eaa8de4-df3a-4af2-ae16-0a53709fcb8f"
   },
   "outputs": [
    {
     "data": {
      "text/plain": [
       "<matplotlib.image.AxesImage at 0x7f425c232290>"
      ]
     },
     "execution_count": 83,
     "metadata": {},
     "output_type": "execute_result"
    },
    {
     "data": {
      "image/png": "[encoded data removed]",
      "text/plain": [
       "<Figure size 720x432 with 1 Axes>"
      ]
     },
     "metadata": {},
     "output_type": "display_data"
    }
   ],
   "source": [
    "img = X_test[459].reshape(28, 28)\n",
    "plt.imshow(img)"
   ]
  },
  {
   "cell_type": "code",
   "execution_count": 84,
   "metadata": {
    "colab": {
     "base_uri": "https://localhost:8080/"
    },
    "id": "rvxpVJhtwcsj",
    "outputId": "dd3b6f5f-7ac4-40b4-dab9-b7111f3223ac"
   },
   "outputs": [
    {
     "data": {
      "text/plain": [
       "(1, 28, 28)"
      ]
     },
     "execution_count": 84,
     "metadata": {},
     "output_type": "execute_result"
    }
   ],
   "source": [
    "my_image = np.expand_dims(img, axis=0)\n",
    "my_image.shape"
   ]
  },
  {
   "cell_type": "code",
   "execution_count": 85,
   "metadata": {
    "colab": {
     "base_uri": "https://localhost:8080/"
    },
    "id": "f05yryNUt0H1",
    "outputId": "fe46b6f1-df4e-4741-d5fd-69044d9cdf97"
   },
   "outputs": [
    {
     "data": {
      "text/plain": [
       "6"
      ]
     },
     "execution_count": 85,
     "metadata": {},
     "output_type": "execute_result"
    }
   ],
   "source": [
    "np.argmax(model.predict(my_image))"
   ]
  },
  {
   "cell_type": "code",
   "execution_count": 41,
   "metadata": {
    "colab": {
     "base_uri": "https://localhost:8080/"
    },
    "id": "LUnRk7K1w2fW",
    "outputId": "ebcc8cb2-9496-4d59-e84a-7b1158e9b1a3"
   },
   "outputs": [
    {
     "data": {
      "text/plain": [
       "['T-shirt/top',\n",
       " 'Trouser',\n",
       " 'Pullover',\n",
       " 'Dress',\n",
       " 'Coat',\n",
       " 'Sandal',\n",
       " 'Shirt',\n",
       " 'Sneaker',\n",
       " 'Bag',\n",
       " 'Ankle boot']"
      ]
     },
     "execution_count": 41,
     "metadata": {},
     "output_type": "execute_result"
    }
   ],
   "source": [
    "classes"
   ]
  },
  {
   "cell_type": "code",
   "execution_count": 72,
   "metadata": {
    "id": "fdTm3t7sxkXh"
   },
   "outputs": [],
   "source": [
    "def pred_and_show_img (model, img_number):\n",
    "\n",
    "  \"\"\"\n",
    "  shows predicted image and the model prediction result\n",
    "  \"\"\"\n",
    "\n",
    "  img = X_test[img_number].reshape(28, 28)\n",
    "  plt.imshow(img)\n",
    "\n",
    "  my_image = np.expand_dims(img, axis=0)\n",
    "  prediction = np.argmax(model.predict(my_image))\n",
    "  print(\"Our model predicted this image in the\" , classes[prediction], \"class\")\n",
    " \n",
    "  "
   ]
  },
  {
   "cell_type": "code",
   "execution_count": 90,
   "metadata": {
    "colab": {
     "base_uri": "https://localhost:8080/",
     "height": 391
    },
    "id": "9p_69sr-0IO-",
    "outputId": "79a12e38-35f2-435b-9457-093f27b74f76"
   },
   "outputs": [
    {
     "name": "stdout",
     "output_type": "stream",
     "text": [
      "Our model predicted this image in the Coat class\n"
     ]
    },
    {
     "data": {
      "image/png": "[encoded data removed]",
      "text/plain": [
       "<Figure size 720x432 with 1 Axes>"
      ]
     },
     "metadata": {},
     "output_type": "display_data"
    }
   ],
   "source": [
    "pred_and_show_img(model, 6452)"
   ]
  },
  {
   "cell_type": "markdown",
   "metadata": {
    "id": "-nWKBPtyiNxw"
   },
   "source": [
    "# End of Assignment"
   ]
  },
  {
   "cell_type": "markdown",
   "metadata": {
    "id": "tPO_vYkxiNxx"
   },
   "source": [
    "___\n",
    "\n",
    "<p style=\"text-align: center;\"><img src=\"https://docs.google.com/uc?id=1lY0Uj5R04yMY3-ZppPWxqCr5pvBLYPnV\" class=\"img-fluid\" alt=\"CLRSWY\"></p>\n",
    "\n",
    "___"
   ]
  }
 ],
 "metadata": {
  "accelerator": "GPU",
  "colab": {
   "collapsed_sections": [],
   "provenance": []
  },
  "kernelspec": {
   "display_name": "Python 3 (ipykernel)",
   "language": "python",
   "name": "python3"
  },
  "language_info": {
   "codemirror_mode": {
    "name": "ipython",
    "version": 3
   },
   "file_extension": ".py",
   "mimetype": "text/x-python",
   "name": "python",
   "nbconvert_exporter": "python",
   "pygments_lexer": "ipython3",
   "version": "3.9.12"
  },
  "toc": {
   "base_numbering": 1,
   "nav_menu": {},
   "number_sections": false,
   "sideBar": true,
   "skip_h1_title": false,
   "title_cell": "Table of Contents",
   "title_sidebar": "Contents",
   "toc_cell": false,
   "toc_position": {},
   "toc_section_display": true,
   "toc_window_display": true
  },
  "vscode": {
   "interpreter": {
    "hash": "916dbcbb3f70747c44a77c7bcd40155683ae19c65e1c03b4aa3499c5328201f1"
   }
  }
 },
 "nbformat": 4,
 "nbformat_minor": 4
}
