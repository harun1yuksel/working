{
 "cells": [
  {
   "cell_type": "code",
   "execution_count": 1,
   "id": "ef5a0150",
   "metadata": {},
   "outputs": [
    {
     "data": {
      "text/plain": [
       "'/home/harun/working/python_studies'"
      ]
     },
     "execution_count": 1,
     "metadata": {},
     "output_type": "execute_result"
    }
   ],
   "source": [
    "pwd"
   ]
  },
  {
   "cell_type": "code",
   "execution_count": 1,
   "id": "b79c2e50",
   "metadata": {},
   "outputs": [
    {
     "name": "stdout",
     "output_type": "stream",
     "text": [
      "<_io.TextIOWrapper name='fishes.txt' mode='r' encoding='utf-8'>\n",
      "\n",
      "Orca is a kind of Dolphin.\n",
      "Blue Whale is the largest animal known on earth.\n",
      "Sharks are the sister group to the Rays (batoids).\n",
      "The Tuna Fish can weigh up to 260 kg.\n",
      "Squid and Octopus are in the same class.\n"
     ]
    }
   ],
   "source": [
    "with open(\"fishes.txt\", \"r\", encoding=\"utf-8\") as file:\n",
    "    print(file)\n",
    "    print()\n",
    "    print(file.read())\n",
    "    content = file.read()"
   ]
  },
  {
   "cell_type": "code",
   "execution_count": 3,
   "id": "f2d0ee1d",
   "metadata": {},
   "outputs": [
    {
     "name": "stdout",
     "output_type": "stream",
     "text": [
      "\n"
     ]
    }
   ],
   "source": [
    "print(content)"
   ]
  },
  {
   "cell_type": "code",
   "execution_count": 5,
   "id": "bc486ce7",
   "metadata": {},
   "outputs": [
    {
     "data": {
      "text/plain": [
       "'Orca is a kind of Dolphin.\\nBlue Whale is the largest animal known on earth.\\nSharks are the sister group to the Rays (batoids).\\nThe Tuna Fish can weigh up to 260 kg.\\nSquid and Octopus are in the same class.'"
      ]
     },
     "execution_count": 5,
     "metadata": {},
     "output_type": "execute_result"
    }
   ],
   "source": [
    "with open(\"fishes.txt\", \"r\", encoding=\"utf-8\") as file:\n",
    "    content = file.read()\n",
    "content"
   ]
  },
  {
   "cell_type": "code",
   "execution_count": 6,
   "id": "0b616b4e",
   "metadata": {},
   "outputs": [
    {
     "data": {
      "text/plain": [
       "'Orca is a kind of Dolphin.\\nBlue Whale is the largest animal known on earth.\\nSharks are the sister group to the Rays (batoids).\\nThe Tuna Fish can weigh up to 260 kg.\\nSquid and Octopus are in the same class.'"
      ]
     },
     "execution_count": 6,
     "metadata": {},
     "output_type": "execute_result"
    }
   ],
   "source": [
    "content"
   ]
  },
  {
   "cell_type": "code",
   "execution_count": 8,
   "id": "814a0996",
   "metadata": {},
   "outputs": [
    {
     "name": "stdout",
     "output_type": "stream",
     "text": [
      "Orca is a kind of Dolphin\n"
     ]
    }
   ],
   "source": [
    "with open(\"fishes.txt\", \"r\", encoding=\"utf-8\") as file:\n",
    "    print(file.read(25))\n"
   ]
  },
  {
   "cell_type": "code",
   "execution_count": 9,
   "id": "2d1c86d5",
   "metadata": {},
   "outputs": [
    {
     "ename": "ValueError",
     "evalue": "I/O operation on closed file.",
     "output_type": "error",
     "traceback": [
      "\u001b[0;31m---------------------------------------------------------------------------\u001b[0m",
      "\u001b[0;31mValueError\u001b[0m                                Traceback (most recent call last)",
      "\u001b[0;32m/tmp/ipykernel_23891/114158481.py\u001b[0m in \u001b[0;36m<module>\u001b[0;34m\u001b[0m\n\u001b[0;32m----> 1\u001b[0;31m \u001b[0mprint\u001b[0m\u001b[0;34m(\u001b[0m\u001b[0mfile\u001b[0m\u001b[0;34m.\u001b[0m\u001b[0mread\u001b[0m\u001b[0;34m(\u001b[0m\u001b[0;36m10\u001b[0m\u001b[0;34m)\u001b[0m\u001b[0;34m)\u001b[0m\u001b[0;34m\u001b[0m\u001b[0;34m\u001b[0m\u001b[0m\n\u001b[0m",
      "\u001b[0;31mValueError\u001b[0m: I/O operation on closed file."
     ]
    }
   ],
   "source": [
    "print(file.read(10))"
   ]
  },
  {
   "cell_type": "code",
   "execution_count": 13,
   "id": "1b5e4b95",
   "metadata": {},
   "outputs": [
    {
     "name": "stdout",
     "output_type": "stream",
     "text": [
      "Orca is a \n",
      "kind of Dolphin\n",
      "Orca is a \n",
      "10\n"
     ]
    }
   ],
   "source": [
    "with open(\"fishes.txt\", \"r\", encoding=\"utf-8\") as file:\n",
    "    print(file.read(10))\n",
    "    print(file.read(15))\n",
    "    file.seek(0)\n",
    "    print(file.read(10))\n",
    "    print(file.tell())\n",
    "\n"
   ]
  },
  {
   "cell_type": "code",
   "execution_count": 14,
   "id": "2d5036f3",
   "metadata": {},
   "outputs": [
    {
     "name": "stdout",
     "output_type": "stream",
     "text": [
      "I want to sing\n",
      "Like the birds sing,\n",
      "Not worrying about\n",
      "Who hears or\n",
      "What they think.\n"
     ]
    }
   ],
   "source": [
    "with open(\"rumi.txt\", \"r\", encoding=\"utf-8\") as file:\n",
    "    print(file.read())"
   ]
  },
  {
   "cell_type": "code",
   "execution_count": 15,
   "id": "12b3b2e9",
   "metadata": {},
   "outputs": [
    {
     "name": "stdout",
     "output_type": "stream",
     "text": [
      "I want to sing\n",
      "\n"
     ]
    }
   ],
   "source": [
    "with open(\"rumi.txt\", \"r\", encoding=\"utf-8\") as file:\n",
    "    print(file.readline())\n",
    "    "
   ]
  },
  {
   "cell_type": "code",
   "execution_count": 16,
   "id": "54aaebba",
   "metadata": {},
   "outputs": [
    {
     "name": "stdout",
     "output_type": "stream",
     "text": [
      "I want to sing\n",
      "\n",
      "Like the birds sing,\n",
      "\n"
     ]
    }
   ],
   "source": [
    "with open(\"rumi.txt\", \"r\", encoding=\"utf-8\") as file:\n",
    "    print(file.readline())\n",
    "    print(file.readline())\n",
    "\n",
    "    "
   ]
  },
  {
   "cell_type": "code",
   "execution_count": 19,
   "id": "a614e571",
   "metadata": {},
   "outputs": [
    {
     "name": "stdout",
     "output_type": "stream",
     "text": [
      "I wan\n"
     ]
    }
   ],
   "source": [
    "with open(\"rumi.txt\", \"r\", encoding=\"utf-8\") as file:\n",
    "    print(file.readline(5))\n"
   ]
  },
  {
   "cell_type": "code",
   "execution_count": 21,
   "id": "707cfdc8",
   "metadata": {},
   "outputs": [
    {
     "name": "stdout",
     "output_type": "stream",
     "text": [
      "I want to sing\n",
      "\n"
     ]
    }
   ],
   "source": [
    "with open(\"rumi.txt\", \"r\", encoding=\"utf-8\") as file:\n",
    "    print(file.readline(100))\n"
   ]
  },
  {
   "cell_type": "code",
   "execution_count": 36,
   "id": "08cedc09",
   "metadata": {},
   "outputs": [
    {
     "name": "stdout",
     "output_type": "stream",
     "text": [
      "Orca is a kin\n",
      "d of Dolphin.\n",
      "\n",
      "\n",
      "Blue Whale is\n"
     ]
    }
   ],
   "source": [
    "with open(\"fishes.txt\", \"r\", encoding=\"utf-8\") as file:\n",
    "    print(file.readline(13))\n",
    "    print(file.readline(13))\n",
    "    print(file.readline(13))\n",
    "    print(file.readline(13))"
   ]
  },
  {
   "cell_type": "code",
   "execution_count": 42,
   "id": "7a42a7d9",
   "metadata": {},
   "outputs": [
    {
     "name": "stdout",
     "output_type": "stream",
     "text": [
      "['I want to sing\\n', 'Like the birds sing,\\n', 'Not worrying about\\n', 'Who hears or\\n', 'What they think.']\n"
     ]
    }
   ],
   "source": [
    "with open(\"rumi.txt\", \"r\", encoding=\"utf-8\") as file:\n",
    "    #print(file.readlines())\n",
    "    fish = file.readlines()\n",
    "print(fish)"
   ]
  },
  {
   "cell_type": "code",
   "execution_count": 46,
   "id": "83820a2e",
   "metadata": {},
   "outputs": [
    {
     "name": "stdout",
     "output_type": "stream",
     "text": [
      "I want to sing\n",
      "\n",
      "Like the birds sing,\n",
      "\n",
      "Not worrying about\n",
      "\n",
      "Who hears or\n",
      "\n",
      "What they think.\n"
     ]
    }
   ],
   "source": [
    "\"\"\"buradaki file satır satır iterable olur.\"\"\"\n",
    "with open(\"rumi.txt\", \"r\", encoding=\"utf-8\") as file: \n",
    "    for line in file:\n",
    "        print(line)\n"
   ]
  },
  {
   "cell_type": "code",
   "execution_count": 47,
   "id": "a59c6ee2",
   "metadata": {},
   "outputs": [],
   "source": [
    "with open(\"my_file.txt\", \"w\", encoding=\"utf-8\") as file:\n",
    "    file.write(\"this is new file\")\n"
   ]
  },
  {
   "cell_type": "code",
   "execution_count": 48,
   "id": "adfb8875",
   "metadata": {},
   "outputs": [
    {
     "name": "stdout",
     "output_type": "stream",
     "text": [
      " 07_ITF_WS_PYTHON4_LEAD.ipynb\r\n",
      " assignments.ipynb\r\n",
      "'collection types.ipynb'\r\n",
      "'control_flow_statements and loops.ipynb'\r\n",
      " corona_risk.py\r\n",
      " EkDers_MuazHoca25Feb.ipynb\r\n",
      " EkDers_MurphyMentor_1March.ipynb\r\n",
      " fiboncci_num.py\r\n",
      " file_operations.ipynb\r\n",
      " fishes.txt\r\n",
      " functions.ipynb\r\n",
      " lms_calisma.ipynb\r\n",
      "'moduller ve paketler.ipynb'\r\n",
      " my_file.txt\r\n",
      " \u001b[0m\u001b[01;34m__pycache__\u001b[0m/\r\n",
      " python_addicts.ipynb\r\n",
      "\u001b[01;34m'python notebook_ITF_lessons'\u001b[0m/\r\n",
      " python_workshop_2_student_version.ipynb\r\n",
      " rumi.txt\r\n",
      "'string fonsiyonlari.ipynb'\r\n",
      " team_work.ipynb\r\n",
      " \u001b[01;34mtest\u001b[0m/\r\n",
      " \u001b[01;31mtestZip.zip\u001b[0m\r\n",
      " textH.txt\r\n",
      " Untitled.ipynb\r\n",
      " vs.py\r\n",
      " workshop.ipynb\r\n"
     ]
    }
   ],
   "source": [
    "ls"
   ]
  },
  {
   "cell_type": "code",
   "execution_count": 49,
   "id": "2885ac96",
   "metadata": {},
   "outputs": [
    {
     "name": "stdout",
     "output_type": "stream",
     "text": [
      "this is new file"
     ]
    }
   ],
   "source": [
    "cat my_file.txt"
   ]
  },
  {
   "cell_type": "code",
   "execution_count": 50,
   "id": "d8bb7a54",
   "metadata": {},
   "outputs": [
    {
     "ename": "SyntaxError",
     "evalue": "invalid syntax (344290114.py, line 3)",
     "output_type": "error",
     "traceback": [
      "\u001b[0;36m  File \u001b[0;32m\"/tmp/ipykernel_23891/344290114.py\"\u001b[0;36m, line \u001b[0;32m3\u001b[0m\n\u001b[0;31m    cat my_file.txt\u001b[0m\n\u001b[0m        ^\u001b[0m\n\u001b[0;31mSyntaxError\u001b[0m\u001b[0;31m:\u001b[0m invalid syntax\n"
     ]
    }
   ],
   "source": [
    "with open(\"my_file.txt\", \"w\", encoding=\"utf-8\") as file: \n",
    "    file.(\"this is the secod line\")\n",
    "cat my_file.txt\n"
   ]
  },
  {
   "cell_type": "code",
   "execution_count": 54,
   "id": "aca1b7a5",
   "metadata": {},
   "outputs": [
    {
     "name": "stdout",
     "output_type": "stream",
     "text": [
      "Banana\n",
      "Orange\n",
      "Apple\n",
      "Strawberry\n",
      "Cherry\n"
     ]
    }
   ],
   "source": [
    "fruits = ['Banana', 'Orange', 'Apple', 'Strawberry', 'Cherry']\n",
    "with open(\"fruits.txt\", \"w\", encoding=\"utf-8\") as file: \n",
    "    for i in fruits:\n",
    "        print(i)\n",
    "!cat fruits.txt\n"
   ]
  },
  {
   "cell_type": "code",
   "execution_count": null,
   "id": "d1502b8c",
   "metadata": {},
   "outputs": [],
   "source": []
  },
  {
   "cell_type": "code",
   "execution_count": null,
   "id": "f95e3d75",
   "metadata": {},
   "outputs": [],
   "source": []
  },
  {
   "cell_type": "code",
   "execution_count": 23,
   "id": "6304d18f",
   "metadata": {},
   "outputs": [
    {
     "name": "stdout",
     "output_type": "stream",
     "text": [
      " 07_ITF_WS_PYTHON4_LEAD.ipynb\r\n",
      " assignments.ipynb\r\n",
      "'collection types.ipynb'\r\n",
      "'control_flow_statements and loops.ipynb'\r\n",
      " corona_risk.py\r\n",
      " EkDers_MuazHoca25Feb.ipynb\r\n",
      " EkDers_MurphyMentor_1March.ipynb\r\n",
      " fiboncci_num.py\r\n",
      " file_operations.ipynb\r\n",
      " fishes.txt\r\n",
      " functions.ipynb\r\n",
      " lms_calisma.ipynb\r\n",
      "'moduller ve paketler.ipynb'\r\n",
      " __pycache__\r\n",
      " python_addicts.ipynb\r\n",
      "'python notebook_ITF_lessons'\r\n",
      " python_workshop_2_student_version.ipynb\r\n",
      " rumi.txt\r\n",
      "'string fonsiyonlari.ipynb'\r\n",
      " team_work.ipynb\r\n",
      " textH.txt\r\n",
      " Untitled.ipynb\r\n",
      " vs.py\r\n",
      " workshop.ipynb\r\n"
     ]
    }
   ],
   "source": [
    "!ls"
   ]
  },
  {
   "cell_type": "code",
   "execution_count": 24,
   "id": "aa88373a",
   "metadata": {},
   "outputs": [],
   "source": [
    "import os\n",
    "files = os.listdir()"
   ]
  },
  {
   "cell_type": "code",
   "execution_count": 25,
   "id": "ad0f9385",
   "metadata": {},
   "outputs": [
    {
     "data": {
      "text/plain": [
       "['file_operations.ipynb',\n",
       " 'string fonsiyonlari.ipynb',\n",
       " 'fiboncci_num.py',\n",
       " 'control_flow_statements and loops.ipynb',\n",
       " '__pycache__',\n",
       " '.ipynb_checkpoints',\n",
       " 'moduller ve paketler.ipynb',\n",
       " 'python notebook_ITF_lessons',\n",
       " 'rumi.txt',\n",
       " 'Untitled.ipynb',\n",
       " 'lms_calisma.ipynb',\n",
       " '07_ITF_WS_PYTHON4_LEAD.ipynb',\n",
       " 'collection types.ipynb',\n",
       " 'corona_risk.py',\n",
       " 'EkDers_MurphyMentor_1March.ipynb',\n",
       " 'python_workshop_2_student_version.ipynb',\n",
       " 'EkDers_MuazHoca25Feb.ipynb',\n",
       " 'assignments.ipynb',\n",
       " 'workshop.ipynb',\n",
       " 'team_work.ipynb',\n",
       " 'functions.ipynb',\n",
       " 'vs.py',\n",
       " 'fishes.txt',\n",
       " 'python_addicts.ipynb',\n",
       " 'textH.txt']"
      ]
     },
     "execution_count": 25,
     "metadata": {},
     "output_type": "execute_result"
    }
   ],
   "source": [
    "files"
   ]
  },
  {
   "cell_type": "code",
   "execution_count": 32,
   "id": "fb383c36",
   "metadata": {},
   "outputs": [],
   "source": [
    "import shutil # zip lemek için.\n",
    "# shutil.make_archive(\"hedef_zip\", \"zip\", \"kaynak_ziplenecek\")"
   ]
  },
  {
   "cell_type": "code",
   "execution_count": 29,
   "id": "ee0f43dd",
   "metadata": {},
   "outputs": [
    {
     "name": "stdout",
     "output_type": "stream",
     "text": [
      "mkdir: cannot create directory ‘test’: File exists\r\n"
     ]
    }
   ],
   "source": [
    "!mkdir test"
   ]
  },
  {
   "cell_type": "code",
   "execution_count": 30,
   "id": "83acf184",
   "metadata": {},
   "outputs": [
    {
     "name": "stdout",
     "output_type": "stream",
     "text": [
      " 07_ITF_WS_PYTHON4_LEAD.ipynb\r\n",
      " assignments.ipynb\r\n",
      "'collection types.ipynb'\r\n",
      "'control_flow_statements and loops.ipynb'\r\n",
      " corona_risk.py\r\n",
      " EkDers_MuazHoca25Feb.ipynb\r\n",
      " EkDers_MurphyMentor_1March.ipynb\r\n",
      " fiboncci_num.py\r\n",
      " file_operations.ipynb\r\n",
      " fishes.txt\r\n",
      " functions.ipynb\r\n",
      " lms_calisma.ipynb\r\n",
      "'moduller ve paketler.ipynb'\r\n",
      " __pycache__\r\n",
      " python_addicts.ipynb\r\n",
      "'python notebook_ITF_lessons'\r\n",
      " python_workshop_2_student_version.ipynb\r\n",
      " rumi.txt\r\n",
      "'string fonsiyonlari.ipynb'\r\n",
      " team_work.ipynb\r\n",
      " test\r\n",
      " textH.txt\r\n",
      " Untitled.ipynb\r\n",
      " vs.py\r\n",
      " workshop.ipynb\r\n"
     ]
    }
   ],
   "source": [
    "!ls"
   ]
  },
  {
   "cell_type": "code",
   "execution_count": 33,
   "id": "f9906d12",
   "metadata": {},
   "outputs": [
    {
     "data": {
      "text/plain": [
       "'/home/harun/working/python_studies/testZip.zip'"
      ]
     },
     "execution_count": 33,
     "metadata": {},
     "output_type": "execute_result"
    }
   ],
   "source": [
    "shutil.make_archive(\"testZip\", \"zip\", \"test\")"
   ]
  },
  {
   "cell_type": "code",
   "execution_count": 34,
   "id": "2720d079",
   "metadata": {},
   "outputs": [
    {
     "name": "stdout",
     "output_type": "stream",
     "text": [
      " 07_ITF_WS_PYTHON4_LEAD.ipynb\r\n",
      " assignments.ipynb\r\n",
      "'collection types.ipynb'\r\n",
      "'control_flow_statements and loops.ipynb'\r\n",
      " corona_risk.py\r\n",
      " EkDers_MuazHoca25Feb.ipynb\r\n",
      " EkDers_MurphyMentor_1March.ipynb\r\n",
      " fiboncci_num.py\r\n",
      " file_operations.ipynb\r\n",
      " fishes.txt\r\n",
      " functions.ipynb\r\n",
      " lms_calisma.ipynb\r\n",
      "'moduller ve paketler.ipynb'\r\n",
      " \u001b[0m\u001b[01;34m__pycache__\u001b[0m/\r\n",
      " python_addicts.ipynb\r\n",
      "\u001b[01;34m'python notebook_ITF_lessons'\u001b[0m/\r\n",
      " python_workshop_2_student_version.ipynb\r\n",
      " rumi.txt\r\n",
      "'string fonsiyonlari.ipynb'\r\n",
      " team_work.ipynb\r\n",
      " \u001b[01;34mtest\u001b[0m/\r\n",
      " \u001b[01;31mtestZip.zip\u001b[0m\r\n",
      " textH.txt\r\n",
      " Untitled.ipynb\r\n",
      " vs.py\r\n",
      " workshop.ipynb\r\n"
     ]
    }
   ],
   "source": [
    "ls"
   ]
  },
  {
   "cell_type": "code",
   "execution_count": null,
   "id": "557300f1",
   "metadata": {},
   "outputs": [],
   "source": []
  },
  {
   "cell_type": "code",
   "execution_count": null,
   "id": "270117f4",
   "metadata": {},
   "outputs": [],
   "source": []
  },
  {
   "cell_type": "code",
   "execution_count": null,
   "id": "1655a8a1",
   "metadata": {},
   "outputs": [],
   "source": []
  }
 ],
 "metadata": {
  "kernelspec": {
   "display_name": "Python 3 (ipykernel)",
   "language": "python",
   "name": "python3"
  },
  "language_info": {
   "codemirror_mode": {
    "name": "ipython",
    "version": 3
   },
   "file_extension": ".py",
   "mimetype": "text/x-python",
   "name": "python",
   "nbconvert_exporter": "python",
   "pygments_lexer": "ipython3",
   "version": "3.9.7"
  }
 },
 "nbformat": 4,
 "nbformat_minor": 5
}
