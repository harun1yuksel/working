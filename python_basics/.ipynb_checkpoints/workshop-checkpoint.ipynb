{
 "cells": [
  {
   "cell_type": "code",
   "execution_count": 6,
   "metadata": {},
   "outputs": [
    {
     "name": "stdout",
     "output_type": "stream",
     "text": [
      "please enter 4 digit year   21\n",
      "True\n"
     ]
    }
   ],
   "source": [
    "year = int(input(\"please enter 4 digit year   \"))\n",
    "print((year % 4 == 0) and (year % 100 != 0) or (year % 400 == 0))"
   ]
  },
  {
   "cell_type": "code",
   "execution_count": 5,
   "metadata": {},
   "outputs": [],
   "source": [
    "sales = {\n",
    "    \"cost_value\": 31.87,\n",
    "    \"sell_value\": 45.00,\n",
    "    \"inventory\": 1000\n",
    "}"
   ]
  },
  {
   "cell_type": "code",
   "execution_count": 6,
   "metadata": {},
   "outputs": [
    {
     "data": {
      "text/plain": [
       "{'cost_value': 31.87, 'sell_value': 45.0, 'inventory': 1000}"
      ]
     },
     "execution_count": 6,
     "metadata": {},
     "output_type": "execute_result"
    }
   ],
   "source": [
    "sales"
   ]
  },
  {
   "cell_type": "code",
   "execution_count": 11,
   "metadata": {},
   "outputs": [],
   "source": [
    "profit = ((sales[\"sell_value\"] - sales[\"cost_value\"]) * sales[\"inventory\"])       "
   ]
  },
  {
   "cell_type": "code",
   "execution_count": 12,
   "metadata": {},
   "outputs": [
    {
     "name": "stdout",
     "output_type": "stream",
     "text": [
      "13130.0\n"
     ]
    }
   ],
   "source": [
    "print(round(profit, 0))   "
   ]
  },
  {
   "cell_type": "code",
   "execution_count": 17,
   "metadata": {
    "scrolled": true
   },
   "outputs": [
    {
     "name": "stdout",
     "output_type": "stream",
     "text": [
      "Enter your payrol:  41\n",
      "41.00\n"
     ]
    }
   ],
   "source": [
    "payroll = float(input(\"Enter your payrol:  \"))\n",
    "print(\"{:.2f}\".format(payroll))"
   ]
  },
  {
   "cell_type": "markdown",
   "metadata": {},
   "source": [
    "map() function returns a map object(which is an iterator) of the results \n",
    "after applying the given function to each item of a given iterable (list, tuple etc.)\n",
    "\n",
    "Syntax :\n",
    "\n",
    "map(fun, iter)\n",
    "Parameters :\n",
    "\n",
    "fun : It is a function to which map passes each element of given iterable.\n",
    "iter : It is a iterable which is to be mapped."
   ]
  },
  {
   "cell_type": "code",
   "execution_count": 1,
   "metadata": {},
   "outputs": [
    {
     "name": "stdout",
     "output_type": "stream",
     "text": [
      "[2, 4, 6, 8]\n"
     ]
    }
   ],
   "source": [
    "# Python program to demonstrate working\n",
    "# of map.\n",
    "  \n",
    "# Return double of n\n",
    "def addition(n):\n",
    "    return n + n\n",
    "  \n",
    "# We double all numbers using map()\n",
    "numbers = (1, 2, 3, 4)\n",
    "result = map(addition, numbers)\n",
    "print(list(result))"
   ]
  },
  {
   "cell_type": "code",
   "execution_count": 2,
   "metadata": {},
   "outputs": [
    {
     "name": "stdout",
     "output_type": "stream",
     "text": [
      "[1.5, 2.5, 4.0, 15.0]\n"
     ]
    }
   ],
   "source": [
    "def ikiye_bol(n):\n",
    "    return n/2\n",
    "my_numbers = [3, 5, 8, 30]\n",
    "print(list(map(ikiye_bol, my_numbers)))"
   ]
  },
  {
   "cell_type": "code",
   "execution_count": null,
   "metadata": {},
   "outputs": [],
   "source": []
  }
 ],
 "metadata": {
  "kernelspec": {
   "display_name": "Python 3",
   "language": "python",
   "name": "python3"
  },
  "language_info": {
   "codemirror_mode": {
    "name": "ipython",
    "version": 3
   },
   "file_extension": ".py",
   "mimetype": "text/x-python",
   "name": "python",
   "nbconvert_exporter": "python",
   "pygments_lexer": "ipython3",
   "version": "3.8.10"
  }
 },
 "nbformat": 4,
 "nbformat_minor": 4
}
