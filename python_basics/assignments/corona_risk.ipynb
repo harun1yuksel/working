{
 "cells": [
  {
   "cell_type": "code",
   "execution_count": 4,
   "id": "3a5414ec",
   "metadata": {},
   "outputs": [
    {
     "name": "stdout",
     "output_type": "stream",
     "text": [
      "This is a corona death risk estimation program \n",
      "Please enter your age.  89\n",
      "Do you have a chronic disease please enter y or n.   y\n",
      "Do you smoke please enter y or n   y\n",
      "You are under death risk\n"
     ]
    }
   ],
   "source": [
    "age = int(input(\"This is a corona death risk estimation program \\nPlease enter your age.  \"))\n",
    "if age > 75:\n",
    "    age_risk = True\n",
    "else:\n",
    "    age_risk = False    \n",
    "chronic_disease = input(\"Do you have a chronic disease please enter y or n.   \")\n",
    "if chronic_disease == \"y\":\n",
    "    chronic_disease_risk = True\n",
    "else: \n",
    "    chronic_disease_risk = False\n",
    "smoking = (input(\"Do you smoke please enter y or n   \"))\n",
    "if smoking == \"y\":\n",
    "    smoking_risk = True\n",
    "else:\n",
    "    smoking_risk = False\n",
    "death_risk = bool(age_risk and chronic_disease_risk and smoking_risk)\n",
    "if death_risk is True:\n",
    "    print(\"You are under death risk\")\n",
    "else:\n",
    "    print(\"You are not under death risk.\")"
   ]
  },
  {
   "cell_type": "code",
   "execution_count": null,
   "id": "56b122f8",
   "metadata": {},
   "outputs": [],
   "source": []
  }
 ],
 "metadata": {
  "kernelspec": {
   "display_name": "Python 3 (ipykernel)",
   "language": "python",
   "name": "python3"
  },
  "language_info": {
   "codemirror_mode": {
    "name": "ipython",
    "version": 3
   },
   "file_extension": ".py",
   "mimetype": "text/x-python",
   "name": "python",
   "nbconvert_exporter": "python",
   "pygments_lexer": "ipython3",
   "version": "3.9.7"
  }
 },
 "nbformat": 4,
 "nbformat_minor": 5
}
