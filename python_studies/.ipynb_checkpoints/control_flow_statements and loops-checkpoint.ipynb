{
 "cells": [
  {
   "cell_type": "code",
   "execution_count": 1,
   "metadata": {},
   "outputs": [
    {
     "name": "stdout",
     "output_type": "stream",
     "text": [
      "enter a number:  5\n",
      "The number you entered is 5 and it is an odd number\n"
     ]
    }
   ],
   "source": [
    "num = int(input(\"enter a number:  \"))\n",
    "if num % 2 == 0:\n",
    "    print (\"The number you entered is {} and it is an even number\".format(num))\n",
    "else:\n",
    "    print(\"The number you entered is {} and it is an odd number\".format(num))"
   ]
  },
  {
   "cell_type": "code",
   "execution_count": 3,
   "metadata": {},
   "outputs": [
    {
     "name": "stdout",
     "output_type": "stream",
     "text": [
      "enter a number:  0\n",
      "The number you entered is 0 and it is zero\n"
     ]
    }
   ],
   "source": [
    "num = int(input(\"enter a number:  \"))\n",
    "if num > 0:\n",
    "    print (\"The number you entered is {} and it is a positive number\".format(num))\n",
    "elif num == 0:\n",
    "    print (\"The number you entered is {} and it is zero\".format(num))\n",
    "else:\n",
    "    print (\"The number you entered is {} and it is a negative number\".format(num))\n"
   ]
  },
  {
   "cell_type": "code",
   "execution_count": null,
   "metadata": {},
   "outputs": [],
   "source": []
  },
  {
   "cell_type": "code",
   "execution_count": 4,
   "metadata": {},
   "outputs": [
    {
     "name": "stdout",
     "output_type": "stream",
     "text": [
      "enter a number3\n",
      "enter another number5\n",
      "5 is bigger than 3\n"
     ]
    }
   ],
   "source": [
    "num1 = int(input(\"enter a number\"))\n",
    "num2 = int(input(\"enter another number\"))\n",
    "if num1 > num2:\n",
    "    print(f\"{num1} is bigger than num2\")\n",
    "elif num1 == num2:\n",
    "    print (f\"{num1} is equel {num2}\")\n",
    "else:\n",
    "    print(f\"{num2} is bigger than {num1}\")\n"
   ]
  },
  {
   "cell_type": "code",
   "execution_count": null,
   "metadata": {},
   "outputs": [],
   "source": []
  },
  {
   "cell_type": "code",
   "execution_count": 12,
   "metadata": {},
   "outputs": [
    {
     "name": "stdout",
     "output_type": "stream",
     "text": [
      "No\n"
     ]
    }
   ],
   "source": [
    "bool_value = False\n",
    "if bool_value:\n",
    "    print(\"Yes\")\n",
    "else:\n",
    "    print(\"No\")"
   ]
  },
  {
   "cell_type": "code",
   "execution_count": 18,
   "metadata": {},
   "outputs": [
    {
     "name": "stdout",
     "output_type": "stream",
     "text": [
      "Yes\n"
     ]
    }
   ],
   "source": [
    "if 2 * 2 == 4:\n",
    "    print(\"Yes\")\n",
    "else:\n",
    "    print(\"No\")"
   ]
  },
  {
   "cell_type": "code",
   "execution_count": 5,
   "metadata": {},
   "outputs": [
    {
     "name": "stdout",
     "output_type": "stream",
     "text": [
      "enter a number5\n",
      "enter another number6\n",
      "enter another number8\n",
      "8 is largest\n"
     ]
    }
   ],
   "source": [
    "num1 = int(input(\"enter a number\"))\n",
    "num2 = int(input(\"enter another number\"))\n",
    "num3 = int(input(\"enter another number\"))\n",
    "if num1 > num2 and num1 > num3:\n",
    "    print(f\"{num1} is largest\")\n",
    "elif num2 > num1 and num2 > num3:\n",
    "    print (f\"{num2} is largest\")\n",
    "else:\n",
    "    print(f\"{num3} is largest\")\n"
   ]
  },
  {
   "cell_type": "code",
   "execution_count": 6,
   "metadata": {},
   "outputs": [
    {
     "name": "stdout",
     "output_type": "stream",
     "text": [
      "enter a number5\n",
      "enter another number3\n",
      "enter another number9\n",
      "largest number is 9\n"
     ]
    }
   ],
   "source": [
    "num1 = int(input(\"enter a number\"))\n",
    "num2 = int(input(\"enter another number\"))\n",
    "num3 = int(input(\"enter another number\"))\n",
    "if num1 > num2 and num1 > num3:\n",
    "    largest = num1\n",
    "elif num2 > num1 and num2 > num3:\n",
    "    largest = num2\n",
    "else:\n",
    "    largest = num3\n",
    "print(f\"largest number is {largest}\")\n"
   ]
  },
  {
   "cell_type": "code",
   "execution_count": 9,
   "metadata": {},
   "outputs": [
    {
     "name": "stdout",
     "output_type": "stream",
     "text": [
      "enter your grade please: 90\n",
      "your grade is A\n"
     ]
    }
   ],
   "source": [
    "grade = int(input(\"enter your grade please: \"))\n",
    "if grade >= 90:\n",
    "    if grade >= 95:\n",
    "        print(\"your grade is A+\")\n",
    "    else:\n",
    "        print(\"your grade is A\")\n",
    "elif grade >= 80:\n",
    "    if grade >= 85:\n",
    "        print(\"your grade is B+\")\n",
    "    else:\n",
    "        print(\"your grade is B\")\n",
    "else:\n",
    "    print(\"your grade is below b\")\n",
    "    "
   ]
  },
  {
   "cell_type": "markdown",
   "metadata": {},
   "source": [
    "# loops"
   ]
  },
  {
   "cell_type": "code",
   "execution_count": 31,
   "metadata": {},
   "outputs": [
    {
     "name": "stdout",
     "output_type": "stream",
     "text": [
      "0\n",
      "1\n",
      "2\n",
      "3\n",
      "4\n",
      "5\n",
      "now num is >= 6\n"
     ]
    }
   ],
   "source": [
    "num = 0\n",
    "while num < 6:\n",
    "    print(num)\n",
    "    num += 1\n",
    "print(\"now num is >= 6\")"
   ]
  },
  {
   "cell_type": "code",
   "execution_count": 34,
   "metadata": {},
   "outputs": [
    {
     "name": "stdout",
     "output_type": "stream",
     "text": [
      "5\n",
      "4\n",
      "3\n",
      "2\n",
      "1\n",
      "x is now 0 and 0 is false\n"
     ]
    }
   ],
   "source": [
    "x = 5\n",
    "while x:\n",
    "    print(x)\n",
    "    x -= 1\n",
    "print(\"x is now 0 and 0 is false\")"
   ]
  },
  {
   "cell_type": "code",
   "execution_count": 12,
   "metadata": {},
   "outputs": [
    {
     "name": "stdout",
     "output_type": "stream",
     "text": [
      "please enter your age yu\n",
      "You entered incorrectly\n",
      "please enter your age rh\n",
      "You entered incorrectly\n",
      "please enter your age 34\n",
      "You are 34 years old.\n"
     ]
    }
   ],
   "source": [
    "a = input(\"please enter your age \")\n",
    "while not a.isnumeric():\n",
    "    print(\"You entered incorrectly\")\n",
    "    a = input(\"please enter your age \")\n",
    "print(\"You are\", a, \"years old.\")\n",
    "\n",
    "\n",
    "    "
   ]
  },
  {
   "cell_type": "code",
   "execution_count": 3,
   "metadata": {},
   "outputs": [],
   "source": [
    "import random\n",
    "numlist = list(range(1, 100))"
   ]
  },
  {
   "cell_type": "code",
   "execution_count": 6,
   "metadata": {},
   "outputs": [
    {
     "name": "stdout",
     "output_type": "stream",
     "text": [
      "please the number in my mind between 0-100:   45\n",
      "gues again with a smaller number \n",
      "please the number in my mind between 0-100:   32\n",
      "gues again with a smaller number \n",
      "please the number in my mind between 0-100:   10\n",
      "gues again with a bigger number \n",
      "please the number in my mind between 0-100:   20\n",
      "gues again with a bigger number \n",
      "please the number in my mind between 0-100:   30\n",
      "gues again with a smaller number \n",
      "please the number in my mind between 0-100:   25\n",
      "gues again with a bigger number \n",
      "please the number in my mind between 0-100:   26\n",
      "gues again with a bigger number \n",
      "please the number in my mind between 0-100:   27\n",
      "gues again with a bigger number \n",
      "please the number in my mind between 0-100:   28\n",
      "Are you a mind reader \n"
     ]
    }
   ],
   "source": [
    "import random\n",
    "numlist = list(range(1, 100))\n",
    "random_num = random.choice(numlist)\n",
    "\n",
    "\n",
    "while True:\n",
    "    guess = int(input(\"please the number in my mind between 0-100:   \"))\n",
    "    if guess < random_num:\n",
    "        print(\"gues again with a bigger number \")\n",
    "    elif guess > random_num:\n",
    "        print(\"gues again with a smaller number \")\n",
    "    else:\n",
    "        print(\"Are you a mind reader \")\n",
    "        break\n",
    "        "
   ]
  },
  {
   "cell_type": "code",
   "execution_count": 18,
   "metadata": {},
   "outputs": [
    {
     "name": "stdout",
     "output_type": "stream",
     "text": [
      "please enter a sentence Ben bir elma aldım o portakaldır.\n",
      "12\n"
     ]
    }
   ],
   "source": [
    "a = input(\"please enter a sentence \")\n",
    "word_list = a.split()\n",
    "max_len = 0\n",
    "counter = 0\n",
    "while counter < len(word_list):\n",
    "    for word in word_list:\n",
    "        if len(word) > max_len:\n",
    "            max_len = len(word)\n",
    "        counter += 1    \n",
    "print(max_len)\n",
    "\n"
   ]
  },
  {
   "cell_type": "code",
   "execution_count": 19,
   "metadata": {},
   "outputs": [
    {
     "name": "stdout",
     "output_type": "stream",
     "text": [
      "Give me a sentence. : merhaba dostum ne yapıyorsun?\n",
      "The length of the longest word :  11\n"
     ]
    }
   ],
   "source": [
    "sentence = input(\"Give me a sentence. : \")\n",
    "\n",
    "word_list = sentence.split()\n",
    "\n",
    "longest = 0\n",
    "i = 0\n",
    "\n",
    "while i < len(word_list) :\n",
    "    \n",
    "    if len(word_list[i]) > longest :\n",
    "        longest = len(word_list[i])\n",
    "        \n",
    "    i += 1\n",
    "    \n",
    "print(\"The length of the longest word : \", longest)"
   ]
  },
  {
   "cell_type": "code",
   "execution_count": 13,
   "metadata": {},
   "outputs": [
    {
     "data": {
      "text/plain": [
       "['this', 'is', 'clarusway']"
      ]
     },
     "execution_count": 13,
     "metadata": {},
     "output_type": "execute_result"
    }
   ],
   "source": [
    "a = \"this is clarusway\".split()\n",
    "a"
   ]
  },
  {
   "cell_type": "markdown",
   "metadata": {},
   "source": [
    "# for loops"
   ]
  },
  {
   "cell_type": "code",
   "execution_count": 20,
   "metadata": {},
   "outputs": [
    {
     "name": "stdout",
     "output_type": "stream",
     "text": [
      "ali\n",
      "veli\n",
      "deli\n"
     ]
    }
   ],
   "source": [
    "my_list = [\"ali\", \"veli\", \"deli\"]\n",
    "for x in my_list:\n",
    "    print(x)"
   ]
  },
  {
   "cell_type": "code",
   "execution_count": 21,
   "metadata": {},
   "outputs": [
    {
     "name": "stdout",
     "output_type": "stream",
     "text": [
      "deli\n"
     ]
    }
   ],
   "source": [
    "print(x)"
   ]
  },
  {
   "cell_type": "code",
   "execution_count": 24,
   "metadata": {},
   "outputs": [
    {
     "name": "stdout",
     "output_type": "stream",
     "text": [
      "Hello Ahmet\n",
      "Hello Ayşe\n",
      "Hello Mehmet\n",
      "Hello Veli\n"
     ]
    }
   ],
   "source": [
    "names = [\"ahmet\", \"ayşe\", \"mehmet\", \"veli\"]\n",
    "for name in names:\n",
    "    print(\"Hello\", name.capitalize())"
   ]
  },
  {
   "cell_type": "code",
   "execution_count": 26,
   "metadata": {},
   "outputs": [
    {
     "data": {
      "text/plain": [
       "[1, 2, 3, 4, 5]"
      ]
     },
     "execution_count": 26,
     "metadata": {},
     "output_type": "execute_result"
    }
   ],
   "source": [
    "numbers = []\n",
    "for i in range(1,6):\n",
    "    numbers.append(i)\n",
    "numbers"
   ]
  },
  {
   "cell_type": "code",
   "execution_count": 33,
   "metadata": {},
   "outputs": [
    {
     "name": "stdout",
     "output_type": "stream",
     "text": [
      "enter a word clarusway\n",
      "c-l-a-r-u-s-w-a-y-"
     ]
    }
   ],
   "source": [
    "word = input(\"enter a word \")\n",
    "for i in word:\n",
    "    print(i, end=\"-\")"
   ]
  },
  {
   "cell_type": "code",
   "execution_count": 34,
   "metadata": {},
   "outputs": [
    {
     "name": "stdout",
     "output_type": "stream",
     "text": [
      "enter a word clarusway\n",
      "c-l-a-r-u-s-w-a-y"
     ]
    }
   ],
   "source": [
    "word = input(\"enter a word \")\n",
    "counter = 0\n",
    "for i in word:\n",
    "    counter += 1\n",
    "    if counter < len(word):\n",
    "        i += \"-\"\n",
    "    print(i, end = \"\")\n",
    "    "
   ]
  },
  {
   "cell_type": "code",
   "execution_count": 1,
   "metadata": {},
   "outputs": [
    {
     "name": "stdout",
     "output_type": "stream",
     "text": [
      "name\n",
      "surname\n",
      "age\n"
     ]
    }
   ],
   "source": [
    "user = {\"name\": \"Daniel\", \"surname\": \"Smith\", \"age\": 35}\n",
    "for i in user:\n",
    "    print(i)"
   ]
  },
  {
   "cell_type": "code",
   "execution_count": 2,
   "metadata": {},
   "outputs": [
    {
     "name": "stdout",
     "output_type": "stream",
     "text": [
      "Daniel Smith 35 "
     ]
    }
   ],
   "source": [
    "for i in user.values():\n",
    "    print(i, end=\" \")"
   ]
  },
  {
   "cell_type": "code",
   "execution_count": 5,
   "metadata": {},
   "outputs": [
    {
     "name": "stdout",
     "output_type": "stream",
     "text": [
      "name : Daniel\n",
      "surname : Smith\n",
      "age : 35\n"
     ]
    }
   ],
   "source": [
    "for key, value in user.items(): # iterate ettiğimiz şey ikiden fazla değer varsa \n",
    "    print(key, \":\", value)      # for döngüsünde ikiden fazla variable verilebilir."
   ]
  },
  {
   "cell_type": "code",
   "execution_count": 6,
   "metadata": {},
   "outputs": [
    {
     "name": "stdout",
     "output_type": "stream",
     "text": [
      "1 2\n",
      "3 4\n",
      "5 6\n"
     ]
    }
   ],
   "source": [
    "test = [(1, 2), (3, 4), (5,6)]\n",
    "for x, y in test:\n",
    "    print(x, y)"
   ]
  },
  {
   "cell_type": "code",
   "execution_count": 7,
   "metadata": {},
   "outputs": [
    {
     "name": "stdout",
     "output_type": "stream",
     "text": [
      "1 2 11\n",
      "3 4 34\n",
      "5 6 78\n"
     ]
    }
   ],
   "source": [
    "test = [(1, 2, 11), (3, 4, 34), (5,6, 78)]\n",
    "for x, y, z in test:\n",
    "    print(x, y, z)"
   ]
  },
  {
   "cell_type": "code",
   "execution_count": 8,
   "metadata": {},
   "outputs": [
    {
     "name": "stdout",
     "output_type": "stream",
     "text": [
      "1\n",
      "3\n",
      "5\n"
     ]
    }
   ],
   "source": [
    "test = [(1, 2, 11), (3, 4, 34), (5,6, 78)]\n",
    "for x, y, z in test:\n",
    "    print(x)"
   ]
  },
  {
   "cell_type": "code",
   "execution_count": 9,
   "metadata": {},
   "outputs": [
    {
     "name": "stdout",
     "output_type": "stream",
     "text": [
      "2\n",
      "4\n",
      "6\n"
     ]
    }
   ],
   "source": [
    "test = [(1, 2, 11), (3, 4, 34), (5,6, 78)]\n",
    "for x, y, z in test:\n",
    "    print(y)"
   ]
  },
  {
   "cell_type": "code",
   "execution_count": 1,
   "metadata": {},
   "outputs": [
    {
     "ename": "NameError",
     "evalue": "name 'y' is not defined",
     "output_type": "error",
     "traceback": [
      "\u001b[0;31m---------------------------------------------------------------------------\u001b[0m",
      "\u001b[0;31mNameError\u001b[0m                                 Traceback (most recent call last)",
      "\u001b[0;32m<ipython-input-1-68896ece4f36>\u001b[0m in \u001b[0;36m<module>\u001b[0;34m\u001b[0m\n\u001b[1;32m      1\u001b[0m \u001b[0mtest\u001b[0m \u001b[0;34m=\u001b[0m \u001b[0;34m[\u001b[0m\u001b[0;34m(\u001b[0m\u001b[0;36m1\u001b[0m\u001b[0;34m,\u001b[0m \u001b[0;36m2\u001b[0m\u001b[0;34m,\u001b[0m \u001b[0;36m11\u001b[0m\u001b[0;34m)\u001b[0m\u001b[0;34m,\u001b[0m \u001b[0;34m(\u001b[0m\u001b[0;36m3\u001b[0m\u001b[0;34m,\u001b[0m \u001b[0;36m4\u001b[0m\u001b[0;34m,\u001b[0m \u001b[0;36m34\u001b[0m\u001b[0;34m)\u001b[0m\u001b[0;34m,\u001b[0m \u001b[0;34m(\u001b[0m\u001b[0;36m5\u001b[0m\u001b[0;34m,\u001b[0m\u001b[0;36m6\u001b[0m\u001b[0;34m,\u001b[0m \u001b[0;36m78\u001b[0m\u001b[0;34m)\u001b[0m\u001b[0;34m]\u001b[0m\u001b[0;34m\u001b[0m\u001b[0;34m\u001b[0m\u001b[0m\n\u001b[1;32m      2\u001b[0m \u001b[0;32mfor\u001b[0m \u001b[0mx\u001b[0m \u001b[0;32min\u001b[0m \u001b[0mtest\u001b[0m\u001b[0;34m:\u001b[0m\u001b[0;34m\u001b[0m\u001b[0;34m\u001b[0m\u001b[0m\n\u001b[0;32m----> 3\u001b[0;31m     \u001b[0mprint\u001b[0m\u001b[0;34m(\u001b[0m\u001b[0mx\u001b[0m\u001b[0;34m,\u001b[0m \u001b[0my\u001b[0m\u001b[0;34m)\u001b[0m\u001b[0;34m\u001b[0m\u001b[0;34m\u001b[0m\u001b[0m\n\u001b[0m",
      "\u001b[0;31mNameError\u001b[0m: name 'y' is not defined"
     ]
    }
   ],
   "source": [
    "test = [(1, 2, 11), (3, 4, 34), (5,6, 78)]\n",
    "for x in test:\n",
    "    print(x, y)"
   ]
  },
  {
   "cell_type": "code",
   "execution_count": 3,
   "metadata": {},
   "outputs": [
    {
     "name": "stdout",
     "output_type": "stream",
     "text": [
      "(1, 2, 11)\n",
      "(3, 4, 34)\n",
      "(5, 6, 78)\n"
     ]
    }
   ],
   "source": [
    "test = [(1, 2, 11), (3, 4, 34), (5,6, 78)]\n",
    "for i in test:\n",
    "    print(i)"
   ]
  },
  {
   "cell_type": "code",
   "execution_count": null,
   "metadata": {},
   "outputs": [],
   "source": []
  },
  {
   "cell_type": "code",
   "execution_count": 3,
   "metadata": {},
   "outputs": [
    {
     "name": "stdout",
     "output_type": "stream",
     "text": [
      "hello\n",
      "hello\n",
      "hello\n"
     ]
    }
   ],
   "source": [
    "for i in \"abc\":    # variable kod içinde kullanılmak zorunda değil.\n",
    "    print(\"hello\")"
   ]
  },
  {
   "cell_type": "code",
   "execution_count": 7,
   "metadata": {},
   "outputs": [
    {
     "name": "stdout",
     "output_type": "stream",
     "text": [
      "please enter a one digit number for multipication table:5\n",
      "5 x 0 =   0\n",
      "5 x 1 =   5\n",
      "5 x 2 =   10\n",
      "5 x 3 =   15\n",
      "5 x 4 =   20\n",
      "5 x 5 =   25\n",
      "5 x 6 =   30\n",
      "5 x 7 =   35\n",
      "5 x 8 =   40\n",
      "5 x 9 =   45\n",
      "5 x 10 =   50\n"
     ]
    }
   ],
   "source": [
    "num = (input(\"please enter a one digit number for multipication table:\"))\n",
    "\n",
    "for i in range(11):\n",
    "    print(f\"{num} x {i} =  \", int(num) * i)\n",
    "    i += 1"
   ]
  },
  {
   "cell_type": "code",
   "execution_count": 8,
   "metadata": {},
   "outputs": [
    {
     "name": "stdout",
     "output_type": "stream",
     "text": [
      "range(10, 1)\n"
     ]
    }
   ],
   "source": [
    "print(range(10,1))"
   ]
  },
  {
   "cell_type": "code",
   "execution_count": 14,
   "metadata": {},
   "outputs": [
    {
     "name": "stdout",
     "output_type": "stream",
     "text": [
      "[]\n"
     ]
    }
   ],
   "source": [
    "print(list(range(10,1)))"
   ]
  },
  {
   "cell_type": "code",
   "execution_count": 9,
   "metadata": {},
   "outputs": [
    {
     "name": "stdout",
     "output_type": "stream",
     "text": [
      "range(10, 1, -1)\n"
     ]
    }
   ],
   "source": [
    "print(range(10, 1, -1))"
   ]
  },
  {
   "cell_type": "code",
   "execution_count": 10,
   "metadata": {},
   "outputs": [
    {
     "name": "stdout",
     "output_type": "stream",
     "text": [
      "10 9 8 7 6 5 4 3 2\n"
     ]
    }
   ],
   "source": [
    "print(*range(10, 1, -1))"
   ]
  },
  {
   "cell_type": "code",
   "execution_count": 13,
   "metadata": {},
   "outputs": [
    {
     "name": "stdout",
     "output_type": "stream",
     "text": [
      "h a r u n -1\n"
     ]
    }
   ],
   "source": [
    "print(* \"harun\")"
   ]
  },
  {
   "cell_type": "code",
   "execution_count": 11,
   "metadata": {},
   "outputs": [
    {
     "name": "stdout",
     "output_type": "stream",
     "text": [
      "[10, 9, 8, 7, 6, 5, 4, 3, 2]\n"
     ]
    }
   ],
   "source": [
    "print(list(range(10, 1, -1)))"
   ]
  },
  {
   "cell_type": "code",
   "execution_count": 20,
   "metadata": {},
   "outputs": [
    {
     "name": "stdout",
     "output_type": "stream",
     "text": [
      "\n",
      "1\n",
      "22\n",
      "333\n",
      "4444\n",
      "55555\n",
      "666666\n",
      "7777777\n",
      "88888888\n",
      "999999999\n"
     ]
    }
   ],
   "source": [
    "a = \"1\" \n",
    "for i in range(10): \n",
    "    print(str(int(a) * i) * i)\n"
   ]
  },
  {
   "cell_type": "code",
   "execution_count": 21,
   "metadata": {},
   "outputs": [
    {
     "name": "stdout",
     "output_type": "stream",
     "text": [
      "\n",
      "1\n",
      "22\n",
      "333\n",
      "4444\n",
      "55555\n",
      "666666\n",
      "7777777\n",
      "88888888\n",
      "999999999\n"
     ]
    }
   ],
   "source": [
    "for i in range(10): \n",
    "    print(str(i) * i)"
   ]
  },
  {
   "cell_type": "code",
   "execution_count": 22,
   "metadata": {},
   "outputs": [
    {
     "name": "stdout",
     "output_type": "stream",
     "text": [
      "5 7 9 11 13 15 17 19 21 23\n"
     ]
    }
   ],
   "source": [
    "print(*range(5,25,2))"
   ]
  },
  {
   "cell_type": "code",
   "execution_count": 26,
   "metadata": {},
   "outputs": [
    {
     "name": "stdout",
     "output_type": "stream",
     "text": [
      "0ne : 1\n",
      "two : 2\n",
      "three : 3\n"
     ]
    }
   ],
   "source": [
    "text = [\"0ne\", \"two\", \"three\"]\n",
    "num = [1, 2, 3]\n",
    "for x, y in zip(text, num):\n",
    "    print(x, \":\", y)\n",
    "    "
   ]
  },
  {
   "cell_type": "code",
   "execution_count": 30,
   "metadata": {},
   "outputs": [],
   "source": [
    "zipped = zip(text, num)"
   ]
  },
  {
   "cell_type": "code",
   "execution_count": 33,
   "metadata": {},
   "outputs": [
    {
     "name": "stdout",
     "output_type": "stream",
     "text": [
      "('0ne', 1) ('two', 2) ('three', 3)\n"
     ]
    }
   ],
   "source": [
    "print(* zipped)"
   ]
  },
  {
   "cell_type": "code",
   "execution_count": 34,
   "metadata": {},
   "outputs": [
    {
     "data": {
      "text/plain": [
       "[]"
      ]
     },
     "execution_count": 34,
     "metadata": {},
     "output_type": "execute_result"
    }
   ],
   "source": [
    "list(zipped) # aşağıda boş çıktı çünkü zip fonksiyonu bir kere görüntülenince (iterate edince) boşalıyor.\n",
    "# tekrar içi doldurulursa tekrar görüntülenebilir (itarate edilebilir) silah doldur boşalt gibi ateşleyince \n",
    "# tekrar doldurmak lazım."
   ]
  },
  {
   "cell_type": "code",
   "execution_count": 35,
   "metadata": {},
   "outputs": [
    {
     "data": {
      "text/plain": [
       "[('0ne', 1), ('two', 2), ('three', 3)]"
      ]
     },
     "execution_count": 35,
     "metadata": {},
     "output_type": "execute_result"
    }
   ],
   "source": [
    "zipped = zip(text, num) \n",
    "list(zipped)"
   ]
  },
  {
   "cell_type": "code",
   "execution_count": 36,
   "metadata": {},
   "outputs": [
    {
     "data": {
      "text/plain": [
       "{'0ne': 1, 'two': 2, 'three': 3}"
      ]
     },
     "execution_count": 36,
     "metadata": {},
     "output_type": "execute_result"
    }
   ],
   "source": [
    "zipped = zip(text, num) \n",
    "dict(zipped)\n"
   ]
  },
  {
   "cell_type": "code",
   "execution_count": 40,
   "metadata": {},
   "outputs": [
    {
     "name": "stdout",
     "output_type": "stream",
     "text": [
      "[0, 2, 4, 6, 8]\n",
      "[1, 3, 5, 7, 9]\n"
     ]
    }
   ],
   "source": [
    "evens = []\n",
    "odds = []\n",
    "for i in range(10):\n",
    "    if i % 2 == 0:\n",
    "        evens.append(i)\n",
    "    else:\n",
    "        odds.append(i)\n",
    "print(evens)\n",
    "print(odds)\n",
    "        "
   ]
  },
  {
   "cell_type": "code",
   "execution_count": 43,
   "metadata": {},
   "outputs": [
    {
     "name": "stdout",
     "output_type": "stream",
     "text": [
      "the number of evens are 3\n",
      " the number or odds are 4.\n"
     ]
    }
   ],
   "source": [
    "count_even = 0\n",
    "count_odd =0\n",
    "example_list = [11, 2, 24, 61, 48, 33, 3]\n",
    "for i in example_list:\n",
    "    if i % 2 == 0:\n",
    "        count_even += 1\n",
    "    else:\n",
    "        count_odd += 1\n",
    "print(f\"the number of evens are {count_even}\\n the number or odds are {count_odd}.\")"
   ]
  },
  {
   "cell_type": "code",
   "execution_count": 44,
   "metadata": {},
   "outputs": [
    {
     "name": "stdout",
     "output_type": "stream",
     "text": [
      "2775\n"
     ]
    }
   ],
   "source": [
    "sum = 0\n",
    "for i in range(75):\n",
    "    sum += i\n",
    "print(sum)\n"
   ]
  },
  {
   "cell_type": "markdown",
   "metadata": {},
   "source": [
    "### nested for loops"
   ]
  },
  {
   "cell_type": "code",
   "execution_count": 45,
   "metadata": {},
   "outputs": [
    {
     "name": "stdout",
     "output_type": "stream",
     "text": [
      "I am happy\n",
      "I am confident\n",
      "You are happy\n",
      "You are confident\n"
     ]
    }
   ],
   "source": [
    "who = [\"I am\", \"You are\"]\n",
    "mood = [\"happy\", \"confident\"]\n",
    "for x in who:\n",
    "    for y in mood:\n",
    "        print(x, y)"
   ]
  },
  {
   "cell_type": "code",
   "execution_count": 6,
   "metadata": {},
   "outputs": [
    {
     "name": "stdout",
     "output_type": "stream",
     "text": [
      "Susan is happy.\n",
      "Susan is sad.\n",
      "Tom is happy.\n",
      "Tom is sad.\n",
      "Edward is happy.\n",
      "Edward is sad.\n"
     ]
    }
   ],
   "source": [
    "names = [\"Susan\", \"Tom\", \"Edward\"]\n",
    "mood = [\"happy\", \"sad\"]\n",
    "for a in names:\n",
    "    for b in mood:\n",
    "        print(f\"{a} is {b}.\")"
   ]
  },
  {
   "cell_type": "code",
   "execution_count": null,
   "metadata": {},
   "outputs": [],
   "source": []
  },
  {
   "cell_type": "code",
   "execution_count": 9,
   "metadata": {},
   "outputs": [
    {
     "data": {
      "text/plain": [
       "(1, 2, 3, 4, 5, 6, 7)"
      ]
     },
     "execution_count": 9,
     "metadata": {},
     "output_type": "execute_result"
    }
   ],
   "source": [
    "tuple(range(1,8))"
   ]
  },
  {
   "cell_type": "code",
   "execution_count": null,
   "metadata": {},
   "outputs": [],
   "source": []
  },
  {
   "cell_type": "code",
   "execution_count": 11,
   "metadata": {},
   "outputs": [
    {
     "data": {
      "text/plain": [
       "2"
      ]
     },
     "execution_count": 11,
     "metadata": {},
     "output_type": "execute_result"
    }
   ],
   "source": [
    "mon, tue, wed, thu, fri, sat, sun = tuple(range(1,8))\n",
    "tue"
   ]
  },
  {
   "cell_type": "code",
   "execution_count": 13,
   "metadata": {},
   "outputs": [
    {
     "data": {
      "text/plain": [
       "[1, 2, 3, 'ali', 'veli']"
      ]
     },
     "execution_count": 13,
     "metadata": {},
     "output_type": "execute_result"
    }
   ],
   "source": [
    "[1, 2, 3] + [\"ali\"] + [\"veli\"]"
   ]
  },
  {
   "cell_type": "code",
   "execution_count": 14,
   "metadata": {},
   "outputs": [
    {
     "ename": "ValueError",
     "evalue": "too many values to unpack (expected 2)",
     "output_type": "error",
     "traceback": [
      "\u001b[0;31m---------------------------------------------------------------------------\u001b[0m",
      "\u001b[0;31mValueError\u001b[0m                                Traceback (most recent call last)",
      "\u001b[0;32m<ipython-input-14-c9b58497b842>\u001b[0m in \u001b[0;36m<module>\u001b[0;34m\u001b[0m\n\u001b[0;32m----> 1\u001b[0;31m \u001b[0ma\u001b[0m \u001b[0;34m,\u001b[0m \u001b[0mb\u001b[0m \u001b[0;34m=\u001b[0m \u001b[0;34m(\u001b[0m\u001b[0;36m10\u001b[0m\u001b[0;34m,\u001b[0m \u001b[0;36m20\u001b[0m\u001b[0;34m,\u001b[0m \u001b[0;36m30\u001b[0m\u001b[0;34m,\u001b[0m \u001b[0;36m40\u001b[0m\u001b[0;34m)\u001b[0m\u001b[0;34m\u001b[0m\u001b[0;34m\u001b[0m\u001b[0m\n\u001b[0m",
      "\u001b[0;31mValueError\u001b[0m: too many values to unpack (expected 2)"
     ]
    }
   ],
   "source": [
    "a , b = (10, 20, 30, 40) # bu sorunu çözmek için alttaki dod"
   ]
  },
  {
   "cell_type": "code",
   "execution_count": 16,
   "metadata": {},
   "outputs": [
    {
     "name": "stdout",
     "output_type": "stream",
     "text": [
      "10\n",
      "30\n"
     ]
    }
   ],
   "source": [
    "a, _, b, _ = (10, 20, 30, 40) # bu alt çizgilere place holder denir ve hafızada yer tutmaz.\n",
    "print(a)\n",
    "print(b)"
   ]
  },
  {
   "cell_type": "code",
   "execution_count": 17,
   "metadata": {},
   "outputs": [
    {
     "name": "stdout",
     "output_type": "stream",
     "text": [
      "11 54 [67, 4566, 60]\n"
     ]
    }
   ],
   "source": [
    "x, y, *z = (11, 54, 67, 4566, 60) # *z iterable bir liste oluyor\n",
    "print(x, y, z)"
   ]
  },
  {
   "cell_type": "code",
   "execution_count": 18,
   "metadata": {},
   "outputs": [
    {
     "name": "stdout",
     "output_type": "stream",
     "text": [
      "11 54\n"
     ]
    }
   ],
   "source": [
    "x, y, *_ = (11, 54, 67, 4566, 60)\n",
    "print(x, y)"
   ]
  },
  {
   "cell_type": "code",
   "execution_count": 21,
   "metadata": {},
   "outputs": [
    {
     "name": "stdout",
     "output_type": "stream",
     "text": [
      "34\n",
      "67 4566 60 66 77 89\n"
     ]
    }
   ],
   "source": [
    "x, y, *z, t = (11, 54, 67, 4566, 60, 66, 77, 89, 34)\n",
    "print(t)\n",
    "print(*z)"
   ]
  },
  {
   "cell_type": "code",
   "execution_count": null,
   "metadata": {},
   "outputs": [],
   "source": []
  }
 ],
 "metadata": {
  "kernelspec": {
   "display_name": "Python 3",
   "language": "python",
   "name": "python3"
  },
  "language_info": {
   "codemirror_mode": {
    "name": "ipython",
    "version": 3
   },
   "file_extension": ".py",
   "mimetype": "text/x-python",
   "name": "python",
   "nbconvert_exporter": "python",
   "pygments_lexer": "ipython3",
   "version": "3.8.10"
  }
 },
 "nbformat": 4,
 "nbformat_minor": 4
}
