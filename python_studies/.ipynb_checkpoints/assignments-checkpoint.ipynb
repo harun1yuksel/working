{
 "cells": [
  {
   "cell_type": "code",
   "execution_count": 1,
   "metadata": {},
   "outputs": [
    {
     "name": "stdout",
     "output_type": "stream",
     "text": [
      "please enter your name:  Harun\n",
      "1234\n"
     ]
    }
   ],
   "source": [
    "passwords = {\"Harun\":\"1234\", \"Fatih\":\"nor\", \"Hatice\": 56}\n",
    "sifre = input(\"please enter your name:  \")\n",
    "print(passwords[sifre])\n"
   ]
  },
  {
   "cell_type": "code",
   "execution_count": null,
   "metadata": {},
   "outputs": [],
   "source": []
  },
  {
   "cell_type": "code",
   "execution_count": null,
   "metadata": {},
   "outputs": [],
   "source": []
  },
  {
   "cell_type": "markdown",
   "metadata": {},
   "source": [
    "# Armstrong number."
   ]
  },
  {
   "cell_type": "code",
   "execution_count": 30,
   "metadata": {},
   "outputs": [
    {
     "name": "stdout",
     "output_type": "stream",
     "text": [
      "Please enter a positive integer:  153\n",
      "153 is an Armstrong number\n"
     ]
    }
   ],
   "source": [
    "num = input(\"Please enter a positive integer:  \")\n",
    "sum1 = 0\n",
    "while set(num) - {\"0\", \"1\", \"2\", \"3\", \"4\", \"5\", \"6\", \"7\", \"8\", \"9\"} != set():\n",
    "    num = input(\"It is an invalid entry. Don't use non-numeric, float, or negative values! \\nPlease enter a positive integer:  \")\n",
    "for x in num:\n",
    "    sum1 += int(x)**len(num)\n",
    "if sum1 == int(num):\n",
    "    print(num, \"is an Armstrong number\")\n",
    "else:\n",
    "    print(num, \"is not an Armstrong number\")"
   ]
  },
  {
   "cell_type": "code",
   "execution_count": 1,
   "metadata": {},
   "outputs": [
    {
     "name": "stdout",
     "output_type": "stream",
     "text": [
      "Please enter a positive integer:  jf\n",
      "It is an invalid entry. Don't use non-numeric, float, or negative values! \n",
      "Please enter a positive integer:  fjf\n",
      "It is an invalid entry. Don't use non-numeric, float, or negative values! \n",
      "Please enter a positive integer:  jfkof\n",
      "It is an invalid entry. Don't use non-numeric, float, or negative values! \n",
      "Please enter a positive integer:  dfıef\n",
      "It is an invalid entry. Don't use non-numeric, float, or negative values! \n",
      "Please enter a positive integer:  456\n",
      "456 is not an Armstrong number\n"
     ]
    }
   ],
   "source": [
    "num = input(\"Please enter a positive integer:  \")\n",
    "sum1 = 0\n",
    "while num.isnumeric() is False:\n",
    "    num = input(\"It is an invalid entry. Don't use non-numeric, float, or negative values! \\nPlease enter a positive integer:  \")\n",
    "for x in num:\n",
    "    sum1 += int(x)**len(num)\n",
    "if sum1 == int(num):\n",
    "    print(num, \"is an Armstrong number\")\n",
    "else:\n",
    "    print(num, \"is not an Armstrong number\")\n",
    "        \n",
    "        \n",
    "  "
   ]
  },
  {
   "cell_type": "code",
   "execution_count": null,
   "metadata": {},
   "outputs": [],
   "source": []
  },
  {
   "cell_type": "code",
   "execution_count": 14,
   "metadata": {},
   "outputs": [
    {
     "data": {
      "text/plain": [
       "True"
      ]
     },
     "execution_count": 14,
     "metadata": {},
     "output_type": "execute_result"
    }
   ],
   "source": [
    "\"45\".isnumeric()"
   ]
  },
  {
   "cell_type": "code",
   "execution_count": 6,
   "metadata": {},
   "outputs": [
    {
     "data": {
      "text/plain": [
       "True"
      ]
     },
     "execution_count": 6,
     "metadata": {},
     "output_type": "execute_result"
    }
   ],
   "source": [
    "\"98\".isdigit()"
   ]
  },
  {
   "cell_type": "code",
   "execution_count": 16,
   "metadata": {},
   "outputs": [
    {
     "data": {
      "text/plain": [
       "False"
      ]
     },
     "execution_count": 16,
     "metadata": {},
     "output_type": "execute_result"
    }
   ],
   "source": [
    "\"hf\".isnumeric()"
   ]
  },
  {
   "cell_type": "code",
   "execution_count": 18,
   "metadata": {},
   "outputs": [
    {
     "data": {
      "text/plain": [
       "False"
      ]
     },
     "execution_count": 18,
     "metadata": {},
     "output_type": "execute_result"
    }
   ],
   "source": [
    "\"45.g\".isnumeric()"
   ]
  },
  {
   "cell_type": "code",
   "execution_count": 34,
   "metadata": {},
   "outputs": [
    {
     "data": {
      "text/plain": [
       "False"
      ]
     },
     "execution_count": 34,
     "metadata": {},
     "output_type": "execute_result"
    }
   ],
   "source": [
    "\"44.8\".isnumeric()"
   ]
  },
  {
   "cell_type": "code",
   "execution_count": null,
   "metadata": {},
   "outputs": [],
   "source": []
  },
  {
   "cell_type": "code",
   "execution_count": null,
   "metadata": {},
   "outputs": [],
   "source": []
  },
  {
   "cell_type": "code",
   "execution_count": 8,
   "metadata": {},
   "outputs": [
    {
     "data": {
      "text/plain": [
       "False"
      ]
     },
     "execution_count": 8,
     "metadata": {},
     "output_type": "execute_result"
    }
   ],
   "source": [
    "type(num) is float"
   ]
  },
  {
   "cell_type": "code",
   "execution_count": 18,
   "metadata": {},
   "outputs": [
    {
     "data": {
      "text/plain": [
       "10"
      ]
     },
     "execution_count": 18,
     "metadata": {},
     "output_type": "execute_result"
    }
   ],
   "source": [
    "int(10.8)"
   ]
  },
  {
   "cell_type": "code",
   "execution_count": 22,
   "metadata": {},
   "outputs": [
    {
     "data": {
      "text/plain": [
       "set()"
      ]
     },
     "execution_count": 22,
     "metadata": {},
     "output_type": "execute_result"
    }
   ],
   "source": [
    "set(num) - {\"0\", \"1\", \"2\", \"3\", \"4\", \"5\", \"6\", \"7\", \"8\", \"9\"}"
   ]
  },
  {
   "cell_type": "code",
   "execution_count": 63,
   "metadata": {},
   "outputs": [
    {
     "name": "stdout",
     "output_type": "stream",
     "text": [
      "please enter a word:  l\n",
      "Empty String\n"
     ]
    }
   ],
   "source": [
    "# Write a Python program to get a string made of the first 2 and the last 2 chars from a given a string. \n",
    "# if the string length is less than 2, return instead of the \"Empty String\".\n",
    "a = input(\"please enter a word:  \")\n",
    "if len(a) < 2:\n",
    "    print(\"Empty String\")\n",
    "else:\n",
    "    print(a[0:2] + a[-2] + a[-1])"
   ]
  },
  {
   "cell_type": "code",
   "execution_count": 64,
   "metadata": {},
   "outputs": [
    {
     "name": "stdout",
     "output_type": "stream",
     "text": [
      "Please Write a Word:Merhaba\n",
      "Meba\n"
     ]
    }
   ],
   "source": [
    "word = input(\"Please Write a Word:\")\n",
    "if len(word) < 2:\n",
    "    print(\"Empty String\")\n",
    "else:\n",
    "    print(word[:2] + word[-2:])"
   ]
  },
  {
   "cell_type": "code",
   "execution_count": 1,
   "metadata": {},
   "outputs": [
    {
     "name": "stdout",
     "output_type": "stream",
     "text": [
      "Wellcome to number ordering program\n",
      "\n",
      "Please enter your numbers one by one \n",
      "when you finished enter 'E'54\n",
      "\n",
      "Please enter your numbers one by one \n",
      "when you finished enter 'E'67\n",
      "\n",
      "Please enter your numbers one by one \n",
      "when you finished enter 'E'98.9\n",
      "\n",
      "Please enter your numbers one by one \n",
      "when you finished enter 'E're\n",
      "\n",
      "Invalid entry. Use numeric characters only \n",
      "Please enter like '5', '-3' or '21.5':  yt\n",
      "\n",
      "Please enter your numbers one by one \n",
      "when you finished enter 'E'rt\n",
      "\n",
      "Invalid entry. Use numeric characters only \n",
      "Please enter like '5', '-3' or '21.5':  34\n",
      "\n",
      "Please enter your numbers one by one \n",
      "when you finished enter 'E'-123\n",
      "\n",
      "Please enter your numbers one by one \n",
      "when you finished enter 'E'E\n",
      "\n",
      "Your ordered number list is [-123.0, 54.0, 67.0, 98.9]\n",
      "\n",
      "The min number you entered is -123.0\n",
      "\n",
      "The max number you entered is 98.9\n"
     ]
    }
   ],
   "source": [
    "print(\"Wellcome to number ordering program\")\n",
    "num_list = []\n",
    "while True:\n",
    "    a = input(\"\\nPlease enter your numbers one by one \\nwhen you finished enter 'E'\" )\n",
    "    if a == \"E\":\n",
    "        break \n",
    "    try:\n",
    "        num_list.append(float(a))\n",
    "    except ValueError:\n",
    "        a = input(\"\\nInvalid entry. Use numeric characters only \\nPlease enter like '5', '-3' or '21.5':  \")\n",
    "        if a == \"E\":\n",
    "            break   \n",
    "    \n",
    "     \n",
    "num_list.sort()\n",
    "if num_list == list():\n",
    "    print(\"\\nYou have not entered any number\")\n",
    "else: \n",
    "    print(\"\\nYour ordered number list is\", num_list)\n",
    "    print(\"\\nThe min number you entered is\", num_list[0])\n",
    "    print(\"\\nThe max number you entered is\", num_list[-1])"
   ]
  },
  {
   "cell_type": "code",
   "execution_count": 19,
   "metadata": {},
   "outputs": [],
   "source": [
    "def isint(num):\n",
    "    try:\n",
    "        int(num)\n",
    "        return True\n",
    "    except ValueError:\n",
    "        return False\n",
    "    "
   ]
  },
  {
   "cell_type": "code",
   "execution_count": 15,
   "metadata": {},
   "outputs": [
    {
     "data": {
      "text/plain": [
       "True"
      ]
     },
     "execution_count": 15,
     "metadata": {},
     "output_type": "execute_result"
    }
   ],
   "source": [
    "isint(-23)"
   ]
  },
  {
   "cell_type": "code",
   "execution_count": 22,
   "metadata": {},
   "outputs": [
    {
     "data": {
      "text/plain": [
       "True"
      ]
     },
     "execution_count": 22,
     "metadata": {},
     "output_type": "execute_result"
    }
   ],
   "source": [
    "isint(45.9)"
   ]
  },
  {
   "cell_type": "code",
   "execution_count": 23,
   "metadata": {},
   "outputs": [
    {
     "data": {
      "text/plain": [
       "True"
      ]
     },
     "execution_count": 23,
     "metadata": {},
     "output_type": "execute_result"
    }
   ],
   "source": [
    "isint(58.6)"
   ]
  },
  {
   "cell_type": "code",
   "execution_count": 24,
   "metadata": {},
   "outputs": [
    {
     "data": {
      "text/plain": [
       "58.6"
      ]
     },
     "execution_count": 24,
     "metadata": {},
     "output_type": "execute_result"
    }
   ],
   "source": [
    "float(\"58.6\")"
   ]
  },
  {
   "cell_type": "code",
   "execution_count": 18,
   "metadata": {},
   "outputs": [
    {
     "data": {
      "text/plain": [
       "False"
      ]
     },
     "execution_count": 18,
     "metadata": {},
     "output_type": "execute_result"
    }
   ],
   "source": [
    "isint(\"hg\")"
   ]
  },
  {
   "cell_type": "code",
   "execution_count": 2,
   "metadata": {
    "scrolled": true
   },
   "outputs": [
    {
     "name": "stdout",
     "output_type": "stream",
     "text": [
      "Wellcome to number ordering program\n",
      "Please enter your numbers one by one \n",
      "when you finished enter 'q'45\n",
      "Please enter your numbers one by one \n",
      "when you finished enter 'q'7\n",
      "Please enter your numbers one by one \n",
      "when you finished enter 'q'-89\n",
      "Please enter your numbers one by one \n",
      "when you finished enter 'q'gf\n",
      "\n",
      "\n",
      "Invalid entry. Use numeric characters only \n",
      "Please enter like '5', '-3' or '21.5'\n",
      "Please enter your numbers one by one \n",
      "when you finished enter 'q'er\n",
      "\n",
      "\n",
      "Invalid entry. Use numeric characters only \n",
      "Please enter like '5', '-3' or '21.5'\n",
      "Please enter your numbers one by one \n",
      "when you finished enter 'q'de\n",
      "\n",
      "\n",
      "Invalid entry. Use numeric characters only \n",
      "Please enter like '5', '-3' or '21.5'\n",
      "Please enter your numbers one by one \n",
      "when you finished enter 'q'34\n",
      "Please enter your numbers one by one \n",
      "when you finished enter 'q'-34\n",
      "Please enter your numbers one by one \n",
      "when you finished enter 'q'q\n",
      "\n",
      "Your ordered number list is [-89.0, -34.0, 7.0, 34.0, 45.0]\n",
      "\n",
      "The min number you entered is -89.0\n",
      "\n",
      "The max number you entered is 45.0\n"
     ]
    }
   ],
   "source": [
    "def isfloat(n):\n",
    "    try:\n",
    "        float(n)\n",
    "        return True\n",
    "    except ValueError:\n",
    "        return False\n",
    "    \n",
    "print(\"Wellcome to number ordering program\")\n",
    "num_list = []\n",
    "while True:\n",
    "    a = input(\"Please enter your numbers one by one \\nwhen you finished enter 'q'\" )\n",
    "    if isfloat(a):\n",
    "        num_list.append(float(a))\n",
    "        continue        \n",
    "\n",
    "    elif a == \"q\":\n",
    "        break  \n",
    "        \n",
    "    else:\n",
    "        print(\"\\n\\nInvalid entry. Use numeric characters only \\nPlease enter like '5', '-3' or '21.5'\")\n",
    "        continue\n",
    "        \n",
    "        \n",
    "\n",
    "     \n",
    "num_list.sort()\n",
    "if num_list == list():\n",
    "    print(\"\\nYou have not entered any number\")\n",
    "else: \n",
    "    print(\"\\nYour ordered number list is\", num_list)\n",
    "    print(\"\\nThe min number you entered is\", num_list[0])\n",
    "    print(\"\\nThe max number you entered is\", num_list[-1])"
   ]
  },
  {
   "cell_type": "code",
   "execution_count": 6,
   "metadata": {},
   "outputs": [
    {
     "data": {
      "text/plain": [
       "False"
      ]
     },
     "execution_count": 6,
     "metadata": {},
     "output_type": "execute_result"
    }
   ],
   "source": [
    "\"10.3-98\n",
    "\".isdigit()"
   ]
  },
  {
   "cell_type": "code",
   "execution_count": 12,
   "metadata": {},
   "outputs": [
    {
     "data": {
      "text/plain": [
       "False"
      ]
     },
     "execution_count": 12,
     "metadata": {},
     "output_type": "execute_result"
    }
   ],
   "source": [
    "\"-10\".isdecimal()"
   ]
  },
  {
   "cell_type": "code",
   "execution_count": 3,
   "metadata": {},
   "outputs": [
    {
     "data": {
      "text/plain": [
       "False"
      ]
     },
     "execution_count": 3,
     "metadata": {},
     "output_type": "execute_result"
    }
   ],
   "source": [
    "\"-9\".isnumeric()"
   ]
  },
  {
   "cell_type": "code",
   "execution_count": 4,
   "metadata": {},
   "outputs": [
    {
     "data": {
      "text/plain": [
       "False"
      ]
     },
     "execution_count": 4,
     "metadata": {},
     "output_type": "execute_result"
    }
   ],
   "source": [
    "\"-8\".isalnum()"
   ]
  },
  {
   "cell_type": "code",
   "execution_count": 13,
   "metadata": {},
   "outputs": [
    {
     "data": {
      "text/plain": [
       "-10"
      ]
     },
     "execution_count": 13,
     "metadata": {},
     "output_type": "execute_result"
    }
   ],
   "source": [
    "int(\"-10\")"
   ]
  },
  {
   "cell_type": "code",
   "execution_count": 27,
   "metadata": {},
   "outputs": [
    {
     "name": "stdout",
     "output_type": "stream",
     "text": [
      "enter hight of the terrain to calculate the water collection.\n",
      "Type ok when you are done:kl\n"
     ]
    },
    {
     "ename": "ValueError",
     "evalue": "invalid literal for int() with base 10: 'kl'",
     "output_type": "error",
     "traceback": [
      "\u001b[0;31m---------------------------------------------------------------------------\u001b[0m",
      "\u001b[0;31mValueError\u001b[0m                                Traceback (most recent call last)",
      "\u001b[0;32m<ipython-input-27-60ea40f2bb05>\u001b[0m in \u001b[0;36m<module>\u001b[0;34m\u001b[0m\n\u001b[1;32m      9\u001b[0m         \u001b[0;32mbreak\u001b[0m\u001b[0;34m\u001b[0m\u001b[0;34m\u001b[0m\u001b[0m\n\u001b[1;32m     10\u001b[0m     \u001b[0;32melse\u001b[0m\u001b[0;34m:\u001b[0m\u001b[0;34m\u001b[0m\u001b[0;34m\u001b[0m\u001b[0m\n\u001b[0;32m---> 11\u001b[0;31m         \u001b[0msum_water\u001b[0m \u001b[0;34m=\u001b[0m \u001b[0msum_water\u001b[0m \u001b[0;34m+\u001b[0m \u001b[0;34m(\u001b[0m\u001b[0mint\u001b[0m\u001b[0;34m(\u001b[0m\u001b[0mhight1\u001b[0m\u001b[0;34m)\u001b[0m \u001b[0;34m-\u001b[0m \u001b[0mint\u001b[0m\u001b[0;34m(\u001b[0m\u001b[0mhight1\u001b[0m\u001b[0;34m)\u001b[0m\u001b[0;34m)\u001b[0m\u001b[0;34m\u001b[0m\u001b[0;34m\u001b[0m\u001b[0m\n\u001b[0m\u001b[1;32m     12\u001b[0m         \u001b[0;31m#hight = int(hight1)\u001b[0m\u001b[0;34m\u001b[0m\u001b[0;34m\u001b[0m\u001b[0;34m\u001b[0m\u001b[0m\n\u001b[1;32m     13\u001b[0m \u001b[0mprint\u001b[0m\u001b[0;34m(\u001b[0m\u001b[0;34mf\"collected water is {sum_water}\"\u001b[0m\u001b[0;34m)\u001b[0m\u001b[0;34m\u001b[0m\u001b[0;34m\u001b[0m\u001b[0m\n",
      "\u001b[0;31mValueError\u001b[0m: invalid literal for int() with base 10: 'kl'"
     ]
    }
   ],
   "source": [
    "print(\"enter hight of the terrain to calculate the water collection.\")\n",
    "hight1 = 0\n",
    "sum_water = 0\n",
    "\n",
    "\n",
    "while hight1 != \"ok\":\n",
    "    hight1 = input(\"Type ok when you are done:\")\n",
    "    if hight1 == \"ok\":\n",
    "        break\n",
    "    else:\n",
    "        sum_water = sum_water + (int(hight1) - int(hight1))\n",
    "        #hight = int(hight1)\n",
    "print(f\"collected water is {sum_water}\")\n"
   ]
  },
  {
   "cell_type": "code",
   "execution_count": 9,
   "metadata": {},
   "outputs": [
    {
     "ename": "SyntaxError",
     "evalue": "invalid syntax (<ipython-input-9-8eaa2b4370d5>, line 12)",
     "output_type": "error",
     "traceback": [
      "\u001b[0;36m  File \u001b[0;32m\"<ipython-input-9-8eaa2b4370d5>\"\u001b[0;36m, line \u001b[0;32m12\u001b[0m\n\u001b[0;31m    water = i -\u001b[0m\n\u001b[0m                ^\u001b[0m\n\u001b[0;31mSyntaxError\u001b[0m\u001b[0;31m:\u001b[0m invalid syntax\n"
     ]
    }
   ],
   "source": [
    "print(\"enter hight of the terrain to calculate the water collection.\")\n",
    "hight1 = 0\n",
    "sum_water = 0\n",
    "terrain_hight = []\n",
    "while hight1 != \"ok\":\n",
    "    hight1 = input(\"Type ok when you are done:\")\n",
    "    if hight1 == \"ok\":\n",
    "        break\n",
    "    else:\n",
    "        terrain_hight.append[int(hight1)]\n",
    "for i in terrain_hight:\n",
    "    water = i - \n",
    "print(f\"collected water is {sum_water}\")"
   ]
  },
  {
   "cell_type": "code",
   "execution_count": 15,
   "metadata": {},
   "outputs": [
    {
     "name": "stdout",
     "output_type": "stream",
     "text": [
      "{'t', 'a', 'e'}\n",
      "{'t', 'a', 'e'}\n",
      "{'t', 'n', 'a'}\n",
      "{'t', 'a', 'e'}\n",
      "{'t', 'n', 'a'}\n",
      "{'t', 'b', 'a'}\n"
     ]
    }
   ],
   "source": [
    "listA = [\"eat\", \"tea\", \"tan\", \"ate\", \"nat\", \"bat\"]\n",
    "for i in listA:\n",
    "    print(set(i))"
   ]
  },
  {
   "cell_type": "markdown",
   "metadata": {},
   "source": [
    "# fibonacci listesi \n",
    "Task : Create a list consisting of Fibonacci numbers from 1 to 55 using control flow statements and range() function."
   ]
  },
  {
   "cell_type": "code",
   "execution_count": 2,
   "metadata": {
    "scrolled": true
   },
   "outputs": [
    {
     "name": "stdout",
     "output_type": "stream",
     "text": [
      "Hello this is a Fibonacci number list maker\n",
      "Please enter an integer to see the Fibonacci number list up to it:df\n",
      "invalid entry\n",
      "Please enter an integer to see the Fibonacci number list up to it:23e\n",
      "invalid entry\n",
      "Please enter an integer to see the Fibonacci number list up to it:de\n",
      "invalid entry\n",
      "Please enter an integer to see the Fibonacci number list up to it:de\n",
      "invalid entry\n",
      "Please enter an integer to see the Fibonacci number list up to it:09\n",
      "[0, 1, 1, 2, 3, 5, 8]\n"
     ]
    }
   ],
   "source": [
    "print(\"Hello this is a Fibonacci number list maker\")\n",
    "\n",
    "fibonacci_list = [0, 1]\n",
    "number = input(\"Please enter an integer to see the Fibonacci number list up to it:\")\n",
    "\n",
    "while not number.isnumeric():\n",
    "    number = input(\"invalid entry\\nPlease enter an integer to see the Fibonacci number list up to it:\")\n",
    "\n",
    "\n",
    "for x in fibonacci_list:\n",
    "    if fibonacci_list[-1] < int(number):\n",
    "        fibonacci_list.append(fibonacci_list[-1] + fibonacci_list[-2])\n",
    "\n",
    "fibonacci_list.pop()\n",
    "print(fibonacci_list)"
   ]
  },
  {
   "cell_type": "code",
   "execution_count": 3,
   "metadata": {},
   "outputs": [
    {
     "ename": "NameError",
     "evalue": "name 'a' is not defined",
     "output_type": "error",
     "traceback": [
      "\u001b[0;31m---------------------------------------------------------------------------\u001b[0m",
      "\u001b[0;31mNameError\u001b[0m                                 Traceback (most recent call last)",
      "\u001b[0;32m/tmp/ipykernel_6461/2167009006.py\u001b[0m in \u001b[0;36m<module>\u001b[0;34m\u001b[0m\n\u001b[0;32m----> 1\u001b[0;31m \u001b[0ma\u001b[0m\u001b[0;34m\u001b[0m\u001b[0;34m\u001b[0m\u001b[0m\n\u001b[0m",
      "\u001b[0;31mNameError\u001b[0m: name 'a' is not defined"
     ]
    }
   ],
   "source": [
    "a"
   ]
  },
  {
   "cell_type": "code",
   "execution_count": 8,
   "metadata": {},
   "outputs": [
    {
     "data": {
      "text/plain": [
       "[4, 5, 5, 6, 7]"
      ]
     },
     "execution_count": 8,
     "metadata": {},
     "output_type": "execute_result"
    }
   ],
   "source": [
    "a = [4, 5]\n",
    "b = [5, 6, 7]\n",
    "new_list = a + b\n",
    "new_list"
   ]
  },
  {
   "cell_type": "markdown",
   "metadata": {},
   "source": [
    "Define a function that takes in two non-negative integers a and b and returns the last decimal digit of a ** b.\n",
    "Note that a and b may be very large!\n",
    "\n",
    "You may assume that the input will always be valid."
   ]
  },
  {
   "cell_type": "code",
   "execution_count": null,
   "metadata": {},
   "outputs": [],
   "source": []
  },
  {
   "cell_type": "code",
   "execution_count": 5,
   "metadata": {
    "scrolled": true
   },
   "outputs": [],
   "source": [
    "def last_digit_a_power_b(a, b):\n",
    "    if a % 10 == 0:\n",
    "        return 0\n",
    "    \n",
    "    elif a % 10 == 1:\n",
    "        return 1\n",
    "    \n",
    "    elif a % 10 == 2: # son rakam iki ise a ** b nin son rakamı 2, 4, 8, 6, 2, 4, 8, 6 \n",
    "                      # olacak şekilde kendini tekrar eder bu nedenle bunları \n",
    "                      # aşağı mod 4 e göre yazdırırız.   \n",
    "        if b % 4 == 1:\n",
    "            return 2\n",
    "        elif b % 4 == 2:\n",
    "            return 4\n",
    "        elif b % 4 == 3:\n",
    "            return 8\n",
    "        elif b % 4 == 0:\n",
    "            return 6\n",
    "        \n",
    "    elif a % 10 == 3:\n",
    "        if b % 4 == 1:\n",
    "            return 3\n",
    "        elif b % 4 == 2:\n",
    "            return 9\n",
    "        elif b % 4 == 3:\n",
    "            return 7\n",
    "        elif b % 4 == 0:\n",
    "            return 1\n",
    "        \n",
    "    elif a % 10 == 4:\n",
    "        if b % 2 == 1:\n",
    "            return 4\n",
    "        elif b % 2 == 0:\n",
    "            return 6\n",
    "                \n",
    "    elif a % 10 == 5:\n",
    "        return 5\n",
    "    \n",
    "    elif a % 10 == 6:\n",
    "        return 6\n",
    "    \n",
    "    elif a % 10 == 7:\n",
    "        if b % 4 == 1:\n",
    "            return 7\n",
    "        elif b % 4 == 2:\n",
    "            return 9\n",
    "        elif b % 4 == 3:\n",
    "            return 3\n",
    "        elif b % 4 == 0:\n",
    "            return 1\n",
    "        \n",
    "    elif a % 10 == 8:\n",
    "        if b % 4 == 1:\n",
    "            return 8\n",
    "        elif b % 4 == 2:\n",
    "            return 4\n",
    "        elif b % 4 == 3:\n",
    "            return 2\n",
    "        elif b % 4 == 0:\n",
    "            return 6\n",
    "        \n",
    "    elif a % 10 == 9:\n",
    "        if b % 2 == 1:\n",
    "            return 9\n",
    "        elif b % 2 == 0:\n",
    "            return 1"
   ]
  },
  {
   "cell_type": "code",
   "execution_count": null,
   "metadata": {},
   "outputs": [],
   "source": [
    "# below function is for checking. below function works but, in big number it takes too much time.\n",
    "def lastDigit(x, y):\n",
    "    return (x ** y) % 10\n",
    "lastDigit(4, 3)"
   ]
  },
  {
   "cell_type": "code",
   "execution_count": 3,
   "metadata": {},
   "outputs": [
    {
     "data": {
      "text/plain": [
       "6"
      ]
     },
     "execution_count": 3,
     "metadata": {},
     "output_type": "execute_result"
    }
   ],
   "source": [
    "last_digit_a_power_b(2, 8)"
   ]
  },
  {
   "cell_type": "code",
   "execution_count": 17,
   "metadata": {},
   "outputs": [
    {
     "data": {
      "text/plain": [
       "6"
      ]
     },
     "execution_count": 17,
     "metadata": {},
     "output_type": "execute_result"
    }
   ],
   "source": [
    "last_digit_a_power_b(34**56,67**89)"
   ]
  },
  {
   "cell_type": "code",
   "execution_count": 18,
   "metadata": {},
   "outputs": [
    {
     "data": {
      "text/plain": [
       "57918773205287127842044254126179599852840968492056164062843692360166371779746690236416"
      ]
     },
     "execution_count": 18,
     "metadata": {},
     "output_type": "execute_result"
    }
   ],
   "source": [
    "34**56"
   ]
  },
  {
   "cell_type": "code",
   "execution_count": 19,
   "metadata": {},
   "outputs": [
    {
     "data": {
      "text/plain": [
       "3316327714877346181774068495600728756130379310495495456911338667074635417451404105355832779690716411921958590718594566346743301174259029435702437400468401246539747"
      ]
     },
     "execution_count": 19,
     "metadata": {},
     "output_type": "execute_result"
    }
   ],
   "source": [
    "34**56"
   ]
  },
  {
   "cell_type": "code",
   "execution_count": 20,
   "metadata": {},
   "outputs": [
    {
     "data": {
      "text/plain": [
       "3354584289605486156753486879012840384096195904895927030605925198869218514404249084332313195182927183271830790546944615349592363717821175908181627171066467317286981972525056"
      ]
     },
     "execution_count": 20,
     "metadata": {},
     "output_type": "execute_result"
    }
   ],
   "source": [
    "(34**56) * (34**56)"
   ]
  },
  {
   "cell_type": "markdown",
   "metadata": {},
   "source": [
    "# factorial function"
   ]
  },
  {
   "cell_type": "code",
   "execution_count": 13,
   "metadata": {},
   "outputs": [],
   "source": [
    "def factorial(x):\n",
    "    A = list(range(1, x+1))\n",
    "    index = 1\n",
    "    result = 1\n",
    "    for i in A:\n",
    "        if index < x:\n",
    "            result = result * A[index]\n",
    "        index += 1\n",
    "    return result\n",
    "    \n"
   ]
  },
  {
   "cell_type": "code",
   "execution_count": 14,
   "metadata": {},
   "outputs": [
    {
     "data": {
      "text/plain": [
       "120"
      ]
     },
     "execution_count": 14,
     "metadata": {},
     "output_type": "execute_result"
    }
   ],
   "source": [
    "factorial(5)"
   ]
  },
  {
   "cell_type": "code",
   "execution_count": 15,
   "metadata": {},
   "outputs": [
    {
     "data": {
      "text/plain": [
       "6"
      ]
     },
     "execution_count": 15,
     "metadata": {},
     "output_type": "execute_result"
    }
   ],
   "source": [
    "factorial(3)"
   ]
  },
  {
   "cell_type": "code",
   "execution_count": 16,
   "metadata": {},
   "outputs": [],
   "source": [
    "def factorial1(x):\n",
    "    result = 1\n",
    "    for i in range(2, x+1):\n",
    "        result = result * i\n",
    "    return result"
   ]
  },
  {
   "cell_type": "code",
   "execution_count": 17,
   "metadata": {},
   "outputs": [
    {
     "data": {
      "text/plain": [
       "120"
      ]
     },
     "execution_count": 17,
     "metadata": {},
     "output_type": "execute_result"
    }
   ],
   "source": [
    "factorial1(5)"
   ]
  },
  {
   "cell_type": "code",
   "execution_count": 18,
   "metadata": {},
   "outputs": [],
   "source": [
    "def factorial2(x):\n",
    "    result = 1\n",
    "    while x > 1:\n",
    "        result = result * x\n",
    "        x -= 1\n",
    "    return result"
   ]
  },
  {
   "cell_type": "code",
   "execution_count": 22,
   "metadata": {},
   "outputs": [
    {
     "data": {
      "text/plain": [
       "720"
      ]
     },
     "execution_count": 22,
     "metadata": {},
     "output_type": "execute_result"
    }
   ],
   "source": [
    "factorial2(6)"
   ]
  },
  {
   "cell_type": "code",
   "execution_count": null,
   "metadata": {},
   "outputs": [],
   "source": []
  }
 ],
 "metadata": {
  "kernelspec": {
   "display_name": "Python 3 (ipykernel)",
   "language": "python",
   "name": "python3"
  },
  "language_info": {
   "codemirror_mode": {
    "name": "ipython",
    "version": 3
   },
   "file_extension": ".py",
   "mimetype": "text/x-python",
   "name": "python",
   "nbconvert_exporter": "python",
   "pygments_lexer": "ipython3",
   "version": "3.9.7"
  },
  "varInspector": {
   "cols": {
    "lenName": 16,
    "lenType": 16,
    "lenVar": 40
   },
   "kernels_config": {
    "python": {
     "delete_cmd_postfix": "",
     "delete_cmd_prefix": "del ",
     "library": "var_list.py",
     "varRefreshCmd": "print(var_dic_list())"
    },
    "r": {
     "delete_cmd_postfix": ") ",
     "delete_cmd_prefix": "rm(",
     "library": "var_list.r",
     "varRefreshCmd": "cat(var_dic_list()) "
    }
   },
   "types_to_exclude": [
    "module",
    "function",
    "builtin_function_or_method",
    "instance",
    "_Feature"
   ],
   "window_display": false
  }
 },
 "nbformat": 4,
 "nbformat_minor": 4
}
