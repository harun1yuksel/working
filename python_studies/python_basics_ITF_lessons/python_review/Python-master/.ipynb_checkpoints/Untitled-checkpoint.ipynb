{
 "cells": [
  {
   "cell_type": "code",
   "execution_count": null,
   "metadata": {},
   "outputs": [],
   "source": [
    "class Rectangle:\n",
    "    def __init__(self,length,breadth):\n",
    "        self.length=length\n",
    "        self.breadth = breadth   \n",
    "    \n",
    "    def get_length(self):\n",
    "        return self._length\n",
    "    \n",
    "    def get_breadth(self):\n",
    "        return self._breadth\n",
    "    \n",
    "    @property\n",
    "    def length(self):\n",
    "        return self._length\n",
    "    \n",
    "    @length.setter\n",
    "    def length(self,length):\n",
    "        if length < 0:\n",
    "            raise ValueError(\"Value must be positive\")\n",
    "        else:\n",
    "            self._length = length\n",
    "                \n",
    "    @property\n",
    "    def breadth(self):\n",
    "        return self._breadth\n",
    "\n",
    "    @breadth.setter\n",
    "    def breadth(self,breadth):\n",
    "        if breadth < 0:\n",
    "            raise ValueError(\"Value must be positive\")\n",
    "        else:\n",
    "            self._breadth=breadth\n",
    "    \n",
    "    def set_length(self,length):\n",
    "        if length < 0:\n",
    "            raise ValueError(\"Length MUST be positive\")\n",
    "        else:\n",
    "            self._length = length\n",
    "    \n",
    "    def set_breadth(self,breadth):\n",
    "        if breadth < 0:\n",
    "            raise ValueError (\"Breadth MUST be positive\")\n",
    "        else:\n",
    "            self._breadth = breadth\n",
    "        \n",
    "    def area(self):\n",
    "        return self._length * self._breadth\n",
    "    \n",
    "    def perimeter(self):\n",
    "        return 2 * (self._length+self._breadth)\n",
    "    \n",
    "    def __str__(self):\n",
    "        return 'Rectangle: Length={0} , breadth = {1}'.format(self.length,self.breadth)\n",
    "    \n",
    "    def __repr__(self):\n",
    "        return 'Rectange({0},{1})'.format(self.length,self.breadth)\n",
    "    \n",
    "    def __eq__(self,other):\n",
    "        if isinstance(other,Rectangle):\n",
    "            return self.length==other.length and self.breadth==other.breadth\n",
    "        else:\n",
    "            return False\n",
    "        \n",
    "    def __lt__(self,other):\n",
    "        if isinstance(other,Rectangle):\n",
    "            return self.area() < other.area()\n",
    "        else:\n",
    "            return NotImplemented "
   ]
  }
 ],
 "metadata": {
  "gist": {
   "data": {
    "description": "Documents/GitHub/Public/Python/Untitled.ipynb",
    "public": true
   },
   "id": ""
  },
  "kernelspec": {
   "display_name": "Python 3",
   "language": "python",
   "name": "python3"
  },
  "language_info": {
   "codemirror_mode": {
    "name": "ipython",
    "version": 3
   },
   "file_extension": ".py",
   "mimetype": "text/x-python",
   "name": "python",
   "nbconvert_exporter": "python",
   "pygments_lexer": "ipython3",
   "version": "3.7.6"
  },
  "varInspector": {
   "cols": {
    "lenName": 16,
    "lenType": 16,
    "lenVar": 40
   },
   "kernels_config": {
    "python": {
     "delete_cmd_postfix": "",
     "delete_cmd_prefix": "del ",
     "library": "var_list.py",
     "varRefreshCmd": "print(var_dic_list())"
    },
    "r": {
     "delete_cmd_postfix": ") ",
     "delete_cmd_prefix": "rm(",
     "library": "var_list.r",
     "varRefreshCmd": "cat(var_dic_list()) "
    }
   },
   "types_to_exclude": [
    "module",
    "function",
    "builtin_function_or_method",
    "instance",
    "_Feature"
   ],
   "window_display": false
  }
 },
 "nbformat": 4,
 "nbformat_minor": 4
}
