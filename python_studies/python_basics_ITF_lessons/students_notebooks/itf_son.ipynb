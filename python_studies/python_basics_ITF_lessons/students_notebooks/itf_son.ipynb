{
 "cells": [
  {
   "cell_type": "code",
   "execution_count": 2,
   "id": "b5c070f5",
   "metadata": {},
   "outputs": [],
   "source": [
    "x = [([1], [2,3], [4,5,6])] # bunu [1,2,3,4,5,6] şekline çevir"
   ]
  },
  {
   "cell_type": "code",
   "execution_count": 3,
   "id": "3b3c0ce6",
   "metadata": {},
   "outputs": [
    {
     "data": {
      "text/plain": [
       "[1, 2, 3, 4, 5, 6]"
      ]
     },
     "execution_count": 3,
     "metadata": {},
     "output_type": "execute_result"
    }
   ],
   "source": [
    "a = []\n",
    "\n",
    "for i in x:\n",
    "    for j in i:\n",
    "        for z in j:\n",
    "            a.append(z)\n",
    "a"
   ]
  },
  {
   "cell_type": "code",
   "execution_count": 4,
   "id": "329f5bee",
   "metadata": {},
   "outputs": [
    {
     "data": {
      "text/plain": [
       "[0, 1, 2, 3, 4]"
      ]
     },
     "execution_count": 4,
     "metadata": {},
     "output_type": "execute_result"
    }
   ],
   "source": [
    "[i for i in range(5)]"
   ]
  },
  {
   "cell_type": "code",
   "execution_count": 1,
   "id": "55848111",
   "metadata": {},
   "outputs": [
    {
     "data": {
      "text/plain": [
       "['elma', 'armut', 'muz']"
      ]
     },
     "execution_count": 1,
     "metadata": {},
     "output_type": "execute_result"
    }
   ],
   "source": [
    "xList = \"elma armut muz\".split()\n",
    "xList"
   ]
  },
  {
   "cell_type": "code",
   "execution_count": 3,
   "id": "15f3de88",
   "metadata": {},
   "outputs": [
    {
     "data": {
      "text/plain": [
       "['selvi', 'vahit', 'ayşe']"
      ]
     },
     "execution_count": 3,
     "metadata": {},
     "output_type": "execute_result"
    }
   ],
   "source": [
    "yList = \"selvi vahit ayşe\".split()\n",
    "yList"
   ]
  },
  {
   "cell_type": "code",
   "execution_count": 4,
   "id": "7231c338",
   "metadata": {},
   "outputs": [
    {
     "data": {
      "text/plain": [
       "['elmaselvi',\n",
       " 'elmavahit',\n",
       " 'elmaayşe',\n",
       " 'armutselvi',\n",
       " 'armutvahit',\n",
       " 'armutayşe',\n",
       " 'muzselvi',\n",
       " 'muzvahit',\n",
       " 'muzayşe']"
      ]
     },
     "execution_count": 4,
     "metadata": {},
     "output_type": "execute_result"
    }
   ],
   "source": [
    "result = []\n",
    "\n",
    "for i in xList:\n",
    "    for j in yList:\n",
    "        result.append(i +j)\n",
    "result"
   ]
  },
  {
   "cell_type": "code",
   "execution_count": 5,
   "id": "3b875c72",
   "metadata": {},
   "outputs": [
    {
     "data": {
      "text/plain": [
       "['elmaselvi',\n",
       " 'elmavahit',\n",
       " 'elmaayşe',\n",
       " 'armutselvi',\n",
       " 'armutvahit',\n",
       " 'armutayşe',\n",
       " 'muzselvi',\n",
       " 'muzvahit',\n",
       " 'muzayşe']"
      ]
     },
     "execution_count": 5,
     "metadata": {},
     "output_type": "execute_result"
    }
   ],
   "source": [
    "[i + j for i in xList for j in yList]"
   ]
  },
  {
   "cell_type": "code",
   "execution_count": 7,
   "id": "081f87d5",
   "metadata": {},
   "outputs": [
    {
     "data": {
      "text/plain": [
       "[['elmaselvi'],\n",
       " ['elmavahit'],\n",
       " ['elmaayşe'],\n",
       " ['armutselvi'],\n",
       " ['armutvahit'],\n",
       " ['armutayşe'],\n",
       " ['muzselvi'],\n",
       " ['muzvahit'],\n",
       " ['muzayşe']]"
      ]
     },
     "execution_count": 7,
     "metadata": {},
     "output_type": "execute_result"
    }
   ],
   "source": [
    "[[i + j] for i in xList for j in yList] # herbir eleman liste oldu"
   ]
  },
  {
   "cell_type": "code",
   "execution_count": 8,
   "id": "201a8309",
   "metadata": {},
   "outputs": [
    {
     "data": {
      "text/plain": [
       "[{'elmaselvi'},\n",
       " {'elmavahit'},\n",
       " {'elmaayşe'},\n",
       " {'armutselvi'},\n",
       " {'armutvahit'},\n",
       " {'armutayşe'},\n",
       " {'muzselvi'},\n",
       " {'muzvahit'},\n",
       " {'muzayşe'}]"
      ]
     },
     "execution_count": 8,
     "metadata": {},
     "output_type": "execute_result"
    }
   ],
   "source": [
    "[{i + j} for i in xList for j in yList] # herbir eleman dict oldu"
   ]
  },
  {
   "cell_type": "code",
   "execution_count": 16,
   "id": "263be10c",
   "metadata": {},
   "outputs": [
    {
     "ename": "SyntaxError",
     "evalue": "invalid syntax (1285718402.py, line 6)",
     "output_type": "error",
     "traceback": [
      "\u001b[0;36m  File \u001b[0;32m\"/tmp/ipykernel_16834/1285718402.py\"\u001b[0;36m, line \u001b[0;32m6\u001b[0m\n\u001b[0;31m    result.append(str(i)\" -->, j\")\u001b[0m\n\u001b[0m                        ^\u001b[0m\n\u001b[0;31mSyntaxError\u001b[0m\u001b[0;31m:\u001b[0m invalid syntax\n"
     ]
    }
   ],
   "source": [
    "result = []\n",
    "sayılar = [\"bir\", \"iki\", \"üç\"]\n",
    "for i in range(5):\n",
    "    if i % 2 == 0:\n",
    "        for j in sayılar:\n",
    "            result.append(str(i)\" -->, j\")\n",
    "result"
   ]
  },
  {
   "cell_type": "code",
   "execution_count": null,
   "id": "4428ba64",
   "metadata": {},
   "outputs": [],
   "source": [
    "# [1, 2, 3] listesinin bütün combinasyonlarını yazınız."
   ]
  },
  {
   "cell_type": "code",
   "execution_count": 17,
   "id": "e7d8e012",
   "metadata": {},
   "outputs": [
    {
     "name": "stdout",
     "output_type": "stream",
     "text": [
      "[]\n"
     ]
    }
   ],
   "source": [
    "solution = [[]]\n",
    "for i in solution:\n",
    "    print(i)"
   ]
  },
  {
   "cell_type": "code",
   "execution_count": 20,
   "id": "25d20036",
   "metadata": {},
   "outputs": [
    {
     "data": {
      "text/plain": [
       "{1, 2, 3}"
      ]
     },
     "execution_count": 20,
     "metadata": {},
     "output_type": "execute_result"
    }
   ],
   "source": [
    "num = [1, 2, 3]\n",
    "num_set =set(num)\n",
    "num_set"
   ]
  },
  {
   "cell_type": "code",
   "execution_count": 21,
   "id": "22ed30d2",
   "metadata": {},
   "outputs": [
    {
     "data": {
      "text/plain": [
       "set()"
      ]
     },
     "execution_count": 21,
     "metadata": {},
     "output_type": "execute_result"
    }
   ],
   "source": [
    "set([])"
   ]
  },
  {
   "cell_type": "code",
   "execution_count": 22,
   "id": "bce28f9b",
   "metadata": {},
   "outputs": [
    {
     "data": {
      "text/plain": [
       "set()"
      ]
     },
     "execution_count": 22,
     "metadata": {},
     "output_type": "execute_result"
    }
   ],
   "source": [
    "set_bos_list = set([])\n",
    "set_bos_list"
   ]
  },
  {
   "cell_type": "code",
   "execution_count": 23,
   "id": "5bb4106b",
   "metadata": {},
   "outputs": [
    {
     "data": {
      "text/plain": [
       "{1, 2, 3}"
      ]
     },
     "execution_count": 23,
     "metadata": {},
     "output_type": "execute_result"
    }
   ],
   "source": [
    "num_set - set_bos_list"
   ]
  },
  {
   "cell_type": "code",
   "execution_count": 24,
   "id": "3c409a0d",
   "metadata": {},
   "outputs": [
    {
     "data": {
      "text/plain": [
       "{2, 3}"
      ]
     },
     "execution_count": 24,
     "metadata": {},
     "output_type": "execute_result"
    }
   ],
   "source": [
    "num_set - set([1])"
   ]
  },
  {
   "cell_type": "code",
   "execution_count": 25,
   "id": "66bc639a",
   "metadata": {},
   "outputs": [
    {
     "data": {
      "text/plain": [
       "[1, 2, 3]"
      ]
     },
     "execution_count": 25,
     "metadata": {},
     "output_type": "execute_result"
    }
   ],
   "source": [
    "[1] + [2, 3]"
   ]
  },
  {
   "cell_type": "code",
   "execution_count": 26,
   "id": "700b8284",
   "metadata": {},
   "outputs": [
    {
     "data": {
      "text/plain": [
       "[2]"
      ]
     },
     "execution_count": 26,
     "metadata": {},
     "output_type": "execute_result"
    }
   ],
   "source": [
    "[] + [2]"
   ]
  },
  {
   "cell_type": "code",
   "execution_count": null,
   "id": "db12074d",
   "metadata": {},
   "outputs": [],
   "source": []
  },
  {
   "cell_type": "code",
   "execution_count": 27,
   "id": "2b21be72",
   "metadata": {},
   "outputs": [
    {
     "data": {
      "text/plain": [
       "{1, 2, 3}"
      ]
     },
     "execution_count": 27,
     "metadata": {},
     "output_type": "execute_result"
    }
   ],
   "source": [
    "num = [1, 2, 3]\n",
    "num_set =set(num)\n",
    "num_set"
   ]
  },
  {
   "cell_type": "code",
   "execution_count": 28,
   "id": "baefa866",
   "metadata": {},
   "outputs": [
    {
     "data": {
      "text/plain": [
       "set()"
      ]
     },
     "execution_count": 28,
     "metadata": {},
     "output_type": "execute_result"
    }
   ],
   "source": [
    "set_bos_list = set([])\n",
    "set_bos_list"
   ]
  },
  {
   "cell_type": "code",
   "execution_count": null,
   "id": "2fc94199",
   "metadata": {},
   "outputs": [],
   "source": [
    "for i in num_set:\n",
    "    "
   ]
  },
  {
   "cell_type": "code",
   "execution_count": 29,
   "id": "7412f595",
   "metadata": {},
   "outputs": [
    {
     "data": {
      "text/plain": [
       "[[0], [1], [2]]"
      ]
     },
     "execution_count": 29,
     "metadata": {},
     "output_type": "execute_result"
    }
   ],
   "source": [
    "[[i] for i in range(3)]"
   ]
  },
  {
   "cell_type": "code",
   "execution_count": 30,
   "id": "b41e2421",
   "metadata": {},
   "outputs": [
    {
     "data": {
      "text/plain": [
       "[[0], [1], [4]]"
      ]
     },
     "execution_count": 30,
     "metadata": {},
     "output_type": "execute_result"
    }
   ],
   "source": [
    "[[i**2] for i in range(3)]"
   ]
  },
  {
   "cell_type": "code",
   "execution_count": 31,
   "id": "197b3e18",
   "metadata": {},
   "outputs": [
    {
     "data": {
      "text/plain": [
       "[[0, 'a'], [1, 'a'], [4, 'a']]"
      ]
     },
     "execution_count": 31,
     "metadata": {},
     "output_type": "execute_result"
    }
   ],
   "source": [
    "[[i ** 2] + [\"a\"] for i in range(3)]"
   ]
  },
  {
   "cell_type": "code",
   "execution_count": 5,
   "id": "ded4899c",
   "metadata": {},
   "outputs": [
    {
     "name": "stdout",
     "output_type": "stream",
     "text": [
      "[[1], [2], [3]]\n",
      "[[1, 2], [1, 3], [2, 1], [2, 3], [3, 1], [3, 2]]\n",
      "[[1, 2, 3], [1, 3, 2], [2, 1, 3], [2, 3, 1], [3, 1, 2], [3, 2, 1]]\n"
     ]
    }
   ],
   "source": [
    "num = [1, 2, 3]\n",
    "num_set =set(num)\n",
    "num_set\n",
    "\n",
    "solution = [[]]\n",
    "\n",
    "set_bos_list = set([])\n",
    "set_bos_list\n",
    "\n",
    "for index in range(len(num)):\n",
    "    solution = [i + [j] for i in solution for j in num_set.difference(set(i))]\n",
    "    print(solution)\n",
    "\n"
   ]
  },
  {
   "cell_type": "code",
   "execution_count": null,
   "id": "05d8db5c",
   "metadata": {},
   "outputs": [],
   "source": []
  },
  {
   "cell_type": "code",
   "execution_count": null,
   "id": "0cb2d2c9",
   "metadata": {},
   "outputs": [],
   "source": []
  },
  {
   "cell_type": "code",
   "execution_count": null,
   "id": "10677558",
   "metadata": {},
   "outputs": [],
   "source": []
  }
 ],
 "metadata": {
  "kernelspec": {
   "display_name": "Python 3 (ipykernel)",
   "language": "python",
   "name": "python3"
  },
  "language_info": {
   "codemirror_mode": {
    "name": "ipython",
    "version": 3
   },
   "file_extension": ".py",
   "mimetype": "text/x-python",
   "name": "python",
   "nbconvert_exporter": "python",
   "pygments_lexer": "ipython3",
   "version": "3.9.7"
  }
 },
 "nbformat": 4,
 "nbformat_minor": 5
}
