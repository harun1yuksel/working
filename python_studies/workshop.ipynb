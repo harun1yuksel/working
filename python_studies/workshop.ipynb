{
 "cells": [
  {
   "cell_type": "code",
   "execution_count": 4,
   "metadata": {},
   "outputs": [
    {
     "name": "stdout",
     "output_type": "stream",
     "text": [
      "please enter 4 digit year   -2000\n",
      "True\n"
     ]
    }
   ],
   "source": [
    "year = int(input(\"please enter 4 digit year   \"))\n",
    "print((year % 4 == 0) and (year % 100 != 0) or (year % 400 == 0))"
   ]
  },
  {
   "cell_type": "code",
   "execution_count": 5,
   "metadata": {},
   "outputs": [],
   "source": [
    "sales = {\n",
    "    \"cost_value\": 31.87,\n",
    "    \"sell_value\": 45.00,\n",
    "    \"inventory\": 1000\n",
    "}"
   ]
  },
  {
   "cell_type": "code",
   "execution_count": 6,
   "metadata": {},
   "outputs": [
    {
     "data": {
      "text/plain": [
       "{'cost_value': 31.87, 'sell_value': 45.0, 'inventory': 1000}"
      ]
     },
     "execution_count": 6,
     "metadata": {},
     "output_type": "execute_result"
    }
   ],
   "source": [
    "sales"
   ]
  },
  {
   "cell_type": "code",
   "execution_count": 11,
   "metadata": {},
   "outputs": [],
   "source": [
    "profit = ((sales[\"sell_value\"] - sales[\"cost_value\"]) * sales[\"inventory\"])       "
   ]
  },
  {
   "cell_type": "code",
   "execution_count": 12,
   "metadata": {},
   "outputs": [
    {
     "name": "stdout",
     "output_type": "stream",
     "text": [
      "13130.0\n"
     ]
    }
   ],
   "source": [
    "print(round(profit, 0))   "
   ]
  },
  {
   "cell_type": "code",
   "execution_count": 17,
   "metadata": {
    "scrolled": true
   },
   "outputs": [
    {
     "name": "stdout",
     "output_type": "stream",
     "text": [
      "Enter your payrol:  41\n",
      "41.00\n"
     ]
    }
   ],
   "source": [
    "payroll = float(input(\"Enter your payrol:  \"))\n",
    "print(\"{:.2f}\".format(payroll))"
   ]
  },
  {
   "cell_type": "markdown",
   "metadata": {},
   "source": [
    "map() function returns a map object(which is an iterator) of the results \n",
    "after applying the given function to each item of a given iterable (list, tuple etc.)\n",
    "\n",
    "Syntax :\n",
    "\n",
    "map(fun, iter)\n",
    "Parameters :\n",
    "\n",
    "fun : It is a function to which map passes each element of given iterable.\n",
    "iter : It is a iterable which is to be mapped."
   ]
  },
  {
   "cell_type": "code",
   "execution_count": 1,
   "metadata": {},
   "outputs": [
    {
     "name": "stdout",
     "output_type": "stream",
     "text": [
      "[2, 4, 6, 8]\n"
     ]
    }
   ],
   "source": [
    "# Python program to demonstrate working\n",
    "# of map.\n",
    "  \n",
    "# Return double of n\n",
    "def addition(n):\n",
    "    return n + n\n",
    "  \n",
    "# We double all numbers using map()\n",
    "numbers = (1, 2, 3, 4)\n",
    "result = map(addition, numbers)\n",
    "print(list(result))"
   ]
  },
  {
   "cell_type": "code",
   "execution_count": 2,
   "metadata": {},
   "outputs": [
    {
     "name": "stdout",
     "output_type": "stream",
     "text": [
      "[1.5, 2.5, 4.0, 15.0]\n"
     ]
    }
   ],
   "source": [
    "def ikiye_bol(n):\n",
    "    return n/2\n",
    "my_numbers = [3, 5, 8, 30]\n",
    "print(list(map(ikiye_bol, my_numbers)))"
   ]
  },
  {
   "cell_type": "code",
   "execution_count": 24,
   "metadata": {},
   "outputs": [
    {
     "name": "stdout",
     "output_type": "stream",
     "text": [
      "wellcome to number ordering program\n",
      "how many numbers do you want to order: 5\n",
      "please enter your numbers one by one 34\n",
      "please enter your numbers one by one 23\n",
      "please enter your numbers one by one 89\n",
      "please enter your numbers one by one 45\n",
      "please enter your numbers one by one 89\n",
      "Your number list is [23, 34, 45, 89, 89]\n",
      "The min number you entered is 23\n",
      "The max number you entered is 89\n"
     ]
    }
   ],
   "source": [
    "## V0\n",
    "\n",
    "print(\"wellcome to number ordering program\")\n",
    "n = int(input(\"how many numbers do you want to order: \"))\n",
    "num_list = []\n",
    "while n != len(num_list):\n",
    "    entereted_num = int(input(\"please enter your numbers one by one \" ))\n",
    "    num_list.append(enterted_num)\n",
    "num_list.sort()\n",
    "print(\"Your number list is\", num_list)\n",
    "print(\"The min number you entered is\", num_list[0])\n",
    "print(\"The max number you entered is\", num_list[-1])\n"
   ]
  },
  {
   "cell_type": "code",
   "execution_count": 3,
   "metadata": {},
   "outputs": [
    {
     "name": "stdout",
     "output_type": "stream",
     "text": [
      "Wellcome to number ordering program\n",
      "\n",
      "Please enter your numbers one by one \n",
      "when you finished enter 'E'$\n",
      "\n",
      "It is an invalid entry. Use numeric characters only \n",
      "Please enter like '5', '-3' or '21.5':  #\n",
      "\n",
      "It is an invalid entry. Use numeric characters only \n",
      "Please enter like '5', '-3' or '21.5':  @\n",
      "\n",
      "It is an invalid entry. Use numeric characters only \n",
      "Please enter like '5', '-3' or '21.5':  56\n",
      "\n",
      "Please enter your numbers one by one \n",
      "when you finished enter 'E'89\n",
      "\n",
      "Please enter your numbers one by one \n",
      "when you finished enter 'E'65\n",
      "\n",
      "Please enter your numbers one by one \n",
      "when you finished enter 'E'78\n",
      "\n",
      "Please enter your numbers one by one \n",
      "when you finished enter 'E'E\n",
      "\n",
      "Your ordered number list is [56.0, 65.0, 78.0, 89.0]\n",
      "\n",
      "The min number you entered is 56.0\n",
      "\n",
      "The max number you entered is 89.0\n"
     ]
    }
   ],
   "source": [
    "## V1\n",
    "print(\"Wellcome to number ordering program\")\n",
    "num_list = []\n",
    "while True:\n",
    "    a = input(\"\\nPlease enter your numbers one by one \\nwhen you finished enter 'E'\" )\n",
    "    while set(a) - {\"0\", \"1\", \"2\", \"3\", \"4\", \"5\", \"6\", \"7\", \"8\", \"9\", \"-\", \".\", \"E\" } != set() or a == \"-\" or a == \".\":\n",
    "        a = input(\"\\nIt is an invalid entry. Use numeric characters only \\nPlease enter like '5', '-3' or '21.5':  \")\n",
    "    if a == \"E\":\n",
    "            break \n",
    "    entereted_num = float(a)\n",
    "    num_list.append(entereted_num)\n",
    "     \n",
    "num_list.sort()\n",
    "if num_list == list():\n",
    "    print(\"\\nYou have not entered any correct number\")\n",
    "else: \n",
    "    print(\"\\nYour ordered number list is\", num_list)\n",
    "    print(\"\\nThe min number you entered is\", num_list[0])\n",
    "    print(\"\\nThe max number you entered is\", num_list[-1])"
   ]
  },
  {
   "cell_type": "code",
   "execution_count": 16,
   "metadata": {},
   "outputs": [
    {
     "name": "stdout",
     "output_type": "stream",
     "text": [
      "Wellcome to number ordering program\n",
      "\n",
      "Please enter your numbers one by one \n",
      "when you finished enter 'E'dd\n",
      "\n",
      "It is an invalid entry. Use numeric characters only \n",
      "Please enter like '5', '-3' or '21.5':  ff\n",
      "\n",
      "Please enter your numbers one by one \n",
      "when you finished enter 'E'45\n",
      "\n",
      "Please enter your numbers one by one \n",
      "when you finished enter 'E'43r\n",
      "\n",
      "It is an invalid entry. Use numeric characters only \n",
      "Please enter like '5', '-3' or '21.5':  rt\n",
      "\n",
      "Please enter your numbers one by one \n",
      "when you finished enter 'E'45\n",
      "\n",
      "Please enter your numbers one by one \n",
      "when you finished enter 'E'34\n",
      "\n",
      "Please enter your numbers one by one \n",
      "when you finished enter 'E'1\n",
      "\n",
      "Please enter your numbers one by one \n",
      "when you finished enter 'E'0\n",
      "\n",
      "Please enter your numbers one by one \n",
      "when you finished enter 'E'100000\n",
      "\n",
      "Please enter your numbers one by one \n",
      "when you finished enter 'E'E\n",
      "\n",
      "Your ordered number list is [0.0, 1.0, 34.0, 45.0, 45.0, 100000.0]\n",
      "\n",
      "The min number you entered is 0.0\n",
      "\n",
      "The max number you entered is 100000.0\n"
     ]
    }
   ],
   "source": [
    "## V2\n",
    "print(\"Wellcome to number ordering program\")\n",
    "num_list = []\n",
    "while True:\n",
    "    a = input(\"\\nPlease enter your numbers one by one \\nwhen you finished enter 'E'\" )\n",
    "    if a == \"E\":\n",
    "        break \n",
    "    try:\n",
    "        entereted_num = float(a)\n",
    "        num_list.append(entereted_num)\n",
    "    except ValueError as ve:\n",
    "        a = input(\"\\nIt is an invalid entry. Use numeric characters only \\nPlease enter like '5', '-3' or '21.5':  \")\n",
    "        if a == \"E\":\n",
    "            break   \n",
    "    \n",
    "     \n",
    "num_list.sort()\n",
    "if num_list == list():\n",
    "    print(\"\\nYou have not entered any correct number\")\n",
    "else: \n",
    "    print(\"\\nYour ordered number list is\", num_list)\n",
    "    print(\"\\nThe min number you entered is\", num_list[0])\n",
    "    print(\"\\nThe max number you entered is\", num_list[-1])"
   ]
  },
  {
   "cell_type": "code",
   "execution_count": 13,
   "metadata": {},
   "outputs": [
    {
     "data": {
      "text/plain": [
       "True"
      ]
     },
     "execution_count": 13,
     "metadata": {},
     "output_type": "execute_result"
    }
   ],
   "source": [
    "\"145\".isdigit()"
   ]
  },
  {
   "cell_type": "code",
   "execution_count": null,
   "metadata": {},
   "outputs": [],
   "source": []
  },
  {
   "cell_type": "markdown",
   "metadata": {},
   "source": [
    "## a == \"end\""
   ]
  },
  {
   "cell_type": "code",
   "execution_count": 5,
   "metadata": {},
   "outputs": [
    {
     "data": {
      "text/plain": [
       "'ku'"
      ]
     },
     "execution_count": 5,
     "metadata": {},
     "output_type": "execute_result"
    }
   ],
   "source": [
    "a"
   ]
  },
  {
   "cell_type": "code",
   "execution_count": 4,
   "metadata": {},
   "outputs": [
    {
     "data": {
      "text/plain": [
       "{'k', 'o'}"
      ]
     },
     "execution_count": 4,
     "metadata": {},
     "output_type": "execute_result"
    }
   ],
   "source": [
    "set(a)"
   ]
  },
  {
   "cell_type": "code",
   "execution_count": 17,
   "metadata": {},
   "outputs": [
    {
     "data": {
      "text/plain": [
       "False"
      ]
     },
     "execution_count": 17,
     "metadata": {},
     "output_type": "execute_result"
    }
   ],
   "source": [
    "type(\"lk\") == int"
   ]
  },
  {
   "cell_type": "code",
   "execution_count": 19,
   "metadata": {},
   "outputs": [
    {
     "ename": "ValueError",
     "evalue": "invalid literal for int() with base 10: 'gh'",
     "output_type": "error",
     "traceback": [
      "\u001b[0;31m---------------------------------------------------------------------------\u001b[0m",
      "\u001b[0;31mValueError\u001b[0m                                Traceback (most recent call last)",
      "\u001b[0;32m<ipython-input-19-9eef57849066>\u001b[0m in \u001b[0;36m<module>\u001b[0;34m\u001b[0m\n\u001b[0;32m----> 1\u001b[0;31m \u001b[0mint\u001b[0m\u001b[0;34m(\u001b[0m\u001b[0;34m\"gh\"\u001b[0m\u001b[0;34m)\u001b[0m\u001b[0;34m\u001b[0m\u001b[0;34m\u001b[0m\u001b[0m\n\u001b[0m",
      "\u001b[0;31mValueError\u001b[0m: invalid literal for int() with base 10: 'gh'"
     ]
    }
   ],
   "source": [
    "int(\"gh\")"
   ]
  },
  {
   "cell_type": "code",
   "execution_count": 13,
   "metadata": {},
   "outputs": [
    {
     "data": {
      "text/plain": [
       "int"
      ]
     },
     "execution_count": 13,
     "metadata": {},
     "output_type": "execute_result"
    }
   ],
   "source": [
    "type(enterted_num)"
   ]
  },
  {
   "cell_type": "code",
   "execution_count": 6,
   "metadata": {},
   "outputs": [
    {
     "ename": "IndexError",
     "evalue": "list index out of range",
     "output_type": "error",
     "traceback": [
      "\u001b[0;31m---------------------------------------------------------------------------\u001b[0m",
      "\u001b[0;31mIndexError\u001b[0m                                Traceback (most recent call last)",
      "\u001b[0;32m<ipython-input-6-ebb8dc2de07c>\u001b[0m in \u001b[0;36m<module>\u001b[0;34m\u001b[0m\n\u001b[0;32m----> 1\u001b[0;31m \u001b[0mnum_list\u001b[0m\u001b[0;34m[\u001b[0m\u001b[0;36m1\u001b[0m\u001b[0;34m]\u001b[0m\u001b[0;34m\u001b[0m\u001b[0;34m\u001b[0m\u001b[0m\n\u001b[0m",
      "\u001b[0;31mIndexError\u001b[0m: list index out of range"
     ]
    }
   ],
   "source": [
    "num_list[1]"
   ]
  },
  {
   "cell_type": "code",
   "execution_count": 19,
   "metadata": {},
   "outputs": [
    {
     "data": {
      "text/plain": [
       "[21, 34, 45, 67, 78]"
      ]
     },
     "execution_count": 19,
     "metadata": {},
     "output_type": "execute_result"
    }
   ],
   "source": [
    "num_list.sort()\n",
    "num_list"
   ]
  },
  {
   "cell_type": "code",
   "execution_count": 8,
   "metadata": {},
   "outputs": [
    {
     "data": {
      "text/plain": [
       "[0, 1, 2, 3, 4]"
      ]
     },
     "execution_count": 8,
     "metadata": {},
     "output_type": "execute_result"
    }
   ],
   "source": [
    "a = list(range(5))\n",
    "a"
   ]
  },
  {
   "cell_type": "code",
   "execution_count": 12,
   "metadata": {},
   "outputs": [
    {
     "data": {
      "text/plain": [
       "[0, 1, 2, 3, 4]"
      ]
     },
     "execution_count": 12,
     "metadata": {},
     "output_type": "execute_result"
    }
   ],
   "source": [
    "a.sort()\n",
    "a"
   ]
  },
  {
   "cell_type": "code",
   "execution_count": 1,
   "metadata": {},
   "outputs": [
    {
     "name": "stdout",
     "output_type": "stream",
     "text": [
      "give me a word: merhaba\n",
      "m\n",
      "r\n",
      "a\n",
      "a\n"
     ]
    }
   ],
   "source": [
    "sentence = input(\"give me a word: \")\n",
    "for i in range(0, len(sentence), 2):\n",
    "    print(sentence[i])"
   ]
  },
  {
   "cell_type": "code",
   "execution_count": 6,
   "metadata": {},
   "outputs": [
    {
     "name": "stdout",
     "output_type": "stream",
     "text": [
      "enter a number: 234\n",
      "4 3 2 "
     ]
    }
   ],
   "source": [
    "num = (input(\"enter a number: \"))\n",
    "index = -1\n",
    "for i in num:\n",
    "    print(num[index], end =\" \")\n",
    "    index -= 1\n",
    "    "
   ]
  },
  {
   "cell_type": "code",
   "execution_count": null,
   "metadata": {},
   "outputs": [],
   "source": []
  }
 ],
 "metadata": {
  "kernelspec": {
   "display_name": "Python 3",
   "language": "python",
   "name": "python3"
  },
  "language_info": {
   "codemirror_mode": {
    "name": "ipython",
    "version": 3
   },
   "file_extension": ".py",
   "mimetype": "text/x-python",
   "name": "python",
   "nbconvert_exporter": "python",
   "pygments_lexer": "ipython3",
   "version": "3.8.10"
  }
 },
 "nbformat": 4,
 "nbformat_minor": 4
}
