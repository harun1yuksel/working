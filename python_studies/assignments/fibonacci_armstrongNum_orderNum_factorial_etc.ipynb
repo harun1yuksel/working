{
 "cells": [
  {
   "cell_type": "markdown",
   "metadata": {},
   "source": [
    "# Armstrong number."
   ]
  },
  {
   "cell_type": "code",
   "execution_count": 5,
   "metadata": {},
   "outputs": [
    {
     "name": "stdout",
     "output_type": "stream",
     "text": [
      "Please enter a positive integer:  d\n",
      "It is an invalid entry. Don't use non-numeric, float, or negative values! \n",
      "Please enter a positive integer:  ed\n",
      "It is an invalid entry. Don't use non-numeric, float, or negative values! \n",
      "Please enter a positive integer:  ed\n",
      "It is an invalid entry. Don't use non-numeric, float, or negative values! \n",
      "Please enter a positive integer:  32\n",
      "32 is not an Armstrong number\n"
     ]
    }
   ],
   "source": [
    "num = input(\"Please enter a positive integer:  \")\n",
    "sum1 = 0\n",
    "while set(num) - {\"0\", \"1\", \"2\", \"3\", \"4\", \"5\", \"6\", \"7\", \"8\", \"9\"} != set():\n",
    "    num = input(\"It is an invalid entry. Don't use non-numeric, float, or negative values! \\nPlease enter a positive integer:  \")\n",
    "for x in num:\n",
    "    sum1 += int(x)**len(num)\n",
    "if sum1 == int(num):\n",
    "    print(num, \"is an Armstrong number\")\n",
    "else:\n",
    "    print(num, \"is not an Armstrong number\")"
   ]
  },
  {
   "cell_type": "code",
   "execution_count": null,
   "metadata": {},
   "outputs": [],
   "source": []
  },
  {
   "cell_type": "code",
   "execution_count": null,
   "metadata": {},
   "outputs": [],
   "source": []
  },
  {
   "cell_type": "code",
   "execution_count": null,
   "metadata": {},
   "outputs": [],
   "source": []
  },
  {
   "cell_type": "markdown",
   "metadata": {},
   "source": [
    "## get a string made of the first 2 and the last 2 chars from a given a string"
   ]
  },
  {
   "cell_type": "code",
   "execution_count": 63,
   "metadata": {},
   "outputs": [
    {
     "name": "stdout",
     "output_type": "stream",
     "text": [
      "please enter a word:  l\n",
      "Empty String\n"
     ]
    }
   ],
   "source": [
    "# Write a Python program to get a string made of the first 2 and the last 2 chars from a given a string. \n",
    "# if the string length is less than 2, return instead of the \"Empty String\".\n",
    "a = input(\"please enter a word:  \")\n",
    "if len(a) < 2:\n",
    "    print(\"Empty String\")\n",
    "else:\n",
    "    print(a[0:2] + a[-2] + a[-1])"
   ]
  },
  {
   "cell_type": "code",
   "execution_count": 64,
   "metadata": {},
   "outputs": [
    {
     "name": "stdout",
     "output_type": "stream",
     "text": [
      "Please Write a Word:Merhaba\n",
      "Meba\n"
     ]
    }
   ],
   "source": [
    "word = input(\"Please Write a Word:\")\n",
    "if len(word) < 2:\n",
    "    print(\"Empty String\")\n",
    "else:\n",
    "    print(word[:2] + word[-2:])"
   ]
  },
  {
   "cell_type": "markdown",
   "metadata": {},
   "source": [
    "## number ordering"
   ]
  },
  {
   "cell_type": "code",
   "execution_count": 7,
   "metadata": {
    "scrolled": true
   },
   "outputs": [
    {
     "name": "stdout",
     "output_type": "stream",
     "text": [
      "Wellcome to number ordering program\n",
      "Please enter your numbers one by one \n",
      "when you finished enter 'q'45\n",
      "Please enter your numbers one by one \n",
      "when you finished enter 'q'34\n",
      "Please enter your numbers one by one \n",
      "when you finished enter 'q'tr\n",
      "\n",
      "\n",
      "Invalid entry. Use numeric characters only \n",
      "Please enter like '5', '-3' or '21.5'\n",
      "Please enter your numbers one by one \n",
      "when you finished enter 'q'e\n",
      "\n",
      "\n",
      "Invalid entry. Use numeric characters only \n",
      "Please enter like '5', '-3' or '21.5'\n",
      "Please enter your numbers one by one \n",
      "when you finished enter 'q'54\n",
      "Please enter your numbers one by one \n",
      "when you finished enter 'q'89\n",
      "Please enter your numbers one by one \n",
      "when you finished enter 'q'32\n",
      "Please enter your numbers one by one \n",
      "when you finished enter 'q'rf\n",
      "\n",
      "\n",
      "Invalid entry. Use numeric characters only \n",
      "Please enter like '5', '-3' or '21.5'\n",
      "Please enter your numbers one by one \n",
      "when you finished enter 'q'rf\n",
      "\n",
      "\n",
      "Invalid entry. Use numeric characters only \n",
      "Please enter like '5', '-3' or '21.5'\n",
      "Please enter your numbers one by one \n",
      "when you finished enter 'q'43\n",
      "Please enter your numbers one by one \n",
      "when you finished enter 'q'q\n",
      "\n",
      "Your ordered number list is [32.0, 34.0, 43.0, 45.0, 54.0, 89.0]\n",
      "\n",
      "The min number you entered is 32.0\n",
      "\n",
      "The max number you entered is 89.0\n"
     ]
    }
   ],
   "source": [
    "def isfloat(n):\n",
    "    try:\n",
    "        float(n)\n",
    "        return True\n",
    "    except ValueError:\n",
    "        return False\n",
    "    \n",
    "print(\"Wellcome to number ordering program\")\n",
    "num_list = []\n",
    "while True:\n",
    "    a = input(\"Please enter your numbers one by one \\nwhen you finished enter 'q'\" )\n",
    "    if isfloat(a):\n",
    "        num_list.append(float(a))\n",
    "        continue        \n",
    "\n",
    "    elif a == \"q\":\n",
    "        break  \n",
    "        \n",
    "    else:\n",
    "        print(\"\\n\\nInvalid entry. Use numeric characters only \\nPlease enter like '5', '-3' or '21.5'\")\n",
    "        continue\n",
    "        \n",
    "        \n",
    "\n",
    "     \n",
    "num_list.sort()\n",
    "if num_list == list():\n",
    "    print(\"\\nYou have not entered any number\")\n",
    "else: \n",
    "    print(\"\\nYour ordered number list is\", num_list)\n",
    "    print(\"\\nThe min number you entered is\", num_list[0])\n",
    "    print(\"\\nThe max number you entered is\", num_list[-1])"
   ]
  },
  {
   "cell_type": "markdown",
   "metadata": {},
   "source": [
    "# fibonacci listesi \n",
    "Task : Create a list consisting of Fibonacci numbers from 1 to 55 using control flow statements and range() function."
   ]
  },
  {
   "cell_type": "code",
   "execution_count": 8,
   "metadata": {
    "scrolled": true
   },
   "outputs": [
    {
     "name": "stdout",
     "output_type": "stream",
     "text": [
      "Hello this is a Fibonacci number list maker\n",
      "Please enter an integer to see the Fibonacci number list up to it:54\n",
      "[0, 1, 1, 2, 3, 5, 8, 13, 21, 34]\n"
     ]
    }
   ],
   "source": [
    "print(\"Hello this is a Fibonacci number list maker\")\n",
    "\n",
    "fibonacci_list = [0, 1]\n",
    "number = input(\"Please enter an integer to see the Fibonacci number list up to it:\")\n",
    "\n",
    "while not number.isnumeric():\n",
    "    number = input(\"invalid entry\\nPlease enter an integer to see the Fibonacci number list up to it:\")\n",
    "\n",
    "\n",
    "for x in fibonacci_list:\n",
    "    if fibonacci_list[-1] < int(number):\n",
    "        fibonacci_list.append(fibonacci_list[-1] + fibonacci_list[-2])\n",
    "\n",
    "fibonacci_list.pop()\n",
    "print(fibonacci_list)"
   ]
  },
  {
   "cell_type": "markdown",
   "metadata": {},
   "source": [
    "# last decimal digit of a ** b."
   ]
  },
  {
   "cell_type": "markdown",
   "metadata": {},
   "source": [
    "## Define a function that takes in two non-negative integers a and b, and returns the last decimal digit of a ** b.\n",
    "Note that a and b may be very large! You may assume that the input will always be valid.\n"
   ]
  },
  {
   "cell_type": "code",
   "execution_count": 23,
   "metadata": {},
   "outputs": [
    {
     "data": {
      "text/plain": [
       "4"
      ]
     },
     "execution_count": 23,
     "metadata": {},
     "output_type": "execute_result"
    }
   ],
   "source": [
    "# below function is for checking. below function works but, in big number it takes too much time.\n",
    "def lastDigit(x, y):\n",
    "    return (x ** y) % 10\n",
    "lastDigit(4, 3)"
   ]
  },
  {
   "cell_type": "code",
   "execution_count": 10,
   "metadata": {
    "scrolled": true
   },
   "outputs": [],
   "source": [
    "def last_digit_a_power_b(a, b):\n",
    "    if a % 10 == 0:\n",
    "        return 0\n",
    "    \n",
    "    elif a % 10 == 1:\n",
    "        return 1\n",
    "    \n",
    "    elif a % 10 == 2: # son rakam iki ise a ** b nin son rakamı 2, 4, 8, 6, 2, 4, 8, 6 \n",
    "                      # olacak şekilde kendini tekrar eder bu nedenle bunları \n",
    "                      # aşağı mod 4 e göre yazdırırız.   \n",
    "        if b % 4 == 1:\n",
    "            return 2\n",
    "        elif b % 4 == 2:\n",
    "            return 4\n",
    "        elif b % 4 == 3:\n",
    "            return 8\n",
    "        elif b % 4 == 0:\n",
    "            return 6\n",
    "        \n",
    "    elif a % 10 == 3:\n",
    "        if b % 4 == 1:\n",
    "            return 3\n",
    "        elif b % 4 == 2:\n",
    "            return 9\n",
    "        elif b % 4 == 3:\n",
    "            return 7\n",
    "        elif b % 4 == 0:\n",
    "            return 1\n",
    "        \n",
    "    elif a % 10 == 4:\n",
    "        if b % 2 == 1:\n",
    "            return 4\n",
    "        elif b % 2 == 0:\n",
    "            return 6\n",
    "                \n",
    "    elif a % 10 == 5:\n",
    "        return 5\n",
    "    \n",
    "    elif a % 10 == 6:\n",
    "        return 6\n",
    "    \n",
    "    elif a % 10 == 7:\n",
    "        if b % 4 == 1:\n",
    "            return 7\n",
    "        elif b % 4 == 2:\n",
    "            return 9\n",
    "        elif b % 4 == 3:\n",
    "            return 3\n",
    "        elif b % 4 == 0:\n",
    "            return 1\n",
    "        \n",
    "    elif a % 10 == 8:\n",
    "        if b % 4 == 1:\n",
    "            return 8\n",
    "        elif b % 4 == 2:\n",
    "            return 4\n",
    "        elif b % 4 == 3:\n",
    "            return 2\n",
    "        elif b % 4 == 0:\n",
    "            return 6\n",
    "        \n",
    "    elif a % 10 == 9:\n",
    "        if b % 2 == 1:\n",
    "            return 9\n",
    "        elif b % 2 == 0:\n",
    "            return 1"
   ]
  },
  {
   "cell_type": "code",
   "execution_count": null,
   "metadata": {},
   "outputs": [],
   "source": []
  },
  {
   "cell_type": "code",
   "execution_count": 27,
   "metadata": {},
   "outputs": [
    {
     "data": {
      "text/plain": [
       "1"
      ]
     },
     "execution_count": 27,
     "metadata": {},
     "output_type": "execute_result"
    }
   ],
   "source": [
    "last_digit_a_power_b(125453345, 33423223)"
   ]
  },
  {
   "cell_type": "code",
   "execution_count": null,
   "metadata": {},
   "outputs": [],
   "source": [
    "lastDigit(125453345, 33423223)"
   ]
  },
  {
   "cell_type": "markdown",
   "metadata": {},
   "source": [
    "# factorial function"
   ]
  },
  {
   "cell_type": "code",
   "execution_count": 13,
   "metadata": {},
   "outputs": [],
   "source": [
    "def factorial(x):\n",
    "    A = list(range(1, x+1))\n",
    "    index = 1\n",
    "    result = 1\n",
    "    for i in A:\n",
    "        if index < x:\n",
    "            result = result * A[index]\n",
    "        index += 1\n",
    "    return result\n",
    "    \n"
   ]
  },
  {
   "cell_type": "code",
   "execution_count": 14,
   "metadata": {},
   "outputs": [
    {
     "data": {
      "text/plain": [
       "120"
      ]
     },
     "execution_count": 14,
     "metadata": {},
     "output_type": "execute_result"
    }
   ],
   "source": [
    "factorial(5)"
   ]
  },
  {
   "cell_type": "code",
   "execution_count": 15,
   "metadata": {},
   "outputs": [
    {
     "data": {
      "text/plain": [
       "6"
      ]
     },
     "execution_count": 15,
     "metadata": {},
     "output_type": "execute_result"
    }
   ],
   "source": [
    "factorial(3)"
   ]
  },
  {
   "cell_type": "code",
   "execution_count": 16,
   "metadata": {},
   "outputs": [],
   "source": [
    "def factorial1(x):\n",
    "    result = 1\n",
    "    for i in range(2, x+1):\n",
    "        result = result * i\n",
    "    return result"
   ]
  },
  {
   "cell_type": "code",
   "execution_count": 17,
   "metadata": {},
   "outputs": [
    {
     "data": {
      "text/plain": [
       "120"
      ]
     },
     "execution_count": 17,
     "metadata": {},
     "output_type": "execute_result"
    }
   ],
   "source": [
    "factorial1(5)"
   ]
  },
  {
   "cell_type": "code",
   "execution_count": 18,
   "metadata": {},
   "outputs": [],
   "source": [
    "def factorial2(x):\n",
    "    result = 1\n",
    "    while x > 1:\n",
    "        result = result * x\n",
    "        x -= 1\n",
    "    return result"
   ]
  },
  {
   "cell_type": "code",
   "execution_count": 22,
   "metadata": {},
   "outputs": [
    {
     "data": {
      "text/plain": [
       "720"
      ]
     },
     "execution_count": 22,
     "metadata": {},
     "output_type": "execute_result"
    }
   ],
   "source": [
    "factorial2(6)"
   ]
  },
  {
   "cell_type": "code",
   "execution_count": null,
   "metadata": {},
   "outputs": [],
   "source": []
  }
 ],
 "metadata": {
  "kernelspec": {
   "display_name": "Python 3 (ipykernel)",
   "language": "python",
   "name": "python3"
  },
  "language_info": {
   "codemirror_mode": {
    "name": "ipython",
    "version": 3
   },
   "file_extension": ".py",
   "mimetype": "text/x-python",
   "name": "python",
   "nbconvert_exporter": "python",
   "pygments_lexer": "ipython3",
   "version": "3.9.7"
  },
  "varInspector": {
   "cols": {
    "lenName": 16,
    "lenType": 16,
    "lenVar": 40
   },
   "kernels_config": {
    "python": {
     "delete_cmd_postfix": "",
     "delete_cmd_prefix": "del ",
     "library": "var_list.py",
     "varRefreshCmd": "print(var_dic_list())"
    },
    "r": {
     "delete_cmd_postfix": ") ",
     "delete_cmd_prefix": "rm(",
     "library": "var_list.r",
     "varRefreshCmd": "cat(var_dic_list()) "
    }
   },
   "types_to_exclude": [
    "module",
    "function",
    "builtin_function_or_method",
    "instance",
    "_Feature"
   ],
   "window_display": false
  }
 },
 "nbformat": 4,
 "nbformat_minor": 4
}
