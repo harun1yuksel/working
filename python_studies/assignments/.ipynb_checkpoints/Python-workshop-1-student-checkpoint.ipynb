{
 "cells": [
  {
   "cell_type": "markdown",
   "metadata": {
    "id": "zAvPAus7jjb1"
   },
   "source": [
    "<center><img src=\"https://github.com/aaron-clarusway/fullstack/blob/master/itf-logo.png?raw=true\"  alt=\"alt text\" width=\"200\"/></center>\n",
    "<br>\n",
    "<h1><p style=\"text-align: center; color:darkblue\">Python Basic</p><h1>\n",
    "<center><h1>Workshop - 1</h1></center>\n",
    "<p><img align=\"right\"\n",
    "  src=\"https://secure.meetupstatic.com/photos/event/3/1/b/9/600_488352729.jpeg\"  width=\"15px\"></p>\n",
    "<br>\n",
    "\n",
    "\n",
    "# Subject: Basic Data Types and Useful Operations\n",
    "\n",
    "## Learning Goals\n",
    "\n",
    "* to work with quotes in strings,\n",
    "* to practice basic data types,\n",
    "* to consolidate basic boolean operations."
   ]
  },
  {
   "cell_type": "markdown",
   "metadata": {
    "id": "vTM3FbT4jjb7"
   },
   "source": [
    "### Problem 1\n",
    "\n",
    "Write a program that multiplies three numbers entered by the user. Print the output with the format method."
   ]
  },
  {
   "cell_type": "code",
   "execution_count": 1,
   "metadata": {
    "colab": {
     "base_uri": "https://localhost:8080/"
    },
    "executionInfo": {
     "elapsed": 16445,
     "status": "ok",
     "timestamp": 1656427129066,
     "user": {
      "displayName": "Harun Yüksel",
      "userId": "06808681197215964877"
     },
     "user_tz": -180
    },
    "id": "Ss28t3hbjjb8",
    "outputId": "9a144c75-b73a-49e6-9788-c3bf05ea98bd"
   },
   "outputs": [
    {
     "name": "stdout",
     "output_type": "stream",
     "text": [
      "hello this is a a program that multiplies three numbers.\n",
      "please enter first num 43\n",
      "please enter second num 33\n",
      "please enter third num 2\n",
      "result is 2838.0\n"
     ]
    }
   ],
   "source": [
    "print(\"hello this is a a program that multiplies three numbers.\")\n",
    "num_1 = float(input(\"please enter first num \"))\n",
    "num_2 = float(input(\"please enter second num \"))\n",
    "num_3 = float(input(\"please enter third num \"))\n",
    "result = num_1  * num_2 * num_3\n",
    "print(\"result is\", result)\n"
   ]
  },
  {
   "cell_type": "markdown",
   "metadata": {
    "id": "kIwSGwlejjb9"
   },
   "source": [
    "### Problem 2\n",
    "\n",
    "Write a program that calculates body mass index from **height** and **weight** entered by the user. \n",
    "\n",
    "Body mass index :  Weight / Height(m) * Height(m)"
   ]
  },
  {
   "cell_type": "code",
   "execution_count": 1,
   "metadata": {
    "colab": {
     "base_uri": "https://localhost:8080/"
    },
    "executionInfo": {
     "elapsed": 23581,
     "status": "ok",
     "timestamp": 1643121278989,
     "user": {
      "displayName": "Harun Yüksel",
      "photoUrl": "https://lh3.googleusercontent.com/a/default-user=s64",
      "userId": "06808681197215964877"
     },
     "user_tz": -180
    },
    "id": "LanXFAVjjjb9",
    "outputId": "7779f575-0559-4100-f1b5-ea8814be5ee5"
   },
   "outputs": [
    {
     "name": "stdout",
     "output_type": "stream",
     "text": [
      "calculate your body mass index\n",
      "enter your weight as kg 34\n",
      "enter your height as m eg: 1.75 45\n",
      "your bmi is 0.016790123456790124\n"
     ]
    }
   ],
   "source": [
    "print(\"calculate your body mass index\")\n",
    "weight = float(input(\"enter your weight as kg \"))\n",
    "height = float(input(\"enter your height as m eg: 1.75 \"))\n",
    "bmi = weight / height ** 2 \n",
    "print(\"your bmi is\", bmi)"
   ]
  },
  {
   "cell_type": "markdown",
   "metadata": {
    "id": "DD3_QTr8jjb-"
   },
   "source": [
    "### Problem 3\n",
    "\n",
    "\n",
    "#### With your $200, how many  pieces of material can you get for $11 each? How much money do you have left after buying?"
   ]
  },
  {
   "cell_type": "code",
   "execution_count": null,
   "metadata": {
    "colab": {
     "base_uri": "https://localhost:8080/"
    },
    "executionInfo": {
     "elapsed": 443,
     "status": "ok",
     "timestamp": 1643121432866,
     "user": {
      "displayName": "Harun Yüksel",
      "photoUrl": "https://lh3.googleusercontent.com/a/default-user=s64",
      "userId": "06808681197215964877"
     },
     "user_tz": -180
    },
    "id": "EKYEKZ77jjb-",
    "outputId": "d9c48436-36fd-4bb8-d5f0-0addda585fe5"
   },
   "outputs": [
    {
     "data": {
      "text/plain": [
       "18"
      ]
     },
     "execution_count": 24,
     "metadata": {},
     "output_type": "execute_result"
    }
   ],
   "source": [
    "200//11"
   ]
  },
  {
   "cell_type": "code",
   "execution_count": null,
   "metadata": {
    "colab": {
     "base_uri": "https://localhost:8080/"
    },
    "executionInfo": {
     "elapsed": 387,
     "status": "ok",
     "timestamp": 1643121459194,
     "user": {
      "displayName": "Harun Yüksel",
      "photoUrl": "https://lh3.googleusercontent.com/a/default-user=s64",
      "userId": "06808681197215964877"
     },
     "user_tz": -180
    },
    "id": "Eh3NMURRq3VU",
    "outputId": "71945a2a-685b-43e4-dfcb-489f1bf8b1d8"
   },
   "outputs": [
    {
     "data": {
      "text/plain": [
       "2"
      ]
     },
     "execution_count": 25,
     "metadata": {},
     "output_type": "execute_result"
    }
   ],
   "source": [
    "200%11"
   ]
  },
  {
   "cell_type": "markdown",
   "metadata": {
    "id": "gILN560Ljjb_"
   },
   "source": [
    "### Problem 4\n",
    "\n",
    "Get **word**, **seperator** and **repetition** values from the user and print the word on the screen according to the given values. \n",
    "\n",
    "Ex: ``word = ali, sep = /, repetition = 3`` ----> ``ali/ali/ali``"
   ]
  },
  {
   "cell_type": "code",
   "execution_count": null,
   "metadata": {
    "colab": {
     "base_uri": "https://localhost:8080/"
    },
    "executionInfo": {
     "elapsed": 439,
     "status": "ok",
     "timestamp": 1643122247554,
     "user": {
      "displayName": "Harun Yüksel",
      "photoUrl": "https://lh3.googleusercontent.com/a/default-user=s64",
      "userId": "06808681197215964877"
     },
     "user_tz": -180
    },
    "id": "-pc-DND3jjb_",
    "outputId": "6bdf3289-8946-401d-ff1d-411a3d3896ea"
   },
   "outputs": [
    {
     "name": "stdout",
     "output_type": "stream",
     "text": [
      "ali/ali/ali\n"
     ]
    }
   ],
   "source": [
    "print(\"ali\",\"ali\",\"ali\", sep = \"/\")"
   ]
  },
  {
   "cell_type": "markdown",
   "metadata": {
    "id": "gRgfrQi9jjcA"
   },
   "source": [
    "### Problem 5\n",
    "\n",
    ">Do not run the code, try to figure out in your mind.\n",
    "\n",
    "What will be the output of the following syntax :\n",
    "\n",
    "```python\n",
    "print(True and False and (not True and False) and not (True or False))\n",
    "```"
   ]
  },
  {
   "cell_type": "code",
   "execution_count": null,
   "metadata": {
    "id": "D8mocT72jjcA"
   },
   "outputs": [],
   "source": []
  },
  {
   "cell_type": "markdown",
   "metadata": {
    "id": "SLAeCdcIjjcB"
   },
   "source": [
    "### Problem 6\n",
    "\n",
    ">Do not run the code, try to figure out in your mind.\n",
    "\n",
    "What will be the output of the following syntax :\n",
    "\n",
    "```python\n",
    "print(True and False and not \"False\" and None and (\"None\" or None))\n",
    "```"
   ]
  },
  {
   "cell_type": "code",
   "execution_count": null,
   "metadata": {
    "id": "T_xocmCMjjcB"
   },
   "outputs": [],
   "source": []
  },
  {
   "cell_type": "markdown",
   "metadata": {
    "id": "onvy8xs6f-j0"
   },
   "source": [
    "*italicized text*"
   ]
  },
  {
   "cell_type": "markdown",
   "metadata": {
    "id": "QKhIktwljjcC"
   },
   "source": [
    "### Problem 7\n",
    "\n",
    ">Do not run the code, try to figure out in your mind.\n",
    "\n",
    "What will be the output of the following syntax :\n",
    "\n",
    "```python\n",
    "print(\"clarusway\" and 0 and not \"\" and False and (\" \" or None))\n",
    "```"
   ]
  },
  {
   "cell_type": "code",
   "execution_count": null,
   "metadata": {
    "id": "xClZAsCwjjcC"
   },
   "outputs": [],
   "source": []
  }
 ],
 "metadata": {
  "colab": {
   "name": "Python-workshop-1-student.ipynb",
   "provenance": [],
   "toc_visible": true
  },
  "kernelspec": {
   "display_name": "Python 3 (ipykernel)",
   "language": "python",
   "name": "python3"
  },
  "language_info": {
   "codemirror_mode": {
    "name": "ipython",
    "version": 3
   },
   "file_extension": ".py",
   "mimetype": "text/x-python",
   "name": "python",
   "nbconvert_exporter": "python",
   "pygments_lexer": "ipython3",
   "version": "3.9.7"
  }
 },
 "nbformat": 4,
 "nbformat_minor": 1
}
