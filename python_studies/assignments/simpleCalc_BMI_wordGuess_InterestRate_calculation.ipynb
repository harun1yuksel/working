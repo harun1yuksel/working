{
 "cells": [
  {
   "cell_type": "code",
   "execution_count": 2,
   "metadata": {
    "colab": {
     "base_uri": "https://localhost:8080/"
    },
    "executionInfo": {
     "elapsed": 11542,
     "status": "ok",
     "timestamp": 1645980914641,
     "user": {
      "displayName": "Harun Yüksel",
      "photoUrl": "https://lh3.googleusercontent.com/a/default-user=s64",
      "userId": "06808681197215964877"
     },
     "user_tz": -180
    },
    "id": "Bc9NUHowfMse",
    "outputId": "fd50ab0a-3f64-4d5b-f60c-b67ef6b03724"
   },
   "outputs": [
    {
     "name": "stdout",
     "output_type": "stream",
     "text": [
      "Simple Calculator v.2\n",
      "First number: 34\n",
      "Second number: 56\n",
      "Which Operation? (+, -, *, /): *\n",
      "Result: 34.0 * 56.0 = 1904.0\n"
     ]
    }
   ],
   "source": [
    "print(\"Simple Calculator v.2\")\n",
    "num_1 = float(input(\"First number: \"))  \n",
    "num_2 = float(input(\"Second number: \")) \n",
    "op = input(\"Which Operation? (+, -, *, /): \") \n",
    "if op == \"+\":\n",
    "    print(\"Result:\", num_1, \"+\", num_2, \"=\", num_1 + num_2)\n",
    "elif op == \"-\":\n",
    "    print(\"Result:\", num_1, \"-\", num_2, \"=\", num_1 - num_2)\n",
    "elif op == \"*\":\n",
    "    print(\"Result:\", num_1, \"*\", num_2, \"=\", num_1 * num_2)\n",
    "elif op == \"/\":\n",
    "    print(\"Result:\", num_1, \"/\", num_2, \"=\", num_1 / num_2)\n",
    "else:\n",
    "    print(\"you made a mistake!\")"
   ]
  },
  {
   "cell_type": "code",
   "execution_count": 2,
   "metadata": {},
   "outputs": [
    {
     "name": "stdout",
     "output_type": "stream",
     "text": [
      "calculate your body mass index\n",
      "enter your weight as kg 87\n",
      "enter your height as m eg: 1.75 1.80\n",
      "your bmi is 26.85185185185185\n"
     ]
    }
   ],
   "source": [
    "print(\"calculate your body mass index\")\n",
    "weight = float(input(\"enter your weight as kg \"))\n",
    "height = float(input(\"enter your height as m eg: 1.75 \"))\n",
    "bmi = weight / height ** 2 \n",
    "print(\"your bmi is\", bmi)"
   ]
  },
  {
   "cell_type": "code",
   "execution_count": 8,
   "metadata": {
    "id": "6laPIgy0LFSD",
    "scrolled": true
   },
   "outputs": [
    {
     "name": "stdout",
     "output_type": "stream",
     "text": [
      "lütfen aylık faiz oranını tam sayı olarak giriniz 9\n",
      "lutfen ana parayı giriniz 100\n",
      "lutfen vade suresini ay sayısı olarak giriniz 10\n",
      "ay    1      109.00000000000001\n",
      "ay    2      118.81000000000003\n",
      "ay    3      129.50290000000004\n",
      "ay    4      141.15816100000006\n",
      "ay    5      153.86239549000007\n",
      "ay    6      167.71001108410007\n",
      "ay    7      182.8039120816691\n",
      "ay    8      199.25626416901932\n",
      "ay    9      217.18932794423108\n",
      "ay    10      236.7363674592119\n"
     ]
    }
   ],
   "source": [
    "ay = 0\n",
    "faiz_oranı = input(\"lütfen aylık faiz oranını tam sayı olarak giriniz \")\n",
    "artış_oranı = (int(faiz_oranı) + 100)/100\n",
    "ana_para = input(\"lutfen ana parayı giriniz \")\n",
    "ana_para = int(ana_para)\n",
    "vade_suresi = input(\"lutfen vade suresini ay sayısı olarak giriniz \")\n",
    "vade_suresi = int (vade_suresi)\n",
    "while ay < vade_suresi:\n",
    "      ana_para *= artış_oranı\n",
    "      ay += 1\n",
    "      print(\"ay\",\"  \", ay,\"    \", ana_para)\n",
    "        \n"
   ]
  },
  {
   "cell_type": "code",
   "execution_count": null,
   "metadata": {
    "colab": {
     "base_uri": "https://localhost:8080/"
    },
    "executionInfo": {
     "elapsed": 24366,
     "status": "ok",
     "timestamp": 1645980818093,
     "user": {
      "displayName": "Harun Yüksel",
      "photoUrl": "https://lh3.googleusercontent.com/a/default-user=s64",
      "userId": "06808681197215964877"
     },
     "user_tz": -180
    },
    "id": "YAt8DdP9LFN2",
    "outputId": "2ed8cb77-9dfe-40c7-c5fe-d2fb551964cb"
   },
   "outputs": [
    {
     "name": "stdout",
     "output_type": "stream",
     "text": [
      "merhaba kelime tahmin oyununa hoşgeldiniz\n",
      "lütfen bir ev eşyası tahmini giriniz  masa\n",
      "üzülmeyin bir daha deneyin bu eşya bir mobilya  sandalye\n",
      "bravo kazandınız çok zekisiniz\n",
      "bravo kazandınız çok zekisiniz\n"
     ]
    }
   ],
   "source": [
    "print (\"merhaba kelime tahmin oyununa hoşgeldiniz\")\n",
    "gizli_kelime = \"sandalye\"\n",
    "tahmin = input (\"lütfen bir ev eşyası tahmini giriniz  \")\n",
    "if tahmin == gizli_kelime:\n",
    "  print(\"bravo kazandınız çok zekisiniz\")\n",
    "elif tahmin != gizli_kelime:\n",
    "  tahmin = input (\"üzülmeyin bir daha deneyin bu eşya bir mobilya  \")\n",
    "if tahmin == gizli_kelime:\n",
    "  print(\"bravo kazandınız çok zekisiniz\")\n",
    "elif tahmin != gizli_kelime:\n",
    "  tahmin = input (\"üzülmeyin bir daha deneyin ama bu son şansınız; üzerine otururuz  \")\n",
    "if tahmin == gizli_kelime:\n",
    "  print(\"bravo kazandınız çok zekisiniz\")\n",
    "else: print(\"üzgünüm kaybettiniz\")\n",
    "\n",
    "\n",
    "\n",
    "\n"
   ]
  },
  {
   "cell_type": "code",
   "execution_count": null,
   "metadata": {
    "colab": {
     "base_uri": "https://localhost:8080/"
    },
    "executionInfo": {
     "elapsed": 9062,
     "status": "ok",
     "timestamp": 1642958402637,
     "user": {
      "displayName": "Harun Yüksel",
      "photoUrl": "https://lh3.googleusercontent.com/a/default-user=s64",
      "userId": "06808681197215964877"
     },
     "user_tz": -180
    },
    "id": "IsBWAc_SYmc5",
    "outputId": "333c1298-bd97-49e8-90f3-1aae8cf8cc5e"
   },
   "outputs": [
    {
     "name": "stdout",
     "output_type": "stream",
     "text": [
      "merhaba kelime tahmin oyununa hoşgeldiniz\n",
      "lütfen bir ev eşyası tahmini giriniz  kj\n",
      "Maalesef... Bu bir mobilya, bir kez daha deneyebilirsiniz...\n",
      "lütfen bir ev eşyası tahmini giriniz  k\n",
      "Maalesef... Bu bir mobilya, bir kez daha deneyebilirsiniz...\n",
      "lütfen bir ev eşyası tahmini giriniz  kl\n",
      "Maalesef... Bu bir mobilya, bir kez daha deneyebilirsiniz...\n",
      "Üzgünüz, kaybettiniz...\n"
     ]
    }
   ],
   "source": [
    "print (\"merhaba kelime tahmin oyununa hoşgeldiniz\")\n",
    "gizli_kelime = \"sandalye\"\n",
    "tahmin_sayısı = 0\n",
    "while tahmin_sayısı < 3:\n",
    "  tahmin = input(\"lütfen bir ev eşyası tahmini giriniz  \")\n",
    "  tahmin_sayısı += 1\n",
    "  if tahmin == gizli_kelime:\n",
    "      print(\"Tebrikler, kazandınız!\")\n",
    "      break;\n",
    "  else:\n",
    "      print(\"Maalesef... Bu bir mobilya, bir kez daha deneyebilirsiniz...\")\n",
    "if(tahmin_sayısı == 3 and tahmin != gizli_kelime):\n",
    "  print(\"Üzgünüz, kaybettiniz...\")"
   ]
  },
  {
   "cell_type": "code",
   "execution_count": 9,
   "metadata": {
    "colab": {
     "base_uri": "https://localhost:8080/"
    },
    "executionInfo": {
     "elapsed": 7195,
     "status": "ok",
     "timestamp": 1642959027480,
     "user": {
      "displayName": "Harun Yüksel",
      "photoUrl": "https://lh3.googleusercontent.com/a/default-user=s64",
      "userId": "06808681197215964877"
     },
     "user_tz": -180
    },
    "id": "rrXBxH7F7cKM",
    "outputId": "8cda0587-538f-4a20-f3fb-c601a2824c8c",
    "scrolled": true
   },
   "outputs": [
    {
     "name": "stdout",
     "output_type": "stream",
     "text": [
      "merhaba kelime tahmin oyununa hoşgeldiniz\n",
      "lütfen bir ev eşyası tahmini giriniz  h\n",
      "üzülmeyin bir daha deneyin bu eşya bir mobilya  k\n",
      "üzülmeyin bir daha deneyin ama bu son şansınız; üzerine otururuz  j\n",
      "üzgünüm kaybettiniz\n"
     ]
    }
   ],
   "source": [
    "print (\"merhaba kelime tahmin oyununa hoşgeldiniz\")\n",
    "gizli_kelime = \"sandalye\"\n",
    "tahmin = input (\"lütfen bir ev eşyası tahmini giriniz  \")\n",
    "if tahmin == gizli_kelime:\n",
    "  print(\"bravo kazandınız çok zekisiniz\")\n",
    "elif tahmin != gizli_kelime:\n",
    "  tahmin = input (\"üzülmeyin bir daha deneyin bu eşya bir mobilya  \")\n",
    "if tahmin == gizli_kelime:\n",
    "  print(\"bravo kazandınız çok zekisiniz\")\n",
    "elif tahmin != gizli_kelime:\n",
    "  tahmin = input (\"üzülmeyin bir daha deneyin ama bu son şansınız; üzerine otururuz  \")\n",
    "if tahmin == gizli_kelime:\n",
    "  print(\"bravo kazandınız çok zekisiniz\")\n",
    "else: print(\"üzgünüm kaybettiniz\")"
   ]
  },
  {
   "cell_type": "code",
   "execution_count": null,
   "metadata": {},
   "outputs": [],
   "source": []
  }
 ],
 "metadata": {
  "colab": {
   "authorship_tag": "ABX9TyOAiElpKMplWwXEZUuurcQw",
   "collapsed_sections": [
    "scrZVlyJb_Q3"
   ],
   "name": "Lesson1_phthon.ipynb",
   "provenance": []
  },
  "kernelspec": {
   "display_name": "Python 3 (ipykernel)",
   "language": "python",
   "name": "python3"
  },
  "language_info": {
   "codemirror_mode": {
    "name": "ipython",
    "version": 3
   },
   "file_extension": ".py",
   "mimetype": "text/x-python",
   "name": "python",
   "nbconvert_exporter": "python",
   "pygments_lexer": "ipython3",
   "version": "3.9.7"
  }
 },
 "nbformat": 4,
 "nbformat_minor": 1
}
