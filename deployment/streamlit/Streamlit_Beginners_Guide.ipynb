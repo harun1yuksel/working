{
 "cells": [
  {
   "cell_type": "markdown",
   "id": "16c14a5b",
   "metadata": {},
   "source": [
    "# A Beginners Guide To Streamlit"
   ]
  },
  {
   "cell_type": "markdown",
   "id": "d0c9e6c9",
   "metadata": {},
   "source": [
    "- https://www.analyticsvidhya.com/blog/2021/06/build-web-app-instantly-for-machine-learning-using-streamlit/\n",
    "- https://www.geeksforgeeks.org/a-beginners-guide-to-streamlit/"
   ]
  },
  {
   "cell_type": "code",
   "execution_count": 1,
   "id": "a061e485",
   "metadata": {},
   "outputs": [
    {
     "name": "stderr",
     "output_type": "stream",
     "text": [
      "2022-09-15 23:27:19.383 INFO    numexpr.utils: Note: NumExpr detected 12 cores but \"NUMEXPR_MAX_THREADS\" not set, so enforcing safe limit of 8.\n",
      "2022-09-15 23:27:19.384 INFO    numexpr.utils: NumExpr defaulting to 8 threads.\n"
     ]
    }
   ],
   "source": [
    "# q:quiete önemli birşey olursa göster\n",
    "# !pip install -q streamlit  \n",
    "import streamlit as st"
   ]
  },
  {
   "cell_type": "code",
   "execution_count": 2,
   "id": "3d672076",
   "metadata": {
    "scrolled": true
   },
   "outputs": [
    {
     "data": {
      "text/plain": [
       "'1.10.0'"
      ]
     },
     "execution_count": 2,
     "metadata": {},
     "output_type": "execute_result"
    }
   ],
   "source": [
    "st.__version__"
   ]
  },
  {
   "cell_type": "code",
   "execution_count": 3,
   "id": "9723ad54",
   "metadata": {},
   "outputs": [
    {
     "name": "stdout",
     "output_type": "stream",
     "text": [
      "Overwriting app.py\n"
     ]
    }
   ],
   "source": [
    "%%writefile app.py\n",
    "\n",
    "import streamlit as st\n",
    "import pandas as pd\n",
    "import numpy as np\n",
    "from PIL import Image\n",
    "\n",
    "\n",
    "st.title(\"This is a title\")\n",
    "st.text('This is some text.')\n",
    "st.markdown(\"Streamlit is **_really_ cool** :+1:\")\n",
    "st.markdown(\"# This is a markdown\")\n",
    "st.markdown(\"## This is a markdown\")\n",
    "st.header('This is a header')\n",
    "st.subheader('This is a subheader')\n",
    "\n",
    "st.success('This is a success message!')\n",
    "st.info('This is a purely informational message')\n",
    "st.error('This is an error')\n",
    "\n",
    "st.help(range)\n",
    "st.write('Hello, *World!* :sunglasses:')\n",
    "\n",
    "# Image\n",
    "img = Image.open(\"images.jpeg\")\n",
    "st.image(img,caption=\"cattie\")\n",
    "st.image(img,caption=\"cattie\",width=300)\n",
    "\n",
    "# video\n",
    "# my_video = open(r\"path\",'rb')\n",
    "st.video(r'https://youtu.be/3gK_2XdjOdY')\n",
    "\n",
    "# checkbox\n",
    "cbox = st.checkbox(\"Hide and Seek\")\n",
    "if cbox:\n",
    "    st.write(\"Hide\")\n",
    "else:\n",
    "    st.write(\"Seek\")\n",
    "    \n",
    "# radio\n",
    "status = st.radio(\"Select a color\",(\"blue\",\"orange\",\"yellow\"))\n",
    "\n",
    "st.write(f'Choosing color: {status}')\n",
    "st.write(\"Your favourite color is\", status)\n",
    "\n",
    "#buton\n",
    "if st.button('press Me!'):\n",
    "    st.success('Analyze Results are...')\n",
    "\n",
    "# selectbox\n",
    "occupation = st.selectbox(\"Your occupation\", [\"Programmer\", \"DataScientist\",\"Doctor\"])\n",
    "st.write(f'Your occupation is {occupation}')\n",
    "\n",
    "# multiselect\n",
    "multi_select = st.multiselect(\"Select multiple numbers\",[1,2,3,4,5])\n",
    "\n",
    "# slider\n",
    "option1 = st.slider(\"Select a number\", min_value=5, max_value=70, value=30, step=5)\n",
    "option2 = st.slider(\"Select a number\", min_value=0.2, max_value=30.2, value=5.2, step=0.2)\n",
    "\n",
    "result=option1*option2\n",
    "st.write(\"multiplication of two options is:\",result)\n",
    "\n",
    "#text_input\n",
    "name = st.text_input(\"Enter your name\", placeholder=\"Your name here\")\n",
    "if st.button(\"Submit\"):\n",
    "    st.write(\"Hello {}\".format(name.title()))\n",
    "    \n",
    "#code\n",
    "st.code(\"import pandas as pd\")\n",
    "st.code(\"import pandas as pd\\nimport numpy as np\")\n",
    "\n",
    "with st.echo():\n",
    "    import pandas as pd\n",
    "    import numpy as np\n",
    "    df = pd.DataFrame({\"a\":[1,2,3], \"b\":[4,5,6]})\n",
    "    df\n",
    "    \n",
    "#date input\n",
    "import datetime\n",
    "today=st.date_input(\"Today is\", datetime.datetime.now())\n",
    "\n",
    "#time input\n",
    "the_time=st.time_input(\"The time is\", datetime.time(8,45))\n",
    "the_time=st.time_input(\"The time is\", datetime.time())\n",
    "\n",
    "#sidebar\n",
    "st.sidebar.title(\"Sidebar title\")\n",
    "st.sidebar.header(\"Sidebar header\")\n",
    "\n",
    "a=st.sidebar.slider(\"input\",0,5,2,1)\n",
    "x=st.sidebar.slider(\"input2\")\n",
    "st.write(\"# sidebar input result\")\n",
    "st.success(a*x)\n",
    "\n",
    "# DataFram\n",
    "st.write(\"# dataframes\")\n",
    "df = pd.read_csv(\"Advertising.csv\", nrows=(100))\n",
    "st.table(df.head())\n",
    "st.write(df.head()) #dynamic, you can sort\n",
    "st.dataframe(df.head())#dynamic, you can sort\n",
    "\n",
    "import pickle\n",
    "filename = 'my_model'\n",
    "model = pickle.load(open(filename, 'rb'))\n",
    "\n",
    "TV = st.sidebar.number_input(\"TV:\",min_value=5, max_value=300)\n",
    "radio = st.sidebar.number_input(\"radio:\",min_value=1, max_value=50)\n",
    "newspaper = st.sidebar.number_input(\"newspaper:\",min_value=0, max_value=120)\n",
    "\n",
    "d = pd.DataFrame.from_dict({'TV':TV, 'radio':radio, 'newspaper':newspaper}, orient='index').T\n",
    "\n",
    "st.write(d)\n",
    "\n",
    "# buton\n",
    "if st.button('predict'):\n",
    "    st.success(f'Analyze Predict:&emsp;{model.predict(d)[0].round(2)}')\n",
    "    \n",
    "    \n",
    "html_temp = \"\"\"\n",
    "<div style=\"background-color:tomato;padding:1.5px\">\n",
    "<h1 style=\"color:white;text-align:center;\">Single Customer </h1>\n",
    "</div><br>\"\"\"\n",
    "st.markdown(html_temp,unsafe_allow_html=True)"
   ]
  },
  {
   "cell_type": "code",
   "execution_count": 4,
   "id": "623eccd9",
   "metadata": {},
   "outputs": [
    {
     "name": "stdout",
     "output_type": "stream",
     "text": [
      "2022-09-15 23:27:21.493 INFO    numexpr.utils: Note: NumExpr detected 12 cores but \"NUMEXPR_MAX_THREADS\" not set, so enforcing safe limit of 8.\n",
      "2022-09-15 23:27:21.493 INFO    numexpr.utils: NumExpr defaulting to 8 threads.\n",
      "\u001b[0m\n",
      "\u001b[34m\u001b[1m  You can now view your Streamlit app in your browser.\u001b[0m\n",
      "\u001b[0m\n",
      "\u001b[34m  Local URL: \u001b[0m\u001b[1mhttp://localhost:8501\u001b[0m\n",
      "\u001b[34m  Network URL: \u001b[0m\u001b[1mhttp://192.168.1.39:8501\u001b[0m\n",
      "\u001b[0m\n",
      "\n",
      "  \u001b[34m\u001b[1mA new version of Streamlit is available.\u001b[0m\n",
      "\n",
      "  See what's new at https://discuss.streamlit.io/c/announcements\n",
      "\n",
      "  Enter the following command to upgrade:\n",
      "  \u001b[34m$\u001b[0m \u001b[1mpip install streamlit --upgrade\u001b[0m\n",
      "\u001b[0m\n",
      "^C\n",
      "\u001b[34m  Stopping...\u001b[0m\n"
     ]
    }
   ],
   "source": [
    "# stop with Interrupt\n",
    "!streamlit run app.py"
   ]
  },
  {
   "cell_type": "code",
   "execution_count": null,
   "id": "defc72b8",
   "metadata": {},
   "outputs": [],
   "source": []
  }
 ],
 "metadata": {
  "kernelspec": {
   "display_name": "Python 3.9.12 ('base')",
   "language": "python",
   "name": "python3"
  },
  "language_info": {
   "codemirror_mode": {
    "name": "ipython",
    "version": 3
   },
   "file_extension": ".py",
   "mimetype": "text/x-python",
   "name": "python",
   "nbconvert_exporter": "python",
   "pygments_lexer": "ipython3",
   "version": "3.9.12"
  },
  "toc": {
   "base_numbering": 1,
   "nav_menu": {},
   "number_sections": true,
   "sideBar": true,
   "skip_h1_title": false,
   "title_cell": "Table of Contents",
   "title_sidebar": "Contents",
   "toc_cell": false,
   "toc_position": {},
   "toc_section_display": true,
   "toc_window_display": false
  },
  "vscode": {
   "interpreter": {
    "hash": "0a6b6417c5065dbac1d8dd2b982b9db9d8da7340961bf6d1bfc1f74af383bca2"
   }
  }
 },
 "nbformat": 4,
 "nbformat_minor": 5
}
