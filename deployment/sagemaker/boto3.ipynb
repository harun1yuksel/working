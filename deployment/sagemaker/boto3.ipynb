{
 "cells": [
  {
   "cell_type": "code",
   "execution_count": 1,
   "metadata": {},
   "outputs": [
    {
     "name": "stdout",
     "output_type": "stream",
     "text": [
      "bikerental-harun\n",
      "bucket-harun1\n",
      "smworkshop-harun-yuksel\n"
     ]
    }
   ],
   "source": [
    "import boto3\n",
    "\n",
    "# Use Amazon S3\n",
    "s3 = boto3.resource('s3')\n",
    "\n",
    "# Print out all bucket names\n",
    "for bucket in s3.buckets.all():\n",
    "    print(bucket.name)\n"
   ]
  },
  {
   "cell_type": "code",
   "execution_count": 2,
   "metadata": {},
   "outputs": [
    {
     "data": {
      "text/plain": [
       "s3.Object(bucket_name='bucket-harun1', key='test.txt')"
      ]
     },
     "execution_count": 2,
     "metadata": {},
     "output_type": "execute_result"
    }
   ],
   "source": [
    "data = open('test.txt', \"rb\")\n",
    "s3.Bucket('bucket-harun1').put_object(Key='test.txt', Body=data)"
   ]
  },
  {
   "cell_type": "code",
   "execution_count": 3,
   "metadata": {},
   "outputs": [
    {
     "name": "stdout",
     "output_type": "stream",
     "text": [
      "test.txt\n"
     ]
    }
   ],
   "source": [
    "# view objects within a bucket\n",
    "b = s3.Bucket('bucket-harun1')\n",
    "for obj in b.objects.all():\n",
    "    print(obj.key)"
   ]
  },
  {
   "cell_type": "code",
   "execution_count": 4,
   "metadata": {},
   "outputs": [
    {
     "data": {
      "text/plain": [
       "s3.Object(bucket_name='bucket-harun1', key='test2.txt')"
      ]
     },
     "execution_count": 4,
     "metadata": {},
     "output_type": "execute_result"
    }
   ],
   "source": [
    "b.put_object(Key='test2.txt') # Body kullanmadan da çalışıyor."
   ]
  },
  {
   "cell_type": "code",
   "execution_count": 5,
   "metadata": {},
   "outputs": [],
   "source": [
    "b.upload_file(\"nyc_sample.csv\",Key = \"data_folder\")"
   ]
  },
  {
   "cell_type": "code",
   "execution_count": 6,
   "metadata": {},
   "outputs": [],
   "source": [
    "b.download_file(\"data_folder\", \"downloaded_file.csv\")"
   ]
  },
  {
   "cell_type": "code",
   "execution_count": 7,
   "metadata": {},
   "outputs": [
    {
     "data": {
      "text/plain": [
       "{'ResponseMetadata': {'RequestId': 'GT15SQAZK2XW2KDT',\n",
       "  'HostId': 'JUkMuFetYf6AUClQaxukcrIrdTudw6zcJgEBFq2GBTt5lY9+a2B0tOaTRqqTpQj4Z+DGqcmZSH8=',\n",
       "  'HTTPStatusCode': 204,\n",
       "  'HTTPHeaders': {'x-amz-id-2': 'JUkMuFetYf6AUClQaxukcrIrdTudw6zcJgEBFq2GBTt5lY9+a2B0tOaTRqqTpQj4Z+DGqcmZSH8=',\n",
       "   'x-amz-request-id': 'GT15SQAZK2XW2KDT',\n",
       "   'date': 'Wed, 21 Sep 2022 10:28:47 GMT',\n",
       "   'server': 'AmazonS3'},\n",
       "  'RetryAttempts': 0}}"
      ]
     },
     "execution_count": 7,
     "metadata": {},
     "output_type": "execute_result"
    }
   ],
   "source": [
    "b.Object(\"data_folder\").delete()"
   ]
  },
  {
   "cell_type": "code",
   "execution_count": 8,
   "metadata": {},
   "outputs": [
    {
     "name": "stdout",
     "output_type": "stream",
     "text": [
      "s3.ObjectSummary(bucket_name='bucket-harun1', key='test.txt')\n",
      "s3.ObjectSummary(bucket_name='bucket-harun1', key='test2.txt')\n"
     ]
    }
   ],
   "source": [
    "for obj in b.objects.all():\n",
    "    print(obj)"
   ]
  },
  {
   "cell_type": "code",
   "execution_count": 9,
   "metadata": {},
   "outputs": [
    {
     "data": {
      "text/plain": [
       "[{'ResponseMetadata': {'RequestId': 'T72PK87XANJ72A3H',\n",
       "   'HostId': 'eWW6kr//d8pbQH30awMa1X4VqO/K4/ZhNtyDsN54xiSssitjzmsrS0zdxOrSJL1NCg3bzYwZq8Y=',\n",
       "   'HTTPStatusCode': 200,\n",
       "   'HTTPHeaders': {'x-amz-id-2': 'eWW6kr//d8pbQH30awMa1X4VqO/K4/ZhNtyDsN54xiSssitjzmsrS0zdxOrSJL1NCg3bzYwZq8Y=',\n",
       "    'x-amz-request-id': 'T72PK87XANJ72A3H',\n",
       "    'date': 'Wed, 21 Sep 2022 10:28:48 GMT',\n",
       "    'content-type': 'application/xml',\n",
       "    'transfer-encoding': 'chunked',\n",
       "    'server': 'AmazonS3',\n",
       "    'connection': 'close'},\n",
       "   'RetryAttempts': 0},\n",
       "  'Deleted': [{'Key': 'test2.txt'}, {'Key': 'test.txt'}]}]"
      ]
     },
     "execution_count": 9,
     "metadata": {},
     "output_type": "execute_result"
    }
   ],
   "source": [
    "b.objects.delete()"
   ]
  },
  {
   "cell_type": "code",
   "execution_count": 10,
   "metadata": {},
   "outputs": [],
   "source": [
    "for obj in b.objects.all():\n",
    "    print(obj.key)"
   ]
  }
 ],
 "metadata": {
  "kernelspec": {
   "display_name": "Python 3.9.12 ('base')",
   "language": "python",
   "name": "python3"
  },
  "language_info": {
   "codemirror_mode": {
    "name": "ipython",
    "version": 3
   },
   "file_extension": ".py",
   "mimetype": "text/x-python",
   "name": "python",
   "nbconvert_exporter": "python",
   "pygments_lexer": "ipython3",
   "version": "3.9.12"
  },
  "orig_nbformat": 4,
  "vscode": {
   "interpreter": {
    "hash": "0a6b6417c5065dbac1d8dd2b982b9db9d8da7340961bf6d1bfc1f74af383bca2"
   }
  }
 },
 "nbformat": 4,
 "nbformat_minor": 2
}
