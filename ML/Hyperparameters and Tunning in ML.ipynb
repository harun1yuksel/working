{
 "cells": [
  {
   "cell_type": "markdown",
   "id": "e8d1d2b1-414b-4b27-ae38-fce11cd41a63",
   "metadata": {},
   "source": [
    "# Hyperparameters and Tunning im ML"
   ]
  },
  {
   "cell_type": "markdown",
   "id": "1e8a9611-8c9c-47c5-81a9-5cadfcd0acde",
   "metadata": {},
   "source": [
    "## Linear Regression"
   ]
  },
  {
   "cell_type": "raw",
   "id": "ba1da067-1956-4c37-ab42-d7d55034cb78",
   "metadata": {},
   "source": [
    "Lasso Regression(L1): mutlak değer\n",
    "Ridge Regression(L2): square"
   ]
  },
  {
   "cell_type": "raw",
   "id": "0b25b7a2-0c22-4343-950b-56d3982e689a",
   "metadata": {},
   "source": [
    "Alfa: \n",
    "If you pick 0 for the alpha parameter in either Lasso and Ridge, you are basically fitting a linear regression, because there is no penalty applied on the OLS part of the formula.\n",
    "\n",
    "Alfa arttıkça modele eklenen hata mikatarı artır regülarizasyon artar ve overfitting düzeltilmeye çalışılır.\n",
    "\n",
    "örnek kullanım : \n",
    "alpha_space = np.linspace(0.1, 1, 100), gridsearch de uç değerler çıkarsa aralık değiştirilir tekrar Gridsearch yapılır.\n",
    "\n",
    "Alfa regülarizasyon doğru orantılı."
   ]
  },
  {
   "cell_type": "raw",
   "id": "9732d591-6030-4317-9816-2dbc9f8eed49",
   "metadata": {},
   "source": [
    "Elastic net: phi değeri ridge ve lassonun hangi oranda kullanılacağını belirler, kodda l1_ratio parametresi ile ifade edilir.\n",
    "\n",
    "l1_ratio=0.5 (default)\n",
    "l1_ratio is used to control the amount of L1 and L2 regularization\n",
    "\n",
    "For l1_ratio = 1 it is an L1 penalty = lasso\n",
    "For l1_ratio = 0 the penalty is an L2 penalty = ridge\n"
   ]
  },
  {
   "cell_type": "markdown",
   "id": "6f679984-367f-4cf2-a5c4-dbd0bd50c707",
   "metadata": {},
   "source": [
    "## Logistic Regression"
   ]
  },
  {
   "cell_type": "raw",
   "id": "804c5aff-c1a7-4df9-8d9d-476e2737c9b9",
   "metadata": {},
   "source": [
    "penalty = l1, l2, elasticnet (default l2)\n",
    "l2 ----> Ridge\n",
    "l1 ----> Lasso"
   ]
  },
  {
   "cell_type": "raw",
   "id": "b5ea5236-ba6c-41cc-9a93-c34285c4db09",
   "metadata": {},
   "source": [
    "C = regülarizasyon parametresi \n",
    "C küçüldükçe regularization artar (bias ekler) (linear regresyonda ki alfa nın tersi, alfa artınca regülarizasyon artıyordu)\n",
    "\n",
    "örnek kullanım:\n",
    "C = np.logspace(-1, 5, 20) \n",
    "\n",
    "C ve regülarizasyon ters orantılı"
   ]
  },
  {
   "cell_type": "raw",
   "id": "a2f140ca-f7e1-4cc7-bab1-e859ba3208bf",
   "metadata": {},
   "source": [
    "class_weight : Class sayıları arasında dengesizlik varsa; sayısı az olan sınıfı daha çok ağırlıklandırır. Yani zayıf olan sınıfa daha çok tahmin yaptırır.\n",
    "class_weight= [\"balanced\", None]"
   ]
  },
  {
   "cell_type": "raw",
   "id": "7287a996-abd5-4f31-8412-082c3803cfb7",
   "metadata": {},
   "source": [
    "solver = [\"lbfgs\", \"liblinear\", \"sag\", \"saga\"]   \n",
    "Gradient descent methodlarından hangisini kullanayım?\n",
    "Eğer data küçükse ''solver : liblinear'', çok büyük datalarda ise ''solver : 'sag'\n",
    "veya ''solver : saga'' iyi bir seçim olabilir"
   ]
  },
  {
   "cell_type": "raw",
   "id": "6bd867f4-034c-4973-8baa-88500e0a6cd8",
   "metadata": {},
   "source": [
    "multi_class = 'ovr' (default = 'auto')\n",
    "ROC/AUC çizerken 2 sadece binary olanları çizebiliyor. misal ikiden fazla, 0, 1, 2 diye üç sınıf olsun.  Burdaki 3 sınıfı çizmek için herhangi bir sınıfı alıp geri kalanına tek bir sınıf gibi davranır. Böylece 2 sınıf varmış gibi olur. \n",
    "Tüm ihtimaller için bunu yapar ve çizgilerini çizer. \n"
   ]
  },
  {
   "cell_type": "markdown",
   "id": "c39700c2-bb95-47e4-9132-2cd4dfb2c0de",
   "metadata": {},
   "source": [
    "# K Nearest Neighbors (KNN)"
   ]
  },
  {
   "cell_type": "raw",
   "id": "308fd467-e56d-4572-a98e-c1fede953a38",
   "metadata": {},
   "source": [
    "\"k\"= \n",
    "Sample in hangi class a atilacagina k komsuluk sayisina gore karar verir.Bu yuzden k secimi cok onemlidir.\n",
    "Ornegin,k=5 verilirse en yakin 5 komsuya bakar,encok hangi class tan eleman var ise sample i o class a atar.\n",
    "\n",
    "Elbow medoduna göre k seçilebilir, (gridsearch ile de seçilebilir ama elbow daha değerli.)\n",
    "\n",
    "Eger k degeri cok buyuk secilirse \"large bias\" durumu ortaya cikar, Underfit \n",
    "Eger k degeri cok kucuk secilirse overfit durumu ortaya cikar.\n",
    "\n",
    "overfit < k < underfit"
   ]
  },
  {
   "cell_type": "raw",
   "id": "83b71667-48be-4107-870f-be8b1a41b8e2",
   "metadata": {},
   "source": [
    "Weights =>{'uniform','distance'}\n",
    "\n",
    "#uniform(default deger) = her bir komsunun 1 oyu var \n",
    "\n",
    "#distance = Yakin olan komsunun oyu daha değerli"
   ]
  },
  {
   "cell_type": "raw",
   "id": "82081d4a-842b-463f-b73e-ae1b25eaa0c1",
   "metadata": {},
   "source": [
    "Metric => Mesafe hesabi yapan nasıl yapılacak \n",
    "\n",
    "Euclidean Distance : hipotenüs (kuş uçusşu)\n",
    "\n",
    "Manhattan Distance : dik kenarlar\n",
    "\n",
    "minkowski: yukarıdakilerin karisimi olan default parametre\n",
    "\n"
   ]
  },
  {
   "cell_type": "raw",
   "id": "7adff9cc-dd09-4ff4-aab0-cdcb4423059c",
   "metadata": {},
   "source": [
    "p=> Minkowski parametresi icin kullanilan bir parametre\n",
    "\n",
    "p=1 => Manhattan distance gibi davranir (outlier a dirençli, multidimensinal data (5+) iyi) \n",
    "p=2 => Euclidean distance gibi davranir (small dimensional data)\n",
    "\n"
   ]
  },
  {
   "cell_type": "markdown",
   "id": "049f5713-41b2-437a-8aa2-35eb1f69854d",
   "metadata": {},
   "source": [
    "# SVM"
   ]
  },
  {
   "cell_type": "raw",
   "id": "5e4ddad4-c0ac-42ea-97f1-6bec910d3393",
   "metadata": {},
   "source": [
    "C parameter(default=1)\n",
    "\n",
    "Regülarizasyon parametresi (logistik reg deki gibi C azaldıkça regülarizasyon artar.)\n",
    "\n",
    "Support vektörlerin açısını belirleyip, Marginin genişliğini ayarlar \n",
    "C artınca Margin hard laşır(overfitting).\n",
    "C azalınca softmargin olur bazı hataları kabul etmekle birlikte daha iyi genelleme yapar."
   ]
  },
  {
   "cell_type": "raw",
   "id": "42720676-151f-4143-8489-4e94bf6c7649",
   "metadata": {},
   "source": [
    "Kernel Parametresi, default(rbf)\n",
    "\n",
    "#1-Linear Kernel ; Feature sayısı fazla, satır sayısı az ise önerilir\n",
    "#2-Polynomial Kernel\n",
    "#3-rbf; Complex ve nonlinear datalarda tercih edilir.(Lineer datalarda bile kullanılabilir). Feature sayısı az satır sayısı fazla ise önerilir \n",
    "#4-sigmoid(Deep learning de kullanılır)\n",
    "#5-precomputed(kendine güveniyorsan kendi kernelini kendin hesapla,buraya at)"
   ]
  },
  {
   "cell_type": "raw",
   "id": "ae93e948-8f68-425f-b587-0d05fc953ad9",
   "metadata": {},
   "source": [
    "Gama Parameter {'scale', 'auto'} or float, default='scale'\n",
    "Nonlinear kernellerde (rbf, poly, sigmoid) kernel katsayısını belirler.\n",
    "\n",
    "#Modelin complexity sini ayarlar.\n",
    "#Gamma arttıkça complexity artar, overfitting olabilir. (C parametresi gibi)\n",
    "\n",
    "GAMMA -------> \n",
    "\n",
    "#Cizilen margin' in alanini belirler. Gamma arttikca complexity artar.\n",
    "#nonlinear datalarda kullanilir."
   ]
  },
  {
   "cell_type": "raw",
   "id": "e4fe8f94-2c97-4379-b42f-091d892cd5e1",
   "metadata": {},
   "source": [
    "DEGREE  default = 1 \n",
    "\n",
    "kernel = 'poly' secildiginde polinomun derecesini belirler. \n",
    "Diger butun durumlarda degree = 1' dir."
   ]
  },
  {
   "cell_type": "raw",
   "id": "03ae325c-96e8-4980-bd20-5fc1e848e0da",
   "metadata": {},
   "source": [
    "SVM de arka plandal2 regularization normu çalıştığı için overfittingle mücadele ediyor"
   ]
  },
  {
   "cell_type": "raw",
   "id": "5feb56c3-63a9-477d-bab8-f3958b3cc194",
   "metadata": {},
   "source": [
    "class_weight = dict or 'balanced', default=None   \n",
    "Targetdaki sınıf sayıları dengeli değilse \"balanced\" kullanılır."
   ]
  },
  {
   "cell_type": "raw",
   "id": "6967998a-b2e6-48ea-85e5-1103062b576a",
   "metadata": {},
   "source": [
    "probability = True (default False) \n",
    "Olasılıkları muhafaza et. ROC çizdirirken lazım olarak"
   ]
  },
  {
   "cell_type": "markdown",
   "id": "7068608b-577c-47ac-ba98-e9463715c06e",
   "metadata": {},
   "source": [
    "# Desicion Tree"
   ]
  },
  {
   "cell_type": "raw",
   "id": "3594df2d-1abb-47e0-afaa-3560333a0621",
   "metadata": {},
   "source": [
    "Hangi nodun root olacağına Gini index veya Entropi ölçümüne dayanan Information Gain karar verir.\n",
    "\n",
    "Gini index ve Entropi aynı amaçla kullanılan iki farklı ölçümdür. Algoritmamız ya gini index yada entropiye yani information gain e göre karar verir."
   ]
  },
  {
   "cell_type": "markdown",
   "id": "1baf2898-6a5c-4d96-b2c9-1e6cdda92485",
   "metadata": {
    "tags": []
   },
   "source": [
    "## Gini index and Entropy"
   ]
  },
  {
   "cell_type": "raw",
   "id": "f89a84f7-3619-458a-8d7e-40fda602c1fd",
   "metadata": {},
   "source": [
    "Gini impuriy index. Impurity i ölçer. Bir nodun impurity derecesini gösterir.\n",
    "\n",
    "Önce bir nodun altındaki leaflerdeki GI ölçülür sonra bu iki leaf in ağırlıklı ortalaması bize o nodun GI sini verir.\n",
    "\n",
    "                      whether is sunny.\n",
    "                      /              \\ \n",
    "        True         /                \\        False\n",
    "      go out?                                 go out?\n",
    "    yes     no                               yes     no\n",
    "    ---    ----                              ---    ----\n",
    "     x      y                                 z       t                    \n",
    "\n",
    "\n",
    "Gini index = 1 - [yes oranının karesi] - [no oranının karesi]\n",
    "\n",
    "True leaf için\n",
    "        GI = 1 -     [x/(x + y)]**2    -    [y/(x + y)]**2 \n",
    "\n",
    "False leaf için \n",
    "        GI = 1 -     [z/(z + t)]**2    -    [t/(z + t)]**2 \n",
    "\n",
    "\n",
    "örnek:\n",
    "\n",
    "                      whether is sunny.\n",
    "                      /              \\ \n",
    "        True         /                \\        False\n",
    "      go out?                                 go out?\n",
    "    yes     no                               yes     no\n",
    "    ---    ----                              ---    ----\n",
    "     10      0                                4       4\n",
    "\n",
    "\n",
    "     \n",
    "True leaf için hesaplayalım:\n",
    "\n",
    "GI = 1 - [(10/10)**2] - [(0/10)**2] = 1 - 1 - 0\n",
    "GI = 0 yani leaf tam olarak saf demek. Yani tüm yanıtlar yes yada no. \n",
    "GI = 0 ise impurity durumu yok leaf tam olarak pure.\n",
    "\n",
    "\n",
    "False leaf için hesaplayalım:\n",
    "GI = 1 - [(4/8)**2] - [(4/8)**2] = 1 - (1/4) - (1/4) = 0.5\n",
    "(yes ve no eşit olunca  GI 0.5 çıkar.)\n",
    "\n",
    "\n",
    "\"whether is sunny.\" nodunun GI sini bulmak için her iki leaf GI sinin ağırlıklı orlamasını alıyoruz.                  \n",
    "total GI for \"whether is sunny.\" = (10/18 * 0) + (8/18 * 0.5) = 0.222\n",
    "\n",
    "Gini index ne kadar düşükse saflık o kadar fazladır. Yani bu feature ın ayrım gücü çok fazladır.\n",
    "Bu yüzden, GI si en düşük olan feature root node olarak seçilir.\n"
   ]
  },
  {
   "cell_type": "raw",
   "id": "dd5599d2-f86d-4594-ab9a-a0a5d43a8d6e",
   "metadata": {},
   "source": [
    "Entropi\n",
    "Belirsizlik veya uncertainty yi ifade eder.\n",
    "\n",
    "Entropi = H(s) = -(yes oranı)log₂(yes oranı) - (no oranı)log₂(no oranı)\n",
    "\n",
    "\n",
    "                      whether is sunny.\n",
    "                      /              \\ \n",
    "        True         /                \\        False\n",
    "      go out?                                 go out?\n",
    "    yes     no                               yes     no\n",
    "    ---    ----                              ---    ----\n",
    "     10      0                                4       4\n",
    "\n",
    "örnekte \n",
    "True leaf için: \n",
    "          H(s) = -(10/10)log₂(10/10) - (0/10)log₂(0/10)\n",
    "          H(s) =     -1  *   0       -    0  *  0     \n",
    "          H(s) = 0 \n",
    "Entropi O çıktı  çünkü belirsizlik yok bütün örnekler yes te toplanmış. (GI gibi)          \n",
    "          \n",
    "False leaf için: \n",
    "          H(s) = -(4/8)log₂(4/8) - (4/8)log₂(4/8)\n",
    "          H(s) =  -0.5  * (-1)   -  0.5  * (-1)    \n",
    "          H(s) = 1\n",
    "          \n",
    "Entropi 1 çıktı  çünkü örnekler eşit dağılmış maximum entropi var. (GI e benzer ama GI bu durumda max 0.5 oluyor.) \n",
    "\n",
    "Örneklerin hepsi bir gruba aitse entropi 0 olur. Maximum saflık.\n",
    "Örnekler eşit dağılmışs entropi 1 olur. Maksimum belirsizlik.\n",
    "Entropi değeri 0-1 arasında değişir.\n",
    "\n",
    "Bir noddaki entropi (parent node) ile bu nodun altındaki iki noddaki (child nodes) entropiler toplamının farkı information gaindir. IG nin büyük olması bu noddan sonra entropinin azaldığının göstergesidir.\n",
    "IG en büyük olan node root node olarak seçilir."
   ]
  },
  {
   "cell_type": "raw",
   "id": "b68c3dd4-bee3-490f-82b5-0212e36a5724",
   "metadata": {},
   "source": [
    "Gini index ve Entropinin düşük olması o leafteki saflığın fazla olmasını ifade eder.\n",
    "\n",
    "Information Gain in yüksek olması o noddan sonra entropinin azaldığını yani saflığın artığını gösterir.\n",
    "\n",
    "Bu nedenle root node seçiminde Gini indexin düşük olmasını, Information gainin yüksek olmasını istiyoruz. "
   ]
  },
  {
   "cell_type": "markdown",
   "id": "475dba97-383b-4e20-9d29-e0b445a215cd",
   "metadata": {},
   "source": [
    "## Hyperparameters of DT"
   ]
  },
  {
   "cell_type": "raw",
   "id": "ea1cb1de-3022-4c47-96a3-92615afe76ef",
   "metadata": {},
   "source": [
    "criterion : {\"gini\", \"entropy\"}, default=\"gini\"\n",
    "hangi feature root node olacak bunu belirleyen yöntem."
   ]
  },
  {
   "cell_type": "raw",
   "id": "d8032ed5-1508-4fc9-9acd-85c927727923",
   "metadata": {},
   "source": [
    "max_depth: Ağaç ne kadar aşağıya dallanacak.\n",
    "\n",
    "Default None(Ağaç aşağı dallanmaya devam eder None da ve overfit e gider)\n",
    "\n",
    "En önemli parametre max_depth. Tree modellerinde ilk müdahale max_depth e yapılır"
   ]
  },
  {
   "cell_type": "raw",
   "id": "f3a05826-2d42-45c1-8070-05ef4882f374",
   "metadata": {},
   "source": [
    "# splitter: Nereden böleceğine karar veriyor (\"best\", \"random\")\n",
    "default \"best\""
   ]
  },
  {
   "cell_type": "raw",
   "id": "976e9432-0c7f-446b-99c5-942a3c2628df",
   "metadata": {},
   "source": [
    "# min sample_split: Dallanmayı yapması için min gözlem sayısı\n",
    "default 2"
   ]
  },
  {
   "cell_type": "raw",
   "id": "9b1b2b89-b3fd-4512-afe7-ee26bd9d2963",
   "metadata": {},
   "source": [
    "# min_samples_leaf: Yaprakların yaprak olması için minimum kaç gözlem olması gerekiyor\n",
    "default 1"
   ]
  },
  {
   "cell_type": "markdown",
   "id": "06f8bb3a-0e8a-4e10-862f-2c77aae25bd4",
   "metadata": {},
   "source": [
    "# Random Forest"
   ]
  },
  {
   "cell_type": "raw",
   "id": "93430f7b-354a-4766-9018-144a48f0e5dd",
   "metadata": {},
   "source": [
    "n_estimators:\"Kaç tane ağaç kurulsun?(default=100)\""
   ]
  },
  {
   "cell_type": "raw",
   "id": "7f8d5cfe-bf57-4675-aa19-d3ff481d3124",
   "metadata": {},
   "source": [
    "max_depth:Dalları budama işlemi.(\"Kaç adım gideyim?\")(default=none)"
   ]
  },
  {
   "cell_type": "raw",
   "id": "e91cc5ef-14fe-43c4-a66f-b2e6a900cc62",
   "metadata": {},
   "source": [
    "max_feature:\"Featurelardan rasgele kaçını alayım\""
   ]
  },
  {
   "cell_type": "raw",
   "id": "f5335bc9-dd1f-4a62-b07d-1ef1f57572a7",
   "metadata": {},
   "source": [
    "min_samples_split:\"Bölmek için bir nodda kaç sample bulunsun?\"(default=2)"
   ]
  },
  {
   "cell_type": "raw",
   "id": "5e398f0d-cdce-4d18-8d21-5d7931402404",
   "metadata": {},
   "source": [
    "bootstrapbool: False olursa verisetinin hepsini kullanır yani bootstrap i kullanmaz"
   ]
  },
  {
   "cell_type": "raw",
   "id": "efa05f13-670d-41f6-b533-798f3a9505b8",
   "metadata": {},
   "source": [
    "oob_scorebool: default False\n",
    "oob=out of bag(Set)\n",
    "Bootstrap yapıldıktan sonra out of bag ler validation için kullanılsın mı? True-False"
   ]
  },
  {
   "cell_type": "markdown",
   "id": "1ff3240c-b5e4-4523-970b-639b73137d99",
   "metadata": {},
   "source": [
    "# Adaboost"
   ]
  },
  {
   "cell_type": "raw",
   "id": "efc756e8-7c7e-4e19-b758-5bb42accd59c",
   "metadata": {},
   "source": [
    "BASE_ESTIMATOR -----> (Default= None) 'None' ise DecisionTreeClassifier kullanır ve\n",
    "max_depth=1 olarak kabul eder. Stump lar oluşur"
   ]
  },
  {
   "cell_type": "raw",
   "id": "b9571d06-b557-4c19-9ee9-c73b8a2e115e",
   "metadata": {},
   "source": [
    "n_estimators: kaç model olacak, default 50"
   ]
  },
  {
   "cell_type": "raw",
   "id": "da12b880-71ac-4105-90b1-0cb9c6041e97",
   "metadata": {},
   "source": [
    "LEARNING_RATE -----> Bir sonraki agaca gozlemleri aktarirken ne kadar agirliklandirma yapilacagina karar verir. (Default=1)\n",
    "\n",
    "Default'un 1 olmasi hatalı gözlemlerin sayısını bir sonraki agacta cok artir ve bu yanlis tahmini bir an once bil demek. \n",
    "Bu durumun modeli overfitting' e goturme tehlikesi var. \n",
    "Mesela 0.5 oldugu zaman cok daha az artirir yani daha az agirliklandirma yapar.\n",
    "\n",
    "learning_rate duserse agac sayisi artar. Bu yuzden agac sayisi ile learning_rate arasinda bir oranti olmali. \n",
    "Istenen durum; learning_rate dusuk olsun, agac sayisi yuksek olsun. Default=1' deki gibi cok agresif davranmasin."
   ]
  },
  {
   "cell_type": "markdown",
   "id": "1df16608-385c-4228-a6f9-34408617e369",
   "metadata": {},
   "source": [
    "# Gradient Boosting"
   ]
  },
  {
   "cell_type": "raw",
   "id": "ba115fe2-277f-4d30-b98b-1fc1a145b759",
   "metadata": {
    "tags": []
   },
   "source": [
    "MAX_DEPTH -----> (Default=3)\n",
    "Bu deger bazen 2 yapildiginda sonuclar daha da iyilesebiliyor fakat artirmak tavsiye edilmez. \n",
    "Weak learner oldugu icin model daha zayif hale getirildiginde tahminler daha iyi bir hale gelebilir."
   ]
  },
  {
   "cell_type": "raw",
   "id": "39ee2857-0c01-445d-a906-7ee78bffcfd4",
   "metadata": {},
   "source": [
    "N_ESTIMATOR -----> (Default=100). Arka arkaya eklenecek agac adedi."
   ]
  },
  {
   "cell_type": "raw",
   "id": "4b47bda5-9d82-47c6-b866-7faf19bc6a7c",
   "metadata": {},
   "source": [
    "LEARNING_RATE -----> (Default=0.1) Her agacin ne kadar katkida bulunacagini gosterir. Bu deger buyudugu zaman agac sayisi azalir."
   ]
  },
  {
   "cell_type": "raw",
   "id": "a06424f1-1cf5-4de3-8b3d-bba01d84ccfd",
   "metadata": {},
   "source": [
    "SUBSAMPLE ------> (Default=1) Yani ilk agaca butun datayi ver. \n",
    "Kaynaklarda GridSearch' de 0.5 ile 0.8' in de denenmesi tavsiye edilir."
   ]
  },
  {
   "cell_type": "raw",
   "id": "53493669-7c22-4610-b0c7-54acd34e24fe",
   "metadata": {},
   "source": [
    "LOSS -----> (Default='deviance'). \n",
    "Bu parametrenin aciklama kismina bakarsak; deviance=Logistic regression yaziyor. Yani oranlari olasiliga donustururken arka planda Logistic Regression kullanir. Yani Gradient Descent bir model ile Tree based modelleri birlestirir. Fakat burda Logistic Regression icindeki Ridge Lasso gibi parametreleri oynayamayiz. XGBoost modelde bunlari da oynayabilecegiz.\n"
   ]
  },
  {
   "cell_type": "raw",
   "id": "3f186808-5fc7-42c9-8ea4-2480a35ca5e6",
   "metadata": {},
   "source": [
    "CRITERION -----> (Default='friedman_mse'). Root node u belirlemek için kullanılır.\n",
    "\n",
    "Bu bir regression parametresidir fakat Friedman tarafindan class' lar icin optimize edilmistir. \n",
    "Classification' da kullanilan Gini yerine bunu kullanir cunku arka planda Gradient Descent tabanli calisiyor."
   ]
  },
  {
   "cell_type": "raw",
   "id": "6c18fc28-cbdf-4369-9da7-a13993b347cc",
   "metadata": {},
   "source": [
    "MIN_SAMPLE_SPLIT -----> (Default=2)"
   ]
  },
  {
   "cell_type": "raw",
   "id": "0be49be3-2a3d-45e1-af92-a19a913cc416",
   "metadata": {},
   "source": [
    "MIN_SAMPLES_LEAF ------. (Default=1)"
   ]
  },
  {
   "cell_type": "raw",
   "id": "4dfc70e7-d09f-49e4-8946-22c7f732831a",
   "metadata": {},
   "source": [
    "MAX_FEATURE -----> (Default=None). \n",
    "Ornegin 5 degeri girildiginde feature' lar icinden rastgele 5 tane secer ve bunlar icindeki en iyi featuerı root node yapar."
   ]
  },
  {
   "cell_type": "markdown",
   "id": "cbca0e69-d307-4402-8dae-01189d2f3bf2",
   "metadata": {},
   "source": [
    "# XGBosst"
   ]
  },
  {
   "cell_type": "raw",
   "id": "a31ef814-9e6b-4029-ae02-3bcf5620ec35",
   "metadata": {},
   "source": [
    "max_depth:default=3(Ağaç ne kadar aşağı gitsin)"
   ]
  },
  {
   "cell_type": "raw",
   "id": "1fb11b08-9c5b-488a-a4a0-4b91604353bc",
   "metadata": {},
   "source": [
    "n_estimator:default=100"
   ]
  },
  {
   "cell_type": "raw",
   "id": "83a8cabc-37e1-4c96-8b94-8761d8871a1b",
   "metadata": {},
   "source": [
    "learning_rate:default:0.1(Hear ağaç ne kadar katkıda bulunsun)"
   ]
  },
  {
   "cell_type": "raw",
   "id": "d342eb6d-842e-453b-8098-5b0468218ab3",
   "metadata": {},
   "source": [
    "subsample:default(bölmeden bütün veriyi kullan)=1.0"
   ]
  },
  {
   "cell_type": "raw",
   "id": "be93ed01-afde-4b7f-837c-2d9d8bc63015",
   "metadata": {},
   "source": [
    "OBJECTIVE -----> (Default='binary:logistic') Arka planda Logostoc Regression' i kullanir.\n",
    "Gredient Boost modelde bu parametrenin adi loss idi."
   ]
  },
  {
   "cell_type": "raw",
   "id": "f0479382-7327-475f-b934-1fd919990cc6",
   "metadata": {},
   "source": [
    "BOOSTER -----> (Default='gbtree') \n",
    "Tree modellerle Gradient tabanli modelleri birlestirmeye yardim eden parametre."
   ]
  },
  {
   "cell_type": "raw",
   "id": "fc035da0-3582-459c-9a96-335673a3cf0f",
   "metadata": {},
   "source": [
    "REG_ALPHA -----> (Default=0) Lasso degeridir (l1)"
   ]
  },
  {
   "cell_type": "raw",
   "id": "30f15b00-573c-4aaa-9c3a-86d74de0f528",
   "metadata": {},
   "source": [
    "REG_LAMBDA -----> (Default=1) Ridge degeridir. (l2) \n",
    "Arka planda Ridge ve Lasso ile regularization islemi de yapabiliriz."
   ]
  },
  {
   "cell_type": "raw",
   "id": "0eb9b205-8cdb-4079-93e8-38564b5cb664",
   "metadata": {},
   "source": [
    "SCALE_POS_WEIGTH -----> (Default=1). \n",
    "Onceki modellerde dengesiz veri setleri #icin 'balanced' islemi vardi. Burda onun yerine bu parametre var. (Gradient Boosting' de bu ozellik yok)"
   ]
  },
  {
   "cell_type": "raw",
   "id": "35fb9f91-89b7-43d0-8caf-5625ae214b56",
   "metadata": {},
   "source": [
    "IN_CHILD_RATE -----> (Default=1). Overfitting durumu varsa kullanilabilir; \n",
    "#Lasso gibi davranir. 1 den daha buyuk degerler de verilebilir. Feature importance da bu parametreye yuksek degerler verilirse bazi feature' larin cok onemsizlestigi veya tamamen sifirlandigi gozlemlenebilir. \n",
    "Bu deger ile oynayarak da overfitting ile mucadele edilebilir."
   ]
  },
  {
   "cell_type": "raw",
   "id": "c9212b40-80a6-4d2d-ae8e-87ef34d190d2",
   "metadata": {},
   "source": [
    "SUBSAMPLE -----> (Default=1). \n",
    "Her agacta gozlemin ne kadarini kullansin? 0.5 ile 0.8 degerleri de GridSearch' de denenmeli."
   ]
  },
  {
   "cell_type": "raw",
   "id": "8d297d1d-9fb7-43df-816f-c9195f32b59c",
   "metadata": {},
   "source": [
    "COL_SAMPLE_BYTREE -----> (Default=1). \n",
    "max_feature yerine bu parametre var. 0 ile 1 arasinda deger alir. Feature' larin yuzde kacini kullanmasini istedigimizi soyleriz. Bu feature'lari rastgele secer, aralarindan en iyisi ile isleme baslar."
   ]
  },
  {
   "cell_type": "raw",
   "id": "a07ae4b6-c2de-4eac-9eb8-d3b9fd088e62",
   "metadata": {},
   "source": [
    "GAMMA -----> (Default=0) 0 ile sonsuz arasinda bir deger alir. \n",
    "Hangi datada hangi degeri alacagini bilemiyoruz. Bazi datalarinda 1 degeri, bazi datalarda 1 milysr degeri overfitting' i engeller. Kaggle yarismalarinda yarismacilar tarafindan cok kullanilir. \n",
    "\n",
    "Diyelim ki overfitting sorunu var, once min_child_rate i kullandik fakat bir sonuc alamadik gamma' ya cok cok buyuk degerler de dahil olmak uzere degerler verip overfitting ile mucadele etmesini saglayabiliriz."
   ]
  },
  {
   "cell_type": "raw",
   "id": "a9dd651c-8ab3-4588-805b-f7d8e27c52be",
   "metadata": {},
   "source": [
    "Bu modelin cok fazla parametresi oldugu icin overfitting durumlarinda GridSearch isleminden once max_depth, min_child_rate, gamma parametreleri kullanilarak manuel olarak overfitting ile mucadele etmeye calisip sonra GridSearch' e gitmek mantikli olur."
   ]
  },
  {
   "cell_type": "raw",
   "id": "23a6355f-ca5a-46de-b9f8-c5e2b6aaafe7",
   "metadata": {},
   "source": [
    "Verbosity -----> Model arkada calisirken rapor yazsin mi yazmasin mi? (Onemli bir parametre degil.)"
   ]
  },
  {
   "cell_type": "markdown",
   "id": "6df1b8b1-fd00-414b-bfdd-4344375282e8",
   "metadata": {},
   "source": [
    "# Unsupervised Learning"
   ]
  },
  {
   "cell_type": "markdown",
   "id": "13057262-3a5a-4f2a-97be-b8a6d9775c7e",
   "metadata": {},
   "source": [
    "## K Means"
   ]
  },
  {
   "cell_type": "raw",
   "id": "31cafb4d-a494-41ae-8912-39b876b65fb1",
   "metadata": {},
   "source": [
    "Centroids: Datadaki kümelerin algoritma sonunda etrafında toplandığı merkez. Algoritma başında rastgele seçilen data noktalarıdır. Algoritma ilerledikçe iteratif olarak centroidin yeri değişir, kümeleme değişir, centroid tekrar update edilir kümeleme yenilenir, bu süreç iteratif olarak ilerler, optimum kümelemeyi bulmaya çalışır."
   ]
  },
  {
   "cell_type": "raw",
   "id": "98885c90-cc14-4c89-9357-41e4dcb93051",
   "metadata": {},
   "source": [
    "Hopkins testi: Datanın kümelemeye ne kadar elverişli olduğunu söyler. \n",
    "0.5 in altındaki değerler iyi kümeleme olabileceğini bildirir."
   ]
  },
  {
   "cell_type": "raw",
   "id": "c495b91f-ab4b-48a8-9534-0df4fc1322e1",
   "metadata": {},
   "source": [
    "Silhoutte skore; kümelemenin kalitesini gösterir. \n",
    "Yüksek skorlar daha iyidir.\n",
    "+1 e yakın skorlar iyi, -1 yakın skorlar kötü\n",
    "\n",
    "Silhouette kumelerin hem kendi iclerinde ne kadar siki bir sekilde kumelendigini hem de diger kumeye ne kadar uzak oldugunu olcer.\n",
    "\n",
    "Inertia ise her kume icindeki verilerin merkez etrafinda ne kadar siki kumelendiginin skorunu ölçer"
   ]
  },
  {
   "cell_type": "raw",
   "id": "05cbe979-cdbb-4d38-9cea-6807e94355c9",
   "metadata": {},
   "source": [
    "#model.inertia_ --------> Olusturulan her kume icin kume elemanlarinin merkeze olan uzakliklarini olcer ve bunlarin karesini alir. Cikan degerleri toplar ve #ortalamasini alir. Kumelerden hesaplanan degerler ne kadar kucukse, kume elemanlari merkeze o kadar yakin demektir. Inertia degeri yuksek cikarsa kume elemanlari genis alana yayilmis demektir.\n",
    "\n",
    "#En az inertia degeri hangi k degerinde cikarsa o k degerini secmek mantikli olur."
   ]
  },
  {
   "cell_type": "raw",
   "id": "30d4f21e-b488-4512-951b-c23e45d12084",
   "metadata": {},
   "source": [
    "Adjusted Rand score-index (ARI); kümelemenin kalitesini gösterir. \n",
    "negatif yada 0 a yakın skorlar kötü, 1 e yakın skorlar iyi."
   ]
  },
  {
   "cell_type": "raw",
   "id": "e203dae9-0b4b-4ecf-9086-eaa0998ba799",
   "metadata": {},
   "source": [
    "N_CLUSTERS -------> Kac kume olussun? (Default=8)"
   ]
  },
  {
   "cell_type": "raw",
   "id": "d30bb0a9-87fe-4901-9a28-0bf397413d7c",
   "metadata": {},
   "source": [
    "K seçimi; Kaç kümeleme olsun\n",
    "Domain bilgisi e Elbow metodu ile karar verilir."
   ]
  },
  {
   "cell_type": "raw",
   "id": "ede60760-6562-4967-aa18-12735c87e524",
   "metadata": {},
   "source": [
    "INIT --------> (init='k-means++') \n",
    "Random noktalari verilerin yogunlastigi yerlerin orta noktalarindan secer. En iyi kumeyi bulma islemini hizlandirir."
   ]
  },
  {
   "cell_type": "raw",
   "id": "3caa336d-6c05-48da-af68-5f0721c144fb",
   "metadata": {},
   "source": [
    "n_init: default 10\n",
    "ilk sentroitler random atanır.\n",
    "Number of time the k-means algorithm will be run with different centroid seeds. The final results will be the best output of n_init consecutive runs in terms of inertia."
   ]
  },
  {
   "cell_type": "raw",
   "id": "277782b7-8c6b-4a76-a662-a97d314b72d5",
   "metadata": {},
   "source": [
    "MAX_ITER ------> Iterasyon sayisini manuel olarak ayarlamamizi saglar (Default=300). \n",
    "Cok buyuk datalarda 300 yetersiz kalir. Bu durumlarda k-means algoritmasi uyari verir."
   ]
  },
  {
   "cell_type": "markdown",
   "id": "b8c7c8b2-4cee-4437-8878-a2f3994f9b84",
   "metadata": {},
   "source": [
    "## Hierarchical Clustering"
   ]
  },
  {
   "cell_type": "raw",
   "id": "9a561c40-2bc6-4070-891e-1e5a2a85a93d",
   "metadata": {},
   "source": [
    "Kümeleme için dendogramlar kullanılır."
   ]
  },
  {
   "cell_type": "raw",
   "id": "9239fd78-69b9-4978-a575-ce17ae2bf105",
   "metadata": {},
   "source": [
    "Aglomeratif yöntem; bottom to top, daha yaygın kullanılır.\n",
    "Divisive yöntem top to bottom k means gibi bir yöntemle datayı bölerek ilerler; nadir kullanılır."
   ]
  },
  {
   "cell_type": "raw",
   "id": "3951cf03-01ef-45bc-b630-1b157de51531",
   "metadata": {},
   "source": [
    "K-means algoritmasinda oldugu gibi kumelerin kendi icinde ne kadar yogun olarak kumelendigini olcen bir inertia degeri bu algoritmada yok. Burada kumeler arasi mesafeye gore bir karar verilir. Bu yuzden dendogram ile alinan kumeleme kalitesi k-mean' den daha dusuk olabilir."
   ]
  },
  {
   "cell_type": "raw",
   "id": "75eadde9-2063-45b0-be5b-eb7bf3a8033b",
   "metadata": {},
   "source": [
    "Linkage(Default='ward') {'ward','complete','average','single'}\n",
    "\n",
    "#average: data noktasini hangi clusterin meanine daha yakinsa ona atar\n",
    "#complete:Clusterlarin en uzak noktasini bulur.Bunlar icin en yakin olana atama yapar\n",
    "#Single:En yakin nokta hangisi ise onun clusterına atar.\n",
    "\n",
    "#!!!!!Complete:Noise datalarda iyi calisir fakat buyuk clusterlar olur\n",
    "#!!!!!Single grift datalarda kotu calisir(Complete in aksine)\n",
    "#ward:Kumelerin icinin varyansinin en az olmasini saglayacak sekilde calisir, Datayi hangisine eklendiginde varyans az olacaksa ona ekler"
   ]
  },
  {
   "cell_type": "raw",
   "id": "06ced0e9-5ef9-4314-96f3-457ee7ea78fe",
   "metadata": {},
   "source": [
    "affinity(Default='euclidean'): Distance parametresidir\n",
    "#{'euclidean','manhattan','cosine','precomputed'}\n",
    "#!!!! 'euclidean' sadece 'ward' ile kullanilir"
   ]
  },
  {
   "cell_type": "markdown",
   "id": "016ea311-9d6f-456f-b2bc-207121f33185",
   "metadata": {},
   "source": [
    "## Principal Compnent Analysis(PCA):"
   ]
  },
  {
   "cell_type": "raw",
   "id": "db8e6018-e79e-4852-a39e-281d1f60c9ae",
   "metadata": {},
   "source": [
    "Eger data linear bir modele uygunsa veya datada cok kuvvetli feature' lar varsa PCA cok guzel sonuclar verir. Bu durumlarda 30 feature ile elde edilen 2 component ile, alinan skorlar cok iyi olabilir. Data linear degilse veya cok kuvvetli feature' lar yoksa boyut cok fazla kucultulemez ve iyi sonuclar alinmaz. \n",
    "Mesela 100 feature' li linear veya guclu feature' lari olan bir datadan 10 component ile varyansin %90' i alinabilir. Fakat bu data nonlinear ise belki 50 component ile ancak varyansin %90' i alinabilir."
   ]
  },
  {
   "cell_type": "raw",
   "id": "65dca17a-b47f-4c6d-9d07-febf4d3f05e8",
   "metadata": {},
   "source": [
    "N_COMPONENTS ----> Datadaki feature ve sample sayisindan hangisi min ise o kadar sayida component alir. (Default=None)\n",
    "\n",
    "n_components : int, float or 'mle', default=None\n",
    "    Number of components to keep. if n_components is not set all components are kept:\n",
    "        n_components == min(n_samples, n_features)\n"
   ]
  },
  {
   "cell_type": "raw",
   "id": "d103b8e2-b5cd-469e-b1cb-5c3b1fb04dc0",
   "metadata": {},
   "source": [
    "n_component=2 dedigimizde 30 feature' dan 2 component oluşur. Bu iki component' in icinde her feature' dan belli oranlarda mutlaka bilgi vardir. Genellikle ilk component' te tum feature' lardan cok daha fazla katkilar vardir. Sonraki gozlemlerde bu oran gittikce duser. \n",
    "Bilgiyi aktarma isleminde devreye Eigenvector' ler girer. Eigenvector degeri ile feature' daki deger carpilip toplanir ve boylece component degerleri elde edilmis olur. "
   ]
  },
  {
   "cell_type": "markdown",
   "id": "f966abd3-ed41-4335-a8b2-e9396ae4e182",
   "metadata": {},
   "source": [
    "# Scalling"
   ]
  },
  {
   "cell_type": "markdown",
   "id": "5d1d806f-8284-4da0-834a-12e5288c5945",
   "metadata": {},
   "source": [
    "## Scalling is needed"
   ]
  },
  {
   "cell_type": "raw",
   "id": "33b7130c-53ef-49d5-a8a8-99f7d0cebc0b",
   "metadata": {},
   "source": [
    "linear Reg\n",
    "logistic Reg\n",
    "K NN\n",
    "SVM\n",
    "K Means clustering\n",
    "Hierarchical Clustering\n",
    "PCA"
   ]
  },
  {
   "cell_type": "markdown",
   "id": "c3d840c1-0e4c-4654-8dbc-2fd353a97c98",
   "metadata": {},
   "source": [
    "## Scalling is not needed"
   ]
  },
  {
   "cell_type": "raw",
   "id": "6402e69c-e6a0-4d1d-a072-3e14eb6ed81e",
   "metadata": {},
   "source": [
    "Decision tree\n",
    "Random Forest\n",
    "Adaboost\n",
    "Gradient Boosting\n",
    "XGboost\n",
    "\n"
   ]
  }
 ],
 "metadata": {
  "kernelspec": {
   "display_name": "Python 3 (ipykernel)",
   "language": "python",
   "name": "python3"
  },
  "language_info": {
   "codemirror_mode": {
    "name": "ipython",
    "version": 3
   },
   "file_extension": ".py",
   "mimetype": "text/x-python",
   "name": "python",
   "nbconvert_exporter": "python",
   "pygments_lexer": "ipython3",
   "version": "3.9.13"
  }
 },
 "nbformat": 4,
 "nbformat_minor": 5
}
